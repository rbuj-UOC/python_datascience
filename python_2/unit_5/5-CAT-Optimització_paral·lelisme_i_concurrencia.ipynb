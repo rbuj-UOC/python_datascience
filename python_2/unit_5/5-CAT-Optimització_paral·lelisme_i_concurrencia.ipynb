{
 "cells": [
  {
   "cell_type": "markdown",
   "metadata": {},
   "source": [
    "<div style=\"width: 100%; clear: both;\">\n",
    "    <div style=\"float: left; width: 50%;\">\n",
    "       <img src=\"http://www.uoc.edu/portal/_resources/common/imatges/marca_UOC/UOC_Masterbrand.jpg\", align=\"left\">\n",
    "    </div>\n",
    "</div>\n",
    "\n",
    "<div style=\"float: right; width: 50%;\">\n",
    "    <p style=\"margin: 0; padding-top: 22px; text-align:right;\">22.403 · Programació per a la ciència de dades</p>\n",
    "    <p style=\"margin: 0; text-align:right;\">Grau en Ciència de Dades Aplicada</p>\n",
    "    <p style=\"margin: 0; text-align:right; padding-button: 100px;\">Estudis d'Informàtica, Multimèdia i Telecomunicació</p>\n",
    "</div>\n",
    "\n",
    "</div>\n",
    "<div style=\"width: 100%; clear: both;\">\n",
    "<div style=\"width:100%;\">&nbsp;</div>"
   ]
  },
  {
   "cell_type": "markdown",
   "metadata": {},
   "source": [
    "Programació per a la ciència de dades\n",
    "============================\n",
    "\n",
    "--- \n",
    "\n",
    "Unitat 5: Optimització de codi: programació concurrent i paral·lela\n",
    "-----------------------------------------------------\n",
    "\n",
    "---\n",
    "\n",
    "### Instruccions d'ús\n",
    "\n",
    "Aquest document és un notebook interactiu que intercala explicacions més aviat teòriques de conceptes de programació amb fragments de codi executables. Per aprofitar els avantatges que aporta aquest format, us recomanem que, en primer lloc, llegiu les explicacions i el codi que us proporcionem. D'aquesta manera tindreu un primer contacte amb els conceptes que hi exposem. Ara bé, **la lectura és només el principi!** Una vegada hagueu llegit el contingut proporcionat, no oblideu executar el codi proporcionat i modificar-lo per crear-ne variants, que us permetin comprovar que heu entès la seva funcionalitat i explorar-ne els detalls d'implementació. Per últim, us recomanem també consultar la documentació enllaçada per explorar amb més profunditat les funcionalitats dels mòduls presentats. \n",
    "\n"
   ]
  },
  {
   "cell_type": "code",
   "execution_count": null,
   "metadata": {},
   "outputs": [],
   "source": [
    "# %load_ext pycodestyle_magic"
   ]
  },
  {
   "cell_type": "code",
   "execution_count": null,
   "metadata": {},
   "outputs": [],
   "source": [
    "# %pycodestyle_on"
   ]
  },
  {
   "cell_type": "markdown",
   "metadata": {},
   "source": [
    "### Introducció\n",
    "\n",
    "En aquesta unitat veurem com podem optimitzar els programes en Python, programant-ne versions que aprofitin la concurrència dels processadors i/o el paral·lelisme que ofereixen les arquitectures actuals. Això ens permetrà, dissenyar i implementar codi que aprofiti els recursos disponibles a la nostra màquina per a realitzar la tasca per la qual ha estat dissenyat.\n",
    "\n",
    "En primer lloc, presentarem els conceptes bàsics de concurrència i paral·lelisme, i farem una petita descripció dels *threads* i els processos.\n",
    "\n",
    "Seguidament, s'explica com podem implementar codi *multithreaded* en Python, i quan serà beneficiós fer-ho. Veurem també quins problemes es poden produir de l'execució amb múltiples fils, i algunes de les eines que ens ofereix Python per a evitar-los.\n",
    "\n",
    "Després ens centrarem en la creació de programes multiprocés. De nou, explicarem en quines situacions pot ser útil que un programa sigui multiprocés, veurem com implementar aquest tipus de programes des de Python, i detallarem algunes alternatives per a comunicar diferents processos.\n",
    "\n",
    "A continuació s'inclou la taula de continguts, que podeu fer servir per a navegar pel document:\n",
    "\n",
    "<ul style=\"list-style-type:none\">\n",
    "    <li><a href='#1.--Introducció'>1. Introducció</a></li>\n",
    "    <li><a href=\"#2.--Ús-de-múltiples-threads-en-Python\">2. Ús de múltiples threads en Python</a></li> \n",
    "    <ul style=\"list-style-type:none\">\n",
    "        <li><a href='#2.1.--Introducció'> 2.1. Introducció</a></li>\n",
    "        <li><a href=\"#2.2.--Optimització-de-codi-fent-servir-threads-en-Python\">2.2. Optimització de codi fent servir threads en Python</a></li>\n",
    "        <li><a href=\"#2.3.--Interferències-entre-threads\">2.3. Interferències entre threads</a></li>        \n",
    "        <ul style=\"list-style-type:none\">\n",
    "            <li><a href='#2.3.1.--Deadlocks'>2.3.1. Deadlocks</a></li>\n",
    "        </ul>\n",
    "    </ul>\n",
    "    <li><a href=\"#3.--Ús-de-múltiples-processos-en-Python\">3. Ús de múltiples processos en Python</a></li>\n",
    "    <ul style=\"list-style-type:none\">\n",
    "        <li><a href=\"#3.1.--Introducció\">3.1. Introducció</a></li>\n",
    "        <li><a href=\"#3.2.--Optimització-de-codi-fent-servir-multiprocés-en-Python\">3.2. Optimització de codi fent servir multiprocés en Python</a></li>\n",
    "        <li><a href=\"#3.3.--Compartició-de-dades-i-coordinació-de-processos\">3.3. Compartició de dades i coordinació de processos</a></li>\n",
    "        <ul style=\"list-style-type:none\">\n",
    "            <li><a href='#3.3.1.--Variables-compartides'>3.3.1. Variables compartides</a></li>\n",
    "            <li><a href='#3.3.2.--Comunicació-entre-processos'>3.3.2. Comunicació entre processos</a></li>\n",
    "        </ul>\n",
    "    </ul>\n",
    "    <li><a href='#4.--Exercicis-per-practicar'>4. Exercicis per practicar</a></li>\n",
    "    <ul style=\"list-style-type:none\">\n",
    "        <li><a href='#4.1.--Solucions-als-exercicis-per-practicar'>4.1. Solucions als exercicis per practicar</a></li>\n",
    "    </ul>\n",
    "    <li><a href='#5.--Bibliografia'>5. Bibliografia</a></li>\n",
    "    <ul style=\"list-style-type:none\">\n",
    "        <li><a href='#5.1.--Bibliografia-bàsica'>5.1. Bibliografia bàsica</a></li>\n",
    "        <li><a href='#5.2.--Bibliografia-addicional---Ampliació-de-coneixements'>5.2. Bibliografia addicional</a></li>\n",
    "    </ul>\n",
    "</ul>"
   ]
  },
  {
   "cell_type": "markdown",
   "metadata": {},
   "source": [
    "**Important**: \n",
    "\n",
    "**Nota 1:** Abans d'executar el codi d'aquest notebook, cal instal·lar una llibreria addicional. Per instal·lar llibreries en Python, farem servir `pip`, l'instal·lador de paquets de Python. \n",
    "\n",
    "Obriu ara una consola i executeu la següent instrucció, que instal·la el paquet `sympy`:\n",
    "\n",
    "```\n",
    "sudo pip3 install sympy\n",
    "```\n",
    "\n",
    "Només cal realitzar aquest pas **una única vegada**. Una vegada tingueu instal·lada la llibreria, podreu executar la totalitat del notebook a la màquina on hagueu fet la instal·lació."
   ]
  },
  {
   "cell_type": "markdown",
   "metadata": {},
   "source": [
    "# 1.- Introducció\n",
    "\n",
    "Fins ara hem creat programes que s'executen **seqüencialment**: seguint el flux d'execució definit pel codi, les instruccions s'executaven sempre una darrera de l'altra, esperant a que finalitzi cada instrucció per a començar a executar la següent. Ara bé, d'una banda, la majoria d'ordinadors moderns disposen de diverses CPUs, que permeten executar diversos fluxos d'execució alhora. D'altra banda, tot i només disposar d'una única CPU, a vegades serà més eficient anar intercalant l'execució de diversos fils, en comptes d'anar esperant a que finalitzi cadascun d'ells per a executar-ne el següent. N'és el cas, per exemple, de fils d'execució que esperen events externs: mentre un dels fils es troba esperant l'event extern, un segon fil pot aprofitar la CPU per fer càlculs. \n",
    "\n",
    "Així, en aquest *notebook* descriurem com podem realitzar programació **concurrent** (on diverses tasques poden avançar simultàniament, sense necessitat d'esperar a que en finalitzi una per iniciar la següent) i programació **paral·lela** (on diverses tasques s'executen alhora) en Python. La imatge següent mostra el concepte clau que distingeix la programació seqüencial, la concurrent i la paral·lela:\n",
    "\n",
    "![concurrencia](img/concurrencia_cat.png)\n",
    "\n",
    "\n",
    "A continuació descriurem com es pot implementar la concurrència i el paral·lelisme en Python fent servir *threads* i processos.\n",
    "\n",
    "Un **procés** és un programa que s'ha carregat en memòria per a la seva execució, juntament amb els recursos que necessita per a executar-se. Aquests recursos contenen els registres (que poden contenir una instrucció, una adreça, una dada, etc.); el comptador de programa (un registre especial que emmagatzema un punter a la instrucció que s'està executant); i la pila i el *heap* (amb el fil de crides que han anat succeint i les variables que s'han anat creant).\n",
    "\n",
    "Un **fil d'execució** o _**thread**_ és una unitat d'execució dins d'un procés. Un procés sempre té com a mínim un *thread*, i en pot tenir diversos.\n",
    "\n",
    "Quan un procés es crea, se li assignen els recursos necessaris per a executar-se (entre els quals hi ha la memòria on s'emmagatzemen les variables). Així doncs, cada nou procés disposarà del seu espai de memòria (que s'assigna en el moment de la creació).\n",
    "\n",
    "En canvi, la creació d'un nou *thread* en un procés no requereix de l'assignació de nous recursos: cada *thread* d'execució d'un procés compartirà la memòria ja assignada al procés on s'ha creat. Els *threads* sí que tindran algun recurs propi, però aquest serà mínim i es limitarà a les dades bàsiques que permetin mantenir l'execució (per exemple, tindran el seu propi comptador de programa que indiqui quina instrucció estan executant).\n",
    "\n",
    "Això té dues implicacions clares. D'una banda, tant la creació de nous processos com els canvis de context entre processos són més costosos que entre *threads* (per l'*overhead* que es produeix a l'haver de gestionar la memòria). D'altra banda, els *threads* podran tenir problemes d'interferència al compartir espais de memòria, però serà fàcil passar dades d'un *thread* a un altre justament per aquesta compartició; en canvi, serà més costós comunicar processos entre ells, ja que diferents processos tindran espais de memòria diferents.\n",
    "\n",
    "En aquesta introducció s'ha simplificat una mica el detall de com funciona la gestió de memòria en l'execució de programes, ja que no és l'objectiu principal d'aquest mòdul. Si esteu interessats en explorar en més detall què diferencia, a nivell de sistema operatiu, els *threads* dels processos, us recomanem que visiteu els enllaços següents ([1](https://www.youtube.com/watch?v=TRH2HupGkgI), [2](https://www.youtube.com/watch?v=PBb0NRvo96s), [3](https://www.youtube.com/watch?v=Dhf-DYO1K78), [4](https://www.youtube.com/watch?v=3WmNGc9qP0g), [5](https://www.youtube.com/watch?v=X668LfXObaM))."
   ]
  },
  {
   "cell_type": "markdown",
   "metadata": {},
   "source": [
    "# 2.- Ús de múltiples *threads* en Python\n",
    "\n",
    "## 2.1.- Introducció\n",
    "\n",
    "En aquesta secció veurem com podem implementar *threads* en Python fent servir el mòdul [`threading`](https://docs.python.org/3.8/library/threading.html). \n",
    "\n",
    "El mòdul [`threading`](https://docs.python.org/3.8/library/threading.html) implementa la classe [`Thread`](https://docs.python.org/3.8/library/threading.html#threading.Thread) que representa un flux d'execució que corre en un *thread* individual. Per tal de crear diversos fils d'execució dins del nostre programa, crearem doncs diferents instàncies de la classe [`Thread`](https://docs.python.org/3.8/library/threading.html#threading.Thread), especificant quina funció han d'executar i amb quins paràmetres.\n",
    "\n",
    "Una vegada creada la instància de [`Thread`](https://docs.python.org/3.8/library/threading.html#threading.Thread), podem iniciar-ne la seva execució cridant el mètode [`start`](https://docs.python.org/3.8/library/threading.html#threading.Thread.start). Per tal de controlar la finalització dels diferents fils d'execució des del fil principal, farem servir el mètode [`join`](https://docs.python.org/3.8/library/threading.html#threading.Thread.join) de cada *thread*: aquest mètode bloqueja l'execució del fil on s'executa fins que finalitza el *thread* sobre el que s'ha cridat.\n",
    "\n",
    "A continuació s'implementa un exemple senzill d'execució *multithreaded* amb el mòdul [`threading`](https://docs.python.org/3.8/library/threading.html). Definim una funció `random_wait` que espera un temps aleatori entre un i quatre segons, i que serà la funció que executaran els diferents fils. El codi principal crea tres instàncies de la classe [`Thread`](https://docs.python.org/3.8/library/threading.html#threading.Thread), que executen la funció `random_wait`, i les inicia (amb `thread.start()`). Després, el fil principal espera a que finalitzin cadascun dels tres *threads*, cridant el mètode [`join`](https://docs.python.org/3.8/library/threading.html#threading.Thread.join) de cadascun d'ells.\n"
   ]
  },
  {
   "cell_type": "code",
   "execution_count": null,
   "metadata": {},
   "outputs": [],
   "source": [
    "from threading import Thread\n",
    "from random import randint\n",
    "from time import sleep\n",
    "import logging\n",
    "import sys\n",
    "\n",
    "\n",
    "def random_wait(t_index):\n",
    "    \"\"\"\n",
    "    Espera un temps aleatori entre 1 i 4 segons.\n",
    "    \"\"\"\n",
    "    logging.info(\"[T{}]\\tStarted\".format(t_index))\n",
    "    t = randint(1, 4)\n",
    "    logging.info(\"[T{}]\\tSleeping {} seconds...\".format(t_index, t))\n",
    "    sleep(t)\n",
    "    logging.info(\"[T{}]\\tEnd\".format(t_index))\n",
    "    \n",
    "\n",
    "# Configura el logging\n",
    "log_format = '[%(process)d]\\t%(asctime)s %(levelname)s: %(message)s'\n",
    "logging.basicConfig(format=log_format, level=logging.INFO, datefmt=\"%H:%M:%S\", \n",
    "                    handlers=[logging.StreamHandler(sys.stdout)])\n",
    "\n",
    "# Crea 3 threads que executen la funció random_wait i\n",
    "# els inicia\n",
    "threads = []\n",
    "num_threads = 3\n",
    "for i in range(num_threads):\n",
    "    logging.info(\"[M]\\tCreating thread {}\".format(i))\n",
    "    # Creem el thread\n",
    "    thread = Thread(target=random_wait, args=(i,))\n",
    "    threads.append(thread)\n",
    "    # Executem el thread\n",
    "    thread.start()\n",
    "\n",
    "# Espera a que els 3 threads finalitzin\n",
    "for i, thread in enumerate(threads):\n",
    "    logging.info(\"[M]\\tWaiting to join thread {}\".format(i))\n",
    "    thread.join()\n",
    "    logging.info(\"[M]\\tThread {} joined!\".format(i))\n",
    "\n",
    "logging.info(\"[M]\\tDONE!\")"
   ]
  },
  {
   "cell_type": "markdown",
   "metadata": {},
   "source": [
    "En primer lloc, fixeu-vos que la funció `random_wait` rep un paràmetre que fem servir per identificar cadascun dels *threads*. Per facilitar el seguiment de l'execució, mostrem aquest identificador entre claudàtors cada vegada que mostrem un missatge de *log*.\n",
    "\n",
    "En segon lloc, noteu com els diferents fils s'executen concurrentment: mentre el fil principal està creant el segon i tercer fils, el primer fil creat ja s'està executant. Noteu també com el primer fil a iniciar-se (`T0`) no té perquè ser el primer a finalitzar, ja que això dependrà de les esperes aleatòries que es produeixen en cada fil.\n",
    "\n",
    "En tercer lloc, és interessant notar que no hem fet servir la instrucció `print` per a mostrar els missatges que informen de quina part del codi s'està executant, sinó que hem utilitzat el mòdul [`logging`](https://docs.python.org/3.8/library/logging.html). El principal motiu per fer-ho és assegurar que els diferents missatges es mostren sense interrupcions i amb el format desitjat, tot i que diferents fils d'execució estiguin escrivint-los. Addicionalment, fer servir [`logging`](https://docs.python.org/3.8/library/logging.html) ens ofereix altres funcionalitats, com ara el fet de mostrar informació addicional abans de cada missatge. En el cas del fragment de codi executat a la cel·la anterior, hem aprofitat per mostrar l'identificador del procés, l'hora, i el nivell del missatge. \n",
    "\n",
    "El mòdul [`logging`](https://docs.python.org/3.8/library/logging.html) té com a objectiu facilitar la creació de registres o *logs* en Python, ajudant així en el seguiment del flux d'execució dels programes. Els *logs* normalment contenen un registre dels events que han succeït i permeten seguir el comportament d'un programa, amb diverses finalitats. Així, per exemple, els *logs* poden servir per a ajudar en la detecció i depuració d'errors, per avaluar el rendiment d'un programa, per mostrar informació addicional sobre com o qui l'està utilitzant, etc. Aquest mòdul és, per tant, molt útil alhora de fer el seguiment de l'execució de codi concurrent. Si voleu explorar l'ús d'aquesta llibreria, us recomanem la lectura dels tutorials oficials (tant el [bàsic](https://docs.python.org/3/howto/logging.html#logging-basic-tutorial) com el més [avançat](https://docs.python.org/3/howto/logging.html#logging-advanced-tutorial))."
   ]
  },
  {
   "cell_type": "markdown",
   "metadata": {},
   "source": [
    "## 2.2.- Optimització de codi fent servir *threads* en Python\n",
    "\n",
    "No tots els programes poden beneficiar-se de l'execució en múltiples *threads*. D'una banda, els programes que requereixen conèixer uns resultats anteriors per a calcular-ne els següents, difícilment s'executaran més ràpid en un entorn *multithreaded*, ja que els diferents fils no podran executar-se concurrentment. D'altra banda, en la seva versió més estesa, Python executa els diferents *threads* en un mateix processador, de manera que l'execució d'aquests és concurrent (però no paral·lela). Veiem-ho amb un parell d'exemples.\n",
    "\n",
    "A la cel·la següent es defineix la funció `get_factors`, que donat un enter, en calcula la seva descomposició en factors primers i la retorna:"
   ]
  },
  {
   "cell_type": "code",
   "execution_count": null,
   "metadata": {},
   "outputs": [],
   "source": [
    "from sympy import primefactors\n",
    "\n",
    "\n",
    "def get_factors(t_index, value):\n",
    "    \"\"\"\n",
    "    Retorna la factorització de `value` en factors primers.\n",
    "    \"\"\"\n",
    "    logging.info(\"[T{}]\\tStarted with input {}\".format(t_index, value))\n",
    "    r = primefactors(value)\n",
    "    logging.info(\"[T{}]\\tEnded with output {}\".format(t_index, r))"
   ]
  },
  {
   "cell_type": "code",
   "execution_count": null,
   "metadata": {},
   "outputs": [],
   "source": [
    "# Factoritzem el valor 15\n",
    "get_factors(1, 15)"
   ]
  },
  {
   "cell_type": "markdown",
   "metadata": {},
   "source": [
    "Ara, calcularem la factorització de tres enters fent servir la funció `get_factors` de manera seqüencial:"
   ]
  },
  {
   "cell_type": "code",
   "execution_count": null,
   "metadata": {},
   "outputs": [],
   "source": [
    "nums_to_factor = [5215785878052641903952977068511001599, \n",
    "                  748283119772062608265951220534384001023, \n",
    "                  949273031776466197045163567568010291199]"
   ]
  },
  {
   "cell_type": "code",
   "execution_count": null,
   "metadata": {},
   "outputs": [],
   "source": [
    "%%time\n",
    "\n",
    "for _, num in enumerate(nums_to_factor):\n",
    "    get_factors(1, num)"
   ]
  },
  {
   "cell_type": "markdown",
   "metadata": {},
   "source": [
    "A continuació tornarem a repetir el càlcul de la factorització dels mateixos tres enters, executant-los ara com a *threads* independents:"
   ]
  },
  {
   "cell_type": "code",
   "execution_count": null,
   "metadata": {},
   "outputs": [],
   "source": [
    "%%time\n",
    "threads = []\n",
    "\n",
    "# Crea 3 threads que executen la funció get_factors i\n",
    "# els inicia\n",
    "for i, num in enumerate(nums_to_factor):\n",
    "    thread = Thread(target=get_factors, args=(i, num))\n",
    "    threads.append(thread)\n",
    "    thread.start()\n",
    "\n",
    "# Espera a que els 3 threads finalitzin\n",
    "for i, thread in enumerate(threads):\n",
    "    logging.info(\"[M]\\tWaiting to join thread {}\".format(i))\n",
    "    thread.join()\n",
    "    logging.info(\"[M]\\tThread {} joined!\".format(i))\n",
    "\n",
    "logging.info(\"[M]\\tDONE!\")"
   ]
  },
  {
   "cell_type": "markdown",
   "metadata": {},
   "source": [
    "Els temps d'execució de les dues versions del codi (la primera, seqüencial; i la segona, amb múltiples *threads*) és molt similar (i, sovint, la versió seqüencial resulta més ràpida). Això és així perquè els diferents *threads* s'executen en un mateix processador i tots ells executen codi que requereix temps de còmput de CPU. Per tant, la possible concurrència en l'execució no s'aprofita, i l'*overhead* que produeix la gestió dels *threads* impacta negativament en el rendiment del codi. Així doncs, aquest és un exemple clar d'un fragment de codi que **no** es beneficiarà d'una implementació amb múltiples fils d'execució en Python.\n",
    "\n",
    "Veiem ara un segon exemple, en el qual crearem també tres *threads*: dos d'elles es descarregaran uns conjunts de dades d'Internet, i el tercer tornarà a factoritzar un dels números de l'exemple anterior.\n",
    "\n",
    "En primer lloc, definim la funció `get_url_and_write_to_disk`, que descarrega el contingut d'una *url* i el desa al disc:"
   ]
  },
  {
   "cell_type": "code",
   "execution_count": null,
   "metadata": {},
   "outputs": [],
   "source": [
    "import requests\n",
    "\n",
    "def get_url_and_write_to_disk(t_index, url):\n",
    "    \"\"\"\n",
    "    Descarrega el contingut de la url i el desa a la carpeta `data`.\n",
    "    \"\"\"\n",
    "    logging.info(\"[T{}]\\tStarted with url {}\".format(t_index, url))\n",
    "    r = requests.get(url, allow_redirects=True)\n",
    "    open('data/'+str(t_index), 'wb').write(r.content)\n",
    "    logging.info(\"[T{}]\\tEnd\".format(t_index))"
   ]
  },
  {
   "cell_type": "code",
   "execution_count": null,
   "metadata": {},
   "outputs": [],
   "source": [
    "urls = [\"https://snap.stanford.edu/data/twitter.tar.gz\", \n",
    "        \"https://snap.stanford.edu/data/twitter_combined.txt.gz\"]"
   ]
  },
  {
   "cell_type": "markdown",
   "metadata": {},
   "source": [
    "Ara, com a l'exemple anterior, executarem les tres tasques de manera seqüencial: primer, factoritzarem l'enter i, després, descarregarem els dos fitxers apuntats per les *urls* de la llista de la cel·la anterior:"
   ]
  },
  {
   "cell_type": "code",
   "execution_count": null,
   "metadata": {},
   "outputs": [],
   "source": [
    "%%time\n",
    "\n",
    "get_factors(1, nums_to_factor[-1])"
   ]
  },
  {
   "cell_type": "code",
   "execution_count": null,
   "metadata": {},
   "outputs": [],
   "source": [
    "%%time\n",
    "\n",
    "for url in urls:\n",
    "    get_url_and_write_to_disk(1, url)"
   ]
  },
  {
   "cell_type": "markdown",
   "metadata": {},
   "source": [
    "A continuació, implementem la versió *multithreaded* del codi anterior, tot creant tres *threads* (dos que descarregaran fitxers i un que farà el càlcul de la factorització)."
   ]
  },
  {
   "cell_type": "code",
   "execution_count": null,
   "metadata": {},
   "outputs": [],
   "source": [
    "%%time\n",
    "\n",
    "# Creem els 3 threads que executen get_factors o get_url_and_write_to_disk\n",
    "# i els iniciem\n",
    "threads = []\n",
    "for i in range(3):\n",
    "    if i == 2:\n",
    "        thread = Thread(target=get_factors, args=(i, nums_to_factor[-1]))\n",
    "    else:\n",
    "        thread = Thread(target=get_url_and_write_to_disk, args=(i, urls[i]))\n",
    "        \n",
    "    threads.append(thread)\n",
    "    thread.start()\n",
    "\n",
    "# Esperem a que els 3 threads finalitzin\n",
    "for i, thread in enumerate(threads):\n",
    "    logging.info(\"[M]\\tWaiting to join thread {}\".format(i))\n",
    "    thread.join()\n",
    "    logging.info(\"[M]\\tThread {} joined!\".format(i))\n",
    "\n",
    "logging.info(\"[M]\\tDONE!\")"
   ]
  },
  {
   "cell_type": "markdown",
   "metadata": {},
   "source": [
    "A diferència del primer exemple, ara sí que veiem una millora clara en el temps d'execució de la versió concurrent en relació a la versió seqüencial del nostre codi. En aquest cas, el fet que els tres *threads* no executin una tasca centrada en la CPU, sinó que dos d'ells descarreguen dades i les desen a disc, i el tercer sí que fa servir la CPU, fa que el temps d'execució global millori amb l'execució concurrent: tot el codi s'ha executat en una única CPU, però els temps d'espera produïts per les limitacions de la xarxa i l'escriptura a disc són aprofitats per a realitzar càlculs. "
   ]
  },
  {
   "cell_type": "markdown",
   "metadata": {},
   "source": [
    "## 2.3.- Interferències entre *threads*\n",
    "\n",
    "Al crear instàncies de la classe [`Thread`](https://docs.python.org/3.8/library/threading.html#threading.Thread) que executen una funció (que es passa com a `target` al constructor de la classe), els diferents *threads* que s'executen concurrentment disposen d'una còpia pròpia de totes les variables locals de la funció que executen (per exemple, de la variable `r` de la funció `get_url_and_write_to_disk`; o de la variable `t` de la funció `random_wait`) però comparteixen les mateixes variables globals. \n",
    "\n",
    "El fet que diversos fils d'execució estiguin compartint les mateixes variables pot provocar interferències entre els diversos fils a l'hora de fer servir aquestes variables, interferències que poden causar comportaments indesitjats en els programes *multithreaded*.\n",
    "\n",
    "Per veure un exemple dels problemes que es poden produir, recuperem el codi de la factorització concurrent d'una llista d'enters, i hi afegirem una variable global `factor_ctr` que comptarà quants números s'han factoritzat. La funció `get_factors` llegirà el valor de la variable, i la incrementarà quan hagi finalitzat cada factorització:"
   ]
  },
  {
   "cell_type": "code",
   "execution_count": null,
   "metadata": {},
   "outputs": [],
   "source": [
    "def get_factors(t_index, value):\n",
    "    global factor_ctr\n",
    "    logging.info(\"[T{}]\\tStarted with input {}\".format(t_index, value))\n",
    "    c = factor_ctr\n",
    "    r = primefactors(value)\n",
    "    factor_ctr = c + 1\n",
    "    logging.info(\"[T{}]\\tEnded with output {}\".format(t_index, r))\n",
    "\n",
    "    \n",
    "factor_ctr = 0\n",
    "threads = []\n",
    "for i, num in enumerate(nums_to_factor):\n",
    "    thread = Thread(target=get_factors, args=(i, num))\n",
    "    threads.append(thread)\n",
    "    thread.start()\n",
    "\n",
    "for i, thread in enumerate(threads):\n",
    "    logging.info(\"[M]\\tWaiting to join thread {}\".format(i))\n",
    "    thread.join()\n",
    "    logging.info(\"[M]\\tThread {} joined!\".format(i))\n",
    "\n",
    "logging.info(\"[M]\\tDONE!\")\n",
    "logging.info(\"[M]\\tFactor counter is: {}\".format(factor_ctr))"
   ]
  },
  {
   "cell_type": "markdown",
   "metadata": {},
   "source": [
    "Fixeu-vos que tot i haver executat tres vegades la funció `get_factors`, el valor final de la variable `factor_ctr` és 1 en comptes de 3. Si ens fixem en l'ordre amb què s'han executat les instruccions, podrem deduir què ha passat: els tres *threads* han començat a executar-se, i han copiat el valor inicial de la variable global `factor_ctr` a les seves respectives variables locals `c`. Els tres *threads* han executat aquesta assignació **abans** que cap d'ells actualitzés el valor de la variable, de manera que les tres variables locals `c` contenen inicialment el valor 0. Després de factoritzar l'enter, els tres *threads* han procedit a actualitzar la variable global `factor_ctr`, assignant-li el valor 1 (`c + 1`). Cada *thread* ha actualitzat doncs el valor de global `factor_ctr`, però sobreescrivint-la sempre amb el valor 1.\n",
    "\n",
    "El problema del codi anterior és, d'una banda, que l'actualització de la variable es fa en dos passos (lectura del valor original i escriptura del nou valor) i, d'altra banda, que tots tres *threads* accedeixen a la variable global sense cap mena de control sobre qui l'està fent servir en cada moment. Això fa que lectures i escriptures dels diversos fils s'intercalin, produint un resultat incorrecte per al nostre objectiu. Per a obtenir el resultat correcte hauríem d'assegurar que cada *thread* llegeix el valor actual de la variable `factor_ctr` i escriu el valor actualitzat (resultant d'incrementar-la en una unitat) de manera **atòmica**.\n",
    "\n",
    "Una alternativa per a assegurar l'atomicitat de l'operació d'actualització de la variable és bloquejar-ne el seu ús (en anglès, parlarem d'obtenir un *lock* o bloqueig sobre la variable) abans de fer-la servir, assegurant que cap altra *thread* pot treballar-hi mentre duri el bloqueig. Així, el fil que obté el bloqueig podrà llegir i escriure la variable (en definitiva, actualitzar-la), sense que hi hagi interferències per part dels altres fils d'execució.\n",
    "\n",
    "El mòdul [`threading`](https://docs.python.org/3.8/library/threading.html) permet implementar bloquejos fent servir la classe [`Lock`](https://docs.python.org/3.8/library/threading.html#threading.Lock), que disposa dels mètodes [`acquire`](https://docs.python.org/3.8/library/threading.html#threading.Lock.acquire) i [`release`](https://docs.python.org/3.8/library/threading.html#threading.Lock.release), que bloquegen i desbloquegen l'accés a fragments de codi. El primer fil que executa un [`acquire`](https://docs.python.org/3.8/library/threading.html#threading.Lock.acquire) sobre un [`lock`](https://docs.python.org/3.8/library/threading.html#threading.Lock), n'obtindrà el dret d'execució, i la resta de fils que executin l'[`acquire`](https://docs.python.org/3.8/library/threading.html#threading.Lock.acquire) hauran d'esperar a que aquest quedi alliberat amb l'execució del mètode [`release`](https://docs.python.org/3.8/library/threading.html#threading.Lock.release). A continuació s'implementa l'exemple anterior fent servir *locks* per a controlar l'actualització de la variable `factor_ctr`:"
   ]
  },
  {
   "cell_type": "code",
   "execution_count": null,
   "metadata": {},
   "outputs": [],
   "source": [
    "from threading import Lock\n",
    "\n",
    "\n",
    "def get_factors(t_index, value, lock):\n",
    "    global factor_ctr\n",
    "    logging.info(\"[T{}]\\tStarted with input {}\".format(t_index, value))\n",
    "    # Es bloqueja l'accés a aquesta part del codi: només un thread\n",
    "    # podrà accedir-hi fins que no s'alliberi\n",
    "    lock.acquire()\n",
    "    c = factor_ctr + 1\n",
    "    r = primefactors(value)\n",
    "    factor_ctr = c\n",
    "    # S'allibera l'accés, permetent que un altre thread accedeixi\n",
    "    # a aquest fragment de codi\n",
    "    lock.release()\n",
    "    logging.info(\"[T{}]\\tEnded with output {}\".format(t_index, r))\n",
    "\n",
    "    \n",
    "factor_ctr = 0\n",
    "# Es crea un lock, que servirà per controlar l'accés al fragment de codi\n",
    "# que actualitza la variable global\n",
    "lock = Lock()\n",
    "threads = []\n",
    "for i, num in enumerate(nums_to_factor):\n",
    "    thread = Thread(target=get_factors, args=(i, num, lock))\n",
    "    threads.append(thread)\n",
    "    thread.start()\n",
    "\n",
    "for i, thread in enumerate(threads):\n",
    "    logging.info(\"[M]\\tWaiting to join thread {}\".format(i))\n",
    "    thread.join()\n",
    "    logging.info(\"[M]\\tThread {} joined!\".format(i))\n",
    "\n",
    "logging.info(\"[M]\\tDONE!\")\n",
    "logging.info(\"[M]\\tFactor counter is: {}\".format(factor_ctr))\n"
   ]
  },
  {
   "cell_type": "markdown",
   "metadata": {},
   "source": [
    "Al codi de la cel·la anterior es crea un objecte [`Lock`](https://docs.python.org/3.8/library/threading.html#lock-objects) global, que es fa servir per controlar l'accés a les següents tres línies de codi:\n",
    "```\n",
    "    c = factor_ctr + 1\n",
    "    r = primefactors(value)\n",
    "    factor_ctr = c\n",
    "```\n",
    "que implementen l'actualització de la variable global `factor_ctr`. D'aquesta manera, s'aconsegueix que no hi hagi interferències entre els tres *threads*, i que la variable comptabilitzi correctament el número de factoritzacions.\n",
    "\n",
    "Hi ha un detall a comentar en relació a l'exemple que hem fet servir per motivar l'ús de *locks*: el codi d'actualització de la variable `factor_ctr` està programat explícitament perquè passi molt temps entre la lectura de la variable i l'escriptura del valor actualitzat, ja que entremig s'hi executa la factorització (que és una operació lenta). Això assegura que efectivament es produeixen interferències en l'execució dels diferents fils, i permet visualitzar un dels problemes que comporta la compartició de variables entre fils d'execució. Ara bé, si haguéssim fet l'actualització de manera més compacta, *probablement* no hauríem pogut observar les interferències produïdes entre els *threads*, ja que el codi hagués donat el resultat esperat tot i no implementar cap mena de control sobre l'accés a la variable. Tot i així, sempre és aconsellable assegurar que l'execució dels diferents fils no produeix interferències, ja que les casuístiques d'execució de codis *multithreaded* complexos en entorns reals són enormes, i els errors en programes que fan servir aquest paradigma són sovint molt difícils de detectar.  "
   ]
  },
  {
   "cell_type": "markdown",
   "metadata": {},
   "source": [
    "### 2.3.1.- Deadlocks\n",
    "\n",
    "L'ús de *locks* permet gestionar els recursos en aplicacions concurrents. Ara bé, si aquesta gestió es fa de manera incorrecta, també pot crear nous problemes. Fixem-nos, per exemple, en el codi de la cel·la següent, que executa dos [`acquire`](https://docs.python.org/3.8/library/threading.html#threading.Lock.acquire) seguits sobre el mateix *lock*. Si el descomentem i l'executem, el *notebook* es quedarà esperant indefinidament després del primer `print`. Això és degut a que el segon [`acquire`](https://docs.python.org/3.8/library/threading.html#threading.Lock.acquire) no es podrà aconseguir mai, doncs el recurs es troba ja assignat i no s'allibera en cap moment."
   ]
  },
  {
   "cell_type": "code",
   "execution_count": null,
   "metadata": {},
   "outputs": [],
   "source": [
    "\"\"\"\n",
    "# Descomenteu aquest fragment de codi si voleu crear un deadlock\n",
    "lock = Lock()\n",
    "\n",
    "lock.acquire()\n",
    "print(\"Lock acquired\")\n",
    "lock.acquire()\n",
    "print(\"We will never get here...\")\n",
    "\"\"\""
   ]
  },
  {
   "cell_type": "markdown",
   "metadata": {},
   "source": [
    "Aquesta situació, en la qual un fil d'execució es troba bloquejat de manera indefinida a l'espera d'un recurs que mai podrà obtenir, es coneix amb el nom de _**deadlock**_.\n",
    "\n",
    "L'exemple de la cel·la anterior és una mica artificial, ja que el *deadlock* es produeix per un únic *thread* que intenta adquirir dues vegades el mateix recurs sense haver-lo alliberat, però serveix per il·lustrar de manera senzilla la situació. Normalment, els *deadlocks* es produeixen quan diversos fils d'execució intenten adquirir diferents recursos en un ordre que acaba produint una situació de bloqueig total. \n",
    "\n",
    "L'exemple de la cel·la següent produeix un *deadlock* entre dos *threads*. A l'exemple, un dels *threads* obté un número a factoritzar de la llista `nums_to_factor`, i escriu el resultat de la factorització a la llista `results`. Per a controlar l'accés als dos recursos (és a dir, a les dues llistes), es fan servir dos *locks*, `lock_nums` i `lock_res`, respectivament. El segon *thread* és un fil informatiu, que mostra l'estat de les dues llistes per pantalla. "
   ]
  },
  {
   "cell_type": "code",
   "execution_count": null,
   "metadata": {},
   "outputs": [],
   "source": [
    "\"\"\"\n",
    "\n",
    "def factor_from_list(t_index, lock_nums, lock_res):\n",
    "    logging.info(\"[T{}]\\tFactor thread started\".format(t_index))\n",
    "    logging.info(\"[T{}]\\tWaiting for lock_nums\".format(t_index))\n",
    "    lock_nums.acquire()\n",
    "    logging.info(\"[T{}]\\tlock_nums acquired\".format(t_index))\n",
    "    num_to_factor = nums_to_factor.pop()\n",
    "    r = primefactors(num_to_factor)\n",
    "    logging.info(\"[T{}]\\tWaiting for lock_res\".format(t_index))\n",
    "    lock_res.acquire()\n",
    "    logging.info(\"[T{}]\\tlock_res acquired\".format(t_index))\n",
    "    results.append(r)\n",
    "    lock_res.release()\n",
    "    lock_nums.release()\n",
    "    logging.info(\"[T{}]\\tEnded\".format(t_index))\n",
    "\n",
    "\n",
    "def print_status(t_index, lock_nums, lock_res):\n",
    "    logging.info(\"[T{}]\\tPrint thread started\".format(t_index))\n",
    "    logging.info(\"[T{}]\\tWaiting for lock_res\".format(t_index))\n",
    "    lock_res.acquire()\n",
    "    logging.info(\"[T{}]\\tlock_res acquired\".format(t_index))\n",
    "    logging.info(\"[T{}]\\tWaiting for lock_nums\".format(t_index))\n",
    "    lock_nums.acquire()\n",
    "    logging.info(\"[T{}]\\tlock_nums acquired\".format(t_index))\n",
    "    print(results)\n",
    "    print(nums_to_factor)\n",
    "    lock_res.release()\n",
    "    lock_nums.release()\n",
    "    logging.info(\"[T{}]\\tEnded\".format(t_index))\n",
    "    \n",
    "\n",
    "lock_nums = Lock()\n",
    "lock_res = Lock()\n",
    "results = []\n",
    "\n",
    "thread_0 = Thread(target=factor_from_list, args=(0, lock_nums, lock_res))\n",
    "thread_1 = Thread(target=print_status, args=(1, lock_nums, lock_res))\n",
    "thread_0.start()\n",
    "thread_1.start()\n",
    "\n",
    "logging.info(\"[M]\\tWaiting to join thread {}\".format(0))\n",
    "thread_0.join()\n",
    "logging.info(\"[M]\\tThread {} joined!\".format(0))\n",
    "\n",
    "logging.info(\"[M]\\tWaiting to join thread {}\".format(0))\n",
    "thread_1.join()\n",
    "logging.info(\"[M]\\tThread {} joined!\".format(0))\n",
    "\n",
    "logging.info(\"[M]\\tDONE!\")\n",
    "\"\"\""
   ]
  },
  {
   "cell_type": "markdown",
   "metadata": {},
   "source": [
    "El problema en aquest cas és que el *thread* de factorització adquireix el *lock* sobre la llista `lock_nums`, i es queda bloquejat esperant a obtenir `lock_res`. Per la seva banda, el *thread* informatiu adquireix el *lock* sobre `lock_res`, i es queda bloquejat esperant a obtenir `lock_nums`. Això produeix una situació d'espera infinita, ja que cap dels dos recursos s'allibera mai."
   ]
  },
  {
   "cell_type": "markdown",
   "metadata": {},
   "source": [
    "# 3.- Ús de múltiples processos en Python\n",
    "\n",
    "## 3.1.- Introducció\n",
    "\n",
    "En aquesta secció veurem com podem crear múltiples processos des del nostre codi en Python. De fet, ja hem creat processos des de Python anteriorment, quan executàvem programes externs fent servir el mòdul [`subprocess`](https://docs.python.org/3.8/library/subprocess.html). En aquell cas, simplement creàvem un nou procés que executava una comanda del sistema operatiu o bé algun programa extern al nostre codi Python, i esperàvem a que finalitzés per a seguir l'execució del procés principal (que executava el nostre programa en Python). Ara, veurem com podem crear diversos processos que executen codi del nostre programa en Python de manera paral·lela, fent servir el mòdul [`multiprocessing`](https://docs.python.org/3.8/library/multiprocessing.html).\n",
    "\n",
    "El mòdul [`multiprocessing`](https://docs.python.org/3.8/library/multiprocessing.html) implementa la classe [`Process`](https://docs.python.org/3.8/library/multiprocessing.html#the-process-class) que representa un flux d'execució que corre en un procés individual. Per tal de crear diferents processos controlats pel nostre programa principal, crearem doncs diferents instàncies de la classe [`Process`](https://docs.python.org/3.8/library/multiprocessing.html#the-process-class), especificant quina funció han d'executar i amb quins paràmetres.\n",
    "\n",
    "De manera similar a com treballàvem amb els *threads* a l'apartat anterior, una vegada creada la instància de [`Process`](https://docs.python.org/3.8/library/multiprocessing.html#the-process-class), podem iniciar-ne la seva execució cridant el mètode [`start`](https://docs.python.org/3.8/library/multiprocessing.html#multiprocessing.Process.start), i esperar la seva finalització amb el mètode [`join`](https://docs.python.org/3.8/library/multiprocessing.html#multiprocessing.Process.join).\n",
    "\n",
    "A continuació s'implementa un exemple senzill (anàlog al primer exemple de *multithreading*) d'execució multiprocés amb el mòdul [`multiprocessing`](https://docs.python.org/3.8/library/multiprocessing.html)."
   ]
  },
  {
   "cell_type": "code",
   "execution_count": null,
   "metadata": {},
   "outputs": [],
   "source": [
    "from multiprocessing import Process \n",
    "\n",
    "\n",
    "def random_wait(p_index):\n",
    "    \"\"\"\n",
    "    Espera un temps aleatori entre 1 i 4 segons.\n",
    "    \"\"\"\n",
    "    logging.info(\"[P{}]\\tStarted\".format(p_index))\n",
    "    t = randint(1, 4)\n",
    "    logging.info(\"[P{}]\\tSleeping {} seconds...\".format(p_index, t))\n",
    "    sleep(t)\n",
    "    logging.info(\"[P{}]\\tEnd\".format(p_index))\n",
    "    \n",
    "\n",
    "# Crea 3 processos que executen la funció random_wait i\n",
    "# els inicia    \n",
    "processes = []\n",
    "for i in range(3):\n",
    "    logging.info(\"[M]\\tCreating process {}\".format(i))\n",
    "    # Crea el procés\n",
    "    p = Process(target=random_wait, args=(i,))\n",
    "    processes.append(p)\n",
    "    # Inicia el procés\n",
    "    p.start()\n",
    "\n",
    "# Espera a que els 3 processos finalitzin\n",
    "for process in processes:\n",
    "    logging.info(\"[M]\\tWaiting to join process {}\".format(i))\n",
    "    process.join()\n",
    "    logging.info(\"[M]\\tProcess {} joined!\".format(i))\n",
    "\n",
    "logging.info(\"[M]\\tDONE!\")"
   ]
  },
  {
   "cell_type": "markdown",
   "metadata": {},
   "source": [
    "Tot i que la gestió dels processos s'ha fet de manera molt similar a com havíem gestionat els *threads*, l'execució és molt diferent! D'una banda, els diferents processos poden executar-se de manera paral·lela, distribuint la seva execució entre les diverses CPUs de la màquina. D'altra banda, la gestió de la memòria ha estat radicalment diferent: amb la creació de diversos processos, s'han creat còpies de tots els recursos per a cadascun d'ells.\n",
    "\n",
    "Un dels primers canvis que podem observar de la sortida de la cel·la anterior és que ara l'identificador de procés (el *PID*, que és el primer valor que es mostra entre claudàtors per cada línia de *log*) és ara diferent per cadascun dels processos ja que, efectivament, s'han creat processos independents, que disposen del seu propi identificador de procés.\n",
    "\n",
    "## 3.2.- Optimització de codi fent servir multiprocés en Python\n",
    "\n",
    "\n",
    "A l'apartat anterior hem vist com alguns tipus de programes no es beneficien de l'execució concurrent en un mateix processador: són els programes on les tasques requereixen d'un ús intensiu de la CPU, com ara per exemple, la factorització d'enters en factors primers. Alguns d'aquests programes podran beneficiar-se de l'execució multiprocés, aprofitant les diverses CPUs de les quals disposa la màquina per a executar tasques de manera **paral·lela**. Per veure-ho, tornarem a executar l'exemple de la factorització d'un llista d'enters, fent servir ara un procés diferent per a factoritzar cadascun dels enters de la llista:"
   ]
  },
  {
   "cell_type": "code",
   "execution_count": null,
   "metadata": {},
   "outputs": [],
   "source": [
    "def get_factors(p_index, value):\n",
    "    \"\"\"\n",
    "    Retorna la factorització de `value` en factors primers.\n",
    "    \"\"\"\n",
    "    logging.info(\"[P{}]\\tStarted with input {}\".format(p_index, value))\n",
    "    r = primefactors(value)\n",
    "    logging.info(\"[P{}]\\tEnded with output {}\".format(p_index, r))\n",
    "\n",
    "\n",
    "nums_to_factor = [5215785878052641903952977068511001599, \n",
    "                  748283119772062608265951220534384001023, \n",
    "                  949273031776466197045163567568010291199]"
   ]
  },
  {
   "cell_type": "code",
   "execution_count": null,
   "metadata": {},
   "outputs": [],
   "source": [
    "%%time\n",
    "\n",
    "\n",
    "# Crea 3 processos que executen la funció get_factors i\n",
    "# els inicia\n",
    "processes = []\n",
    "for i, num in enumerate(nums_to_factor):\n",
    "    logging.info(\"[M]\\tCreating process {}\".format(i))\n",
    "    p = Process(target=get_factors, args=(i, num))\n",
    "    processes.append(p)\n",
    "    p.start()\n",
    "\n",
    "# Espera a que els 3 processos finalitzin\n",
    "for process in processes:\n",
    "    logging.info(\"[M]\\tWaiting to join process {}\".format(i))\n",
    "    process.join()\n",
    "    logging.info(\"[M]\\tProcess {} joined!\".format(i))\n",
    "\n",
    "logging.info(\"[M]\\tDONE!\")"
   ]
  },
  {
   "cell_type": "markdown",
   "metadata": {},
   "source": [
    "Efectivament, l'execució multiprocés del codi de factorització de la llista d'enters és molt més ràpida que la seva versió seqüencial (sempre que s'executi en una màquina amb diversos processadors). Ara, s'estan aprofitant millor els recursos de la màquina, fent servir de manera simultània diverses CPUs.\n",
    "\n",
    "Observant els resultats de l'exemple anterior, ens podríem preguntar doncs si tots els programes poden beneficiar-se de l'execució multiprocés. Doncs bé, no tots els programes poden reduir el seu temps d'execució amb una implementació multiprocés. En general, per a que un programa o fragment de codi pugui optimitzar-se amb aquesta tècnica caldrà que:\n",
    "* No hi hagi dependència de resultats anteriors.\n",
    "* Els càlculs no s'hagin d'executar en un ordre específic.\n",
    "\n",
    "Així, l'exemple de la factorització d'un conjunt d'enters és un candidat ideal ja que, d'una banda, les factoritzacions individuals de cada enter no depenen d'altres resultats ni generen resultats dels quals en depenguin altres càlculs i, d'altra banda, són totalment independents entre elles."
   ]
  },
  {
   "cell_type": "markdown",
   "metadata": {},
   "source": [
    "## 3.3.- Compartició de dades i coordinació de processos\n",
    "\n",
    "### 3.3.1.- Variables compartides\n",
    "\n",
    "Els diferents processos que creem des del nostre codi Python són independents, i no comparteixen l'espai de memòria. Així, si recuperem l'exemple del comptador de factoritzacions que no s'incrementava correctament quan diferents *threads* l'actualitzaven, i l'executem ara fent servir múltiples processos, veurem com el resultat és diferent:"
   ]
  },
  {
   "cell_type": "code",
   "execution_count": null,
   "metadata": {},
   "outputs": [],
   "source": [
    "def get_factors(p_index, value):\n",
    "    global factor_ctr\n",
    "    logging.info(\"[P{}]\\tStarted with input {}\".format(p_index, value))\n",
    "    c = factor_ctr\n",
    "    logging.info(\"[P{}]\\tThe factor counter is currently {}\".format(p_index, factor_ctr))\n",
    "    r = primefactors(value)\n",
    "    factor_ctr = c + 1\n",
    "    logging.info(\"[P{}]\\tFactor counter is {}\".format(p_index, factor_ctr))\n",
    "    logging.info(\"[P{}]\\tEnded with output {}\".format(p_index, r))\n",
    "\n",
    "    \n",
    "factor_ctr = 0\n",
    "processes = []\n",
    "for i, num in enumerate(nums_to_factor):\n",
    "    process = Process(target=get_factors, args=(i, num))\n",
    "    processes.append(process)\n",
    "    process.start()\n",
    "\n",
    "for i, process in enumerate(processes):\n",
    "    logging.info(\"[M]\\tWaiting to join process {}\".format(i))\n",
    "    process.join()\n",
    "    logging.info(\"[M]\\tProcess {} joined!\".format(i))\n",
    "\n",
    "logging.info(\"[M]\\tDONE!\")\n",
    "logging.info(\"[M]\\tFactor counter is: {}\".format(factor_ctr))"
   ]
  },
  {
   "cell_type": "markdown",
   "metadata": {},
   "source": [
    "El recompte de factoritzacions segueix sent erroni (doncs s'han realitzat tres factoritzacions però el comptador es troba a zero al final de l'execució). Ara bé, a diferència de l'execució *multithreaded*, el resultat del comptador és zero en comptes d'u. És a dir, sembla que cap dels processos ha pogut actualitzar el comptador.\n",
    "\n",
    "En efecte, si ens fixem amb la sortida que mostren els processos que executen `get_factors`, tots ells recuperen el comptador quan està a zero i l'incrementen a u abans de finalitzar la seva execució. Ara bé, aquest increment no es veu reflectit al procés original. Això és així ja que els processos no comparteixen les variables que tenen en memòria i, per tant, la variable `factor_ctr` del procés original no s'actualitza mai (només s'actualitzen les còpies que té cada un dels processos que executen `get_factors`).\n",
    "\n",
    "Així doncs, com podem crear variables compartides entre els diferents processos o bé comunicar processos? \n",
    "\n",
    "Pel que fa a la creació de variables compartides entre processos, el mòdul [`multiprocessing`](https://docs.python.org/3.8/library/multiprocessing.html) ofereix un parell de classes que representen objectes que s'assignen en un espai de memòria compartida entre els diversos processos: [`Value`](https://docs.python.org/3.8/library/multiprocessing.html#multiprocessing.Value), que permet emmagatzemar un objecte (un enter, un caràcter, un decimal, un booleà, etc.); i [`Array`](https://docs.python.org/3.8/library/multiprocessing.html#multiprocessing.Array), que emmagatzema una llista d'objectes.\n",
    "\n",
    "Revisitem doncs l'exemple del comptador de factoritzacions, fent servir un [`Value`](https://docs.python.org/3.8/library/multiprocessing.html#multiprocessing.Value) per a emmagatzemar el valor del comptador:"
   ]
  },
  {
   "cell_type": "code",
   "execution_count": null,
   "metadata": {},
   "outputs": [],
   "source": [
    "from multiprocessing import Value\n",
    "\n",
    "def get_factors(p_index, value):\n",
    "    global factor_ctr\n",
    "    logging.info(\"[P{}]\\tStarted with input {}\".format(p_index, value))\n",
    "    c = factor_ctr.value\n",
    "    logging.info(\"[P{}]\\tThe factor counter is currently {}\".format(p_index, factor_ctr.value))\n",
    "    r = primefactors(value)\n",
    "    factor_ctr.value = c + 1\n",
    "    logging.info(\"[P{}]\\tFactor counter is {}\".format(p_index, factor_ctr.value))\n",
    "    logging.info(\"[P{}]\\tEnded with output {}\".format(p_index, r))\n",
    "\n",
    "\n",
    "# Creem un comptador fent servir un objecte de tipus Value, indicant\n",
    "# que serà un enter ('i') i que s'inicialitzarà a 0\n",
    "factor_ctr = Value('i', 0)\n",
    "\n",
    "# Crea 3 processos que executen la funció get_factors i\n",
    "# els inicia\n",
    "processes = []\n",
    "for i, num in enumerate(nums_to_factor):\n",
    "    process = Process(target=get_factors, args=(i, num))\n",
    "    processes.append(process)\n",
    "    process.start()\n",
    "\n",
    "# Espera a que els 3 processos finalitzin\n",
    "for i, process in enumerate(processes):\n",
    "    logging.info(\"[M]\\tWaiting to join process {}\".format(i))\n",
    "    process.join()\n",
    "    logging.info(\"[M]\\tProcess {} joined!\".format(i))\n",
    "\n",
    "logging.info(\"[M]\\tDONE!\")\n",
    "logging.info(\"[M]\\tFactor counter is: {}\".format(factor_ctr.value))"
   ]
  },
  {
   "cell_type": "markdown",
   "metadata": {},
   "source": [
    "Efectivament, ara els canvis que estan fent els processos dins de `get_factors` s'estan reflectint a la variable `factor_ctr` del procés original: tots els processos llegeixen la variable quan aquesta té un valor de zero i l'incrementen, deixant el valor de la variable a u. Hem aconseguit, doncs, que els diferents processos puguin accedir i escriure a la variable `factor_ctr`, però el resultat final del comptador segueix sent erroni! De nou, el comptador té el valor final 1, quan hauria de ser 3. Per què obtenim aquest resultat? De nou, ara estem tenint un problema d'interferència de processos, similar al que teníem quan treballàvem amb *threads*. Els tres processos llegeixen `factor_ctr` quan està a 0 i l'incrementen en una unitat, deixant com a resultat final un 1. La solució passa doncs per fer servir *locks* que controlin l'accés a la variable `factor_ctr`, de manera anàloga a com ho hem fet amb la versió *multithreaded*:"
   ]
  },
  {
   "cell_type": "code",
   "execution_count": null,
   "metadata": {},
   "outputs": [],
   "source": [
    "from multiprocessing import Value\n",
    "\n",
    "def get_factors(p_index, value):\n",
    "    global factor_ctr\n",
    "    logging.info(\"[P{}]\\tStarted with input {}\".format(p_index, value))\n",
    "    with factor_ctr.get_lock():\n",
    "        c = factor_ctr.value\n",
    "        logging.info(\"[P{}]\\tThe factor counter is currently {}\".format(p_index, factor_ctr.value))\n",
    "        r = primefactors(value)\n",
    "        factor_ctr.value = c + 1\n",
    "        logging.info(\"[P{}]\\tFactor counter is {}\".format(p_index, factor_ctr.value))\n",
    "    logging.info(\"[P{}]\\tEnded with output {}\".format(p_index, r))\n",
    "\n",
    "\n",
    "# Creem un comptador fent servir un objecte de tipus Value, indicant\n",
    "# que serà un enter ('i') i que s'inicialitzarà a 0\n",
    "factor_ctr = Value('i', 0)\n",
    "\n",
    "# Crea 3 processos que executen la funció get_factors i\n",
    "# els inicia\n",
    "processes = []\n",
    "for i, num in enumerate(nums_to_factor):\n",
    "    process = Process(target=get_factors, args=(i, num))\n",
    "    processes.append(process)\n",
    "    process.start()\n",
    "\n",
    "# Espera a que els 3 processos finalitzin\n",
    "for i, process in enumerate(processes):\n",
    "    logging.info(\"[M]\\tWaiting to join process {}\".format(i))\n",
    "    process.join()\n",
    "    logging.info(\"[M]\\tProcess {} joined!\".format(i))\n",
    "\n",
    "logging.info(\"[M]\\tDONE!\")\n",
    "logging.info(\"[M]\\tFactor counter is: {}\".format(factor_ctr.value))"
   ]
  },
  {
   "cell_type": "markdown",
   "metadata": {},
   "source": [
    "Amb la utilització del *lock*, hem assegurat que els tres processos no s'interferien en l'actualització de la variable, obtenint per tant el resultat esperat.\n",
    "\n",
    "Per últim, l'actualització del comptador estava dividida en dos passos (lectura i escriptura) i entremig s'executava la factorització en sí. Per tal de millorar l'eficiència del programa, podem executar la factorització abans d'actualitzar el comptador, de manera que els diversos processos no es quedin bloquejats esperant a poder llegir `factor_ctr` per tal de començar a factoritzar.\n",
    "\n",
    "Aprofitarem aquesta versió del codi de factorització multiprocés per afegir-hi també un detall important: fins ara, hem escrit els resultats de les factoritzacions al *log*, però no retornàvem aquests valors al procés original! Normalment, els processos destinats al càlcul, retornaran algun valor o valors resultants de la seva tasca. Podem fer servir variables compartides per tal de realitzar el retorn d'aquests valors. Al codi de la cel·la següent, emmagatzemem els resultats de la factorització en un [`Array`](https://docs.python.org/3.8/library/multiprocessing.html#multiprocessing.Array) de [`multiprocessing`](https://docs.python.org/3.8/library/multiprocessing.html):"
   ]
  },
  {
   "cell_type": "code",
   "execution_count": null,
   "metadata": {},
   "outputs": [],
   "source": [
    "from multiprocessing import Value, Array\n",
    "\n",
    "def get_factors(p_index, value, factor_results):\n",
    "    global factor_ctr\n",
    "    logging.info(\"[P{}]\\tStarted with input {}\".format(p_index, value))\n",
    "    r = primefactors(value)\n",
    "    with factor_ctr.get_lock():\n",
    "        c = factor_ctr.value\n",
    "        logging.info(\"[P{}]\\tThe factor counter is currently {}\".format(p_index, factor_ctr.value))\n",
    "        factor_ctr.value = c + 1\n",
    "        logging.info(\"[P{}]\\tFactor counter is {}\".format(p_index, factor_ctr.value))\n",
    "    logging.info(\"[P{}]\\tEnded with output {}\".format(p_index, r))\n",
    "\n",
    "    factor_results[2*p_index] = r[0]\n",
    "    factor_results[2*p_index + 1] = r[1]\n",
    "\n",
    "# Creem un comptador fent servir un objecte de tipus Value, indicant\n",
    "# que serà un enter ('i') i que s'inicialitzarà a 0\n",
    "factor_ctr = Value('i', 0)\n",
    "# Creem un array per a emmagatzemar els resultats fent servir \n",
    "# un objecte de tipus Array d'enters de 6 posicions\n",
    "factor_results = Array('i', 6)\n",
    "\n",
    "# Crea 3 processos que executen la funció get_factors i\n",
    "# els inicia\n",
    "processes = []\n",
    "for i, num in enumerate(nums_to_factor):\n",
    "    process = Process(target=get_factors, args=(i, num, factor_results))\n",
    "    processes.append(process)\n",
    "    process.start()\n",
    "\n",
    "# Espera a que els 3 processos finalitzin\n",
    "for i, process in enumerate(processes):\n",
    "    logging.info(\"[M]\\tWaiting to join process {}\".format(i))\n",
    "    process.join()\n",
    "    logging.info(\"[M]\\tProcess {} joined!\".format(i))\n",
    "\n",
    "logging.info(\"[M]\\tDONE!\")\n",
    "logging.info(\"[M]\\tFactor counter is: {}\".format(factor_ctr.value))\n",
    "logging.info(\"[M]\\tResults are: {}\".format(\", \".join([str(f) for f in factor_results])))"
   ]
  },
  {
   "cell_type": "markdown",
   "metadata": {},
   "source": [
    "### 3.3.2.- Comunicació entre processos\n",
    "\n",
    "Fins ara hem creat diversos processos i els hem assignat una tasca en el moment de la creació: partint d'una llista de números a factoritzar `nums_to_factor` que contenia tres elements, hem creat tres processos, assignant a cadascun d'ells un dels números a factoritzar. A vegades, però, disposarem d'una llista de tasques molt gran, fins al punt que no podrem crear un procés que s'encarregui de cada tasca individual. Seria el cas, per exemple, de si disposéssim de 10000 números a factoritzar, però la nostra màquina només tingués quatre CPUs. En comptes de crear 10000 processos (una tasca que consumiria ja molts recursos de per sí mateixa i, probablement, deixaria la nostra màquina inusable), ens pot ser d'utilitat crear quatre processos, que es vagin repartint les 10000 tasques. Els processos haurien d'estar coordinats, de manera que no fessin feina duplicada, que no quedés cap tasca per fer, i que cada procés estigués sense feina el mínim temps possible.\n",
    "\n",
    "En aquests casos, sovint es fa servir una cua per a coordinar les tasques a realitzar pels processos. En primer lloc, es crea una cua de tasques pendents on s'hi dipositen totes les tasques. Després, cada procés obté una tasca de la cua, l'elimina de la cua (per evitar que altres processos la repeteixin) i la realitza. Quan un procés finalitza la seva tasca, obté una nova tasca de la cua. Així, la cua serveix com a element de coordinació dels processos.\n",
    "\n",
    "A continuació implementarem un programa que factoritza els números d'una llista fent servir cues per a coordinar els diferents processos. En concret, farem servir dues cues: `nums_to_factor_q`, que contindrà la llista de tasques (els números a factoritzar), i `results_q`, que emmagatzemarà els resultats de la factorització. Les dues cues seran de tipus diferents:\n",
    "* `results_q` serà una cua de tipus [`Queue`](https://docs.python.org/3.8/library/multiprocessing.html#multiprocessing.Queue), que implementa una cua en un espai de memòria compartit entre processos i que és segura d'utilitzar en mode multiprocés.\n",
    "* `nums_to_factor_q` serà una cua de tipus [`JoinableQueue`](https://docs.python.org/3.8/library/multiprocessing.html#multiprocessing.JoinableQueue), que té les mateixes funcionalitats i característiques que les cues de tipus [`Queue`](https://docs.python.org/3.8/library/multiprocessing.html#multiprocessing.Queue) però, a més, disposa de dos mètodes addicionals. Un mètode [`task_done`](https://docs.python.org/3.8/library/multiprocessing.html#multiprocessing.JoinableQueue.task_done) que permet informar que una tasca consumida de la cua ja s'ha completat, i un mètode [`join`](https://docs.python.org/3.8/library/multiprocessing.html#multiprocessing.JoinableQueue.join) que bloqueja el procés que l'executa fins que totes les tasques que s'han afegit a la cua s'han completat.\n",
    "\n",
    "Així, farem servir els mètodes [`task_done`](https://docs.python.org/3.8/library/multiprocessing.html#multiprocessing.JoinableQueue.task_done) i [`join`](https://docs.python.org/3.8/library/multiprocessing.html#multiprocessing.JoinableQueue.join) per controlar quan ja no hi ha més tasques pendents a realitzar i, aleshores, finalitzarem el programa:"
   ]
  },
  {
   "cell_type": "code",
   "execution_count": null,
   "metadata": {},
   "outputs": [],
   "source": [
    "from multiprocessing import JoinableQueue, Queue\n",
    "from copy import deepcopy\n",
    "\n",
    "\n",
    "def get_factors(p_index, nums_to_factor_q, results_q):\n",
    "    \"\"\"\n",
    "    Obté tasques (números a factoritzar) de la cua `nums_to_factor_q`, realitza les tasques\n",
    "    i desa els resultats a la cua `results_q`.\n",
    "    \n",
    "    Finalitza quan ja no hi ha tasques a realitzar.\n",
    "    \"\"\"\n",
    "    logging.info(\"[P{}]\\tStarted\".format(p_index))\n",
    "    \n",
    "    # Obtenim la primera tasca\n",
    "    num_to_factor = nums_to_factor_q.get()\n",
    "    # Mentre hi hagi tasques pendents, les realitzem\n",
    "    while num_to_factor:\n",
    "        logging.info(\"[P{}]\\tStarting to work on {}\".format(p_index, num_to_factor))    \n",
    "        r = primefactors(num_to_factor)\n",
    "        logging.info(\"[P{}]\\tResult is {}\".format(p_index, r))\n",
    "        # Desem el resultat calculat a la cua results_q\n",
    "        results_q.put(r)\n",
    "        # Indiquem que hem finalitzat la tasca\n",
    "        nums_to_factor_q.task_done()\n",
    "        # Obtenim la propera tasca\n",
    "        num_to_factor = nums_to_factor_q.get()\n",
    "    \n",
    "    logging.info(\"[P{}]\\tEnding\".format(p_index))\n",
    "    # Indiquem que hem finalitzat l'última tasca obtinguda de la cua \n",
    "    # (que era None, el marcador de final de tasques)\n",
    "    nums_to_factor_q.task_done()    \n",
    "    logging.info(\"[P{}]\\tProcess ended\".format(p_index))\n",
    "\n",
    "    \n",
    "def factor_list_multiproc(nums_to_factor, num_processes):\n",
    "    \"\"\"\n",
    "    Factoritza els números de la llista `nums_to_factor` fent servir\n",
    "    `num_processes` processos independents per a factoritzar.\n",
    "    \"\"\"\n",
    "    # Creem la cua de resultats\n",
    "    results_q = Queue()\n",
    "    # Creem la cua de tasques a realitzar\n",
    "    nums_to_factor_q = JoinableQueue()\n",
    "    # Afegim els números a factoritzar a la cua de tasques\n",
    "    for num in nums_to_factor:\n",
    "        nums_to_factor_q.put(num)\n",
    "        \n",
    "    # Afegim un indicador de final de procés al final de la llista\n",
    "    # de tasques per a cada procés\n",
    "    for _ in range(num_processes):\n",
    "        nums_to_factor_q.put(None)\n",
    "\n",
    "    # Iniciem els `num_processes` processos amb la tasca de factoritzar\n",
    "    # i passant les cues com a paràmetres\n",
    "    for i in range(num_processes):\n",
    "        process = Process(target=get_factors, args=(i, nums_to_factor_q, results_q))\n",
    "        process.start()\n",
    "\n",
    "    # Esperem a que s'hagin completat totes les tasques\n",
    "    logging.info(\"[M]\\tWaiting to join processes\")\n",
    "    nums_to_factor_q.join()\n",
    "    logging.info(\"[M]\\tProcesses joined!\")\n",
    "    logging.info(\"[M]\\tResults are:\")\n",
    "    while not results_q.empty():\n",
    "        logging.info(\"[M]\\t\\t{}\".format(results_q.get()))"
   ]
  },
  {
   "cell_type": "code",
   "execution_count": null,
   "metadata": {},
   "outputs": [],
   "source": [
    "nums_to_factor = [477643546631018731262664599970076629899298319,\n",
    "                  5215785878052641903952977068511001599, \n",
    "                  748283119772062608265951220534384001023, \n",
    "                  949273031776466197045163567568010291199,\n",
    "                  135271171171184698288288289641,\n",
    "                  300600900900930960990990993997,\n",
    "                  644889984684749173683153159602053,\n",
    "                  692445348112289650841117535271390418059141,\n",
    "                  13433008104253584653,\n",
    "                  13513646451903418921671959,\n",
    "                  2550675724320679300501540037697253159,\n",
    "                  16968198807282414331098927405269015833861]"
   ]
  },
  {
   "cell_type": "code",
   "execution_count": null,
   "metadata": {},
   "outputs": [],
   "source": [
    "# Factoritzem els números de la llista `nums_to_factor` fent servir 4\n",
    "# processos per a la factorització\n",
    "factor_list_multiproc(nums_to_factor, 4)"
   ]
  },
  {
   "cell_type": "markdown",
   "metadata": {},
   "source": [
    "És interessant notar com el fragment de codi anterior realitza tota la sincronització dels processos a partir de la cua `nums_to_factor_q`. Aquesta cua conté tots els números a factoritzar més un indicador de final per a cada procés. Els processos que factoritzen van obtenint les tasques de la cua cridant al mètode [`get`](https://docs.python.org/3.8/library/multiprocessing.html#multiprocessing.Queue.get), i informen de la finalització de cada tasca amb el mètode [`task_done`](https://docs.python.org/3.8/library/multiprocessing.html#multiprocessing.JoinableQueue.task_done). Quan ja no queden més números a factoritzar, els processos de factorització recuperen els marcadors de finalització `None` que s'han afegit a la cua. Això fa que s'acabi l'execució del bucle de treball, i es finalitzi el procés (implícitament, al sortir de la funció `get_factors`). Noteu com els processos informen també de la finalització de l'última tasca que obtenen (que correspon al valor `None`), ja que tot i que no comporti feina, des del punt de vista de la cua és una tasca i, per tant, cal finalitzar-la per informar a la cua que no s'hi està treballant. Finalment, el procés principal executa el mètode [`join`](https://docs.python.org/3.8/library/multiprocessing.html#multiprocessing.JoinableQueue.join) de la cua `nums_to_factor_q`. Noteu com, a diferència dels altres exemples, aquí no cal esperar a la finalització de cada procés de manera individual, ja que la coordinació es fa a través de la cua: quan totes les tasques de la cua s'han acabat, els processos de factorització també hauran finalitzat. "
   ]
  },
  {
   "cell_type": "markdown",
   "metadata": {},
   "source": [
    "# 4.- Exercicis per practicar\n",
    "\n",
    "A continuació hi trobareu un conjunt de problemes que us poden servir per a practicar els conceptes explicats en aquesta unitat. Us recomanem que intenteu fer aquests problemes vosaltres mateixos i que, una vegada realitzats, compareu la solució que us proposem amb la vostra solució. No dubteu en adreçar tots els dubtes que sorgeixin de la resolució d'aquests exercicis o bé de les solucions proposades al fòrum de l'aula.\n",
    "\n",
    "1. En aquesta activitat intentarem veure gràficament si hi ha alguna correlació entre les coordenades geogràfiques d'un país i el número de defuncions per covid-19 que s'hi han reportat. Per fer-ho, farem servir, d'una banda, les dades sobre covid-19 recopilades per l'*European Center for Disease Prevention and Control* ([ECDC](https://www.ecdc.europa.eu)) i, d'altra banda, una API externa per a obtenir la localització geogràfica dels països.\n",
    "\n",
    "L'objectiu de l'activitat és generar un *scatter plot* amb el número de defuncions de cada país del qual en tenim dades i la posició geogràfica d'aquest país:\n",
    "\n",
    "* Cada punt del *plot* representarà un país.\n",
    "* Els eixos x i y del *plot* representaran les coordenades geogràfiques del país.\n",
    "* La mida del punt representarà el número de defuncions.\n",
    "\n",
    "Les dades de defuncions de cada país es poden obtenir del *dataset* de l'ECDC, que trobareu al fitxer `data/COVID-19.csv`. Les dades de localització geogràfica de cada país no es troben al *dataset* i caldrà obtenir-les fent servir alguna API externa de geolocalització (podeu triar l'API que vulgueu).\n",
    "\n",
    "1.1. Implementeu un programa multiprocés que generi l'*scatter plot* especificat. Per fer-ho, penseu quines tasques poden paral·lelitzar-se, i quines eines podeu fer servir per a coordinar els diferents processos."
   ]
  },
  {
   "cell_type": "code",
   "execution_count": null,
   "metadata": {},
   "outputs": [],
   "source": [
    "# Resposta"
   ]
  },
  {
   "cell_type": "markdown",
   "metadata": {},
   "source": [
    "1.2. Implementeu un programa *multithreaded* que generi l'*scatter plot* especificat. Per fer-ho, penseu quines tasques poden executar-se en diferents *threads*, i quines eines podeu fer servir per a evitar les interferències entre els *threads*."
   ]
  },
  {
   "cell_type": "code",
   "execution_count": null,
   "metadata": {},
   "outputs": [],
   "source": [
    "# Resposta"
   ]
  },
  {
   "cell_type": "markdown",
   "metadata": {},
   "source": [
    "1.3. Reflexioneu sobre quina de les dues implementacions hauria de ser la més eficient per a resoldre el problema plantejat."
   ]
  },
  {
   "cell_type": "markdown",
   "metadata": {},
   "source": [
    "Resposta: "
   ]
  },
  {
   "cell_type": "markdown",
   "metadata": {},
   "source": [
    "## 4.1.- Solucions als exercicis per practicar"
   ]
  },
  {
   "cell_type": "markdown",
   "metadata": {},
   "source": [
    "1. En aquesta activitat intentarem veure gràficament si hi ha alguna correlació entre les coordenades geogràfiques d'un país i el número de defuncions per covid-19 que s'hi han reportat. Per fer-ho, farem servir, d'una banda, les dades sobre covid-19 recopilades per l'*European Center for Disease Prevention and Control* ([ECDC](https://www.ecdc.europa.eu)) i, d'altra banda, una API externa per a obtenir la localització geogràfica dels països.\n",
    "\n",
    "L'objectiu de l'activitat és generar un *scatter plot* amb el número de defuncions de cada país del qual en tenim dades i la posició geogràfica d'aquest país:\n",
    "\n",
    "* Cada punt del *plot* representarà un país.\n",
    "* Els eixos x i y del plot representaran les coordenades geogràfiques del país.\n",
    "* La mida del punt representarà el número de defuncions.\n",
    "\n",
    "Les dades de defuncions de cada país es poden obtenir del *dataset* de l'ECDC, que trobareu al fitxer `data/COVID-19.csv`. Les dades de localització geogràfica de cada país no es troben al *dataset* i caldrà obtenir-les fent servir alguna API externa de geolocalització (podeu triar l'API que vulgueu).\n",
    "\n",
    "1.1. Implementeu un programa multiprocés que generi l'*scatter plot* especificat. Per fer-ho, penseu quines tasques poden paral·lelitzar-se, i quines eines podeu fer servir per a coordinar els diferents processos."
   ]
  },
  {
   "cell_type": "code",
   "execution_count": null,
   "metadata": {},
   "outputs": [],
   "source": [
    "import pandas as pd\n",
    "import requests\n",
    "import matplotlib.pyplot as plt\n",
    "\n",
    "\n",
    "def get_geo_cords(country_name):\n",
    "    \"\"\"\n",
    "    Obté la longitud i latitud per a un país fent servir l'api\n",
    "        d'opencagedata.\n",
    "    \"\"\"\n",
    "    # Si voleu executar aquest codi, cal que obtingueu la vostra api key\n",
    "    # i la copieu a la variable api_key: https://opencagedata.com/api\n",
    "    api_key = \"\"\n",
    "    base_url = \"https://api.opencagedata.com/geocode/v1/json?q={}&key={}\"\n",
    "        \n",
    "    try:\n",
    "        response = requests.get(base_url.format(country_name, api_key))\n",
    "        r = response.json()\n",
    "        lat = r[\"results\"][0][\"geometry\"]['lat']\n",
    "        lng = r[\"results\"][0][\"geometry\"]['lng']\n",
    "    except Exception as e:\n",
    "        lat, lng = 0, 0\n",
    "    \n",
    "    return lat, lng\n",
    "\n",
    "\n",
    "def get_coords_proc(p_index, countries_q, results_q):\n",
    "    \"\"\"\n",
    "    Obté tasques (països dels quals en volem saber les coordenades)\n",
    "        de la cua `countries_q`, realitza les tasques i desa els\n",
    "        resultats a la cua `results_q`.\n",
    "    \n",
    "    Finalitza quan ja no hi ha tasques a realitzar.\n",
    "    \"\"\"\n",
    "    logging.info(\"[P{}]\\tStarted\".format(p_index))\n",
    "    \n",
    "    # Obtenim la primera tasca\n",
    "    country = countries_q.get()\n",
    "    # Mentre hi hagi tasques pendents, les realitzem\n",
    "    while country:\n",
    "        logging.info(\"[P{}]\\tStarting to work on {}\".format(p_index, country))    \n",
    "        r = get_geo_cords(country)\n",
    "        logging.info(\"[P{}]\\tResult is {}\".format(p_index, r))\n",
    "        # Desem el resultat a la cua results_q\n",
    "        results_q.put([country, r])\n",
    "        # Indiquem que hem finalitzat la tasca\n",
    "        countries_q.task_done()\n",
    "        # Obtenim la propera tasca\n",
    "        country = countries_q.get()\n",
    "    \n",
    "    logging.info(\"[P{}]\\tEnding\".format(p_index))\n",
    "    # Indiquem que hem finalitzat l'última tasca obtinguda de la cua \n",
    "    # (que era None, el marcador de final de tasques)\n",
    "    countries_q.task_done()    \n",
    "    logging.info(\"[P{}]\\tProcess ended\".format(p_index))\n",
    "\n",
    "    \n",
    "def get_coords_multiproc(countries, num_processes):\n",
    "    \"\"\"\n",
    "    Obté les coordenades geogràfiques d'una llista de països, fent servir\n",
    "    `num_processes` processos independents per a l'obtenció de les dades.\n",
    "    \"\"\"\n",
    "    # Creem la cua de resultats\n",
    "    results_q = Queue()\n",
    "    # Creem la cua de tasques a realitzar\n",
    "    countries_q = JoinableQueue()\n",
    "    # Afegim els països a la cua de tasques\n",
    "    for country in countries:\n",
    "        countries_q.put(country)\n",
    "        \n",
    "    # Afegim un indicador de final de procés al final de la llista\n",
    "    # de tasques per a cada procés\n",
    "    for _ in range(num_processes):\n",
    "        countries_q.put(None)\n",
    "\n",
    "    # Iniciem els `num_processes` processos amb la tasca d'obtenir\n",
    "    # les coordenades i passant les cues com a paràmetres\n",
    "    for i in range(num_processes):\n",
    "        process = Process(target=get_coords_proc, args=(i, countries_q, results_q))\n",
    "        process.start()\n",
    "\n",
    "    # Esperem a que s'hagin completat totes les tasques\n",
    "    logging.info(\"[M]\\tWaiting to join processes\")\n",
    "    countries_q.join()\n",
    "    logging.info(\"[M]\\tProcesses joined!\")\n",
    "    r_list = {}\n",
    "    while not results_q.empty():\n",
    "        e = results_q.get()\n",
    "        r_list[e[0]] = e[1]\n",
    "    \n",
    "    return r_list\n",
    "\n",
    "\n",
    "def plot_results(deaths_by_country, countries_coords):\n",
    "    \"\"\"\n",
    "    Genera l'scatter plot amb els resultats.\n",
    "    \"\"\"\n",
    "    plt.figure()\n",
    "    x, y, d = zip(*[(v[0], v[1], deaths_by_country[k]) for k, v in countries_coords.items()])\n",
    "    plt.scatter(x, y, s=d, alpha=0.7)"
   ]
  },
  {
   "cell_type": "code",
   "execution_count": null,
   "metadata": {},
   "outputs": [],
   "source": [
    "%%time\n",
    "\n",
    "# Carreguem les dades del fitxer covid-19\n",
    "data = pd.read_csv(\"data/COVID-19.csv\")\n",
    "# Sumem les defuncions per país\n",
    "deaths_by_country = data.groupby([\"countriesAndTerritories\"])[\"deaths\"].sum()\n",
    "# Obtenim les coordenades, paral·lelitzant la feina amb 4 processos\n",
    "countries_coords = get_coords_multiproc(deaths_by_country.index, num_processes=4) \n",
    "# Mostrem els resultats\n",
    "plot_results(deaths_by_country, countries_coords)"
   ]
  },
  {
   "cell_type": "markdown",
   "metadata": {},
   "source": [
    "1.2. Implementeu un programa *multithreaded* que generi l'*scatter plot* especificat. Per fer-ho, penseu quines tasques poden executar-se en diferents *threads*, i quines eines podeu fer servir per a evitar les interferències entre els *threads*."
   ]
  },
  {
   "cell_type": "markdown",
   "metadata": {},
   "source": [
    "En aquest cas, farem servir una implementació similar a la versió multiprocés:\n",
    "* Mantindrem l'ús de la `JoinableQueue` per a coordinar les tasques dels diferents processos.\n",
    "* No ens caldrà fer servir una cua de resultats, ja que els *threads* comparteixen variables. Per tant, crearem directament un diccionari de resultats `countries_coords`, i els *threads* hi escriuran directament els resultats que vagin obtenint. Farem servir un `lock` per a evitar interferències en l'actualització del diccionari."
   ]
  },
  {
   "cell_type": "code",
   "execution_count": null,
   "metadata": {},
   "outputs": [],
   "source": [
    "def get_coords_thr(t_index, countries_q, lock, countries_coords):\n",
    "    \"\"\"\n",
    "    Obté tasques (països dels quals en volem saber les coordenades)\n",
    "        de la cua `countries_q`, realitza les tasques i desa els\n",
    "        resultats al diccionari `countires_coords`.\n",
    "    \n",
    "    Finalitza quan ja no hi ha tasques a realitzar.\n",
    "    \"\"\"\n",
    "    logging.info(\"[T{}]\\tStarted\".format(t_index))\n",
    "    \n",
    "    # Obtenim la primera tasca\n",
    "    country = countries_q.get()\n",
    "    # Mentre hi hagi tasques pendents, les realitzem\n",
    "    while country:\n",
    "        logging.info(\"[T{}]\\tStarting to work on {}\".format(t_index, country))    \n",
    "        r = get_geo_cords(country)\n",
    "        logging.info(\"[T{}]\\tResult is {}\".format(t_index, r))\n",
    "        # Desem el resultat al diccionari de resultats, obtenint primer\n",
    "        # el lock, i alliberant-lo quan acabem d'actualitzar el diccionari\n",
    "        lock.acquire()\n",
    "        countries_coords[country] = r\n",
    "        lock.release()\n",
    "        # Indiquem que hem finalitzat la tasca\n",
    "        countries_q.task_done()\n",
    "        # Obtenim la propera tasca\n",
    "        country = countries_q.get()\n",
    "    \n",
    "    logging.info(\"[T{}]\\tEnding\".format(t_index))\n",
    "    # Indiquem que hem finalitzat l'última tasca obtinguda de la cua \n",
    "    # (que era None, el marcador de final de tasques)\n",
    "    countries_q.task_done()    \n",
    "    logging.info(\"[T{}]\\tThread ended\".format(t_index))\n",
    "\n",
    "    \n",
    "def get_coords_multithr(countries, num_threads, lock, countries_coords):\n",
    "    \"\"\"\n",
    "    Obté les coordenades geogràfiques d'una llista de països, fent servir\n",
    "    `num_threads` threads per a l'obtenció de les dades.\n",
    "    \"\"\"\n",
    "\n",
    "    # Creem la cua de tasques a realitzar\n",
    "    countries_q = JoinableQueue()\n",
    "    # Afegim els països a la cua de tasques\n",
    "    for country in countries:\n",
    "        countries_q.put(country)\n",
    "        \n",
    "    # Afegim un indicador de final de tasca al final de la llista\n",
    "    # de tasques per a cada thread\n",
    "    for _ in range(num_threads):\n",
    "        countries_q.put(None)\n",
    "\n",
    "    # Iniciem els `num_threads` fils amb la tasca d'obtenir\n",
    "    # les coordenades i passant la cua com a paràmetre\n",
    "    for i in range(num_threads):\n",
    "        thread = Thread(target=get_coords_thr, args=(i, countries_q, lock, countries_coords))\n",
    "        thread.start()\n",
    "\n",
    "    # Esperem a que s'hagin completat totes les tasques\n",
    "    logging.info(\"[M]\\tWaiting to join threads\")\n",
    "    countries_q.join()\n",
    "    logging.info(\"[M]\\tThreads joined!\")\n"
   ]
  },
  {
   "cell_type": "code",
   "execution_count": null,
   "metadata": {},
   "outputs": [],
   "source": [
    "%%time\n",
    "\n",
    "# Carreguem les dades del fitxer covid-19\n",
    "data = pd.read_csv(\"data/COVID-19.csv\")\n",
    "# Sumem les defuncions per país\n",
    "deaths_by_country = data.groupby([\"countriesAndTerritories\"])[\"deaths\"].sum()\n",
    "# Obtenim les coordenades, paral·lelitzant la feina amb 4 threads\n",
    "lock = Lock()\n",
    "countries_coords = {}\n",
    "get_coords_multithr(deaths_by_country.index, 4, lock, countries_coords) \n",
    "# Mostrem els resultats\n",
    "plot_results(deaths_by_country, countries_coords)"
   ]
  },
  {
   "cell_type": "markdown",
   "metadata": {},
   "source": [
    "1.3. Reflexioneu sobre quina de les dues implementacions hauria de ser la més eficient per a resoldre el problema plantejat."
   ]
  },
  {
   "cell_type": "markdown",
   "metadata": {},
   "source": [
    "Experimentalment podem comprovar com el temps d'execució d'ambdues versions és molt similar (27.8 segons per a l'execució original del *notebook*). \n",
    "\n",
    "Conceptualment, la tasca que executem en els múltiples fils o processos és una tasca limitada per la xarxa (ja sigui per l'ample de banda de la nostra màquina o pel temps de resposta del servidor), i que requereix de molt poc càlcul de CPU. Per tant, tant l'execució paral·lela en diversos processos com la concurrent en una única CPU tenen un temps d'execució similar, limitada per la xarxa i no pas per la CPU. Filant molt prim, podríem dir que la versió *multithreaded* genera menys *overhead* (crear *threads* és més ràpid que no pas crear processos), però per a l'execució concreta que hem realitzat, això no arriba a tenir un impacte notable en el rendiment. També podríem dir que la versió multiprocés aprofita millor els recursos de la màquina (ja que executa, paral·lelament, diverses crides a la API), però de nou això no té un impacte significatiu, ja que el temps de càlcul de CPU que requereix aquesta aplicació és mínim."
   ]
  },
  {
   "cell_type": "markdown",
   "metadata": {},
   "source": [
    "# 5.- Bibliografia\n",
    "\n",
    "\n",
    "## 5.1.- Bibliografia bàsica\n",
    "\n",
    "La bibliografia bàsica d'aquesta unitat és el contingut explicat en el notebook (no és necessari consultar cap enllaç extern).\n",
    "\n",
    "\n",
    "## 5.2.- Bibliografia addicional - Ampliació de coneixements\n",
    "\n",
    "A la introducció d'aquesta unitat s'ha simplificat una mica el detall de com funciona la gestió de memòria en l'execució de programes, ja que no és l'objectiu principal d'aquest mòdul. Si esteu interessats en explorar en més detall què diferencia, a nivell de sistema operatiu, els *threads* dels processos, us recomanem que visiteu els enllaços següents ([1](https://www.youtube.com/watch?v=TRH2HupGkgI), [2](https://www.youtube.com/watch?v=PBb0NRvo96s), [3](https://www.youtube.com/watch?v=Dhf-DYO1K78), [4](https://www.youtube.com/watch?v=3WmNGc9qP0g), [5](https://www.youtube.com/watch?v=X668LfXObaM)).\n",
    "\n",
    "En aquesta unitat s'ha presentat una introducció a la programació multiprocés i *multithread*, revisant algunes de les principals eines que ofereix Python en aquest context. Ara bé, això és només un petit tast! Si esteu interessats en conèixer altres eines per a realitzar programació concurrent i paral·lela en Python, us recomanem explorar altres eines de la llibreria [`multiprocessing`](https://docs.python.org/3/library/multiprocessing.html) com ara les *pools* de processos ([1](https://docs.python.org/3/library/multiprocessing.html#multiprocessing.pool.Pool), [2](https://sebastianraschka.com/Articles/2014_multiprocessing.html)); l'ús de semàfors, events i *conditions* de de la llibreria [`threading`](https://docs.python.org/3.8/library/threading.html) ([1](https://hackernoon.com/synchronization-primitives-in-python-564f89fee732)); o la llibreria [asyncio](https://docs.python.org/3/library/asyncio.html). Si preferiu la consulta en format llibre (en comptes de diversos enllaços), us recomanem la lectura dels capítols 1 fins a 4 del llibre *Python Parallel Programming Cookbook*, de Giancarlo Zaccone. \n",
    "\n",
    "Hem vist com el mòdul multiprocessing ofereix un parell de classes, [`Value`](https://docs.python.org/3/library/multiprocessing.html#multiprocessing.Value) i [`Array`](https://docs.python.org/3/library/multiprocessing.html#multiprocessing.Array), que representen objectes que s'assignen en un espai de memòria compartida entre els diversos processos. [`Value`](https://docs.python.org/3/library/multiprocessing.html#multiprocessing.Value) retorna un objecte de tipus `ctype`, que ofereix tipus de dades compatibles amb C. Podeu fer un cop d'ull als tipus de dades que ofereix en el [següent enllaç](https://docs.python.org/3/library/ctypes.html#fundamental-data-types).\n",
    "\n",
    "\n",
    "Tot i que no era l'objectiu principal d'aquesta unitat, en aquest notebook hem fet servir el mòdul [`logging`](https://docs.python.org/3/library/logging.html) per a crear *logs* que registraven què estaven fent els diferents fils i processos en cada moment. Us recomanem la lectura dels tutorials oficials (tant el [bàsic](https://docs.python.org/3/howto/logging.html#logging-basic-tutorial) com el més [avançat](https://docs.python.org/3/howto/logging.html#logging-advanced-tutorial)) per tal de conèixer les funcionalitats d'aquest mòdul, que us poden ser útils no només per a seguir el flux d'execució de programes *multithread* o multiprocés, sinó també per a monitorejar qualsevol tipus de programa."
   ]
  },
  {
   "cell_type": "markdown",
   "metadata": {},
   "source": [
    "\n",
    "\n"
   ]
  }
 ],
 "metadata": {
  "language_info": {
   "name": "python"
  }
 },
 "nbformat": 4,
 "nbformat_minor": 2
}
