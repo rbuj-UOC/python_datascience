{
 "cells": [
  {
   "cell_type": "markdown",
   "metadata": {},
   "source": [
    "<div style=\"display: grid; grid-template-columns: repeat(2, 1fr); align-items: end;\">\n",
    "    <div>\n",
    "        <img src=\"data:image/avif;base64,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\" width=\"300\">\n",
    "    </div>\n",
    "    <div>\n",
    "        <p style=\"margin: 0; text-align:right;\">22.403 · Programació per a la ciència de dades</p>\n",
    "        <p style=\"margin: 0; text-align:right;\">Grau en Ciència de Dades Aplicada</p>\n",
    "        <p style=\"margin: 0; text-align:right; padding-button: 100px;\">Estudis d'Informàtica, Multimèdia i Telecomunicació</p>\n",
    "    </div>\n",
    "</div>"
   ]
  },
  {
   "cell_type": "markdown",
   "metadata": {},
   "source": [
    "Programació per a la ciència de dades\n",
    "============================\n",
    "\n",
    "--- \n",
    "\n",
    "Unitat 1: Estructures de dades avançades en Python\n",
    "-----------------------------------------------------\n",
    "\n",
    "---\n",
    "\n",
    "### Instruccions d'ús\n",
    "\n",
    "Aquest document és un notebook interactiu que intercala explicacions més aviat teòriques de conceptes de programació amb fragments de codi executables. Per aprofitar els avantatges que aporta aquest format, us recomanem que, en primer lloc, llegiu les explicacions i el codi que us proporcionem. D'aquesta manera tindreu un primer contacte amb els conceptes que hi exposem. Ara bé, **la lectura és només el principi!** Una vegada hàgiu llegit el contingut proporcionat, no oblideu executar el codi proporcionat i modificar-lo per crear-ne variants, que us permetin comprovar que heu entès la seva funcionalitat i explorar-ne els detalls d'implementació. Per últim, us recomanem també consultar la documentació enllaçada per explorar amb més profunditat les funcionalitats dels mòduls presentats."
   ]
  },
  {
   "cell_type": "code",
   "execution_count": null,
   "metadata": {},
   "outputs": [],
   "source": [
    "import os\n",
    "import sys\n",
    "from os.path import dirname\n",
    "\n",
    "VERIFICA_ESTIL = False\n",
    "\n",
    "if os.getenv(\"COLAB_RELEASE_TAG\"):\n",
    "    # munta la unitat de google drive i accedeix a la carpeta de la unitat\n",
    "    from google.colab import drive\n",
    "    drive.mount('/content/drive')\n",
    "    %cd \"/content/drive/MyDrive/Colab Notebooks/python_datascience/python_2/unit_1\"\n",
    "\n",
    "print(f\"directori actual: {os.getcwd()}\")\n",
    "sys.path.append(os.path.join(dirname(dirname(os.getcwd())), 'util'))\n",
    "\n",
    "# verificació de PEP8\n",
    "if VERIFICA_ESTIL:\n",
    "    print(\"habilitant verificació de l'estil PEP8\")\n",
    "    if os.getenv(\"COLAB_RELEASE_TAG\"):\n",
    "        print(\"instal·lant flake8, pycodestyle i pycodestyle_magic...\")\n",
    "        %pip install pycodestyle flake8 pycodestyle_magic\n",
    "    %load_ext pycodestyle_magic\n",
    "    %pycodestyle_on"
   ]
  },
  {
   "cell_type": "code",
   "execution_count": null,
   "metadata": {},
   "outputs": [],
   "source": [
    "from uoc import data_backup\n",
    "\n",
    "data_backup(os.getcwd(), True)"
   ]
  },
  {
   "cell_type": "markdown",
   "metadata": {},
   "source": [
    "### Introducció\n",
    "\n",
    "En aquesta unitat es presenten estructures de dades i tipus de dades avançats, i es fa una introducció a la manipulació avançada de cadenes de caràcters.\n",
    "\n",
    "En primer lloc, s'expliquen estructures de dades avançades que amplien les estructures que ja coneixíem (llistes, tuples i diccionaris). Veurem què són i com fer servir en Python els conjunts, les piles, les cues, els diccionaris amb ordre i amb valors per defecte.\n",
    "\n",
    "En segon lloc, veurem tipus de dades complexos. En concret, presentarem tipus de dades que permeten representar dates i hores, i explicarem les funcions que Python implementa sobre aquests tipus. \n",
    "\n",
    "En tercer lloc, i per acabar, ens centrarem en la manipulació avançada de cadenes de caràcters, repassant algunes de les funcions bàsiques sobre cadenes i introduint el llenguatge i ús d'expressions regulars."
   ]
  },
  {
   "cell_type": "markdown",
   "metadata": {},
   "source": [
    "---\n",
    "\n",
    "# 1. Estructures de dades avançades\n",
    "\n",
    "Fins ara hem vist algunes de les estructures de dades més bàsiques que es fan servir per programar en Python: les llistes, les tuples i els diccionaris. En aquesta unitat, presentarem estructures de dades més complexes, que ens permetran afrontar altres tipus de problemes, com són els conjunts, les piles, les cues, els diccionaris amb ordre, i els diccionaris amb valors per defecte.\n",
    "\n",
    "## 1.1. Conjunts\n",
    "\n",
    "De la mateixa manera que les llistes, els conjunts són una col·lecció d'elements possiblement **heterogenis** (és a dir, que poden ser de tipus diferents). Ara bé, a diferència de les llistes, els elements d'un conjunt **no tenen ordre** (per tant, tampoc tenen posició dins del conjunt). A més, un conjunt **no pot tenir elements repetits**. En essència, aquesta estructura de dades implementa el concepte matemàtic de conjunt.\n",
    "\n",
    "Python disposa de la classe [`set`](https://docs.python.org/3.8/library/stdtypes.html#set-types-set-frozenset) que implementa el conjunt. Podem crear un conjunt fent servir el constructor de la classe o bé utilitzant claus `{}`:"
   ]
  },
  {
   "cell_type": "code",
   "execution_count": null,
   "metadata": {},
   "outputs": [],
   "source": [
    "# Creem un conjunt fent servir dues sintaxis diferents\n",
    "a_set = {\"Beale ciphers\", \"Quipu\", \"Zimmermann Telegram\", \"Chaocipher\"}\n",
    "the_same_set = set([\"Beale ciphers\", \"Quipu\", \"Zimmermann Telegram\",\n",
    "                    \"Chaocipher\"])\n",
    "\n",
    "# Confirmem que els dos conjunts creats són iguals\n",
    "print(\"Both sets are equal: {}\".format(a_set == the_same_set))"
   ]
  },
  {
   "cell_type": "markdown",
   "metadata": {},
   "source": [
    "Cal anar amb compte si fem servir claus per definir els conjunts, ja que aquestes també es fan servir per a definir diccionaris. Si els conjunts i diccionaris tenen elements, la sintaxi ens determinarà el tipus. En canvi, fer servir claus per definir una col·lecció buida donarà com a resultat un diccionari buit:"
   ]
  },
  {
   "cell_type": "code",
   "execution_count": null,
   "metadata": {},
   "outputs": [],
   "source": [
    "# Definim dos diccionaris buits fent servir les dues sintaxis\n",
    "an_empty_dict = {}\n",
    "another_empty_dict = dict()\n",
    "print(\"Using {{}} results in a {} equivalent to dict(): {}\".\n",
    "      format(type(an_empty_dict), an_empty_dict == another_empty_dict))\n",
    "\n",
    "# Definim un conjunt buit\n",
    "an_empty_set = set()\n",
    "print(\"Creating an empty {}\".format(type(an_empty_set)))"
   ]
  },
  {
   "cell_type": "markdown",
   "metadata": {},
   "source": [
    "Els conjunts no tenen ordre i, per tant, dos conjunts són iguals si els seus elements també ho són:"
   ]
  },
  {
   "cell_type": "code",
   "execution_count": null,
   "metadata": {},
   "outputs": [],
   "source": [
    "# Creem un altre conjunt amb els mateixos elements, però fem servir un altre\n",
    "# ordenació dels elements al crear el conjunt\n",
    "another_same_set = {\"Zimmermann Telegram\", \"Quipu\",\n",
    "                    \"Chaocipher\", \"Beale ciphers\"}\n",
    "print(\"Both sets are equal: {}\".format(a_set == another_same_set))"
   ]
  },
  {
   "cell_type": "markdown",
   "metadata": {},
   "source": [
    "Com les llistes, els conjunts disposen de l'operació `len`, que retorna el nombre d'elements del conjunt (la seva cardinalitat). Les operacions [`add`](https://docs.python.org/3.8/library/stdtypes.html#frozenset.add) i [`remove`](https://docs.python.org/3.8/library/stdtypes.html#frozenset.remove) permeten afegir i eliminar elements d'un conjunt:"
   ]
  },
  {
   "cell_type": "code",
   "execution_count": null,
   "metadata": {},
   "outputs": [],
   "source": [
    "# Mostrem la cardinalitat del conjunt\n",
    "print(\"The set is: {}\".format(a_set))\n",
    "print(\"The size of the set is: {}\".format(len(a_set)))\n",
    "\n",
    "# Eliminem un element del conjunt\n",
    "a_set.remove(\"Quipu\")\n",
    "print(\"After removing 'Quipu', the set is: {}\".format(a_set))\n",
    "\n",
    "# Afegim un element al conjunt\n",
    "a_set.add(\"The Magic Words are Squeamish Ossifrage\")\n",
    "print(\"After adding an element, the set is: {}\".format(a_set))"
   ]
  },
  {
   "cell_type": "markdown",
   "metadata": {},
   "source": [
    "Els conjunts no tenen elements repetits:"
   ]
  },
  {
   "cell_type": "code",
   "execution_count": null,
   "metadata": {},
   "outputs": [],
   "source": [
    "print(\"The size of the set is: {}\".format(len(a_set)))\n",
    "\n",
    "# Afegim ara un element ja existent al conjunt\n",
    "a_set.add(\"Beale ciphers\")\n",
    "\n",
    "# La cardinalitat del conjunt no varia, ja que l'element ja\n",
    "# pertanyia al conjunt\n",
    "print(\"The size of the set after adding 'Beale ciphers' is: {}\"\n",
    "      .format(len(a_set)))"
   ]
  },
  {
   "cell_type": "markdown",
   "metadata": {},
   "source": [
    "Ja hem vist com la classe [`set`](https://docs.python.org/3.8/library/stdtypes.html#set) implementa la comparació d'igualtat de conjunts. Addicionalment, també implementa les operacions bàsiques de conjunts (unió, intersecció i diferència) i la diferència simètrica (que retorna els elements que estan només en un dels dos conjunts).\n",
    "\n",
    "A continuació veiem un exemple d'aquestes operacions sobre tres conjunts, que contenen els noms dels estudiants de programació en Python, Java, i C, d'una escola (assumirem que el nom identifica de manera única els estudiants)."
   ]
  },
  {
   "cell_type": "code",
   "execution_count": null,
   "metadata": {},
   "outputs": [],
   "source": [
    "# Creem els tres conjunts\n",
    "students_python = {\"Anna\", \"Helena\", \"Marta\", \"Pol\"}\n",
    "students_java = {\"Anna\", \"Teresa\", \"Helena\"}\n",
    "students_c = {\"Marc\"}\n",
    "\n",
    "# Calculem els alumnes que estudien Python i també Java\n",
    "print(\"Python and Java:\\t\\t{}\"\n",
    "      .format(students_python.intersection(students_java)))\n",
    "\n",
    "# Calculem els alumnes que estudien Python però no java\n",
    "print(\"Python but not Java:\\t\\t{}\"\n",
    "      .format(students_python.difference(students_java)))\n",
    "\n",
    "# Calculem els alumnes que estudien Python o Java, però no\n",
    "# tots dos llenguatges\n",
    "print(\"Python or Java, but not both:\\t{}\"\n",
    "      .format(students_python.symmetric_difference(students_java)))\n",
    "\n",
    "# Calculem els estudiants que té l'escola (independentment\n",
    "# del llenguatge que estudien)\n",
    "print(\"Any of the languages:\\t\\t{}\"\n",
    "      .format(students_python.union(students_java).union(students_c)))"
   ]
  },
  {
   "cell_type": "markdown",
   "metadata": {},
   "source": [
    "Noteu que els resultats de les operacions entre conjunts que hem vist a la cel·la anterior són també conjunts, de manera que podem encadenar operacions (com mostra l'últim exemple, on s'obtenen tots els estudiants de l'escola).\n",
    "\n",
    "Equivalentment, podem fer servir els operands `|`, `&`, `-` i `^`:"
   ]
  },
  {
   "cell_type": "code",
   "execution_count": null,
   "metadata": {},
   "outputs": [],
   "source": [
    "print(\"Python and Java:\\t\\t{}\".format(students_python & students_java))\n",
    "print(\"Python but not Java:\\t\\t{}\".format(students_python - students_java))\n",
    "print(\"Python or Java, but not both:\\t{}\"\n",
    "      .format(students_python ^ students_java))\n",
    "print(\"Any of the languages:\\t\\t{}\"\n",
    "      .format(students_python | students_java | students_c))"
   ]
  },
  {
   "cell_type": "markdown",
   "metadata": {},
   "source": [
    "Els conjunts són iterables, de manera que els podem recórrer com hem vist a la unitat anterior:"
   ]
  },
  {
   "cell_type": "code",
   "execution_count": null,
   "metadata": {},
   "outputs": [],
   "source": [
    "# Recorrem el conjunt students_python\n",
    "for element in students_python:\n",
    "    print(element)"
   ]
  },
  {
   "cell_type": "markdown",
   "metadata": {},
   "source": [
    "Fins ara hem presentat les propietats dels conjunts i les operacions principals que podem realitzar sobre aquests amb la classe [`set`](https://docs.python.org/3.8/library/stdtypes.html#set). A més, hem vist com els conjunts són l'estructura de dades a fer servir quan volem mantenir una col·lecció d'elements sense duplicats i on l'ordre no tingui importància. Els conjunts, així mateix, es poden fer servir com a eina per resoldre, de manera eficient, cert tipus de problemes. \n",
    "\n",
    "D'una banda, els conjunts són una de les maneres més ràpides d'eliminar duplicats d'una llista:"
   ]
  },
  {
   "cell_type": "code",
   "execution_count": null,
   "metadata": {},
   "outputs": [],
   "source": [
    "# Definim una llista amb elements duplicats\n",
    "a_list = [\"Anna\", \"Helena\", \"Marta\", \"Pol\", \"Anna\", \"Teresa\", \"Helena\"]\n",
    "print(\"A list with duplicates:\\t\\t\\t{}\".format(a_list))\n",
    "\n",
    "# Creem una nova llista sense duplicats, fent un cast de la llista inicial\n",
    "# a conjunt, i convertint el resultat en llista de nou\n",
    "a_list_without_duplicates = list(set(a_list))\n",
    "print(\"The same list without duplicates:\\t{}\"\n",
    "      .format(a_list_without_duplicates))"
   ]
  },
  {
   "cell_type": "markdown",
   "metadata": {},
   "source": [
    "A més d'eficient, la solució anterior és senzilla i elegant, seguint el que ens recomana el [`PEP20`](https://www.python.org/dev/peps/pep-0020/).\n",
    "\n",
    "Els conjunts en Python també es troben optimitzats per fer testos de pertinença, que ens permeten comprovar si un determinat element es troba present en un conjunt:"
   ]
  },
  {
   "cell_type": "code",
   "execution_count": null,
   "metadata": {},
   "outputs": [],
   "source": [
    "a_student = \"Anna\"\n",
    "\n",
    "print(\"Python students:\\t{}\".format(students_python))\n",
    "print(\"Anna studies Python?:\\t{}\\n\".format(a_student in students_python))\n",
    "\n",
    "print(\"C students:\\t\\t{}\".format(students_c))\n",
    "print(\"Anna studies C?:\\t{}\".format(a_student in students_c))"
   ]
  },
  {
   "cell_type": "markdown",
   "metadata": {},
   "source": [
    "## 1.2. Piles i cues\n",
    "\n",
    "Les piles i les cues són unes estructures de dades també similars a les llistes, on els elements tenen ordre i poden estar repetits. La característica que defineix les piles i les cues és que els elements només es poden inserir i eliminar des d'un dels extrems. \n",
    "\n",
    "Una **pila** (en anglès, *stack*) només permet afegir i esborrar elements al cim de la pila (en anglès, parlem del *top*), és a dir, per la part superior. Les piles es coneixen també com a estructures FILO (de l'anglès, *first in last out*), ja que el primer element que s'afegeix a una pila serà l'últim que en sortirà. Una analogia en el món físic d'una pila pot ser una pila de llibres que es troba dins d'una caixa: el primer llibre que traurem de la caixa serà el de dalt de tot de la pila, que serà l'últim que hàgim posat a la caixa.\n",
    "\n",
    "Una **cua** (en anglès, *queue*) només permet afegir elements al final i eliminar-ne del principi. Les cues es coneixen també com a estructures FIFO (de l'anglès, *first in first out*), ja que el primer element que s'afegeix a una cua serà el primer a sortir-ne. En el nostre dia a dia trobem cues en diverses circumstàncies, per exemple, quan esperem el nostre torn a la carnisseria o per comprar entrades al cinema.\n",
    "\n",
    "A diferència dels conjunts, que en Python representem amb el tipus propi [`set`](https://docs.python.org/3.8/library/stdtypes.html#set), per treballar amb piles i cues amb Python farem servir el tipus llista ([`list`](https://docs.python.org/3.8/library/stdtypes.html#list)). Aquest tipus disposa d'un seguit d'operacions que permeten emular el comportament de piles i cues. Python també disposa d'una classe específica per gestionar cues, la classe [`queue`](https://docs.python.org/3.8/library/queue.html), que es fa servir en implementacions *multithread* que veurem més endavant a l'assignatura.\n",
    "\n",
    "Per a implementar una pila, treballarem sobre una llista, fent servir únicament els mètodes `append` i `pop` per afegir i treure-hi elements:"
   ]
  },
  {
   "cell_type": "code",
   "execution_count": null,
   "metadata": {},
   "outputs": [],
   "source": [
    "def print_stack(s, msg_bef=None, msg_after=None):\n",
    "    # Definim la funció auxiliar print_stack, que ens permetrà visualitzar\n",
    "    # una pila\n",
    "    if msg_bef:\n",
    "        print(msg_bef)\n",
    "\n",
    "    if len(s) == 0:\n",
    "        max_len = 10\n",
    "    else:\n",
    "        max_len = max([len(e) for e in s]) + 4\n",
    "\n",
    "    print(\"|\" + \" \" * (max_len + 2) + \"|\")\n",
    "    for e in s[::-1]:\n",
    "        print(\"| \" + e + \" \" * (max_len - len(e)) + \" |\")\n",
    "    print(\"|\" + \"_\" * (max_len + 2) + \"|\")\n",
    "\n",
    "    print(msg_after + \"\\n\" if msg_after else \"\\n\")"
   ]
  },
  {
   "cell_type": "code",
   "execution_count": null,
   "metadata": {},
   "outputs": [],
   "source": [
    "# Inicialitzem una llista buida, que farem servir com a pila\n",
    "stack = []\n",
    "print_stack(stack, \"Initial stack:\")\n",
    "\n",
    "# Afegim 3 elements a la pila, i anem mostrant el contingut de la pila en\n",
    "# cada moment\n",
    "stack.append(\"The Art of Computer Programming\")\n",
    "print_stack(stack, \"Stack after adding 1 element:\")\n",
    "\n",
    "stack.append(\"The Mythical Man-Month\")\n",
    "print_stack(stack, \"Stack after adding a 2nd element:\")\n",
    "\n",
    "stack.append(\"Refactoring\")\n",
    "print_stack(stack, \"Stack after adding a 3rd element:\")"
   ]
  },
  {
   "cell_type": "markdown",
   "metadata": {},
   "source": [
    "En afegir elements, aquests es van apilant de manera que l'últim element afegit queda al *top* de la pila. A l'exemple anterior, l'últim element afegit, *Refactoring*, queda al *top* de la pila."
   ]
  },
  {
   "cell_type": "code",
   "execution_count": null,
   "metadata": {},
   "outputs": [],
   "source": [
    "# Eliminem un element de la pila i mostrem com queda la pila\n",
    "e = stack.pop()\n",
    "print_stack(stack, \"Stack after deleting one element:\",\n",
    "            \"The element removed was: {}\".format(e))"
   ]
  },
  {
   "cell_type": "markdown",
   "metadata": {},
   "source": [
    "En executar `pop`, s'elimina l'element del *top* de la pila, en aquest cas, *Refactoring*. L'últim element afegit és doncs el primer a sortir-ne."
   ]
  },
  {
   "cell_type": "code",
   "execution_count": null,
   "metadata": {},
   "outputs": [],
   "source": [
    "# Eliminem dos elements més de la pila i mostrem com queda la pila en cada\n",
    "# moment\n",
    "e = stack.pop()\n",
    "print_stack(stack, \"Stack after deleting another element:\",\n",
    "            \"The element removed was: {}\".format(e))\n",
    "\n",
    "e = stack.pop()\n",
    "print_stack(stack, \"Stack after deleting the last element:\",\n",
    "            \"The element removed was: {}\".format(e))"
   ]
  },
  {
   "cell_type": "markdown",
   "metadata": {},
   "source": [
    "Si seguim eliminant elements, veurem com el primer element afegit a la pila, *The Art of Computer Programming*, és l'últim a sortir-ne (el comportament FILO, *first in last out* que comentàvem).\n",
    "\n",
    "Finalment, executar un `pop` sobre una pila buida, generarà una excepció:"
   ]
  },
  {
   "cell_type": "code",
   "execution_count": null,
   "metadata": {},
   "outputs": [],
   "source": [
    "try:\n",
    "    stack.pop()\n",
    "except IndexError as e:\n",
    "    print(e)"
   ]
  },
  {
   "cell_type": "markdown",
   "metadata": {},
   "source": [
    "Per a implementar una cua, treballarem també sobre una llista, fent servir únicament els mètodes `append` i `pop(0)` per afegir i treure-hi elements:"
   ]
  },
  {
   "cell_type": "code",
   "execution_count": null,
   "metadata": {},
   "outputs": [],
   "source": [
    "def print_queue(s, msg_bef=None, msg_after=None):\n",
    "    # Definim la funció auxiliar print_queue, que ens permetrà visualitzar\n",
    "    # una cua\n",
    "    if msg_bef:\n",
    "        print(msg_bef)\n",
    "\n",
    "    if len(s) == 0:\n",
    "        max_len = 10\n",
    "    else:\n",
    "        max_len = sum([len(e)+2 for e in s]) + 1\n",
    "\n",
    "    print(\"_\"*(max_len+2)+\"\\n\")\n",
    "    print(\"  \" + \"  \".join(s))\n",
    "    print(\"_\"*(max_len+2))\n",
    "\n",
    "    print(msg_after+\"\\n\" if msg_after else \"\\n\")"
   ]
  },
  {
   "cell_type": "code",
   "execution_count": null,
   "metadata": {},
   "outputs": [],
   "source": [
    "# Inicialitzem una llista buida, que farem servir com a cua\n",
    "queue = []\n",
    "print_queue(queue, \"Initial queue:\")\n",
    "\n",
    "# Afegim 3 elements a la cua, i anem mostrant el contingut de la cua en\n",
    "# cada moment\n",
    "queue.append(\"A\")\n",
    "print_queue(queue, \"Queue after adding 1 element:\")\n",
    "\n",
    "queue.append(\"B\")\n",
    "print_queue(queue, \"Queue after adding a 2nd element:\")\n",
    "\n",
    "queue.append(\"C\")\n",
    "print_queue(queue, \"Queue after adding a 3rd element:\")"
   ]
  },
  {
   "cell_type": "code",
   "execution_count": null,
   "metadata": {},
   "outputs": [],
   "source": [
    "# Eliminem un element de la cua i mostrem com queda la cua\n",
    "e = queue.pop(0)\n",
    "print_queue(queue, \"Queue after deleting one element:\",\n",
    "            \"The element removed was: {}\".format(e))"
   ]
  },
  {
   "cell_type": "markdown",
   "metadata": {},
   "source": [
    "En executar `pop(0)`, s'elimina el primer element de la cua, en aquest cas, A, que és el primer element que hi hem afegit. Així doncs, la cua és una estructura FIFO (*first in first out*)."
   ]
  },
  {
   "cell_type": "code",
   "execution_count": null,
   "metadata": {},
   "outputs": [],
   "source": [
    "# Eliminem dos elements més de la cua i mostrem com queda la cua en cada\n",
    "# moment\n",
    "e = queue.pop(0)\n",
    "print_queue(queue, \"Queue after deleting another element:\",\n",
    "            \"The element removed was: {}\".format(e))\n",
    "\n",
    "e = queue.pop(0)\n",
    "print_queue(queue, \"Queue after deleting the last element:\",\n",
    "            \"The element removed was: {}\".format(e))"
   ]
  },
  {
   "cell_type": "markdown",
   "metadata": {},
   "source": [
    "L'últim element afegit és doncs també l'últim a sortir-ne (C).\n",
    "\n",
    "De nou, si intentem eliminar un element sobre una cua buida, es genera una excepció:"
   ]
  },
  {
   "cell_type": "code",
   "execution_count": null,
   "metadata": {},
   "outputs": [],
   "source": [
    "try:\n",
    "    queue.pop(0)\n",
    "except IndexError as e:\n",
    "    print(e)"
   ]
  },
  {
   "cell_type": "markdown",
   "metadata": {},
   "source": [
    "## 1.3. Diccionaris ordenats\n",
    "\n",
    "Tot i que a partir de la versió 3.6 de Python els diccionaris preserven l'ordre d'inserció dels elements, l'estructura de dades no contempla l'ordre dels elements a l'hora de fer comparacions. Així, dos diccionaris amb el mateix contingut inserit en ordre diferent són considerats iguals. És a dir, dos diccionaris són iguals si el seu contingut ho és, independentment de l'ordre en què s'hagi inserit aquest contingut:"
   ]
  },
  {
   "cell_type": "code",
   "execution_count": null,
   "metadata": {},
   "outputs": [],
   "source": [
    "# Creem dos diccionaris amb el mateix contingut en ordre diferent\n",
    "dict_1 = {\"a\": 0, \"b\": 1}\n",
    "dict_2 = {\"b\": 1, \"a\": 0}\n",
    "\n",
    "# Mostrem el contingut dels diccionaris en l'ordre en què items() retorna\n",
    "# els elements\n",
    "print(\"dict_1:\")\n",
    "for k, v in dict_1.items():\n",
    "    print(\"{}: {}\".format(k, v))\n",
    "\n",
    "print(\"\\ndict_2:\")\n",
    "for k, v in dict_2.items():\n",
    "    print(\"{}: {}\".format(k, v))\n",
    "\n",
    "# Comprovem la igualtat dels dos diccionaris\n",
    "print(\"\\ndict_1 and dict_2 are equal: {}\".format(dict_1 == dict_2))"
   ]
  },
  {
   "cell_type": "markdown",
   "metadata": {},
   "source": [
    "Si pel contrari, volem que l'ordre dels elements d'un diccionari en determini la seva semblança a un altre diccionari, podem fer servir un diccionari ordenat, implementat per la classe [`OrderedDict`](https://docs.python.org/3.8/library/collections.html#collections.OrderedDict) en Python, dins la biblioteca [`collections`](https://docs.python.org/3.8/library/collections.html)."
   ]
  },
  {
   "cell_type": "code",
   "execution_count": null,
   "metadata": {},
   "outputs": [],
   "source": [
    "from collections import OrderedDict\n",
    "\n",
    "# Creem dos diccionaris ordenats amb el mateix contingut en ordre diferent\n",
    "dict_1 = OrderedDict([(\"a\", 0), (\"b\", 1)])\n",
    "dict_2 = OrderedDict([(\"b\", 1), (\"a\", 0)])\n",
    "\n",
    "# Comprovem la igualtat dels dos diccionaris\n",
    "print(\"\\ndict_1 and dict_2 are equal: {}\".format(dict_1 == dict_2))"
   ]
  },
  {
   "cell_type": "markdown",
   "metadata": {},
   "source": [
    "Més enllà de la diferència en la implementació de la igualtat, la classe [`OrderedDict`](https://docs.python.org/3.8/library/collections.html#collections.OrderedDict) també ens ofereix un parell de mètodes relatius a l'ordre dels elements que no teníem disponibles en els diccionaris: `reversed` i [`move_to_end`](https://docs.python.org/3.8/library/collections.html#collections.OrderedDict.move_to_end)."
   ]
  },
  {
   "cell_type": "code",
   "execution_count": null,
   "metadata": {},
   "outputs": [],
   "source": [
    "# Mostrem el contingut de dict_2 en l'ordre original\n",
    "print(\"\\ndict_2:\")\n",
    "for k in dict_2:\n",
    "    print(\"{}: {}\".format(k, dict_2[k]))\n",
    "\n",
    "# Mostrem el contingut de dict_2 en ordre invers\n",
    "print(\"\\ndict_2:\")\n",
    "for k in reversed(dict_2):\n",
    "    print(\"{}: {}\".format(k, dict_2[k]))"
   ]
  },
  {
   "cell_type": "code",
   "execution_count": null,
   "metadata": {},
   "outputs": [],
   "source": [
    "# Creem un diccionari ordenat\n",
    "dict_4 = OrderedDict([(\"a\", 0), (\"b\", 1), (\"c\", 2), (\"d\", 3)])\n",
    "\n",
    "# Movem l'element de clau 'b' al final del diccionari\n",
    "dict_4.move_to_end('b')\n",
    "\n",
    "# Mostrem el diccionari modificat, amb l'element 'b' al final\n",
    "print(dict_4)"
   ]
  },
  {
   "cell_type": "markdown",
   "metadata": {},
   "source": [
    "Com a apunt final, cal tenir en compte que en general un diccionari estàndard de Python és més eficient que un diccionari ordenat. Així doncs, farem servir sempre diccionaris estàndard, llevat que necessitem les funcionalitats d'un diccionari ordenat per a la lògica de la nostra aplicació."
   ]
  },
  {
   "cell_type": "markdown",
   "metadata": {},
   "source": [
    "## 1.4. Altres variants de diccionari\n",
    "\n",
    "Una altra variant del diccionari que sovint és d'utilitat és el [`defaultdict`](https://docs.python.org/3.8/library/collections.html#collections.defaultdict). Aquest tipus de diccionari comparteix les propietats del diccionari tradicional ([`dict`](https://docs.python.org/3.8/library/stdtypes.html#mapping-types-dict)), però permet establir un valor per defecte a les entrades del diccionari no inicialitzades:"
   ]
  },
  {
   "cell_type": "code",
   "execution_count": null,
   "metadata": {},
   "outputs": [],
   "source": [
    "# Creem un diccionari a_trad_dict i intentem mostrar el valor d'una clau\n",
    "# inexistent\n",
    "a_trad_dict = {}\n",
    "try:\n",
    "    print(a_trad_dict[\"non_existing_key\"])\n",
    "except KeyError as e:\n",
    "    print(e)"
   ]
  },
  {
   "cell_type": "code",
   "execution_count": null,
   "metadata": {},
   "outputs": [],
   "source": [
    "from collections import defaultdict\n",
    "\n",
    "# Creem un diccionari defaultdict amb valor per defecte una llista\n",
    "# i intentem mostrar el valor d'una clau inexistent\n",
    "a_defaultdict = defaultdict(list)\n",
    "print(a_defaultdict[\"non_existing_key\"])\n",
    "\n",
    "\n",
    "def get_0():\n",
    "    # Creem un diccionari defaultdict amb valor per defecte una funció\n",
    "    # que retorna 0 i intentem mostrar el valor d'una clau inexistent\n",
    "    return 0\n",
    "\n",
    "\n",
    "another_defaultdict = defaultdict(get_0)\n",
    "print(another_defaultdict[\"non_existing_key\"])"
   ]
  },
  {
   "cell_type": "markdown",
   "metadata": {},
   "source": [
    "Els [`defaultdict`](https://docs.python.org/3.8/library/collections.html#collections.defaultdict) poden ser útils per evitar haver d'inicialitzar les entrades d'un diccionari manualment.\n",
    "\n",
    "Per exemple, suposem que tenim un text, i volem obtenir una llista de les paraules agrupades segons la seva lletra inicial. Podríem fer servir un diccionari per emmagatzemar aquesta agrupació: la clau del diccionari emmagatzemaria la lletra inicial, i el valor de cada clau seria una llista de les paraules que comencen per aquella lletra. Així, només caldria tenir entrades per les lletres que són inicials d'alguna de les paraules del text, i no per totes les possibles lletres inicials.\n",
    "\n",
    "Una implementació bàsica podria fer servir un diccionari normal, processant cada paraula una a una i comprovant en cada cas si ja tenim una entrada al diccionari per la lletra inicial de la paraula:"
   ]
  },
  {
   "cell_type": "code",
   "execution_count": null,
   "metadata": {},
   "outputs": [],
   "source": [
    "words = \"Beautiful is better than ugly. Explicit is better than implicit. \"\n",
    "words += \"Simple is better than complex.\"\n",
    "\n",
    "# Creem el diccionari\n",
    "words_by_first_letter = dict()\n",
    "\n",
    "# Iterem per cada paraula del text\n",
    "for word in words.split(\" \"):\n",
    "    # Recuperem la primera lletra\n",
    "    first_letter = word[0]\n",
    "\n",
    "    if first_letter in words_by_first_letter:\n",
    "        # Si ja existeix l'entrada del diccionari, afegim la paraula\n",
    "        # a la llista\n",
    "        words_by_first_letter[first_letter].append(word)\n",
    "    else:\n",
    "        # Si no existeix encara cap paraula amb la mateixa inicial, creem\n",
    "        # l'entrada al diccionari, creant la llista de paraules per aquella\n",
    "        # inicial i afegint-hi la paraula\n",
    "        words_by_first_letter[first_letter] = [word]\n",
    "\n",
    "# Mostrem el resultat\n",
    "print(words_by_first_letter)"
   ]
  },
  {
   "cell_type": "markdown",
   "metadata": {},
   "source": [
    "Observem ara com podem simplificar el codi fent servir un [`defaultdict`](https://docs.python.org/3.8/library/collections.html#collections.defaultdict):"
   ]
  },
  {
   "cell_type": "code",
   "execution_count": null,
   "metadata": {},
   "outputs": [],
   "source": [
    "# Creem el diccionari defaultdict\n",
    "words_by_first_letter = defaultdict(list)\n",
    "\n",
    "# Iterem per cada paraula del text\n",
    "for word in words.split(\" \"):\n",
    "    # Recuperem la primera lletra\n",
    "    first_letter = word[0]\n",
    "    # Afegim la paraula a la llista de la inicial corresponent\n",
    "    words_by_first_letter[first_letter].append(word)\n",
    "\n",
    "print(words_by_first_letter)"
   ]
  },
  {
   "cell_type": "markdown",
   "metadata": {},
   "source": [
    "Fixeu-vos que, en aquest cas, no ens cal inicialitzar manualment la llista. "
   ]
  },
  {
   "cell_type": "markdown",
   "metadata": {},
   "source": [
    "# 2. Tipus de dades avançats: el mòdul `datetime`\n",
    "\n",
    "Ja coneixem els tipus de dades bàsics més habituals en Python: [`int`](https://docs.python.org/3.8/library/functions.html#int) i [`float`](https://docs.python.org/3.8/library/functions.html#float), que ens permeten representar valors numèrics; [`bool`](https://docs.python.org/3.8/library/functions.html#bool), per a representar valors booleans; i [`str`](https://docs.python.org/3.8/library/stdtypes.html#text-sequence-type-str), per representar cadenes de caràcters. També hem fet servir tipus compostos, com ara [`list`](https://docs.python.org/3.8/library/stdtypes.html#list), [`tuple`](https://docs.python.org/3.8/library/stdtypes.html#tuple), [`dict`](https://docs.python.org/3.8/library/stdtypes.html#dict) i [`set`](https://docs.python.org/3.8/library/stdtypes.html#set). En aquesta secció, presentarem altres classes que permeten representar tipus més complexos, com ara dates i temps.\n",
    "\n",
    "El mòdul [`datetime`](https://docs.python.org/3.8/library/datetime.html) de Python ofereix eines per treballar amb dates i hores. Així, aquest mòdul ens proveeix d'eines per afrontar les problemàtiques més habituals de la gestió de dates i hores, com són la representació del temps en cadenes de caràcters amb formats diferents, càlculs relatius a calendaris, càlcul d'increments de temps, conversions entre unitats de temps, gestió de fusos horaris, etc. Tot això facilita enormement la feina de tractar amb conjunts de dades que contenen dates i hores.\n",
    "\n",
    "A tall d'exemple, intenteu pensar com implementaríeu, amb les biblioteques de Python que hem presentat fins ara, petits programes que permetessin calcular:\n",
    "\n",
    "1. A partir d'una data concreta, el dia de la setmana (dilluns, dimarts ... diumenge) que era, és o serà aquell dia.\n",
    "\n",
    "2. Si els valors \"2019-11-15\" i \"Friday, November 15, 2019\" corresponen o no a la mateixa data.\n",
    "\n",
    "3. Quin dia serà d'aquí a 30 dies.\n",
    "\n",
    "4. Si l'any 2200 serà o no un any de traspàs.\n",
    "\n",
    "Tot aquest tipus de problemes són fàcilment implementables amb les funcions que proporciona el mòdul [`datetime`](https://docs.python.org/3.8/library/datetime.html). Les classes principals d'aquest mòdul són [`date`](https://docs.python.org/3.8/library/datetime.html#date-objects), que permet treballar amb dates; [`time`](https://docs.python.org/3.8/library/datetime.html#time-objects) amb temps; [`datetime`](https://docs.python.org/3.8/library/datetime.html#datetime-objects) amb dates completes que inclouen també el temps; i [`timedelta`](https://docs.python.org/3.8/library/datetime.html#timedelta-objects) que processa increments de temps.\n",
    "\n",
    "## 2.1. Creació d'objectes que representen dates i hores\n",
    "\n",
    "Podem crear objectes que representen dates, hores o dates amb hores especificant les diferents components de cada estructura manualment. L'exemple següent mostra com crear una data, una hora i una data amb hora fent servir aquesta estratègia:"
   ]
  },
  {
   "cell_type": "code",
   "execution_count": null,
   "metadata": {},
   "outputs": [],
   "source": [
    "import datetime\n",
    "\n",
    "# Creem un objecte date que representa una data concreta\n",
    "a_date = datetime.date(year=2017, month=10, day=1)\n",
    "# De manera més concisa, podríem fer:\n",
    "# a_date = datetime.date(2017, 1, 11)\n",
    "print(a_date)\n",
    "\n",
    "# Creem un objecte time que representa una hora\n",
    "a_time = datetime.time(hour=17, minute=14, second=42)\n",
    "# De manera més concisa, podríem fer:\n",
    "# a_time = datetime.time(17, 14, 42)\n",
    "print(a_time)\n",
    "\n",
    "# Creem un objecte datetime, que representa una data amb temps\n",
    "a_datetime = datetime.datetime(year=2017, month=10, day=1,\n",
    "                               hour=17, minute=14, second=42)\n",
    "# De manera més concisa, podríem fer:\n",
    "# a_datetime = datetime.datetime(2017, 1, 11, 17, 14, 42)\n",
    "print(a_datetime)"
   ]
  },
  {
   "cell_type": "markdown",
   "metadata": {},
   "source": [
    "Ara bé, és molt habitual trobar conjunts de dades en què les dates i hores no es troben pas desglossades en any, mes, dia, hora, minut i segon, sinó que aquestes es representen com a cadenes de caràcters, que poden seguir convencions diferents a l'hora d'expressar les dates i les hores. Així, ens caldrà poder crear els objectes a partir de cadenes de caràcters, i necessitarem algun llenguatge per poder definir el format d'aquestes cadenes.\n",
    "\n",
    "Les classes [`datetime`](https://docs.python.org/3.8/library/datetime.html), [`date`](https://docs.python.org/3.8/library/datetime.html#date-objects) i [`time`](https://docs.python.org/3.8/library/datetime.html#time-objects) disposen del mètode [`strptime`](https://docs.python.org/3.8/library/datetime.html#datetime.datetime.strptime) que permet crear un objecte [`datetime`](https://docs.python.org/3.8/library/datetime.html), [`date`](https://docs.python.org/3.8/library/datetime.html#date-objects) i [`time`](https://docs.python.org/3.8/library/datetime.html#time-objects) a partir d'una cadena de caràcters amb la data i/o hora i d'una altra cadena de caràcters que n'informa del format. A continuació s'exposa com crear un objecte [`datetime`](https://docs.python.org/3.8/library/datetime.html) a partir d'una cadena de caràcters. Tota aquesta funcionalitat pot ser utilitzada també de manera anàloga per a crear objectes [`date`](https://docs.python.org/3.8/library/datetime.html#date-objects) i [`time`](https://docs.python.org/3.8/library/datetime.html#time-objects).\n",
    "\n",
    "Així doncs, podem crear un objecte [`datetime`](https://docs.python.org/3.8/library/datetime.html) a partir de la cadena de caràcters \"2017-10-01 17:14:42\" de la manera següent:"
   ]
  },
  {
   "cell_type": "code",
   "execution_count": null,
   "metadata": {},
   "outputs": [],
   "source": [
    "str_date = \"2017-10-01 17:14:42\"\n",
    "a_datetime_from_str = datetime.datetime.strptime(str_date, \"%Y-%m-%d %H:%M:%S\")\n",
    "print(a_datetime_from_str)\n",
    "a_datetime == a_datetime_from_str"
   ]
  },
  {
   "cell_type": "markdown",
   "metadata": {},
   "source": [
    "El primer paràmetre de la crida, \"2017-10-01 17:14:42\", informa de la data a representar, mentre que el segon paràmetre, \"%Y-%m-%d %H:%M:%S\", informa del format que fa servir la primera cadena. Per representar el format, es fan servir uns comodins, indicats amb el símbol `%`, i altres caràcters no especials (com ara el guionet, `-` o els dos punts, `:`). Així, en aquest cas, informem que la cadena que representa la data i el temps està formada per:\n",
    "* l'any representat fent servir quatre dígits (`%Y`),\n",
    "* un guió que separa l'any del mes (`-`) ,\n",
    "* el mes representat fent servir dos dígits (`%m`),\n",
    "* un guió que separa el mes del dia (`-`),\n",
    "* el dia representat fent servir dos dígits (`%d`),\n",
    "* un espai separant la data de l'hora (` `),\n",
    "* l'hora representada en format 24 hores i fent servir dos dígits (`%H`),\n",
    "* els dos punts separant l'hora dels minuts (`:`),\n",
    "* els minuts representats amb dos dígits (`%M`),\n",
    "* els dos punts separant els minuts dels segons (`:`),\n",
    "* i finalment, els segons representats amb dos dígits (`%S`).\n",
    "\n",
    "És important notar que l'especificació del format ens permet evitar cap mena d'ambigüitat a l'hora d'interpretar la data. Així, per exemple, podem saber que es vol representar el dia 1 d'octubre i no pas el dia 10 de gener. Podríem canviar aquesta interpretació, modificant la cadena que expressa el format, de manera que el mes i el dia s'intercanviessin l'ordre:"
   ]
  },
  {
   "cell_type": "code",
   "execution_count": null,
   "metadata": {},
   "outputs": [],
   "source": [
    "a_date_from_str = datetime.datetime.strptime(str_date, \"%Y-%d-%m %H:%M:%S\")\n",
    "print(a_date_from_str)"
   ]
  },
  {
   "cell_type": "markdown",
   "metadata": {},
   "source": [
    "Fixeu-vos que, a l'exemple anterior, la cadena que representa la data és exactament la mateixa, però canviant l'especificació del format, hem fet que s'interpreti de manera diferent, indicant ara el 10 de gener.\n",
    "\n",
    "La cadena de caràcters que hem fet servir sempre utilitza el format complet per expressar qualsevol unitat de temps, anteposant zeros si cal. Així, per representar el primer dia del mes, fa servir dos dígits, `01`. Existeixen comodins per representar també les diferents unitats sense anteposar el zero, així com per representar anys fent servir només dos dígits, mesos fent servir el nom del mes en comptes del número, hores en format AM/PM, i moltes altres variants! Podeu trobar l'especificació completa del format a la [documentació oficial del mòdul `datetime`](https://docs.python.org/3/library/datetime.html#strftime-and-strptime-format-codes). A continuació, s'exposen alguns exemples addicionals:"
   ]
  },
  {
   "cell_type": "code",
   "execution_count": null,
   "metadata": {},
   "outputs": [],
   "source": [
    "# Canviant el format dels separadors\n",
    "a_date_from_str = datetime.datetime.strptime(\"2017/10/01 17*14*42\",\n",
    "                                             \"%Y/%m/%d %H*%M*%S\")\n",
    "print(a_date_from_str)"
   ]
  },
  {
   "cell_type": "code",
   "execution_count": null,
   "metadata": {},
   "outputs": [],
   "source": [
    "# Expressant l'any amb dos dígits\n",
    "a_date_from_str = datetime.datetime.strptime(\"17-10-01 17:14:42\",\n",
    "                                             \"%y-%m-%d %H:%M:%S\")\n",
    "print(a_date_from_str)\n",
    "a_date_from_str = datetime.datetime.strptime(\"95-10-01 17:14:42\",\n",
    "                                             \"%y-%m-%d %H:%M:%S\")\n",
    "print(a_date_from_str)"
   ]
  },
  {
   "cell_type": "markdown",
   "metadata": {},
   "source": [
    "Noteu com, en el cas anterior, Python interpreta el segle en funció dels últims dos dígits de l'any."
   ]
  },
  {
   "cell_type": "code",
   "execution_count": null,
   "metadata": {},
   "outputs": [],
   "source": [
    "# Incloent el dia de la setmana i expressant el mes amb el nom\n",
    "a_date_from_str = datetime.datetime.strptime(\n",
    "    \"Sunday, 01 October 2017 17:14:42\", \"%A, %d %B %Y %H:%M:%S\"\n",
    ")\n",
    "print(a_date_from_str)"
   ]
  },
  {
   "cell_type": "code",
   "execution_count": null,
   "metadata": {},
   "outputs": [],
   "source": [
    "# Amb el dia de la setmana i el mes abreviats\n",
    "a_date_from_str = datetime.datetime.strptime('Sun, 01 Oct 2017 17:14:42',\n",
    "                                             \"%a, %d %b %Y %H:%M:%S\")\n",
    "print(a_date_from_str)"
   ]
  },
  {
   "cell_type": "markdown",
   "metadata": {},
   "source": [
    "En informàtica, també es pot fer servir l'*UNIX time stamp* com a manera de mesurar el temps. L'*UNIX time stamp* representa el temps com a un enter, que compta els segons que han passat des de l'1 de gener de 1970. Podem crear objectes que representen una data a partir d'un *UNIX timestamp* amb el mètode [`fromtimestamp`](https://docs.python.org/3.8/library/datetime.html#datetime.date.fromtimestamp):"
   ]
  },
  {
   "cell_type": "code",
   "execution_count": null,
   "metadata": {},
   "outputs": [],
   "source": [
    "a_date_from_ts = datetime.date.fromtimestamp(1573840426)\n",
    "print(a_date_from_ts)"
   ]
  },
  {
   "cell_type": "markdown",
   "metadata": {},
   "source": [
    "Sovint també ens interessarà fer servir la data o temps actual en les nostres aplicacions. Podem crear objectes que representin el moment actual a través de les funcions [`today`](https://docs.python.org/3.8/library/datetime.html#datetime.datetime.today) i [`now`](https://docs.python.org/3.8/library/datetime.html#datetime.datetime.now):"
   ]
  },
  {
   "cell_type": "code",
   "execution_count": null,
   "metadata": {},
   "outputs": [],
   "source": [
    "# Creem un objecte amb la data actual\n",
    "now_date = datetime.date.today()\n",
    "print(now_date)\n",
    "\n",
    "# Creem un objecte amb la data i hora actual\n",
    "now_datetime = datetime.datetime.now()\n",
    "print(now_datetime)"
   ]
  },
  {
   "cell_type": "markdown",
   "metadata": {},
   "source": [
    "## 2.2. Mostrant la data i el temps en diferents formats\n",
    "\n",
    "Fins ara hem vist com el mètode [`strptime`](https://docs.python.org/3.8/library/datetime.html#datetime.datetime.strptime) permet crear objectes [`datetime`](https://docs.python.org/3.8/library/datetime.html), [`date`](https://docs.python.org/3.8/library/datetime.html#date-objects) i [`time`](https://docs.python.org/3.8/library/datetime.html#time-objects) a partir d'una cadena de caràcters. De manera anàloga, el mètode [`strftime`](https://docs.python.org/3.8/library/datetime.html#datetime.datetime.strftime) permet obtenir una cadena de caràcters que representa una data, hora, o data amb hora en un format concret, que s'especifica fent servir la mateixa sintaxi que [`strptime`](https://docs.python.org/3.8/library/datetime.html#datetime.datetime.strptime)."
   ]
  },
  {
   "cell_type": "code",
   "execution_count": null,
   "metadata": {},
   "outputs": [],
   "source": [
    "# Creem un objecte amb la data i hora actual\n",
    "now_datetime = datetime.datetime.now()\n",
    "\n",
    "# Mostrem la data i hora fent servir 4 dígits pels anys, i 2 per als mes,\n",
    "# dia, hora, minut i segons\n",
    "print(now_datetime.strftime(\"%Y-%m-%d %H:%M:%S\"))\n",
    "\n",
    "# Invertim l'ordre del dia i el mes\n",
    "print(now_datetime.strftime(\"%Y-%d-%m %H:%M:%S\"))\n",
    "\n",
    "# Canviant el format dels separadors\n",
    "print(now_datetime.strftime(\"%Y/%m/%d %H*%M*%S\"))\n",
    "\n",
    "# Expressant l'any amb dos dígits\n",
    "print(now_datetime.strftime(\"%y-%m-%d %H:%M:%S\"))\n",
    "\n",
    "# Incloent el dia de la setmana i expressant el mes amb el nom\n",
    "print(now_datetime.strftime(\"%A, %d %B %Y %H:%M:%S\"))\n",
    "\n",
    "# Amb el dia de la setmana i el mes abreviats\n",
    "print(now_datetime.strftime(\"%a, %d %b %Y %H:%M:%S\"))"
   ]
  },
  {
   "cell_type": "markdown",
   "metadata": {},
   "source": [
    "A més de fer servir [`strftime`](https://docs.python.org/3.8/library/datetime.html#datetime.datetime.strftime) per obtenir cadenes de caràcters que representin dates, també ens pot ser d'utilitat la funció [`isoformat`](https://docs.python.org/3.8/library/datetime.html#datetime.date.isoformat), que ja retorna la cadena en format ISO 8601 (any - mes - dia, fent servir 4 dígits per a l'any i 2 per al dia i mes), sense necessitat d'especificar-lo manualment:"
   ]
  },
  {
   "cell_type": "code",
   "execution_count": null,
   "metadata": {},
   "outputs": [],
   "source": [
    "# Mostrem la data i l'hora en format ISO 8601\n",
    "now_datetime.isoformat()"
   ]
  },
  {
   "cell_type": "markdown",
   "metadata": {},
   "source": [
    "## 2.3. Treballant amb dates i temps\n",
    "\n",
    "Ja hem vist una de les funcionalitats dels objectes que representen dates i temps, que és la d'interpretar i generar cadenes de caràcters que representen dates en diferents formats. A continuació, veurem altres operacions habituals sobre aquests objectes.\n",
    "\n",
    "Podem accedir a les diferents components que conformen una data amb hora consultant els atributs dels objectes [`datetime`](https://docs.python.org/3.8/library/datetime.html), [`date`](https://docs.python.org/3.8/library/datetime.html#date-objects) i [`time`](https://docs.python.org/3.8/library/datetime.html#time-objects). Noteu que, en aquest cas, el tipus de dades dels valors a què accedim és enter, en comptes d'una cadena de caràcters com obteníem amb [`strftime`](https://docs.python.org/3.8/library/datetime.html#datetime.datetime.strftime):"
   ]
  },
  {
   "cell_type": "code",
   "execution_count": null,
   "metadata": {},
   "outputs": [],
   "source": [
    "# Accedim a les diferents components d'una data amb hora\n",
    "y = now_datetime.year\n",
    "mo = now_datetime.month\n",
    "d = now_datetime.day\n",
    "h = now_datetime.hour\n",
    "mi = now_datetime.minute\n",
    "s = now_datetime.second\n",
    "\n",
    "print(\"Year is {} and is an {}\".format(y, type(y)))\n",
    "print(\"Month is {} and is an {}\".format(mo, type(mo)))\n",
    "print(\"Day is {} and is an {}\".format(d, type(d)))\n",
    "print(\"Hour is {} and is an {}\".format(h, type(h)))\n",
    "print(\"Minute is {} and is an {}\".format(mi, type(mi)))\n",
    "print(\"Second is {} and is an {}\".format(s, type(s)))"
   ]
  },
  {
   "cell_type": "markdown",
   "metadata": {},
   "source": [
    "Més enllà de l'accés a les components que conformen la data, també podem accedir a altres dades d'aquesta, com ara a quina setmana de l'any pertany o bé a quin dia de la setmana correspon:"
   ]
  },
  {
   "cell_type": "code",
   "execution_count": null,
   "metadata": {},
   "outputs": [],
   "source": [
    "# Obtenim una tupla de 3 valors: (any ISO, núm. de setmana ISO,\n",
    "# dia de la setmana ISO)\n",
    "iso_cal = now_datetime.isocalendar()\n",
    "print(\"The week is: {}\".format(iso_cal[1]))\n",
    "print(\"The day is: {}\".format(iso_cal[2]))"
   ]
  },
  {
   "cell_type": "code",
   "execution_count": null,
   "metadata": {},
   "outputs": [],
   "source": [
    "# També podem obtenir únicament el dia de la setmana amb weekday()\n",
    "print(\"The day is: {}\".format(now_datetime.weekday()))"
   ]
  },
  {
   "cell_type": "markdown",
   "metadata": {},
   "source": [
    "Les dues alternatives fan servir convencions diferents per referir-se als dies de la setmana: [`weekday`](https://docs.python.org/3.8/library/datetime.html#datetime.datetime.weekday) considera que el dilluns és un 0 i el Diumenge és un 6, mentre que [`isocalendar`](https://docs.python.org/3.8/library/datetime.html#datetime.datetime.isocalendar) representa els dilluns amb un 1 i els diumenges amb 7.\n",
    "\n",
    "Per a convertir el valor numèric retornat per [`weekday`](https://docs.python.org/3.8/library/datetime.html#datetime.datetime.weekday) a una cadena de caràcters amb el nom del dia de la setmana, podem fer servir el mòdul [`calendar`](https://docs.python.org/3.8/library/calendar.html):"
   ]
  },
  {
   "cell_type": "code",
   "execution_count": null,
   "metadata": {},
   "outputs": [],
   "source": [
    "# Importem el mòdul calendar\n",
    "import calendar\n",
    "\n",
    "# Obtenim el nom del dia\n",
    "print('Day of Week: ', calendar.day_name[now_datetime.weekday()])\n",
    "\n",
    "# Alternativament, també haguéssim pogut fer servir strftime per obtenir la\n",
    "# mateixa dada\n",
    "print(now_datetime.strftime(\"Short day name: %a\"))\n",
    "print(now_datetime.strftime(\"Full day name: %A\"))"
   ]
  },
  {
   "cell_type": "markdown",
   "metadata": {},
   "source": [
    "La gestió de l'idioma en què es mostren els noms dels dies de la setmana o dels mesos es configura amb el mòdul [`locale`](https://docs.python.org/3.8/library/locale.html). Així, per exemple, si volem obtenir el nom del dia de la setmana en català, faríem:"
   ]
  },
  {
   "cell_type": "code",
   "execution_count": null,
   "metadata": {},
   "outputs": [],
   "source": [
    "# Importem el mòdul locale\n",
    "import locale\n",
    "\n",
    "# Especifiquem l'idioma català\n",
    "locale.setlocale(locale.LC_ALL, 'ca_ES.UTF-8')\n",
    "\n",
    "# Mostrem el nom del dia\n",
    "print('Day of Week:', calendar.day_name[now_datetime.weekday()])"
   ]
  },
  {
   "cell_type": "markdown",
   "metadata": {},
   "source": [
    "Una altra de les característiques que implementen els objectes de representació de dates i hores que treballem en aquesta unitat és la possibilitat de comparar-los:"
   ]
  },
  {
   "cell_type": "code",
   "execution_count": null,
   "metadata": {},
   "outputs": [],
   "source": [
    "# Importem la funció sleep, que permet introduir esperes en l'execució de codi\n",
    "from time import sleep\n",
    "\n",
    "# Obtenim la data i hora actuals\n",
    "now_1_dt = datetime.datetime.now()\n",
    "# Esperem 3 segons\n",
    "sleep(3)\n",
    "# Obtenim la data i hora actuals (després de l'espera de 3 segons)\n",
    "now_2_dt = datetime.datetime.now()\n",
    "\n",
    "# Comparem les dues dates\n",
    "print('now_1_dt == now_2_dt: {}'.format(now_1_dt == now_2_dt))\n",
    "print('now_1_dt < now_2_dt: {}'.format(now_1_dt < now_2_dt))\n",
    "print('now_1_dt.date() == now_2_dt.date(): {}'\n",
    "      .format(now_1_dt.date() == now_2_dt.date()))"
   ]
  },
  {
   "cell_type": "markdown",
   "metadata": {},
   "source": [
    "Els dos valors de data i hora no són iguals (ja que hi ha tres segons de diferència) però, en canvi, el dia sí que és el mateix (llevat que executem el codi just en el moment en què canviem de dia)."
   ]
  },
  {
   "cell_type": "markdown",
   "metadata": {},
   "source": [
    "## 2.4. Increments de temps\n",
    "\n",
    "Una altra de les classes que incorpora el mòdul [`datetime`](https://docs.python.org/3.8/library/datetime.html) és [`timedelta`](https://docs.python.org/3.8/library/datetime.html#timedelta-objects). Aquesta classe ens permet representar increments de temps, així com manipular dates i hores utilitzant aquests increments.\n",
    "\n",
    "Fixem-nos, per exemple, en les dues dates que hem creat anteriorment amb diferència de tres segons. Hem vist que les podíem comparar, per saber quina és anterior o si són iguals. Ara bé, com podríem saber el temps que ha transcorregut entre una i l'altra? Podríem calcular-ho manualment a partir d'anar recuperant les diferents components de la data amb hora, però la classe [`timedelta`](https://docs.python.org/3.8/library/datetime.html#timedelta-objects) ja implementa aquesta funcionalitat:"
   ]
  },
  {
   "cell_type": "code",
   "execution_count": null,
   "metadata": {},
   "outputs": [],
   "source": [
    "# Calculem el temps transcorregut i el mostrem\n",
    "delta = now_2_dt - now_1_dt\n",
    "print(\"Datetimes differ in: {} seconds\".format(delta))\n",
    "print(\"Delta is: {}\".format(type(delta)))"
   ]
  },
  {
   "cell_type": "markdown",
   "metadata": {},
   "source": [
    "El resultat de restar dos objectes [`datetime`](https://docs.python.org/3.8/library/datetime.html#datetime-objects) és un objecte [`timedelta`](https://docs.python.org/3.8/library/datetime.html#timedelta-objects) que representa el temps transcorregut. A continuació, veurem alguns exemples més de com es fan servir objectes [`timedelta`](https://docs.python.org/3.8/library/datetime.html#timedelta-objects) per representar increments de temps:"
   ]
  },
  {
   "cell_type": "code",
   "execution_count": null,
   "metadata": {},
   "outputs": [],
   "source": [
    "# Creem tres datetimes\n",
    "dt_1 = datetime.datetime(year=2017, month=10, day=1,\n",
    "                         hour=17, minute=14, second=42)\n",
    "\n",
    "dt_2 = datetime.datetime(year=2017, month=12, day=1,\n",
    "                         hour=17, minute=14, second=42)\n",
    "\n",
    "dt_3 = datetime.datetime(year=2017, month=10, day=15,\n",
    "                         hour=20, minute=16, second=42)\n",
    "\n",
    "# Creem timedeltas amb les diferències\n",
    "tm_1 = dt_2 - dt_1\n",
    "tm_2 = dt_3 - dt_1\n",
    "tm_3 = dt_3 - dt_2\n",
    "print(\"Timedelta between dt_1 and dt_2: {}\".format(tm_1))\n",
    "print(\"Timedelta between dt_1 and dt_3: {}\".format(tm_2))\n",
    "print(\"Timedelta between dt_2 and dt_3: {}\".format(tm_3))"
   ]
  },
  {
   "cell_type": "markdown",
   "metadata": {},
   "source": [
    "Fixeu-vos com al mostrar per pantalla el valor d'un [`timedelta`](https://docs.python.org/3.8/library/datetime.html#timedelta-objects), obtenim una cadena de caràcters anotada (s'inclou el número de dies i la paraula `days`, seguida de l'hora informada amb hora:minut:segons). \n",
    "\n",
    "Si ho preferim, també podem obtenir el número de segons que representa el [`timedelta`](https://docs.python.org/3.8/library/datetime.html#timedelta-objects) com a valor numèric (en aquest cas, un [`float`](https://docs.python.org/3.8/library/functions.html#float)):"
   ]
  },
  {
   "cell_type": "code",
   "execution_count": null,
   "metadata": {},
   "outputs": [],
   "source": [
    "# Mostrem el número de segons del tm_1\n",
    "ts = tm_1.total_seconds()\n",
    "print(\"Seconds elapsed: {}\".format(ts))\n",
    "print(\"Result is: {}\".format(type(ts)))"
   ]
  },
  {
   "cell_type": "markdown",
   "metadata": {},
   "source": [
    "També podem construir un objecte [`timedelta`](https://docs.python.org/3.8/library/datetime.html#timedelta-objects) per obtenir dates passades o futures a partir d'una data de referència:"
   ]
  },
  {
   "cell_type": "code",
   "execution_count": null,
   "metadata": {},
   "outputs": [],
   "source": [
    "# Creem un timedelta de 3 setmanes\n",
    "d = datetime.timedelta(weeks=3)\n",
    "\n",
    "# Calculem quin dia serà d'aquí a tres setmanes\n",
    "future_3_weeks = now_1_dt + d\n",
    "print(\"The date in three weeks will be: {}\".format(future_3_weeks))\n",
    "\n",
    "# Calculem quin dia era fa tres setmanes\n",
    "past_3_weeks = now_1_dt - d\n",
    "print(\"The date three weeks ago was: {}\".format(past_3_weeks))"
   ]
  },
  {
   "cell_type": "markdown",
   "metadata": {},
   "source": [
    "Es poden crear objectes [`timedelta`](https://docs.python.org/3.8/library/datetime.html#timedelta-objects) especificant setmanes, dies, hores, minuts, segons, mil·lisegons o microsegons:"
   ]
  },
  {
   "cell_type": "code",
   "execution_count": null,
   "metadata": {},
   "outputs": [],
   "source": [
    "# Creem diversos timedeltas\n",
    "one_day = datetime.timedelta(days=1)\n",
    "eleven_seconds = datetime.timedelta(seconds=11)\n",
    "five_hours = datetime.timedelta(hours=5)\n",
    "eleven_and_so_seconds = datetime.timedelta(seconds=11.56845)\n",
    "one_microsecond = datetime.timedelta(microseconds=1)\n",
    "\n",
    "# Operem amb els timedeltas\n",
    "print(\"One day in the future: {}\".format(now_1_dt + one_day))\n",
    "print(\"One day in the past: {}\".format(now_1_dt - one_day))\n",
    "print(\"Adding one microsecond: {}\".format(now_1_dt + one_microsecond))"
   ]
  },
  {
   "cell_type": "markdown",
   "metadata": {},
   "source": [
    "## 2.5. El calendari\n",
    "\n",
    "En els exemples que hem vist a l'apartat anterior, hem fet servir el mòdul [`calendar`](https://docs.python.org/3.8/library/calendar.html#module-calendar) per a obtenir el nom del dia de la setmana corresponent a una data concreta. Les funcionalitats d'aquest mòdul, però, no es limiten al càlcul del dia de la setmana. El mòdul [`calendar`](https://docs.python.org/3.8/library/calendar.html#module-calendar), com el seu nom indica, ens proveeix de funcionalitats relatives al calendari.\n",
    "\n",
    "Un exemple de les funcionalitats més evidents d'un calendari és mostrar el mateix calendari."
   ]
  },
  {
   "cell_type": "code",
   "execution_count": null,
   "metadata": {},
   "outputs": [],
   "source": [
    "# Mostrem el calendari de l'any 2020\n",
    "print(calendar.calendar(2020))"
   ]
  },
  {
   "cell_type": "code",
   "execution_count": null,
   "metadata": {},
   "outputs": [],
   "source": [
    "# Mostrem el calendari de l'octubre de 2020\n",
    "print(calendar.month(2020, 10))"
   ]
  },
  {
   "cell_type": "markdown",
   "metadata": {},
   "source": [
    "Entre altres funcionalitats, el mòdul [`calendar`](https://docs.python.org/3.8/library/calendar.html#module-calendar) ens permet saber si un any és o no de traspàs amb la funció [`isleap`](https://docs.python.org/3.8/library/calendar.html#calendar.isleap), o bé comptar el número de dies de traspàs que hi ha entre dos anys:"
   ]
  },
  {
   "cell_type": "code",
   "execution_count": null,
   "metadata": {},
   "outputs": [],
   "source": [
    "# Calculem si l'any 2020 és de traspàs\n",
    "calendar.isleap(2020)"
   ]
  },
  {
   "cell_type": "code",
   "execution_count": null,
   "metadata": {},
   "outputs": [],
   "source": [
    "# Calculem el número de dies de traspàs entre els anys\n",
    "# 2000 i 2050\n",
    "calendar.leapdays(2020, 2050)"
   ]
  },
  {
   "cell_type": "markdown",
   "metadata": {},
   "source": [
    "## 2.6. Recapitulant\n",
    "\n",
    "A l'inici d'aquesta secció, ens plantejàvem un conjunt de preguntes relacionades amb la gestió de les dates i les hores que semblaven, a priori, poc directes de resoldre. Com a punt final de la secció, respondrem a aquestes preguntes fent servir el que hem après en aquesta unitat, i constatarem com pot ser de fàcil contestar-les amb les eines adequades.\n",
    "\n",
    "En primer lloc, ens plantejàvem com obtenir el dia de la setmana (dilluns, dimarts ... diumenge) corresponent a una data concreta.\n",
    "\n",
    "A partir d'un objecte [`date`](https://docs.python.org/3.8/library/datetime.html#date-objects) (o [`datetime`](https://docs.python.org/3.8/library/datetime.html#datetime-objects)) que representa una data, hem presentat dues maneres diferents d'obtenir el dia de la setmana:"
   ]
  },
  {
   "cell_type": "code",
   "execution_count": null,
   "metadata": {},
   "outputs": [],
   "source": [
    "# Creem un objecte date que representa una data concreta\n",
    "a_date = datetime.date(year=2022, month=12, day=25)\n",
    "\n",
    "# Alternativa 1: Obtenim el dia amb .weekday() i el nom del dia amb el mètode\n",
    "# day_name del mòdul calendar\n",
    "print('Day of Week:', calendar.day_name[a_date.weekday()])\n",
    "\n",
    "# Alternativa 2: Fem servir strftime per obtenir el nom del dia de la setmana\n",
    "print(a_date.strftime(\"Day of Week: %A\"))"
   ]
  },
  {
   "cell_type": "markdown",
   "metadata": {},
   "source": [
    "En segon lloc, volíem descobrir si les cadenes de caràcters \"2019-11-15\" i \"Friday, November 15, 2019\" corresponien o no a la mateixa data.\n",
    "\n",
    "Podem crear dos objectes [`date`](https://docs.python.org/3.8/library/datetime.html#date-objects) que representin les dates expressades per cadascuna de les cadenes de caràcters i, després, comparar-los per comprovar la seva igualtat:"
   ]
  },
  {
   "cell_type": "code",
   "execution_count": null,
   "metadata": {},
   "outputs": [],
   "source": [
    "# Creem dos objectes date a partir de les cadenes de caràcters, especificant\n",
    "# com a idioma l'anglès per a interpretar correctament la segona cadena\n",
    "date_1 = datetime.datetime.strptime(\"2019-11-15\", \"%Y-%m-%d\")\n",
    "locale.setlocale(locale.LC_ALL, 'en_GB.UTF-8')\n",
    "date_2 = datetime.datetime.strptime(\"Friday, November 15, 2019\",\n",
    "                                    \"%A, %B %d, %Y\")\n",
    "\n",
    "# Comparem la igualtat de les dates creades\n",
    "date_1 == date_2"
   ]
  },
  {
   "cell_type": "markdown",
   "metadata": {},
   "source": [
    "En tercer lloc, volíem saber quin dia serà d'aquí a 30 dies.\n",
    "\n",
    "Podem combinar la funcionalitat d'obtenció de la data actual amb un [`timedelta`](https://docs.python.org/3.8/library/datetime.html#timedelta-objects) que representi 30 dies per tal de saber quin dia serà d'aquí a 30 dies:"
   ]
  },
  {
   "cell_type": "code",
   "execution_count": null,
   "metadata": {},
   "outputs": [],
   "source": [
    "# Creem un objecte amb la data actual\n",
    "now_date = datetime.date.today()\n",
    "\n",
    "# Creem un datetime de 30 dies\n",
    "dt_30days = datetime.timedelta(days=30)\n",
    "\n",
    "# Sumem els 30 dies a la data actual\n",
    "print(now_date + dt_30days)"
   ]
  },
  {
   "cell_type": "markdown",
   "metadata": {},
   "source": [
    "Finalment, ens preguntàvem si l'any 2200 serà o no un any de traspàs.\n",
    "\n",
    "El mòdul [`calendar`](https://docs.python.org/3.8/library/calendar.html#module-calendar) ens permet comprovar si un any és de traspàs amb el mètode [`isleap`](https://docs.python.org/3.8/library/calendar.html#calendar.isleap):"
   ]
  },
  {
   "cell_type": "code",
   "execution_count": null,
   "metadata": {},
   "outputs": [],
   "source": [
    "# Comprovem si l'any 2200 és un any de traspàs\n",
    "calendar.isleap(2200)"
   ]
  },
  {
   "cell_type": "markdown",
   "metadata": {},
   "source": [
    "# 3. Cadenes de caràcters\n",
    "\n",
    "Ja coneixem algunes de les funcions de manipulació de cadenes de caràcters bàsiques, que ens permeten concatenar cadenes entre elles, formar cadenes a partir d'altres cadenes i de variables numèriques, particionar cadenes (fent servir *slicing*) i crear cadenes de caràcters a partir de llistes. Iniciarem aquesta secció fent un repàs d'aquestes funcions bàsiques:"
   ]
  },
  {
   "cell_type": "code",
   "execution_count": null,
   "metadata": {},
   "outputs": [],
   "source": [
    "# Creem 4 cadenes de caràcters\n",
    "str_1 = \"Today is:\"\n",
    "str_2 = \"Friday\"\n",
    "str_3 = \"Coding day\"\n",
    "pep_20 = \"Beautiful is better than ugly.\\nExplicit is better than implicit.\""
   ]
  },
  {
   "cell_type": "code",
   "execution_count": null,
   "metadata": {},
   "outputs": [],
   "source": [
    "# Creem noves cadenes concatenant les cadenes anteriors amb espais que les\n",
    "# separen\n",
    "str_4 = str_1 + \" \" + str_2\n",
    "print(str_4)\n",
    "str_5 = str_1 + \" \" + str_3\n",
    "print(str_5)"
   ]
  },
  {
   "cell_type": "code",
   "execution_count": null,
   "metadata": {},
   "outputs": [],
   "source": [
    "# Creem cadenes a partir de valors de variables numèriques\n",
    "str_6 = str_1 + \" my {}th day of programming\".format(6)\n",
    "print(str_6)"
   ]
  },
  {
   "cell_type": "code",
   "execution_count": null,
   "metadata": {},
   "outputs": [],
   "source": [
    "# També podem fer servir la funcionalitat de les cadenes-f per formatar text\n",
    "# de manera compacta\n",
    "days = 6\n",
    "f'{str_1} my {days}th day of programming'"
   ]
  },
  {
   "cell_type": "code",
   "execution_count": null,
   "metadata": {},
   "outputs": [],
   "source": [
    "# Mostrem els 9 primers caràcters de la cadena pep_20\n",
    "print(pep_20[:9])\n",
    "# Mostrem els caràcters del 25 al 29 (aquest últim no inclòs)\n",
    "print(pep_20[25:29])\n",
    "# Mostrem l'últim caràcter\n",
    "print(pep_20[-1:])"
   ]
  },
  {
   "cell_type": "code",
   "execution_count": null,
   "metadata": {},
   "outputs": [],
   "source": [
    "# Creem una cadena a partir d'una llista de cadenes\n",
    "a_list_of_str = [\"A\", \"B\", \"C\", \"D\"]\n",
    "\"\".join(a_list_of_str)"
   ]
  },
  {
   "cell_type": "code",
   "execution_count": null,
   "metadata": {},
   "outputs": [],
   "source": [
    "# Creem una cadena de caràcters amb els números del 0 al 9 separats per espais\n",
    "\" \".join([str(x) for x in list(range(10))])"
   ]
  },
  {
   "cell_type": "code",
   "execution_count": null,
   "metadata": {},
   "outputs": [],
   "source": [
    "# Creem una cadena de caràcters amb els números del 0 al 9 separats per comes\n",
    "# i espais\n",
    "\", \".join([str(x) for x in list(range(10))])"
   ]
  },
  {
   "cell_type": "markdown",
   "metadata": {},
   "source": [
    "## 3.1 Manipulació de cadenes de caràcters\n",
    "\n",
    "A l'hora de processar una cadena de caràcters, sovint serà necessari particionar-la, per tal de manipular-ne els fragments de manera individual. La funció [`split`](https://docs.python.org/3.8/library/stdtypes.html#str.split) permet particionar una cadena de caràcters, obtenint com a resultat una llista de subcadenes de la cadena original.\n",
    "\n",
    "Cridada sense arguments, la funció [`split`](https://docs.python.org/3.8/library/stdtypes.html#str.split) fa servir caràcters en blanc (espais, tabuladors, salts de línia, etc.) com a separadors, i retorna una llista de les subcadenes separades, ometent aquests separadors:"
   ]
  },
  {
   "cell_type": "code",
   "execution_count": null,
   "metadata": {},
   "outputs": [],
   "source": [
    "# Separem la cadena pep_20\n",
    "print(pep_20)\n",
    "pep_20.split()"
   ]
  },
  {
   "cell_type": "markdown",
   "metadata": {},
   "source": [
    "Fixeu-vos que les paraules 'ugly.' i 'Explicit' queden separades com a dues subcadenes diferents, ja que el salt de línia entre una i l'altra s'interpreta com a separador. En canvi, si volem que se separin les paraules considerant únicament els espais en blanc, podem indicar-ho afegint l'argument `sep` a la crida:"
   ]
  },
  {
   "cell_type": "code",
   "execution_count": null,
   "metadata": {},
   "outputs": [],
   "source": [
    "# Separem la cadena pep_20 considerant només els espais com a separadors\n",
    "pep_20.split(sep=\" \")"
   ]
  },
  {
   "cell_type": "markdown",
   "metadata": {},
   "source": [
    "Podem fer servir qualsevol caràcter (o cadena) com a separador:"
   ]
  },
  {
   "cell_type": "code",
   "execution_count": null,
   "metadata": {},
   "outputs": [],
   "source": [
    "# Separem la cadena per les lletres \"a\"\n",
    "pep_20.split(\"a\")"
   ]
  },
  {
   "cell_type": "code",
   "execution_count": null,
   "metadata": {},
   "outputs": [],
   "source": [
    "# Separem la cadena fent servir la cadena \"better\" com a separador\n",
    "pep_20.split(\"better\")"
   ]
  },
  {
   "cell_type": "markdown",
   "metadata": {},
   "source": [
    "Una altra de les operacions de processament de cadenes d'ús comú és fer un recompte del nombre d'aparicions d'una subcadena dins d'una cadena:"
   ]
  },
  {
   "cell_type": "code",
   "execution_count": null,
   "metadata": {},
   "outputs": [],
   "source": [
    "# Comptem quantes vegades apareix la lletra \"a\" a la cadena pep_20\n",
    "pep_20_a_num = pep_20.count(\"a\")\n",
    "print(\"PEP20 string has {} 'a'\".format(pep_20_a_num))\n",
    "# Comptem quantes vegades apareix la subcadena \"better\" a la cadena pep_20\n",
    "pep_20_bet_num = pep_20.count(\"better\")\n",
    "print(\"PEP20 string has {} 'better'\".format(pep_20_bet_num))\n",
    "# Comptem quants espais en blanc té la cadena pep_20\n",
    "pep_20_ws_num = pep_20.count(\" \")\n",
    "print(\"PEP20 string has {} whitespaces\".format(pep_20_ws_num))"
   ]
  },
  {
   "cell_type": "markdown",
   "metadata": {},
   "source": [
    "Hem vist com comptar el nombre d'aparicions d'una subcadena. Com ho faríem, però, si volguéssim saber on són aquestes aparicions? La funció [`find`](https://docs.python.org/3.8/library/stdtypes.html#str.find) ens retorna l'índex on s'inicia una subcadena, o retorna `-1` si tal subcadena no existeix:"
   ]
  },
  {
   "cell_type": "code",
   "execution_count": null,
   "metadata": {},
   "outputs": [],
   "source": [
    "# Busquem l'índex de la primera aparició de 'beter'\n",
    "str_to_search = \"beter\"\n",
    "ind_better = pep_20.find(str_to_search)\n",
    "print(\"'beter' starts at position {}\".format(ind_better))\n",
    "\n",
    "# Busquem l'índex de la primera aparició de 'better'\n",
    "str_to_search = \"better\"\n",
    "ind_better = pep_20.find(str_to_search)\n",
    "print(\"'better' starts at position {}\".format(ind_better))"
   ]
  },
  {
   "cell_type": "markdown",
   "metadata": {},
   "source": [
    "La cadena `better` apareix dues vegades dins de la cadena emmagatzemada a la variable `pep_20`. La funció [`find`](https://docs.python.org/3.8/library/stdtypes.html#str.find) retorna l'índex de la primera aparició. Si volem trobar els índexs de la resta d'aparicions, caldrà indicar un segon paràmetre a la crida de [`find`](https://docs.python.org/3.8/library/stdtypes.html#str.find), especificant la posició d'inici de la cerca:"
   ]
  },
  {
   "cell_type": "code",
   "execution_count": null,
   "metadata": {},
   "outputs": [],
   "source": [
    "# Busquem l'índex de la segona aparició de 'better'\n",
    "ind2_better = pep_20.find(str_to_search, ind_better+1)\n",
    "print(\"Next 'better' starts at position {}\".format(ind2_better))"
   ]
  },
  {
   "cell_type": "code",
   "execution_count": null,
   "metadata": {},
   "outputs": [],
   "source": [
    "# Busquem l'índex de la tercera aparició de 'better'\n",
    "ind3_better = pep_20.find(str_to_search, ind2_better+1)\n",
    "print(\"Next 'better' starts at position {}\".format(ind3_better))"
   ]
  },
  {
   "cell_type": "markdown",
   "metadata": {},
   "source": [
    "Com que `better` només hi apareix dues vegades, la tercera vegada que fem la cerca la crida a [`find`](https://docs.python.org/3.8/library/stdtypes.html#str.find) retorna `-1`, indicant que ja no hi ha més aparicions.\n",
    "\n",
    "En algunes aplicacions, no estarem interessats a comptar el nombre d'aparicions d'una subcadena ni en saber on és aquesta subcadena, sinó simplement en substituir-la per alguna altra cadena. En aquests casos, podem fer servir [`replace`](https://docs.python.org/3.8/library/stdtypes.html#str.replace), que substitueix totes les aparicions d'una subcadena per una altra cadena:"
   ]
  },
  {
   "cell_type": "code",
   "execution_count": null,
   "metadata": {},
   "outputs": [],
   "source": [
    "# Substituim els espais en blanc per guions\n",
    "print(pep_20.replace(\" \", \"_\"), \"\\n\")\n",
    "# Substituim 'better' per 'worse'\n",
    "print(pep_20.replace(\"better\", \"worse\"), \"\\n\")\n",
    "# Eliminem els espais en blanc substituint-los una cadena buida\n",
    "print(pep_20.replace(\" \", \"\"))"
   ]
  },
  {
   "cell_type": "markdown",
   "metadata": {},
   "source": [
    "A l'últim exemple s'eliminen tots els espais en blanc. A vegades, però, ens interessarà eliminar els espais en blanc que hi ha davant d'una cadena o darrere d'aquesta (o ambdós conjunts d'espais). Per a aquestes situacions, trobem les funcions [`lstrip`](https://docs.python.org/3.8/library/stdtypes.html#str.lstrip) (eliminar els espais en blanc de l'esquerra o l'inici de la cadena), [`rstrip`](https://docs.python.org/3.8/library/stdtypes.html#str.rstrip) (eliminar els espais de la dreta o el final de la cadena) i [`strip`](https://docs.python.org/3.8/library/stdtypes.html#str.strip) (elimina els espais en blanc de davant i darrere de la cadena):"
   ]
  },
  {
   "cell_type": "code",
   "execution_count": null,
   "metadata": {},
   "outputs": [],
   "source": [
    "# Creem una cadena amb espais en blanc\n",
    "str_with_spaces = \"   A lot of   spaces \"\n",
    "\n",
    "# Mostrem el resultat d'aplicar rstrip, lstrip i strip a la cadena\n",
    "print(\"String: #{}#\\n\".format(str_with_spaces))\n",
    "print(\"rstrip: #{}#\".format(str_with_spaces.rstrip()))\n",
    "print(\"lstrip: #{}#\".format(str_with_spaces.lstrip()))\n",
    "print(\"strip:  #{}#\".format(str_with_spaces.strip()))"
   ]
  },
  {
   "cell_type": "markdown",
   "metadata": {},
   "source": [
    "És interessant notar que les funcions [`strip`](https://docs.python.org/3.8/library/stdtypes.html#str.strip), [`rstrip`](https://docs.python.org/3.8/library/stdtypes.html#str.rstrip) i [`lstrip`](https://docs.python.org/3.8/library/stdtypes.html#str.lstrip) eliminen tots els espais en blanc que es troben en la posició que estan processant (davant, darrere o en les dues posicions) però, en canvi, no tenen cap efecte sobre la resta d'espais de la cadena (per exemple, l'espai en blanc entre 'A' i 'lot' mai es veu afectat per l'execució d'aquestes funcions)."
   ]
  },
  {
   "cell_type": "markdown",
   "metadata": {},
   "source": [
    "## 3.2 Expressions regulars\n",
    "\n",
    "Malgrat que les funcions que hem vist fins ara són molt potents, es queden curtes per afrontar molts dels problemes que trobarem a l'hora de preprocessar dades que continguin cadenes de text. \n",
    "\n",
    "Per exemple, si volguéssim separar una cadena particionant-la per qualsevol vocal (en comptes de només la lletra 'a' com hem fet a l'exemple anterior), com ho faríem? Amb el que hem vist fins ara, hauríem d'anar separant vocal a vocal, processant en cada cas totes les subcadenes ja separades per les vocals anteriors. \n",
    "\n",
    "Un altre exemple seria si volguéssim buscar no només la paraula 'better' dins d'una cadena, sinó qualsevol paraula de sis lletres, o potser buscar paraules que comencessin amb 'b' i acabessin amb 'tter', amb qualsevol lletra o lletres entre la 'b' i 'tter'. Com podríem implementar-ho amb les funcions que hem vist fins ara? Certament, seria possible, però el codi seria complex.\n",
    "\n",
    "Per afrontar aquest tipus de problemes, s'acostumen a fer servir **expressions regulars** (també conegudes com a *regexes*, una contracció del terme en anglès, *regular expressions*). Una expressió regular és una expressió que fa servir un llenguatge especialitzat de descripció de cadenes de caràcters. Aquest llenguatge ens permet expressar amb facilitat condicions que descriuen com ha de ser una cadena, com ara les que hem exemplificat anteriorment (una cadena que representi qualsevol vocal, una cadena de sis lletres, una cadena que comenci amb 'b' i acabi amb 'tter', etc.). Aquestes expressions es poden fer servir, després, per tasques com les que hem exposat anteriorment: buscar subcadenes dins de cadenes, separar cadenes, substituir subcadenes per altres subcadenes, etc.\n",
    "\n",
    "En aquest apartat, veurem doncs com podem fer servir expressions regulars per a processar cadenes de caràcters. En primer lloc, veurem les funcions que ens ofereix el mòdul [`re`](https://docs.python.org/3.8/library/re.html). En segon lloc, presentarem una introducció a la sintaxi de les expressions regulars.\n",
    "\n",
    "### 3.2.1 Funcions del mòdul `re`\n",
    "\n",
    "El mòdul [`re`](https://docs.python.org/3.8/library/re.html) és la interfície del motor d'expressions regulars per a Python. Per tant, caldrà importar-lo quan vulguem treballar amb *regexes*. \n",
    "\n",
    "El mòdul té funcions equivalents a les que hem vist anteriorment, però que treballen amb expressions regulars en comptes de treballar amb cadenes de caràcters:\n",
    "* [`split`](https://docs.python.org/3.8/library/re.html#re.split): té el mateix comportament que el mètode [`split`](https://docs.python.org/3.8/library/stdtypes.html#str.split) d'[`str`](https://docs.python.org/3.8/library/stdtypes.html#str), permetent separar cadenes considerant un separador, que en aquest cas estarà expressat amb una expressió regular. \n",
    "* [`search`](https://docs.python.org/3.8/library/re.html#re.search): té un comportament similar a [`find`](https://docs.python.org/3.8/library/stdtypes.html#str.find) d'[`str`](https://docs.python.org/3.8/library/stdtypes.html#str), permetent trobar la primera aparició d'una subcadena dins d'una cadena. En aquest cas, la subcadena a buscar s'expressa com una expressió regular.\n",
    "* [`sub`](https://docs.python.org/3.8/library/re.html#re.sub): té un comportament similar a [`replace`](https://docs.python.org/3.8/library/stdtypes.html#str.replace) d'[`str`](https://docs.python.org/3.8/library/stdtypes.html#str), permetent substituir subcadenes per una altra cadena. En aquest cas, la subcadena a substituir s'expressa com una expressió regular.\n",
    "\n",
    "Addicionalment, també incorpora altres funcions que són d'utilitat, com ara:\n",
    "\n",
    "* [`findall`](https://docs.python.org/3.8/library/re.html#re.findall): que permet buscar totes les aparicions (no solapades) d'una subcadena dins d'una altra cadena.\n",
    "\n",
    "A continuació, veurem com podem fer servir aquestes funcions sense aprofitar la funcionalitat de les expressions regulars (que presentarem al següent apartat).\n",
    "\n",
    "La funció [`split`](https://docs.python.org/3.8/library/re.html#re.split) actua de manera anàloga a l'[`split`](https://docs.python.org/3.8/library/stdtypes.html#str.split) d'[`str`](https://docs.python.org/3.8/library/stdtypes.html#str), retornant una llista amb les subcadenes separades per un separador:"
   ]
  },
  {
   "cell_type": "code",
   "execution_count": null,
   "metadata": {},
   "outputs": [],
   "source": [
    "# Importem el mòdul re\n",
    "import re\n",
    "\n",
    "# Separem la cadena per les lletres \"a\"\n",
    "re.split('a', pep_20)"
   ]
  },
  {
   "cell_type": "markdown",
   "metadata": {},
   "source": [
    "Ara, però, la primera cadena (`a`) podrà ser també una expressió regular, que ens descrigui com ha de ser el separador a fer servir.\n",
    "\n",
    "La funció [`search`](https://docs.python.org/3.8/library/re.html#re.search) busca la primera aparició d'una subcadena en una altra cadena. A diferència de [`find`](https://docs.python.org/3.8/library/stdtypes.html#str.find), no retorna directament l'índex d'inici de la coincidència, sinó un objecte [`match`](https://docs.python.org/3.8/library/re.html#match-objects) que conté informació addicional sobre la coincidència:"
   ]
  },
  {
   "cell_type": "code",
   "execution_count": null,
   "metadata": {},
   "outputs": [],
   "source": [
    "# Busquem l'índex de la primera aparició de 'better'\n",
    "str_to_search = \"better\"\n",
    "srch_better = re.search(str_to_search, pep_20)\n",
    "print(\"The returned object is: {}\".format(type(srch_better)))\n",
    "print(\"that contains: {}\".format(srch_better))\n",
    "print(\"Substring starts at {} and ends at {}\".format(\n",
    "    srch_better.start(), srch_better.end()))"
   ]
  },
  {
   "cell_type": "markdown",
   "metadata": {},
   "source": [
    "En canvi, la funció [`findall`](https://docs.python.org/3.8/library/re.html#re.findall) ens retornarà una llista amb totes les coincidències d'una expressió regular:"
   ]
  },
  {
   "cell_type": "code",
   "execution_count": null,
   "metadata": {},
   "outputs": [],
   "source": [
    "# Busquem totes les aparicions de 'better'\n",
    "srch_better = re.findall(str_to_search, pep_20)\n",
    "print(\"The returned object is: {}\".format(type(srch_better)))\n",
    "print(\"that contains: {}\".format(srch_better))"
   ]
  },
  {
   "cell_type": "markdown",
   "metadata": {},
   "source": [
    "Finalment, la funció [`sub`](https://docs.python.org/3.8/library/re.html#re.sub) substitueix totes les aparicions d'una subcadena per una altra:"
   ]
  },
  {
   "cell_type": "code",
   "execution_count": null,
   "metadata": {},
   "outputs": [],
   "source": [
    "# Substituim els espais en blanc per guions baixos\n",
    "print(re.sub(\" \", \"_\", pep_20))"
   ]
  },
  {
   "cell_type": "markdown",
   "metadata": {},
   "source": [
    "Fins ara hem vist com el mòdul [`re`](https://docs.python.org/3.8/library/re.html) ens permet fer les mateixes operacions que havíem vist sobre cadenes de caràcters. Anem a veure ara com podem explotar el potencial d'aquest mòdul fent servir el llenguatge de les expressions regulars.\n",
    "\n",
    "Les funcions que hem vist accepten un primer paràmetre que representa la subcadena a buscar, i que es fa servir com a separador (en [`split`](https://docs.python.org/3.8/library/re.html#re.split)), com a objectiu de la cerca ([`search`](https://docs.python.org/3.8/library/re.html#re.search) o [`findall`](https://docs.python.org/3.8/library/re.html#re.findall)) o bé com a cadena a substituir ([`sub`](https://docs.python.org/3.8/library/re.html#re.sub)). Més enllà de ser una cadena de caràcters, aquest primer paràmetre pot fer servir el llenguatge de les expressions regulars per a especificar condicions complexes sobre les cadenes a buscar."
   ]
  },
  {
   "cell_type": "markdown",
   "metadata": {},
   "source": [
    "### 3.2.2 Sintaxi de les expressions regulars\n",
    "\n",
    "En una expressió regular distingim dos tipus de caràcters:\n",
    "* Caràcters **normals**, que representen el mateix caràcter. Per exemple, una 'a' és una expressió regular vàlida que representa una cadena de caràcters d'un sol caràcter que és la mateixa lletra 'a'.\n",
    "* Caràcters **especials**, que serveixen o bé per representar grups de caràcters o bé per explicar com cal interpretar les expressions que els envolten.\n",
    "\n",
    "Així, per exemple, alguns caràcters especials es fan servir per representar **grups de caràcters**:\n",
    "* `.`: representa qualsevol caràcter (per defecte, qualsevol caràcter excepte la nova línia). \n",
    "* `\\d`: representa qualsevol dígit decimal.\n",
    "* `\\s`:  representa qualsevol espai en blanc.\n",
    "* `\\w`: representa caràcters que poden formar part d'una paraula (lletres majúscules i minúscules, números, el guionet baix).\n",
    "* `[]`: permet indicar un conjunt de caràcters, ja sigui individualment (`[abc]` permetria representar les cadenes `a`, `b` o `c`), o com a rang (`[A-Z]` representa totes les lletres en majúscula).\n",
    "\n",
    "Altres caràcters especials donen informació sobre **com interpretar** les expressions:\n",
    "* `|`: implementa l'operador OR, i permet crear una expressió regular que coincideixi o bé amb una expressió regular o bé amb una altra.\n",
    "\n",
    "També hi ha un conjunt de caràcters especials que permeten especificar **repeticions** d'expressions regulars. Així, els caràcters següents indiquen les repeticions de l'expressió que les precedeix:\n",
    "* `*`: 0 o més aparicions.\n",
    "* `+`: 1 o més aparicions.\n",
    "* `?`: 0 o 1 aparició.\n",
    "* `{m}`: exactament *m* aparicions.\n",
    "* `{m,n}`: entre *m* i _n_ aparicions. Si un dels dos valors s'omet, aleshores només s'informa del mínim o del màxim d'aparicions.\n"
   ]
  },
  {
   "cell_type": "markdown",
   "metadata": {},
   "source": [
    "### 3.2.3 Ús d'expressions regulars en la manipulació de cadenes\n",
    "\n",
    "Ara que ja coneixem les funcions de manipulació de cadenes del mòdul [`re`](https://docs.python.org/3.8/library/re.html) i la sintaxi bàsica del llenguatge de les expressions regulars, anem a veure com podem explotar el potencial d'ambdues funcionalitats juntes a través d'un seguit d'exemples. En primer lloc, veurem com podem resoldre alguns dels problemes que hem comentat anteriorment. En segon lloc, veurem exemples addicionals d'ús d'expressions regulars.\n",
    "\n",
    "Si volem separar una cadena de caràcters utilitzant qualsevol vocal com a separador, podem fer servir una expressió regular que representi totes les vocals i utilitzar-la amb la funció [`split`](https://docs.python.org/3.8/library/re.html#re.split). Els caràcters especials `[]` ens permeten expressar un conjunt de caràcters individuals, de manera que podem fer-los servir per expressar les vocals:"
   ]
  },
  {
   "cell_type": "code",
   "execution_count": null,
   "metadata": {},
   "outputs": [],
   "source": [
    "print(pep_20)\n",
    "\n",
    "# Separem la cadena per qualsevol vocal\n",
    "re.split(r'[aeiouAEIOU]', pep_20)"
   ]
  },
  {
   "cell_type": "markdown",
   "metadata": {},
   "source": [
    "Fixeu-vos com la llista conté diverses cadenes buides, que resulten de separar vocals contigües. D'altra banda, és interessant notar també que fem servir el prefix 'r' per indicar la cadena de caràcters que conforma l'expressió regular. El prefix 'r' indica que la cadena s'ha d'interpretar com a literal *en brut* (en anglès, *raw string literal*). \n",
    "\n",
    "Si volem separar les paraules, podem fer servir el caràcter especial `\\s`, per tenir en compte qualsevol espai en blanc com a separador (tant l'espai ` `  com el salt de línia `\\n` s'utilitzarien com a separador per a la cadena `pep_20`):"
   ]
  },
  {
   "cell_type": "code",
   "execution_count": null,
   "metadata": {},
   "outputs": [],
   "source": [
    "re.split(r'\\s', pep_20)"
   ]
  },
  {
   "cell_type": "markdown",
   "metadata": {},
   "source": [
    "En canvi, si volem separar les frases, podríem fer servir com a separador un el punt seguit d'un espai en blanc. Fixeu-vos que incloem l'espai en blanc després del punt, ja que si no l'última frase quedaria separada en dos pel punt final (la frase en si i una cadena buida), i el salt de línia quedaria inclòs a la segona frase:"
   ]
  },
  {
   "cell_type": "code",
   "execution_count": null,
   "metadata": {},
   "outputs": [],
   "source": [
    "# Separem la cadena per frases: les frases se separen per un punt\n",
    "# El resultat inclou una cadena buida al final, ja que l'últim punt\n",
    "# s'utilitza com a separador, així com el salt de línia\n",
    "re.split(r'\\.', pep_20)"
   ]
  },
  {
   "cell_type": "code",
   "execution_count": null,
   "metadata": {},
   "outputs": [],
   "source": [
    "# Separem la cadena per frases: les frases se separen per un punt seguit\n",
    "# d'un espai en blanc\n",
    "re.split(r'\\.\\s', pep_20)"
   ]
  },
  {
   "cell_type": "markdown",
   "metadata": {},
   "source": [
    "És important notar que per representar el punt, hem fet servir l'expressió `\\.` en comptes de `.`. El motiu és que, com hem vist, `.` és un caràcter especial que coincideix amb qualsevol caràcter. Si, al contrari, volem que l'expressió regular només coincideixi quan inclogui un punt (el caràcter '.'), aleshores caldrà **escapar** la seqüència, fent servir la contrabarra (`\\`).\n",
    "\n",
    "Un altre exemple que ens plantejàvem era com buscar paraules que comencin amb 'b' i acabin amb 'tter', amb qualsevol lletra o lletres entremig. Anem a veure com podríem enfocar aquest exemple. En primer lloc, veurem com buscar paraules que comencin amb 'b' i acabin amb 'tter', amb una única lletra entremig:\n"
   ]
  },
  {
   "cell_type": "code",
   "execution_count": null,
   "metadata": {},
   "outputs": [],
   "source": [
    "# Creem una variant de la cadena pep_20, que ens permetrà exemplificar les\n",
    "# diferents casuístiques\n",
    "pep_20_bis = \"Beautiful is better than ugly.\\nExplicit is better than \" \\\n",
    "    \"implicit. Butter Much Webetter. bitter. bYYYtter or btter. python.\"\n",
    "\n",
    "# Mostrem les cadenes d'exemple\n",
    "print(pep_20)\n",
    "print(\"\\n\")\n",
    "print(pep_20_bis)"
   ]
  },
  {
   "cell_type": "markdown",
   "metadata": {},
   "source": [
    "Una primera aproximació seria definir una expressió regular que comenci amb 'b', segueixi amb qualsevol caràcter que pugui formar part d'una paraula (que podem expressar amb el caràcter especial `\\w`), i acabi amb 'tter':"
   ]
  },
  {
   "cell_type": "code",
   "execution_count": null,
   "metadata": {},
   "outputs": [],
   "source": [
    "print(r\"b\\wtter in pep_20: {}\".format(re.findall(r\"b\\wtter\", pep_20)))\n",
    "print(r\"b\\wtter in pep_20_bis: {}\".format(re.findall(r\"b\\wtter\", pep_20_bis)))"
   ]
  },
  {
   "cell_type": "markdown",
   "metadata": {},
   "source": [
    "L'expressió sembla retornar els resultats esperats per a la cadena `pep_20` però, en canvi, per a la cadena `pep_20_bis` ens retorna un 'better' addicional i no és capaç d'identificar 'Butter'. Els motius d'aquest comportament són, d'una banda, que per defecte les expressions regulars són *case sensitive*, de manera que 'B' i 'b' es consideren cadenes diferents (i, per tant, 'Butter' no és una coincidència vàlida); i, d'altra banda, que no estem especificant delimitadors de les paraules, de manera que 'Webetter' és una coincidència vàlida per 'better'. \n",
    "\n",
    "Si volem que s'ignorin si les lletres són majúscules o minúscules a l'hora d'avaluar una expressió regular, podem fer servir el flag `IGNORECASE` a la crida:"
   ]
  },
  {
   "cell_type": "code",
   "execution_count": null,
   "metadata": {},
   "outputs": [],
   "source": [
    "print(r\"b\\wtter in pep_20_bis: {}\".format(\n",
    "    re.findall(r\"b\\wtter\", pep_20_bis, re.IGNORECASE)))"
   ]
  },
  {
   "cell_type": "markdown",
   "metadata": {},
   "source": [
    "D'aquesta manera, 'Butter' s'identifica correctament. \n",
    "\n",
    "D'altra banda, si volem buscar paraules completes (que no formin part d'altres paraules) podem especificar el(s) caràcter(s) que esperem trobar davant i darrere de la paraula:"
   ]
  },
  {
   "cell_type": "code",
   "execution_count": null,
   "metadata": {},
   "outputs": [],
   "source": [
    "# Delimitem les paraules per espais en blanc\n",
    "print(r\" b\\wtter  in pep_20_bis: {}\".format(\n",
    "    re.findall(r\" b\\wtter \", pep_20_bis, re.IGNORECASE)))\n",
    "# Delimitem les paraules per espais en blanc o bé punts\n",
    "print(r\"[ \\.]b\\wtter[ \\.] in pep_20_bis: {}\".format(\n",
    "    re.findall(r\"[ \\.]b\\wtter[ \\.]\", pep_20_bis, re.IGNORECASE)))"
   ]
  },
  {
   "cell_type": "markdown",
   "metadata": {},
   "source": [
    "En segon lloc, veurem ara com buscar paraules que comencin amb 'b' i acabin amb 'tter', però acceptant més d'una lletra entremig. A partir de l'expressió que hem fet servir per a una sola lletra entre les dues subcadenes, podem indicar que acceptem qualsevol nombre de repeticions de la lletra entre 'b' i 'tter' amb el modificador `*`, o bé exigir que, com a mínim, n'hi hagi una amb `+`:"
   ]
  },
  {
   "cell_type": "code",
   "execution_count": null,
   "metadata": {},
   "outputs": [],
   "source": [
    "print(\"Using *: {}\".format(\n",
    "    re.findall(r\"[ \\.]b\\w*tter[ \\.]\", pep_20_bis, re.IGNORECASE)))\n",
    "print(\"Using +: {}\".format(\n",
    "    re.findall(r\"[ \\.]b\\w+tter[ \\.]\", pep_20_bis, re.IGNORECASE)))"
   ]
  },
  {
   "cell_type": "markdown",
   "metadata": {},
   "source": [
    "Per últim, podríem fer servir una estratègia similar per identificar totes les paraules de sis lletres, delimitant-les per espais o bé punts, i fent servir el caràcter especial `\\w` repetit exactament sis vegades:"
   ]
  },
  {
   "cell_type": "code",
   "execution_count": null,
   "metadata": {},
   "outputs": [],
   "source": [
    "# Repetint el caràcter \\w 6 vegades explícitament:\n",
    "print(\"6 letter words: {}\".format(\n",
    "    re.findall(r\"[ \\.]\\w\\w\\w\\w\\w\\w[ \\.]\", pep_20_bis)))\n",
    "# Especificant el número de repeticions amb {}:\n",
    "print(\"6 letter words: {}\".format(\n",
    "    re.findall(r\"[ \\.]\\w{6}[ \\.]\", pep_20_bis)))"
   ]
  },
  {
   "cell_type": "markdown",
   "metadata": {},
   "source": [
    "Aquesta secció ha presentat una petita introducció a l'ús d'expressions regulars amb el mòdul [`re`](https://docs.python.org/3.8/library/re.html) de Python. Ara bé, hi ha molts altres caràcters especials i construccions que es poden fer amb el llenguatge de les expressions regulars, i que ens poden ser útils per a processar cadenes de caràcters. Per a continuar l'aprenentatge de l'ús d'expressions regulars en Python, us recomanem llegir el [*Regular Expression HOWTO*](https://docs.python.org/3/howto/regex.html#regex-howto) de la documentació oficial de Python.\n",
    "\n",
    "Addicionalment, si voleu descobrir tots els detalls sobre el llenguatge d'expressions regulars i sobre les funcions que implementa el mòdul `re` de Python, podeu dirigir-vos a la pàgina oficial del [mòdul `re`](https://docs.python.org/3/library/re.html).\n"
   ]
  },
  {
   "cell_type": "markdown",
   "metadata": {},
   "source": [
    "# 4. Exercicis per practicar\n",
    "\n",
    "A continuació hi trobareu un conjunt de problemes que us poden servir per a practicar els conceptes explicats en aquesta unitat. Us recomanem que intenteu fer aquests problemes vosaltres mateixos i que, una vegada realitzats, compareu la solució que us proposem amb la vostra solució. No dubteu a adreçar tots els dubtes que sorgeixin de la resolució d'aquests exercicis o bé de les solucions proposades al fòrum de l'aula.\n",
    "\n",
    "1. Decidiu quina és l'estructura de dades més adequada per respondre a cadascuna de les preguntes següents i escriviu el codi que permeti respondre-les.\n",
    "\n",
    "Disposem de dades d'un conjunt de ciutats del món. De cada ciutat, en sabem si té més de 14 milions d'habitants, si és capital del país on es troba, i si té una densitat de població per sobre els 20 000 habitants per $km^2$:\n",
    "* Les ciutats Shanghai, Beijing, Delhi, Istanbul, Karachi, Guangzhou i Kinshasa tenen més de 14 milions d'habitants. La resta de ciutats de les quals en tenim dades no tenen més de 14 milions d'habitants.\n",
    "* Les ciutats Delhi, Beijing, Kinshasa, Tokyo, Moscow, Jakarta, Seoul i Cairo són capitals del país on es troben. La resta de ciutats de les quals en tenim dades no són capitals.\n",
    "* Les ciutats Cairo, Kinshasa, Delhi i Tokyo tenen una densitat de població per sobre els 20 000 habitants per $km^2$. La resta de ciutats de les quals en tenim dades no superen els 20 000 habitants per $km^2$.\n",
    "\n",
    "1.1. De quantes ciutats (diferents) en tenim dades? Assumirem que no hi ha cap ciutat que no compleixi com a mínim una de les propietats anteriors."
   ]
  },
  {
   "cell_type": "code",
   "execution_count": null,
   "metadata": {},
   "outputs": [],
   "source": [
    "# Resposta"
   ]
  },
  {
   "cell_type": "markdown",
   "metadata": {},
   "source": [
    "1.2. Quantes ciutats tenen més de 14 milions d'habitants i una densitat de població per sobre dels 20 000 habitants per $km^2$?"
   ]
  },
  {
   "cell_type": "code",
   "execution_count": null,
   "metadata": {},
   "outputs": [],
   "source": [
    "# Resposta"
   ]
  },
  {
   "cell_type": "markdown",
   "metadata": {},
   "source": [
    "1.3. Quines ciutats tenen una densitat de població per sobre dels 20 000 habitants per $km^2$ però no més de 14 milions d'habitants?"
   ]
  },
  {
   "cell_type": "code",
   "execution_count": null,
   "metadata": {},
   "outputs": [],
   "source": [
    "# Resposta"
   ]
  },
  {
   "cell_type": "markdown",
   "metadata": {},
   "source": [
    "1.4. Quin és el país amb major nombre de ciutats per sobre de 14 milions d'habitants? Quantes ciutats d'aquestes característiques hi ha a cada país?\n",
    "\n",
    "Per respondre aquestes preguntes, ens faltarà afegir informació al conjunt de dades de ciutats del qual disposem per fer l'activitat. Penseu quina seria l'estructura de dades més adient per a emmagatzemar aquesta informació extra i calculeu la resposta a la pregunta plantejada."
   ]
  },
  {
   "cell_type": "code",
   "execution_count": null,
   "metadata": {},
   "outputs": [],
   "source": [
    "# Resposta"
   ]
  },
  {
   "cell_type": "markdown",
   "metadata": {},
   "source": [
    "1.5. Quins són els dos països adjacents que tenen el nombre més gran de ciutats per sobre de 14 milions d'habitants? \n",
    "\n",
    "Per respondre aquesta pregunta, ens faltarà afegir més informació al conjunt de dades de ciutats del qual disposem per fer l'activitat. Penseu quina seria l'estructura de dades més adient per a emmagatzemar aquesta informació extra i calculeu la resposta a la pregunta plantejada."
   ]
  },
  {
   "cell_type": "code",
   "execution_count": null,
   "metadata": {},
   "outputs": [],
   "source": [
    "# Resposta"
   ]
  },
  {
   "cell_type": "markdown",
   "metadata": {},
   "source": [
    "2. Calculeu quantes hores ha treballat la persona que ha escrit la següent frase:\n",
    "\n",
    "   \"I started working at 17:22:42 and finished at 22:00:00\""
   ]
  },
  {
   "cell_type": "code",
   "execution_count": null,
   "metadata": {},
   "outputs": [],
   "source": [
    "sentence = \"I started working at 17:22:42 and finished at 22:00:00\"\n",
    "\n",
    "# Resposta"
   ]
  },
  {
   "cell_type": "markdown",
   "metadata": {},
   "source": [
    "3. Donada la cadena de caràcters `sentence`, substituïu tots els espais en blanc per punts."
   ]
  },
  {
   "cell_type": "code",
   "execution_count": null,
   "metadata": {},
   "outputs": [],
   "source": [
    "sentence = \" From     time to time, Python makes  an    incompatible change \" \\\n",
    "    \" to the   advertised semantics of core language constructs   \"\n",
    "\n",
    "# Resposta"
   ]
  },
  {
   "cell_type": "markdown",
   "metadata": {},
   "source": [
    "4. Donada la mateixa cadena de caràcters de l'exercici anterior, substituïu tots els espais en blanc contigus per un únic punt. És a dir, si trobeu tres espais en blanc consecutius, aquests s'han de substituir per un únic punt, i no per tres punts com implementàvem a l'exercici anterior. Elimineu els espais que es troben a l'inici i al final de la cadena abans de substituir-los per punts."
   ]
  },
  {
   "cell_type": "code",
   "execution_count": null,
   "metadata": {},
   "outputs": [],
   "source": [
    "# Resposta"
   ]
  },
  {
   "cell_type": "markdown",
   "metadata": {},
   "source": [
    "5. Proporcioneu una llista amb totes les paraules de quatre lletres de la cadena de caràcters `sentence` que comencin per `t` o `F`."
   ]
  },
  {
   "cell_type": "code",
   "execution_count": null,
   "metadata": {},
   "outputs": [],
   "source": [
    "# Resposta"
   ]
  },
  {
   "cell_type": "markdown",
   "metadata": {},
   "source": [
    "6. Substituïu totes les majúscules de la cadena `sentence` per interrogants."
   ]
  },
  {
   "cell_type": "code",
   "execution_count": null,
   "metadata": {},
   "outputs": [],
   "source": [
    "# Resposta"
   ]
  },
  {
   "cell_type": "markdown",
   "metadata": {},
   "source": [
    "7. Una aerolínia ens contracta per ajudar-la a optimitzar el procediment d'embarcament dels seus avions. L'aerolínia disposa de tres classes de bitllets, primera, *business* i turista. A l'hora d'embarcar els clients se situen en tres cues, una per cada classe. Després, però, només hi ha dues hostesses que els validin la targeta d'embarcament, de manera que les tres cues inicials es converteixen en dues cues, a partir de les quals els passatgers accedeixen als avions.\n",
    "\n",
    "Actualment, l'aerolínia fa servir la següent estratègia per convertir les tres cues inicials (per classe) en les dues cues que embarquen (una per cada hostessa):\n",
    "\n",
    "D'una banda, els clients de primera i *business* van a parar a la cua 1 (cua  prioritària), intercalant un client de cada tipus a la cua prioritària sempre que hi hagi prou clients per fer-ho, i assignant després tots els clients restants a la nova cua. Així, el primer client que s'assigna a la cua prioritària és el primer client de la classe primera, el segon client de la cua prioritària serà el primer client de la cua de  *business*, el tercer client de la cua prioritària serà el segon client de la classe primera, etc.\n",
    "\n",
    "D'altra banda, els clients de classe turista van a parar a la cua 2 (cua no prioritària), seguint l'ordre que tenien a la cua de la classe turista. Ara bé, si un client de classe turista té mobilitat reduïda o va acompanyat de nens, aleshores aquest se situa al capdavant de la cua prioritària. Si hi ha més d'un client en aquestes condicions, l'ordre que segueixen a la cua de la classe turista es manté.\n",
    "\n",
    "Per tal d'avaluar com és de bona l'estratègia, l'aerolínia fa servir dues mètriques:\n",
    "1. El temps que es tarda a embarcar l'avió és 30 segons per passatger, considerant que les dues cues (1 i 2) embarquen alhora. És a dir, si la cua 1 té un passatger i la cua 2 en té dos, es tardarà un minut a embarcar.\n",
    "2. La satisfacció global dels seus clients, que es calcula fent la mitjana de la satisfacció de cada client, considerant que:"
   ]
  },
  {
   "cell_type": "markdown",
   "metadata": {},
   "source": [
    "* Els clients de primera tenen una satisfacció de -25 vegades el nombre de posicions que han perdut a la cua prioritària respecte a la seva posició original a la cua de primera. És a dir, un client que estava en 3a posició a la cua de primera i que ocupa la 5a posició de la cua prioritària, tindrà una satisfacció de -50.\n",
    "* Els clients de *business* sempre tenen una satisfacció de 0.\n",
    "* Els clients amb bitllet de classe turista que han estat moguts a la cua prioritària tenen una satisfacció de 100. En canvi, els que han estat moguts a la cua no prioritària tenen una satisfacció de 25 si han avançat alguna posició a la cua 2 respecte a la seva posició inicial a la cua de la classe turista, o de 0 en qualsevol altre cas.\n",
    "\n",
    "Com a analistes de dades, avaluarem la satisfacció i el temps de pujada a l'avió del vol 714."
   ]
  },
  {
   "cell_type": "markdown",
   "metadata": {},
   "source": [
    "7.1 Carregueu les dades dels passatgers del vol 714 que trobareu al conjunt de dades `data/flight714.csv` i creeu les tres cues primera, *business* i turista amb les dades dels passatgers. Els clients es troben ordenats segons la seva posició a la cua, amb la columna `client_class` indicant a quina de les cues pertanyen."
   ]
  },
  {
   "cell_type": "code",
   "execution_count": null,
   "metadata": {},
   "outputs": [],
   "source": [
    "# Resposta"
   ]
  },
  {
   "cell_type": "markdown",
   "metadata": {},
   "source": [
    "7.2 Mostreu quants passatgers hi ha a cada cua, amb el detall de quants d'ells tenen o bé criatures o bé mobilitat reduïda."
   ]
  },
  {
   "cell_type": "code",
   "execution_count": null,
   "metadata": {},
   "outputs": [],
   "source": [
    "# Resposta"
   ]
  },
  {
   "cell_type": "markdown",
   "metadata": {},
   "source": [
    "7.3 Implementeu una funció que generi les dues cues d'embarcament (cua prioritària i cua no prioritària) a partir de les tres cues obtingudes segons la classe del bitllet del passatger."
   ]
  },
  {
   "cell_type": "code",
   "execution_count": null,
   "metadata": {},
   "outputs": [],
   "source": [
    "# Resposta"
   ]
  },
  {
   "cell_type": "markdown",
   "metadata": {},
   "source": [
    "7.4 Implementeu una funció que calculi el temps que es tarda a embarcar l'avió i una funció que calculi la satisfacció dels passatgers."
   ]
  },
  {
   "cell_type": "code",
   "execution_count": null,
   "metadata": {},
   "outputs": [],
   "source": [
    "# Resposta"
   ]
  },
  {
   "cell_type": "markdown",
   "metadata": {},
   "source": [
    "7.5 Calculeu el temps que es tarda a embarcar el vol 714 i la satisfacció dels clients."
   ]
  },
  {
   "cell_type": "code",
   "execution_count": null,
   "metadata": {},
   "outputs": [],
   "source": [
    "# Resposta"
   ]
  },
  {
   "cell_type": "markdown",
   "metadata": {},
   "source": [
    "## 4.1. Solucions als exercicis per practicar\n",
    "\n",
    "1. Decidiu quina és l'estructura de dades més adequada per respondre a cadascuna de les preguntes següents i escriviu el codi que permeti respondre-la.\n",
    "\n",
    "Disposem de dades d'un conjunt de ciutats del món. De cada ciutat, en sabem si té més de 14 milions d'habitants, si és capital del país on es troba, i si té una densitat de població per sobre els 20 000 habitants per $km^2$:\n",
    "* Les ciutats Shanghai, Beijing, Delhi, Istanbul, Karachi, Guangzhou i Kinshasa tenen més de 14 milions d'habitants. La resta de ciutats de les quals en tenim dades no tenen més de 14 milions d'habitants.\n",
    "* Les ciutats Delhi, Beijing, Kinshasa, Tokyo, Moscow, Jakarta, Seoul i Cairo són capitals del país on es troben. La resta de ciutats de les quals en tenim dades no són capitals.\n",
    "* Les ciutats Cairo, Kinshasa, Delhi i Tokyo tenen una densitat de població per sobre els 20 000 habitants per $km^2$. La resta de ciutats de les quals en tenim dades no superen els 20 000 habitants per $km^2$.\n",
    "\n",
    "1.1. De quantes ciutats (diferents) en tenim dades? Assumirem que no hi ha cap ciutat que no compleixi com a mínim una de les propietats anteriors."
   ]
  },
  {
   "cell_type": "code",
   "execution_count": null,
   "metadata": {},
   "outputs": [],
   "source": [
    "# Resposta\n",
    "\n",
    "# Podem desar les dades en 3 conjunts, un per cadascuna de les propietats\n",
    "# que volem analitzar i calcular la unió d'aquests conjunts\n",
    "\n",
    "more_than_14M = {\"Shanghai\", \"Beijing\", \"Delhi\", \"Istanbul\", \"Karachi\",\n",
    "                 \"Guangzhou\", \"Kinshasa\"}\n",
    "capital = {\"Delhi\", \"Beijing\", \"Kinshasa\", \"Tokyo\", \"Moscow\", \"Jakarta\",\n",
    "           \"Seoul\", \"Cairo\"}\n",
    "more_than_20K = {\"Cairo\", \"Kinshasa\", \"Delhi\", \"Tokyo\"}\n",
    "\n",
    "print(\"We have data from {} different cities\"\n",
    "      .format(len(more_than_14M.union(capital).union(more_than_20K))))"
   ]
  },
  {
   "cell_type": "markdown",
   "metadata": {},
   "source": [
    "1.2. Quantes ciutats tenen més de 14 milions d'habitants i una densitat de població per sobre dels 20 000 habitants per $km^2$?"
   ]
  },
  {
   "cell_type": "code",
   "execution_count": null,
   "metadata": {},
   "outputs": [],
   "source": [
    "# Resposta\n",
    "\n",
    "# Podem aprofitar els 2 conjunts d'interès (more_than_14M i more_than_20K)\n",
    "# creats a l'apartat anterior, i calcular-ne la intersecció.\n",
    "\n",
    "print(\"There are {} cities with more than 14M inhabitants and a density \"\n",
    "      \"over 20K/km^2\".format(len(more_than_14M.intersection(more_than_20K))))"
   ]
  },
  {
   "cell_type": "markdown",
   "metadata": {},
   "source": [
    "1.3. Quines ciutats tenen una densitat de població per sobre dels 20 000 habitants per $km^2$ però no més de 14 milions d'habitants?"
   ]
  },
  {
   "cell_type": "code",
   "execution_count": null,
   "metadata": {},
   "outputs": [],
   "source": [
    "# Resposta\n",
    "\n",
    "# De nou, podem aprofitar els 2 conjunts d'interès (more_than_14M i\n",
    "# more_than_20K) creats al primer apartat, i calcular-ne ara la diferència.\n",
    "\n",
    "print(\"Cities with a density over 20K/km^2 and less than 14M inhabitants \"\n",
    "      \"different cities: {}\".format(more_than_20K.difference(more_than_14M)))"
   ]
  },
  {
   "cell_type": "markdown",
   "metadata": {},
   "source": [
    "1.4. Quin és el país amb major nombre de ciutats per sobre de 14 milions d'habitants? Quantes ciutats d'aquestes característiques hi ha a cada país?\n",
    "\n",
    "Per respondre aquestes preguntes, ens faltarà afegir informació al conjunt de dades de ciutats del qual disposem per fer l'activitat. Penseu quina seria l'estructura de dades més adient per a emmagatzemar aquesta informació extra i calculeu la resposta a la pregunta plantejada."
   ]
  },
  {
   "cell_type": "markdown",
   "metadata": {},
   "source": [
    "**Resposta:**\n"
   ]
  },
  {
   "cell_type": "code",
   "execution_count": null,
   "metadata": {},
   "outputs": [],
   "source": [
    "# Resposta\n",
    "\n",
    "# Desem el país al qual pertany cadascuna de les ciutats amb més de 14M\n",
    "# d'habitants\n",
    "city_country = {'Shanghai': 'China', 'Beijing': 'China',\n",
    "                'Delhi': 'India', 'Istanbul': 'Turkey',\n",
    "                'Karachi': 'Pakistan', 'Guangzhou': 'China',\n",
    "                'Kinshasa': 'Congo'}\n",
    "\n",
    "# Comptem quantes ciutats de més de 14M d'habitants hi ha a cada país\n",
    "cities_per_country = defaultdict(get_0)\n",
    "for k, v in city_country.items():\n",
    "    cities_per_country[v] += 1\n",
    "\n",
    "print(cities_per_country)\n",
    "\n",
    "# Recuperem el país amb més ciutats\n",
    "# Opció 1: recorrent el diccionari amb un bucle\n",
    "max_val = -1\n",
    "city = None\n",
    "for k, v in cities_per_country.items():\n",
    "    if v > max_val:\n",
    "        max_val = v\n",
    "        city = k\n",
    "print(city)"
   ]
  },
  {
   "cell_type": "code",
   "execution_count": null,
   "metadata": {},
   "outputs": [],
   "source": [
    "# Opció 2: recuperem la clau del diccionari amb valor màxim\n",
    "import operator\n",
    "print(max(cities_per_country.items(), key=operator.itemgetter(1))[0])"
   ]
  },
  {
   "cell_type": "markdown",
   "metadata": {},
   "source": [
    "1.5. Quins són els dos països adjacents que tenen el nombre més gran de ciutats per sobre de 14 milions d'habitants? \n",
    "\n",
    "Per respondre aquesta pregunta, ens faltarà afegir més informació al conjunt de dades de ciutats del qual disposem per fer l'activitat. Penseu quina seria l'estructura de dades més adient per a emmagatzemar aquesta informació extra i calculeu la resposta a la pregunta plantejada."
   ]
  },
  {
   "cell_type": "code",
   "execution_count": null,
   "metadata": {},
   "outputs": [],
   "source": [
    "# Resposta\n",
    "\n",
    "cities_per_country.keys()"
   ]
  },
  {
   "cell_type": "code",
   "execution_count": null,
   "metadata": {},
   "outputs": [],
   "source": [
    "# Desem les fronteres de cada País\n",
    "# (ometem els països que no estan al dataset )\n",
    "country_frontier = {\n",
    "    'China': ['India', 'Pakistan', 'Russia'],\n",
    "    'India': ['China', 'Pakistan', 'Indonesia'],\n",
    "    'Turkey': [],\n",
    "    'Pakistan': ['China', 'India'],\n",
    "    'Congo': []}\n",
    "\n",
    "# Calculem quins són els dos països adjacents amb més ciutats de més de 14M\n",
    "cities_per_adj_countries = {}\n",
    "countries = list(cities_per_country.keys())\n",
    "for i in range(len(countries)):\n",
    "    for j in range(i+1, len(countries)):\n",
    "        country_1, country_2 = countries[i], countries[j]\n",
    "        if country_1 in country_frontier[country_2]:\n",
    "            cities_per_adj_countries[country_1 + '-' + country_2] = \\\n",
    "                cities_per_country[country_1] + cities_per_country[country_2]\n",
    "\n",
    "cities_per_adj_countries"
   ]
  },
  {
   "cell_type": "markdown",
   "metadata": {},
   "source": [
    "2. Calculeu quantes hores ha treballat la persona que ha escrit la següent frase:\n",
    "\n",
    "   \"I started working at 17:22:42 and finished at 22:00:00\""
   ]
  },
  {
   "cell_type": "code",
   "execution_count": null,
   "metadata": {},
   "outputs": [],
   "source": [
    "sentence = \"I started working at 17:22:42 and finished at 22:00:00\"\n",
    "\n",
    "# Resposta\n",
    "\n",
    "start = datetime.datetime.strptime(sentence[21:29], \"%H:%M:%S\")\n",
    "end = datetime.datetime.strptime(sentence[-8:], \"%H:%M:%S\")\n",
    "working_time = end - start\n",
    "\n",
    "print(\"The person has worked {} hours\".format(working_time))"
   ]
  },
  {
   "cell_type": "markdown",
   "metadata": {},
   "source": [
    "3. Donada la cadena de caràcters `sentence`, substituïu tots els espais en blanc per punts."
   ]
  },
  {
   "cell_type": "code",
   "execution_count": null,
   "metadata": {},
   "outputs": [],
   "source": [
    "sentence = \" From     time to time, Python makes  an    incompatible change \" \\\n",
    "    \" to the   advertised semantics of core language constructs   \"\n",
    "\n",
    "# Resposta\n",
    "\n",
    "sentence.replace(\" \", \".\")"
   ]
  },
  {
   "cell_type": "markdown",
   "metadata": {},
   "source": [
    "4. Donada la mateixa cadena de caràcters de l'exercici anterior, substituïu tots els espais en blanc contigus per un únic punt. És a dir, si trobeu tres espais en blanc consecutius, aquests s'han de substituir per un únic punt, i no per tres punts com implementàvem a l'exercici anterior. Elimineu els espais que es troben a l'inici i al final de la cadena abans de substituir-los per punts."
   ]
  },
  {
   "cell_type": "code",
   "execution_count": null,
   "metadata": {},
   "outputs": [],
   "source": [
    "# Resposta\n",
    "\n",
    "# Eliminem els espais en blanc\n",
    "stripped_sentence = sentence.strip()\n",
    "# Substituïm els espais en blanc per punts\n",
    "re.sub(\" +\", \".\", stripped_sentence)"
   ]
  },
  {
   "cell_type": "markdown",
   "metadata": {},
   "source": [
    "5. Proporcioneu una llista amb totes les paraules de quatre lletres de la cadena de caràcters `sentence` que comencin per `t` o `F`."
   ]
  },
  {
   "cell_type": "code",
   "execution_count": null,
   "metadata": {},
   "outputs": [],
   "source": [
    "# Resposta\n",
    "\n",
    "re.findall(\" [t|F]\\\\w{3} \", sentence)"
   ]
  },
  {
   "cell_type": "markdown",
   "metadata": {},
   "source": [
    "6. Substituïu totes les majúscules de la cadena `sentence` per interrogants."
   ]
  },
  {
   "cell_type": "code",
   "execution_count": null,
   "metadata": {},
   "outputs": [],
   "source": [
    "# Resposta\n",
    "\n",
    "re.sub(\"[A-Z]\", \"?\", sentence)"
   ]
  },
  {
   "cell_type": "markdown",
   "metadata": {},
   "source": [
    "7. Una aerolínia ens contracta per ajudar-la a optimitzar el procediment d'embarcament dels seus avions. L'aerolínia disposa de tres classes de bitllets, primera, *business* i turista. A l'hora d'embarcar els clients se situen en tres cues, una per cada classe. Després, però, només hi ha dues hostesses que els validin la targeta d'embarcament, de manera que les tres cues inicials es converteixen en dues cues, a partir de les quals els passatgers accedeixen als avions.\n",
    "\n",
    "Actualment, l'aerolínia fa servir la següent estratègia per convertir les tres cues inicials (per classe) en les dues cues que embarquen (una per cada hostessa):\n",
    "\n",
    "D'una banda, els clients de primera i *business* van a parar a la cua 1 (cua  prioritària), intercalant un client de cada tipus a la cua prioritària sempre que hi hagi prou clients per fer-ho, i assignant després tots els clients restants a la nova cua. Així, el primer client que s'assigna a la cua prioritària és el primer client de la classe primera, el segon client de la cua prioritària serà el primer client de la cua de  *business*, el tercer client de la cua prioritària serà el segon client de la classe primera, etc.\n",
    "\n",
    "D'altra banda, els clients de classe turista van a parar a la cua 2 (cua no prioritària), seguint l'ordre que tenien a la cua de la classe turista. Ara bé, si un client de classe turista té mobilitat reduïda o va acompanyat de nens, aleshores aquest se situa al capdavant de la cua prioritària. Si hi ha més d'un client en aquestes condicions, l'ordre que segueixen a la cua de la classe turista es manté.\n",
    "\n",
    "Per tal d'avaluar com és de bona l'estratègia, l'aerolínia fa servir dues mètriques:\n",
    "1. El temps que es tarda a embarcar l'avió és 30 segons per passatger, considerant que les dues cues (1 i 2) embarquen alhora. És a dir, si la cua 1 té un passatger i la cua 2 en té dos, es tardarà un minut a embarcar.\n",
    "2. La satisfacció global dels seus clients, que es calcula fent la mitjana de la satisfacció de cada client, considerant que:\n"
   ]
  },
  {
   "cell_type": "markdown",
   "metadata": {},
   "source": [
    "* Els clients de primera tenen una satisfacció de -25 vegades el nombre de posicions que han perdut a la cua prioritària respecte a la seva posició original a la cua de primera. És a dir, un client que estava en 3a posició a la cua de primera i que ocupa la 5a posició de la cua prioritària, tindrà una satisfacció de -50.\n",
    "* Els clients de *business* sempre tenen una satisfacció de 0.\n",
    "* Els clients amb bitllet de classe turista que han estat moguts a la cua prioritària tenen una satisfacció de 100. En canvi, els que han estat moguts a la cua no prioritària tenen una satisfacció de 25 si han avançat alguna posició a la cua 2 respecte a la seva posició inicial a la cua de la classe turista, o de 0 en qualsevol altre cas.\n",
    "\n",
    "Com a analistes de dades, avaluarem la satisfacció i el temps de pujada a l'avió del vol 714.\n",
    "\n",
    "7.1 Carregueu les dades dels passatgers del vol 714 que trobareu al conjunt de dades `data/flight714.csv` i creeu les tres cues primera, *business* i turista amb les dades dels passatgers. Els clients es troben ordenats segons la seva posició a la cua, amb la columna `client_class` indicant a quina de les cues pertanyen."
   ]
  },
  {
   "cell_type": "code",
   "execution_count": null,
   "metadata": {},
   "outputs": [],
   "source": [
    "# Resposta\n",
    "\n",
    "import pandas as pd\n",
    "\n",
    "df = pd.read_csv('data/flight714.csv')\n",
    "\n",
    "bq, pq, tq = [], [], []\n",
    "col_names = list(df.columns)\n",
    "\n",
    "for i in range(len(df)):\n",
    "    c = {c: df.iloc[i][c] for c in col_names}\n",
    "    if c['client_class'] == \"p\":\n",
    "        pq.append(c)\n",
    "    if c['client_class'] == \"b\":\n",
    "        bq.append(c)\n",
    "    if c['client_class'] == \"t\":\n",
    "        tq.append(c)"
   ]
  },
  {
   "cell_type": "markdown",
   "metadata": {},
   "source": [
    "7.2 Mostreu quants passatgers hi ha a cada cua, amb el detall de quants d'ells tenen o bé criatures o bé mobilitat reduïda."
   ]
  },
  {
   "cell_type": "code",
   "execution_count": null,
   "metadata": {},
   "outputs": [],
   "source": [
    "# Resposta\n",
    "\n",
    "print(\"Passengers in first class: {}\".format(len(pq)))\n",
    "print(\"Passengers in business class: {}\".format(len(bq)))\n",
    "print(\"Passengers in tourist class: {}\".format(len(tq)))\n",
    "\n",
    "f_with_crm = sum([1 for p in pq\n",
    "                  if p['has_children'] or p['has_reduced_mobility']])\n",
    "b_with_crm = sum([1 for p in bq\n",
    "                  if p['has_children'] or p['has_reduced_mobility']])\n",
    "t_with_crm = sum([1 for p in tq\n",
    "                  if p['has_children'] or p['has_reduced_mobility']])\n",
    "\n",
    "print(\"Passengers in first class with children or reduced mob.: {}\"\n",
    "      .format(f_with_crm))\n",
    "print(\"Passengers in business class with children or reduced mob.: {}\"\n",
    "      .format(b_with_crm))\n",
    "print(\"Passengers in tourist class with children or reduced mob.: {}\"\n",
    "      .format(t_with_crm))"
   ]
  },
  {
   "cell_type": "markdown",
   "metadata": {},
   "source": [
    "7.3 Implementeu una funció que generi les dues cues d'embarcament (cua prioritària i cua no prioritària) a partir de les tres cues obtingudes segons la classe del bitllet del passatger."
   ]
  },
  {
   "cell_type": "code",
   "execution_count": null,
   "metadata": {},
   "outputs": [],
   "source": [
    "# Resposta\n",
    "\n",
    "from copy import copy\n",
    "\n",
    "\n",
    "def compute_new_queues_alg_1(in_bq, in_pq, in_tq):\n",
    "    # Copiem les dades de les cues d'entrada per no modificar els\n",
    "    # valors de les variables d'entrada\n",
    "    bq, pq, tq = copy(in_bq), copy(in_pq), copy(in_tq)\n",
    "    # Inicialitzem les dues cues de sortida buides\n",
    "    q1, q2 = [], []\n",
    "\n",
    "    # Movem als passatgers de la classe turista\n",
    "    while len(tq) != 0:\n",
    "        client = tq.pop(0)\n",
    "        if client[\"has_children\"] or client[\"has_reduced_mobility\"]:\n",
    "            q1.append(client)\n",
    "        else:\n",
    "            q2.append(client)\n",
    "\n",
    "    # Movem a la resta de passatgers, alternant entre primera i business\n",
    "    while len(bq) != 0 or len(pq) != 0:\n",
    "        if len(pq) != 0:\n",
    "            client = pq.pop(0)\n",
    "            q1.append(client)\n",
    "        if len(bq) != 0:\n",
    "            client = bq.pop(0)\n",
    "            q1.append(client)\n",
    "\n",
    "    return q1, q2"
   ]
  },
  {
   "cell_type": "markdown",
   "metadata": {},
   "source": [
    "7.4 Implementeu una funció que calculi el temps que es tarda en embarcar l'avió i una funció que calculi la satisfacció dels passatgers."
   ]
  },
  {
   "cell_type": "code",
   "execution_count": null,
   "metadata": {},
   "outputs": [],
   "source": [
    "# Resposta\n",
    "\n",
    "\n",
    "def evaluate_time(q1, q2):\n",
    "    time_per_pas = 30\n",
    "    return max(len(q1), len(q2))*time_per_pas\n",
    "\n",
    "\n",
    "def evaluate_sat(q1, q2, bq, pq, tq):\n",
    "\n",
    "    num_pass = len(q1) + len(q2)\n",
    "\n",
    "    # Tourists with children or reduced mobility\n",
    "    t = sum([100 for p in q1 if p in tq])\n",
    "\n",
    "    # Other tourists\n",
    "    t2 = sum([25 for p in q2 if q2.index(p) < tq.index(p)])\n",
    "\n",
    "    # First class\n",
    "    p = sum([-50*(q1.index(p)-pq.index(p)) for p in q1\n",
    "             if p in pq if q1.index(p) > pq.index(p)])\n",
    "\n",
    "    return (t + t2 + p)/num_pass"
   ]
  },
  {
   "cell_type": "markdown",
   "metadata": {},
   "source": [
    "7.5 Calculeu el temps que es tarda en embarcar el vol 714 i la satisfacció dels clients."
   ]
  },
  {
   "cell_type": "code",
   "execution_count": null,
   "metadata": {},
   "outputs": [],
   "source": [
    "# Resposta\n",
    "\n",
    "q1, q2 = compute_new_queues_alg_1(bq, pq, tq)\n",
    "print(\"Time: {}\".format(evaluate_time(q1, q2)))\n",
    "print(\"Satisfaction: {}\".format(evaluate_sat(q1, q2, bq, pq, tq)))"
   ]
  },
  {
   "cell_type": "markdown",
   "metadata": {},
   "source": [
    "# 5. Bibliografia\n",
    "\n",
    "## 5.1. Bibliografia bàsica\n",
    "\n",
    "Us recomanem revisar la documentació oficial de les funcions i classes descrites en aquesta unitat, que trobareu enllaçades en cada un dels apartats que les descriuen.\n",
    "\n",
    "A més, us recomanem revisar l'especificació completa del format d'`strftime` i `strptime` del mòdul `datetime` a la [documentació oficial del mòdul](https://docs.python.org/3/library/datetime.html#strftime-and-strptime-format-codes). No cal que conegueu tots els comodins que s'usen per descriure dates i hores, però una lectura de la documentació us proporcionarà una visió global de quin tipus d'expressions es poden construir.\n",
    "\n",
    "De manera anàloga, us recomanem llegir el [*Regular Expression HOWTO*](https://docs.python.org/3/howto/regex.html#regex-howto) de la documentació oficial de Python.\n",
    "\n",
    "## 5.2. Bibliografia addicional - Ampliació de coneixements\n",
    "\n",
    "En aquesta unitat hem presentat una petita introducció a l'ús d'expressions regulars amb el mòdul [`re`](https://docs.python.org/3.8/library/re.html) de Python. Si voleu descobrir tots els detalls sobre el llenguatge d'expressions regulars i sobre les funcions que implementa el mòdul `re` de Python, podeu dirigir-vos a la pàgina oficial del [mòdul `re`](https://docs.python.org/3/library/re.html).\n",
    "\n",
    "D'altra banda, els exercicis resolts de la unitat fan ús de la funció `copy`. Si voleu llegir més informació sobre aquesta funció i per què és necessari el seu ús en l'exemple, us recomanem llegir la documentació oficial del mòdul [`copy`](https://docs.python.org/3.8/library/copy.html) i aquesta [pregunta](https://stackoverflow.com/questions/17246693/what-is-the-difference-between-shallow-copy-deepcopy-and-normal-assignment-oper) d'stackoverflow. Intenteu reflexionar sobre per què, en el cas de l'exemple, hem utilitzat `copy` en comptes de` deepcopy`, i si el codi funcionaria correctament usant `deepcopy`."
   ]
  }
 ],
 "metadata": {
  "language_info": {
   "name": "python"
  }
 },
 "nbformat": 4,
 "nbformat_minor": 4
}
