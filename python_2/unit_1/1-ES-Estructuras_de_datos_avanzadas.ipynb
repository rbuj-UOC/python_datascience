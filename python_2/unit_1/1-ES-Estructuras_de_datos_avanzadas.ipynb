{
 "cells": [
  {
   "cell_type": "markdown",
   "metadata": {},
   "source": [
    "<div style=\"width: 100%; clear: both;\">\n",
    "    <div style=\"float: left; width: 50%;\">\n",
    "       <img src=\"http://www.uoc.edu/portal/_resources/common/imatges/marca_UOC/UOC_Masterbrand.jpg\", align=\"left\">\n",
    "    </div>\n",
    "</div>\n",
    "\n",
    "<div style=\"float: right; width: 50%;\">\n",
    "    <p style=\"margin: 0; padding-top: 22px; text-align:right;\">22.503 · Programación para la ciencia de datos</p>\n",
    "    <p style=\"margin: 0; text-align:right;\">Grado en Ciencia de Datos Aplicada</p>\n",
    "    <p style=\"margin: 0; text-align:right; padding-button: 100px;\">Estudios de Informática, Multimedia y Telecomunicación</p>\n",
    "</div>\n",
    "\n",
    "</div>\n",
    "<div style=\"width: 100%; clear: both;\">\n",
    "<div style=\"width:100%;\">&nbsp;</div>"
   ]
  },
  {
   "cell_type": "markdown",
   "metadata": {},
   "source": [
    "Programación para la ciencia de datos\n",
    "============================\n",
    "\n",
    "--- \n",
    "\n",
    "Unidad 1: Estructuras de datos avanzadas en Python\n",
    "-----------------------------------------------------\n",
    "\n",
    "---\n",
    "\n",
    "### Instrucciones de uso\n",
    "\n",
    "Este documento es un notebook interactivo que intercala explicaciones más bien teóricas de conceptos de programación con fragmentos de código ejecutables. Para aprovechar las ventajas que aporta este formato, se recomienda, en primer lugar, leer las explicaciones y el código que os proporcionamos. De esta manera tendréis un primer contacto con los conceptos que se exponen. Ahora bien, **¡la lectura es solo el principio!** Una vez que hayáis leído el contenido proporcionado, no olvidéis ejecutar el código proporcionado y modificarlo para crear variantes, que os permitan comprobar que habéis entendido su funcionalidad y explorar los detalles de la implementación. Por último, se recomienda también consultar la documentación enlazada para explorar con más profundidad las funcionalidades de los módulos presentados.\n"
   ]
  },
  {
   "cell_type": "code",
   "execution_count": null,
   "metadata": {},
   "outputs": [],
   "source": [
    "%load_ext pycodestyle_magic"
   ]
  },
  {
   "cell_type": "code",
   "execution_count": null,
   "metadata": {},
   "outputs": [],
   "source": [
    "# Activamos las alertas de estilo\n",
    "%pycodestyle_on"
   ]
  },
  {
   "cell_type": "markdown",
   "metadata": {},
   "source": [
    "### Introducción\n",
    "\n",
    "En esta unidad se presentan estructuras de datos y tipos de datos avanzados, y se hace una introducción a la manipulación avanzada de cadenas de caracteres.\n",
    "\n",
    "En primer lugar, se explican estructuras de datos avanzadas que amplían las estructuras que ya conocíamos (listas, tuplas y diccionarios). Veremos qué son y cómo utilizar en Python los conjuntos, las pilas, las colas, los diccionarios con orden y los diccionarios con valores por defecto.\n",
    "\n",
    "En segundo lugar, veremos tipos de datos complejos. En concreto, presentaremos tipo de datos que permiten representar fechas y horas, y explicaremos las funciones que Python implementa sobre estos tipos.\n",
    "\n",
    "En tercer lugar y para terminar, nos centraremos en la manipulación avanzada de cadenas de caracteres, repasando algunas de las funciones básicas sobre cadenas y introduciendo el lenguaje y uso de expresiones regulares.\n",
    "\n",
    "A continuación se incluye la tabla de contenidos, que podéis utilizar para navegar por el documento:\n"
   ]
  },
  {
   "cell_type": "markdown",
   "metadata": {},
   "source": [
    "<ul style=\"list-style-type:none\">\n",
    "<li> <a href='#1.--Estructuras-de-datos-avanzadas'> 1. Estructuras de datos avanzadas </a> </li>\n",
    "    <ul style=\"list-style-type:none\">\n",
    "<li> <a href='#1.1.--Conjuntos'> 1.1. Conjuntos </a> </li>\n",
    "<li> <a href='#1.2.--Pilas-y-colas'> 1.2. Pilas y colas </a> </li>\n",
    "<li> <a href='#1.3.--Diccionarios-ordenados'> 1.3. Diccionarios ordenados </a> </li>\n",
    "<li> <a href='#1.4.--Otras-variantes-de-diccionario'> 1.4. Otras variantes de diccionario </a> </li>\n",
    "    </ul>\n",
    "<li> <a href='#2.--Tipos-de-datos-avanzados:-el-módulo-datetime'> 2. Tipos de datos avanzados: el módulo datetime </a> </li>\n",
    "    <ul style=\"list-style-type:none\">\n",
    "<li> <a href=\"#2.1.--Creación-de-objetos-que-representan-fechas-y-horas\"> 2.1. Creación de objetos que representan fechas y horas </a> </li>\n",
    "<li> <a href=\"#2.2.--Mostrando-la-fecha-y-el-tiempo-en-diferentes-formatos\"> 2.2. Mostrando la fecha y el tiempo en diferentes formatos </a> </li>\n",
    "<li> <a href=\"#2.3.--Trabajando-con-fechas-y-tiempos\"> 2.3. Trabajando con fechas y tiempos </a> </li>\n",
    "<li> <a href=\"#2.4.--Incrementos-de-tiempo\"> 2.4. Incrementos de tiempo </a> </li>\n",
    "<li> <a href=\"#2.5.--El-calendario\"> 2.5. El calendario </a> </li>\n",
    "<li> <a href=\"#2.6.--Recapitulando\"> 2.6. Recapitulando </a> </li>\n",
    "       </ul>\n",
    "<li> <a href='#3.--Cadenas-de-caracteres'> 3. Cadenas de caracteres </a> </li>\n",
    "    <ul style=\"list-style-type:none\">\n",
    "<li> <a href=\"#3.1--Manipulación-de-cadenas-de-caracteres\"> 3.1. Manipulación de cadenas de caracteres </a> </li>\n",
    "<li> <a href=\"#3.2--Expresiones-regulares\"> 3.2. Expresiones regulares </a> </li>\n",
    "        <ul style=\"list-style-type:none\">\n",
    "<li> <a href=\"#3.2.1--Funciones-del-módulo-re\"> 3.2.1. Funciones del módulo re </a> </li>\n",
    "<li> <a href=\"#3.2.2--Sintaxis-de-las-expresiones-regulares\"> 3.2.2. Sintaxis de las expresiones regulares </a> </li>\n",
    "<li> <a href=\"#3.2.3--Uso-de-expresiones-regulares-en-la-manipulación-de-cadenas\"> 3.2.3. Uso de expresiones regulares en la manipulación de cadenas </a> </li>\n",
    "        </ul>\n",
    "    </ul>\n",
    "<li> <a href=\"#4.--Ejercicios-para-practicar\"> 4. Ejercicios para practicar </a> </li>\n",
    "    <ul style=\"list-style-type:none\">\n",
    "<li> <a href=\"#4.1.--Soluciones-a-los-ejercicios-para-practicar\"> 4.1. Soluciones a los ejercicios para practicar </a>\n",
    "</li>\n",
    "    </ul>\n",
    "<li> <a href=\"#5.--Bibliografía\">5. Bibliografía</a> </li>\n",
    "<ul style=\"list-style-type:none\">\n",
    "<li> <a href=\"#5.1.--Bibliografía-básica\"> 5.1. Bibliografía básica</a>\n",
    "<li> <a href=\"#5.2.--Bibliografia-adicional---Ampliación-de-conocimientos\"> 5.2. Bibliografía adicional</a>\n",
    "</li>\n",
    "    </ul>    \n",
    "</ul>"
   ]
  },
  {
   "cell_type": "markdown",
   "metadata": {},
   "source": [
    "---\n",
    "\n",
    "# 1.- Estructuras de datos avanzadas\n",
    "\n",
    "Hasta ahora hemos visto algunas de las estructuras de datos más básicas que se utilizan para programar en Python: las listas, las tuplas y los diccionarios. En esta unidad, presentaremos estructuras de datos más complejas, que nos permitirán afrontar otro tipo de problemas, como son los conjuntos, las pilas, las colas, los diccionarios con orden, y los diccionarios con valores por defecto.\n"
   ]
  },
  {
   "cell_type": "markdown",
   "metadata": {},
   "source": [
    "## 1.1.- Conjuntos\n",
    "\n",
    "Del mismo modo que las listas, los conjuntos son una colección de elementos posiblemente **heterogéneos** (es decir, que pueden ser de tipos diferentes). Ahora bien, a diferencia de las listas, los elementos de un conjunto **no tienen orden** (ni por tanto posición dentro del conjunto). Además, un conjunto **no puede tener elementos repetidos**. En esencia, esta estructura de datos implementa el concepto matemático de conjunto.\n",
    "\n",
    "Python dispone de la clase [`set`](https://docs.python.org/3.8/library/stdtypes.html#set-types-set-frozenset) que implementa el conjunto. Podemos crear un conjunto utilizando el constructor de la clase o bien utilizando llaves `{}`:\n"
   ]
  },
  {
   "cell_type": "code",
   "execution_count": null,
   "metadata": {},
   "outputs": [],
   "source": [
    "# Creamos un conjunto utilizando dos sintaxis diferentes\n",
    "a_set = {\"Beale ciphers\", \"Quipu\", \"Zimmermann Telegram\", \"Chaocipher\"}\n",
    "the_same_set = set(\n",
    "    [\"Beale ciphers\", \"Quipu\", \"Zimmermann Telegram\", \"Chaocipher\"])\n",
    "\n",
    "# Confirmamos que los dos conjuntos creados son iguales\n",
    "print(\"Boths sets are equal: {}\".format(a_set == the_same_set))"
   ]
  },
  {
   "cell_type": "markdown",
   "metadata": {},
   "source": [
    "Hay que tener cuidado si usamos llaves para definir los conjuntos, ya que estas también se utilizan para definir diccionarios. Si los conjuntos y diccionarios tienen elementos, la sintaxis nos determinará el tipo. En cambio, usar llaves para definir una colección vacía resultará en un diccionario vacío:\n"
   ]
  },
  {
   "cell_type": "code",
   "execution_count": null,
   "metadata": {},
   "outputs": [],
   "source": [
    "# Definimos dos diccionarios vacíos utilizando las dos sintaxis\n",
    "an_empty_dict = {}\n",
    "another_empty_dict = dict()\n",
    "print(\"Using {{}} results in a {} equivalent to dict(): {}\".\n",
    "      format(type(an_empty_dict), an_empty_dict == another_empty_dict))\n",
    "\n",
    "# Definimos un conjunto vacío\n",
    "an_empty_set = set()\n",
    "print(\"Creating an empty {}\".format(type(an_empty_set)))"
   ]
  },
  {
   "cell_type": "markdown",
   "metadata": {},
   "source": [
    "Los conjuntos no tienen orden y, por lo tanto, dos conjuntos son iguales si sus elementos también lo son:\n"
   ]
  },
  {
   "cell_type": "code",
   "execution_count": null,
   "metadata": {},
   "outputs": [],
   "source": [
    "# Creamos otro conjunto con los mismos elementos, pero usamos otra\n",
    "# ordenación de los elementos al crear el conjunto\n",
    "another_same_set = {\"Zimmermann Telegram\", \"Quipu\",\n",
    "                    \"Chaocipher\", \"Beale ciphers\"}\n",
    "print(\"Boths sets are equal: {}\".format(a_set == another_same_set))"
   ]
  },
  {
   "cell_type": "markdown",
   "metadata": {},
   "source": [
    "Como las listas, los conjuntos disponen de la operación `len`, que devuelve el número de elementos del conjunto (su cardinalidad). Las operaciones [`add`](https://docs.python.org/3.8/library/stdtypes.html#frozenset.add) y [`remove`](https://docs.python.org/3.8/library/stdtypes.html#frozenset.remove) permiten añadir y eliminar elementos de un conjunto:\n"
   ]
  },
  {
   "cell_type": "code",
   "execution_count": null,
   "metadata": {},
   "outputs": [],
   "source": [
    "# Mostramos la cardinalidad del conjunto\n",
    "print(\"The set is: {}\".format(a_set))\n",
    "print(\"The size of the set is: {}\".format(len(a_set)))\n",
    "\n",
    "# Eliminamos un elemento del conjunto\n",
    "a_set.remove(\"Quipu\")\n",
    "print(\"After removing 'Quipu', the set is: {}\".format(a_set))\n",
    "\n",
    "# Añadimos un elemento al conjunto\n",
    "a_set.add(\"The Magic Words are Squeamish Ossifrage\")\n",
    "print(\"After adding an element, the set is: {}\".format(a_set))"
   ]
  },
  {
   "cell_type": "markdown",
   "metadata": {},
   "source": [
    "Los conjuntos no tienen elementos repetidos:\n"
   ]
  },
  {
   "cell_type": "code",
   "execution_count": null,
   "metadata": {},
   "outputs": [],
   "source": [
    "print(\"The size of the set is: {}\".format(len(a_set)))\n",
    "\n",
    "# Añadimos ahora un elemento ya existente en el conjunto\n",
    "a_set.add(\"Beale ciphers\")\n",
    "\n",
    "# La cardinalidad del conjunto no varía, ya que el elemento ya\n",
    "# pertenecía al conjunto\n",
    "print(\"The size of the set after adding 'Beale ciphers' is: {}\"\n",
    "      .format(len(a_set)))"
   ]
  },
  {
   "cell_type": "markdown",
   "metadata": {},
   "source": [
    "Ya hemos visto como la clase [`set`](https://docs.python.org/3.8/library/stdtypes.html#set) implementa la comparación de igualdad de conjuntos. Adicionalmente, también implementa las operaciones básicas de conjuntos (unión, intersección y diferencia) y la diferencia simétrica (que devuelve los elementos que están sólo en uno de los dos conjuntos).\n",
    "\n",
    "A continuación vemos un ejemplo de estas operaciones sobre tres conjuntos, que contienen los nombres de los estudiantes de programación en Python, Java, y C, de una escuela (asumiremos que el nombre identifica de manera única los estudiantes).\n"
   ]
  },
  {
   "cell_type": "code",
   "execution_count": null,
   "metadata": {},
   "outputs": [],
   "source": [
    "# Creamos los tres conjuntos\n",
    "students_python = {\"Anna\", \"Helena\", \"Marta\", \"Pol\"}\n",
    "students_java = {\"Anna\", \"Teresa\", \"Helena\"}\n",
    "students_c = {\"Marc\"}\n",
    "\n",
    "# Calculamos los alumnos que estudian Python y también Java\n",
    "print(\"Python and Java:\\t\\t{}\".format(\n",
    "    students_python.intersection(students_java)\n",
    "))\n",
    "\n",
    "# Calculamos los alumnos que estudian Python pero no java\n",
    "print(\"Python but not Java:\\t\\t{}\".format(\n",
    "    students_python.difference(students_java)\n",
    "))\n",
    "\n",
    "# Calculamos los alumnos que estudian Python o Java, pero no\n",
    "# ambos lenguajes\n",
    "print(\"Python or Java, but not both:\\t{}\".format(\n",
    "    students_python.symmetric_difference(students_java)\n",
    "))\n",
    "\n",
    "# Calculamos los estudiantes que tiene la escuela (independientemente\n",
    "# del lenguaje que estudian)\n",
    "print(\"Any of the languages:\\t\\t{}\".format(\n",
    "    students_python.union(students_java).union(students_c)\n",
    "))"
   ]
  },
  {
   "cell_type": "markdown",
   "metadata": {},
   "source": [
    "Notad que los resultados des las operaciones entre conjuntos que hemos visto en la celda anterior son también conjuntos, por lo que podemos encadenar operaciones (como muestra el último ejemplo, donde se obtienen todos los estudiantes de la escuela).\n",
    "\n",
    "Equivalentemente, podemos utilizar los operandos `|`, `&`, `-` y` ^ `:\n"
   ]
  },
  {
   "cell_type": "code",
   "execution_count": null,
   "metadata": {},
   "outputs": [],
   "source": [
    "print(\"Python and Java:\\t\\t{}\".format(\n",
    "    students_python & students_java))\n",
    "print(\"Python but not Java:\\t\\t{}\".format(\n",
    "    students_python - students_java))\n",
    "print(\"Python or Java, but not both:\\t{}\".format(\n",
    "    students_python ^ students_java))\n",
    "print(\"Any of the languages:\\t\\t{}\".format(\n",
    "    students_python | students_java | students_c))"
   ]
  },
  {
   "cell_type": "markdown",
   "metadata": {},
   "source": [
    "Los conjuntos son iterables, por lo que los podemos recorrer como hemos visto en la unidad anterior:\n"
   ]
  },
  {
   "cell_type": "code",
   "execution_count": null,
   "metadata": {},
   "outputs": [],
   "source": [
    "# Recorremos el conjunto students_python\n",
    "for element in students_python:\n",
    "    print(element)"
   ]
  },
  {
   "cell_type": "markdown",
   "metadata": {},
   "source": [
    "Hasta ahora hemos presentado las propiedades de los conjuntos y las operaciones principales que podemos realizar sobre estos con la clase [`set`](https://docs.python.org/3.8/library/stdtypes.html#set). Además, hemos visto como los conjuntos son la estructura de datos a utilizar cuando queremos mantener una colección de elementos sin duplicados y donde el orden no tenga importancia. Los conjuntos, asimismo, se pueden utilizar como herramienta para resolver, de manera eficiente, cierto tipo de problemas.\n",
    "\n",
    "Por un lado, los conjuntos son una de las maneras más rápidas de eliminar duplicados de una lista:\n"
   ]
  },
  {
   "cell_type": "code",
   "execution_count": null,
   "metadata": {},
   "outputs": [],
   "source": [
    "# Definimos una lista con elementos duplicados\n",
    "a_list = [\"Anna\", \"Helena\", \"Marta\", \"Pol\", \"Anna\", \"Teresa\", \"Helena\"]\n",
    "print(\"A list with duplicates:\\t\\t\\t{}\".format(a_list))\n",
    "\n",
    "# Creamos una nueva lista sin duplicados, haciendo un cast de la lista inicial\n",
    "# a conjunto, y convirtiendo el resultado en lista de nuevo\n",
    "a_list_without_duplicates = list(set(a_list))\n",
    "print(\"The same list without duplicates:\\t{}\".format(\n",
    "    a_list_without_duplicates))"
   ]
  },
  {
   "cell_type": "markdown",
   "metadata": {},
   "source": [
    "Además de eficiente, la solución anterior es sencilla y elegante, siguiendo lo que nos recomienda el [`PEP20`](https://www.python.org/dev/peps/pep-0020/).\n",
    "\n",
    "Los conjuntos en Python también se encuentran optimizados para hacer tests de pertenencia, que nos permiten comprobar si un determinado elemento se encuentra presente en un conjunto:\n"
   ]
  },
  {
   "cell_type": "code",
   "execution_count": null,
   "metadata": {},
   "outputs": [],
   "source": [
    "a_student = \"Anna\"\n",
    "\n",
    "print(\"Python students:\\t{}\".format(students_python))\n",
    "print(\"Anna studies Python?:\\t{}\\n\".format(a_student in students_python))\n",
    "\n",
    "print(\"C students:\\t\\t{}\".format(students_c))\n",
    "print(\"Anna studies C?:\\t{}\".format(a_student in students_c))"
   ]
  },
  {
   "cell_type": "markdown",
   "metadata": {},
   "source": [
    "## 1.2.- Pilas y colas\n",
    "\n",
    "Las pilas y las colas son unas estructuras de datos también similares a las listas, donde los elementos tienen orden y pueden estar repetidos. La característica que define las pilas y las colas es que los elementos sólo se pueden insertar y eliminar desde uno de los extremos.\n",
    "\n",
    "Una **pila** (en inglés, *stack*) sólo permite añadir y borrar elementos encima de la pila (en inglés, hablamos del *top*), es decir, por la parte superior. Las pilas se conocen también como estructuras FILO (del inglés, *first in last out*), ya que el primer elemento que se añade a una pila será el último que saldrá de ella. Una analogía en el mundo físico de una pila puede ser una pila de libros que se encuentra dentro de una caja: el primer libro que sacaremos de la caja será el de lo alto de la pila, que será el último que hayamos puesto en la caja.\n",
    "\n",
    "Una **cola** (en inglés, *queue*) sólo permite añadir elementos al final y eliminar elementos del inicio. Las colas se conocen también como estructuras FIFO (del inglés, *first in first out*), ya que el primer elemento que se añade a una cola será el primero en salir. En nuestro día a día encontramos colas en varias circunstancias, por ejemplo, cuando esperamos nuestro turno en la carnicería o para comprar entradas en el cine.\n",
    "\n",
    "A diferencia de los conjuntos, que en Python representamos con el tipo propio [`set`](https://docs.python.org/3.8/library/stdtypes.html#set), para trabajar con pilas y colas con Python utilizaremos el tipo lista ([`list`](https://docs.python.org/3.8/library/stdtypes.html#list)). Este tipo dispone de una serie de operaciones que permiten emular el comportamiento de pilas y colas. Python también dispone de una clase específica para gestionar colas, la clase [`queue`](https://docs.python.org/3.8/library/queue.html), que se utiliza en implementaciones *multithread* que veremos más adelante en la asignatura.\n",
    "\n",
    "Para implementar una pila, trabajaremos sobre una lista, utilizando únicamente los métodos `append` y` pop` para añadir y quitar elementos:\n"
   ]
  },
  {
   "cell_type": "code",
   "execution_count": null,
   "metadata": {},
   "outputs": [],
   "source": [
    "def print_stack(s, msg_bef=None, msg_after=None):\n",
    "    # Definimos la función auxiliar print_stack, que nos permitirá\n",
    "    # visualizar una pila\n",
    "    if msg_bef:\n",
    "        print(msg_bef)\n",
    "\n",
    "    if len(s) == 0:\n",
    "        max_len = 10\n",
    "    else:\n",
    "        max_len = max([len(e) for e in s]) + 4\n",
    "\n",
    "    print(\"|\" + \" \"*(max_len+2) + \"|\")\n",
    "    for e in s[::-1]:\n",
    "        print(\"| \" + e + \" \"*(max_len-len(e)) + \" |\")\n",
    "    print(\"|\" + \"_\"*(max_len+2) + \"|\")\n",
    "\n",
    "    print(msg_after+\"\\n\" if msg_after else \"\\n\")"
   ]
  },
  {
   "cell_type": "code",
   "execution_count": null,
   "metadata": {},
   "outputs": [],
   "source": [
    "# Iniciamos una lista vacía, que utilizaremos como pila\n",
    "stack = []\n",
    "print_stack(stack, \"Initial stack:\")\n",
    "\n",
    "# Añadimos 3 elementos a la pila, y vamos mostrando el contenido de\n",
    "# la pila en cada momento\n",
    "stack.append(\"The Art of Computer Programming\")\n",
    "print_stack(stack, \"Stack after adding 1 element:\")\n",
    "\n",
    "stack.append(\"The Mythical Man-Month\")\n",
    "print_stack(stack, \"Stack after adding a 2nd element:\")\n",
    "\n",
    "stack.append(\"Refactoring\")\n",
    "print_stack(stack, \"Stack after adding a 3rd element:\")"
   ]
  },
  {
   "cell_type": "markdown",
   "metadata": {},
   "source": [
    "Al añadir elementos, estos se van apilando de manera que el último elemento añadido queda en el *top* de la pila. En el ejemplo anterior, el último elemento añadido, *Refactoring*, queda en el *top* de la pila.\n"
   ]
  },
  {
   "cell_type": "code",
   "execution_count": null,
   "metadata": {},
   "outputs": [],
   "source": [
    "# Eliminamos un elemento de la pila y mostramos como queda la pila\n",
    "e = stack.pop()\n",
    "print_stack(stack, \"Stack after deleting one element:\",\n",
    "            \"The element removed was: {}\".format(e))"
   ]
  },
  {
   "cell_type": "markdown",
   "metadata": {},
   "source": [
    "Al ejecutar `pop`, se elimina el elemento del *top* de la pila, en este caso, *Refactoring*. El último elemento añadido es pues el primero en salir.\n"
   ]
  },
  {
   "cell_type": "code",
   "execution_count": null,
   "metadata": {},
   "outputs": [],
   "source": [
    "# Eliminamos dos elementos más de la pila y mostramos como queda la pila\n",
    "# en cada momento\n",
    "e = stack.pop()\n",
    "print_stack(stack, \"Stack after deleting another element:\",\n",
    "            \"The element removed was: {}\".format(e))\n",
    "\n",
    "e = stack.pop()\n",
    "print_stack(stack, \"Stack after deleting the last element:\",\n",
    "            \"The element removed was: {}\".format(e))"
   ]
  },
  {
   "cell_type": "markdown",
   "metadata": {},
   "source": [
    "Si seguimos eliminando elementos, veremos como el primer elemento añadido a la pila, *The Art of Computer Programming*, es el último en salir (el comportamiento FILO, *first in last out* que comentábamos).\n",
    "\n",
    "Finalmente, ejecutar un `pop` sobre una pila vacía, generará una excepción:\n"
   ]
  },
  {
   "cell_type": "code",
   "execution_count": null,
   "metadata": {},
   "outputs": [],
   "source": [
    "try:\n",
    "    stack.pop()\n",
    "except IndexError as e:\n",
    "    print(e)"
   ]
  },
  {
   "cell_type": "markdown",
   "metadata": {},
   "source": [
    "Para implementar una cola, trabajaremos también sobre una lista, utilizando únicamente los métodos `append` y `pop(0)` para añadir y quitar elementos:\n"
   ]
  },
  {
   "cell_type": "code",
   "execution_count": null,
   "metadata": {},
   "outputs": [],
   "source": [
    "def print_queue(s, msg_bef=None, msg_after=None):\n",
    "    # Definimos la función auxiliar print_queue, que nos permitirá\n",
    "    # visualizar una cola\n",
    "    if msg_bef:\n",
    "        print(msg_bef)\n",
    "\n",
    "    if len(s) == 0:\n",
    "        max_len = 10\n",
    "    else:\n",
    "        max_len = sum([len(e)+2 for e in s]) + 1\n",
    "\n",
    "    print(\"_\"*(max_len+2)+\"\\n\")\n",
    "    print(\"  \" + \"  \".join(s))\n",
    "    print(\"_\"*(max_len+2))\n",
    "\n",
    "    print(msg_after+\"\\n\" if msg_after else \"\\n\")"
   ]
  },
  {
   "cell_type": "code",
   "execution_count": null,
   "metadata": {},
   "outputs": [],
   "source": [
    "# Iniciamos una lista vacía, que utilizaremos como cola\n",
    "queue = []\n",
    "print_queue(queue, \"Initial queue:\")\n",
    "\n",
    "# Añadimos 3 elementos a la cola, y vamos mostrando el contenido de\n",
    "# la cola en cada momento\n",
    "queue.append(\"A\")\n",
    "print_queue(queue, \"Queue after adding 1 element:\")\n",
    "\n",
    "queue.append(\"B\")\n",
    "print_queue(queue, \"Queue after adding a 2nd element:\")\n",
    "\n",
    "queue.append(\"C\")\n",
    "print_queue(queue, \"Queue after adding a 3rd element:\")"
   ]
  },
  {
   "cell_type": "code",
   "execution_count": null,
   "metadata": {},
   "outputs": [],
   "source": [
    "# Eliminamos un elemento de la cola y mostramos como queda la cola\n",
    "e = queue.pop(0)\n",
    "print_queue(queue, \"Queue after deleting one element:\",\n",
    "            \"The element removed was: {}\".format(e))"
   ]
  },
  {
   "cell_type": "markdown",
   "metadata": {},
   "source": [
    "Al ejecutar `pop(0)`, se elimina el primer elemento de la cola, en este caso, A, que es el primer elemento que hemos añadido. Así pues, la cola es una estructura FIFO (*first in first out*).\n"
   ]
  },
  {
   "cell_type": "code",
   "execution_count": null,
   "metadata": {},
   "outputs": [],
   "source": [
    "# Eliminamos dos elementos más de la cola y mostramos como queda la cola\n",
    "# en cada momento\n",
    "e = queue.pop(0)\n",
    "print_queue(queue, \"Queue after deleting another element:\",\n",
    "            \"The element removed was: {}\".format(e))\n",
    "\n",
    "e = queue.pop(0)\n",
    "print_queue(queue, \"Queue after deleting the last element:\",\n",
    "            \"The element removed was: {}\".format(e))"
   ]
  },
  {
   "cell_type": "markdown",
   "metadata": {},
   "source": [
    "El último elemento añadido es pues también el último en salir (C).\n"
   ]
  },
  {
   "cell_type": "markdown",
   "metadata": {},
   "source": [
    "De nuevo, si intentamos eliminar un elemento sobre una cola vacía, se genera una excepción:\n"
   ]
  },
  {
   "cell_type": "code",
   "execution_count": null,
   "metadata": {},
   "outputs": [],
   "source": [
    "try:\n",
    "    queue.pop(0)\n",
    "except IndexError as e:\n",
    "    print(e)"
   ]
  },
  {
   "cell_type": "markdown",
   "metadata": {},
   "source": [
    "## 1.3.- Diccionarios ordenados\n"
   ]
  },
  {
   "cell_type": "markdown",
   "metadata": {},
   "source": [
    "Aunque a partir de la versión 3.6 de Python los diccionarios preservan el orden de inserción de los elementos, la estructura de datos no contempla el orden de los elementos a la hora de hacer comparaciones. Así, dos diccionarios con el mismo contenido insertado en orden diferente son considerados iguales. Es decir, dos diccionarios son iguales si su contenido lo es, independientemente del orden en que se haya insertado este contenido:\n"
   ]
  },
  {
   "cell_type": "code",
   "execution_count": null,
   "metadata": {},
   "outputs": [],
   "source": [
    "# Creamos dos diccionarios con el mismo contenido en orden diferente\n",
    "dict_1 = {\"a\": 0, \"b\": 1}\n",
    "dict_2 = {\"b\": 1, \"a\": 0}\n",
    "\n",
    "# Mostramos el contenido de los diccionarios en el orden en que items()\n",
    "# devuelve los elementos\n",
    "print(\"dict_1:\")\n",
    "for k, v in dict_1.items():\n",
    "    print(\"{}: {}\".format(k, v))\n",
    "\n",
    "print(\"\\ndict_2:\")\n",
    "for k, v in dict_2.items():\n",
    "    print(\"{}: {}\".format(k, v))\n",
    "\n",
    "# Comprobamos la igualdad de los dos diccionarios\n",
    "print(\"\\ndict_1 and dict_2 are equal: {}\".format(dict_1 == dict_2))"
   ]
  },
  {
   "cell_type": "markdown",
   "metadata": {},
   "source": [
    "Si por el contrario, queremos que el orden de los elementos de un diccionario determine su igualdad a otro diccionario, podemos utilizar un diccionario ordenado, implementado por la clase [`OrderedDict`](https://docs.python.org/3.8/library/collections.html#collections.OrderedDict) en Python, en la librería [`collections`](https://docs.python.org/3.8/library/collections.html).\n"
   ]
  },
  {
   "cell_type": "code",
   "execution_count": null,
   "metadata": {},
   "outputs": [],
   "source": [
    "from collections import OrderedDict\n",
    "\n",
    "# Creamos dos diccionarios ordenados con el mismo contenido en orden diferente\n",
    "dict_1 = OrderedDict([(\"a\", 0), (\"b\", 1)])\n",
    "dict_2 = OrderedDict([(\"b\", 1), (\"a\", 0)])\n",
    "\n",
    "# Comprobamos la igualdad de los dos diccionarios\n",
    "print(\"\\ndict_1 and dict_2 are equal: {}\".format(dict_1 == dict_2))"
   ]
  },
  {
   "cell_type": "markdown",
   "metadata": {},
   "source": [
    "Más allá de la diferencia en la implementación de la igualdad, la clase [`OrderedDict`](https://docs.python.org/3.8/library/collections.html#collections.OrderedDict) también nos ofrece un par de métodos relativos al orden de los elementos que no teníamos disponibles en los diccionarios: `reversed` y [`move_to_end`](https://docs.python.org/3.8/library/collections.html#collections.OrderedDict.move_to_end).\n"
   ]
  },
  {
   "cell_type": "code",
   "execution_count": null,
   "metadata": {},
   "outputs": [],
   "source": [
    "# Mostramos el contenido de dict_2 en el orden original\n",
    "print(\"\\ndict_2:\")\n",
    "for k in dict_2:\n",
    "    print(\"{}: {}\".format(k, dict_2[k]))\n",
    "\n",
    "# Mostramos el contenido de dict_2 en orden inverso\n",
    "print(\"\\ndict_2:\")\n",
    "for k in reversed(dict_2):\n",
    "    print(\"{}: {}\".format(k, dict_2[k]))"
   ]
  },
  {
   "cell_type": "code",
   "execution_count": null,
   "metadata": {},
   "outputs": [],
   "source": [
    "# Creamos un diccionario ordenado\n",
    "dict_4 = OrderedDict([(\"a\", 0), (\"b\", 1), (\"c\", 2), (\"d\", 3)])\n",
    "\n",
    "# Movemos el elemento de clave 'b' al final del diccionario\n",
    "dict_4.move_to_end('b')\n",
    "\n",
    "# Mostramos el diccionario modificado, con el elemento 'b' al final\n",
    "print(dict_4)"
   ]
  },
  {
   "cell_type": "markdown",
   "metadata": {},
   "source": [
    "Como apunte final, hay que tener en cuenta que en general un diccionario estándar de Python es más eficiente que un diccionario ordenado. Así pues, utilizaremos siempre diccionarios estándar, a no ser que necesitemos las funcionalidades de un diccionario ordenado para la lógica de nuestra aplicación.\n"
   ]
  },
  {
   "cell_type": "markdown",
   "metadata": {},
   "source": [
    "## 1.4.- Otras variantes de diccionario\n"
   ]
  },
  {
   "cell_type": "markdown",
   "metadata": {},
   "source": [
    "Otra variante del diccionario que a menudo es de utilidad es el [`defaultdict`](https://docs.python.org/3.8/library/collections.html#collections.defaultdict). Este tipo de diccionario comparte las propiedades del diccionario tradicional ([`dict`](https://docs.python.org/3.8/library/stdtypes.html#mapping-types-dict)), pero permite establecer un valor predeterminado a las entradas del diccionario no inicializadas:\n"
   ]
  },
  {
   "cell_type": "code",
   "execution_count": null,
   "metadata": {},
   "outputs": [],
   "source": [
    "# Creamos un diccionario a_trad_dict e intentamos mostrar el valor\n",
    "# de una clave inexistente\n",
    "a_trad_dict = {}\n",
    "try:\n",
    "    print(a_trad_dict[\"non_existing_key\"])\n",
    "except KeyError as e:\n",
    "    print(e)"
   ]
  },
  {
   "cell_type": "code",
   "execution_count": null,
   "metadata": {},
   "outputs": [],
   "source": [
    "from collections import defaultdict\n",
    "\n",
    "# Creamos un diccionario defaultdict con valor por defecto una lista\n",
    "# e intentamos mostrar el valor de una clave inexistente\n",
    "a_defaultdict = defaultdict(list)\n",
    "print(a_defaultdict[\"non_existing_key\"])\n",
    "\n",
    "\n",
    "def get_0():\n",
    "    # Creamos un diccionario defaultdict con valor per defecto una función\n",
    "    # que retorna 0 e intentamos mostrar el valor de una clave inexistente\n",
    "    return 0\n",
    "\n",
    "\n",
    "another_defaultdict = defaultdict(get_0)\n",
    "print(another_defaultdict[\"non_existing_key\"])"
   ]
  },
  {
   "cell_type": "markdown",
   "metadata": {},
   "source": [
    "Los [`defaultdict`](https://docs.python.org/3.8/library/collections.html#collections.defaultdict) pueden ser útiles para evitar tener que inicializar las entradas de un diccionario manualmente.\n",
    "\n",
    "Por ejemplo, supongamos que tenemos un texto, y queremos obtener una lista de las palabras agrupadas según su letra inicial. Podríamos usar un diccionario para almacenar esta agrupación: la clave del diccionario almacenaría la letra inicial, y el valor de cada clave sería una lista de las palabras que empiezan por esa letra. Así, sólo habría que tener entradas para las letras que son iniciales de alguna de las palabras del texto, y no para todas las posibles letras iniciales.\n",
    "\n",
    "Una implementación básica podría usar un diccionario normal, procesando cada palabra una a una y comprobando en cada caso si ya tenemos una entrada en el diccionario para la letra inicial de la palabra:\n"
   ]
  },
  {
   "cell_type": "code",
   "execution_count": null,
   "metadata": {},
   "outputs": [],
   "source": [
    "words = \"Beautiful is better than ugly. Explicit is better than implicit. \"\n",
    "words += \"Simple is better than complex.\"\n",
    "\n",
    "# Creamos el diccionario\n",
    "words_by_first_letter = dict()\n",
    "\n",
    "# Iteramos por cada palabra del texto\n",
    "for word in words.split(\" \"):\n",
    "    # Recuperamos la primera letra\n",
    "    first_letter = word[0]\n",
    "\n",
    "    if first_letter in words_by_first_letter:\n",
    "        # Si ya existe la entrada del diccionario, añadimos la palabra\n",
    "        # a la lista\n",
    "        words_by_first_letter[first_letter].append(word)\n",
    "    else:\n",
    "        # Si no existe aún ninguna palabra con la misma inicial, creamos\n",
    "        # la entrada en el diccionario, creando la lista de palabras para\n",
    "        # aquella\n",
    "        # inicial y añadiendo la palabra\n",
    "        words_by_first_letter[first_letter] = [word]\n",
    "\n",
    "# Mostramos el resultado\n",
    "print(words_by_first_letter)"
   ]
  },
  {
   "cell_type": "markdown",
   "metadata": {},
   "source": [
    "Observemos ahora cómo podemos simplificar el código usando un [`defaultdict`](https://docs.python.org/3.8/library/collections.html#collections.defaultdict):\n"
   ]
  },
  {
   "cell_type": "code",
   "execution_count": null,
   "metadata": {},
   "outputs": [],
   "source": [
    "# Creamos el diccionario defaultdict\n",
    "words_by_first_letter = defaultdict(list)\n",
    "\n",
    "# Iteramos por cada palabra del texto\n",
    "for word in words.split(\" \"):\n",
    "    # Recuperamos la primera letra\n",
    "    first_letter = word[0]\n",
    "    # Añadimos la palabra en la llista de la inicial correspondiente\n",
    "    words_by_first_letter[first_letter].append(word)\n",
    "\n",
    "print(words_by_first_letter)"
   ]
  },
  {
   "cell_type": "markdown",
   "metadata": {},
   "source": [
    "Tened en cuenta que, en este caso, no necesitamos inicializar manualmente la lista.\n"
   ]
  },
  {
   "cell_type": "markdown",
   "metadata": {},
   "source": [
    "# 2.- Tipos de datos avanzados: el módulo `datetime`\n"
   ]
  },
  {
   "cell_type": "markdown",
   "metadata": {},
   "source": [
    "Ya conocemos los tipos de datos básicos más habituales en Python: [`int`](https://docs.python.org/3.8/library/functions.html#int) y [`float`](https://docs.python.org/3.8/library/functions.html#float), que nos permiten representar valores numéricos; [`bool`](https://docs.python.org/3.8/library/functions.html#bool), para representar valores booleanos; y [`str`](https://docs.python.org/3.8/library/stdtypes.html#text-sequence-type-str), para representar cadenas de caracteres. También hemos utilizado tipos compuestos, tales como [`list`](https://docs.python.org/3.8/library/stdtypes.html#list), [`tuple`](https://docs.python.org/3.8/library/stdtypes.html#tupla), [`dict`](https://docs.python.org/3.8/library/stdtypes.html#dict) y [`set`](https://docs.python.org/3.8/library/stdtypes.html#set). En esta sección, presentaremos otras clases que permiten representar tipos más complejos, tales como fechas y tiempos.\n",
    "\n",
    "El módulo [`datetime`](https://docs.python.org/3.8/library/datetime.html) de Python ofrece herramientas para trabajar con fechas y horas. Así, este módulo nos provee de herramientas para afrontar las problemáticas más habituales de la gestión de fechas y horas, como son la representación del tiempo en cadenas de caracteres con formatos diferentes, cálculos relativos a calendarios, cálculo de incrementos de tiempo, conversiones entre unidades de tiempo, gestión de husos horarios, etc. Todo esto facilita enormemente el trabajo de tratar con conjuntos de datos que contienen fechas y horas.\n",
    "\n",
    "A modo de ejemplo, intentad pensar como implementaríais, con las librerías de Python que hemos presentado hasta ahora, pequeños programas que permitieran calcular:\n",
    "\n",
    "1. A partir de una fecha concreta, el día de la semana (lunes, martes, ..., domingo) que era, es o será ese día.\n",
    "\n",
    "2. Si los valores \"2019-11-15\" y \"Friday, November 15, 2019\" corresponden o no a la misma fecha.\n",
    "\n",
    "3. Qué día será dentro de 30 días.\n",
    "\n",
    "4. Si el año 2200 será o no un año bisiesto.\n",
    "\n",
    "Todo este tipo de problemas son fácilmente implementables con las funciones que proporciona el módulo [`datetime`](https://docs.python.org/3.8/library/datetime.html). Las clases principales de este módulo son [`date`](https://docs.python.org/3.8/library/datetime.html#date-objects), que permite trabajar con fechas; [`time`](https://docs.python.org/3.8/library/datetime.html#time-objects) con tiempos; [`datetime`](https://docs.python.org/3.8/library/datetime.html#datetime-objects) con fechas completas que incluyen también el tiempo; y [`timedelta`](https://docs.python.org/3.8/library/datetime.html#timedelta-objects) que procesa incrementos de tiempo.\n",
    "\n",
    "## 2.1.- Creación de objetos que representan fechas y horas\n",
    "\n",
    "Podemos crear objetos que representan fechas, horas o fechas con horas especificando las diferentes componentes de cada estructura manualmente. El ejemplo siguiente muestra cómo crear una fecha, una hora y una fecha con hora utilizando esta estrategia:\n"
   ]
  },
  {
   "cell_type": "code",
   "execution_count": null,
   "metadata": {},
   "outputs": [],
   "source": [
    "import datetime\n",
    "\n",
    "# Creamos un objeto date que representa una fecha concreta\n",
    "a_date = datetime.date(year=2017, month=10, day=1)\n",
    "# De manera más concisa, podríamos hacer:\n",
    "# a_date = datetime.date(2017, 1, 11)\n",
    "print(a_date)\n",
    "\n",
    "# Creamos un objeto time que representa una hora\n",
    "a_time = datetime.time(hour=17, minute=14, second=42)\n",
    "# De manera más concisa, podríamos hacer:\n",
    "# a_time = datetime.time(17, 14, 42)\n",
    "print(a_time)\n",
    "\n",
    "# Creamos un objeto datetime, que representa una fecha con tiempo\n",
    "a_datetime = datetime.datetime(year=2017, month=10, day=1,\n",
    "                               hour=17, minute=14, second=42)\n",
    "# De manera más concisa, podríamos hacer:\n",
    "# a_datetime = datetime.datetime(2017, 1, 11, 17, 14, 42)\n",
    "print(a_datetime)"
   ]
  },
  {
   "cell_type": "markdown",
   "metadata": {},
   "source": [
    "Ahora bien, es muy habitual encontrar conjuntos de datos en que las fechas y horas no se encuentran desglosadas en año, mes, día, hora, minuto y segundo, sino que éstas se representan como cadenas de caracteres, que pueden seguir convenciones diferentes a la hora de expresar las fechas y las horas. Así, tendremos que poder crear los objetos a partir de cadenas de caracteres, y necesitaremos algún lenguaje para poder definir el formato de estas cadenas.\n",
    "\n",
    "Las clases [`datetime`](https://docs.python.org/3.8/library/datetime.html), [`date`](https://docs.python.org/3.8/library/datetime.html#date-objects) y [`time`](https://docs.python.org/3.8/library/datetime.html#time-objects) disponen del método [`strptime`](https://docs.python.org/3.8/library/datetime.html#datetime.datetime.strptime) que permite crear un objeto [`datetime`](https://docs.python.org/3.8/library/datetime.html), [`date`](https://docs.python.org/3.8/library/datetime.html#date-objects) y [`time`](https://docs.python.org/3.8/library/datetime.html#time-objects) a partir de una cadena de caracteres con la fecha y/o hora y de otra cadena de caracteres que informa del formato. A continuación se expone cómo crear un objeto [`datetime`](https://docs.python.org/3.8/library/datetime.html) a partir de una cadena de caracteres. Toda esta funcionalidad puede ser utilizada también de manera análoga para crear objetos [`date`](https://docs.python.org/3.8/library/datetime.html#date-objects) y [`time`](https://docs.python.org/3.8/library/datetime.html#time-objects).\n",
    "\n",
    "Así pues, podemos crear un objeto [`datetime`](https://docs.python.org/3.8/library/datetime.html) a partir de la cadena de caracteres \"2017-10-01 17:14:42\" de la manera siguiente:\n"
   ]
  },
  {
   "cell_type": "code",
   "execution_count": null,
   "metadata": {},
   "outputs": [],
   "source": [
    "str_date = \"2017-10-01 17:14:42\"\n",
    "a_datetime_from_str = datetime.datetime.strptime(str_date, \"%Y-%m-%d %H:%M:%S\")\n",
    "print(a_datetime_from_str)\n",
    "a_datetime == a_datetime_from_str"
   ]
  },
  {
   "cell_type": "markdown",
   "metadata": {},
   "source": [
    "El primer parámetro de la llamada, \"2017-10-01 17:14:42\", informa de la fecha a representar, mientras que el segundo parámetro, \"\"%Y-%m-%d %H:%M:%S\", informa del formato que utiliza la primera cadena. Para representar el formato, se utilizan unos comodines, indicados con el símbolo `%`, y otros caracteres no especiales (como el guión, `-` o los dos puntos,`:`). Así, en este caso, informamos que la cadena que representa la fecha y el tiempo está formada por:\n",
    "* el año representado usando cuatro dígitos (`%Y`),\n",
    "* un guión que separa el año del mes (`-`),\n",
    "* el mes representado utilizando dos dígitos (`%m`),\n",
    "* un guión que separa el mes del día (`-`),\n",
    "* el día representado usando dos dígitos (`%d`),\n",
    "* un espacio separando la fecha de la hora (``),\n",
    "* la hora representada en formato 24 horas y utilizando dos dígitos ( `%H`),\n",
    "* los dos puntos separando la hora de los minutos (`:`),\n",
    "* los minutos representados con dos dígitos (`%M`),\n",
    "* los dos puntos separando los minutos de los segundos (`:`),\n",
    "* y finalmente, los segundos representados con dos dígitos (`%S`).\n",
    "\n",
    "Es importante notar que la especificación del formato nos permite evitar ningún tipo de ambigüedad a la hora de interpretar la fecha. Así, por ejemplo, podemos saber que se quiere representar el día 1 de octubre y no el día 10 de enero. Podríamos cambiar esta interpretación, modificando la cadena que expresa el formato, de manera que el mes y el día intercambiaran el orden:\n"
   ]
  },
  {
   "cell_type": "code",
   "execution_count": null,
   "metadata": {},
   "outputs": [],
   "source": [
    "a_date_from_str = datetime.datetime.strptime(str_date, \"%Y-%d-%m %H:%M:%S\")\n",
    "print(a_date_from_str)"
   ]
  },
  {
   "cell_type": "markdown",
   "metadata": {},
   "source": [
    "Tened en cuenta que, en el ejemplo anterior, la cadena que representa la fecha es exactamente la misma, pero cambiando la especificación del formato, hemos hecho que se interprete de manera diferente, indicando ahora el 10 de enero.\n",
    "\n",
    "La cadena de caracteres que hemos utilizado siempre utiliza el formato completo para expresar cualquier unidad de tiempo, anteponiendo ceros si es necesario. Así, para representar el primer día del mes, utiliza dos dígitos, `01`. Existen comodines para representar también las diferentes unidades sin anteponer el cero, así como para representar años utilizando sólo dos dígitos, meses utilizando el nombre del mes en lugar del número, horas en formato AM/PM, y ¡muchas otras variantes! Podéis encontrar la especificación completa del formato en la [documentación oficial del módulo `datetime`](https://docs.python.org/3/library/datetime.html#strftime-and-strptime-format-codes). A continuación, se exponen algunos ejemplos adicionales:\n"
   ]
  },
  {
   "cell_type": "code",
   "execution_count": null,
   "metadata": {},
   "outputs": [],
   "source": [
    "# Cambiando el formato de los separadores\n",
    "a_date_from_str = datetime.datetime.strptime(\n",
    "    \"2017/10/01 17*14*42\", \"%Y/%m/%d %H*%M*%S\")\n",
    "print(a_date_from_str)"
   ]
  },
  {
   "cell_type": "code",
   "execution_count": null,
   "metadata": {},
   "outputs": [],
   "source": [
    "# Expresando el año con dos dígitos\n",
    "a_date_from_str = datetime.datetime.strptime(\n",
    "    \"17-10-01 17:14:42\", \"%y-%m-%d %H:%M:%S\")\n",
    "print(a_date_from_str)\n",
    "a_date_from_str = datetime.datetime.strptime(\n",
    "    \"95-10-01 17:14:42\", \"%y-%m-%d %H:%M:%S\")\n",
    "print(a_date_from_str)"
   ]
  },
  {
   "cell_type": "markdown",
   "metadata": {},
   "source": [
    "Notad cómo, en el caso anterior, Python interpreta el siglo en función de los últimos dos dígitos del año.\n"
   ]
  },
  {
   "cell_type": "code",
   "execution_count": null,
   "metadata": {},
   "outputs": [],
   "source": [
    "# Incluyendo el día de la semana y expresando el mes con el nombre\n",
    "a_date_from_str = datetime.datetime.strptime(\n",
    "    'Sunday, 01 October 2017 17:14:42', \"%A, %d %B %Y %H:%M:%S\")\n",
    "print(a_date_from_str)"
   ]
  },
  {
   "cell_type": "code",
   "execution_count": null,
   "metadata": {},
   "outputs": [],
   "source": [
    "# Con el día de la semana y el mes abreviados\n",
    "a_date_from_str = datetime.datetime.strptime(\n",
    "    'Sun, 01 Oct 2017 17:14:42', \"%a, %d %b %Y %H:%M:%S\")\n",
    "print(a_date_from_str)"
   ]
  },
  {
   "cell_type": "markdown",
   "metadata": {},
   "source": [
    "En informática, también se puede utilizar el *unix time stamp* como manera de medir el tiempo. El *unix time stamp* representa el tiempo como un entero, que cuenta los segundos transcurridos desde el 1 de enero de 1970. Podemos crear objetos que representan una fecha a partir de un *unix timestamp* con el método [`fromtimestamp`](https://docs.python.org/3.8/library/datetime.html#datetime.date.fromtimestamp):\n"
   ]
  },
  {
   "cell_type": "code",
   "execution_count": null,
   "metadata": {},
   "outputs": [],
   "source": [
    "a_date_from_ts = datetime.date.fromtimestamp(1573840426)\n",
    "print(a_date_from_ts)"
   ]
  },
  {
   "cell_type": "markdown",
   "metadata": {},
   "source": [
    "A menudo también nos interesará utilizar la fecha o tiempo actual en nuestras aplicaciones. Podemos crear objetos que representen el momento actual a través de las funciones [`today`](https://docs.python.org/3.8/library/datetime.html#datetime.datetime.today) y [`now`]( https://docs.python.org/3.8/library/datetime.html#datetime.datetime.now):\n"
   ]
  },
  {
   "cell_type": "code",
   "execution_count": null,
   "metadata": {},
   "outputs": [],
   "source": [
    "# Creamos un objeto con la fecha actual\n",
    "now_date = datetime.date.today()\n",
    "print(now_date)\n",
    "\n",
    "# Creamos un objeto con la fecha y hora actual\n",
    "now_datetime = datetime.datetime.now()\n",
    "print(now_datetime)"
   ]
  },
  {
   "cell_type": "markdown",
   "metadata": {},
   "source": [
    "## 2.2.- Mostrando la fecha y el tiempo en diferentes formatos\n"
   ]
  },
  {
   "cell_type": "markdown",
   "metadata": {},
   "source": [
    "Hasta ahora hemos visto como el método [`strptime`](https://docs.python.org/3.8/library/datetime.html#datetime.datetime.strptime) permite crear objetos [`datetime`](https://docs.python.org/3.8/library/datetime.html), [`date`](https://docs.python.org/3.8/library/datetime.html#date-objects) y [`time`](https://docs.python.org/3.8/library/datetime.html#time-objects) a partir de una cadena de caracteres. De manera análoga, el método [`strftime`](https://docs.python.org/3.8/library/datetime.html#datetime.datetime.strftime) permite obtener una cadena de caracteres que representa una fecha, hora, o fecha con hora en un formato concreto, que se especifica utilizando la misma sintaxis que [`strptime`](https://docs.python.org/3.8/library/datetime.html#datetime.datetime.strptime).\n"
   ]
  },
  {
   "cell_type": "code",
   "execution_count": null,
   "metadata": {},
   "outputs": [],
   "source": [
    "# Creamos un objeto con la fecha y hora actual\n",
    "now_datetime = datetime.datetime.now()\n",
    "\n",
    "# Mostramos la fecha y hora utilizando 4 dígitos para los años, y 2\n",
    "# para el mes, día, hora, minuto y segundos\n",
    "print(now_datetime.strftime(\"%Y-%m-%d %H:%M:%S\"))\n",
    "\n",
    "# Invertimos el orden del día y el mes\n",
    "print(now_datetime.strftime(\"%Y-%d-%m %H:%M:%S\"))\n",
    "\n",
    "# Cambiamos el formato de los separadores\n",
    "print(now_datetime.strftime(\"%Y/%m/%d %H*%M*%S\"))\n",
    "\n",
    "# Expresando el año con dos dígitos\n",
    "print(now_datetime.strftime(\"%y-%m-%d %H:%M:%S\"))\n",
    "\n",
    "# Incluyendo el día de la semana y expresando el mes con el nombre\n",
    "print(now_datetime.strftime(\"%A, %d %B %Y %H:%M:%S\"))\n",
    "\n",
    "# Con el día de la semana y el mes abreviados\n",
    "print(now_datetime.strftime(\"%a, %d %b %Y %H:%M:%S\"))"
   ]
  },
  {
   "cell_type": "markdown",
   "metadata": {},
   "source": [
    "Además de utilizar [`strftime`](https://docs.python.org/3.8/library/datetime.html#datetime.datetime.strftime) para obtener cadenas de caracteres que representen fechas, también nos puede ser de utilidad la función [`isoformat`](https://docs.python.org/3.8/library/datetime.html#datetime.date.isoformat), que ya devuelve la cadena en formato ISO 8601 (año - mes - día, utilizando 4 dígitos para el año y 2 para el día y mes), sin necesidad de especificarlo manualmente:"
   ]
  },
  {
   "cell_type": "code",
   "execution_count": null,
   "metadata": {},
   "outputs": [],
   "source": [
    "# Mostramos la fecha y hora en formato ISO 8601\n",
    "now_datetime.isoformat()"
   ]
  },
  {
   "cell_type": "markdown",
   "metadata": {},
   "source": [
    "## 2.3.- Trabajando con fechas y tiempos\n",
    "\n",
    "Ya hemos visto una de las funcionalidades de los objetos que representan fechas y tiempo, que es la de interpretar y generar cadenas de caracteres que representan fechas en diferentes formatos. A continuación, veremos otras operaciones habituales sobre estos objetos.\n",
    "\n",
    "Podemos acceder a las diferentes componentes que conforman una fecha con hora consultando los atributos de los objetos [`datetime`](https://docs.python.org/3.8/library/datetime.html), [`date`](https://docs.python.org/3.8/library/datetime.html#date-objects) y [`time`](https://docs.python.org/3.8/library/datetime.html#time-objects). Nótese que, en este caso, el tipo de datos de los valores a los que accedemos es un entero, en vez de una cadena de caracteres como obteníamos con [`strftime`](https://docs.python.org/3.8/library/datetime.html#datetime.datetime.strftime):\n"
   ]
  },
  {
   "cell_type": "code",
   "execution_count": null,
   "metadata": {},
   "outputs": [],
   "source": [
    "# Accedemos a las diferentes componentes de una fecha con hora\n",
    "y = now_datetime.year\n",
    "mo = now_datetime.month\n",
    "d = now_datetime.day\n",
    "h = now_datetime.hour\n",
    "mi = now_datetime.minute\n",
    "s = now_datetime.second\n",
    "\n",
    "print(\"Year is {} and is an {}\".format(y, type(y)))\n",
    "print(\"Month is {} and is an {}\".format(mo, type(mo)))\n",
    "print(\"Day is {} and is an {}\".format(d, type(d)))\n",
    "print(\"Hour is {} and is an {}\".format(h, type(h)))\n",
    "print(\"Minute is {} and is an {}\".format(mi, type(mi)))\n",
    "print(\"Second is {} and is an {}\".format(s, type(s)))"
   ]
  },
  {
   "cell_type": "markdown",
   "metadata": {},
   "source": [
    "Más allá del acceso a las componentes que conforman la fecha, también podemos acceder a otros datos de esta, como a qué semana del año pertenece o bien a qué día de la semana corresponde:\n"
   ]
  },
  {
   "cell_type": "code",
   "execution_count": null,
   "metadata": {},
   "outputs": [],
   "source": [
    "# Obtenemos una tupla de 3 valores: (año ISO, núm. de semana ISO,\n",
    "# día de la semana ISO)\n",
    "iso_cal = now_datetime.isocalendar()\n",
    "print(\"The week is: {}\".format(iso_cal[1]))\n",
    "print(\"The day is: {}\".format(iso_cal[2]))"
   ]
  },
  {
   "cell_type": "code",
   "execution_count": null,
   "metadata": {},
   "outputs": [],
   "source": [
    "# También podemos obtener únicamente el día de la semana con weekday()\n",
    "print(\"The day is: {}\".format(now_datetime.weekday()))"
   ]
  },
  {
   "cell_type": "markdown",
   "metadata": {},
   "source": [
    "Las dos alternativas utilizan convenciones diferentes para referirse a los días de la semana: [`weekday`](https://docs.python.org/3.8/library/datetime.html#datetime.datetime.weekday) considera que el el lunes es un 0 y el domingo es un 6, mientras que [`isocalendar`](https://docs.python.org/3.8/library/datetime.html#datetime.datetime.isocalendar) representa los lunes con un 1 y los domingos con 7.\n",
    "\n",
    "Para convertir el valor numérico devuelto por [`weekday`](https://docs.python.org/3.8/library/datetime.html#datetime.datetime.weekday) a una cadena de caracteres con el nombre del día de la semana, podemos utilizar el módulo [`calendar`](https://docs.python.org/3.8/library/calendar.html):\n"
   ]
  },
  {
   "cell_type": "code",
   "execution_count": null,
   "metadata": {},
   "outputs": [],
   "source": [
    "# Importamos el módulo calendar\n",
    "import calendar\n",
    "\n",
    "# Obtenemos el nombre del día\n",
    "print('Day of Week: ', calendar.day_name[now_datetime.weekday()])\n",
    "\n",
    "# Alternativamente, también hubiéramos podido utilizar strftime para obtener la\n",
    "# mismo dato\n",
    "print(now_datetime.strftime(\"Short day name: %a\"))\n",
    "print(now_datetime.strftime(\"Full day name: %A\"))"
   ]
  },
  {
   "cell_type": "markdown",
   "metadata": {},
   "source": [
    "La gestión del idioma en que se muestran los nombres de los días de la semana o los meses se configura con el módulo [`locale`](https://docs.python.org/3.8/library/locale.html). Así, por ejemplo, si queremos obtener el nombre del día de la semana en castalán, haríamos:\n"
   ]
  },
  {
   "cell_type": "code",
   "execution_count": null,
   "metadata": {},
   "outputs": [],
   "source": [
    "# Importamos el módulo locale\n",
    "import locale\n",
    "\n",
    "# Especificamos el idioma español\n",
    "locale.setlocale(locale.LC_ALL, 'ca_ES.UTF-8')\n",
    "\n",
    "# Mostramos el nombre del día\n",
    "print('Day of Week:', calendar.day_name[now_datetime.weekday()])"
   ]
  },
  {
   "cell_type": "markdown",
   "metadata": {},
   "source": [
    "Otra de las características que implementan los objetos de representación de fechas y horas que trabajamos en esta unidad es la posibilidad de compararlos:\n"
   ]
  },
  {
   "cell_type": "code",
   "execution_count": null,
   "metadata": {},
   "outputs": [],
   "source": [
    "# Importamos la función sleep, que permite introducir esperas en la ejecución\n",
    "# de código\n",
    "from time import sleep\n",
    "\n",
    "# Obtenemos la fecha y hora actuales\n",
    "now_1_dt = datetime.datetime.now()\n",
    "# Esperamos 3 segundos\n",
    "sleep(3)\n",
    "# Obtenemos la fecha y hora actuales (después de la espera de 3 segundos)\n",
    "now_2_dt = datetime.datetime.now()\n",
    "\n",
    "# Comparamos las dos fechas\n",
    "print('now_1_dt == now_2_dt: {}'.format(now_1_dt == now_2_dt))\n",
    "print('now_1_dt < now_2_dt: {}'.format(now_1_dt < now_2_dt))\n",
    "print('now_1_dt.date() == now_2_dt.date(): {}'.format(\n",
    "    now_1_dt.date() == now_2_dt.date()))"
   ]
  },
  {
   "cell_type": "markdown",
   "metadata": {},
   "source": [
    "Los dos valores de fecha y hora no son iguales (ya que hay tres segundos de diferencia) pero, en cambio, el día sí es el mismo (a menos que ejecutamos el código justo en el momento en que cambiamos de día) .\n"
   ]
  },
  {
   "cell_type": "markdown",
   "metadata": {},
   "source": [
    "## 2.4.- Incrementos de tiempo\n",
    "\n",
    "Otra de las clases que incorpora el módulo [`datetime`](https://docs.python.org/3.8/library/datetime.html) es [` timedelta`](https://docs.python.org/3.8/library/datetime.html#timedelta-objects). Esta clase nos permite representar incrementos de tiempo, así como manipular fechas y horas utilizando estos incrementos.\n",
    "\n",
    "Fijémonos, por ejemplo, en las dos fechas que hemos creado anteriormente con diferencia de tres segundos. Hemos visto que las podíamos comparar, para saber cuál es anterior o si son iguales. Ahora bien, ¿cómo podríamos saber el tiempo que ha transcurrido entre una y la otra? Podríamos calcularlo manualmente a partir de ir recuperando las diferentes componentes de la fecha con hora, pero la clase [`timedelta`](https://docs.python.org/3.8/library/datetime.html#timedelta-objects) ya implementa esta funcionalidad:\n"
   ]
  },
  {
   "cell_type": "code",
   "execution_count": null,
   "metadata": {},
   "outputs": [],
   "source": [
    "# Calculamos el tiempo transcurrido y el mostramos\n",
    "delta = now_2_dt - now_1_dt\n",
    "print(\"Datetimes differ in: {} seconds\".format(delta))\n",
    "print(\"Delta is: {}\".format(type(delta)))"
   ]
  },
  {
   "cell_type": "markdown",
   "metadata": {},
   "source": [
    "El resultado de restar dos objetos [`datetime`](https://docs.python.org/3.8/library/datetime.html#datetime-objects) es un objeto [`timedelta`](https://docs.python.org/3.8/library/datetime.html#timedelta-objects) que representa el tiempo transcurrido. A continuación, veremos algunos ejemplos más de cómo se usan objetos [`timedelta`](https://docs.python.org/3.8/library/datetime.html#timedelta-objects) para representar incrementos de tiempo:\n"
   ]
  },
  {
   "cell_type": "code",
   "execution_count": null,
   "metadata": {},
   "outputs": [],
   "source": [
    "# Creamos tres datetimes\n",
    "dt_1 = datetime.datetime(year=2017, month=10, day=1,\n",
    "                         hour=17, minute=14, second=42)\n",
    "\n",
    "dt_2 = datetime.datetime(year=2017, month=12, day=1,\n",
    "                         hour=17, minute=14, second=42)\n",
    "\n",
    "dt_3 = datetime.datetime(year=2017, month=10, day=15,\n",
    "                         hour=20, minute=16, second=42)\n",
    "\n",
    "# Creamos timedeltas con las diferencias\n",
    "tm_1 = dt_2 - dt_1\n",
    "tm_2 = dt_3 - dt_1\n",
    "tm_3 = dt_3 - dt_2\n",
    "print(\"Timedelta between dt_1 and dt_2: {}\".format(tm_1))\n",
    "print(\"Timedelta between dt_1 and dt_3: {}\".format(tm_2))\n",
    "print(\"Timedelta between dt_2 and dt_3: {}\".format(tm_3))"
   ]
  },
  {
   "cell_type": "markdown",
   "metadata": {},
   "source": [
    "Fijaos como al mostrar por pantalla el valor de un [`timedelta`](https://docs.python.org/3.8/library/datetime.html#timedelta-objects), obtenemos una cadena de caracteres anotada (se incluye el número de días y la palabra `days`, seguida de la hora informada con hora:minutos:segundos).\n",
    "\n",
    "Si lo preferimos, también podemos obtener el número de segundos que representa el [`timedelta`](https://docs.python.org/3.8/library/datetime.html#timedelta-objects) como valor numérico (en este caso , un [`float`](https://docs.python.org/3.8/library/functions.html#float)):\n"
   ]
  },
  {
   "cell_type": "code",
   "execution_count": null,
   "metadata": {},
   "outputs": [],
   "source": [
    "# Mostramos el número de segundos del tm_1\n",
    "ts = tm_1.total_seconds()\n",
    "print(\"Seconds elapsed: {}\".format(ts))\n",
    "print(\"Result is: {}\".format(type(ts)))"
   ]
  },
  {
   "cell_type": "markdown",
   "metadata": {},
   "source": [
    "También podemos construir un objeto [`timedelta`](https://docs.python.org/3.8/library/datetime.html#timedelta-objects) para obtener fechas pasadas o futuras a partir de una fecha de referencia:\n"
   ]
  },
  {
   "cell_type": "code",
   "execution_count": null,
   "metadata": {},
   "outputs": [],
   "source": [
    "# Creamos un timedelta de 3 semanas\n",
    "d = datetime.timedelta(weeks=3)\n",
    "\n",
    "# Calculamos que día será dentro de tres semanas\n",
    "future_3_weeks = now_1_dt + d\n",
    "print(\"The date in three weeks will be: {}\".format(future_3_weeks))\n",
    "\n",
    "# Calculamos que día era hace tres semanas\n",
    "past_3_weeks = now_1_dt - d\n",
    "print(\"The date three weeks ago was: {}\".format(past_3_weeks))"
   ]
  },
  {
   "cell_type": "markdown",
   "metadata": {},
   "source": [
    "Se pueden crear objetos [`timedelta`](https://docs.python.org/3.8/library/datetime.html#timedelta-objects) especificando semanas, días, horas, minutos, segundos, milisegundos o microsegundos:\n"
   ]
  },
  {
   "cell_type": "code",
   "execution_count": null,
   "metadata": {},
   "outputs": [],
   "source": [
    "# Creamos varios timedeltas\n",
    "one_day = datetime.timedelta(days=1)\n",
    "eleven_seconds = datetime.timedelta(seconds=11)\n",
    "five_hours = datetime.timedelta(hours=5)\n",
    "eleven_and_so_seconds = datetime.timedelta(seconds=11.56845)\n",
    "one_microsecond = datetime.timedelta(microseconds=1)\n",
    "\n",
    "# Operamos con los timedeltas\n",
    "print(\"One day in the future: {}\".format(now_1_dt + one_day))\n",
    "print(\"One day in the past: {}\".format(now_1_dt - one_day))\n",
    "print(\"Adding one microsecond: {}\".format(now_1_dt + one_microsecond))"
   ]
  },
  {
   "cell_type": "markdown",
   "metadata": {},
   "source": [
    "## 2.5.- El calendario\n",
    "\n",
    "En los ejemplos que hemos visto en el apartado anterior, hemos utilizado el módulo [`calendar`](https://docs.python.org/3.8/library/calendar.html#module-calendar) para obtener el nombre del día de la semana correspondiente a una fecha concreta. Las funcionalidades de este módulo, sin embargo, no se limitan al cálculo del día de la semana. El módulo [`calendar`](https://docs.python.org/3.8/library/calendar.html#module-calendar), como su nombre indica, nos provee de funcionalidades relativas al calendario.\n",
    "\n",
    "Un ejemplo de las funcionalidades más evidentes de un calendario es mostrar el propio calendario.\n"
   ]
  },
  {
   "cell_type": "code",
   "execution_count": null,
   "metadata": {},
   "outputs": [],
   "source": [
    "# Mostramos el calendario del año 2020\n",
    "print(calendar.calendar(2020))"
   ]
  },
  {
   "cell_type": "code",
   "execution_count": null,
   "metadata": {},
   "outputs": [],
   "source": [
    "# Mostramos el calendario de octubre de 2020\n",
    "print(calendar.month(2020, 10))"
   ]
  },
  {
   "cell_type": "markdown",
   "metadata": {},
   "source": [
    "Entre otras funcionalidades, el módulo [`calendar`](https://docs.python.org/3.8/library/calendar.html#module-calendar) nos permite saber si un año es o no bisiesto con la función [`isleap`](https://docs.python.org/3.8/library/calendar.html#calendar.isleap), o bien contar el número de días bisiestos que hay entre dos años:\n"
   ]
  },
  {
   "cell_type": "code",
   "execution_count": null,
   "metadata": {},
   "outputs": [],
   "source": [
    "# Calculamos si el año 2020 es bisiesto\n",
    "calendar.isleap(2020)"
   ]
  },
  {
   "cell_type": "code",
   "execution_count": null,
   "metadata": {},
   "outputs": [],
   "source": [
    "# Calculamos el número de días bisiestos entre los años\n",
    "# 2000 y 2050\n",
    "calendar.leapdays(2020, 2050)"
   ]
  },
  {
   "cell_type": "markdown",
   "metadata": {},
   "source": [
    "## 2.6.- Recapitulando\n",
    "\n",
    "Al inicio de esta sección, nos planteábamos un conjunto de preguntas relacionadas con la gestión de las fechas y las horas que parecían, a priori, poco directas de resolver. Como punto final de la sección, responderemos a estas preguntas utilizando lo aprendido en esta unidad, y constataremos como de fácil puede ser contestarlas con las herramientas adecuadas.\n"
   ]
  },
  {
   "cell_type": "markdown",
   "metadata": {},
   "source": [
    "En primer lugar, nos planteábamos cómo obtener el día de la semana (lunes, martes, ..., domingo) correspondiente a una fecha concreta.\n",
    "\n",
    "A partir de un objeto [`date`](https://docs.python.org/3.8/library/datetime.html#date-objects) (o [`datetime`](https://docs.python.org/3.8/library/datetime.html#datetime-objects)) que representa una fecha, hemos presentado dos maneras diferentes de obtener el día de la semana:\n"
   ]
  },
  {
   "cell_type": "code",
   "execution_count": null,
   "metadata": {},
   "outputs": [],
   "source": [
    "# Creamos un objeto date que representa una fecha concreta\n",
    "a_date = datetime.date(year=2022, month=12, day=25)\n",
    "\n",
    "# Alternativa 1: Obtenemos el día con .weekday() y el nombre del día\n",
    "# con el método day_name del módulo calendar\n",
    "print('Day of Week:', calendar.day_name[a_date.weekday()])\n",
    "\n",
    "# Alternativa 2: Usamos strftime para obtener el nombre del día de la semana\n",
    "print(a_date.strftime(\"Day of Week: %A\"))"
   ]
  },
  {
   "cell_type": "markdown",
   "metadata": {},
   "source": [
    "En segundo lugar, queríamos descubrir si las cadenas de caracteres \"2019-11-15\" y \"Friday, November 15, 2019\" correspondían o no a la misma fecha.\n",
    "\n",
    "Podemos crear dos objetos [`date`](https://docs.python.org/3.8/library/datetime.html#date-objects) que representen las fechas expresadas para cada una de las cadenas de caracteres y, después, compararlos los para comprobar su igualdad:\n"
   ]
  },
  {
   "cell_type": "code",
   "execution_count": null,
   "metadata": {},
   "outputs": [],
   "source": [
    "# Creamos dos objetos date a partir de las cadenas de caracteres, especificando\n",
    "# como idioma el inglés para interpretar correctamente la segunda cadena\n",
    "date_1 = datetime.datetime.strptime(\n",
    "    \"2019-11-15\", \"%Y-%m-%d\")\n",
    "locale.setlocale(locale.LC_ALL, 'en_GB.UTF-8')\n",
    "date_2 = datetime.datetime.strptime(\n",
    "    \"Friday, November 15, 2019\", \"%A, %B %d, %Y\")\n",
    "\n",
    "# Comparamos la igualdad de las fechas creadas\n",
    "date_1 == date_2"
   ]
  },
  {
   "cell_type": "markdown",
   "metadata": {},
   "source": [
    "En tercer lugar, queríamos saber qué día será dentro de 30 días.\n",
    "\n",
    "Podemos combinar la funcionalidad de obtención de la fecha actual con un [`timedelta`](https://docs.python.org/3.8/library/datetime.html#timedelta-objects) que represente 30 días para saber qué día será dentro de 30 días:\n"
   ]
  },
  {
   "cell_type": "code",
   "execution_count": null,
   "metadata": {},
   "outputs": [],
   "source": [
    "# Creamos un objeto con la fecha actual\n",
    "now_date = datetime.date.today()\n",
    "\n",
    "# Creamos un datetime de 30 días\n",
    "dt_30days = datetime.timedelta(days=30)\n",
    "\n",
    "# Sumamos los 30 días a la fecha actual\n",
    "print(now_date + dt_30days)"
   ]
  },
  {
   "cell_type": "markdown",
   "metadata": {},
   "source": [
    "Finalmente, nos preguntábamos si el año 2200 será o no un año bisiesto.\n",
    "\n",
    "El módulo [`calendar`](https://docs.python.org/3.8/library/calendar.html#module-calendar) nos permite comprobar si un año es bisiesto con el método [`isleap`](https://docs.python.org/3.8/library/calendar.html#calendar.isleap):\n"
   ]
  },
  {
   "cell_type": "code",
   "execution_count": null,
   "metadata": {},
   "outputs": [],
   "source": [
    "# Comprobamos si el año 2200 es un año bisiesto\n",
    "calendar.isleap(2200)"
   ]
  },
  {
   "cell_type": "markdown",
   "metadata": {},
   "source": [
    "# 3.- Cadenas de caracteres\n"
   ]
  },
  {
   "cell_type": "markdown",
   "metadata": {},
   "source": [
    "Ya conocemos algunas de las funciones de manipulación de cadenas de caracteres básicas, que nos permiten concatenar cadenas entre ellas, formar cadenas a partir de otras cadenas y de variables numéricas, particionar cadenas (usando *slicing*) y crear cadenas de caracteres a partir de listas. Iniciaremos esta sección haciendo un repaso de estas funciones básicas:\n"
   ]
  },
  {
   "cell_type": "code",
   "execution_count": null,
   "metadata": {},
   "outputs": [],
   "source": [
    "# Creamos 4 cadenas de caracteres\n",
    "str_1 = \"Today is:\"\n",
    "str_2 = \"Friday\"\n",
    "str_3 = \"Coding day\"\n",
    "pep_20 = \"Beautiful is better than ugly.\\nExplicit is better than implicit.\""
   ]
  },
  {
   "cell_type": "code",
   "execution_count": null,
   "metadata": {},
   "outputs": [],
   "source": [
    "# Creamos nuevas cadenas concatenando las cadenas anteriores\n",
    "# con espacios que las separan\n",
    "str_4 = str_1 + \" \" + str_2\n",
    "print(str_4)\n",
    "str_5 = str_1 + \" \" + str_3\n",
    "print(str_5)"
   ]
  },
  {
   "cell_type": "code",
   "execution_count": null,
   "metadata": {},
   "outputs": [],
   "source": [
    "# Creamos cadenas a partir de valores de variables numéricas\n",
    "str_6 = str_1 + \" my {}th day of programming\".format(6)\n",
    "print(str_6)"
   ]
  },
  {
   "cell_type": "code",
   "execution_count": null,
   "metadata": {},
   "outputs": [],
   "source": [
    "# También podemos utilizar la funcionalidad de las cadenas-f\n",
    "# para formatear texto de manera compacta\n",
    "days = 6\n",
    "f'{str_1} my {days}th day of programming'"
   ]
  },
  {
   "cell_type": "code",
   "execution_count": null,
   "metadata": {},
   "outputs": [],
   "source": [
    "# Mostramos los 9 primeros caracteres de la cadena pep_20\n",
    "print(pep_20[:9])\n",
    "# Mostramos los caracteres del 25 al 29 (este último no incluido)\n",
    "print(pep_20[25:29])\n",
    "# Mostramos el último carácter\n",
    "print(pep_20[-1:])"
   ]
  },
  {
   "cell_type": "code",
   "execution_count": null,
   "metadata": {},
   "outputs": [],
   "source": [
    "# Creamos una cadena a partir de una lista de cadenas\n",
    "a_list_of_str = [\"A\", \"B\", \"C\", \"D\"]\n",
    "\"\".join(a_list_of_str)"
   ]
  },
  {
   "cell_type": "code",
   "execution_count": null,
   "metadata": {},
   "outputs": [],
   "source": [
    "# Creamos una cadena de caracteres con los números del 0 al 9\n",
    "# separados por espacios\n",
    "\" \".join([str(x) for x in list(range(10))])"
   ]
  },
  {
   "cell_type": "code",
   "execution_count": null,
   "metadata": {},
   "outputs": [],
   "source": [
    "# Creamos una cadena de caracteres con los números del 0 al 9\n",
    "# separados por comas y espacios\n",
    "\", \".join([str(x) for x in list(range(10))])"
   ]
  },
  {
   "cell_type": "markdown",
   "metadata": {},
   "source": [
    "## 3.1- Manipulación de cadenas de caracteres\n"
   ]
  },
  {
   "cell_type": "markdown",
   "metadata": {},
   "source": [
    "A la hora de procesar una cadena de caracteres, a menudo será necesario particionarla, para manipular los fragmentos de manera individual. La función [`split`](https://docs.python.org/3.8/library/stdtypes.html#str.split) permite particionar una cadena de caracteres, obteniendo como resultado una lista de subcadenas de la cadena original.\n",
    "\n",
    "Llamada sin argumentos, la función [`split`](https://docs.python.org/3.8/library/stdtypes.html#str.split) utiliza caracteres en blanco (espacios, tabuladores, saltos de línea, etc.) como separadores, y devuelve una lista de las subcadenas separadas, omitiendo estos separadores:\n"
   ]
  },
  {
   "cell_type": "code",
   "execution_count": null,
   "metadata": {},
   "outputs": [],
   "source": [
    "# Separamos la cadena pep_20\n",
    "print(pep_20)\n",
    "pep_20.split()"
   ]
  },
  {
   "cell_type": "markdown",
   "metadata": {},
   "source": [
    "Tened en cuenta que las palabras 'ugly.' y 'Explicit' quedan separadas como dos subcadenas diferentes, ya que el salto de línea entre una y la otra se interpreta como separador. En cambio, si queremos que se separen las palabras considerando únicamente los espacios en blanco, podemos indicarlo añadiendo el argumento `sep` a la llamada:\n"
   ]
  },
  {
   "cell_type": "code",
   "execution_count": null,
   "metadata": {},
   "outputs": [],
   "source": [
    "# Separamos la cadena pep_20 considerando sólo los espacios\n",
    "# como separadores\n",
    "pep_20.split(sep=\" \")"
   ]
  },
  {
   "cell_type": "markdown",
   "metadata": {},
   "source": [
    "Podemos utilizar cualquier carácter (o cadena) como separador:\n"
   ]
  },
  {
   "cell_type": "code",
   "execution_count": null,
   "metadata": {},
   "outputs": [],
   "source": [
    "# Separamos la cadena por las letras \"a\"\n",
    "pep_20.split(\"a\")"
   ]
  },
  {
   "cell_type": "code",
   "execution_count": null,
   "metadata": {},
   "outputs": [],
   "source": [
    "# Separamos la cadena utilizando la cadena \"better\" como separador\n",
    "pep_20.split(\"better\")"
   ]
  },
  {
   "cell_type": "markdown",
   "metadata": {},
   "source": [
    "Otra de las operaciones de procesamiento de cadenas de uso común es hacer un recuento del número de apariciones de una subcadena dentro de una cadena:\n"
   ]
  },
  {
   "cell_type": "code",
   "execution_count": null,
   "metadata": {},
   "outputs": [],
   "source": [
    "# Contamos cuántas veces aparece la letra \"a\" en la cadena pep_20\n",
    "pep_20_a_num = pep_20.count(\"a\")\n",
    "print(\"PEP20 string has {} 'a'\".format(pep_20_a_num))\n",
    "# Contamos cuántas veces aparece la subcadena \"better\" en la cadena pep_20\n",
    "pep_20_bet_num = pep_20.count(\"better\")\n",
    "print(\"PEP20 string has {} 'better'\".format(pep_20_bet_num))\n",
    "# Contamos cuantos espacios en blanco tiene la cadena pep_20\n",
    "pep_20_ws_num = pep_20.count(\" \")\n",
    "print(\"PEP20 string has {} whitespaces\".format(pep_20_ws_num))"
   ]
  },
  {
   "cell_type": "markdown",
   "metadata": {},
   "source": [
    "Hemos visto como contar el número de apariciones de una subcadena. ¿Como lo haríamos, pero, si quisiéramos saber dónde están estas apariciones? La función [`find`](https://docs.python.org/3.8/library/stdtypes.html#str.find) nos devuelve el índice donde se inicia una subcadena, o devuelve` -1` si tal subcadena no existe:\n"
   ]
  },
  {
   "cell_type": "code",
   "execution_count": null,
   "metadata": {},
   "outputs": [],
   "source": [
    "# Buscamos el índice de la primera aparición de 'beter'\n",
    "str_to_search = \"beter\"\n",
    "ind_better = pep_20.find(str_to_search)\n",
    "print(\"'beter' starts at position {}\".format(ind_better))\n",
    "\n",
    "# Buscamos el índice de la primera aparición de 'better'\n",
    "str_to_search = \"better\"\n",
    "ind_better = pep_20.find(str_to_search)\n",
    "print(\"'better' starts at position {}\".format(ind_better))"
   ]
  },
  {
   "cell_type": "markdown",
   "metadata": {},
   "source": [
    "La cadena `better` aparece dos veces dentro de la cadena almacenada en la variable` pep_20`. La función [`find`](https://docs.python.org/3.8/library/stdtypes.html#str.find) devuelve el índice de la primera aparición. Si queremos encontrar los índices del resto de apariciones, se deberá indicar un segundo parámetro a la llamada de [ `find`](https://docs.python.org/3.8/library/stdtypes.html#str.find), especificando la posición de inicio de la búsqueda:\n"
   ]
  },
  {
   "cell_type": "code",
   "execution_count": null,
   "metadata": {},
   "outputs": [],
   "source": [
    "# Buscamos el índice de la segunda aparición de 'better'\n",
    "ind2_better = pep_20.find(str_to_search, ind_better+1)\n",
    "print(\"Next 'better' starts at position {}\".format(ind2_better))"
   ]
  },
  {
   "cell_type": "code",
   "execution_count": null,
   "metadata": {},
   "outputs": [],
   "source": [
    "# Buscamos el índice de la tercera aparición de 'better'\n",
    "ind3_better = pep_20.find(str_to_search, ind2_better+1)\n",
    "print(\"Next 'better' starts at position {}\".format(ind3_better))"
   ]
  },
  {
   "cell_type": "markdown",
   "metadata": {},
   "source": [
    "Como `better` sólo aparece dos veces, la tercera vez que hacemos la búsqueda la llamada a [`find`](https://docs.python.org/3.8/library/stdtypes.html#str.find) devuelve `-1`, indicando que ya no hay más apariciones.\n",
    "\n",
    "En algunas aplicaciones, no estaremos interesados ​​en contar el número de apariciones de una subcadena ni en saber dónde es esta subcadena, sino simplemente en sustituirla por alguna otra cadena. En estos casos, podemos utilizar [`replace`](https://docs.python.org/3.8/library/stdtypes.html#str.replace), que reemplaza todas las apariciones de una subcadena por otra cadena:\n"
   ]
  },
  {
   "cell_type": "code",
   "execution_count": null,
   "metadata": {},
   "outputs": [],
   "source": [
    "# Reemplazamos los espacios en blanco por guiones\n",
    "print(pep_20.replace(\" \", \"_\"), \"\\n\")\n",
    "# Reemplazamos 'better' por 'worse'\n",
    "print(pep_20.replace(\"better\", \"worse\"), \"\\n\")\n",
    "# Eliminamos los espacios en blanco reemplazándolos una cadena vacía\n",
    "print(pep_20.replace(\" \", \"\"))"
   ]
  },
  {
   "cell_type": "markdown",
   "metadata": {},
   "source": [
    "En el último ejemplo se eliminan todos los espacios en blanco. A veces, sin embargo, nos interesará eliminar los espacios en blanco que hay delante de una cadena o detrás de esta (o ambos conjuntos de espacios). Para estas situaciones, encontramos las funciones [`lstrip`](https://docs.python.org/3.8/library/stdtypes.html#str.lstrip) (eliminar los espacios en blanco de la izquierda o el inicio de la cadena), [`rstrip`](https://docs.python.org/3.8/library/stdtypes.html#str.rstrip) (eliminar los espacios de la derecha o el final de la cadena) y [`strip`](https://docs.python.org/3.8/library/stdtypes.html#str.strip) (elimina los espacios en blanco de delante y detrás de la cadena):\n"
   ]
  },
  {
   "cell_type": "code",
   "execution_count": null,
   "metadata": {},
   "outputs": [],
   "source": [
    "# Creamos una cadena con espacios en blanco\n",
    "str_with_spaces = \"   A lot of   spaces \"\n",
    "\n",
    "# Mostramos el resultado de aplicar rstrip, lstrip y strip en la cadena\n",
    "print(\"String: #{}#\\n\".format(str_with_spaces))\n",
    "print(\"rstrip: #{}#\".format(str_with_spaces.rstrip()))\n",
    "print(\"lstrip: #{}#\".format(str_with_spaces.lstrip()))\n",
    "print(\"strip:  #{}#\".format(str_with_spaces.strip()))"
   ]
  },
  {
   "cell_type": "markdown",
   "metadata": {},
   "source": [
    "Es interesante notar que las funciones [`strip`](https://docs.python.org/3.8/library/stdtypes.html#str.strip), [`rstrip`](https://docs.python.org/3.8/library/stdtypes.html#str.rstrip) y [`lstrip`](https://docs.python.org/3.8/library/stdtypes.html#str.lstrip) eliminan todos los espacios en blanco que se encuentran en la posición que están procesando (delante, detrás o en las dos posiciones) pero, en cambio, no tienen ningún efecto sobre el resto de espacios de la cadena (por ejemplo, el espacio en blanco entre 'A' y 'lot' nunca se ve afectado por la ejecución de estas funciones).\n"
   ]
  },
  {
   "cell_type": "markdown",
   "metadata": {},
   "source": [
    "## 3.2- Expresiones regulares\n"
   ]
  },
  {
   "cell_type": "markdown",
   "metadata": {},
   "source": [
    "A pesar de que las funciones que hemos visto hasta ahora son muy potentes, se quedan cortas para afrontar muchos de los problemas que encontraremos a la hora de preprocesar datos que contengan cadenas de texto.\n",
    "\n",
    "Por ejemplo, si quisiéramos separar una cadena particionando por cualquier vocal (en vez de sólo la letra 'a' como hemos hecho en el ejemplo anterior), ¿como lo haríamos? Con lo que hemos visto hasta ahora, deberíamos ir separando vocal a vocal, procesando en cada caso todas las subcadenas ya separadas por las vocales anteriores.\n",
    "\n",
    "Otro ejemplo sería si quisiéramos buscar no sólo la palabra 'better' dentro de una cadena, sino cualquier palabra de seis letras, o tal vez buscar palabras que empezaran con 'b' y acabaran con 'tter', con cualquier letra o letras entre la 'b' y 'tter'. ¿Como podríamos implementarlo con las funciones que hemos visto hasta ahora? Ciertamente, sería posible, pero el código sería complejo.\n",
    "\n",
    "Para afrontar este tipo de problemas, se suelen utilizar **expresiones regulares** (también conocidas como *regex*, una contracción del término en inglés, *regular expressions*). Una expresión regular es una expresión que utiliza un lenguaje especializado de descripción de cadenas de caracteres. Este lenguaje nos permite expresar con facilidad condiciones que describen cómo debe ser una cadena como las que hemos ejemplificado anteriormente (una cadena que represente cualquier vocal, una cadena de seis letras, una cadena que empiece con 'b' y termine con 'tter', etc.). Estas expresiones se pueden usar, después, para tareas como las que hemos expuesto anteriormente: buscar subcadenas dentro de cadenas, separar cadenas, sustituir subcadenas por otros subcadenas, etc.\n",
    "\n",
    "En este apartado, veremos pues como podemos utilizar expresiones regulares para procesar cadenas de caracteres. En primer lugar, veremos las funciones que nos ofrece el módulo [`re`](https://docs.python.org/3.8/library/re.html). En segundo lugar, presentaremos una introducción a la sintaxis de las expresiones regulares.\n",
    "\n",
    "### 3.2.1- Funciones del módulo `re`\n",
    "\n",
    "El módulo [`re`](https://docs.python.org/3.8/library/re.html) es la interfaz del motor de expresiones regulares para Python. Por lo tanto, habrá que importarlo cuando queramos trabajar con *regex*.\n",
    "\n",
    "El módulo tiene funciones equivalentes a las que hemos visto anteriormente, pero que trabajan con expresiones regulares en vez de trabajar con cadenas de caracteres:\n",
    "* [`split`](https://docs.python.org/3.8/library/re.html#re.split): tiene el mismo comportamiento que el método [`split`](https://docs.python.org/3.8/library/stdtypes.html#str.split) de [`str`](https://docs.python.org/3.8/library/stdtypes.html#str), permitiendo separar cadenas considerando un separador, que en este caso estará expresado con una expresión regular.\n",
    "* [`search`](https://docs.python.org/3.8/library/re.html#re.search): tiene un comportamiento similar a [`find`](https://docs.python.org/3.8/library/stdtypes.html#str.find) de [`str`](https://docs.python.org/3.8/library/stdtypes.html#str), permitiendo encontrar la primera aparición de una subcadena dentro de una cadena. En este caso, la subcadena a buscar se expresa como una expresión regular.\n",
    "* [`sub`](https://docs.python.org/3.8/library/re.html#re.sub): tiene un comportamiento similar a [`replace`](https://docs.python.org/3.8/library/stdtypes.html#str.replace) de [`str`](https://docs.python.org/3.8/library/stdtypes.html#str), permitiendo reemplazar subcadenas por otra cadena. En este caso, la subcadena a reemplazar se expresa como una expresión regular.\n",
    "\n",
    "Adicionalmente, también incorpora otras funciones que son de utilidad, tales como:\n",
    "\n",
    "* [`findall`](https://docs.python.org/3.8/library/re.html#re.findall): que permite buscar todas las apariciones (no solapadas) de una subcadena dentro de otra cadena.\n",
    "\n",
    "A continuación, veremos cómo podemos utilizar estas funciones sin aprovechar la funcionalidad de las expresiones regulares (que presentaremos en el siguiente apartado).\n",
    "\n",
    "La función [`split`](https://docs.python.org/3.8/library/re.html#re.split) actúa de manera análoga a la [`split`](https://docs.python.org/3.8/library/stdtypes.html#str.split) de [`str`](https://docs.python.org/3.8/library/stdtypes.html#str), devolviendo una lista con las subcadenas separadas por un separador:\n"
   ]
  },
  {
   "cell_type": "code",
   "execution_count": null,
   "metadata": {},
   "outputs": [],
   "source": [
    "# Importamos el módulo re\n",
    "import re\n",
    "\n",
    "# Separamos la cadena por las letras \"a\"\n",
    "re.split('a', pep_20)"
   ]
  },
  {
   "cell_type": "markdown",
   "metadata": {},
   "source": [
    "Ahora, sin embargo, la primera cadena (`a`) podrá ser también una expresión regular, que nos describa cómo debe ser el separador a utilizar.\n",
    "\n",
    "La función [`search`](https://docs.python.org/3.8/library/re.html#re.search) busca la primera aparición de una subcadena en otra cadena. A diferencia de [`find`](https://docs.python.org/3.8/library/stdtypes.html#str.find), no devuelve directamente el índice de inicio de la coincidencia, sino un objeto [`match`](https://docs.python.org/3.8/library/re.html#match-objects) que contiene información adicional sobre la coincidencia:\n"
   ]
  },
  {
   "cell_type": "code",
   "execution_count": null,
   "metadata": {},
   "outputs": [],
   "source": [
    "# Buscamos el índice de la primera aparición de 'better'\n",
    "str_to_search = \"better\"\n",
    "srch_better = re.search(str_to_search, pep_20)\n",
    "print(\"The returned object is: {}\".format(type(srch_better)))\n",
    "print(\"that contains: {}\".format(srch_better))\n",
    "print(\"Substring starts at {} and ends at {}\".format(\n",
    "    srch_better.start(), srch_better.end()))"
   ]
  },
  {
   "cell_type": "markdown",
   "metadata": {},
   "source": [
    "En cambio, la función [`findall`](https://docs.python.org/3.8/library/re.html#re.findall) nos devolverá una lista con todas las coincidencias de una expresión regular:\n"
   ]
  },
  {
   "cell_type": "code",
   "execution_count": null,
   "metadata": {},
   "outputs": [],
   "source": [
    "# Buscamos todas las apariciones de 'better'\n",
    "srch_better = re.findall(str_to_search, pep_20)\n",
    "print(\"The returned object is: {}\".format(type(srch_better)))\n",
    "print(\"that contains: {}\".format(srch_better))"
   ]
  },
  {
   "cell_type": "markdown",
   "metadata": {},
   "source": [
    "Finalmente, la función [`sub`](https://docs.python.org/3.8/library/re.html#re.sub) reemplaza todas las apariciones de una subcadena por otra:\n"
   ]
  },
  {
   "cell_type": "code",
   "execution_count": null,
   "metadata": {},
   "outputs": [],
   "source": [
    "# Reemplazar los espacios en blanco para guiones bajos\n",
    "print(re.sub(\" \", \"_\", pep_20))"
   ]
  },
  {
   "cell_type": "markdown",
   "metadata": {},
   "source": [
    "Hasta ahora hemos visto como el módulo [`re`](https://docs.python.org/3.8/library/re.html) nos permite hacer las mismas operaciones que habíamos visto sobre cadenas de caracteres. Vamos a ver ahora cómo podemos explotar el potencial de este módulo utilizando el lenguaje de las expresiones regulares.\n",
    "\n",
    "Las funciones que hemos visto aceptan un primer parámetro que representa la subcadena a buscar, y que se utiliza como separador (en [`split`](https://docs.python.org/3.8/library/re.html#re.split)), como objetivo de la búsqueda ([`search`](https://docs.python.org/3.8/library/re.html#re.search) o [`findall`](https://docs.python.org/3.8/library/re.html#re.findall)) o bien como cadena a reemplazar ([`sub`](https://docs.python.org/3.8/library/re.html#re.sub)). Más allá de ser una cadena de caracteres, este primer parámetro puede usar el lenguaje de las expresiones regulares para especificar condiciones complejas sobre las cadenas a buscar.\n"
   ]
  },
  {
   "cell_type": "markdown",
   "metadata": {},
   "source": [
    "### 3.2.2- Sintaxis de las expresiones regulares\n",
    "\n",
    "En una expresión regular distinguimos dos tipos de caracteres:\n",
    "* Caracteres **normales**, que representan el propio carácter. Por ejemplo, una 'a' es una expresión regular válida que representa una cadena de caracteres de un solo carácter que es la propia letra 'a'.\n",
    "* Caracteres **especiales**, que sirven o bien para representar grupos de caracteres o bien para explicar cómo hay que interpretar las expresiones que los rodean.\n",
    "\n",
    "Así, por ejemplo, algunos caracteres especiales se utilizan para representar **grupos de caracteres**:\n",
    "* `.`: representa cualquier carácter (por defecto, cualquier carácter excepto la nueva línea).\n",
    "* `\\d`: representa cualquier dígito decimal.\n",
    "* `\\s`: representa cualquier espacio en blanco.\n",
    "* `\\w`: representa caracteres que pueden formar parte de una palabra (letras mayúsculas y minúsculas, números, el guión bajo).\n",
    "* `[]`: permite indicar un conjunto de caracteres, ya sea individualmente ( `[abc]` permitiría representar las cadenas `a`,` b` o `c`), o como rango (`[A-Z]`representa todas las letras en mayúscula).\n",
    "\n",
    "Otros caracteres especiales dan información sobre **cómo interpretar** las expresiones:\n",
    "* `|`: Implementa el operador OR, y permite crear una expresión regular que coincida o bien con una expresión regular o bien con otra.\n",
    "\n",
    "También hay un conjunto de caracteres especiales que permiten especificar **repeticiones** de expresiones regulares. Así, los caracteres siguientes indican las repeticiones de la expresión que las precede:\n",
    "* `*`: 0 o más apariciones.\n",
    "* `+`: 1 o más apariciones.\n",
    "* `?`: 0 o 1 aparición.\n",
    "* `{m}`: exactamente *m* apariciones.\n",
    "* `{m, n}`: entre *m* y _n_ apariciones. Si uno de los dos valores se omite, entonces sólo se informa del mínimo o del máximo de apariciones.\n"
   ]
  },
  {
   "cell_type": "markdown",
   "metadata": {},
   "source": [
    "### 3.2.3- Uso de expresiones regulares en la manipulación de cadenas\n",
    "\n",
    "Ahora que ya conocemos las funciones de manipulación de cadenas del módulo [`re`](https://docs.python.org/3.8/library/re.html) y la sintaxis básica del lenguaje de las expresiones regulares, vamos a ver cómo podemos explotar el potencial de ambas funcionalidades juntas a través de una serie de ejemplos. En primer lugar, veremos cómo podemos resolver algunos de los problemas que hemos comentado anteriormente. En segundo lugar, veremos ejemplos adicionales de uso de expresiones regulares.\n",
    "\n",
    "Si queremos separar una cadena de caracteres utilizando cualquier vocal como separador, podemos utilizar una expresión regular que represente todas las vocales y utilizarla con la función [`split`](https://docs.python.org/3.8/library/re.html#re.split). Los caracteres especiales `[]` nos permiten expresar un conjunto de caracteres individuales, por lo que podemos usarlos para expresar las vocales:\n"
   ]
  },
  {
   "cell_type": "code",
   "execution_count": null,
   "metadata": {},
   "outputs": [],
   "source": [
    "print(pep_20)\n",
    "\n",
    "# Separamos la cadena por cualquier vocal\n",
    "re.split(r'[aeiouAEIOU]', pep_20)"
   ]
  },
  {
   "cell_type": "markdown",
   "metadata": {},
   "source": [
    "Fijaos como la lista contiene varias cadenas vacías, que resultan de separar vocales contiguas. Por otra parte, es interesante notar también que usamos el prefijo 'r' para indicar la cadena de caracteres que conforma la expresión regular. El prefijo 'r' indica que la cadena debe interpretarse como literal *en bruto* (en inglés, *raw string literal*).\n",
    "\n",
    "Si queremos separar las palabras, podemos utilizar el carácter especial `\\s`, para tener en cuenta cualquier espacio en blanco como separador (tanto el espacio ` `  como el salto de línea `\\n` se utilizarían como separador para la cadena `pep_20`):\n"
   ]
  },
  {
   "cell_type": "code",
   "execution_count": null,
   "metadata": {},
   "outputs": [],
   "source": [
    "re.split(r'\\s', pep_20)"
   ]
  },
  {
   "cell_type": "markdown",
   "metadata": {},
   "source": [
    "En cambio, si queremos separar las frases, podríamos utilizar como separador un punto seguido de un espacio en blanco. Fijaos que incluimos el espacio en blanco después del punto, ya que sino la última frase quedaría separada en dos por el punto final (la frase en sí y una cadena vacía), y el salto de línea quedaría incluido en la segunda frase :\n"
   ]
  },
  {
   "cell_type": "code",
   "execution_count": null,
   "metadata": {},
   "outputs": [],
   "source": [
    "# Separamos la cadena por frases: las frases se separan por un punto\n",
    "# El resultado incluye una cadena vacía al final, ya que el último punto\n",
    "# se utiliza como separador, así como el salto de línea\n",
    "re.split(r'\\.', pep_20)"
   ]
  },
  {
   "cell_type": "code",
   "execution_count": null,
   "metadata": {},
   "outputs": [],
   "source": [
    "# Separamos la cadena por frases: las frases se separan por un punto seguido\n",
    "# de un espacio en blanco\n",
    "re.split(r'\\.\\s', pep_20)"
   ]
  },
  {
   "cell_type": "markdown",
   "metadata": {},
   "source": [
    "Es importante notar que para representar el punto, hemos utilizado la expresión `\\.` en vez de `.`. El motivo es que, como hemos visto, `.` es un carácter especial que coincide con cualquier carácter. Si, por el contrario, queremos que la expresión regular sólo coincida cuando incluya un punto (el carácter '.'), entonces habrá **escapar** la secuencia, utilizando la barra invertida o contrabarra (`\\`).\n",
    "\n",
    "Otro ejemplo que nos planteábamos era como buscar palabras que empiecen con 'b' y terminen con 'tter', con cualquier letra o letras en medio. Vamos a ver cómo podríamos enfocar este ejemplo. En primer lugar, veremos cómo buscar palabras que empiecen con 'b' y terminen con 'tter', con una única letra en medio:\n"
   ]
  },
  {
   "cell_type": "code",
   "execution_count": null,
   "metadata": {},
   "outputs": [],
   "source": [
    "# Creamos una variante de la cadena pep_20, que nos permitirá ejemplificar\n",
    "# las diferentes casuísticas\n",
    "pep_20_bis = \"Beautiful is better than ugly.\\nExplicit is better than \" \\\n",
    "    \"implicit. Butter Much Webetter. bitter. bYYYtter or btter. python.\"\n",
    "\n",
    "# Mostramos las cadenas de ejemplo\n",
    "print(pep_20)\n",
    "print(\"\\n\")\n",
    "print(pep_20_bis)"
   ]
  },
  {
   "cell_type": "markdown",
   "metadata": {},
   "source": [
    "Una primera aproximación sería definir una expresión regular que comience con 'b', siga con cualquier carácter que pueda formar parte de una palabra (que podemos expresar con el carácter especial `\\w`), y termine con 'tter':\n"
   ]
  },
  {
   "cell_type": "code",
   "execution_count": null,
   "metadata": {},
   "outputs": [],
   "source": [
    "print(r\"b\\wtter in pep_20: {}\".format(re.findall(r\"b\\wtter\", pep_20)))\n",
    "print(r\"b\\wtter in pep_20_bis: {}\".format(re.findall(r\"b\\wtter\", pep_20_bis)))"
   ]
  },
  {
   "cell_type": "markdown",
   "metadata": {},
   "source": [
    "La expresión parece devolver los resultados esperados para la cadena `pep_20` pero, en cambio, para la cadena` pep_20_bis` nos devuelve un 'better' adicional y no es capaz de identificar 'Butter'. Los motivos de este comportamiento son, por un lado, que por defecto las expresiones regulares son *case sensitive*, por lo que 'B' y 'b' se consideran cadenas diferentes (y, por lo tanto, 'Butter' no es una coincidencia válida); y, por otra parte, que no estamos especificando delimitadores de las palabras, por lo que 'Webetter' es una coincidencia válida para 'better'.\n",
    "\n",
    "Si queremos que ignoren si las letras son mayúsculas o minúsculas a la hora de evaluar una expresión regular, podemos utilizar el flag `IGNORECASE` en la llamada:\n"
   ]
  },
  {
   "cell_type": "code",
   "execution_count": null,
   "metadata": {},
   "outputs": [],
   "source": [
    "print(r\"b\\wtter in pep_20_bis: {}\".format(\n",
    "    re.findall(r\"b\\wtter\", pep_20_bis, re.IGNORECASE)))"
   ]
  },
  {
   "cell_type": "markdown",
   "metadata": {},
   "source": [
    "De este modo, 'Butter' se identifica correctamente. \n",
    "\n",
    "Por otra parte, si queremos buscar palabras completas (que no formen parte de otras palabras) podemos especificar el(los) carácter(es) que esperamos encontrar delante y detrás de la palabra:\n"
   ]
  },
  {
   "cell_type": "code",
   "execution_count": null,
   "metadata": {},
   "outputs": [],
   "source": [
    "# Delimitamos las palabras por espacios en blanco\n",
    "print(r\" b\\wtter  in pep_20_bis: {}\".format(\n",
    "    re.findall(r\" b\\wtter \", pep_20_bis, re.IGNORECASE)))\n",
    "# Delimitamos las palabras por espacios en blanco o bien puntos\n",
    "print(r\"[ \\.]b\\wtter[ \\.] in pep_20_bis: {}\".format(\n",
    "    re.findall(r\"[ \\.]b\\wtter[ \\.]\", pep_20_bis, re.IGNORECASE)))"
   ]
  },
  {
   "cell_type": "markdown",
   "metadata": {},
   "source": [
    "En segundo lugar, veremos ahora cómo buscar palabras que empiecen con 'b' y terminen con 'tter', pero aceptando más de una letra en medio. A partir de la expresión que hemos utilizado para una sola letra entre las dos subcadenas, podemos indicar que aceptamos cualquier número de repeticiones de la letra entre 'b' y 'tter' con el modificador `*`, o bien exigir que, como mínimo, haya una con `+`:\n"
   ]
  },
  {
   "cell_type": "code",
   "execution_count": null,
   "metadata": {},
   "outputs": [],
   "source": [
    "print(\"Using *: {}\".format(\n",
    "    re.findall(r\"[ \\.]b\\w*tter[ \\.]\", pep_20_bis, re.IGNORECASE)))\n",
    "print(\"Using +: {}\".format(\n",
    "    re.findall(r\"[ \\.]b\\w+tter[ \\.]\", pep_20_bis, re.IGNORECASE)))"
   ]
  },
  {
   "cell_type": "markdown",
   "metadata": {},
   "source": [
    "Por último, podríamos utilizar una estrategia similar para identificar todas las palabras de seis letras, delimitándolas por espacios o puntos, y utilizando el carácter especial `\\w` repetido exactamente seis veces:\n"
   ]
  },
  {
   "cell_type": "code",
   "execution_count": null,
   "metadata": {},
   "outputs": [],
   "source": [
    "# Repitiendo el carácter \\w 6 veces explícitamente:\n",
    "print(\"6 letter words: {}\".format(\n",
    "    re.findall(r\"[ \\.]\\w\\w\\w\\w\\w\\w[ \\.]\", pep_20_bis)))\n",
    "# Especificando el número de repeticiones con {}:\n",
    "print(\"6 letter words: {}\".format(\n",
    "    re.findall(r\"[ \\.]\\w{6}[ \\.]\", pep_20_bis)))"
   ]
  },
  {
   "cell_type": "markdown",
   "metadata": {},
   "source": [
    "Esta sección ha presentado una pequeña introducción al uso de expresiones regulares con el módulo [`re`](https://docs.python.org/3.8/library/re.html) de Python. Ahora bien, hay muchos otros caracteres especiales y construcciones que se pueden hacer con el lenguaje de las expresiones regulares, y que nos pueden ser útiles para procesar cadenas de caracteres. Para continuar el aprendizaje del uso de expresiones regulares en Python, os recomendamos leer el [*Regular Expression HOWTO*](https://docs.python.org/3/howto/regex.html#regex-howto) de la documentación oficial de Python.\n",
    "\n",
    "Adicionalmente, si queréis descubrir todos los detalles sobre el lenguaje de expresiones regulares y sobre las funciones que implementa el módulo `re` de Python, podéis dirigiros a la página oficial del [módulo `re`](https://docs.python.org/3/library/re.html).\n"
   ]
  },
  {
   "cell_type": "markdown",
   "metadata": {},
   "source": [
    "# 4.- Ejercicios para practicar\n",
    "\n",
    "A continuación encontraréis un conjunto de problemas que pueden servir para practicar los conceptos explicados en esta primera unidad, así como para refrescar los conceptos básicos de programación. Os recomendamos que intentéis realizar estos problemas vosotros mismos y que, una vez realizados, comparéis la solución que proponemos con vuestra solución. No dudéis en dirigir todas las dudas que surjan de la resolución de estos ejercicios o bien de las soluciones propuestas al foro del aula.\n",
    "\n",
    "1. Decidid cuál es la estructura de datos más adecuada para responder a cada una de las preguntas siguientes y escribid el código que permita responderlas.\n",
    "\n",
    "Disponemos de datos de un conjunto de ciudades del mundo. De cada ciudad, sabemos si tiene más de 14 millones de habitantes, si es capital del país donde se encuentra, y si tiene una densidad de población por encima de los 20 000 habitantes por $km^2$:\n",
    "* Las ciudades Shanghai, Beijing, Delhi, Estambul, Karachi, Guangzhou y Kinshasa tienen más de 14 millones de habitantes. El resto de ciudades de las que tenemos datos tienen 14 millones o menos de habitantes.\n",
    "* Las ciudades Delhi, Beijing, Kinshasa, Tokio, Moscow, Jakarta, Seoul y Cairo son capitales del país donde se encuentran. El resto de ciudades de las que tenemos datos no son capitales.\n",
    "* Las ciudades Cairo, Kinshasa, Delhi y Tokio tienen una densidad de población por encima de los 20 000 habitantes por $km^2$. El resto de ciudades de las que tenemos datos no superan los 20 000 habitantes por $km^2$. \n",
    "\n",
    "1.1. ¿De cuántas ciudades (diferentes) tenemos datos? Asumiremos que no hay ninguna ciudad que no cumpla al menos una de las propiedades anteriores.\n"
   ]
  },
  {
   "cell_type": "code",
   "execution_count": null,
   "metadata": {},
   "outputs": [],
   "source": [
    "# Respuesta"
   ]
  },
  {
   "cell_type": "markdown",
   "metadata": {},
   "source": [
    "1.2. ¿Cuántas ciudades tienen más de 14 millones de habitantes y una densidad de población por encima de los 20 000 habitantes por $ km ^ 2 $?\n"
   ]
  },
  {
   "cell_type": "code",
   "execution_count": null,
   "metadata": {},
   "outputs": [],
   "source": [
    "# Respuesta"
   ]
  },
  {
   "cell_type": "markdown",
   "metadata": {},
   "source": [
    "1.3. ¿Qué ciudades tienen una densidad de población por encima de los 20 000 habitantes por $ km ^ 2 $ pero no más de 14 millones de habitantes?\n"
   ]
  },
  {
   "cell_type": "code",
   "execution_count": null,
   "metadata": {},
   "outputs": [],
   "source": [
    "# Respuesta"
   ]
  },
  {
   "cell_type": "markdown",
   "metadata": {},
   "source": [
    "1.4. ¿Cuál es el país con mayor número de ciudades por encima de 14 millones de habitantes? ¿Cuántas ciudades de estas características hay en cada país?\n",
    "\n",
    "Para responder a estas preguntas, nos faltará añadir información al conjunto de datos de ciudades disponible para realizar la actividad. Pensad cuál sería la estructura de datos más adecuada para almacenar esta información extra y calcular la respuesta a la pregunta planteada.\n"
   ]
  },
  {
   "cell_type": "code",
   "execution_count": null,
   "metadata": {},
   "outputs": [],
   "source": [
    "# Respuesta"
   ]
  },
  {
   "cell_type": "markdown",
   "metadata": {},
   "source": [
    "1.5. ¿Cuáles son los dos países adyacentes que tienen el mayor número de ciudades por encima de 14 millones de habitantes?\n",
    "\n",
    "Para responder a esta pregunta, nos faltará añadir más información al conjunto de datos de ciudades disponible para realizar la actividad. De nuevo, pensad cuál sería la estructura de datos más adecuada para almacenar esta información extra y calcular la respuesta a la pregunta planteada.\n",
    "\n"
   ]
  },
  {
   "cell_type": "code",
   "execution_count": null,
   "metadata": {},
   "outputs": [],
   "source": [
    "# Respuesta"
   ]
  },
  {
   "cell_type": "markdown",
   "metadata": {},
   "source": [
    "2. Calculad cuántas horas ha trabajado la persona que ha escrito la siguiente frase:\n",
    "\n",
    "\"I started working at 17:22:42 and finished at 22:00:00\"\n",
    "\n"
   ]
  },
  {
   "cell_type": "code",
   "execution_count": null,
   "metadata": {},
   "outputs": [],
   "source": [
    "sentence = \"I started working at 17:22:42 and finished at 22:00:00\"\n",
    "\n",
    "# Respuesta"
   ]
  },
  {
   "cell_type": "markdown",
   "metadata": {},
   "source": [
    "3. Dada la cadena de caracteres `sentence`, reemplazad todos los espacios en blanco por puntos.\n"
   ]
  },
  {
   "cell_type": "code",
   "execution_count": null,
   "metadata": {},
   "outputs": [],
   "source": [
    "sentence = \" From     time to time, Python makes  an    incompatible change \" \\\n",
    "    \" to the   advertised semantics of core language constructs   \"\n",
    "\n",
    "# Respuesta"
   ]
  },
  {
   "cell_type": "markdown",
   "metadata": {},
   "source": [
    "4. Dada la misma cadena de caracteres del ejercicio anterior, reemplazad todos los espacios en blanco contiguos por un único punto. Es decir, si encontráis tres espacios en blanco consecutivos, estos se deben reemplazar por un único punto, y no por tres puntos como implementábamos en el ejercicio anterior. Eliminad los espacios que se encuentran al inicio y al final de la cadena antes de sustituirlos por puntos.\n"
   ]
  },
  {
   "cell_type": "code",
   "execution_count": null,
   "metadata": {},
   "outputs": [],
   "source": [
    "# Respuesta"
   ]
  },
  {
   "cell_type": "markdown",
   "metadata": {},
   "source": [
    "5. Proporcionad una lista con todas las palabras de cuatro letras de la cadena de caracteres `sentence` que empiecen por `t` o `F`.\n"
   ]
  },
  {
   "cell_type": "code",
   "execution_count": null,
   "metadata": {},
   "outputs": [],
   "source": [
    "# Respuesta"
   ]
  },
  {
   "cell_type": "markdown",
   "metadata": {},
   "source": [
    "6. Reemplazad todas las mayúsculas de la cadena `sentence` por interrogantes.\n"
   ]
  },
  {
   "cell_type": "code",
   "execution_count": null,
   "metadata": {},
   "outputs": [],
   "source": [
    "# Respuesta"
   ]
  },
  {
   "cell_type": "markdown",
   "metadata": {},
   "source": [
    "7. Una aerolínea nos contrata para ayudarla a optimizar el procedimiento de embarque de sus aviones. La aerolínea dispone de tres clases de billetes, primera, *business* y turista. A la hora de embarcar los clientes se sitúan en tres colas, una para cada clase. Después, sin embargo, sólo hay dos azafatas que les validen la tarjeta de embarque, por lo que las tres colas iniciales se convierten en dos colas, a partir de las cuales los pasajeros acceden a los aviones.\n",
    "\n",
    "Actualmente, la aerolínea utiliza la siguiente estrategia para convertir las tres colas iniciales (por clase) en las dos colas que embarcan (una por cada azafata):\n",
    "\n",
    "Por un lado, los clientes de primera y *business* van a parar a la cola 1 (cola prioritaria), intercalando un cliente de cada tipo en la cola prioritaria siempre que haya suficientes clientes para hacerlo, y asignando después todos los clientes restantes a la nueva cola. Así, el primer cliente que se asigna a la cola prioritaria es el primer cliente de la clase primera, el segundo cliente de la cola prioritaria será el primer cliente de la cola de *business*, el tercer cliente de la cola prioritaria será el segundo cliente de la clase primera, etc.\n",
    "\n",
    "Por otra parte, los clientes de clase turista van a parar a la cola 2 (cola no prioritaria), siguiendo el orden que tenían en la cola de la clase turista. Ahora bien, si un cliente de clase turista tiene movilidad reducida o va acompañado de niños, entonces este se sitúa al frente de la cola prioritaria. Si hay más de un cliente en estas condiciones, el orden que siguen en la cola de la clase turista se mantiene.\n",
    "\n",
    "Para evaluar cómo de buena es la estrategia, la aerolínea utiliza dos métricas:\n",
    "1. El tiempo que se tarda en embarcar el avión es de 30 segundos por pasajero, considerando que las dos colas (1 y 2) embarcan a la vez. Es decir, si la cola 1 tiene un pasajero y la cola 2 tiene dos, se tardará un minuto en embarcar.\n",
    "2. La satisfacción global de sus clientes, que se calcula haciendo la media de la satisfacción de cada cliente, considerando que:\n"
   ]
  },
  {
   "cell_type": "markdown",
   "metadata": {},
   "source": [
    "* Los clientes de primera tienen una satisfacción de -25 veces el número de posiciones que han perdido en la cola prioritaria respecto a su posición original en la cola de primera. Es decir, un cliente que estaba en 3ª posición en la cola de primera y que ocupa la 5ª posición de la cola prioritaria, tendrá una satisfacción de -50.\n",
    "* Los clientes de *business* siempre tienen una satisfacción de 0.\n",
    "* Los clientes con billete de clase turista que han sido movidos a la cola prioritaria tienen una satisfacción de 100. En cambio, los que han sido movidos a la cola no prioritaria tienen una satisfacción de 25 si han avanzado alguna posición en la cola 2 respecto a su posición inicial en la cola de la clase turista, o de 0 en cualquier otro caso.\n",
    "\n",
    "Como analistas de datos, evaluaremos la satisfacción y el tiempo de embarque del avión del vuelo 714.\n"
   ]
  },
  {
   "cell_type": "markdown",
   "metadata": {},
   "source": [
    "7.1 Cargad los datos de los pasajeros del vuelo 714 que encontraréis en el dataset `data/flight714.csv` y cread las tres colas, primera, *business* y turista con los datos de los pasajeros. Los clientes se encuentran ordenados según su posición en la cola, con la columna `client_class` indicando a cuál de las colas pertenecen.\n"
   ]
  },
  {
   "cell_type": "code",
   "execution_count": null,
   "metadata": {},
   "outputs": [],
   "source": [
    "# Respuesta"
   ]
  },
  {
   "cell_type": "markdown",
   "metadata": {},
   "source": [
    "7.2 Mostrad cuántos pasajeros hay en cada cola, con el detalle de cuántos de ellos tienen o bien criaturas o movilidad reducida.\n"
   ]
  },
  {
   "cell_type": "code",
   "execution_count": null,
   "metadata": {},
   "outputs": [],
   "source": [
    "# Respuesta"
   ]
  },
  {
   "cell_type": "markdown",
   "metadata": {},
   "source": [
    "7.3 Implementad una función que genere las dos colas de embarque (cola prioritaria y cola no prioritaria) a partir de las tres colas obtenidas según la clase del billete del pasajero.\n"
   ]
  },
  {
   "cell_type": "code",
   "execution_count": null,
   "metadata": {},
   "outputs": [],
   "source": [
    "# Respuesta"
   ]
  },
  {
   "cell_type": "markdown",
   "metadata": {},
   "source": [
    "7.4 Implementad una función que calcule el tiempo que se tarda en embarcar el avión y una función que calcule la satisfacción de los pasajeros.\n"
   ]
  },
  {
   "cell_type": "code",
   "execution_count": null,
   "metadata": {},
   "outputs": [],
   "source": [
    "# Respuesta"
   ]
  },
  {
   "cell_type": "markdown",
   "metadata": {},
   "source": [
    "7.5 Calculad el tiempo que se tarda en embarcar el vuelo 714 y la satisfacción de los clientes.\n"
   ]
  },
  {
   "cell_type": "code",
   "execution_count": null,
   "metadata": {},
   "outputs": [],
   "source": [
    "# Respuesta"
   ]
  },
  {
   "cell_type": "markdown",
   "metadata": {},
   "source": [
    "## 4.1.- Soluciones a los ejercicios para practicar\n"
   ]
  },
  {
   "cell_type": "markdown",
   "metadata": {},
   "source": [
    "1. Decidid cuál es la estructura de datos más adecuada para responder a cada una de las preguntas siguientes y escribid el código que permita responderlas.\n",
    "\n",
    "Disponemos de datos de un conjunto de ciudades del mundo. De cada ciudad, sabemos si tiene más de 14 millones de habitantes, si es capital del país donde se encuentra, y si tiene una densidad de población por encima de los 20 000 habitantes por $km^2$:\n",
    "* Las ciudades Shanghai, Beijing, Delhi, Estambul, Karachi, Guangzhou y Kinshasa tienen más de 14 millones de habitantes. El resto de ciudades de las que tenemos datos tienen 14 millones o menos de habitantes.\n",
    "* Las ciudades Delhi, Beijing, Kinshasa, Tokio, Moscow, Jakarta, Seoul y Cairo son capitales del país donde se encuentran. El resto de ciudades de las que tenemos datos no son capitales.\n",
    "* Las ciudades Cairo, Kinshasa, Delhi y Tokio tienen una densidad de población por encima de los 20 000 habitantes por $km^2$. El resto de ciudades de las que tenemos datos no superan los 20 000 habitantes por $km^2$. \n",
    "\n",
    "1.1. ¿De cuántas ciudades (diferentes) tenemos datos? Asumiremos que no hay ninguna ciudad que no cumpla al menos una de las propiedades anteriores.\n"
   ]
  },
  {
   "cell_type": "code",
   "execution_count": null,
   "metadata": {},
   "outputs": [],
   "source": [
    "# Respuesta\n",
    "\n",
    "# Podemos guardar los datos en 3 conjuntos, uno para cada una de las\n",
    "# propiedades que queremos analizar y calcular la unión de estos conjuntos\n",
    "\n",
    "more_than_14M = {\"Shanghai\", \"Beijing\", \"Delhi\", \"Istanbul\", \"Karachi\",\n",
    "                 \"Guangzhou\", \"Kinshasa\"}\n",
    "capital = {\"Delhi\", \"Beijing\", \"Kinshasa\", \"Tokyo\", \"Moscow\", \"Jakarta\",\n",
    "           \"Seoul\", \"Cairo\"}\n",
    "more_than_20K = {\"Cairo\", \"Kinshasa\", \"Delhi\", \"Tokyo\"}\n",
    "\n",
    "print(\"We have data from {} different cities\".format(\n",
    "    len(more_than_14M.union(capital).union(more_than_20K))))"
   ]
  },
  {
   "cell_type": "markdown",
   "metadata": {},
   "source": [
    "1.2. ¿Cuántas ciudades tienen más de 14 millones de habitantes y una densidad de población por encima de los 20 000 habitantes por $ km ^ 2 $?\n"
   ]
  },
  {
   "cell_type": "code",
   "execution_count": null,
   "metadata": {},
   "outputs": [],
   "source": [
    "# Respuesta\n",
    "\n",
    "# Podemos aprovechar los 2 conjuntos de interés (more_than_14M y more_than_20K)\n",
    "# creados en el apartado anterior, y calcular la intersección.\n",
    "\n",
    "print(\"There are {} cities with more than 14M inhabitants and a density \"\n",
    "      \"over 20K/km^2\".format(len(more_than_14M.intersection(more_than_20K))))"
   ]
  },
  {
   "cell_type": "markdown",
   "metadata": {},
   "source": [
    "1.3. ¿Qué ciudades tienen una densidad de población por encima de los 20 000 habitantes por $ km ^ 2 $ pero no más de 14 millones de habitantes?\n"
   ]
  },
  {
   "cell_type": "code",
   "execution_count": null,
   "metadata": {},
   "outputs": [],
   "source": [
    "# Respuesta\n",
    "\n",
    "# De nuevo, podemos aprovechar los 2 conjuntos de interés (more_than_14M y\n",
    "# more_than_20K) creados en el primer apartado, y calcular ahora la diferencia.\n",
    "\n",
    "print(\"Cities with a density over 20K/km^2 and less than 14M inhabitants \"\n",
    "      \"different cities: {}\".format(more_than_20K.difference(more_than_14M)))"
   ]
  },
  {
   "cell_type": "markdown",
   "metadata": {},
   "source": [
    "1.4. ¿Cuál es el país con mayor número de ciudades por encima de 14 millones de habitantes? ¿Cuántas ciudades de estas características hay en cada país?\n",
    "\n",
    "Para responder a estas preguntas, nos faltará añadir información al conjunto de datos de ciudades disponible para realizar la actividad. Pensad cuál sería la estructura de datos más adecuada para almacenar esta información extra y calcular la respuesta a la pregunta planteada."
   ]
  },
  {
   "cell_type": "markdown",
   "metadata": {},
   "source": [
    "**Resposta:**\n"
   ]
  },
  {
   "cell_type": "code",
   "execution_count": null,
   "metadata": {},
   "outputs": [],
   "source": [
    "# Respuesta\n",
    "\n",
    "# Guardamos el país al que pertenece cada una de las ciudades con más\n",
    "# de 14M de habitantes\n",
    "city_country = {'Shanghai': 'China', 'Beijing': 'China',\n",
    "                'Delhi': 'India', 'Istanbul': 'Turkey',\n",
    "                'Karachi': 'Pakistan', 'Guangzhou': 'China',\n",
    "                'Kinshasa': 'Congo'}\n",
    "\n",
    "# Contamos cuántas ciudades de más de 14M de habitantes hay en cada país\n",
    "cities_per_country = defaultdict(get_0)\n",
    "for k, v in city_country.items():\n",
    "    cities_per_country[v] += 1\n",
    "\n",
    "print(cities_per_country)\n",
    "\n",
    "# Recuperamos el país con más ciudades\n",
    "# Opción 1: recorriendo el diccionario con un bucle\n",
    "max_val = -1\n",
    "city = None\n",
    "for k, v in cities_per_country.items():\n",
    "    if v > max_val:\n",
    "        max_val = v\n",
    "        city = k\n",
    "print(city)"
   ]
  },
  {
   "cell_type": "code",
   "execution_count": null,
   "metadata": {},
   "outputs": [],
   "source": [
    "# Opción 2: recuperamos la clave del diccionario con valor máximo\n",
    "import operator\n",
    "print(max(cities_per_country.items(), key=operator.itemgetter(1))[0])"
   ]
  },
  {
   "cell_type": "markdown",
   "metadata": {},
   "source": [
    "1.5. ¿Cuáles son los dos países adyacentes que tienen el mayor número de ciudades por encima de 14 millones de habitantes?\n",
    "\n",
    "Para responder a esta pregunta, nos faltará añadir más información al conjunto de datos de ciudades disponible para realizar la actividad. De nuevo, pensad cuál sería la estructura de datos más adecuada para almacenar esta información extra y calcular la respuesta a la pregunta planteada.\n",
    "\n"
   ]
  },
  {
   "cell_type": "code",
   "execution_count": null,
   "metadata": {},
   "outputs": [],
   "source": [
    "# Respuesta\n",
    "\n",
    "cities_per_country.keys()"
   ]
  },
  {
   "cell_type": "code",
   "execution_count": null,
   "metadata": {},
   "outputs": [],
   "source": [
    "# Guardamos las fronteras de cada país\n",
    "# (omitimos los países que no están en el dataset)\n",
    "country_frontier = {\n",
    "    'China': ['India', 'Pakistan', 'Russia'],\n",
    "    'India': ['China', 'Pakistan', 'Indonesia'],\n",
    "    'Turkey': [],\n",
    "    'Pakistan': ['China', 'India'],\n",
    "    'Congo': []}\n",
    "\n",
    "# Calculamos cuáles son los dos países adyacentes con más ciudades\n",
    "# de más de 14M\n",
    "cities_per_adj_countries = {}\n",
    "countries = list(cities_per_country.keys())\n",
    "for i in range(len(countries)):\n",
    "    for j in range(i+1, len(countries)):\n",
    "        country_1, country_2 = countries[i], countries[j]\n",
    "        if country_1 in country_frontier[country_2]:\n",
    "            cities_per_adj_countries[country_1 + '-' + country_2] = \\\n",
    "                cities_per_country[country_1] + cities_per_country[country_2]\n",
    "\n",
    "cities_per_adj_countries"
   ]
  },
  {
   "cell_type": "markdown",
   "metadata": {},
   "source": [
    "2. Calculad cuántas horas ha trabajado la persona que ha escrito la siguiente frase:\n",
    "\n",
    "\"I started working at 17:22:42 and finished at 22:00:00\"\n",
    "\n"
   ]
  },
  {
   "cell_type": "code",
   "execution_count": null,
   "metadata": {},
   "outputs": [],
   "source": [
    "sentence = \"I started working at 17:22:42 and finished at 22:00:00\"\n",
    "\n",
    "# Respuesta\n",
    "\n",
    "start = datetime.datetime.strptime(sentence[21:29], \"%H:%M:%S\")\n",
    "end = datetime.datetime.strptime(sentence[-8:], \"%H:%M:%S\")\n",
    "working_time = end - start\n",
    "\n",
    "print(\"The person has worked {} hours\".format(working_time))"
   ]
  },
  {
   "cell_type": "markdown",
   "metadata": {},
   "source": [
    "3. Dada la cadena de caracteres `sentence`, reemplazad todos los espacios en blanco por puntos.\n"
   ]
  },
  {
   "cell_type": "code",
   "execution_count": null,
   "metadata": {},
   "outputs": [],
   "source": [
    "sentence = \" From     time to time, Python makes  an    incompatible change \" \\\n",
    "    \" to the   advertised semantics of core language constructs   \"\n",
    "\n",
    "# Respuesta\n",
    "\n",
    "sentence.replace(\" \", \".\")"
   ]
  },
  {
   "cell_type": "markdown",
   "metadata": {},
   "source": [
    "4. Dada la misma cadena de caracteres del ejercicio anterior, reemplazad todos los espacios en blanco contiguos por un único punto. Es decir, si encontráis tres espacios en blanco consecutivos, estos se deben reemplazar por un único punto, y no por tres puntos como implementábamos en el ejercicio anterior. Eliminad los espacios que se encuentran al inicio y al final de la cadena antes de sustituirlos por puntos.\n"
   ]
  },
  {
   "cell_type": "code",
   "execution_count": null,
   "metadata": {},
   "outputs": [],
   "source": [
    "# Respuesta\n",
    "\n",
    "# Eliminamos los espacios en blanco\n",
    "stripped_sentence = sentence.strip()\n",
    "# Sustituimos los espacios en blanco por puntos\n",
    "re.sub(\" +\", \".\", stripped_sentence)"
   ]
  },
  {
   "cell_type": "markdown",
   "metadata": {},
   "source": [
    "5. Proporcionad una lista con todas las palabras de cuatro letras de la cadena de caracteres `sentence` que empiecen por `t` o `F`.\n"
   ]
  },
  {
   "cell_type": "code",
   "execution_count": null,
   "metadata": {},
   "outputs": [],
   "source": [
    "# Respuesta\n",
    "\n",
    "re.findall(\" [t|F]\\w{3} \", sentence)"
   ]
  },
  {
   "cell_type": "markdown",
   "metadata": {},
   "source": [
    "6. Reemplazad todas las mayúsculas de la cadena `sentence` por interrogantes.\n"
   ]
  },
  {
   "cell_type": "code",
   "execution_count": null,
   "metadata": {},
   "outputs": [],
   "source": [
    "# Respuesta\n",
    "\n",
    "re.sub(\"[A-Z]\", \"?\", sentence)"
   ]
  },
  {
   "cell_type": "markdown",
   "metadata": {},
   "source": [
    "7. Una aerolínea nos contrata para ayudarla a optimizar el procedimiento de embarque de sus aviones. La aerolínea dispone de tres clases de billetes, primera, *business* y turista. A la hora de embarcar los clientes se sitúan en tres colas, una para cada clase. Después, sin embargo, sólo hay dos azafatas que les validen la tarjeta de embarque, por lo que las tres colas iniciales se convierten en dos colas, a partir de las cuales los pasajeros acceden a los aviones.\n",
    "\n",
    "Actualmente, la aerolínea utiliza la siguiente estrategia para convertir las tres colas iniciales (por clase) en las dos colas que embarcan (una por cada azafata):\n",
    "\n",
    "Por un lado, los clientes de primera y *business* van a parar a la cola 1 (cola prioritaria), intercalando un cliente de cada tipo en la cola prioritaria siempre que haya suficientes clientes para hacerlo, y asignando después todos los clientes restantes a la nueva cola. Así, el primer cliente que se asigna a la cola prioritaria es el primer cliente de la clase primera, el segundo cliente de la cola prioritaria será el primer cliente de la cola de *business*, el tercer cliente de la cola prioritaria será el segundo cliente de la clase primera, etc.\n",
    "\n",
    "Por otra parte, los clientes de clase turista van a parar a la cola 2 (cola no prioritaria), siguiendo el orden que tenían en la cola de la clase turista. Ahora bien, si un cliente de clase turista tiene movilidad reducida o va acompañado de niños, entonces este se sitúa al frente de la cola prioritaria. Si hay más de un cliente en estas condiciones, el orden que siguen en la cola de la clase turista se mantiene.\n",
    "\n",
    "Para evaluar cómo de buena es la estrategia, la aerolínea utiliza dos métricas:\n",
    "1. El tiempo que se tarda en embarcar el avión es de 30 segundos por pasajero, considerando que las dos colas (1 y 2) embarcan a la vez. Es decir, si la cola 1 tiene un pasajero y la cola 2 tiene dos, se tardará un minuto en embarcar.\n",
    "2. La satisfacción global de sus clientes, que se calcula haciendo la media de la satisfacción de cada cliente, considerando que:\n"
   ]
  },
  {
   "cell_type": "markdown",
   "metadata": {},
   "source": [
    "* Los clientes de primera tienen una satisfacción de -25 veces el número de posiciones que han perdido en la cola prioritaria respecto a su posición original en la cola de primera. Es decir, un cliente que estaba en 3ª posición en la cola de primera y que ocupa la 5ª posición de la cola prioritaria, tendrá una satisfacción de -50.\n",
    "* Los clientes de *business* siempre tienen una satisfacción de 0.\n",
    "* Los clientes con billete de clase turista que han sido movidos a la cola prioritaria tienen una satisfacción de 100. En cambio, los que han sido movidos a la cola no prioritaria tienen una satisfacción de 25 si han avanzado alguna posición en la cola 2 respecto a su posición inicial en la cola de la clase turista, o de 0 en cualquier otro caso.\n",
    "\n",
    "Como analistas de datos, evaluaremos la satisfacción y el tiempo de embarque del avión del vuelo 714.\n",
    "\n",
    "7.1 Cargad los datos de los pasajeros del vuelo 714 que encontraréis en el dataset `data/flight714.csv` y cread las tres colas, primera, *business* y turista con los datos de los pasajeros. Los clientes se encuentran ordenados según su posición en la cola, con la columna `client_class` indicando a cuál de las colas pertenecen.\n"
   ]
  },
  {
   "cell_type": "code",
   "execution_count": null,
   "metadata": {},
   "outputs": [],
   "source": [
    "# Respuesta\n",
    "\n",
    "import pandas as pd\n",
    "\n",
    "df = pd.read_csv(\"data/flight714.csv\")\n",
    "\n",
    "bq, pq, tq = [], [], []\n",
    "col_names = list(df.columns)\n",
    "\n",
    "for i in range(len(df)):\n",
    "    c = {c: df.iloc[i][c] for c in col_names}\n",
    "    if c['client_class'] == \"p\":\n",
    "        pq.append(c)\n",
    "    if c['client_class'] == \"b\":\n",
    "        bq.append(c)\n",
    "    if c['client_class'] == \"t\":\n",
    "        tq.append(c)"
   ]
  },
  {
   "cell_type": "markdown",
   "metadata": {},
   "source": [
    "7.2 Mostrad cuántos pasajeros hay en cada cola, con el detalle de cuántos de ellos tienen o bien criaturas o movilidad reducida."
   ]
  },
  {
   "cell_type": "code",
   "execution_count": null,
   "metadata": {},
   "outputs": [],
   "source": [
    "# Respuesta\n",
    "\n",
    "print(\"Passengers in first class: {}\".format(len(pq)))\n",
    "print(\"Passengers in business class: {}\".format(len(bq)))\n",
    "print(\"Passengers in tourist class: {}\".format(len(tq)))\n",
    "\n",
    "f_with_crm = sum([1 for p in pq\n",
    "                  if p['has_children'] or p['has_reduced_mobility']])\n",
    "b_with_crm = sum([1 for p in bq\n",
    "                  if p['has_children'] or p['has_reduced_mobility']])\n",
    "t_with_crm = sum([1 for p in tq\n",
    "                  if p['has_children'] or p['has_reduced_mobility']])\n",
    "\n",
    "print(\"Passengers in first class with children or reduced mob.: {}\".\n",
    "      format(f_with_crm))\n",
    "print(\"Passengers in business class with children or reduced mob.: {}\".\n",
    "      format(b_with_crm))\n",
    "print(\"Passengers in tourist class with children or reduced mob.: {}\".\n",
    "      format(t_with_crm))"
   ]
  },
  {
   "cell_type": "markdown",
   "metadata": {},
   "source": [
    "7.3 Implementad una función que genere las dos colas de embarque (cola prioritaria y cola no prioritaria) a partir de las tres colas obtenidas según la clase del billete del pasajero.\n"
   ]
  },
  {
   "cell_type": "code",
   "execution_count": null,
   "metadata": {},
   "outputs": [],
   "source": [
    "# Respuesta\n",
    "\n",
    "from copy import copy\n",
    "\n",
    "\n",
    "def compute_new_queues_alg_1(in_bq, in_pq, in_tq):\n",
    "    # Copiamos los datos de las colas de entrada para no modificar los\n",
    "    # valores de las variables de entrada\n",
    "    bq, pq, tq = copy(in_bq), copy(in_pq), copy(in_tq)\n",
    "    # Inicializamos las dos colas de salida vacías\n",
    "    q1, q2 = [], []\n",
    "\n",
    "    # Movemos los pasajeros de la clase turista\n",
    "    while len(tq) != 0:\n",
    "        client = tq.pop(0)\n",
    "        if client[\"has_children\"] or client[\"has_reduced_mobility\"]:\n",
    "            q1.append(client)\n",
    "        else:\n",
    "            q2.append(client)\n",
    "\n",
    "    # Movemos al resto de pasajeros, alternando entre primera y business\n",
    "    while len(bq) != 0 or len(pq) != 0:\n",
    "        if len(pq) != 0:\n",
    "            client = pq.pop(0)\n",
    "            q1.append(client)\n",
    "        if len(bq) != 0:\n",
    "            client = bq.pop(0)\n",
    "            q1.append(client)\n",
    "\n",
    "    return q1, q2"
   ]
  },
  {
   "cell_type": "markdown",
   "metadata": {},
   "source": [
    "7.4 Implementad una función que calcule el tiempo que se tarda en embarcar el avión y una función que calcule la satisfacción de los pasajeros.\n"
   ]
  },
  {
   "cell_type": "code",
   "execution_count": null,
   "metadata": {},
   "outputs": [],
   "source": [
    "# Respuesta\n",
    "\n",
    "\n",
    "def evaluate_time(q1, q2):\n",
    "    time_per_pas = 30\n",
    "    return max(len(q1), len(q2))*time_per_pas\n",
    "\n",
    "\n",
    "def evaluate_sat(q1, q2, bq, pq, tq):\n",
    "\n",
    "    num_pass = len(q1) + len(q2)\n",
    "\n",
    "    # Tourists with children or reduced mobility\n",
    "    t = sum([100 for p in q1 if p in tq])\n",
    "\n",
    "    # Other tourists\n",
    "    t2 = sum([25 for p in q2 if q2.index(p) < tq.index(p)])\n",
    "\n",
    "    # First class\n",
    "    p = sum([-50*(q1.index(p)-pq.index(p)) for p in q1\n",
    "             if p in pq if q1.index(p) > pq.index(p)])\n",
    "\n",
    "    return (t + t2 + p)/num_pass"
   ]
  },
  {
   "cell_type": "markdown",
   "metadata": {},
   "source": [
    "7.5 Calculad el tiempo que se tarda en embarcar el vuelo 714 y la satisfacción de los clientes."
   ]
  },
  {
   "cell_type": "code",
   "execution_count": null,
   "metadata": {},
   "outputs": [],
   "source": [
    "# Respuesta\n",
    "\n",
    "q1, q2 = compute_new_queues_alg_1(bq, pq, tq)\n",
    "print(\"Time: {}\".format(evaluate_time(q1, q2)))\n",
    "print(\"Satisfaction: {}\".format(evaluate_sat(q1, q2, bq, pq, tq)))"
   ]
  },
  {
   "cell_type": "markdown",
   "metadata": {},
   "source": [
    "# 5.- Bibliografía\n",
    "\n",
    "## 5.1.- Bibliografía básica\n",
    "\n",
    "Os recomendamos revisar la documentación oficial de las funciones y clases descritas en esta unidad, que encontraréis enlazadas en cada uno de los apartados que las describen.\n",
    "\n",
    "Además, os recomendamos revisar la especificación completa del formato de `strftime` y `strptime` del módulo `datetime`  en la [documentación oficial del módulo](https://docs.python.org/3/library/datetime.html#strftime-and-strptime-format-codes). No hace falta que conozcáis todos los comodines que se usan para describir fechas y horas, pero una lectura de la documentación os proporcionará una visión global de qué tipo de expresiones se pueden construir.\n",
    "\n",
    "De manera análoga, os recomendamos leer el [*Regular Expression HOWTO*](https://docs.python.org/3/howto/regex.html#regex-howto) de la documentación oficial de Python.\n",
    "\n",
    "## 5.2.- Bibliografia adicional - Ampliación de conocimientos\n",
    "\n",
    "En esta unidad hemos presentado una pequeña introducción al uso de expresiones regulares con el módulo [`re`](https://docs.python.org/3.8/library/re.html) de Python. Si queréis descubrir todos los detalles sobre el lenguaje de expresiones regulares y sobre las funciones que implementa el módulo `re` de Python, podéis dirigiros a la página oficial del [módulo `re`](https://docs.python.org/3/library/re.html).\n",
    "\n",
    "Por otro lado, los ejercicios resueltos de la unidad hacen uso de la función `copy`. Si queréis leer más sobre esta función y porqué es necesario su uso en el ejemplo, os recomendamos leer la documentación oficial del módulo  [`copy`](https://docs.python.org/3.8/library/copy.html) y esta [pregunta](https://stackoverflow.com/questions/17246693/what-is-the-difference-between-shallow-copy-deepcopy-and-normal-assignment-oper) de stackoverflow. Intentad reflexionar sobre por qué, en el caso del ejemplo, hemos utilizado `copy` en vez de `deepcopy`, y si el código funcionaría correctamente usando `deepcopy`."
   ]
  }
 ],
 "metadata": {
  "language_info": {
   "name": "python"
  }
 },
 "nbformat": 4,
 "nbformat_minor": 2
}
