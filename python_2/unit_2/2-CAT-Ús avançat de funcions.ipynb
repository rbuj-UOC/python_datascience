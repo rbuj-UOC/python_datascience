{
 "cells": [
  {
   "cell_type": "markdown",
   "metadata": {},
   "source": [
    "<div style=\"width: 100%; clear: both;\">\n",
    "    <div style=\"float: left; width: 50%;\">\n",
    "       <img src=\"http://www.uoc.edu/portal/_resources/common/imatges/marca_UOC/UOC_Masterbrand.jpg\", align=\"left\">\n",
    "    </div>\n",
    "</div>\n",
    "\n",
    "<div style=\"float: right; width: 50%;\">\n",
    "    <p style=\"margin: 0; padding-top: 22px; text-align:right;\">22.403 · Programació per a la ciència de dades</p>\n",
    "    <p style=\"margin: 0; text-align:right;\">Grau en Ciència de Dades Aplicada</p>\n",
    "    <p style=\"margin: 0; text-align:right; padding-button: 100px;\">Estudis d'Informàtica, Multimèdia i Telecomunicació</p>\n",
    "</div>\n",
    "\n",
    "</div>\n",
    "<div style=\"width: 100%; clear: both;\">\n",
    "<div style=\"width:100%;\">&nbsp;</div>"
   ]
  },
  {
   "cell_type": "markdown",
   "metadata": {},
   "source": [
    "Programació per a la ciència de dades\n",
    "============================\n",
    "\n",
    "--- \n",
    "\n",
    "Unitat 2: Ús avançat de funcions en Python\n",
    "-----------------------------------------------------\n",
    "\n",
    "---\n",
    "\n",
    "### Instruccions d'ús\n",
    "\n",
    "Aquest document és un notebook interactiu que intercala explicacions més aviat teòriques de conceptes de programació amb fragments de codi executables. Per aprofitar els avantatges que aporta aquest format, us recomanem que, en primer lloc, llegiu les explicacions i el codi que us proporcionem. D'aquesta manera tindreu un primer contacte amb els conceptes que hi exposem. Ara bé, **la lectura és només el principi!** Una vegada hagueu llegit el contingut proporcionat, no oblideu executar el codi proporcionat i modificar-lo per crear-ne variants, que us permetin comprovar que heu entès la seva funcionalitat i explorar-ne els detalls d'implementació. Per últim, us recomanem també consultar la documentació enllaçada per explorar amb més profunditat les funcionalitats dels mòduls presentats. \n",
    "\n"
   ]
  },
  {
   "cell_type": "code",
   "execution_count": null,
   "metadata": {},
   "outputs": [],
   "source": [
    "%load_ext pycodestyle_magic"
   ]
  },
  {
   "cell_type": "code",
   "execution_count": null,
   "metadata": {},
   "outputs": [],
   "source": [
    "# Activem les alertes d'estil\n",
    "%pycodestyle_on"
   ]
  },
  {
   "cell_type": "markdown",
   "metadata": {},
   "source": [
    "### Introducció\n",
    "\n",
    "En aquesta unitat es repassen molt ràpidament els conceptes bàsics de funcions i s'exposen alguns conceptes més avançats sobre l'ús de funcions en Python.\n",
    "\n",
    "En primer lloc, s'explica què és l'àmbit (l'*scope*) d'una variable, un concepte que de ben segur coneixeu de manera informal, però que no s'ha treballat formalment encara. \n",
    "\n",
    "En segon lloc, es repassa com retornar valors des de funcions, es comenten els possibles valors que pot retornar una funció i es presenten algunes situacions que poden semblar especials, com ara les funcions que retornen funcions.\n",
    "\n",
    "A continuació, s'exposa com funcionen els paràmetres de les funcions en Python. Es parla de com es passen aquests paràmetres i què passa quan els modifiquem, de la definició de funcions amb arguments opcionals i amb un número d'arguments indeterminat, i també de com passar funcions com a arguments d'altres funcions.\n",
    "\n",
    "Seguidament, es fa una petita introducció a la programació funcional en Python, presentant les tres funcions bàsiques d'aquest paradigma de programació ([`map`](https://docs.python.org/3/library/functions.html#map), [`filter`](https://docs.python.org/3/library/functions.html#filter) i [`reduce`](https://docs.python.org/3/library/functools.html#functools.reduce)).\n",
    "\n",
    "Després, es presenten les funcions anònimes, i es posen exemples d'ús d'aquest tipus de funcions quan es fa servir [`map`](https://docs.python.org/3/library/functions.html#map), [`filter`](https://docs.python.org/3/library/functions.html#filter) i [`reduce`](https://docs.python.org/3/library/functools.html#functools.reduce).\n",
    "\n",
    "Finalment, s'explica que és el *docstring*, com hi podem accedir i quines convencions s'utilitzen a l'hora de definir el *docstring* de les funcions.\n",
    "\n",
    "A continuació s'inclou la taula de continguts, que podeu fer servir per a navegar pel document:"
   ]
  },
  {
   "cell_type": "markdown",
   "metadata": {},
   "source": [
    "<ul style=\"list-style-type:none\">\n",
    "    <li><a href='#1.--Funcions'>1. Funcions</a></li>\n",
    "    <ul style=\"list-style-type:none\">\n",
    "        <li><a href='#1.1.--Àmbit-de-visibilitat'>1.1. Àmbit de visibilitat</a></li>\n",
    "        <ul style=\"list-style-type:none\">\n",
    "            <li><a href='#1.1.1.--Funcions-dins-de-funcions'>1.1.1. Funcions dins de funcions</a></li>\n",
    "        </ul>\n",
    "        <li><a href='#1.2.--Valor-de-retorn'>1.2. Valor de retorn</a></li>\n",
    "        <ul style=\"list-style-type:none\">\n",
    "            <li><a href='#1.2.1.--Funcions-com-a-valors-de-retorn'>1.2.1. Funcions com a valors de retorn</a></li>\n",
    "        </ul>\n",
    "        <li><a href=\"#1.3.--Paràmetres\">1.3. Paràmetres</a></li>\n",
    "        <ul style=\"list-style-type:none\">\n",
    "            <li><a href=\"#1.3.1.--Pas-per-referència-d'objecte\">1.3.1. Pas per referència d'objecte</a></li>\n",
    "            <li><a href='#1.3.2.--Arguments-opcionals'>1.3.2. Arguments opcionals</a></li>\n",
    "            <li><a href=\"#1.3.3.--Número-indeterminat-d'arguments\">1.3.3. Número indeterminat d'arguments</a></li>\n",
    "            <li><a href='#1.3.4.--Funcions-com-a-paràmetres'>1.3.4. Funcions com a paràmetres</a></li>\n",
    "        </ul>\n",
    "        <li><a href=\"#1.4.--Introducció-a-la-programació-funcional\">1.4. Introducció a la programació funcional</a></li>\n",
    "        <ul style=\"list-style-type:none\">\n",
    "            <li><a href='#1.4.1.--Map'>1.4.1. Map</a></li>      \n",
    "            <li><a href=\"#1.4.2.--Filter\">1.4.2. Filter</a></li>      \n",
    "            <li><a href=\"#1.4.3.--Reduce\">1.4.3. Reduce</a></li>      \n",
    "        </ul>\n",
    "        <li><a href=\"#1.5.--Funcions-anònimes\">1.5. Funcions anònimes</a></li>      \n",
    "        <li><a href=\"#1.6.--Docstring\">1.6. Docstring</a></li>\n",
    "    </ul>\n",
    "    <li><a href=\"#2.--Exercicis-per-practicar\">2. Exercicis de practicar</a></li>\n",
    "    <ul style=\"list-style-type:none\">\n",
    "        <li><a href='#2.1.--Solucions-als-exercicis-per-practicar'>2.1. Solucions als exercicis per practicar</a></li>\n",
    "    </ul>\n",
    "    <li><a href=\"#3.--Bibliografia\">3. Bibliografia</a></li>\n",
    "    <ul style=\"list-style-type:none\">\n",
    "        <li><a href='#3.1.--Bibliografia-bàsica'>3.1. Bibliografia bàsica</a></li>\n",
    "        <li><a href='#3.2.--Bibliografia-addicional---Ampliació-de-coneixements'>3.2. Bibliografia addicional</a></li>\n",
    "    </ul>\n",
    "</ul>"
   ]
  },
  {
   "cell_type": "markdown",
   "metadata": {},
   "source": [
    "---\n",
    "\n",
    "# 1.- Funcions\n",
    "\n",
    "Com ja sabem, una funció és una manera d'encapsular codi, que ens permet reaprofitar-lo per a diverses tasques. Una funció és un fragment de codi que té un nom i que realitza una tasca específica.\n",
    "\n",
    "En Python definim una funció amb la paraula reservada [`def`](https://docs.python.org/3/reference/compound_stmts.html#def), seguida del nom que donem a la funció i dels paràmetres que rep entre parèntesi. Una funció pot retornar un valor, que s'indica amb la paraula `return`."
   ]
  },
  {
   "cell_type": "code",
   "execution_count": null,
   "metadata": {},
   "outputs": [],
   "source": [
    "\n",
    "\n",
    "# Definim la funció de nom 'sum_two_values' amb dos arguments: 'x' i 'y':\n",
    "def sum_two_values(x, y):\n",
    "    \"\"\"Return the value of the sum.\"\"\"\n",
    "    return x + y"
   ]
  },
  {
   "cell_type": "markdown",
   "metadata": {},
   "source": [
    "Per tal d'executar una funció, la cridem fent servir el seu nom, i especificant els arguments:"
   ]
  },
  {
   "cell_type": "code",
   "execution_count": null,
   "metadata": {},
   "outputs": [],
   "source": [
    "r = sum_two_values(3, 5)\n",
    "print(r)"
   ]
  },
  {
   "cell_type": "markdown",
   "metadata": {},
   "source": [
    "## 1.1.- Àmbit de visibilitat"
   ]
  },
  {
   "cell_type": "markdown",
   "metadata": {},
   "source": [
    "Com ja hem vist, l'assignació d'una variable en qualsevol cel·la d'un notebook permet fer servir aquesta variable en tot el notebook. Així doncs, per exemple, podem mostrar el contingut de la variable `r` assignada a la cel·la anterior en la següent cel·la:"
   ]
  },
  {
   "cell_type": "code",
   "execution_count": null,
   "metadata": {},
   "outputs": [],
   "source": [
    "print(r)"
   ]
  },
  {
   "cell_type": "markdown",
   "metadata": {},
   "source": [
    "Si intentem fer servir una variable que no haguem assignat anteriorment, Python llança l'excepció `NameError`:"
   ]
  },
  {
   "cell_type": "code",
   "execution_count": null,
   "metadata": {},
   "outputs": [],
   "source": [
    "try:\n",
    "    print(undef_var)\n",
    "except NameError as e:\n",
    "    print(e)"
   ]
  },
  {
   "cell_type": "markdown",
   "metadata": {},
   "source": [
    "Aquest error apareix ja que la variable `undef_var` no s'ha assignat amb anterioritat a l'execució del `print` sobre la variable.\n",
    "\n",
    "Recordeu que les diferents cel·les d'un notebook poden executar-se de manera independent, i que l'ordre d'execució de les cel·les (i no pas l'ordre en què es troben dins del notebook) en determinarà el flux d'execució. Quan programem fent servir notebooks **és molt recomanable que aquests es puguin executar linealment sense errors**, és a dir, que el resultat esperat del notebook sigui el que s'obté al prémer el botó del Menú `Kernel`, `Restart and Run All`.\n",
    "\n",
    "A tall d'exemple i perquè pugueu comprovar la possible no linealitat d'execució d'un notebook, a la cel·la següent definirem la variable `undef_var` i us demanem que executeu de nou la cel·la anterior (on es feia un `print` d'aquesta variable). A diferència de la primera vegada en què s'executa la cel·la, aquest cop no ens hauria de donar cap error, ja que ja haurem definit la variable. Aquest tipus d'accions, però, són les que cal evitar, ja que dificulten la lectura, claredat i portabilitat del codi que implementem."
   ]
  },
  {
   "cell_type": "code",
   "execution_count": null,
   "metadata": {},
   "outputs": [],
   "source": [
    "# Definim la variable undef_var\n",
    "undef_var = \"Now it has a value\"\n",
    "\n",
    "###############################################################\n",
    "# IMPORTANT: executeu ara la cel·la de codi anterior, que conté\n",
    "# el print de la variable undef_var, per comprovar que l'execució\n",
    "# ara no genera cap error.\n",
    "###############################################################"
   ]
  },
  {
   "cell_type": "markdown",
   "metadata": {},
   "source": [
    "Diem que una variable és **global** quan aquesta és assignada fora d'una funció (com en el cas tant de la variable `r` com de la variable `undef_var`). Per contra, direm que una variable és **local** quan la definim dins d'una funció. Per referir-nos a l'àrea des d'on pot fer-se servir una determinada variable fem servir la paraula **àmbit** (en anglès, parlem d'*scope*).\n",
    "\n",
    "Una variable local no pot ser utilitzada fora del cos de la funció on està definida. En canvi, una variable global pot ser utilitzada tant des de fora de qualsevol funció com des del cos de les funcions:"
   ]
  },
  {
   "cell_type": "code",
   "execution_count": null,
   "metadata": {},
   "outputs": [],
   "source": [
    "# Definim una variable global\n",
    "global_var = \"This is a global variable\"\n",
    "\n",
    "\n",
    "def fun_1():\n",
    "    # Definim una variable local dins de fun_1\n",
    "    local_var_1 = \"local_var_1 is local to fun_1\"\n",
    "    # Mostrem el valor de la variable global i de la local\n",
    "    print(global_var)\n",
    "    print(local_var_1)\n",
    "\n",
    "\n",
    "def fun_2():\n",
    "    # Mostrem la variable global\n",
    "    print(global_var)\n",
    "    # Intentem accedir a la variable local local_var_1,\n",
    "    # cosa que generarà un error ja que no està definida\n",
    "    # dins de la funció fun_2\n",
    "    print(local_var_1)"
   ]
  },
  {
   "cell_type": "code",
   "execution_count": null,
   "metadata": {},
   "outputs": [],
   "source": [
    "# Mostrem la variable global\n",
    "print(global_var)"
   ]
  },
  {
   "cell_type": "code",
   "execution_count": null,
   "metadata": {},
   "outputs": [],
   "source": [
    "# Comprovem com no podem accedir a la variable local local_var_1\n",
    "# ja que aquesta està definida dins de l'àmbit de la funció fun_1\n",
    "try:\n",
    "    print(local_var_1)\n",
    "except NameError:\n",
    "    print(\"Error: Variable no definida\")"
   ]
  },
  {
   "cell_type": "code",
   "execution_count": null,
   "metadata": {},
   "outputs": [],
   "source": [
    "# Executem fun_1, que mostra correctament el valor de la variable\n",
    "# global i de la local\n",
    "fun_1()"
   ]
  },
  {
   "cell_type": "code",
   "execution_count": null,
   "metadata": {},
   "outputs": [],
   "source": [
    "# Executem fun_2, que mostra correctament el valor de la variable\n",
    "# global però llança una excepció a l'accedir a la variable local\n",
    "# ja que aquesta està definida a fun_1\n",
    "try:\n",
    "    fun_2()\n",
    "except NameError:\n",
    "    print(\"Error: Variable no definida\")"
   ]
  },
  {
   "cell_type": "markdown",
   "metadata": {},
   "source": [
    "Fins ara hem vist el comportament de les variables globals i locals dins i fora de funcions. Què passa, però, si definim una variable local (dins d'una funció) que té el mateix nom que una variable global definida fora de la funció?"
   ]
  },
  {
   "cell_type": "code",
   "execution_count": null,
   "metadata": {},
   "outputs": [],
   "source": [
    "def fun_3():\n",
    "    # Assignem la variable global_var\n",
    "    global_var = \"Now this is a local var!\"\n",
    "    # Mostrem el valor de global_var\n",
    "    print(global_var)\n",
    "\n",
    "\n",
    "# Mostrem el valor de global_var abans d'executar la funció fun_3\n",
    "print(global_var)\n",
    "# Executem la funció fun_3\n",
    "fun_3()\n",
    "# Mostrem el valor de global_var després d'executar la funció fun_3\n",
    "print(global_var)"
   ]
  },
  {
   "cell_type": "markdown",
   "metadata": {},
   "source": [
    "D'una banda, fixeu-vos que el valor de la variable global `global_var` no canvia amb l'execució de la funció: el `print` d'abans de la crida a `fun_3` i el `print` de després de la crida retornen exactament el mateix valor. D'altra banda, fixeu-vos que dins de la funció `fun_3`, la variable `global_var` pren un nou valor. En realitat, el que hem fet a l'assignar `global_var` dins de la funció és crear una nova variable amb el mateix nom, dins de l'àmbit de la funció. Aquest comportament difereix del que passava al cridar les funcions `fun_1` i `fun_2`, on el nom `global_var` feia referència a la variable global. La diferència és deguda al fet que en les funcions 1 i 2 simplement es mostrava el contingut de la variable, mentre que en la funció 3 la variable s'assigna.\n",
    "\n",
    "Així doncs, com podem reassignar el valor d'una variable global des de dins d'una funció? Per fer-ho, caldrà fer ús de la paraula reservada [`global`](https://docs.python.org/3/reference/simple_stmts.html#global), que permetrà indicar, en el context d'una funció, que volem fer servir una variable global:"
   ]
  },
  {
   "cell_type": "code",
   "execution_count": null,
   "metadata": {},
   "outputs": [],
   "source": [
    "def fun_4():\n",
    "    # Identifiquem la variable global_var com a global\n",
    "    global global_var\n",
    "    # Assignem un nou valor a la variable global global_var\n",
    "    global_var = \"Changing the value of the global var\"\n",
    "    # Mostrem el valor de global_var\n",
    "    print(global_var)\n",
    "\n",
    "\n",
    "# Mostrem el valor de global_var abans d'executar la funció fun_4\n",
    "print(global_var)\n",
    "# Executem la funció fun_4\n",
    "fun_4()\n",
    "# Mostrem el valor de global_var després d'executar la funció fun_4\n",
    "print(global_var)"
   ]
  },
  {
   "cell_type": "markdown",
   "metadata": {},
   "source": [
    "Noteu com, al cridar `fun_4`, es modifica el valor de la variable global `global_var` (el valor de la variable en l'últim print és el valor assignat dins de la funció).\n"
   ]
  },
  {
   "cell_type": "markdown",
   "metadata": {},
   "source": [
    "### 1.1.1.- Funcions dins de funcions\n",
    "\n",
    "Python permet definir funcions dins d'altres funcions. Aleshores, el comportament de les variables definides en aquestes funcions és similar al que hem descrit anteriorment.\n",
    "\n",
    "A l'exemple següent hi ha una variable global `y` i una funció `outer_fun` definida també en l'àmbit global. Dins de la funció `outer_fun`, es defineix una variable local `x` amb valor `3`, i quatre funcions internes (`inner_fun_i` amb `i`d'1 a 4). Cadascuna de les quatre funcions internes mostra els possibles comportaments amb relació a la variable `x` definida a la funció externa:\n",
    "* `inner_fun_1` mostra el valor de la variable `x` definida a `outer_fun`.\n",
    "* `inner_fun_2` assigna a una variable `x` el valor 5. Això crea una nova variable anomenada `x`, local a `inner_fun_2`. Per tant, el valor de la variable `x` d'`outer_fun` no es modifica.\n",
    "* `inner_fun_3` fa servir la paraula clau [`nonlocal`](https://docs.python.org/3/reference/simple_stmts.html#the-nonlocal-statement) per indicar que vol accedir a la variable `x` de l'àmbit d'`outer_fun`, i reassigna el valor d'`x` a 7. Per tant, quan es torna a mostrar el valor d'`x` des de la funció `outer_fun`, el valor ha estat modificat. El [`nonlocal`](https://docs.python.org/3/reference/simple_stmts.html#the-nonlocal-statement) té una funcionalitat similar al `global` que havíem vist en la funció `fun_4`, però serveix per referir-se a una variable definida en un àmbit superior no global.\n",
    "* `inner_fun_4` intenta accedir a la variable `my_var_if1`, que és local a la funció `inner_fun_1`, generant, en conseqüència, una excepció.\n",
    "\n"
   ]
  },
  {
   "cell_type": "code",
   "execution_count": null,
   "metadata": {},
   "outputs": [],
   "source": [
    "\n",
    "\n",
    "# Definim la funció outer_fun a l'àmbit global\n",
    "def outer_fun():\n",
    "\n",
    "    # Definim la funció inner_fun_1 dins d'outer_fun\n",
    "    def inner_fun_1():\n",
    "        # Definim la variable my_var_if1 dins de inner_fun_1\n",
    "        my_var_if1 = \"This is defined in inner_fun_1\"\n",
    "        # Mostrem el valor de la variable d'outer_fun x i la variable global y\n",
    "        print(\"Inner fun 1 x:\\t{}\".format(x))\n",
    "        print(\"Inner fun 1 y:\\t{}\".format(y))\n",
    "\n",
    "    # Definim la funció inner_fun_2 dins d'outer_fun\n",
    "    def inner_fun_2():\n",
    "        # Definim i mostrem una nova variable x local a inner_fun_2 amb valor 5\n",
    "        x = 5\n",
    "        print(\"Inner fun 2 x:\\t{}\".format(x))\n",
    "\n",
    "    # Definim la funció inner_fun_3 dins d'outer_fun\n",
    "    def inner_fun_3():\n",
    "        # Indiquem que farem servir la variable x no local\n",
    "        # (definida a outer_fun)\n",
    "        nonlocal x\n",
    "        # Modifiquem i mostrem el valor d'x\n",
    "        x = 7\n",
    "        print(\"Inner fun 3 x:\\t{}\".format(x))\n",
    "\n",
    "    # Definim la funció inner_fun_4 dins d'outer_fun\n",
    "    def inner_fun_4():\n",
    "        try:\n",
    "            # Intentem accedir a la variable my_var_if1 definida dins\n",
    "            # d'inner_fun_1 (cosa que generarà una excepció)\n",
    "            print(my_var_if1)\n",
    "        except NameError:\n",
    "            print(\"Error: undefined variable\")\n",
    "\n",
    "    # Mostrem el valor de la variable global y\n",
    "    print(\"Outer fun 1 y:\\t{}\".format(y))\n",
    "\n",
    "    # Definim una variable local a outer_fun de nom x i valor 3\n",
    "    x = 3\n",
    "    # Anem mostrant el valor d'x i executant les funcions internes, per veure\n",
    "    # l'efecte que tenen sobre x\n",
    "    print(\"Outer fun x:\\t{}\".format(x))\n",
    "    inner_fun_1()\n",
    "    print(\"Outer fun x:\\t{}\".format(x))\n",
    "    inner_fun_2()\n",
    "    print(\"Outer fun x:\\t{}\".format(x))\n",
    "    inner_fun_3()\n",
    "    print(\"Outer fun x:\\t{}\".format(x))\n",
    "    inner_fun_4()\n",
    "\n",
    "\n",
    "# Definim una variable global y\n",
    "y = 1\n",
    "# Cridem la funció outer_fun\n",
    "outer_fun()"
   ]
  },
  {
   "cell_type": "markdown",
   "metadata": {},
   "source": [
    "Definir funcions dins de funcions permet **encapsular** codi, és a dir, amagar certes parts del codi, de manera que només puguin ser cridades des de certes funcions. Seguint amb l'exemple anterior, les funcions `inner_fun_i` només són visibles des de dins d'`outer_fun`, i no poden ser cridades des de l'àmbit global:"
   ]
  },
  {
   "cell_type": "code",
   "execution_count": null,
   "metadata": {},
   "outputs": [],
   "source": [
    "try:\n",
    "    # Intentem executar una de les funcions internes, cosa que generarà\n",
    "    # una excepció ja que no estan definides en l'àmbit global\n",
    "    inner_fun_1()\n",
    "except NameError:\n",
    "    print(\"Error: undefined 'inner_fun_1'\")"
   ]
  },
  {
   "cell_type": "markdown",
   "metadata": {},
   "source": [
    "Per què podem voler encapsular el codi? Suposem, per exemple, que estem analitzant un conjunt de dades amb les localitzacions actuals d'un conjunt de persones, així com la localització del domicili i del lloc de treball d'aquestes, i que volem saber si aquestes persones es troben a prop tant del lloc de treball com del domicili. Per fer-ho, implementem una funció `is_close` que ens retorna un booleà que indica si estan a prop o no d'ambdues localitzacions. Aquesta funció necessitarà calcular la distància entre dos punts dues vegades (una per calcular la distància entre la localització actual i el domicili, i una segona vegada per saber la distància entre la localització actual i el lloc de treball). Per tant, per no repetir codi, definirem una altra funció `dist` que calculi la distància entre dos punts. Ara bé, per a l'anàlisi que volem fer, no farem servir la distància euclidiana, sinó que farem servir la [distància de Manhattan](https://en.wikipedia.org/wiki/Taxicab_geometry). A la resta del nostre codi, però, mai farem servir aquesta definició de distància, i volem evitar que algun altre programador de l'equip, per error, cridi a la nostra funció distància `dist` (pensant, potser, que calcula la distància més habitual, l'Euclidiana). Una possible manera de fer-ho és definir la funció `dist` com a una funció local a `is_close`. D'aquesta manera, podem fer servir una funció i no haurem de repetir codi al calcular les distàncies i, alhora, evitarem que es cridi aquesta funció des de fora de la funció `is_close`:"
   ]
  },
  {
   "cell_type": "code",
   "execution_count": null,
   "metadata": {},
   "outputs": [],
   "source": [
    "def is_close(x, y, l1_x, l1_y, l2_x, l2_y):\n",
    "    \"\"\"Computes whether a location is nearby two other locations.\n",
    "\n",
    "    Computes if location (x,y) is close to two other locations,\n",
    "    (l1_x, l1_y) and (l2_x, l2_y).\"\"\"\n",
    "\n",
    "    def dist(x1, y1, x2, y2):\n",
    "        \"\"\"Computes the Manhattan distance between (x1, y1) and (x2, y2).\"\"\"\n",
    "        return abs(x1 - x2) + abs(y1 - y2)\n",
    "\n",
    "    # Considerem que un punt és a prop d'un altre si la distància entre ells\n",
    "    # és inferior a lim\n",
    "    lim = 10\n",
    "    # Retornem si (x, y) és a prop tant de (l1_x, l1_y) com de (l2_x, l2_y)\n",
    "    return (dist(x, y, l1_x, l1_y) < lim) and (dist(x, y, l2_x, l2_y) < lim)"
   ]
  },
  {
   "cell_type": "code",
   "execution_count": null,
   "metadata": {},
   "outputs": [],
   "source": [
    "# Calculem si la localització actual (0, 0) és a prop de (1, 4) i (-7, 1)\n",
    "r1 = is_close(0, 0, 1, 4, -7, 1)\n",
    "print(\"(0, 0) is close to (1, 4) and (-7, 1)?: {}\".format(r1))\n",
    "\n",
    "# Calculem si la localització actual (0, 0) és a prop de (1, 4) i (15, 1)\n",
    "r2 = is_close(0, 0, 1, 4, 15, 1)\n",
    "print(\"(0, 0) is close to (1, 4) and (15, 1)?: {}\".format(r2))"
   ]
  },
  {
   "cell_type": "markdown",
   "metadata": {},
   "source": [
    "Abans d'acabar aquesta secció, fem un apunt sobre la implementació de la funció `is_close`. Fixeu-vos que la funció ha de retornar `True` si es compleix una determinada condició (si l'usuari es troba a prop de la feina i del seu habitatge) i `False` en cas contrari. Una possible manera d'implementar aquest comportament és amb una instrucció `if`:\n",
    "\n",
    "```\n",
    "if (dist(x, y, l1_x, l1_y) < lim) and (dist(x, y, l2_x, l2_y) < lim):\n",
    "    return True\n",
    "else:\n",
    "    return False\n",
    "```\n",
    "Aquest codi fa servir una expressió (que inclou el càlcul de distàncies) per diferenciar si la funció ha de retornar `True` o `False`. És important notar que la pròpia expressió ja retorna un booleà i que, per tant, pot fer-se servir directament com a valor de retorn:\n",
    "```\n",
    "return (dist(x, y, l1_x, l1_y) < lim) and (dist(x, y, l2_x, l2_y) < lim)\n",
    "```\n",
    "\n",
    "de manera que obtenim un codi més concís, que es comporta exactament igual, i que evita redundància.\n",
    " \n"
   ]
  },
  {
   "cell_type": "markdown",
   "metadata": {},
   "source": [
    "## 1.2.- Valor de retorn"
   ]
  },
  {
   "cell_type": "markdown",
   "metadata": {},
   "source": [
    "Una funció pot retornar un valor, que s'indica amb la paraula `return`. Si la funció no té `return` o bé té un `return` buit, l'execució de la funció retornarà el valor [`None`](https://docs.python.org/3.2/library/constants.html#None):"
   ]
  },
  {
   "cell_type": "code",
   "execution_count": null,
   "metadata": {},
   "outputs": [],
   "source": [
    "\n",
    "\n",
    "# Definim una funció sense return\n",
    "def print_sum_v0(x, y):\n",
    "    print(\"Result is: {}\".format(x+y))\n",
    "\n",
    "\n",
    "# Definim una funció amb retorn buit\n",
    "def print_sum_v1(x, y):\n",
    "    print(\"Result is: {}\".format(x+y))\n",
    "    return\n",
    "\n",
    "\n",
    "# El valor de retorn de les dues funcions és None\n",
    "r = print_sum_v0(3, 5)\n",
    "print(r)\n",
    "\n",
    "r = print_sum_v1(3, 5)\n",
    "print(r)"
   ]
  },
  {
   "cell_type": "markdown",
   "metadata": {},
   "source": [
    "Una funció retorna un únic **objecte**. Així, si cal que una funció retorni més d'un valor, podem fer que la funció retorni una tupla amb els diversos valors."
   ]
  },
  {
   "cell_type": "code",
   "execution_count": null,
   "metadata": {},
   "outputs": [],
   "source": [
    "\n",
    "\n",
    "# Definim la funció de nom 'sum_two_values' amb dos arguments: 'x' i 'y':\n",
    "def sum_two_values(x, y):\n",
    "    \"\"\"Return the value of the sum.\"\"\"\n",
    "    return x + y\n",
    "\n",
    "\n",
    "# Definim la funció de nom 'sum_and_mult_two_values' amb dos arguments:\n",
    "# 'x' i 'y':\n",
    "def sum_and_mult_two_values(x, y):\n",
    "    \"\"\"Return a tuple with the value of the sum and the product.\"\"\"\n",
    "    return x + y, x * y\n",
    "\n",
    "\n",
    "r1 = sum_two_values(5, 11)\n",
    "r2 = sum_and_mult_two_values(5, 11)\n",
    "print(\"The result of sum_two_values(5, 11) is {} ({})\".\n",
    "      format(r1, type(r1)))\n",
    "print(\"The result of sum_and_mult_two_values(5, 11) is {} ({})\".\n",
    "      format(r2, type(r2)))"
   ]
  },
  {
   "cell_type": "markdown",
   "metadata": {},
   "source": [
    "Fixeu-vos que al retornar la tupla, s'està fent servir la sintaxi de definició de tupla sense parèntesis, que és més ràpida d'escriure ja que conté menys caràcters, però pot portar a confusió al programador novell. Així doncs, noteu que el return de la segona funció seria equivalent a:\n",
    "\n",
    "```\n",
    "    return (x + y, x * y)\n",
    "```"
   ]
  },
  {
   "cell_type": "markdown",
   "metadata": {},
   "source": [
    "### 1.2.1.- Funcions com a valors de retorn\n",
    "\n",
    "De la mateixa manera que una funció pot retornar, per exemple, un enter, una cadena de caràcters o una tupla, una funció pot retornar també una altra funció. Això ens serà útil en certes construccions que veurem en aquest mòdul. \n",
    "\n",
    "Per exemple, la funció `min_or_max` definida a la cel·la següent retorna o bé la funció [`min`](https://docs.python.org/3/library/functions.html#min) o bé la funció [`max`](https://docs.python.org/3/library/functions.html#max), depenent de si el valor que rep com a paràmetre, `sel`, és parell o senar:"
   ]
  },
  {
   "cell_type": "code",
   "execution_count": null,
   "metadata": {},
   "outputs": [],
   "source": [
    "def min_or_max(sel):\n",
    "    \"\"\"Return either the min or the max function.\"\"\"\n",
    "    if sel % 2:\n",
    "        # sel és senar\n",
    "        f = max\n",
    "    else:\n",
    "        # sel és parell\n",
    "        f = min\n",
    "    return f"
   ]
  },
  {
   "cell_type": "code",
   "execution_count": null,
   "metadata": {},
   "outputs": [],
   "source": [
    "# Definim una llista\n",
    "a_list = [1, 1, 2, 3, 5, 8, 13, 21]\n",
    "# Cridem a min_or_max amb l'últim element de la llista com a paràmetre\n",
    "f = min_or_max(a_list[-1])\n",
    "# Com que l'últim element de la llista és senar, f contindrà la funció max\n",
    "print(\"The type of f is: {}\".format(type(f)))\n",
    "print(\"f is: {}\".format(f))\n",
    "# Apliquem la funció f (és a dir, max) a la llista a_list\n",
    "r = f(a_list)\n",
    "print(\"The result of applying f to a_list is: {}\".format(r))"
   ]
  },
  {
   "cell_type": "markdown",
   "metadata": {},
   "source": [
    "Combinant la funcionalitat de definir funcions dins de funcions i la de retornar funcions, es poden crear construccions complexes que permeten resoldre elegantment alguns problemes. Si esteu interessats en aquest tipus de construccions, podeu consultar l'[enllaç següent](https://stackabuse.com/python-nested-functions/) (lectura opcional, per a ampliar coneixements)."
   ]
  },
  {
   "cell_type": "markdown",
   "metadata": {},
   "source": [
    "## 1.3.- Paràmetres\n",
    "\n",
    "Les funcions poden tenir paràmetres, que serveixen per proveir-les de dades que necessiten per a la seva execució. Formalment, distingim entre paràmetres i arguments. Els paràmetres són part de la signatura de la funció, mentre que els arguments són els valors que rep la funció en el moment d'executar-la. Per exemple, a la cel·la de codi on definíem la funció `sum_and_mult_two_values`, `x` i `y` són els paràmetres de la funció `sum_and_mult_two_values`, i quan fem la crida `sum_and_mult_two_values(5, 11)`, `5` i `11` són els arguments. \n",
    "\n",
    "Informalment, però, sovint es fan servir els dos termes indistintament.\n",
    "\n",
    "### 1.3.1.- Pas per referència d'objecte\n",
    "\n",
    "Fins ara hem vist com les funcions reben uns arguments i retornen uns valors. Què passa, però, quan modifiquem els valors de les variables que rebem com a arguments en una crida d'una funció? Observem-ho amb alguns exemples!"
   ]
  },
  {
   "cell_type": "code",
   "execution_count": null,
   "metadata": {},
   "outputs": [],
   "source": [
    "\n",
    "\n",
    "# Definim una funció que rep un paràmetre 'i' i\n",
    "# assigna el valor 5 a aquest\n",
    "def reassign_num(i):\n",
    "    i = 5\n",
    "    print(\"Value of i in the function:\\t{}\".format(i))\n",
    "\n",
    "\n",
    "# Definim una funció que rep un paràmetre 'li' i\n",
    "# assigna el valor [1., 2] a aquest\n",
    "def reassign_list(li):\n",
    "    li = [1, 2]\n",
    "    print(\"Value of li in the function:\\t{}\".format(li))\n",
    "\n",
    "\n",
    "# Definim una funció que rep un paràmetre 'li' i\n",
    "# li afegeix un enter 1 amb append\n",
    "def append_val(li):\n",
    "    li.append(1)\n",
    "    print(\"Value of li in the function:\\t{}\".format(li))"
   ]
  },
  {
   "cell_type": "markdown",
   "metadata": {},
   "source": [
    "Hi ha diversos detalls a tenir en compte en la definició d'aquestes tres funcions. En primer lloc, les funcions no tenen cap instrucció `return`, de manera que la seva crida retornarà sempre [`None`](https://docs.python.org/3.2/library/constants.html#None). En segon lloc, les dues primeres funcions (`reassign_num` i `reassign_list`) poden rebre un valor de qualsevol tipus com a paràmetre. En canvi, la tercera funció (`append_val`) ha de rebre un paràmetre d'un tipus que implementi el mètode `append`, com ara una llista. Per últim, és interessant notar què fan aquestes funcions: les dues primeres (`reassign_num` i `reassign_list`) **assignen** un nou valor a la variable que reben com a paràmetre (un enter en el cas de `reassign_num`, i una llista per a `reassign_list`). Contràriament, la tercera funció (`append_val`) el que fa és **modificar** la variable que rep com a paràmetre, en aquest cas, afegint un element a la llista.\n",
    "\n",
    "Fixem-nos, a continuació, amb l'efecte que té l'execució d'aquestes funcions sobre les variables que es reben."
   ]
  },
  {
   "cell_type": "code",
   "execution_count": null,
   "metadata": {},
   "outputs": [],
   "source": [
    "an_integer = 42\n",
    "print(\"Value of an_integer:\\t\\t{}\".format(an_integer))\n",
    "ret_val = reassign_num(an_integer)\n",
    "print(\"Function returns:\\t\\t{}\".format(ret_val))\n",
    "print(\"Value of an_integer:\\t\\t{}\".format(an_integer))"
   ]
  },
  {
   "cell_type": "code",
   "execution_count": null,
   "metadata": {},
   "outputs": [],
   "source": [
    "a_list = [42]\n",
    "print(\"Value of a_list:\\t\\t{}\".format(a_list))\n",
    "ret_val = reassign_list(a_list)\n",
    "print(\"Function returns:\\t\\t{}\".format(ret_val))\n",
    "print(\"Value of a_list:\\t\\t{}\".format(a_list))"
   ]
  },
  {
   "cell_type": "markdown",
   "metadata": {},
   "source": [
    "En aquests dos primers casos, la variable que es passa com a paràmetre en les crides a les funcions `reassign_num` i `reassign_list` no es veu afectada per la reassignació que es realitza a dins de les funcions: després d'executar `reassign_num`, la variable `an_integer` segueix contenint el valor `42`; i després d'executar la funció `reassign_list`, la variable `a_list` segueix valent `[42]`. Fixem-nos ara en el comportament de la variable `a_list` quan cridem la funció `append_val`:"
   ]
  },
  {
   "cell_type": "code",
   "execution_count": null,
   "metadata": {},
   "outputs": [],
   "source": [
    "a_list = [42]\n",
    "print(\"Value of a_list:\\t\\t{}\".format(a_list))\n",
    "ret_val = append_val(a_list)\n",
    "print(\"Function returns:\\t\\t{}\".format(ret_val))\n",
    "print(\"Value of a_list:\\t\\t{}\".format(a_list))"
   ]
  },
  {
   "cell_type": "markdown",
   "metadata": {},
   "source": [
    "En aquest cas, i a diferència de les dues crides anteriors, el valor de la variable `a_list` es modifica (tot i que la funció no ha retornat cap valor). Això succeeix per la implementació interna que fa Python del pas de paràmetres en les crides a les funcions. Aquest comportament es coneix com a pas per referència d'objecte (en anglès, *pass-by-object-reference*), i no és igual en tots els llenguatges de programació. El lector interessat pot consultar [aquest post](https://medium.com/@tyastropheus/tricky-python-ii-parameter-passing-for-mutable-immutable-objects-10e968cbda35) per aprofundir en el funcionament del pas de paràmetres en Python (lectura opcional, per a ampliar coneixements). És important tenir en compte aquest comportament de les funcions en Python a l'hora de programar ja que, en cas de no fer-ho, podem obtenir resultats inesperats en les crides a funcions."
   ]
  },
  {
   "cell_type": "markdown",
   "metadata": {},
   "source": [
    "### 1.3.2.- Arguments opcionals\n",
    "\n",
    "La manera més directa d'especificar arguments opcionals en la definició d'una funció és donar-los un valor per defecte. Aleshores, si en el moment de fer la crida l'argument no s'especifica, aquest prendrà el valor per defecte que s'hagi especificat en la definició de la funció:"
   ]
  },
  {
   "cell_type": "code",
   "execution_count": null,
   "metadata": {},
   "outputs": [],
   "source": [
    "\n",
    "\n",
    "# Definim una funció amb dos paràmetres obligatoris i un\n",
    "# d'opcional. El paràmetre opcional z serà 0 si no s'especifica.\n",
    "def sum_two_or_three_values(x, y, z=0):\n",
    "    print(\"Values are: x={}, y={}, z={}\".format(x, y, z))\n",
    "    return x + y + z"
   ]
  },
  {
   "cell_type": "code",
   "execution_count": null,
   "metadata": {},
   "outputs": [],
   "source": [
    "# Cridem la funció amb només els paràmetres obligatoris, x i y\n",
    "print(\"(1, 3): {}\".format(sum_two_or_three_values(1, 3)))\n",
    "\n",
    "# Cridem la funció amb els paràmetres obligatoris i l'opcional\n",
    "print(\"(1, 3, 4): {}\".format(sum_two_or_three_values(1, 3, 4)))"
   ]
  },
  {
   "cell_type": "code",
   "execution_count": null,
   "metadata": {},
   "outputs": [],
   "source": [
    "# Si cridem la funció amb 1 únic paràmetre es genera un error\n",
    "# ja que hi ha dos paràmetres obligatoris\n",
    "try:\n",
    "    print(\"(1): {}\".format(sum_two_or_three_values(1)))\n",
    "except TypeError as e:\n",
    "    print(\"TypeError:\", e)"
   ]
  },
  {
   "cell_type": "markdown",
   "metadata": {},
   "source": [
    "Les crides anteriors especifiquen els paràmetres per **posició**. En aquest cas, direm que fem servir arguments posicionals. També podem fer crides a les funcions especificant els arguments pel seu **nom** (en anglès, en direm *keyword arguments*), independentment de si aquests són obligatoris o opcionals:"
   ]
  },
  {
   "cell_type": "code",
   "execution_count": null,
   "metadata": {},
   "outputs": [],
   "source": [
    "# Especifiquem tots els paràmetres per nom\n",
    "print(\"(x=1, y=3, z=4): {}\".format(\n",
    "    sum_two_or_three_values(x=1, y=3, z=4)))\n",
    "\n",
    "# Especifiquem dos paràmetres per posició i un per nom\n",
    "print(\"(1, 3, z=4): {}\".format(\n",
    "    sum_two_or_three_values(1, 3, z=4)))\n",
    "\n",
    "# Especifiquem tots els paràmetres per nom, canviant l'ordre\n",
    "# dels paràmetres\n",
    "print(\"(y=3, z=4, x=1): {}\".format(\n",
    "    sum_two_or_three_values(y=3, z=4, x=1)))"
   ]
  },
  {
   "cell_type": "markdown",
   "metadata": {},
   "source": [
    "Noteu com, quan especifiquem els paràmetres pel seu nom, podem incloure'ls en l'ordre què vulguem. En canvi, si especifiquem els paràmetres per posició, la posició del paràmetre en determinarà la seva assignació."
   ]
  },
  {
   "cell_type": "markdown",
   "metadata": {},
   "source": [
    "### 1.3.3.- Número indeterminat d'arguments\n",
    "\n",
    "\n",
    "Python també permet definir funcions que acceptin un número arbitrari (indefinit en el moment de la definició de la funció) d'arguments. En aquest cas, es defineix un paràmetre especial anteposant `*` o bé `**` al nom del paràmetre, i aquest paràmetre rebrà tots els arguments que no coincideixin amb cap dels paràmetres definits explícitament de la funció:\n",
    "\n",
    "* Si s'anteposa `*` al nom del paràmetre, aquest serà una tupla amb tots els valors dels arguments no definits explícitament.\n",
    "* Si s'anteposa `**` al nom del paràmetre, aquest rebrà un diccionari amb els parells de nom i valor dels arguments no definits explícitament (que s'hauran d'especificar per nom en el moment de fer la crida a la funció).\n"
   ]
  },
  {
   "cell_type": "code",
   "execution_count": null,
   "metadata": {},
   "outputs": [],
   "source": [
    "\n",
    "\n",
    "# Definim una funció amb dos paràmetres obligatoris i\n",
    "# un número indeterminat de paràmetres posicionals\n",
    "def sum_two_or_three_values_p(x, y, *extra_arguments):\n",
    "    print(\"Compulsory arguments are: x={}, y={}\".format(x, y))\n",
    "    print(\"Additional arguments are: {}\".format(extra_arguments))\n",
    "    print(\"extra_arguments type is: {}\".format(type(extra_arguments)))\n",
    "    return x + y + sum(extra_arguments)"
   ]
  },
  {
   "cell_type": "code",
   "execution_count": null,
   "metadata": {},
   "outputs": [],
   "source": [
    "# Cridem la funció només amb els arguments obligatoris\n",
    "sum_two_or_three_values_p(1, 2)"
   ]
  },
  {
   "cell_type": "code",
   "execution_count": null,
   "metadata": {},
   "outputs": [],
   "source": [
    "# Cridem la funció amb 5 arguments posicionals\n",
    "sum_two_or_three_values_p(1, 2, 3, 4, 5)"
   ]
  },
  {
   "cell_type": "code",
   "execution_count": null,
   "metadata": {},
   "outputs": [],
   "source": [
    "\n",
    "\n",
    "# Definim una funció amb dos paràmetres obligatoris i\n",
    "# un número indeterminat de paràmetres amb nom\n",
    "def sum_two_or_three_values_n(x, y, **extra_arguments):\n",
    "    print(\"Compulsory arguments are: x={}, y={}\".format(x, y))\n",
    "    print(\"Additional arguments are: \")\n",
    "    for k in extra_arguments:\n",
    "        print(\"\\t{}={}\".format(k, extra_arguments[k]))\n",
    "    print(\"extra_arguments type is: {}\".format(type(extra_arguments)))\n",
    "    return x + y + sum(extra_arguments.values())"
   ]
  },
  {
   "cell_type": "code",
   "execution_count": null,
   "metadata": {},
   "outputs": [],
   "source": [
    "# Cridem la funció només amb els arguments obligatoris\n",
    "sum_two_or_three_values_n(1, 2)"
   ]
  },
  {
   "cell_type": "code",
   "execution_count": null,
   "metadata": {},
   "outputs": [],
   "source": [
    "# Cridem la funció amb els arguments obligatoris i un argument opcional\n",
    "sum_two_or_three_values_n(1, 2, z=3)"
   ]
  },
  {
   "cell_type": "code",
   "execution_count": null,
   "metadata": {},
   "outputs": [],
   "source": [
    "# Cridem la funció amb els arguments obligatoris i tres arguments opcionals\n",
    "sum_two_or_three_values_n(1, 2, z=3, a=10, b=12)"
   ]
  },
  {
   "cell_type": "markdown",
   "metadata": {},
   "source": [
    "És interessant notar que si hem especificat que els arguments opcionals seran posicionals (fent servir `*`), aleshores no podem cridar la funció assignant noms als arguments. De manera anàloga, si hem especificat arguments opcionals amb nom (fent servir `**`), no podrem cridar la funció amb arguments opcionals posicionals:"
   ]
  },
  {
   "cell_type": "code",
   "execution_count": null,
   "metadata": {},
   "outputs": [],
   "source": [
    "try:\n",
    "    # Especifiquem un argument opcional per nom en una funció\n",
    "    # definida amb *\n",
    "    sum_two_or_three_values_p(1, 2, z=3)\n",
    "except TypeError as e:\n",
    "    print(\"TypeError:\", e)"
   ]
  },
  {
   "cell_type": "code",
   "execution_count": null,
   "metadata": {},
   "outputs": [],
   "source": [
    "try:\n",
    "    # Especifiquem un argument opcional per posició en una funció\n",
    "    # definida amb **\n",
    "    sum_two_or_three_values_n(1, 2, 3)\n",
    "except TypeError as e:\n",
    "    print(\"TypeError:\", e)"
   ]
  },
  {
   "cell_type": "markdown",
   "metadata": {},
   "source": [
    "### 1.3.4.- Funcions com a paràmetres\n",
    "\n",
    "De la mateixa manera que una funció pot rebre com a paràmetres, per exemple, un enter o una cadena de caràcters, una funció pot rebre com a paràmetre una altra funció. Això ens serà útil en certes construccions que veurem en aquest mòdul.\n",
    "\n",
    "Per exemple, la funció `eval_and_print`, definida a la propera cel·la, rep com a paràmetres una funció i una llista, i el que fa és avaluar la funció sobre la llista, mostrar el resultat per pantalla, i retornar-lo:"
   ]
  },
  {
   "cell_type": "code",
   "execution_count": null,
   "metadata": {},
   "outputs": [],
   "source": [
    "\n",
    "\n",
    "# La funció eval_and_print rep una altra funció com a paràmetre (la funció f)\n",
    "def eval_and_print(f, x):\n",
    "    # Mostrem f i el tipus de f\n",
    "    print(\"f is {} and its type is {}\".format(f, type(f)))\n",
    "    # Apliquem la funció f sobre el valor x\n",
    "    f_x = f(x)\n",
    "    # Mostrem el valor per pantalla i el retornem\n",
    "    print(\"The result of f(x) is: {}\".format(f_x))\n",
    "    return f_x\n",
    "\n",
    "\n",
    "# Cridem a eval_and_print amb funcions diferents\n",
    "r1 = eval_and_print(max, [81, 75, 5, 10])\n",
    "r2 = eval_and_print(min, [81, 75, 5, 10])\n",
    "r3 = eval_and_print(sum, [81, 75, 5, 10])"
   ]
  },
  {
   "cell_type": "markdown",
   "metadata": {},
   "source": [
    "## 1.4.- Introducció a la programació funcional\n",
    "\n",
    "La programació funcional és un paradigma de programació basat en l'avaluació de funcions matemàtiques, en el qual la sortida d'una funció depèn únicament de la seva entrada, i no de l'estat del programa. \n",
    "\n",
    "En aquesta secció, presentarem tres funcions de Python que són útils a l'hora de programar amb el paradigma de programació funcional: [`map`](https://docs.python.org/3/library/functions.html#map), [`filter`](https://docs.python.org/3/library/functions.html#filter) i [`reduce`](https://docs.python.org/3/library/functools.html#functools.reduce).\n",
    "\n",
    "### 1.4.1.- Map\n",
    "\n",
    "La funció [`map`](https://docs.python.org/3/library/functions.html#map) rep com a paràmetres una funció i un iterable, i retorna un iterador que aplica la funció proporcionada a cadascun dels elements de l'iterable."
   ]
  },
  {
   "cell_type": "code",
   "execution_count": null,
   "metadata": {},
   "outputs": [],
   "source": [
    "def sum_2(x):\n",
    "    \"\"\"Add 2 to the value received by parameter.\"\"\"\n",
    "    return x + 2\n",
    "\n",
    "\n",
    "# Apliquem la funció sum_2 a cadascun dels elements de la llista a_list\n",
    "a_list = [1, 2, 3, 4]\n",
    "r = map(sum_2, a_list)\n",
    "print(list(r))"
   ]
  },
  {
   "cell_type": "markdown",
   "metadata": {},
   "source": [
    "El resultat d'aplicar el [`map`](https://docs.python.org/3/library/functions.html#map) sobre la llista és un iterable que conté el resultat de cridar la funció `sum_2` sobre cadascun dels elements de la llista original, `a_list`. Això seria equivalent a executar la *list comprehension* següent: "
   ]
  },
  {
   "cell_type": "code",
   "execution_count": null,
   "metadata": {},
   "outputs": [],
   "source": [
    "[sum_2(x) for x in a_list]"
   ]
  },
  {
   "cell_type": "code",
   "execution_count": null,
   "metadata": {},
   "outputs": [],
   "source": [
    "\n",
    "\n",
    "# Definim una funció que converteix cadenes de caràcters que expressen\n",
    "# valors numèrics (possiblement decimals) en enters\n",
    "def convert_to_int(x):\n",
    "    \"\"\"Convert strings to int.\"\"\"\n",
    "    return int(float(x))\n",
    "\n",
    "\n",
    "# Apliquem la funció convert_to_int a cadascun dels elements de la\n",
    "# llista a_list\n",
    "a_list = [\"42.45\", \"13.4\", \"12000\"]\n",
    "list(map(convert_to_int, a_list))"
   ]
  },
  {
   "cell_type": "markdown",
   "metadata": {},
   "source": [
    "Als exemples anteriors, la funció que es passa com a argument a [`map`](https://docs.python.org/3/library/functions.html#map) (`sum_2` i `convert_to_int`) té un únic paràmetre, de manera que [`map`](https://docs.python.org/3/library/functions.html#map) la pot aplicar directament sobre cadascun dels elements de la llista (llista que rep com a segon argument). Ara bé, la funció que es passa com a paràmetre a [`map`](https://docs.python.org/3/library/functions.html#map) pot tenir més d'un paràmetre. En aquest cas, la funció [`map`](https://docs.python.org/3/library/functions.html#map) rebrà tantes llistes com paràmetres necessiti la funció que rep. \n",
    "\n",
    "En l'exemple següent, definim una funció que calcula el preu d'un pis a partir dels metres quadrats que té (`sqm`), l'estat de conservació (`status`) i el veïnat en què es troba (`neigh`):"
   ]
  },
  {
   "cell_type": "code",
   "execution_count": null,
   "metadata": {},
   "outputs": [],
   "source": [
    "def compute_price(sqm, status, neigh):\n",
    "    \"\"\"Compute the price of a flat.\"\"\"\n",
    "\n",
    "    price_per_sqm = 1000\n",
    "    nice_neigh = [\"A\", \"B\"]\n",
    "    nice_neigh_factor = 1.25\n",
    "    new_factor = 2\n",
    "\n",
    "    # Preu base és metres quadrats per preu per metre quadrat\n",
    "    price = sqm * price_per_sqm\n",
    "\n",
    "    # Si el pis es troba en un barri considerat bo, s'aplica un factor\n",
    "    # multiplicatiu al preu del pis\n",
    "    if neigh in nice_neigh:\n",
    "        price *= nice_neigh_factor\n",
    "\n",
    "    # Si el pis és nou, s'aplica un factor multiplicatiu al\n",
    "    # preu del pis\n",
    "    if status == \"New\":\n",
    "        price *= new_factor\n",
    "\n",
    "    return price"
   ]
  },
  {
   "cell_type": "code",
   "execution_count": null,
   "metadata": {},
   "outputs": [],
   "source": [
    "# Calculem el preu d'un pis nou de 100m^2 que es troba en un barri\n",
    "# catalogat com a \"A\"\n",
    "compute_price(100, \"New\", \"A\")"
   ]
  },
  {
   "cell_type": "markdown",
   "metadata": {},
   "source": [
    "Una immobiliària té 5 pisos a la seva disposició, i vol fer servir la funció `compute_price` per calcular el preu que hauria de tenir cadascun dels pisos. Podem fer servir la funció [`map`](https://docs.python.org/3/library/functions.html#map) per calcular-ho, partint de tres llistes que indiquin els metres quadrats, els estats i els barris dels pisos: "
   ]
  },
  {
   "cell_type": "code",
   "execution_count": null,
   "metadata": {},
   "outputs": [],
   "source": [
    "# Definim tres llistes amb les dades dels pisos\n",
    "sqms = [100, 120, 125, 190, 200]\n",
    "statuses = [\"New\", \"New\", \"Used\", \"Unknown\", \"Used\"]\n",
    "neigs = [\"A\", \"B\", \"B\", \"D\", \"A\"]\n",
    "\n",
    "# Apliquem la funció compute_price sobre cadascun dels pisos\n",
    "list(map(compute_price, sqms, statuses, neigs))"
   ]
  },
  {
   "cell_type": "markdown",
   "metadata": {},
   "source": [
    "### 1.4.2.- Filter\n",
    "\n",
    "La funció [`filter`](https://docs.python.org/3/library/functions.html#filter) rep també com a paràmetres una funció i un iterable, i retorna un iterador que recorre els elements de l'iterable tals que l'avaluació de la funció és True."
   ]
  },
  {
   "cell_type": "code",
   "execution_count": null,
   "metadata": {},
   "outputs": [],
   "source": [
    "\n",
    "\n",
    "# Definim la funció is numeric, que retorna True si rep un enter o un float\n",
    "# com a argument, i False en cas contrari\n",
    "def is_numeric(x):\n",
    "    if type(x) == float or type(x) == int:\n",
    "        return True\n",
    "    return False"
   ]
  },
  {
   "cell_type": "code",
   "execution_count": null,
   "metadata": {},
   "outputs": [],
   "source": [
    "# Definim una llista que conté enters, reals, cadenes, llistes i un valor None\n",
    "a_list_with_str_and_nums = [1, 2, \"three\", \"four\", 5, 5.5, 6, [0, 0, 1], None]\n",
    "\n",
    "# Apliquem filter sobre la llista amb la funció is_numeric\n",
    "r = list(filter(is_numeric, a_list_with_str_and_nums))\n",
    "print(\"The filtered list is {}\".format(r))"
   ]
  },
  {
   "cell_type": "markdown",
   "metadata": {},
   "source": [
    "### 1.4.3.- Reduce\n",
    "\n",
    "La funció [`reduce`](https://docs.python.org/3/library/functools.html#functools.reduce) rep, de nou, una funció i un iterable. La funció aplica, de manera acumulativa, la funció que rep com a argument als elements de l'iterable. La funció que rep com a argument ha de ser una funció que rebi dos paràmetres i retorni un únic valor. Aleshores, [`reduce`](https://docs.python.org/3/library/functools.html#functools.reduce) aplica la funció als dos primers valors de l'iterable, després al tercer valor i al resultat de l'operació anterior, etc. Per exemple, sigui 'f' la funció a aplicar i [1, 2, 3, 4] l'iterable, [`reduce`](https://docs.python.org/3/library/functools.html#functools.reduce) calcularia:\n",
    "\n",
    "```\n",
    "f(f(f(1, 2), 3), 4)\n",
    "```\n",
    "\n",
    "Veiem alguns exemples:"
   ]
  },
  {
   "cell_type": "code",
   "execution_count": null,
   "metadata": {},
   "outputs": [],
   "source": [
    "# Importem reduce del mòdul functools\n",
    "from functools import reduce\n",
    "\n",
    "# Calculem la suma dels valors d'una llista\n",
    "a_list = [1, 2, 3, 4]\n",
    "reduce(sum_two_values, a_list)"
   ]
  },
  {
   "cell_type": "markdown",
   "metadata": {},
   "source": [
    "Recordeu que la funció `sum_two_values` rebia dos paràmetres i retornava un sol valor, corresponents a la suma dels paràmetres. Així, a l'aplicar-la amb [`reduce`](https://docs.python.org/3/library/functools.html#functools.reduce) sobre una llista, el que obtenim és la suma dels valors de la llista: s'aplica la funció `sum_two_values` als dos primers valors, 1 i 2, el que dóna com a resultat 3; es torna a aplicar la funció amb 3 i 3 com a arguments (el resultat de la primera crida a `sum_two_values` i el tercer valor de la llista), resultant amb 6; i finalment es crida la funció amb 6 i 4 (el resultat de l'última crida a la funció i el valor de l'últim element de la llista); el resultat final és doncs 10.\n",
    "\n",
    "```\n",
    "sum_two_values(sum_two_values(sum_two_values(1, 2), 3), 4) =\n",
    "    = sum_two_values(sum_two_values(3, 3), 4)\n",
    "    = sum_two_values(6, 4)\n",
    "    = 10\n",
    "```\n"
   ]
  },
  {
   "cell_type": "markdown",
   "metadata": {},
   "source": [
    "De manera anàloga, podem fer servir [`reduce`](https://docs.python.org/3/library/functools.html#functools.reduce) per calcular el valor màxim d'una llista, definint primer una funció que retorni el màxim de dos valors, i aplicant-la sobre una llista amb [`reduce`](https://docs.python.org/3/library/functools.html#functools.reduce)."
   ]
  },
  {
   "cell_type": "code",
   "execution_count": null,
   "metadata": {},
   "outputs": [],
   "source": [
    "def max_two(x, y):\n",
    "    \"\"\"Return the max of two values, max(x, y).\"\"\"\n",
    "    if x > y:\n",
    "        return x\n",
    "    else:\n",
    "        return y\n",
    "\n",
    "\n",
    "# Apliquem reduce amb max_two sobre una llista per calcular-ne el màxim\n",
    "a_list = [10, 1, 15, 19, 30]\n",
    "reduce(max_two, a_list)"
   ]
  },
  {
   "cell_type": "markdown",
   "metadata": {},
   "source": [
    "En aquest cas, l'execució del [`reduce`](https://docs.python.org/3/library/functools.html#functools.reduce) seria la següent:\n",
    "\n",
    "```\n",
    "max_two(max_two(max_two(max_two(10, 1), 15), 19), 30) =\n",
    "    = max_two(max_two(max_two(10, 15), 19), 30) =\n",
    "    = max_two(max_two(15, 19), 30) =\n",
    "    = max_two(19, 30) =\n",
    "    = 30\n",
    "```\n",
    "\n",
    "Veiem un tercer exemple d'ús de [`reduce`](https://docs.python.org/3/library/functools.html#functools.reduce) que ens permet 'aplanar' llistes, és a dir, donada una llista de llistes, obtenir una llista que contingui els elements de les llistes interiors:"
   ]
  },
  {
   "cell_type": "code",
   "execution_count": null,
   "metadata": {},
   "outputs": [],
   "source": [
    "def join_lists(x, y):\n",
    "    \"\"\"Concatenate two lists.\"\"\"\n",
    "    return x + y\n",
    "\n",
    "\n",
    "# Cridem join_lists amb dues llistes, per veure'n el seu efecte\n",
    "join_lists([1, 2], [3, 4])"
   ]
  },
  {
   "cell_type": "code",
   "execution_count": null,
   "metadata": {},
   "outputs": [],
   "source": [
    "# Fem servir join_lists amb reduce per aplanar una llista\n",
    "list_to_flatten = [[0], [1, 2, 3], [5]]\n",
    "reduce(join_lists, list_to_flatten)"
   ]
  },
  {
   "cell_type": "markdown",
   "metadata": {},
   "source": [
    "Opcionalment, la funció [`reduce`](https://docs.python.org/3/library/functools.html#functools.reduce) també pot rebre un tercer paràmetre, que correspon al valor inicial. Si hi és, aleshores la primera crida a la funció es fa amb el valor inicial i el primer valor de l'iterable, en comptes de fer servir els dos primers valors de l'iterable."
   ]
  },
  {
   "cell_type": "code",
   "execution_count": null,
   "metadata": {},
   "outputs": [],
   "source": [
    "# Fem servir reduce amb sum_two_values per sumar una llista,\n",
    "# indicant 0 com a valor inicial per assegurar la correctesa del resultat\n",
    "a_list = [1, 2, 3, 4]\n",
    "reduce(sum_two_values, a_list, 0)"
   ]
  },
  {
   "cell_type": "code",
   "execution_count": null,
   "metadata": {},
   "outputs": [],
   "source": [
    "# Fem servir el valor inicial de reduce per afegir 15 al sumatori d'una llista\n",
    "reduce(sum_two_values, a_list, 15)"
   ]
  },
  {
   "cell_type": "code",
   "execution_count": null,
   "metadata": {},
   "outputs": [],
   "source": [
    "# Fem servir reduce amb max_two per calcular el màxim d'una llista\n",
    "# indicant 0 com a valor inicial, de manera que obtindrem el màxim de la\n",
    "# llista si hi ha algun valor positiu o bé 0 si tots els números de\n",
    "# la llista són negatius\n",
    "print(reduce(max_two, [10, 1, 15, 19, 30], 0))\n",
    "print(reduce(max_two, [-5, -3, -2], 0))"
   ]
  },
  {
   "cell_type": "markdown",
   "metadata": {},
   "source": [
    "Per acabar aquesta secció, veurem un exemple que combina les tres funcions que acabem de presentar ([`reduce`](https://docs.python.org/3/library/functools.html#functools.reduce), [`map`](https://docs.python.org/3/library/functions.html#map), i [`filter`](https://docs.python.org/3/library/functions.html#filter)). Suposem que volem definir una funció que rebi una llista i retorni el producte dels quadrats de tots els elements senars de la llista. Combinant les tres funcions que hem vist, podem fer aquest càlcul en una sola línia:"
   ]
  },
  {
   "cell_type": "code",
   "execution_count": null,
   "metadata": {},
   "outputs": [],
   "source": [
    "\n",
    "\n",
    "# Definim una funció que retorna el producte de dos valors\n",
    "def prod_two_values(x, y):\n",
    "    return x*y\n",
    "\n",
    "\n",
    "# Definim una funció que retorna el quadrat d'un valor\n",
    "def sq(x):\n",
    "    return x**2\n",
    "\n",
    "\n",
    "# Definim una funció que retorna True si un valor és senar\n",
    "# i False en cas contrari\n",
    "def is_odd(x):\n",
    "    return x % 2\n",
    "\n",
    "\n",
    "# Definim la funció que retorna el producte dels quadrats dels senars\n",
    "# d'una llista\n",
    "def prod_sq_if_odd(l):\n",
    "    return reduce(prod_two_values, map(sq, filter(is_odd, l)))"
   ]
  },
  {
   "cell_type": "code",
   "execution_count": null,
   "metadata": {},
   "outputs": [],
   "source": [
    "# Executem la funció prod_sq_if_odd per a una llista i comprovem\n",
    "# el resultat 'manualment'\n",
    "a_list = [5, 9, 2, 12, 15]\n",
    "print(prod_sq_if_odd(a_list))\n",
    "print(5**2 * 9**2 * 15**2)"
   ]
  },
  {
   "cell_type": "markdown",
   "metadata": {},
   "source": [
    "## 1.5.- Funcions anònimes\n",
    "\n",
    "Les funcions anònimes són un tipus especial de funcions que no tenen nom i que es troben limitades a una sola expressió. Aquest tipus de funcions són útils quan necessitem una funció normalment simple que no voldrem reutilitzar (o bé la reutilitzarem molt poc) en el nostre codi, i es fan servir sovint en combinació amb les funcions de programació funcional que hem vist a la secció anterior.\n",
    "\n",
    "Les funcions anònimes només poden tenir una única expressió. Aquesta expressió és avaluada amb els arguments quan es crida la funció, i el resultat d'aquesta avaluació és el valor que retorna la funció. \n",
    "\n",
    "Per definir una funció anònima en Python es fa servir la paraula clau [`lambda`](https://docs.python.org/3/tutorial/controlflow.html#lambda-expressions), seguida dels paràmetres de la funció, uns dos punts, i l'expressió de retorn de la funció. Per aquest motiu, també fem servir l'expressió funció lambda per anomenar les funcions anònimes.\n",
    "\n",
    "La següent cel·la mostra una funció anònima que suma dos valors:"
   ]
  },
  {
   "cell_type": "code",
   "execution_count": null,
   "metadata": {},
   "outputs": [],
   "source": [
    "# Definim una funció lambda que suma dos valors\n",
    "lambda x, y: x+y"
   ]
  },
  {
   "cell_type": "markdown",
   "metadata": {},
   "source": [
    "Podem cridar una funció lambda tant directament (envoltant-la de parèntesis i passant-li els arguments), o bé assignant-li un nom:"
   ]
  },
  {
   "cell_type": "code",
   "execution_count": null,
   "metadata": {},
   "outputs": [],
   "source": [
    "# Definim una funció lambda que suma dos valors i la cridem\n",
    "# amb els valors 15 i 19\n",
    "(lambda x, y: x+y)(15, 19)"
   ]
  },
  {
   "cell_type": "code",
   "execution_count": null,
   "metadata": {},
   "outputs": [],
   "source": [
    "# Definim una funció lambda i li assignem el nom suma,\n",
    "# per poder-la cridar posteriorment\n",
    "suma = lambda x, y: x+y\n",
    "suma(15, 19)"
   ]
  },
  {
   "cell_type": "markdown",
   "metadata": {},
   "source": [
    "Normalment, però, trobarem les funcions lambda dins d'altres expressions. De fet, l'exemple anterior es considera mala praxi, i s'inclou únicament per ajudar a la comprensió d'aquest tipus de funcions.\n",
    "\n",
    "Un exemple d'una situació en la qual faríem servir funcions anònimes és l'últim exemple de la secció anterior, on hem hagut de definir tres funcions molt simples, que segurament no tornarem a fer servir en cap altra part del codi, per tal de poder fer el càlcul de `prod_sq_if_odd`. Fent servir funcions anònimes, podríem reduir la definició de la funció `prod_sq_if_odd` a una sola expressió, sense necessitat de definir amb anterioritat les tres funcions auxiliars com hem fet abans:"
   ]
  },
  {
   "cell_type": "code",
   "execution_count": null,
   "metadata": {},
   "outputs": [],
   "source": [
    "def prod_sq_if_odd_with_lamb(l):\n",
    "    return reduce(lambda x, y: x*y,\n",
    "                  map(lambda x: x**2,\n",
    "                      filter(lambda x: x % 2, l)))"
   ]
  },
  {
   "cell_type": "markdown",
   "metadata": {},
   "source": [
    "En aquest cas, en comptes de definir les funcions `prod_two_values`, `sq` i `is_odd`, hem fet servir funcions anònimes equivalents, de manera que la definició de la funció `prod_sq_if_odd_with_lamb` és molt més compacta.\n",
    "\n",
    "A continuació, veurem com reescriure alguns dels altres exemples de programació funcional que hem vist en aquest notebook fent servir funcions anònimes:"
   ]
  },
  {
   "cell_type": "code",
   "execution_count": null,
   "metadata": {},
   "outputs": [],
   "source": [
    "# Sumem 2 a cadascun dels elements de la llista a_list\n",
    "# fent servir una funció anònima\n",
    "a_list = [1, 2, 3, 4]\n",
    "r = map(lambda x: x + 2, a_list)\n",
    "print(list(r))"
   ]
  },
  {
   "cell_type": "code",
   "execution_count": null,
   "metadata": {},
   "outputs": [],
   "source": [
    "# Convertim les cadenes de caràcters que expressen valors numèrics\n",
    "# (possiblement decimals) d'una llista en enters fent servir\n",
    "# una funció anònima\n",
    "a_list = [\"42.45\", \"13.4\", \"12000\"]\n",
    "list(map(lambda x: int(float(x)), a_list))"
   ]
  },
  {
   "cell_type": "code",
   "execution_count": null,
   "metadata": {},
   "outputs": [],
   "source": [
    "# Filtrem d'una llista els valors numèrics\n",
    "a_list_with_str_and_nums = [1, 2, \"three\", \"four\", 5, 5.5, 6, [0, 0, 1], None]\n",
    "r = list(filter(\n",
    "    lambda x: True if type(x) == float or type(x) == int else False,\n",
    "    a_list_with_str_and_nums))\n",
    "print(\"The filtered list is {}\".format(r))"
   ]
  },
  {
   "cell_type": "code",
   "execution_count": null,
   "metadata": {},
   "outputs": [],
   "source": [
    "# Calculem el màxim d'una llista amb reduce i una funció anònima\n",
    "# que retorna el màxim de dos valors\n",
    "a_list = [10, 1, 15, 19, 30]\n",
    "reduce(lambda x, y: x if x > y else y, a_list)"
   ]
  },
  {
   "cell_type": "markdown",
   "metadata": {},
   "source": [
    "## 1.6.- Docstring\n",
    "\n",
    "Els *docstrings* són cadenes de text que contenen la documentació de les funcions, entre d'altres objectes, en Python. Ja hem anat fent servir *docstring* per documentar algunes de les funcions d'aquest notebook. A continuació en repassarem alguns detalls sobre el seu funcionament i sobre les convencions que es fan servir a l'hora d'escriure'ls.\n",
    "\n",
    "Podem accedir al *docstring* a través de la funció `help` o, directament, a través de l'atribut `doc`. "
   ]
  },
  {
   "cell_type": "code",
   "execution_count": null,
   "metadata": {},
   "outputs": [],
   "source": [
    "# Accedim al docstring de la funció built-in max amb help\n",
    "help(max)"
   ]
  },
  {
   "cell_type": "code",
   "execution_count": null,
   "metadata": {},
   "outputs": [],
   "source": [
    "# Accedim al docstring de la funció built-in max a través de l'atribut doc\n",
    "max.__doc__"
   ]
  },
  {
   "cell_type": "markdown",
   "metadata": {},
   "source": [
    "Les convencions sobre l'ús de *docstring* en Python es troben descrites al [PEP-257](https://www.python.org/dev/peps/pep-0257/). Els *docstrings* es defineixen com a primera sentència dins de la definició de la funció i distingim entre *docstrings* d'una única línia i *docstrings* multilínia. \n",
    "\n",
    "La convenció en la definició de *docstrings* d'una sola línia és de fer servir triples cometes dobles per indicar el comentari (encara que no sigui necessari ja que el comentari ocupi únicament una línia), escriure les cometes d'inici i tancament a la mateixa línia del text, començar la frase del comentari en majúscules i acabar en un punt, i no incloure salt de línia ni abans ni després del comentari. \n",
    "\n",
    "Així, per exemple, aquest seria un *docstring* d'una sola línia que segueix les convencions:"
   ]
  },
  {
   "cell_type": "code",
   "execution_count": null,
   "metadata": {},
   "outputs": [],
   "source": [
    "def sum_two_values(x, y):\n",
    "    \"\"\"Return the value of the sum of the parameters.\"\"\"\n",
    "    return x + y"
   ]
  },
  {
   "cell_type": "code",
   "execution_count": null,
   "metadata": {},
   "outputs": [],
   "source": [
    "help(sum_two_values)"
   ]
  },
  {
   "cell_type": "markdown",
   "metadata": {},
   "source": [
    "De manera similar, els *docstrings* multilínia es delimiten també amb triples cometes dobles. En aquest cas, consisteixen d'una línia de resum, una línia en blanc, i després una descripció més completa, que es pot estendre diverses línies. \n",
    "\n",
    "El ***docstring* d'una funció hauria de resumir el seu comportament**, i llistar els seus arguments, valor de retorn, les excepcions que pot llançar, els efectes col·laterals que pot tenir la seva crida, i les restriccions a tenir en compte quan la cridem."
   ]
  },
  {
   "cell_type": "code",
   "execution_count": null,
   "metadata": {},
   "outputs": [],
   "source": [
    "def sum_two_values(x, y=0):\n",
    "    \"\"\"Return the value of the sum of the parameters.\n",
    "\n",
    "    This function accepts up to two numbers, and returns\n",
    "    the sum of them.\n",
    "\n",
    "    Positional arguments:\n",
    "    x -- the first number\n",
    "    y -- the second number (optional, default 0)\n",
    "\n",
    "    Returns:\n",
    "    number: Sum of the values\n",
    "    \"\"\"\n",
    "    return x + y"
   ]
  },
  {
   "cell_type": "code",
   "execution_count": null,
   "metadata": {},
   "outputs": [],
   "source": [
    "help(sum_two_values)"
   ]
  },
  {
   "cell_type": "markdown",
   "metadata": {},
   "source": [
    "Hi ha diferents formats per escriure el *docstring*, que detallen com s'han d'especificar els arguments, els valors de retorn, les excepcions, etc. Us recomanem llegir el [post d'stackoverflow sobre els formats de dosctring the Python](https://stackoverflow.com/questions/3898572/what-is-the-standard-python-docstring-format) per veure'n alguns exemples (lectura opcional, per a ampliar coneixements).\n",
    "\n",
    "Per acabar, és important notar que no només les funcions fan ús de *docstrings* per documentar-ne el seu comportament. Els mòduls, les classes, i els mètodes també es documenten amb *docstring*."
   ]
  },
  {
   "cell_type": "code",
   "execution_count": null,
   "metadata": {},
   "outputs": [],
   "source": [
    "# Accedim al docstring de la classe int\n",
    "help(int)"
   ]
  },
  {
   "cell_type": "markdown",
   "metadata": {},
   "source": [
    "# 2.- Exercicis per practicar\n",
    "\n",
    "A continuació hi trobareu un conjunt de problemes que us poden servir per a practicar els conceptes explicats en aquesta unitat. Us recomanem que intenteu fer aquests problemes vosaltres mateixos i que, una vegada realitzats, compareu la solució que us proposem amb la vostra solució. No dubteu en adreçar tots els dubtes que sorgeixin de la resolució d'aquests exercicis o bé de les solucions proposades al fòrum de l'aula.\n",
    "\n",
    "1. Definiu una funció que rebi com a paràmetres dos valors (`x` i `y`) que seran dos vectors d'enters, i retorni la distància euclidiana entre els punts representats per els vectors. Cal que el cos de la funció contingui una única expressió, que calculi i retorni el resultat. Els vectors poden tenir una mida arbitrària, però tots dos vectors tindran el mateix número d'elements. Només es poden fer servir funcions de la [llibreria estàndard de Python](https://docs.python.org/3/library/).\n",
    "\n"
   ]
  },
  {
   "cell_type": "code",
   "execution_count": null,
   "metadata": {},
   "outputs": [],
   "source": [
    "# Resposta"
   ]
  },
  {
   "cell_type": "markdown",
   "metadata": {},
   "source": [
    "2. Definiu una funció que rebi com a paràmetres dos valors (`x` i `y`) que seran dos vectors d'enters, i retorni la distància de Manhattan entre els punts representats per els vectors. Cal que el cos de la funció contingui una única expressió, que calculi i retorni el resultat. Els vectors poden tenir una mida arbitrària, però tots dos vectors tindran el mateix número d'elements. Només es poden fer servir funcions de la [llibreria estàndard de Python](https://docs.python.org/3/library/)."
   ]
  },
  {
   "cell_type": "code",
   "execution_count": null,
   "metadata": {},
   "outputs": [],
   "source": [
    "# Resposta"
   ]
  },
  {
   "cell_type": "markdown",
   "metadata": {},
   "source": [
    "3. Definiu una funció `compute_all_distances` que rebi com a paràmetres dos valors (`x` i `y`) que seran dos vectors d'enters, i retorni una tupla de dos elements, amb les distàncies euclidiana i de Manhattan entre els punts representats pels vectors. \n",
    "\n",
    "Per fer-ho, encapsuleu el codi de les funcions de les activitats anteriors a dins de la funció `compute_all_distances`. "
   ]
  },
  {
   "cell_type": "code",
   "execution_count": null,
   "metadata": {},
   "outputs": [],
   "source": [
    "# Resposta"
   ]
  },
  {
   "cell_type": "markdown",
   "metadata": {},
   "source": [
    "4. A la fruiteria del barri tenen un problema que requereix la nostra ajuda. Reiteradament, se'ls trenquen les prestatgeries on hi posen les taronges, i volen evitar que això torni a passar. Han calculat que els prestatges de fusta suporten sense problemes un pes de 50 kilos, i els de plàstic 30 kilos, però sempre dubten de si poden afegir-hi algun pis de taronges més (ja que això sempre llueix més davant dels clients).\n",
    "\n",
    "Les taronges es troben apilades en una piràmide de base quadrada. Així doncs, a dalt de tot hi ha una sola taronja, al segon pis n'hi ha 4, al tercer pis n'hi ha 9, etc. Els pisos sempre estan complets.\n",
    "\n",
    "Definiu una funció que rebi com a paràmetres el número de pisos de taronges que volen fer, el pes mitjà de cada taronja, i el tipus de material del prestatge, i retorni un booleà indicant si el prestatge aguantarà el pes o no. La funció sempre rebrà el número de pisos de taronges, però els paràmetres de pes mitjà i material són opcionals, i prendran un valor per defecte de 0.2 i fusta (`\"Wood\"`), respectivament."
   ]
  },
  {
   "cell_type": "code",
   "execution_count": null,
   "metadata": {},
   "outputs": [],
   "source": [
    "# Resposta"
   ]
  },
  {
   "cell_type": "markdown",
   "metadata": {},
   "source": [
    "5. Definiu una funció que pugui rebre un número de paràmetres qualsevol, superior a 1, i que retorni el resultat de sumar el resultat d'aplicar la funció que rep com a primer paràmetre a cadascun dels altres paràmetres.\n",
    "\n",
    "Per exemple, si la funció rep com a primer argument una funció que calcula quadrats, com a segon argument un 5, i com tercer argument un 10, hauria de retornar $5^2 + 10^2 = 125$.\n",
    "\n",
    "Crideu a la funció definida amb els valors de l'exemple esmentat a l'enunciat, i comproveu que obteniu el resultat correcte. Comproveu també que la funció retorna els resultats esperats per a una crida amb 2 arguments i amb 5 arguments."
   ]
  },
  {
   "cell_type": "code",
   "execution_count": null,
   "metadata": {},
   "outputs": [],
   "source": [
    "# Resposta"
   ]
  },
  {
   "cell_type": "markdown",
   "metadata": {},
   "source": [
    "6. Definiu una funció que rebi dos paràmetres, una llista d'enters i un enter, i retorni una llista amb els mateixos elements que la llista original eliminant-ne totes les aparicions de l'enter especificat. \n",
    "\n",
    "\n",
    "6.1. Implementeu una funció que modifiqui la llista original. Feu una crida a la funció definida i mostreu que, efectivament, la llista original es modifica."
   ]
  },
  {
   "cell_type": "code",
   "execution_count": null,
   "metadata": {},
   "outputs": [],
   "source": [
    "# Resposta"
   ]
  },
  {
   "cell_type": "markdown",
   "metadata": {},
   "source": [
    "6.2. Implementeu una funció que **no** modifiqui la llista original. Feu una crida a la funció definida i mostreu que, efectivament, no es modifiqui la llista original."
   ]
  },
  {
   "cell_type": "code",
   "execution_count": null,
   "metadata": {},
   "outputs": [],
   "source": [
    "# Resposta"
   ]
  },
  {
   "cell_type": "markdown",
   "metadata": {},
   "source": [
    "## 2.1.- Solucions als exercicis per practicar\n",
    "\n",
    "1. Definiu una funció que rebi com a paràmetres dos valors (`x` i `y`) que seran dos vectors d'enters, i retorni la distància euclidiana entre els punts representats per els vectors. Cal que el cos de la funció contingui una única expressió, que calculi i retorni el resultat. Els vectors poden tenir una mida arbitrària, però tots dos vectors tindran el mateix número d'elements. Només es poden fer servir funcions de la [llibreria estàndard de Python](https://docs.python.org/3/library/)."
   ]
  },
  {
   "cell_type": "code",
   "execution_count": null,
   "metadata": {},
   "outputs": [],
   "source": [
    "# Resposta\n",
    "\n",
    "# Importem math, que està a la llibreria estàndard i permet\n",
    "# calcular arrels quadrades\n",
    "import math\n",
    "\n",
    "\n",
    "def eucl_dist(x, y):\n",
    "    # Definim la funció, que calcula la distància fent servir una list\n",
    "    # comprehension unint els valors dels vectors x i y amb zip\n",
    "    return math.sqrt(sum([(coord[0]-coord[1])**2 for coord in zip(x, y)]))"
   ]
  },
  {
   "cell_type": "markdown",
   "metadata": {},
   "source": [
    "2. Definiu una funció que rebi com a paràmetres dos valors (`x` i `y`) que seran dos vectors d'enters, i retorni la distància de Manhattan entre els punts representats per els vectors. Cal que el cos de la funció contingui una única expressió, que calculi i retorni el resultat. Els vectors poden tenir una mida arbitrària, però tots dos vectors tindran el mateix número d'elements. Només es poden fer servir funcions de la [llibreria estàndard de Python](https://docs.python.org/3/library/)."
   ]
  },
  {
   "cell_type": "code",
   "execution_count": null,
   "metadata": {},
   "outputs": [],
   "source": [
    "# Resposta\n",
    "\n",
    "\n",
    "def manh_dist(x, y):\n",
    "    return sum([abs(coord[0]-coord[1]) for coord in zip(x, y)])"
   ]
  },
  {
   "cell_type": "markdown",
   "metadata": {},
   "source": [
    "3. Definiu una funció `compute_all_distances` que rebi com a paràmetres dos valors (`x` i `y`) que seran dos vectors d'enters, i retorni una tupla de dos elements, amb les distàncies euclidiana i de Manhattan entre els punts representats pels vectors. \n",
    "\n",
    "Per fer-ho, encapsuleu el codi de les funcions de les activitats anteriors a dins de la funció `compute_all_distances`. "
   ]
  },
  {
   "cell_type": "code",
   "execution_count": null,
   "metadata": {},
   "outputs": [],
   "source": [
    "# Resposta\n",
    "\n",
    "\n",
    "def compute_all_distances(x, y):\n",
    "\n",
    "    def eucl_dist(x, y):\n",
    "        return math.sqrt(sum([(coord[0]-coord[1])**2 for coord in zip(x, y)]))\n",
    "\n",
    "    def manh_dist(x, y):\n",
    "        return sum([abs(coord[0]-coord[1]) for coord in zip(x, y)])\n",
    "\n",
    "    return (eucl_dist(x, y), manh_dist(x, y))"
   ]
  },
  {
   "cell_type": "markdown",
   "metadata": {},
   "source": [
    "4. A la fruiteria del barri tenen un problema que requereix la nostra ajuda. Reiteradament, se'ls trenquen les prestatgeries on hi posen les taronges, i volen evitar que això torni a passar. Han calculat que els prestatges de fusta suporten sense problemes un pes de 50 kilos, i els de plàstic 30 kilos, però sempre dubten de si poden afegir-hi algun pis de taronges més (ja que això sempre llueix més davant dels clients).\n",
    "\n",
    "Les taronges es troben apilades en una piràmide de base quadrada. Així doncs, a dalt de tot hi ha una sola taronja, al segon pis n'hi ha 4, al tercer pis n'hi ha 9, etc. Els pisos sempre estan complets.\n",
    "\n",
    "Definiu una funció que rebi com a paràmetres el número de pisos de taronges que volen fer, el pes mitjà de cada taronja, i el tipus de material del prestatge, i retorni un booleà indicant si el prestatge aguantarà el pes o no. La funció sempre rebrà el número de pisos de taronges, però els paràmetres de pes mitjà i material són opcionals, i prendran un valor per defecte de 0.2 i fusta (`\"Wood\"`), respectivament."
   ]
  },
  {
   "cell_type": "code",
   "execution_count": null,
   "metadata": {},
   "outputs": [],
   "source": [
    "# Resposta\n",
    "\n",
    "\n",
    "def will_it_hold(num_floors, avg_weight=0.2, mat=\"Wood\"):\n",
    "    max_weights = {\"Wood\": 50, \"Plastic\": 30}\n",
    "    num_org = sum([i**2 for i in range(1, num_floors+1)])\n",
    "    return num_org * avg_weight <= max_weights[mat]"
   ]
  },
  {
   "cell_type": "code",
   "execution_count": null,
   "metadata": {},
   "outputs": [],
   "source": [
    "will_it_hold(7, mat=\"Wood\")"
   ]
  },
  {
   "cell_type": "markdown",
   "metadata": {},
   "source": [
    "5. Definiu una funció que pugui rebre un número de paràmetres qualsevol, superior a 1, i que retorni el resultat de sumar el resultat d'aplicar la funció que rep com a primer paràmetre a cadascun dels altres paràmetres.\n",
    "\n",
    "Per exemple, si la funció rep com a primer argument una funció que calcula quadrats, com a segon argument un 5, i com tercer argument un 10, hauria de retornar $5^2 + 10^2 = 125$.\n",
    "\n",
    "Crideu a la funció definida amb els valors de l'exemple esmentat a l'enunciat, i comproveu que obteniu el resultat correcte. Comproveu també que la funció retorna els resultats esperats per a una crida amb 2 arguments i amb 5 arguments."
   ]
  },
  {
   "cell_type": "code",
   "execution_count": null,
   "metadata": {},
   "outputs": [],
   "source": [
    "# Resposta\n",
    "\n",
    "\n",
    "def apply_and_sum(f, *others):\n",
    "    return sum((map(f, others)))"
   ]
  },
  {
   "cell_type": "code",
   "execution_count": null,
   "metadata": {},
   "outputs": [],
   "source": [
    "apply_and_sum(lambda x: x ** 2, 5, 10)"
   ]
  },
  {
   "cell_type": "code",
   "execution_count": null,
   "metadata": {},
   "outputs": [],
   "source": [
    "apply_and_sum(lambda x: x ** 2, 1)"
   ]
  },
  {
   "cell_type": "code",
   "execution_count": null,
   "metadata": {},
   "outputs": [],
   "source": [
    "apply_and_sum(lambda x: x ** 2, 1, 2, 3, 4)"
   ]
  },
  {
   "cell_type": "markdown",
   "metadata": {},
   "source": [
    "6. Definiu una funció que rebi dos paràmetres, una llista d'enters i un enter, i retorni una llista amb els mateixos elements que la llista original eliminant-ne totes les aparicions de l'enter especificat. \n",
    "\n",
    "\n",
    "6.1. Implementeu una funció que modifiqui la llista original. Feu una crida a la funció definida i mostreu que, efectivament, la llista original es modifica."
   ]
  },
  {
   "cell_type": "code",
   "execution_count": null,
   "metadata": {},
   "outputs": [],
   "source": [
    "# Resposta\n",
    "\n",
    "\n",
    "def delete_ints(l, i):\n",
    "    while i in l:\n",
    "        l.remove(i)\n",
    "    return l\n",
    "\n",
    "\n",
    "original_list = [101, 1001, 10, 55, 10, 1]\n",
    "print(\"List before call: {}\".format(original_list))\n",
    "new_list = delete_ints(original_list, 10)\n",
    "print(\"List after call: {}\".format(original_list))\n",
    "print(\"Return result: {}\".format(new_list))"
   ]
  },
  {
   "cell_type": "markdown",
   "metadata": {},
   "source": [
    "6.2. Implementeu una funció que **no** modifiqui la llista original. Feu una crida a la funció definida i mostreu que, efectivament, no es modifiqui la llista original."
   ]
  },
  {
   "cell_type": "code",
   "execution_count": null,
   "metadata": {},
   "outputs": [],
   "source": [
    "# Resposta\n",
    "\n",
    "\n",
    "def delete_ints(l, i):\n",
    "    new_list = [e for e in l if e != i]\n",
    "    return new_list\n",
    "\n",
    "\n",
    "original_list = [101, 1001, 10, 55, 10, 1]\n",
    "print(\"List before call: {}\".format(original_list))\n",
    "new_list = delete_ints(original_list, 10)\n",
    "print(\"List after call: {}\".format(original_list))\n",
    "print(\"Return result: {}\".format(new_list))"
   ]
  },
  {
   "cell_type": "markdown",
   "metadata": {},
   "source": [
    "# 3.- Bibliografia\n",
    "\n",
    "## 3.1.- Bibliografia bàsica\n",
    "\n",
    "Us recomanem revisar la documentació oficial de les funcions i classes descrites en aquesta unitat, que trobareu enllaçades en cada un dels apartats que les descriuen.\n",
    "\n",
    "## 3.2.- Bibliografia addicional - Ampliació de coneixements\n",
    "\n",
    "Per aprofundir en el funcionament del pas de paràmetres en funcions en Python, us recomanem consultar [aquest post de medium](https://medium.com/@tyastropheus/tricky-python-ii-parameter-passing-for-mutable-immutable-objects-10e968cbda35)\n",
    "\n",
    "Al notebook hem vist com definir funcions dins de funcions i les conseqüències que això té sobre la visibilitat de les variables. També hem comentat una de les utilitats d'aquesta definició, que és la d'encapsular codi. Una altra de les utilitats és la definició de *closures*. Si voleu conèixer aquesta construcció, us recomanem la lectura de l'article [Python nested functions](https://stackabuse.com/python-nested-functions/).\n",
    "\n",
    "Com hem comentat, hi ha diferents formats per escriure el *docstring*. Us recomanem llegir el [post d'stackoverflow sobre els formats de dosctring the Python](https://stackoverflow.com/questions/3898572/what-is-the-standard-python-docstring-format) per veure'n alguns exemples."
   ]
  }
 ],
 "metadata": {
  "language_info": {
   "name": "python"
  }
 },
 "nbformat": 4,
 "nbformat_minor": 2
}
