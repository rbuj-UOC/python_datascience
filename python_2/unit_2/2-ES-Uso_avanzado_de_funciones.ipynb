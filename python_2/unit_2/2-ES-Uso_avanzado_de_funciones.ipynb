{
 "cells": [
  {
   "cell_type": "markdown",
   "metadata": {},
   "source": [
    "<div style=\"width: 100%; clear: both;\">\n",
    "    <div style=\"float: left; width: 50%;\">\n",
    "       <img src=\"http://www.uoc.edu/portal/_resources/common/imatges/marca_UOC/UOC_Masterbrand.jpg\", align=\"left\">\n",
    "    </div>\n",
    "</div>\n",
    "\n",
    "<div style=\"float: right; width: 50%;\">\n",
    "    <p style=\"margin: 0; padding-top: 22px; text-align:right;\">22.503 · Programación para la ciencia de datos</p>\n",
    "    <p style=\"margin: 0; text-align:right;\">Grado en Ciencia de Datos Aplicada</p>\n",
    "    <p style=\"margin: 0; text-align:right; padding-button: 100px;\">Estudios de Informática, Multimedia y Telecomunicación</p>\n",
    "</div>\n",
    "\n",
    "</div>\n",
    "<div style=\"width: 100%; clear: both;\">\n",
    "<div style=\"width:100%;\">&nbsp;</div>"
   ]
  },
  {
   "cell_type": "markdown",
   "metadata": {},
   "source": [
    "Programación para la ciencia de datos\n",
    "============================\n",
    "\n",
    "--- \n",
    "\n",
    "Unidad 2: Uso avanzado de funciones en Python\n",
    "-----------------------------------------------------\n",
    "\n",
    "---\n",
    "\n",
    "### Instrucciones de uso\n",
    "\n",
    "Este documento es un notebook interactivo que intercala explicaciones más bien teóricas de conceptos de programación con fragmentos de código ejecutables. Para aprovechar las ventajas que aporta este formato, se recomienda, en primer lugar, leer las explicaciones y el código que os proporcionamos. De esta manera tendréis un primer contacto con los conceptos que se exponen. Ahora bien, **¡la lectura es solo el principio!** Una vez que hayáis leído el contenido proporcionado, no olvidéis ejecutar el código proporcionado y modificarlo para crear variantes, que os permitan comprobar que habéis entendido su funcionalidad y explorar los detalles de la implementación. Por último, se recomienda también consultar la documentación enlazada para explorar con más profundidad las funcionalidades de los módulos presentados."
   ]
  },
  {
   "cell_type": "code",
   "execution_count": null,
   "metadata": {},
   "outputs": [],
   "source": [
    "%load_ext pycodestyle_magic"
   ]
  },
  {
   "cell_type": "code",
   "execution_count": null,
   "metadata": {},
   "outputs": [],
   "source": [
    "# Activamos las alertas de estilo\n",
    "%pycodestyle_on"
   ]
  },
  {
   "cell_type": "markdown",
   "metadata": {},
   "source": [
    "### Introducción\n",
    "\n",
    "En esta unidad se repasan muy rápidamente los conceptos básicos de funciones y se exponen algunos conceptos más avanzados sobre el uso de funciones en Python.\n",
    "\n",
    "En primer lugar, se explica qué es el ámbito (el *scope*) de una variable, un concepto que seguro conocéis de manera informal, pero que no se ha trabajado formalmente todavía.\n",
    "\n",
    "En segundo lugar, se repasa como devolver valores desde funciones, se comentan los posibles valores que puede devolver una función y se presentant algunas situaciones que pueden parecer especiales, tales como las funciones que devuelven funciones.\n",
    "\n",
    "A continuación, se expone cómo funcionan los parámetros de las funciones en Python. Se habla de cómo se pasan estos parámetros y qué pasa cuando los modificamos, de la definición de funciones con argumentos opcionales y con un número de argumentos indeterminado, y también de cómo pasar funciones como argumentos de otras funciones.\n",
    "\n",
    "Seguidamente, se hace una pequeña introducción a la programación funcional en Python, presentando las tres funciones básicas de este paradigma de programación ([`map`](https://docs.python.org/3/library/functions.html#map), [`filter`](https://docs.python.org/3/library/functions.html#filter) y [`reduce`](https://docs.python.org/3/library/functools.html#functools.reduce)).\n",
    "\n",
    "Después, se presentan las funciones anónimas, y se ponen ejemplos de uso de este tipo de funciones cuando se utiliza [`map`](https://docs.python.org/3/library/functions.html#map), [`filter`](https://docs.python.org/3/library/functions.html#filter) y [`reduce`](https://docs.python.org/3/library/functools.html#functools.reduce).\n",
    "\n",
    "Finalmente, se explica que es el *docstring*, como podemos consultarlo y qué convenciones se utilizan a la hora de definir el *docstring* de las funciones.\n",
    "\n",
    "A continuación se incluye la tabla de contenidos, que podéis utilizar para navegar por el documento:\n"
   ]
  },
  {
   "cell_type": "markdown",
   "metadata": {},
   "source": [
    "<ul style=\"list-style-type:none\">\n",
    "<li> <a href='#1.--Funciones'> 1. Funciones </a> </li>\n",
    "    <ul style=\"list-style-type:none\">\n",
    "<li> <a href='#1.1.--Ámbito-de-visibilidad'> 1.1. Ámbito de visibilidad </a> </li>\n",
    "        <ul style=\"list-style-type:none\">\n",
    "<li> <a href='#1.1.1.--Funciones-dentro-de-funciones'> 1.1.1. Funciones dentro de funciones </a> </li>\n",
    "        </ul>\n",
    "<li> <a href='#1.2.--Valor-de-retorno'> 1.2. Valor de retorno </a> </li>\n",
    "        <ul style=\"list-style-type:none\">\n",
    "<li> <a href='#1.2.1.--Funciones-como-valores-de-retorno'> 1.2.1. Funciones como valores de retorno </a> </li>\n",
    "        </ul>\n",
    "<li> <a href=\"#1.3.--Parámetros\"> 1.3. Parámetros </a> </li>\n",
    "        <ul style=\"list-style-type:none\">\n",
    "<li> <a href=\"#1.3.1.--Paso-por-referencia-de-objeto\"> 1.3.1. Paso por referencia de objeto </a> </li>\n",
    "<li> <a href='#1.3.2.--Argumentos-opcionales'> 1.3.2. Argumentos opcionales </a> </li>\n",
    "<li> <a href=\"#1.3.3.--Número-indeterminado-de-argumentos\"> 1.3.3. Número indeterminado de argumentos </a> </li>\n",
    "<li> <a href='#1.3.4.--Funciones-como-parámetros'> 1.3.4. Funciones como parámetros </a> </li>\n",
    "        </ul>\n",
    "<li> <a href=\"#1.4.--Introducción-a-la-programación-funcional\"> 1.4. Introducción a la programación funcional </a> </li>\n",
    "        <ul style=\"list-style-type:none\">\n",
    "<li> <a href='#1.4.1.--Map'> 1.4.1. Map </a> </li>\n",
    "<li> <a href=\"#1.4.2.--Filter\"> 1.4.2. Filter </a> </li>\n",
    "<li> <a href=\"#1.4.3.--Reduce\"> 1.4.3. Reduce </a> </li>\n",
    "        </ul>\n",
    "<li> <a href=\"#1.5.--Funciones-anónimas\"> 1.5. Funciones anónimas </a> </li>\n",
    "<li> <a href=\"#1.6.--Docstring\"> 1.6. Docstring </a> </li>\n",
    "    </ul>\n",
    "<li> <a href=\"#2.--Ejercicios-para-practicar\"> 2. Ejercicios de practicar </a> </li>\n",
    "    <ul style=\"list-style-type:none\">\n",
    "<li> <a href='#2.1.--Soluciones-a-los-ejercicios-para-practicar'> 2.1. Soluciones a los ejercicios para practicar </a> </li>\n",
    "    </ul>\n",
    "<li> <a href=\"#3.--Bibliografía\"> 3. Bibliografía </a> </li>\n",
    "    <ul style=\"list-style-type:none\">\n",
    "<li> <a href='#3.1.--Bibliografía-básica'> 3.1. Bibliografía básica </a> </li>\n",
    "<li> <a href='#3.2.--Bibliografía-adicional---Ampliación-de-conocimientos'> 3.2. Bibliografía adicional </a> </li>\n",
    "    </ul>\n",
    "</ul>"
   ]
  },
  {
   "cell_type": "markdown",
   "metadata": {},
   "source": [
    "---\n",
    "\n",
    "# 1.- Funciones\n",
    "\n",
    "Como ya sabemos, una función es una manera de encapsular código, que nos permite reaprovechar-lo para diversas tareas. Una función es un fragmento de código que tiene un nombre y que realiza una tarea específica.\n",
    "\n",
    "En Python definimos una función con la palabra reservada [`def`](https://docs.python.org/3/reference/compound_stmts.html#def), seguida del nombre que damos a la función y los parámetros que recibe entre paréntesis. Una función puede devolver un valor, que se indica con la palabra `return`.\n"
   ]
  },
  {
   "cell_type": "code",
   "execution_count": null,
   "metadata": {},
   "outputs": [],
   "source": [
    "\n",
    "\n",
    "# Definimos la función de nombre 'sum_two_values' con dos argumentos:\n",
    "# 'x' y 'y':\n",
    "def sum_two_values(x, y):\n",
    "    \"\"\"Return the value of the sum.\"\"\"\n",
    "    return x + y"
   ]
  },
  {
   "cell_type": "markdown",
   "metadata": {},
   "source": [
    "Para ejecutar una función, la llamamos utilizando su nombre, y especificando los argumentos:\n"
   ]
  },
  {
   "cell_type": "code",
   "execution_count": null,
   "metadata": {},
   "outputs": [],
   "source": [
    "r = sum_two_values(3, 5)\n",
    "print(r)"
   ]
  },
  {
   "cell_type": "markdown",
   "metadata": {},
   "source": [
    "## 1.1.- Ámbito de visibilidad\n"
   ]
  },
  {
   "cell_type": "markdown",
   "metadata": {},
   "source": [
    "Como ya hemos visto, la asignación de una variable en cualquier celda de un notebook permite utilizar esta variable en todo el notebook. Así pues, por ejemplo, podemos mostrar el contenido de la variable `r` asignada en la celda anterior en la siguiente celda:\n"
   ]
  },
  {
   "cell_type": "code",
   "execution_count": null,
   "metadata": {},
   "outputs": [],
   "source": [
    "print(r)"
   ]
  },
  {
   "cell_type": "markdown",
   "metadata": {},
   "source": [
    "Si intentamos utilizar una variable que no hayamos asignado anteriormente, Python lanza la excepción `NameError`:\n"
   ]
  },
  {
   "cell_type": "code",
   "execution_count": null,
   "metadata": {},
   "outputs": [],
   "source": [
    "try:\n",
    "    print(undef_var)\n",
    "except NameError as e:\n",
    "    print(e)"
   ]
  },
  {
   "cell_type": "markdown",
   "metadata": {},
   "source": [
    "Este error aparece ya que la variable `undef_var` no se ha asignado con anterioridad a la ejecución del `print` sobre la variable.\n",
    "\n",
    "Recordad que las diferentes celdas de una notebook pueden ejecutarse de manera independiente, y que el orden de ejecución de las celdas (y no el orden en el que se encuentran dentro del notebook) determinará el flujo de ejecución. Cuando programamos utilizando notebooks **es muy recomendable que estos se puedan ejecutar linealmente sin errores**, es decir, que el resultado esperado del notebook sea el que se obtiene al pulsar el botón del Menú `Kernel`,` Restart and Run All`.\n",
    "\n",
    "A modo de ejemplo y para que podáis comprobar la posible no linealidad de ejecución de un notebook, en la celda siguiente definiremos la variable `undef_var` y os pedimos que ejecutéis de nuevo la celda anterior (donde se hacía un `print` de esta variable). A diferencia de la primera vez que ejecutamos la celda, esta vez no debería dar ningún error, ya que ya habremos definido la variable. Este tipo de acciones, sin embargo, son las que hay que evitar, ya que dificultan la lectura, claridad y portabilidad del código que implementamos.\n"
   ]
  },
  {
   "cell_type": "code",
   "execution_count": null,
   "metadata": {},
   "outputs": [],
   "source": [
    "# Definimos la variable undef_var\n",
    "undef_var = \"Now it has a value\"\n",
    "\n",
    "###############################################################\n",
    "# IMPORTANTE: ejecute ahora la celda de código anterior, que contiene\n",
    "# El print de la variable undef_var, para comprobar que la ejecución\n",
    "# Ahora no genera ningún error.\n",
    "###############################################################"
   ]
  },
  {
   "cell_type": "markdown",
   "metadata": {},
   "source": [
    "Decimos que una variable es **global** cuando ésta se asigna fuera de una función (como en el caso tanto de la variable `r` como de la variable` undef_var`). Por el contrario, diremos que una variable es **local** cuando la definimos dentro de una función. Para referirnos al área desde donde puede utilizarse una determinada variable utilizamos la palabra **ámbito** (en inglés, hablamos de *scope*).\n",
    "\n",
    "Una variable local no puede ser utilizada fuera del cuerpo de la función donde está definida. En cambio, una variable global puede ser utilizada tanto desde fuera de cualquier función como desde el cuerpo de las funciones:\n"
   ]
  },
  {
   "cell_type": "code",
   "execution_count": null,
   "metadata": {},
   "outputs": [],
   "source": [
    "# Definimos una variable global\n",
    "global_var = \"This is a global variable\"\n",
    "\n",
    "\n",
    "def fun_1():\n",
    "    # Definimos una variable local dentro de fun_1\n",
    "    local_var_1 = \"local_var_1 is local to fun_1\"\n",
    "    # Mostramos el valor de la variable global y de la local\n",
    "    print(global_var)\n",
    "    print(local_var_1)\n",
    "\n",
    "\n",
    "def fun_2():\n",
    "    # Mostramos la variable global\n",
    "    print(global_var)\n",
    "    # Intentamos acceder a la variable local local_var_1,\n",
    "    # cosa que generará un error ya que no está definida\n",
    "    # dentro de la función fun_2\n",
    "    print(local_var_1)"
   ]
  },
  {
   "cell_type": "code",
   "execution_count": null,
   "metadata": {},
   "outputs": [],
   "source": [
    "# Mostramos la variable global\n",
    "print(global_var)"
   ]
  },
  {
   "cell_type": "code",
   "execution_count": null,
   "metadata": {},
   "outputs": [],
   "source": [
    "# Comprobamos como no podemos acceder a la variable local local_var_1\n",
    "# ya que ésta está definida dentro del ámbito de la función fun_1\n",
    "try:\n",
    "    print(local_var_1)\n",
    "except NameError:\n",
    "    print(\"Error: Variable no definida\")"
   ]
  },
  {
   "cell_type": "code",
   "execution_count": null,
   "metadata": {},
   "outputs": [],
   "source": [
    "# Ejecutamos fun_1, que muestra correctamente el valor de la variable\n",
    "# global y la local\n",
    "fun_1()"
   ]
  },
  {
   "cell_type": "code",
   "execution_count": null,
   "metadata": {},
   "outputs": [],
   "source": [
    "# Ejecutamos fun_2, que muestra correctamente el valor de la variable\n",
    "# global pero lanza una excepción al acceder a la variable local\n",
    "# ya que ésta está definida en fun_1\n",
    "try:\n",
    "    fun_2()\n",
    "except NameError:\n",
    "    print(\"Error: Variable no definida\")"
   ]
  },
  {
   "cell_type": "markdown",
   "metadata": {},
   "source": [
    "Hasta ahora hemos visto el comportamiento de las variables globales y locales dentro y fuera de funciones. ¿Qué pasa, sin embargo, si definimos una variable local (dentro de una función) que tiene el mismo nombre que una variable global definida fuera de la función?\n"
   ]
  },
  {
   "cell_type": "code",
   "execution_count": null,
   "metadata": {},
   "outputs": [],
   "source": [
    "def fun_3():\n",
    "    # Asignamos la variable global_var\n",
    "    global_var = \"Now this is a local var!\"\n",
    "    # Mostramos el valor de global_var\n",
    "    print(global_var)\n",
    "\n",
    "\n",
    "# Mostramos el valor de global_var antes de ejecutar la función fun_3\n",
    "print(global_var)\n",
    "# Ejecutamos la función fun_3\n",
    "fun_3()\n",
    "# Mostramos el valor de global_var después de ejecutar la función fun_3\n",
    "print(global_var)"
   ]
  },
  {
   "cell_type": "markdown",
   "metadata": {},
   "source": [
    "Por un lado, tened en cuenta que el valor de la variable global `global_var` no cambia con la ejecución de la función: el `print` de antes de la llamada a `fun_3` y el `print` de después de la llamada devuelven exactamente el mismo valor. Por otra parte, tened en cuenta que dentro de la función `fun_3`, la variable `global_var` toma un nuevo valor. En realidad, lo que hemos hecho al asignar `global_var` dentro de la función es crear una nueva variable con el mismo nombre, dentro del ámbito de la función. Este comportamiento difiere de lo que pasaba al llamar las funciones `fun_1` y `fun_2`, donde el nombre `global_var` hacía referencia a la variable global. La diferencia se debe a que en las funciones 1 y 2 simplemente se mostraba el contenido de la variable, mientras que en la función 3 la variable se asigna.\n",
    "\n",
    "Así pues, ¿como podemos reasignar el valor de una variable global desde dentro de una función? Para ello, habrá que hacer uso de la palabra reservada [`global`](https://docs.python.org/3/reference/simple_stmts.html#global), que permitirá indicar, en el contexto de una función, que queremos utilizar una variable global:\n"
   ]
  },
  {
   "cell_type": "code",
   "execution_count": null,
   "metadata": {},
   "outputs": [],
   "source": [
    "def fun_4():\n",
    "    # Identificamos la variable global_var como global\n",
    "    global global_var\n",
    "    # Asignamos un nuevo valor a la variable global global_var\n",
    "    global_var = \"Changing the value of the global var\"\n",
    "    # Mostramos el valor de global_var\n",
    "    print(global_var)\n",
    "\n",
    "\n",
    "# Mostramos el valor de global_var antes de ejecutar la función fun_4\n",
    "print(global_var)\n",
    "# Ejecutamos la función fun_4\n",
    "fun_4()\n",
    "# Mostramos el valor de global_var después de ejecutar la función fun_4\n",
    "print(global_var)"
   ]
  },
  {
   "cell_type": "markdown",
   "metadata": {},
   "source": [
    "Notad cómo, al llamar a `fun_4`, se modifica el valor de la variable global `global_var` (el valor de la variable en el último print es el valor asignado dentro de la función).\n"
   ]
  },
  {
   "cell_type": "markdown",
   "metadata": {},
   "source": [
    "### 1.1.1.- Funciones dentro de funciones\n",
    "\n",
    "Python permite definir funciones dentro de otras funciones. En esta situación, el comportamiento de las variables definidas en estas funciones es similar al que hemos descrito anteriormente.\n",
    "\n",
    "En el ejemplo siguiente hay una variable global `y` y una función `outer_fun` definida también en el ámbito global. Dentro de la función `outer_fun`, se define una variable local `x` con valor `3`, y cuatro funciones internas (`inner_fun_i` con `i` de 1 a 4). Cada una de las cuatro funciones internas muestra los posibles comportamientos con relación a la variable `x` definida en la función externa:\n",
    "* `inner_fun_1` muestra el valor de la variable `x` definida en `outer_fun`.\n",
    "* `inner_fun_2` asigna a una variable `x` el valor 5. Esto crea una nueva variable llamada `x`, local a `inner_fun_2`. Por lo tanto, el valor de la variable `x` de `outer_fun` no se modifica.\n",
    "* `inner_fun_3` utiliza la palabra clave [`nonlocal`](https://docs.python.org/3/reference/simple_stmts.html#the-nonlocal-statement) para indicar que quiere acceder a la variable `x` del ámbito de `outer_fun`, y reasigna el valor de `x` a 7. Por lo tanto, cuando se vuelve a mostrar el valor de `x` desde la función `outer_fun`, el valor ha sido modificado. El [`nonlocal`](https://docs.python.org/3/reference/simple_stmts.html#the-nonlocal-statement) tiene una funcionalidad similar al `global` que habíamos visto en la función `fun_4`, pero sirve para referirse a una variable definida en un ámbito superior no global.\n",
    "* `inner_fun_4` intenta acceder a la variable `my_var_if1`, que es local a la función `inner_fun_1`, generando, en consecuencia, una excepción.\n",
    "\n"
   ]
  },
  {
   "cell_type": "code",
   "execution_count": null,
   "metadata": {},
   "outputs": [],
   "source": [
    "\n",
    "\n",
    "# Definimos la función outer_fun al ámbito global\n",
    "def outer_fun():\n",
    "\n",
    "    # Definimos la función inner_fun_1 dentro de outer_fun\n",
    "    def inner_fun_1():\n",
    "        # Definimos la variable my_var_if1 dentro inner_fun_1\n",
    "        my_var_if1 = \"This is defined in inner_fun_1\"\n",
    "        # Mostramos el valor de la variable de outer_fun x y la variable global y\n",
    "        print(\"Inner fun 1 x:\\t{}\".format(x))\n",
    "        print(\"Inner fun 1 y:\\t{}\".format(y))\n",
    "\n",
    "    # Definimos la función inner_fun_2 dentro de outer_fun\n",
    "    def inner_fun_2():\n",
    "        # Definimos y mostramos una nueva variable x local a inner_fun_2 con valor 5\n",
    "        x = 5\n",
    "        print(\"Inner fun 2 x:\\t{}\".format(x))\n",
    "\n",
    "    # Definimos la función inner_fun_3 dentro de outer_fun\n",
    "    def inner_fun_3():\n",
    "        # Indicamos que utilizaremos la variable x no local\n",
    "        # (definida en outer_fun)\n",
    "        nonlocal x\n",
    "        # Modificamos y mostramos el valor de x\n",
    "        x = 7\n",
    "        print(\"Inner fun 3 x:\\t{}\".format(x))\n",
    "\n",
    "    # Definimos la función inner_fun_4 dentro de outer_fun\n",
    "    def inner_fun_4():\n",
    "        try:\n",
    "            # Intentamos acceder a la variable my_var_if1 definida dentro\n",
    "            # de inner_fun_1 (lo que generará una excepción)\n",
    "            print(my_var_if1)\n",
    "        except NameError:\n",
    "            print(\"Error: undefined variable\")\n",
    "\n",
    "    # Mostramos el valor de la variable global y\n",
    "    print(\"Outer fun 1 y:\\t{}\".format(y))\n",
    "\n",
    "    # Definimos una variable local a outer_fun de nombre x y valor 3\n",
    "    x = 3\n",
    "    # Vamos mostrando el valor de x y ejecutando las funciones internas, para ver\n",
    "    # el efecto que tienen sobre x\n",
    "    print(\"Outer fun x:\\t{}\".format(x))\n",
    "    inner_fun_1()\n",
    "    print(\"Outer fun x:\\t{}\".format(x))\n",
    "    inner_fun_2()\n",
    "    print(\"Outer fun x:\\t{}\".format(x))\n",
    "    inner_fun_3()\n",
    "    print(\"Outer fun x:\\t{}\".format(x))\n",
    "    inner_fun_4()\n",
    "\n",
    "\n",
    "# Definimos una variable global y\n",
    "y = 1\n",
    "# Llamamos la función outer_fun\n",
    "outer_fun()"
   ]
  },
  {
   "cell_type": "markdown",
   "metadata": {},
   "source": [
    "Definir funciones dentro de funciones permite **encapsular** código, es decir, ocultar ciertas partes del código, de forma que sólo puedan ser llamadas desde ciertas funciones. Siguiendo con el ejemplo anterior, las funciones `inner_fun_i` sólo son visibles desde dentro de` outer_fun`, y no pueden ser llamadas desde el ámbito global:\n"
   ]
  },
  {
   "cell_type": "code",
   "execution_count": null,
   "metadata": {},
   "outputs": [],
   "source": [
    "try:\n",
    "    # Intentamos ejecutar una de las funciones internas, lo que generará\n",
    "    # una excepción ya que no están definidas en el ámbito global\n",
    "    inner_fun_1()\n",
    "except NameError:\n",
    "    print(\"Error: undefined 'inner_fun_1'\")"
   ]
  },
  {
   "cell_type": "markdown",
   "metadata": {},
   "source": [
    "¿Por qué podemos querer encapsular el código? Supongamos, por ejemplo, que estamos analizando un conjunto de datos con las localizaciones actuales de un conjunto de personas, así como la localización del domicilio y del lugar de trabajo de éstas, y que queremos saber si estas personas se encuentran cerca tanto del puesto de trabajo como del domicilio. Para ello, implementamos una función `is_close` que nos devuelve un booleano que indica si están cerca o no de ambas localizaciones. Esta función necesitará calcular la distancia entre dos puntos dos veces (una para calcular la distancia entre la localización actual y el domicilio, y una segunda vez para saber la distancia entre la localización actual y el lugar de trabajo). Por lo tanto, para no repetir código, definiremos otra función `dist` que calcule la distancia entre dos puntos. Ahora bien, para el análisis que queremos hacer, no utilizaremos la distancia euclídea, sino que utilizaremos la [distancia de Manhattan](https://en.wikipedia.org/wiki/Taxicab_geometry). En el resto de nuestro código, pero, nunca utilizaremos esta definición de distancia, y queremos evitar que algún otro programador del equipo, por error, llame a nuestra función distancia `dist` (pensando, quizás, que calcula la distancia más habitual, la Euclidiana). Una posible manera de hacerlo es definir la función `dist` como una función local a `is_close`. De este modo, podemos utilizar una función y no tendremos que repetir código al calcular las distancias y, al mismo tiempo, evitaremos que se llame esta función desde fuera de la función `is_close`:\n"
   ]
  },
  {
   "cell_type": "code",
   "execution_count": null,
   "metadata": {},
   "outputs": [],
   "source": [
    "def is_close(x, y, l1_x, l1_y, l2_x, l2_y):\n",
    "    \"\"\"Computes whether a location is nearby two other locations.\n",
    "\n",
    "    Computes if location (x,y) is close to two other locations,\n",
    "    (l1_x, l1_y) and (l2_x, l2_y).\"\"\"\n",
    "\n",
    "    def dist(x1, y1, x2, y2):\n",
    "        \"\"\"Computes the Manhattan distance between (x1, y1) and (x2, y2).\"\"\"\n",
    "        return abs(x1 - x2) + abs(y1 - y2)\n",
    "\n",
    "    # Consideramos que un punto está cerca de otro si la distancia entre ellos\n",
    "    # es inferior a lim\n",
    "    lim = 10\n",
    "    # Retornamos si (x, y) está cerca tanto de (l1_x, l1_y) como de (l2_x, l2_y)\n",
    "    return (dist(x, y, l1_x, l1_y) < lim) and (dist(x, y, l2_x, l2_y) < lim)"
   ]
  },
  {
   "cell_type": "code",
   "execution_count": null,
   "metadata": {},
   "outputs": [],
   "source": [
    "# Calculamos si la dirección actual (0, 0) está cerca de (1, 4) y (-7, 1)\n",
    "r1 = is_close(0, 0, 1, 4, -7, 1)\n",
    "print(\"(0, 0) is close to (1, 4) and (-7, 1)?: {}\".format(r1))\n",
    "\n",
    "# Calculamos si la dirección actual (0, 0) está cerca de (1, 4) y (15, 1)\n",
    "r2 = is_close(0, 0, 1, 4, 15, 1)\n",
    "print(\"(0, 0) is close to (1, 4) and (15, 1)?: {}\".format(r2))"
   ]
  },
  {
   "cell_type": "markdown",
   "metadata": {},
   "source": [
    "Antes de terminar esta sección, hacemos un apunte sobre la implementación de la función `is_close`. Fijaos que la función debe devolver `True` si se cumple una determinada condición (si el usuario se encuentra cerca del trabajo y de su vivienda) y `False` de lo contrario. Una posible manera de implementar este comportamiento es con una instrucción `if`:\n",
    "\n",
    "```\n",
    "if (dist(x, y, l1_x, l1_y) < lim) and (dist (x, y, l2_x, l2_y) < lim):\n",
    "    return True\n",
    "else:\n",
    "    return False\n",
    "```\n",
    "\n",
    "Este código utiliza una expresión (que incluye el cálculo de distancias) para diferenciar si la función debe devolver `True` o `False`. Es importante notar que la propia expresión ya devuelve un booleano y que, por lo tanto, puede utilizarse directamente como valor de retorno:\n",
    "```\n",
    "return (dist(x, y, l1_x, l1_y) < lim) and (dist(x, y, l2_x, l2_y) < lim)\n",
    "```\n",
    "\n",
    "de modo que obtenemos un código más conciso, que se comporta exactamente igual, y que evita redundancia.\n",
    " \n"
   ]
  },
  {
   "cell_type": "markdown",
   "metadata": {},
   "source": [
    "## 1.2.- Valor de retorno\n"
   ]
  },
  {
   "cell_type": "markdown",
   "metadata": {},
   "source": [
    "Una función puede devolver un valor, que se indica con la palabra `return`. Si la función no tiene `return` o bien tiene un `return` vacío, la ejecución de la función devolverá el valor [`None`](https://docs.python.org/3.2/library/constants.html#None):\n"
   ]
  },
  {
   "cell_type": "code",
   "execution_count": null,
   "metadata": {},
   "outputs": [],
   "source": [
    "\n",
    "\n",
    "# Definimos una función sin return\n",
    "def print_sum_v0(x, y):\n",
    "    print(\"Result is: {}\".format(x+y))\n",
    "\n",
    "\n",
    "# Definimos una función con retorno vacío\n",
    "def print_sum_v1(x, y):\n",
    "    print(\"Result is: {}\".format(x+y))\n",
    "    return\n",
    "\n",
    "\n",
    "# El valor de retorno de las dos funciones es None\n",
    "r = print_sum_v0(3, 5)\n",
    "print(r)\n",
    "\n",
    "r = print_sum_v1(3, 5)\n",
    "print(r)"
   ]
  },
  {
   "cell_type": "markdown",
   "metadata": {},
   "source": [
    "Una función devuelve un único **objeto**. Así, si es necesario que una función devuelva más de un valor, podemos hacer que la función devuelva una tupla con los diversos valores.\n"
   ]
  },
  {
   "cell_type": "code",
   "execution_count": null,
   "metadata": {},
   "outputs": [],
   "source": [
    "\n",
    "\n",
    "# Definimos la función de nombre 'sum_two_values' con dos argumentos: 'x'\n",
    "# e 'y':\n",
    "def sum_two_values(x, y):\n",
    "    \"\"\"Return the value of the sum.\"\"\"\n",
    "    return x + y\n",
    "\n",
    "\n",
    "# Definimos la función de nombre 'sum_and_mult_two_values' con dos argumentos:\n",
    "# 'x' e 'y':\n",
    "def sum_and_mult_two_values(x, y):\n",
    "    \"\"\"Return a tuple with the value of the sum and the product.\"\"\"\n",
    "    return x + y, x * y\n",
    "\n",
    "\n",
    "r1 = sum_two_values(5, 11)\n",
    "r2 = sum_and_mult_two_values(5, 11)\n",
    "print(\"The result of sum_two_values(5, 11) is {} ({})\".\n",
    "      format(r1, type(r1)))\n",
    "print(\"The result of sum_and_mult_two_values(5, 11) is {} ({})\".\n",
    "      format(r2, type(r2)))"
   ]
  },
  {
   "cell_type": "markdown",
   "metadata": {},
   "source": [
    "Tened en cuenta que al retornar la tupla, se está utilizando la sintaxis de definición de tupla sin paréntesis, que es más rápida de escribir ya que contiene menos caracteres, pero puede llevar a confusión al programador principiante. Así pues, notad que el return de la segunda función sería equivalente a:\n",
    "\n",
    "```\n",
    "return (x + y, x * y)\n",
    "```\n"
   ]
  },
  {
   "cell_type": "markdown",
   "metadata": {},
   "source": [
    "### 1.2.1.- Funciones como valores de retorno\n",
    "\n",
    "Del mismo modo que una función puede devolver, por ejemplo, un entero, una cadena de caracteres o una tupla, una función puede devolver también otra función. Esto nos será útil en ciertas construcciones que veremos en este módulo.\n",
    "\n",
    "Por ejemplo, la función `min_or_max` definida en la siguiente celda devuelve o bien la función [`min`](https://docs.python.org/3/library/functions.html#min) o bien la función [`max`](https://docs.python.org/3/library/functions.html#max), dependiendo de si el valor que recibe como parámetro, `sel`, es par o impar:\n"
   ]
  },
  {
   "cell_type": "code",
   "execution_count": null,
   "metadata": {},
   "outputs": [],
   "source": [
    "def min_or_max(sel):\n",
    "    \"\"\"Return either the min or the max function.\"\"\"\n",
    "    if sel % 2:\n",
    "        # sel es impar\n",
    "        f = max\n",
    "    else:\n",
    "        # sel es par\n",
    "        f = min\n",
    "    return f"
   ]
  },
  {
   "cell_type": "code",
   "execution_count": null,
   "metadata": {},
   "outputs": [],
   "source": [
    "# Definimos una lista\n",
    "a_list = [1, 1, 2, 3, 5, 8, 13, 21]\n",
    "# Llamamos a min_or_max con el último elemento de la lista como parámetro\n",
    "f = min_or_max(a_list[-1])\n",
    "# Como el último elemento de la lista es impar, f contendrá la función max\n",
    "print(\"The type of f is: {}\".format(type(f)))\n",
    "print(\"f is: {}\".format(f))\n",
    "# Aplicamos la función f (es decir, max) a la lista a_list\n",
    "r = f(a_list)\n",
    "print(\"The result of applying f to a_list is: {}\".format(r))"
   ]
  },
  {
   "cell_type": "markdown",
   "metadata": {},
   "source": [
    "Combinando la funcionalidad de definir funciones dentro de funciones y la de devolver funciones, se pueden crear construcciones complejas que permiten resolver elegantemente algunos problemas. Si estáis interesados en este tipo de construcciones, podéis consultar el [enlace](https://stackabuse.com/python-nested-functions/)(lectura opcional, para ampliar conocimientos).\n"
   ]
  },
  {
   "cell_type": "markdown",
   "metadata": {},
   "source": [
    "## 1.3.- Parámetros\n",
    "\n",
    "Las funciones pueden tener parámetros, que sirven para proveerlas de datos que necesitan para su ejecución. Formalmente, distinguimos entre parámetros y argumentos. Los parámetros son parte de la firma de la función, mientras que los argumentos son los valores que recibe la función en el momento de ejecutarla. Por ejemplo, en la celda de código donde definíamos la función `sum_and_mult_two_values`, `x` e `y` son los parámetros de la función `sum_and_mult_two_values`, y cuando hacemos la llamada `sum_and_mult_two_values(5, 11)`, `5` y `11` son los argumentos.\n",
    "\n",
    "Informalmente, sin embargo, a menudo se utilizan ambos términos indistintamente.\n",
    "\n",
    "### 1.3.1.- Paso por referencia de objeto\n",
    "\n",
    "Hasta ahora hemos visto como las funciones reciben unos argumentos y devuelven unos valores. ¿Qué pasa, sin embargo, cuando modificamos los valores de las variables que recibimos como argumentos en una llamada de una función? ¡Observémoslo con algunos ejemplos!\n"
   ]
  },
  {
   "cell_type": "code",
   "execution_count": null,
   "metadata": {},
   "outputs": [],
   "source": [
    "\n",
    "\n",
    "# Definimos una función que recibe un parámetro 'i' y\n",
    "# asigna el valor 5 a este\n",
    "def reassign_num(i):\n",
    "    i = 5\n",
    "    print(\"Value of i in the function:\\t{}\".format(i))\n",
    "\n",
    "\n",
    "# Definimos una función que recibe un parámetro 'li' y\n",
    "# asigna el valor [1, 2] a este\n",
    "def reassign_list(li):\n",
    "    li = [1, 2]\n",
    "    print(\"Value of li in the function:\\t{}\".format(li))\n",
    "\n",
    "\n",
    "# Definimos una función que recibe un parámetro 'li' y\n",
    "# le añade un entero 1 con append\n",
    "def append_val(li):\n",
    "    li.append(1)\n",
    "    print(\"Value of li in the function:\\t{}\".format(li))"
   ]
  },
  {
   "cell_type": "markdown",
   "metadata": {},
   "source": [
    "Hay varios detalles a tener en cuenta en la definición de estas tres funciones. En primer lugar, las funciones no tienen ninguna instrucción `return`, por lo que su llamada devolverá siempre [`None`](https://docs.python.org/3.2/library/constants.html#None). En segundo lugar, las dos primeras funciones (`reassign_num` y `reassign_list`) pueden recibir un valor de cualquier tipo como parámetro. En cambio, la tercera función (`append_val`) debe recibir un parámetro de un tipo que implemente el método `append`, como una lista. Por último, es interesante notar qué hacen estas funciones: las dos primeras (`reassign_num` y `reassign_list`) **asignan** un nuevo valor a la variable que reciben como parámetro (un entero en el caso de `reassign_num`, y una lista para `reassign_list`). Contrariamente, la tercera función (`append_val`) lo que hace es **modificar** la variable que recibe como parámetro, en este caso, añadiendo un elemento a la lista.\n",
    "\n",
    "Fijémonos, a continuación, con el efecto que tiene la ejecución de estas funciones sobre las variables que se reciben.\n"
   ]
  },
  {
   "cell_type": "code",
   "execution_count": null,
   "metadata": {},
   "outputs": [],
   "source": [
    "an_integer = 42\n",
    "print(\"Value of an_integer:\\t\\t{}\".format(an_integer))\n",
    "ret_val = reassign_num(an_integer)\n",
    "print(\"Function returns:\\t\\t{}\".format(ret_val))\n",
    "print(\"Value of an_integer:\\t\\t{}\".format(an_integer))"
   ]
  },
  {
   "cell_type": "code",
   "execution_count": null,
   "metadata": {},
   "outputs": [],
   "source": [
    "a_list = [42]\n",
    "print(\"Value of a_list:\\t\\t{}\".format(a_list))\n",
    "ret_val = reassign_list(a_list)\n",
    "print(\"Function returns:\\t\\t{}\".format(ret_val))\n",
    "print(\"Value of a_list:\\t\\t{}\".format(a_list))"
   ]
  },
  {
   "cell_type": "markdown",
   "metadata": {},
   "source": [
    "En estos dos primeros casos, la variable que se pasa como parámetro en las llamadas a las funciones `reassign_num` y `reassign_list` no se ve afectada por la reasignación que se realiza dentro de las funciones: después de ejecutar `reassign_num`, la variable `an_integer` sigue conteniendo el valor` 42`; y después de ejecutar la función `reassign_list`, la variable `a_list` sigue valiendo `[42]`. Fijémonos ahora en el comportamiento de la variable `a_list` cuando llamamos la función `append_val`:\n"
   ]
  },
  {
   "cell_type": "code",
   "execution_count": null,
   "metadata": {},
   "outputs": [],
   "source": [
    "a_list = [42]\n",
    "print(\"Value of a_list:\\t\\t{}\".format(a_list))\n",
    "ret_val = append_val(a_list)\n",
    "print(\"Function returns:\\t\\t{}\".format(ret_val))\n",
    "print(\"Value of a_list:\\t\\t{}\".format(a_list))"
   ]
  },
  {
   "cell_type": "markdown",
   "metadata": {},
   "source": [
    "En este caso, y a diferencia de las dos llamadas anteriores, el valor de la variable `a_list` se modifica (aunque la función no ha devuelto ningún valor). Esto sucede por la implementación interna que hace Python del paso de parámetros en las llamadas a las funciones. Este comportamiento se conoce como paso por referencia de objeto (en inglés, *pass-by-object-reference*), y no es igual en todos los lenguajes de programación. El lector interesado puede consultar [este post](https://medium.com/@tyastropheus/tricky-python-ii-parameter-passing-for-mutable-immutable-objects-10e968cbda35) para profundizar en el funcionamiento del paso de parámetros en Python (lectura opcional, para ampliar conocimientos). Es importante tener en cuenta este comportamiento de las funciones en Python a la hora de programar ya que, en caso de no hacerlo, podemos obtener resultados inesperados en las llamadas a funciones.\n"
   ]
  },
  {
   "cell_type": "markdown",
   "metadata": {},
   "source": [
    "### 1.3.2.- Argumentos opcionales\n",
    "\n",
    "La manera más directa de especificar argumentos opcionales en la definición de una función es darles un valor predeterminado. Entonces, si en el momento de hacer la llamada el argumento no se especifica, este tomará el valor por defecto que se haya especificado en la definición de la función:\n"
   ]
  },
  {
   "cell_type": "code",
   "execution_count": null,
   "metadata": {},
   "outputs": [],
   "source": [
    "\n",
    "\n",
    "# Definimos una función con dos parámetros obligatorios y uno\n",
    "# de opcional. El parámetro opcional z será 0 si no se especifica.\n",
    "def sum_two_or_three_values(x, y, z=0):\n",
    "    print(\"Values are: x={}, y={}, z={}\".format(x, y, z))\n",
    "    return x + y + z"
   ]
  },
  {
   "cell_type": "code",
   "execution_count": null,
   "metadata": {},
   "outputs": [],
   "source": [
    "# Llamamos a la función con sólo los parámetros obligatorios, x e y\n",
    "print(\"(1, 3): {}\".format(sum_two_or_three_values(1, 3)))\n",
    "\n",
    "# Llamamos a la función con los parámetros obligatorios y el opcional\n",
    "print(\"(1, 3, 4): {}\".format(sum_two_or_three_values(1, 3, 4)))"
   ]
  },
  {
   "cell_type": "code",
   "execution_count": null,
   "metadata": {},
   "outputs": [],
   "source": [
    "# Si llamamos a la función con 1 único parámetro se genera un error\n",
    "# ya que hay dos parámetros obligatorios\n",
    "try:\n",
    "    print(\"(1): {}\".format(sum_two_or_three_values(1)))\n",
    "except TypeError as e:\n",
    "    print(\"TypeError:\", e)"
   ]
  },
  {
   "cell_type": "markdown",
   "metadata": {},
   "source": [
    "Las llamadas anteriores especifican los parámetros por **posición**. En este caso, diremos que utilizamos argumentos posicionales. También podemos hacer llamadas a las funciones especificando los argumentos por su **nombre** (en inglés, los llamaremos *keyword arguments*), independientemente de si éstos son obligatorios u opcionales:\n"
   ]
  },
  {
   "cell_type": "code",
   "execution_count": null,
   "metadata": {},
   "outputs": [],
   "source": [
    "# Especificamos todos los parámetros por nombre\n",
    "print(\"(x=1, y=3, z=4): {}\".format(\n",
    "    sum_two_or_three_values(x=1, y=3, z=4)))\n",
    "\n",
    "# Especificamos dos parámetros por posición y uno por nombre\n",
    "print(\"(1, 3, z=4): {}\".format(\n",
    "    sum_two_or_three_values(1, 3, z=4)))\n",
    "\n",
    "# Especificamos todos los parámetros por nombre, cambiando el orden\n",
    "# los parámetros\n",
    "print(\"(y=3, z=4, x=1): {}\".format(\n",
    "    sum_two_or_three_values(y=3, z=4, x=1)))"
   ]
  },
  {
   "cell_type": "markdown",
   "metadata": {},
   "source": [
    "Notad cómo, cuando especificamos los parámetros por su nombre, podemos incluirlos en el orden que queramos. En cambio, si especificamos los parámetros por posición, la posición del parámetro determinará su asignación.\n"
   ]
  },
  {
   "cell_type": "markdown",
   "metadata": {},
   "source": [
    "### 1.3.3.- Número indeterminado de argumentos\n",
    "\n",
    "\n",
    "Python también permite definir funciones que acepten un número arbitrario (indefinido en el momento de la definición de la función) de argumentos. En este caso, se define un parámetro especial anteponiendo `*` o `**` al nombre del parámetro, y este parámetro recibirá todos los argumentos que no coincidan con ninguno de los parámetros definidos explícitamente de la función:\n",
    "\n",
    "* Si se antepone `*` al nombre del parámetro, este será una tupla con todos los valores de los argumentos no definidos explícitamente.\n",
    "* Si se antepone `**` al nombre del parámetro, éste recibirá un diccionario con los pares de nombre y valor de los argumentos no definidos explícitamente (que se deberán especificar por nombre en el momento de hacer la llamada a la función).\n"
   ]
  },
  {
   "cell_type": "code",
   "execution_count": null,
   "metadata": {},
   "outputs": [],
   "source": [
    "\n",
    "\n",
    "# Definimos una función con dos parámetros obligatorios y\n",
    "# un número indeterminado de parámetros posicionales\n",
    "def sum_two_or_three_values_p(x, y, *extra_arguments):\n",
    "    print(\"Compulsory arguments are: x={}, y={}\".format(x, y))\n",
    "    print(\"Additional arguments are: {}\".format(extra_arguments))\n",
    "    print(\"extra_arguments type is: {}\".format(type(extra_arguments)))\n",
    "    return x + y + sum(extra_arguments)"
   ]
  },
  {
   "cell_type": "code",
   "execution_count": null,
   "metadata": {},
   "outputs": [],
   "source": [
    "# Llamamos a la función sólo con los argumentos obligatorios\n",
    "sum_two_or_three_values_p(1, 2)"
   ]
  },
  {
   "cell_type": "code",
   "execution_count": null,
   "metadata": {},
   "outputs": [],
   "source": [
    "# Llamamos a la función con 5 argumentos posicionales\n",
    "sum_two_or_three_values_p(1, 2, 3, 4, 5)"
   ]
  },
  {
   "cell_type": "code",
   "execution_count": null,
   "metadata": {},
   "outputs": [],
   "source": [
    "\n",
    "\n",
    "# Definimos una función con dos parámetros obligatorios y\n",
    "# un número indeterminado de parámetros con nombre\n",
    "def sum_two_or_three_values_n(x, y, **extra_arguments):\n",
    "    print(\"Compulsory arguments are: x={}, y={}\".format(x, y))\n",
    "    print(\"Additional arguments are: \")\n",
    "    for k in extra_arguments:\n",
    "        print(\"\\t{}={}\".format(k, extra_arguments[k]))\n",
    "    print(\"extra_arguments type is: {}\".format(type(extra_arguments)))\n",
    "    return x + y + sum(extra_arguments.values())"
   ]
  },
  {
   "cell_type": "code",
   "execution_count": null,
   "metadata": {},
   "outputs": [],
   "source": [
    "# Llamamos la función sólo con los argumentos obligatorios\n",
    "sum_two_or_three_values_n(1, 2)"
   ]
  },
  {
   "cell_type": "code",
   "execution_count": null,
   "metadata": {},
   "outputs": [],
   "source": [
    "# Llamamos la función con los argumentos obligatorios y un argumento opcional\n",
    "sum_two_or_three_values_n(1, 2, z=3)"
   ]
  },
  {
   "cell_type": "code",
   "execution_count": null,
   "metadata": {},
   "outputs": [],
   "source": [
    "# Llamamos la función con los argumentos obligatorios y tres argumentos\n",
    "# opcionales\n",
    "sum_two_or_three_values_n(1, 2, z=3, a=10, b=12)"
   ]
  },
  {
   "cell_type": "markdown",
   "metadata": {},
   "source": [
    "Es interesante notar que si hemos especificado que los argumentos opcionales serán posicionales (usando `*`), entonces no podemos a llamar la función asignando nombres a los argumentos. De manera análoga, si hemos especificado argumentos opcionales con nombre (usando `**`), no podremos llamar a la función con argumentos opcionales posicionales:\n"
   ]
  },
  {
   "cell_type": "code",
   "execution_count": null,
   "metadata": {},
   "outputs": [],
   "source": [
    "try:\n",
    "    # Especificamos un argumento opcional por nombre en una función\n",
    "    # definida con *\n",
    "    sum_two_or_three_values_p(1, 2, z=3)\n",
    "except TypeError as e:\n",
    "    print(\"TypeError:\", e)"
   ]
  },
  {
   "cell_type": "code",
   "execution_count": null,
   "metadata": {},
   "outputs": [],
   "source": [
    "try:\n",
    "    # Especificamos un argumento opcional por posición en una función\n",
    "    # definida con **\n",
    "    sum_two_or_three_values_n(1, 2, 3)\n",
    "except TypeError as e:\n",
    "    print(\"TypeError:\", e)"
   ]
  },
  {
   "cell_type": "markdown",
   "metadata": {},
   "source": [
    "### 1.3.4.- Funciones como parámetros\n",
    "\n",
    "Del mismo modo que una función puede recibir como parámetros, por ejemplo, un entero o una cadena de caracteres, una función puede recibir como parámetro otra función. Esto nos será útil en ciertas construcciones que veremos en este módulo.\n",
    "\n",
    "Por ejemplo, la función `eval_and_print`, definida en la celda siguiente, recibe como parámetros una función y una lista, y lo que hace es evaluar la función sobre la lista, mostrar el resultado por pantalla, y devolverlo:\n"
   ]
  },
  {
   "cell_type": "code",
   "execution_count": null,
   "metadata": {},
   "outputs": [],
   "source": [
    "\n",
    "\n",
    "# La función eval_and_print recibe otra función como parámetro (la función f)\n",
    "def eval_and_print(f, x):\n",
    "    # Mostramos f y el tipo de f\n",
    "    print(\"f is {} and its type is {}\".format(f, type(f)))\n",
    "    # Aplicamos la función f sobre el valor x\n",
    "    f_x = f(x)\n",
    "    # Mostramos el valor por pantalla y lo retornamos\n",
    "    print(\"The result of f(x) is: {}\".format(f_x))\n",
    "    return f_x\n",
    "\n",
    "\n",
    "# Llamamos a eval_and_print con funciones diferentes\n",
    "r1 = eval_and_print(max, [81, 75, 5, 10])\n",
    "r2 = eval_and_print(min, [81, 75, 5, 10])\n",
    "r3 = eval_and_print(sum, [81, 75, 5, 10])"
   ]
  },
  {
   "cell_type": "markdown",
   "metadata": {},
   "source": [
    "## 1.4.- Introducción a la programación funcional\n",
    "\n",
    "La programación funcional es un paradigma de programación basado en la evaluación de funciones matemáticas, en el que la salida de una función depende únicamente de su entrada, y no del estado del programa.\n",
    "\n",
    "En esta sección, presentaremos tres funciones de Python que son útiles a la hora de programar con el paradigma de programación funcional: [`map`](https://docs.python.org/3/library/functions.html#map), [`filter`](https://docs.python.org/3/library/functions.html#filter) y [`reduce`](https://docs.python.org/3/library/functools.html#functools.reduce).\n",
    "\n",
    "### 1.4.1.- Map\n",
    "\n",
    "La función [`map`](https://docs.python.org/3/library/functions.html#map) recibe como parámetros una función y un iterable, y devuelve un iterador que aplica la función proporcionada a cada uno de los elementos del iterable.\n"
   ]
  },
  {
   "cell_type": "code",
   "execution_count": null,
   "metadata": {},
   "outputs": [],
   "source": [
    "def sum_2(x):\n",
    "    \"\"\"Add 2 to the value received by parameter.\"\"\"\n",
    "    return x + 2\n",
    "\n",
    "\n",
    "# Aplicamos la función sum_2 a cada uno de los elementos de la lista a_list\n",
    "a_list = [1, 2, 3, 4]\n",
    "r = map(sum_2, a_list)\n",
    "print(list(r))"
   ]
  },
  {
   "cell_type": "markdown",
   "metadata": {},
   "source": [
    "El resultado de aplicar [`map`](https://docs.python.org/3/library/functions.html#map) sobre la lista es un iterable que contiene el resultado de llamar a la función `sum_2` sobre cada uno de los elementos de la lista original, `a_list`. Esto sería equivalente a ejecutar la *list comprehension* siguiente:\n"
   ]
  },
  {
   "cell_type": "code",
   "execution_count": null,
   "metadata": {},
   "outputs": [],
   "source": [
    "[sum_2(x) for x in a_list]"
   ]
  },
  {
   "cell_type": "code",
   "execution_count": null,
   "metadata": {},
   "outputs": [],
   "source": [
    "\n",
    "\n",
    "# Definimos una función que convierte cadenas de caracteres que expresan\n",
    "# valores numéricos (posiblemente decimales) en enteros\n",
    "def convert_to_int(x):\n",
    "    \"\"\"Convert strings to int.\"\"\"\n",
    "    return int(float(x))\n",
    "\n",
    "\n",
    "# Aplicamos la función convert_to_int a cada uno de los elementos de la\n",
    "# lista a_list\n",
    "a_list = [\"42.45\", \"13.4\", \"12000\"]\n",
    "list(map(convert_to_int, a_list))"
   ]
  },
  {
   "cell_type": "markdown",
   "metadata": {},
   "source": [
    "En los ejemplos anteriores, la función que se pasa como argumento a [`map`](https://docs.python.org/3/library/functions.html#map) (`sum_2` y `convert_to_int`) tiene un único parámetro, por lo que [`map`](https://docs.python.org/3/library/functions.html#map) la puede aplicar directamente sobre cada uno de los elementos de la lista (lista que recibe como segundo argumento). Ahora bien, la función que se pasa como parámetro a [`map`](https://docs.python.org/3/library/functions.html#map) puede tener más de un parámetro. En este caso, la función [`map`](https://docs.python.org/3/library/functions.html#map) recibirá tantas listas como parámetros necesite la función que recibe.\n",
    "\n",
    "En el ejemplo siguiente, definimos una función que calcula el precio de un piso a partir de los metros cuadrados que tiene (`sqm`), el estado de conservación (`status`) y el vecindario en que se encuentra (`neigh`):\n"
   ]
  },
  {
   "cell_type": "code",
   "execution_count": null,
   "metadata": {},
   "outputs": [],
   "source": [
    "def compute_price(sqm, status, neigh):\n",
    "    \"\"\"Compute the price of a flat.\"\"\"\n",
    "\n",
    "    price_per_sqm = 1000\n",
    "    nice_neigh = [\"A\", \"B\"]\n",
    "    nice_neigh_factor = 1.25\n",
    "    new_factor = 2\n",
    "\n",
    "    # Precio base es metros cuadrados por precio por metro cuadrado\n",
    "    price = sqm * price_per_sqm\n",
    "\n",
    "    # Si el piso se encuentra en un barrio considerado bueno, se aplica\n",
    "    # un factor multiplicativo al precio del piso\n",
    "    if neigh in nice_neigh:\n",
    "        price *= nice_neigh_factor\n",
    "\n",
    "    # Si el piso es nuevo, se aplica un factor multiplicativo al\n",
    "    # precio del piso\n",
    "    if status == \"New\":\n",
    "        price *= new_factor\n",
    "\n",
    "    return price"
   ]
  },
  {
   "cell_type": "code",
   "execution_count": null,
   "metadata": {},
   "outputs": [],
   "source": [
    "# Calculamos el precio de un piso nuevo de 100m^2 que se encuentra en un barrio\n",
    "# catalogado como \"A\"\n",
    "compute_price(100, \"New\", \"A\")"
   ]
  },
  {
   "cell_type": "markdown",
   "metadata": {},
   "source": [
    "Una inmobiliaria tiene 5 pisos a su disposición, y quiere utilizar la función `compute_price` para calcular el precio que debería tener cada uno de los pisos. Podemos utilizar la función [`map`](https://docs.python.org/3/library/functions.html#map) para calcularlo, partiendo de tres listas que indiquen los metros cuadrados, los estados y los barrios de los pisos:\n"
   ]
  },
  {
   "cell_type": "code",
   "execution_count": null,
   "metadata": {},
   "outputs": [],
   "source": [
    "# Definimos tres listas con los datos de los pisos\n",
    "sqms = [100, 120, 125, 190, 200]\n",
    "statuses = [\"New\", \"New\", \"Used\", \"Unknown\", \"Used\"]\n",
    "neigs = [\"A\", \"B\", \"B\", \"D\", \"A\"]\n",
    "\n",
    "# Aplicamos la función compute_price sobre cada uno de los pisos\n",
    "list(map(compute_price, sqms, statuses, neigs))"
   ]
  },
  {
   "cell_type": "markdown",
   "metadata": {},
   "source": [
    "### 1.4.2.- Filter\n",
    "\n",
    "La función [`filter`](https://docs.python.org/3/library/functions.html#filter) recibe también como parámetros una función y un iterable, y devuelve un iterador que recorre los elementos del iterable tales que la evaluación de la función es True.\n"
   ]
  },
  {
   "cell_type": "code",
   "execution_count": null,
   "metadata": {},
   "outputs": [],
   "source": [
    "\n",
    "\n",
    "# Definimos la función is_numeric, que devuelve True si recibe un entero o un\n",
    "# flotante como argumento, y False en caso contrario\n",
    "def is_numeric(x):\n",
    "    if type(x) == float or type(x) == int:\n",
    "        return True\n",
    "    return False"
   ]
  },
  {
   "cell_type": "code",
   "execution_count": null,
   "metadata": {},
   "outputs": [],
   "source": [
    "# Definimos una lista que contiene enteros, reales, cadenas, listas y\n",
    "# un valor None\n",
    "a_list_with_str_and_nums = [1, 2, \"three\", \"four\", 5, 5.5, 6, [0, 0, 1], None]\n",
    "\n",
    "# Aplicamos filter de la lista con la función is_numeric\n",
    "r = list(filter(is_numeric, a_list_with_str_and_nums))\n",
    "print(\"The filtered list is {}\".format(r))"
   ]
  },
  {
   "cell_type": "markdown",
   "metadata": {},
   "source": [
    "### 1.4.3.- Reduce\n",
    "\n",
    "La función [`reduce`](https://docs.python.org/3/library/functools.html#functools.reduce) recibe, de nuevo, una función y un iterable. La función aplica, de manera acumulativa, la función que recibe como argumento a los elementos del iterable. La función que recibe como argumento debe ser una función que reciba dos parámetros y devuelva un único valor. Entonces, [`reduce`](https://docs.python.org/3/library/functools.html#functools.reduce) aplica la función a los dos primeros valores del iterable, después al tercer valor y al resultado de la operación anterior, etc. Por ejemplo, sea 'f' la función a aplicar y [1, 2, 3, 4] el iterable, [`reduce`](https://docs.python.org/3/library/functools.html#functools.reduce) calcularía:\n",
    "\n",
    "```\n",
    "f(f(f(1, 2), 3), 4)\n",
    "```\n",
    "\n",
    "Veamos algunos ejemplos:\n"
   ]
  },
  {
   "cell_type": "code",
   "execution_count": null,
   "metadata": {},
   "outputs": [],
   "source": [
    "# Importamos reduce del módulo functools\n",
    "from functools import reduce\n",
    "\n",
    "# Calculamos la suma de los valores de una lista\n",
    "a_list = [1, 2, 3, 4]\n",
    "reduce(sum_two_values, a_list)"
   ]
  },
  {
   "cell_type": "markdown",
   "metadata": {},
   "source": [
    "Recordad que la función `sum_two_values` recibía dos parámetros y devolvía un solo valor, correspondientes a la suma de los parámetros. Así, al aplicarla con [`reduce`](https://docs.python.org/3/library/functools.html#functools.reduce) sobre una lista, lo que obtenemos es la suma de los valores de la lista: se aplica la función `sum_two_values` los dos primeros valores, 1 y 2, lo que da como resultado 3; se vuelve a aplicar la función con 3 y 3 como argumentos (el resultado de la primera llamada a `sum_two_values` y el tercer valor de la lista), resultando con 6; y finalmente se llama a la función con 6 y 4 (el resultado de la última llamada a la función y el valor del último elemento de la lista); el resultado final es pues 10.\n",
    "\n",
    "```\n",
    "sum_two_values(sum_two_values(sum_two_values(1, 2), 3), 4) =\n",
    "= Sum_two_values(sum_two_values(3, 3), 4)\n",
    "= Sum_two_values(6, 4)\n",
    "= 10\n",
    "```\n"
   ]
  },
  {
   "cell_type": "markdown",
   "metadata": {},
   "source": [
    "De manera análoga, podemos utilizar [`reduce`](https://docs.python.org/3/library/functools.html#functools.reduce) para calcular el valor máximo de una lista, definiendo primero una función que devuelva el máximo de dos valores, y aplicándola sobre una lista con [`reduce`](https://docs.python.org/3/library/functools.html#functools.reduce).\n"
   ]
  },
  {
   "cell_type": "code",
   "execution_count": null,
   "metadata": {},
   "outputs": [],
   "source": [
    "def max_two(x, y):\n",
    "    \"\"\"Return the max of two values, max(x, y).\"\"\"\n",
    "    if x > y:\n",
    "        return x\n",
    "    else:\n",
    "        return y\n",
    "\n",
    "\n",
    "# Aplicamos reduce con max_two sobre una lista para calcular el máximo\n",
    "a_list = [10, 1, 15, 19, 30]\n",
    "reduce(max_two, a_list)"
   ]
  },
  {
   "cell_type": "markdown",
   "metadata": {},
   "source": [
    "En este caso, la ejecución del [`reduce`](https://docs.python.org/3/library/functools.html#functools.reduce) sería la siguiente:\n",
    "\n",
    "```\n",
    "max_two(max_two(max_two(max_two(10, 1), 15), 19), 30) =\n",
    "= max_two(max_two(max_two(10, 15), 19), 30) =\n",
    "= max_two(max_two(15, 19), 30) =\n",
    "= max_two(19, 30) =\n",
    "= 30\n",
    "```\n",
    "\n",
    "Veamos un tercer ejemplo de uso de [`reduce`](https://docs.python.org/3/library/functools.html#functools.reduce) que nos permite 'aplanar' listas, es decir, dada una lista de listas, obtener una lista que contenga los elementos de las listas interiores:\n"
   ]
  },
  {
   "cell_type": "code",
   "execution_count": null,
   "metadata": {},
   "outputs": [],
   "source": [
    "def join_lists(x, y):\n",
    "    \"\"\"Concatenate two lists.\"\"\"\n",
    "    return x + y\n",
    "\n",
    "\n",
    "# Llamamos join_lists con dos listas, para ver su efecto\n",
    "join_lists([1, 2], [3, 4])"
   ]
  },
  {
   "cell_type": "code",
   "execution_count": null,
   "metadata": {},
   "outputs": [],
   "source": [
    "# Usamos join_lists con reduce para aplanar una lista\n",
    "list_to_flatten = [[0], [1, 2, 3], [5]]\n",
    "reduce(join_lists, list_to_flatten)"
   ]
  },
  {
   "cell_type": "markdown",
   "metadata": {},
   "source": [
    "Opcionalmente, la función [`reduce`](https://docs.python.org/3/library/functools.html#functools.reduce) también puede recibir un tercer parámetro, que corresponde al valor inicial. Si está presente, entonces la primera llamada a la función se hace con el valor inicial y el primer valor del iterable, en vez de usar los dos primeros valores del iterable.\n"
   ]
  },
  {
   "cell_type": "code",
   "execution_count": null,
   "metadata": {},
   "outputs": [],
   "source": [
    "# Usamos reduce con sum_two_values para sumar una lista,\n",
    "# indicando 0 como valor inicial para asegurar la corrección del resultado\n",
    "a_list = [1, 2, 3, 4]\n",
    "reduce(sum_two_values, a_list, 0)"
   ]
  },
  {
   "cell_type": "code",
   "execution_count": null,
   "metadata": {},
   "outputs": [],
   "source": [
    "# Usamos el valor inicial de reduce para añadir 15 al sumatorio de una lista\n",
    "reduce(sum_two_values, a_list, 15)"
   ]
  },
  {
   "cell_type": "code",
   "execution_count": null,
   "metadata": {},
   "outputs": [],
   "source": [
    "# Usamos reduce con max_two para calcular el máximo de una lista\n",
    "# indicando 0 como valor inicial, por lo que obtendremos el máximo de la\n",
    "# lista si hay algún valor positivo o 0 si todos los números de\n",
    "# la lista son negativos\n",
    "print(reduce(max_two, [10, 1, 15, 19, 30], 0))\n",
    "print(reduce(max_two, [-5, -3, -2], 0))"
   ]
  },
  {
   "cell_type": "markdown",
   "metadata": {},
   "source": [
    "Para terminar esta sección, veremos un ejemplo que combina las tres funciones que acabamos de presentar ([`reduce`](https://docs.python.org/3/library/functools.html#functools.reduce), [`map`](https://docs.python.org/3/library/functions.html#map), y [`filter`](https://docs.python.org/3/library/functions.html#filter)). Supongamos que queremos definir una función que reciba una lista y devuelva el producto de los cuadrados de todos los elementos impares de la lista. Combinando las tres funciones que hemos visto, podemos hacer este cálculo en una sola línea:\n"
   ]
  },
  {
   "cell_type": "code",
   "execution_count": null,
   "metadata": {},
   "outputs": [],
   "source": [
    "\n",
    "\n",
    "# Definimos una función que devuelve el producto de dos valores\n",
    "def prod_two_values(x, y):\n",
    "    return x*y\n",
    "\n",
    "\n",
    "# Definimos una función que devuelve el cuadrado de un valor\n",
    "def sq(x):\n",
    "    return x**2\n",
    "\n",
    "\n",
    "# Definimos una función que devuelve True si un valor es impar\n",
    "# y False en caso contrario\n",
    "def is_odd(x):\n",
    "    return x % 2\n",
    "\n",
    "\n",
    "# Definimos la función que devuelve el producto de los cuadrados de los impares\n",
    "# de una lista\n",
    "def prod_sq_if_odd(l):\n",
    "    return reduce(prod_two_values, map(sq, filter(is_odd, l)))"
   ]
  },
  {
   "cell_type": "code",
   "execution_count": null,
   "metadata": {},
   "outputs": [],
   "source": [
    "# Ejecutamos la función prod_sq_if_odd para una lista y comprobamos\n",
    "# el resultado 'manualmente'\n",
    "a_list = [5, 9, 2, 12, 15]\n",
    "print(prod_sq_if_odd(a_list))\n",
    "print(5**2 * 9**2 * 15**2)"
   ]
  },
  {
   "cell_type": "markdown",
   "metadata": {},
   "source": [
    "## 1.5.- Funciones anónimas\n",
    "\n",
    "Las funciones anónimas son un tipo especial de funciones que no tienen nombre y que se encuentran limitadas a una sola expresión. Este tipo de funciones son útiles cuando necesitamos una función normalmente simple que no querremos reutilizar (o bien la reutilizaremos muy poco) en nuestro código, y se utilizan a menudo en combinación con las funciones de programación funcional que hemos visto en la sección anterior.\n",
    "\n",
    "Las funciones anónimas sólo pueden tener una única expresión. Esta expresión es evaluada con los argumentos cuando se llama a la función, y el resultado de esta evaluación es el valor que devuelve la función.\n",
    "\n",
    "Para definir una función anónima en Python se utiliza la palabra clave [`lambda`](https://docs.python.org/3/tutorial/controlflow.html#lambda-expressions), seguida de los parámetros de la función, unos dos puntos, y la expresión de retorno de la función. Por este motivo, también utilizamos la expresión función lambda para nombrar a las funciones anónimas.\n",
    "\n",
    "La celda siguiente muestra una función anónima que suma dos valores:\n"
   ]
  },
  {
   "cell_type": "code",
   "execution_count": null,
   "metadata": {},
   "outputs": [],
   "source": [
    "# Definimos una función lambda que suma dos valores\n",
    "lambda x, y: x+y"
   ]
  },
  {
   "cell_type": "markdown",
   "metadata": {},
   "source": [
    "Podemos llamar a una función lambda tanto directamente (rodeándola de paréntesis y pasándole los argumentos), o bien asignándole un nombre:\n"
   ]
  },
  {
   "cell_type": "code",
   "execution_count": null,
   "metadata": {},
   "outputs": [],
   "source": [
    "# Definimos una función lambda que suma dos valores y la llamamos\n",
    "# con los valores 15 y 19\n",
    "(lambda x, y: x+y)(15, 19)"
   ]
  },
  {
   "cell_type": "code",
   "execution_count": null,
   "metadata": {},
   "outputs": [],
   "source": [
    "# Definimos una función lambda y le asignamos el nombre suma,\n",
    "# dara poderla llamar posteriormente\n",
    "suma = lambda x, y: x+y\n",
    "suma(15, 19)"
   ]
  },
  {
   "cell_type": "markdown",
   "metadata": {},
   "source": [
    "Normalmente, sin embargo, encontraremos las funciones lambda dentro de otras expresiones. De hecho, el ejemplo anterior se considera mala praxis, y se incluye únicamente para ayudar en la comprensión de este tipo de funciones.\n",
    "\n",
    "Un ejemplo de una situación en la que utilizaríamos funciones anónimas es el último ejemplo de la sección anterior, donde hemos tenido que definir tres funciones muy simples, que seguramente no volveremos a utilizar en ninguna otra parte del código, a fin de poder hacer el cálculo de `prod_sq_if_odd`. Utilizando funciones anónimas, podríamos reducir la definición de la función `prod_sq_if_odd` a una sola expresión, sin necesidad de definir con anterioridad las tres funciones auxiliares como hemos hecho antes:\n"
   ]
  },
  {
   "cell_type": "code",
   "execution_count": null,
   "metadata": {},
   "outputs": [],
   "source": [
    "def prod_sq_if_odd_with_lamb(l):\n",
    "    return reduce(lambda x, y: x*y,\n",
    "                  map(lambda x: x**2,\n",
    "                      filter(lambda x: x % 2, l)))"
   ]
  },
  {
   "cell_type": "markdown",
   "metadata": {},
   "source": [
    "En este caso, en vez de definir las funciones `prod_two_values`, `sq` y `is_odd`, hemos utilizado funciones anónimas equivalentes, por lo que la definición de la función` prod_sq_if_odd_with_lamb` es mucho más compacta.\n",
    "\n",
    "A continuación, veremos cómo reescribir algunos de los otros ejemplos de programación funcional que hemos visto en este notebook usando funciones anónimas:\n"
   ]
  },
  {
   "cell_type": "code",
   "execution_count": null,
   "metadata": {},
   "outputs": [],
   "source": [
    "# Sumamos 2 a cada uno de los elementos de la lista a_list\n",
    "# utilizando una función anónima\n",
    "a_list = [1, 2, 3, 4]\n",
    "r = map(lambda x: x + 2, a_list)\n",
    "print(list(r))"
   ]
  },
  {
   "cell_type": "code",
   "execution_count": null,
   "metadata": {},
   "outputs": [],
   "source": [
    "# Convertimos las cadenas de caracteres que expresan valores numéricos\n",
    "# (posiblemente decimales) de una lista en enteros utilizando\n",
    "# una función anónima\n",
    "a_list = [\"42.45\", \"13.4\", \"12000\"]\n",
    "list(map(lambda x: int(float(x)), a_list))"
   ]
  },
  {
   "cell_type": "code",
   "execution_count": null,
   "metadata": {},
   "outputs": [],
   "source": [
    "# Filtramos de una lista los valores numéricos\n",
    "a_list_with_str_and_nums = [1, 2, \"three\", \"four\", 5, 5.5, 6, [0, 0, 1], None]\n",
    "r = list(filter(\n",
    "    lambda x: True if type(x) == float or type(x) == int else False,\n",
    "    a_list_with_str_and_nums))\n",
    "print(\"The filtered list is {}\".format(r))"
   ]
  },
  {
   "cell_type": "code",
   "execution_count": null,
   "metadata": {},
   "outputs": [],
   "source": [
    "# Calculamos el máximo de una lista con reduce y una función anónima\n",
    "# que devuelve el máximo de dos valores\n",
    "a_list = [10, 1, 15, 19, 30]\n",
    "reduce(lambda x, y: x if x > y else y, a_list)"
   ]
  },
  {
   "cell_type": "markdown",
   "metadata": {},
   "source": [
    "## 1.6.- Docstring\n",
    "\n",
    "Los *docstrings* son cadenas de texto que contienen la documentación de las funciones, entre otros objetos, en Python. Ya hemos ido utilizando *docstring* para documentar algunas de las funciones de este notebook. A continuación repasaremos algunos detalles sobre su funcionamiento y sobre las convenciones que se utilizan a la hora de escribirlos.\n",
    "\n",
    "Podemos acceder al *docstring* a través de la función `help` o, directamente, a través del atributo `doc`.\n"
   ]
  },
  {
   "cell_type": "code",
   "execution_count": null,
   "metadata": {},
   "outputs": [],
   "source": [
    "# Accedemos al docstring de la función built-in max con help\n",
    "help(max)"
   ]
  },
  {
   "cell_type": "code",
   "execution_count": null,
   "metadata": {},
   "outputs": [],
   "source": [
    "# Accedemos al docstring de la función built-in max a través del atributo doc\n",
    "max.__doc__"
   ]
  },
  {
   "cell_type": "markdown",
   "metadata": {},
   "source": [
    "Las convenciones sobre el uso de *docstring* en Python se encuentran descritas en [PEP-257](https://www.python.org/dev/peps/pep-0257/). Los *docstrings* se definen como primera sentencia dentro de la definición de la función y distinguimos entre *docstrings* de una única línea y *docstrings* multilínea.\n",
    "\n",
    "La convención en la definición de *docstrings* de una sola línea es usar triples comillas dobles para indicar el comentario (aunque no sea necesario ya que el comentario ocupe únicamente una línea), escribir las comillas de inicio y cierre en la misma línea del texto, comenzar la frase del comentario en mayúsculas y terminar en un punto, y no incluir salto de línea ni antes ni después del comentario.\n",
    "\n",
    "Así, por ejemplo, este sería un *docstring* de una sola línea que sigue las convenciones:\n"
   ]
  },
  {
   "cell_type": "code",
   "execution_count": null,
   "metadata": {},
   "outputs": [],
   "source": [
    "def sum_two_values(x, y):\n",
    "    \"\"\"Return the value of the sum of the parameters.\"\"\"\n",
    "    return x + y"
   ]
  },
  {
   "cell_type": "code",
   "execution_count": null,
   "metadata": {},
   "outputs": [],
   "source": [
    "help(sum_two_values)"
   ]
  },
  {
   "cell_type": "markdown",
   "metadata": {},
   "source": [
    "De manera similar, los *docstrings* multilínea se delimitan también con triples comillas dobles. En este caso, consisten en una línea de resumen, una línea en blanco, y luego una descripción más completa, que se puede extender varias líneas.\n",
    "\n",
    "El ***docstring* de una función debería resumir su comportamiento**, y listar sus argumentos, valor de retorno, las excepciones que puede lanzar, los efectos colaterales que puede tener su llamada, y las restricciones a tener en cuenta cuando la llamamos.\n"
   ]
  },
  {
   "cell_type": "code",
   "execution_count": null,
   "metadata": {},
   "outputs": [],
   "source": [
    "def sum_two_values(x, y=0):\n",
    "    \"\"\"Return the value of the sum of the parameters.\n",
    "\n",
    "    This function accepts up to two numbers, and returns\n",
    "    the sum of them.\n",
    "\n",
    "    Positional arguments:\n",
    "    x -- the first number\n",
    "    y -- the second number (optional, default 0)\n",
    "\n",
    "    Returns:\n",
    "    number: Sum of the values\n",
    "    \"\"\"\n",
    "    return x + y"
   ]
  },
  {
   "cell_type": "code",
   "execution_count": null,
   "metadata": {},
   "outputs": [],
   "source": [
    "help(sum_two_values)"
   ]
  },
  {
   "cell_type": "markdown",
   "metadata": {},
   "source": [
    "Hay diferentes formatos para escribir el *docstring*, que detallan cómo se deben especificar los argumentos, los valores de retorno, las excepciones, etc. Recomendamos leer el [post de stackoverflow sobre los formatos de dosctring the Python](https://stackoverflow.com/questions/3898572/what-is-the-standard-python-docstring-format) para ver algunos ejemplos (lectura opcional, para ampliar conocimientos).\n",
    "\n",
    "Por último, es importante notar que no sólo las funciones hacen uso de *docstrings* para documentar su comportamiento. Los módulos, las clases, y los métodos también se documentan con *docstring*.\n"
   ]
  },
  {
   "cell_type": "code",
   "execution_count": null,
   "metadata": {},
   "outputs": [],
   "source": [
    "# Accedemos al docstring de la clase int\n",
    "help(int)"
   ]
  },
  {
   "cell_type": "markdown",
   "metadata": {},
   "source": [
    "# 2.- Ejercicios para practicar\n",
    "\n",
    "A continuación encontraréis un conjunto de problemas que pueden servir para practicar los conceptos explicados en esta primera unidad, así como para refrescar los conceptos básicos de programación. Os recomendamos que intentéis realizar estos problemas vosotros mismos y que, una vez realizados, comparéis la solución que proponemos con vuestra solución. No dudéis en dirigir todas las dudas que surjan de la resolución de estos ejercicios o bien de las soluciones propuestas al foro del aula.\n",
    "\n",
    "1. Definid una función que reciba como parámetros dos valores (`x` e `y`) que serán dos vectores de enteros, y devuelva la distancia euclídea entre los puntos representados por los vectores. Es necesario que el cuerpo de la función contenga una única expresión, que calcule y devuelva el resultado. Los vectores pueden tener un tamaño arbitrario, pero ambos vectores tendrán el mismo número de elementos. Sólo se pueden utilizar funciones de la [librería estándar de Python](https://docs.python.org/3/library/).\n",
    "\n"
   ]
  },
  {
   "cell_type": "code",
   "execution_count": null,
   "metadata": {},
   "outputs": [],
   "source": [
    "# Respuesta"
   ]
  },
  {
   "cell_type": "markdown",
   "metadata": {},
   "source": [
    "2. Definid una función que reciba como parámetros dos valores (`x` e `y`) que serán dos vectores de enteros, y devuelva la distancia de Manhattan entre los puntos representados por los vectores. Es necesario que el cuerpo de la función contenga una única expresión, que calcule y devuelva el resultado. Los vectores pueden tener un tamaño arbitrario, pero ambos vectores tendrán el mismo número de elementos. Sólo se pueden utilizar funciones de la [librería estándar de Python](https://docs.python.org/3/library/).\n"
   ]
  },
  {
   "cell_type": "code",
   "execution_count": null,
   "metadata": {},
   "outputs": [],
   "source": [
    "# Respuesta"
   ]
  },
  {
   "cell_type": "markdown",
   "metadata": {},
   "source": [
    "3. Definid una función `compute_all_distances` que reciba como parámetros dos valores (` x` e `y`) que serán dos vectores de enteros, y devuelva una tupla de dos elementos, con las distancias euclidiana y de Manhattan entre los puntos representados por los vectores. Los vectores pueden tener un tamaño arbitrario, pero ambos vectores tendrán el mismo número de elementos. Sólo se pueden utilizar funciones de la [librería estándar de Python](https://docs.python.org/3/library/).\n",
    "\n",
    "Para ello, encapsulad el código de las funciones de las actividades anteriores dentro de la función `compute_all_distances`.\n"
   ]
  },
  {
   "cell_type": "code",
   "execution_count": null,
   "metadata": {},
   "outputs": [],
   "source": [
    "# Respuesta"
   ]
  },
  {
   "cell_type": "markdown",
   "metadata": {},
   "source": [
    "4. En la frutería del barrio tienen un problema que requiere de nuestra ayuda. Reiteradamente, se les rompen las estanterías donde ponen las naranjas, y quieren evitar que esto vuelva a pasar. Han calculado que los estantes de madera soportan sin problemas un peso de 50 kilos, y los de plástico 30 kilos, pero siempre dudan de si pueden añadir algún piso de naranjas más (ya que esto siempre luce más delante de los clientes).\n",
    "\n",
    "Las naranjas se encuentran apiladas en una pirámide de base cuadrada. Así pues, en lo alto hay una sola naranja, en el segundo piso hay 4, en el tercer piso hay 9, etc. Los pisos siempre están completos.\n",
    "\n",
    "Definid una función que reciba como parámetros el número de pisos de naranjas que quieren hacer, el peso medio de cada naranja, y el tipo de material del estante, y devuelva un booleano indicando si el estante aguantará el peso o no. La función siempre recibirá el número de pisos de naranjas, pero los parámetros de peso medio y material son opcionales, y tomarán un valor por defecto de 0.2 y madera (`\"Wood\"`), respectivamente.\n"
   ]
  },
  {
   "cell_type": "code",
   "execution_count": null,
   "metadata": {},
   "outputs": [],
   "source": [
    "# Respuesta"
   ]
  },
  {
   "cell_type": "markdown",
   "metadata": {},
   "source": [
    "5. Definid una función que pueda recibir un número de parámetros cualquiera, superior a 1, y que devuelva el resultado de sumar el resultado de aplicar la función que recibe como primer parámetro a cada uno de los otros parámetros.\n",
    "\n",
    "Por ejemplo, si la función recibe como primer argumento una función que calcula cuadrados, como segundo argumento un 5, y como tercer argumento un 10, debería devolver $ 5 ^ 2 + 10 ^ 2 = 125 $.\n",
    "\n",
    "Llamad a la función definida con los valores del ejemplo mencionado en el enunciado, y comprobad que se obtiene el resultado correcto. Compruebad también que la función devuelve los resultados esperados para una llamada con 2 argumentos y con 5 argumentos.\n"
   ]
  },
  {
   "cell_type": "code",
   "execution_count": null,
   "metadata": {},
   "outputs": [],
   "source": [
    "# Respuesta"
   ]
  },
  {
   "cell_type": "markdown",
   "metadata": {},
   "source": [
    "6. Definid una función que reciba dos parámetros, una lista de enteros y un entero, y devuelva una lista con los mismos elementos que la lista original eliminando todas las apariciones del entero especificado.\n",
    "\n",
    "\n",
    "6.1. Implementad una función que modifique la lista original. Haced una llamada a la función definida y mostrad que, efectivamente, la lista original se modifica.\n"
   ]
  },
  {
   "cell_type": "code",
   "execution_count": null,
   "metadata": {},
   "outputs": [],
   "source": [
    "# Respuesta"
   ]
  },
  {
   "cell_type": "markdown",
   "metadata": {},
   "source": [
    "6.2. Implementad una función que **no** modifique la lista original. Haced una llamada a la función definida y mostrad que, efectivamente, no se modifica la lista original.\n"
   ]
  },
  {
   "cell_type": "code",
   "execution_count": null,
   "metadata": {},
   "outputs": [],
   "source": [
    "# Respuesta"
   ]
  },
  {
   "cell_type": "markdown",
   "metadata": {},
   "source": [
    "## 2.1.- Soluciones a los ejercicios para practicar\n",
    "\n",
    "1. Definid una función que reciba como parámetros dos valores (`x` e `y`) que serán dos vectores de enteros, y devuelva la distancia euclídea entre los puntos representados por los vectores. Es necesario que el cuerpo de la función contenga una única expresión, que calcule y devuelva el resultado. Los vectores pueden tener un tamaño arbitrario, pero ambos vectores tendrán el mismo número de elementos. Sólo se pueden utilizar funciones de la [librería estándar de Python](https://docs.python.org/3/library/).\n"
   ]
  },
  {
   "cell_type": "code",
   "execution_count": null,
   "metadata": {},
   "outputs": [],
   "source": [
    "# Respuesta\n",
    "\n",
    "# Importamos math, que está en la librería estándar y permite\n",
    "# calcular raíces cuadradas\n",
    "import math\n",
    "\n",
    "\n",
    "def eucl_dist(x, y):\n",
    "    # Definimos la función, que calcula la distancia utilizando una list\n",
    "    # comprehension uniendo los valores de los vectores x e y con zip\n",
    "    return math.sqrt(sum([(coord[0]-coord[1])**2 for coord in zip(x, y)]))"
   ]
  },
  {
   "cell_type": "markdown",
   "metadata": {},
   "source": [
    "2. Definid una función que reciba como parámetros dos valores (`x` e `y`) que serán dos vectores de enteros, y devuelva la distancia de Manhattan entre los puntos representados por los vectores. Es necesario que el cuerpo de la función contenga una única expresión, que calcule y devuelva el resultado. Los vectores pueden tener un tamaño arbitrario, pero ambos vectores tendrán el mismo número de elementos. Sólo se pueden utilizar funciones de la [librería estándar de Python](https://docs.python.org/3/library/).\n"
   ]
  },
  {
   "cell_type": "code",
   "execution_count": null,
   "metadata": {},
   "outputs": [],
   "source": [
    "# Respuesta\n",
    "\n",
    "\n",
    "def manh_dist(x, y):\n",
    "    return sum([abs(coord[0]-coord[1]) for coord in zip(x, y)])"
   ]
  },
  {
   "cell_type": "markdown",
   "metadata": {},
   "source": [
    "3. Definid una función `compute_all_distances` que reciba como parámetros dos valores (` x` e `y`) que serán dos vectores de enteros, y devuelva una tupla de dos elementos, con las distancias euclidiana y de Manhattan entre los puntos representados por los vectores. Los vectores pueden tener un tamaño arbitrario, pero ambos vectores tendrán el mismo número de elementos. Sólo se pueden utilizar funciones de la [librería estándar de Python](https://docs.python.org/3/library/).\n",
    "\n",
    "Para ello, encapsulad el código de las funciones de las actividades anteriores dentro de la función `compute_all_distances`.\n"
   ]
  },
  {
   "cell_type": "code",
   "execution_count": null,
   "metadata": {},
   "outputs": [],
   "source": [
    "# Respuesta\n",
    "\n",
    "\n",
    "def compute_all_distances(x, y):\n",
    "\n",
    "    def eucl_dist(x, y):\n",
    "        return math.sqrt(sum([(coord[0]-coord[1])**2 for coord in zip(x, y)]))\n",
    "\n",
    "    def manh_dist(x, y):\n",
    "        return sum([abs(coord[0]-coord[1]) for coord in zip(x, y)])\n",
    "\n",
    "    return (eucl_dist(x, y), manh_dist(x, y))"
   ]
  },
  {
   "cell_type": "markdown",
   "metadata": {},
   "source": [
    "4. En la frutería del barrio tienen un problema que requiere de nuestra ayuda. Reiteradamente, se les rompen las estanterías donde ponen las naranjas, y quieren evitar que esto vuelva a pasar. Han calculado que los estantes de madera soportan sin problemas un peso de 50 kilos, y los de plástico 30 kilos, pero siempre dudan de si pueden añadir algún piso de naranjas más (ya que esto siempre luce más delante de los clientes).\n",
    "\n",
    "Las naranjas se encuentran apiladas en una pirámide de base cuadrada. Así pues, en lo alto hay una sola naranja, en el segundo piso hay 4, en el tercer piso hay 9, etc. Los pisos siempre están completos.\n",
    "\n",
    "Definid una función que reciba como parámetros el número de pisos de naranjas que quieren hacer, el peso medio de cada naranja, y el tipo de material del estante, y devuelva un booleano indicando si el estante aguantará el peso o no. La función siempre recibirá el número de pisos de naranjas, pero los parámetros de peso medio y material son opcionales, y tomarán un valor por defecto de 0.2 y madera (`\"Wood\"`), respectivamente.\n"
   ]
  },
  {
   "cell_type": "code",
   "execution_count": null,
   "metadata": {},
   "outputs": [],
   "source": [
    "# Respuesta\n",
    "\n",
    "\n",
    "def will_it_hold(num_floors, avg_weight=0.2, mat=\"Wood\"):\n",
    "    max_weights = {\"Wood\": 50, \"Plastic\": 30}\n",
    "    num_org = sum([i**2 for i in range(1, num_floors+1)])\n",
    "    return num_org * avg_weight <= max_weights[mat]"
   ]
  },
  {
   "cell_type": "code",
   "execution_count": null,
   "metadata": {},
   "outputs": [],
   "source": [
    "will_it_hold(7, mat=\"Wood\")"
   ]
  },
  {
   "cell_type": "markdown",
   "metadata": {},
   "source": [
    "5. Definid una función que pueda recibir un número de parámetros cualquiera, superior a 1, y que devuelva el resultado de sumar el resultado de aplicar la función que recibe como primer parámetro a cada uno de los otros parámetros.\n",
    "\n",
    "Por ejemplo, si la función recibe como primer argumento una función que calcula cuadrados, como segundo argumento un 5, y como tercer argumento un 10, debería devolver $ 5 ^ 2 + 10 ^ 2 = 125 $.\n",
    "\n",
    "Llamad a la función definida con los valores del ejemplo mencionado en el enunciado, y comprobad que se obtiene el resultado correcto. Compruebad también que la función devuelve los resultados esperados para una llamada con 2 argumentos y con 5 argumentos.\n"
   ]
  },
  {
   "cell_type": "code",
   "execution_count": null,
   "metadata": {},
   "outputs": [],
   "source": [
    "# Respuesta\n",
    "\n",
    "\n",
    "def apply_and_sum(f, *others):\n",
    "    return sum((map(f, others)))"
   ]
  },
  {
   "cell_type": "code",
   "execution_count": null,
   "metadata": {},
   "outputs": [],
   "source": [
    "apply_and_sum(lambda x: x ** 2, 5, 10)"
   ]
  },
  {
   "cell_type": "code",
   "execution_count": null,
   "metadata": {},
   "outputs": [],
   "source": [
    "apply_and_sum(lambda x: x ** 2, 1)"
   ]
  },
  {
   "cell_type": "code",
   "execution_count": null,
   "metadata": {},
   "outputs": [],
   "source": [
    "apply_and_sum(lambda x: x ** 2, 1, 2, 3, 4)"
   ]
  },
  {
   "cell_type": "markdown",
   "metadata": {},
   "source": [
    "6. Definid una función que reciba dos parámetros, una lista de enteros y un entero, y devuelva una lista con los mismos elementos que la lista original eliminando todas las apariciones del entero especificado.\n",
    "\n",
    "\n",
    "6.1. Implementad una función que modifique la lista original. Haced una llamada a la función definida y mostrad que, efectivamente, la lista original se modifica.\n"
   ]
  },
  {
   "cell_type": "code",
   "execution_count": null,
   "metadata": {},
   "outputs": [],
   "source": [
    "# Respuesta\n",
    "\n",
    "\n",
    "def delete_ints(l, i):\n",
    "    while i in l:\n",
    "        l.remove(i)\n",
    "    return l\n",
    "\n",
    "\n",
    "original_list = [101, 1001, 10, 55, 10, 1]\n",
    "print(\"List before call: {}\".format(original_list))\n",
    "new_list = delete_ints(original_list, 10)\n",
    "print(\"List after call: {}\".format(original_list))\n",
    "print(\"Return result: {}\".format(new_list))"
   ]
  },
  {
   "cell_type": "markdown",
   "metadata": {},
   "source": [
    "6.2. Implementad una función que **no** modifique la lista original. Haced una llamada a la función definida y mostrad que, efectivamente, no se modifica la lista original.\n"
   ]
  },
  {
   "cell_type": "code",
   "execution_count": null,
   "metadata": {},
   "outputs": [],
   "source": [
    "# Respuesta\n",
    "\n",
    "\n",
    "def delete_ints(l, i):\n",
    "    new_list = [e for e in l if e != i]\n",
    "    return new_list\n",
    "\n",
    "\n",
    "original_list = [101, 1001, 10, 55, 10, 1]\n",
    "print(\"List before call: {}\".format(original_list))\n",
    "new_list = delete_ints(original_list, 10)\n",
    "print(\"List after call: {}\".format(original_list))\n",
    "print(\"Return result: {}\".format(new_list))"
   ]
  },
  {
   "cell_type": "markdown",
   "metadata": {},
   "source": [
    "# 3.- Bibliografía\n",
    "\n",
    "## 3.1.- Bibliografía básica\n",
    "\n",
    "Os recomendamos revisar la documentación oficial de las funciones y clases descritas en esta unidad, que encontraréis enlazadas en cada uno de los apartados que las describen.\n",
    "\n",
    "## 3.2.- Bibliografía adicional - Ampliación de conocimientos\n",
    "\n",
    "Para profundizar en el funcionamiento del paso de parámetros en funciones en Python, se recomienda consultar [este post de medium](https://medium.com/@tyastropheus/tricky-python-ii-parameter-passing-for-mutable-immutable-objects-10e968cbda35)\n",
    "\n",
    "Al notebook hemos visto cómo definir funciones dentro de funciones y las consecuencias que esto tiene sobre la visibilidad de las variables. También hemos comentado una de las utilidades de esta definición, que es la de encapsular código. Otra de las utilidades es la definición de *closures*. Si desea conocer esta construcción, se recomienda la lectura del artículo [Python nested functions](https://stackabuse.com/python-nested-functions/).\n",
    "\n",
    "Como hemos comentado, hay diferentes formatos para escribir el *docstring*. Recomendamos leer el [post de stackoverflow sobre los formatos de dosctring the Python](https://stackoverflow.com/questions/3898572/what-is-the-standard-python-docstring-format) para ver algunos ejemplos .\n"
   ]
  }
 ],
 "metadata": {
  "language_info": {
   "name": "python"
  }
 },
 "nbformat": 4,
 "nbformat_minor": 2
}
