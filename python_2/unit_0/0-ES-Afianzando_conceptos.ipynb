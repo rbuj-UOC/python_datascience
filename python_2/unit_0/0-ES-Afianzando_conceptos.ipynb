{
 "cells": [
  {
   "cell_type": "markdown",
   "metadata": {},
   "source": [
    "<div style=\"width: 100%; clear: both;\">\n",
    "    <div style=\"float: left; width: 50%;\">\n",
    "       <img src=\"http://www.uoc.edu/portal/_resources/common/imatges/marca_UOC/UOC_Masterbrand.jpg\", align=\"left\">\n",
    "    </div>\n",
    "</div>\n",
    "\n",
    "<div style=\"float: right; width: 50%;\">\n",
    "    <p style=\"margin: 0; padding-top: 22px; text-align:right;\">22.503 · Programación para la ciencia de datos</p>\n",
    "    <p style=\"margin: 0; text-align:right;\">Grado en Ciencia de Datos Aplicada</p>\n",
    "    <p style=\"margin: 0; text-align:right; padding-button: 100px;\">Estudios de Informática, Multimedia y Telecomunicación</p>\n",
    "</div>\n",
    "\n",
    "</div>\n",
    "<div style=\"width: 100%; clear: both;\">\n",
    "<div style=\"width:100%;\">&nbsp;</div>"
   ]
  },
  {
   "cell_type": "markdown",
   "metadata": {},
   "source": [
    "Programación para la ciencia de datos\n",
    "============================\n",
    "\n",
    "--- \n",
    "\n",
    "Unidad 0: Afianzando conceptos\n",
    "-----------------------------------------------------\n",
    "\n",
    "---\n",
    "\n",
    "### Instrucciones de uso\n",
    "\n",
    "Este documento es un notebook interactivo que intercala explicaciones más bien teóricas de conceptos de programación con fragmentos de código ejecutables. Para aprovechar las ventajas que aporta este formato, se recomienda, en primer lugar, leer las explicaciones y el código que os proporcionamos. De esta manera tendréis un primer contacto con los conceptos que se exponen. Ahora bien, **¡la lectura es solo el principio!** Una vez que hayáis leído el contenido proporcionado, no olvidéis ejecutar el código proporcionado y modificarlo para crear variantes, que os permitan comprobar que habéis entendido su funcionalidad y explorar los detalles de la implementación. Por último, se recomienda también consultar la documentación enlazada para explorar con más profundidad las funcionalidades de los módulos presentados.\n"
   ]
  },
  {
   "cell_type": "markdown",
   "metadata": {},
   "source": [
    "### Introducción\n",
    "\n",
    "En esta unidad se repasan algunos de los conceptos básicos de programación Python que se han visto en la asignatura Fundamentos de Programación (FP), con el objetivo de afianzar los conceptos aprendidos y formalizarlos.\n",
    "\n",
    "Si no habéis cursado la asignatura FP, se recomienda revisar los notebooks de aquella asignatura antes de seguir con el contenido de este notebook. Aunque aquí se explican los conceptos antes de formalizarlos, os aconsejamos revisar también la introducción más práctica que se proporciona en Fundamentos de programación, así como los ejemplos contextualizados en la ciencia de datos que allí se proporcionan.\n",
    "\n",
    "Por otro lado, si ya habéis cursado la asignatura FP, este notebook debería servir, en primer lugar, como repaso de algunos de los conceptos más importantes de programación Python y, en segundo lugar, para reflexionar sobre estos conceptos y ver algunos detalles más formales que se pasaron por alto en la asignatura previa.\n",
    "\n",
    "En este notebook se presentan, en primer lugar, las estructuras de datos básicos para almacenar colecciones en Python: las listas, las tuplas, los diccionarios y los conjuntos (revisad los notebooks de la asignatura FP si necesitáis repasar los tipos básicos de Python: enteros, flotantes, etc.).\n",
    "\n",
    "Después, se explican dos conceptos que ya se han usado en FP, pero que no se han explicado formalmente hasta ahora: los iterables y la programación orientada a objetos.\n",
    "\n",
    "A continuación, se revisan las instrucciones básicas de control de flujo de ejecución en Python: las estructuras alternativas, las iterativas, y las funciones.\n",
    "\n",
    "Seguidamente, se presenta el PEP8, la guía de estilo de Python, y se explica cómo incorporar herramientas que nos ayuden a seguirla en los notebooks de jupyter.\n",
    "\n",
    "Finalmente, se incluyen un conjunto de actividades para practicar, que permitirán poner en práctica lo explicado hasta ahora.\n",
    "\n",
    "A continuación se incluye la tabla de contenidos, que se puede utilizar para navegar por el documento:\n",
    "\n",
    "<ul style=\"list-style-type:none\">\n",
    "    <li><a href='#1.--Estructuras-de-datos-para-almacenar-colecciones-de-valores'>1. Estructuras de datos para almacenar colecciones de valores</a></li>\n",
    "    <ul style=\"list-style-type:none\">\n",
    "        <li><a href='#1.1.--Listas'>1.1. Listas</a></li> \n",
    "        <ul style=\"list-style-type:none\">\n",
    "            <li><a href=\"#1.1.1--List-slicing\">1.1.1 List slicing</a></li>\n",
    "            <li><a href=\"#1.1.2--List-comprehensions\">1.1.2 List comprehensions</a></li>\n",
    "        </ul>\n",
    "        <li><a href='#1.2.--Tuplas'>1.2. Tuplas</a></li>\n",
    "        <li><a href='#1.3.--Diccionarios'>1.3. Diccionarios</a></li>\n",
    "        <li><a href='#1.4.--Conjuntos'>1.4. Conjuntos</a></li>\n",
    "    </ul>\n",
    "    <li><a href='#2.--Iterables'>2. Iterables</a></li>\n",
    "    <li><a href='#3.--Una-pincelada-de-programación-orientada-a-objetos'>3. Una pincelada de programación orientada a objetos</a></li>\n",
    "    <li><a href=\"#4.--Control-de-flujo-de-ejecución\">4. Control de flujo de ejecución</a></li>\n",
    "    <ul style=\"list-style-type:none\">\n",
    "        <li><a href=\"#4.1.--Estructuras-de-control-alternativas\">4.1. Estructuras de control alternativas</a></li>\n",
    "        <li><a href=\"#4.2.--Estructuras-de-control-iterativas\">4.2. Estructuras de control iterativas</a></li>\n",
    "        <li><a href=\"#4.3.--Funciones\">4.3. Funciones</a></li>\n",
    "    </ul>\n",
    "    <li><a href=\"#5.--Guía-de-estilo\">5. Guía de estilo</a></li>\n",
    "    <li><a href=\"#6.--Ejercicios-para-practicar\">6. Ejercicios para practicar</a></li>\n",
    "    <ul style=\"list-style-type:none\">\n",
    "        <li><a href=\"#6.1.--Soluciones-a-los-ejercicios-para-practicar\">6.1. Soluciones a los ejercicios para practicar</a></li>\n",
    "    </ul>\n",
    "</ul>\n"
   ]
  },
  {
   "cell_type": "markdown",
   "metadata": {},
   "source": [
    "# 1.- Estructuras de datos para almacenar colecciones de valores"
   ]
  },
  {
   "cell_type": "markdown",
   "metadata": {},
   "source": [
    "Python dispone de varias estructuras de datos que permiten almacenar colecciones de valores. Cada una de estas estructuras tiene unas propiedades diferentes y, por tanto, será útil para solucionar diferentes problemas.\n",
    "\n",
    "## 1.1.- Listas\n",
    "\n",
    "Una **lista** en Python es una colección **ordenada** de valores, posiblemente **heterogéneos**. Las listas se pueden modificar (son **mutables**), y permiten almacenar elementos **duplicados**.\n",
    "\n",
    "Los elementos de una lista se encuentran ordenados, de tal manera que el primer elemento se encuentra indexado con el 0, el segundo con el 1, etc. El último elemento de la lista es pues indexado como el número de elementos de la lista menos uno."
   ]
  },
  {
   "cell_type": "code",
   "execution_count": null,
   "metadata": {},
   "outputs": [],
   "source": [
    "# Las listas pueden ser heterogéneas y tener duplicados\n",
    "a_list = [1, 1, 3.5, \"strings also\", [None, 4]]\n",
    "print(\"The list is:\\n\\t{}\".format(a_list))\n",
    "\n",
    "# Las listas son mutables y ordenadas\n",
    "a_list.append(5)\n",
    "a_list.remove(3.5)\n",
    "print(\"After appending 5 and removing 3.5:\\n\\t{}\".format(a_list))"
   ]
  },
  {
   "cell_type": "markdown",
   "metadata": {},
   "source": [
    "Hacemos ahora un repaso rápido a los métodos implementados para las listas (encontraréis el detalle de todos los métodos [aquí](https://docs.python.org/3/tutorial/datastructures.html#more-on-lists)). Podemos añadir elementos al final de un lista con `append` o en cualquier posición con `insert`. También podemos eliminar un elemento de una lista a partir de su posición con `pop` o bien a partir de su valor con `remove` (`remove` elimina el primer elemento de la lista que coincide con el valor especificado). Dos listas se pueden concatenar con `extend` o bien con el operador de suma `+`."
   ]
  },
  {
   "cell_type": "code",
   "execution_count": null,
   "metadata": {},
   "outputs": [],
   "source": [
    "# Añadimos un elemento al final de la lista\n",
    "a_list.append(41)\n",
    "print(\"After appending 41:\\n\\t{}\".format(a_list))\n",
    "\n",
    "# Añadimos un elemento al inicio de la lista\n",
    "a_list.insert(0, -1)\n",
    "print(\"After inserting -1:\\n\\t{}\".format(a_list))\n",
    "\n",
    "# Eliminamos el primer elemento\n",
    "a_list.pop(0)\n",
    "print(\"After removing the first element:\\n\\t{}\".format(a_list))\n",
    "\n",
    "# Eliminamos el elemento \"strings also\"\n",
    "a_list.remove(\"strings also\")\n",
    "print(\"After removing 'strings also':\\n\\t{}\".format(a_list))\n",
    "\n",
    "# Concatena la lista con ella misma\n",
    "a_list = a_list + a_list\n",
    "print(\"After duplicating the list:\\n\\t{}\".format(a_list))"
   ]
  },
  {
   "cell_type": "markdown",
   "metadata": {},
   "source": [
    "También podemos recuperar la posición del primer elemento de una lista que tiene un cierto valor con `index`, o bien contar el número de veces que aparece un determinado elemento con `count`."
   ]
  },
  {
   "cell_type": "code",
   "execution_count": null,
   "metadata": {},
   "outputs": [],
   "source": [
    "# Recuperamos el índice de la primera aparición del valor 5\n",
    "i = a_list.index(5)\n",
    "print(\"First 5 is in position:\\n\\t{}\".format(i))\n",
    "\n",
    "# Contamos el número de veces que el valor 1 aparece en la lista\n",
    "c = a_list.count(1)\n",
    "print(\"The number of 1s is:\\n\\t{}\".format(c))"
   ]
  },
  {
   "cell_type": "markdown",
   "metadata": {},
   "source": [
    "### 1.1.1- List slicing\n",
    "\n",
    "La técnica de _list slicing_ nos permite acceder a subconjuntos de elementos de una lista de manera sencilla y compacta. La sintaxis completa de _list slicing_ consta del nombre de la variable que contiene la lista, seguida de `[X:Y:Z]`, donde `X` representa el inicio del fragmento que queremos recuperar,` Y` el final del fragmento y `Z` el paso o granularidad del fragmento:"
   ]
  },
  {
   "cell_type": "code",
   "execution_count": null,
   "metadata": {},
   "outputs": [],
   "source": [
    "a_list = [\"A\", \"B\", \"C\", \"D\", \"E\", \"F\"]\n",
    "print(a_list)\n",
    "\n",
    "# Mostramos los elementos en las posiciones de 0 a 2, saltando de uno en uno\n",
    "print(a_list[0:3:1])\n",
    "# Mostramos los elementos en las posiciones de 2 a 4, saltando de uno en uno\n",
    "print(a_list[2:5:1])\n",
    "# Mostramos los elementos en las posiciones de 0 a 4, saltando de dos en dos\n",
    "print(a_list[0:5:2])"
   ]
  },
  {
   "cell_type": "markdown",
   "metadata": {},
   "source": [
    "Fijaos como el elemento inicial se incluye en el resultado, mientras que el elemento final no. Es decir, si indicamos que queremos los elementos `[0:3:1]`, se incluirán los elementos con índices 0, 1 y 2; y si indicamos `[2:5:1]` los elementos con índice 2, 3 y 4.\n",
    "\n",
    "El tercer valor (`Z`) nos permite indicar la granularidad de la selección: en los dos primeros ejemplos hemos elegido todos los elementos en los intervalos especificados (paso 1). En cambio, en el tercer ejemplo se saltan los elementos de 2 en 2, por lo que se incluyen los elementos con índices 0, 2 y 4.\n",
    "\n",
    "Python permite omitir algunos de los valores en la especificación del *slicing*. Así, si se omite el inicio o el final del fragmento, se interpreta que seleccionamos el inicio de la lista o el final de la lista. Del mismo modo, si omitimos el paso se interpreta que este es 1:"
   ]
  },
  {
   "cell_type": "code",
   "execution_count": null,
   "metadata": {},
   "outputs": [],
   "source": [
    "# Omitimos el paso: mostramos los elementos en las posiciones de 2 a 4,\n",
    "# saltando de uno en uno\n",
    "print(a_list[2:5])\n",
    "\n",
    "# Omitimos el inicio y el paso: mostramos los elementos desde el inicio hasta\n",
    "# la posición 2, saltando de uno en uno\n",
    "print(a_list[:3])\n",
    "\n",
    "# Omitimos el inicio y el final: mostramos todos los elementos, saltando de dos\n",
    "# en dos\n",
    "print(a_list[::2])"
   ]
  },
  {
   "cell_type": "markdown",
   "metadata": {},
   "source": [
    "Como último apunte, es interesante notar que podemos utilizar valores negativos en los índices. Así, por ejemplo, si queremos recorrer una lista en orden inverso, podemos hacerlo usando un paso de `-1`:"
   ]
  },
  {
   "cell_type": "code",
   "execution_count": null,
   "metadata": {},
   "outputs": [],
   "source": [
    "print(a_list[::-1])"
   ]
  },
  {
   "cell_type": "markdown",
   "metadata": {},
   "source": [
    "### 1.1.2- List comprehensions\n",
    "\n",
    "Una de las funcionalidades más usadas de las listas son las **_list comprehensions_**, que permiten crear listas con expresiones muy concisas. Con las _list comprehensions_ se pueden crear nuevas listas a partir de una (o varias) listas originales, operando sobre los valores originales y/o filtrándolos. La sintaxis de una _list comprehension_ consta de unos corchetes (que definen la lista), que contienen al menos una cláusula `for` y que pueden tener también cláusulas `if`. Veámoslo con algunos ejemplos:"
   ]
  },
  {
   "cell_type": "code",
   "execution_count": null,
   "metadata": {},
   "outputs": [],
   "source": [
    "nums = range(10)\n",
    "print(list(nums))\n",
    "\n",
    "# Sintaxis básica con un solo for\n",
    "nums_plus_3 = [n + 3 for n in nums]\n",
    "print(nums_plus_3)"
   ]
  },
  {
   "cell_type": "markdown",
   "metadata": {},
   "source": [
    "A partir de la lista original, que contiene números del 0 al 9, hemos creado una _list comprehension_ que genera una nueva lista que contiene los números de la lista original sumando tres a cada valor. Fijaos cómo, con este tipo de expresiones, podemos obtener listas de la misma longitud que las listas originales, pero que contienen el resultado de aplicar una función a los valores originales. Veamos algunos ejemplos más:"
   ]
  },
  {
   "cell_type": "code",
   "execution_count": null,
   "metadata": {},
   "outputs": [],
   "source": [
    "# Creamos una lista con los cuadrados de la lista original\n",
    "nums_squared = [n**2 for n in nums]\n",
    "print(nums_squared)\n",
    "\n",
    "\n",
    "# Creamos una lista con los valores (i + 1) / (i - 1) para cada i de la\n",
    "# lista original\n",
    "def long_exp(i):\n",
    "    if i != 1:\n",
    "        r = (i + 1) / (i - 1)\n",
    "    else:\n",
    "        r = 0\n",
    "    return r\n",
    "\n",
    "\n",
    "nums_f = [long_exp(n) for n in nums]\n",
    "print(nums_f)\n",
    "\n",
    "# Creamos una lista con cadenas de caracteres \"Num: n\" para cada n de la\n",
    "# lista original\n",
    "nums_str = [\"Num: \" + str(n) for n in nums]\n",
    "print(nums_str)"
   ]
  },
  {
   "cell_type": "markdown",
   "metadata": {},
   "source": [
    "Tened en cuenta que una _list comprehension_ puede evaluar una función (en el segundo ejemplo de la celda anterior, se evalúa la función `long_exp` para cada valor de la lista `nums`). Ahora bien, ¿podríamos obtener el mismo resultado sin definir la función `long_exp`? Para hacerlo, podríamos usar una expresión `if` en una sola línea para obtener el mismo resultado sin tener que definir la función `long_exp`:"
   ]
  },
  {
   "cell_type": "code",
   "execution_count": null,
   "metadata": {},
   "outputs": [],
   "source": [
    "nums_f2 = [(n+1)/(n-1) if n != 1 else 0 for n in nums]"
   ]
  },
  {
   "cell_type": "markdown",
   "metadata": {},
   "source": [
    "Así pues, hemos utilizado la sintaxis compacta del `if`, reduciéndolo a una sola línea de código. Fijaos que hemos aprovechado que los siguientes dos bloques de código son equivalentes:"
   ]
  },
  {
   "cell_type": "code",
   "execution_count": null,
   "metadata": {},
   "outputs": [],
   "source": [
    "i = 5\n",
    "\n",
    "# Bloque 1:\n",
    "if i != 1:\n",
    "    r = (i + 1) / (i - 1)\n",
    "else:\n",
    "    r = 0\n",
    "\n",
    "# Bloque 2:\n",
    "r = (i+1)/(i-1) if i != 1 else 0"
   ]
  },
  {
   "cell_type": "markdown",
   "metadata": {},
   "source": [
    "Es importante notar también que la lista que hemos creado, `nums_f2` tiene tantos elementos como tenía la lista `nums` sobre la que hemos iterado.\n",
    "\n",
    "Las _list comprehension_ también pueden incluir **condicionales** que sirven para filtrar qué valores de la (o las) listas originales se consideran en la creación de la nueva lista. En estos casos, la lista resultante tendrá una longitud igual o menor a la de la lista original, en función del número de veces que se cumpla la condición del `if`:"
   ]
  },
  {
   "cell_type": "code",
   "execution_count": null,
   "metadata": {},
   "outputs": [],
   "source": [
    "# Creamos una nueva lista que contiene únicamente los valores pares de la\n",
    "# lista nums\n",
    "nums_even = [n for n in nums if not n % 2]\n",
    "print(\"nums:\\t\\t{}\".format(list(nums)))\n",
    "print(\"nums_even:\\t{}\".format(nums_even))\n",
    "print(\"nums has {} elements and nums_even has {} elements\\n\".\n",
    "      format(len(nums), len(nums_even)))\n",
    "\n",
    "# Creamos una nueva lista a partir de a_list que contiene solo elementos\n",
    "# que son enteros\n",
    "a_list_of_ints = [n for n in a_list if type(n) == int]\n",
    "print(\"a_list:\\t\\t{}\".format(a_list))\n",
    "print(\"a_list_of_ints:\\t{}\".format(a_list_of_ints))\n",
    "print(\"a_list has {} elements and a_list_of_ints has {} elements\\n\".\n",
    "      format(len(a_list), len(a_list_of_ints)))\n",
    "\n",
    "# Creamos una nueva lista a partir de una lista de números escritos en letras\n",
    "# que contiene los números tales que su expresión requiere más letras que el\n",
    "# propio número\n",
    "num_words = [\"zero\", \"one\", \"two\", \"three\", \"four\", \"five\", \"six\",\n",
    "             \"seven\"]\n",
    "num_words_c = [w for i, w in enumerate(num_words) if len(w) > i]\n",
    "print(\"num_words:\\t{}\".format(num_words))\n",
    "print(\"num_words_c:\\t{}\".format(num_words_c))\n",
    "print(\"a_list has {} elements and num_words_c has {} elements\".\n",
    "      format(len(num_words), len(num_words_c)))"
   ]
  },
  {
   "cell_type": "markdown",
   "metadata": {},
   "source": [
    "En el último ejemplo de la celda anterior, hemos utilizado `enumerate` en combinación con la _list comprehension_ para generar el resultado deseado. La función `enumerate` aplicada sobre una lista devuelve otra lista de la misma longitud con tuplas de dos valores: el primer valor es el índice del elemento en la lista original, y el segundo valor es el elemento en cuestión:"
   ]
  },
  {
   "cell_type": "code",
   "execution_count": null,
   "metadata": {},
   "outputs": [],
   "source": [
    "# Observemos el resultado de enumerate\n",
    "list(enumerate(['one', 'two', 'three']))"
   ]
  },
  {
   "cell_type": "markdown",
   "metadata": {},
   "source": [
    "Así, en cada iteración, la variable `i` contenía el índice del elemento y la variable` w` contenía el elemento. La condición que hemos aplicado era cierta si el número de letras de la palabra (`len(w)`) era superior al índice (`i`)."
   ]
  },
  {
   "cell_type": "markdown",
   "metadata": {},
   "source": [
    "Las _list comprehension_ no se limitan a una sola expresión `for`. Podemos utilizar más de una para construir una lista a partir de valores de varios iterables:"
   ]
  },
  {
   "cell_type": "code",
   "execution_count": null,
   "metadata": {},
   "outputs": [],
   "source": [
    "list_1 = [1, 2, 3]\n",
    "list_2 = [10, 100]\n",
    "\n",
    "# Creamos una lista de tuplas con las parejas de valores\n",
    "# de list_1 y list_2\n",
    "list_pairs = [(l1, l2) for l1 in list_1 for l2 in list_2]\n",
    "print(list_pairs)\n",
    "\n",
    "# Creamos una lista sumando las posibles combinaciones de valores\n",
    "# de list_1 y list_2\n",
    "lists_sum = [l1 + l2 for l1 in list_1 for l2 in list_2]\n",
    "print(lists_sum)\n",
    "\n",
    "# Creamos una lista de todas las palabras de 3 letras que se pueden hacer\n",
    "# con las letras A, B y C\n",
    "abc = [\"A\", \"B\", \"C\"]\n",
    "lists_let = [l1 + l2 + l3\n",
    "             for l1 in abc for l2 in abc for l3 in abc]\n",
    "print(lists_let)"
   ]
  },
  {
   "cell_type": "markdown",
   "metadata": {},
   "source": [
    "Finalmente, veamos un último ejemplo que combina tanto múltiples `for` como condiciones en una _list comprehension_:"
   ]
  },
  {
   "cell_type": "code",
   "execution_count": null,
   "metadata": {},
   "outputs": [],
   "source": [
    "# Creamos una lista de todas las palabras de 3 letras que se pueden hacer\n",
    "# con las letras A, B y C y donde la primera y última letras son diferentes\n",
    "lists_let = [l1 + l2 + l3\n",
    "             for l1 in abc for l2 in abc for l3 in abc if l1 != l3]\n",
    "print(lists_let)"
   ]
  },
  {
   "cell_type": "markdown",
   "metadata": {},
   "source": [
    "## 1.2.- Tuplas\n",
    "\n",
    "Las **tuplas** en Python son colecciones también **ordenadas** de elementos, posiblemente **heterogéneos** y con valores **duplicados**. Ahora bien, a diferencia de las listas, las tuplas son **inmutables**. Esto implica que una vez definidas, no podremos añadir ni eliminar elementos de una tupla, ni tampoco modificarlos:"
   ]
  },
  {
   "cell_type": "code",
   "execution_count": null,
   "metadata": {},
   "outputs": [],
   "source": [
    "# Definimos una tupla usando paréntesis\n",
    "# Las tuplas pueden ser heterogéneas y tener duplicados\n",
    "a_tuple = (1, 1, 3.5, \"strings also\", [None, 4])\n",
    "print(\"The tuple is:\\n\\t{}\".format(a_tuple))\n",
    "\n",
    "# También podemos omitir los paréntesis en la definición de una tupla\n",
    "the_same_tuple = 1, 1, 3.5, \"strings also\", [None, 4]\n",
    "print(\"The tuple is:\\n\\t{}\".format(the_same_tuple))\n",
    "\n",
    "print(\"Are they equal:\\n\\t{}\".format(a_tuple == the_same_tuple))\n",
    "\n",
    "# Las tuplas son colecciones ordenadas:\n",
    "print(\"First element is:\\n\\t{}\".format(a_tuple[0]))\n",
    "print(\"Second element is:\\n\\t{}\".format(a_tuple[1]))\n",
    "print(\"Third element is:\\n\\t{}\".format(a_tuple[2]))"
   ]
  },
  {
   "cell_type": "code",
   "execution_count": null,
   "metadata": {},
   "outputs": [],
   "source": [
    "# Las tuplas son inmutables\n",
    "try:\n",
    "    del a_tuple[0]\n",
    "except TypeError as e:\n",
    "    print(e)\n",
    "\n",
    "try:\n",
    "    a_tuple[0] = \"New value\"\n",
    "except TypeError as e:\n",
    "    print(e)"
   ]
  },
  {
   "cell_type": "markdown",
   "metadata": {},
   "source": [
    "## 1.3.- Diccionarios\n",
    "\n",
    "Los **diccionarios** en Python son colecciones **sin orden** de elementos, posiblemente **heterogéneos** y **sin duplicados**.\n",
    "\n",
    "Los **diccionarios** son la implementación, en Python, de la estructura de datos que conocemos con el nombre de *array asociativo* o *map*. Los diccionarios son colecciones de pares clave-valor, que además de las operaciones básicas de inserción, modificación y eliminación, también permiten recuperar los datos almacenados a través de la clave. La característica principal de esta estructura de datos es que no puede haber claves repetidas (cada clave aparece, como mucho, una única vez, y tiene por tanto un único valor asociado)."
   ]
  },
  {
   "cell_type": "code",
   "execution_count": null,
   "metadata": {},
   "outputs": [],
   "source": [
    "# Intentamos crear un diccionario con una clave repetida (a)\n",
    "dict_0 = {\"a\": 0, \"b\": 1, \"a\": 2}\n",
    "# Comprobamos como el diccionario tiene una única clave a:\n",
    "dict_0"
   ]
  },
  {
   "cell_type": "markdown",
   "metadata": {},
   "source": [
    "Ahora bien, un diccionario sí puede tener valores repetidos:"
   ]
  },
  {
   "cell_type": "code",
   "execution_count": null,
   "metadata": {},
   "outputs": [],
   "source": [
    "dict_0 = {\"a\": 0, \"b\": 0, \"c\": 0}\n",
    "dict_0"
   ]
  },
  {
   "cell_type": "markdown",
   "metadata": {},
   "source": [
    "Hacemos ahora un repaso rápido a los métodos implementados para los diccionarios (encontraréis el detalle de todos los métodos [aquí](https://docs.python.org/3.8/library/stdtypes.html#dict)). Podemos añadir elementos a un diccionario asignando el valor a la clave. Esta misma sintaxis sirve para actualizar los valores de un diccionario. También podemos eliminar un elemento de un diccionario a partir de su clave con `del`."
   ]
  },
  {
   "cell_type": "code",
   "execution_count": null,
   "metadata": {},
   "outputs": [],
   "source": [
    "# Añadimos un elemento a dict_0\n",
    "print(\"dict_0 is:\\n\\t{}\".format(dict_0))\n",
    "dict_0[\"d\"] = 42\n",
    "print(\"After adding d, dict_0 is:\\n\\t{}\".format(dict_0))\n",
    "\n",
    "# Actualizamos un elemento de dict_0\n",
    "dict_0['a'] = -5\n",
    "print(\"After updating a, dict_0 is:\\n\\t{}\".format(dict_0))\n",
    "\n",
    "# Eliminamos un elemento de dict_0\n",
    "del dict_0['b']\n",
    "print(\"After deleting b, dict_0 is:\\n\\t{}\".format(dict_0))"
   ]
  },
  {
   "cell_type": "markdown",
   "metadata": {},
   "source": [
    "Podemos recuperar todas las claves de un diccionario con el método `keys`, todos los valores con `values`, y ambos conjuntos de valores con `items`:"
   ]
  },
  {
   "cell_type": "code",
   "execution_count": null,
   "metadata": {},
   "outputs": [],
   "source": [
    "print(\"dict_0 is:\\n\\t{}\".format(dict_0))\n",
    "\n",
    "print(\"dict_0 keys are:\\n\\t{}\".format(dict_0.keys()))\n",
    "\n",
    "print(\"dict_0 values are:\\n\\t{}\".format(dict_0.values()))\n",
    "\n",
    "print(\"dict_0 items are:\\n\\t{}\".format(dict_0.items()))"
   ]
  },
  {
   "cell_type": "markdown",
   "metadata": {},
   "source": [
    "Podemos iterar sobre los elementos de un diccionario utilizando `keys`,` values` o `items`, o bien iterando directamente sobre el diccionario (que es equivalente a iterar sobre sus claves):"
   ]
  },
  {
   "cell_type": "code",
   "execution_count": null,
   "metadata": {},
   "outputs": [],
   "source": [
    "# Veamos tres construcciones equivalentes que permiten mostrar\n",
    "# las claves y los valores de un diccionario\n",
    "\n",
    "# Opción 1: iteramos sobre el diccionario directamente\n",
    "for k in dict_0:\n",
    "    print(\"{}: {}\".format(k, dict_0[k]))\n",
    "print(\"\\n\")\n",
    "\n",
    "# Opción 2: iteramos sobre las claves del diccionario\n",
    "for k in dict_0.keys():\n",
    "    print(\"{}: {}\".format(k, dict_0[k]))\n",
    "print(\"\\n\")\n",
    "\n",
    "# Opción 3: iteramos sobre los items (pares de clave-valor)\n",
    "for k, v in dict_0.items():\n",
    "    # Tened en cuenta que aquí ya tenemos el elemento v, no es necesario\n",
    "    # recuperarlo haciendo dict_0[k]\n",
    "    print(\"{}: {}\".format(k, v))\n",
    "print(\"\\n\")\n",
    "\n",
    "# También podemos iterar solo sobre los valores del diccionario\n",
    "for value in dict_0.values():\n",
    "    print(value)"
   ]
  },
  {
   "cell_type": "markdown",
   "metadata": {},
   "source": [
    "Los diccionarios pueden contener otros diccionarios. Esto permite tener variables con estructuras complejas. Por ejemplo, imaginad que queremos guardar las velocidades máximas a las que se puede circular por autopista, carretera y ciudad en España y en Francia. Una alternativa sería usar un diccionario para guardar las velocidades de cada tipo de vía, y un segundo diccionario que guarde el diccionario de velocidades para cada país:"
   ]
  },
  {
   "cell_type": "code",
   "execution_count": null,
   "metadata": {},
   "outputs": [],
   "source": [
    "speeds = {\n",
    "    \"Spain\": {\"motorway\": 120, \"road\": 90, \"city\": 50},\n",
    "    \"France\": {\"motorway\": 130, \"road\": 80, \"city\": 50}\n",
    "}\n",
    "\n",
    "# Recuperamos el diccionario de las velocidades de España\n",
    "print(speeds[\"Spain\"])\n",
    "# Consultamos la velocidad máxima en carretera en Francia\n",
    "print(speeds[\"France\"][\"road\"])"
   ]
  },
  {
   "cell_type": "markdown",
   "metadata": {},
   "source": [
    "Los diccionarios de Python no tienen orden, es decir, los pares de clave-valor no se encuentran ordenados dentro de la estructura de datos. Así pues, dos diccionarios creados con pares de clave-valor iguales pero en órdenes diferentes, se consideran iguales:"
   ]
  },
  {
   "cell_type": "code",
   "execution_count": null,
   "metadata": {},
   "outputs": [],
   "source": [
    "# Creamos dos diccionarios con el mismo contenido, pero\n",
    "# en orden diferente\n",
    "dict_1 = {\"a\": 0, \"b\": 1, \"c\": 2}\n",
    "dict_2 = {\"b\": 1, \"a\": 0, \"c\": 2}\n",
    "# Comprobamos si los dos diccionarios son iguales\n",
    "print(dict_1 == dict_2)"
   ]
  },
  {
   "cell_type": "markdown",
   "metadata": {},
   "source": [
    "Ahora bien, a partir de la versión 3.6 de Python, la implementación de los diccionarios preserva el orden de inserción de los elementos. Es decir, cuando recorremos el diccionario, la implementación nos devuelve los elementos en el orden que fueron insertados. A partir de la versión 3.7 y posteriores, este comportamiento se ha declarado como oficial y, por lo tanto, podemos crear código que asuma que los diccionarios mantienen el orden de inserción de sus elementos:"
   ]
  },
  {
   "cell_type": "code",
   "execution_count": null,
   "metadata": {},
   "outputs": [],
   "source": [
    "# Creamos un diccionario\n",
    "dict_3 = {\"Key_\" + str(num): \"Value_\" + str(num+1) for num in range(10)}\n",
    "\n",
    "# Mostramos el contenido del diccionario en el orden en que items() devuelve\n",
    "# los elementos\n",
    "for k, v in dict_3.items():\n",
    "    print(\"{}: {}\".format(k, v))"
   ]
  },
  {
   "cell_type": "code",
   "execution_count": null,
   "metadata": {},
   "outputs": [],
   "source": [
    "# Borramos tres entradas del diccionario\n",
    "del(dict_3[\"Key_5\"])\n",
    "del(dict_3[\"Key_8\"])\n",
    "del(dict_3[\"Key_1\"])\n",
    "\n",
    "# Añadimos dos nuevas entradas en el diccionario\n",
    "dict_3[\"Key_10\"] = \"Value_10\"\n",
    "dict_3[\"Key_11\"] = \"Value_11\"\n",
    "\n",
    "# Modificamos el valor de Key_0\n",
    "dict_3[\"Key_0\"] = \"New value does not change position\"\n",
    "\n",
    "# Finalmente, mostramos el contenido del diccionario siguiendo\n",
    "# el orden devuelto por items()\n",
    "for k, v in dict_3.items():\n",
    "    print(\"{}: {}\".format(k, v))"
   ]
  },
  {
   "cell_type": "markdown",
   "metadata": {},
   "source": [
    "En el ejemplo anterior podemos ver cómo actualizar el valor de un elemento del diccionario (`Key_0`) no altera su orden (`Key_0` sigue siendo el primer elemento). Los elementos añadidos posteriormente (`Key_10` y` Key_11`) se muestran al final del diccionario, en el orden en que se han insertado."
   ]
  },
  {
   "cell_type": "markdown",
   "metadata": {},
   "source": [
    "### 1.3.1- _Dict comprehensions_\n",
    "\n",
    "De una manera similar a las _list comprehensions_ podemos utilizar _dict comprehensions_ para crear nuevos diccionarios con una sintaxis compacta. La sintaxis de una _dict comprehension_ consta de unas llaves (que definen el diccionario), que contienen al menos una cláusula `for` y que pueden tener también cláusulas `if`. Se deberá especificar cuál es la clave y cuál es el valor para cada entrada del diccionario (a diferencia de las listas, donde sólo había que especificar el valor de cada elemento). Veámoslo con algunos ejemplos:"
   ]
  },
  {
   "cell_type": "code",
   "execution_count": null,
   "metadata": {},
   "outputs": [],
   "source": [
    "# Definimos un diccionario sobre el que iterar\n",
    "dict_4 = {1.0: \"one\", 2.0: \"two\", 3.0: \"three\", 4.0: \"four\", 5.0: \"five\"}\n",
    "print(\"Original dict:\\n\\t{}\".format(dict_4))\n",
    "\n",
    "# Iteramos sobre las claves y creamos un nuevo diccionario con las mismas\n",
    "# claves y \"number\" como valor (para todos los elementos)\n",
    "dict_5 = {k: \"number\" for k in dict_4.keys()}\n",
    "print(\"dict_5:\\n\\t{}\".format(dict_5))\n",
    "\n",
    "# Iteramos sobre los valores y creamos un nuevo diccionario utilizando\n",
    "# los valores como clave y \"new\" como valor (para todos los elementos)\n",
    "dict_6 = {v: \"new\" for v in dict_4.values()}\n",
    "print(\"dict_6:\\n\\t{}\".format(dict_6))\n",
    "\n",
    "# Iteramos sobre los items y creamos un nuevo diccionario con las claves\n",
    "# convertidas a entero y los valores con un ! final\n",
    "dict_7 = {int(k): v + \"!\" for (k, v) in dict_4.items()}\n",
    "print(\"dict_7:\\n\\t{}\".format(dict_7))"
   ]
  },
  {
   "cell_type": "markdown",
   "metadata": {},
   "source": [
    "A partir del diccionario original, hemos creado tres diccionarios nuevos utilizando _dict comprehensions_:\n",
    "\n",
    "* Hemos creado el diccionario `dict_5` iterando sobre las claves del diccionario original. El diccionario `dict_5` contiene las mismas claves que el diccionario original, pero todos los valores asociados a estas claves son iguales (la cadena de caracteres `'number'`).\n",
    "\n",
    "* Hemos creado el diccionario `dict_6` iterando sobre los valores del diccionario original. El diccionario `dict_6` tiene como claves los valores del diccionario original, y como valor todas tienen la misma cadena de caracteres (`'new'`). Tened en cuenta que, en este caso, el diccionario resultante tiene el mismo tamaño que el diccionario original ya que los valores del diccionario original no se encontraban repetidos.\n",
    "\n",
    "* Hemos creado el diccionario `dict_7` iterando sobre los items (pares de clave-valor) del diccionario original. El diccionario `dict_7` tiene como claves las mismas claves que el diccionario original pero convertidas a enteros, y como valor los mismos valores que el diccionario original, pero terminados en un signo de exclamación.\n",
    "\n",
    "Fijaos cómo, con este tipo de expresiones, podemos obtener diccionarios de la misma longitud que los diccionarios originales, y podemos operar sobre las claves y los valores. Veamos algunos ejemplos más:"
   ]
  },
  {
   "cell_type": "code",
   "execution_count": null,
   "metadata": {},
   "outputs": [],
   "source": [
    "# Creamos un diccionario con las mismas claves que el diccionario original\n",
    "# pero pasadas a entero, y como valor guardamos la longitud del valor\n",
    "# original (es decir, el número de letras de la palabra)\n",
    "dict_8 = {int(k): len(v) for (k, v) in dict_4.items()}\n",
    "print(\"dict_8:\\n\\t{}\".format(dict_8))\n",
    "\n",
    "# Creamos un diccionario con las mismas claves que el diccionario original\n",
    "# pero pasadas a entero, y como valor guardamos el número de veces que\n",
    "# aparece la letra e en el valor\n",
    "dict_9 = {int(k): v.count(\"e\") for (k, v) in dict_4.items()}\n",
    "print(\"dict_9:\\n\\t{}\".format(dict_9))\n",
    "\n",
    "# Creamos un diccionario con los valores del diccionario original en mayúsculas\n",
    "# como clave, y como valor guardamos la longitud del valor original (es\n",
    "# decir, el número de letras de la palabra)\n",
    "dict_10 = {v.upper(): len(v) for (k, v) in dict_4.items()}\n",
    "print(\"dict_10:\\n\\t{}\".format(dict_10))"
   ]
  },
  {
   "cell_type": "markdown",
   "metadata": {},
   "source": [
    "Del mismo modo que en las _list comprehensions_, las _dict comprehensions_ pueden incluir condicionales que permiten filtrar qué elementos del diccionario original queremos considerar en la creación del nuevo diccionario. Así, el diccionario resultante tendrá una longitud igual o menor a la del diccionario original:"
   ]
  },
  {
   "cell_type": "code",
   "execution_count": null,
   "metadata": {},
   "outputs": [],
   "source": [
    "# Creamos un diccionario con las mismas claves que el diccionario original\n",
    "# pero pasadas a entero, y los mismos valores, incluyendo solo los elementos\n",
    "# que tienen alguna e en el valor\n",
    "dict_11 = {int(k): v for (k, v) in dict_4.items() if v.count(\"e\")}\n",
    "print(\"dict_11:\\n\\t{}\".format(dict_11))\n",
    "\n",
    "# Creamos un diccionario que tiene como clave las claves originales pasadas a\n",
    "# entero y sumando 10, y como valor el mismo valor concatenado con \" + ten\",\n",
    "# incluyendo solo las claves impares\n",
    "dict_12 = {int(k) + 10: v + \" + ten\"\n",
    "           for (k, v) in dict_4.items() if int(k) % 2}\n",
    "print(\"dict_12:\\n\\t{}\".format(dict_12))"
   ]
  },
  {
   "cell_type": "markdown",
   "metadata": {},
   "source": [
    "Por último, las _dict comprehensions_ también pueden contener más de una cláusula `for`, lo que permite combinar los contenidos de varios diccionarios en la construcción del nuevo diccionario. Veamos un ejemplo de una baraja de cartas:"
   ]
  },
  {
   "cell_type": "code",
   "execution_count": null,
   "metadata": {},
   "outputs": [],
   "source": [
    "# Definimos los 4 palos y el símbolo que los representa\n",
    "suits = {\"hearts\": \"\\u2665\", \"tiles\": \"\\u2666\",\n",
    "         \"clovers\": \"\\u2663\", \"pikes\": \"\\u2660\"}\n",
    "# Definimos los posibles valores de las cartas\n",
    "ranks = {\"2\": 2, \"3\": 3, \"4\": 4, \"5\": 5, \"6\": 6, \"7\": 7,\n",
    "         \"8\": 8, \"9\": 9, \"10\": 10, \"J\": 11, \"Q\": 12, \"K\": 13, \"A\": 14}\n",
    "# Definimos una posible asignación de valores a los palos\n",
    "suit_cod = {\"hearts\": 1, \"tiles\": 2, \"clovers\": 3, \"pikes\": 4}"
   ]
  },
  {
   "cell_type": "code",
   "execution_count": null,
   "metadata": {},
   "outputs": [],
   "source": [
    "# Creamos un diccionario que contendrá todas las cartas de la baraja, con\n",
    "# el símbolo del palo y el número de carta como clave, y el número de carta\n",
    "# como valor\n",
    "card_deck = {r_k + s_v: r_v\n",
    "             for (s_k, s_v) in suits.items() for (r_k, r_v) in ranks.items()}\n",
    "print(card_deck)"
   ]
  },
  {
   "cell_type": "code",
   "execution_count": null,
   "metadata": {},
   "outputs": [],
   "source": [
    "# Creamos un diccionario que contendrá todas las cartas de la baraja, con\n",
    "# el símbolo del palo y el número de carta como clave, y una codificación\n",
    "# única como valor\n",
    "card_deck_cod = {r_k + s_v: 100 * suit_cod[s_k] + r_v\n",
    "                 for (s_k, s_v) in suits.items()\n",
    "                 for (r_k, r_v) in ranks.items()}\n",
    "print(card_deck_cod)"
   ]
  },
  {
   "cell_type": "markdown",
   "metadata": {},
   "source": [
    "## 1.4.- Conjuntos\n",
    "\n",
    "Hay una cuarta estructura de datos que permite almacenar colecciones de valores en Python: los conjuntos.\n",
    "Los **conjuntos** en Python, como veremos en la próxima unidad, son colecciones **sin orden** de elementos, posiblemente **heterogéneos** y **sin duplicados**."
   ]
  },
  {
   "cell_type": "markdown",
   "metadata": {},
   "source": [
    "# 2.- Iterables\n",
    "\n",
    "¿Qué tienen en común las tuplas, las listas y los diccionarios que hemos visto en el apartado anterior o, incluso, las cadenas de caracteres?"
   ]
  },
  {
   "cell_type": "code",
   "execution_count": null,
   "metadata": {},
   "outputs": [],
   "source": [
    "# Definimos una lista, una tupla, un diccionario y una cadena de caracteres\n",
    "a_list = [1, 2, 3, 4]\n",
    "a_tuple = (1, 2, 3, 4)\n",
    "a_dict = {\"one\": 1, \"two\": 2, \"three\": 3, \"four\": 4}\n",
    "a_str = \"1234\"\n",
    "\n",
    "# Recorremos las estructuras con un for y mostramos su contenido\n",
    "for e in a_list:\n",
    "    print(e, end=\" \")\n",
    "print()\n",
    "\n",
    "for e in a_tuple:\n",
    "    print(e, end=\" \")\n",
    "print()\n",
    "\n",
    "for e in a_dict:\n",
    "    print(e, end=\" \")\n",
    "print()\n",
    "\n",
    "for e in a_str:\n",
    "    print(e, end=\" \")\n",
    "print()"
   ]
  },
  {
   "cell_type": "markdown",
   "metadata": {},
   "source": [
    "Todos ellos son objetos iterables en Python. Un objeto **iterable** es un objeto que implementa un método que devuelve un iterador sobre el objeto. Un **iterador** es un objeto que implementa el método `next`, que devuelve el siguiente elemento del contenedor iterable hasta que ya no quedan más elementos, momento en que lanza una excepción. Es decir, cuando estamos haciendo:"
   ]
  },
  {
   "cell_type": "code",
   "execution_count": null,
   "metadata": {},
   "outputs": [],
   "source": [
    "for e in a_list:\n",
    "    print(e, end=\" \")"
   ]
  },
  {
   "cell_type": "markdown",
   "metadata": {},
   "source": [
    "internamente se está ejecutando un código similar al siguiente:"
   ]
  },
  {
   "cell_type": "code",
   "execution_count": null,
   "metadata": {},
   "outputs": [],
   "source": [
    "# Se crea un iterador de la lista\n",
    "list_iterator = iter(a_list)\n",
    "print(type(list_iterator))\n",
    "\n",
    "# Se va llamando el método next() del iterador hasta que se produce\n",
    "# una excepción de tipo StopIteration\n",
    "while True:\n",
    "    try:\n",
    "        e = next(list_iterator)\n",
    "        print(e, end=\" \")\n",
    "    except StopIteration:\n",
    "        break"
   ]
  },
  {
   "cell_type": "markdown",
   "metadata": {},
   "source": [
    "Hay varias funciones en Python que operan sobre iterables y que nos pueden ser útiles a la hora de procesar datos.\n",
    "\n",
    "La función [`zip`](https://docs.python.org/3.8/library/functions.html#zip) actúa sobre un conjunto de iterables, devolviendo un iterador de tuplas, donde la tupla número _i_ contiene los elementos en la posición *i* de cada uno de los iterables:"
   ]
  },
  {
   "cell_type": "code",
   "execution_count": null,
   "metadata": {},
   "outputs": [],
   "source": [
    "# Definimos dos listas\n",
    "nums = [1, 2, 3]\n",
    "strs = [\"one\", \"two\", \"three\"]\n",
    "\n",
    "# Usamos zip para crear una lista con tuplas de dos elementos,\n",
    "# uno de cada una de las listas\n",
    "nums_and_strs = zip(nums, strs)\n",
    "print(list(nums_and_strs))"
   ]
  },
  {
   "cell_type": "markdown",
   "metadata": {},
   "source": [
    "Esta función puede recibir cualquier número de iterables, y devolverá una lista de tuplas de tantos elementos como iterables ha recibido:"
   ]
  },
  {
   "cell_type": "code",
   "execution_count": null,
   "metadata": {},
   "outputs": [],
   "source": [
    "nums_floats = {1.0: 1, 2.0: 2, 3.0: 3, 4.0: 4, 5.0: 5}\n",
    "nums_in_klingon = (\"wa\", \"cha\", \"wej\")\n",
    "\n",
    "# Usamos zip para crear una lista con tuplas de cuatro elementos,\n",
    "# uno de cada una de las listas\n",
    "nums_and_strs = list(zip(nums, strs, nums_floats, nums_in_klingon))\n",
    "print(nums_and_strs)\n",
    "print(\"The result has {} elements\".format(len(nums_and_strs)))\n",
    "print(\"Each tuple has {} elements\".format(len(nums_and_strs[0])))\n",
    "print(\"The first tuple is: {}\".format(nums_and_strs[0]))"
   ]
  },
  {
   "cell_type": "markdown",
   "metadata": {},
   "source": [
    "Es importante notar, por una parte, que `zip` trabaja con cualquier tipo de iterables (fijaos que en el último ejemplo combinamos el uso de listas, diccionarios y tuplas) y, por otra parte, que el resultado contendrá tantos elementos como elementos tenga el iterable más pequeño (tened en cuenta que, aunque la lista `nums_floats` tiene 5 elementos, el resultado solo tiene 3).\n",
    "\n",
    "Ya hemos visto también la función [`enumerate`](https://docs.python.org/3.8/library/functions.html#enumerate), que también actúa sobre iterables y devuelve un iterador de tuplas de dos elementos, donde la tupla número _i_ contiene el valor _i_ (la posición del elemento dentro del iterable) y el elemento:"
   ]
  },
  {
   "cell_type": "code",
   "execution_count": null,
   "metadata": {},
   "outputs": [],
   "source": [
    "list(enumerate(nums_in_klingon))"
   ]
  },
  {
   "cell_type": "markdown",
   "metadata": {},
   "source": [
    "Las funciones [`any`](https://docs.python.org/3.8/library/functions.html#any) y [`all`](https://docs.python.org/3.8/library/functions.html#all) actúan también sobre iterables y devuelven un booleano que nos indica si hay algún valor dentro del iterable que evalúa a True y si todos los valores dentro del iterable evalúan a True, respectivamente:"
   ]
  },
  {
   "cell_type": "code",
   "execution_count": null,
   "metadata": {},
   "outputs": [],
   "source": [
    "# Definimos una lista con todo True\n",
    "a_list_of_trues = [True, True, True, True]\n",
    "# Definimos una lista con algunos valores False y un True\n",
    "a_list_with_a_true = [False, False, True, False]\n",
    "\n",
    "print(\"Any on a list of trues:\\t\\t{}\".format(any(a_list_of_trues)))\n",
    "print(\"Any on a list with a True:\\t{}\".format(any(a_list_with_a_true)))\n",
    "\n",
    "print(\"All on a list of trues:\\t\\t{}\".format(all(a_list_of_trues)))\n",
    "print(\"All on a list with a True:\\t{}\".format(all(a_list_with_a_true)))"
   ]
  },
  {
   "cell_type": "markdown",
   "metadata": {},
   "source": [
    "Las funciones pueden trabajar sobre iterables que contienen elementos no booleanos (diferentes de `True` y` False`). En estos casos, su conversión a booleano se tiene en cuenta:"
   ]
  },
  {
   "cell_type": "code",
   "execution_count": null,
   "metadata": {},
   "outputs": [],
   "source": [
    "a_list_of_true_eqs = [True, 1, 2, 3, \"something\", 5.3]\n",
    "a_list_of_false_eqs = [False, 0, 0.3, \"\"]\n",
    "\n",
    "print(\"All on a list of elements that evaluate to True:\\t{}\".\n",
    "      format(all(a_list_of_true_eqs)))\n",
    "print(\"Any on a list of elements that evaluate to False:\\t{}\".\n",
    "      format(all(a_list_of_false_eqs)))"
   ]
  },
  {
   "cell_type": "markdown",
   "metadata": {},
   "source": [
    "# 3.- Una pincelada de programación orientada a objetos\n",
    "\n",
    "\n",
    "Habremos oído hablar y tendremos una intuición de que son las clases, los objetos y los métodos en Python. ¿Qué significan, sin embargo, estos conceptos? Aunque en otras asignaturas daremos un tratamiento más formal, aquí intentaremos presentar un resumen de los conceptos más básicos para empezar a entender cómo funciona Python.\n",
    "\n",
    "Las clases y los objetos son conceptos básicos del paradigma de **programación orientada a objetos**. Python es un lenguaje orientado a objetos, así como Ruby, Scala, Java o C ++, entre otros.\n",
    "\n",
    "Una **clase** es un prototipo, una plantilla, para crear **objetos** (instancias de la plantilla).\n",
    "\n",
    "Así, por ejemplo, ya conocemos la clase `int` o la clase `float`, que nos permiten crear objetos con valores enteros o reales, respectivamente."
   ]
  },
  {
   "cell_type": "code",
   "execution_count": null,
   "metadata": {},
   "outputs": [],
   "source": [
    "# Ya conocemos la clase int, que representa valores enteros\n",
    "an_int = int(5)\n",
    "# an_int es una instancia de la clase int\n",
    "print(type(an_int))\n",
    "\n",
    "# La clase int tiene un método bit_length que devuelve el número\n",
    "# de bits necesarios para almacenar el entero\n",
    "an_int.bit_length()"
   ]
  },
  {
   "cell_type": "code",
   "execution_count": null,
   "metadata": {},
   "outputs": [],
   "source": [
    "# Ya conocemos la clase float, que representa valores reales\n",
    "a_float = float(5.0)\n",
    "# a_float es una instancia de la clase float\n",
    "print(type(a_float))\n",
    "\n",
    "# La clase float tiene un método is_integer que devuelve un booleano\n",
    "# indicando si el valor almacenado es o no un entero\n",
    "a_float.is_integer()"
   ]
  },
  {
   "cell_type": "markdown",
   "metadata": {},
   "source": [
    "Así, las variables `an_int` o `a_float` son instancias de las clases `int` y `float`. Las clases tienen definidos unos **métodos**, que podemos llamar con la sintaxis `instancia.nombre_del_método()`. Cada clase tiene definido un conjunto de métodos: por ejemplo, la clase `int` dispone del método `bit_length` y la clase `float` del método `is_integer`."
   ]
  },
  {
   "cell_type": "markdown",
   "metadata": {},
   "source": [
    "Más allá de utilizar clases ya definidas, Python también nos permite crear nuestras propias clases. Veamos un ejemplo: vamos a crear la clase `tea` que nos permitirá representar tés. De cada té, guardaremos el nombre, el tipo y el tiempo de infusión ideal. Esto serán **atributos** de cada instancia de la clase té, ya que cada instancia (cada té individual) tendrá sus propios valores de estas variables. De un té, querremos saber sus datos, lo querremos infusionar, y querremos saber si es compatible con otro té. Esto son comportamientos asociados al té, que implementaremos a través de métodos. Todos los tés se sirven en tazas (`cup`), independientemente del tipo de té que sean. Por lo tanto, la clase tiene tendrá un atributo de clase que informará de ello, y que será común a todas las instancias de la clase:"
   ]
  },
  {
   "cell_type": "code",
   "execution_count": null,
   "metadata": {},
   "outputs": [],
   "source": [
    "from time import sleep\n",
    "\n",
    "\n",
    "class tea:\n",
    "\n",
    "    # Definimos el atributo de clase recipient\n",
    "    recipient = 'cup'\n",
    "\n",
    "    def __init__(self, name, type_of_tea, brewing_time):\n",
    "        # Definimos los atributos de instancia name, type_of_tea y brewing_time\n",
    "        self.name = name\n",
    "        self.type_of_tea = type_of_tea\n",
    "        self.brewing_time = brewing_time\n",
    "\n",
    "    # Definimos el método de instancia print_me\n",
    "    def print_me(self):\n",
    "        print(\"{} is a {} tea (brewing time {} seconds) served in a {}\".format(\n",
    "            self.name, self.type_of_tea, self.brewing_time, self.recipient))\n",
    "\n",
    "    # Definimos el método de instancia brew\n",
    "    def brew(self):\n",
    "        sleep(self.brewing_time)\n",
    "\n",
    "    # Definimos el método de instancia can_be_mixed\n",
    "    def can_be_mixed(self, another_tea):\n",
    "        return self.type_of_tea == another_tea.type_of_tea"
   ]
  },
  {
   "cell_type": "code",
   "execution_count": null,
   "metadata": {},
   "outputs": [],
   "source": [
    "# Creamos tres instancias de la clase té\n",
    "morning_tea = tea(\"Earl grey\", \"Black\", 4)\n",
    "exotic_tea = tea(\"Chai late\", \"Black\", 4)\n",
    "jap_tea = tea(\"Sencha\", \"Green\", 2)\n",
    "jap_tea_2 = tea(\"Matcha\", \"Red\", 3)\n",
    "\n",
    "# Ejecutamos el método print_me de las tres instancias (observamos como cada\n",
    "# de ellas contiene los atributos de instancia que hemos indicado al crear las\n",
    "# instancias)\n",
    "morning_tea.print_me()\n",
    "exotic_tea.print_me()\n",
    "jap_tea.print_me()\n",
    "jap_tea_2.print_me()\n",
    "print(\"\\n\")\n",
    "\n",
    "# Hemos detectado un error en los atributos del té Matcha, y procedemos a\n",
    "# modificarlos: fijaos como el cambio solo afecta a los atributos del\n",
    "# té Matcha, y no a los atributos de ninguno de los otros tés\n",
    "jap_tea_2.type_of_tea = \"Green\"\n",
    "jap_tea_2.brewing_time = 1\n",
    "morning_tea.print_me()\n",
    "exotic_tea.print_me()\n",
    "jap_tea.print_me()\n",
    "jap_tea_2.print_me()\n",
    "\n",
    "# Ejecutamos el método brew de jap_tea (esperemos 2 segundos)\n",
    "jap_tea.brew()\n",
    "\n",
    "# Ejecutamos el método can_be_mixed de morning_tea para comprobar si es\n",
    "# compatible con exotic_tea\n",
    "morning_tea.can_be_mixed(exotic_tea)"
   ]
  },
  {
   "cell_type": "markdown",
   "metadata": {},
   "source": [
    "Fijaos como este paradigma de programación permite **encapsular** código. Por ejemplo, el programador puede infusionar un té o comprobar si dos tés son compatibles sin saber cómo funcionan internamente estos métodos (no tiene porque saber el tiempo de infusionado de cada té o cuáles son las condiciones que deben cumplirse para que dos tés sean compatibles, simplemente llama a los métodos que ya incorporan el comportamiento).\n",
    "\n",
    "Es interesante notar también que los métodos los llamamos utilizando la sintaxis `instancia.nombre_del_método()`, a excepción del método `__init__`. Este es un método especial que llamamos **constructor**, y que define cómo construimos las instancias de cada clase. En este caso, necesitamos tres parámetros, `name`,` type_of_tea`, y `brewing_time`, que especificaremos cuando construimos el objeto:\n",
    "\n",
    "```\n",
    "morning_tea = tea(\"Earl grey\", \"Black\", 4)\n",
    "exotic_tea = tea(\"Chai late\", \"Black\", 4)\n",
    "jap_tea = tea(\"Sencha\", \"Green\", 2)\n",
    "jap_tea_2 = tea(\"Matcha\", \"Red\", 3)\n",
    "```\n",
    "\n",
    "Durante el curso no necesitaremos crear nuestras propias clases, pero sí utilizaremos las clases que las librerías de Python nos proporcionan para trabajar. Por lo tanto, no es imprescindible entender todos los detalles de cómo definimos clases, pero sí es importante entender qué es un objeto, como podemos llamar a los métodos que este implementa y cómo podemos acceder a sus atributos."
   ]
  },
  {
   "cell_type": "markdown",
   "metadata": {},
   "source": [
    "# 4.- Control de flujo de ejecución\n",
    "\n",
    "\n",
    "Si no incluimos alguna instrucción que indique lo contrario, los programas en Python ejecutan las instrucciones secuencialmente, una tras otra (de arriba a abajo):"
   ]
  },
  {
   "cell_type": "code",
   "execution_count": null,
   "metadata": {},
   "outputs": [],
   "source": [
    "print(\"Pedestrian arrives to intersection\")\n",
    "print(\"Pedestrian crosses the street\")\n",
    "print(\"Pedestrian arrives to destination\")"
   ]
  },
  {
   "cell_type": "markdown",
   "metadata": {},
   "source": [
    "Las tres instrucciones anteriores, que contienen un `print` de un mensaje, se ejecutan secuencialmente: el peatón llega a la intersección, luego cruza la calle y finalmente llega al destino.\n",
    "\n",
    "Existen una serie de instrucciones que nos permiten alterar este flujo secuencial de los programas: las estructuras de control **alternativas** o condicionales (con `if-elif-else`) y las estructuras de control **iterativas** o bucles (con `for` o bien` while`).\n",
    "\n",
    "## 4.1.- Estructuras de control alternativas\n",
    "\n",
    "La instrucción [`if`](https://docs.python.org/3.8/tutorial/controlflow.html#if-statements) nos permite ejecutar un bloque de código si se cumple una determinada condición. Si la condición no se cumple, se pueden comprobar condiciones adicionales con cláusulas `elif` o bien se puede ejecutar un segundo bloque de código especificado en la cláusula` else`. Las cláusulas `elif` y` else` son opcionales."
   ]
  },
  {
   "cell_type": "code",
   "execution_count": null,
   "metadata": {},
   "outputs": [],
   "source": [
    "light_color = \"green\"\n",
    "\n",
    "print(\"Pedestrian arrives to intersection\")\n",
    "\n",
    "if light_color == 'green':\n",
    "    print(\"Pedestrian crosses the street\")\n",
    "    print(\"Pedestrian arrives to destination\")"
   ]
  },
  {
   "cell_type": "markdown",
   "metadata": {},
   "source": [
    "En la celda de código anterior, el semáforo se encuentra en verde. El peatón llega al paso de peatones y, como el semáforo está en verde, se cumple la condición del `if` (`light_color == 'green'`), por lo que el peatón cruza la calle y llega a su destino.\n",
    "\n",
    "En cambio, en la celda siguiente el semáforo se encuentra en amarillo. Cuando el peatón llega al paso de peatones, la condición del `if` no se cumple, y el bloque de código dentro del `if` no se ejecuta."
   ]
  },
  {
   "cell_type": "code",
   "execution_count": null,
   "metadata": {},
   "outputs": [],
   "source": [
    "light_color = \"yellow\"\n",
    "\n",
    "print(\"Pedestrian arrives to intersection\")\n",
    "\n",
    "if light_color == 'green':\n",
    "    print(\"Pedestrian crosses the street\")\n",
    "    print(\"Pedestrian arrives to destination\")"
   ]
  },
  {
   "cell_type": "markdown",
   "metadata": {},
   "source": [
    "Los dos ejemplos anteriores solo tenían una cláusula `if`. Podemos incluir también una cláusula `else` que especifique qué hacer si la condición no se cumple:"
   ]
  },
  {
   "cell_type": "code",
   "execution_count": null,
   "metadata": {},
   "outputs": [],
   "source": [
    "light_color = \"green\"\n",
    "\n",
    "print(\"Pedestrian arrives to intersection\")\n",
    "\n",
    "if light_color == 'green':\n",
    "    print(\"Pedestrian crosses the street\")\n",
    "    print(\"Pedestrian arrives to destination\")\n",
    "else:\n",
    "    print(\"Pedestrian remains still\")"
   ]
  },
  {
   "cell_type": "code",
   "execution_count": null,
   "metadata": {},
   "outputs": [],
   "source": [
    "light_color = \"yellow\"\n",
    "\n",
    "print(\"Pedestrian arrives to intersection\")\n",
    "\n",
    "if light_color == 'green':\n",
    "    print(\"Pedestrian crosses the street\")\n",
    "    print(\"Pedestrian arrives to destination\")\n",
    "else:\n",
    "    print(\"Pedestrian remains still\")"
   ]
  },
  {
   "cell_type": "markdown",
   "metadata": {},
   "source": [
    "También podemos incluir cláusulas `elif` con condiciones adicionales:"
   ]
  },
  {
   "cell_type": "code",
   "execution_count": null,
   "metadata": {},
   "outputs": [],
   "source": [
    "light_color = \"green\"\n",
    "\n",
    "print(\"Pedestrian arrives to intersection\")\n",
    "\n",
    "if light_color == 'green':\n",
    "    print(\"Pedestrian crosses the street\")\n",
    "    print(\"Pedestrian arrives to destination\")\n",
    "elif light_color == 'yellow':\n",
    "    print(\"Pedestrian gets ready to cross\")\n",
    "else:\n",
    "    print(\"Pedestrian remains still\")"
   ]
  },
  {
   "cell_type": "code",
   "execution_count": null,
   "metadata": {},
   "outputs": [],
   "source": [
    "light_color = \"yellow\"\n",
    "\n",
    "print(\"Pedestrian arrives to intersection\")\n",
    "\n",
    "if light_color == 'green':\n",
    "    print(\"Pedestrian crosses the street\")\n",
    "    print(\"Pedestrian arrives to destination\")\n",
    "elif light_color == 'yellow':\n",
    "    print(\"Pedestrian gets ready to cross\")\n",
    "else:\n",
    "    print(\"Pedestrian remains still\")"
   ]
  },
  {
   "cell_type": "code",
   "execution_count": null,
   "metadata": {},
   "outputs": [],
   "source": [
    "light_color = \"red\"\n",
    "\n",
    "print(\"Pedestrian arrives to intersection\")\n",
    "\n",
    "if light_color == 'green':\n",
    "    print(\"Pedestrian crosses the street\")\n",
    "    print(\"Pedestrian arrives to destination\")\n",
    "elif light_color == 'yellow':\n",
    "    print(\"Pedestrian gets ready to cross\")\n",
    "else:\n",
    "    print(\"Pedestrian remains still\")"
   ]
  },
  {
   "cell_type": "markdown",
   "metadata": {},
   "source": [
    "Las condiciones de un `if` pueden ser tan complejas como sea necesario: cualquier expresión que evalúe a `True` o `False` se puede incluir en una cláusula `if`. Además, podemos incluir estructuras `if-elif-else` dentro de otras estructuras, a fin de generar flujos de ejecución complejos."
   ]
  },
  {
   "cell_type": "code",
   "execution_count": null,
   "metadata": {},
   "outputs": [],
   "source": [
    "light_color = \"green\"\n",
    "car_blocking_pass = True\n",
    "pedestrian_distracted = False\n",
    "\n",
    "print(\"Pedestrian arrives to intersection\")\n",
    "\n",
    "if light_color == 'green' and not pedestrian_distracted:\n",
    "    if not car_blocking_pass:\n",
    "        print(\"Pedestrian crosses the street\")\n",
    "        print(\"Pedestrian arrives to destination\")\n",
    "    else:\n",
    "        print(\"Pedestrian yells!\")\n",
    "elif light_color == 'yellow' and not pedestrian_distracted:\n",
    "    print(\"Pedestrian gets ready to cross\")\n",
    "else:\n",
    "    print(\"Pedestrian remains still\")"
   ]
  },
  {
   "cell_type": "markdown",
   "metadata": {},
   "source": [
    "Os aconsejamos que modifiquéis los valores de las variables del código de la celda anterior y vayáis ejecutando el código, para comprobar cómo se comporta en cada situación.\n",
    "\n",
    "\n",
    "## 4.2.- Estructuras de control iterativas\n",
    "\n",
    "Las estructuras de control iterativas permiten ejecutar un mismo bloque de código varias veces.\n",
    "\n",
    "La instrucción [`while`](https://docs.python.org/3.8/reference/compound_stmts.html#the-while-statement) permite ejecutar un fragmento de código varias veces, mientras se cumpla una condición:"
   ]
  },
  {
   "cell_type": "code",
   "execution_count": null,
   "metadata": {},
   "outputs": [],
   "source": [
    "light_color = \"red\"\n",
    "its_before_color_change = 10\n",
    "\n",
    "print(\"Pedestrian arrives to intersection\")\n",
    "\n",
    "while light_color != \"green\":\n",
    "\n",
    "    print(\"Pedestrian remains still\")\n",
    "\n",
    "    if light_color == 'yellow':\n",
    "        print(\"Pedestrian gets ready to cross\")\n",
    "        light_color = \"green\"\n",
    "    else:\n",
    "        its_before_color_change = its_before_color_change - 1\n",
    "        if its_before_color_change == 0:\n",
    "            light_color = \"yellow\"\n",
    "\n",
    "print(\"Pedestrian crosses the street\")\n",
    "print(\"Pedestrian arrives to destination\")"
   ]
  },
  {
   "cell_type": "markdown",
   "metadata": {},
   "source": [
    "En el fragmento anterior, el código de dentro del `while` se ejecuta mientras el semáforo no sea verde. La lógica de condicionales dentro del `if` hace que el semáforo pase de rojo a amarillo después de 10 iteraciones, y que el semáforo pase de amarillo a verde a la siguiente iteración.\n",
    "\n",
    "La instrucción [`for`](https://docs.python.org/3.8/reference/compound_stmts.html#the-for-statement) también permite crear bucles, en este caso iterando sobre una secuencia de objetos:"
   ]
  },
  {
   "cell_type": "code",
   "execution_count": null,
   "metadata": {},
   "outputs": [],
   "source": [
    "for i in [\"green\", \"yellow\", \"red\"]:\n",
    "    print(\"The color is now: {}\".format(i))"
   ]
  },
  {
   "cell_type": "markdown",
   "metadata": {},
   "source": [
    "En cada iteración del bucle, la variable `i` toma el valor de uno de los elementos de la lista, en este caso, de uno de los posibles colores del semáforo.\n",
    "\n",
    "En Python es muy habitual utilizar bucles `for` combinados con [`range`](https://docs.python.org/3.8/library/stdtypes.html#range), una función que crea rangos de números:"
   ]
  },
  {
   "cell_type": "code",
   "execution_count": null,
   "metadata": {},
   "outputs": [],
   "source": [
    "for i in range(10):\n",
    "    print(\"The number is {}\".format(i))"
   ]
  },
  {
   "cell_type": "markdown",
   "metadata": {},
   "source": [
    "Podemos incluir estructuras iterativas dentro de otras estructuras iterativas, para codificar el flujo que necesitamos para nuestro programa. Por ejemplo, vamos a generar todas las cartas de una baraja francesa:"
   ]
  },
  {
   "cell_type": "code",
   "execution_count": null,
   "metadata": {},
   "outputs": [],
   "source": [
    "suits = [\"\\u2665\", \"\\u2666\", \"\\u2663\", \"\\u2660\"]\n",
    "\n",
    "playing_cards = []\n",
    "\n",
    "for s in suits:\n",
    "\n",
    "    for r in range(2, 15):\n",
    "\n",
    "        if r == 14:\n",
    "            t = \"A\"\n",
    "        elif r == 13:\n",
    "            t = \"K\"\n",
    "        elif r == 12:\n",
    "            t = \"Q\"\n",
    "        elif r == 11:\n",
    "            t = \"J\"\n",
    "        else:\n",
    "            t = str(r)\n",
    "\n",
    "        playing_cards.append(t + s)\n",
    "\n",
    "print(playing_cards)"
   ]
  },
  {
   "cell_type": "markdown",
   "metadata": {},
   "source": [
    "La instrucción [`break`](https://docs.python.org/3.8/reference/simple_stmts.html#break) permite salir de un bucle en un momento dado, deteniendo su su ejecución. Por ejemplo, el siguiente bucle `for` debería ejecutarse 10 veces si consideramos el número de elementos de `range(10)`, pero a la quinta iteración ($i = 4$) ejecuta el `break` y se interrumpe la ejecución del bucle:"
   ]
  },
  {
   "cell_type": "code",
   "execution_count": null,
   "metadata": {},
   "outputs": [],
   "source": [
    "for i in range(10):\n",
    "    print(\"We are in iteration {}\".format(i))\n",
    "    if i == 4:\n",
    "        break"
   ]
  },
  {
   "cell_type": "markdown",
   "metadata": {},
   "source": [
    "## 4.3.- Funciones\n",
    "\n",
    "El uso de funciones también altera el flujo de ejecución lineal de un programa. Así, cuando definimos una función (indicada con la palabra clave `def`) el código dentro de la función no se ejecuta; en cambio, cuando llamamos a la función, ejecutaremos el código que esta contiene:"
   ]
  },
  {
   "cell_type": "code",
   "execution_count": null,
   "metadata": {},
   "outputs": [],
   "source": [
    "\n",
    "\n",
    "# Definimos la función suma\n",
    "def suma(a, b):\n",
    "    # El cuerpo de la función no se ejecuta en el momento de la definición\n",
    "    r = a + b\n",
    "    print(\"{} + {} = {}\".format(a, b, r))\n",
    "    return r\n",
    "\n",
    "\n",
    "# Llamamos a la función suma: el cuerpo de la función se ejecutará a continuación\n",
    "suma(3, 5)\n",
    "suma(10, 2)"
   ]
  },
  {
   "cell_type": "markdown",
   "metadata": {},
   "source": [
    "Más adelante veremos con detalle las posibilidades que nos ofrece la definición de funciones y las diferentes opciones en su definición y uso. De momento, es importante recordar que nos permiten alterar el flujo lineal de ejecución de un programa, y que son clave en la creación de código modular (una propiedad importante para conseguir código claro y fácil de mantener)."
   ]
  },
  {
   "cell_type": "markdown",
   "metadata": {},
   "source": [
    "# 5.- Guía de estilo\n",
    "\n",
    "Una guía de estilo de código es un documento que describe un conjunto de reglas y recomendaciones a seguir cuando escribimos código en un lenguaje determinado. El [PEP8](https://www.python.org/dev/peps/pep-0008/) es la especificación que recoge la guía de estilo de Python. Por favor, **leed ahora este documento** e intentad seguir las indicaciones que se dan cuando programéis en Python.\n",
    "\n",
    "La guía debe interpretarse como un conjunto de recomendaciones, a seguir siempre y cuando el sentido común no indique lo contrario. Es decir, no son normas estrictas a cumplir, y en ciertas circunstancias será preferible no hacer caso a algunas de las recomendaciones. En general, sin embargo, seguir las recomendaciones de la guía hará que el código que escribimos sea fácilmente legible, tanto para nosotros mismos como para otros desarrolladores.\n",
    "\n",
    "Existen varias herramientas que ayudan a los desarrolladores a seguir las guías estilo. En los notebooks de la asignatura, utilizaremos `pycodestyle`, una herramienta que podemos activar en los notebooks para mostrar mensajes de alerta cuando el código que escribimos se salte las recomendaciones de la guía de estilo. En primer lugar, cargaremos la extensión `pycodestyle_magic`. Después, la activaremos o desactivaremos utilizando las instrucciones `% pycodestyle_on` y `% pycodestyle_off`:"
   ]
  },
  {
   "cell_type": "code",
   "execution_count": null,
   "metadata": {},
   "outputs": [],
   "source": [
    "%load_ext pycodestyle_magic"
   ]
  },
  {
   "cell_type": "code",
   "execution_count": null,
   "metadata": {},
   "outputs": [],
   "source": [
    "%pycodestyle_on"
   ]
  },
  {
   "cell_type": "code",
   "execution_count": null,
   "metadata": {},
   "outputs": [],
   "source": [
    "# Código que sigue la guía de estilo: no genera alertas\n",
    "print(\"Wrong style\")"
   ]
  },
  {
   "cell_type": "code",
   "execution_count": null,
   "metadata": {},
   "outputs": [],
   "source": [
    "# Código que no sigue la guía de estilo: genera un mensaje de alerta\n",
    "print(\"Wrong style\" )"
   ]
  },
  {
   "cell_type": "markdown",
   "metadata": {},
   "source": [
    "Tened en cuenta que las dos instrucciones relativas a la revisión del estilo de código empiezan por el carácter `%`. Estas instrucciones no son sentencias de Python, sino instrucciones especiales del kernel que se utiliza en los notebooks para proveer funcionalidades adicionales. Estas instrucciones se conocen en inglés como *magic commands*."
   ]
  },
  {
   "cell_type": "markdown",
   "metadata": {},
   "source": [
    "# 6.- Ejercicios para practicar"
   ]
  },
  {
   "cell_type": "markdown",
   "metadata": {},
   "source": [
    "A continuación encontraréis un conjunto de problemas que pueden servir para practicar los conceptos explicados en esta primera unidad, así como para refrescar los conceptos básicos de programación. Os recomendamos que intentéis realizar estos problemas vosotros mismos y que, una vez realizados, comparéis la solución que proponemos con vuestra solución. No dudéis en dirigir todas las dudas que surjan de la resolución de estos ejercicios o bien de las soluciones propuestas al foro del aula.\n",
    "\n",
    "1. Calculad la suma de los primeros 100 números pares."
   ]
  },
  {
   "cell_type": "code",
   "execution_count": null,
   "metadata": {},
   "outputs": [],
   "source": [
    "# Respuesta"
   ]
  },
  {
   "cell_type": "markdown",
   "metadata": {},
   "source": [
    "2. La secuencia de Fibonnacci es una secuencia en la que cada término es la suma de los dos términos anteriores (la secuencia comienza con los valores 1 y 1).\n",
    "\n",
    "    $1, 1, 2, 3, 5, 8, 13, 21, ...$\n",
    "\n",
    "Calculad la suma de los 50 primeros valores de la secuencia."
   ]
  },
  {
   "cell_type": "code",
   "execution_count": null,
   "metadata": {},
   "outputs": [],
   "source": [
    "# Respuesta"
   ]
  },
  {
   "cell_type": "markdown",
   "metadata": {},
   "source": [
    "3. Se dice que un número es primo si solo es divisible por sí mismo y por 1. Generad una lista con los 100 primeros números primos."
   ]
  },
  {
   "cell_type": "code",
   "execution_count": null,
   "metadata": {},
   "outputs": [],
   "source": [
    "# Respuesta"
   ]
  },
  {
   "cell_type": "markdown",
   "metadata": {},
   "source": [
    "4. Calculad la suma de los cuadrados de los números naturales entre 100 y 200 (ambos valores incluidos)."
   ]
  },
  {
   "cell_type": "code",
   "execution_count": null,
   "metadata": {},
   "outputs": [],
   "source": [
    "# Respuesta"
   ]
  },
  {
   "cell_type": "markdown",
   "metadata": {},
   "source": [
    "5. Generad todos los números de 3 dígitos que se pueden generar con los dígitos 3, 5 y 7."
   ]
  },
  {
   "cell_type": "code",
   "execution_count": null,
   "metadata": {},
   "outputs": [],
   "source": [
    "# Respuesta"
   ]
  },
  {
   "cell_type": "markdown",
   "metadata": {},
   "source": [
    "6. Contad y almacenad el número de veces que aparece cada palabra en el siguiente texto.\n",
    "\n",
    "*Forty-two is a pronic number and an abundante number; its prime factorization 2 · 3 · 7 makes it the second sphenic number and also the second of the form (2 · 3 · r).*"
   ]
  },
  {
   "cell_type": "code",
   "execution_count": null,
   "metadata": {},
   "outputs": [],
   "source": [
    "# Respuesta"
   ]
  },
  {
   "cell_type": "markdown",
   "metadata": {},
   "source": [
    "7. Generad todas las posibles subcadenas de 3 letras de la siguiente palabra: 'Electrodinamometro'."
   ]
  },
  {
   "cell_type": "code",
   "execution_count": null,
   "metadata": {},
   "outputs": [],
   "source": [
    "# Respuesta"
   ]
  },
  {
   "cell_type": "markdown",
   "metadata": {},
   "source": [
    "8. Cread una función que devuelva todas las posibles subcadenas de n letras de una palabra cualquiera. La función recibirá como parámetros el número de letras `n` y la palabra `word`, y devolverá una lista con las subcadenas."
   ]
  },
  {
   "cell_type": "code",
   "execution_count": null,
   "metadata": {},
   "outputs": [],
   "source": [
    "# Respuesta"
   ]
  },
  {
   "cell_type": "markdown",
   "metadata": {},
   "source": [
    "## 6.1.- Soluciones a los ejercicios para practicar\n",
    "\n",
    "\n",
    "1. Calculad la suma de los primeros 100 números pares."
   ]
  },
  {
   "cell_type": "code",
   "execution_count": null,
   "metadata": {},
   "outputs": [],
   "source": [
    "# Opción 1: utilizando una list comprehension que filtra los\n",
    "# valores pares (i % 2 == 0) y sumando los elementos de la lista con sum:\n",
    "suma = sum([i for i in range(200) if i % 2 == 0])\n",
    "print(suma)"
   ]
  },
  {
   "cell_type": "code",
   "execution_count": null,
   "metadata": {},
   "outputs": [],
   "source": [
    "# Opción 2: creando un bucle for con un if dentro, por lo que solo sumamos\n",
    "# los valores pares (i % 2 == 0)\n",
    "suma = 0\n",
    "for i in range(200):\n",
    "    if i % 2 == 0:\n",
    "        suma = suma + i\n",
    "print(suma)"
   ]
  },
  {
   "cell_type": "markdown",
   "metadata": {},
   "source": [
    "2. La secuencia de Fibonnacci es una secuencia en la que cada término es la suma de los dos términos anteriores (la secuencia comienza con los valores 1 y 1).\n",
    "\n",
    "      $1, 1, 2, 3, 5, 8, 13, 21, ...$\n",
    "\n",
    "Calculad la suma de los 50 primeros valores de la secuencia."
   ]
  },
  {
   "cell_type": "code",
   "execution_count": null,
   "metadata": {},
   "outputs": [],
   "source": [
    "# Opción 1: creando una lista con los valores a sumar\n",
    "\n",
    "# Creamos una lista con los 50 primeros valores\n",
    "fib = [1, 1]\n",
    "for i in range(48):\n",
    "    fib.append(fib[-1] + fib[-2])\n",
    "print(fib)\n",
    "\n",
    "# Sumamos los valores de la secuencia\n",
    "suma = sum(fib)\n",
    "print(suma)"
   ]
  },
  {
   "cell_type": "code",
   "execution_count": null,
   "metadata": {},
   "outputs": [],
   "source": [
    "# Opción 2: sin crear una lista con los valores de la secuencia\n",
    "\n",
    "suma = 2\n",
    "# Guardamos los dos últimos valores de la secuencia en las variables l1 y l2\n",
    "l1, l2 = 1, 1\n",
    "for i in range(48):\n",
    "    n = l1 + l2\n",
    "    suma += n\n",
    "    l2 = l1\n",
    "    l1 = n\n",
    "\n",
    "print(suma)"
   ]
  },
  {
   "cell_type": "markdown",
   "metadata": {},
   "source": [
    "3. Se dice que un número es primo si solo es divisible por sí mismo y por 1. Generad una lista con los 100 primeros números primos."
   ]
  },
  {
   "cell_type": "code",
   "execution_count": null,
   "metadata": {},
   "outputs": [],
   "source": [
    "primes = [2]\n",
    "i = 3\n",
    "while len(primes) != 100:\n",
    "    is_prime = True\n",
    "\n",
    "    # Si i es divisible por cualquiera de los primo que ya hemos identificado,\n",
    "    # entonces i no es primo\n",
    "    for p in primes:\n",
    "        if i % p == 0:\n",
    "            is_prime = False\n",
    "            break\n",
    "    # Si i es primo, lo añadimos a la lista de primos\n",
    "    if is_prime:\n",
    "        primes.append(i)\n",
    "    i += 2\n",
    "\n",
    "print(primes)"
   ]
  },
  {
   "cell_type": "markdown",
   "metadata": {},
   "source": [
    "4. Calculad la suma de los cuadrados de los números naturales entre 100 y 200 (ambos valores incluidos)."
   ]
  },
  {
   "cell_type": "code",
   "execution_count": null,
   "metadata": {},
   "outputs": [],
   "source": [
    "# Usamos sum sobre una list comprehension que nos genera los valores\n",
    "# de los cuadrados solicitados\n",
    "sum([x**2 for x in range(100, 201)])"
   ]
  },
  {
   "cell_type": "markdown",
   "metadata": {},
   "source": [
    "5. Generad todos los números de 3 dígitos que se pueden generar con los dígitos 3, 5 y 7."
   ]
  },
  {
   "cell_type": "code",
   "execution_count": null,
   "metadata": {},
   "outputs": [],
   "source": [
    "digits = [3, 5, 7]\n",
    "# Creamos tres bucles for que recorren la lista de posibles dígitos\n",
    "result = []\n",
    "for d1 in digits:\n",
    "    for d2 in digits:\n",
    "        for d3 in digits:\n",
    "            result.append(100*d1 + 10*d2 + d3)\n",
    "\n",
    "print(result)"
   ]
  },
  {
   "cell_type": "markdown",
   "metadata": {},
   "source": [
    "6. Contad y almacenad el número de veces que aparece cada palabra en el siguiente texto.\n",
    "\n",
    "*Forty-two is a pronic number and an abundant number; its prime factorization 2 · 3 · 7 makes it the second sphenic number and also the second of the form (2 · 3 · r).*"
   ]
  },
  {
   "cell_type": "code",
   "execution_count": null,
   "metadata": {},
   "outputs": [],
   "source": [
    "text = \"Forty-two is a pronic number and an abundant number; \"\n",
    "text += \"its prime factorization 2 · 3 · 7 makes it the second sphenic \"\n",
    "text += \"number and also the second of the form (2 · 3 · r)\"\n",
    "\n",
    "# Usamos un diccionario para almacenar el número de veces que\n",
    "# sale cada palabra\n",
    "word_counter = {}\n",
    "for word in text.split(\" \"):\n",
    "    if word in word_counter:\n",
    "        # Si ya hemos encontrado la palabra anteriormente, incrementamos\n",
    "        # el contador\n",
    "        word_counter[word] += 1\n",
    "    else:\n",
    "        # Si es la primera vez que veamos la palabra, ponemos el contador a 1\n",
    "        word_counter[word] = 1\n",
    "\n",
    "print(word_counter)"
   ]
  },
  {
   "cell_type": "markdown",
   "metadata": {},
   "source": [
    "7. Generad todas las posibles subcadenas de 3 letras de la siguiente palabra: 'Electrodinamometro'."
   ]
  },
  {
   "cell_type": "code",
   "execution_count": null,
   "metadata": {},
   "outputs": [],
   "source": [
    "word = \"Electrodinamometro\"\n",
    "words = []\n",
    "# Extraemos la subcadena de 3 letras que comienza en cada posible\n",
    "# posición inicial\n",
    "for i in range(len(word)-2):\n",
    "    words.append(word[i:i+3])\n",
    "print(words)"
   ]
  },
  {
   "cell_type": "markdown",
   "metadata": {},
   "source": [
    "8. Cread una función que devuelva todas las posibles subcadenas de n letras de una palabra cualquiera. La función recibirá como parámetros el número de letras `n` y la palabra `word`, y devolverá una lista con las subcadenas."
   ]
  },
  {
   "cell_type": "code",
   "execution_count": null,
   "metadata": {},
   "outputs": [],
   "source": [
    "def substrings(n, word):\n",
    "    words = []\n",
    "    for i in range(len(word)-n+1):\n",
    "        words.append(word[i:i+n])\n",
    "    return words"
   ]
  },
  {
   "cell_type": "code",
   "execution_count": null,
   "metadata": {},
   "outputs": [],
   "source": [
    "substrings(4, word)"
   ]
  }
 ],
 "metadata": {
  "language_info": {
   "name": "python"
  }
 },
 "nbformat": 4,
 "nbformat_minor": 2
}
