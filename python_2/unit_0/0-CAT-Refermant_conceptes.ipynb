{
 "cells": [
  {
   "cell_type": "markdown",
   "metadata": {},
   "source": [
    "<div style=\"width: 100%; clear: both;\">\n",
    "    <div style=\"float: left; width: 50%;\">\n",
    "       <img src=\"http://www.uoc.edu/portal/_resources/common/imatges/marca_UOC/UOC_Masterbrand.jpg\", align=\"left\">\n",
    "    </div>\n",
    "</div>\n",
    "\n",
    "<div style=\"float: right; width: 50%;\">\n",
    "    <p style=\"margin: 0; padding-top: 22px; text-align:right;\">22.403 · Programació per a la ciència de dades</p>\n",
    "    <p style=\"margin: 0; text-align:right;\">Grau en Ciència de Dades Aplicada</p>\n",
    "    <p style=\"margin: 0; text-align:right; padding-button: 100px;\">Estudis d'Informàtica, Multimèdia i Telecomunicació</p>\n",
    "</div>\n",
    "\n",
    "</div>\n",
    "<div style=\"width: 100%; clear: both;\">\n",
    "<div style=\"width:100%;\">&nbsp;</div>"
   ]
  },
  {
   "cell_type": "markdown",
   "metadata": {},
   "source": [
    "Programació per a la ciència de dades\n",
    "============================\n",
    "\n",
    "--- \n",
    "\n",
    "Unitat 0: Refermant conceptes\n",
    "-----------------------------------------------------\n",
    "\n",
    "---\n",
    "\n",
    "### Instruccions d'ús\n",
    "\n",
    "Aquest document és un notebook interactiu que intercala explicacions més aviat teòriques de conceptes de programació amb fragments de codi executables. Per aprofitar els avantatges que aporta aquest format, us recomanem que, en primer lloc, llegiu les explicacions i el codi que us proporcionem. D'aquesta manera tindreu un primer contacte amb els conceptes que hi exposem. Ara bé, **la lectura és només el principi!** Una vegada hagueu llegit el contingut proporcionat, no oblideu executar el codi proporcionat i modificar-lo per crear-ne variants, que us permetin comprovar que heu entès la seva funcionalitat i explorar-ne els detalls d'implementació. Per últim, us recomanem també consultar la documentació enllaçada per explorar amb més profunditat les funcionalitats dels mòduls presentats. \n",
    "\n"
   ]
  },
  {
   "cell_type": "markdown",
   "metadata": {},
   "source": [
    "### Introducció\n",
    "\n",
    "En aquesta unitat es repassen alguns dels conceptes bàsics de programació Python que s'han vist a l'assignatura Fonaments de Programació (FP), amb l'objectiu de refermar els conceptes apresos i formalitzar-los. \n",
    "\n",
    "Si no heu cursat l'assignatura FP, us recomanem revisar els notebooks d'aquella assignatura abans de seguir amb el contingut d'aquest notebook. Tot i que aquí s'expliquen els conceptes abans de formalitzar-los, us aconsellem revisar també la introducció més pràctica que es proporciona a Fonaments de programació, així com els exemples contextualitzats en la ciència de dades que allí es proporcionen. \n",
    "\n",
    "D'altra banda, si ja heu cursat l'assignatura FP, aquest notebook hauria de servir, en primer lloc, com a repàs d'alguns dels conceptes més importants de programació Python i, en segon lloc, per reflexionar sobre aquest conceptes i veure'n alguns detalls més formals que es van passar per alt a l'assignatura prèvia.\n",
    "\n",
    "En aquest notebook es presenten, en primer lloc, les estructures de dades bàsiques per a emmagatzemar col·leccions en Python: les llistes, les tuples, els diccionaris i els conjunts (reviseu els notebooks de l'assignatura FP si us cal repassar els tipus bàsics de Python: enters, floats, etc.).\n",
    "\n",
    "Després, s'expliquen dos conceptes que ja s'han fet servir a FP, però que no s'han explicat formalment fins ara: els iterables i la programació orientada a objectes.\n",
    "\n",
    "A continuació, es revisen les instruccions bàsiques de control de flux d'execució en Python: les estructures alternatives, les iteratives, i les funcions.\n",
    "\n",
    "Seguidament, es presenta el PEP8, la guia d'estil de Python, i s'explica com incorporar eines que ens ajudin a seguir-la en els notebooks de jupyter.\n",
    "\n",
    "Finalment, s'inclouen un conjunt d'activitats per practicar, que us permetran posar en pràctica el que s'ha explicat fins ara.\n",
    "\n",
    "A continuació s'inclou la taula de continguts, que podeu fer servir per a navegar pel document:\n",
    "\n",
    "<ul style=\"list-style-type:none\">\n",
    "    <li><a href='#1.--Estructures-de-dades-per-emmagatzemar-col·leccions-de-valors'>1. Estructures de dades per emmagatzemar col·leccions de valors</a></li>\n",
    "    <ul style=\"list-style-type:none\">\n",
    "        <li><a href='#1.1.--Llistes'>1.1. Llistes</a></li> \n",
    "        <ul style=\"list-style-type:none\">\n",
    "            <li><a href=\"#1.1.1--List-slicing\">1.1.1 List slicing</a></li>\n",
    "            <li><a href=\"#1.1.2--List-comprehensions\">1.1.2 List comprehensions</a></li>\n",
    "        </ul>\n",
    "        <li><a href='#1.2.--Tuples'>1.2. Tuples</a></li>\n",
    "        <li><a href='#1.3.--Diccionaris'>1.3. Diccionaris</a></li>\n",
    "        <li><a href='#1.4.--Conjunts'>1.4. Conjunts</a></li>\n",
    "    </ul>\n",
    "    <li><a href='#2.--Iterables'>2. Iterables</a></li>\n",
    "    <li><a href='#3.--Una-pinzellada-de-programació-orientada-a-objectes'>3. Una pinzellada de programació orientada a objectes</a></li>\n",
    "    <li><a href=\"#4.--Control-de-flux-d'execució\">4. Control de flux d'execució</a></li>\n",
    "    <ul style=\"list-style-type:none\">\n",
    "        <li><a href=\"#4.1.--Estructures-de-control-alternatives\">4.1. Estructures de control alternatives</a></li>\n",
    "        <li><a href=\"#4.2.--Estructures-de-control-iteratives\">4.2. Estructures de control iteratives</a></li>\n",
    "        <li><a href=\"#4.3.--Funcions\">4.3. Funcions</a></li>\n",
    "    </ul>\n",
    "    <li><a href=\"#5.--Guia-d'estil\">5. Guia d'estil</a></li>\n",
    "    <li><a href=\"#6.--Exercicis-per-practicar\">6. Exercicis per practicar</a></li>\n",
    "    <ul style=\"list-style-type:none\">\n",
    "        <li><a href=\"#6.1.--Solucions-als-exercicis-per-practicar\">6.1. Solucions als exercicis per practicar</a></li>\n",
    "    </ul>\n",
    "</ul>\n"
   ]
  },
  {
   "cell_type": "markdown",
   "metadata": {},
   "source": [
    "# 1.- Estructures de dades per emmagatzemar col·leccions de valors"
   ]
  },
  {
   "cell_type": "markdown",
   "metadata": {},
   "source": [
    "Python disposa de diverses estructures de dades que permeten emmagatzemar col·leccions de valors. Cadascuna d'aquestes estructures té unes propietats diferents i, per tant, serà útil per solucionar diferents problemes.\n",
    "\n",
    "## 1.1.- Llistes\n",
    "\n",
    "Una **llista** en Python és una col·lecció **ordenada** de valors, possiblement **heterogenis**. Les llistes es poden modificar (són **mutables**), i permeten emmagatzemar elements **duplicats**.\n",
    "\n",
    "Els elements d'una llista es troben ordenats, de tal manera que el primer element es troba indexat amb el 0, el segon amb l'1, etc. L'últim element de la llista és doncs indexat com al nombre d'elements de la llista menys u. \n",
    "\n"
   ]
  },
  {
   "cell_type": "code",
   "execution_count": null,
   "metadata": {},
   "outputs": [],
   "source": [
    "# Les llistes poden ser heterogènies i tenir duplicats\n",
    "a_list = [1, 1, 3.5, \"strings also\", [None, 4]]\n",
    "print(\"The list is:\\n\\t{}\".format(a_list))\n",
    "\n",
    "# Les llistes són mutables i ordenades\n",
    "a_list.append(5)\n",
    "a_list.remove(3.5)\n",
    "print(\"After appending 5 and removing 3.5:\\n\\t{}\".format(a_list))"
   ]
  },
  {
   "cell_type": "markdown",
   "metadata": {},
   "source": [
    "Fem ara un repàs ràpid als mètodes implementats per a les llistes (trobareu el detall de tots els mètodes [aquí](https://docs.python.org/3/tutorial/datastructures.html#more-on-lists)). Podem afegir elements al final d'un llista amb `append` o en qualsevol posició amb `insert`. També podem eliminar un element d'una llista a partir de la seva posició amb `pop` o bé a partir del seu valor amb `remove` (`remove` elimina el primer element de la llista que coincideix amb el valor especificat). Dues llistes es poden concatenar amb `extend` o bé amb l'operador de suma `+`."
   ]
  },
  {
   "cell_type": "code",
   "execution_count": null,
   "metadata": {},
   "outputs": [],
   "source": [
    "# Afegim un element al final de la llista\n",
    "a_list.append(41)\n",
    "print(\"After appending 41:\\n\\t{}\".format(a_list))\n",
    "\n",
    "# Afegim un element a l'inici de la llista\n",
    "a_list.insert(0, -1)\n",
    "print(\"After inserting -1:\\n\\t{}\".format(a_list))\n",
    "\n",
    "# Eliminem el primer element\n",
    "a_list.pop(0)\n",
    "print(\"After removing the first element:\\n\\t{}\".format(a_list))\n",
    "\n",
    "# Eliminem el l'element \"strings also\"\n",
    "a_list.remove(\"strings also\")\n",
    "print(\"After removing 'strings also':\\n\\t{}\".format(a_list))\n",
    "\n",
    "# Concatenem la llista amb ella mateixa\n",
    "a_list = a_list + a_list\n",
    "print(\"After duplicating the list:\\n\\t{}\".format(a_list))"
   ]
  },
  {
   "cell_type": "markdown",
   "metadata": {},
   "source": [
    "També podem recuperar la posició del primer element d'una llista que té un cert valor amb `index`, o bé comptar el número de vegades que apareix un determinat element amb `count`."
   ]
  },
  {
   "cell_type": "code",
   "execution_count": null,
   "metadata": {},
   "outputs": [],
   "source": [
    "# Recuperem l'índex de la primera aparició del valor 5\n",
    "i = a_list.index(5)\n",
    "print(\"First 5 is in position:\\n\\t{}\".format(i))\n",
    "\n",
    "# Comptem el número de vegades que el valor 1 apareix a la llista\n",
    "c = a_list.count(1)\n",
    "print(\"The number of 1s is:\\n\\t{}\".format(c))"
   ]
  },
  {
   "cell_type": "markdown",
   "metadata": {},
   "source": [
    "### 1.1.1- List slicing\n",
    "\n",
    "La tècnica de _list slicing_ ens permet accedir a subconjunts d'elements d'una llista de manera senzilla i compacta. La sintaxis completa de _list slicing_ consta del nom de la variable que conté la llista, seguida de `[X:Y:Z]`, on `X` representa l'inici del fragment que volem recuperar, `Y` el final del fragment i `Z` el pas o granularitat del fragment:"
   ]
  },
  {
   "cell_type": "code",
   "execution_count": null,
   "metadata": {},
   "outputs": [],
   "source": [
    "a_list = [\"A\", \"B\", \"C\", \"D\", \"E\", \"F\"]\n",
    "print(a_list)\n",
    "\n",
    "# Mostrem els elements en les posicions de 0 a 2, saltant d'un en un\n",
    "print(a_list[0:3:1])\n",
    "# Mostrem els elements en les posicions de 2 a 4, saltant d'un en un\n",
    "print(a_list[2:5:1])\n",
    "# Mostrem els elements en les posicions de 0 a 4, saltant de dos en dos\n",
    "print(a_list[0:5:2])"
   ]
  },
  {
   "cell_type": "markdown",
   "metadata": {},
   "source": [
    "Fixeu-vos com l'element inicial s'inclou en el resultat, mentre que l'element final no. És a dir, si indiquem que volem els elements `[0:3:1]`, s'inclouran els elements amb índexs 0, 1 i 2; i si indiquem `[2:5:1]` els elements amb índex 2, 3 i 4. \n",
    "\n",
    "El tercer valor (`Z`) ens permet indicar la granularitat de la selecció: en els dos primers exemples hem triat tots els elements en els intervals especificats (pas 1). En canvi, en el tercer exemple salten els elements de 2 en 2, de manera que s'inclouen els elements amb índexs 0, 2 i 4.\n",
    "\n",
    "Python permet ometre alguns dels valors en l'especificació de l'*slicing*. Així, si s'omet l'inici o el final del fragment, s'interpreta que seleccionem l'inici de la llista o el final de la llista. De la mateixa manera, si ometem el pas s'interpreta que aquest és 1:"
   ]
  },
  {
   "cell_type": "code",
   "execution_count": null,
   "metadata": {},
   "outputs": [],
   "source": [
    "# Ometem el pas: mostrem els elements en les posicions de 2 a 4,\n",
    "# saltant d'un en un\n",
    "print(a_list[2:5])\n",
    "\n",
    "# Ometem l'inici i el pas: mostrem els elements des de l'inici fins a la\n",
    "# posició 2, saltant d'un en un\n",
    "print(a_list[:3])\n",
    "\n",
    "# Ometem l'inici i el final: mostrem tots els elements, saltant de dos en dos\n",
    "print(a_list[::2])"
   ]
  },
  {
   "cell_type": "markdown",
   "metadata": {},
   "source": [
    "Com a últim apunt, és interessant notar que podem fer servir valors negatius en els índex. Així, per exemple, si volem recórrer una llista en ordre invers, podem fer-ho fent servir un pas de `-1`:"
   ]
  },
  {
   "cell_type": "code",
   "execution_count": null,
   "metadata": {},
   "outputs": [],
   "source": [
    "print(a_list[::-1])"
   ]
  },
  {
   "cell_type": "markdown",
   "metadata": {},
   "source": [
    "### 1.1.2- List comprehensions\n",
    "\n",
    "Una de les funcionalitats més usades de les llistes són les **_list comprehensions_**, que permeten crear llistes amb expressions molt concises. Amb les _list comprehensions_ es poden crear noves llistes a partir d'una (o diverses) llistes originals, operant sobre els valors originals i/o filtrant-los. La sintaxis d'una _list comprehension_ consta d'uns claudàtors (que defineixen la llista), que contenen com a mínim una clàusula `for` i que poden tenir també clàusules `if`. Vegem-ho amb alguns exemples:"
   ]
  },
  {
   "cell_type": "code",
   "execution_count": null,
   "metadata": {},
   "outputs": [],
   "source": [
    "nums = range(10)\n",
    "print(list(nums))\n",
    "\n",
    "# Sintaxi bàsica amb un sol for\n",
    "nums_plus_3 = [n + 3 for n in nums]\n",
    "print(nums_plus_3)"
   ]
  },
  {
   "cell_type": "markdown",
   "metadata": {},
   "source": [
    "A partir de la llista original, que conté números del 0 al 9, hem creat una _list comprehension_ que genera una nova llista que conté els números de la llista original sumant tres a cada valor. Fixeu-vos com, amb aquest tipus d'expressions, podem obtenir llistes de la mateixa longitud que les llistes originals, però que contenen el resultat d'aplicar una funció als valors originals. Vegem-ne alguns exemples més:"
   ]
  },
  {
   "cell_type": "code",
   "execution_count": null,
   "metadata": {},
   "outputs": [],
   "source": [
    "# Creem una llista amb els quadrats de la llista original\n",
    "nums_squared = [n**2 for n in nums]\n",
    "print(nums_squared)\n",
    "\n",
    "\n",
    "# Creem una llista amb els valors (i+1)/(i-1) per cada i de la llista original\n",
    "def long_exp(i):\n",
    "    if i != 1:\n",
    "        r = (i + 1) / (i - 1)\n",
    "    else:\n",
    "        r = 0\n",
    "    return r\n",
    "\n",
    "\n",
    "nums_f = [long_exp(n) for n in nums]\n",
    "print(nums_f)\n",
    "\n",
    "# Creem una llista amb cadenes de caràcters \"Num: x\" per cada x de la\n",
    "# llista original\n",
    "nums_str = [\"Num: \" + str(n) for n in nums]\n",
    "print(nums_str)"
   ]
  },
  {
   "cell_type": "markdown",
   "metadata": {},
   "source": [
    "Fixeu-vos que una _list comprehension_ pot avaluar una funció (en el segon exemple de la cel·la anterior, s'avalua la funció `long_exp` per cada valor de la llista `nums`). Ara bé, podríem obtenir el mateix resultat sense definir la funció `long_exp`? Per fer-ho, podríem fer servir una expressió `if` en una sola línia per obtenir el mateix resultat sense haver de definir la funció `long_exp`:"
   ]
  },
  {
   "cell_type": "code",
   "execution_count": null,
   "metadata": {},
   "outputs": [],
   "source": [
    "nums_f2 = [(n+1)/(n-1) if n != 1 else 0 for n in nums]"
   ]
  },
  {
   "cell_type": "markdown",
   "metadata": {},
   "source": [
    "Així doncs, hem fet servir la sintaxi compacta de l'`if`, reduint-lo a una sola línia de codi. Fixeu-vos que hem aprofitat que els següents dos blocs de codi són equivalents:"
   ]
  },
  {
   "cell_type": "code",
   "execution_count": null,
   "metadata": {},
   "outputs": [],
   "source": [
    "i = 5\n",
    "\n",
    "# Bloc 1:\n",
    "if i != 1:\n",
    "    r = (i + 1) / (i - 1)\n",
    "else:\n",
    "    r = 0\n",
    "\n",
    "# Bloc 2:\n",
    "r = (i+1)/(i-1) if i != 1 else 0"
   ]
  },
  {
   "cell_type": "markdown",
   "metadata": {},
   "source": [
    "És important notar també que la llista que hem creat, `nums_f2` té tants elements com tenia la llista `nums` sobre la qual hem iterat. \n",
    "\n",
    "Les _list comprehension_ també poden incloure **condicionals** que serveixen per filtrar quins valors de la (o les) llistes originals es consideren en la creació de la nova llista. En aquests casos, la llista resultant tindrà una longitud igual o menor a la de la llista original, en funció del número de vegades que es compleixi la condició de l'`if`:"
   ]
  },
  {
   "cell_type": "code",
   "execution_count": null,
   "metadata": {},
   "outputs": [],
   "source": [
    "# Creem una nova llista que conté únicament els valors parells de la\n",
    "# llista nums\n",
    "nums_even = [n for n in nums if not n % 2]\n",
    "print(\"nums:\\t\\t{}\".format(list(nums)))\n",
    "print(\"nums_even:\\t{}\".format(nums_even))\n",
    "print(\"nums has {} elements and nums_even has {} elements\\n\".\n",
    "      format(len(nums), len(nums_even)))\n",
    "\n",
    "# Creem una nova llista a partir d'a_list que conté només elements\n",
    "# que són enters\n",
    "a_list_of_ints = [n for n in a_list if type(n) == int]\n",
    "print(\"a_list:\\t\\t{}\".format(a_list))\n",
    "print(\"a_list_of_ints:\\t{}\".format(a_list_of_ints))\n",
    "print(\"a_list has {} elements and a_list_of_ints has {} elements\\n\".\n",
    "      format(len(a_list), len(a_list_of_ints)))\n",
    "\n",
    "# Creem una nova llista a partir d'una llista de números escrits en lletres que\n",
    "# conté els números tals que la seva expressió requereix més lletres que el\n",
    "# propi número\n",
    "num_words = [\"zero\", \"one\", \"two\", \"three\", \"four\", \"five\", \"six\",\n",
    "             \"seven\"]\n",
    "num_words_c = [w for i, w in enumerate(num_words) if len(w) > i]\n",
    "print(\"num_words:\\t{}\".format(num_words))\n",
    "print(\"num_words_c:\\t{}\".format(num_words_c))\n",
    "print(\"a_list has {} elements and num_words_c has {} elements\".\n",
    "      format(len(num_words), len(num_words_c)))"
   ]
  },
  {
   "cell_type": "markdown",
   "metadata": {},
   "source": [
    "A l'últim exemple de la cel·la anterior, hem fet servir `enumerate` en combinació amb la _list comprehension_ per tal de generar el resultat desitjat. La funció `enumerate` aplicada sobre una llista retorna una altra llista de la mateixa longitud amb tuples de dos valors: el primer valor és l'índex de l'element a la llista original, i el segon valor és l'element en qüestió:"
   ]
  },
  {
   "cell_type": "code",
   "execution_count": null,
   "metadata": {},
   "outputs": [],
   "source": [
    "# Observem el resultat d'enumerate\n",
    "list(enumerate(['one', 'two', 'three']))"
   ]
  },
  {
   "cell_type": "markdown",
   "metadata": {},
   "source": [
    "Així, a cada iteració, la variable `i` contenia l'índex de l'element i la variable `w` contenia l'element. La condició que hem aplicat era certa si el número de lletres de la paraula (`len(w)`) era superior a l'índex (`i`)."
   ]
  },
  {
   "cell_type": "markdown",
   "metadata": {},
   "source": [
    "Les _list comprehension_ no es limiten a una sola expressió `for`. Podem fer-ne servir més d'una per construir una llista a partir de valors de diversos iterables:"
   ]
  },
  {
   "cell_type": "code",
   "execution_count": null,
   "metadata": {},
   "outputs": [],
   "source": [
    "list_1 = [1, 2, 3]\n",
    "list_2 = [10, 100]\n",
    "\n",
    "# Creem una llista de tuples amb les parelles de valors\n",
    "# de list_1 i list_2\n",
    "list_pairs = [(l1, l2) for l1 in list_1 for l2 in list_2]\n",
    "print(list_pairs)\n",
    "\n",
    "# Creem una llista sumant les possibles combinacions de valors\n",
    "# de list_1 i list_2\n",
    "lists_sum = [l1 + l2 for l1 in list_1 for l2 in list_2]\n",
    "print(lists_sum)\n",
    "\n",
    "# Creem una llista de totes les paraules de 3 lletres que es poden fer\n",
    "# amb les lletres A, B i C\n",
    "abc = [\"A\", \"B\", \"C\"]\n",
    "lists_let = [l1 + l2 + l3\n",
    "             for l1 in abc for l2 in abc for l3 in abc]\n",
    "print(lists_let)"
   ]
  },
  {
   "cell_type": "markdown",
   "metadata": {},
   "source": [
    "Finalment, vegem un últim exemple que combina tant múltiples `for` com condicions en una _list comprehension_:"
   ]
  },
  {
   "cell_type": "code",
   "execution_count": null,
   "metadata": {},
   "outputs": [],
   "source": [
    "# Creem una llista de totes les paraules de 3 lletres que es poden fer\n",
    "# amb les lletres A, B i C i on la primera i última lletres són diferents\n",
    "lists_let = [l1 + l2 + l3\n",
    "             for l1 in abc for l2 in abc for l3 in abc if l1 != l3]\n",
    "print(lists_let)"
   ]
  },
  {
   "cell_type": "markdown",
   "metadata": {},
   "source": [
    "## 1.2.- Tuples\n",
    "\n",
    "Les **tuples** en Python són col·leccions també **ordenades** d'elements, possiblement **heterogenis** i amb valors **duplicats**. Ara bé, a diferència de les llistes, les tuples són **immutables**. Això implica que una vegada definides, no podrem afegir ni eliminar elements d'una tupla, ni tampoc modificar-los:"
   ]
  },
  {
   "cell_type": "code",
   "execution_count": null,
   "metadata": {},
   "outputs": [],
   "source": [
    "# Definim una tupla fent servir parèntesis\n",
    "# Les tuples poden ser heterogènies i tenir duplicats\n",
    "a_tuple = (1, 1, 3.5, \"strings also\", [None, 4])\n",
    "print(\"The tuple is:\\n\\t{}\".format(a_tuple))\n",
    "\n",
    "# També podem ometre els parèntesis en la definició d'una tupla\n",
    "the_same_tuple = 1, 1, 3.5, \"strings also\", [None, 4]\n",
    "print(\"The tuple is:\\n\\t{}\".format(the_same_tuple))\n",
    "\n",
    "print(\"Are they equal:\\n\\t{}\".format(a_tuple == the_same_tuple))\n",
    "\n",
    "# Les tuples són col·leccions ordenades:\n",
    "print(\"First element is:\\n\\t{}\".format(a_tuple[0]))\n",
    "print(\"Second element is:\\n\\t{}\".format(a_tuple[1]))\n",
    "print(\"Third element is:\\n\\t{}\".format(a_tuple[2]))"
   ]
  },
  {
   "cell_type": "code",
   "execution_count": null,
   "metadata": {},
   "outputs": [],
   "source": [
    "# Les tuples són immutables\n",
    "try:\n",
    "    del a_tuple[0]\n",
    "except TypeError as e:\n",
    "    print(e)\n",
    "\n",
    "try:\n",
    "    a_tuple[0] = \"New value\"\n",
    "except TypeError as e:\n",
    "    print(e)"
   ]
  },
  {
   "cell_type": "markdown",
   "metadata": {},
   "source": [
    "## 1.3.- Diccionaris\n",
    "\n",
    "Els **diccionaris** en Python són col·leccions **sense ordre** d'elements, possiblement **heterogenis** i **sense duplicats**. \n",
    "\n",
    "Els **diccionaris** són la implementació, en Python, de l'estructura de dades que coneixem amb el nom d'*array associatiu* o *map*. Els diccionaris són col·leccions de parells clau-valor, que a més de les operacions bàsiques d'inserció, modificació i eliminació, també permeten recuperar les dades emmagatzemades a través de la clau. La característica principal d'aquesta estructura de dades és que no hi pot haver claus repetides (cada clau apareix, com a molt, una única vegada, i té per tant un únic valor associat)."
   ]
  },
  {
   "cell_type": "code",
   "execution_count": null,
   "metadata": {},
   "outputs": [],
   "source": [
    "# Intentem crear un diccionari amb una clau repetida (a)\n",
    "dict_0 = {\"a\": 0, \"b\": 1, \"a\": 2}\n",
    "# Comprovem com el diccionari té una única clau a:\n",
    "dict_0"
   ]
  },
  {
   "cell_type": "markdown",
   "metadata": {},
   "source": [
    "Ara bé, un diccionari sí que pot tenir valors repetits:"
   ]
  },
  {
   "cell_type": "code",
   "execution_count": null,
   "metadata": {},
   "outputs": [],
   "source": [
    "dict_0 = {\"a\": 0, \"b\": 0, \"c\": 0}\n",
    "dict_0"
   ]
  },
  {
   "cell_type": "markdown",
   "metadata": {},
   "source": [
    "Fem ara un repàs ràpid als mètodes implementats per als diccionaris (trobareu el detall de tots els mètodes [aquí](https://docs.python.org/3.8/library/stdtypes.html#dict)). Podem afegir elements a un diccionari assignant el valor a la clau. Aquesta mateixa sintaxi serveix per actualitzar els valors d'un diccionari. També podem eliminar un element d'un diccionari a partir de la seva clau amb `del`."
   ]
  },
  {
   "cell_type": "code",
   "execution_count": null,
   "metadata": {},
   "outputs": [],
   "source": [
    "# Afegim un element a dict_0\n",
    "print(\"dict_0 is:\\n\\t{}\".format(dict_0))\n",
    "dict_0[\"d\"] = 42\n",
    "print(\"After adding d, dict_0 is:\\n\\t{}\".format(dict_0))\n",
    "\n",
    "# Actualitzem un element de dict_0\n",
    "dict_0['a'] = -5\n",
    "print(\"After updating a, dict_0 is:\\n\\t{}\".format(dict_0))\n",
    "\n",
    "# Eliminem un element de dict_0\n",
    "del dict_0['b']\n",
    "print(\"After deleting b, dict_0 is:\\n\\t{}\".format(dict_0))"
   ]
  },
  {
   "cell_type": "markdown",
   "metadata": {},
   "source": [
    "Podem recuperar totes les claus d'un diccionari amb el mètode `keys`, tots els valors amb `values`, i ambdós conjunts de valors amb `items`:"
   ]
  },
  {
   "cell_type": "code",
   "execution_count": null,
   "metadata": {},
   "outputs": [],
   "source": [
    "print(\"dict_0 is:\\n\\t{}\".format(dict_0))\n",
    "\n",
    "print(\"dict_0 keys are:\\n\\t{}\".format(dict_0.keys()))\n",
    "\n",
    "print(\"dict_0 values are:\\n\\t{}\".format(dict_0.values()))\n",
    "\n",
    "print(\"dict_0 items are:\\n\\t{}\".format(dict_0.items()))"
   ]
  },
  {
   "cell_type": "markdown",
   "metadata": {},
   "source": [
    "Podem iterar sobre els elements d'un diccionari fent servir `keys`, `values` o `items`, o bé iterant directament sobre el diccionari (que és equivalent a iterar sobre les seves claus):"
   ]
  },
  {
   "cell_type": "code",
   "execution_count": null,
   "metadata": {},
   "outputs": [],
   "source": [
    "# Vegem tres construccions equivalents que permeten mostrar\n",
    "# les claus i els valors d'un diccionari\n",
    "\n",
    "# Opció 1: iterem sobre el diccionari directament\n",
    "for k in dict_0:\n",
    "    print(\"{}: {}\".format(k, dict_0[k]))\n",
    "print(\"\\n\")\n",
    "\n",
    "# Opció 2: iterem sobre les claus del diccionari\n",
    "for k in dict_0.keys():\n",
    "    print(\"{}: {}\".format(k, dict_0[k]))\n",
    "print(\"\\n\")\n",
    "\n",
    "# Opció 3: iterem sobre els items (parells de clau-valor)\n",
    "for k, v in dict_0.items():\n",
    "    # Fixeu-vos que aquí ja tenim l'element v, no cal recuperar-lo\n",
    "    # fent dict_0[k]\n",
    "    print(\"{}: {}\".format(k, v))\n",
    "print(\"\\n\")\n",
    "\n",
    "# També podem iterar només sobre els valors del diccionari\n",
    "for value in dict_0.values():\n",
    "    print(value)"
   ]
  },
  {
   "cell_type": "markdown",
   "metadata": {},
   "source": [
    "Els diccionaris poden contenir altres diccionaris. Això permet tenir variables amb estructures complexes. Per exemple, imagineu que volem desar les velocitats màximes a les quals es pot circular per autopista, carretera i ciutat a Espanya i a França. Una alternativa seria fer servir un diccionari per desar les velocitats de cada tipus de via, i un segon diccionari que desés el diccionari de velocitats per cada país:"
   ]
  },
  {
   "cell_type": "code",
   "execution_count": null,
   "metadata": {},
   "outputs": [],
   "source": [
    "speeds = {\n",
    "    \"Spain\": {\"motorway\": 120, \"road\": 90, \"city\": 50},\n",
    "    \"France\": {\"motorway\": 130, \"road\": 80, \"city\": 50}\n",
    "}\n",
    "\n",
    "# Recuperem el diccionari de les velocitats d'Espanya\n",
    "print(speeds[\"Spain\"])\n",
    "\n",
    "# Consultem la velocitat màxima en carretera a França\n",
    "print(speeds[\"France\"][\"road\"])"
   ]
  },
  {
   "cell_type": "markdown",
   "metadata": {},
   "source": [
    "Els diccionaris de Python no tenen ordre, és a dir, els parells de clau-valor no es troben ordenats dins l'estructura de dades. Així doncs, dos diccionaris creats amb parells de clau-valor iguals però en ordres diferents, es consideren iguals:"
   ]
  },
  {
   "cell_type": "code",
   "execution_count": null,
   "metadata": {},
   "outputs": [],
   "source": [
    "# Creem dos diccionaris amb el mateix contingut, però\n",
    "# en ordre diferent\n",
    "dict_1 = {\"a\": 0, \"b\": 1, \"c\": 2}\n",
    "dict_2 = {\"b\": 1, \"a\": 0, \"c\": 2}\n",
    "# Comprovem si els dos diccionaris són iguals\n",
    "print(dict_1 == dict_2)"
   ]
  },
  {
   "cell_type": "markdown",
   "metadata": {},
   "source": [
    "Ara bé, a partir de la versió 3.6 de Python, la implementació dels diccionaris preserva l'ordre d'inserció dels elements. És a dir, quan recorrem el diccionari, la implementació ens retorna els elements en l'ordre que van ser inserits. A partir de la versió 3.7 i posteriors, aquest comportament s'ha declarat com a oficial i, per tant, podem crear codi que assumeixi que els diccionaris mantenen l'ordre d'inserció dels seus elements:"
   ]
  },
  {
   "cell_type": "code",
   "execution_count": null,
   "metadata": {},
   "outputs": [],
   "source": [
    "# Creem un diccionari\n",
    "dict_3 = {\"Key_\" + str(num): \"Value_\" + str(num+1) for num in range(10)}\n",
    "\n",
    "# Mostrem el contingut del diccionari en l'ordre en què items() retorna\n",
    "# els elements\n",
    "for k, v in dict_3.items():\n",
    "    print(\"{}: {}\".format(k, v))"
   ]
  },
  {
   "cell_type": "code",
   "execution_count": null,
   "metadata": {},
   "outputs": [],
   "source": [
    "# Esborrem tres entrades del diccionari\n",
    "del(dict_3[\"Key_5\"])\n",
    "del(dict_3[\"Key_8\"])\n",
    "del(dict_3[\"Key_1\"])\n",
    "\n",
    "# Afegim dues noves entrades al diccionari\n",
    "dict_3[\"Key_10\"] = \"Value_10\"\n",
    "dict_3[\"Key_11\"] = \"Value_11\"\n",
    "\n",
    "# Modifiquem el valor de Key_0\n",
    "dict_3[\"Key_0\"] = \"New value does not change position\"\n",
    "\n",
    "# Finalment, mostrem el contingut del diccionari seguint\n",
    "# l'ordre retornat per items()\n",
    "for k, v in dict_3.items():\n",
    "    print(\"{}: {}\".format(k, v))"
   ]
  },
  {
   "cell_type": "markdown",
   "metadata": {},
   "source": [
    "A l'exemple anterior podem veure com actualitzar el valor d'un element del diccionari (`Key_0`) no n'altera el seu ordre (`Key_0` segueix sent el primer element). Els elements afegits posteriorment (`Key_10` i `Key_11`) es mostren al final del diccionari, en l'ordre en què s'han inserit."
   ]
  },
  {
   "cell_type": "markdown",
   "metadata": {},
   "source": [
    "### 1.3.1- _Dict comprehensions_\n",
    "\n",
    "D'una manera similar a les _list comprehensions_ podem fer servir _dict comprehensions_ per a crear nous diccionaris amb una sintaxis compacta. La sintaxis d'una _dict comprehension_ consta d'unes claus (que defineixen el diccionari), que contenen com a mínim una clàusula for i que poden tenir també clàusules if. Caldrà especificar quina és la clau i quin és el valor per a cada entrada del diccionari (a diferència de les llistes, on només calia especificar el valor de cada element). Vegem-ho amb alguns exemples:"
   ]
  },
  {
   "cell_type": "code",
   "execution_count": null,
   "metadata": {},
   "outputs": [],
   "source": [
    "# Definim un diccionari sobre el que iterarem\n",
    "dict_4 = {1.0: \"one\", 2.0: \"two\", 3.0: \"three\", 4.0: \"four\", 5.0: \"five\"}\n",
    "print(\"Original dict:\\n\\t{}\".format(dict_4))\n",
    "\n",
    "# Iterem sobre les claus i creem un nou diccionari amb les mateixes claus\n",
    "# i \"number\" com a valor (per a tots els elements)\n",
    "dict_5 = {k: \"number\" for k in dict_4.keys()}\n",
    "print(\"dict_5:\\n\\t{}\".format(dict_5))\n",
    "\n",
    "# Iterem sobre els valors i creem un nou diccionari fent servir\n",
    "# els valors com a clau i \"new\" com a valor (per a tots els elements)\n",
    "dict_6 = {v: \"new\" for v in dict_4.values()}\n",
    "print(\"dict_6:\\n\\t{}\".format(dict_6))\n",
    "\n",
    "# Iterem sobre els items i creem un nou diccionari amb les claus\n",
    "# convertides a enter i els valors amb un ! final\n",
    "dict_7 = {int(k): v + \"!\" for (k, v) in dict_4.items()}\n",
    "print(\"dict_7:\\n\\t{}\".format(dict_7))"
   ]
  },
  {
   "cell_type": "markdown",
   "metadata": {},
   "source": [
    "A partir del diccionari original, hem creat tres diccionaris nous fent servir _dict comprehensions_:\n",
    "\n",
    "* Hem creat el diccionari `dict_5` iterant sobre les claus del diccionari original. El diccionari `dict_5` conté les mateixes claus que el diccionari original, però tots els valors associats a aquestes claus són iguals (la cadena de caràcters `'number'`).\n",
    "\n",
    "* Hem creat el diccionari `dict_6` iterant sobre els valors del diccionari original. El diccionari `dict_6` té com a claus els valors del diccionari original, i com a valor totes tenen la mateixa cadena de caràcters (`'new'`). Fixeu-vos que, en aquest cas, el diccionari resultant té la mateixa mida que el diccionari original ja que els valors del diccionari original no es trobaven repetits.\n",
    "\n",
    "* Hem creat el diccionari `dict_7` iterant sobre els items (parells de clau-valor) del diccionari original. El diccionari `dict_7` té com a claus les mateixes claus que el diccionari original però convertides a enters, i com a valor els mateixos valors que el diccionari original, però acabats en un signe d'exclamació.\n",
    "\n",
    "Fixeu-vos com, amb aquest tipus d'expressions, podem obtenir diccionaris de la mateixa longitud que els diccionaris originals, i podem operar sobre les claus i els valors. Vegem-ne alguns exemples més:"
   ]
  },
  {
   "cell_type": "code",
   "execution_count": null,
   "metadata": {},
   "outputs": [],
   "source": [
    "# Creem un diccionari amb les mateixes claus que el diccionari original\n",
    "# però passades a enter, i com a valor hi desem la longitud del valor\n",
    "# original (és a dir, el número de lletres de la paraula)\n",
    "dict_8 = {int(k): len(v) for (k, v) in dict_4.items()}\n",
    "print(\"dict_8:\\n\\t{}\".format(dict_8))\n",
    "\n",
    "# Creem un diccionari amb les mateixes claus que el diccionari original\n",
    "# però passades a enter, i com a valor hi desem el número de vegades que\n",
    "# apareix la lletra e al valor\n",
    "dict_9 = {int(k): v.count(\"e\") for (k, v) in dict_4.items()}\n",
    "print(\"dict_9:\\n\\t{}\".format(dict_9))\n",
    "\n",
    "# Creem un diccionari amb els valors del diccionari original en majúscules\n",
    "# com a clau, i com a valor hi desem la longitud del valor original (és a\n",
    "# dir, el número de lletres de la paraula)\n",
    "dict_10 = {v.upper(): len(v) for (k, v) in dict_4.items()}\n",
    "print(\"dict_10:\\n\\t{}\".format(dict_10))"
   ]
  },
  {
   "cell_type": "markdown",
   "metadata": {},
   "source": [
    "De la mateixa manera que en les _list comprehensions_, les _dict comprehensions_ poden incloure condicionals que permeten filtrar quins elements del diccionari original volem considerar en la creació del nou diccionari. Així, el diccionari resultant tindrà una longitud igual o menor a la del diccionari original:"
   ]
  },
  {
   "cell_type": "code",
   "execution_count": null,
   "metadata": {},
   "outputs": [],
   "source": [
    "# Creem un diccionari amb les mateixes claus que el diccionari original\n",
    "# però passades a enter, i els mateixos valors, incloent només els elements\n",
    "# que tenen alguna e al valor\n",
    "dict_11 = {int(k): v for (k, v) in dict_4.items() if v.count(\"e\")}\n",
    "print(\"dict_11:\\n\\t{}\".format(dict_11))\n",
    "\n",
    "# Creem un diccionari que té com a clau les claus originals en enter i\n",
    "# sumant 10, i com a valor el mateix valor concatenat amb \"+ ten\",\n",
    "# incloent només les claus senars\n",
    "dict_12 = {int(k) + 10: v + \" + ten\"\n",
    "           for (k, v) in dict_4.items() if int(k) % 2}\n",
    "print(\"dict_12:\\n\\t{}\".format(dict_12))"
   ]
  },
  {
   "cell_type": "markdown",
   "metadata": {},
   "source": [
    "Per últim, les _dict comprehensions_ també poden contenir més d'una clàusula `for`, el que permet combinar els continguts de diversos diccionaris en la construcció del nou diccionari. Vegem-ne un exemple d'una baralla de cartes:"
   ]
  },
  {
   "cell_type": "code",
   "execution_count": null,
   "metadata": {},
   "outputs": [],
   "source": [
    "# Definim els 4 pals i el símbol que els representa\n",
    "suits = {\"hearts\": \"\\u2665\", \"tiles\": \"\\u2666\",\n",
    "         \"clovers\": \"\\u2663\", \"pikes\": \"\\u2660\"}\n",
    "# Definim els possibles valors de les cartes\n",
    "ranks = {\"2\": 2, \"3\": 3, \"4\": 4, \"5\": 5, \"6\": 6, \"7\": 7,\n",
    "         \"8\": 8, \"9\": 9, \"10\": 10, \"J\": 11, \"Q\": 12, \"K\": 13, \"A\": 14}\n",
    "# Definim una possible assignació de valors als pals\n",
    "suit_cod = {\"hearts\": 1, \"tiles\": 2, \"clovers\": 3, \"pikes\": 4}"
   ]
  },
  {
   "cell_type": "code",
   "execution_count": null,
   "metadata": {},
   "outputs": [],
   "source": [
    "# Creem un diccionari que contindrà totes les cartes de la baralla, amb\n",
    "# el símbol del pal i el número de carta com a clau, i el número de carta\n",
    "# com a valor\n",
    "card_deck = {r_k + s_v: r_v\n",
    "             for (s_k, s_v) in suits.items() for (r_k, r_v) in ranks.items()}\n",
    "print(card_deck)"
   ]
  },
  {
   "cell_type": "code",
   "execution_count": null,
   "metadata": {},
   "outputs": [],
   "source": [
    "# Creem un diccionari que contindrà totes les cartes de la baralla, amb\n",
    "# el símbol del pal i el número de carta com a clau, i una codificació\n",
    "# única com a valor\n",
    "card_deck_cod = {r_k + s_v: 100 * suit_cod[s_k] + r_v\n",
    "                 for (s_k, s_v) in suits.items()\n",
    "                 for (r_k, r_v) in ranks.items()}\n",
    "print(card_deck_cod)"
   ]
  },
  {
   "cell_type": "markdown",
   "metadata": {},
   "source": [
    "## 1.4.- Conjunts\n",
    "\n",
    "Hi ha una quarta estructura de dades que permet emmagatzemar col·leccions de valors en Python: els conjunts. \n",
    "Els **conjunts** en Python, com veurem a la propera unitat, són col·leccions **sense ordre** d'elements, possiblement **heterogenis** i **sense duplicats**."
   ]
  },
  {
   "cell_type": "markdown",
   "metadata": {},
   "source": [
    "# 2.- Iterables\n",
    "\n",
    "Què tenen en comú les tuples, les llistes i els diccionaris que hem vist a l'apartat anterior o, fins i tot, les cadenes de caràcters? "
   ]
  },
  {
   "cell_type": "code",
   "execution_count": null,
   "metadata": {},
   "outputs": [],
   "source": [
    "# Definim una llista, una tupla, un diccionari i una cadena de caràcters\n",
    "a_list = [1, 2, 3, 4]\n",
    "a_tuple = (1, 2, 3, 4)\n",
    "a_dict = {\"one\": 1, \"two\": 2, \"three\": 3, \"four\": 4}\n",
    "a_str = \"1234\"\n",
    "\n",
    "# Recorrem les estructures amb un for i en mostrem el seu contingut\n",
    "for e in a_list:\n",
    "    print(e, end=\" \")\n",
    "print()\n",
    "\n",
    "for e in a_tuple:\n",
    "    print(e, end=\" \")\n",
    "print()\n",
    "\n",
    "for e in a_dict:\n",
    "    print(e, end=\" \")\n",
    "print()\n",
    "\n",
    "for e in a_str:\n",
    "    print(e, end=\" \")\n",
    "print()"
   ]
  },
  {
   "cell_type": "markdown",
   "metadata": {},
   "source": [
    "Tots ells són objectes iterables en Python. Un objecte **iterable** és un objecte que implementa un mètode que retorna un iterador sobre l'objecte. Un **iterador** és un objecte que implementa el mètode `next`, que va retornant el següent element del contenidor iterable fins que ja no queden més elements, moment en què llança una excepció. És a dir, quan estem fent:"
   ]
  },
  {
   "cell_type": "code",
   "execution_count": null,
   "metadata": {},
   "outputs": [],
   "source": [
    "for e in a_list:\n",
    "    print(e, end=\" \")"
   ]
  },
  {
   "cell_type": "markdown",
   "metadata": {},
   "source": [
    "internament s'està executant un codi similar al següent:"
   ]
  },
  {
   "cell_type": "code",
   "execution_count": null,
   "metadata": {},
   "outputs": [],
   "source": [
    "# Es crea un iterador de la llista\n",
    "list_iterator = iter(a_list)\n",
    "print(type(list_iterator))\n",
    "\n",
    "# Es va cridant el mètode next() de l'iterador fins que es produeix\n",
    "# una excepció de tipus StopIteration\n",
    "while True:\n",
    "    try:\n",
    "        e = next(list_iterator)\n",
    "        print(e, end=\" \")\n",
    "    except StopIteration:\n",
    "        break"
   ]
  },
  {
   "cell_type": "markdown",
   "metadata": {},
   "source": [
    "Hi ha diverses funcions en Python que operen sobre iterables i que ens poden ser útils a l'hora de processar dades.\n",
    "\n",
    "La funció [`zip`](https://docs.python.org/3.8/library/functions.html#zip) actua sobre un conjunt d'iterables, retornant un iterador de tuples, on la tupla número _i_ conté els elements en la posició *i* de cadascun dels iterables:"
   ]
  },
  {
   "cell_type": "code",
   "execution_count": null,
   "metadata": {},
   "outputs": [],
   "source": [
    "# Definim dues llistes\n",
    "nums = [1, 2, 3]\n",
    "strs = [\"one\", \"two\", \"three\"]\n",
    "\n",
    "# Fem servir zip per crear una llista amb tuples de dos elements,\n",
    "# un de cadascuna de les llistes\n",
    "nums_and_strs = zip(nums, strs)\n",
    "print(list(nums_and_strs))"
   ]
  },
  {
   "cell_type": "markdown",
   "metadata": {},
   "source": [
    "Aquesta funció pot rebre qualsevol número d'iterables, i retornarà una llista de tuples de tants elements com iterables ha rebut:"
   ]
  },
  {
   "cell_type": "code",
   "execution_count": null,
   "metadata": {},
   "outputs": [],
   "source": [
    "nums_floats = {1.0: 1, 2.0: 2, 3.0: 3, 4.0: 4, 5.0: 5}\n",
    "nums_in_klingon = (\"wa\", \"cha\", \"wej\")\n",
    "\n",
    "# Fem servir zip per crear una llista amb tuples de quatre elements,\n",
    "# un de cadascuna de les llistes\n",
    "nums_and_strs = list(zip(nums, strs, nums_floats, nums_in_klingon))\n",
    "print(nums_and_strs)\n",
    "print(\"The result has {} elements\".format(len(nums_and_strs)))\n",
    "print(\"Each tuple has {} elements\".format(len(nums_and_strs[0])))\n",
    "print(\"The first tuple is: {}\".format(nums_and_strs[0]))"
   ]
  },
  {
   "cell_type": "markdown",
   "metadata": {},
   "source": [
    "És important notar, d'una banda, que `zip` treballa amb qualsevol tipus d'iterables (fixeu-vos que a l'últim exemple combinem l'ús de llistes, diccionaris i tuples) i, d'altra banda, que el resultat contindrà tants elements com elements tingui l'iterable més petit (fixeu-vos que, tot i que la llista `nums_floats` té 5 elements, el resultat només en té 3).\n",
    "\n",
    "Ja hem vist també la funció [`enumerate`](https://docs.python.org/3.8/library/functions.html#enumerate), que també actua sobre iterables i retorna un iterador de tuples de dos elements, on la tupla número _i_ conté el valor _i_ (la posició de l'element dins de l'iterable) i l'element:"
   ]
  },
  {
   "cell_type": "code",
   "execution_count": null,
   "metadata": {},
   "outputs": [],
   "source": [
    "list(enumerate(nums_in_klingon))"
   ]
  },
  {
   "cell_type": "markdown",
   "metadata": {},
   "source": [
    "Les funcions [`any`](https://docs.python.org/3.8/library/functions.html#any) i [`all`](https://docs.python.org/3.8/library/functions.html#all) actuen també sobre iterables i retornen un booleà que ens indica si hi ha algun valor dins de l'iterable que avalua a True i si tots els valors dins de l'iterable avaluen a True, respectivament:"
   ]
  },
  {
   "cell_type": "code",
   "execution_count": null,
   "metadata": {},
   "outputs": [],
   "source": [
    "# Definim una llista amb tot Trues\n",
    "a_list_of_trues = [True, True, True, True]\n",
    "# Definim una llista amb alguns valors False i un True\n",
    "a_list_with_a_true = [False, False, True, False]\n",
    "\n",
    "print(\"Any on a list of trues:\\t\\t{}\".format(any(a_list_of_trues)))\n",
    "print(\"Any on a list with a True:\\t{}\".format(any(a_list_with_a_true)))\n",
    "\n",
    "print(\"All on a list of trues:\\t\\t{}\".format(all(a_list_of_trues)))\n",
    "print(\"All on a list with a True:\\t{}\".format(all(a_list_with_a_true)))"
   ]
  },
  {
   "cell_type": "markdown",
   "metadata": {},
   "source": [
    "Les funcions poden treballar sobre iterables que contenen elements no booleans (diferents de `True` i `False`). En aquests casos, la seva conversió a booleà es té en compte: "
   ]
  },
  {
   "cell_type": "code",
   "execution_count": null,
   "metadata": {},
   "outputs": [],
   "source": [
    "a_list_of_true_eqs = [True, 1, 2, 3, \"something\", 5.3]\n",
    "a_list_of_false_eqs = [False, 0, 0.3, \"\"]\n",
    "\n",
    "print(\"All on a list of elements that evaluate to True:\\t{}\".\n",
    "      format(all(a_list_of_true_eqs)))\n",
    "print(\"Any on a list of elements that evaluate to False:\\t{}\".\n",
    "      format(all(a_list_of_false_eqs)))"
   ]
  },
  {
   "cell_type": "markdown",
   "metadata": {},
   "source": [
    "# 3.- Una pinzellada de programació orientada a objectes\n",
    "\n",
    "\n",
    "Haurem sentit parlar i tindrem una intuïció de què són les classes, els objectes i els mètodes en Python. Què volen dir, però, aquests conceptes? Tot i que en altres assignatures en donarem un tractament més formal, aquí intentarem presentar un resum dels conceptes més bàsics per començar a entendre com funciona Python.\n",
    "\n",
    "Les classes i els objectes són conceptes bàsics del paradigma de **programació orientada a objectes**. Python és un llenguatge orientat a objectes, així com Ruby, Scala, Java o C++, entre d'altres.\n",
    "\n",
    "Una **classe** és un prototip, una plantilla, per crear **objectes** (instàncies de la plantilla). \n",
    "\n",
    "Així, per exemple, ja coneixem la classe `int` o la classe `float`, que ens permeten crear objectes amb valors enters o reals, respectivament. "
   ]
  },
  {
   "cell_type": "code",
   "execution_count": null,
   "metadata": {},
   "outputs": [],
   "source": [
    "# Ja coneixem la classe int, que representa valors enters\n",
    "an_int = int(5)\n",
    "# an_int és una instància de la classe int\n",
    "print(type(an_int))\n",
    "\n",
    "# La classe int té un mètode bit_length que retorna el número\n",
    "# de bits necessaris per emmagatzemar l'enter\n",
    "an_int.bit_length()"
   ]
  },
  {
   "cell_type": "code",
   "execution_count": null,
   "metadata": {},
   "outputs": [],
   "source": [
    "# Ja coneixem la classe float, que representa valors reals\n",
    "a_float = float(5.0)\n",
    "# a_float és una instància de la classe float\n",
    "print(type(a_float))\n",
    "\n",
    "# La classe float té un mètode is_integer que retorna un booleà\n",
    "# indicant si el valor emmagatzemat és o no un enter\n",
    "a_float.is_integer()"
   ]
  },
  {
   "cell_type": "markdown",
   "metadata": {},
   "source": [
    "Així, les variables `an_int` o `a_float` són instàncies de les classes `int` i `float`. Les classes tenen definits uns **mètodes**, que podem cridar amb la sintaxis `instància.nom_del_mètode()`. Cada classe té definit un conjunt de mètodes: per exemple, la classe `int` disposa del mètode `bit_length` i la classe `float` del mètode `is_integer`."
   ]
  },
  {
   "cell_type": "markdown",
   "metadata": {},
   "source": [
    "Més enllà de fer servir classes ja definides, Python també ens permet crear les nostres pròpies classes. Vegem-ne un exemple: crearem la classe `tea` que ens permetrà representar tes. De cada te, en desarem el nom, el tipus i el temps d'infusió ideal. Això seran atributs de cada instància de la classe te, ja que cada instància (cada te individual) tindrà els seus propis valors d'aquestes variables. D'un te, en voldrem saber les seves dades, el voldrem infusionar, i voldrem saber si és compatible amb un altre te. Això són comportaments associats al te, que implementarem a través de mètodes. Tots els tes se serveixen en tasses (`cup`), independentment del tipus de te que siguin. Per tant, la classe té tindrà un atribut de classe que informarà d'això, i que serà comú a totes les instàncies de la classe:"
   ]
  },
  {
   "cell_type": "code",
   "execution_count": null,
   "metadata": {},
   "outputs": [],
   "source": [
    "from time import sleep\n",
    "\n",
    "\n",
    "class tea:\n",
    "\n",
    "    # Definim l'atribut de classe recipient\n",
    "    recipient = 'cup'\n",
    "\n",
    "    def __init__(self, name, type_of_tea, brewing_time):\n",
    "        # Definim els atributs d'instància name, type_of_tea i brewing_time\n",
    "        self.name = name\n",
    "        self.type_of_tea = type_of_tea\n",
    "        self.brewing_time = brewing_time\n",
    "\n",
    "    # Definim el mètode d'instància print_me\n",
    "    def print_me(self):\n",
    "        print(\"{} is a {} tea (brewing time {} seconds) served in a {}\".format(\n",
    "            self.name, self.type_of_tea, self.brewing_time, self.recipient))\n",
    "\n",
    "    # Definim el mètode d'instància brew\n",
    "    def brew(self):\n",
    "        sleep(self.brewing_time)\n",
    "\n",
    "    # Definim el mètode d'instància can_be_mixed\n",
    "    def can_be_mixed(self, another_tea):\n",
    "        return self.type_of_tea == another_tea.type_of_tea"
   ]
  },
  {
   "cell_type": "code",
   "execution_count": null,
   "metadata": {},
   "outputs": [],
   "source": [
    "# Creem tres instàncies de la classe te\n",
    "morning_tea = tea(\"Earl grey\", \"Black\", 4)\n",
    "exotic_tea = tea(\"Chai late\", \"Black\", 4)\n",
    "jap_tea = tea(\"Sencha\", \"Green\", 2)\n",
    "jap_tea_2 = tea(\"Matcha\", \"Red\", 3)\n",
    "\n",
    "# Executem el mètode print_me de les tres instàncies (observem com cadascuna\n",
    "# d'elles conté els atributs d'instància que hem indicat al crear les\n",
    "# instàncies)\n",
    "morning_tea.print_me()\n",
    "exotic_tea.print_me()\n",
    "jap_tea.print_me()\n",
    "jap_tea_2.print_me()\n",
    "print(\"\\n\")\n",
    "\n",
    "# Hem detectat un error en els atributs del te Matcha, i procedim a\n",
    "# modificar-los: fixeu-vos com el canvi només afecta als atributs del\n",
    "# te Matcha, i no pas als atributs de cap dels altres tes\n",
    "jap_tea_2.type_of_tea = \"Green\"\n",
    "jap_tea_2.brewing_time = 1\n",
    "morning_tea.print_me()\n",
    "exotic_tea.print_me()\n",
    "jap_tea.print_me()\n",
    "jap_tea_2.print_me()\n",
    "\n",
    "# Executem el mètode brew de jap_tea (esperem 2 segons)\n",
    "jap_tea.brew()\n",
    "\n",
    "# Executem el mètode can_be_mixed de morning_tea per comprovar si és compatible\n",
    "# amb exotic_tea\n",
    "morning_tea.can_be_mixed(exotic_tea)"
   ]
  },
  {
   "cell_type": "markdown",
   "metadata": {},
   "source": [
    "Fixeu-vos com aquest paradigma de programació permet **encapsular** codi. Per exemple, el programador pot infusionar un te o comprovar si dos tes són compatibles sense saber com funcionen internament aquests mètodes (no té perquè saber el temps d'infusionat de cada te o quines són les condicions que s'han de complir perquè dos tes siguin compatibles, només cal que cridi als mètodes que ja incorporen el comportament). \n",
    "\n",
    "És interessant notar també que els mètodes els cridem fent servir la sintaxis `instància.nom_del_mètode()`, a excepció del mètode `__init__`. Aquest és un mètode especial que anomenem constructor, i que defineix com construïm les instàncies de cada classe. En aquest cas, necessitem tres paràmetres, `name`, `type_of_tea`, i `brewing_time`, que especificarem quan construïm l'objecte:\n",
    "\n",
    "```\n",
    "morning_tea = tea(\"Earl grey\", \"Black\", 4)\n",
    "exotic_tea = tea(\"Chai late\", \"Black\", 4)\n",
    "jap_tea = tea(\"Sencha\", \"Green\", 2)\n",
    "jap_tea_2 = tea(\"Matcha\", \"Red\", 3)\n",
    "```\n",
    "\n",
    "Durant el curs no necessitarem crear les nostres pròpies classes, però sí que farem servir les classes que les llibreries de Python ens proporcionen per a treballar. Per tant, no és imprescindible entendre tots els detalls de com definim classes, però sí que és important entendre què és un objecte, com podem cridar als mètodes que aquest implementa i com podem accedir als seus atributs."
   ]
  },
  {
   "cell_type": "markdown",
   "metadata": {},
   "source": [
    "# 4.- Control de flux d'execució\n",
    "\n",
    "\n",
    "Si no incloem alguna instrucció que indiqui el contrari, els programes en Python executen les instruccions seqüencialment, una darrera de l'altra (de dalt a baix):"
   ]
  },
  {
   "cell_type": "code",
   "execution_count": null,
   "metadata": {},
   "outputs": [],
   "source": [
    "print(\"Pedestrian arrives to intersection\")\n",
    "print(\"Pedestrian crosses the street\")\n",
    "print(\"Pedestrian arrives to destination\")"
   ]
  },
  {
   "cell_type": "markdown",
   "metadata": {},
   "source": [
    "Les tres instruccions anteriors, que contenen un `print` d'un missatge, s'executen seqüencialment: el vianant arriba a la intersecció, després creua el carrer i finalment arriba a la destinació.\n",
    "\n",
    "Existeixen però un seguit d'instruccions que ens permeten alterar aquest flux seqüencial dels programes: les estructures de control **alternatives** o condicionals (amb `if-elif-else`)  i les estructures de control **iteratives** o bucles (amb `for` o bé `while`).\n",
    "\n",
    "## 4.1.- Estructures de control alternatives\n",
    "\n",
    "La instrucció [`if`](https://docs.python.org/3.8/tutorial/controlflow.html#if-statements) ens permet executar un bloc de codi si es compleix una determinada condició. Si la condició no es compleix, es poden comprovar condicions addicionals amb clàusules `elif` o bé es pot executar un segon bloc de codi especificat a la clàusula `else`. Les clàusules `elif` i `else` són però opcionals."
   ]
  },
  {
   "cell_type": "code",
   "execution_count": null,
   "metadata": {},
   "outputs": [],
   "source": [
    "light_color = \"green\"\n",
    "\n",
    "print(\"Pedestrian arrives to intersection\")\n",
    "\n",
    "if light_color == 'green':\n",
    "    print(\"Pedestrian crosses the street\")\n",
    "    print(\"Pedestrian arrives to destination\")"
   ]
  },
  {
   "cell_type": "markdown",
   "metadata": {},
   "source": [
    "A la cel·la de codi anterior, el semàfor es troba en verd. El vianant arriba al pas de vianants i, com que el semàfor és verd, es compleix la condició de l'`if` (`light_color == 'green'`), de manera que el vianant creua el carrer i arriba a la seva destinació.\n",
    "\n",
    "En canvi, a la cel·la següent el semàfor es troba en groc. Quan el vianant arriba al pas de vianants, la condició de l'`if` no es compleix, i el bloc de codi de dins de l'`if` no s'executa."
   ]
  },
  {
   "cell_type": "code",
   "execution_count": null,
   "metadata": {},
   "outputs": [],
   "source": [
    "light_color = \"yellow\"\n",
    "\n",
    "print(\"Pedestrian arrives to intersection\")\n",
    "\n",
    "if light_color == 'green':\n",
    "    print(\"Pedestrian crosses the street\")\n",
    "    print(\"Pedestrian arrives to destination\")"
   ]
  },
  {
   "cell_type": "markdown",
   "metadata": {},
   "source": [
    "Els dos exemples anteriors només tenien una clàusula `if`. Podem incloure també una clàusula `else` que especifiqui què cal fer si la condició no es compleix:"
   ]
  },
  {
   "cell_type": "code",
   "execution_count": null,
   "metadata": {},
   "outputs": [],
   "source": [
    "light_color = \"green\"\n",
    "\n",
    "print(\"Pedestrian arrives to intersection\")\n",
    "\n",
    "if light_color == 'green':\n",
    "    print(\"Pedestrian crosses the street\")\n",
    "    print(\"Pedestrian arrives to destination\")\n",
    "else:\n",
    "    print(\"Pedestrian remains still\")"
   ]
  },
  {
   "cell_type": "code",
   "execution_count": null,
   "metadata": {},
   "outputs": [],
   "source": [
    "light_color = \"yellow\"\n",
    "\n",
    "print(\"Pedestrian arrives to intersection\")\n",
    "\n",
    "if light_color == 'green':\n",
    "    print(\"Pedestrian crosses the street\")\n",
    "    print(\"Pedestrian arrives to destination\")\n",
    "else:\n",
    "    print(\"Pedestrian remains still\")"
   ]
  },
  {
   "cell_type": "markdown",
   "metadata": {},
   "source": [
    "També podem incloure clàusules `elif` amb condicions addicionals:"
   ]
  },
  {
   "cell_type": "code",
   "execution_count": null,
   "metadata": {},
   "outputs": [],
   "source": [
    "light_color = \"green\"\n",
    "\n",
    "print(\"Pedestrian arrives to intersection\")\n",
    "\n",
    "if light_color == 'green':\n",
    "    print(\"Pedestrian crosses the street\")\n",
    "    print(\"Pedestrian arrives to destination\")\n",
    "elif light_color == 'yellow':\n",
    "    print(\"Pedestrian gets ready to cross\")\n",
    "else:\n",
    "    print(\"Pedestrian remains still\")"
   ]
  },
  {
   "cell_type": "code",
   "execution_count": null,
   "metadata": {},
   "outputs": [],
   "source": [
    "light_color = \"yellow\"\n",
    "\n",
    "print(\"Pedestrian arrives to intersection\")\n",
    "\n",
    "if light_color == 'green':\n",
    "    print(\"Pedestrian crosses the street\")\n",
    "    print(\"Pedestrian arrives to destination\")\n",
    "elif light_color == 'yellow':\n",
    "    print(\"Pedestrian gets ready to cross\")\n",
    "else:\n",
    "    print(\"Pedestrian remains still\")"
   ]
  },
  {
   "cell_type": "code",
   "execution_count": null,
   "metadata": {},
   "outputs": [],
   "source": [
    "light_color = \"red\"\n",
    "\n",
    "print(\"Pedestrian arrives to intersection\")\n",
    "\n",
    "if light_color == 'green':\n",
    "    print(\"Pedestrian crosses the street\")\n",
    "    print(\"Pedestrian arrives to destination\")\n",
    "elif light_color == 'yellow':\n",
    "    print(\"Pedestrian gets ready to cross\")\n",
    "else:\n",
    "    print(\"Pedestrian remains still\")"
   ]
  },
  {
   "cell_type": "markdown",
   "metadata": {},
   "source": [
    "Les condicions d'un `if` poden ser tant complexes com sigui necessari: qualsevol expressió que avaluï a `True` o `False` es pot incloure en una clàusula `if`. A més, podem incloure estructures `if-elif-else` dins d'altres estructures, per tal de generar fluxos d'execució complexos."
   ]
  },
  {
   "cell_type": "code",
   "execution_count": null,
   "metadata": {},
   "outputs": [],
   "source": [
    "light_color = \"green\"\n",
    "car_blocking_pass = True\n",
    "pedestrian_distracted = False\n",
    "\n",
    "print(\"Pedestrian arrives to intersection\")\n",
    "\n",
    "if light_color == 'green' and not pedestrian_distracted:\n",
    "    if not car_blocking_pass:\n",
    "        print(\"Pedestrian crosses the street\")\n",
    "        print(\"Pedestrian arrives to destination\")\n",
    "    else:\n",
    "        print(\"Pedestrian yells!\")\n",
    "elif light_color == 'yellow' and not pedestrian_distracted:\n",
    "    print(\"Pedestrian gets ready to cross\")\n",
    "else:\n",
    "    print(\"Pedestrian remains still\")"
   ]
  },
  {
   "cell_type": "markdown",
   "metadata": {},
   "source": [
    "Us aconsellem que varieu els valors de les variables del codi de la cel·la anterior i aneu executant el codi, per comprovar com es comporta en cada situació.\n",
    "\n",
    "\n",
    "## 4.2.- Estructures de control iteratives\n",
    "\n",
    "Les estructures de control iteratives permeten executar un mateix bloc de codi diverses vegades.\n",
    "\n",
    "La instrucció [`while`](https://docs.python.org/3.8/reference/compound_stmts.html#the-while-statement) permet executar un fragment de codi diverses vegades, mentre es compleixi una condició:\n"
   ]
  },
  {
   "cell_type": "code",
   "execution_count": null,
   "metadata": {},
   "outputs": [],
   "source": [
    "light_color = \"red\"\n",
    "its_before_color_change = 10\n",
    "\n",
    "print(\"Pedestrian arrives to intersection\")\n",
    "\n",
    "while light_color != \"green\":\n",
    "\n",
    "    print(\"Pedestrian remains still\")\n",
    "\n",
    "    if light_color == 'yellow':\n",
    "        print(\"Pedestrian gets ready to cross\")\n",
    "        light_color = \"green\"\n",
    "    else:\n",
    "        its_before_color_change = its_before_color_change - 1\n",
    "        if its_before_color_change == 0:\n",
    "            light_color = \"yellow\"\n",
    "\n",
    "print(\"Pedestrian crosses the street\")\n",
    "print(\"Pedestrian arrives to destination\")"
   ]
  },
  {
   "cell_type": "markdown",
   "metadata": {},
   "source": [
    "Al fragment anterior, el codi de dins del `while` s'executa mentre el semàfor no sigui verd. La lògica de condicionals dins de l'`if` fa que el semàfor passi de vermell a groc després de 10 iteracions, i que el semàfor passi de groc a verd a la següent iteració.\n",
    "\n",
    "La instrucció [`for`](https://docs.python.org/3.8/reference/compound_stmts.html#the-for-statement) també permet crear bucles, en aquest cas iterant sobre una seqüència d'objectes:"
   ]
  },
  {
   "cell_type": "code",
   "execution_count": null,
   "metadata": {},
   "outputs": [],
   "source": [
    "for i in [\"green\", \"yellow\", \"red\"]:\n",
    "    print(\"The color is now: {}\".format(i))"
   ]
  },
  {
   "cell_type": "markdown",
   "metadata": {},
   "source": [
    "A cada iteració del bucle, la variable `i` pren el valor d'un dels elements de la llista, en aquest cas, d'un dels possibles colors del semàfor. \n",
    "\n",
    "En Python és molt habitual fer servir bucles `for` combinats amb [`range`](https://docs.python.org/3.8/library/stdtypes.html#range), una funció que crea rangs de números:"
   ]
  },
  {
   "cell_type": "code",
   "execution_count": null,
   "metadata": {},
   "outputs": [],
   "source": [
    "for i in range(10):\n",
    "    print(\"The number is {}\".format(i))"
   ]
  },
  {
   "cell_type": "markdown",
   "metadata": {},
   "source": [
    "Podem incloure estructures iteratives dins d'altres estructures iteratives, per tal de codificar el flux que necessitem per al nostre programa. Per exemple, anem a generar totes les cartes d'una baralla francesa:"
   ]
  },
  {
   "cell_type": "code",
   "execution_count": null,
   "metadata": {},
   "outputs": [],
   "source": [
    "suits = [\"\\u2665\", \"\\u2666\", \"\\u2663\", \"\\u2660\"]\n",
    "\n",
    "playing_cards = []\n",
    "\n",
    "for s in suits:\n",
    "\n",
    "    for r in range(2, 15):\n",
    "\n",
    "        if r == 14:\n",
    "            t = \"A\"\n",
    "        elif r == 13:\n",
    "            t = \"K\"\n",
    "        elif r == 12:\n",
    "            t = \"Q\"\n",
    "        elif r == 11:\n",
    "            t = \"J\"\n",
    "        else:\n",
    "            t = str(r)\n",
    "\n",
    "        playing_cards.append(t + s)\n",
    "\n",
    "print(playing_cards)"
   ]
  },
  {
   "cell_type": "markdown",
   "metadata": {},
   "source": [
    "La instrucció [`break`](https://docs.python.org/3/reference/simple_stmts.html#break) permet sortir d'un bucle en un moment donat, aturant-ne la seva execució. Per exemple, el següent bucle for hauria d'executar-se 10 vegades si considerem el número d'elements de `range(10)`, però a la cinquena iteració ($i=4$) s'executa el break i s'interromp l'execució del bucle:"
   ]
  },
  {
   "cell_type": "code",
   "execution_count": null,
   "metadata": {},
   "outputs": [],
   "source": [
    "for i in range(10):\n",
    "    print(\"We are in iteration {}\".format(i))\n",
    "    if i == 4:\n",
    "        break"
   ]
  },
  {
   "cell_type": "markdown",
   "metadata": {},
   "source": [
    "## 4.3.- Funcions\n",
    "\n",
    "L'ús de funcions també altera el flux d'execució lineal d'un programa. Així, quan definim una funció (indicada amb la paraula clau `def`) el codi de dins de la funció no s'executa; en canvi, quan cridem la funció, executarem el codi que aquesta conté:"
   ]
  },
  {
   "cell_type": "code",
   "execution_count": null,
   "metadata": {},
   "outputs": [],
   "source": [
    "\n",
    "\n",
    "# Definim la funció suma\n",
    "def suma(a, b):\n",
    "    # El cos de la funció no s'executa en el moment de la definició\n",
    "    r = a + b\n",
    "    print(\"{} + {} = {}\".format(a, b, r))\n",
    "    return r\n",
    "\n",
    "\n",
    "# Cridem la funció suma: el cos de la funció s'executarà a continuació\n",
    "suma(3, 5)\n",
    "suma(10, 2)"
   ]
  },
  {
   "cell_type": "markdown",
   "metadata": {},
   "source": [
    "Més endavant veurem amb detall les possibilitats que ens ofereix la definició de funcions i les diferents opcions en la seva definició i ús. De moment, és important recordar que ens permeten alterar el flux lineal d'execució d'un programa, i que són clau en la creació de codi modular (una propietat important per aconseguir codi clar i fàcil de mantenir)."
   ]
  },
  {
   "cell_type": "markdown",
   "metadata": {},
   "source": [
    "# 5.- Guia d'estil\n",
    "\n",
    "Una guia d'estil de codi és un document que descriu un conjunt de regles i recomanacions a seguir quan escrivim codi en un llenguatge determinat. El [PEP8](https://www.python.org/dev/peps/pep-0008/) és l'especificació que recull la guia d'estil de Python. Si us plau, **llegiu ara aquest document** i intenteu seguir les indicacions que s'hi donen quan programeu en Python. \n",
    "\n",
    "La guia s'ha d'interpretar com un conjunt de recomanacions, que cal seguir sempre i quan el sentit comú no indiqui el contrari. És a dir, no són normes estrictes a complir, i en certes circumstàncies serà preferible no fer cas a algunes de les recomanacions. En general, però, seguir les recomanacions de la guia farà que el codi que escrivim sigui fàcilment llegible, tant per nosaltres mateixos com per a altres desenvolupadors.\n",
    "\n",
    "Existeixen diverses eines que ajuden als desenvolupadors a seguir les guies estil. En els notebooks de l'assignatura, farem servir `pycodestyle`, una eina que podem activar en els notebooks per tal de mostrar missatges d'alerta quan el codi que escrivim se salti les recomanacions de la guia d'estil. En primer lloc, carregarem l'extensió `pycodestyle_magic`. Després, l'activarem o desactivarem fent servir les instruccions `%pycodestyle_on` i `%pycodestyle_off`:"
   ]
  },
  {
   "cell_type": "code",
   "execution_count": null,
   "metadata": {},
   "outputs": [],
   "source": [
    "%load_ext pycodestyle_magic"
   ]
  },
  {
   "cell_type": "code",
   "execution_count": null,
   "metadata": {},
   "outputs": [],
   "source": [
    "%pycodestyle_on"
   ]
  },
  {
   "cell_type": "code",
   "execution_count": null,
   "metadata": {},
   "outputs": [],
   "source": [
    "# Codi que segueix la guia d'estil: no genera alertes\n",
    "print(\"Wrong style\")"
   ]
  },
  {
   "cell_type": "code",
   "execution_count": null,
   "metadata": {},
   "outputs": [],
   "source": [
    "# Codi que no segueix la guia d'estil: genera un missatge d'alerta\n",
    "print(\"Wrong style\" )"
   ]
  },
  {
   "cell_type": "markdown",
   "metadata": {},
   "source": [
    "Fixeu-vos que les dues instruccions relatives a la revisió de l'estil de codi comencen pel caràcter `%`. Aquestes instruccions no són sentències de Python, sinó instruccions especials del kernel que es fa servir en els notebooks per proveir-los de funcionalitat addicional. Aquestes instruccions es coneixen en anglès com a *magic commands*."
   ]
  },
  {
   "cell_type": "markdown",
   "metadata": {},
   "source": [
    "# 6.- Exercicis per practicar"
   ]
  },
  {
   "cell_type": "markdown",
   "metadata": {},
   "source": [
    "A continuació hi trobareu un conjunt de problemes que us poden servir per a practicar els conceptes explicats en aquesta primera unitat, així com per a refrescar els conceptes bàsics de programació. Us recomanem que intenteu fer aquests problemes vosaltres mateixos i que, una vegada realitzats, compareu la solució que us proposem amb la vostra solució. No dubteu en adreçar tots els dubtes que sorgeixin de la resolució d'aquests exercicis o bé de les solucions proposades al fòrum de l'aula.\n",
    "\n",
    "\n",
    "1. Calcula la suma dels primers 100 números parells."
   ]
  },
  {
   "cell_type": "code",
   "execution_count": null,
   "metadata": {},
   "outputs": [],
   "source": [
    "# Resposta"
   ]
  },
  {
   "cell_type": "markdown",
   "metadata": {},
   "source": [
    "2. La seqüència de Fibonnacci és una seqüència en la qual cada terme és la suma dels dos termes anteriors (la seqüència comença amb els valors 1 i 1). \n",
    "\n",
    "     $1, 1, 2, 3, 5, 8, 13, 21,...$\n",
    "\n",
    "Calculeu la suma dels 50 primers valors de la seqüència.\n",
    "\n"
   ]
  },
  {
   "cell_type": "code",
   "execution_count": null,
   "metadata": {},
   "outputs": [],
   "source": [
    "# Resposta"
   ]
  },
  {
   "cell_type": "markdown",
   "metadata": {},
   "source": [
    "3. Diem que un nombre és primer si només és divisible per ell mateix i per 1. Genereu una llista amb els 100 primers nombres primers.\n",
    "\n"
   ]
  },
  {
   "cell_type": "code",
   "execution_count": null,
   "metadata": {},
   "outputs": [],
   "source": [
    "# Resposta"
   ]
  },
  {
   "cell_type": "markdown",
   "metadata": {},
   "source": [
    "4. Calculeu la suma dels quadrats dels números naturals entre 100 i 200 (ambdós valors inclosos).\n"
   ]
  },
  {
   "cell_type": "code",
   "execution_count": null,
   "metadata": {},
   "outputs": [],
   "source": [
    "# Resposta"
   ]
  },
  {
   "cell_type": "markdown",
   "metadata": {},
   "source": [
    "5. Genereu tots els números de 3 dígits que es poden generar amb els dígits 3, 5 i 7.\n",
    "\n"
   ]
  },
  {
   "cell_type": "code",
   "execution_count": null,
   "metadata": {},
   "outputs": [],
   "source": [
    "# Resposta"
   ]
  },
  {
   "cell_type": "markdown",
   "metadata": {},
   "source": [
    "6. Compteu i deseu el número de vegades que apareix cada paraula en el següent text. \n",
    "\n",
    "*Forty-two is a pronic number and an abundant number; its prime factorization 2 · 3 · 7 makes it the second sphenic number and also the second of the form (2 · 3 · r).*\n",
    "\n"
   ]
  },
  {
   "cell_type": "code",
   "execution_count": null,
   "metadata": {},
   "outputs": [],
   "source": [
    "# Resposta"
   ]
  },
  {
   "cell_type": "markdown",
   "metadata": {},
   "source": [
    "7. Genereu totes les possibles subcadenes de 3 lletres de la següent paraula: 'Electrodinamòmetre'.\n",
    "\n"
   ]
  },
  {
   "cell_type": "code",
   "execution_count": null,
   "metadata": {},
   "outputs": [],
   "source": [
    "# Resposta"
   ]
  },
  {
   "cell_type": "markdown",
   "metadata": {},
   "source": [
    "8. Creeu una funció que retorni totes les possibles subcadenes d'n lletres d'una paraula qualsevol. La funció rebrà com a paràmetres el número de lletres `n` i la paraula `word`, i retornarà una llista amb les subcadenes."
   ]
  },
  {
   "cell_type": "code",
   "execution_count": null,
   "metadata": {},
   "outputs": [],
   "source": [
    "# Resposta"
   ]
  },
  {
   "cell_type": "markdown",
   "metadata": {},
   "source": [
    "## 6.1.- Solucions als exercicis per practicar\n",
    "\n",
    "\n",
    "1. Calcula la suma dels primers 100 números parells."
   ]
  },
  {
   "cell_type": "code",
   "execution_count": null,
   "metadata": {},
   "outputs": [],
   "source": [
    "# Opció 1: fent servir una list comprehension que filtra els\n",
    "# valors parells (i%2 == 0) i sumant els elements de la llista amb sum:\n",
    "suma = sum([i for i in range(200) if i % 2 == 0])\n",
    "print(suma)"
   ]
  },
  {
   "cell_type": "code",
   "execution_count": null,
   "metadata": {},
   "outputs": [],
   "source": [
    "# Opció 2: creant un bucle for amb un if a dins, de manera que només sumem\n",
    "# els valors parells (i%2 == 0)\n",
    "suma = 0\n",
    "for i in range(200):\n",
    "    if i % 2 == 0:\n",
    "        suma = suma + i\n",
    "print(suma)"
   ]
  },
  {
   "cell_type": "markdown",
   "metadata": {},
   "source": [
    "2. La seqüència de Fibonnacci és una seqüència en la qual cada terme és la suma dels dos termes anteriors (la seqüència comença amb els valors 1 i 1). \n",
    "\n",
    "     $1, 1, 2, 3, 5, 8, 13, 21,...$\n",
    "\n",
    "Calculeu la suma dels 50 primers valors de la seqüència."
   ]
  },
  {
   "cell_type": "code",
   "execution_count": null,
   "metadata": {},
   "outputs": [],
   "source": [
    "# Opció 1: creant una llista amb els valors a sumar\n",
    "\n",
    "# Creem una llista amb els 50 primers valors\n",
    "fib = [1, 1]\n",
    "for i in range(48):\n",
    "    fib.append(fib[-1] + fib[-2])\n",
    "print(fib)\n",
    "\n",
    "# Sumem els valors de la seqüència\n",
    "suma = sum(fib)\n",
    "print(suma)"
   ]
  },
  {
   "cell_type": "code",
   "execution_count": null,
   "metadata": {},
   "outputs": [],
   "source": [
    "# Opció 2: sense crear una llista amb els valors de la seqüència\n",
    "\n",
    "suma = 2\n",
    "# Desem els dos últims valors de la seqüència a les variables l1 i l2\n",
    "l1, l2 = 1, 1\n",
    "for i in range(48):\n",
    "    n = l1 + l2\n",
    "    suma += n\n",
    "    l2 = l1\n",
    "    l1 = n\n",
    "\n",
    "print(suma)"
   ]
  },
  {
   "cell_type": "markdown",
   "metadata": {},
   "source": [
    "3. Diem que un nombre és primer si només és divisible per ell mateix i per 1. Genereu una llista amb els 100 primers nombres primers."
   ]
  },
  {
   "cell_type": "code",
   "execution_count": null,
   "metadata": {},
   "outputs": [],
   "source": [
    "primes = [2]\n",
    "i = 3\n",
    "while len(primes) != 100:\n",
    "    is_prime = True\n",
    "\n",
    "    # Si i és divisible per qualsevol dels primers que ja hem identificat,\n",
    "    # aleshores i no és primer\n",
    "    for p in primes:\n",
    "        if i % p == 0:\n",
    "            is_prime = False\n",
    "            break\n",
    "    # Si i és primer, l'afegim a la llista de primers\n",
    "    if is_prime:\n",
    "        primes.append(i)\n",
    "    i += 2\n",
    "\n",
    "print(primes)"
   ]
  },
  {
   "cell_type": "markdown",
   "metadata": {},
   "source": [
    "4. Calculeu la suma dels quadrats dels números naturals entre 100 i 200 (ambdós valors inclosos)."
   ]
  },
  {
   "cell_type": "code",
   "execution_count": null,
   "metadata": {},
   "outputs": [],
   "source": [
    "# Fem servir sum sobre una list comprehension que ens genera els valors\n",
    "# dels quadrats demanats\n",
    "sum([x**2 for x in range(100, 201)])"
   ]
  },
  {
   "cell_type": "markdown",
   "metadata": {},
   "source": [
    "5. Genereu tots els números de 3 dígits que es poden generar amb els dígits 3, 5 i 7."
   ]
  },
  {
   "cell_type": "code",
   "execution_count": null,
   "metadata": {},
   "outputs": [],
   "source": [
    "digits = [3, 5, 7]\n",
    "# Creem tres bucles for que recorren la llista de possibles dígits\n",
    "result = []\n",
    "for d1 in digits:\n",
    "    for d2 in digits:\n",
    "        for d3 in digits:\n",
    "            result.append(100*d1 + 10*d2 + d3)\n",
    "\n",
    "print(result)"
   ]
  },
  {
   "cell_type": "markdown",
   "metadata": {},
   "source": [
    "6. Compteu i deseu el número de vegades que apareix cada paraula en el següent text. \n",
    "\n",
    "*Forty-two is a pronic number and an abundant number; its prime factorization 2 · 3 · 7 makes it the second sphenic number and also the second of the form (2 · 3 · r).*"
   ]
  },
  {
   "cell_type": "code",
   "execution_count": null,
   "metadata": {},
   "outputs": [],
   "source": [
    "text = \"Forty-two is a pronic number and an abundant number; \"\n",
    "text += \"its prime factorization 2 · 3 · 7 makes it the second sphenic \"\n",
    "text += \"number and also the second of the form (2 · 3 · r)\"\n",
    "\n",
    "# Fem servir un diccionari per emmagatzemar el número de vegades que\n",
    "# surt cada paraula\n",
    "word_counter = {}\n",
    "for word in text.split(\" \"):\n",
    "    if word in word_counter:\n",
    "        # Si ja hem trobat la paraula anteriorment, incrementem el comptador\n",
    "        word_counter[word] += 1\n",
    "    else:\n",
    "        # Si és la primera vegada que vegem la paraula, posem el comptador a 1\n",
    "        word_counter[word] = 1\n",
    "\n",
    "print(word_counter)"
   ]
  },
  {
   "cell_type": "markdown",
   "metadata": {},
   "source": [
    "7. Genereu totes les possibles subcadenes de 3 lletres de la següent paraula: 'Electrodinamòmetre'."
   ]
  },
  {
   "cell_type": "code",
   "execution_count": null,
   "metadata": {},
   "outputs": [],
   "source": [
    "word = \"Electrodinamòmetre\"\n",
    "words = []\n",
    "# Extraiem la subcadena de 3 lletres que comença en cada possible\n",
    "# posició inicial\n",
    "for i in range(len(word)-2):\n",
    "    words.append(word[i:i+3])\n",
    "print(words)"
   ]
  },
  {
   "cell_type": "markdown",
   "metadata": {},
   "source": [
    "8. Creeu una funció que retorni totes les possibles subcadenes d'n lletres d'una paraula qualsevol. La funció rebrà com a paràmetres el número de lletres `n` i la paraula `word`, i retornarà una llista amb les subcadenes."
   ]
  },
  {
   "cell_type": "code",
   "execution_count": null,
   "metadata": {},
   "outputs": [],
   "source": [
    "def substrings(n, word):\n",
    "    words = []\n",
    "    for i in range(len(word)-n+1):\n",
    "        words.append(word[i:i+n])\n",
    "    return words"
   ]
  },
  {
   "cell_type": "code",
   "execution_count": null,
   "metadata": {},
   "outputs": [],
   "source": [
    "substrings(4, word)"
   ]
  }
 ],
 "metadata": {
  "language_info": {
   "name": "python"
  }
 },
 "nbformat": 4,
 "nbformat_minor": 2
}
