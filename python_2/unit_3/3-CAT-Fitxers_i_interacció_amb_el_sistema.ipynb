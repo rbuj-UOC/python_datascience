{
 "cells": [
  {
   "cell_type": "markdown",
   "metadata": {},
   "source": [
    "<div style=\"width: 100%; clear: both;\">\n",
    "    <div style=\"float: left; width: 50%;\">\n",
    "       <img src=\"http://www.uoc.edu/portal/_resources/common/imatges/marca_UOC/UOC_Masterbrand.jpg\", align=\"left\">\n",
    "    </div>\n",
    "</div>\n",
    "\n",
    "<div style=\"float: right; width: 50%;\">\n",
    "    <p style=\"margin: 0; padding-top: 22px; text-align:right;\">22.403 · Programació per a la ciència de dades</p>\n",
    "    <p style=\"margin: 0; text-align:right;\">Grau en Ciència de Dades Aplicada</p>\n",
    "    <p style=\"margin: 0; text-align:right; padding-button: 100px;\">Estudis d'Informàtica, Multimèdia i Telecomunicació</p>\n",
    "</div>\n",
    "\n",
    "</div>\n",
    "<div style=\"width: 100%; clear: both;\">\n",
    "<div style=\"width:100%;\">&nbsp;</div>"
   ]
  },
  {
   "cell_type": "markdown",
   "metadata": {},
   "source": [
    "Programació per a la ciència de dades\n",
    "============================\n",
    "\n",
    "--- \n",
    "\n",
    "Unitat 3: Fitxers i interacció amb el sistema\n",
    "-----------------------------------------------------\n",
    "\n",
    "---\n",
    "\n",
    "### Instruccions d'ús\n",
    "\n",
    "Aquest document és un notebook interactiu que intercala explicacions més aviat teòriques de conceptes de programació amb fragments de codi executables. Per aprofitar els avantatges que aporta aquest format, us recomanem que, en primer lloc, llegiu les explicacions i el codi que us proporcionem. D'aquesta manera tindreu un primer contacte amb els conceptes que hi exposem. Ara bé, **la lectura és només el principi!** Una vegada hagueu llegit el contingut proporcionat, no oblideu executar el codi proporcionat i modificar-lo per crear-ne variants, que us permetin comprovar que heu entès la seva funcionalitat i explorar-ne els detalls d'implementació. Per últim, us recomanem també consultar la documentació enllaçada per explorar amb més profunditat les funcionalitats dels mòduls presentats. \n",
    "\n"
   ]
  },
  {
   "cell_type": "code",
   "execution_count": null,
   "metadata": {},
   "outputs": [],
   "source": [
    "%load_ext pycodestyle_magic"
   ]
  },
  {
   "cell_type": "code",
   "execution_count": null,
   "metadata": {},
   "outputs": [],
   "source": [
    "# Activem les alertes d'estil\n",
    "%pycodestyle_on"
   ]
  },
  {
   "cell_type": "markdown",
   "metadata": {},
   "source": [
    "### Introducció\n",
    "\n",
    "En aquesta unitat veurem com podem interactuar amb el sistema operatiu fent servir Python.\n",
    "\n",
    "En primer lloc, ens centrarem en els fitxers: veurem com es pot llegir el contingut d'un fitxer en Python, com es poden crear nous fitxers i escriure'n el seu contingut, com podem realitzar altres tasques bàsiques sobre fitxers (com ara canviar el nom d'un fitxer, esborrar-lo, o crear carpetes), i alguns altres detalls a tenir en compte a l'hora de treballar amb fitxers des de Python. \n",
    "\n",
    "Seguidament, s'expliquen les nocions bàsiques per treballar amb fitxers comprimits des de Python, tot explicant com llegir i crear fitxers comprimits, i altres tasques bàsiques com ara llistar el contingut d'un fitxer comprimit.\n",
    "\n",
    "A continuació es presenten les funcions de càrrega de dades de més alt nivell, que permeten carregar conjunts de dades des de fitxers sense necessitat de llegir i processar-ne manualment el seu contingut.\n",
    "\n",
    "Després, veurem una alternativa per aconseguir persistència de dades de les nostres aplicacions: la serialització amb `pickle`.\n",
    "\n",
    "Ja per acabar, explicarem com podem interactuar amb una base de dades SQL des del nostre codi Python, i com podem executar altres programes també des del nostre codi.\n",
    "\n",
    "A continuació s'inclou la taula de continguts, que podeu fer servir per a navegar pel document:\n",
    "\n",
    "<ul style=\"list-style-type:none\">\n",
    "    <li><a href='#1.--Fitxers-(amb-el-mòdul-os)'>1. Fitxers (amb el mòdul os)</a></li>\n",
    "    <ul style=\"list-style-type:none\">\n",
    "        <li><a href='#1.1.--Lectura-i-escriptura-de-fitxers'>1.1. Lectura i escriptura de fitxers</a></li>\n",
    "        <ul style=\"list-style-type:none\">\n",
    "            <li><a href='#1.1.1.--El-path'>1.1.1. El path</a></li>\n",
    "            <li><a href='#1.1.2.--El-mode'>1.1.2. El mode</a></li>\n",
    "            <li><a href=\"#1.1.3.--Altres-detalls-en-l'obertura-de-fitxers\">1.1.3. Altres detalls en l'obertura de fitxers</a></li>\n",
    "            <li><a href='#1.1.4.--Lectura-de-fitxers-grans'>1.1.4. Lectura de fitxers grans</a></li>\n",
    "        </ul>\n",
    "        <li><a href='#1.2.--Creació-de-carpetes'>1.2. Creació de carpetes</a></li>\n",
    "        <li><a href='#1.3.--Esborrar-i-renombrar'>1.3. Esborrar i renombrar</a></li>\n",
    "        <li><a href='#1.4.--Funcions-auxiliars-de-paths'>1.4. Funcions auxiliars de paths</a></li>\n",
    "        <li><a href='#1.5.--Llistat-de-directoris'>1.5. Llistat de directoris</a></li>\n",
    "        <li><a href='#1.6.--Patrons-de-Unix-shell'>1.6. Patrons de Unix shell</a></li>\n",
    "        <li><a href='#1.7.--Obtenció-de-metadades-dels-fitxers'>1.7. Obtenció de metadades dels fitxers</a></li>\n",
    "    </ul>\n",
    "    <li><a href='#2.--Treball-amb-fitxers-comprimits'>2. Treball amb fitxers comprimits</a></li>\n",
    "    <ul style=\"list-style-type:none\">\n",
    "        <li><a href='#2.1.--Lectura-i-escriptura-de-fitxers-comprimits'>2.1. Lectura i escriptura de fitxers comprimits</a></li>\n",
    "        <ul style=\"list-style-type:none\">\n",
    "            <li><a href='#2.1.1.--El-path-i-el-mode'>2.1.1. El path i el mode</a></li>\n",
    "            <li><a href=\"#2.1.2.--Altres-detalls-en-l'obertura-de-fitxers\">2.1.2. Altres detalls en l'obertura de fitxers</a></li>\n",
    "            <li><a href=\"#2.1.3.--Lectura-de-fitxers-grans\">2.1.3. Lectura de fitxers grans</a></li>\n",
    "        </ul>\n",
    "        <li><a href='#2.2.--Esborrar,-renombrar-i-crear-carpetes'>2.2. Esborrar, renombrar i crear carpetes</a></li>\n",
    "        <li><a href='#2.3.--Funcions-auxiliars-de-paths,-llistats-i-metadades'>2.3. Funcions auxiliars de paths, llistats i metadades</a></li>\n",
    "    </ul>\n",
    "    <li><a href='#3.--Lectura-i-escriptura-de-fitxers-amb-pandas'>3. Lectura i escriptura de fitxers amb pandas</a></li>\n",
    "    <li><a href='#4.--Serialització-de-dades'>4. Serialització de dades</a></li>\n",
    "    <ul style=\"list-style-type:none\">\n",
    "        <li><a href='#4.1--Serialització-de-dades-amb-pickle'>4.1. Serialització de dades amb pickle</a></li>\n",
    "        <li><a href='#4.2--Consideracions-sobre-la-serialització-de-dades'>4.2. Consideracions sobre la serialització de dades</a></li>\n",
    "    </ul>\n",
    "    <li><a href='#5.--Interacció-amb-bases-de-dades'>5. Interacció amb bases de dades</a></li> \n",
    "    <li><a href='#6.--Interacció-amb-el-sistema-operatiu'>6. Interacció amb el sistema operatiu</a></li>\n",
    "    <li><a href=\"#7.--Exercicis-per-practicar\">7. Exercicis per practicar</a></li>\n",
    "    <ul style=\"list-style-type:none\">\n",
    "        <li><a href='#7.1.--Solucions-als-exercicis-per-practicar'>7.1. Solucions als exercicis per practicar</a></li>\n",
    "    </ul>\n",
    "    <li><a href=\"#8.--Bibliografia\">8. Bibliografia</a></li>\n",
    "    <ul style=\"list-style-type:none\">\n",
    "        <li><a href='#8.1.--Bibliografia-bàsica'>8.1. Bibliografia bàsica</a></li>\n",
    "        <li><a href='#8.2.--Bibliografia-addicional---Ampliació-de-coneixements'>8.2. Bibliografia addicional</a></li>\n",
    "    </ul>  \n",
    "</ul>\n",
    "\n",
    "\n",
    "**Nota important:** L'execució d'aquest notebook modifica els fitxers de la carpeta de la unitat 3 (es creen nous fitxers, se n'esborren d'altres, es modifica el contingut dels existents, etc.). Les explicacions que s'inclouen en aquest notebook concorden amb l'execució lineal de les cel·les del notebook la primera vegada que es fa aquesta execució. A partir d'aleshores, si torneu a executar el notebook (o si altereu l'ordre d'execució de les cel·les per fer proves), les explicacions poden no coincidir exactament amb els resultats que es produiran de l'execució, ja que l'estat inicial dels fitxers no serà la mateixa. \n",
    "\n",
    "Si voleu restaurar l'estat inicial de tots els fitxers que s'alteren a l'executar aquest notebook (per poder tornar a executar el notebook tal com estava inicialment), obriu una consola i executeu:\n",
    "\n",
    "```\n",
    "cd ~/prog_datasci_2/resources/unit_3 && rm -rf files_folder file_2.txt mem_data; unzip files_folder.zip\n",
    "```\n"
   ]
  },
  {
   "cell_type": "markdown",
   "metadata": {},
   "source": [
    "---\n",
    "\n",
    "# 1.- Fitxers (amb el mòdul `os`)\n",
    "\n",
    "El mòdul [`os`](https://docs.python.org/3.8/library/os.html) proveeix de funcions per interactuar amb el sistema operatiu. Entre d'altres, inclou funcions per manipular fitxers.\n",
    "\n",
    "## 1.1.- Lectura i escriptura de fitxers\n",
    "\n",
    "Per tal de llegir i/o escriure un fitxer, el primer que cal fer és obrir-lo, especificant-ne el seu *path* i el mode d'obertura. Amb el fitxer obert, podrem operar-hi (ja sigui llegir-lo o escriure-hi). Finalment, quan haguem finalitzat l'operació, caldrà tancar-lo, per tal d'alliberar els recursos.\n",
    "\n",
    "**És important tancar els fitxers que obrim!** Més enllà de ser una bona pràctica, cal tenir en compte que certs canvis en els fitxers poden no ser visibles fins que es tanquin els fitxers (ja que el sistema operatiu implementa *buffers* per optimitzar-ne la gestió). A més, tot i que Python té un sistema automàtic de tancament de recursos, pot ser que aquest falli, deixant els fitxers oberts i, en conseqüència, consumint memòria RAM (i, per tant, impactant negativament en el rendiment del programa), i contribuint als comptadors que controlen el màxim nombre de fitxers oberts."
   ]
  },
  {
   "cell_type": "code",
   "execution_count": null,
   "metadata": {},
   "outputs": [],
   "source": [
    "# Importem el mòdul os\n",
    "import os\n",
    "\n",
    "# Obrim el fitxer test_file.txt per a escriptura\n",
    "out = open('files_folder/test_file.txt', 'w')\n",
    "# Escrivim la paraula 'test' al fitxer\n",
    "out.write(\"test\")\n",
    "# Tanquem el fitxer\n",
    "out.close()"
   ]
  },
  {
   "cell_type": "markdown",
   "metadata": {},
   "source": [
    "Aquest és el flux tradicional de treball amb fitxers: s'obre el fitxer especificant el *path* i el mode, s'opera amb el fitxer (en aquest cas, hi hem escrit la paraula 'test') i, finalment, es tanca el fitxer. Després d'executar la cel·la anterior, obriu el fitxer (amb el vostre navegador de fitxers del sistema operatiu), i comproveu que, efectivament, conté la paraula 'test'.\n",
    "\n",
    "Aquesta estructura de treball amb fitxers força al programador a recordar tancar el fitxer manualment una vegada ha acabat d'operar. Com a alternativa a aquesta estructura tradicional, Python permet fer servir la sentència `with`, que crea un context en el qual el fitxer es troba obert, i allibera al programador de la tasca de recordar tancar el fitxer. Així, una vegada l'execució surti del context, Python tancarà automàticament el fitxer:"
   ]
  },
  {
   "cell_type": "code",
   "execution_count": null,
   "metadata": {},
   "outputs": [],
   "source": [
    "# Obrim el fitxer test_file_2.txt per a escriptura\n",
    "with open('files_folder/test_file_2.txt', 'w') as out:\n",
    "    # Escrivim 'another test' al fitxer\n",
    "    out.write(\"another test\")\n",
    "\n",
    "# Intentem escriure més contingut al mateix fitxer\n",
    "try:\n",
    "    out.write(\"fail\")\n",
    "except ValueError as e:\n",
    "    print(e)"
   ]
  },
  {
   "cell_type": "markdown",
   "metadata": {},
   "source": [
    "Fixeu-vos com, si intentem operar amb el fitxer fora del context del `with`, es genera una excepció, ja que el fitxer ja està tancat."
   ]
  },
  {
   "cell_type": "markdown",
   "metadata": {},
   "source": [
    "### 1.1.1.- El path\n",
    "\n",
    "El primer argument que rep la funció [`open`](https://docs.python.org/3/library/functions.html#open) (i l'únic que és obligatori) és el *path*. El *path* pot ser absolut o relatiu al directori on s'està executant el codi. \n",
    "\n",
    "Indicarem que el *path* és **absolut** iniciant-lo amb una barra, `/` (que indica el directori arrel). \n",
    "\n",
    "En canvi, si el *path* comença amb un caràcter, aquest serà **relatiu** al directori on s'executa el codi. Així, en els dos exemples anteriors, els *paths* `test_file.txt` i `test_file_2.txt` eren relatius al directori d'execució, indicant que els fitxers es trobaven directament en el propi directori.\n",
    "\n",
    "De la mateixa manera que en el sistema operatiu, podem fer servir `.` i `..` per a referir-nos, respectivament, al directori actual i al superior a l'actual en *paths* relatius. Especificarem el *path* fent servir també barres `/` després de cada nom de directori.\n",
    "\n",
    "\n",
    "### 1.1.2.- El mode\n",
    "\n",
    "En relació amb el mode d'obertura, Python reconeix els següents modificadors, que es poden combinar entre ells per especificar com i amb quina finalitat s'obre el fitxer:\n",
    "\n",
    "* `r`, mode de lectura (de l'anglès, _**r**eading_).\n",
    "* `w`, mode d'escriptura (de l'anglès, _**w**riting_), sobreescriu el contingut del fitxer si aquest ja existeix, o bé crea el fitxer si no existeix.\n",
    "* `x`, mode de creació e**x**clusiva.\n",
    "* `a`, mode d'escriptura, escriu al final del fitxer, a continuació del contingut ja existent al fitxer (de l'anglès, _**a**ppend_), o bé crea el fitxer si no existeix.\n",
    "* `b`, mode **b**inari.\n",
    "* `t`, mode de **t**ext (valor per defecte).\n",
    "* `+`, mode d'actualització (tant per lectura com per escriptura).\n",
    "\n",
    "Python permet obrir fitxer en mode binari (retornant els continguts com a bytes, sense descodificar-los) o bé en mode text (retornant els continguts com a cadenes de text, obtingudes de descodificar els bytes en funció de la plataforma on s'executi el codi o bé de la codificació especificada). Per defecte (és a dir, si no s'especifica el mode), els fitxers s'obren en mode text, de manera que, per exemple, `r` i `rt` són equivalents.\n",
    "\n",
    "Tant el mode `w` com el mode `a` permeten escriure en un fitxer. La diferència entre aquests modes rau en el tractament del contingut existent en el fitxer: `w` sobreescriu el contingut del fitxer, eliminant el contingut ja existent i incorporant-ne el nou; en canvi, `a` escriu a continuació del contingut ja existent al fitxer, afegint el nou contingut després del contingut ja existent.\n",
    "\n",
    "El mode d'actualització, `+`, permet obrir un fitxer per escriure i llegir. Així, tant `w+` com `r+`, permetran llegir i escriure un fitxer. La diferència entre ambdós modes recau en el comportament respecte al contingut existent en el fitxer i a l'existència del propi fitxer. Si especifiquem `w+`, sobreescriurem el contingut del fitxer i crearem el fitxer si aquest no existeix; en canvi, si especifiquem `r+`, mantindrem el contingut del fitxer i es generarà un error si el fitxer no existeix.\n",
    "\n",
    "\n",
    "A continuació es presenten alguns exemples del funcionament dels modes d'obertura de fitxers:"
   ]
  },
  {
   "cell_type": "code",
   "execution_count": null,
   "metadata": {},
   "outputs": [],
   "source": [
    "# Intentem obrir per a lectura un fitxer inexistent, cosa\n",
    "# que generarà una excepció\n",
    "p = 'files_folder/a_new_file.txt'\n",
    "try:\n",
    "    with open(p, 'r') as inp:\n",
    "        pass\n",
    "except FileNotFoundError as e:\n",
    "    print(e)"
   ]
  },
  {
   "cell_type": "code",
   "execution_count": null,
   "metadata": {},
   "outputs": [],
   "source": [
    "# Intentem obrir el mateix fitxer per a escriptura (creant per tant\n",
    "# el fitxer) i hi escrivim dues línies\n",
    "with open(p, 'w') as out:\n",
    "    out.write(\"The file did not exist\\n\")\n",
    "    out.write(\"It now contains two sentences.\\n\")"
   ]
  },
  {
   "cell_type": "code",
   "execution_count": null,
   "metadata": {},
   "outputs": [],
   "source": [
    "# Tornem a llegir ara el fitxer (ara es llegirà correctament, ja que\n",
    "# ha estat creat a la cel·la anterior)\n",
    "try:\n",
    "    with open(p, 'r') as inp:\n",
    "        content = inp.read()\n",
    "        # Mostrem el contingut del fitxer\n",
    "        print(content)\n",
    "except FileNotFoundError as e:\n",
    "    print(e)"
   ]
  },
  {
   "cell_type": "code",
   "execution_count": null,
   "metadata": {},
   "outputs": [],
   "source": [
    "# Tornem a escriure en el mateix fitxer amb el mode 'w', de manera\n",
    "# que se sobreescriurà el contingut anterior\n",
    "with open(p, 'w') as out:\n",
    "    out.write(\"What happens if we write again?\\n\")"
   ]
  },
  {
   "cell_type": "markdown",
   "metadata": {},
   "source": [
    "Obriu ara el fitxer `a_new_file.txt` de la carpeta `files_folder` i comproveu com només hi ha la frase `What happens if we write again?`, ja que el contingut anterior (`The file did not exist...`) s'ha sobreescrit."
   ]
  },
  {
   "cell_type": "code",
   "execution_count": null,
   "metadata": {},
   "outputs": [],
   "source": [
    "# Tornem a escriure ara en el mateix fitxer, però fent servir el mode\n",
    "# 'a', de manera que escriurem a continuació del contingut ja existent.\n",
    "with open(p, 'a') as out:\n",
    "    out.write(\"And now, what happens if we write again?\\n\")"
   ]
  },
  {
   "cell_type": "code",
   "execution_count": null,
   "metadata": {},
   "outputs": [],
   "source": [
    "from io import UnsupportedOperation\n",
    "# Ara intentarem afegir una altra frase al fitxer, i després llegir\n",
    "# en el mateix fitxer (cosa que generarà un error)\n",
    "try:\n",
    "    with open(p, 'a') as out:\n",
    "        out.write(\"...and again?\\n\")\n",
    "        content = out.read()\n",
    "except UnsupportedOperation as e:\n",
    "    print(e)"
   ]
  },
  {
   "cell_type": "markdown",
   "metadata": {},
   "source": [
    "Si obriu ara el fitxer, veureu que hi ha el següent text, resultat de les execucions de les cel·les anteriors:\n",
    "\n",
    "```\n",
    "What happens if we write again?\n",
    "And now, what happens if we write again?\n",
    "...and again?\n",
    "```\n",
    "\n",
    "Provem ara el comportament del mode de lectura amb actualització:"
   ]
  },
  {
   "cell_type": "code",
   "execution_count": null,
   "metadata": {},
   "outputs": [],
   "source": [
    "# Obrim el fitxer en mode de lectura amb actualització, escrivim una\n",
    "# frase i llegim el contingut a partir del final de l'escriptura\n",
    "with open(p, 'r+') as out:\n",
    "    out.write(\"Trying the r+ mode!\")\n",
    "    content = out.read()\n",
    "    print(content)"
   ]
  },
  {
   "cell_type": "markdown",
   "metadata": {},
   "source": [
    "En aquest últim exemple, el fitxer s'ha obert per a lectura amb actualització. A l'escriure, escrivim per tant a l'inici del fitxer (i sobreescriurem el contingut anterior conforme anem escrivint). Després, al llegir, llegim a partir d'on hem acabat d'escriure, de manera que només es llegeix el contingut ja existent (que no hem sobreescrit). El contingut del fitxer és ara per tant:\n",
    "\n",
    "```\n",
    "Trying the r+ mode!write again?\n",
    "And now, what happens if we write again?\n",
    "...and again?\n",
    "```\n",
    "\n",
    "Fixeu-vos com la primera línia conté la frase que hem escrit a la cel·la anterior, seguida dels caràcters que quedaven de la frase original!"
   ]
  },
  {
   "cell_type": "markdown",
   "metadata": {},
   "source": [
    "### 1.1.3.- Altres detalls en l'obertura de fitxers\n",
    "\n",
    "A més del *path* i el mode, la funció [`open`](https://docs.python.org/3/library/functions.html#open) accepta altres arguments opcionals, que gestionen el *buffering* de dades, la codificació, la gestió dels errors, la gestió del salt de línia, etc. El lector interessat pot consultar la [documentació oficial de la funció `open`](https://docs.python.org/3/library/functions.html#open) (lectura opcional) per descobrir com funcionen aquests arguments i quines opcions es troben disponibles."
   ]
  },
  {
   "cell_type": "markdown",
   "metadata": {},
   "source": [
    "### 1.1.4.- Lectura de fitxers grans\n",
    "\n",
    "Com hem vist, el mètode [`read`](https://docs.python.org/3/library/os.html#os.read) llegeix tot el contingut del fitxer. És evident, doncs, que fer servir aquest mètode pot comportar problemes de memòria i d'eficiència en el nostre codi, sobretot quan el fitxer a llegir sigui gran.\n",
    "\n",
    "Una alternativa per a la lectura de fitxers és fer-la línia a línia, de manera que només una línia del fitxer es carrega en memòria cada vegada:"
   ]
  },
  {
   "cell_type": "code",
   "execution_count": null,
   "metadata": {},
   "outputs": [],
   "source": [
    "from sys import getsizeof\n",
    "\n",
    "p_big = 'files_folder/somehow_big_file.txt'\n",
    "\n",
    "# Carreguem el fitxer somehow_big_file.txt complet i mostrem\n",
    "# la mida de la variable content en memòria\n",
    "with open(p_big, 'r') as f:\n",
    "    content = f.read()\n",
    "    size_in_bytes = getsizeof(content)\n",
    "    print(\"The size of the variable is: {} KB\\n\\n\".format(\n",
    "        size_in_bytes / 1024))\n",
    "\n",
    "# Llegim el fitxer línia a línia (i únicament les 5 primeres línies),\n",
    "# mostrant la mida de la variable line\n",
    "with open(p_big, 'r') as f:\n",
    "    counter = 0\n",
    "    for line in f:\n",
    "        print(line)\n",
    "        size_in_bytes = getsizeof(line)\n",
    "        print(\"The size of the variable is: {} KB\\n\\n\".format(\n",
    "            size_in_bytes / 1024))\n",
    "        counter += 1\n",
    "        if counter == 5:\n",
    "            break"
   ]
  },
  {
   "cell_type": "markdown",
   "metadata": {},
   "source": [
    "## 1.2.- Creació de carpetes\n",
    "\n",
    "Hem vist com podem crear fitxers obrint-los en mode 'w' o 'a'. Per a crear una carpeta o directori, podem fer servir els mètodes [`mkdir`](https://docs.python.org/3.8/library/os.html#os.mkdir) o [`makedirs`](https://docs.python.org/3.8/library/os.html#os.makedirs):"
   ]
  },
  {
   "cell_type": "code",
   "execution_count": null,
   "metadata": {},
   "outputs": [],
   "source": [
    "# Creem la carpeta a_new_folder dins de la carpeta\n",
    "# existent files_folder\n",
    "new_folder = 'files_folder/a_new_folder'\n",
    "os.mkdir(new_folder)\n",
    "\n",
    "# Creem la carpeta an_empty_folder dins de la carpeta\n",
    "# existent files_folder\n",
    "new_folder = 'files_folder/an_empty_folder'\n",
    "os.mkdir(new_folder)"
   ]
  },
  {
   "cell_type": "code",
   "execution_count": null,
   "metadata": {},
   "outputs": [],
   "source": [
    "# Intentem crear la carpeta 2 dins de la carpeta 1 dins de la carpeta\n",
    "# a_new_folder que hem creat a la cel·la anterior\n",
    "try:\n",
    "    new_folder = 'files_folder/a_new_folder/1/2'\n",
    "    os.mkdir(new_folder)\n",
    "except FileNotFoundError as e:\n",
    "    print(e)"
   ]
  },
  {
   "cell_type": "markdown",
   "metadata": {},
   "source": [
    "La cel·la anterior genera una excepció, ja que la carpeta 'files_folder/a_new_folder/1' dins de la qual volem crear la carpeta '2' no existeix. Si el que volem és crear tant la carpeta '1' com la carpeta '2' dins de la carpeta '1', podem fer servir [`makedirs`](https://docs.python.org/3.8/library/os.html#os.makedirs):"
   ]
  },
  {
   "cell_type": "code",
   "execution_count": null,
   "metadata": {},
   "outputs": [],
   "source": [
    "# Creem totes les carpetes que calgui de la següent estructura de\n",
    "# carpetes\n",
    "new_folder = 'files_folder/a_new_folder/1/2/3'\n",
    "os.makedirs(new_folder)"
   ]
  },
  {
   "cell_type": "markdown",
   "metadata": {},
   "source": [
    "## 1.3.- Esborrar i renombrar\n",
    "\n",
    "La llibreria [`os`](https://docs.python.org/3.8/library/os.html) també proveeix de funcions per a esborrar fitxers o directoris buits:"
   ]
  },
  {
   "cell_type": "code",
   "execution_count": null,
   "metadata": {},
   "outputs": [],
   "source": [
    "# Esborrem el fitxer a_new_file.txt\n",
    "os.remove(p)"
   ]
  },
  {
   "cell_type": "code",
   "execution_count": null,
   "metadata": {},
   "outputs": [],
   "source": [
    "# Esborrem la carpeta buida an_empty_folder\n",
    "empty_fold = 'files_folder/an_empty_folder'\n",
    "os.rmdir(empty_fold)"
   ]
  },
  {
   "cell_type": "code",
   "execution_count": null,
   "metadata": {},
   "outputs": [],
   "source": [
    "# Intentem esborrar la carpeta files_folder, cosa que generarà\n",
    "# un error ja que aquesta conté fitxers\n",
    "try:\n",
    "    non_empty_fold = 'files_folder'\n",
    "    os.rmdir(non_empty_fold)\n",
    "except OSError as e:\n",
    "    print(e)"
   ]
  },
  {
   "cell_type": "markdown",
   "metadata": {},
   "source": [
    "De manera anàloga a l'execució d'un [`rmdir`](https://docs.python.org/3.8/library/os.html#os.rmdir) en una consola Linux, no podem esborrar una carpeta si aquesta conté fitxers. Si necessitem esborrar una carpeta i tots els fitxers que aquesta conté en Python, podem fer-ho a mà (esborrant primer els fitxers de dins de la carpeta i després la pròpia carpeta), o bé fent servir alguna funció que ja incorpori aquest comportament, com ara [`rmtree`](https://docs.python.org/3.8/library/shutil.html#shutil.rmtree) del mòdul [`shutil`](https://docs.python.org/3.8/library/shutil.html).\n",
    "\n",
    "La llibreria [`os`](https://docs.python.org/3.8/library/os.html#os.rmdir) també permet renombrar fitxers i directoris a través de la funció [`rename`](https://docs.python.org/3.8/library/os.html#os.rename):"
   ]
  },
  {
   "cell_type": "code",
   "execution_count": null,
   "metadata": {},
   "outputs": [],
   "source": [
    "# Renombrem el fitxer original_file.txt a dest_file.txt\n",
    "os.rename('files_folder/original_file.txt',\n",
    "          'files_folder/dest_file.txt')"
   ]
  },
  {
   "cell_type": "markdown",
   "metadata": {},
   "source": [
    "## 1.4.- Funcions auxiliars de *paths*\n",
    "\n",
    "Més enllà de la pròpia lectura, escriptura, esborrat i renombrat de fitxers, treballar amb fitxers acostuma a requerir d'altres funcions, sovint auxiliars, que permeten construir lògiques complexes de gestió de fitxers.\n",
    "\n",
    "Així, per exemple, és habitual haver de construir una ruta (un *path*), que indiqui on es troba un fitxer en el sistema de fitxers a partir de fragments d'aquesta ruta (per exemple, el nom de la carpeta o ruta de carpetes, el nom del fitxer, etc.).\n",
    "\n",
    "El submòdul [`path`](https://docs.python.org/3.8/library/os.path.html) (del mòdul [`os`](https://docs.python.org/3.8/library/os.html#os.makedirs)) implementa la funció [`join`](https://docs.python.org/3.8/library/os.path.html#os.path.join) que uneix diferents parts de la ruta d'un fitxer de manera *intel·ligent*, considerant el separador de directoris del sistema en què s'executa el codi. És una bona pràctica fer servir aquesta funció a l'hora d'especificar on es troba un fitxer en comptes de concatenar manualment les diferents parts de la ruta, ja que això millora la compatibilitat del codi en diferents sistemes."
   ]
  },
  {
   "cell_type": "code",
   "execution_count": null,
   "metadata": {},
   "outputs": [],
   "source": [
    "# Unim diferents parts d'un path amb join\n",
    "path = \"/home\"\n",
    "full_path = os.path.join(path, \"User/Desktop\", \"filename.txt\")\n",
    "print(full_path)"
   ]
  },
  {
   "cell_type": "code",
   "execution_count": null,
   "metadata": {},
   "outputs": [],
   "source": [
    "another_full_path = os.path.join(path, \"User/Public/\", \"Documents\", \"\")\n",
    "print(another_full_path)"
   ]
  },
  {
   "cell_type": "markdown",
   "metadata": {},
   "source": [
    "En el primer cas, el *path* generat (`full_path`) corresponia a un fitxer, mentre que en el segon cas el *path* obtingut (`another_full_path`) era el d'una carpeta o directori (cosa que podem deduir per la `/` final). Fixeu-vos que, per a indicar que el *path* que volem obtenir és el d'una carpeta, hem indicat com a últim element de la crida a [`join`](https://docs.python.org/3/library/os.path.html#os.path.join) una cadena buida (`\"\"`).\n",
    "\n",
    "D'altra banda, a partir d'un *path* podem obtenir-ne el nom de la carpeta, el nom del fitxer, o l'extensió del fitxer amb les funcions [`dirname`](https://docs.python.org/3/library/os.path.html#os.path.dirname), [`basename`](https://docs.python.org/3/library/os.path.html#os.path.basename) i [`splitext`](https://docs.python.org/3/library/os.path.html#os.path.splitext), respectivament."
   ]
  },
  {
   "cell_type": "code",
   "execution_count": null,
   "metadata": {},
   "outputs": [],
   "source": [
    "# Obtenim el nom del directori\n",
    "os.path.dirname(full_path)"
   ]
  },
  {
   "cell_type": "code",
   "execution_count": null,
   "metadata": {},
   "outputs": [],
   "source": [
    "# Obtenim el nom del fitxer\n",
    "os.path.basename(full_path)"
   ]
  },
  {
   "cell_type": "code",
   "execution_count": null,
   "metadata": {},
   "outputs": [],
   "source": [
    "# Separem l'extensió del path\n",
    "os.path.splitext(full_path)"
   ]
  },
  {
   "cell_type": "markdown",
   "metadata": {},
   "source": [
    "Una altra funcionalitat sovint necessària en el tractament de fitxers és la de poder comprovar si un *path* existeix, o bé si aquest correspon a un fitxer normal, o bé a una carpeta. Aquestes tres comprovacions les podem fer amb les funcions [`exists`](https://docs.python.org/3.8/library/os.path.html#os.path.exists), [`isfile`](https://docs.python.org/3.8/library/os.path.html#os.path.isfile) i [`isdir`](https://docs.python.org/3.8/library/os.path.html#os.path.isdir), respectivament."
   ]
  },
  {
   "cell_type": "code",
   "execution_count": null,
   "metadata": {},
   "outputs": [],
   "source": [
    "e = os.path.exists(full_path)\n",
    "print(\"Path {} exists?\\t\\t\\t{}\".format(full_path, e))\n",
    "\n",
    "path_1 = \"./\"\n",
    "e = os.path.exists(path_1)\n",
    "print(\"Path {} exists?\\t\\t\\t\\t\\t\\t\\t{}\".format(path_1, e))\n",
    "\n",
    "path_2 = \"3-CAT-Fitxers_i_interacció_amb_el_sistema.ipynb\"\n",
    "e = os.path.exists(path_2)\n",
    "print(\"Path {} exists?\\t{}\".format(path_2, e))\n",
    "\n",
    "path_3 = \"/home\"\n",
    "e = os.path.exists(path_3)\n",
    "print(\"Path {} exists?\\t\\t\\t\\t\\t\\t{}\".format(path_3, e))"
   ]
  },
  {
   "cell_type": "markdown",
   "metadata": {},
   "source": [
    "El primer *path* no correspon a cap path existent, de manera que [`exists`](https://docs.python.org/3.8/library/os.path.html#os.path.exists) retorna `False`. En canvi, tant els *paths* relatius `./` i `3-CAT-Fitxers_i_interacció_amb_el_sistema.ipynb` com el *path* absolut `/home` existeixen en el sistema, de manera que [`exists`](https://docs.python.org/3.8/library/os.path.html#os.path.exists) retorna `True`. És important notar que [`exists`](https://docs.python.org/3.8/library/os.path.html#os.path.exists) reconeix tant fitxers normals com carpetes o directoris. En canvi, la funció [`isfile`](https://docs.python.org/3.8/library/os.path.html#os.path.isfile) retornarà `True` únicament si el *path* existeix i aquest és un fitxer normal:"
   ]
  },
  {
   "cell_type": "code",
   "execution_count": null,
   "metadata": {},
   "outputs": [],
   "source": [
    "is_f = os.path.isfile(full_path)\n",
    "print(\"Path {} is file?\\t\\t\\t{}\".format(full_path, is_f))\n",
    "\n",
    "is_f = os.path.isfile(path_1)\n",
    "print(\"Path {} is file?\\t\\t\\t\\t\\t\\t{}\".format(path_1, is_f))\n",
    "\n",
    "is_f = os.path.isfile(path_2)\n",
    "print(\"Path {} is file?\\t{}\".format(path_2, is_f))\n",
    "\n",
    "is_f = os.path.isfile(path_3)\n",
    "print(\"Path {} is file?\\t\\t\\t\\t\\t\\t{}\".format(path_3, is_f))"
   ]
  },
  {
   "cell_type": "markdown",
   "metadata": {},
   "source": [
    "En aquest cas, [`isfile`](https://docs.python.org/3.8/library/os.path.html#os.path.isfile) reconeix únicament el tercer *path* com a fitxer, ja que el primer no existeix i els altres dos corresponen a carpetes.\n",
    "\n",
    "Veiem ara el resultat de cridar [`isdir`](https://docs.python.org/3.8/library/os.path.html#os.path.isdir) amb els mateixos *paths*:"
   ]
  },
  {
   "cell_type": "code",
   "execution_count": null,
   "metadata": {},
   "outputs": [],
   "source": [
    "is_d = os.path.isdir(full_path)\n",
    "print(\"Path {} is directory?\\t\\t{}\".format(full_path, is_d))\n",
    "\n",
    "is_d = os.path.isdir(path_1)\n",
    "print(\"Path {} is directory?\\t\\t\\t\\t\\t\\t{}\".format(path_1, is_d))\n",
    "\n",
    "is_d = os.path.isdir(path_2)\n",
    "print(\"Path {} is directory?\\t{}\".format(path_2, is_d))\n",
    "\n",
    "is_d = os.path.isdir(path_3)\n",
    "print(\"Path {} is directory?\\t\\t\\t\\t\\t{}\".format(path_3, is_d))"
   ]
  },
  {
   "cell_type": "markdown",
   "metadata": {},
   "source": [
    "Ara, de nou, obtenim `False` per al primer *path*, ja que aquest no existeix, i obtenim `True` per als dos *paths* que representen directoris, `./` i `/home`.\n",
    "\n",
    "## 1.5.- Llistat de directoris\n",
    "\n",
    "Per tal d'obtenir tots els continguts que hi ha en un directori podem fer servir la funció [`scandir`](https://docs.python.org/3/library/os.html#os.scandir):"
   ]
  },
  {
   "cell_type": "code",
   "execution_count": null,
   "metadata": {},
   "outputs": [],
   "source": [
    "# Mostrem totes les entrades de la carpeta files_folder\n",
    "folder_name = 'files_folder/'\n",
    "with os.scandir(folder_name) as dir_list:\n",
    "    for entry in dir_list:\n",
    "        print(entry.name)"
   ]
  },
  {
   "cell_type": "markdown",
   "metadata": {},
   "source": [
    "Si volem obtenir una llista dels fitxers d'una carpeta, podem combinar [`scandir`](https://docs.python.org/3/library/os.html#os.scandir) amb la funció [`isfile`](https://docs.python.org/3.8/library/os.path.html#os.path.isfile) que hem vist en una secció anterior:"
   ]
  },
  {
   "cell_type": "code",
   "execution_count": null,
   "metadata": {},
   "outputs": [],
   "source": [
    "# Mostrem tots els fitxers de la carpeta files_folder\n",
    "with os.scandir(folder_name) as dir_list:\n",
    "    for entry in dir_list:\n",
    "        if os.path.isfile(entry.path):\n",
    "            print(entry.name)"
   ]
  },
  {
   "cell_type": "markdown",
   "metadata": {},
   "source": [
    "Alternativament, podem fem servir el mètode [`is_file`](https://docs.python.org/3.8/library/os.path.html#os.path.isfile) de les pròpies entrades, ja que [`scandir`](https://docs.python.org/3/library/os.html#os.scandir) retorna un iterador que recorre objectes de tipus [`DirEntry`](https://docs.python.org/3/library/os.html#os.DirEntry), que implementen aquest mètode:"
   ]
  },
  {
   "cell_type": "code",
   "execution_count": null,
   "metadata": {},
   "outputs": [],
   "source": [
    "# Mostrem tots els fitxers de la carpeta files_folder\n",
    "with os.scandir(folder_name) as dir_list:\n",
    "    for entry in dir_list:\n",
    "        if entry.is_file():\n",
    "            print(type(entry), entry.name)"
   ]
  },
  {
   "cell_type": "markdown",
   "metadata": {},
   "source": [
    "## 1.6.- Patrons de Unix *shell*\n",
    "\n",
    "Combinant la possibilitat de llistar el contingut de directoris amb les expressions regulars que vam veure a la unitat d'estructures de dades avançades (o, fins i tot, potser només amb altres funcions bàsiques de cadenes, com [`startswith`](https://docs.python.org/3/library/stdtypes.html#str.startswith)), podem seleccionar un subconjunt de fitxers que compleixin alguna característica concreta. Així, per exemple, podríem processar només els fitxers amb extensió .txt de la mateixa carpeta que a l'exemple anterior, fent:"
   ]
  },
  {
   "cell_type": "code",
   "execution_count": null,
   "metadata": {},
   "outputs": [],
   "source": [
    "# Mostrem tots els fitxers de la carpeta files_folder\n",
    "with os.scandir(folder_name) as dir_list:\n",
    "    for entry in dir_list:\n",
    "        if entry.is_file() and entry.name.endswith(\".txt\"):\n",
    "            print(entry.name)"
   ]
  },
  {
   "cell_type": "markdown",
   "metadata": {},
   "source": [
    "Una alternativa per fer aquest tipus d'operacions és utilitzar el mòdul [`glob`](https://docs.python.org/3.8/library/glob.html), que permet obtenir els paths que segueixen un determinat patró especificat fent servir la sintaxis d'una *shell* de Unix (és a dir, la mateix sintaxis que faríem servir si estéssim navegant pel sistema de fitxers des d'una *shell*)."
   ]
  },
  {
   "cell_type": "code",
   "execution_count": null,
   "metadata": {},
   "outputs": [],
   "source": [
    "import glob\n",
    "\n",
    "# Obtenim una llista amb els noms dels fitxers de notebook de Python\n",
    "glob.glob('*.ipynb')"
   ]
  },
  {
   "cell_type": "code",
   "execution_count": null,
   "metadata": {},
   "outputs": [],
   "source": [
    "# Llistem el contingut de la carpeta files_folder\n",
    "glob.glob('./files_folder/*')"
   ]
  },
  {
   "cell_type": "code",
   "execution_count": null,
   "metadata": {},
   "outputs": [],
   "source": [
    "# Llistem els fitxers .txt que hi ha dins de la carpeta files_folder\n",
    "glob.glob('./files_folder/*.txt')"
   ]
  },
  {
   "cell_type": "code",
   "execution_count": null,
   "metadata": {},
   "outputs": [],
   "source": [
    "# Llistem tots els fitxers que hi ha al path actual, buscant recursivament\n",
    "# dins de les carpetes\n",
    "glob.glob('*', recursive=True)"
   ]
  },
  {
   "cell_type": "markdown",
   "metadata": {},
   "source": [
    "## 1.7.- Obtenció de metadades dels fitxers\n",
    "\n",
    "El submòdul [`path`](https://docs.python.org/3.8/library/os.path.html) també conté funcions per obtenir metadades dels fitxers, com ara la seva mida ([`getsize`](https://docs.python.org/3/library/os.path.html#os.path.getsize)), o l'instant de l'última modificació ([`getmtime`](https://docs.python.org/3/library/os.path.html#os.path.getmtime))."
   ]
  },
  {
   "cell_type": "code",
   "execution_count": null,
   "metadata": {},
   "outputs": [],
   "source": [
    "# Obtenim la mida del fitxer p_big\n",
    "p_big_size = os.path.getsize(p_big)\n",
    "print(\"The file {} is {} KB\".format(p_big, p_big_size / 1024))"
   ]
  },
  {
   "cell_type": "code",
   "execution_count": null,
   "metadata": {},
   "outputs": [],
   "source": [
    "from datetime import datetime\n",
    "\n",
    "# Obtenim la data d'última modificació\n",
    "unx_ts_mtime = os.path.getmtime(p_big)\n",
    "print(\"The last modification time is: {} (unix ts)\".format(unx_ts_mtime))\n",
    "\n",
    "print(\"which is: {}\".format(\n",
    "    datetime.utcfromtimestamp(unx_ts_mtime).strftime('%Y-%m-%d %H:%M:%S')))"
   ]
  },
  {
   "cell_type": "markdown",
   "metadata": {},
   "source": [
    "També podem obtenir altres metadades, com ara les que obtindríem fen un [`stat`](http://man7.org/linux/man-pages/man2/stat.2.html) de Linux sobre el fitxer:"
   ]
  },
  {
   "cell_type": "code",
   "execution_count": null,
   "metadata": {},
   "outputs": [],
   "source": [
    "import stat\n",
    "\n",
    "# Mostrem els bits de protecció del fitxer\n",
    "print(oct(stat.S_IMODE(os.stat(p_big).st_mode)))"
   ]
  },
  {
   "cell_type": "markdown",
   "metadata": {},
   "source": [
    "Si teniu curiositat per saber com funcionen els bits de permís dels fitxers en unix, us recomanem llegir les tres parts de la sèrie d'articles sobre els permisos ([1](http://www.filepermissions.com/articles/what-are-file-permissions-in-linux-and-mac), [2](http://www.filepermissions.com/articles/understanding-octal-file-permissions), i [3](http://www.filepermissions.com/articles/sticky-bit-suid-and-sgid)), totes elles lectures opcionals."
   ]
  },
  {
   "cell_type": "markdown",
   "metadata": {},
   "source": [
    "\n",
    "# 2.- Treball amb fitxers comprimits\n",
    "\n",
    "Un fitxer comprimit és un fitxer que conté un o diversos fitxers i/o carpetes, codificats de tal manera que ocupen menys espai en disc que els fitxers originals. Es fan servir fitxers comprimits, per exemple, per transferir més ràpidament contingut a través d'una xarxa, o per aprofitar millor l'espai de disc.\n",
    "\n",
    "Distingim entre compressió **sense pèrdua** i compressió **amb pèrdua**. La compressió sense pèrdua es caracteritza per permetre recuperar la totalitat de les dades dels fitxers originals a partir dels fitxers comprimits. En canvi, en la compressió amb pèrdua, es poden perdre alguns bits d'informació. Es fa servir compressió amb pèrdua principalment en imatges i vídeo, on sovint les persones que visualitzen aquest contingut no arriben a notar la pèrdua. En canvi, en fitxers de text s'acostuma a fer servir compressió sense pèrdua.\n",
    "\n",
    "En aquest notebook, s'explicarà com treballar amb fitxers comprimits zip, un dels formats més populars de compressió sense pèrdua, fent servir el mòdul [`zipfile`](https://docs.python.org/3.8/library/zipfile.html). L'altra alternativa molt popular per comprimir sense pèrdua és fer servir gzip. El notebook no inclou explicacions sobre com treballar amb fitxers gzip, ja que el funcionament és molt similar al que es descriu per a zip. El lector interessat pot llegir la documentació del mòdul [`gzip`](https://docs.python.org/3.8/library/gzip.html) per conèixer les funcions que permeten treballar amb fitxers gzip des de Python (lectura opcional)."
   ]
  },
  {
   "cell_type": "markdown",
   "metadata": {},
   "source": [
    "## 2.1.- Lectura i escriptura de fitxers comprimits\n",
    "\n",
    "De manera similar als fitxers genèrics, el primer que cal fer per llegir o crear un fitxer comprimit zip és obrir-lo, especificant-ne el seu *path* i el mode d'obertura. Quan haguem finalitzat l'operació, també caldrà tancar-lo. Podem fer servir la mateixa sintaxi que hem vist a l'apartat anterior per a gestionar l'obertura i tancament dels fitxers comprimits:"
   ]
  },
  {
   "cell_type": "code",
   "execution_count": null,
   "metadata": {},
   "outputs": [],
   "source": [
    "import zipfile as zf\n",
    "\n",
    "zip_file = 'files_folder/compressed_file.zip'\n",
    "# Creem el fitxer zip_file especificant el mode de compressió ZIP_DEFLATED\n",
    "with zf.ZipFile(zip_file, 'w', compression=zf.ZIP_DEFLATED) as zip_f:\n",
    "    # Afegim el fitxer p_big al zip\n",
    "    zip_f.write(p_big)"
   ]
  },
  {
   "cell_type": "markdown",
   "metadata": {},
   "source": [
    "A la cel·la anterior, hem obert un fitxer zip en mode d'escriptura (especificat per 'w'), de manera que el fitxer es crearà si no existeix, o se sobreescriurà si ja existia; i hem especificat el mètode de compressió [`ZIP_DEFLATED`](https://docs.python.org/3.8/library/zipfile.html#zipfile.ZIP_DEFLATED). Amb el fitxer obert, hi hem afegit el fitxer ja existent `p_big`. Comprovem el resultat de la compressió:"
   ]
  },
  {
   "cell_type": "code",
   "execution_count": null,
   "metadata": {},
   "outputs": [],
   "source": [
    "# Obtenim la mida del fitxer original p_big\n",
    "p_big_size = os.path.getsize(p_big)\n",
    "print(\"The file {} is {} KB\".format(p_big, p_big_size / 1024))\n",
    "\n",
    "# Obtenim la mida del fitxer zip_file (que conté el fitxer p_big comprimit)\n",
    "zip_file_size = os.path.getsize(zip_file)\n",
    "print(\"The file {} is {} KB\".format(zip_file, zip_file_size / 1024))"
   ]
  },
  {
   "cell_type": "markdown",
   "metadata": {},
   "source": [
    "Així doncs, el fitxer original de 249KB ha passat a ocupar només 1.3KB al ser comprimit. \n",
    "\n",
    "Comprovem ara que podem recuperar el fitxer original a partir del fitxer comprimit. En primer lloc, calcularem un [hash](https://en.wikipedia.org/wiki/Hash_function) del contingut del fitxer, per poder assegurar que el fitxer que recuperarem és exactament el mateix que el fitxer original."
   ]
  },
  {
   "cell_type": "code",
   "execution_count": null,
   "metadata": {},
   "outputs": [],
   "source": [
    "import hashlib\n",
    "\n",
    "\n",
    "def sha256_file_content(p):\n",
    "    \"\"\"\n",
    "    Returns the sha256 hash of the content of the file p.\n",
    "    \"\"\"\n",
    "    with open(p, 'rb') as f:\n",
    "        content = f.read()\n",
    "        h = hashlib.sha256(content).hexdigest()\n",
    "    return h\n",
    "\n",
    "\n",
    "# Obtenim el hash del contingut del fitxer p_big\n",
    "orig_hash = sha256_file_content(p_big)\n",
    "print(\"sha256: {}\".format(orig_hash))"
   ]
  },
  {
   "cell_type": "code",
   "execution_count": null,
   "metadata": {},
   "outputs": [],
   "source": [
    "# Esborrem el fitxer p_big\n",
    "os.remove(p_big)\n",
    "\n",
    "# Comprovem que s'ha esborrat\n",
    "is_f = os.path.isfile(p_big)\n",
    "print(\"Path {} is file? {}\".format(p_big, is_f))"
   ]
  },
  {
   "cell_type": "code",
   "execution_count": null,
   "metadata": {},
   "outputs": [],
   "source": [
    "# Obrim el fitxer zip en mode de lectura\n",
    "with zf.ZipFile(zip_file, 'r') as zip_f:\n",
    "    # Mostrem el contingut del zip\n",
    "    print(zip_f.printdir())\n",
    "    # Descomprimim tot el contingut del zip\n",
    "    zip_f.extractall()"
   ]
  },
  {
   "cell_type": "code",
   "execution_count": null,
   "metadata": {},
   "outputs": [],
   "source": [
    "# Comprovem que el fitxer s'ha descomprimit\n",
    "is_f = os.path.isfile(p_big)\n",
    "print(\"Path {} is file? {}\".format(p_big, is_f))\n",
    "\n",
    "# Comprovem que el contingut del fitxer és exactament el mateix\n",
    "uncomp_hash = sha256_file_content(p_big)\n",
    "print(\"sha256: {}\".format(uncomp_hash))\n",
    "print(\"Hash are equal?: {}\".format(uncomp_hash == orig_hash))"
   ]
  },
  {
   "cell_type": "markdown",
   "metadata": {},
   "source": [
    "### 2.1.1.- El path i el mode\n",
    "\n",
    "Pel que fa al *path* dels fitxers comprimits, les mateixes consideracions que s'han fet sobre fitxers són aplicables en el cas dels fitxers comprimits.\n",
    "\n",
    "Ja hem vist com els modes de lectura 'r' i escriptura 'w' de fitxers zip funcionen de manera similar als del mòdul [`os`](https://docs.python.org/3/library/os.html). Així, també disposem d'un mode de concatenació, 'a' (de l'anglès, *append*),  que permet afegir contingut a un zip sense sobreescriure el contingut existent; i del mode de creació i escriptura e**x**clusiva, 'x', que a diferència del mode d'escriptura, generarà una excepció si el fitxer que s'intenta crear ja existeix.\n"
   ]
  },
  {
   "cell_type": "markdown",
   "metadata": {},
   "source": [
    "### 2.1.2.- Altres detalls en l'obertura de fitxers\n",
    "\n",
    "A més del *path* i el mode, [`ZipFile`](https://docs.python.org/3.8/library/zipfile.html) accepta altres arguments opcionals, que gestionen el format de compressió, l'extensió per permetre fitxers majors de 4GB, i la comprovació de *timestamps*. El lector interessat pot consultar la [documentació oficial de la classe `ZipFile`](https://docs.python.org/3.8/library/zipfile.html) (lectura opcional) per descobrir com funcionen aquests arguments i quines opcions es troben disponibles."
   ]
  },
  {
   "cell_type": "markdown",
   "metadata": {},
   "source": [
    "### 2.1.3.- Lectura de fitxers grans\n",
    "\n",
    "Hem vist que podem fer servir el mètode [`extractall`](https://docs.python.org/3/library/zipfile.html#zipfile.ZipFile.extractall) per extreure tot el contingut d'un zip. Ara bé, si el fitxer zip és molt gran, conté diversos fitxers, i només en necessitem un subconjunt d'aquests, serà més eficient descomprimir únicament els fitxers que necessitem:"
   ]
  },
  {
   "cell_type": "code",
   "execution_count": null,
   "metadata": {},
   "outputs": [],
   "source": [
    "# Obrim el fitxer zip en mode de lectura\n",
    "zip_with_multiple_files = \"files_folder/zip_with_multiple_files.zip\"\n",
    "with zf.ZipFile(zip_with_multiple_files, 'r') as zip_f:\n",
    "    # Descomprimim únicament el fitxer file_2.txt\n",
    "    zip_f.extract(\"file_2.txt\")"
   ]
  },
  {
   "cell_type": "markdown",
   "metadata": {},
   "source": [
    "Fixeu-vos com, per extreure un únic fitxer, ens caldrà saber com es diu aquest fitxer, informació que podem saber ja, o bé que podem obtenir, com hem vist, amb [`printdir`](https://docs.python.org/3.8/library/zipfile.html#zipfile.ZipFile.printdir). Més endavant, veurem també una altra alternativa per a obtenir aquesta informació."
   ]
  },
  {
   "cell_type": "markdown",
   "metadata": {},
   "source": [
    "## 2.2.- Esborrar, renombrar i crear carpetes\n",
    "\n",
    "El mòdul [`zipfile`](https://docs.python.org/3.8/library/zipfile.html) no permet, de manera nativa, esborrar o renombrar fitxers que es troben dins d'un zip. Per tant, el que caldrà fer si necessitem realitzar aquestes accions serà implementar-les manualment a partir dels modes de lectura i escriptura que hem vist a l'apartat anterior. Així, per exemple, si volem esborrar un cert fitxer d'un zip, caldrà descomprimir el zip, i tornar a crear un nou zip amb el mateix contingut que el fitxer original, però sense incloure el fitxer que volem esborrar. \n",
    "\n",
    "Per tal de crear una carpeta dins d'un fitxer zip, procedirem a crear la carpeta fora d'aquest, i l'afegirem després com si fos un fitxer ordinari, per exemple, amb la funció `write`.\n"
   ]
  },
  {
   "cell_type": "markdown",
   "metadata": {},
   "source": [
    "## 2.3.- Funcions auxiliars de paths, llistats i metadades\n",
    "\n",
    "De manera anàloga a les funcions que permetien comprovar si un fitxer era un directori o un fitxer normal, el mòdul [`zipfile`](https://docs.python.org/3.8/library/zipfile.html) disposa del mètode [`is_zipfile`](https://docs.python.org/3.8/library/zipfile.html#zipfile.is_zipfile) que permet comprovar si un fitxer és un fitxer zip vàlid:"
   ]
  },
  {
   "cell_type": "code",
   "execution_count": null,
   "metadata": {},
   "outputs": [],
   "source": [
    "izf = zf.is_zipfile(zip_file)\n",
    "print(\"The file {} is a zip file?: {}\".format(zip_file, izf))"
   ]
  },
  {
   "cell_type": "markdown",
   "metadata": {},
   "source": [
    "D'altra banda, ja hem vist com el mètode [`printdir`](https://docs.python.org/3.8/library/zipfile.html#zipfile.ZipFile.printdir) ens permet obtenir un llistat dels continguts d'un fitxer zip:"
   ]
  },
  {
   "cell_type": "code",
   "execution_count": null,
   "metadata": {},
   "outputs": [],
   "source": [
    "# Obrim el fitxer zip en mode de lectura\n",
    "zip_with_mult_files = \"files_folder/zip_with_multiple_files.zip\"\n",
    "with zf.ZipFile(zip_with_mult_files, 'r') as zip_f:\n",
    "    # Mostrem el contingut del zip\n",
    "    print(zip_f.printdir())"
   ]
  },
  {
   "cell_type": "markdown",
   "metadata": {},
   "source": [
    "Una altra alternativa per obtenir informació sobre els continguts d'un zip és fer servir la classe [`ZipInfo`](https://docs.python.org/3.8/library/zipfile.html#zipfile.ZipInfo), que ens retorna precisament aquest tipus d'informació:"
   ]
  },
  {
   "cell_type": "code",
   "execution_count": null,
   "metadata": {},
   "outputs": [],
   "source": [
    "with zf.ZipFile(zip_with_mult_files, 'r') as zip_f:\n",
    "    # Obtenim un objecte ZipInfo del fitxer zip_with_mult_files\n",
    "    info_list = zip_f.infolist()\n",
    "\n",
    "    # Per cada fitxer dins del zip, en mostrem informació\n",
    "    for info in info_list:\n",
    "        print(\"Filename: {}\".format(info.filename))\n",
    "        print(\"\\tFile size: {} bytes\".format(info.file_size))\n",
    "        print(\"\\tIs dir?: {}\".format(info.is_dir()))\n",
    "        print(\"\\tDate and time: {}\".format(info.date_time))\n",
    "        print(\"\\tCompression type: {}\".format(info.compress_type))\n",
    "        print(\"\\tCRC: {}\\n\".format(info.CRC))"
   ]
  },
  {
   "cell_type": "markdown",
   "metadata": {},
   "source": [
    "Cal remarcar que un fitxer zip és un fitxer en tota regla. Per tant, podem obtenir metadades del propi fitxer zip amb les funcions que hem vist anteriorment del mòdul [`os`](https://docs.python.org/3.8/library/os.html). Per exemple, podríem obtenir la mida del zip fent servir [`getsize`](https://docs.python.org/3.8/library/os.path.html#os.path.getsize):"
   ]
  },
  {
   "cell_type": "code",
   "execution_count": null,
   "metadata": {},
   "outputs": [],
   "source": [
    "# Obtenim la mida del fitxer zip_with_mult_files\n",
    "s_zip_with_mult_files = os.path.getsize(zip_with_mult_files)\n",
    "print(\"The file {} is {} KB\".format(zip_with_mult_files,\n",
    "                                    s_zip_with_mult_files / 1024))"
   ]
  },
  {
   "cell_type": "markdown",
   "metadata": {},
   "source": [
    "\n",
    "# 3.- Lectura i escriptura de fitxers amb pandas"
   ]
  },
  {
   "cell_type": "markdown",
   "metadata": {},
   "source": [
    "En algunes situacions, podrem fer servir llibreries de més alt nivell per tal de llegir i/o escriure fitxers. Així, per exemple, la llibreria pandas, permet carregar dades d'un fitxer CSV a un _dataframe_ a través de la funció [`read_csv`](https://pandas.pydata.org/pandas-docs/stable/reference/api/pandas.read_csv.html). \n",
    "\n",
    "Ara carregarem les dades del fitxer `marvel-wikia-data.csv`, que conté dades sobre personatges de còmic de Marvel. El conjunt de dades original en què es basa el que farem servir va ser creat pel web [FiveThirtyEight](https://fivethirtyeight.com/), que escriu articles basats en dades sobre esports i notícies, i que posa a disposició pública els [conjunts de dades](https://github.com/fivethirtyeight/data) que recull per als seus articles."
   ]
  },
  {
   "cell_type": "code",
   "execution_count": null,
   "metadata": {},
   "outputs": [],
   "source": [
    "import pandas as pd\n",
    "\n",
    "# Carreguem les dades del fitxer \"marvel-wikia-data.csv\" a un 'dataframe'\n",
    "data = pd.read_csv(\"data/marvel-wikia-data.csv\")"
   ]
  },
  {
   "cell_type": "markdown",
   "metadata": {},
   "source": [
    "La funció [`read_csv`](https://pandas.pydata.org/pandas-docs/stable/reference/api/pandas.read_csv.html) accepta un gran ventall de paràmetres opcionals que permeten configurar amb detall com s'ha de realitzar la importació del fitxer csv. A continuació, en veurem alguns d'ells, tot ajustant la importació de les dades de Marvel.\n",
    "\n",
    "Fixem-nos, en primer lloc, en la importació de les columnes numèriques:"
   ]
  },
  {
   "cell_type": "code",
   "execution_count": null,
   "metadata": {},
   "outputs": [],
   "source": [
    "data.describe()"
   ]
  },
  {
   "cell_type": "markdown",
   "metadata": {},
   "source": [
    "Com es pot apreciar, hi ha hagut un problema en la importació dels anys en els quals els personatges apareixen per primera vegada als còmics, ja que la mitjana és 1.88 i, en canvi, els còmics van aparèixer al segle XX. Observant el contingut del fitxer csv en pla:\n",
    "\n",
    "```\n",
    "page_id,name,urlslug,ID,ALIGN,EYE,HAIR,SEX,GSM,ALIVE,APPEARANCES,FIRST APPEARANCE,Year\n",
    "1678,Spider-Man (Peter Parker),\\/Spider-Man_(Peter_Parker),Secret Identity,Good Characters,Hazel Eyes,Brown Hair,Male Characters,dontknow,Living Characters,4043,Aug-62,1.962\n",
    "7139,Captain America (Steven Rogers),\\/Captain_America_(Steven_Rogers),Public Identity,Good Characters,Blue Eyes,White Hair,Male Characters,,Living Characters,3360,Mar-41,1.941\n",
    "...\n",
    "```\n",
    "\n",
    "podem veure com els anys s'expressen fent servir un punt com a separador de milers, que pandas està interpretant com a separador decimal. Per tant, per assegurar que els anys s'importen correctament, podem indicar que el separador de decimals sigui la coma (`,`) amb el paràmetre `decimal`:"
   ]
  },
  {
   "cell_type": "code",
   "execution_count": null,
   "metadata": {},
   "outputs": [],
   "source": [
    "data = pd.read_csv(\"data/marvel-wikia-data.csv\", decimal=\",\")\n",
    "data.describe()"
   ]
  },
  {
   "cell_type": "markdown",
   "metadata": {},
   "source": [
    "Ara, sembla que els anys s'han importat correctament, tot i que la mitjana segueix sent més baixa del valor que esperaríem. Observant les dades per al camp any, podem comprovar com l'última fila conté un 0, valor que fa baixar la mitjana:"
   ]
  },
  {
   "cell_type": "code",
   "execution_count": null,
   "metadata": {},
   "outputs": [],
   "source": [
    "data[[\"Year\"]].tail()"
   ]
  },
  {
   "cell_type": "markdown",
   "metadata": {},
   "source": [
    "Podem indicar que volem ometre aquesta fila en la càrrega de dades amb el paràmetre `skiprows`:"
   ]
  },
  {
   "cell_type": "code",
   "execution_count": null,
   "metadata": {},
   "outputs": [],
   "source": [
    "data = pd.read_csv(\"data/marvel-wikia-data.csv\", decimal=\",\", skiprows=[31])\n",
    "data[[\"Year\"]].tail()"
   ]
  },
  {
   "cell_type": "markdown",
   "metadata": {},
   "source": [
    "Com podem observar, això fa que la mitjana pugi de $1677.46$ a $1735.31$, i el mínim passi de ser $0$ (el valor de la fila que hem omès) a $1047$:"
   ]
  },
  {
   "cell_type": "code",
   "execution_count": null,
   "metadata": {},
   "outputs": [],
   "source": [
    "data.describe()"
   ]
  },
  {
   "cell_type": "markdown",
   "metadata": {},
   "source": [
    "Si seguim observant les dades que s'han carregat, podem observar també com hi apareixen diverses contrabarres (`\\`), per exemple, abans de cometes dobles (`\"`) o de les barres (`/`):"
   ]
  },
  {
   "cell_type": "code",
   "execution_count": null,
   "metadata": {},
   "outputs": [],
   "source": [
    "data.head(n=5)"
   ]
  },
  {
   "cell_type": "markdown",
   "metadata": {},
   "source": [
    "Aquestes contrabarres s'estan fent servir per a escapar caràcters especials, cosa que també podem indicar a la funció de càrrega del csv, amb el paràmetre `escapechar`:"
   ]
  },
  {
   "cell_type": "code",
   "execution_count": null,
   "metadata": {},
   "outputs": [],
   "source": [
    "data = pd.read_csv(\"data/marvel-wikia-data.csv\", decimal=\",\", skiprows=[31],\n",
    "                   escapechar=\"\\\\\")\n",
    "data.head(n=5)"
   ]
  },
  {
   "cell_type": "markdown",
   "metadata": {},
   "source": [
    "Un altre detall a considerar és que es fa servir tant el valor `NaN` com la cadena de caràcters `'dontknow'` per indicar valors desconeguts o perduts. Podem indicar que cal interpretar aquesta cadena com a valor perdut amb el mètode `na_values`:"
   ]
  },
  {
   "cell_type": "code",
   "execution_count": null,
   "metadata": {},
   "outputs": [],
   "source": [
    "data = pd.read_csv(\"data/marvel-wikia-data.csv\", decimal=\",\", skiprows=[31],\n",
    "                   escapechar=\"\\\\\", na_values=[\"dontknow\"])\n",
    "data.head(n=5)"
   ]
  },
  {
   "cell_type": "markdown",
   "metadata": {},
   "source": [
    "Finalment, una altra de les funcionalitats bastant potents de la funció `read_csv` és la d'aplicar alguna funció als elements de cada columna abans d'incoporar-lo al dataframe. Així, per exemple, la columna `FIRST APPEARANCE` conté el mes (abreviat), un guió, i l'any en format de dos dígits. Si volguéssim que aquesta columna contingués únicament l'any i en format de 4 dígits, podríem crear una funció anònima que fes la conversió, i passar aquesta funció a `read_csv` amb el paràmetre `converters`:"
   ]
  },
  {
   "cell_type": "code",
   "execution_count": null,
   "metadata": {},
   "outputs": [],
   "source": [
    "data = pd.read_csv(\n",
    "    \"data/marvel-wikia-data.csv\",\n",
    "    decimal=\",\", skiprows=[31], escapechar=\"\\\\\", na_values=[\"dontknow\"],\n",
    "    converters={\"FIRST APPEARANCE\": lambda x: int(x.split(\"-\")[1])+1900}\n",
    ")\n",
    "data[[\"FIRST APPEARANCE\"]].head()"
   ]
  },
  {
   "cell_type": "markdown",
   "metadata": {},
   "source": [
    "Més enllà dels fitxers csv, hi ha altres formats que també es fan servir sovint per intercanviar o desar dades. Pandas disposa de diverses funcions per a carregar dades provinents dels formats de dades més populars, com ara, json ([`read_json`](https://pandas.pydata.org/pandas-docs/stable/reference/api/pandas.read_json.html#pandas.read_json)) o excel ([`read_excel`](https://pandas.pydata.org/pandas-docs/stable/reference/api/pandas.read_excel.html#pandas.read_excel)). "
   ]
  },
  {
   "cell_type": "markdown",
   "metadata": {},
   "source": [
    "# 4.- Serialització de dades"
   ]
  },
  {
   "cell_type": "markdown",
   "metadata": {},
   "source": [
    "La **serialització** de dades és el procés de convertir dades estructurades (per exemple, una llista o un diccionari) en algun format que permeti emmagatzemar-les o transmetre-les, de manera que sigui possible després, a partir d'un procés de deserialització, recuperar les dades amb la seva estructura original.\n",
    "\n",
    "La serialització pot ser útil, per exemple, per a transmetre un conjunt de dades a través de la xarxa, per emmagatzemar dades que seran tractades des de Python, o com a mètode per crear *checkpoints* que permetin recuperar l'estat dels nostres *scripts* en codis que tarden molt temps a finalitzar.\n",
    "\n",
    "El mètode principal de serialització en Python es troba implementat pel mòdul [`pickle`](https://docs.python.org/3.8/library/pickle.html) de la llibreria estàndard.\n",
    "\n",
    "\n",
    "## 4.1- Serialització de dades amb pickle\n",
    "\n",
    "Anem a veure un exemple senzill de serialització i deserialització d'una estructura de dades simple, un diccionari:"
   ]
  },
  {
   "cell_type": "code",
   "execution_count": null,
   "metadata": {},
   "outputs": [],
   "source": [
    "import pickle\n",
    "\n",
    "# Creem un diccionari\n",
    "a_dict = {\"Spain\": 34, \"United Kingdom\": 44}\n",
    "\n",
    "# Serialitzem el diccionari i mostrem el resultat de la serialització\n",
    "serialized_dict = pickle.dumps(a_dict)\n",
    "print(serialized_dict)"
   ]
  },
  {
   "cell_type": "code",
   "execution_count": null,
   "metadata": {},
   "outputs": [],
   "source": [
    "# Deserialitzem el diccionari, creant un nou diccionari a partir del contingut\n",
    "# serialitzat\n",
    "des_dict = pickle.loads(serialized_dict)\n",
    "\n",
    "# Comprovem si el contingut del diccionari original i del deserialitzat són\n",
    "# iguals\n",
    "des_dict == a_dict"
   ]
  },
  {
   "cell_type": "markdown",
   "metadata": {},
   "source": [
    "Després de veure un exemple de serialització d'un diccionari, en veurem un altre que s'apropa més a l'ús real de [`pickle`](https://docs.python.org/3.8/library/pickle.html) en la mineria de dades. Suposem que hem entrenat un model d'aprenentatge automàtic a partir d'unes dades, i que ara el volem desar per tal de fer-lo servir, posteriorment, per a fer prediccions. En aquest cas, pot ser útil emmagatzemar el model après fent servir [`pickle`](https://docs.python.org/3.8/library/pickle.html), i recuperar-lo després quan calgui fer prediccions. Vegem un exemple amb la creació d'un arbre de decisió per al conjunt de dades de flors d'Iris:"
   ]
  },
  {
   "cell_type": "code",
   "execution_count": null,
   "metadata": {},
   "outputs": [],
   "source": [
    "from sklearn import datasets\n",
    "from sklearn.model_selection import train_test_split\n",
    "from sklearn.tree import DecisionTreeClassifier\n",
    "import pandas as pd\n",
    "\n",
    "# Carreguem les dades\n",
    "data = datasets.load_iris()\n",
    "iris_df = pd.DataFrame(data.data, columns=data.feature_names)\n",
    "y = data.target\n",
    "\n",
    "# Creem els conjunts de test i aprenentage\n",
    "x_train, x_test, y_train, y_test = train_test_split(iris_df, y, test_size=0.1)\n",
    "\n",
    "# Entrenem un arbre de decisió\n",
    "dec_tree = DecisionTreeClassifier(splitter=\"random\", criterion=\"entropy\")\n",
    "dec_tree.fit(x_train, y_train)\n",
    "\n",
    "# Provem el classificador amb les dades de test\n",
    "y_test_predicted = dec_tree.predict(x_test)\n",
    "print(\"Predicted classes: \\t\" + str(y_test_predicted))\n",
    "print(\"Accuracy: \\t\\t\" + str(dec_tree.score(x_test, y_test)))\n",
    "\n",
    "# Desem el model après serialitzat en un fitxer\n",
    "p = \"files_folder/dec_tree_model.pickle\"\n",
    "with open(p, \"wb\") as f:\n",
    "    pickle.dump(dec_tree, f)"
   ]
  },
  {
   "cell_type": "code",
   "execution_count": null,
   "metadata": {},
   "outputs": [],
   "source": [
    "# Eliminem la variable dec_tree (per simular el fet d'acabar l'execució del\n",
    "# nostre script d'entrenament o bé la transmissió del fitxer a una altra\n",
    "# màquina)\n",
    "del dec_tree"
   ]
  },
  {
   "cell_type": "code",
   "execution_count": null,
   "metadata": {},
   "outputs": [],
   "source": [
    "# Carreguem el model desat\n",
    "with open(p, \"rb\") as f:\n",
    "    dec_tree_des = pickle.load(f)\n",
    "\n",
    "# Comprovem que el model desat s'ha recuperat correctament\n",
    "y_test_predicted_des = dec_tree_des.predict(x_test)\n",
    "print(\"Predicted classes: \\t\" + str(y_test_predicted_des))\n",
    "print(\"Accuracy: \\t\\t\" + str(dec_tree_des.score(x_test, y_test)))"
   ]
  },
  {
   "cell_type": "markdown",
   "metadata": {},
   "source": [
    "Hi ha dos detalls importants a notar en el codi anterior. D'una banda, fixeu-vos que per llegir o escriure el resultat d'una deserialització o serialització, fem servir [`load`](https://docs.python.org/3/library/pickle.html#pickle.load) i [`dump`](https://docs.python.org/3/library/pickle.html#pickle.dump) (respectivament) en comptes de [`loads`](https://docs.python.org/3/library/pickle.html#pickle.loads) i [`dumps`](https://docs.python.org/3/library/pickle.html#pickle.dumps) (a diferència de l'exemple del diccionari). Les funcions [`load`](https://docs.python.org/3/library/pickle.html#pickle.load) i [`dump`](https://docs.python.org/3/library/pickle.html#pickle.dump) permeten llegir i escriure el resultat d'una serialització o deserialització a un fitxer, mentre que [`loads`](https://docs.python.org/3/library/pickle.html#pickle.loads) i [`dumps`](https://docs.python.org/3/library/pickle.html#pickle.dumps) retornen la cadena de bytes.  D'altra banda, noteu com és necessari obrir els fitxers en mode binari (`rb` per llegir o `wb` per escriure)."
   ]
  },
  {
   "cell_type": "markdown",
   "metadata": {},
   "source": [
    "## 4.2- Consideracions sobre la serialització de dades\n",
    "\n",
    "\n",
    "**És important ser conscients de les situacions en les quals és útil fer servir serialització amb [`pickle`](https://docs.python.org/3.8/library/pickle.html)!** Cal tenir en compte que [`pickle`](https://docs.python.org/3.8/library/pickle.html) només serveix per transferir dades entre programes fets amb Python, que hi poden haver incompatibilitats entre versions, i que no és un mètode segur de transferència de dades. En aquest sentit, hem d'assegurar que només deserialitzem dades de confiança, ja que la deserialització pot provocar execució de codi indesitjat.\n",
    "\n",
    "Pel que fa a quins tipus de dades podem serialitzar amb Python, en general trobarem que és immediat serialitzar tipus bàsics (enters, floats, cadenes de caràcters, booleans, etc.), tipus compostos de tipus serialitzables (diccionaris, tuples, llistes, conjunts, etc.) i classes i funcions definides en l'àmbit global.\n",
    "\n",
    "Tenint en compte les característiques que hem descrit, quan serà doncs una bona alternativa fer servir serialització amb pickle en comptes de fer servir un format de dades estàndard com ara JSON, XML, o CSV? La taula següent recull l'alternativa a fer servir en funció de les propietats de la situació:"
   ]
  },
  {
   "cell_type": "markdown",
   "metadata": {},
   "source": [
    "| Propietat | Pickle | JSON/XML/CSV/Altres |\n",
    "|----|:----:|:----:|\n",
    "| Intercanvi de dades sense confiança entre les parts |.|x|\n",
    "| Compatibilitat amb altres llenguatges de programació (diferents de Python) o altres programes |.|x|\n",
    "| Emmagatzemament a llarg termini  (possibles canvis de versió) |.|x|\n",
    "| Execució en diferents màquines, que tenen diferents versions de les llibreries que proporcionen els tipus de dades emmagatzemats |.|x|\n",
    "| Necessitat de lectura per part d'humans |.|x|\n",
    "| Necessitat d'emmagatzemar objectes de manera ràpida (pel programador), sense haver de decidir com representar l'objecte |x|.|\n",
    "| Emmagatzemament temporal  (per exemple, *checkpoints* en l'execució d'un *script*) |x|.|\n",
    "| Necessitat de guardar l'estat del nostre programa  (en comptes de conjunts de dades amb certa homogeneïtat) |x|.|\n",
    "| Necessitat d'emmagatzemar funcions |x|.|"
   ]
  },
  {
   "cell_type": "markdown",
   "metadata": {},
   "source": [
    "# 5.- Interacció amb bases de dades\n",
    "\n",
    "El [PEP249](https://www.python.org/dev/peps/pep-0249/) descriu l'especificació de l'API per accedir a bases de dades des de Python. La majoria dels sistemes gestors de bases de dades (SGBD) més populars segueixen aquesta especificació, de manera que hi ha bastanta similitud en com s'accedeix als diferents motors de bases de dades des de Python.\n",
    "\n",
    "Així doncs, el procediment general per interactuar amb una base de dades des de Python consta dels passos següents:\n",
    "1. Importar el mòdul que proveeix de la interfície amb la base de dades (específic per cada SGBD).\n",
    "2. Crear una connexió amb la base de dades, proveint dades sobre la localització de la base de dades i, si s'escau, l'autenticació.\n",
    "3. Obtenir un cursor sobre la connexió creada al pas anterior.\n",
    "4. Executar les sentències SQL desitjades.\n",
    "5. Si les sentències eren de consulta, recuperar les dades retornades per la base de dades.\n",
    "6. Tancar la connexió.\n",
    "\n",
    "Per exemplificar el procés, crearem una nova base de dades SQLite, hi desarem les dades dels personatges de Marvel (que carregarem prèviament del csv com hem fet anteriorment) i farem consultes sobre aquestes dades fent servir SQL."
   ]
  },
  {
   "cell_type": "code",
   "execution_count": null,
   "metadata": {},
   "outputs": [],
   "source": [
    "# Carreguem les dades del csv de Marvel en un dataframe de pandas\n",
    "data = pd.read_csv(\n",
    "    \"data/marvel-wikia-data.csv\", decimal=\",\", escapechar=\"\\\\\",\n",
    "    na_values=[\"dontknow\"],\n",
    "    converters={\"FIRST APPEARANCE\": lambda x: int(x.split(\"-\")[1])+1900},\n",
    "    skiprows=[31])\n",
    "\n",
    "# Obtenim una cadena amb la llista de columnes, que farem servir per crear\n",
    "# la taula de la base de dades\n",
    "cols = \", \".join(data.columns)\n",
    "print(cols)"
   ]
  },
  {
   "cell_type": "code",
   "execution_count": null,
   "metadata": {},
   "outputs": [],
   "source": [
    "# Importem sqlite3\n",
    "import sqlite3\n",
    "\n",
    "# Creem una connexió amb la base de dades marvel.db\n",
    "conn = sqlite3.connect('files_folder/marvel.db')\n",
    "\n",
    "# Obtenim un cursor sobre la connexió\n",
    "cur = conn.cursor()\n",
    "\n",
    "# Creem una taula fent servir els noms de les columnes del dataframe\n",
    "sql_create_stm = \"CREATE TABLE marvel_chars ({})\".format(cols)\n",
    "print(sql_create_stm)\n",
    "\n",
    "# Executem la sentència SQL de creació de la taula\n",
    "cur.execute(sql_create_stm)\n",
    "\n",
    "# Desem els canvis (fem un commit a la db)\n",
    "conn.commit()"
   ]
  },
  {
   "cell_type": "markdown",
   "metadata": {},
   "source": [
    "Per tal de crear la taula de la base de dades, hem fet servir una sentència SQL de creació de taules (`CREATE TABLE`).\n",
    "\n",
    "Una vegada hem creat la taula, podem consultar-ne el seu contingut executant un `SELECT`:"
   ]
  },
  {
   "cell_type": "code",
   "execution_count": null,
   "metadata": {},
   "outputs": [],
   "source": [
    "# Executem SELECT * sobre tota la taula\n",
    "sql_sel_stm = \"SELECT * FROM marvel_chars\"\n",
    "cur.execute(sql_sel_stm)\n",
    "\n",
    "# Recuperem els resultats\n",
    "results = cur.fetchall()\n",
    "\n",
    "# Mostrem els resultats: la taula de la base de dades és buida\n",
    "print(results)"
   ]
  },
  {
   "cell_type": "markdown",
   "metadata": {},
   "source": [
    "Com que acabem de crear la taula, aquesta està buida, i el `SELECT` no retorna cap fila. Ara, inserirem les dades del *dataframe* a la base de dades, iterant per cada fila del *dataframe* i inserint cada fila a la taula amb un `INSERT`:"
   ]
  },
  {
   "cell_type": "code",
   "execution_count": null,
   "metadata": {},
   "outputs": [],
   "source": [
    "# Iterem per cada fila de la taula\n",
    "for index, row in data.iterrows():\n",
    "    # Inserim les dades a la taula marvel_chars\n",
    "    cur.execute(\"INSERT INTO marvel_chars VALUES \"\n",
    "                \"(?, ?, ?, ?, ?, ?, ?, ?, ?, ?, ?, ?, ?)\", row)\n",
    "\n",
    "# Fem un commit dels canvis\n",
    "conn.commit()"
   ]
  },
  {
   "cell_type": "markdown",
   "metadata": {},
   "source": [
    "Una vegada inserides les dades a la base de dades, podem repetir el `SELECT *` que hem realitzat anteriorment, i recuperar així totes les dades que hem inserit a la taula:"
   ]
  },
  {
   "cell_type": "code",
   "execution_count": null,
   "metadata": {},
   "outputs": [],
   "source": [
    "# Executem SELECT * sobre tota la taula\n",
    "sql_sel_stm = \"SELECT * FROM marvel_chars\"\n",
    "cur.execute(sql_sel_stm)\n",
    "\n",
    "# Recuperem els resultats\n",
    "results = cur.fetchall()\n",
    "\n",
    "# Mostrem els resultats: la taula de la base de dades conté les dades\n",
    "# dels personatges de Marvel\n",
    "print(results)"
   ]
  },
  {
   "cell_type": "markdown",
   "metadata": {},
   "source": [
    "Podem executar consultes SQL sobre la taula que acabem de crear. Així, per exemple, si volem recuperar només el nom dels personatges femenins, podríem fer:"
   ]
  },
  {
   "cell_type": "code",
   "execution_count": null,
   "metadata": {},
   "outputs": [],
   "source": [
    "# Executem la consulta SQL\n",
    "sql_sel_stm = \"SELECT name FROM marvel_chars WHERE sex = 'Female Characters'\"\n",
    "cur.execute(sql_sel_stm)\n",
    "\n",
    "# Mostrem els resultats\n",
    "results = cur.fetchall()\n",
    "print(results)"
   ]
  },
  {
   "cell_type": "markdown",
   "metadata": {},
   "source": [
    "Una vegada hem acabat de treballar amb la base de dades, és important recordar tancar el recurs:"
   ]
  },
  {
   "cell_type": "code",
   "execution_count": null,
   "metadata": {},
   "outputs": [],
   "source": [
    "# Tanquem la connexió\n",
    "conn.close()"
   ]
  },
  {
   "cell_type": "markdown",
   "metadata": {},
   "source": [
    "És important notar que si haguéssim volgut fer el mateix amb una base de dades MySQL en comptes d'SQLite, caldria canviar la llibreria a fer servir (l'`import` de l'inici del codi), però després el codi seria en general el mateix, i funcionaria fent únicament petites adaptacions (per exemple, a la creació de la connexió)."
   ]
  },
  {
   "cell_type": "markdown",
   "metadata": {},
   "source": [
    "# 6.- Interacció amb el sistema operatiu\n",
    "\n",
    "Fins ara hem vist com interactuar amb el sistema operatiu a través de la lectura o escriptura de fitxers. En aquesta secció, veurem com podem executar programes externs o comandes a la consola del sistema des del nostre codi Python, fent servir el mòdul [`subprocess`](https://docs.python.org/3.8/library/subprocess.html).\n",
    "\n",
    "El mòdul [`subprocess`](https://docs.python.org/3.8/library/subprocess.html) permet executar comandes amb la funció [`run`](https://docs.python.org/3/library/subprocess.html#subprocess.run). La funció rep com a argument la comanda i retorna un objecte [`CompletedProcess`](https://docs.python.org/3/library/subprocess.html#subprocess.CompletedProcess). Per defecte, no captura la sortida de la comanda executada, només el codi de retorn (tradicionalment, es fa servir el 0 per indicar que el procés ha finalitzat amb èxit). El següent exemple executa una comanda de llistat, `ls`:"
   ]
  },
  {
   "cell_type": "code",
   "execution_count": null,
   "metadata": {},
   "outputs": [],
   "source": [
    "import subprocess as sp\n",
    "\n",
    "# Executem ls\n",
    "exe_out = sp.run([\"ls\"])\n",
    "\n",
    "# Mostrem el resultat que retorna run\n",
    "print(exe_out)\n",
    "print(\"The args were: {}\".format(exe_out.args))\n",
    "print(\"The return code was: {}\".format(exe_out.returncode))"
   ]
  },
  {
   "cell_type": "markdown",
   "metadata": {},
   "source": [
    "El resultat és un objecte [`CompletedProcess`](https://docs.python.org/3/library/subprocess.html#subprocess.CompletedProcess) que conté tant els arguments com el codi de retorn.\n",
    "\n",
    "Podem passar arguments addicionals afegint elements a la llista que s'envia com a primer paràmetre:"
   ]
  },
  {
   "cell_type": "code",
   "execution_count": null,
   "metadata": {},
   "outputs": [],
   "source": [
    "# Executem ls -l\n",
    "sp.run([\"ls\", \"-l\"])"
   ]
  },
  {
   "cell_type": "markdown",
   "metadata": {},
   "source": [
    "Per tal de recuperar no només el codi de retorn sinó també la sortida de l'execució de la comanda, farem servir el paràmetre `stdout`, que permet indicar a on enviem la sortida:"
   ]
  },
  {
   "cell_type": "code",
   "execution_count": null,
   "metadata": {},
   "outputs": [],
   "source": [
    "# Executem ls -l i capturem la sortida de l'execució\n",
    "exe_out = sp.run(['ls', '-l'], encoding='utf-8', stdout=sp.PIPE)\n",
    "\n",
    "# Mostrem el resultat que retorna run\n",
    "print(exe_out)\n",
    "\n",
    "print(\"\\nThe args were: {}\".format(exe_out.args))\n",
    "print(\"\\nThe return code was: {}\".format(exe_out.returncode))\n",
    "print(\"\\nThe output was:\\n{}\".format(exe_out.stdout))"
   ]
  },
  {
   "cell_type": "markdown",
   "metadata": {},
   "source": [
    "Ara, l'objecte [`CompletedProcess`](https://docs.python.org/3/library/subprocess.html#subprocess.CompletedProcess) conté també un atribut `stdout` amb el resultat de l'execució del procés que, en aquest cas, consisteix en el llistat del directori on s'ha executat.\n",
    "\n",
    "Podem fer servir [`run`](https://docs.python.org/3/library/subprocess.html#subprocess.run) també per a executar altres programes, que no siguin comandes del sistema. Per exemple, a la carpeta `files_folder` hi ha un petit script de bash amb el següent codi:\n",
    "\n",
    "```\n",
    "#!/bin/bash\n",
    "\n",
    "echo \"Script executed!\"\n",
    "```\n",
    "\n",
    "És a dir, l'script simplement mostra per pantalla el missatge 'Script executed!' cada vegada que és cridat. \n",
    "\n",
    "**Abans d'executar la cel·la següent**, donarem permisos d'execució a l'script i provarem el seu funcionament:\n",
    "\n",
    "1. En primer lloc, obriu una consola del sistema, situeu-vos a la carpeta `files_folder` i executeu la següent comanda:\n",
    "`chmod +x *.sh`\n",
    "\n",
    "Això donarà permisos d'execució a l'script, ja que per defecte els fitxers no poden executar-se (per qüestions de seguretat).\n",
    "\n",
    "2. Ara, des de la mateixa consola, executeu l'script:\n",
    "`./echo_script.sh`\n",
    "\n",
    "Això executarà l'script i mostrarà el missatge 'Script executed!' al terminal.\n",
    "\n",
    "Veiem doncs com podem executar aquest mateix *script* des del nostre programa Python amb [`run`](https://docs.python.org/3/library/subprocess.html#subprocess.run):"
   ]
  },
  {
   "cell_type": "code",
   "execution_count": null,
   "metadata": {},
   "outputs": [],
   "source": [
    "# Executem echo_script i capturem la sortida de l'execució\n",
    "exe_out = sp.run([\"./files_folder/echo_script.sh\"],\n",
    "                 encoding='utf-8', stdout=sp.PIPE)\n",
    "print(exe_out)"
   ]
  },
  {
   "cell_type": "markdown",
   "metadata": {},
   "source": [
    "La funció [`run`](https://docs.python.org/3/library/subprocess.html#subprocess.run) també permet executar un programa extern i passar-li dades d'entrada. Per exemple, l'script `echo_read_script.sh` té el següent codi:\n",
    "\n",
    "```\n",
    "#!/bin/bash\n",
    "\n",
    "echo \"Enter a number\"\n",
    "read number\n",
    "echo \"Your number was $number\"\n",
    "```\n",
    "\n",
    "És a dir, l'script mostra primer el missatge 'Enter a number', demana a l'usuari que entri un número, i mostra per pantalla el missatge 'Your number was' i el número introduït per l'usuari. \n",
    "\n",
    "Executem ara l'script `echo_read_script.sh`, passant-li com a entrada el contingut del fitxer `a_number.txt` (que conté el número 42):"
   ]
  },
  {
   "cell_type": "code",
   "execution_count": null,
   "metadata": {},
   "outputs": [],
   "source": [
    "# Executem echo_read_script, capturant la sortida de l'execució\n",
    "# i passant com a entrada el contingut del fitxer a_number\n",
    "with open(\"files_folder/a_number.txt\", \"r\") as f:\n",
    "    exe_out = sp.run([\"./files_folder/echo_read_script.sh\"],\n",
    "                     encoding='utf-8',\n",
    "                     stdin=f,\n",
    "                     stdout=sp.PIPE)\n",
    "    # Mostrem el resultat que retorna run\n",
    "    print(exe_out)\n",
    "    print(\"\\nThe args were: {}\".format(exe_out.args))\n",
    "    print(\"The return code was: {}\".format(exe_out.returncode))\n",
    "    print(\"The output was:\\n{}\".format(exe_out.stdout))"
   ]
  },
  {
   "cell_type": "markdown",
   "metadata": {},
   "source": [
    "Ja per acabar, és important notar que la funció [`run`](https://docs.python.org/3/library/subprocess.html#subprocess.run) executa el que haguem indicat i després espera (per defecte de manera indefinida) a que finalitzi l'execució de la comanda. Per tant, una crida a [`run`](https://docs.python.org/3/library/subprocess.html#subprocess.run) pot bloquejar el nostre programa si el programa que executem no acaba mai. Així, per exemple, l'execució de l'script `endless_script.sh` amb el següent codi que conté un bucle infinit:\n",
    "\n",
    "```\n",
    "#!/bin/bash\n",
    "\n",
    "while true\n",
    "do\n",
    "\tsleep 1\n",
    "done\n",
    "```\n",
    "\n",
    "faria que el nostre programa Python es quedés indefinidament esperant. Per evitar-ho, [`run`](https://docs.python.org/3/library/subprocess.html#subprocess.run) té un paràmetre `timeout`, que permet especificar el temps màxim (en segons) que volem esperar a l'execució d'un programa extern. Passat aquest temps, si l'execució no ha finalitzat es genera una excepció."
   ]
  },
  {
   "cell_type": "code",
   "execution_count": null,
   "metadata": {},
   "outputs": [],
   "source": [
    "# Executem ls amb timeout (l'execució finalitza sense\n",
    "# generar cap excepció)\n",
    "try:\n",
    "    exe_out = sp.run([\"ls\"], timeout=3)\n",
    "except sp.TimeoutExpired as e:\n",
    "    print(e)"
   ]
  },
  {
   "cell_type": "code",
   "execution_count": null,
   "metadata": {},
   "outputs": [],
   "source": [
    "# Executem l'script endless_script amb timeout\n",
    "# (l'execució finalitza amb un timeout als 3 segons)\n",
    "try:\n",
    "    exe_out = sp.run([\"./files_folder/endless_script.sh\"],\n",
    "                     timeout=3)\n",
    "except sp.TimeoutExpired as e:\n",
    "    print(e)"
   ]
  },
  {
   "cell_type": "markdown",
   "metadata": {},
   "source": [
    "Hem vist doncs com la funció [`run`](https://docs.python.org/3/library/subprocess.html#subprocess.run) és bastant versàtil, i ens permet executar programes externs des del nostre codi Python."
   ]
  },
  {
   "cell_type": "markdown",
   "metadata": {},
   "source": [
    "# 7.- Exercicis per practicar\n",
    "\n",
    "A continuació hi trobareu un conjunt de problemes que us poden servir per a practicar els conceptes explicats en aquesta unitat. Us recomanem que intenteu fer aquests problemes vosaltres mateixos i que, una vegada realitzats, compareu la solució que us proposem amb la vostra solució. No dubteu en adreçar tots els dubtes que sorgeixin de la resolució d'aquests exercicis o bé de les solucions proposades al fòrum de l'aula.\n",
    "\n",
    "1. Creeu un codi que permeti monitorejar el consum de memòria RAM de la màquina en què s'executi. El codi desarà les dades de la memòria total i utilitzada del sistema durant un període de temps, capturant les dades en intervals periòdics. \n",
    "\n",
    "Aquestes dades es desaran en fitxers de text pla, fent servir un fitxer per a les dades capturades en cada moment. Així, dins de la carpeta de dades, hi haurà una carpeta per a les dades de cada dia (que tindrà per nom l'any, el mes i el dia, escrits tots seguits, per exemple, `20200318`). Dins de la carpeta de cada dia, hi haurà un fitxer per cada instant de temps on s'hagin obtingut dades (que tindrà per nom l'hora, el minut i el segon, separats per guions baixos, per exemple, `14_45_55`). El contingut del fitxer seran els dos valors (memòria total i utilitzada) separats per comes (per exemple, `15571, 4242`).\n",
    "\n",
    "Creeu també el codi que permeti recuperar totes les dades emmagatzemades, i obtenir-ne una descripció estadística bàsica (mitjana, mediana i desviació estàndard). \n",
    "\n",
    "Per fer-ho, implementarem un seguit de funcions que es detallen a continuació.\n",
    "\n",
    "1.1 Creeu una funció que rebi com a paràmetre el nom d'una carpeta (que serà `mem_data` per defecte) i creï les carpetes necessàries per emmagatzemar dades per al dia actual. És a dir, el codi haurà de crear, si no existeix ja, una carpeta de dades amb el nom que ha rebut com a paràmetre (o fer servir `mem_data` si no s'ha especificat cap nom), i una altra carpeta a dins d'aquesta que tingui per nom el dia actual (en el format any de 4 xifres, mes de 2 xifres, dia de 2 xifres, tot seguit sense separadors, per exemple, `20200318`)."
   ]
  },
  {
   "cell_type": "code",
   "execution_count": null,
   "metadata": {},
   "outputs": [],
   "source": [
    "# Resposta"
   ]
  },
  {
   "cell_type": "markdown",
   "metadata": {},
   "source": [
    "1.2 Implementeu una funció que rebi com a paràmetre el *path* amb la carpeta de la data actual (que s'ha creat a l'apartat anterior) i hi escrigui un fitxer amb les dades de consum de memòria del sistema actuals. El fitxer ha de tenir per nom l'hora actual (en el format `hora_minut_segon`, amb els ítems separats per guions baixos, per exemple, `14_45_55`). El contingut del fitxer seran els dos valors (memòria total i utilitzada) en megabytes separats per comes (per exemple, `15571, 4242`).\n",
    "\n",
    "Per obtenir les dades del consum de memòria, recordeu que podeu executar comandes del sistema amb el mòdul `subprocess` (segurament us caldrà buscar informació sobre com obtenir aquestes dades amb comandes de *unix*)."
   ]
  },
  {
   "cell_type": "code",
   "execution_count": null,
   "metadata": {},
   "outputs": [],
   "source": [
    "# Resposta"
   ]
  },
  {
   "cell_type": "markdown",
   "metadata": {},
   "source": [
    "1.3 Implementeu una funció que rebi com a paràmetres el número de mostres a capturar i l'interval de temps entre cadascuna de les mostres (en segons), i capturi les dades del consum de memòria tantes vegades com s'hagi especificat, esperant el temps indicat entre captures. La funció farà ús de les dues funcions definides anteriorment."
   ]
  },
  {
   "cell_type": "code",
   "execution_count": null,
   "metadata": {},
   "outputs": [],
   "source": [
    "# Resposta"
   ]
  },
  {
   "cell_type": "markdown",
   "metadata": {},
   "source": [
    "1.4 Crideu a la funció definida a l'apartat 1.3 i captureu 20 mostres de consum de memòria, fent servir un interval de 3 segons entre cada captura."
   ]
  },
  {
   "cell_type": "code",
   "execution_count": null,
   "metadata": {},
   "outputs": [],
   "source": [
    "# Resposta"
   ]
  },
  {
   "cell_type": "markdown",
   "metadata": {},
   "source": [
    "1.5 Implementeu una funció que llegeixi totes les dades que s'han capturat, emmagatzemades en una carpeta que rebrà com a paràmetre (i que, de nou, prendrà com a valor per defecte `mem_data`), i mostri les següents dades:\n",
    "* El número de mostres llegides.\n",
    "* La mitjana de la memòria total i utilitzada.\n",
    "* La mediana de la memòria total i utilitzada.\n",
    "* La desviació estàndard de la memòria total i utilitzada.\n",
    "* La data i hora de la primera i última captures de què en tenim dades.\n",
    "\n",
    "Crideu a la funció anterior per tal d'obtenir un resum de les dades capturades."
   ]
  },
  {
   "cell_type": "code",
   "execution_count": null,
   "metadata": {},
   "outputs": [],
   "source": [
    "# Resposta"
   ]
  },
  {
   "cell_type": "markdown",
   "metadata": {},
   "source": [
    "1.6 Implementeu una funció que crei un fitxer comprimit amb totes les dades emmagatzemades per cada dia. La funció rebrà com a argument el nom de la carpeta de dades (per defecte, `mem_data`) i crearà tants fitxers comprimits com dies dels quals en disposem dades. Cada fitxer comprimit contindrà tots els fitxers de dades d'aquell dia.\n",
    "\n",
    "Crideu a la funció anterior i comproveu que es generen els fitxers comprimits correctament."
   ]
  },
  {
   "cell_type": "code",
   "execution_count": null,
   "metadata": {},
   "outputs": [],
   "source": [
    "# Resposta"
   ]
  },
  {
   "cell_type": "markdown",
   "metadata": {},
   "source": [
    "## 7.1.- Solucions als exercicis per practicar\n",
    "\n",
    "1. Creeu un codi que permeti monitorejar el consum de memòria RAM de la màquina en què s'executi. El codi desarà les dades de la memòria total i utilitzada del sistema durant un període de temps, capturant les dades en intervals periòdics. \n",
    "\n",
    "Aquestes dades es desaran en fitxers de text pla, fent servir un fitxer per a les dades capturades en cada moment. Així, dins de la carpeta de dades, hi haurà una carpeta per a les dades de cada dia (que tindrà per nom l'any, el mes i el dia, escrits tots seguits, per exemple, `20200318`). Dins de la carpeta de cada dia, hi haurà un fitxer per cada instant de temps on s'hagin obtingut dades (que tindrà per nom l'hora, el minut i el segon, separats per guions baixos, per exemple, `14_45_55`). El contingut del fitxer seran els dos valors (memòria total i utilitzada) separats per comes (per exemple, `15571, 4242`).\n",
    "\n",
    "Creeu també el codi que permeti recuperar totes les dades emmagatzemades, i obtenir-ne una descripció estadística bàsica (mitjana, mediana i desviació estàndard). \n",
    "\n",
    "Per fer-ho, implementarem un seguit de funcions que es detallen a continuació.\n",
    "\n",
    "1.1 Creeu una funció que rebi com a paràmetre el nom d'una carpeta (que serà `mem_data` per defecte) i creï les carpetes necessàries per emmagatzemar dades per al dia actual. És a dir, el codi haurà de crear, si no existeix ja, una carpeta de dades amb el nom que ha rebut com a paràmetre (o fer servir `mem_data` si no s'ha especificat cap nom), i una altra carpeta a dins d'aquesta que tingui per nom el dia actual (en el format any de 4 xifres, mes de 2 xifres, dia de 2 xifres, tot seguit sense separadors, per exemple, `20200318`)."
   ]
  },
  {
   "cell_type": "code",
   "execution_count": null,
   "metadata": {},
   "outputs": [],
   "source": [
    "import datetime\n",
    "\n",
    "\n",
    "def create_folder(data_folder='mem_data'):\n",
    "    today = datetime.datetime.now().strftime(\"%Y%m%d\")\n",
    "    full_path = os.path.join(data_folder, today, \"\")\n",
    "    # Creem tant la carpeta data_folder com la subcarpeta amb el dia\n",
    "    # i evitem obtenir errors si ja existeixen\n",
    "    os.makedirs(full_path, exist_ok=True)\n",
    "    return full_path"
   ]
  },
  {
   "cell_type": "markdown",
   "metadata": {},
   "source": [
    "1.2 Implementeu una funció que rebi com a paràmetre el *path* amb la carpeta de la data actual (que s'ha creat a l'apartat anterior) i hi escrigui un fitxer amb les dades de consum de memòria del sistema actuals. El fitxer ha de tenir per nom l'hora actual (en el format `hora_minut_segon`, amb els ítems separats per guions baixos, per exemple, `14_45_55`). El contingut del fitxer seran els dos valors (memòria total i utilitzada) en megabytes separats per comes (per exemple, `15571, 4242`).\n",
    "\n",
    "Per obtenir les dades del consum de memòria, recordeu que podeu executar comandes del sistema amb el mòdul `subprocess` (segurament us caldrà buscar informació sobre com obtenir aquestes dades amb comandes de *unix*)."
   ]
  },
  {
   "cell_type": "code",
   "execution_count": null,
   "metadata": {},
   "outputs": [],
   "source": [
    "def save_current_data(folder_name):\n",
    "    # Construïm el path del fitxer a escriure\n",
    "    file_name = datetime.datetime.now().strftime(\"%H_%M_%S\")\n",
    "    full_path = os.path.join(folder_name, file_name)\n",
    "    with open(full_path, 'w') as f:\n",
    "        # Recuperem les dades de memòria executant free -tm i quedant-nos\n",
    "        # únicament amb les dades de memòria RAM (línia 1), i formatem\n",
    "        # la sortida com demana l'enunciat (amb els valors separats per comes)\n",
    "        exe_out = sp.run(['free', '-tm'], encoding='utf-8', stdout=sp.PIPE)\n",
    "        text = \", \".join(exe_out.stdout.split(\"\\n\")[1].split()[1:3])\n",
    "        # Escrivim el resultat al fitxer\n",
    "        f.write(text)"
   ]
  },
  {
   "cell_type": "markdown",
   "metadata": {},
   "source": [
    "1.3 Implementeu una funció que rebi com a paràmetres el número de mostres a capturar i l'interval de temps entre cadascuna de les mostres (en segons), i capturi les dades del consum de memòria tantes vegades com s'hagi especificat, esperant el temps indicat entre captures. La funció farà ús de les dues funcions definides anteriorment."
   ]
  },
  {
   "cell_type": "code",
   "execution_count": null,
   "metadata": {},
   "outputs": [],
   "source": [
    "import time\n",
    "\n",
    "\n",
    "def store_data(num_samples, interval):\n",
    "    full_path = create_folder()\n",
    "    for _ in range(num_samples):\n",
    "        save_current_data(full_path)\n",
    "        time.sleep(interval)"
   ]
  },
  {
   "cell_type": "markdown",
   "metadata": {},
   "source": [
    "1.4 Crideu a la funció definida a l'apartat 1.3 i captureu 20 mostres de consum de memòria, fent servir un interval de 3 segons entre cada captura."
   ]
  },
  {
   "cell_type": "code",
   "execution_count": null,
   "metadata": {},
   "outputs": [],
   "source": [
    "store_data(num_samples=20, interval=3)"
   ]
  },
  {
   "cell_type": "markdown",
   "metadata": {},
   "source": [
    "1.5 Implementeu una funció que llegeixi totes les dades que s'han capturat, emmagatzemades en una carpeta que rebrà com a paràmetre (i que, de nou, prendrà com a valor per defecte `mem_data`), i mostri les següents dades:\n",
    "* El número de mostres llegides.\n",
    "* La mitjana de la memòria total i utilitzada.\n",
    "* La mediana de la memòria total i utilitzada.\n",
    "* La desviació estàndard de la memòria total i utilitzada.\n",
    "* La data i hora de la primera i última captures de què en tenim dades.\n",
    "\n",
    "Crideu a la funció anterior per tal d'obtenir un resum de les dades capturades."
   ]
  },
  {
   "cell_type": "code",
   "execution_count": null,
   "metadata": {},
   "outputs": [],
   "source": [
    "import numpy as np\n",
    "\n",
    "\n",
    "def read_data(data_folder='mem_data'):\n",
    "    # Recuperem tots els fitxers de dades\n",
    "    all_files = glob.glob(data_folder + '/*/*', recursive=True)\n",
    "    # Carreguem les dades de tots els fitxers en llistes\n",
    "    # (fem servir una llista per cada tipus de dades a desar)\n",
    "    total_mem, used_mem, dts = [], [], []\n",
    "    for file_name in all_files:\n",
    "        with open(file_name) as f:\n",
    "            # Llegim la línia del fitxer\n",
    "            line = f.readline()\n",
    "            # Separem els dos valors (memòria total i memòria utilitzada)\n",
    "            t_mem, u_mem = line.split(\",\")\n",
    "            # Afegim les dades a les llistes\n",
    "            total_mem.append(int(t_mem))\n",
    "            used_mem.append(int(u_mem))\n",
    "            # Afegim també la data i hora del fitxer a la llista dts\n",
    "            dt = datetime.datetime.strptime(file_name[-17:], \"%Y%m%d/%H_%M_%S\")\n",
    "            dts.append(dt)\n",
    "\n",
    "    # Mostrem el resum de les dades llegides\n",
    "    print(\"{} samples read\\n\".format(len(total_mem)))\n",
    "    print(\"Total memory:\\t\\t{} (avg), {} (median), {} std\".format(\n",
    "        np.mean(total_mem), np.median(total_mem), np.std(total_mem)))\n",
    "    print(\"Used memory:\\t\\t{} (avg), {} (median), {} std\".format(\n",
    "        np.mean(used_mem), np.median(used_mem), np.std(used_mem)))\n",
    "    print(\"First sample is from:\\t{}\".format(min(dts)))\n",
    "    print(\"Last sample is from:\\t{}\".format(max(dts)))\n",
    "\n",
    "\n",
    "read_data()"
   ]
  },
  {
   "cell_type": "markdown",
   "metadata": {},
   "source": [
    "1.6 Implementeu una funció que crei un fitxer comprimit amb totes les dades emmagatzemades per cada dia. La funció rebrà com a argument el nom de la carpeta de dades (per defecte, `mem_data`) i crearà tants fitxers comprimits com dies dels quals en disposem dades. Cada fitxer comprimit contindrà tots els fitxers de dades d'aquell dia.\n",
    "\n",
    "Crideu a la funció anterior i comproveu que es generen els fitxers comprimits correctament."
   ]
  },
  {
   "cell_type": "code",
   "execution_count": null,
   "metadata": {},
   "outputs": [],
   "source": [
    "def compress_data(data_folder='mem_data'):\n",
    "\n",
    "    date_folders = glob.glob(data_folder + '/*')\n",
    "    for date_folder in date_folders:\n",
    "        # Creem el fitxer .zip\n",
    "        zip_file = os.path.join(date_folder + '.zip')\n",
    "        # Omplim el fitxer .zip amb tots els fitxers que hi ha a la carpeta\n",
    "        # date_folder que estem processant\n",
    "        with zf.ZipFile(zip_file, 'w', compression=zf.ZIP_DEFLATED) as zip_f:\n",
    "            zip_f.write(date_folder)\n",
    "            sample_files = glob.glob(date_folder + '/*')\n",
    "            for sample_file in sample_files:\n",
    "                zip_f.write(sample_file)\n",
    "\n",
    "\n",
    "compress_data()"
   ]
  },
  {
   "cell_type": "markdown",
   "metadata": {},
   "source": [
    "# 8.- Bibliografia\n",
    "\n",
    "\n",
    "## 8.1.- Bibliografia bàsica\n",
    "\n",
    "La codificació és un dels detalls importants a considerar quan cal llegir i/o escriure un fitxer i, sovint, és l'origen de mal de caps en molts programadors (sobretot en llenguatges de més baix nivell que el Python). Per a entendre què és la codificació de caràcters, conèixer quines són les codificacions de caràcters més habituals i saber com gestiona Python 3 la codificació, llegiu ara la [guia d'aquest enllaç](https://realpython.com/python-encodings-guide/#python-3-all-in-on-unicode).\n",
    "\n",
    "\n",
    "## 8.2.- Bibliografia addicional - Ampliació de coneixements\n",
    "\n",
    "Aquesta unitat presenta una introducció a com interactuar amb el sistema de fitxers i, en general, amb el sistema operatiu, des de Python. Així, com a introducció, presenta algunes qüestions de manera inicial i obre la porta a explorar-les en més profunditat. A continuació es llisten alguns enllaços que us serviran per seguir explorant alguns dels temes que treballem a la unitat, ja siguin purament de programació en Python com del sistema operatiu:\n",
    "\n",
    "* **El sistema de fitxers de Linux**: En la unitat parlem d'interactuar amb el sistema de fitxers de Linux, però no entrem a explicar com és aquest sistema de fitxers. Si voleu llegir-ne una introducció, aquest [*Overview*](https://tldp.org/LDP/intro-linux/html/sect_03_01.html) us pot ser molt útil.\n",
    "\n",
    "* **Permisos sobre els fitxers en unix**: Si teniu curiositat per saber com funcionen els bits de permís dels fitxers en unix, us recomanem llegir les tres parts de la sèrie d'articles sobre els permisos ([1](http://www.filepermissions.com/articles/what-are-file-permissions-in-linux-and-mac), [2](http://www.filepermissions.com/articles/understanding-octal-file-permissions), i [3](http://www.filepermissions.com/articles/sticky-bit-suid-and-sgid)).\n",
    "\n",
    "* **Obertura de fitxers des de Python**: La funció `open` accepta altres arguments opcionals que no hem presentat, i que gestionen detalls com el *buffering* de dades, la codificació, la gestió dels errors, la gestió del salt de línia, etc. El lector interessat pot consultar la [documentació oficial de la funció `open`](https://docs.python.org/3/library/functions.html#open) per descobrir com funcionen aquests arguments i quines opcions es troben disponibles.\n",
    "\n",
    "* **Compressió de fitxers**: Hi ha altres formats de compressió de dades a part dels que hem vist en aquesta unitat. El lector interessat pot llegir la documentació del mòdul [`gzip`](https://docs.python.org/3/library/gzip.html) per conèixer les funcions que permeten treballar amb fitxers gzip des de Python.\n",
    "\n",
    "* **Lectura de fitxers amb pandas**: Més enllà dels fitxers csv, hi ha altres formats que també es fan servir sovint per intercanviar o desar dades. Pandas disposa de diverses funcions per a carregar dades provinents dels formats de dades més populars, com ara, json ([`read_json`](https://pandas.pydata.org/pandas-docs/stable/reference/api/pandas.read_json.html#pandas.read_json)) o excel ([`read_excel`](https://pandas.pydata.org/pandas-docs/stable/reference/api/pandas.read_excel.html#pandas.read_excel)). \n",
    "\n",
    "També us recomanem revisar la documentació oficial de les funcions i classes descrites en aquesta unitat, que trobareu enllaçades en cada un dels apartats que les descriuen, per conèixer quins paràmetres permeten ajustar-ne el seu funcionament."
   ]
  }
 ],
 "metadata": {
  "language_info": {
   "name": "python"
  }
 },
 "nbformat": 4,
 "nbformat_minor": 2
}
