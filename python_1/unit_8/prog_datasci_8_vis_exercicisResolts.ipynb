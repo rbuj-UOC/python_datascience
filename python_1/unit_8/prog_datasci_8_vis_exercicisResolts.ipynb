{
 "cells": [
  {
   "cell_type": "markdown",
   "metadata": {},
   "source": [
    "Programació per a *Data Science*\n",
    "============================\n",
    "\n",
    "Unitat 8: Visualització de dades en Python - Exercicis Resolts\n",
    "-----------------------------------------------------\n"
   ]
  },
  {
   "cell_type": "markdown",
   "metadata": {},
   "source": [
    "En aquest Notebook hi trobareu un conjunt d'exercicis per practicar. Aquests exercicis no puntuen per a la PAC, però us recomanem que els intenteu resoldre com a part del procés d'aprenentatge. Trobareu exemples de possibles solucions als exercicis al propi notebook, però és important que intenteu resoldre'ls vosaltres abans de consultar les solucions. Les solucions us han de permetre validar les vostres respostes, així com veure alternatives de resolució de les activitats. També us animem a preguntar qualsevol dubte que us sorgeixi sobre la resolució de les activitats per practicar al fòrum de l'aula.\n",
    "\n",
    "----\n",
    "## Preguntes i exercicis per a practicar\n"
   ]
  },
  {
   "cell_type": "markdown",
   "metadata": {},
   "source": [
    "### Exercici 1\n",
    "\n",
    "Pokemon és una saga RPG molt famosa a nivell mundial. La missió d'aquests jocs és capturar i entrenar els pokemon, unes criatures que habiten arreu del continent, per fer-se amb el títol de mestre de la lliga Pokemon. Els Pokemons són criatures molt diverses, hi ha molts tipus diferents i alguns d'ells poden evolucionar. \n",
    "\n",
    "En aquest exercici explorarem els Pokemons de la primera generació amb el dataset `pokemon.csv`. \n",
    "\n",
    "\n",
    "1. Quants Pokemons llegendaris hi ha? Quants Pokemons hi ha de cada tipus d'evolució (variable *Stage*)? \n",
    "\n",
    "2. Quin és el tipus més freqüent? I el menys?\n",
    "\n",
    "3. Un nou entrenador ha d'escollir entre 3 Pokemons inicials (Bulbasaur, Charmander i Squirtle) i ens ha demanat que l'ajudem a decidir basant-nos en les estadístiques dels pokemons d'aquests tres tipus (Grass, Fire i Water). Si ens centrem només en les característiques d'atac i defensa, quin tipus li hauríem de recomanar?\n",
    "\n",
    "**Representa les respostes gràficament.** \n",
    "\n",
    "Pista: Per la 3a pregunta, podeu utilitzar la funció jointplot que hem vist al Notebook d'explicació. Penseu en quin tipus de gràfica, d'entre les que ofereix jointplot, s'ajusta als requeriments de l'enunciat."
   ]
  },
  {
   "cell_type": "code",
   "execution_count": null,
   "metadata": {},
   "outputs": [],
   "source": [
    "# Resposta"
   ]
  },
  {
   "cell_type": "markdown",
   "metadata": {},
   "source": [
    "### Exercici 2\n",
    "\n",
    "Carregueu el conjunt de dades `pulitzer-circulation-data.csv` en un dataframe de Pandas. La font original d'aquest conjunt de dades és el repositori de dades de [FiveThirtyEight](https://github.com/fivethirtyeight/data).\n",
    "\n",
    "Genereu un diagrama de dispersió que permeti visualitzar les mostres del conjunt de dades de pulitzer segons les variables `Daily Circulation 2004` i `Daily Circulation 2013`. Incloeu una recta amb l'ajust lineal entre les dues variables. Pel que fa als detalls de visualització, limiteu la visualització de tots dos eixos a l'interval (0, 1000000), feu servir l'estil `whitegrid` de Seaborn, i dibuixeu els punts i la línia en color verd. \n",
    "\n",
    "Pista: podeu utilitzar la funció `jointplot` que hem vist al Notebook d'explicació. Penseu en quin tipus de gràfica, [d'entre les que ofereix jointplot](http://seaborn.pydata.org/generated/seaborn.jointplot.html), s'ajusta als requeriments de l'enunciat."
   ]
  },
  {
   "cell_type": "code",
   "execution_count": null,
   "metadata": {},
   "outputs": [],
   "source": [
    "# Resposta"
   ]
  },
  {
   "cell_type": "markdown",
   "metadata": {},
   "source": [
    "### Exercici 3\n",
    "\n",
    "_Joc de Trons_ és una serie de televisió basada en la famosa saga _Una Cançó de Foc i Gel_ de George RR Martin. Aquesta serie és coneguda pels complicats escenaris polítics i bèlics, així com les numeroses morts de personatges. \n",
    "\n",
    "En aquest exercici treballem amb el dataset `battles.csv` que ens dóna informació sobre les batalles que han tingut lloc al llarg de _Joc de Trons_. \n",
    "\n",
    "Genereu un diagrama de punts (_scatter_) que permeti comparar la mida (`attacker_size` vs `defender_size`) dels dos principals exèrcits involucrats en cada batalla. Feu servir la columna `attacker_outcome` per mostrar amb diferents colors el resultat de la batalla per l'atacant.\n",
    "\n",
    "Podeu utilitzar la funció [`lmplot`](https://seaborn.pydata.org/generated/seaborn.lmplot.html) de Seaborn per generar la gràfica. Penseu en quins atributs ens permeten crear aquest tipus de visualització.\n",
    "\n",
    "Veient la gràfica, podem afirmar que la mida de l'exèrcit és determinant en l'_outcome_ de la batalla?\n",
    "\n",
    "Nota: feu servir l'estil `whitegrid` de Seaborn. \n"
   ]
  },
  {
   "cell_type": "code",
   "execution_count": null,
   "metadata": {},
   "outputs": [],
   "source": [
    "# Resposta"
   ]
  },
  {
   "cell_type": "markdown",
   "metadata": {},
   "source": [
    "### Exercici 4\n",
    "\n",
    "En els regnes de Ponent, els Grans Mestres consideren que tothom hauria de tenir accés a una biblioteca. Desgraciadament, després d'una gran guerra la xarxa de carreteres que comuniquen aquests regnes ha quedat greument afectada. Els Grans Mestres ens han contractat per resoldre les següents qüestions:\n",
    "\n",
    "1. Quins regnes han quedat sense poder accedir a una biblioteca?\n",
    "2. Quin és el nombre mínim de biblioteques que s'haurien de construir per tal de que tothom torni a tenir accés a una biblioteca? (si no podem re-construir cap carretera)\n",
    "3. Quin és el cost mínim de re-construcció de carreteres per tal de que tothom torni a tenir accés a una biblioteca? (si no podem construir cap biblioteca)\n",
    "4. Veient la resposta de la pregunta 2 i 3, què seria el més òptim tenint en compte que volem minimitzar els costos?\n",
    "\n",
    "Per poder respondre a aquestes preguntes, els Grans Mestres ens faciliten la següent informació:\n",
    "\n",
    "- Disposem d'un graf amb l'estat de la xarxa de carreteres entre els regnes.\n",
    "- Disposem d'un llistat amb les ciutats que disposen d'una biblioteca.\n",
    "- Una ciutat es considera que té accés a una biblioteca si existeix una biblioteca en la mateixa ciutat o si els habitants poden viatjar per carretera fins a una altra ciutat amb biblioteca.\n",
    "- El cost de construir una biblioteca és de 150.000€.\n",
    "- El cost de re-construir una carretera és de 80.000€.\n",
    "\n",
    "Nota: per resoldre l'exercici, **heu de generar una visualització del graf que us permeti respondre a les quatre preguntes plantejades**. Després, **recordeu respondre a les quatre preguntes!**"
   ]
  },
  {
   "cell_type": "code",
   "execution_count": null,
   "metadata": {},
   "outputs": [],
   "source": [
    "# Dades disponibles per a l'exercici\n",
    "\n",
    "import networkx as nx\n",
    "\n",
    "# Llista de carreteres transitables\n",
    "carreteres_ok = [(1,3), (3,4), (2, 7), (2, 8), (5, 6), (9, 10)]\n",
    "\n",
    "# Llista de carreteres tallades\n",
    "carreteres_ko = [(1, 2), (2, 4), (2, 5), (8, 9)]\n",
    "\n",
    "# Graf G, que representa la xarxa de carreteres entre les ciutats\n",
    "G = nx.Graph()\n",
    "\n",
    "G.add_edges_from(carreteres_ok)\n",
    "G.add_edges_from(carreteres_ko) \n",
    "\n",
    "# Llista de ciutats amb biblioteca\n",
    "ciutats_amb_biblioteca = [3, 6, 9]"
   ]
  },
  {
   "cell_type": "code",
   "execution_count": null,
   "metadata": {},
   "outputs": [],
   "source": [
    "# Resposta"
   ]
  },
  {
   "cell_type": "markdown",
   "metadata": {},
   "source": [
    "### Exercici 5\n",
    "\n",
    "L'any 2018 a la ciutat de Barcelona s'han produit, de mitjana, 27.22 accidents amb vehicles implicats. És per això que l'ajuntament de Barcelona requereix del nostre servei per construir un mapa **interactiu** que mostri els punts on s'han produït els accidents. \n",
    "\n",
    "Ens demanen crear un mapa utilitzant la llibreria _geoplotlib_ que ens ha de permetre veure la localització de cada accident i el nombre de víctimes implicades. De moment només ens demanen visualitzar els accidents produïts al mes de **juny del 2018** en **caps de setmana** (dissabtes i diumenges).\n",
    "\n",
    "Nota 1: Podeu obtenir les dades dels accidents gestionats per la Guàrdia Urbana a la ciutat de Barcelona al portal [Open Data BCN](https://opendata-ajuntament.barcelona.cat/data/ca/dataset) i [carregar les dades](https://github.com/andrea-cuttone/geoplotlib/wiki/user-Guide#loading-data) a partir d'un diccionari o un dataframe.\n"
   ]
  },
  {
   "cell_type": "code",
   "execution_count": null,
   "metadata": {},
   "outputs": [],
   "source": [
    "# Resposta"
   ]
  },
  {
   "cell_type": "markdown",
   "metadata": {},
   "source": [
    "### Exercici 6\n",
    "\n",
    "En aquest exercici utilitzarem el *dataset* `covid19_US_cases.csv`, que mostra l'evolució dels casos de Covid-19 als diferents estats des de finals de gener del 2020. \n",
    "\n",
    "1. Quina és la distribució de casos als Estats Units l'últim mes (abril)? **Mostra gràficament els resultats per cada grup (actius, recuperats i morts), però sense separar per estats.** \n",
    "\n",
    "2. Addicionalment, se'ns demana generar una gràfica que mostri l'evolució dels casos confirmats a l'estat de Nova York, Massachusetts, Washington, California i Texas des de l'inici de la pandèmia. Quina regió és la més afectada? \n",
    "\n",
    "\n",
    "Nota 1: En l'apartat 1, per sumar tots els casos de US es pot utilitzar la funció groupby de pandas que hem vist en lliçons anteriors.\n",
    "\n",
    "Nota 2: La visualització de les dades hauria de ser atractiva i clara per tal de que es puguin treure conclusions d'elles.\n"
   ]
  },
  {
   "cell_type": "code",
   "execution_count": null,
   "metadata": {},
   "outputs": [],
   "source": [
    "# Resposta"
   ]
  },
  {
   "cell_type": "markdown",
   "metadata": {},
   "source": [
    "### Exercici 7\n",
    "\n",
    "A partir de les dades de twitter es poden crear xarxes de relacions entre els seus usuaris. En aquest exercici treballarem amb el conjunt de dades `politics_twitter.csv`, que constitueix una xarxa de les relacions entre diferents polítics de l'estat espanyol generada a partir d'extraccions de twitter.\n",
    "\n",
    "Cada fila representa un link entre 2 polítics (P1 i P2) i el valor (Weight) indica la força de la connexió, en aquest cas 1 ja que només fa referència a la presència d'aquesta relació.  \n",
    "\n",
    "1. Quantes comunitats es poden detectar al graf? \n",
    "\n",
    "2. Representa gràficament el graf i pinta de diferent color cada comunitat detectada. \n"
   ]
  },
  {
   "cell_type": "code",
   "execution_count": null,
   "metadata": {},
   "outputs": [],
   "source": [
    "# Resposta"
   ]
  },
  {
   "cell_type": "markdown",
   "metadata": {},
   "source": [
    "---\n",
    "\n",
    "## Solucions exercicis per practicar"
   ]
  },
  {
   "cell_type": "markdown",
   "metadata": {},
   "source": [
    "### Exercici 1\n",
    "\n",
    "Pokemon és una saga RPG molt famosa a nivell mundial. La missió d'aquests jocs és capturar i entrenar els pokemon, unes criatures que habiten arreu del continent, per fer-se amb el títol de mestre de la lliga Pokemon. Els Pokemons són criatures molt diverses, hi ha molts tipus diferents i alguns d'ells poden evolucionar. \n",
    "\n",
    "En aquest exercici explorarem els Pokemons de la primera generació amb el dataset `pokemon.csv`.\n",
    "\n",
    "\n",
    "1. Quants Pokemons llegendaris hi ha? Quants Pokemons hi ha de cada tipus d'evolució (variable *Stage*)? \n",
    "\n",
    "2. Quin és el tipus més freqüent? I el menys?\n",
    "\n",
    "3. Un nou entrenador ha d'escollir entre 3 Pokemons inicials (Bulbasaur, Charmander i Squirtle) i ens ha demanat que l'ajudem a decidir basant-nos en les estadístiques dels pokemons d'aquests tres tipus (Grass, Fire i Water). Si ens centrem només en les característiques d'atac i defensa, quin tipus li hauríem de recomanar?\n",
    "\n",
    "**Representa les respostes gràficament.** \n",
    "\n",
    "Pista: Per la 3a pregunta, podeu utilitzar la funció jointplot que hem vist al Notebook d'explicació. Penseu en quin tipus de gràfica, d'entre les que ofereix jointplot, s'ajusta als requeriments de l'enunciat."
   ]
  },
  {
   "cell_type": "code",
   "execution_count": null,
   "metadata": {},
   "outputs": [],
   "source": [
    "import numpy as np\n",
    "import pandas as pd\n",
    "import seaborn as sns\n",
    "import matplotlib.pyplot as plt\n",
    "\n",
    "\n",
    "# Mostrem les gràfiques en el notebook\n",
    "%matplotlib inline\n",
    "\n",
    "# Indiquem que volem utilitzar l'estil \"whitegrid\" de seaborn\n",
    "sns.set_style(\"whitegrid\")\n",
    "\n",
    "# Desactivem uns warnings perquè no ens apareguin\n",
    "import warnings\n",
    "warnings.filterwarnings(\"ignore\", category=FutureWarning) \n",
    "warnings.filterwarnings(\"ignore\", category=RuntimeWarning) \n",
    "\n",
    "\n",
    "# Carreguem les dades del fitxer pokemon.csv en un dataframe\n",
    "\n",
    "pkmn = pd.read_csv('data/pokemon.csv') \n",
    "\n",
    "# Visualitzem les primeres files del dataset\n",
    "pkmn.head()"
   ]
  },
  {
   "cell_type": "code",
   "execution_count": null,
   "metadata": {},
   "outputs": [],
   "source": [
    "##1\n",
    "\n",
    "#Quants Pokemons llegendaris hi ha?\n",
    "\n",
    "pkmn_no_leg=np.sum(pkmn['Legendary']==0)\n",
    "pkmn_leg=np.sum(pkmn['Legendary']==1)\n",
    "\n",
    "print(f\"Número de Pokemons no llegendaris: {pkmn_no_leg}\")\n",
    "print(f\"Número de Pokemons llegendaris: {pkmn_leg}\")\n",
    "\n",
    "#Grafiquem la resposta\n",
    "plt.figure(figsize=(5,5))\n",
    "sns.set(font_scale = 1.5)\n",
    "legend_ = sns.countplot(x=\"Legendary\", data=pkmn)\n",
    "legend_ = plt.ylabel('Number of Pokemon')"
   ]
  },
  {
   "cell_type": "code",
   "execution_count": null,
   "metadata": {},
   "outputs": [],
   "source": [
    "#Quants pokemons hi ha de cada evolució?\n",
    "\n",
    "#OPCIÓ A\n",
    "pkmn_S1=np.sum(pkmn['Stage']==1)\n",
    "pkmn_S2=np.sum(pkmn['Stage']==2)\n",
    "pkmn_S3=np.sum(pkmn['Stage']==3)\n",
    "\n",
    "print(f\"Número de Pokemons Stage 1: {pkmn_S1}\")\n",
    "print(f\"Número de Pokemons Stage 2: {pkmn_S2}\")\n",
    "print(f\"Número de Pokemons Stage 3: {pkmn_S3}\")\n",
    "\n",
    "#OPCIÓ B\n",
    "pkmn_= pkmn.groupby('Stage').count().Number\n",
    "\n",
    "#Grafiquem la resposta\n",
    "plt.figure(figsize=(5,5))\n",
    "sns.set(font_scale = 1.5)\n",
    "stage_ = sns.countplot(x=\"Stage\", data=pkmn)\n",
    "stage_ = plt.ylabel('Number of Pokemon')"
   ]
  },
  {
   "cell_type": "code",
   "execution_count": null,
   "metadata": {},
   "outputs": [],
   "source": [
    "##2\n",
    "\n",
    "#Quin és el tipus més freqüent? I el menys?\n",
    "\n",
    "#Mostrem el número de pokemons per cada tipus\n",
    "print(pkmn.groupby('Type 1')['Number'].count())\n",
    "\n",
    "print(\"\\n\")\n",
    "\n",
    "#Mostrem quin és el tipus més i menys frequent\n",
    "\n",
    "print(f\"El tipus més freqüent és el de \" + str(pkmn.groupby('Type 1')['Number'].count().argmax()) +\n",
    "        \" amb \" + str(pkmn.groupby('Type 1')['Number'].count().max()) + \" pokemons\")\n",
    "print(f\"El tipus menys freqüent és el de \" + str(pkmn.groupby('Type 1')['Number'].count().idxmin()) +\n",
    "       \" amb \" + str(pkmn.groupby('Type 1')['Number'].count().min()) + \" pokemons\")\n",
    "\n",
    "#Indiquem que volem utilitzar l'estil \"whitegrid\" de seaborn\n",
    "sns.set_style(\"whitegrid\")\n",
    "\n",
    "#Grafiquem la resposta\n",
    "plt.figure(figsize=(10,7))\n",
    "sns.set(font_scale = 1.5)\n",
    "type_ = sns.countplot(x=\"Type 1\", data=pkmn)\n",
    "type_ = plt.xticks(rotation=45)\n",
    "type_ = plt.ylabel('Number of Pokemon')"
   ]
  },
  {
   "cell_type": "code",
   "execution_count": null,
   "metadata": {},
   "outputs": [],
   "source": [
    "##3\n",
    "\n",
    "#Quin pokemon inicial hem d'escollir?\n",
    "\n",
    "#Seleccionem els pokemons de tipus aigua, foc i planta. \n",
    "pkmn_inicials_tipus = pkmn[pkmn[\"Type 1\"].isin([\"Grass\", \"Fire\",\"Water\"])]\n",
    "\n",
    "#Seleccionem les característiques que volem evaluar\n",
    "pkmn_inicials_tipus_stats=pkmn_inicials_tipus[[\"Type 1\",\"HP\",\"Attack\",\"Defense\"]]\n",
    "\n",
    "#Especifiquem uns colors concrets pels tipus de pokemon en els plots (verd=planta, blau=aigua, vermell=foc)\n",
    "colors_pkm=[\"#8fd400\",\"#ff0000\",\"#1f75fe\"]"
   ]
  },
  {
   "cell_type": "code",
   "execution_count": null,
   "metadata": {},
   "outputs": [],
   "source": [
    "#OPCIÓ A: pairplot\n",
    "\n",
    "#Indiquem que volem utilitzar l'estil \"whitegrid\" de seaborn\n",
    "sns.set_style(\"whitegrid\")\n",
    "\n",
    "#Grafiquem la resposta\n",
    "sns.pairplot(pkmn_inicials_tipus_stats, hue=\"Type 1\",height=2, palette=colors_pkm)"
   ]
  },
  {
   "cell_type": "code",
   "execution_count": null,
   "metadata": {},
   "outputs": [],
   "source": [
    "#OPCIÓ B: jointplot\n",
    "\n",
    "#Indiquem que volem utilitzar l'estil \"whitegrid\" de seaborn\n",
    "sns.set_style(\"whitegrid\")\n",
    "\n",
    "# Joint Distribution Plot\n",
    "sns.jointplot(x='Attack', y='Defense', data=pkmn_inicials_tipus_stats[pkmn_inicials_tipus_stats['Type 1']=='Grass'],\n",
    "             color =\"#8fd400\",kind ='reg')"
   ]
  },
  {
   "cell_type": "code",
   "execution_count": null,
   "metadata": {},
   "outputs": [],
   "source": [
    "#Indiquem que volem utilitzar l'estil \"whitegrid\" de seaborn\n",
    "sns.set_style(\"whitegrid\")\n",
    "\n",
    "sns.jointplot(x='Attack', y='Defense', data=pkmn_inicials_tipus_stats[pkmn_inicials_tipus_stats['Type 1']=='Fire'],\n",
    "             color =\"#ff0000\",kind ='reg')"
   ]
  },
  {
   "cell_type": "code",
   "execution_count": null,
   "metadata": {},
   "outputs": [],
   "source": [
    "#Indiquem que volem utilitzar l'estil \"whitegrid\" de seaborn\n",
    "sns.set_style(\"whitegrid\")\n",
    "\n",
    "sns.jointplot(x='Attack', y='Defense', data=pkmn_inicials_tipus_stats[pkmn_inicials_tipus_stats['Type 1']=='Water'], \n",
    "    color =\"#1f75fe\", kind ='reg')"
   ]
  },
  {
   "cell_type": "markdown",
   "metadata": {},
   "source": [
    "**Resposta**\n",
    "\n",
    "No hi ha una sola solució correcta en aquest exercici ;) Una bona resposta seria recomanar un pokemon inicial d'aigua o foc, ja que tenen una correlació positiva ente atac i defensa, per tant, els pokemons evolucionats amb atac alt tindran també una defensa alta. "
   ]
  },
  {
   "cell_type": "markdown",
   "metadata": {},
   "source": [
    "### Exercici 2\n",
    "\n",
    "Carregueu el conjunt de dades `pulitzer-circulation-data.csv` en un dataframe de Pandas. La font original d'aquest conjunt de dades és el repositori de dades de [FiveThirtyEight](https://github.com/fivethirtyeight/data).\n",
    "\n",
    "Genereu un diagrama de dispersió que permeti visualitzar les mostres del conjunt de dades de pulitzer segons les variables `Daily Circulation 2004` i `Daily Circulation 2013`. Incloeu una recta amb l'ajust lineal entre les dues variables. Pel que fa als detalls de visualització, limiteu la visualització de tots dos eixos a l'interval (0, 1000000), feu servir l'estil `whitegrid` de Seaborn, i dibuixeu els punts i la línia en color verd. \n",
    "\n",
    "Pista: podeu utilitzar la funció `jointplot` que hem vist al Notebook d'explicació. Penseu en quin tipus de gràfica, [d'entre les que ofereix jointplot](http://seaborn.pydata.org/generated/seaborn.jointplot.html), s'ajusta als requeriments de l'enunciat."
   ]
  },
  {
   "cell_type": "code",
   "execution_count": null,
   "metadata": {},
   "outputs": [],
   "source": [
    "# Importem la llibreria seaborn\n",
    "import pandas as pd\n",
    "import seaborn as sns\n",
    "\n",
    "# Mostrem les gràfiques en el notebook\n",
    "%matplotlib inline\n",
    "\n",
    "# Indiquem que volem utilitzar l'estil \"whitegrid\" de seaborn\n",
    "sns.set_style(\"whitegrid\")\n",
    "\n",
    "# Carreguem les dades del fitxer pulitzer-circulation-data.csv en un dataframe\n",
    "data = pd.read_csv('data/pulitzer-circulation-data.csv')\n",
    "\n",
    "# Generem la gràfica de tipus \"reg\"\n",
    "g = sns.jointplot(\"Daily Circulation 2004\", \"Daily Circulation 2013\", data=data, \n",
    "                  xlim=[0, 1000000], ylim=[0, 1000000],\n",
    "                  kind=\"reg\", \n",
    "                  color=\"g\", height=8)"
   ]
  },
  {
   "cell_type": "markdown",
   "metadata": {},
   "source": [
    "### Exercici 3\n",
    "\n",
    "_Joc de Trons_ és una serie de televisió basada en la famosa saga _Una Cançó de Foc i Gel_ de George RR Martin. Aquesta serie és coneguda pels complicats escenaris polítics i bèlics, així com les numeroses morts de personatges. \n",
    "\n",
    "En aquest exercici treballem amb el dataset `battles.csv` que ens dóna informació sobre les batalles que han tingut lloc al llarg de _Joc de Trons_. \n",
    "\n",
    "Genereu un diagrama de punts (_scatter_) que permeti comparar la mida (`attacker_size` vs `defender_size`) dels dos principals exèrcits involucrats en cada batalla. Feu servir la columna `attacker_outcome` per mostrar amb diferents colors el resultat de la batalla per l'atacant.\n",
    "\n",
    "Podeu utilitzar la funció [`lmplot`](https://seaborn.pydata.org/generated/seaborn.lmplot.html) de Seaborn per generar la gràfica. Penseu en quins atributs ens permeten crear aquest tipus de visualització.\n",
    "\n",
    "Veient la gràfica, podem afirmar que la mida de l'exèrcit és determinant en l'_outcome_ de la batalla?\n",
    "\n",
    "Nota: feu servir l'estil `whitegrid` de Seaborn. \n"
   ]
  },
  {
   "cell_type": "code",
   "execution_count": null,
   "metadata": {},
   "outputs": [],
   "source": [
    "import pandas as pd\n",
    "import seaborn as sns\n",
    "%matplotlib inline\n",
    "\n",
    "# Especifiquem que volem utilitzar l'estil whitegrid de Seaborn\n",
    "sns.set(style=\"whitegrid\")\n",
    "\n",
    "# Carreguem les dades del fitxer got.csv en un dataframe\n",
    "got_data = pd.read_csv('data/battles.csv')\n",
    "\n",
    "# Eliminem les mostres amb valors NaN en les columnes attacker_size o defender_size\n",
    "got_data = got_data.dropna(subset=[\"attacker_size\", \"defender_size\"])\n",
    "\n",
    "# Mostrem la gràfica\n",
    "sns.lmplot(x=\"attacker_size\", y=\"defender_size\", hue=\"attacker_outcome\", scatter=True, fit_reg=False, data=got_data)"
   ]
  },
  {
   "cell_type": "markdown",
   "metadata": {},
   "source": [
    "**Resposta** \n",
    "\n",
    "Veient la gràfica anterior, no podem afirmar que la mida de l'exèrcit és determinant en l'outcome de la batalla. Com podem observar, hi ha casos on l'atacant perd la batalla tot i la superioritat numèrica de les tropes i a l'inrevés, l'atacant guanya la batalla tot i la superioritat numèrica del bàndol contrari."
   ]
  },
  {
   "cell_type": "markdown",
   "metadata": {},
   "source": [
    "### Exercici 4\n",
    "\n",
    "En els regnes de Ponent, els Grans Mestres consideren que tothom hauria de tenir accés a una biblioteca. Desgraciadament, després d'una gran guerra la xarxa de carreteres que comuniquen aquests regnes ha quedat greument afectada. Els Grans Mestres ens han contractat per resoldre les següents qüestions:\n",
    "\n",
    "1. Quins regnes han quedat sense poder accedir a una biblioteca?\n",
    "2. Quin és el nombre mínim de biblioteques que s'haurien de construir per tal de que tothom torni a tenir accés a una biblioteca? (si no podem re-construir cap carretera)\n",
    "3. Quin és el cost mínim de re-construcció de carreteres per tal de que tothom torni a tenir accés a una biblioteca? (si no podem construir cap biblioteca)\n",
    "4. Veient la resposta de la pregunta 2 i 3, què seria el més òptim tenint en compte que volem minimitzar els costos?\n",
    "\n",
    "Per poder respondre a aquestes preguntes, els Grans Mestres ens faciliten la següent informació:\n",
    "\n",
    "- Disposem d'un graf amb l'estat de la xarxa de carreteres entre els regnes.\n",
    "- Disposem d'un llistat amb les ciutats que disposen d'una biblioteca.\n",
    "- Una ciutat es considera que té accés a una biblioteca si existeix una biblioteca en la mateixa ciutat o si els habitants poden viatjar per carretera fins a una altra ciutat amb biblioteca.\n",
    "- El cost de construir una biblioteca és de 150.000€.\n",
    "- El cost de re-construir una carretera és de 80.000€.\n",
    "\n",
    "Nota: per resoldre l'exercici, **heu de generar una visualització del graf que us permeti respondre a les quatre preguntes plantejades**. Després, **recordeu respondre a les quatre preguntes!**\n"
   ]
  },
  {
   "cell_type": "code",
   "execution_count": null,
   "metadata": {},
   "outputs": [],
   "source": [
    "# Dades disponibles per a l'exercici\n",
    "\n",
    "import networkx as nx\n",
    "\n",
    "# Llista de carreteres transitables\n",
    "carreteres_ok = [(1,3), (3,4), (2, 7), (2, 8), (5, 6), (9, 10)]\n",
    "\n",
    "# Llista de carreteres tallades\n",
    "carreteres_ko = [(1, 2), (2, 4), (2, 5), (8, 9)]\n",
    "\n",
    "# Graf G, que representa la xarxa de carreteres entre les ciutats\n",
    "G = nx.Graph()\n",
    "\n",
    "G.add_edges_from(carreteres_ok)\n",
    "G.add_edges_from(carreteres_ko) \n",
    "\n",
    "# Llista de ciutats amb biblioteca\n",
    "ciutats_amb_biblioteca = [3, 6, 9]"
   ]
  },
  {
   "cell_type": "code",
   "execution_count": null,
   "metadata": {},
   "outputs": [],
   "source": [
    "%matplotlib inline\n",
    "\n",
    "# Calculem la posició dels nodes utilitzant l'algoritme spring\n",
    "graph_pos = nx.spring_layout(G)\n",
    "\n",
    "# Mostrem els nodes del graf. Mostrem amb una mida més gran i en blau les ciutats que tenen biblioteca\n",
    "nx.draw_networkx_nodes(G, graph_pos, ciutats_amb_biblioteca, node_size=700, node_color='blue', alpha = 0.6)\n",
    "\n",
    "# Mostrem amb una mida més petita i en taronja els altres nodes del graf\n",
    "ciutats_sense_biblioteca = list(set(G.nodes()) - set(ciutats_amb_biblioteca))\n",
    "nx.draw_networkx_nodes(G, graph_pos, ciutats_sense_biblioteca, node_size=300, node_color='orange', alpha = 0.6)\n",
    " \n",
    "# Mostrem les etiquetes del nodes, especificant el tamany i la font\n",
    "nx.draw_networkx_labels(G, graph_pos, font_size=12, font_family='sans-serif')\n",
    "    \n",
    "# Mostrem les aristes del graf\n",
    "# Primer, mostrem amb color verd les aristes que corresponen a les carreteres que encara són transitables\n",
    "nx.draw_networkx_edges(G, graph_pos, edgelist=carreteres_ok, edge_color='green', alpha=0.5)\n",
    "\n",
    "# Mostrem amb color vermell les aristes que corresponen a les carreteres tallades\n",
    "nx.draw_networkx_edges(G, graph_pos, edgelist=carreteres_ko, edge_color='red', alpha=0.5)"
   ]
  },
  {
   "cell_type": "markdown",
   "metadata": {},
   "source": [
    "**Resposta**\n",
    "\n",
    "Una vegada construit el graf, podem contestar les preguntes que ens han fet els Grans Mestres.\n",
    "\n",
    "- Quins regnes han quedat sense poder accedir a una biblioteca?\n",
    "\n",
    "Els regnes que han quedat sense accés a una biblioteca són: `[2, 7, 8]`.\n",
    "\n",
    "- Quin és el nombre mínim de biblioteques que s'haurien de construir per tal de que tothom torni a tenir accés a una biblioteca? (si no podem re-construir cap carretera)\n",
    "\n",
    "Donat que els tres regnes que han quedat sense accés a una biblioteca estàn connectats entre sí (encara queden carreteres que els uneixen), podem contruir una biblioteca en qualsevol dels tres per tal de que els ciutadans d'aquests regnes puguin tornar a disfrutar d'una biblioteca. Per tant, el nombre mínim de biblioteques seria **1**.\n",
    "\n",
    "- Quin és el cost mínim de re-construcció de carreteres per tal de que tothom torni a tenir accés a una biblioteca? (si no podem construir cap biblioteca)\n",
    "\n",
    "Seguint el mateix raonament anterior, si re-construim la carretera que connectava el regne 8 amb el regne 9 (que té biblioteca), també estarem habilitant l'accés als regnes 2 i 7. Per tant, el cost mínim per re-construir carreteres seria **150.000€**.\n",
    "\n",
    "- Veient la resposta de la pregunta 2 i 3, què seria el més òptim tenint en compte que volem minimitzar els costos?\n",
    "\n",
    "En aquest cas, el més òptim seria re-construir una carretera (per exemple la que uneix els regnes 8 i 9). Això costaria `80.000€`, mentre que construir una biblioteca ens implica un cost de `150.000€`."
   ]
  },
  {
   "cell_type": "markdown",
   "metadata": {},
   "source": [
    "### Exercici 5\n",
    "\n",
    "L'any 2018 a la ciutat de Barcelona s'han produit, de mitjana, 27.22 accidents amb vehicles implicats. És per això que l'ajuntament de Barcelona requereix del nostre servei per construir un mapa **interactiu** que mostri els punts on s'han produït els accidents. \n",
    "\n",
    "Ens demanen crear un mapa utilitzant la llibreria _geoplotlib_ que ens ha de permetre veure la localització de cada accident i el nombre de víctimes implicades. De moment només ens demanen visualitzar els accidents produïts al mes de **juny del 2018** en **caps de setmana** (dissabtes i diumenges).\n",
    "\n",
    "Nota 1: Podeu obtenir les dades dels accidents gestionats per la Guàrdia Urbana a la ciutat de Barcelona al portal [Open Data BCN](https://opendata-ajuntament.barcelona.cat/data/ca/dataset) i [carregar les dades](https://github.com/andrea-cuttone/geoplotlib/wiki/user-Guide#loading-data) a partir d'un diccionari o un dataframe.\n"
   ]
  },
  {
   "cell_type": "code",
   "execution_count": null,
   "metadata": {},
   "outputs": [],
   "source": [
    "# Primer, ens descarreguem el fitxer csv amb les dades del portal de Open Data BCN\n",
    "# (https://opendata-ajuntament.barcelona.cat/data/ca/dataset/accidents-gu-bcn)\n",
    "# i el guardem a la carpeta data per poder carregar-lo a posteriori\n",
    "import pandas as pd\n",
    "import geoplotlib\n",
    "\n",
    "# Carreguem les dades en un dataframe\n",
    "accidents_data = pd.read_csv('data/2018_accidents_gu_bcn.csv')\n",
    "\n",
    "# Inspeccionem les dades que hem carregat\n",
    "accidents_data.info(verbose=True)"
   ]
  },
  {
   "cell_type": "code",
   "execution_count": null,
   "metadata": {},
   "outputs": [],
   "source": [
    "# Inspeccionem els valors de la columna Mes_any i Dia_setmana \n",
    "# ja que ens demanen filtrar pel mes de juny i caps de setmana\n",
    "print(accidents_data['Mes_any'].unique())\n",
    "print(accidents_data['Dia_setmana'].unique())"
   ]
  },
  {
   "cell_type": "code",
   "execution_count": null,
   "metadata": {},
   "outputs": [],
   "source": [
    "# Geoplotlib necessita dues columnes amb el nom lat i lon per poder dibuixar els punts sobre el mapa.\n",
    "# Renombrem les columnes Longitud i Latitud\n",
    "accidents_data.rename(index=str, columns={'Longitud': 'lon', 'Latitud': 'lat'}, inplace=True)\n"
   ]
  },
  {
   "cell_type": "code",
   "execution_count": null,
   "metadata": {},
   "outputs": [],
   "source": [
    "# Filtrem per les dades corresponents al mes de juny 2018 i caps de setmana\n",
    "accidents_juny = accidents_data.loc[(accidents_data['Mes_any'] == 6) \n",
    "                                    & (accidents_data['Dia_setmana'].isin(['Ds', 'Dg']))]\n",
    "\n",
    "# Carreguem amb geoplotlib les dades del dataframe\n",
    "gdata = geoplotlib.utils.DataAccessObject.from_dataframe(accidents_juny)\n",
    "\n",
    "# Mostrem els punts del fitxer \n",
    "geoplotlib.dot(gdata, color='b', point_size=1.75, f_tooltip=lambda x : str(x['Numero_victimes']) )\n",
    "\n",
    "# Mostrem el mapa\n",
    "geoplotlib.show()"
   ]
  },
  {
   "cell_type": "markdown",
   "metadata": {},
   "source": [
    "### Exercici 6\n",
    "\n",
    "En aquest exercici utilitzarem el *dataset* `covid19_US_cases.csv`, que mostra l'evolució dels casos de Covid-19 als diferents estats des de finals de gener del 2020. \n",
    "\n",
    "1. Quina és la distribució de casos als Estats Units l'últim mes (abril)? **Mostra gràficament els resultats per cada grup (actius, recuperats i morts), però sense separar per estats.** \n",
    "\n",
    "2. Addicionalment, se'ns demana generar una gràfica que mostri l'evolució dels casos confirmats a l'estat de Nova York, Massachusetts, Washington, California i Texas des de l'inici de la pandèmia. Quina regió és la més afectada? \n",
    "\n",
    "\n",
    "Nota 1: En l'apartat 1, per sumar tots els casos de US es pot utilitzar la funció groupby de pandas que hem vist en lliçons anteriors.\n",
    "\n",
    "Nota 2: La visualització de les dades hauria de ser atractiva i clara per tal de que es puguin treure conclusions d'elles.\n"
   ]
  },
  {
   "cell_type": "code",
   "execution_count": null,
   "metadata": {},
   "outputs": [],
   "source": [
    "import numpy as np\n",
    "import pandas as pd\n",
    "import seaborn as sns\n",
    "import matplotlib.pyplot as plt\n",
    "\n",
    "# Mostrem les gràfiques en el notebook\n",
    "%matplotlib inline\n",
    "\n",
    "# Indiquem que volem utilitzar l'estil \"whitegrid\" de seaborn\n",
    "sns.set_style(\"whitegrid\")\n",
    "\n",
    "# Carreguem les dades del fitxer covid19_US.csv en un dataframe\n",
    "covid_US_cases = pd.read_csv('data/covid19_US_cases.csv') \n",
    "\n",
    "# Visualitzem les primeres files\n",
    "covid_US_cases.head()"
   ]
  },
  {
   "cell_type": "code",
   "execution_count": null,
   "metadata": {},
   "outputs": [],
   "source": [
    "##1 \n",
    "\n",
    "# Quina és la distribució de casos als Estats Units? \n",
    "\n",
    "\n",
    "# Agrupem les dades per data i sumem els casos.\n",
    "\n",
    "covid_US_all_cases=covid_US_cases.groupby('ObservationDate').sum()\n",
    "\n",
    "# Creem dues columnes noves amb la informació del mes i del dia de l'observació \n",
    "covid_US_all_cases['Month']=pd.DatetimeIndex(covid_US_all_cases.index).month\n",
    "covid_US_all_cases['Day']=pd.DatetimeIndex(covid_US_all_cases.index).day\n",
    "\n",
    "# Filtrem el dataset per agafar només les observacions d'abril\n",
    "covid_US_all_cases_april=covid_US_all_cases[covid_US_all_cases['Month']==4]"
   ]
  },
  {
   "cell_type": "code",
   "execution_count": null,
   "metadata": {},
   "outputs": [],
   "source": [
    "# Grafiquem el resultat\n",
    "\n",
    "plt.figure(figsize = (10,5))\n",
    "\n",
    "ax = sns.lineplot(x='Day', y=\"Active\", data=covid_US_all_cases_april)\n",
    "ax = sns.lineplot(x='Day', y=\"Recovered\", data=covid_US_all_cases_april)\n",
    "ax = sns.lineplot(x='Day', y=\"Deaths\", data=covid_US_all_cases_april)\n",
    "\n",
    "plt.legend(loc='upper left', labels=['Active', 'Recovered', 'Deaths'])\n",
    "plt.title(\"Covid-19 US Evolution - April 2020\", fontsize = 20)\n",
    "plt.xlabel(\"April\", fontsize = 15)\n",
    "plt.ylabel(\"Cases\", fontsize = 15)\n",
    "plt.show()"
   ]
  },
  {
   "cell_type": "code",
   "execution_count": null,
   "metadata": {},
   "outputs": [],
   "source": [
    "##2\n",
    "\n",
    "# Evolució dels casos confirmats a l'estat de Nova York, Massachusetts, Washington, California i Texas\n",
    "\n",
    "# Fem una llista amb els estats que volem estudiar\n",
    "list_subset=['New York','Massachusetts','Washington','California','Texas']\n",
    "\n",
    "# Agafem el subset amb aquests estats\n",
    "covid_US_cases_subset=covid_US_cases[covid_US_cases['Province/State'].isin(list_subset)]\n",
    "\n",
    "\n",
    "# Especifiquem el tamany i el format del gràfic\n",
    "plt.figure(figsize = (14,7))\n",
    "sns.set_style(\"whitegrid\", {'axes.grid' : False})\n",
    "\n",
    "\n",
    "# Fem el gràfic indicant que els resultats es mostraran en funció de l'estat\n",
    "sns.lineplot(x = \"ObservationDate\", y = \"Confirmed\", data = covid_US_cases_subset, hue = \"Province/State\",\n",
    "            style = \"Province/State\",  dashes = False, \n",
    "            markers = [\"o\", \"<\", \">\", \"^\",\"*\"],  legend=\"brief\")\n",
    "\n",
    "# Inclinem les dates perquè es puguin llegir bé\n",
    "plt.xticks(\n",
    "    rotation=45, \n",
    "    horizontalalignment='right',\n",
    "    fontweight='light',\n",
    "    fontsize='small'  \n",
    ")\n",
    "\n",
    "plt.title(\"Covid-19 Cases\", fontsize = 20)\n",
    "plt.xlabel(\"Date\", fontsize = 15)\n",
    "plt.ylabel(\"Confirmed Covid-19 Cases\", fontsize = 15)\n",
    "\n",
    "plt.show()"
   ]
  },
  {
   "cell_type": "markdown",
   "metadata": {},
   "source": [
    "**Resposta**\n",
    "\n",
    "Amb aquest gràfic es pot veure clarament que l'estat més afectat pel Covid-19 és Nova York. "
   ]
  },
  {
   "cell_type": "markdown",
   "metadata": {},
   "source": [
    "### Exercici 7\n",
    "\n",
    "A partir de les dades de twitter es poden crear xarxes de relacions entre els seus usuaris. En aquest exercici treballarem amb el conjunt de dades `politics_twitter.csv`, que constitueix una xarxa de les relacions entre diferents polítics de l'estat espanyol generada a partir d'extraccions de twitter.\n",
    "\n",
    "Cada fila representa un link entre 2 polítics (P1 i P2) i el valor (Weight) indica la força de la connexió, en aquest cas 1 ja que només fa referència a la presència d'aquesta relació.  \n",
    "\n",
    "1. Quantes comunitats es poden detectar al graf? \n",
    "\n",
    "2. Representa gràficament el graf i pinta de diferent color cada comunitat detectada. "
   ]
  },
  {
   "cell_type": "code",
   "execution_count": null,
   "metadata": {},
   "outputs": [],
   "source": [
    "import numpy as np\n",
    "import pandas as pd\n",
    "import matplotlib.pyplot as plt\n",
    "import networkx as nx \n",
    "\n",
    "# Carreguem les dades del fitxer book1.csv en un dataframe\n",
    "twitter = pd.read_csv('data/politics_twitter.csv')\n",
    "\n",
    "# Visualitzem les primeres files del dataset\n",
    "twitter.head()"
   ]
  },
  {
   "cell_type": "code",
   "execution_count": null,
   "metadata": {},
   "outputs": [],
   "source": [
    "# Dades disponibles per a l'exercici\n",
    "\n",
    "# Creem un objecte graf buit\n",
    "G_twitter= nx.Graph()\n",
    "\n",
    "# Iterem per totes les files del dataset\n",
    "for _, edge in twitter.iterrows():\n",
    "    G_twitter.add_edge(edge['P1'], edge['P2'], weight=edge['Weight'])  "
   ]
  },
  {
   "cell_type": "code",
   "execution_count": null,
   "metadata": {},
   "outputs": [],
   "source": [
    "## 1 \n",
    "\n",
    "# Quantes comunitats poden detectar en el graf? \n",
    "\n",
    "# Importem la llibreria de detecció de comunitats\n",
    "from community import community_louvain\n",
    "\n",
    "# Detectem les comunitats existents al graf\n",
    "# N'hi ha 3\n",
    "partition = community_louvain.best_partition(G_twitter)\n"
   ]
  },
  {
   "cell_type": "code",
   "execution_count": null,
   "metadata": {},
   "outputs": [],
   "source": [
    "## 2 \n",
    "\n",
    "# Representa gràficament el graf i pinta de diferent color cada comunitat detectada\n",
    "\n",
    "# Importem la llibreria de detecció de comunitats\n",
    "from community import community_louvain\n",
    "\n",
    "# Generem una nova figura\n",
    "plt.figure(1, figsize=(12, 10)) \n",
    "\n",
    "# Calculem les posicions dels nodes del graf en el plànol amb l'algoritme spring\n",
    "graph_pos = nx.spring_layout(G_twitter)\n",
    "\n",
    "# Definim els colors que utilitzarem per pintar les 3 comunitats\n",
    "colors = ['green', 'blue','red']\n",
    "\n",
    "# Per a cada comunitat detectada, en mostrem els nodes\n",
    "for count, com in enumerate(set(partition.values())):\n",
    "\n",
    "    # Seleccionem els nodes de la comunitat que estem processant\n",
    "    list_nodes = [nodes for nodes in partition.keys() \n",
    "                  if partition[nodes] == com]\n",
    "\n",
    "    # Mostrem els nodes, acolorits segons la comunitat a la qual pertanyen\n",
    "    nx.draw_networkx_nodes(G_twitter, graph_pos, list_nodes, \n",
    "                           node_size = 800,\n",
    "                           node_color = colors[count],\n",
    "                           alpha = 0.5)\n",
    "\n",
    "# Mostrem les arestes del graf, especificant-ne la posició, \n",
    "# el color i la transparència\n",
    "nx.draw_networkx_edges(G_twitter, graph_pos, edge_color='k', alpha=0.3)\n",
    "\n",
    "# Mostrem les etiquetes, indicant-ne la font i la grandària\n",
    "a = nx.draw_networkx_labels(G_twitter, graph_pos, font_size=12, font_family='sans-serif')"
   ]
  }
 ],
 "metadata": {
  "language_info": {
   "name": "python"
  }
 },
 "nbformat": 4,
 "nbformat_minor": 2
}
