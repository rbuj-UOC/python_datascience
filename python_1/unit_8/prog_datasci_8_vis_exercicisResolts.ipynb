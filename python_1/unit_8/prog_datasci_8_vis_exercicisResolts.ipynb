{
 "cells": [
  {
   "cell_type": "markdown",
   "metadata": {
    "id": "lb_KBQF6eLlY"
   },
   "source": [
    "<div style=\"display: grid; grid-template-columns: repeat(2, 1fr); align-items: end;\">\n",
    "    <div>\n",
    "        <img src=\"data:image/avif;base64,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\" width=\"300\">\n",
    "    </div>\n",
    "    <div>\n",
    "        <p style=\"margin: 0; text-align:right;\">22.401 · Fonaments de Programació</p>\n",
    "        <p style=\"margin: 0; text-align:right;\">Grau en Ciència de Dades Aplicada</p>\n",
    "        <p style=\"margin: 0; text-align:right;\">Estudis d'Informàtica, Multimèdia i Telecomunicació</p>\n",
    "    </div>\n",
    "</div>"
   ]
  },
  {
   "cell_type": "markdown",
   "metadata": {
    "id": "bjuWub3xeLlc"
   },
   "source": [
    "Programació per a *Data Science*\n",
    "============================\n",
    "\n",
    "Unitat 8: Visualització de dades en Python - Exercicis Resolts\n",
    "-----------------------------------------------------\n",
    "En aquest Notebook hi trobareu un conjunt d'exercicis per practicar. Aquests exercicis no puntuen per a la PAC, però us recomanem que els intenteu resoldre com a part del procés d'aprenentatge. Trobareu exemples de possibles solucions als exercicis al propi notebook, però és important que intenteu resoldre'ls vosaltres abans de consultar les solucions. Les solucions us han de permetre validar les vostres respostes, així com veure alternatives de resolució de les activitats. També us animem a preguntar qualsevol dubte que us sorgeixi sobre la resolució de les activitats per practicar al fòrum de l'aula.\n",
    "\n",
    "----\n",
    "## Preguntes i exercicis per a practicar"
   ]
  },
  {
   "cell_type": "code",
   "execution_count": null,
   "metadata": {},
   "outputs": [],
   "source": [
    "import os\n",
    "import sys\n",
    "from os.path import dirname\n",
    "\n",
    "VERIFICA_ESTIL = False\n",
    "\n",
    "if os.getenv(\"COLAB_RELEASE_TAG\"):\n",
    "    # munta la unitat de google drive i accedeix a la carpeta de la unitat\n",
    "    from google.colab import drive\n",
    "    drive.mount('/content/drive')\n",
    "    %cd \"/content/drive/MyDrive/Colab Notebooks/python_datascience/python_1/unit_8\"\n",
    "\n",
    "print(f\"directori actual: {os.getcwd()}\")\n",
    "sys.path.append(os.path.join(dirname(dirname(os.getcwd())), 'util'))\n",
    "\n",
    "# verificació de PEP8\n",
    "if VERIFICA_ESTIL:\n",
    "    print(\"habilitant verificació de l'estil PEP8\")\n",
    "    if os.getenv(\"COLAB_RELEASE_TAG\"):\n",
    "        print(\"instal·lant flake8, pycodestyle i pycodestyle_magic...\")\n",
    "        %pip install pycodestyle flake8 pycodestyle_magic\n",
    "    %load_ext pycodestyle_magic\n",
    "    %pycodestyle_on"
   ]
  },
  {
   "cell_type": "code",
   "execution_count": null,
   "metadata": {},
   "outputs": [],
   "source": [
    "from uoc import data_backup\n",
    "\n",
    "data_backup(os.getcwd(), True)"
   ]
  },
  {
   "cell_type": "markdown",
   "metadata": {
    "id": "6o-p6PfVeLle"
   },
   "source": [
    "### Exercici 1\n",
    "\n",
    "Pokemon és una saga RPG molt famosa mundialment. La missió d'aquests jocs és capturar i entrenar els pokemon, unes criatures que habiten arreu del continent, per aconseguir el títol de mestre de la lliga Pokemon. Els Pokemons són criatures molt diverses, hi ha molts tipus diferents i alguns d'ells poden evolucionar.\n",
    "\n",
    "En aquest exercici explorarem els Pokemons de la primera generació amb el conjunt de dades `pokemon.csv`.\n",
    "\n",
    "1. Quants Pokemons llegendaris hi ha? Quants Pokemons hi ha de cada tipus d'evolució (variable *Stage*)?\n",
    "\n",
    "2. Quin és el tipus més freqüent? I el menys?\n",
    "\n",
    "3. Un nou entrenador ha d'escollir entre 3 Pokemons inicials (Bulbasaur, Charmander i Squirtle) i ens ha demanat que l'ajudem a decidir basant-nos en les estadístiques dels pokemons d'aquests tres tipus (Grass, Fire i Water). Si ens centrem només en les característiques d'atac i defensa, quin tipus li hauríem de recomanar?\n",
    "\n",
    "**Representa les respostes gràficament.**\n",
    "\n",
    "Pista: Per la 3a pregunta, podeu utilitzar la funció jointplot que hem vist al Notebook d'explicació. Penseu en quin tipus de gràfica, d'entre les que ofereix jointplot, s'ajusta als requisits de l'enunciat."
   ]
  },
  {
   "cell_type": "code",
   "execution_count": null,
   "metadata": {},
   "outputs": [],
   "source": [
    "# Resposta"
   ]
  },
  {
   "cell_type": "markdown",
   "metadata": {
    "id": "uyt2_4dXeLlf"
   },
   "source": [
    "### Exercici 2\n",
    "\n",
    "Carregueu el conjunt de dades `pulitzer-circulation-data.csv` en un dataframe de Pandas. La font original d'aquest conjunt de dades és el repositori de dades de [FiveThirtyEight](https://github.com/fivethirtyeight/data).\n",
    "\n",
    "Genereu un diagrama de dispersió que permeti visualitzar les mostres del conjunt de dades de Pulitzer segons les variables `Daily Circulation 2004` i `Daily Circulation 2013`. Incloeu una recta amb l'ajust lineal entre les dues variables. Pel que fa als detalls de visualització, limiteu la visualització de tots dos eixos a l'interval (0, 1000000), feu servir l'estil `whitegrid` de Seaborn, i dibuixeu els punts i la línia en color verd.\n",
    "\n",
    "Pista: podeu utilitzar la funció `jointplot` que hem vist al Notebook d'explicació. Penseu en quin tipus de gràfica, [d'entre les que ofereix jointplot](http://seaborn.pydata.org/generated/seaborn.jointplot.html), s'ajusta als requisits de l'enunciat."
   ]
  },
  {
   "cell_type": "code",
   "execution_count": null,
   "metadata": {},
   "outputs": [],
   "source": [
    "# Resposta"
   ]
  },
  {
   "cell_type": "markdown",
   "metadata": {
    "id": "4ycUNYLNeLlg"
   },
   "source": [
    "### Exercici 3\n",
    "\n",
    "_Joc de Trons_ és una sèrie de televisió basada en la famosa saga _Una Cançó de Foc i Gel_ de George RR Martin. Aquesta sèrie és coneguda pels complicats escenaris polítics i bèl·lics, així com les nombroses morts de personatges.\n",
    "\n",
    "En aquest exercici treballem amb el dataset `battles.csv` que ens dona informació sobre les batalles que han tingut lloc al llarg de _Joc de Trons_.\n",
    "\n",
    "Genereu un diagrama de punts (_scatter_) que permeti comparar la mida (`attacker_size` vs `defender_size`) dels dos principals exèrcits involucrats en cada batalla. Feu servir la columna `attacker_outcome` per mostrar amb diferents colors el resultat de la batalla per l'atacant.\n",
    "\n",
    "Podeu utilitzar la funció [`lmplot`](https://seaborn.pydata.org/generated/seaborn.lmplot.html) de Seaborn per generar la gràfica. Penseu en quins atributs ens permeten crear aquest tipus de visualització.\n",
    "\n",
    "Veient la gràfica, podem afirmar que la mida de l'exèrcit és determinant en l'_outcome_ de la batalla?\n",
    "\n",
    "Nota: feu servir l'estil `whitegrid` de Seaborn."
   ]
  },
  {
   "cell_type": "code",
   "execution_count": null,
   "metadata": {},
   "outputs": [],
   "source": [
    "# Resposta"
   ]
  },
  {
   "cell_type": "markdown",
   "metadata": {
    "id": "41nqdLqSeLlg"
   },
   "source": [
    "### Exercici 4\n",
    "\n",
    "En els regnes de Ponent, els Grans Mestres consideren que tothom hauria de tenir accés a una biblioteca. Desgraciadament, després d'una gran guerra la xarxa de carreteres que comuniquen aquests regnes ha quedat greument afectada. Els Grans Mestres ens han contractat per resoldre les següents qüestions:\n",
    "\n",
    "1. Quins regnes han quedat sense poder accedir a una biblioteca?\n",
    "2. Quin és el nombre mínim de biblioteques que s'haurien de construir per tal que tothom torni a tenir accés a una biblioteca? (si no podem reconstruir cap carretera)\n",
    "3. Quin és el cost mínim de reconstrucció de carreteres per tal que tothom torni a tenir accés a una biblioteca? (si no podem construir cap biblioteca)\n",
    "4. Veient la resposta de la pregunta 2 i 3, què seria el més òptim tenint en compte que volem minimitzar els costos?\n",
    "\n",
    "Per poder respondre a aquestes preguntes, els Grans Mestres ens faciliten la següent informació:\n",
    "\n",
    "- Disposem d'un graf amb l'estat de la xarxa de carreteres entre els regnes.\n",
    "- Disposem d'un llistat amb les ciutats que disposen d'una biblioteca.\n",
    "- Una ciutat es considera que té accés a una biblioteca si existeix una biblioteca en la mateixa ciutat o si els habitants poden viatjar per carretera fins a una altra ciutat amb biblioteca.\n",
    "- El cost de construir una biblioteca és de 150.000€.\n",
    "- El cost de reconstruir una carretera és de 80.000€.\n",
    "\n",
    "Nota: per resoldre l'exercici, **heu de generar una visualització del graf que us permeti respondre a les quatre preguntes plantejades**. Després, **recordeu respondre a les quatre preguntes!**"
   ]
  },
  {
   "cell_type": "code",
   "execution_count": null,
   "metadata": {},
   "outputs": [],
   "source": [
    "# Dades disponibles per a l'exercici\n",
    "\n",
    "import networkx as nx\n",
    "\n",
    "# Llista de carreteres transitables\n",
    "carreteres_ok = [(1, 3), (3, 4), (2, 7), (2, 8), (5, 6), (9, 10)]\n",
    "\n",
    "# Llista de carreteres tallades\n",
    "carreteres_ko = [(1, 2), (2, 4), (2, 5), (8, 9)]\n",
    "\n",
    "# Graf G, que representa la xarxa de carreteres entre les ciutats\n",
    "G = nx.Graph()\n",
    "\n",
    "G.add_edges_from(carreteres_ok)\n",
    "G.add_edges_from(carreteres_ko)\n",
    "\n",
    "# Llista de ciutats amb biblioteca\n",
    "ciutats_amb_biblioteca = [3, 6, 9]"
   ]
  },
  {
   "cell_type": "code",
   "execution_count": null,
   "metadata": {},
   "outputs": [],
   "source": [
    "# Resposta"
   ]
  },
  {
   "cell_type": "markdown",
   "metadata": {
    "id": "5w21qO6AeLlh"
   },
   "source": [
    "### Exercici 5\n",
    "\n",
    "L'any 2018 a la ciutat de Barcelona s'han produit, de mitjana, 27.22 accidents amb vehicles implicats. És per això que l'Ajuntament de Barcelona requereix el nostre servei per construir un mapa **interactiu** que mostri els punts on s'han produït els accidents.\n",
    "\n",
    "Ens demanen crear un mapa utilitzant la biblioteca _geoplotlib_ que ens ha de permetre veure la localització de cada accident i el nombre de víctimes implicades. De moment només ens demanen visualitzar els accidents produïts al mes de **juny del 2018** en **caps de setmana** (dissabtes i diumenges).\n",
    "\n",
    "Nota 1: Podeu obtenir les dades dels accidents gestionats per la Guàrdia Urbana a la ciutat de Barcelona al portal [Open Data BCN](https://opendata-ajuntament.barcelona.cat/data/ca/dataset) i [carregar les dades](https://github.com/andrea-cuttone/geoplotlib/wiki/user-Guide#loading-data) a partir d'un diccionari o un dataframe."
   ]
  },
  {
   "cell_type": "code",
   "execution_count": null,
   "metadata": {},
   "outputs": [],
   "source": [
    "# Resposta"
   ]
  },
  {
   "cell_type": "markdown",
   "metadata": {
    "id": "_Bf-C1IleLlh"
   },
   "source": [
    "### Exercici 6\n",
    "\n",
    "En aquest exercici utilitzarem el *dataset* `covid19_US_cases.csv`, que mostra l'evolució dels casos de Covid-19 als diferents estats des de finals de gener del 2020.\n",
    "\n",
    "1. Quina és la distribució de casos als Estats Units l'últim mes (abril)? **Mostra gràficament els resultats per cada grup (actius, recuperats i morts), però sense separar per estats.**\n",
    "\n",
    "2. Addicionalment, se'ns demana generar una gràfica que mostri l'evolució dels casos confirmats a l'estat de Nova York, Massachusetts, Washington, California i Texas des de l'inici de la pandèmia. Quina regió és la més afectada?\n",
    "\n",
    "Nota 1: En l'apartat 1, per sumar tots els casos de US es pot utilitzar la funció groupby de pandas que hem vist en lliçons anteriors.\n",
    "\n",
    "Nota 2: La visualització de les dades hauria de ser atractiva i clara per tal que es puguin treure conclusions d'elles."
   ]
  },
  {
   "cell_type": "code",
   "execution_count": null,
   "metadata": {},
   "outputs": [],
   "source": [
    "# Resposta"
   ]
  },
  {
   "cell_type": "markdown",
   "metadata": {
    "id": "O3Q0sYeTeLli"
   },
   "source": [
    "### Exercici 7\n",
    "\n",
    "A partir de les dades de twitter es poden crear xarxes de relacions entre els seus usuaris. En aquest exercici treballarem amb el conjunt de dades `politics_twitter.csv`, que constitueix una xarxa de les relacions entre diferents polítics de l'estat espanyol generada a partir d'extraccions de twitter.\n",
    "\n",
    "Cada fila representa un link entre 2 polítics (P1 i P2) i el valor (Weight) indica la força de la connexió, en aquest cas 1, ja que només fa referència a la presència d'aquesta relació.  \n",
    "\n",
    "1. Quantes comunitats es poden detectar al graf?\n",
    "\n",
    "2. Representa gràficament el graf i pinta de diferent color cada comunitat detectada."
   ]
  },
  {
   "cell_type": "code",
   "execution_count": null,
   "metadata": {},
   "outputs": [],
   "source": [
    "# Resposta"
   ]
  },
  {
   "cell_type": "markdown",
   "metadata": {
    "id": "uHULjsOxeLli"
   },
   "source": [
    "---\n",
    "\n",
    "## Solucions exercicis per practicar"
   ]
  },
  {
   "cell_type": "markdown",
   "metadata": {
    "id": "NKI8kULueLli"
   },
   "source": [
    "### Exercici 1\n",
    "\n",
    "Pokemon és una saga RPG molt famosa mundialment. La missió d'aquests jocs és capturar i entrenar els pokemon, unes criatures que habiten arreu del continent, per aconseguir el títol de mestre de la lliga Pokemon. Els Pokemons són criatures molt diverses, hi ha molts tipus diferents i alguns d'ells poden evolucionar.\n",
    "\n",
    "En aquest exercici explorarem els Pokemons de la primera generació amb el dataset `pokemon.csv`.\n",
    "\n",
    "1. Quants Pokemons llegendaris hi ha? Quants Pokemons hi ha de cada tipus d'evolució (variable *Stage*)?\n",
    "\n",
    "2. Quin és el tipus més freqüent? I el menys?\n",
    "\n",
    "3. Un nou entrenador ha d'escollir entre 3 Pokemons inicials (Bulbasaur, Charmander i Squirtle) i ens ha demanat que l'ajudem a decidir basant-nos en les estadístiques dels pokemons d'aquests tres tipus (Grass, Fire i Water). Si ens centrem només en les característiques d'atac i defensa, quin tipus li hauríem de recomanar?\n",
    "\n",
    "**Representa les respostes gràficament.**\n",
    "\n",
    "Pista: Per la 3a pregunta, podeu utilitzar la funció jointplot que hem vist al Notebook d'explicació. Penseu en quin tipus de gràfica, d'entre les que ofereix jointplot, s'ajusta als requisits de l'enunciat."
   ]
  },
  {
   "cell_type": "code",
   "execution_count": null,
   "metadata": {},
   "outputs": [],
   "source": [
    "%matplotlib inline\n",
    "\n",
    "import numpy as np\n",
    "import pandas as pd\n",
    "import seaborn as sns\n",
    "import matplotlib.pyplot as plt\n",
    "\n",
    "# Indiquem que volem utilitzar l'estil \"whitegrid\" de seaborn\n",
    "sns.set_style(\"whitegrid\")\n",
    "\n",
    "# Desactivem uns warnings perquè no ens apareguin\n",
    "import warnings\n",
    "warnings.filterwarnings(\"ignore\", category=FutureWarning)\n",
    "warnings.filterwarnings(\"ignore\", category=RuntimeWarning)\n",
    "\n",
    "# Carreguem les dades del fitxer pokemon.csv en un dataframe\n",
    "pkmn = pd.read_csv('data/pokemon.csv')\n",
    "\n",
    "# Visualitzem les primeres files del dataset\n",
    "pkmn.head()"
   ]
  },
  {
   "cell_type": "code",
   "execution_count": null,
   "metadata": {},
   "outputs": [],
   "source": [
    "# 1\n",
    "\n",
    "# Quants Pokemons llegendaris hi ha?\n",
    "\n",
    "pkmn_no_leg = np.sum(pkmn['Legendary'] == 0)\n",
    "pkmn_leg = np.sum(pkmn['Legendary'] == 1)\n",
    "\n",
    "print(f\"Número de Pokemons no llegendaris: {pkmn_no_leg}\")\n",
    "print(f\"Número de Pokemons llegendaris: {pkmn_leg}\")\n",
    "\n",
    "# Grafiquem la resposta\n",
    "plt.figure(figsize=(5, 5))\n",
    "sns.set(font_scale=1.5)\n",
    "legend_ = sns.countplot(x=\"Legendary\", data=pkmn)\n",
    "legend_ = plt.ylabel('Number of Pokemon')"
   ]
  },
  {
   "cell_type": "code",
   "execution_count": null,
   "metadata": {},
   "outputs": [],
   "source": [
    "# Quants pokemons hi ha de cada evolució?\n",
    "\n",
    "# OPCIÓ A\n",
    "pkmn_S1 = np.sum(pkmn['Stage'] == 1)\n",
    "pkmn_S2 = np.sum(pkmn['Stage'] == 2)\n",
    "pkmn_S3 = np.sum(pkmn['Stage'] == 3)\n",
    "\n",
    "print(f\"Número de Pokemons Stage 1: {pkmn_S1}\")\n",
    "print(f\"Número de Pokemons Stage 2: {pkmn_S2}\")\n",
    "print(f\"Número de Pokemons Stage 3: {pkmn_S3}\")\n",
    "\n",
    "# OPCIÓ B\n",
    "pkmn_ = pkmn.groupby('Stage').count().Number\n",
    "\n",
    "# Grafiquem la resposta\n",
    "plt.figure(figsize=(5, 5))\n",
    "sns.set(font_scale=1.5)\n",
    "stage_ = sns.countplot(x=\"Stage\", data=pkmn)\n",
    "stage_ = plt.ylabel('Number of Pokemon')"
   ]
  },
  {
   "cell_type": "code",
   "execution_count": null,
   "metadata": {},
   "outputs": [],
   "source": [
    "# 2\n",
    "\n",
    "# Quin és el tipus més freqüent? I el menys?\n",
    "\n",
    "# Mostrem el número de pokemons per cada tipus\n",
    "print(pkmn.groupby('Type 1')['Number'].count())\n",
    "\n",
    "print(\"\\n\")\n",
    "\n",
    "# Mostrem quin és el tipus més i menys frequent\n",
    "\n",
    "print(f\"El tipus més freqüent és el de \" + str(pkmn.groupby('Type 1')['Number'].count().argmax()) +\n",
    "      \" amb \" + str(pkmn.groupby('Type 1')['Number'].count().max()) + \" pokemons\")\n",
    "print(f\"El tipus menys freqüent és el de \" + str(pkmn.groupby('Type 1')['Number'].count().idxmin()) +\n",
    "      \" amb \" + str(pkmn.groupby('Type 1')['Number'].count().min()) + \" pokemons\")\n",
    "\n",
    "# Indiquem que volem utilitzar l'estil \"whitegrid\" de seaborn\n",
    "sns.set_style(\"whitegrid\")\n",
    "\n",
    "# Grafiquem la resposta\n",
    "plt.figure(figsize=(10, 7))\n",
    "sns.set(font_scale=1.5)\n",
    "type_ = sns.countplot(x=\"Type 1\", data=pkmn)\n",
    "type_ = plt.xticks(rotation=45)\n",
    "type_ = plt.ylabel('Number of Pokemon')"
   ]
  },
  {
   "cell_type": "code",
   "execution_count": null,
   "metadata": {},
   "outputs": [],
   "source": [
    "# 3\n",
    "\n",
    "# Quin pokemon inicial hem d'escollir?\n",
    "\n",
    "# Seleccionem els pokemons de tipus aigua, foc i planta.\n",
    "pkmn_inicials_tipus = pkmn[pkmn[\"Type 1\"].isin([\"Grass\", \"Fire\", \"Water\"])]\n",
    "\n",
    "# Seleccionem les característiques que volem evaluar\n",
    "pkmn_inicials_tipus_stats = pkmn_inicials_tipus[[\n",
    "    \"Type 1\", \"HP\", \"Attack\", \"Defense\"]]\n",
    "\n",
    "# Especifiquem uns colors concrets pels tipus de pokemon en els plots (verd=planta, blau=aigua, vermell=foc)\n",
    "colors_pkm = [\"#8fd400\", \"#ff0000\", \"#1f75fe\"]"
   ]
  },
  {
   "cell_type": "code",
   "execution_count": null,
   "metadata": {},
   "outputs": [],
   "source": [
    "# OPCIÓ A: pairplot\n",
    "\n",
    "# Indiquem que volem utilitzar l'estil \"whitegrid\" de seaborn\n",
    "sns.set_style(\"whitegrid\")\n",
    "\n",
    "# Grafiquem la resposta\n",
    "sns.pairplot(pkmn_inicials_tipus_stats, hue=\"Type 1\",\n",
    "             height=2, palette=colors_pkm)"
   ]
  },
  {
   "cell_type": "code",
   "execution_count": null,
   "metadata": {},
   "outputs": [],
   "source": [
    "# OPCIÓ B: jointplot\n",
    "\n",
    "# Indiquem que volem utilitzar l'estil \"whitegrid\" de seaborn\n",
    "sns.set_style(\"whitegrid\")\n",
    "\n",
    "# Joint Distribution Plot\n",
    "sns.jointplot(x='Attack', y='Defense', data=pkmn_inicials_tipus_stats[pkmn_inicials_tipus_stats['Type 1'] == 'Grass'],\n",
    "              color=\"#8fd400\", kind='reg')"
   ]
  },
  {
   "cell_type": "code",
   "execution_count": null,
   "metadata": {},
   "outputs": [],
   "source": [
    "# Indiquem que volem utilitzar l'estil \"whitegrid\" de seaborn\n",
    "sns.set_style(\"whitegrid\")\n",
    "\n",
    "sns.jointplot(x='Attack', y='Defense', data=pkmn_inicials_tipus_stats[pkmn_inicials_tipus_stats['Type 1'] == 'Fire'],\n",
    "              color=\"#ff0000\", kind='reg')"
   ]
  },
  {
   "cell_type": "code",
   "execution_count": null,
   "metadata": {},
   "outputs": [],
   "source": [
    "# Indiquem que volem utilitzar l'estil \"whitegrid\" de seaborn\n",
    "sns.set_style(\"whitegrid\")\n",
    "\n",
    "sns.jointplot(x='Attack', y='Defense', data=pkmn_inicials_tipus_stats[pkmn_inicials_tipus_stats['Type 1'] == 'Water'],\n",
    "              color=\"#1f75fe\", kind='reg')"
   ]
  },
  {
   "cell_type": "markdown",
   "metadata": {
    "id": "_oFLjqeHeLlk"
   },
   "source": [
    "**Resposta**\n",
    "\n",
    "No hi ha una sola solució correcta en aquest exercici ;) Una bona resposta seria recomanar un pokemon inicial d'aigua o foc, ja que tenen una correlació positiva entre atac i defensa, per tant, els pokemons evolucionats amb atac alt tindran també una defensa alta."
   ]
  },
  {
   "cell_type": "markdown",
   "metadata": {
    "id": "XCEwS_wLeLlk"
   },
   "source": [
    "### Exercici 2\n",
    "\n",
    "Carregueu el conjunt de dades `pulitzer-circulation-data.csv` en un dataframe de Pandas. La font original d'aquest conjunt de dades és el repositori de dades de [FiveThirtyEight](https://github.com/fivethirtyeight/data).\n",
    "\n",
    "Genereu un diagrama de dispersió que permeti visualitzar les mostres del conjunt de dades de Pulitzer segons les variables `Daily Circulation 2004` i `Daily Circulation 2013`. Incloeu una recta amb l'ajust lineal entre les dues variables. Pel que fa als detalls de visualització, limiteu la visualització de tots dos eixos a l'interval (0, 1000000), feu servir l'estil `whitegrid` de Seaborn, i dibuixeu els punts i la línia en color verd.\n",
    "\n",
    "Pista: podeu utilitzar la funció `jointplot` que hem vist al Notebook d'explicació. Penseu en quin tipus de gràfica, [d'entre les que ofereix jointplot](http://seaborn.pydata.org/generated/seaborn.jointplot.html), s'ajusta als requisits de l'enunciat."
   ]
  },
  {
   "cell_type": "code",
   "execution_count": null,
   "metadata": {},
   "outputs": [],
   "source": [
    "%matplotlib inline\n",
    "\n",
    "# Importem la biblioteca seaborn\n",
    "import pandas as pd\n",
    "import seaborn as sns\n",
    "\n",
    "# Indiquem que volem utilitzar l'estil \"whitegrid\" de seaborn\n",
    "sns.set_style(\"whitegrid\")\n",
    "\n",
    "# Carreguem les dades del fitxer pulitzer-circulation-data.csv en un dataframe\n",
    "data = pd.read_csv('data/pulitzer-circulation-data.csv')\n",
    "\n",
    "# Generem la gràfica de tipus \"reg\"\n",
    "g = sns.jointplot(x=\"Daily Circulation 2004\", y=\"Daily Circulation 2013\", data=data,\n",
    "                  xlim=[0, 1000000], ylim=[0, 1000000],\n",
    "                  kind=\"reg\",\n",
    "                  color=\"g\", height=8)"
   ]
  },
  {
   "cell_type": "markdown",
   "metadata": {
    "id": "7H6-fiDoeLlk"
   },
   "source": [
    "### Exercici 3\n",
    "\n",
    "_Joc de Trons_ és una sèrie de televisió basada en la famosa saga _Una Cançó de Foc i Gel_ de George RR Martin. Aquesta sèrie és coneguda pels complicats escenaris polítics i bèl·lics, així com les nombroses morts de personatges.\n",
    "\n",
    "En aquest exercici treballem amb el dataset `battles.csv` que ens dona informació sobre les batalles que han tingut lloc al llarg de _Joc de Trons_.\n",
    "\n",
    "Genereu un diagrama de punts (_scatter_) que permeti comparar la mida (`attacker_size` vs `defender_size`) dels dos principals exèrcits involucrats en cada batalla. Feu servir la columna `attacker_outcome` per mostrar amb diferents colors el resultat de la batalla per l'atacant.\n",
    "\n",
    "Podeu utilitzar la funció [`lmplot`](https://seaborn.pydata.org/generated/seaborn.lmplot.html) de Seaborn per generar la gràfica. Penseu en quins atributs ens permeten crear aquest tipus de visualització.\n",
    "\n",
    "Veient la gràfica, podem afirmar que la mida de l'exèrcit és determinant en l'_outcome_ de la batalla?\n",
    "\n",
    "Nota: feu servir l'estil `whitegrid` de Seaborn."
   ]
  },
  {
   "cell_type": "code",
   "execution_count": null,
   "metadata": {},
   "outputs": [],
   "source": [
    "%matplotlib inline\n",
    "\n",
    "import pandas as pd\n",
    "import seaborn as sns\n",
    "\n",
    "# Especifiquem que volem utilitzar l'estil whitegrid de Seaborn\n",
    "sns.set(style=\"whitegrid\")\n",
    "\n",
    "# Carreguem les dades del fitxer got.csv en un dataframe\n",
    "got_data = pd.read_csv('data/battles.csv')\n",
    "\n",
    "# Eliminem les mostres amb valors NaN en les columnes attacker_size o defender_size\n",
    "got_data = got_data.dropna(subset=[\"attacker_size\", \"defender_size\"])\n",
    "\n",
    "# Mostrem la gràfica\n",
    "sns.lmplot(x=\"attacker_size\", y=\"defender_size\", hue=\"attacker_outcome\", scatter=True, fit_reg=False, data=got_data)"
   ]
  },
  {
   "cell_type": "markdown",
   "metadata": {
    "id": "sl_BcmWreLll"
   },
   "source": [
    "**Resposta**\n",
    "\n",
    "Veient la gràfica anterior, no podem afirmar que la mida de l'exèrcit és determinant en l'outcome de la batalla. Com podem observar, hi ha casos on l'atacant perd la batalla tot i la superioritat numèrica de les tropes i a l'inrevés, l'atacant guanya la batalla tot i la superioritat numèrica del bàndol contrari."
   ]
  },
  {
   "cell_type": "markdown",
   "metadata": {
    "id": "kaBF62JleLll"
   },
   "source": [
    "### Exercici 4\n",
    "\n",
    "En els regnes de Ponent, els Grans Mestres consideren que tothom hauria de tenir accés a una biblioteca. Desgraciadament, després d'una gran guerra la xarxa de carreteres que comuniquen aquests regnes ha quedat greument afectada. Els Grans Mestres ens han contractat per resoldre les següents qüestions:\n",
    "\n",
    "1. Quins regnes han quedat sense poder accedir a una biblioteca?\n",
    "2. Quin és el nombre mínim de biblioteques que s'haurien de construir per tal que tothom torni a tenir accés a una biblioteca? (si no podem reconstruir cap carretera)\n",
    "3. Quin és el cost mínim de reconstrucció de carreteres per tal que tothom torni a tenir accés a una biblioteca? (si no podem construir cap biblioteca)\n",
    "4. Veient la resposta de la pregunta 2 i 3, què seria el més òptim tenint en compte que volem minimitzar els costos?\n",
    "\n",
    "Per poder respondre a aquestes preguntes, els Grans Mestres ens faciliten la següent informació:\n",
    "\n",
    "- Disposem d'un graf amb l'estat de la xarxa de carreteres entre els regnes.\n",
    "- Disposem d'un llistat amb les ciutats que disposen d'una biblioteca.\n",
    "- Una ciutat es considera que té accés a una biblioteca si existeix una biblioteca en la mateixa ciutat o si els habitants poden viatjar per carretera fins a una altra ciutat amb biblioteca.\n",
    "- El cost de construir una biblioteca és de 150.000€.\n",
    "- El cost de reconstruir una carretera és de 80.000€.\n",
    "\n",
    "Nota: per resoldre l'exercici, **heu de generar una visualització del graf que us permeti respondre a les quatre preguntes plantejades**. Després, **recordeu respondre a les quatre preguntes!**"
   ]
  },
  {
   "cell_type": "code",
   "execution_count": null,
   "metadata": {},
   "outputs": [],
   "source": [
    "# Dades disponibles per a l'exercici\n",
    "\n",
    "import networkx as nx\n",
    "\n",
    "# Llista de carreteres transitables\n",
    "carreteres_ok = [(1, 3), (3, 4), (2, 7), (2, 8), (5, 6), (9, 10)]\n",
    "\n",
    "# Llista de carreteres tallades\n",
    "carreteres_ko = [(1, 2), (2, 4), (2, 5), (8, 9)]\n",
    "\n",
    "# Graf G, que representa la xarxa de carreteres entre les ciutats\n",
    "G = nx.Graph()\n",
    "\n",
    "G.add_edges_from(carreteres_ok)\n",
    "G.add_edges_from(carreteres_ko)\n",
    "\n",
    "# Llista de ciutats amb biblioteca\n",
    "ciutats_amb_biblioteca = [3, 6, 9]"
   ]
  },
  {
   "cell_type": "code",
   "execution_count": null,
   "metadata": {},
   "outputs": [],
   "source": [
    "# Mostrem les gràfiques en el notebook\n",
    "%matplotlib inline\n",
    "\n",
    "# Calculem la posició dels nodes utilitzant l'algoritme spring\n",
    "graph_pos = nx.spring_layout(G)\n",
    "\n",
    "# Mostrem els nodes del graf. Mostrem amb una mida més gran i en blau les\n",
    "# ciutats que tenen biblioteca\n",
    "nx.draw_networkx_nodes(G, graph_pos, ciutats_amb_biblioteca, node_size=700, node_color='blue', alpha = 0.6)\n",
    "\n",
    "# Mostrem amb una mida més petita i en taronja els altres nodes del graf\n",
    "ciutats_sense_biblioteca = list(set(G.nodes()) - set(ciutats_amb_biblioteca))\n",
    "nx.draw_networkx_nodes(G, graph_pos, ciutats_sense_biblioteca, node_size=300, node_color='orange', alpha = 0.6)\n",
    "\n",
    "# Mostrem les etiquetes del nodes, especificant la mida i la font\n",
    "nx.draw_networkx_labels(G, graph_pos, font_size=12, font_family='sans-serif')\n",
    "\n",
    "# Mostrem les arestes del graf\n",
    "# Primer, mostrem amb color verd les arestes que corresponen a les carreteres\n",
    "# que encara són transitables\n",
    "nx.draw_networkx_edges(G, graph_pos, edgelist=carreteres_ok, edge_color='green', alpha=0.5)\n",
    "\n",
    "# Mostrem amb color vermell les arestes que corresponen a les carreteres\n",
    "# tallades\n",
    "nx.draw_networkx_edges(G, graph_pos, edgelist=carreteres_ko, edge_color='red', alpha=0.5)"
   ]
  },
  {
   "cell_type": "markdown",
   "metadata": {
    "id": "_meXqk8ZeLlo"
   },
   "source": [
    "**Resposta**\n",
    "\n",
    "Una vegada construït el graf, podem contestar les preguntes que ens han fet els Grans Mestres.\n",
    "\n",
    "- Quins regnes han quedat sense poder accedir a una biblioteca?\n",
    "\n",
    "Els regnes que han quedat sense accés a una biblioteca són: `[2, 7, 8]`.\n",
    "\n",
    "- Quin és el nombre mínim de biblioteques que s'haurien de construir per tal que tothom torni a tenir accés a una biblioteca? (si no podem reconstruir cap carretera)\n",
    "\n",
    "Donat que els tres regnes que han quedat sense accés a una biblioteca estan connectats entre si (encara queden carreteres que els uneixen), podem construir una biblioteca en qualsevol dels tres per tal que els ciutadans d'aquests regnes puguin tornar a gaudir d'una biblioteca. Per tant, el nombre mínim de biblioteques seria **1**.\n",
    "\n",
    "- Quin és el cost mínim de reconstrucció de carreteres per tal que tothom torni a tenir accés a una biblioteca? (si no podem construir cap biblioteca)\n",
    "\n",
    "Seguint el mateix raonament anterior, si reconstruïm la carretera que connectava el regne 8 amb el regne 9 (que té biblioteca), també estarem habilitant l'accés als regnes 2 i 7. Per tant, el cost mínim per reconstruir carreteres seria **150.000€**.\n",
    "\n",
    "- Veient la resposta de la pregunta 2 i 3, què seria el més òptim tenint en compte que volem minimitzar els costos?\n",
    "\n",
    "En aquest cas, el més òptim seria reconstruir una carretera (per exemple la que uneix els regnes 8 i 9). Això costaria `80.000€`, mentre que construir una biblioteca ens implica un cost de `150.000€`."
   ]
  },
  {
   "cell_type": "markdown",
   "metadata": {
    "id": "yFM1oU24eLlo"
   },
   "source": [
    "### Exercici 5\n",
    "\n",
    "L'any 2018 a la ciutat de Barcelona s'han produit, de mitjana, 27.22 accidents amb vehicles implicats. És per això que l'Ajuntament de Barcelona requereix el nostre servei per construir un mapa **interactiu** que mostri els punts on s'han produït els accidents.\n",
    "\n",
    "Ens demanen crear un mapa utilitzant la biblioteca _geoplotlib_ que ens ha de permetre veure la localització de cada accident i el nombre de víctimes implicades. De moment només ens demanen visualitzar els accidents produïts al mes de **juny del 2018** en **caps de setmana** (dissabtes i diumenges).\n",
    "\n",
    "Nota 1: Podeu obtenir les dades dels accidents gestionats per la Guàrdia Urbana a la ciutat de Barcelona al portal [Open Data BCN](https://opendata-ajuntament.barcelona.cat/data/ca/dataset) i [carregar les dades](https://github.com/andrea-cuttone/geoplotlib/wiki/user-Guide#loading-data) a partir d'un diccionari o un dataframe."
   ]
  },
  {
   "cell_type": "code",
   "execution_count": null,
   "metadata": {},
   "outputs": [],
   "source": [
    "import os\n",
    "\n",
    "# instal·lar geoplotlib a Google Colab\n",
    "if os.getenv(\"COLAB_RELEASE_TAG\"):\n",
    "    %pip install geoplotlib"
   ]
  },
  {
   "cell_type": "code",
   "execution_count": null,
   "metadata": {},
   "outputs": [],
   "source": [
    "# Primer, ens descarreguem el fitxer csv amb les dades del portal de Open Data BCN\n",
    "# (https://opendata-ajuntament.barcelona.cat/data/ca/dataset/accidents-gu-bcn)\n",
    "# i el desem a la carpeta data per poder carregar-lo a posteriori\n",
    "import pandas as pd\n",
    "import geoplotlib\n",
    "\n",
    "# Carreguem les dades en un dataframe\n",
    "accidents_data = pd.read_csv('data/2018_accidents_gu_bcn.csv')\n",
    "\n",
    "# Inspeccionem les dades que hem carregat\n",
    "accidents_data.info(verbose=True)"
   ]
  },
  {
   "cell_type": "code",
   "execution_count": null,
   "metadata": {},
   "outputs": [],
   "source": [
    "# Inspeccionem els valors de la columna Mes_any i Dia_setmana\n",
    "# ja que ens demanen filtrar pel mes de juny i caps de setmana\n",
    "print(accidents_data['Mes_any'].unique())\n",
    "print(accidents_data['Dia_setmana'].unique())"
   ]
  },
  {
   "cell_type": "code",
   "execution_count": null,
   "metadata": {},
   "outputs": [],
   "source": [
    "# Geoplotlib necessita dues columnes amb el nom lat i lon per poder dibuixar\n",
    "# els punts sobre el mapa.\n",
    "# Canviem el nom a les columnes Longitud i Latitud\n",
    "accidents_data.rename(index=str, columns={\n",
    "                      'Longitud': 'lon', 'Latitud': 'lat'}, inplace=True)"
   ]
  },
  {
   "cell_type": "code",
   "execution_count": null,
   "metadata": {},
   "outputs": [],
   "source": [
    "# Filtrem per les dades corresponents al mes de juny 2018 i caps de setmana\n",
    "accidents_juny = accidents_data.loc[(accidents_data['Mes_any'] == 6)\n",
    "                                    & (accidents_data['Dia_setmana'].isin(['Ds', 'Dg']))]\n",
    "\n",
    "# Carreguem amb geoplotlib les dades del dataframe\n",
    "gdata = geoplotlib.utils.DataAccessObject.from_dataframe(accidents_juny)\n",
    "\n",
    "# Mostrem els punts del fitxer\n",
    "geoplotlib.dot(gdata, color='b', point_size=1.75,\n",
    "               f_tooltip=lambda x: str(x['Numero_victimes']))\n",
    "\n",
    "# Mostrem el mapa\n",
    "geoplotlib.show()"
   ]
  },
  {
   "cell_type": "markdown",
   "metadata": {
    "id": "w7pVnJ3GeLlp"
   },
   "source": [
    "### Exercici 6\n",
    "\n",
    "En aquest exercici utilitzarem el *dataset* `covid19_US_cases.csv`, que mostra l'evolució dels casos de Covid-19 als diferents estats des de finals de gener del 2020.\n",
    "\n",
    "1. Quina és la distribució de casos als Estats Units l'últim mes (abril)? **Mostra gràficament els resultats per cada grup (actius, recuperats i morts), però sense separar per estats.**\n",
    "\n",
    "2. Addicionalment, se'ns demana generar una gràfica que mostri l'evolució dels casos confirmats a l'estat de Nova York, Massachusetts, Washington, California i Texas des de l'inici de la pandèmia. Quina regió és la més afectada?\n",
    "\n",
    "Nota 1: En l'apartat 1, per sumar tots els casos de US es pot utilitzar la funció groupby de pandas que hem vist en lliçons anteriors.\n",
    "\n",
    "Nota 2: La visualització de les dades hauria de ser atractiva i clara per tal que es puguin treure conclusions d'elles."
   ]
  },
  {
   "cell_type": "code",
   "execution_count": null,
   "metadata": {},
   "outputs": [],
   "source": [
    "%matplotlib inline\n",
    "\n",
    "import numpy as np\n",
    "import pandas as pd\n",
    "import seaborn as sns\n",
    "import matplotlib.pyplot as plt\n",
    "\n",
    "# Indiquem que volem utilitzar l'estil \"whitegrid\" de seaborn\n",
    "sns.set_style(\"whitegrid\")\n",
    "\n",
    "# Carreguem les dades del fitxer covid19_US.csv en un dataframe\n",
    "covid_US_cases = pd.read_csv('data/covid19_US_cases.csv')\n",
    "\n",
    "# Visualitzem les primeres files\n",
    "covid_US_cases.head()"
   ]
  },
  {
   "cell_type": "code",
   "execution_count": null,
   "metadata": {},
   "outputs": [],
   "source": [
    "# 1\n",
    "\n",
    "# Quina és la distribució de casos als Estats Units?\n",
    "# Agrupem les dades per data i sumem els casos.\n",
    "covid_US_all_cases = covid_US_cases.groupby('ObservationDate').sum()\n",
    "\n",
    "# Creem dues columnes noves amb la informació del mes i del dia de l'observació\n",
    "covid_US_all_cases['Month'] = pd.DatetimeIndex(covid_US_all_cases.index).month\n",
    "covid_US_all_cases['Day'] = pd.DatetimeIndex(covid_US_all_cases.index).day\n",
    "\n",
    "# Filtrem el dataset per agafar només les observacions d'abril\n",
    "covid_US_all_cases_april = covid_US_all_cases[covid_US_all_cases['Month'] == 4]"
   ]
  },
  {
   "cell_type": "code",
   "execution_count": null,
   "metadata": {},
   "outputs": [],
   "source": [
    "# Grafiquem el resultat\n",
    "plt.figure(figsize=(10, 5))\n",
    "\n",
    "ax = sns.lineplot(x='Day', y=\"Active\", data=covid_US_all_cases_april)\n",
    "ax = sns.lineplot(x='Day', y=\"Recovered\", data=covid_US_all_cases_april)\n",
    "ax = sns.lineplot(x='Day', y=\"Deaths\", data=covid_US_all_cases_april)\n",
    "\n",
    "plt.legend(loc='upper left', labels=['Active', 'Recovered', 'Deaths'])\n",
    "plt.title(\"Covid-19 US Evolution - April 2020\", fontsize=20)\n",
    "plt.xlabel(\"April\", fontsize=15)\n",
    "plt.ylabel(\"Cases\", fontsize=15)\n",
    "plt.show()"
   ]
  },
  {
   "cell_type": "code",
   "execution_count": null,
   "metadata": {},
   "outputs": [],
   "source": [
    "# 2\n",
    "\n",
    "# Evolució dels casos confirmats a l'estat de Nova York, Massachusetts,\n",
    "# Washington, California i Texas\n",
    "\n",
    "# Fem una llista amb els estats que volem estudiar\n",
    "list_subset = [\"New York\", \"Massachusetts\", \"Washington\", \"California\", \"Texas\"]\n",
    "\n",
    "# Agafem el subset amb aquests estats\n",
    "covid_US_cases_subset = covid_US_cases[\n",
    "    covid_US_cases[\"Province/State\"].isin(list_subset)\n",
    "]\n",
    "\n",
    "\n",
    "# Especifiquem la mida i el format del gràfic\n",
    "plt.figure(figsize=(14, 7))\n",
    "sns.set_style(\"whitegrid\", {\"axes.grid\": False})\n",
    "\n",
    "\n",
    "# Fem el gràfic indicant que els resultats es mostraran en funció de l'estat\n",
    "sns.lineplot(\n",
    "    x=\"ObservationDate\",\n",
    "    y=\"Confirmed\",\n",
    "    data=covid_US_cases_subset,\n",
    "    hue=\"Province/State\",\n",
    "    style=\"Province/State\",\n",
    "    dashes=False,\n",
    "    markers=[\"o\", \"<\", \">\", \"^\", \"*\"],\n",
    "    legend=\"brief\",\n",
    ")\n",
    "\n",
    "# Inclinem les dates perquè es puguin llegir bé\n",
    "plt.xticks(\n",
    "    rotation=45, horizontalalignment=\"right\", fontweight=\"light\", fontsize=\"small\"\n",
    ")\n",
    "\n",
    "plt.title(\"Covid-19 Cases\", fontsize=20)\n",
    "plt.xlabel(\"Date\", fontsize=15)\n",
    "plt.ylabel(\"Confirmed Covid-19 Cases\", fontsize=15)\n",
    "\n",
    "plt.show()"
   ]
  },
  {
   "cell_type": "markdown",
   "metadata": {
    "id": "UW8AX4LVeLlq"
   },
   "source": [
    "**Resposta**\n",
    "\n",
    "Amb aquest gràfic es pot veure clarament que l'estat més afectat per la Covid-19 és Nova York."
   ]
  },
  {
   "cell_type": "markdown",
   "metadata": {
    "id": "Sep8FK_oeLlq"
   },
   "source": [
    "### Exercici 7\n",
    "\n",
    "A partir de les dades de twitter es poden crear xarxes de relacions entre els seus usuaris. En aquest exercici treballarem amb el conjunt de dades `politics_twitter.csv`, que constitueix una xarxa de les relacions entre diferents polítics de l'estat espanyol generada a partir d'extraccions de twitter.\n",
    "\n",
    "Cada fila representa un link entre 2 polítics (P1 i P2) i el valor (Weight) indica la força de la connexió, en aquest cas 1, ja que només fa referència a la presència d'aquesta relació.  \n",
    "\n",
    "1. Quantes comunitats es poden detectar al graf?\n",
    "\n",
    "2. Representa gràficament el graf i pinta de diferent color cada comunitat detectada."
   ]
  },
  {
   "cell_type": "code",
   "execution_count": null,
   "metadata": {},
   "outputs": [],
   "source": [
    "import numpy as np\n",
    "import pandas as pd\n",
    "import matplotlib.pyplot as plt\n",
    "import networkx as nx\n",
    "\n",
    "# Carreguem les dades del fitxer book1.csv en un dataframe\n",
    "twitter = pd.read_csv('data/politics_twitter.csv')\n",
    "\n",
    "# Visualitzem les primeres files del dataset\n",
    "twitter.head()"
   ]
  },
  {
   "cell_type": "code",
   "execution_count": null,
   "metadata": {},
   "outputs": [],
   "source": [
    "# Dades disponibles per a l'exercici\n",
    "\n",
    "# Creem un objecte graf buit\n",
    "G_twitter = nx.Graph()\n",
    "\n",
    "# Iterem per totes les files del dataset\n",
    "for _, edge in twitter.iterrows():\n",
    "    G_twitter.add_edge(edge['P1'], edge['P2'], weight=edge['Weight'])"
   ]
  },
  {
   "cell_type": "code",
   "execution_count": null,
   "metadata": {},
   "outputs": [],
   "source": [
    "# 1\n",
    "\n",
    "# Quantes comunitats poden detectar en el graf?\n",
    "\n",
    "# Importem la biblioteca de detecció de comunitats\n",
    "from community import community_louvain\n",
    "\n",
    "# Detectem les comunitats existents al graf\n",
    "# N'hi ha 3\n",
    "partition = community_louvain.best_partition(G_twitter)"
   ]
  },
  {
   "cell_type": "code",
   "execution_count": null,
   "metadata": {},
   "outputs": [],
   "source": [
    "# 2\n",
    "\n",
    "# Representa gràficament el graf i pinta de diferent color cada comunitat\n",
    "# detectada\n",
    "\n",
    "# Importem la biblioteca de detecció de comunitats\n",
    "from community import community_louvain\n",
    "\n",
    "# Generem una nova figura\n",
    "plt.figure(1, figsize=(12, 10))\n",
    "\n",
    "# Calculem les posicions dels nodes del graf en el plànol amb l'algoritme\n",
    "# spring\n",
    "graph_pos = nx.spring_layout(G_twitter)\n",
    "\n",
    "# Definim els colors que utilitzarem per pintar les 3 comunitats\n",
    "colors = ['green', 'blue', 'red']\n",
    "\n",
    "# Per a cada comunitat detectada, en mostrem els nodes\n",
    "for count, com in enumerate(set(partition.values())):\n",
    "\n",
    "    # Seleccionem els nodes de la comunitat que estem processant\n",
    "    list_nodes = [nodes for nodes in partition.keys()\n",
    "                  if partition[nodes] == com]\n",
    "\n",
    "    # Mostrem els nodes, acolorits segons la comunitat a la qual pertanyen\n",
    "    nx.draw_networkx_nodes(G_twitter, graph_pos, list_nodes,\n",
    "                           node_size=800,\n",
    "                           node_color=colors[count],\n",
    "                           alpha=0.5)\n",
    "\n",
    "# Mostrem les arestes del graf, especificant-ne la posició, el color i la\n",
    "# transparència\n",
    "nx.draw_networkx_edges(G_twitter, graph_pos, edge_color='k', alpha=0.3)\n",
    "\n",
    "# Mostrem les etiquetes, indicant-ne la font i la grandària\n",
    "a = nx.draw_networkx_labels(\n",
    "    G_twitter, graph_pos, font_size=12, font_family='sans-serif')"
   ]
  },
  {
   "cell_type": "markdown",
   "metadata": {
    "id": "D38ySRH0eLlt"
   },
   "source": [
    "<img src=\"data:image/avif;base64,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\" width=\"100\">"
   ]
  }
 ],
 "metadata": {
  "language_info": {
   "name": "python"
  }
 },
 "nbformat": 4,
 "nbformat_minor": 0
}
