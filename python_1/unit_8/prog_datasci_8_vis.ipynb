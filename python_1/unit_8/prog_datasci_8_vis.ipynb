{
 "cells": [
  {
   "cell_type": "markdown",
   "metadata": {},
   "source": [
    "<div style=\"display: grid; grid-template-columns: repeat(2, 1fr); align-items: end;\">\n",
    "    <div>\n",
    "        <img src=\"data:image/avif;base64,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\" width=\"300\">\n",
    "    </div>\n",
    "    <div>\n",
    "        <p style=\"margin: 0; text-align:right;\">22.401 · Fonaments de Programació</p>\n",
    "        <p style=\"margin: 0; text-align:right;\">Grau en Ciència de Dades Aplicada</p>\n",
    "        <p style=\"margin: 0; text-align:right;\">Estudis d'Informàtica, Multimèdia i Telecomunicació</p>\n",
    "    </div>\n",
    "</div>"
   ]
  },
  {
   "cell_type": "markdown",
   "metadata": {},
   "source": [
    "Fonaments de Programació\n",
    "============================\n",
    "\n",
    "--- \n",
    "Unitat 8: Visualització de dades en Python\n",
    "-----------------------------------------------------\n",
    "---\n",
    "\n",
    "## Instruccions d'ús\n",
    "\n",
    "Aquest document és un *notebook* interactiu que intercala explicacions més aviat teòriques de conceptes de programació amb fragments de codi executables. Per aprofitar els avantatges que aporta aquest format, us recomanem que, en primer lloc, llegiu les explicacions i el codi que us proporcionem. D'aquesta manera, tindreu un primer contacte amb els conceptes que hi exposem. Ara bé, **la lectura és només el principi!** Una vegada hàgiu llegit el contingut, no oblideu executar el codi proporcionat i modificar-lo per crear-ne variants que us permetin comprovar que n'heu entès la funcionalitat i explorar-ne els detalls d'implementació. En darrer lloc, us recomanem també consultar la documentació enllaçada per explorar amb més profunditat les funcionalitats dels mòduls presentats.\n",
    "\n",
    "Per tal de desar possibles modificacions que feu sobre aquest notebook, us aconsellem que munteu la unitat de Drive a Google Colaboratory (colab). Per fer-ho, heu d'executar les següents instruccions:"
   ]
  },
  {
   "cell_type": "code",
   "execution_count": null,
   "metadata": {},
   "outputs": [],
   "source": [
    "import os\n",
    "import sys\n",
    "from os.path import dirname\n",
    "\n",
    "VERIFICA_ESTIL = False\n",
    "\n",
    "if os.getenv(\"COLAB_RELEASE_TAG\"):\n",
    "    # munta la unitat de google drive i accedeix a la carpeta de la unitat\n",
    "    from google.colab import drive\n",
    "    drive.mount('/content/drive')\n",
    "    %cd \"/content/drive/MyDrive/Colab Notebooks/python_datascience/python_1/unit_8\"\n",
    "\n",
    "print(f\"directori actual: {os.getcwd()}\")\n",
    "sys.path.append(os.path.join(dirname(dirname(os.getcwd())), 'util'))\n",
    "\n",
    "# verificació de PEP8\n",
    "if VERIFICA_ESTIL:\n",
    "    print(\"habilitant verificació de l'estil PEP8\")\n",
    "    if os.getenv(\"COLAB_RELEASE_TAG\"):\n",
    "        print(\"instal·lant flake8, pycodestyle i pycodestyle_magic...\")\n",
    "        %pip install pycodestyle flake8 pycodestyle_magic\n",
    "    %load_ext pycodestyle_magic\n",
    "    %pycodestyle_on"
   ]
  },
  {
   "cell_type": "code",
   "execution_count": null,
   "metadata": {},
   "outputs": [],
   "source": [
    "from uoc import data_backup\n",
    "\n",
    "data_backup(os.getcwd(), True)"
   ]
  },
  {
   "cell_type": "markdown",
   "metadata": {},
   "source": [
    "## Introducció\n",
    "\n",
    "Anomenem **visualització de dades** la representació i la presentació de dades que fa servir la nostra percepció visual amb l'objectiu de millorar-ne la cognició.\n",
    "\n",
    "En funció de la intenció amb què es crea la visualització de dades, distingim principalment entre visualitzacions exploratòries i visualitzacions explicatives. Una visualització de dades **exploratòria** permet a l'usuari explorar de manera visual les dades amb què treballa i familiaritzar-s'hi. En aquest cas, normalment el receptor és el creador de la visualització. En canvi, una visualització **explicativa** mira de transmetre informació al receptor de manera intencionada, habitualment mitjançant una narrativa específica. En aquest cas, el receptor de la visualització sol diferir del creador.\n",
    "\n",
    "Hi ha moltes maneres de visualitzar dades. Quan les dades són quantitatives, poden representar-se en forma de gràfics (per exemple, diagrames de barres, gràfics de línies, gràfics circulars, histogrames, diagrames de dispersió, diagrames de caixa, etc.). A més, si les dades contenen localitzacions es poden crear visualitzacions que incloguin mapes (per exemple, cartogrames), i si les dades representen xarxes es poden visualitzar com a dibuixos de grafs. Quan les dades són qualitatives se solen emprar altres tècniques de visualització, com per exemple, núvols de paraules.\n",
    "\n",
    "Per tenir una idea més clara dels tipus de visualitzacions de dades que hi ha, en podeu veure alguns exemples recollits a la guia d'Introducció a la visualització de dades de la [Universitat de Duke](http://guides.library.duke.edu/datavis/vis_types) i en el [Catàleg de visualitzacions](http://www.datavizcatalogue.com/).\n",
    "\n",
    "Fer bones visualitzacions no és tasca fàcil: cal tenir en compte diversos factors, com el funcionament del procés de percepció visual o el suport que es farà servir. En general, hi ha un conjunt de bones pràctiques acceptades a l'hora de crear visualitzacions. Per exemple, es considera que la visualització ha de ser tan simple com sigui possible, evitant que introdueixi distraccions que en dificultin la comprensió.\n",
    "\n",
    "\n",
    "En mòduls anteriors, ja hem vist com podem generar i importar dades, així com alguns mètodes de visualització bàsics de dades. En aquest mòdul ens centrarem en la generació de visualitzacions de dades més avançades. Primer veurem un petit resum de les principals biblioteques de visualització de dades que ens trobem a Python tot començant amb la biblioteca principal de Python, [Matplotlib](https://matplotlib.org/). \n",
    "\n",
    "Amb més detall, veurem com podem fer visualitzacions amb biblioteques com [seaborn](https://seaborn.pydata.org/), que ens proveeix d'una interfície d'alt nivell a Matplotlib, amb què podem crear gràfiques atractives amb poques línies de codi, així com altres biblioteques que fan servir JavaScript per fer visualitzacions interactives, com [bokeh](https://bokeh.org) i [ipywidgets](https://ipywidgets.readthedocs.io/en/stable/), útils per fer *dashboards* o quadres de comandament de dades. \n",
    "\n",
    "\n",
    "Veurem tot seguit com podem representar dades de xarxes en forma de grafs amb la biblioteca\n",
    "[Networkx](https://networkx.github.io/). \n",
    "\n",
    "Finalment, veurem com podem\n",
    "representar dades espacials sobre mapes amb la biblioteca\n",
    "[folium](https://python-visualization.github.io/folium/) i amb l'ús de [GeoPandas](https://geopandas.org/en/stable/). \n",
    "\n",
    "A més de les biblioteques que acabem d'esmentar, durant aquest mòdul\n",
    "farem servir també les biblioteques que ja hem anat presentant als mòduls\n",
    "anteriors: [NumPy](http://www.numpy.org/),\n",
    "[pandas](http://pandas.pydata.org/) i\n",
    "[scikit-learn](http://scikit-learn.org)."
   ]
  },
  {
   "cell_type": "markdown",
   "metadata": {},
   "source": [
    "# 1 Un mapa de les biblioteques de visualització de Python\n",
    "\n",
    "\n",
    "En aquest apartat donarem una petita visió de les principals biblioteques per visualitzar dades. No totes les explicarem amb detall, però sí que en donarem potser algun exemple i algunes referències. \n",
    "\n",
    "\n",
    "Les biblioteques de visualització es poden agrupar en funció del seu objectiu o especialització (per exemple, si es fan servir per representar dades, superfícies o grafs), o bé pels seus nivells d'abstracció (de baix nivell, si contenen funcions per treballar a baix nivell, i controlar corbes i detalls gràfics, o bé si són capaces de representar objectes complexos.)\n",
    "\n",
    "Un mapa de les biblioteques que comentarem en aquest mòdul didàctic, a part de Matplotlib, són: \n",
    "\n",
    "\n",
    "\n",
    "![resum](https://raw.githubusercontent.com/rbuj-UOC/python_datascience/refs/heads/master/python_1/unit_8/media/resum_ca.avif)\n",
    "\n",
    "\n",
    "\n",
    "En aquesta secció farem una llista ràpida descrivint què és cada biblioteca i per què pot ser útil, seguint la categorització del diagrama. \n",
    "\n"
   ]
  },
  {
   "cell_type": "markdown",
   "metadata": {},
   "source": [
    "## 1.1 Visualització d'alt nivell\n",
    "\n",
    "Respecte dels projectes de representació de figures d'alt nivell, podem comentar els quatre següents de manera singular: \n",
    "\n",
    "1. [Matplotlib](http://matplotlib.org/) és una biblioteca de representació de dades en 2D molt emprada per la comunitat atesa la gran qualitat de les figures generades i la seva capacitat de representació de dades de diferent índole. Dintre de Matplotlib, *pylab*, és la interfície d'alt nivell que permet crear gràfics amb un codi i funcionament molt similar a com es faria en MATLAB.\n",
    "\n",
    "2. Potser tot seguit cal comentar [Seaborn](https://seaborn.pydata.org/), dissenyada per crear gràfiques a partir d'objectes `pandas` (no només), i que descriurem a l'apartat següent. \n",
    "\n",
    "3. Una tercera biblioteca d'alt nivell interessant és [altair](https://github.com/altair-viz/altair). Altair és una biblioteca per programar gràfics de manera [declarativa](https://en.wikipedia.org/wiki/Declarative_programming). Es basa en la seva visualització en una biblioteca de JavaScript anomenada [Vega-Lite](https://github.com/vega/vega-lite). \n",
    "\n",
    "4. Plotnine (i ggplot). [`plotnine`](https://plotnine.readthedocs.io/en/stable/) és una implementació d'una gramàtica de gràfics en Python, es basa en [`ggplot2`](https://ggplot2.tidyverse.org), una biblioteca molt emprada i popular en el llenguatge de programació estadística [`R`](https://www.r-project.org). "
   ]
  },
  {
   "cell_type": "markdown",
   "metadata": {},
   "source": [
    "## 1.2 Visualització científica\n",
    "\n",
    "Altres biblioteques estan especialitzades en visualització d'un altre tipus, potser  menys útils en el camp de la ciència de dades. Una biblioteca interessant i que es fa servir molt per visualització científica és VTK. \n",
    "\n",
    "El [kit d'eines de visualització (VTK)](https://vtk.org/about/#overview) és un sistema de programari de codi obert i disponible de franc per a gràfics per a ordinador en 3D, modelatge, processament d'imatges, renderització de volums, visualització científica i traçat en 2D. \n",
    "\n",
    "La biblioteca admet una gran varietat d'algoritmes de visualització i tècniques de modelatge avançades, i aprofita el processament en paral·lel i distribuït per a la velocitat i l'escalabilitat, respectivament. Una biblioteca semblant i relacionada és [Mayavi2](https://docs.enthought.com/mayavi/mayavi/). Aquesta biblioteca és una eina multiplataforma de propòsit general per a la visualització de dades científiques en 3D. \n"
   ]
  },
  {
   "cell_type": "markdown",
   "metadata": {},
   "source": [
    "## 1.3 Visualització de  grafs\n",
    "\n",
    "En teoria de grafs, un graf és una representació abstracta d'un conjunt d'objectes en què alguns parells dels objectes estan connectats per enllaços o arestes. \n",
    "\n",
    "Els objectes interconnectats els anomenem vèrtexs i poden representar qualsevol cosa de manera abstracta. Els enllaços que connecten alguns parells de vèrtexs s'anomenen arestes. \n",
    "\n",
    "Típicament, un graf es descriu de manera esquemàtica com a conjunt de punts o cercles per als vèrtexs, units per línies o corbes per les arestes. Els grafs són un dels objectes d'estudi de la matemàtica discreta.\n",
    "\n",
    "En Python tenim potser tres biblioteques importants per representar grafs: \n",
    "\n",
    "- `networkx`. [NetworkX](https://networkx.org) és un paquet Python per a la creació, manipulació i estudi de l'estructura, la dinàmica i les funcions de xarxes complexes. Aquest paquet l'estudiarem amb més detall dintre d'aquest mòdul didàctic.\n",
    "- `graphviz`. [Graphviz](https://graphviz.org) és un programari de visualització de gràfics de codi obert a què també es pot accedir mitjançant Python. La visualització de gràfics és una manera de representar la informació estructural com a diagrames de gràfics i xarxes abstractes. Té aplicacions importants en xarxes, bioinformàtica, enginyeria de programari, disseny de bases de dades i web, aprenentatge automàtic i en interfícies visuals per a altres dominis tècnics.\n",
    "- `pydot`. [Pydot](https://pypi.org/project/pydot/) és la biblioteca en Python que ens permet interaccionar amb Graphviz\n"
   ]
  },
  {
   "cell_type": "markdown",
   "metadata": {},
   "source": [
    "## 1.4 Visualització de geolocalització\n",
    "\n",
    "Hi ha força biblioteques de visualització i ús de geolocalització en Python, potser les que es fan servir més són: \n",
    "\n",
    "- `geopandas`. Com el seu nom indica, [geopandas](https://geopandas.org) és una extensió de pandas per incloure informació de geolocalització.\n",
    "- `folium`. Potser més centrada en la part de visualització, [folium](https://python-visualization.github.io/folium/) es basa en la  biblioteca de JavaScript leaflet.js. Permet la manipulació i visualització interactiva.\n",
    "- `geopy`. [geopy](http://geopy.readthedocs.io) és un client Python que permet interaccionar amb diversos serveis web de geocodificació populars. geopy facilita localitzar les coordenades d'adreces, ciutats, països i punts de referència arreu del món mitjançant geocodificadors de tercers i altres fonts de dades. També inclou eines per calcular distàncies, canviar unitats i d'altres.  "
   ]
  },
  {
   "cell_type": "markdown",
   "metadata": {},
   "source": [
    "## 1.5 Visualitzacions interactives\n",
    "\n",
    "Un aspecte extraordinàriament útil de l'ús de Python per a ciència de dades és la relativa facilitat de crear visualitzacions interactives amb certs elements d'interfície d'usuari d'una manera ràpida. \n",
    "\n",
    "Aquestes visualitzacions es poden generar per servir en un programa de Python, es poden generar i integrar en un servei web (i accedir-hi mitjançant un navegador) o bé integrar-les en un `notebook` de `jupyter`.  \n",
    "D'aquestes últimes, potser podem esmentar de manera notable `dash`, `bokeh` i `ipywidgets`. Tant  `bokeh` com `ipywidgets` els veurem amb detall en aquesta unitat, però és interessant saber alguna cosa més de `dash`.\n",
    "\n",
    "[`dash`](https://plotly.com/dash/) és una biblioteca relacionada amb [`plotly`](https://plotly.com) que permet la creació de  `dashboards` o taulers de control amb orientació a la ciència de dades i interactivitat. \n",
    "\n",
    "La part potser més interessant de `dash` és que és una extensió d'un marc de programació web anomenat [`flask`](https://flask.palletsprojects.com/en/2.0.x), de manera que permet la inclusió d'estris de visualització interactiva proporcionats per `plotly` d'una manera ben fàcil. \n",
    "\n",
    "`Flask` és una via interessant d'elaborar pàgines web i serveis API amb Python.  Juntament amb dash, es poden crear `dashboards` que permetin fer visualitzacions de fons i bases de dades interactivament en una web mitjançant només Python. Potser els detalls d'aquesta biblioteca cauen fora del conjunt de materials d'aquesta assignatura, però és interessant que sapiguem que existeix. \n",
    "\n",
    "<video controls src=\"media/dash_autonomous.mp4\" />\n",
    "\n",
    "Exemple d'un *dashboard* creat amb `dash` i `flask`per mostrar les dades d'un sistema de conducció autònoma."
   ]
  },
  {
   "cell_type": "markdown",
   "metadata": {},
   "source": [
    "# 2 Visualitzacions d'alt nivell\n",
    "\n",
    "Veurem ara amb més detall algunes de les biblioteques que hem esmentat. Cal dir que no les veurem totes, així doncs, hem organitzat la resta del material començant per les biblioteques que no estan especialitzades amb visualitzacions interactives d'alt nivell. \n",
    "\n",
    "Començarem descrivint breument exemples amb Matplotlib, altair i plotnine, i veurem amb més detall seaborn. "
   ]
  },
  {
   "cell_type": "markdown",
   "metadata": {},
   "source": [
    "## 2.1 Matplotlib"
   ]
  },
  {
   "cell_type": "markdown",
   "metadata": {},
   "source": [
    "###  2.1.1 Introducció\n",
    "\n",
    "[Matplotlib](http://matplotlib.org/) és una biblioteca de representació de dades en 2D molt emprada per la comunitat atesa la gran qualitat de les figures creades i la seva capacitat de representació de dades d'índole diferent. Un cop d'ull ràpid a la [galeria d'exemples](http://matplotlib.org/gallery.html) ens convencerà de la gran potència que té.\n",
    "\n",
    "Aquesta biblioteca es pot fer servir o bé mitjançant la interfície Pyplot, que s'integra molt bé amb IPython i Notebook i té una sintaxi molt similar a [MATLAB](http://es.mathworks.com/products/matlab/), o bé amb els objectes que proporciona la biblioteca per fer servir tota la seva capacitat de personalització de dibuix.\n",
    "\n",
    "Aquesta similitud amb MATLAB ha ajudat a la seva disseminació, ja que molts usuaris científics buscaven una alternativa de codi obert enfront de MATLAB i que pogués estar integrada amb altres biblioteques escrites en Python.\n",
    "\n",
    "El codi de Matplotlib està dividit en tres parts: *pylab*, *Matplotlib API* i *backends*. La primera part, *pylab*, és la interfície que permet crear gràfics amb un codi i funcionament molt similar a com es faria en MATLAB. *Matplotlib API* és la part essencial que la resta de codi fa servir i, finalment, *backends* és la part encarregada de la representació depenent de la plataforma (tipus de fitxers d'imatge, dispositius de visualització, etc.). En aquest mòdul només farem exemples i exercicis fent servir *pylab*.\n",
    "\n",
    "Podeu consultar molts exemples a l'[ajuda de la biblioteca](https://matplotlib.org/stable/gallery/index)."
   ]
  },
  {
   "cell_type": "markdown",
   "metadata": {},
   "source": [
    "### 2.1.2 Estructura de les figures amb Matplotlib\n",
    "\n",
    "Una gràfica a Matplotlib conté sobretot dos objectes principals: \n",
    "\n",
    "- Figures. Les figures (`figure`) són l'espai en què podrem ubicar una o més gràfiques o objectes. \n",
    "- Eixos. Eixos (`axis`), en referència a cadascun dels objectes que posarem a dintre d'una figura. \n",
    "\n",
    "D'aquesta manera, hem de pensar en una figura com un espai en què es delimita la visualització que volem fer, i els eixos com cadascun dels objectes que hi volem ubicar. \n",
    "\n",
    "Una figura conté un mínim d'un eix. \n",
    "\n",
    "![Figures i eixos](https://raw.githubusercontent.com/rbuj-UOC/python_datascience/refs/heads/master/python_1/unit_8/media//matplotlibA.avif)\n",
    "\n",
    "Podem invocar la nostra primera figura mitjançant `pyplot`. Veureu que també incloem una directiva pel Jupyter notebook perquè entengui que estem creant les gràfiques a un notebook.  \n"
   ]
  },
  {
   "cell_type": "code",
   "execution_count": null,
   "metadata": {},
   "outputs": [],
   "source": [
    "%matplotlib notebook\n",
    "\n",
    "import matplotlib.pylab as plt"
   ]
  },
  {
   "cell_type": "markdown",
   "metadata": {},
   "source": [
    "Ara veurem com l'objecte `plt` el podem fer servir per elaborar una figura, en aquest cas sense que hi hagi res. Per exemple: \n"
   ]
  },
  {
   "cell_type": "code",
   "execution_count": null,
   "metadata": {},
   "outputs": [],
   "source": [
    "fig = plt.figure()\n",
    "fig.show()"
   ]
  },
  {
   "cell_type": "markdown",
   "metadata": {},
   "source": [
    "Com comentàvem, podem pensar en la figura com un llenç en què podem dibuixar, aquest llenç pot tenir les dimensions que creguem convenient amb l'argument `figsize`. \n",
    "\n",
    "A partir d'aquí, podem fer servir la comanda `plot()` per crear la nostra primera corba i veure com podem afegir text als eixos `x` i `y`, i un títol.  "
   ]
  },
  {
   "cell_type": "code",
   "execution_count": null,
   "metadata": {},
   "outputs": [],
   "source": [
    "fig = plt.figure(figsize=(3, 3))\n",
    "plt.plot((1, 2, 4), (1, 2, 6))\n",
    "plt.xlabel(\"x\")\n",
    "plt.ylabel(\"y\")\n",
    "plt.title(\"My figure\")\n",
    "fig.show()"
   ]
  },
  {
   "cell_type": "markdown",
   "metadata": {},
   "source": [
    "Podem incloure més eixos en una figura, tot fent servir la comanda `subplots`. Fixeu-vos, en aquest cas, com creem una figura amb 4 eixos, en una disposició de 2x2, en què ja tenim descriptors diferents per a la mateixa figura (`fig`), i per a cadascun dels eixos (`axs`):  "
   ]
  },
  {
   "cell_type": "code",
   "execution_count": null,
   "metadata": {},
   "outputs": [],
   "source": [
    "fig, (axs) = plt.subplots(2, 2)\n",
    "fig.show()"
   ]
  },
  {
   "cell_type": "markdown",
   "metadata": {},
   "source": [
    "Podem ara posar la nostra gràfica o `plots` en qualsevol dels eixos (continguts a la variable `axs`). Podem, tot fent servir el descriptor d'un eix en particular, col·locar figures o modificar propietats d'aquest eix en particular. \n"
   ]
  },
  {
   "cell_type": "code",
   "execution_count": null,
   "metadata": {},
   "outputs": [],
   "source": [
    "fig, (axs) = plt.subplots(2, 2)\n",
    "axs[0, 1].plot((0, 2, 4), (0, 2, 6), \"b\")\n",
    "axs[0, 1].set(title=\"Figure in 0,1\",\n",
    "              xlabel=\"x\",\n",
    "              ylabel=\"y\")\n",
    "axs[1, 0].plot((1, 3, 4), (2, -1, 6), \"r\")\n",
    "axs[1, 0].set(title=\"Figure in 1,0\",\n",
    "              xlabel=\"x\",\n",
    "              ylabel=\"y\")\n",
    "fig.show()"
   ]
  },
  {
   "cell_type": "markdown",
   "metadata": {},
   "source": [
    "Si tornem al cas de tenir una figura, la podem crear de manera idèntica, i modificar, per exemple, propietats de les etiquetes, i girar-les 45 graus: \n",
    "    "
   ]
  },
  {
   "cell_type": "code",
   "execution_count": null,
   "metadata": {},
   "outputs": [],
   "source": [
    "temperatures = [4, 7, 9, 12,\n",
    "                8, 12, 18, 25,\n",
    "                21, 12, 10, 8]\n",
    "\n",
    "months = [\"Jan\", \"Feb\", \"Mar\",\n",
    "          \"Apr\", \"May\", \"June\",\n",
    "          \"July\", \"Aug\", \"Sept\",\n",
    "          \"Oct\", \"Nov\", \"Dec\"]"
   ]
  },
  {
   "cell_type": "code",
   "execution_count": null,
   "metadata": {},
   "outputs": [],
   "source": [
    "fig, axs = plt.subplots()\n",
    "axs.bar(months,\n",
    "        temperatures,\n",
    "        color=\"lightblue\")\n",
    "plt.setp(axs.get_xticklabels(), rotation=45)\n",
    "axs.set(title=\"Monthly temperature\",\n",
    "        xlabel=\"Month\",\n",
    "        ylabel=\"T(C)\")\n",
    "plt.show()"
   ]
  },
  {
   "cell_type": "markdown",
   "metadata": {},
   "source": [
    "Finalment, també és normal incloure llegendes en el cas que tinguem diverses corbes en una mateixa figura. En aquest cas, podem controlar l'etiqueta de cada corba amb `label` i la inclusió de la llegenda invocant el mètode `.legend()` al descriptor d'eixos: \n",
    "\n"
   ]
  },
  {
   "cell_type": "code",
   "execution_count": null,
   "metadata": {},
   "outputs": [],
   "source": [
    "temperaturesA = [4, 7, 9, 12,\n",
    "                 8, 12, 18, 25,\n",
    "                 21, 12, 10, 8]\n",
    "temperaturesB = [5, 9, 14, 14,\n",
    "                 15, 16, 17, 16,\n",
    "                 15, 8, 2, -5]\n",
    "months = [\"Jan\", \"Feb\", \"Mar\",\n",
    "          \"Apr\", \"May\", \"June\",\n",
    "          \"July\", \"Aug\", \"Sept\",\n",
    "          \"Oct\", \"Nov\", \"Dec\"]"
   ]
  },
  {
   "cell_type": "code",
   "execution_count": null,
   "metadata": {},
   "outputs": [],
   "source": [
    "fig, axs = plt.subplots()\n",
    "axs.plot(months,\n",
    "         temperaturesA,\n",
    "         color=\"blue\",\n",
    "         label=\"A\")\n",
    "axs.plot(months,\n",
    "         temperaturesB,\n",
    "         color=\"red\",\n",
    "         label=\"B\")\n",
    "axs.legend()\n",
    "plt.setp(axs.get_xticklabels(), rotation=45)\n",
    "axs.set(title=\"Monthly temperature\",\n",
    "        xlabel=\"Month\",\n",
    "        ylabel=\"T(C)\")\n",
    "plt.show()"
   ]
  },
  {
   "cell_type": "markdown",
   "metadata": {},
   "source": [
    "### 2.1.3 Recull d'exemples\n",
    "\n",
    "*Exemple 1: representar la funció cosinus*\n",
    "\n",
    "Al primer exemple representarem dos _arrays_, un davant de l'altre, als eixos X i Y respectivament. Com hem comentat abans, podem aprofitar la manera de generar gràfiques amb una certa interactivitat en el notebok amb `%Matplotlib notebook`, o bé amb `%Matplotlib inline` si les volem no interactives."
   ]
  },
  {
   "cell_type": "code",
   "execution_count": null,
   "metadata": {},
   "outputs": [],
   "source": [
    "%matplotlib inline\n",
    "# Aquest primer import és necessari per inicialitzar l'entorn de Matplotlib.\n",
    "import matplotlib\n",
    "import numpy as np\n",
    "# Importem la biblioteca fent servir l'àlies 'plt'.\n",
    "import matplotlib.pyplot as plt\n",
    "\n",
    "# Calculem una matriu de -2*PI a 2*PI amb un pas de 0.1.\n",
    "x = np.arange(-2*np.pi, 2*np.pi, 0.1)\n",
    "\n",
    "# Representem l'array x amb el valor de cos(x).\n",
    "plt.plot(x, np.cos(x))\n",
    "\n",
    "# Afegim els noms als eixos X i Y respectivament:\n",
    "plt.xlabel('x')\n",
    "plt.ylabel('cos(x)')\n",
    "\n",
    "# Finalment, mostrarem el gràfic:\n",
    "plt.show()"
   ]
  },
  {
   "cell_type": "markdown",
   "metadata": {},
   "source": [
    "*Exemple 2: representar les funcions cosinus i sinus alhora*\n",
    "\n",
    "En aquest exemple, calcularem els valors de les funcions sinus i cosinus per al mateix rang de valors i les representarem al mateix gràfic."
   ]
  },
  {
   "cell_type": "code",
   "execution_count": null,
   "metadata": {},
   "outputs": [],
   "source": [
    "import matplotlib\n",
    "import numpy as np\n",
    "import matplotlib.pyplot as plt\n",
    "\n",
    "# Calculem una matriu de -2*PI a 2*PI amb un pas de 0.1.\n",
    "x = np.arange(-2*np.pi, 2*np.pi, 0.1)\n",
    "\n",
    "# Podem encadenar la representació de múltiples funcions al mateix gràfic.\n",
    "# En aquest ordre: array x, cos(x), 'r' farà servir el color vermell (red),\n",
    "# array x, sin(x) i verd (green)\n",
    "plt.plot(x, np.cos(x), 'r', x, np.sin(x), 'g')\n",
    "\n",
    "# De manera equivalent, podríem fer una crida en dues ocasions a la funció\n",
    "# plot:\n",
    "# plt.plot(x, np.cos(x), 'r')\n",
    "# plt.plot(x, np.sin(x), 'g')\n",
    "\n",
    "# Afegim els noms als eixos X i Y respectivament:\n",
    "plt.xlabel('x')\n",
    "plt.ylabel('cos(x)')\n",
    "\n",
    "# Finalment, mostrarem el gràfic.\n",
    "plt.show()"
   ]
  },
  {
   "cell_type": "markdown",
   "metadata": {},
   "source": [
    "*Exemple 3: histogrames*\n",
    "\n",
    "Matplotlib disposa de molts tipus de gràfics implementats, entre els quals hi ha els histogrames. En aquest exemple, representem una [funció gaussiana](https://es.wikipedia.org/wiki/Funci%C3%B3n_gaussiana)."
   ]
  },
  {
   "cell_type": "code",
   "execution_count": null,
   "metadata": {},
   "outputs": [],
   "source": [
    "import matplotlib\n",
    "import numpy as np\n",
    "import matplotlib.pyplot as plt\n",
    "import matplotlib.mlab as mlab\n",
    "\n",
    "# Paràmetres de la funció gaussiana:\n",
    "mu, sigma = 50, 7\n",
    "\n",
    "# Generem una matriu fent servir aquests paràmetres i nombres aleatoris.\n",
    "x = mu + sigma * np.random.randn(10000)\n",
    "\n",
    "# La funció 'hist' calcula la freqüència i el nombre de barres. L'argument\n",
    "# 'normed = 1' normalitza els valors de probabilitat ([0,1]), 'facecolor'\n",
    "# controla el color del gràfic, i 'alpha', el valor de la transparència de\n",
    "# les barres.\n",
    "n, bins, patches = plt.hist(\n",
    "    x, 30, density=1, facecolor='dodgerblue', alpha=0.5)\n",
    "\n",
    "plt.xlabel('x')\n",
    "plt.ylabel('Probabilitat')\n",
    "\n",
    "# Situem el text amb els valors de 'mu' i 'sigma' al gràfic:\n",
    "plt.text(20, .025, r'$\\mu=50,\\ \\sigma=7$')\n",
    "\n",
    "# Controlem manualment la mida dels eixos. Els dos primers valors es\n",
    "# corresponen amb 'xmin' i 'xmax', i els següents, amb 'ymin' i 'ymax':\n",
    "plt.axis([10, 90, 0, 0.07])\n",
    "\n",
    "# Mostrem una reixeta:\n",
    "plt.grid(True)\n",
    "\n",
    "plt.show()"
   ]
  },
  {
   "cell_type": "markdown",
   "metadata": {},
   "source": [
    "*Exemple 4: representació del conjunt de Mandelbrot*\n",
    "\n",
    "El conjunt de Mandelbrot és un dels conjunts fractals més estudiats i coneguts. Podeu trobar més informació en línia sobre [el conjunt i els fractals en general](https://es.wikipedia.org/wiki/Conjunto_de_Mandelbrot).\n",
    "\n",
    "L'exemple és una adaptació d'[aquest codi](https://scipy-lectures.github.io/intro/numpy/exercises.html#mandelbrot-set)."
   ]
  },
  {
   "cell_type": "code",
   "execution_count": null,
   "metadata": {},
   "outputs": [],
   "source": [
    "import numpy as np\n",
    "import matplotlib.pyplot as plt\n",
    "from numpy import newaxis\n",
    "\n",
    "\n",
    "def mandelbrot(N_max, threshold, nx, ny):\n",
    "    # Creem una matriu amb nx elements entre els valors -2 i 1.\n",
    "    x = np.linspace(-2, 1, nx)\n",
    "    # Fem el mateix, però, en aquest cas, entre -1.5 i 1.5, de ny elements.\n",
    "    y = np.linspace(-1.5, 1.5, ny)\n",
    "\n",
    "    # Creem el pla de nombres complexos necessari per calcular el conjunt.\n",
    "    c = x[:, newaxis] + 1j*y[newaxis, :]\n",
    "\n",
    "    # Iteració per calcular el valor d'un element en la successió.\n",
    "    z = c\n",
    "    for j in range(N_max):\n",
    "        z = z**2 + c\n",
    "\n",
    "    # Finalment, calculem si un element pertany o no al conjunt posant un\n",
    "    # límit 'threshold'.\n",
    "    conjunto = (abs(z) < threshold)\n",
    "\n",
    "    return conjunto\n",
    "\n",
    "\n",
    "conjunto_mandelbrot = mandelbrot(50, 2., 601, 401)\n",
    "\n",
    "# Transposem els eixos del conjunt de Mandelbrot calculat fent servir la\n",
    "# funció de NumPy 'T'. Fem servir la funció 'imshow' per representar una\n",
    "# matriu com una imatge. L'argument 'cmap' vol dir 'color map' i és l'escala\n",
    "# de colors en què representarem la nostra imatge. Podeu trobar molts altres\n",
    "# mapes a la documentació oficial:\n",
    "# http://matplotlib.org/examples/color/colormaps_reference.html\n",
    "plt.imshow(conjunto_mandelbrot.T, cmap='Blues')\n",
    "\n",
    "plt.show()"
   ]
  },
  {
   "cell_type": "markdown",
   "metadata": {},
   "source": [
    "*Exemple 5: manipulació d'imatges*\n",
    "\n",
    "Una imatge pot assimilar-se a una matriu multidimensional en què pels valors de píxels (x, y) tenim calors de color. Matplotlib ens permet llegir imatges, manipular-les i aplicar-hi diferents mapes de colors a l'hora de representar-les. A l'exemple següent, carregarem una fotografia en format PNG de Carl Sagan.\n",
    "\n",
    "Crèdits de la foto: NASA JPL"
   ]
  },
  {
   "cell_type": "code",
   "execution_count": null,
   "metadata": {},
   "outputs": [],
   "source": [
    "import numpy as np\n",
    "import matplotlib.pyplot as plt\n",
    "import matplotlib.image as mpimg\n",
    "\n",
    "# Llegim la imatge mitjançant la funció 'imread'.\n",
    "carl = mpimg.imread('media/sagan.png')\n",
    "\n",
    "# Podem mostrar la imatge:\n",
    "plt.imshow(carl)\n",
    "plt.show()\n",
    "\n",
    "# I podem modificar els valors numèrics de color llegits per la funció\n",
    "# 'imread'. Obtenim els valors de l'escala de grisos i mostrem els valors\n",
    "# fent servir el mapa de colors espectrals.\n",
    "gris = np.mean(carl, 2)\n",
    "plt.imshow(gris, cmap='Spectral')\n",
    "plt.show()"
   ]
  },
  {
   "cell_type": "markdown",
   "metadata": {},
   "source": [
    "## 2.2 Altair"
   ]
  },
  {
   "cell_type": "markdown",
   "metadata": {},
   "source": [
    "En aquesta biblioteca, l'usuari només necessita especificar com s'assignen les columnes de dades al canal de visualització, és a dir, declarar enllaços entre les columnes de dades i els canals de codificació com els eixos, fila, columnes, etc.\n",
    "\n",
    "En aquest mòdul didàctic, no tractarem Altair amb detall, però potser un exemple de com fer servir `altair`, tot emprant el codi següent:"
   ]
  },
  {
   "cell_type": "code",
   "execution_count": null,
   "metadata": {},
   "outputs": [],
   "source": [
    "import pandas as pd\n",
    "import altair as alt\n",
    "import seaborn as sns\n",
    "\n",
    "# load a simple dataset as a pandas DataFrame,\n",
    "# from seaborn in this case\n",
    "\n",
    "df = sns.load_dataset(\"iris\")\n",
    "df.head()"
   ]
  },
  {
   "cell_type": "code",
   "execution_count": null,
   "metadata": {},
   "outputs": [],
   "source": [
    "\n",
    "alt.Chart(df).mark_point().encode(\n",
    "    x='sepal_length',\n",
    "    y='sepal_width',\n",
    "    color='species',\n",
    ")"
   ]
  },
  {
   "cell_type": "markdown",
   "metadata": {},
   "source": [
    "Una propietat interessant d'`altair` és que pot generar figures interactives de manera natural. Veureu que podem crear una selecció de dades basades en una selecció directa sobre la figura.  \n",
    "\n",
    "A tall d'exemple, proveu aquest codi i observeu com es modifiquen les propietats de la figura de barres tot seleccionant mostres en la figura de punts (tot dibuixant un requadre dintre de la figura). \n",
    "\n",
    "Observeu també com l'avaluació d'un plot és, de fet, invocar-ne la variable:"
   ]
  },
  {
   "cell_type": "code",
   "execution_count": null,
   "metadata": {},
   "outputs": [],
   "source": [
    "source = df\n",
    "\n",
    "brush = alt.selection(type='interval')\n",
    "\n",
    "points = alt.Chart(source).mark_point().encode(\n",
    "    x='sepal_length',\n",
    "    y='sepal_width',\n",
    "    color=alt.condition(brush, 'species', alt.value('lightgray'))\n",
    ").add_selection(\n",
    "    brush\n",
    ")\n",
    "\n",
    "bars = alt.Chart(source).mark_bar().encode(\n",
    "    y='species',\n",
    "    color='species',\n",
    "    x='count(species)'\n",
    ").transform_filter(\n",
    "    brush\n",
    ")\n",
    "\n",
    "points & bars"
   ]
  },
  {
   "cell_type": "markdown",
   "metadata": {},
   "source": [
    "## 2.3 plotnine\n",
    "\n",
    "En el cas de plotnine, la gramàtica permet als usuaris compondre una gràfica de manera incremental i a capes, tot assignant dades de manera semblant al cas anterior.\n",
    "\n",
    "Fer figures amb una gramàtica és un recurs molt útil, fa que les figures personalitzades (i, d'altra banda, complexes) siguin fàcils de pensar i després crear, mentre que les trames simples continuen sent simples.\n",
    "\n",
    "A tall d'exemple, en aquest cas farem servir el mateix conjunt de dades que en el cas anterior, que ja està inclòs a dintre del mateix paquet, també en format pandas:"
   ]
  },
  {
   "cell_type": "code",
   "execution_count": null,
   "metadata": {},
   "outputs": [],
   "source": [
    "import numpy as np\n",
    "import pandas as pd\n",
    "\n",
    "import plotnine\n",
    "from plotnine import *"
   ]
  },
  {
   "cell_type": "markdown",
   "metadata": {},
   "source": [
    "Es pot veure com funciona la gramàtica, en el sentit que amb l'operador `+` anirem dictant el tipus de plot, o les modificacions al plot. Per exemple, per fer un scorepplot, tot indicant color i coordenades, primer assignem les variables i després indiquem el tipus de plot:"
   ]
  },
  {
   "cell_type": "code",
   "execution_count": null,
   "metadata": {},
   "outputs": [],
   "source": [
    "p = ggplot(df, aes(\n",
    "    x=\"sepal_length\",\n",
    "    y=\"sepal_width\",\n",
    "    color=\"species\")) + geom_point()\n",
    "p.draw()"
   ]
  },
  {
   "cell_type": "markdown",
   "metadata": {},
   "source": [
    "Així, de manera similar a la forma semàntica que ggplot2 fa servir en el llenguatge R, podem modificar fàcilment l'ordre per fer un boxplot en funció del tipus de mostra, o canviar el títol, color o tema, per exemple: \n",
    "    "
   ]
  },
  {
   "cell_type": "code",
   "execution_count": null,
   "metadata": {},
   "outputs": [],
   "source": [
    "p = ggplot(df, aes(\n",
    "    y=\"sepal_length\",\n",
    "    x=\"species\",\n",
    "    color=\"species\")) + geom_boxplot()\n",
    "p"
   ]
  },
  {
   "cell_type": "code",
   "execution_count": null,
   "metadata": {},
   "outputs": [],
   "source": [
    "p + ggtitle(\"Sepal Length for all species\") + theme_bw()"
   ]
  },
  {
   "cell_type": "markdown",
   "metadata": {},
   "source": [
    "## 2.4 Gràfiques amb Seaborn\n",
    "\n",
    "Abans ja hem introduït la biblioteca de representació de dades en 2D Matplotlib. En aquest apartat, veurem una biblioteca de més alt nivell que ens ofereix una interfície a Matplotlib, a més d'altres biblioteques que ens permeten crear tipus de visualitzacions addicionals.\n",
    "\n",
    "[Seaborn](https://seaborn.pydata.org/) és una biblioteca de visualització basada en Matplotlib que pot treballar amb estructures de dades de Numpy i Pandas. Ens ofereix una interfície d'alt nivell per dibuixar gràfiques estadístiques atractives. Entre altres funcionalitats, Seaborn ens ofereix un conjunt de temes que milloren l'aparença estètica de les gràfiques generades, eines per gestionar paletes de colors, funcions per visualitzar distribucions i funcions per crear matrius de gràfiques que permeten elaborar visualitzacions complexes de manera senzilla.\n",
    "\n",
    "Atès que Seaborn està basada en Matplotlib, les gràfiques generades amb Seaborn poden acabar d'ajustar-se després amb les eines que ofereix Matplotlib.\n",
    "\n",
    "Us recomanem que visiteu la [galeria d'exemple de Seaborn](https://seaborn.pydata.org/examples/index.html#example-gallery), en què podreu apreciar la gran quantitat de tipus de gràfiques disponibles i els resultats estètics que produeix.\n",
    "\n",
    "En primer lloc, veurem alguns exemples de generació de gràfiques amb la biblioteca [seaborn](https://seaborn.pydata.org/). Farem servir el conjunt de dades de flors iris que ja hem vist en mòduls anteriors."
   ]
  },
  {
   "cell_type": "markdown",
   "metadata": {},
   "source": [
    "Per començar, importem les biblioteques que farem servir en aquest Notebook i\n",
    "que ja hem presentat abans."
   ]
  },
  {
   "cell_type": "code",
   "execution_count": null,
   "metadata": {},
   "outputs": [],
   "source": [
    "# Importem NumPy, pandas, Matplotlib i els datasets de Sklearn.\n",
    "import numpy as np\n",
    "import pandas as pd\n",
    "import matplotlib.pyplot as plt\n",
    "from sklearn import datasets"
   ]
  },
  {
   "cell_type": "code",
   "execution_count": null,
   "metadata": {},
   "outputs": [],
   "source": [
    "# Carreguem el dataset d'iris:\n",
    "iris = datasets.load_iris()\n",
    "\n",
    "# Guardem les dades a la variable 'data'.\n",
    "data = iris.data\n",
    "\n",
    "# Creem un dataframe de pandas amb les dades.\n",
    "df = pd.DataFrame(data=np.c_[iris['data'], iris['target']],\n",
    "                  columns=iris['feature_names'] + ['target'])\n",
    "\n",
    "# Mostrem les primeres cinc files del dataframe.\n",
    "df.head()"
   ]
  },
  {
   "cell_type": "markdown",
   "metadata": {},
   "source": [
    "La funció [jointplot](http://seaborn.pydata.org/generated/seaborn.jointplot.html) permet crear una gràfica de dues variables oferint tant informació conjunta sobre les variables com marginal. La mateixa funció es pot fer\n",
    "servir per crear diferents tipus de gràfiques. Vegem-ne alguns exemples.\n",
    "\n",
    "Per començar, crearem una gràfica de dispersió (en anglès, *scatter plot*) representant les mostres segons les característiques del sèpal. A més, mostrarem histogrames marginals (que representaran la distribució de totes característiques de manera individual)."
   ]
  },
  {
   "cell_type": "code",
   "execution_count": null,
   "metadata": {},
   "outputs": [],
   "source": [
    "# Importem la biblioteca seaborn.\n",
    "import seaborn as sns\n",
    "\n",
    "# Creem un jointplot de tipus \"scatter\", indicant els noms de les dues columnes\n",
    "# que volem fer servir com a variables, el color i la grandària de la figura.\n",
    "g = sns.jointplot(x=\"sepal length (cm)\",\n",
    "                  y=\"sepal width (cm)\",\n",
    "                  data=df,\n",
    "                  kind=\"scatter\",\n",
    "                  space=0, color=\"g\", height=10)"
   ]
  },
  {
   "cell_type": "markdown",
   "metadata": {},
   "source": [
    "La gràfica de dispersió ens ofereix una primera aproximació a les dades: podem veure que les mostres estan distribuïdes segons la longitud i l'amplada del sèpal.\n",
    "\n",
    "La funció _jointplot_ és molt versàtil. Fent servir la mateixa funció, però canviant el tipus de gràfic a `hex`, podem substituir el diagrama de dispersió per un histograma conjunt utilitzant intervals (*bins*) hexagonals."
   ]
  },
  {
   "cell_type": "code",
   "execution_count": null,
   "metadata": {},
   "outputs": [],
   "source": [
    "# Importem la biblioteca seaborn.\n",
    "import seaborn as sns\n",
    "\n",
    "# Creem un jointplot de tipus \"hex\", indicant els noms de les dues columnes\n",
    "# que volem fer servir com a variables, el color i la grandària de la figura.\n",
    "g = sns.jointplot(x=\"sepal length (cm)\",\n",
    "                  y=\"sepal width (cm)\",\n",
    "                  data=df,\n",
    "                  kind=\"hex\",\n",
    "                  space=0, color=\"g\", height=10)"
   ]
  },
  {
   "cell_type": "markdown",
   "metadata": {},
   "source": [
    "El diagrama de tipus `hex` ens permet també veure la distribució de les mostres, ometent els efectes de petites variacions i focalitzant-se, per tant, a transmetre la informació amb més granularitat.\n",
    "\n",
    "De manera anàloga, podem crear també un diagrama amb una [estimació de la funció de densitat](https://en.wikipedia.org/wiki/kernel_density_estimation) (en anglès, *KDE* o *Kernel density estimation*)."
   ]
  },
  {
   "cell_type": "code",
   "execution_count": null,
   "metadata": {},
   "outputs": [],
   "source": [
    "# Importem la biblioteca seaborn.\n",
    "import seaborn as sns\n",
    "\n",
    "# Creem un jointplot de tipus \"kde\", indicant els noms de les dues columnes\n",
    "# que volem fer servir com a variables, el color i la grandària de la figura.\n",
    "g = sns.jointplot(x=\"sepal length (cm)\",\n",
    "                  y=\"sepal width (cm)\",\n",
    "                  data=df,\n",
    "                  kind=\"kde\",\n",
    "                  space=0, color=\"g\", height=10)"
   ]
  },
  {
   "cell_type": "markdown",
   "metadata": {},
   "source": [
    "Una altra funció molt útil de la biblioteca seaborn és [_pairplot_](http://seaborn.pydata.org/generated/seaborn.pairplot.html), que crea una matriu de gràfiques amb les relacions entre parells de variables del conjunt de dades.\n",
    "\n",
    "Així, per al conjunt d'iris que conté cinc columnes (els quatre atributs i la classe), _pairplot_ generarà una matriu de 5x5 mostrant diagrames de dispersió per a cada parell de variables. A la diagonal es mostra un histograma dels valors de la variable."
   ]
  },
  {
   "cell_type": "code",
   "execution_count": null,
   "metadata": {},
   "outputs": [],
   "source": [
    "# Importem la biblioteca seaborn.\n",
    "import seaborn as sns\n",
    "\n",
    "# Creem un pairplot acolorint les mostres segons la classe a què pertanyen\n",
    "# i especificant una paleta de colors concreta.\n",
    "sns.pairplot(df,\n",
    "             hue=\"target\",\n",
    "             height=2,\n",
    "             palette=sns.color_palette(\"husl\", 3),\n",
    "             diag_kind='hist')"
   ]
  },
  {
   "cell_type": "markdown",
   "metadata": {},
   "source": [
    "Aquesta visualització és molt útil per aproximar-nos per primera vegada a les dades. Així, per exemple, si estiguéssim afrontant un problema de classificació, podríem tenir una idea de quins atributs ens seran més útils per a la classificació o quin tipus d'algorismes ens servirien per afrontar el problema.\n",
    "\n",
    "Seaborn també ens permet crear mapes de calor o *heatmaps*. Per exemple, podem calcular la correlació entre cada parell d'atributs del nostre conjunt de dades i mostrar-ho en un mapa de calor:"
   ]
  },
  {
   "cell_type": "code",
   "execution_count": null,
   "metadata": {},
   "outputs": [],
   "source": [
    "import seaborn as sns\n",
    "\n",
    "sns.set(style=\"white\")\n",
    "\n",
    "# Calculem la correlació entre atributs.\n",
    "corr = df.corr()\n",
    "\n",
    "# Generem una màscara triangular (una matriu de la mateixa grandària que la\n",
    "# matriu de correlacions, amb valors False al triangle inferior i True a la\n",
    "# resta).\n",
    "mask = np.zeros_like(corr, dtype=bool)\n",
    "mask[np.triu_indices_from(mask)] = True\n",
    "\n",
    "# Generem la figura Matplotlib.\n",
    "f, ax = plt.subplots(figsize=(11, 10))\n",
    "\n",
    "# Creem un mapa de colors.\n",
    "cmap = sns.diverging_palette(255, 133, l=60, n=7, center=\"dark\", as_cmap=True)\n",
    "\n",
    "# Dibuixem el mapa de calor utilitzant com a màscara la matriu mask i\n",
    "# els colors especificats.\n",
    "sns.heatmap(corr, mask=mask, cmap=cmap,\n",
    "            xticklabels=list(df), yticklabels=(list(df)),\n",
    "            linewidths=.5, ax=ax)\n",
    "\n",
    "# Per un error a la versió de Matplotlib, cal especificar manualment\n",
    "# els límits de l'eix y\n",
    "# Aquesta instrucció es podrà eliminar quan fem servir Matplotlib 3.1.2\n",
    "_ = plt.ylim((0, 5))"
   ]
  },
  {
   "cell_type": "markdown",
   "metadata": {},
   "source": [
    "Fixeu-vos que hem generat i aplicat una màscara per evitar que es mostrin valors repetits, ja que la matriu de correlació és simètrica:"
   ]
  },
  {
   "cell_type": "code",
   "execution_count": null,
   "metadata": {},
   "outputs": [],
   "source": [
    "print(mask)"
   ]
  },
  {
   "cell_type": "markdown",
   "metadata": {},
   "source": [
    "# 3 Visualització de Grafs amb Networkx\n",
    "\n",
    "Actualment, hi ha una gran quantitat de conjunts de dades que representen una xarxa, per exemple, dades d'usuaris de xarxes socials, de trucades telefòniques o enviament de missatges, interaccions entre proteïnes o col·laboració entre científics.\n",
    "\n",
    "[Networkx](https://networkx.github.io/) no pot considerar-se una biblioteca de visualització de dades: el seu objectiu és proporcionar estructures de dades i algorismes que treballin sobre [grafs](https://en.wikipedia.org/wiki/graph_(discrete_mathematics)), cosa que permet l'estudi de xarxes. De totes maneres, la biblioteca inclou funcions bàsiques per a la visualització de grafs i és molt senzilla de fer servir, per això en aquest mòdul veurem alguns exemples de com visualitzar grafs amb Networkx, ajustant propietats (com la grandària i el color dels nodes i de les arestes) a les propietats del graf que ens interessi destacar.\n",
    "\n",
    "Hi ha altres biblioteques que permeten especificar amb molt més detall els dibuixos dels grafs que crearem, però són una mica més costoses d'aprendre. A més a més, sovint la generació de visualitzacions de grafs es fa amb programes externs especialitzats, com per exemple, [Gephi](https://gephi.org/) o [Cytoscape](http://www.cytoscape.org/).\n",
    "\n",
    "Podem generar una representació gràfica d'un graf [Networkx](https://networkx.github.io/) amb la funció `draw`."
   ]
  },
  {
   "cell_type": "code",
   "execution_count": null,
   "metadata": {},
   "outputs": [],
   "source": [
    "# Importem la biblioteca Networkx.\n",
    "import networkx as nx\n",
    "\n",
    "# Importem el graf del club de karate Zachary.\n",
    "G = nx.karate_club_graph()\n",
    "\n",
    "# Mostrem el graf.\n",
    "nx.draw(G)"
   ]
  },
  {
   "cell_type": "markdown",
   "metadata": {},
   "source": [
    "Networkx permet ajustar la visualització del graf seleccionant els colors i grandàries dels nodes i arestes i decidint la posició de cada node al plànol en funció d'un algorisme concret. Generarem una representació gràfica del graf anterior que representi el grau dels nodes amb la grandària."
   ]
  },
  {
   "cell_type": "code",
   "execution_count": null,
   "metadata": {},
   "outputs": [],
   "source": [
    "# Generem una nova figura.\n",
    "plt.figure(1, figsize=(12, 10))\n",
    "\n",
    "# Calculem les posicions dels nodes del graf al plànol amb l'algorisme\n",
    "# spring.\n",
    "graph_pos = nx.spring_layout(G)\n",
    "\n",
    "# Calculem el grau dels nodes del graf.\n",
    "d = nx.degree(G)\n",
    "\n",
    "# Mostrem els nodes del graf, especificant la posició, la grandària (en\n",
    "# funció del grau), el color i la transparència.\n",
    "nx.draw_networkx_nodes(G, graph_pos,\n",
    "                       node_size=[v[1] * 150 for v in d],\n",
    "                       node_color='blue',\n",
    "                       alpha=0.3)\n",
    "\n",
    "# Mostrem les arestes del graf especificant-ne la posició, el color i la\n",
    "# transparència.\n",
    "nx.draw_networkx_edges(G, graph_pos, edge_color='blue', alpha=0.3)\n",
    "\n",
    "# Mostrem les etiquetes indicant-ne la font i la grandària.\n",
    "a = nx.draw_networkx_labels(\n",
    "    G, graph_pos, font_size=12, font_family='sans-serif')"
   ]
  },
  {
   "cell_type": "markdown",
   "metadata": {},
   "source": [
    "També podem fer servir el color dels nodes per representar-ne propietats. Per exemple, el color es pot fer servir per representar la comunitat a què pertanyen. La comunitat a què pertany cada node pot obtenir-se de\n",
    "l'execució d'un algorisme de [detecció de comunitats](https://en.wikipedia.org/wiki/community_structure)."
   ]
  },
  {
   "cell_type": "code",
   "execution_count": null,
   "metadata": {},
   "outputs": [],
   "source": [
    "# Importem la biblioteca de detecció de comunitats.\n",
    "from networkx.algorithms.community.centrality import girvan_newman\n",
    "\n",
    "# Detectem les comunitats que hi ha al graf.\n",
    "communities = girvan_newman(G)\n",
    "\n",
    "node_groups = []\n",
    "for com in next(communities):\n",
    "    node_groups.append(list(com))\n",
    "\n",
    "print(node_groups)\n",
    "\n",
    "# Definim els colors que farem servir per als nodes.\n",
    "colors = ['green', 'blue', 'red', 'orange', 'yellow', 'magenta', 'white']\n",
    "\n",
    "# Per a cada comunitat detectada, en mostrem els nodes:\n",
    "for count, com in enumerate(node_groups):\n",
    "    # Mostrem els nodes, acolorits segons la comunitat a què pertanyen.\n",
    "    nx.draw_networkx_nodes(G, graph_pos, com,\n",
    "                           node_size=800,\n",
    "                           node_color=colors[count],\n",
    "                           alpha=0.5)\n",
    "\n",
    "# Mostrem les arestes del graf especificant-ne la posició, el color i la\n",
    "# transparència.\n",
    "nx.draw_networkx_edges(G, graph_pos, edge_color='k', alpha=0.3)\n",
    "\n",
    "# Mostrem les etiquetes indicant-ne la font i la grandària.\n",
    "a = nx.draw_networkx_labels(\n",
    "    G, graph_pos, font_size=12, font_family='sans-serif')"
   ]
  },
  {
   "cell_type": "markdown",
   "metadata": {},
   "source": [
    "# 4 Visualització de geolocalització\n",
    "\n",
    "En aquest apartat veurem potser tres elements que ens ajudaran a treballar i visualitzar elements de geolocalització. Per això veurem primer el format de `GeoJSON`, `geopandas` i finalment `folium`."
   ]
  },
  {
   "cell_type": "markdown",
   "metadata": {},
   "source": [
    "## 4.1 GeoJSON\n",
    "\n",
    "El format [GeoJSON](http://geojson.org/) permet codificar una varietat d'estructures de dades geogràfiques fent servir notació JSON. Amb GeoJSON es poden representar diferents objectes geomètrics com punts, línies o polígons, entre d'altres. A més, es poden assignar característiques addicionals als objectes geomètrics i representar-ne conjunts.\n",
    "\n",
    "Els objectes GeoJSON han de tenir la clau `type` , que defineix el tipus d'estructura geomètrica que es representa. Les coordenades geogràfiques s'inclouen a la clau «coordinates» seguint la convenció d'expressar primer la longitud i després la latitud. De manera opcional, també poden incloure altitud o elevació.\n",
    "\n",
    "Així, per exemple, un punt es representa de la manera següent:\n",
    "\n",
    "```\n",
    "     {\n",
    "         \"type\": \"Point\",\n",
    "         \"coordinates\": [100.0, 0.0]\n",
    "     }\n",
    "```\n",
    "\n",
    "I un polígon:\n",
    "\n",
    "```\n",
    "     {\n",
    "         \"type\": \"Polygon\",\n",
    "         \"coordinates\": [\n",
    "             [\n",
    "                 [100.0, 0.0],\n",
    "                 [101.0, 0.0],\n",
    "                 [101.0, 1.0],\n",
    "                 [100.0, 1.0],\n",
    "                 [100.0, 0.0]\n",
    "             ]\n",
    "         ]\n",
    "     }\n",
    "```"
   ]
  },
  {
   "cell_type": "markdown",
   "metadata": {},
   "source": [
    "## 4.2 geopandas\n",
    "\n",
    "GeoPandas, com el seu nom indica, amplia la  biblioteca de ciències de dades `pandas` que ja hem vist a l'assignatura, tot afegint suport per a dades geoespacials. \n",
    "\n",
    "![entendre pandas](https://raw.githubusercontent.com/rbuj-UOC/python_datascience/refs/heads/master/python_1/unit_8/media/geopandas.avif) \n",
    "\n",
    "L'estructura de dades bàsica de GeoPandas és `geopandas.GeoDataFrame`, una subclasse de `pandas.DataFrame`, que pot emmagatzemar columnes de geometria i fer operacions espacials. \n",
    "\n",
    "Al seu torn, `geopandas.GeoSerie`, una subclasse de `pandas.Series`, gestiona les geometries. El `GeoDataFrame` és, per tant, una combinació de `pandas.Series`, amb dades tradicionals (numèriques, booleanes, text, etc.) i `geopandas.GeoSeries`, amb geometries (punts, polígons, etc.). Podeu tenir tantes columnes amb geometries com vulgueu.\n",
    "\n",
    "Veureu al codi que hi ha un mòdul anomenat `shapely` que ens proporciona classes per als diferents objectes geomètrics que necessitem fer servir, com per exemple, un punt (`shapely.geometry.Point`)."
   ]
  },
  {
   "cell_type": "code",
   "execution_count": null,
   "metadata": {},
   "outputs": [],
   "source": [
    "# Importem la biblioteca geopandas.\n",
    "import geopandas as gpd\n",
    "import pandas as pd\n",
    "\n",
    "from shapely.geometry import Point\n",
    "\n",
    "# Carreguem el fitxer bus.csv, que conté coordenades geogràfiques de parades\n",
    "# d'autobusos.\n",
    "df = pd.read_csv('data/bus.csv')\n",
    "\n",
    "df.head()"
   ]
  },
  {
   "cell_type": "markdown",
   "metadata": {},
   "source": [
    "Ara que tenim informació de latitud i longitud podem crear punts. \n",
    "\n",
    "Un punt és essencialment un únic objecte que descriu la longitud i la latitud d'un punt de dades. L'ús de la comprensió de llista ens permetrà fer-ho en una línia, però assegureu-vos d'especificar sempre la columna `Longitud` abans de la columna `Latitud`:"
   ]
  },
  {
   "cell_type": "code",
   "execution_count": null,
   "metadata": {},
   "outputs": [],
   "source": [
    "geometria = [Point(xy) for xy in zip(df.lon, df.lat)]\n",
    "geometria[:5]"
   ]
  },
  {
   "cell_type": "markdown",
   "metadata": {},
   "source": [
    "Es pot veure que un punt és, de fet, un punt:"
   ]
  },
  {
   "cell_type": "code",
   "execution_count": null,
   "metadata": {},
   "outputs": [],
   "source": [
    "geometria[0]"
   ]
  },
  {
   "cell_type": "markdown",
   "metadata": {},
   "source": [
    "I ara podem crear un `GeoDataFrame`. Veureu que fem servir un paràmetre que indica com hem d'interpretar les coordenades en funció de la codificació indicada per [CRS](https://geopandas.org/en/stable/docs/user_guide/projections.html). Aquí habitualment indicarem el codi \"EPSG:4326\", per indicar l'estàndard *WGS84 Latitude/Longitude*."
   ]
  },
  {
   "cell_type": "code",
   "execution_count": null,
   "metadata": {},
   "outputs": [],
   "source": [
    "gdf = gpd.GeoDataFrame(df,  # El dataframe de pandas normal\n",
    "                       crs='EPSG:4326',\n",
    "                       geometry=geometria)\n",
    "# La geometria en aquest cas és una llista de punts\n",
    "\n",
    "gdf.head()\n",
    "# Com veiem, ara hem afegit a la columna de geometria, específica de\n",
    "# geopandas, la informació de punts"
   ]
  },
  {
   "cell_type": "markdown",
   "metadata": {},
   "source": [
    "Podem utilitzar el mètode `.explore()` per mostrar els punts de l'objecte anterior sobre un mapa. \n",
    "\n",
    "El mètode és força configurable i en podeu trobar més detalls al [manual](https://geopandas.org/en/stable/docs/reference/api/geopandas.GeoDataFrame.explore.html). En aquest cas, modifiquem la funció per canviar el color i les propietats dels marcadors. "
   ]
  },
  {
   "cell_type": "code",
   "execution_count": null,
   "metadata": {},
   "outputs": [],
   "source": [
    "gdf.explore(\"name\",\n",
    "            legend=False,\n",
    "            marker_kwds={\"fill\": \"False\",\n",
    "                         \"radius\": 0.5},\n",
    "            style_kwds={\"stroke\": False,\n",
    "                        \"fillColor\": \"blue\",\n",
    "                        \"opacity\": 0.2})"
   ]
  },
  {
   "cell_type": "markdown",
   "metadata": {},
   "source": [
    "### 4.2.1 Àrees\n",
    "\n",
    "Ara farem servir un *dataset* amb els barris de Nova York. Aquest *dataset* ve d'exemple a GeoPandas i el podem importar de la manera següent:"
   ]
  },
  {
   "cell_type": "code",
   "execution_count": null,
   "metadata": {},
   "outputs": [],
   "source": [
    "import geodatasets as gds\n",
    "\n",
    "path_to_data = gds.get_path(\"nybb\")\n",
    "gdf = gpd.read_file(path_to_data)\n",
    "\n",
    "gdf"
   ]
  },
  {
   "cell_type": "markdown",
   "metadata": {},
   "source": [
    "Com veieu, aquest *dataset* conté cinc àrees de la zona de NY, en què a la columna geometria tenim, de fet, la definició de les àrees de cada zona, en comptes de punts com a l'exemple anterior. Podem veure què conté el segon element de la columna geometria (Queens), en què de fet, veurem la representació de l'objecte *multipolygon*."
   ]
  },
  {
   "cell_type": "code",
   "execution_count": null,
   "metadata": {},
   "outputs": [],
   "source": [
    "gdf.geometry[1]"
   ]
  },
  {
   "cell_type": "markdown",
   "metadata": {},
   "source": [
    "Podem representar tots el barris com en l'exemple anterior, o bé amb plot"
   ]
  },
  {
   "cell_type": "code",
   "execution_count": null,
   "metadata": {},
   "outputs": [],
   "source": [
    "gdf.plot()"
   ]
  },
  {
   "cell_type": "markdown",
   "metadata": {},
   "source": [
    "o bé amb el mètode `explore`:"
   ]
  },
  {
   "cell_type": "code",
   "execution_count": null,
   "metadata": {},
   "outputs": [],
   "source": [
    "gdf.explore(\"BoroName\", legend=True)"
   ]
  },
  {
   "cell_type": "markdown",
   "metadata": {
    "attributes": {
     "classes": [
      "sourceCode"
     ],
     "id": ""
    }
   },
   "source": [
    "Per mesurar l'àrea de cada polígon (o MultiPolygon en aquest cas concret), podem utilitzar l'atribut `GeoDataFrame.area`, que retorna un `pandas.Series`. \n",
    "\n",
    "Podem trobar els atributs directament de l'objecte `GeoDataFrame`:"
   ]
  },
  {
   "cell_type": "code",
   "execution_count": null,
   "metadata": {},
   "outputs": [],
   "source": [
    "gdf.area"
   ]
  },
  {
   "cell_type": "markdown",
   "metadata": {},
   "source": [
    "Si fixem l'índex del dataframe als noms dels barris, la sortida és més interpretable:"
   ]
  },
  {
   "cell_type": "code",
   "execution_count": null,
   "metadata": {},
   "outputs": [],
   "source": [
    "gdf = gdf.set_index(\"BoroName\")\n",
    "gdf.area"
   ]
  },
  {
   "cell_type": "markdown",
   "metadata": {},
   "source": [
    "### 4.2.2 Centroides i càlcul de distàncies\n",
    "\n",
    "Donat un polígon (o un multipolígon, en aquest cas), podem calcular el centroide o punt mitjà del polígon (representant el punt mitjà del barri, o la coordenada mitjana del barri). Aquesta és, de fet, una de les propietats que podem llegir, per exemple: "
   ]
  },
  {
   "cell_type": "code",
   "execution_count": null,
   "metadata": {},
   "outputs": [],
   "source": [
    "queens = gdf.loc[\"Queens\", \"geometry\"].centroid\n",
    "brooklyn = gdf.loc[\"Brooklyn\", \"geometry\"].centroid"
   ]
  },
  {
   "cell_type": "code",
   "execution_count": null,
   "metadata": {},
   "outputs": [],
   "source": [
    "type(queens)"
   ]
  },
  {
   "cell_type": "code",
   "execution_count": null,
   "metadata": {},
   "outputs": [],
   "source": [
    "str(queens)"
   ]
  },
  {
   "cell_type": "code",
   "execution_count": null,
   "metadata": {},
   "outputs": [],
   "source": [
    "queens"
   ]
  },
  {
   "cell_type": "markdown",
   "metadata": {},
   "source": [
    "Amb dos punts en les dues variables, ja podem, de fet, calcular la distància entre els centroides dels dos barris. Això és ben fàcil de fer mitjançant el mètode `distance`."
   ]
  },
  {
   "cell_type": "code",
   "execution_count": null,
   "metadata": {},
   "outputs": [],
   "source": [
    "queens.distance(brooklyn)"
   ]
  },
  {
   "cell_type": "markdown",
   "metadata": {},
   "source": [
    "## 4.3 Folium"
   ]
  },
  {
   "cell_type": "markdown",
   "metadata": {
    "attributes": {
     "classes": [
      "sourceCode"
     ],
     "id": ""
    }
   },
   "source": [
    "`folium`  facilita la visualització de les dades que s'han manipulat a Python en un mapa interactiu. Permet tant l'enllaç de dades a un mapa per a visualitzacions, com incloure marcadors en el mapa i altres objectes com ara imatges, vídeos, `GeoJSON` i `TopoJSON`.\n",
    "\n",
    "Així mateix, també admet l'ús de sèrie d'OpenStreetMap, Mapbox i Stamen, i, amb claus API, l'ús de Mapbox o Cloudmade."
   ]
  },
  {
   "cell_type": "markdown",
   "metadata": {},
   "source": [
    "La manera més senzilla de representar un mapa és a partir d'unes coordenades:\n"
   ]
  },
  {
   "cell_type": "code",
   "execution_count": null,
   "metadata": {},
   "outputs": [],
   "source": [
    "import folium\n",
    "\n",
    "B = folium.Map(location=[41.38879, 2.15899])"
   ]
  },
  {
   "cell_type": "markdown",
   "metadata": {},
   "source": [
    "per representar el mapa senzillament avaluarem la variable,"
   ]
  },
  {
   "cell_type": "code",
   "execution_count": null,
   "metadata": {},
   "outputs": [],
   "source": [
    "B"
   ]
  },
  {
   "cell_type": "markdown",
   "metadata": {},
   "source": [
    "Es poden incloure marcadors amb la funció `Marker`, per exemple: si volem incloure un marcador sobre la Sagrada Família de Barcelona (Lat = 41.403706, Lon= 2.173504), faríem:"
   ]
  },
  {
   "cell_type": "code",
   "execution_count": null,
   "metadata": {},
   "outputs": [],
   "source": [
    "folium.Marker(\n",
    "    [41.403706, 2.173504],\n",
    "    popup=\"<i>Sagrada Familia</i>\",\n",
    "    tooltip=\"Clica per veure les propietats\"\n",
    ").add_to(B)\n",
    "# Podem afegir tants marcadors com vulguem"
   ]
  },
  {
   "cell_type": "code",
   "execution_count": null,
   "metadata": {},
   "outputs": [],
   "source": [
    "B"
   ]
  },
  {
   "cell_type": "markdown",
   "metadata": {},
   "source": [
    "`folium` també ens deixa canviar els colors o fins i tot les icones dels marcadors, això ho podem fer amb l'argument `icon`. Cal tenir en compte que tenim realment moltes icones disponibles, les podeu trobar anant a l'ajuda d'Icon amb `help(folium.Icon)`. \n",
    "\n",
    "També podem afegir-hi altres elements com, per exemple, marcadors circulars, o cercles, amb `CircleMarker` i `Circle` (el primer té propietats de marcador, el segon és senzillament un cercle)."
   ]
  },
  {
   "cell_type": "code",
   "execution_count": null,
   "metadata": {},
   "outputs": [],
   "source": [
    "# Com podem canviar les icones\n",
    "folium.Marker(\n",
    "    location=[41.3857, 2.1639],\n",
    "    popup=\"Plaça Universitat\",\n",
    "    icon=folium.Icon(color=\"red\", icon=\"info-sign\"),\n",
    ").add_to(B)\n",
    "\n",
    "# incloure un cercle\n",
    "folium.Circle(\n",
    "    radius=1000,\n",
    "    location=[41.3794, 2.1406],\n",
    "    popup=\"Sants Estació\",\n",
    "    color=\"green\",\n",
    "    fill=False\n",
    ").add_to(B)\n",
    "\n",
    "# incloure un Marcador d'àrea circular\n",
    "folium.Circle(\n",
    "    radius=1000,\n",
    "    location=[41.3838, 2.1180],\n",
    "    popup=\"Zona Universitaria\",\n",
    "    color=\"green\",\n",
    "    fill=False\n",
    ").add_to(B)\n",
    "\n",
    "B"
   ]
  },
  {
   "cell_type": "markdown",
   "metadata": {},
   "source": [
    "# 5 Visualització interactiva i creació de quadres de comandament o dashboards\n",
    "\n",
    "De moment, començarem per explicar amb més detall les biblioteques de visualització interactiva: `bokeh` i `ipywidgets`. "
   ]
  },
  {
   "cell_type": "markdown",
   "metadata": {},
   "source": [
    "## 5.1 bokeh\n",
    "\n",
    "[`bokeh`](https://bokeh.org) és una biblioteca de codi obert que facilita la creació de trames comunes, però també pot gestionar casos d'ús personalitzats o especialitzats. \n",
    "\n",
    "Bokeh representa les seves gràfiques fent servir HTML i JavaScript que utilitzen navegadors web moderns per presentar una construcció elegant amb interactivitat d'alt nivell.\n",
    "\n",
    "Algunes de les característiques de Bokeh són:\n",
    "\n",
    "- Flexibilitat: el bokeh es pot fer servir per a visualitzacions senzilles i també complexes.\n",
    "- Productivitat: la seva interacció amb altres eines populars de Pydata (com Pandas i el quadern Jupyter) és molt fàcil.\n",
    "- Interactivitat: capacitat de visualitzacions interactives.\n",
    "- Compartible: les dades visuals es poden compartir i també es poden representar en quaderns de Jupyter.\n",
    "- Codi obert: `bokeh` és un projecte de codi obert."
   ]
  },
  {
   "cell_type": "markdown",
   "metadata": {},
   "source": [
    "Podem posar un primer exemple amb l'ús de la directiva `line`, en què veureu que és de fet força fàcil representar una línia. Veureu que la figura és interactiva i podem moure-la amb el ratolí arrossegant a sobre de la figura. \n",
    "\n",
    "Els passos per generar la figura són: \n",
    "\n",
    "- Crear una instància d'un plot, amb `figure()`, i assignant-la a una variable (`graph`) en l'exemple\n",
    "- Invocar el mètode de representació seleccionat dintre de la variable `graph`\n",
    "- En el cas de notebooks del Jupyter, especificar que la sortida és al notebook amb `output_notebook()`\n",
    "- Invocar la representació de la figura amb el mètode `show()`"
   ]
  },
  {
   "cell_type": "code",
   "execution_count": null,
   "metadata": {},
   "outputs": [],
   "source": [
    "# importing the modules\n",
    "from bokeh.plotting import figure, output_notebook, show\n",
    "\n",
    "# Crear una instància d'un plot\n",
    "graph = figure(title=\"Figura amb una línia\")\n",
    "\n",
    "# definim dues llistes amb les coordenades\n",
    "x = [1, 2, 3, 4, 5]\n",
    "y = [1, 3, 2, 4, 3]\n",
    "\n",
    "# invoquem al mètode line()\n",
    "graph.line(x, y)\n",
    "\n",
    "# especificar que la sortida és al notebook i representar\n",
    "output_notebook()\n",
    "show(graph)"
   ]
  },
  {
   "cell_type": "markdown",
   "metadata": {},
   "source": [
    "Hi ha altres primitives de visualització que podem fer servir, com `rect`, `square` o `ellipse`. "
   ]
  },
  {
   "cell_type": "code",
   "execution_count": null,
   "metadata": {},
   "outputs": [],
   "source": [
    "from bokeh.plotting import figure, output_notebook, show\n",
    "\n",
    "fig = figure(width=300, height=300)\n",
    "fig.rect(x=10, y=6,\n",
    "         width=10, height=15,\n",
    "         color=\"blue\", alpha=0.5)\n",
    "fig.scatter(marker='square',\n",
    "            x=15, y=8,\n",
    "            size=80,\n",
    "            color='red', alpha=0.3)\n",
    "fig.ellipse(x=5, y=6,\n",
    "            width=30, height=10,\n",
    "            fill_color='green', alpha=0.2)\n",
    "output_notebook()\n",
    "\n",
    "\n",
    "show(fig)"
   ]
  },
  {
   "cell_type": "markdown",
   "metadata": {},
   "source": [
    "Podem veure un exemple amb més detall en què introduirem diverses comandes per controlar. Aquí, per exemple, farem servir `vbar` per fer un diagrama de barres de pluja diària i una línia per a l'acumulat. Veurem també com modifiquem les propietats de la figura, incloent-hi la posició de la caixa d'eines de `bokeh`. \n"
   ]
  },
  {
   "cell_type": "code",
   "execution_count": null,
   "metadata": {},
   "outputs": [],
   "source": [
    "import numpy as np\n",
    "from bokeh.plotting import figure, show\n",
    "from bokeh.io import output_notebook\n",
    "\n",
    "# definir les dades a representar, en aquest cas valors de pluja aleatoris\n",
    "rain = np.random.uniform(0, 1, 14)*1000\n",
    "\n",
    "days = np.linspace(1, 10, len(rain))\n",
    "\n",
    "cumulative_rain = np.cumsum(rain)\n",
    "\n",
    "# Creem la figura\n",
    "fig = figure(title='pluja diaria',\n",
    "             height=400, width=700,\n",
    "             x_axis_label='dies',\n",
    "             y_axis_label='pluja',\n",
    "             x_minor_ticks=2,\n",
    "             y_range=(0, 6000),\n",
    "             toolbar_location=\"below\")\n",
    "\n",
    "# Diagrama de barres per a la pluja diària\n",
    "fig.vbar(x=days, bottom=0, top=rain,\n",
    "         color='blue', width=0.75,\n",
    "         legend_label='Diari ')\n",
    "\n",
    "# i l'acumulada amb una línia\n",
    "fig.line(x=days, y=cumulative_rain,\n",
    "         color='red',\n",
    "         line_width=3,\n",
    "         legend_label='Acumulat')\n",
    "\n",
    "# llegenda a dalt a l'esquerra\n",
    "fig.legend.location = 'top_left'\n",
    "\n",
    "# representar\n",
    "output_notebook()\n",
    "\n",
    "show(fig)"
   ]
  },
  {
   "cell_type": "markdown",
   "metadata": {},
   "source": [
    "A `bokeh` també és possible recuperar les dades des d'objectes de pandas. Per això cal crear una *font* a partir de l'objecte dataframe del `pandas` amb la funció `ColumnDataSource()`. \n",
    "\n",
    "En l'exemple següent també hi hem inclòs un exemple de com podem modificar la caixa d'eines de manera que puguem incloure les icones a mida; per exemple, podem modificar els estris de selecció de punts de manera que quan creem la figura li indiquem quins vol veure l'usuari amb la propietat `tools`. "
   ]
  },
  {
   "cell_type": "code",
   "execution_count": null,
   "metadata": {},
   "outputs": [],
   "source": [
    "import pandas as pd\n",
    "import seaborn as sns\n",
    "import numpy as np\n",
    "\n",
    "from bokeh.models import ColumnDataSource\n",
    "from bokeh.plotting import figure, show\n",
    "from bokeh.io import output_notebook\n",
    "\n",
    "# Importem un dataset de seaborn\n",
    "df = sns.load_dataset(\"iris\")\n",
    "\n",
    "# Definim el nom de la font del dataframe\n",
    "data = ColumnDataSource(df)"
   ]
  },
  {
   "cell_type": "code",
   "execution_count": null,
   "metadata": {},
   "outputs": [],
   "source": [
    "select_tools = ['box_select', 'lasso_select', 'poly_select', 'tap', 'reset']\n",
    "\n",
    "fig = figure(width=500, height=400,\n",
    "             toolbar_location='below',\n",
    "             tools=select_tools)\n",
    "\n",
    "fig.scatter(marker='square',\n",
    "            x='sepal_width',  # Nom de la columna al dataframe\n",
    "            y='petal_length',  # Nom de la columna al dataframe\n",
    "            source=data,   # Nom del la font del dataframe\n",
    "            color='royalblue',\n",
    "            selection_color='orange',\n",
    "            nonselection_color='lightgray',\n",
    "            nonselection_alpha=0.3)\n",
    "\n",
    "# representar\n",
    "output_notebook()\n",
    "\n",
    "show(fig)"
   ]
  },
  {
   "cell_type": "markdown",
   "metadata": {},
   "source": [
    "## 5.2 ipywidgets \n",
    "\n",
    "`ipywidgets` és un conjunt de funcions que permeten interactivitat directament dintre d'un notebook.   \n",
    "\n",
    "Aquesta biblioteca proporciona una llista de ginys força comuns a les aplicacions web i als taulers de control. Entre aquests ginys, hi trobem menús desplegables, caselles de selecció o botons d'opció, per exemple. Us permetrà codificar un sistema interactiu purament des de Python i la generació de ginys i interactivitat es crea en el fons via JavaScript. \n",
    "\n",
    "De manera semblant a les altres alternatives que hem descrit de visualitzacions interactives, amb ipywidgets no hem d'aprendre JavaScript per construir-les. Senzillament, podem emprar Python fent servir ipywidgets per fer un dashboard o una interfície interactiva."
   ]
  },
  {
   "cell_type": "markdown",
   "metadata": {},
   "source": [
    "### 5.2.1 interact\n",
    "\n",
    "Potser una de les funcions més interessants d'`ipywidgets` és `interact`. Mitjançant interact podem passar una funció com argument a la funció, i aquesta funció es tornarà automàticament interactiva. Per exemple, si definim una funció com aquesta:"
   ]
  },
  {
   "cell_type": "code",
   "execution_count": null,
   "metadata": {},
   "outputs": [],
   "source": [
    "def print_me(x):\n",
    "    print(\"El valor de x és %.1f, \"\n",
    "          \"el valor del quadrat de x és %.1f\" % (x, x*x))"
   ]
  },
  {
   "cell_type": "markdown",
   "metadata": {},
   "source": [
    "La podem convertir ara en interactiva amb una crida a interact. Veureu una barra amb què podeu interaccionar amb el ratolí modificant el valor de l'argument de la funció des del notebook."
   ]
  },
  {
   "cell_type": "code",
   "execution_count": null,
   "metadata": {},
   "outputs": [],
   "source": [
    "from ipywidgets import interact\n",
    "interact(print_me, x=1.)"
   ]
  },
  {
   "cell_type": "markdown",
   "metadata": {},
   "source": [
    "Cal tenir en compte que el tipus de widget depèn del tipus de la variable d'entrada a la funció. Per veure-ho en fem una versió genèrica i provem amb diferents tipus d'entrada. Veureu que el tipus de la variable el modifiquem alterant el valor per defecte de l'argument (el `x=1.` del cas anterior).\n",
    "\n",
    "Veiem l'efecte d'incloure un booleà i un text."
   ]
  },
  {
   "cell_type": "code",
   "execution_count": null,
   "metadata": {},
   "outputs": [],
   "source": [
    "def print_me(x):\n",
    "    print(x)"
   ]
  },
  {
   "cell_type": "code",
   "execution_count": null,
   "metadata": {},
   "outputs": [],
   "source": [
    "interact(print_me, x=False)"
   ]
  },
  {
   "cell_type": "code",
   "execution_count": null,
   "metadata": {},
   "outputs": [],
   "source": [
    "interact(print_me, x=\"hola\")"
   ]
  },
  {
   "cell_type": "markdown",
   "metadata": {},
   "source": [
    "Fixeu-vos com el text s'actualitza a cada modificació de l'entrada volent dir que la funció es crida després de cada caràcter entrat."
   ]
  },
  {
   "cell_type": "markdown",
   "metadata": {},
   "source": [
    "Si ens fixem en la sintaxi anterior, interact és una funció que fa servir una funció com a argument d'entrada. Això és, de fet, semblant al comportament dels *decoradors*, i de fet ens permet fer servir `interact` com un decorador. \n",
    "\n",
    "Podeu veure més informació sobre els decoradors [aquí](https://towardsdatascience.com/how-to-use-decorators-in-python-by-example-b398328163b).  Això fa que la semàntica d'ús d'interact se simplifiqui. Veiem l'últim exemple en format decorador.  "
   ]
  },
  {
   "cell_type": "code",
   "execution_count": null,
   "metadata": {},
   "outputs": [],
   "source": [
    "@interact(x=\"hola\")\n",
    "def print_me(x):\n",
    "    print(x)"
   ]
  },
  {
   "cell_type": "markdown",
   "metadata": {},
   "source": [
    "És interessant pensar com això en conjunció amb altres biblioteques que hem vist a l'assignatura pot fer visualitzacions ràpides i prou efectives."
   ]
  },
  {
   "cell_type": "code",
   "execution_count": null,
   "metadata": {},
   "outputs": [],
   "source": [
    "import seaborn as sns\n",
    "from ipywidgets import interact\n",
    "df = sns.load_dataset(\"diamonds\")\n",
    "df.head()"
   ]
  },
  {
   "cell_type": "code",
   "execution_count": null,
   "metadata": {},
   "outputs": [],
   "source": [
    "@interact\n",
    "def filtrar_df(column='carat', x=4):\n",
    "    return df.loc[df[column] > x]"
   ]
  },
  {
   "cell_type": "markdown",
   "metadata": {},
   "source": [
    "o bé amb figures com a aquest exemple:"
   ]
  },
  {
   "cell_type": "code",
   "execution_count": null,
   "metadata": {},
   "outputs": [],
   "source": [
    "import seaborn as sns\n",
    "df = sns.load_dataset(\"iris\")\n",
    "\n",
    "\n",
    "@interact\n",
    "def plot_df(x=3.5):\n",
    "    f, ax = plt.subplots(figsize=(6.5, 6.5))\n",
    "    sns.scatterplot(x=\"petal_width\", y=\"petal_length\",\n",
    "                    hue=\"species\",\n",
    "                    sizes=(1, 8), linewidth=0,\n",
    "                    data=df.loc[df['sepal_length'] > x], ax=ax)"
   ]
  },
  {
   "cell_type": "markdown",
   "metadata": {},
   "source": [
    "### 5.2.2 Múltiples arguments \n",
    "\n",
    "Podem fer servir interact amb funcions amb dos o més arguments, i dotar d'interactivitat uns mentre d'altres els *fixem* amb l'ajut de la comanda `fixed`."
   ]
  },
  {
   "cell_type": "code",
   "execution_count": null,
   "metadata": {},
   "outputs": [],
   "source": [
    "from ipywidgets import interact, fixed\n",
    "\n",
    "\n",
    "def mult_add(a, b, c):\n",
    "    print(a*b+c)\n",
    "\n",
    "\n",
    "interact(mult_add, a=1, b=2, c=fixed(10))"
   ]
  },
  {
   "cell_type": "markdown",
   "metadata": {},
   "source": [
    "Si volem definir un rang de valors, o bé un conjunt de valors per seleccionar, podem fer servir una **tupla amb el rang de valors** per al primer cas, o una **llista amb els possibles valors a seleccionar** per al segon. Per exemple:"
   ]
  },
  {
   "cell_type": "code",
   "execution_count": null,
   "metadata": {},
   "outputs": [],
   "source": [
    "from ipywidgets import interact, fixed\n",
    "\n",
    "\n",
    "def mult_add(a, b, op):\n",
    "    if op == \"add\":\n",
    "        print(a+b)\n",
    "    if op == \"mult\":\n",
    "        print(a*b)\n",
    "\n",
    "\n",
    "interact(mult_add, a=(1, 10), b=[-5, -2.5, 0, 2.5, 5], op=[\"add\", \"mult\"])"
   ]
  },
  {
   "cell_type": "markdown",
   "metadata": {},
   "source": [
    "### 5.2.3 Crear instàncies de widgets\n",
    "\n",
    "El que hem vist fins ara és com `interact` crea instàncies de ginys o eines d'interactivitat de manera automàtica, però aquests ginys els podem crear manualment amb el mòdul `widgets`. Els ginys que potser es fan servir més són: \n",
    "- [IntSlider](https://ipywidgets.readthedocs.io/en/latest/examples/Widget%20List.html#IntSlider), \n",
    "- [FloatSlider](https://ipywidgets.readthedocs.io/en/latest/examples/Widget%20List.html#FloatSlider), \n",
    "- [Dropdown](https://ipywidgets.readthedocs.io/en/latest/examples/Widget%20List.html#Dropdown), \n",
    "- [Text](https://ipywidgets.readthedocs.io/en/latest/examples/Widget%20List.html#Text), i  \n",
    "- [Checkbox](https://ipywidgets.readthedocs.io/en/latest/examples/Widget%20List.html#Checkbox). \n",
    "\n",
    "Per a cadascun d'ells podem passar un paràmetre de descripció amb cada widget, ja que crearà una etiqueta al costat del widget. Fins i tot podem passar fórmules matemàtiques en format LaTeX com a cadena al paràmetre de descripció i també crearà la fórmula.\n",
    "\n",
    "Crear el widgets manualment ens donarà més llibertat a com dotar d'interactivitat un programa."
   ]
  },
  {
   "cell_type": "markdown",
   "metadata": {},
   "source": [
    "Podem veure l'efecte de la creació del giny i com podem controlar-ne millor els paràmetres. "
   ]
  },
  {
   "cell_type": "code",
   "execution_count": null,
   "metadata": {},
   "outputs": [],
   "source": [
    "from ipywidgets import interact, fixed, widgets\n",
    "\n",
    "widgets.IntSlider(min=-10, max=30, step=1, value=10)"
   ]
  },
  {
   "cell_type": "markdown",
   "metadata": {},
   "source": [
    "i usar-lo junt amb interact"
   ]
  },
  {
   "cell_type": "code",
   "execution_count": null,
   "metadata": {},
   "outputs": [],
   "source": [
    "def print_me(x):\n",
    "    print(x)\n",
    "\n",
    "\n",
    "interact(print_me, x=widgets.IntSlider(min=-10, max=30, step=1, value=10))"
   ]
  },
  {
   "cell_type": "code",
   "execution_count": null,
   "metadata": {},
   "outputs": [],
   "source": [
    "from ipywidgets import interact, widgets\n",
    "\n",
    "\n",
    "def print_me(x):\n",
    "    print(x)\n",
    "\n",
    "\n",
    "interact(print_me, x=widgets.Dropdown(options=['Galileo', 'Brahe', 'Hubble']))"
   ]
  },
  {
   "cell_type": "code",
   "execution_count": null,
   "metadata": {},
   "outputs": [],
   "source": [
    "from ipywidgets import interact, widgets\n",
    "\n",
    "\n",
    "def print_me(x):\n",
    "    print(x)\n",
    "\n",
    "\n",
    "interact(print_me, x=widgets.Dropdown(\n",
    "    options=[(\"binari\", 2), ('decimal', 10), (\"hexa\", 16)]))"
   ]
  },
  {
   "cell_type": "markdown",
   "metadata": {},
   "source": [
    "Hi ha altres tipus de ginys, com, per exemple"
   ]
  },
  {
   "cell_type": "code",
   "execution_count": null,
   "metadata": {},
   "outputs": [],
   "source": [
    "from ipywidgets import interact, widgets\n",
    "\n",
    "\n",
    "def print_me(x):\n",
    "    print(x)\n",
    "\n",
    "\n",
    "interact(print_me, x=widgets.DatePicker(value=pd.to_datetime('2018-01-01')))"
   ]
  },
  {
   "cell_type": "markdown",
   "metadata": {},
   "source": [
    "### 5.2.4 Creant interfícies d'usuari\n",
    "\n",
    "Un cop hem vist els ginys i l'ús d'`interact`, podem crear interfícies d'usuari amb l'ajut de la funció `interactive_output`.  Aquesta funció ens permet crear petites interfícies amb més control que `interact` i també ens permet separar la declaració de ginys i la seva visualització. Veureu, en l'exemple següent, que els ginys que es declaren només es mostren en pantalla quan es crida la funció `display`."
   ]
  },
  {
   "cell_type": "code",
   "execution_count": null,
   "metadata": {},
   "outputs": [],
   "source": [
    "from ipywidgets import widgets\n",
    "import numpy as np\n",
    "import matplotlib.pylab as plt\n",
    "\n",
    "m = widgets.FloatSlider(min=-1, max=1, step=0.1, description=\"freq\")\n",
    "c = widgets.FloatSlider(min=-1, max=1, step=0.1, description=\"fase\")\n",
    "\n",
    "# Aquí usem HBox, per incloure els dos ginys un al costat de l'altre\n",
    "ui = widgets.HBox([m, c])\n",
    "\n",
    "\n",
    "def plot(m, c):\n",
    "    n = np.linspace(0, 10, 100)\n",
    "    x = n*np.sin(n)\n",
    "    y = n*np.cos(m*n+c)\n",
    "    plt.plot(x, y)\n",
    "    plt.show()\n",
    "\n",
    "\n",
    "out = widgets.interactive_output(plot, {'m': m, 'c': c})"
   ]
  },
  {
   "cell_type": "code",
   "execution_count": null,
   "metadata": {},
   "outputs": [],
   "source": [
    "# la interfície només apareix quan cridem a display\n",
    "display(out, ui)"
   ]
  },
  {
   "cell_type": "markdown",
   "metadata": {},
   "source": [
    "### 5.2.5 Botons\n",
    "\n",
    "Finalment, també podem incloure botons en la interfície que ens permetin capturar un clic sobre del ratolí al botó i lligar-lo a l'execució d'alguna funció.\n",
    "\n",
    "Com que els clics dels botons són sense estat, es transmeten des del front-end al back-end mitjançant missatges personalitzats. Mitjançant el mètode `boto_clicat`, a continuació es mostra un botó que imprimeix un missatge quan s'ha fet clic.\n",
    "\n",
    "Per capturar impressions (o qualsevol altra mena de sortida) i assegurar-vos que es mostra, assegureu-vos d'enviar-la a un giny de sortida, que en aquest cas és `widget.Output()`. Aquest giny rebrà la dada emesa com en l'exemple:"
   ]
  },
  {
   "cell_type": "code",
   "execution_count": null,
   "metadata": {},
   "outputs": [],
   "source": [
    "from ipywidgets import widgets\n",
    "button = widgets.Button(description=\"Clica'm !\")\n",
    "output = widgets.Output()  # widget que recull la sortida\n",
    "\n",
    "display(button, output)  # Mostrem el widget\n",
    "\n",
    "\n",
    "def boto_clicat(x):  # funció que volem que es cridi quan cliquem el botó\n",
    "    with output:\n",
    "        print(\"Rebut!\")\n",
    "        print(x)\n",
    "\n",
    "\n",
    "# Aquí lliguem l'acció de clicar el botó amb la funció boto_clicat\n",
    "button.on_click(boto_clicat)"
   ]
  },
  {
   "cell_type": "markdown",
   "metadata": {},
   "source": [
    "# 6 Exercicis i preguntes teòriques\n",
    "\n",
    "La part avaluable d'aquesta unitat consisteix en el lliurament d'un fitxer IPython Notebook amb extensió IPYNB que contindrà els diferents exercicis i les preguntes teòriques que s'han de contestar. Trobareu el fitxer (`prog_datasci_8_entrega.ipynb`) amb les activitats a la mateixa carpeta que aquest notebook que esteu llegint."
   ]
  },
  {
   "cell_type": "markdown",
   "metadata": {},
   "source": [
    "## 6.1 Instruccions importants\n",
    "\n",
    "És molt important que a l'hora de lliurar el fitxer Notebook amb les vostres activitats us assegureu que:\n",
    "\n",
    "1. Les vostres solucions siguin originals. Esperem no detectar-hi còpia directa entre estudiants.\n",
    "2. Tot el codi estigui correctament documentat. El codi sense documentar equivaldrà a un 0.\n",
    "3. El fitxer comprimit que lliureu és correcte (conté les activitats de la PAC que heu de lliurar).\n",
    "\n",
    "Per fer el lliurament, heu d'anar a la carpeta del drive Colab Notebooks, clicant botó dret a la PAC en qüestió i fent Download. D'aquesta manera baixareu la carpeta de la PAC comprimida en zip. Aquest és el fitxer que heu de pujar al campus de virtual de l'assignatura."
   ]
  },
  {
   "cell_type": "markdown",
   "metadata": {},
   "source": [
    "# 7 Bibliografia\n",
    "\n",
    "* [Tutorial de Seaborn](https://seaborn.pydata.org/tutorial.html)\n",
    "* [Galeria d'exemples de Seaborn](https://seaborn.pydata.org/examples/index.html)\n",
    "* [Tutorial de Networkx](http://networkx.readthedocs.io/en/networkx-1.11/tutorial/)\n",
    "* [Exemples de visualització de grafs amb Networkx](https://networkx.readthedocs.io/en/stable/examples/drawing/index.html)\n",
    "* [Guia d'usuari de GeoPandas](https://geopandas.org/en/stable/docs.html)\n",
    "* [Guia d'usuari de bokeh](https://docs.bokeh.org/en/latest/docs/user_guide.html#userguide)\n",
    "* [Tutorial d'introducció a ipywidgets en vídeo](https://www.youtube.com/watch?v=HY7cf-CYs1o)\n",
    "* [Guia d'Introducció a la visualització de dades de la universitat de Duke](http://guides.library.duke.edu/datavis/vis_types)\n",
    "* [Catàleg de visualitzacions de Severino Ribecca](http://www.datavizcatalogue.com/)\n",
    "* [folium demo](https://github.com/gotoariel/folium-demo)\n",
    "* [folium documentation](https://python-visualization.github.io/folium/index.html)\n",
    "* [A Dramatic Tour through Python's Data Visualization Landscape](https://dsaber.com/2016/10/02/a-dramatic-tour-through-pythons-data-visualization-landscape-including-ggplot-and-altair/)\n",
    "* [Python data visualizations on the Iris dataset](https://www.kaggle.com/benhamner/python-data-visualizations)\n",
    "* [Matplotlib tutorials](https://matplotlib.org/stable/tutorials/index.html)\n",
    "* [pyplot tutorial](https://matplotlib.org/stable/tutorials/introductory/pyplot.html)"
   ]
  },
  {
   "cell_type": "code",
   "execution_count": null,
   "metadata": {},
   "outputs": [],
   "source": [
    "%load_ext watermark\n",
    "%watermark"
   ]
  },
  {
   "cell_type": "code",
   "execution_count": null,
   "metadata": {},
   "outputs": [],
   "source": [
    "%watermark --iversions"
   ]
  },
  {
   "cell_type": "markdown",
   "metadata": {},
   "source": [
    "# Autors"
   ]
  },
  {
   "cell_type": "markdown",
   "metadata": {},
   "source": [
    "- Autora original **Cristina Pérez Solà**, 2017.\n",
    "- Actualitzat per **Cristina Pérez Solà**, 2019.\n",
    "- Actualitzat per **Alexandre Perera i Lluna**, 2022."
   ]
  },
  {
   "cell_type": "markdown",
   "metadata": {},
   "source": [
    "<img src=\"data:image/avif;base64,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\" width=\"100\">"
   ]
  }
 ],
 "metadata": {
  "language_info": {
   "name": "python"
  }
 },
 "nbformat": 4,
 "nbformat_minor": 4
}
