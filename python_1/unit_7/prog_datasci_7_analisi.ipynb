{
 "cells": [
  {
   "cell_type": "markdown",
   "metadata": {},
   "source": [
    "<div style=\"display: grid; grid-template-columns: repeat(2, 1fr); align-items: end;\">\n",
    "    <div>\n",
    "        <img src=\"data:image/avif;base64,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\" width=\"300\">\n",
    "    </div>\n",
    "    <div>\n",
    "        <p style=\"margin: 0; text-align:right;\">22.401 · Fonaments de Programació</p>\n",
    "        <p style=\"margin: 0; text-align:right;\">Grau en Ciència de Dades Aplicada</p>\n",
    "        <p style=\"margin: 0; text-align:right;\">Estudis d'Informàtica, Multimèdia i Telecomunicació</p>\n",
    "    </div>\n",
    "</div>"
   ]
  },
  {
   "cell_type": "markdown",
   "metadata": {},
   "source": []
  },
  {
   "cell_type": "markdown",
   "metadata": {},
   "source": [
    "Fonaments de Programació\n",
    "============================\n",
    "\n",
    "--- \n",
    "\n",
    "Unitat 7: Anàlisi de dades en Python\n",
    "-----------------------------------------------------\n",
    "\n",
    "---\n",
    "# Instruccions d'ús\n",
    "\n",
    "Aquest document és un *notebook* interactiu que intercala explicacions més aviat teòriques de conceptes de programació amb fragments de codi executables. Per aprofitar els avantatges que aporta aquest format, us recomanem que, en primer lloc, llegiu les explicacions i el codi que us proporcionem. D'aquesta manera tindreu un primer contacte amb els conceptes que hi exposem. Ara bé, **la lectura és només el principi!** Una vegada hàgiu llegit el contingut, no oblideu executar el codi proporcionat i modificar-lo per crear-ne variants que us permetin comprovar que heu entès la seva funcionalitat i explorar-ne els detalls d'implementació. Per últim, us recomanem també consultar la documentació enllaçada per explorar amb més profunditat les funcionalitats dels mòduls presentats. "
   ]
  },
  {
   "cell_type": "code",
   "execution_count": null,
   "metadata": {},
   "outputs": [],
   "source": [
    "import os\n",
    "\n",
    "VERIFICA_ESTIL = False\n",
    "\n",
    "if os.getenv(\"COLAB_RELEASE_TAG\"):\n",
    "    # munta la unitat de google drive i accedeix a la carpeta de la unitat\n",
    "    from google.colab import drive\n",
    "    drive.mount('/content/drive')\n",
    "    %cd \"/content/drive/MyDrive/Colab Notebooks/python_datascience/python_1/unit_7\"\n",
    "\n",
    "# verificació de PEP8\n",
    "if VERIFICA_ESTIL:\n",
    "    print(\"habilitant verificació de l'estil PEP8\")\n",
    "    if os.getenv(\"COLAB_RELEASE_TAG\"):\n",
    "        print(\"instal·lant flake8, pycodestyle i pycodestyle_magic...\")\n",
    "        %pip install pycodestyle flake8 pycodestyle_magic\n",
    "    %load_ext pycodestyle_magic\n",
    "    %pycodestyle_on"
   ]
  },
  {
   "cell_type": "markdown",
   "metadata": {},
   "source": [
    "<a id='1-Introduccio'></a>\n",
    "# 1 Introducció\n",
    "\n",
    "L'anàlisi de dades i l'extracció d'informació i patrons a partir d'aquestes dades, la qual cosa es coneix com a mineria de dades, s'està convertint en peça clau en molts segments de l'economia: des d'oferir determinats descomptes a clients d'un supermercat sobre la base de les seves preferències de consum (adquirides per mitjà d'un programa de fidelització per punts, per exemple), fins a la classificació automàtica d'imatges a qualsevol xarxa social.\n",
    "\n",
    "En aquest mòdul treballarem amb biblioteques que ja hem presentat als mòduls anteriors ([NumPy](http://www.numpy.org/), [pandas](http://pandas.pydata.org/) i [scikit-learn](http://scikit-learn.org)). Aquest Notebook conté exemples concrets de tècniques que poden aplicar-se per analitzar les dades. Com al mòdul anterior, és important destacar que s'han seleccionat únicament algunes tècniques, però, a la pràctica, el conjunt de tècniques que s'apliquen per a l'anàlisi de dades és molt més extens. A més, per a la majoria d'exemples farem servir les configuracions per defecte incorporades a les biblioteques, però algunes de les funcions que provarem tenen multitud de paràmetres que podem ajustar."
   ]
  },
  {
   "cell_type": "markdown",
   "metadata": {},
   "source": [
    "# 2 Una petita introducció a l'aprenentatge automàtic\n",
    "\n",
    "L'aprenentatge automàtic (més conegut per la seva denominació en anglès, _machine learning_ o ML) és la branca de la intel·ligència artificial que engloba el conjunt de tècniques que permeten que els ordinadors aprenguin, és a dir, que siguin capaços de desenvolupar comportaments pels quals no han estat explícitament programats. En els últims anys, l'aprenentatge automàtic ha estat aplicat amb èxit a multitud de problemes, fent que avui dia fem servir aquest tipus de sistemes diàriament, de vegades sense ni tan sols ser-ne conscients. \n",
    "\n",
    "En el problema de l'aprenentatge es té en consideració una mostra d'_n_ observacions i, a partir d'elles, s'intenten predir propietats de dades desconegudes. Quan treballem amb dades multidimensionals, parlem de cadascun dels seus atributs com a característiques (en anglès _features_). Tornant a l'exemple del programa de descomptes a clients d'un supermercat, podríem entendre la mostra com el nombre de clients que tenen una targeta de punts (i l'han feta servir en alguna ocasió). Per a cadascun, tenim certes dades que hem pogut guardar: nombre de begudes gasoses comprades, nombre d'aliments d'origen vegetal, animal, etc. Aquestes dades que caracteritzen un determinat client és el que entendríem com a atributs. A partir d'aquests atributs, potser estaríem interessats a analitzar el consum d'aliments d'origen vegetal i no animal dels clients i llavors oferir-los determinats descomptes en productes d'origen «bio», per exemple, i augmentar la factura mensual d'aquests productes en la cadena de supermercats.\n",
    "\n",
    "Principalment, distingim dues categories d'algorismes d'aprenentatge automàtic: **supervisat** i **sense supervisió**.\n",
    "\n",
    "En l'aprenentatge automàtic supervisat, les dades contenen certs atributs que volem predir. Bé podem classificar-les en diferents categories (**classificació**) o potser ens interessarà predir una variable contínua sobre la base dels atributs coneguts (**regressió**).\n",
    "\n",
    "Un exemple de classificació podria ser, mitjançant un text escanejat, assignar a cada caràcter trobat una lletra ([reconeixement d'escriptura](https://es.wikipedia.org/wiki/Reconocimiento_%C3%B3ptico_de_caracteres), un problema clàssic). Quant a un exemple de regressió, podríem voler predir l'edat d'un gos sobre la base del seu pes, altura i color i longitud del pèl.\n",
    "\n",
    "En l'aprenentatge automàtic sense supervisió l'objectiu és descobrir noves propietats de les dades d'entrada, ja sigui agrupant-les per propietats similars (_**clustering**_), descobrint la distribució que segueixen (**estimació de la densitat**) o bé projectant-les en menys o més dimensions ([PCA](https://es.wikipedia.org/wiki/An%C3%A1lisis_de_componentes_principales), visualització, etc.)\n",
    "\n",
    "Sobre _clustering_, existeixen molts casos pràctics com per exemple l'agrupació de proteïnes sobre la base del seu pes atòmic o bé la segmentació de clients en un supermercat."
   ]
  },
  {
   "cell_type": "markdown",
   "metadata": {},
   "source": [
    "# 2.1. Validació creuada\n",
    "\n",
    "De vegades el resultat de l'aprenentatge automàtic és un model que representa el conjunt de dades i que ens servirà per predir-ne alguna característica. Una de les tècniques que permeten avaluar la capacitat de generalització del model après és la **validació creuada**. Una ronda de validació creuada consisteix en la separació del conjunt de mostres disponibles en dos subconjunts disjunts, el conjunt d'**aprenentatge** i el conjunt de **validació** o test. El conjunt de mostres d'aprenentatge s'utilitza per entrenar el model, mentre que el conjunt de validació s'utilitza per avaluar el model. Algunes tècniques de validació creuada fan diverses rondes (amb diferents particions de les dades).\n",
    "\n",
    "Separar les mostres d'aquesta manera permet evitar problemes com l'_overfitting_, comparar la capacitat de predicció de diferents tècniques, fer una selecció de característiques, entre altres aplicacions. "
   ]
  },
  {
   "cell_type": "markdown",
   "metadata": {},
   "source": [
    "# 2.2 El conjunt de dades de flors d'Iris\n",
    "\n",
    "En aquesta unitat treballarem amb un conjunt de dades clàssic: el conjunt de dades de **flors Iris**. A l'article de [Ronald Fisher](https://es.wikipedia.org/wiki/Ronald_Fisher) de 1936 titulat _The use of multiple measurements in taxonomic problems_, es van recopilar per tres classes de flors Iris relacionades (_Iris setosa_, _Iris virginica_ i _Iris versicolor_) quatre atributs: longitud i amplària de sèpals i pètals en cm ([anatomia d'una flor](https://es.wikipedia.org/wiki/P%C3%A9talo)). Per a cada tipus d'Iris, es van seleccionar cinquanta flors, per la qual cosa tenim una grandària d'observacions de 50 x 3 x 4 (nombre de flors x classes de flors x atributs mesurats). A continuació teniu un resum de les diferents característiques agrupades per tipus de flor (vermell per _setosa_, verd per _versicolor_, blau per _virginica_):\n",
    "\n",
    "![](https://raw.githubusercontent.com/rbuj-UOC/python_datascience/refs/heads/master/python_1/unit_7/img/iris_data_set.png)\n",
    "\n",
    "Font: Anderson's Iris data set d'Indon - Treball propi. Disponible sota la llicència CC BY-SA 3.0 via Wikimedia Commons\n",
    "\n",
    "Per començar, carreguem el conjunt de dades de flors d'iris:"
   ]
  },
  {
   "cell_type": "code",
   "execution_count": null,
   "metadata": {},
   "outputs": [],
   "source": [
    "from sklearn import datasets\n",
    "\n",
    "# Carreguem el dataset d'iris:\n",
    "iris = datasets.load_iris()"
   ]
  },
  {
   "cell_type": "markdown",
   "metadata": {},
   "source": [
    "# 3 Anàlisi exploratòria de dades\n",
    "\n",
    "En primer lloc, observarem les característiques principals de les dades que utilitzarem en aquest Notebook. Conèixer les dades amb les quals treballarem ens ajudarà després en la creació de models i la validació\n",
    "d'hipòtesis.\n",
    "\n",
    "Podem donar un cop d'ull a la descripció del _dataset_:"
   ]
  },
  {
   "cell_type": "code",
   "execution_count": null,
   "metadata": {},
   "outputs": [],
   "source": [
    "print(iris.DESCR)"
   ]
  },
  {
   "cell_type": "markdown",
   "metadata": {},
   "source": [
    "Al conjunt iris que acabem de carregar, les dades estan organitzades de la manera següent: cada fila és una mostra, i per a cada mostra, les columnes (les característiques) són: longitud del sèpal, amplada del sèpal, longitud del pètal i amplada del pètal.\n",
    "\n",
    "Representar visualment les dades també ens permet aproximar-nos-hi per primera vegada. Generarem un *scatter plot* amb els dos primers atributs."
   ]
  },
  {
   "cell_type": "code",
   "execution_count": null,
   "metadata": {},
   "outputs": [],
   "source": [
    "%matplotlib inline\n",
    "\n",
    "# Importem les biblioteques.\n",
    "import matplotlib.pyplot as plt\n",
    "from sklearn import datasets\n",
    "\n",
    "# Importem el dataset.\n",
    "iris = datasets.load_iris()\n",
    "\n",
    "# Seleccionem solament els dos primers atributs.\n",
    "X = iris.data[:, :2]\n",
    "Y = iris.target\n",
    "\n",
    "# Creem la figura.\n",
    "plt.figure(1, figsize=(8, 6))\n",
    "plt.clf()\n",
    "\n",
    "# Acolorim utilitzant la categoria.\n",
    "plt.scatter(X[:, 0], X[:, 1], c=Y)\n",
    "plt.xlabel(\"Longitud del sèpal\")\n",
    "_ = plt.ylabel(\"Amplada del sèpal\")"
   ]
  },
  {
   "cell_type": "markdown",
   "metadata": {},
   "source": [
    "Després, creem un *box plot* que resumeix les dades de tots els atributs disponibles."
   ]
  },
  {
   "cell_type": "code",
   "execution_count": null,
   "metadata": {},
   "outputs": [],
   "source": [
    "# Carreguem les dades en un dataframe de pandas.\n",
    "import pandas as pd\n",
    "\n",
    "df = pd.DataFrame(iris.data, columns=iris.feature_names)"
   ]
  },
  {
   "cell_type": "code",
   "execution_count": null,
   "metadata": {},
   "outputs": [],
   "source": [
    "# Mostrem un box plot amb els quatre atributs.\n",
    "df.plot.box(vert=False, figsize=(8, 6))"
   ]
  },
  {
   "cell_type": "markdown",
   "metadata": {},
   "source": [
    "Finalment, mostrem histogrames per als valors de cada atribut."
   ]
  },
  {
   "cell_type": "code",
   "execution_count": null,
   "metadata": {},
   "outputs": [],
   "source": [
    "# Generem els histogrames.\n",
    "df.hist(alpha=0.7, bins=20)"
   ]
  },
  {
   "cell_type": "markdown",
   "metadata": {},
   "source": [
    "# 4 Reducció de la dimensionalitat del dataset\n",
    "\n",
    "Per tal de manejar **la dimensionalitat** i evitar problemes com el sobreajust, s'utilitzen mètodes com l'Anàlisi de la Component Principal (**Principal Component Analysis** o **PCA**). El PCA és un mètode que s'utilitza per reduir el nombre de variables de les dades mitjançant la transformació i extracció d'una mostra de dades rellevant. D'aquesta manera es redueix la dimensió de les dades amb l’objectiu de retenir la màxima informació possible. En altres paraules, aquest mètode combina variables altament correlacionades per formar un nombre més reduït d'un conjunt artificial de variables que s'anomenen \"components principals\" que expliquen la major part de la variabilitat de les dades.\n",
    "\n",
    "Per posar un exemple, considerarem que volem reduir la dimensionalitat del següent dataset de dues dimensions:"
   ]
  },
  {
   "cell_type": "code",
   "execution_count": null,
   "metadata": {},
   "outputs": [],
   "source": [
    "# Importem les biblioteques:\n",
    "import matplotlib.pyplot as plt\n",
    "import numpy as np\n",
    "\n",
    "rng = np.random.RandomState(1)\n",
    "X = np.dot(rng.rand(2, 2), rng.randn(2, 200)).T\n",
    "plt.scatter(X[:, 0], X[:, 1])\n",
    "plt.axis(\"equal\")"
   ]
  },
  {
   "cell_type": "markdown",
   "metadata": {},
   "source": [
    "A primer cop d'ull, sembla que hi ha una forta relació lineal entre les variables x (eix horitzontal) i y (eix vertical). El PCA té l'objectiu de trobar la relació entre x i y de forma no supervisada. Això ho aconsegueix buscant una llista dels eixos principals de les dades i utilitzant aquests eixos per descriure el conjunt de dades. Amb l'estimador de PCA de skearn, podem calcular-ho de la manera següent:"
   ]
  },
  {
   "cell_type": "code",
   "execution_count": null,
   "metadata": {},
   "outputs": [],
   "source": [
    "from sklearn.decomposition import PCA\n",
    "\n",
    "pca = PCA(n_components=2)\n",
    "pca.fit(X)\n",
    "\n",
    "# Amb la funció fit() podem calcular els \"components principals\" i\n",
    "# \"variació explicada\" per cada un:\n",
    "print(\"Els components del PCA són :\\n \" + str(pca.components_) + \"\\n\")\n",
    "\n",
    "print(\"La variabilitat explicada pels components és:\\n \" +\n",
    "      str(pca.explained_variance_))"
   ]
  },
  {
   "cell_type": "markdown",
   "metadata": {},
   "source": [
    "Però què signifiquen aquests nombres? A continuació visualitzem-los com a vectors sobre les dades d'entrada, utilitzant els **components** per definir la direcció del vector i la **variància explicada** per definir la longitud quadrada del vector:"
   ]
  },
  {
   "cell_type": "code",
   "execution_count": null,
   "metadata": {},
   "outputs": [],
   "source": [
    "def draw_vector(v0, v1, ax=None):\n",
    "    ax = ax or plt.gca()\n",
    "    arrowprops = dict(arrowstyle=\"->\", linewidth=2, shrinkA=0, shrinkB=0)\n",
    "    ax.annotate(\"\", v1, v0, arrowprops=arrowprops)\n",
    "\n",
    "\n",
    "# mostra les dades\n",
    "plt.scatter(X[:, 0], X[:, 1], alpha=0.2)\n",
    "for length, vector in zip(pca.explained_variance_, pca.components_):\n",
    "    v = vector * 3 * np.sqrt(length)\n",
    "    draw_vector(pca.mean_, pca.mean_ + v)\n",
    "plt.axis(\"equal\")"
   ]
  },
  {
   "cell_type": "markdown",
   "metadata": {},
   "source": [
    "Aquests vectors representen els eixos principals de les dades, aquells que **expliquen la major part de la variabilitat de les dades**. En aquest cas particular l'eix més rellevant per resumir les dades és el més horitzontal (apuntant a les 8 d'un rellotge), a continuació el complementa l'eix més vertical (apuntant a les 11 d'un rellotge). Com que són complementaris, la seva direcció és sempre ortogonal. És per aquesta raó que tindrem un màxim de tants components com dimensions tingui el dataset amb els que treballem. La longitud del vector indica la importància que té aquest eix en la descripció de la distribució de les dades; més precisament, és una mesura de la variància de les dades en l'eix.\n",
    "\n",
    "En aquest cas, hem partit d'una dataset de 2 dimensions, la x i la y. Si volguéssim reduir la seva dimensionalitat a una sola variable sabríem que hem de transformar les dades projectant-les a l'eix més rellevant, el que correspon amb el component principal, en aquest cas sabem que seria l'eix més horitzontal."
   ]
  },
  {
   "cell_type": "markdown",
   "metadata": {},
   "source": [
    "# 5 Classificació\n",
    "\n",
    "Hi ha múltiples algorismes de classificació. Vegem un exemple de com fer servir un classificador *k nearest neighbors* per predir el tipus d'espècies d'iris."
   ]
  },
  {
   "cell_type": "code",
   "execution_count": null,
   "metadata": {},
   "outputs": [],
   "source": [
    "# Importem el classificador KNeighborsClassifier de la biblioteca Sklearn.\n",
    "from sklearn.neighbors import KNeighborsClassifier\n",
    "\n",
    "# Importem NumPy\n",
    "import numpy as np\n",
    "\n",
    "# Seleccionem les dues primeres característiques (farem servir únicament dues\n",
    "# característiques per # poder representar gràficament els resultats en 2D).\n",
    "X = iris.data[:, :2]\n",
    "y = iris.target\n",
    "\n",
    "# Separem les dades (de manera aleatòria) en dos subconjunts: el\n",
    "# d'aprenentatge i el de test.\n",
    "indices = np.random.permutation(len(iris.data))\n",
    "iris_X_train = X[indices[:-10]]\n",
    "iris_y_train = y[indices[:-10]]\n",
    "iris_X_test = X[indices[-10:]]\n",
    "iris_y_test = y[indices[-10:]]\n",
    "\n",
    "# Creguem el classificador.\n",
    "knn = KNeighborsClassifier()\n",
    "\n",
    "# Entrenem el classificador.\n",
    "knn.fit(iris_X_train, iris_y_train)\n",
    "\n",
    "# Provem el classificador.\n",
    "iris_y_test_predicted = knn.predict(iris_X_test)\n",
    "\n",
    "# Mostrem els resultats de la predicció sobre el conjunt de test.\n",
    "print(\"Classes reals: \\t\\t\" + str(iris_y_test))\n",
    "print(\"Classes predites: \\t\" + str(iris_y_test_predicted))\n",
    "print(\"Accuracy: \\t\\t\" + str(knn.score(iris_X_test, iris_y_test)))"
   ]
  },
  {
   "cell_type": "markdown",
   "metadata": {},
   "source": [
    "Podem visualitzar gràficament el classificador que hem après:"
   ]
  },
  {
   "cell_type": "code",
   "execution_count": null,
   "metadata": {},
   "outputs": [],
   "source": [
    "%matplotlib inline\n",
    "\n",
    "# Importem la biblioteca.\n",
    "import matplotlib.pyplot as plt\n",
    "from matplotlib.colors import ListedColormap\n",
    "\n",
    "# Creem els mapes de colors que farem servir per a la representació.\n",
    "cmap_light = ListedColormap([\"#FFAAAA\", \"#AAFFAA\", \"#AAAAFF\"])\n",
    "cmap_bold = ListedColormap([\"#FF0000\", \"#00FF00\", \"#0000FF\"])\n",
    "\n",
    "# Calculem els limits de la visualització.\n",
    "x_min, x_max = X[:, 0].min() - 1, X[:, 0].max() + 1\n",
    "y_min, y_max = X[:, 1].min() - 1, X[:, 1].max() + 1\n",
    "\n",
    "# Fem la predicció.\n",
    "h = 0.01\n",
    "xx, yy = np.meshgrid(np.arange(x_min, x_max, h), np.arange(y_min, y_max, h))\n",
    "Z = knn.predict(np.c_[xx.ravel(), yy.ravel()])\n",
    "\n",
    "# Mostrem el resultat en una figura.\n",
    "plt.figure(1, figsize=(8, 6))\n",
    "Z = Z.reshape(xx.shape)\n",
    "plt.pcolormesh(xx, yy, Z, cmap=cmap_light)\n",
    "\n",
    "# Mostrem les mostres fetes servir en l'aprenentatge.\n",
    "plt.scatter(\n",
    "    iris_X_train[:, 0], iris_X_train[:, 1], c=iris_y_train, cmap=cmap_bold\n",
    ")\n",
    "\n",
    "plt.xlim(xx.min(), xx.max())\n",
    "plt.ylim(yy.min(), yy.max())\n",
    "plt.title(\"Knn classification\")\n",
    "\n",
    "plt.show()"
   ]
  },
  {
   "cell_type": "markdown",
   "metadata": {},
   "source": [
    "# 6 _Clustering_\n",
    "----------\n",
    "\n",
    "Com amb els algorismes de classificació, actualment hi ha multitud d'algorismes de _clustering_. Vegem un exemple d'utilització de l'algorisme *k-means*.\n",
    "\n",
    "En primer lloc, generem una visualització del conjunt de mostres. A continuació teniu un codi d'exemple en el qual representem la taxonomia de les diferents mostres (acolorim per classe d'iris) en funció de la longitud del sèpal (columna 0), l'amplada del sèpal (columna 1) i la longitud del pètal (columna 2):"
   ]
  },
  {
   "cell_type": "code",
   "execution_count": null,
   "metadata": {},
   "outputs": [],
   "source": [
    "%matplotlib inline\n",
    "\n",
    "# Carreguem les biblioteques necessàries.\n",
    "import matplotlib.pyplot as plt\n",
    "from mpl_toolkits.mplot3d import Axes3D\n",
    "from sklearn import datasets\n",
    "\n",
    "# Carreguem el dataset.\n",
    "iris = datasets.load_iris()\n",
    "# Dades de la mostra\n",
    "X_iris = iris.data\n",
    "# Categories de la mostra (tres tipus d'Iris)\n",
    "Y_iris = iris.target\n",
    "\n",
    "# Creem una figura.\n",
    "fig = plt.figure(1, figsize=(8, 6))\n",
    "# De tipus 3D\n",
    "ax = Axes3D(fig, elev=-150, azim=110)\n",
    "# I representem els diferents punts, acolorint per tipus d'iris.\n",
    "ax.scatter(X_iris[:, [0]], X_iris[:, [1]], X_iris[:, [2]], c=Y_iris)\n",
    "\n",
    "# Llegendes i títols\n",
    "ax.set_title(\"Taxonomia de las 150 muestras\")\n",
    "ax.set_xlabel(\"Longitud del sepalo\")\n",
    "ax.xaxis.set_ticklabels([])\n",
    "ax.set_ylabel(\"Ancho del sepalo\")\n",
    "ax.yaxis.set_ticklabels([])\n",
    "ax.set_zlabel(\"Longitud del petalo\")\n",
    "_ = ax.zaxis.set_ticklabels([])"
   ]
  },
  {
   "cell_type": "markdown",
   "metadata": {},
   "source": [
    "Ara farem l'experiment següent: utilitzant l'algorisme de _clustering_ *k-means*, acolorirem utilitzant els grups que calculi l'algorisme i no les classes que ja coneixem."
   ]
  },
  {
   "cell_type": "code",
   "execution_count": null,
   "metadata": {},
   "outputs": [],
   "source": [
    "%matplotlib inline\n",
    "\n",
    "import matplotlib.pyplot as plt\n",
    "from mpl_toolkits.mplot3d import Axes3D\n",
    "from sklearn import cluster, datasets\n",
    "\n",
    "iris = datasets.load_iris()\n",
    "X_iris = iris.data\n",
    "\n",
    "# Carreguem l'algorisme K-means i fem fit a les nostres dades:\n",
    "k_means = cluster.KMeans()\n",
    "k_means.fit(X_iris)\n",
    "\n",
    "fig = plt.figure(1, figsize=(8, 6))\n",
    "ax = Axes3D(fig, elev=-150, azim=110)\n",
    "ax.scatter(X_iris[:, [0]], X_iris[:, [1]], X_iris[:, [2]], c=k_means.labels_)\n",
    "ax.set_title(\"Taxonomia de les 150 mostres fent servir K-means\")\n",
    "ax.set_xlabel(\"Longitud del sèpal\")\n",
    "ax.xaxis.set_ticklabels([])\n",
    "ax.set_ylabel(\"Amplada del sèpal\")\n",
    "ax.yaxis.set_ticklabels([])\n",
    "ax.set_zlabel(\"Longitud del pètal\")\n",
    "_ = ax.zaxis.set_ticklabels([])"
   ]
  },
  {
   "cell_type": "markdown",
   "metadata": {},
   "source": [
    "Fixeu-vos que en **cap moment s'utilitza la classe de la mostra** (`iris.target`) per entrenar l'algorisme ni per avaluar-ho! Ara estem utilitzant un algorisme de _clustering_, que agruparà les mostres en funció de les seves característiques. El resultat de l'algorisme és el grup al qual pertany cada mostra (però l'algorisme no intenta predir la classe de la mostra). Els noms dels grups generats són arbitraris (en aquest cas, valors enters del 0 al nombre de grups - 1).\n",
    "\n",
    "Forçarem que el nombre de clústers sigui igual a 3 i en representarem el resultat:"
   ]
  },
  {
   "cell_type": "code",
   "execution_count": null,
   "metadata": {},
   "outputs": [],
   "source": [
    "%matplotlib inline\n",
    "\n",
    "import matplotlib.pyplot as plt\n",
    "from mpl_toolkits.mplot3d import Axes3D\n",
    "from sklearn import cluster, datasets\n",
    "\n",
    "iris = datasets.load_iris()\n",
    "X_iris = iris.data\n",
    "\n",
    "# Carreguem l'algorisme K-means i fem fit a les nostres dades, aquesta vegada\n",
    "# forçant el nombre de clústers a tres:\n",
    "k_means = cluster.KMeans(n_clusters=3)\n",
    "k_means.fit(X_iris)\n",
    "\n",
    "fig = plt.figure(1, figsize=(8, 6))\n",
    "ax = Axes3D(fig, elev=-150, azim=110)\n",
    "ax.scatter(X_iris[:, [0]], X_iris[:, [1]], X_iris[:, [2]], c=k_means.labels_)\n",
    "ax.set_title(\"Taxonomia de les 150 mostres forçant clústers = 3\")\n",
    "ax.set_xlabel(\"Longitud del sèpal\")\n",
    "ax.xaxis.set_ticklabels([])\n",
    "ax.set_ylabel(\"Amplada del sèpal\")\n",
    "ax.yaxis.set_ticklabels([])\n",
    "ax.set_zlabel(\"Longitud del pètal\")\n",
    "_ = ax.zaxis.set_ticklabels([])"
   ]
  },
  {
   "cell_type": "markdown",
   "metadata": {},
   "source": [
    "Recordeu que utilitzant un algorisme de _clustering_ no aprenem a quina classe pertany cada mostra, sinó que simplement agrupem les mostres en grups (clústers)."
   ]
  },
  {
   "cell_type": "markdown",
   "metadata": {},
   "source": [
    "# 7 Validació del model\n",
    "\n",
    "Hem d'evitar avaluar els models amb les mateixes dades que s'han utilitzat per a l'aprenentatge. A l'exemple de classificació, hem separat les dades de manera aleatòria en dos conjunts, un per a l'aprenentatge i un per al test. Aquesta tècnica es coneix com a *holdout*. A l'exemple de la classificació hem fet servir NumPy per crear els dos conjunts. A la unitat 6 vam veure com fer aquest mateix procés usant les funcions sobre _dataframes_ que ofereix la lliberia Pandas. Ara veurem com podem fer-ho amb Sklearn:"
   ]
  },
  {
   "cell_type": "code",
   "execution_count": null,
   "metadata": {},
   "outputs": [],
   "source": [
    "# Importem la funció 'train_test_split'.\n",
    "from sklearn.model_selection import train_test_split\n",
    "\n",
    "# Separem les mostres utilitzant un 20% per a test i la resta per a\n",
    "# aprenentatge.\n",
    "X_train, X_test, y_train, y_test = train_test_split(\n",
    "    iris.data, iris.target, test_size=0.2, random_state=0\n",
    ")\n",
    "\n",
    "print(\"Total de mostres: \" + str(len(iris.data)))\n",
    "print(\n",
    "    \"Aprenentatge: \" + str(len(X_train)),\n",
    "    \"(\" + str(float(len(X_train)) / len(iris.data) * 100) + \"%)\",\n",
    ")\n",
    "print(\n",
    "    \"Test: \" + str(len(X_test)),\n",
    "    \"(\" + str(float(len(X_test)) / len(iris.data) * 100) + \"%)\",\n",
    ")"
   ]
  },
  {
   "cell_type": "markdown",
   "metadata": {},
   "source": [
    "També podem fer servir altres tècniques per avaluar els models, per exemple, *kfold* o *leave one out*:"
   ]
  },
  {
   "cell_type": "code",
   "execution_count": null,
   "metadata": {},
   "outputs": [],
   "source": [
    "# Importem la funció KFold.\n",
    "from sklearn.model_selection import KFold\n",
    "\n",
    "# Importem NumPy.\n",
    "import numpy as np\n",
    "\n",
    "# Dividim un conjunt de nou mostres fent servir 3-Fold i en mostrem el\n",
    "# resultat.\n",
    "X = np.array(range(9))\n",
    "kf = KFold(n_splits=3)\n",
    "for train, test in kf.split(X):\n",
    "    print(\"%s %s\" % (X[train], X[test]))"
   ]
  },
  {
   "cell_type": "code",
   "execution_count": null,
   "metadata": {},
   "outputs": [],
   "source": [
    "# Importem la funció 'LeaveOneOut'.\n",
    "from sklearn.model_selection import LeaveOneOut\n",
    "\n",
    "# Importem NumPy\n",
    "import numpy as np\n",
    "\n",
    "# Dividim un conjunt de nou mostres fent servir 'LeaveOneOut' i mostrem el\n",
    "# resultat.\n",
    "X = np.array(range(9))\n",
    "loo = LeaveOneOut()\n",
    "for train, test in loo.split(X):\n",
    "    print(\"%s %s\" % (X[train], X[test]))"
   ]
  },
  {
   "cell_type": "markdown",
   "metadata": {},
   "source": [
    "# 8 Exercicis i preguntes teòriques\n",
    "\n",
    "La part avaluable d'aquesta unitat consisteix en el lliurament d'un fitxer IPython Notebook amb extensió IPYNB que contindrà els diferents exercicis i les preguntes teòriques que s'han de contestar. Trobareu el fitxer (`prog_datasci_7_python_entrega.ipynb`) amb les activitats a la mateixa carpeta que aquest notebook que esteu llegint."
   ]
  },
  {
   "cell_type": "markdown",
   "metadata": {},
   "source": [
    "## 8.1 Instruccions importants\n",
    "\n",
    "És molt important que a l'hora de lliurar el fitxer Notebook amb les vostres activitats us assegureu que:\n",
    "\n",
    "1. Les vostres solucions siguin originals. Esperem no detectar-hi còpia directa entre estudiants.\n",
    "2. Tot el codi estigui correctament documentat. El codi sense documentar equivaldrà a un 0.\n",
    "3. El fitxer comprimit que lliureu és correcte (conté les activitats de la PAC que heu de lliurar).\n",
    "\n",
    "Per fer el lliurament, heu d'anar a la carpeta del drive Colab Notebooks, clicant botó dret a la PAC en qüestió i fent Download. D'aquesta manera baixareu la carpeta de la PAC comprimida en zip. Aquest és el fitxer que heu de pujar al campus de virtual de l'assignatura."
   ]
  },
  {
   "cell_type": "markdown",
   "metadata": {},
   "source": [
    "# 9 Bibliografia\n",
    "\n",
    "1. Aprenentatge supervisat amb sklearn: http://scikit-learn.org/stable/supervised_learning.html\n",
    "2. Comparació de classificadors amb sklearn: http://scikit-learn.org/stable/auto_examples/classification/plot_classifier_comparison.html\n",
    "3. Aprenentatge no supervisat amb sklearn: http://scikit-learn.org/stable/unsupervised_learning.html"
   ]
  },
  {
   "cell_type": "markdown",
   "metadata": {},
   "source": [
    "# Autors"
   ]
  },
  {
   "cell_type": "markdown",
   "metadata": {},
   "source": [
    "- Autor original **Cristina Pérez Solà**, 2017.\n",
    "- Actualitzat per **Cristina Pérez Solà**, 2019."
   ]
  },
  {
   "cell_type": "markdown",
   "metadata": {},
   "source": [
    "<img src=\"data:image/avif;base64,AAAAHGZ0eXBhdmlmAAAAAGF2aWZtaWYxbWlhZgAAAXBtZXRhAAAAAAAAACFoZGxyAAAAAAAAAABwaWN0AAAAAAAAAAAAAAAAAAAAAA5waXRtAAAAAAABAAAANGlsb2MAAAAAREAAAgABAAAAAAGUAAEAAAAAAAANcgACAAAAAA8GAAEAAAAAAAAAcQAAADhpaW5mAAAAAAACAAAAFWluZmUCAAAAAAEAAGF2MDEAAAAAFWluZmUCAAAAAAIAAGF2MDEAAAAAr2lwcnAAAACKaXBjbwAAAAxhdjFDgQAMAAAAABRpc3BlAAAAAAAAAZMAAACNAAAAEHBpeGkAAAAAAwgICAAAAAxhdjFDgQAcAAAAAA5waXhpAAAAAAEIAAAAOGF1eEMAAAAAdXJuOm1wZWc6bXBlZ0I6Y2ljcDpzeXN0ZW1zOmF1eGlsaWFyeTphbHBoYQAAAAAdaXBtYQAAAAAAAAACAAEDgQIDAAIEhAIFhgAAABppcmVmAAAAAAAAAA5hdXhsAAIAAQABAAAN621kYXQSAAoKGCHyUYwQENBoQDLhGkyAAt00giJ86/rVufYh9JHqK4OpHNhzStGdiWWMelMYHKztPEENaJAZRxW/NAOksrxEFTDHzbgWKypjDCxN69lzpZUMaDvngrMjjXB4R9dbjLeLfh8UyoDdPIWmgzHoCAB2Jai2OGwm5JmD9aC89jAceAYyIsk+HtXyw8ywh5a2ZgImGQ6WV1lH64B0BCj2T8tkUUsmXKxc8ekIkPG5pgMyatKQfafdKq9gRF8jGSYmdoA0NWzdtK+fb7a6UEoFFZnDpreqtNjpahOHyrBZRxWA11V0aTyN6H9//adDYc8cYPjbDBLsgm7edvbvComWqAB3K9I5HwR/5A3w4RvWI2bUFHjDtme61RxLNz9veO1YGEWq+0l1cgLqVHSPlWA+KdXRSgRnfnmNzOqJ1kuSsu8qIpO8OZDRL0qYiGf8cQV3S2Q3Ynz5uIp3J2PiuDqKLOJK8xiCm/dyN1BkeWIGEy94cIjYpaCH5QkeFYDgEb7mSnWDZtXXVMnLdgYS6ku6kebfYPTjPSSPlilyzulRulOgK3GDF/OFovK4y28Q4svORtztonwuCtkKPe8z6gobSxu8Y+hc4NH7WEEg9wVyQ+sX0Eg4ps0wPNq/d/M9Dj3HxY5OIjxW+Chu6fuNDN6BEipR5sIZPVuQzeuwQjs7KVb3/4WnohBMwye4C/8QyQCwLJNy5wE5NA94nPC0m+7cwYDRAleOqeVWv339LdEl3vGJXxSGAb3t5/WrymJWbiTDAoarrboWFK5qppqFZEwtdcTYQKtcm53Bfkj8eUdY0X9j7Gpmm/TfuJyfgpVb5Yd9GYYtn5D31Bc17aw8oKscenGJCQN+Z3x82HBharIT62Zn3tNlyMNK5lDKherptP5O3XGhtsIgLYnLX8rECmnotyIM/sYbCpwBndte5K5728PBuQAPGsw3uo/RbYCGztww16FMvYc/mWcRn9Wm4L9iv4W+UCGcJMV4CMAz82HQNd/jvCoOTJSaV37Y8QvKt6+zY5R/y2kbQquqEzPEFHnOWlgHZ9nUh64P41nXbFUcbBULp5fezS8uA9LIXEFwSoTbqA6lLhIZbGeDUSxylyWOgHpEJs0htXoaffQR1h03r64+BLE/3V9BfHhkvblI/KhOBxK2j/kGAwPUAyW44Ek/yoqEsvmLghQM6PhQY1dMixiicPeaXcT3j7zNLBtHbVHlGUErDRsikq26gJDnvEfGlHnR1r40TmH3HRTAI7lcJxs2NQ9GcLRrGJw+iUPg/4rwXuxa29Yts3BIEtF7tpfyO68Lb0PzPn/C+KBMPkzJGo+iqG2qZvLrMXUh6Xe3gRzjxwlfy02EzWCELEE+Q968ns2BvLMsOCk3aDlHF1p9PjUI76cW+10Glc+O7bKX1DMLJRIoLGADBfH8nBL1e2J9iIfz0x7mwxFRo75KejmgbBxac7FUtIF0If5s7kPFMWcNetv/xiSdvwsTfPmW54jMOUGaF1ri1+dI0GdRr/MX6aKgIVjOTizNn+qwhwZHq//9FUSSBN+h4g2BnHs3XvbtwJlD7rPhJ4QJ/pwtNtDqNzztJMwATaer61V2es3F6bRETDYWRjr3vK7AV5R34k89SOJ7jzGiUkkohh1diVCmnsm+ZoukuppbBnXe3Cd74cpH1tbwvNAAmwAkxLXEyekM8nbZzUu5W5w4ZYqdZ7yaNhxXTG46Bwu91FakPqUuDFHkq5ixhLK5OAv9dSvIQCjfvxzvLqRF5D4UsJ7hnROeL99uJEf7Bl7G9Te+F41MneNpqCnbs0FwDALxYDvZnC0J56pShgKMmPQehBxzcpRo/JxhpOwzqUEmpNw3VkBreMrFdhJt5eeZwscbdLuzIu1EMOfbTzFLlijcJVj79zf2cn2EXvkx67psz860kNlKt8yoJsQiXi6yEgeht9lIxlB94pR9knXb9mwcuBRlk/zF3/gVWqyD8ibB4QKHs/0WpjcbownGpyG+GAhge6tLQKo7SPDdKptTziOXgGTUM9nB4RjhI+b98eHTMloXK7UW9T4lxa3u7sJApPF2gyeMFxkV7DF9XU3HPV+KjoJ+hhIRyqOtxQHVrwWGHYXtzTiI9kN3N7yfG2+T2WczTsFuS5YXZqeszoNlypbucipixPtqpMxfJU21TpD/EXmmO22Ag8gLzwQWrnRRW08+Qx1XXpbEbGKUcIYVHGR2PcCvOhNCaOVzxc3Z2PiYJBzhrGrnFyK2ScEdTCmkUco0H4W+qdBAFKtWOQpYpuTn4RjgcAgGyC5gdkreBFkPbb4A2/ezlEedUe3VXNbJUsWkkZOg6HJ3ybA0VQbgZNlsv0zF1QcBnBb+E/oI0JW0Ap7hFDQKJbeRrOPXEAvsT/SpCNo//YW5K14wT1rtutQnNs2V849MM2ElQ8BrK0W0q1B1p0ZHZemslAFppC4S7i7ojTJbpmxbWZhCdPPFlFsCEwj2gbCG3G2frLHISrt5Usaa1kl9FdUOs08A3apr3o/OAiVuAlvpHIzBKynh0lhOt+CGGehMB6kMrcpCGAG8SoKz9IpkDUos4xlCZvoqf3kzH5TV/Y5SW7ghG6uIrIidIESaaXy5XiXcJDKIdO/AFgcUmXOEfC4b7/Jgya2rOmiAXz0AsJuxMj5pO5/cZgQtmtMqTL2jRiKik7Wo17FVlCZodNu1zgTvh0KoRX2uhhPlcTkx9zrE8YohE0NwGM/hZEKhvVJ3gzHa1NbN9kgYoQWFq70TMyMg9opnbdai9sYxNF8f3YQWjBdyssR3/n/gYTIgKvibgYyS+slXG/RSo/CbW5bFiLhchizTpBm6uYxzf02XqdaJ9BTPqU4EDK+XURMZ/OTQJ6lufx9TNLEj2LSKKh1nGEr4OhD7+TFAQwQbWM69tMJr7C/t/3f/9m13zXUzV5djjuBcQqkgHLh5e5rLpkhJl2v5MV7wKjcgo2udkfS2NMM89joQc7FpRhbTOTMSYeR5ua5LHkcpY6qkatMMvyHgBM8U/t+jgk+gwNTlnUpLB9WkHTv1R1pXUV1pIicqK67rbl/5Z7yL30zjGyh4JdqWnAudaPv4HjPDMvgJtxJ2JmG9IEfOB6AszdpxTr3xvuRMIoNLxlG6MAlTFNq0RnTp3TvOYjUunOglSF7bHUIk4/ltc8H8UG0SHSU/iAw2y66yRBW3/NMAPPN2WqZ36D1RTwhBqhlGRfA/KPXbUCNg5MjkczLoxiSvyV3GIqB15umq1zk1ciPROpP6VkZWj2AwzhoVceolsHM7T//C6ZLSwQmbOEeqMzf3bT2jWBUwQBP3CGwkPumlSbUR+gTeAZE3LQqqRhHaPtZqrBATD6MRH7kFBMJvkH2GIbzr5jdNzQuF5Qvvn68Qtp/mpW74J53eRy3bCNGUKDF0XUz9mxZeGKHEhIegELiNAZXAWh4n6ztGXD/e1Nh5W5FrboZ5E4/BD5ol+yk2hDXk2uQtxs4rsDdV3+k2JHW2U3MrPAU7w6JBQLlpHkp1HddSZS06dGCK9/S8ib83YN85sUqmShVNaXQZhq4Cqf7K7SlAtMkuij9t7zXtKgG871Q5AP7EkYAdtrV6Gsoch2ErM6n/cmGuDDDJdxYXAr9rjg9D4yjNax0q4TVTlpxEdcoKXKt3BF4lvfz/xzPvaO8waSaDD738tuWXliId4aMNyHw9+H08hwErJmEaRJSuZoqNNpxT7PwBx5+msDcSDhLOnalaIiA4+zWedvklY8zN4DDQpxKLVZOhOHxZe5xH8o+xhgs8zxdQt76P08pikkibkpLUrHWksuVmRHASGF9eGD3ZIgCr5ch099Q1IMGoFz7vl/yy8lGGu1EFeoAw8O8Gq96gFw8Lf8KvQOeT09MwZHFW+bg+Q/BoOwmJtEdmbiwb0K2SdJdkXmL4t41UZMqOpsFZ5RAc9AGOfFFPN/cu47YDHc60tLNcMsSJ2TRtiPf9TvVORL8Ki7zWfLoF/I2ZEwpIdgqRJKDX1DUcdRye52dzSHGj23QN37BZLeVRkw2hy1qKKX8yQVDEfJj35jKil3Suf+B+OTYZ3X1EI3kfTzOuSAyiMW1fwigIBqzd+bnvX1XiL8TsbdRgMUzl5Ydxhs08lHCao7cv6HFluy+m36dC1XZlTZ0ZkW5sr5j8YoQP8iQnmVXm2BrdOlAuaLvMAZFeKAK8LYbl1FQRaIqeCUpI3Uhig9lxWq38oVYmC8yx1j5Y2X+8LPoz8tCYRsPtHqtQ4zSYZfkQ0DRT5mEZgU6ZRq46J7m+G/z04KDDDYqHf/bbXK5qkUAMAU41qNzCulw4iT1UBl81RXim4kFO/NnjSINmCtPlQyVB+VxP1//qHXvaWnqS85p5pGVoSwK/N2RpFUYOgWLa+mj1zLWFseS5kLHO+MHaQWUdZRLBim/+GUg3SU6aM8QRSaxyVGXUnOF1uclmawwMRBG0Wu9SupD3QVgzL32j5C1nol2gX19THq9Twmcty2tHNQaq5pesWNG07qfvARG+Guj7akWgZuMIi8zsuD5lTg2c8cNxamjKVyJ68ZcrjcFaD+n7PGlpFR3psPXPLGrmpgOp+0DFB/97Wp/UxSy/3sJgEgAKBhgh8lGMKjJlEgAKKFDdmEYmkwK6860xMlsJgFC9H3Ws+AJzVuNcghtQbBsEq9sbHkf7QVfXdnN6cv5BB3lpJxYy0SafQ2JWToN2aHTbIiOrw+SV4ikqR++lFXeCWZ6xehZerqKvTQ+HZkmGw9w=\" width=\"100\">"
   ]
  }
 ],
 "metadata": {
  "language_info": {
   "name": "python"
  }
 },
 "nbformat": 4,
 "nbformat_minor": 4
}
