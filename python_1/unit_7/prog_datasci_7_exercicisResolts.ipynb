{
 "cells": [
  {
   "cell_type": "markdown",
   "metadata": {},
   "source": [
    "<div style=\"display: grid; grid-template-columns: repeat(2, 1fr); align-items: end;\">\n",
    "    <div>\n",
    "        <img src=\"data:image/avif;base64,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\" width=\"300\">\n",
    "    </div>\n",
    "    <div>\n",
    "        <p style=\"margin: 0; text-align:right;\">22.401 · Fonaments de Programació</p>\n",
    "        <p style=\"margin: 0; text-align:right;\">Grau en Ciència de Dades Aplicada</p>\n",
    "        <p style=\"margin: 0; text-align:right;\">Estudis d'Informàtica, Multimèdia i Telecomunicació</p>\n",
    "    </div>\n",
    "</div>"
   ]
  },
  {
   "cell_type": "markdown",
   "metadata": {},
   "source": [
    "# Programació per a *Data Science*"
   ]
  },
  {
   "cell_type": "markdown",
   "metadata": {},
   "source": [
    "Unitat 7: Anàlisi de dades en Python\n",
    "------------------------------------------------------\n",
    "\n"
   ]
  },
  {
   "cell_type": "markdown",
   "metadata": {},
   "source": [
    "En aquest Notebook trobareu un conjunt d'exercicis per practicar. Aquests exercicis no puntuen per la PAC, però us recomanem que els intenteu resoldre com a part del procés d'aprenentatge. Trobareu exemples de possibles solucions als exercicis en el propi notebook, però és important que intenteu resoldre'ls vosaltres abans de consultar les solucions. Les solucions us permetran validar les vostres respostes, així com veure alternatives de resolució de les activitats. També us animem a preguntar qualsevol dubte que sorgeixi sobre la resolució de les activitats per a practicar en el fòrum de l'aula.\n",
    "\n",
    "----\n",
    "## Preguntes i exercicis per practicar"
   ]
  },
  {
   "cell_type": "markdown",
   "metadata": {},
   "source": [
    "## Pregunta 1\n",
    "\n",
    "Investiga i descriu el funcionament del mètode de cross-validation *Leave One Out*. Posa un exemple d'aplicació de l'algorisme per resoldre un problema d'anàlisi en l'àmbit de la salut. Recordeu que cal citar les referències consultades per respondre la pregunta, i que la resposta que proporcioneu ha de ser original (redactada per vosaltres mateixos, després d'haver llegit i entès les referències que considereu oportunes)."
   ]
  },
  {
   "cell_type": "markdown",
   "metadata": {},
   "source": [
    "#### Resposta\n"
   ]
  },
  {
   "cell_type": "markdown",
   "metadata": {},
   "source": [
    "## Pregunta 2"
   ]
  },
  {
   "cell_type": "markdown",
   "metadata": {},
   "source": [
    "Hem d'evitar avaluar els models amb les mateixes dades que s'han utilitzat per a l'aprenentatge. De no fer-ho, podríem afavorir el problema del **sobreajust**. En què consisteix aquest problema i quines conseqüències pot tenir?"
   ]
  },
  {
   "cell_type": "markdown",
   "metadata": {},
   "source": [
    "#### Resposta\n"
   ]
  },
  {
   "cell_type": "markdown",
   "metadata": {},
   "source": [
    "## Exercici 1\n",
    "\n",
    "Carregueu el conjunt de dades Iris incorporat a la biblioteca `sklearn`. Implementeu una funció, `describe_iris`, que retorni un diccionari amb la següent estructura:\n",
    "\n",
    "```\n",
    "{\n",
    "   \"categories\": [],\n",
    "   \"atributs\": [],\n",
    "   \"num_mostres\": 0\n",
    "}\n",
    "```\n",
    "*Categories* ha de ser una matriu amb el nom dels **targets** del *dataset*. *Atributs* ha de ser una matriu amb el nom dels **atributs** i finalment, *num_mostres* ha d'indicar el nombre **total de mostres** del dataset. "
   ]
  },
  {
   "cell_type": "code",
   "execution_count": null,
   "metadata": {},
   "outputs": [],
   "source": [
    "# Resposta"
   ]
  },
  {
   "cell_type": "markdown",
   "metadata": {},
   "source": [
    "## Exercici 2\n",
    "\n",
    "Representeu gràficament en un *scatter plot* la longitud dels sèpals en funció de l'ample dels sèpals.\n",
    "Nota: per poder incloure accents en els textos de les etiquetes o del títol del plot, cal indicar explícitament que les cadenes de caràcters són Unicode. Podeu fer-ho incloent una _u_ davant de les cometes que delimiten la cadena de caràcters."
   ]
  },
  {
   "cell_type": "code",
   "execution_count": null,
   "metadata": {},
   "outputs": [],
   "source": [
    "# Resposta"
   ]
  },
  {
   "cell_type": "markdown",
   "metadata": {},
   "source": [
    "## Exercici 3"
   ]
  },
  {
   "cell_type": "markdown",
   "metadata": {},
   "source": [
    "Dividir les dades Iris en dos subconjunts, dades d'entrenament i test, en una proporció 70% entrenament i 30% test."
   ]
  },
  {
   "cell_type": "code",
   "execution_count": null,
   "metadata": {},
   "outputs": [],
   "source": [
    "# Resposta"
   ]
  },
  {
   "cell_type": "markdown",
   "metadata": {},
   "source": [
    "## Exercici 4"
   ]
  },
  {
   "cell_type": "markdown",
   "metadata": {},
   "source": [
    "Apliqueu el classificador _KNeighborsClassifier_ per predir el tipus d'espècie d'iris utilitzant la longitud i ample dels pètals com a atributs i utilitzant 60% de les mostres per entrenament i 40% de les mostres per al test (podeu fer servir qualsevol partició de mostres d'entrenament i de test).\n",
    "\n",
    "Quin rendiment s'obté?"
   ]
  },
  {
   "cell_type": "code",
   "execution_count": null,
   "metadata": {},
   "outputs": [],
   "source": [
    "# Resposta"
   ]
  },
  {
   "cell_type": "markdown",
   "metadata": {},
   "source": [
    "## Exercici 5\n",
    "\n",
    "Apliqueu l'algorisme de _clustering KMeans_ tal com hem vist al Notebook de teoria, però aquesta vegada utilitzant els següents paràmetres:\n",
    "\n",
    "```\n",
    "Número de clústers: 10\n",
    "Mètode d'inicialització dels punts centrals: 'random'\n",
    "Nombre d'iteracions per a la selecció de punts centrals: 5\n",
    "Algoritme: 'elkan'\n",
    "```\n",
    "\n",
    "Visualitzeu gràficament el resultat. Si les dades fossin [disperses](https://en.wikipedia.org/wiki/Sparse_matrix), quina opció del paràmetre _alg_ de la funció _sklearn.cluster.KMeans_ hauríem d'utilitzar?"
   ]
  },
  {
   "cell_type": "code",
   "execution_count": null,
   "metadata": {},
   "outputs": [],
   "source": [
    "# Resposta"
   ]
  },
  {
   "cell_type": "markdown",
   "metadata": {},
   "source": [
    "## Exercici 6"
   ]
  },
  {
   "cell_type": "markdown",
   "metadata": {},
   "source": [
    "En els següents exercicis farem servir el conjunt de dades del dataset `breast_cancer` de *sklearn*. Crea una taula amb els estadístics descriptius de totes les característiques dels tumors de la base de dades `breast_cancer` agrupats per tipus (benigne/maligne).\n",
    "\n",
    "Feu un test estadístic [ttest](https://docs.scipy.org/doc/scipy/reference/generated/scipy.stats.ttest_ind.html) per comparar l'error de la simetria (*symmetry error*) i finor (*mean smoothness*) dels tumors benignes amb les dels malignes. Donat el resultat obtingut, indica quines característiques podrien ser més rellevants per diagnosticar un tumor maligne.\n",
    "\n",
    "Nota: Consulta aquest [enllaç](http://www.conexionismo.com/leer_articulo.php?ref=prueba_t_de_student_para_la_comparacion_de_dos_muestras_independientes-j960497l) si vols ampliar coneixements sobre el test estadístic ttest. Per fer el test estadístic automàticament podeu utilitzar el mètode [ `ttest_ind`](https://docs.scipy.org/doc/scipy/reference/generated/scipy.stats.ttest_ind.html) de *Scipy.stats*\n"
   ]
  },
  {
   "cell_type": "code",
   "execution_count": null,
   "metadata": {},
   "outputs": [],
   "source": [
    "# Resposta"
   ]
  },
  {
   "cell_type": "markdown",
   "metadata": {},
   "source": [
    "#### Resposta\n"
   ]
  },
  {
   "cell_type": "markdown",
   "metadata": {},
   "source": [
    "## Exercici 7"
   ]
  },
  {
   "cell_type": "markdown",
   "metadata": {},
   "source": [
    "Representa mitjançant [boxplots](https://en.wikipedia.org/wiki/Boxplots) com varien la textura, l'àrea, la concavitat i la simetria dels tumors segons el tipus (*maligne/benigne*). Recorda ajustar els paràmetres de la visualització per facilitar la lectura i la interpretació de la gràfica.\n",
    "\n",
    "Nota: Crea un dataframe amb les dades de `diagnostics.data` i` diagnostics.target` per dibuixar els boxplots."
   ]
  },
  {
   "cell_type": "code",
   "execution_count": null,
   "metadata": {},
   "outputs": [],
   "source": [
    "# Importem les biblioteques\n",
    "\n",
    "import numpy as np\n",
    "import pandas as pd\n",
    "import seaborn as sns  # biblioteca opcional\n",
    "import matplotlib.pyplot as plt\n",
    "from sklearn import datasets\n",
    "\n",
    "# Importem el dataset\n",
    "diagnostics = datasets.load_breast_cancer()"
   ]
  },
  {
   "cell_type": "code",
   "execution_count": null,
   "metadata": {},
   "outputs": [],
   "source": [
    "# Resposta"
   ]
  },
  {
   "cell_type": "markdown",
   "metadata": {},
   "source": [
    "## Exercici 8"
   ]
  },
  {
   "cell_type": "markdown",
   "metadata": {},
   "source": [
    "L'objectiu d'un model de **regressió lineal** és trobar una relació entre una o més característiques (variables independents) i una variable objectiu contínua (variable dependent). Quan només fem servir una característica predictiva se l'anomena **Regressió Lineal univariada** i si hi ha múltiples predictors es diu **Regressió Lineal Múltiple**.\n",
    "\n",
    "Quan la variable dependent és una variable binària que conté dades codificades com 1 (sí, èxit, etc.) o 0 (no, fallada, etc.), com és el cas de l'dataset `breast_cancer`, haurem de fer servir una [regressió logística](https://ca.wikipedia.org/wiki/Regressi%C3%B3_log%C3%ADstica).\n",
    "\n",
    "Crea un model de regressió logística que estimi la probabilitat que un tumor sigui maligne donada la seva àrea i la seva textura. Mostra la [matriu de confusió](https://ca.wikipedia.org/wiki/Matriu_de_confusi%C3%B3) del model obtingut.\n",
    "\n",
    "Nota: Potser t'interessa explorar la funció [sklearn.metrics.confusion_matrix ()](https://scikit-learn.org/stable/modules/generated/sklearn.metrics.confusion_matrix.html)"
   ]
  },
  {
   "cell_type": "code",
   "execution_count": null,
   "metadata": {},
   "outputs": [],
   "source": [
    "# Resposta"
   ]
  },
  {
   "cell_type": "markdown",
   "metadata": {},
   "source": [
    "## Exercici 9"
   ]
  },
  {
   "cell_type": "markdown",
   "metadata": {},
   "source": [
    "El **Multi-layer Perceptron (MLP)** és un algorisme d'aprenentatge supervisat que aprèn una funció mitjançant l'entrenament d'un model que associa n dimensions d'entrada (*predictors*) amb dimensions de sortida (*targets*). Tenint en compte un conjunt de funcions i un objectiu, pot aprendre un aproximador de funcions no lineals per classificació o regressió. És diferent de la regressió logística, ja que entre la capa d'entrada i la de sortida, pot haver-hi una o més capes no lineals, anomenades capes ocultes (_hidden layers_).\n",
    "\n",
    "Aplica un classificador basat en un MLP per predir el tipus de tumor utilitzant l'àrea, la textura, la simetria i la concavitat, com a atributs i utilitzant el 70% de les mostres d'entrenament i el 30% de test. Heu d'utilitzar la funció [sklearn.neural_network.MLPClassifier](https://scikit-learn.org/stable/modules/neural_networks_supervised.html).\n",
    "\n",
    "Utilitza tres nivells (*layers*) amb 30 neurones per nivell. Quin valor de precisió obtenim en un model basat en un MLP?"
   ]
  },
  {
   "cell_type": "code",
   "execution_count": null,
   "metadata": {},
   "outputs": [],
   "source": [
    "# Resposta"
   ]
  },
  {
   "cell_type": "markdown",
   "metadata": {},
   "source": [
    "## Exercici 10\n",
    "\n"
   ]
  },
  {
   "cell_type": "markdown",
   "metadata": {},
   "source": [
    "Apliqueu un classificador basat en un [arbre de decicisió](https://es.wikipedia.org/wiki/Árbol_de_decisión)\n",
    "d'un màxim de 3 nivells de profunditat per predir els tipus de tumor utilitzant l'àrea, la textura i la simetria com a atributs i utilitzant 60% de les mostres d'entrenament i el 40% de test. Heu d'utilitzar la funció [sklearn.tree.DecisionTreeClassifier](https://scikit-learn.org/stable/modules/generated/sklearn.tree.DecisionTreeClassifier.html).\n",
    "\n",
    "Quin valor de precisió obtenim en un model basat en un arbre de decisió? Representa l'arbre de decisió i exporta-ho a un fitxer PDF. Explora l'arbre resultant al PDF i respon a la següent pregunta: Donades aquestes dades, com diagnosticaries a un pacient que presenta un tumor d'àrea 400, simetria 0.18, i un valor de textura de 19 punts?\n",
    "\n",
    "Nota: Potser la funció [tree](https://scikit-learn.org/stable/modules/tree.html) de _sklearn_ sigui d'utilitat. "
   ]
  },
  {
   "cell_type": "code",
   "execution_count": null,
   "metadata": {},
   "outputs": [],
   "source": [
    "# Resposta"
   ]
  },
  {
   "cell_type": "markdown",
   "metadata": {},
   "source": [
    "#### Resposta\n"
   ]
  },
  {
   "cell_type": "markdown",
   "metadata": {},
   "source": [
    "##  Solucions exercicis per practicar\n"
   ]
  },
  {
   "cell_type": "markdown",
   "metadata": {},
   "source": [
    "## Pregunta 1\n",
    "\n",
    "Investiga i descriu el funcionament del mètode de cross-validation *Leave One Out*. Posa un exemple d'aplicació de l'algorisme per resoldre un problema d'anàlisi en l'àmbit de la salut. Recordeu que cal citar les referències consultades per respondre la pregunta, i que la resposta que proporcioneu ha de ser original (redactada per vosaltres mateixos, després d'haver llegit i entès les referències que considereu oportunes)."
   ]
  },
  {
   "cell_type": "markdown",
   "metadata": {},
   "source": [
    "#### Resposta\n",
    "\n",
    "La validació creuada *Leave One Out* és essencialment una estimació del rendiment de generalització d'un model entrenat amb $𝑛 - 1$ mostres de dades, que generalment és una estimació lleugerament pessimista del rendiment d'un model entrenat en $𝑛$ mostres. És millor pensar en la validació creuada com una forma d'estimar el rendiment de generalització dels models generats per un procediment particular, en lloc del model en si. Per exemple, imaginem que estem creant un model predictiu del tipus de melanoma (alt o baix risc) i tenim una mostra relativament petita (1000 observacions) que inclouen 3 paràmetres descriptius del melanoma i el seu nivell de risc (alt o baix). Podem ajustar el model usant 999 de les 1000 observacions per després avaluar el seu rendiment donada l'observació que hem deixat fora del set d'entrenament. En aquest cas, podem repetir aquest mètode fins a 999 vegades, per estimar un rendiment mitjà del model."
   ]
  },
  {
   "cell_type": "markdown",
   "metadata": {},
   "source": [
    "## Pregunta 2\n",
    "\n",
    "Hem d'evitar avaluar els models amb les mateixes dades que s'han utilitzat per a l'aprenentatge. En cas de no fer-ho, podríem afavorir el problema del **sobreajust**. En què consisteix aquest problema i quines conseqüències pot tenir?"
   ]
  },
  {
   "cell_type": "markdown",
   "metadata": {},
   "source": [
    "#### Resposta\n",
    "\n",
    "L'excés d'ajust d'un model és un error de modelatge que es produeix quan una funció s'ajusta massa a un conjunt limitat de punts de dades. Per tant, només suposa un problema en els models d'aprenentatge supervisat. Una de les conseqüències del sobreajust és que el model pren una forma massa complexa per explicar la idiosincràsia a les dades objecte d'estudi i difícilment generalitza a noves mostres de dades. La **generalització** és un terme utilitzat per descriure la capacitat del model de reaccionar davant les noves dades. És a dir, després de ser entrenat en un entrenament, un model pot digerir dades noves i fer prediccions precises. La capacitat del model per generalitzar és essencial per a l'èxit d'un model. Si un model s'ha format massa bé sobre dades d'entrenament, no podrà generalitzar-se. Farà prediccions inexactes quan es donin noves dades, i farà que el model sigui inútil encara que sigui capaç de fer prediccions precises per a les dades d'entrenament. D'això es diu sobreajust (*overfitting*).\n",
    "\n",
    "Un dels mètodes més utilitzats per avaluar el problema del sobreajust es diu **cross-validation**. És un model de validació de models per avaluar com es generalitzen els resultats a un conjunt de dades independent. S'utilitza principalment quan l'objectiu és la predicció i es vol estimar amb exactitud com es comportarà un model predictiu a la pràctica. Quan fem **cross-validation**, destinarem una part de les dades a fer l'entrenament del model i l'altra part la reservarem per avaluar el rendiment del model après.\n"
   ]
  },
  {
   "cell_type": "markdown",
   "metadata": {},
   "source": [
    "## Exercici 1\n",
    "\n",
    "Carregueu el conjunt de dades Iris incorporat a la biblioteca `sklearn`. Implementeu una funció, `describe_iris`, que retorni un diccionari amb la següent estructura:\n",
    "\n",
    "```\n",
    "{\n",
    "   \"categories\": [],\n",
    "   \"atributs\": [],\n",
    "   \"num_mostres\": 0\n",
    "}\n",
    "```\n",
    "*Categories* ha de ser una matriu amb el nom dels **targets** del *dataset*. *Atributs* ha de ser una matriu amb el nom dels **atributs** i finalment, *num_mostres* ha d'indicar el nombre **total de mostres** del dataset."
   ]
  },
  {
   "cell_type": "code",
   "execution_count": null,
   "metadata": {},
   "outputs": [],
   "source": [
    "from sklearn import datasets\n",
    "\n",
    "# Carreguem el dataset de l'iris\n",
    "\n",
    "iris = datasets.load_iris()\n",
    "\n",
    "\n",
    "def describe_iris():\n",
    "    # Inicialitzem el diccionari\n",
    "    diccionari = {}\n",
    "    # Assignem a cada atribut el valor corresponent basant-se el dataset Iris\n",
    "    diccionari[\"categories\"] = iris.target_names\n",
    "    diccionari[\"atributs\"] = iris.feature_names\n",
    "    diccionari[\"num_mostres\"] = len(iris.data)\n",
    "\n",
    "    return diccionari\n",
    "\n",
    "\n",
    "print(describe_iris())"
   ]
  },
  {
   "cell_type": "markdown",
   "metadata": {},
   "source": [
    "## Exercici 2"
   ]
  },
  {
   "cell_type": "markdown",
   "metadata": {},
   "source": [
    "Representeu gràficament en un *scatter plot* la longitud dels sèpals en funció de l'ample dels sèpals.\n",
    "Nota: per poder incloure accents en els textos de les etiquetes o del títol del plot, cal indicar explícitament que les cadenes de caràcters són Unicode. Podeu fer-ho incloent una _u_ davant de les cometes que delimiten la cadena de caràcters."
   ]
  },
  {
   "cell_type": "code",
   "execution_count": null,
   "metadata": {},
   "outputs": [],
   "source": [
    "%matplotlib inline\n",
    "\n",
    "# Importem les biblioteques\n",
    "import matplotlib.pyplot as plt\n",
    "from sklearn import datasets\n",
    "\n",
    "# Importem el dataset\n",
    "iris=datasets.load_iris()\n",
    "L_sep = iris.data[:,0]\n",
    "W_sep= iris.data[:,1]\n",
    "Y = iris.target\n",
    "\n",
    "# Creem la figura\n",
    "plt.figure(1, figsize=(8,6))\n",
    "plt.clf()\n",
    "plt.scatter(L_sep,W_sep,c=Y)\n",
    "plt.xlabel(u'Longitud Sépalo')\n",
    "plt.ylabel(u'Ancho Sépalo')"
   ]
  },
  {
   "cell_type": "markdown",
   "metadata": {},
   "source": [
    "## Exercici 3"
   ]
  },
  {
   "cell_type": "markdown",
   "metadata": {},
   "source": [
    "Dividir les dades Iris en dos subconjunts, dades d'entrenament i test, en una proporció 70% entrenament i 30% test."
   ]
  },
  {
   "cell_type": "code",
   "execution_count": null,
   "metadata": {},
   "outputs": [],
   "source": [
    "from sklearn.model_selection import train_test_split\n",
    "\n",
    "iris = datasets.load_iris()\n",
    "\n",
    "# Dividim les dades en dades d'entrenament (70%) i de test (30%) mitjançant\n",
    "# la funció train_test_split\n",
    "train, test = train_test_split(iris.data, test_size=0.3)\n",
    "\n",
    "# L'atribut test_size = 0.3 divideix les dades en una proporció de 70% i 30%.\n",
    "# entrenament = 70% i test = 30%.\n",
    "print(train.shape)\n",
    "print(test.shape)\n",
    "print(test)"
   ]
  },
  {
   "cell_type": "markdown",
   "metadata": {},
   "source": [
    "## Exercici 4\n",
    "\n",
    "Apliqueu el classificador _KNeighborsClassifier_ per predir el tipus d'espècie d'iris utilitzant la longitud i ample dels pètals com a atributs i utilitzant 60% de les mostres per entrenament i 40% de les mostres per al test (podeu fer servir qualsevol partició de mostres d'entrenament i de test).\n",
    "\n",
    "Quin rendiment s'obté?"
   ]
  },
  {
   "cell_type": "code",
   "execution_count": null,
   "metadata": {},
   "outputs": [],
   "source": [
    "import pandas as pd\n",
    "from sklearn import datasets\n",
    "\n",
    "# Carreguen les dades\n",
    "iris = datasets.load_iris()\n",
    "iris_df = pd.DataFrame(iris.data)\n",
    "\n",
    "# Assignem categoria a cadascuna de les espècies\n",
    "iris_df[\"Species\"] = iris.target\n",
    "iris_df.loc[(iris_df.Species == 0), \"Species\"] = iris.target_names[0]\n",
    "iris_df.loc[(iris_df.Species == 1), \"Species\"] = iris.target_names[1]\n",
    "iris_df.loc[(iris_df.Species == 2), \"Species\"] = iris.target_names[2]\n",
    "\n",
    "iris_df.columns = [\"SepalLength\", \"SepalWitdh\", \"PetalLength\",\n",
    "                   \"PetalWitdh\", \"Species\"]"
   ]
  },
  {
   "cell_type": "code",
   "execution_count": null,
   "metadata": {},
   "outputs": [],
   "source": [
    "# Resposta\n",
    "\n",
    "from sklearn.model_selection import train_test_split\n",
    "from sklearn.neighbors import KNeighborsClassifier\n",
    "import warnings\n",
    "\n",
    "warnings.filterwarnings(\"ignore\")\n",
    "\n",
    "# Dividim les dades en dades d'entrenament (60%) i de test (40%) mitjançant\n",
    "# la funció train_test_split\n",
    "train, test = train_test_split(iris_df, test_size=0.4)\n",
    "\n",
    "# Creem el classificador\n",
    "knn = KNeighborsClassifier()\n",
    "\n",
    "# Entrenem el classificador\n",
    "knn.fit(train[[\"PetalLength\", \"PetalWitdh\"]], train[[\"Species\"]])\n",
    "\n",
    "# Provem el classificador\n",
    "iris_predicted = knn.predict(test[[\"PetalLength\", \"PetalWitdh\"]])\n",
    "\n",
    "# Mostrem els resultats de la predicció sobre el conjunt de test\n",
    "print(\n",
    "    \"Accuracy: \\t\\t\"\n",
    "    + str(knn.score(test[[\"PetalLength\", \"PetalWitdh\"]], test[[\"Species\"]]))\n",
    ")"
   ]
  },
  {
   "cell_type": "markdown",
   "metadata": {},
   "source": [
    "## Exercici 5\n",
    "\n",
    "Apliqueu l'algorisme de _clustering KMeans_ tal com hem vist al Notebook de teoria, però aquesta vegada utilitzant els següents paràmetres:\n",
    "\n",
    "```\n",
    "Número de clústers: 10\n",
    "Mètode d'inicialització dels punts centrals: 'random'\n",
    "Nombre d'iteracions per a la selecció de punts centrals: 5\n",
    "Algoritme: 'elkan'\n",
    "```\n",
    "\n",
    "Visualitzeu gràficament el resultat. Si les dades fossin [disperses](https://en.wikipedia.org/wiki/Sparse_matrix), quina opció del paràmetre _alg_ de la funció _sklearn.cluster.KMeans_ hauríem d'utilitzar?"
   ]
  },
  {
   "cell_type": "code",
   "execution_count": null,
   "metadata": {},
   "outputs": [],
   "source": [
    "import matplotlib.pyplot as plt\n",
    "from mpl_toolkits.mplot3d import Axes3D\n",
    "from sklearn import cluster, datasets\n",
    "\n",
    "iris = datasets.load_iris()\n",
    "X_iris = iris.data\n",
    "\n",
    "# Consultem l'ajuda de K-means per veure com es defineixen els paràmetres\n",
    "#?cluster.KMeans\n",
    "\n",
    "# Carreguem l'algoritme K-means i ajustem els paràmetres segons l'enunciat\n",
    "k_means = cluster.KMeans(n_clusters=10,init='random',n_init=5, algorithm='elkan')\n",
    "k_means.fit(X_iris)\n",
    "\n",
    "# Definim els paràmetres de la figura\n",
    "fig = plt.figure(1, figsize=(8, 6))\n",
    "ax = Axes3D(fig, elev=-150, azim=110)\n",
    "ax.scatter(X_iris[:,[0]], X_iris[:,[1]], X_iris[:,[2]], c=k_means.labels_)\n",
    "ax.set_title(u\"Taxonomía de las 150 muestras utilizando K-means\")\n",
    "ax.set_xlabel(u\"Longitud del sépalo\")\n",
    "ax.xaxis.set_ticklabels([])\n",
    "ax.set_ylabel(u\"Ancho del sépalo\")\n",
    "ax.yaxis.set_ticklabels([])\n",
    "ax.set_zlabel(u\"Longitud del pétalo\")\n",
    "ax.zaxis.set_ticklabels([])"
   ]
  },
  {
   "cell_type": "markdown",
   "metadata": {},
   "source": [
    "#### Resposta"
   ]
  },
  {
   "cell_type": "markdown",
   "metadata": {},
   "source": [
    "Si les dades fossin disperses, el paràmetre _algorithm_ hauria de ser 'full'."
   ]
  },
  {
   "cell_type": "markdown",
   "metadata": {},
   "source": [
    "## Exercici 6"
   ]
  },
  {
   "cell_type": "markdown",
   "metadata": {},
   "source": [
    "En els següents exercicis farem servir el conjunt de dades del dataset `breast_cancer` de *sklearn*. Crea una taula amb els estadístics descriptius de totes les característiques dels tumors de la base de dades `breast_cancer` agrupats per tipus (benigne/maligne).\n",
    "\n",
    "Feu un test estadístic [ttest](https://docs.scipy.org/doc/scipy/reference/generated/scipy.stats.ttest_ind.html) per comparar l'error de la simetria (*symmetry error*) i finor (*mean smoothness*) dels tumors benignes amb les dels malignes. Donat el resultat obtingut, indica quines característiques podrien ser més rellevants per diagnosticar un tumor maligne.\n",
    "\n",
    "Nota: Consulta aquest [enllaç](http://www.conexionismo.com/leer_articulo.php?ref=prueba_t_de_student_para_la_comparacion_de_dos_muestras_independientes-j960497l) si vols ampliar coneixements sobre el test estadístic ttest. Per fer el test estadístic automàticament podeu utilitzar el mètode [ `ttest_ind`](https://docs.scipy.org/doc/scipy/reference/generated/scipy.stats.ttest_ind.html) de *Scipy.stats*"
   ]
  },
  {
   "cell_type": "code",
   "execution_count": null,
   "metadata": {},
   "outputs": [],
   "source": [
    "# Resposta\n",
    "\n",
    "# Importem les biblioteques\n",
    "import pandas as pd\n",
    "from sklearn import datasets\n",
    "import scipy.stats as stats\n",
    "\n",
    "# Importem el dataset\n",
    "diagnostics = datasets.load_breast_cancer()\n",
    "\n",
    "# Els transformem en un dataframe\n",
    "diagnostics_df = pd.DataFrame(diagnostics.data)\n",
    "\n",
    "# Nombrem les columnes de las variables\n",
    "diagnostics_df.columns = diagnostics[\"feature_names\"]\n",
    "\n",
    "# Afegim la columna Type amb el resultat de la diagnosi (benigne / maligne)\n",
    "diagnostics_df[\"Type\"] = diagnostics.target\n",
    "\n",
    "# Mostrem per pantalla els paràmetres descriptius de la mostra\n",
    "diagnostics_df.groupby(\"Type\").describe()"
   ]
  },
  {
   "cell_type": "code",
   "execution_count": null,
   "metadata": {},
   "outputs": [],
   "source": [
    "# Realitzem un test estadístic per a cada variable comparant els tumors\n",
    "# benignes (tipus 0) i malignes (tipus 1).\n",
    "# Executem 1 prova t de student per a mostres independents ja que cada\n",
    "# registre correspon amb un pacient diferent.\n",
    "t1, p1 = stats.ttest_ind(\n",
    "    diagnostics_df.query(\"Type==0\")[\"mean smoothness\"],\n",
    "    diagnostics_df.query(\"Type==1\")[\"mean smoothness\"],\n",
    ")\n",
    "print(\"Anàlisi de la tersura. Estadística t= \" + str(t1) + \", p-val = \" +\n",
    "      str(p1))\n",
    "t2, p2 = stats.ttest_ind(\n",
    "    diagnostics_df.query(\"Type==0\")[\"symmetry error\"],\n",
    "    diagnostics_df.query(\"Type==1\")[\"symmetry error\"],\n",
    ")\n",
    "print(\n",
    "    \"Anàlisi de l'error de la simetria. Estadística t= \" +\n",
    "    str(t2) + \", p-val = \" + str(p2)\n",
    ")"
   ]
  },
  {
   "cell_type": "markdown",
   "metadata": {},
   "source": [
    "#### Resposta\n",
    "\n",
    "Preferirem la variable finor com diferenciadora dels tumors benignes i malignes, ja que el test suggereix que les dues mostres de llisor comparades provenen de poblacions diferents."
   ]
  },
  {
   "cell_type": "markdown",
   "metadata": {},
   "source": [
    "## Exercici 7"
   ]
  },
  {
   "cell_type": "markdown",
   "metadata": {},
   "source": [
    "Representa mitjançant [boxplots](https://en.wikipedia.org/wiki/Boxplots) com varien la textura, l'àrea, la concavitat i la simetria dels tumors segons el tipus (*maligne/benigne*). Recorda ajustar els paràmetres de la visualització per facilitar la lectura i la interpretació de la gràfica.\n",
    "\n",
    "Nota: Crea un dataframe amb les dades de `diagnostics.data` i` diagnostics.target` per dibuixar els boxplots."
   ]
  },
  {
   "cell_type": "code",
   "execution_count": null,
   "metadata": {},
   "outputs": [],
   "source": [
    "# Importem les biblioteques\n",
    "import numpy as np\n",
    "import pandas as pd\n",
    "import seaborn as sns  # biblioteca opcional\n",
    "import matplotlib.pyplot as plt\n",
    "from sklearn import datasets\n",
    "\n",
    "# Importem el dataset\n",
    "diagnostics = datasets.load_breast_cancer()"
   ]
  },
  {
   "cell_type": "code",
   "execution_count": null,
   "metadata": {},
   "outputs": [],
   "source": [
    "# Resposta\n",
    "diagnostics_df = pd.DataFrame(diagnostics.data)\n",
    "\n",
    "# Assignem una categoria a cada tumor\n",
    "diagnostics_df.columns = diagnostics[\"feature_names\"]\n",
    "diagnostics_df[\"Type\"] = diagnostics.target\n",
    "diagnostics_df.loc[(diagnostics_df.Type == 0), \"Type\"] = diagnostics.target_names[0]\n",
    "diagnostics_df.loc[(diagnostics_df.Type == 1), \"Type\"] = diagnostics.target_names[1]\n",
    "\n",
    "# Definim paràmetres de la figura\n",
    "label = [\"maligno\", \"benigno\"]\n",
    "pos = [1, 2]\n",
    "fig, axes = plt.subplots(nrows=2, ncols=2, figsize=(15, 10))\n",
    "\n",
    "# Dibuixem cadascun dels gràfics\n",
    "vplot1 = axes[0, 0].boxplot(\n",
    "    [\n",
    "        np.array(diagnostics_df[\"mean texture\"][diagnostics_df.Type == \"malignant\"]),\n",
    "        np.array(\n",
    "            diagnostics_df[\"mean texture\"][diagnostics_df.Type == \"benign\"],\n",
    "        ),\n",
    "    ],\n",
    "    vert=False,\n",
    ")\n",
    "axes[0, 0].set_xlabel(\"texture\")\n",
    "axes[0, 0].set_ylabel(\"Type\")\n",
    "axes[0, 0].set_yticks(pos)\n",
    "axes[0, 0].set_yticklabels(label)\n",
    "\n",
    "vplot2 = axes[0, 1].boxplot(\n",
    "    [\n",
    "        np.array(diagnostics_df[\"mean area\"][diagnostics_df.Type == \"malignant\"]),\n",
    "        np.array(\n",
    "            diagnostics_df[\"mean area\"][diagnostics_df.Type == \"benign\"],\n",
    "        ),\n",
    "    ],\n",
    "    vert=False,\n",
    ")\n",
    "axes[0, 1].set_xlabel(\"area\")\n",
    "axes[0, 1].set_ylabel(\"Type\")\n",
    "axes[0, 1].set_yticks(pos)\n",
    "axes[0, 1].set_yticklabels(label)\n",
    "\n",
    "vplot3 = axes[1, 0].boxplot(\n",
    "    [\n",
    "        np.array(diagnostics_df[\"mean concavity\"][diagnostics_df.Type == \"malignant\"]),\n",
    "        np.array(\n",
    "            diagnostics_df[\"mean concavity\"][diagnostics_df.Type == \"benign\"],\n",
    "        ),\n",
    "    ],\n",
    "    vert=False,\n",
    ")\n",
    "axes[1, 0].set_xlabel(\"concavity\")\n",
    "axes[1, 0].set_ylabel(\"Type\")\n",
    "axes[1, 0].set_yticks(pos)\n",
    "axes[1, 0].set_yticklabels(label)\n",
    "\n",
    "vplot4 = axes[1, 1].boxplot(\n",
    "    [\n",
    "        np.array(diagnostics_df[\"mean symmetry\"][diagnostics_df.Type == \"malignant\"]),\n",
    "        np.array(\n",
    "            diagnostics_df[\"mean symmetry\"][diagnostics_df.Type == \"benign\"],\n",
    "        ),\n",
    "    ],\n",
    "    vert=False,\n",
    ")\n",
    "axes[1, 1].set_xlabel(\"symmetry\")\n",
    "axes[1, 1].set_ylabel(\"Type\")\n",
    "axes[1, 1].set_yticks(pos)\n",
    "axes[1, 1].set_yticklabels(label)\n",
    "colors = [\"forestgreen\", \"darkorange\"]\n",
    "\n",
    "# Assignem color a cada un dels cossos del boxplot\n",
    "plt.show()"
   ]
  },
  {
   "cell_type": "code",
   "execution_count": null,
   "metadata": {},
   "outputs": [],
   "source": [
    "# Opció 2: Una altra forma de fer l'exercici és mitjançant la biblioteca\n",
    "# Seaborn, que veurem en la propera unitat\n",
    "\n",
    "# Importem les biblioteques\n",
    "import numpy as np\n",
    "import pandas as pd\n",
    "import seaborn as sns\n",
    "import matplotlib.pyplot as plt\n",
    "from sklearn import datasets\n",
    "\n",
    "# Importem el dataset\n",
    "diagnostics = datasets.load_breast_cancer()\n",
    "diagnostics_df = pd.DataFrame(diagnostics.data)\n",
    "\n",
    "# Assignem una categoria a cada tumor\n",
    "diagnostics_df.columns = diagnostics[\"feature_names\"]\n",
    "diagnostics_df[\"Type\"] = diagnostics.target\n",
    "diagnostics_df.loc[(diagnostics_df.Type == 0), \"Type\"] = diagnostics.target_names[0]\n",
    "diagnostics_df.loc[(diagnostics_df.Type == 1), \"Type\"] = diagnostics.target_names[1]\n",
    "\n",
    "# Dibuixem cadascuna de les gràfiques\n",
    "plt.figure(figsize=(15, 10))\n",
    "plt.subplot(2, 2, 1)\n",
    "sns.boxplot(x=diagnostics_df[\"mean texture\"], y=diagnostics_df.Type)\n",
    "plt.subplot(2, 2, 2)\n",
    "sns.boxplot(x=diagnostics_df[\"mean area\"], y=diagnostics_df.Type)\n",
    "plt.subplot(2, 2, 3)\n",
    "sns.boxplot(x=diagnostics_df[\"mean concavity\"], y=diagnostics_df.Type)\n",
    "plt.subplot(2, 2, 4)\n",
    "sns.boxplot(x=diagnostics_df[\"mean symmetry\"], y=diagnostics_df.Type)"
   ]
  },
  {
   "cell_type": "markdown",
   "metadata": {},
   "source": [
    "## Exercici 8"
   ]
  },
  {
   "cell_type": "markdown",
   "metadata": {},
   "source": [
    "L'objectiu d'un model de **regressió lineal** és trobar una relació entre una o més característiques (variables independents) i una variable objectiu contínua (variable dependent). Quan només fem servir una característica predictiva se l'anomena **Regressió Lineal univariada** i si hi ha múltiples predictors es diu **Regressió Lineal Múltiple**.\n",
    "\n",
    "Quan la variable dependent és una variable binària que conté dades codificades com 1 (sí, èxit, etc.) o 0 (no, fallada, etc.), com és el cas de l'dataset `breast_cancer`, haurem de fer servir una [regressió logística](https://ca.wikipedia.org/wiki/Regressi%C3%B3_log%C3%ADstica).\n",
    "\n",
    "Crea un model de regressió logística que estimi la probabilitat que un tumor sigui maligne donada la seva àrea i la seva textura. Mostra la [matriu de confusió](https://ca.wikipedia.org/wiki/Matriu_de_confusi%C3%B3) del model obtingut.\n",
    "\n",
    "Nota: Potser t'interessa explorar la funció [sklearn.metrics.confusion_matrix ()](https://scikit-learn.org/stable/modules/generated/sklearn.metrics.confusion_matrix.html)"
   ]
  },
  {
   "cell_type": "code",
   "execution_count": null,
   "metadata": {},
   "outputs": [],
   "source": [
    "# Resposta\n",
    "import matplotlib.pyplot as plt\n",
    "from sklearn.linear_model import LogisticRegression\n",
    "from sklearn.model_selection import train_test_split\n",
    "\n",
    "X = diagnostics_df[[\"mean texture\", \"mean area\"]]\n",
    "y = diagnostics_df[\"Type\"]\n",
    "\n",
    "# Dividim les dades en dades d'entrenament (60%) i de test (40%) mitjançant la funció train_test_split\n",
    "train, test = train_test_split(diagnostics_df, test_size=0.4)\n",
    "train_X = train[[\"mean texture\", \"mean area\"]]\n",
    "train_y = train[\"Type\"]\n",
    "test_X = test[[\"mean texture\", \"mean area\"]]\n",
    "test_y = test[\"Type\"]\n",
    "\n",
    "# Apliquem la regressió\n",
    "clf = LogisticRegression(random_state=0, solver=\"lbfgs\").fit(train_X, train_y)\n",
    "clf.score(test_X, test_y)\n",
    "\n",
    "# Prediu el tipus de càncer atesos els predictors textura i Àrea\n",
    "predicted = clf.predict(diagnostics_df[[\"mean texture\", \"mean area\"]].values)\n",
    "real = diagnostics_df[\"Type\"].values\n",
    "\n",
    "# Representem la matriu de confusió\n",
    "result_cofusion_mat = []\n",
    "for real_c in [\"benign\", \"malignant\"]:\n",
    "    tmp = []\n",
    "    for pred_c in [\"benign\", \"malignant\"]:\n",
    "        # Dividim per el nom total de casos per calcular la proporció de:\n",
    "        # Vertaders positius, vertaders negatius, falsos positius, i falsos\n",
    "        # negatius\n",
    "        tmp.append(\n",
    "            np.where(np.logical_and(predicted == pred_c, real == real_c))[0].size\n",
    "            / np.where(real == real_c)[0].size\n",
    "        )\n",
    "    result_cofusion_mat.append(tmp)\n",
    "\n",
    "plt.matshow(result_cofusion_mat)\n",
    "plt.xticks([0, 1], [\"Pred. benign\", \"Pred. malignant\"])\n",
    "plt.yticks([0, 1], [\"True benign\", \"True malignant\"])\n",
    "plt.colorbar()\n",
    "plt.show()"
   ]
  },
  {
   "cell_type": "markdown",
   "metadata": {},
   "source": [
    "## Exercici 9"
   ]
  },
  {
   "cell_type": "markdown",
   "metadata": {},
   "source": [
    "El **Multi-layer Perceptron (MLP)** és un algorisme d'aprenentatge supervisat que aprèn una funció mitjançant l'entrenament d'un model que associa n dimensions d'entrada (*predictors*) amb dimensions de sortida (*targets*). Tenint en compte un conjunt de funcions i un objectiu, pot aprendre un aproximador de funcions no lineals per classificació o regressió. És diferent de la regressió logística, ja que entre la capa d'entrada i la de sortida, pot haver-hi una o més capes no lineals, anomenades capes ocultes (_hidden layers_).\n",
    "\n",
    "Aplica un classificador basat en un MLP per predir el tipus de tumor utilitzant l'àrea, la textura, la simetria i la concavitat, com a atributs i utilitzant el 70% de les mostres d'entrenament i el 30% de test. Heu d'utilitzar la funció [sklearn.neural_network.MLPClassifier](https://scikit-learn.org/stable/modules/neural_networks_supervised.html).\n",
    "\n",
    "Utilitza tres nivells (*layers*) amb 30 neurones per nivell. Quin valor de precisió obtenim en un model basat en un MLP?"
   ]
  },
  {
   "cell_type": "code",
   "execution_count": null,
   "metadata": {},
   "outputs": [],
   "source": [
    "# Resposta\n",
    "from sklearn.model_selection import train_test_split\n",
    "from sklearn.neural_network import MLPClassifier\n",
    "\n",
    "# Dividim les dades en dades d'entrenament (70%) i de test (30%) mitjançant\n",
    "# la funció train_test_split\n",
    "train, test = train_test_split(diagnostics_df, test_size=0.3)\n",
    "train_X = train[[\"mean texture\", \"mean area\", \"mean symmetry\", \"mean concavity\"]]\n",
    "train_y = train[\"Type\"]\n",
    "test_X = test[[\"mean texture\", \"mean area\", \"mean symmetry\", \"mean concavity\"]]\n",
    "test_y = test[\"Type\"]\n",
    "\n",
    "# Apliquem el MLP\n",
    "clf = MLPClassifier(hidden_layer_sizes=(3, 30), max_iter=1000)\n",
    "clf.fit(train_X, train_y)\n",
    "\n",
    "# Mostrem la precisió\n",
    "score = clf.score(test_X, test_y)\n",
    "print(\n",
    "    \"El model té un \"\n",
    "    + str(np.around(score, 2) * 100)\n",
    "    + \"% de precisió en predir el tipus de tumor.\"\n",
    ")"
   ]
  },
  {
   "cell_type": "markdown",
   "metadata": {},
   "source": [
    "## Exercici 10\n",
    "\n"
   ]
  },
  {
   "cell_type": "markdown",
   "metadata": {},
   "source": [
    "Apliqueu un classificador basat en un [arbre de decisió](https://es.wikipedia.org/wiki/Árbol_de_decisión)\n",
    "d'un màxim de 3 nivells de profunditat per predir els tipus de tumor utilitzant l'àrea, la textura i la simetria com a atributs i utilitzant 60% de les mostres d'entrenament i el 40% de test. Heu d'utilitzar la funció [sklearn.tree.DecisionTreeClassifier](https://scikit-learn.org/stable/modules/generated/sklearn.tree.DecisionTreeClassifier.html).\n",
    "\n",
    "Quin valor de precisió obtenim en un model basat en un arbre de decisió? Representa l'arbre de decisió i exporta-ho a un fitxer PDF. Explora l'arbre resultant al PDF i respon a la següent pregunta: Donades aquestes dades, com diagnosticaries a un pacient que presenta un tumor d'àrea 400, simetria 0.18, i un valor de textura de 19 punts?\n",
    "\n",
    "Nota: Potser la funció [tree](https://scikit-learn.org/stable/modules/tree.html) de _sklearn_ sigui d'utilitat."
   ]
  },
  {
   "cell_type": "code",
   "execution_count": null,
   "metadata": {},
   "outputs": [],
   "source": [
    "# Resposta\n",
    "import matplotlib.pyplot as plt\n",
    "from sklearn.model_selection import train_test_split\n",
    "from sklearn.tree import DecisionTreeClassifier, export_graphviz\n",
    "from sklearn import tree\n",
    "\n",
    "# Dividim les dades en dades d'entrenament (60%) i de test (40%) mitjançant\n",
    "# la funció train_test_split\n",
    "train, test = train_test_split(diagnostics_df, test_size=0.40)\n",
    "\n",
    "# Creem el classificador\n",
    "dtree = DecisionTreeClassifier(max_depth=3)\n",
    "\n",
    "# Entrenem el classificador\n",
    "fit = dtree.fit(train[[\"mean area\", \"mean symmetry\", \"mean texture\"]], train[[\"Type\"]])\n",
    "\n",
    "# Avaluem la precisió del classificador\n",
    "score = dtree.score(\n",
    "    test[[\"mean area\", \"mean symmetry\", \"mean texture\"]], test[[\"Type\"]]\n",
    ")\n",
    "print(\n",
    "    \"El model té un \"\n",
    "    + str(np.around(score, 2) * 100)\n",
    "    + \"% de precisió en predir el tipus de tumor.\"\n",
    ")\n",
    "\n",
    "# Mostrem l'arbre de decisió i l'exportem a un fitxer PDF\n",
    "fig = plt.figure(figsize=(20, 20), facecolor=\"w\")\n",
    "tree.plot_tree(\n",
    "    fit,\n",
    "    filled=True,\n",
    "    feature_names=[\"mean area\", \"mean symmetry\", \"mean texture\"],\n",
    "    class_names=[\"benigno\", \"maligno\"],\n",
    ")\n",
    "plt.savefig(\"tree.pdf\")"
   ]
  },
  {
   "cell_type": "markdown",
   "metadata": {},
   "source": [
    "#### Resposta\n",
    "\n",
    "Classificarem el tumor com benigne (corresponent amb el primer full de l'arbre) amb una probabilitat d'error (impuresa de Gini) bastant baixa."
   ]
  },
  {
   "cell_type": "markdown",
   "metadata": {},
   "source": [
    "<img src=\"data:image/avif;base64,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\" width=\"100\">"
   ]
  }
 ],
 "metadata": {
  "language_info": {
   "name": "python"
  }
 },
 "nbformat": 4,
 "nbformat_minor": 4
}
