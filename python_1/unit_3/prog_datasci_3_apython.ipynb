{
 "cells": [
  {
   "cell_type": "markdown",
   "metadata": {},
   "source": [
    "<div style=\"width: 100%; clear: both;\">\n",
    "    <div style=\"float: left; width: 50%;\">\n",
    "       <img src=\"https://www.uoc.edu/portal/_resources/common/imatges/marca_UOC/llibre-estil/logo-UOC-2linies.png\", align=\"left\">\n",
    "    </div>\n",
    "</div>\n",
    "\n",
    "<div style=\"float: right; width: 50%;\">\n",
    "    <p style=\"margin: 0; padding-top: 22px; text-align:right;\">22.401 · Fonaments de Programació</p>\n",
    "    <p style=\"margin: 0; text-align:right;\">Grau en Ciència de Dades Aplicada</p>\n",
    "    <p style=\"margin: 0; text-align:right; padding-button: 100px;\">Estudis d'Informàtica, Multimèdia i Telecomunicació</p>\n",
    "</div>\n",
    "\n",
    "</div>\n",
    "<div style=\"width: 100%; clear: both;\">\n",
    "<div style=\"width:100%;\">&nbsp;</div>"
   ]
  },
  {
   "cell_type": "markdown",
   "metadata": {},
   "source": [
    "Fonaments de Programació\n",
    "============================\n",
    "\n",
    "--- \n",
    "\n",
    "Unitat 3: Estructures de control i funcions en Python\n",
    "-----------------------------------------------------\n",
    "\n",
    "---"
   ]
  },
  {
   "cell_type": "markdown",
   "metadata": {},
   "source": [
    "# Instruccions d'ús\n",
    "\n",
    "Aquest document és un *notebook* interactiu que intercala explicacions més aviat teòriques de conceptes de programació amb fragments de codi executables. Per aprofitar els avantatges que aporta aquest format, us recomanem que, en primer lloc, llegiu les explicacions i el codi que us proporcionem. D'aquesta manera, tindreu un primer contacte amb els conceptes que hi exposem. Ara bé, **la lectura és només el principi!** Una vegada hàgiu llegit el contingut, no oblideu executar el codi proporcionat i modificar-lo per crear-ne variants que us permetin comprovar que n'heu entès la funcionalitat i explorar-ne els detalls d'implementació. En darrer lloc, us recomanem també consultar la documentació enllaçada per explorar amb més profunditat les funcionalitats dels mòduls presentats. "
   ]
  },
  {
   "cell_type": "markdown",
   "metadata": {},
   "source": [
    "Per guardar possibles modificacions que feu sobre aquest notebook, us aconsellem que munteu la unitat de Drive a Google Colaboratory (colab). Heu d'executar les instruccions següents:"
   ]
  },
  {
   "cell_type": "code",
   "execution_count": null,
   "metadata": {},
   "outputs": [],
   "source": [
    "from google.colab import drive\n",
    "drive.mount('/content/drive')        "
   ]
  },
  {
   "cell_type": "code",
   "execution_count": null,
   "metadata": {},
   "outputs": [],
   "source": [
    "%cd /content/drive/MyDrive/Colab_Notebooks/prog_datasci_3"
   ]
  },
  {
   "cell_type": "markdown",
   "metadata": {},
   "source": [
    "# Introducció\n",
    "\n",
    "Aquesta unitat continua presentant conceptes bàsics de programació en Python. En concret, presentarem les operacions lògiques i veurem com es pot alterar el flux d'execució dels programes amb estructures iteratives (_for_ i _while_), condicionals (_if_) i funcions. Addicionalment, explicarem com podem interactuar amb fitxers des de Python, i com podem importar altres mòduls per incorporar funcionalitats addicionals als nostres programes.\n",
    "\n",
    "A continuació, s'inclou la taula de continguts.  Per navegar pel document feu servir `Table of contents`\n",
    "(part superior esquerre) de google colab.\n",
    "\n",
    "<ul style=\"list-style-type:none\">\n",
    "    <li><a href='#1-Que-es-una-estructura-de-control'>1 Què és una estrutura de control?</a></li>\n",
    "    <li><a href='#2-Condicional'>2 Condicional</a></li>\n",
    "    <ul style=\"list-style-type:none\">\n",
    "        <li><a href=\"#2.1-If\">2.1 If</a></li>\n",
    "        <li><a href=\"#2.2-If-else\">2.2 If...else</a></li>\n",
    "        <li><a href=\"#2.3-If-elif-else\">2.3 If...elif...else</a></li>\n",
    "    </ul> \n",
    "    <li><a href='#3-Iteracio'>3 Iteració</a></li>\n",
    "    <ul style=\"list-style-type:none\">\n",
    "        <li><a href=\"#3.1-For\">3.1 For</a></li>\n",
    "        <li><a href=\"#3.2-While\">3.2 While</a></li>\n",
    "        <li><a href=\"#3.3-Break-i-Continue\">3.3 Break i Continue</a></li>\n",
    "        <li><a href=\"#3.4-Eines-de-Python-per-a-iterar-eficientment\">3.4 Eines de Python per iterar eficientment</a></li>\n",
    "        <ul style=\"list-style-type:none\">\n",
    "            <li><a href=\"#3.4.1-Range\">3.4.1 Range</a></li>\n",
    "            <li><a href=\"#3.4.2-Enumerate\">3.4.2 Enumerate</a></li>\n",
    "            <li><a href=\"#3.4.3-Zip\">3.4.3 Zip</a></li>\n",
    "        </ul>    \n",
    "    </ul>    \n",
    "    <li><a href='#4-List-Comprehensions'>4 List Comprehensions</a></li>   \n",
    "    <li><a href='#5-Funcions'>5 Funcions</a></li>\n",
    "    <ul style=\"list-style-type:none\">\n",
    "        <li><a href=\"#5.1-Args-i-kargs\">5.1 Args i kargs</a></li>\n",
    "        <li><a href=\"#5.2-Funcio-Lambda\">5.2 Funció Lambda</a></li>\n",
    "    </ul>    \n",
    "    <li><a href='#6-Llegir-i-escriure-des-de-fitxers'>6 Llegir i escriure des de fitxers</a></li>  \n",
    "        <ul style=\"list-style-type:none\">\n",
    "        <li><a href=\"#6.1-Pandas\">6.1 Pandas</a></li>\n",
    "    </ul>  \n",
    "    <li><a href='#7-Errors-i-Excepcions'>7 Errors i Excepcions</a></li>\n",
    "       <ul style=\"list-style-type:none\">   \n",
    "        <li><a href=\"#7.1-Handling-Exceptions\">7.1 Handling Exceptions</a></li>\n",
    "        <li><a href=\"#7.2-Raising-Exceptions\">7.2 Raising Exceptions</a></li>\n",
    "       </ul>   \n",
    " <li><a href=\"#8-Exercicis-i-preguntes-teoriques\">8 Exercicis i preguntes teòriques</a></li>\n",
    "    <ul style=\"list-style-type:none\">\n",
    "        <li><a href=\"#8.1-Instruccions-importants\">8.1 Instruccions Importants</a></li>\n",
    "     </ul>   \n",
    "    <li><a href=\"#9-Bibliografia\">9 Bibliografia</a></li>\n",
    "</ul>"
   ]
  },
  {
   "cell_type": "markdown",
   "metadata": {},
   "source": [
    "<a id='1-Que-es-una-estructura-de-control'></a>\n",
    "# 1 Què és una estructura de control? \n",
    "\n",
    "Els programes en Python executen les instruccions seqüencialment. Cada instrucció s'executa de manera ordenada i en el mateix ordre que estan escrites, com hem vist a la Unitat 2. A l'exemple següent es pot apreciar com s'executen les instruccions seqüencialment. "
   ]
  },
  {
   "cell_type": "code",
   "execution_count": null,
   "metadata": {},
   "outputs": [],
   "source": [
    "x = 3\n",
    "y = x + 7\n",
    "print(\"El valor de x és {}\".format(x))\n",
    "print(\"El valor de y és {}\".format(y))"
   ]
  },
  {
   "cell_type": "markdown",
   "metadata": {},
   "source": [
    "Primer assignem la variable $x$ igual a 3 i la variable $y$ com la suma de $x$ més el valor numèric 7. Tot seguit, mostrem per pantalla els valors de $x$ i $y$. Cada instrucció s'executa una darrere l'altra. El flux d'execució d'un conjunt d'instruccions pot ser modificat mitjançant les estructures de control. Les principals estructures de control són les estructures de control condicionals (**if-elif-else**) i les estructures de control iteratives (**for i  while**).\n",
    "\n"
   ]
  },
  {
   "cell_type": "markdown",
   "metadata": {},
   "source": [
    "<a id='2-Condicional'></a>\n",
    "# 2 Condicional\n",
    "\n",
    "L'estructura de control condicional és aquella estructura de control que permet implementar accions segons l'avaluació d'una condició simple, ja sigui falsa o veritable. "
   ]
  },
  {
   "cell_type": "markdown",
   "metadata": {},
   "source": [
    "<a id='2.1-If'></a>\n",
    "## 2.1  If"
   ]
  },
  {
   "cell_type": "markdown",
   "metadata": {},
   "source": [
    "La instrucció [if](https://docs.python.org/3/tutorial/controlflow.html#if-statements) ens permet executar un bloc de codi si es compleix una determinada condició.  "
   ]
  },
  {
   "cell_type": "code",
   "execution_count": null,
   "metadata": {},
   "outputs": [],
   "source": [
    "a = 10\n",
    "if a >= 5:\n",
    "    print('a és més gran o igual a 5')"
   ]
  },
  {
   "cell_type": "markdown",
   "metadata": {},
   "source": [
    "L'objectiu del codi anterior és avaluar si la variable $a$ és més gran o igual a 5. Si la variable $a$ és més gran o igual a 5, es compleix la condició de l'`if`, de manera que s'imprimeix per pantalla la instrucció **a és més gran o igual a 5**. En canvi, a la cel·la següent $a$ és més petit que 5. Per tant, la condició de l'`if` no es compleix, i el bloc de codi de dins l'`if` no s'executa."
   ]
  },
  {
   "cell_type": "code",
   "execution_count": null,
   "metadata": {},
   "outputs": [],
   "source": [
    "a = 2\n",
    "if a >= 5:\n",
    "    print('a és més gran o igual a 5')"
   ]
  },
  {
   "cell_type": "markdown",
   "metadata": {},
   "source": [
    "En els dos exemples anteriors podem apreciar l'estructura inherent de l'`if`.  Aquesta estructura té dues parts ben diferenciades:\n",
    "\n",
    "- **Condició** que s'ha de complir perquè el bloc de codi s'executi, en l'exemple anterior `a >= 5`.\n",
    "- **Bloc de codi** que s'ha d'executar si es compleix la condició anterior. És important remarcar que el bloc de codi sempre ha de contenir una instrucció, si no així es genera un error de sintaxi `SyntarError`.\n",
    "\n",
    "La instrucció `if` s'ha d'acabar amb `:` i el bloc de codi ha d'estar tabulat. Tota sentència inserida després de l'`if` i correctament tabulada, forma part del bloc de codi que s'executarà si la condició es compleix. A l'exemple següent, la instrucció `print('Fora if')` s'està executant sempre perquè no forma part del bloc de codi de l'`if`."
   ]
  },
  {
   "cell_type": "code",
   "execution_count": null,
   "metadata": {},
   "outputs": [],
   "source": [
    "a = 2\n",
    "if a >= 5:\n",
    "    print('a és més gran o igual a 5')\n",
    "print('Fora if')"
   ]
  },
  {
   "cell_type": "markdown",
   "metadata": {},
   "source": [
    "<a id='2.2-If-else'></a>\n",
    "## 2.2 if ... else"
   ]
  },
  {
   "cell_type": "markdown",
   "metadata": {},
   "source": [
    "Si la condició no es compleix, es pot executar un segon bloc de codi especificat dins la instrucció `else`."
   ]
  },
  {
   "cell_type": "code",
   "execution_count": null,
   "metadata": {},
   "outputs": [],
   "source": [
    "a = 9\n",
    "if a % 2 == 0:\n",
    "    print('a és parell')\n",
    "else:\n",
    "    print('a no és parell')"
   ]
  },
  {
   "cell_type": "markdown",
   "metadata": {},
   "source": [
    "La clàusula `else` especifica què cal fer si la condició no es compleix. En aquest exemple, la primera condició no es compleix perquè a no és parell, per tant, s'executa la instrucció que hi ha dins d'`else`."
   ]
  },
  {
   "cell_type": "markdown",
   "metadata": {},
   "source": [
    "<a id='2.3-If-elif-else'></a>\n",
    "## 2.3 If...elif...else"
   ]
  },
  {
   "cell_type": "markdown",
   "metadata": {},
   "source": [
    "Si volem executar condicions adicionals podem fer servir la instrucció `elif`. "
   ]
  },
  {
   "cell_type": "code",
   "execution_count": null,
   "metadata": {},
   "outputs": [],
   "source": [
    "a = 9\n",
    "if a % 2 == 0:\n",
    "    print('a és parell')\n",
    "elif a % 3 == 0:\n",
    "    print('a és multiple de 3')"
   ]
  },
  {
   "cell_type": "markdown",
   "metadata": {},
   "source": [
    "En l'exemple anterior, si es compleix la primera condició, s'imprimeix per pantalla **a és parell**. Si es compleix la segona condició, s'imprimeix per pantalla **a és múltiple de 3**. També podem incloure clàusules `else` dins de l'estructura`if-elif` si no es compleix cap de les condicions anteriors."
   ]
  },
  {
   "cell_type": "code",
   "execution_count": null,
   "metadata": {},
   "outputs": [],
   "source": [
    "a = 7\n",
    "if a % 2 == 0:\n",
    "    print('a és parell')\n",
    "elif a % 3 == 0:\n",
    "    print('a és múltiple de 3')\n",
    "else:\n",
    "    print('a no és parell ni múltiple 3')"
   ]
  },
  {
   "cell_type": "markdown",
   "metadata": {},
   "source": [
    "Vegem-ne uns quants exemples més per veure diferents estructures condicionals.  Us aconsellem que varieu els valors de les variables de codi dels exemples següents i aneu executant el codi per comprovar com es comporta en cada situació."
   ]
  },
  {
   "cell_type": "code",
   "execution_count": null,
   "metadata": {},
   "outputs": [],
   "source": [
    "# Exemple 1\n",
    "a = 5\n",
    "b = 5\n",
    "if a > b:\n",
    "    print('a és més gran que b')\n",
    "elif a < b:\n",
    "    print('a és més petit que b')\n",
    "else:\n",
    "    print('a és igual a b')"
   ]
  },
  {
   "cell_type": "code",
   "execution_count": null,
   "metadata": {},
   "outputs": [],
   "source": [
    "# Exemple 2\n",
    "a = -1\n",
    "b = -2\n",
    "if a > b:\n",
    "    if b >= 0:\n",
    "        print('a es més gran que b i positiu')\n",
    "    elif a*-1 > 0:\n",
    "        print('a és més gran que b i negatiu')\n",
    "    else:\n",
    "        print('a és més gran que b i positiu')\n",
    "else:\n",
    "    print('b és més gran o igual que a')"
   ]
  },
  {
   "cell_type": "markdown",
   "metadata": {},
   "source": [
    "<a id='3-Iteracio'></a>\n",
    "# 3 Iteració"
   ]
  },
  {
   "cell_type": "markdown",
   "metadata": {},
   "source": [
    "Les estructures de control iteratives permeten executar un mateix bloc de codi tantes vegades com sigui necessari. En la majoria de llenguatges de programació, hi ha dues maneres d'iterar una seqüència: mitjançant `for` o mitjançant `while`."
   ]
  },
  {
   "cell_type": "markdown",
   "metadata": {},
   "source": [
    "<a id='3.1-For'></a>\n",
    "## 3.1 For\n",
    "\n",
    "La instrucció [for](https://docs.python.org/3.8/reference/compound_stmts.html#the-for-statement) ens permet crear bucles sobre un nombre d'iteracions definit inicialment."
   ]
  },
  {
   "cell_type": "code",
   "execution_count": null,
   "metadata": {},
   "outputs": [],
   "source": [
    "monsters = ['Kraken', 'Leviathan', 'Uroborus', 'Hydra']\n",
    "\n",
    "# Primer mètode iterant mitjançant for:\n",
    "for monster in monsters:\n",
    "    print(monster)"
   ]
  },
  {
   "cell_type": "markdown",
   "metadata": {},
   "source": [
    "En l'exemple anterior, estem recorrent cada element de la llista `monsters` i imprimint-lo per pantalla. L'estructura d'iteració `for` segueix l'estructura següent:"
   ]
  },
  {
   "cell_type": "code",
   "execution_count": null,
   "metadata": {},
   "outputs": [],
   "source": [
    "# for <variable> in <iterable>:\n",
    "#    <codi>"
   ]
  },
  {
   "cell_type": "markdown",
   "metadata": {},
   "source": [
    "on la `variable` pren cada un dels valors de l'iterable.  `iterable` són aquells objectes que poden ser iterats o que poden ser indexats. Alguns exemples d'iterables són les `llistes`, `tuples`, `cadenes` o `diccionaris`. És important remarcar que tota sentència inserida després del `for` ha d'estar correctament tabulada perquè s'executi. Com podeu veure a la cel·la següent, el `print` no està tabulat i crea un error ` IdentationError`."
   ]
  },
  {
   "cell_type": "code",
   "execution_count": null,
   "metadata": {},
   "outputs": [],
   "source": [
    "for monster in monsters:\n",
    "print(monster)"
   ]
  },
  {
   "cell_type": "markdown",
   "metadata": {},
   "source": [
    "A l'exemple següent, veurem diferentes tipus d'iterables. "
   ]
  },
  {
   "cell_type": "code",
   "execution_count": null,
   "metadata": {},
   "outputs": [],
   "source": [
    "# Definim una llista, una tupla, un diccionari i una cadena de caràcters\n",
    "planetes_llista = ['Mercuri', 'Venus', 'Terra']\n",
    "planetes_tupla = ('Mercuri', 'Venus', 'Terra')\n",
    "planetes_dict = {\"Mercuri\": 4880, \"Venus\": 12105, \"Terra\": 12745}\n",
    "planetes_str = 'Mercuri'\n",
    "\n",
    "# Recorrem les estructures amb un *for* i en mostrem el contigut\n",
    "print(\"**Llista**\")\n",
    "for i in planetes_llista:\n",
    "    print(i, end=\" \")\n",
    "print()\n",
    "\n",
    "print(\"**Tupla**\")\n",
    "for i in planetes_tupla:\n",
    "    print(i, end=\" \")\n",
    "print()\n",
    "\n",
    "print(\"**dict**\")\n",
    "for i in planetes_dict:\n",
    "    print(i, end=\" \")\n",
    "print()\n",
    "\n",
    "print(\"**cadena**\")\n",
    "for i in planetes_str:\n",
    "    print(i, end=\" \")"
   ]
  },
  {
   "cell_type": "markdown",
   "metadata": {},
   "source": [
    "És important remarcar que un valor numèric no és un objecte iterable perquè no pot ser indexat. Si executem l'exemple següent s'obté l'error `TypeError: 'int' object is not iterable`."
   ]
  },
  {
   "cell_type": "code",
   "execution_count": null,
   "metadata": {},
   "outputs": [],
   "source": [
    "a = 5\n",
    "\n",
    "for i in a:\n",
    "    print(a)"
   ]
  },
  {
   "cell_type": "markdown",
   "metadata": {},
   "source": [
    "Si volem iterar una seqüència de valors numèrics, haurem de crear una llista de valors i iterar sobre aquesta llista."
   ]
  },
  {
   "cell_type": "code",
   "execution_count": null,
   "metadata": {},
   "outputs": [],
   "source": [
    "# Primer creem la llista de valors numèrics del 0 fins al 5 (inclusius)\n",
    "llista_valors = [0, 1, 2, 3, 4, 5]\n",
    "\n",
    "# Recorrem la llista amb un *for* i en mostrem el contingut\n",
    "for i in llista_valors:\n",
    "    print(i, end=\" \")"
   ]
  },
  {
   "cell_type": "markdown",
   "metadata": {},
   "source": [
    "A la secció $3.5$ veurem com podem crear una seqüència de valors numèrics mitjançant la funció `range()` sense haver de definir cap llista abans. \n",
    "\n",
    "La instrucció `for` permet incloure altres estructures de control dins del seu bloc de codi, per exemple `for`. Això permet iterar un objecte que en cada element té un objecte iterable."
   ]
  },
  {
   "cell_type": "code",
   "execution_count": null,
   "metadata": {},
   "outputs": [],
   "source": [
    "planetes_llista = ['Mercuri', 'Venus', 'Terra']\n",
    "\n",
    "# Recorrem la llista amb un *for* i en mostrem el contigut\n",
    "\n",
    "for i in planetes_llista:\n",
    "    print(i, end=\"\")\n",
    "    # Recorrem cada element de la cadena i comptem el nombre de lletres que formen la paraula\n",
    "    print()\n",
    "    k = 0\n",
    "    for j in i:\n",
    "        # S'actualitza el valor de k sumant-li 1\n",
    "        k += 1\n",
    "    print(\"La paraula {} està formada per {} lletres\".format((i), (k)))"
   ]
  },
  {
   "cell_type": "markdown",
   "metadata": {},
   "source": [
    "<a id='3.2-While'></a>\n",
    "## 3.2 While\n",
    " \n",
    "La instrucció `while` permet iterar un objecte mentre es compleixi una condició determinada. Quan la condició deixa de complir-se, se surt del bucle i continua l'execució del bloc de codi següent.  A l'exemple tot seguit, el codi dins del `while` s'executarà mentre `a` sigui més gran que `b`."
   ]
  },
  {
   "cell_type": "code",
   "execution_count": null,
   "metadata": {},
   "outputs": [],
   "source": [
    "a = 5\n",
    "b = 0\n",
    "\n",
    "while a > b:\n",
    "    # S'actualitza el valor de b sumant-li 1\n",
    "    b += 1\n",
    "print(\"b és igual {}\".format(b))"
   ]
  },
  {
   "cell_type": "markdown",
   "metadata": {},
   "source": [
    "També es pot iterar una llista mitjançant `while`, però és una manera molt menys idiomàtica en Python i és preferible l'opció de `for`."
   ]
  },
  {
   "cell_type": "code",
   "execution_count": null,
   "metadata": {},
   "outputs": [],
   "source": [
    "# Mentre l'índex 'i' sigui més petit que la longitud de la llista 'planetes':\n",
    "i = 0\n",
    "while i < len(planetes_llista):\n",
    "    # Imprimeix el valor de la llista en la posició 'i'.\n",
    "    print(i, planetes_llista[i])\n",
    "    # No ens oblidem d'actualitzar el valor d''i' sumant-li 1 o tindrem un bucle infinit.\n",
    "    i += 1"
   ]
  },
  {
   "cell_type": "markdown",
   "metadata": {},
   "source": [
    "En aquest moment seríem capaços de calcular la sèrie de Fibonacci fins a\n",
    "un determinat valor:"
   ]
  },
  {
   "cell_type": "code",
   "execution_count": null,
   "metadata": {},
   "outputs": [],
   "source": [
    "# Calculem el valor de la sèrie fins a un valor n = 100.\n",
    "n = 100\n",
    "\n",
    "a, b = 0, 1\n",
    "while a < n:\n",
    "    print(a, end=\" \")\n",
    "    a, b = b, a+b"
   ]
  },
  {
   "cell_type": "markdown",
   "metadata": {},
   "source": [
    "<a id='3.3-Break-i-continue'></a>\n",
    "## 3.3 Break i Continue"
   ]
  },
  {
   "cell_type": "markdown",
   "metadata": {},
   "source": [
    "Les instruccions `break` i `continue`ens permeten alterar el comportament de les instruccions `for`i `while`.\n",
    "\n",
    "- **break**: permet sortir d'un bucle en un moment donat i aturar-ne l'execució.\n",
    "- **continue**: permet saltar-se el codi restant en la iteració actual tornant al principi del bucle. "
   ]
  },
  {
   "cell_type": "code",
   "execution_count": null,
   "metadata": {},
   "outputs": [],
   "source": [
    "for planeta in planetes_llista:\n",
    "    if planeta == \"Venus\":\n",
    "        break\n",
    "    print(planeta)"
   ]
  },
  {
   "cell_type": "code",
   "execution_count": null,
   "metadata": {},
   "outputs": [],
   "source": [
    "for planeta in planetes_llista:\n",
    "    if planeta == \"Venus\":\n",
    "        continue\n",
    "    print(planeta)"
   ]
  },
  {
   "cell_type": "markdown",
   "metadata": {},
   "source": [
    "En els exemples de les cel·les anteriors, es pot apreciar la diferència en el funcionament de les instruccions `break` i `continue`. En el primer exemple, `break` interromp l'execució del bucle quan *planeta* és igual a *Venus*. En canvi, `continue` no interromp el bucle, si no, passa a la iteració següent saltant la instrucció pendent `print`."
   ]
  },
  {
   "cell_type": "markdown",
   "metadata": {},
   "source": [
    "A l'exemple següent, canvieu la instrucció `break` per `continue`. Executeu el codi en les dues tessitures per comprovar com varia l'output final segons la instrucció que s'hagi fet servir."
   ]
  },
  {
   "cell_type": "code",
   "execution_count": null,
   "metadata": {},
   "outputs": [],
   "source": [
    "a = 20\n",
    "#\n",
    "while a > 0:\n",
    "    a -= 1\n",
    "    if a % 2 == 0:\n",
    "        continue  # break\n",
    "    print(a, end=\" \")"
   ]
  },
  {
   "cell_type": "markdown",
   "metadata": {},
   "source": [
    "<a id='3.4-Eines-de-Python-per-a-iterar-eficientment'></a>\n",
    "## 3.4 Eines de Python per a iterar eficientment"
   ]
  },
  {
   "cell_type": "markdown",
   "metadata": {},
   "source": [
    "Abans hem definit dues estructures de control, `for` i `while`, generals de la majoria de llenguatges de programació. Python té eines específiques per optimitzar el procés d'iteració. Entre aquestes eines hi ha :`range()`, `enumerate()` i `zip()`."
   ]
  },
  {
   "cell_type": "markdown",
   "metadata": {},
   "source": [
    "<a id='3.4.1-Range'></a>\n",
    "### 3.4.1 Range"
   ]
  },
  {
   "cell_type": "markdown",
   "metadata": {},
   "source": [
    "[`Range`](https://docs.python.org/3/library/stdtypes.html?highlight=range#range) és una funció molt útil de Python per generar una seqüència de nombres. La sintaxi de `range` és la següent: "
   ]
  },
  {
   "cell_type": "code",
   "execution_count": null,
   "metadata": {},
   "outputs": [],
   "source": [
    "# range(start,end,step)"
   ]
  },
  {
   "cell_type": "markdown",
   "metadata": {},
   "source": [
    "`Range`és un funció que permet passar tres paràmetres separats per coma, en què **start** és el valor inicial de la seqüència, **end** és el valor final i **step** el salt entre números. És molt important remarcar que range retorna una llista de nombres fins la posició final menys 1. Per defecte, el valor inicial és 0 i el salt és 1."
   ]
  },
  {
   "cell_type": "code",
   "execution_count": null,
   "metadata": {},
   "outputs": [],
   "source": [
    "# La funció 'range' ens retorna una llista de nombres:\n",
    "list(range(10))"
   ]
  },
  {
   "cell_type": "markdown",
   "metadata": {},
   "source": [
    "Fixeu-vos que `range` no torna directament una llista, sinó que retorna un tipus propi del mateix nom. Per aquest motiu, per obtenir una llista cal fer una conversió de tipus fent servir `list()`. Això és una novetat en Python 3, ja que en Python 2 la funció `range` retornava una llista."
   ]
  },
  {
   "cell_type": "code",
   "execution_count": null,
   "metadata": {},
   "outputs": [],
   "source": [
    "# Visualitzem el tipus de retorn de range\n",
    "print(type(range(10)))\n",
    "print(type(list(range(10))))"
   ]
  },
  {
   "cell_type": "markdown",
   "metadata": {},
   "source": [
    "Vegem alguns dels usos més habituals de `range`:"
   ]
  },
  {
   "cell_type": "code",
   "execution_count": null,
   "metadata": {},
   "outputs": [],
   "source": [
    "# Podem fer-la servir per iterar:\n",
    "for i in range(10):\n",
    "    print(i, end=\" \")\n",
    "print()"
   ]
  },
  {
   "cell_type": "code",
   "execution_count": null,
   "metadata": {},
   "outputs": [],
   "source": [
    "# Podem definir el rang d'acció.\n",
    "\n",
    "# Per exemple, especificant només el final com hem fet abans\n",
    "for i in range(10):\n",
    "    print(i, end=\" \")\n",
    "\n",
    "print()\n",
    "\n",
    "# especificant inici i fi:\n",
    "for i in range(5, 10):\n",
    "    print(i, end=\" \")\n",
    "\n",
    "print()\n",
    "\n",
    "# o especificant també el salt entre cada valor:\n",
    "for i in range(5, 10, 3):\n",
    "    print(i, end=\" \")"
   ]
  },
  {
   "cell_type": "markdown",
   "metadata": {},
   "source": [
    "Sempre que no necessitem explícitament una llista, farem servir directament el tipus `range` (sense fer la conversió a llista), ja que això és en general més eficient (estalvia memòria). Només quan necessitem una llista, (per exemple, per visualitzar el resultat com hem fet en el primer exemple) convertirem el resultat de `range` a llista."
   ]
  },
  {
   "cell_type": "code",
   "execution_count": null,
   "metadata": {},
   "outputs": [],
   "source": [
    "# També és possible iterar en un diccionari:\n",
    "pais_codis = {34: 'Spain', 376: 'Andorra', 41: 'Switzerland', 424: None}\n",
    "\n",
    "# Per clau:\n",
    "for pais_codi in pais_codis.keys():\n",
    "    print(pais_codi)\n",
    "print()\n",
    "\n",
    "# Per valor:\n",
    "for pais in pais_codis.values():\n",
    "    print(pais)\n",
    "print()\n",
    "\n",
    "# Per tots dos alhora:\n",
    "for pais_codi, pais in pais_codis.items():\n",
    "    print(pais_codi, pais)"
   ]
  },
  {
   "cell_type": "markdown",
   "metadata": {},
   "source": [
    "<a id='3.4.2-Enumerate'></a>\n",
    "### 3.4.2 Enumerate"
   ]
  },
  {
   "cell_type": "markdown",
   "metadata": {},
   "source": [
    "[`Enumerate`](https://docs.python.org/3/library/functions.html?highlight=enumerate#enumerate) és una funció de Python per accedir als índexs d'una col·lecció. Aquesta funció retorna una tupla en què el primer element és un índex que comença per 0 i augmenta d'1 a 1, i el segon element és el valor de la posició a la llista. "
   ]
  },
  {
   "cell_type": "markdown",
   "metadata": {},
   "source": [
    "A l'exemple següent, accedim a l'índex i al valor de la llista mitjaçant `for` i un comptador:"
   ]
  },
  {
   "cell_type": "code",
   "execution_count": null,
   "metadata": {},
   "outputs": [],
   "source": [
    "# Recuperem l'exemple dels monstres\n",
    "monsters = ['Kraken', 'Leviathan', 'Uroborus', 'Hydra']\n",
    "\n",
    "# Inicialitzem el comptador\n",
    "i = 0\n",
    "\n",
    "for monster in monsters:\n",
    "    print(i, monster, end=\" \")\n",
    "    i += 1"
   ]
  },
  {
   "cell_type": "markdown",
   "metadata": {},
   "source": [
    "Podem obtenir el mateix resultat fent servir la funció `enumerate`:"
   ]
  },
  {
   "cell_type": "code",
   "execution_count": null,
   "metadata": {},
   "outputs": [],
   "source": [
    "for index, monster in enumerate(monsters):\n",
    "    print(index, monster, end=\" \")"
   ]
  },
  {
   "cell_type": "markdown",
   "metadata": {},
   "source": [
    "<a id='3.4.3-Zip'></a>\n",
    "### 3.4.3 Zip"
   ]
  },
  {
   "cell_type": "markdown",
   "metadata": {},
   "source": [
    "`Zip` és una funció que, combinada amb un `for`, permet iterar tantes llistes com sigui necessari en paral·lel."
   ]
  },
  {
   "cell_type": "code",
   "execution_count": null,
   "metadata": {},
   "outputs": [],
   "source": [
    "planetes = [\"Mercuri\", \"Venus\", \"Terra\"]\n",
    "diametre = [\"4880 km\", \"12105 km\", \"12750 km\"]\n",
    "distancia_sol = [\"57910000 km\", \"108200000 km\", \"146600000 km\"]\n",
    "\n",
    "for pla, dist, ds in zip(planetes, diametre, distancia_sol):\n",
    "    print(\"{} té un diametre de {} i es troba a una distància del Sol de {}\".format(\n",
    "        (pla), (dist), (ds)))"
   ]
  },
  {
   "cell_type": "markdown",
   "metadata": {},
   "source": [
    "Si les llistes tenen longituds diferents, la iteració s'atura quan la llista més petita s'acaba."
   ]
  },
  {
   "cell_type": "code",
   "execution_count": null,
   "metadata": {},
   "outputs": [],
   "source": [
    "planetes = [\"Mercuri\", \"Venus\", \"Terra\"]\n",
    "diametre = [\"4880 km\", \"12105 km\", \"12750 km\"]\n",
    "distancia_sol = [\"57910000 km\", \"108200000 km\"]\n",
    "\n",
    "for pla, dist, ds in zip(planetes, diametre, distancia_sol):\n",
    "    print(\"{} té un diametre de {} i es troba a una distància del Sol de {}\".format(\n",
    "        (pla), (dist), (ds)))"
   ]
  },
  {
   "cell_type": "markdown",
   "metadata": {},
   "source": [
    "Aquesta funció està definida per qualsevol objecte iterable. Aquesta característica fa que es pugui fer servir `zip` amb diccionaris.  Per accedir al valor i la clau de cada element s'ha de fer servir la funció `items`."
   ]
  },
  {
   "cell_type": "code",
   "execution_count": null,
   "metadata": {},
   "outputs": [],
   "source": [
    "pais_codi = {34: 'Spain', 376: 'Andorra', 41: 'Switzerland', 424: None}\n",
    "pais_hab = {'Spain': 46000000, 'Andorra': 77000, 'Switzerland': 8000000}\n",
    "\n",
    "for (a, b), (c, d) in zip(pais_codi.items(), pais_hab.items()):\n",
    "    print(a, b, d)"
   ]
  },
  {
   "cell_type": "markdown",
   "metadata": {},
   "source": [
    "<a id='4-List-Comprehensions'></a>\n",
    "# 4 List Comprehensions"
   ]
  },
  {
   "cell_type": "markdown",
   "metadata": {},
   "source": [
    "**List comprehension** és una expressió idiomàtica de Python que permet crear llistes d'elements en una sola línia de codi de forma senzilla i elegant sense fer servir estructures de control molt complexes."
   ]
  },
  {
   "cell_type": "code",
   "execution_count": null,
   "metadata": {},
   "outputs": [],
   "source": [
    "# Volem seleccionar tots aquells planetes que tenen una *r* en el seu nom\n",
    "planetes = [\"Mercuri\", \"Venus\", \"Terra\"]\n",
    "subset = []\n",
    "for x in planetes:\n",
    "    if \"r\" in x:\n",
    "        subset.append(x)\n",
    "print(subset)"
   ]
  },
  {
   "cell_type": "markdown",
   "metadata": {},
   "source": [
    "En l'exemple anterior, hem implementat una estructura de control clàssica amb `for`i `if` per seleccionar els elements de la llista que tenen una *r* en el seu nom. A la cel·la següent farem el mateix fent servir *list comprehension*."
   ]
  },
  {
   "cell_type": "code",
   "execution_count": null,
   "metadata": {},
   "outputs": [],
   "source": [
    "subset = [x for x in planetes if \"r\" in x]\n",
    "\n",
    "print(subset)"
   ]
  },
  {
   "cell_type": "markdown",
   "metadata": {},
   "source": [
    "La sintaxi general d'una *list comprehension* és la següent:"
   ]
  },
  {
   "cell_type": "code",
   "execution_count": null,
   "metadata": {},
   "outputs": [],
   "source": [
    "# llista = [expressió for element in iterable]"
   ]
  },
  {
   "cell_type": "markdown",
   "metadata": {},
   "source": [
    "Aquesta sintaxi té dues parts ben diferenciades. \n",
    "\n",
    "- `for element in iterable` iteració d'un determinat iterable i es guarda cada un dels elements a `element`. L'iterable pot ser una llista, seqüència, generador o una estructura de control (com per exemple, `if `) que retorni els seus elements d'un en un. \n",
    "- `expressió` acció sobre `element`que s'afegirà a la llista a cada iteració."
   ]
  },
  {
   "cell_type": "code",
   "execution_count": null,
   "metadata": {},
   "outputs": [],
   "source": [
    "# Aplicarem una list comprehension per calcular el quadrat dels nombres parells presents fins al 9\n",
    "resultat = [i**2 for i in range(10) if i % 2 == 0]\n",
    "print(resultat)"
   ]
  },
  {
   "cell_type": "markdown",
   "metadata": {},
   "source": [
    "<a id='5-Funcions'></a>\n",
    "# 5 Funcions"
   ]
  },
  {
   "cell_type": "markdown",
   "metadata": {},
   "source": [
    "Una altra manera molt important d'organitzar el flux d'execució és encapsulant una certa porció de codi en una funció reutilitzable. S'ha d'emfatitzar que el conjunt d'instruccions que s'executen dins la funció han d'estar correctament tabulades respecte de`def()`. Si no és així, s'obté un error de tabulació.   \n",
    "\n",
    "Una funció en Python utilitza un concepte similar al d'una funció matemàtica. Per exemple, imaginem-nos la funció matemàtica:\n",
    "\n",
    "*suma(x, y) = x + y*\n",
    "\n",
    "A Python podem definir la mateixa funció de la manera següent:"
   ]
  },
  {
   "cell_type": "code",
   "execution_count": null,
   "metadata": {},
   "outputs": [],
   "source": [
    "# La funció 'suma' es defineix mitjançant la paraula especial 'def' i té dos arguments: 'x' i 'y':\n",
    "def suma(x, y):\n",
    "    # Mostrem per pantalla els valors de x i y\n",
    "    print(\"El valor d'x és {}\".format(x))\n",
    "    print(\"El valor d'y és {}\".format(y))\n",
    "    # Tornem el valor de la suma\n",
    "    return x + y"
   ]
  },
  {
   "cell_type": "markdown",
   "metadata": {},
   "source": [
    "La definició d'una funció Python té les característiques següents:\n",
    "\n",
    "   - Paraula clau def().\n",
    "   - Nom de la funció.\n",
    "   - Parèntesis i dins dels parèntesis els paràmetres d'entrada (tot i que poden ser opcionals).\n",
    "   - Dos punts `:`.\n",
    "   - Bloc de codi.\n",
    "   - Sentència de retorn, `return`, del resultat (opcional).\n",
    "  \n",
    "En la definició d'una funció no s'executa el bloc de codi que conté la funció.  Per executar-lo, s'ha d'escriure el nom de la funció amb els paràmetres d'entrada corresponents, com podem veure als exemples següents. En el primer exemple, estem executant la funció `suma()` fent servir el nom dels paràmetres."
   ]
  },
  {
   "cell_type": "code",
   "execution_count": null,
   "metadata": {},
   "outputs": [],
   "source": [
    "# Execució de la funció suma\n",
    "suma(x=5, y=-5)"
   ]
  },
  {
   "cell_type": "markdown",
   "metadata": {},
   "source": [
    "Si fem servir el nom dels paràmetres, podem canviar l'ordre dels paràmetres sense modificar el resultat de la funció."
   ]
  },
  {
   "cell_type": "code",
   "execution_count": null,
   "metadata": {},
   "outputs": [],
   "source": [
    "# Execució de la funció suma canviant l'ordre dels paràmetres\n",
    "suma(y=-5, x=5)"
   ]
  },
  {
   "cell_type": "markdown",
   "metadata": {},
   "source": [
    "Si no fem servir el nom dels paràmetres, cada posició correspon a un paràmetre tal com hem definit dins de la funció. En el nostre cas, la primera posició és `x`, i la segona, `y`."
   ]
  },
  {
   "cell_type": "code",
   "execution_count": null,
   "metadata": {},
   "outputs": [],
   "source": [
    "# Execució de la funció amb els arguments posicionals\n",
    "suma(4, 2)"
   ]
  },
  {
   "cell_type": "code",
   "execution_count": null,
   "metadata": {},
   "outputs": [],
   "source": [
    "# Execució de la funció canviant l'ordre els arguments posicionals\n",
    "suma(2, 4)"
   ]
  },
  {
   "cell_type": "code",
   "execution_count": null,
   "metadata": {},
   "outputs": [],
   "source": [
    "# Podem definir una funció que no faci res fent servir la paraula especial 'pass':\n",
    "\n",
    "def dummy():\n",
    "    pass"
   ]
  },
  {
   "cell_type": "code",
   "execution_count": null,
   "metadata": {},
   "outputs": [],
   "source": [
    "dummy()"
   ]
  },
  {
   "cell_type": "code",
   "execution_count": null,
   "metadata": {},
   "outputs": [],
   "source": [
    "# Podríem tornar a definir el tros de codi de la seqüència de Fibonacci com una funció:\n",
    "\n",
    "def fibonacci(n=100):\n",
    "    a, b = 0, 1\n",
    "    while a < n:\n",
    "        print(a, end=\" \")\n",
    "        a, b = b, a+b"
   ]
  },
  {
   "cell_type": "code",
   "execution_count": null,
   "metadata": {},
   "outputs": [],
   "source": [
    "fibonacci(10)"
   ]
  },
  {
   "cell_type": "code",
   "execution_count": null,
   "metadata": {},
   "outputs": [],
   "source": [
    "# A l'exemple anterior, hem definit que l'argument n tingui un valor per defecte. Això és molt útil\n",
    "# en els casos en què fem servir la funció sempre amb un mateix valor, vulguem deixar constància d'un\n",
    "# cas d'exemple o per defecte. En aquest cas, podem executar la funció sense passar-li cap valor:\n",
    "fibonacci()"
   ]
  },
  {
   "cell_type": "code",
   "execution_count": null,
   "metadata": {},
   "outputs": [],
   "source": [
    "# Podem definir part dels arguments amb valors per defecte i un altre sense.\n",
    "# Els arguments sense valor per defecte sempre han d'estar més a l'esquerra a la definició de la funció:\n",
    "\n",
    "def potencia(a, b=2):\n",
    "    # Per defecte, elevarem al quadrat.\n",
    "    return a**b"
   ]
  },
  {
   "cell_type": "code",
   "execution_count": null,
   "metadata": {},
   "outputs": [],
   "source": [
    "print(potencia(3))\n",
    "print(potencia(2, 3))"
   ]
  },
  {
   "cell_type": "markdown",
   "metadata": {},
   "source": [
    "<a id='5.1-Args-i-kargs'></a>\n",
    "## 5.1 Args i kargs"
   ]
  },
  {
   "cell_type": "markdown",
   "metadata": {},
   "source": [
    "Tal com hem vist a l'apartat anterior, hem definit les funcions considerant un nombre concret d'arguments *(0,1,2,...,N)*. Però ens podem trobar que, a priori, no sapiguem quantes variables necessitem.  Per solucionar això, en Python es pot definir un conjunt d'arguments variable amb `args`i `kargs`. \n",
    "\n",
    "*Args* ens permet definir funcions genèriques que acceptin un nombre variable d'arguments.  "
   ]
  },
  {
   "cell_type": "code",
   "execution_count": null,
   "metadata": {},
   "outputs": [],
   "source": [
    "def suma_args(*args):\n",
    "    # Tornem el valor de la suma\n",
    "    return sum(args)"
   ]
  },
  {
   "cell_type": "code",
   "execution_count": null,
   "metadata": {},
   "outputs": [],
   "source": [
    "suma_args(3, 4, 5)"
   ]
  },
  {
   "cell_type": "markdown",
   "metadata": {},
   "source": [
    "La funció `suma_args` correspon a la mateixa funció `suma`, que hem definit a l'apartat anterior, però fent servir un nombre variable d'arguments. Si comparem les dues funcions, veurem que la funció `suma` només permet sumar dos nombres. En canvi, `suma_args`permet sumar tants nombres com vulgui l'usuari. "
   ]
  },
  {
   "cell_type": "code",
   "execution_count": null,
   "metadata": {},
   "outputs": [],
   "source": [
    "print(\"Suma amb un nombre variable d'arguments és {}\".format(suma_args(4, 5)))\n",
    "print(\"Suma de dos arguments és {}\".format(suma(4, 5)))"
   ]
  },
  {
   "cell_type": "code",
   "execution_count": null,
   "metadata": {},
   "outputs": [],
   "source": [
    "print(\"Suma amb un nombre variable d'arguments és {}\".format(\n",
    "    suma_args(4, 5, 7, 8, 9)))\n",
    "#print(\"Suma de dos arguments és {}\".format(suma(4,5,7,8,9)))"
   ]
  },
  {
   "cell_type": "markdown",
   "metadata": {},
   "source": [
    "Si es vol sumar *5* nombres mitjançant la funció `suma` definida amb dues variables, l'execució dona error perquè estàs fent servir més arguments dels definits."
   ]
  },
  {
   "cell_type": "markdown",
   "metadata": {},
   "source": [
    "Si, a més de treballar amb un nombre variable d'arguments, volem tenir la capacitat de definir el nom de cada uns dels arguments d'entrada, hem de fer servir **kargs**. Hem de treballar **kargs** com si es tractés d'un diccionari i accedir als corresponents valors i claus mitjançant la funció `items`. "
   ]
  },
  {
   "cell_type": "code",
   "execution_count": null,
   "metadata": {},
   "outputs": [],
   "source": [
    "def suma_kargs(**kargs):\n",
    "    r = 0\n",
    "    # Tornem el valor de la suma\n",
    "    for k, v in kargs.items():\n",
    "        print(k, \"=\", v)\n",
    "        r += v\n",
    "    return r"
   ]
  },
  {
   "cell_type": "code",
   "execution_count": null,
   "metadata": {},
   "outputs": [],
   "source": [
    "print(\"Suma amb un nombre variable d'arguments és {}\".format(\n",
    "    suma_kargs(a=4, b=5, c=7, d=8, e=9)))"
   ]
  },
  {
   "cell_type": "markdown",
   "metadata": {},
   "source": [
    "<a id='5.2-Funcio-Lambda'></a>\n",
    "## 5.2 Funció Lambda"
   ]
  },
  {
   "cell_type": "markdown",
   "metadata": {},
   "source": [
    "La funció *Lambda* o anònima és un tipus de funció de Python que s'empra per simplificar l'escriptura de funcions en una sola línea. A l'exemple següent volem obtenir tots els nombres múltiples de 5."
   ]
  },
  {
   "cell_type": "code",
   "execution_count": null,
   "metadata": {},
   "outputs": [],
   "source": [
    "# Definim la funció myfun(), en què el paràmetre d'entrada és el valor fins on volem estudiar\n",
    "\n",
    "def myfun(xmax):\n",
    "    # Definim la llista\n",
    "    mylist = []\n",
    "    for k in range(0, xmax):\n",
    "        # Comprobem si el valor és multiple de 5\n",
    "        if k % 5 == 0:\n",
    "            # Afegim el valor a la llista amb append()\n",
    "            mylist.append(k)\n",
    "    # Mostrem per pantalla\n",
    "    print(mylist)"
   ]
  },
  {
   "cell_type": "code",
   "execution_count": null,
   "metadata": {},
   "outputs": [],
   "source": [
    "myfun(101)"
   ]
  },
  {
   "cell_type": "markdown",
   "metadata": {},
   "source": [
    "Podem expressar la funció `myfun()` fent servir la funció *Lambda* com:"
   ]
  },
  {
   "cell_type": "code",
   "execution_count": null,
   "metadata": {},
   "outputs": [],
   "source": [
    "# La funció filter() permet extreure els valors que compleixen una determina condició\n",
    "print(list(filter(lambda x: x % 5 == 0,  range(0, 101))))"
   ]
  },
  {
   "cell_type": "markdown",
   "metadata": {},
   "source": [
    "Com es pot veure en l'exemple anterior, la funció `lambda` (en combinació amb la funció filter) ens permet obtenir el mateix resultat que la funció `myfun` de manera més simplificada i compacta. "
   ]
  },
  {
   "cell_type": "markdown",
   "metadata": {},
   "source": [
    "<a id='6-Llegir-i-escriure-des-de-fitxers'></a>\n",
    "# 6 LLegir i escriure des de fitxers"
   ]
  },
  {
   "cell_type": "markdown",
   "metadata": {},
   "source": [
    "Una tasca habitual és llegir línies d'un fitxer o escriure línies en un fitxer. A continuació, us expliquem com podem escriure i llegir un fitxer:"
   ]
  },
  {
   "cell_type": "code",
   "execution_count": null,
   "metadata": {},
   "outputs": [],
   "source": [
    "# Primer de tot, escriurem en un fitxer:\n",
    "\n",
    "# Obrim un fitxer de nom 'a_file.txt' per a escriptura (d'aquí la 'w', 'writing').\n",
    "# L'assignem a un objecte per gestionar el fitxer de nom 'out':\n",
    "out = open('a_file.txt', 'w')\n",
    "# Escriurem 10 línies, cadascuna amb un número del 0 al 9.\n",
    "for i in range(10):\n",
    "    # La línia següent escriu al fitxer tot el que hi posem dins 'out.write()'\n",
    "    # En el nostre cas, és un string del tipus '0\\n', '1\\n', etc. Això ho aconseguim\n",
    "    # fent servir format amb un paràmetre, que és el número de línia.\n",
    "    # Afegim el \\n al final de cada línia, per incloure el salt de línia\n",
    "    out.write(\"Línia {}\\n\".format(i))\n",
    "\n",
    "    # Alternativament, podríem fer servir els wildcards %d i %s.\n",
    "    # %s representa un string o una cadena de caràcters i %d un nombre enter.\n",
    "    # Concatenem en aquest cas un nombre amb un string que es tracta del salt de\n",
    "    # línia, os.linesep, que equival a Linux\n",
    "    # a '\\n':\n",
    "    # out.write(\"Línia %d%s\" % (i, os.linesep))\n",
    "\n",
    "# Un cop hem acabat d'escriure el fitxer, s'ha de tancar amb la instrucció close()\n",
    "out.close()"
   ]
  },
  {
   "cell_type": "markdown",
   "metadata": {},
   "source": [
    "Ara llegirem el fitxer que acabem d'escriure de tres maneres diferents. En els dos primers mètodes, un cop hem acabat de treballar amb l'arxiu, s'ha de tancar amb la instrucció `close()`. En canvi, el tercer mètode,`with()`, tanca l'arxiu automàticament."
   ]
  },
  {
   "cell_type": "code",
   "execution_count": null,
   "metadata": {},
   "outputs": [],
   "source": [
    "# Primer mètode\n",
    "f = open('a_file.txt')\n",
    "for line in f:\n",
    "    print(line, end=\"\")\n",
    "f.close()\n",
    "print()\n",
    "\n",
    "# Segon mètode\n",
    "f = open('a_file.txt')\n",
    "lines = f.readlines()\n",
    "for line in lines:\n",
    "    print(line, end=\"\")\n",
    "f.close()\n",
    "print()\n",
    "\n",
    "\n",
    "# Tercer mètode\n",
    "with open('a_file.txt') as f:\n",
    "    for line in f:\n",
    "        print(line, end=\"\")"
   ]
  },
  {
   "cell_type": "markdown",
   "metadata": {},
   "source": [
    "<a id='6.1-Pandas'></a>\n",
    "## 6.1 Pandas"
   ]
  },
  {
   "cell_type": "markdown",
   "metadata": {},
   "source": [
    "Una altra manera de llegir i escriure fitxers en Python és mitjançant la llibreria *Pandas*. Per poder fer ús de les funcions d'una llibreria, primer de tot s'ha importar la llibreria mitjançant la instrucció *import*."
   ]
  },
  {
   "cell_type": "code",
   "execution_count": null,
   "metadata": {},
   "outputs": [],
   "source": [
    "import pandas as pd"
   ]
  },
  {
   "cell_type": "markdown",
   "metadata": {},
   "source": [
    "Pandas ens permet carregar les dades d'un fitxer *CSV* directament a un dataframe per mitjà de la función [`read_csv`](https://pandas.pydata.org/docs/reference/api/pandas.read_csv.html).  Aquesta funció és molt versàtil i disposa de molts paràmetres per configurar amb tot detall com dur a terme la importació.  En molts casos, la configuració per defecte ja ens oferirà els resultats desitjats."
   ]
  },
  {
   "cell_type": "markdown",
   "metadata": {},
   "source": [
    "Ara carregarem les dades del fitxer `marvel-wiki-data.csv`, que conté dades sobre personatges de còmic de Marvel. El conjunt de dades va ser creat pel web [FiveThirtyEight](https://fivethirtyeight.com), que escriu articles basats en dades sobre esports i notícies, i que posa a disposició pública els [conjunts de dades](https://github.com/fivethirtyeight/data) que recull per als seus articles."
   ]
  },
  {
   "cell_type": "code",
   "execution_count": null,
   "metadata": {},
   "outputs": [],
   "source": [
    "data = pd.read_csv(\"data/marvel-wiki-data.csv\")\n",
    "print(type(data))"
   ]
  },
  {
   "cell_type": "markdown",
   "metadata": {},
   "source": [
    "D'una manera anàloga a com hem carregat les dades d'un fitxer a un *dataframe*, podem escriure les dades d'un *dataframe* a un fitxer CSV."
   ]
  },
  {
   "cell_type": "code",
   "execution_count": null,
   "metadata": {},
   "outputs": [],
   "source": [
    "# Seleccionem les primeres 20 línies del dataframe data\n",
    "new_data = data.head(n=20)\n",
    "# Guardem el dataframe new_data en un CSV\n",
    "new_data.to_csv(\"data/marvel-wiki-data-head20.csv\", encoding='utf-8')"
   ]
  },
  {
   "cell_type": "markdown",
   "metadata": {},
   "source": [
    "A la unitat 4 veurem més funcionalitats de la llibreria pandas i presentarem amb més detall els tipus de dades que retorna `read_csv`."
   ]
  },
  {
   "cell_type": "markdown",
   "metadata": {},
   "source": [
    "<a id='7-Errors-i-excepcions'></a>\n",
    "# 7 Errors i Excepcions"
   ]
  },
  {
   "cell_type": "markdown",
   "metadata": {},
   "source": [
    "La codificació està subjecta a errors. Conèixer i corregir aquests errors forma part de l'aprenentatge de qualsevol llenguatge de programació. En Python, hi ha dues menes diferents d'errors: errors de sintaxi i Excepcions. La principal diferència entre les dues menes d'errors és que el primer està associat a un error de sintaxi, i el segon, a un error d'execució.\n",
    "\n",
    "- **Errors de Sintaxi o d'interpretació**:  Són errors provocats per un error en la codificació. Quan hi ha un error d'aquest tipus, l'intèrpret reprodueix la línia responsable de l'error i mostra amb una fletxa on hi ha hagut l'error."
   ]
  },
  {
   "cell_type": "code",
   "execution_count": null,
   "metadata": {},
   "outputs": [],
   "source": [
    "i = 0\n",
    "while i == 0\n",
    "    print(\"hola\")\n",
    "    i += 1"
   ]
  },
  {
   "cell_type": "markdown",
   "metadata": {},
   "source": [
    "L'error ens està indicant que hi ha hagut un error de sintaxi a la segona línia en la instrucció `while`. En aquest cas, falten dos punts `(':')` al final."
   ]
  },
  {
   "cell_type": "code",
   "execution_count": null,
   "metadata": {},
   "outputs": [],
   "source": [
    "i = 0\n",
    "while i == 0:\n",
    "    print(\"hola\")\n",
    "    i += 1"
   ]
  },
  {
   "cell_type": "markdown",
   "metadata": {},
   "source": [
    "- **Excepcions**: Els errors detectats durant l'execució, tot i que la sintaxi sigui correcta, s'anomenen **excepcions**. La majoria d'excepcions donen un missatge d'error. L'exemple següent mostra un error d'execució: "
   ]
  },
  {
   "cell_type": "code",
   "execution_count": null,
   "metadata": {},
   "outputs": [],
   "source": [
    "a = 10\n",
    "b = 0\n",
    "print(a/b)"
   ]
  },
  {
   "cell_type": "markdown",
   "metadata": {},
   "source": [
    "L'última línia del missatge d'error informa d'allò que passa. Hi ha diferents tipus d'excepcions, les principals són **ZeroDivisionError**, **NameError**, **TypeError**. A les cel·les següents veurem un exemple de les excepcions **NameError** i **TypeError**."
   ]
  },
  {
   "cell_type": "code",
   "execution_count": null,
   "metadata": {},
   "outputs": [],
   "source": [
    "# Excepció NameError\n",
    "x = 3 + parametre"
   ]
  },
  {
   "cell_type": "markdown",
   "metadata": {},
   "source": [
    "L'excepció **NameError** es produeix perquè estem executant una ordre, `suma`, amb una variable que no està definida.  En canvi, l'error següent, **TypeError** s'origina perquè estem intentant sumar dos tipus de magnituds que no es poden sumar, nombre enter amb una cadena de caràcters."
   ]
  },
  {
   "cell_type": "code",
   "execution_count": null,
   "metadata": {},
   "outputs": [],
   "source": [
    "# Excepció TypeError\n",
    "x = 3 + '2'"
   ]
  },
  {
   "cell_type": "markdown",
   "metadata": {},
   "source": [
    "<a id='7.1-Handling-Exceptions'></a>\n",
    "## 7.1 Handling Exceptions"
   ]
  },
  {
   "cell_type": "markdown",
   "metadata": {},
   "source": [
    "La gestió de les excepcions és molt important per al bon funcionament del programa. Si no és així, l'aparició d'una excepció pot provocar que el programa s'aturi. Les excepcions poden ser capturades i gestionades adequadament, sense que el programa s'aturi fent ús de les instruccions `try`i `except`. Si recuperem l'exemple anterior:"
   ]
  },
  {
   "cell_type": "code",
   "execution_count": null,
   "metadata": {},
   "outputs": [],
   "source": [
    "a = 10\n",
    "b = 0\n",
    "while b < 5:\n",
    "    try:\n",
    "        c = a/b\n",
    "        print(c)\n",
    "        break\n",
    "    except ZeroDivisionError:\n",
    "        b += 1\n",
    "        print(\"No es pot fer la divisió\")"
   ]
  },
  {
   "cell_type": "markdown",
   "metadata": {},
   "source": [
    "En aquest exemple, el programa no s'atura i pot continuar executant-se. Quan hi ha una *excepció* s'executa el codi que hi ha dins de la instrucció `except`, però el programa no s'atura. La instrucció `except` també permet fer servir excepcions genèriques mitjançant `Exception` quan es desconeix l'excepció que es crea."
   ]
  },
  {
   "cell_type": "code",
   "execution_count": null,
   "metadata": {},
   "outputs": [],
   "source": [
    "a = 10\n",
    "b = 0\n",
    "while b < 5:\n",
    "    try:\n",
    "        c = a/b\n",
    "        print(c)\n",
    "        break\n",
    "    except Exception:\n",
    "        b += 1\n",
    "        print(\"No es pot fer la divisió\")"
   ]
  },
  {
   "cell_type": "markdown",
   "metadata": {},
   "source": [
    "Altres instruccions per afegir als blocs de codi `try`i `except`són `else`i `finally`.  \n",
    "\n",
    "- `else`: S'executa si no hi ha hagut cap excepció.\n",
    "- `finally`: S'executa sempre encara que hi hagi hagut una excepció."
   ]
  },
  {
   "cell_type": "code",
   "execution_count": null,
   "metadata": {},
   "outputs": [],
   "source": [
    "a = 10\n",
    "b = 0\n",
    "while b < 5:\n",
    "    try:\n",
    "        c = a/b\n",
    "    except ZeroDivisionError:\n",
    "        b += 1\n",
    "        print(\"No es pot fer la divisió\")\n",
    "    else:\n",
    "        print(\"S'ha executat la divisió i el resultat ha estat {}\".format(c))\n",
    "        break"
   ]
  },
  {
   "cell_type": "code",
   "execution_count": null,
   "metadata": {},
   "outputs": [],
   "source": [
    "a = 10\n",
    "b = 1\n",
    "while b < 2:\n",
    "    try:\n",
    "        c = a/b\n",
    "    except ZeroDivisionError:\n",
    "        b += 1\n",
    "        c = \"No es pot fer la divisió\"\n",
    "    finally:\n",
    "        print(c)\n",
    "        break"
   ]
  },
  {
   "cell_type": "markdown",
   "metadata": {},
   "source": [
    "<a id='7.2-Raising-Exceptions'></a>\n",
    "## 7.2 Raising  Exceptions"
   ]
  },
  {
   "cell_type": "markdown",
   "metadata": {},
   "source": [
    "Finalment, també es poden llançar excepcions especifíques amb la instrucció `raise`. Aquesta instrucció permet definir quina mena d'error es genera i el text que s'ha d'imprimir a l'usuari. "
   ]
  },
  {
   "cell_type": "code",
   "execution_count": null,
   "metadata": {},
   "outputs": [],
   "source": [
    "x = -1\n",
    "\n",
    "if x < 0:\n",
    "    raise Exception(\"Error, han de ser valors positius\")"
   ]
  },
  {
   "cell_type": "markdown",
   "metadata": {},
   "source": [
    "**Recomanem la lectura de la [documentació oficial](https://docs.python.org/3/tutorial/controlflow.html)** per\n",
    "acabar de fixar coneixements."
   ]
  },
  {
   "cell_type": "markdown",
   "metadata": {},
   "source": [
    "<a id='8-Exercicis-i-preguntes-teoriques'></a>\n",
    "# 8 Exercicis i preguntes teòriques\n",
    "La part avaluable d'aquesta unitat consisteix en el lliurament d'un fitxer IPython Notebook amb extensió IPYNB que contindrà els diferents exercicis i les preguntes teòriques que s'han de contestar. Trobareu el fitxer (`prog_datasci_3_python_entrega.ipynb`) amb les activitats a la mateixa carpeta que aquest notebook que esteu llegint."
   ]
  },
  {
   "cell_type": "markdown",
   "metadata": {},
   "source": [
    "<a id='8.1 Instruccions importants'></a>\n",
    "# 8.1 Instruccions importants\n",
    "\n",
    "És molt important que a l'hora de lliurar el fitxer Notebook amb les vostres activitats us assegureu que:\n",
    "\n",
    "1. Les vostres solucions siguin originals. Esperem no detectar-hi còpia directa entre estudiants.\n",
    "2. Tot el codi estigui correctament documentat. El codi sense documentar equivaldrà a un 0.\n",
    "3. El fitxer comprimit que lliureu és correcte (conté les activitats de la PAC que heu de lliurar).\n",
    "\n",
    "Per fer el lliurament, heu d'anar a la carpeta del drive `Colab Notebooks`, clicant botó dret a la PAC en qüestió i fent `Download`. D'aquesta manera, us baixereu la carpeta de la PAC comprimida en `zip`. Aquest és l'arxiu que heu de pujar al campus virtual de l'assignatura. "
   ]
  },
  {
   "cell_type": "markdown",
   "metadata": {},
   "source": [
    "<a id='9-Bibliografia'></a>\n",
    "# 9 Bibliografia"
   ]
  },
  {
   "cell_type": "markdown",
   "metadata": {},
   "source": [
    "Us recomanem que consulteu els exemples següents del llibre *Learn Python 3 the hard way* de la bibliografia de l'assignatura, i que intenteu fer les activitats que s'hi proposen per acabar d'entendre i practicar els conceptes explicats en aquesta unitat.\n",
    "\n",
    "Operacions lògiques:\n",
    "* Exercise 27. Memorizing Logic\n",
    "* Exercise 28. Boolean Practice\n",
    "\n",
    "Condicionals:\n",
    "* Exercise 29. What If\n",
    "* Exercise 30. Else and If\n",
    "* Exercise 31. Making Decisions\n",
    "\n",
    "Iteració:\n",
    "* Exercise 32. Loops and Lists\n",
    "* Exercise 33. While-Loops"
   ]
  },
  {
   "cell_type": "markdown",
   "metadata": {},
   "source": [
    "# Autors\n",
    "\n",
    "- Autor original Brian Jiménez Garcia, 2016.\n",
    "- Actualitzat per Cristina Pérez Solà, 2017 i 2019.\n",
    "- Actualitzat per Joan Maynou Fernández, 2022."
   ]
  },
  {
   "cell_type": "markdown",
   "metadata": {},
   "source": [
    "<div style=\"width: 30%; clear: both;\">\n",
    "    <div style=\"width:0%;\">&nbsp;</div>\n",
    "           <img src=\"https://mirrors.creativecommons.org/presskit/buttons/88x31/png/by-sa.png\">\n",
    "    </div>\n",
    "</div>"
   ]
  }
 ],
 "metadata": {
  "language_info": {
   "name": "python"
  }
 },
 "nbformat": 4,
 "nbformat_minor": 1
}
