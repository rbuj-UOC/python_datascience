{
 "cells": [
  {
   "cell_type": "markdown",
   "metadata": {
    "id": "LwQXHI-Rb3bu"
   },
   "source": [
    "<div style=\"display: grid; grid-template-columns: repeat(2, 1fr); align-items: end;\">\n",
    "    <div>\n",
    "        <img src=\"data:image/avif;base64,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\" width=\"300\">\n",
    "    </div>\n",
    "    <div>\n",
    "        <p style=\"margin: 0; text-align:right;\">22.401 · Fonaments de Programació</p>\n",
    "        <p style=\"margin: 0; text-align:right;\">Grau en Ciència de Dades Aplicada</p>\n",
    "        <p style=\"margin: 0; text-align:right;\">Estudis d'Informàtica, Multimèdia i Telecomunicació</p>\n",
    "    </div>\n",
    "</div>"
   ]
  },
  {
   "cell_type": "markdown",
   "metadata": {
    "id": "YUcA9VFCb3by"
   },
   "source": [
    "Fonaments de Programació\n",
    "============================\n",
    "\n",
    "---\n",
    "Unitat 3: Estructures de control i funcions en Python\n",
    "-----------------------------------------------------\n",
    "---\n",
    "\n",
    "# Instruccions d'ús\n",
    "\n",
    "Aquest document és un *notebook* interactiu que intercala explicacions més aviat teòriques de conceptes de programació amb fragments de codi executables. Per aprofitar els avantatges que aporta aquest format, us recomanem que, en primer lloc, llegiu les explicacions i el codi que us proporcionem. D'aquesta manera, tindreu un primer contacte amb els conceptes que hi exposem. Ara bé, **la lectura és només el principi!** Una vegada hàgiu llegit el contingut, no oblideu executar el codi proporcionat i modificar-lo per crear-ne variants que us permetin comprovar que n'heu entès la funcionalitat i explorar-ne els detalls d'implementació. En darrer lloc, us recomanem també consultar la documentació enllaçada per explorar amb més profunditat les funcionalitats dels mòduls presentats.\n",
    "\n",
    "Per a desar possibles modificacions que feu sobre aquest notebook, us aconsellem que munteu la unitat de Drive a Google Colaboratory (colab). Heu d'executar les instruccions següents:"
   ]
  },
  {
   "cell_type": "code",
   "execution_count": null,
   "metadata": {},
   "outputs": [],
   "source": [
    "import os\n",
    "import sys\n",
    "from os.path import dirname\n",
    "\n",
    "VERIFICA_ESTIL = False\n",
    "\n",
    "if os.getenv(\"COLAB_RELEASE_TAG\"):\n",
    "    # munta la unitat de google drive i accedeix a la carpeta de la unitat\n",
    "    from google.colab import drive\n",
    "    drive.mount('/content/drive')\n",
    "    %cd \"/content/drive/MyDrive/Colab Notebooks/python_datascience/python_1/unit_3\"\n",
    "\n",
    "print(f\"directori actual: {os.getcwd()}\")\n",
    "sys.path.append(os.path.join(dirname(dirname(os.getcwd())), 'util'))\n",
    "\n",
    "# verificació de PEP8\n",
    "if VERIFICA_ESTIL:\n",
    "    print(\"habilitant verificació de l'estil PEP8\")\n",
    "    if os.getenv(\"COLAB_RELEASE_TAG\"):\n",
    "        print(\"instal·lant flake8, pycodestyle i pycodestyle_magic...\")\n",
    "        %pip install pycodestyle flake8 pycodestyle_magic\n",
    "    %load_ext pycodestyle_magic\n",
    "    %pycodestyle_on"
   ]
  },
  {
   "cell_type": "code",
   "execution_count": null,
   "metadata": {},
   "outputs": [],
   "source": [
    "from uoc import data_backup\n",
    "\n",
    "data_backup(os.getcwd(), True)"
   ]
  },
  {
   "cell_type": "markdown",
   "metadata": {
    "id": "QYTCrqX4b3b0"
   },
   "source": [
    "# Introducció\n",
    "\n",
    "Aquesta unitat continua presentant conceptes bàsics de programació en Python. En concret, presentarem les operacions lògiques i veurem com es pot alterar el flux d'execució dels programes amb estructures iteratives (_for_ i _while_), condicionals (_if_) i funcions. Addicionalment, explicarem com podem interactuar amb fitxers des de Python, i com podem importar altres mòduls per incorporar funcionalitats addicionals als nostres programes."
   ]
  },
  {
   "cell_type": "markdown",
   "metadata": {
    "id": "VMS86Tvmb3b1"
   },
   "source": [
    "# 1 Què és una estructura de control?\n",
    "\n",
    "Els programes en Python executen les instruccions seqüencialment. Cada instrucció s'executa de manera ordenada i en el mateix ordre que estan escrites, com hem vist a la Unitat 2. A l'exemple següent es pot apreciar com s'executen les instruccions seqüencialment."
   ]
  },
  {
   "cell_type": "code",
   "execution_count": null,
   "metadata": {},
   "outputs": [],
   "source": [
    "x = 3\n",
    "y = x + 7\n",
    "print(\"El valor de x és {}\".format(x))\n",
    "print(\"El valor de y és {}\".format(y))"
   ]
  },
  {
   "cell_type": "markdown",
   "metadata": {
    "id": "TG5fvH4Nb3b2"
   },
   "source": [
    "Primer assignem la variable $x$ igual a 3 i la variable $y$ com la suma de $x$ més el valor numèric 7. Tot seguit, mostrem per pantalla els valors de $x$ i $y$. Cada instrucció s'executa una darrere l'altra. El flux d'execució d'un conjunt d'instruccions pot ser modificat mitjançant les estructures de control. Les principals estructures de control són les estructures de control condicionals (**if-elif-else**) i les estructures de control iteratives (**for i  while**)."
   ]
  },
  {
   "cell_type": "markdown",
   "metadata": {
    "id": "RVtmTA53b3b2"
   },
   "source": [
    "# 2 Condicional\n",
    "\n",
    "L'estructura de control condicional és aquella estructura de control que permet implementar accions segons l'avaluació d'una condició simple, sigui falsa o veritable.\n",
    "\n",
    "## 2.1  If\n",
    "\n",
    "La instrucció [if](https://docs.python.org/3/tutorial/controlflow.html#if-statements) ens permet executar un bloc de codi si es compleix una determinada condició.  "
   ]
  },
  {
   "cell_type": "code",
   "execution_count": null,
   "metadata": {},
   "outputs": [],
   "source": [
    "a = 10\n",
    "if a >= 5:\n",
    "    print('a és més gran o igual a 5')"
   ]
  },
  {
   "cell_type": "markdown",
   "metadata": {
    "id": "kgO4TvbTb3b3"
   },
   "source": [
    "L'objectiu del codi anterior és avaluar si la variable $a$ és més gran o igual a 5. Si la variable $a$ és més gran o igual a 5, es compleix la condició de l'`if`, de manera que s'imprimeix per pantalla la instrucció **a és més gran o igual a 5**. En canvi, a la cel·la següent $a$ és més petit que 5. Per tant, la condició de l'`if` no es compleix, i el bloc de codi de dins l'`if` no s'executa."
   ]
  },
  {
   "cell_type": "code",
   "execution_count": null,
   "metadata": {},
   "outputs": [],
   "source": [
    "a = 2\n",
    "if a >= 5:\n",
    "    print('a és més gran o igual a 5')"
   ]
  },
  {
   "cell_type": "markdown",
   "metadata": {
    "id": "PccI1Jxbb3b3"
   },
   "source": [
    "En els dos exemples anteriors podem apreciar l'estructura inherent de l'`if`.  Aquesta estructura té dues parts ben diferenciades:\n",
    "\n",
    "- **Condició** que s'ha de complir perquè el bloc de codi s'executi, en l'exemple anterior `a >= 5`.\n",
    "- **Bloc de codi** que s'ha d'executar si es compleix la condició anterior. És important remarcar que el bloc de codi sempre ha de contenir una instrucció, si no així es genera un error de sintaxi `SyntarError`.\n",
    "\n",
    "La instrucció `if` s'ha d'acabar amb `:` i el bloc de codi ha d'estar tabulat. Tota sentència inserida després de l'`if` i correctament tabulada, forma part del bloc de codi que s'executarà si la condició es compleix. A l'exemple següent, la instrucció `print('Fora if')` s'està executant sempre perquè no forma part del bloc de codi de l'`if`."
   ]
  },
  {
   "cell_type": "code",
   "execution_count": null,
   "metadata": {},
   "outputs": [],
   "source": [
    "a = 2\n",
    "if a >= 5:\n",
    "    print('a és més gran o igual a 5')\n",
    "print('Fora if')"
   ]
  },
  {
   "cell_type": "markdown",
   "metadata": {
    "id": "my0cTVwcb3b3"
   },
   "source": [
    "## 2.2 if ... else\n",
    "\n",
    "Si la condició no es compleix, es pot executar un segon bloc de codi especificat dins la instrucció `else`."
   ]
  },
  {
   "cell_type": "code",
   "execution_count": null,
   "metadata": {},
   "outputs": [],
   "source": [
    "a = 9\n",
    "if a % 2 == 0:\n",
    "    print('a és parell')\n",
    "else:\n",
    "    print('a no és parell')"
   ]
  },
  {
   "cell_type": "markdown",
   "metadata": {
    "id": "xl5B84gsb3b3"
   },
   "source": [
    "La clàusula `else` especifica què cal fer si la condició no es compleix. En aquest exemple, la primera condició no es compleix perquè a no és parell, per tant, s'executa la instrucció que hi ha dins d'`else`."
   ]
  },
  {
   "cell_type": "markdown",
   "metadata": {
    "id": "E4z2wTzLb3b4"
   },
   "source": [
    "## 2.3 If...elif...else\n",
    "\n",
    "Si volem executar condicions adicionals podem fer servir la instrucció `elif`."
   ]
  },
  {
   "cell_type": "code",
   "execution_count": null,
   "metadata": {},
   "outputs": [],
   "source": [
    "a = 9\n",
    "if a % 2 == 0:\n",
    "    print('a és parell')\n",
    "elif a % 3 == 0:\n",
    "    print('a és multiple de 3')"
   ]
  },
  {
   "cell_type": "markdown",
   "metadata": {
    "id": "aFNviY66b3b4"
   },
   "source": [
    "En l'exemple anterior, si es compleix la primera condició, s'imprimeix per pantalla **a és parell**. Si es compleix la segona condició, s'imprimeix per pantalla **a és múltiple de 3**. També podem incloure clàusules `else` dins de l'estructura`if-elif` si no es compleix cap de les condicions anteriors."
   ]
  },
  {
   "cell_type": "code",
   "execution_count": null,
   "metadata": {},
   "outputs": [],
   "source": [
    "a = 7\n",
    "if a % 2 == 0:\n",
    "    print('a és parell')\n",
    "elif a % 3 == 0:\n",
    "    print('a és múltiple de 3')\n",
    "else:\n",
    "    print('a no és parell ni múltiple 3')"
   ]
  },
  {
   "cell_type": "markdown",
   "metadata": {
    "id": "BOMYTJVPb3b4"
   },
   "source": [
    "Vegem-ne uns quants exemples més per veure diferents estructures condicionals.  Us aconsellem que varieu els valors de les variables de codi dels exemples següents i aneu executant el codi per comprovar com es comporta en cada situació."
   ]
  },
  {
   "cell_type": "code",
   "execution_count": null,
   "metadata": {},
   "outputs": [],
   "source": [
    "# Exemple 1\n",
    "a = 5\n",
    "b = 5\n",
    "if a > b:\n",
    "    print('a és més gran que b')\n",
    "elif a < b:\n",
    "    print('a és més petit que b')\n",
    "else:\n",
    "    print('a és igual a b')"
   ]
  },
  {
   "cell_type": "code",
   "execution_count": null,
   "metadata": {},
   "outputs": [],
   "source": [
    "# Exemple 2\n",
    "a = -1\n",
    "b = -2\n",
    "if a > b:\n",
    "    if b >= 0:\n",
    "        print('a es més gran que b i positiu')\n",
    "    elif a*-1 > 0:\n",
    "        print('a és més gran que b i negatiu')\n",
    "    else:\n",
    "        print('a és més gran que b i positiu')\n",
    "else:\n",
    "    print('b és més gran o igual que a')"
   ]
  },
  {
   "cell_type": "markdown",
   "metadata": {
    "id": "ETgrvrN6b3b5"
   },
   "source": [
    "# 3 Iteració\n",
    "\n",
    "Les estructures de control iteratives permeten executar un mateix bloc de codi tantes vegades com sigui necessari. En la majoria de llenguatges de programació, hi ha dues maneres d'iterar una seqüència: mitjançant `for` o mitjançant `while`.\n",
    "\n",
    "## 3.1 For\n",
    "\n",
    "La instrucció [for](https://docs.python.org/3.8/reference/compound_stmts.html#the-for-statement) ens permet crear bucles sobre un nombre d'iteracions definit inicialment."
   ]
  },
  {
   "cell_type": "code",
   "execution_count": null,
   "metadata": {},
   "outputs": [],
   "source": [
    "monsters = ['Kraken', 'Leviathan', 'Uroborus', 'Hydra']\n",
    "\n",
    "# Primer mètode iterant mitjançant for:\n",
    "for monster in monsters:\n",
    "    print(monster)"
   ]
  },
  {
   "cell_type": "markdown",
   "metadata": {
    "id": "HMGfEJ5Bb3b5"
   },
   "source": [
    "En l'exemple anterior, estem recorrent cada element de la llista `monsters` i imprimint-lo per pantalla. L'estructura d'iteració `for` segueix l'estructura següent:"
   ]
  },
  {
   "cell_type": "code",
   "execution_count": null,
   "metadata": {},
   "outputs": [],
   "source": [
    "# for <variable> in <iterable>:\n",
    "#    <codi>"
   ]
  },
  {
   "cell_type": "markdown",
   "metadata": {
    "id": "7Wp04kQNb3b5"
   },
   "source": [
    "on la `variable` pren cada un dels valors de l'iterable.  `iterable` són aquells objectes que poden ser iterats o que poden ser indexats. Alguns exemples d'iterables són les `llistes`, `tuples`, `cadenes` o `diccionaris`. És important remarcar que tota sentència inserida després del `for` ha d'estar correctament tabulada perquè s'executi. Com podeu veure a la cel·la següent, el `print` no està tabulat i crea un error ` IdentationError`."
   ]
  },
  {
   "cell_type": "code",
   "execution_count": null,
   "metadata": {},
   "outputs": [],
   "source": [
    "for monster in monsters:\n",
    "print(monster)"
   ]
  },
  {
   "cell_type": "markdown",
   "metadata": {
    "id": "UeW3NRBOb3b5"
   },
   "source": [
    "A l'exemple següent, veurem diferents tipus d'iterables."
   ]
  },
  {
   "cell_type": "code",
   "execution_count": null,
   "metadata": {},
   "outputs": [],
   "source": [
    "# Definim una llista, una tupla, un diccionari i una cadena de caràcters\n",
    "planetes_llista = ['Mercuri', 'Venus', 'Terra']\n",
    "planetes_tupla = ('Mercuri', 'Venus', 'Terra')\n",
    "planetes_dict = {\"Mercuri\": 4880, \"Venus\": 12105, \"Terra\": 12745}\n",
    "planetes_str = 'Mercuri'\n",
    "\n",
    "# Recorrem les estructures amb un *for* i en mostrem el contingut\n",
    "print(\"**Llista**\")\n",
    "for i in planetes_llista:\n",
    "    print(i, end=\" \")\n",
    "print()\n",
    "\n",
    "print(\"**Tupla**\")\n",
    "for i in planetes_tupla:\n",
    "    print(i, end=\" \")\n",
    "print()\n",
    "\n",
    "print(\"**dict**\")\n",
    "for i in planetes_dict:\n",
    "    print(i, end=\" \")\n",
    "print()\n",
    "\n",
    "print(\"**cadena**\")\n",
    "for i in planetes_str:\n",
    "    print(i, end=\" \")"
   ]
  },
  {
   "cell_type": "markdown",
   "metadata": {
    "id": "hechMaUub3b5"
   },
   "source": [
    "És important remarcar que un valor numèric no és un objecte iterable perquè no pot ser indexat. Si executem l'exemple següent s'obté l'error `TypeError: 'int' object is not iterable`."
   ]
  },
  {
   "cell_type": "code",
   "execution_count": null,
   "metadata": {},
   "outputs": [],
   "source": [
    "a = 5\n",
    "\n",
    "for i in a:\n",
    "    print(a)"
   ]
  },
  {
   "cell_type": "markdown",
   "metadata": {
    "id": "8pGIkSbQb3b6"
   },
   "source": [
    "Si volem iterar una seqüència de valors numèrics, haurem de crear una llista de valors i iterar sobre aquesta llista."
   ]
  },
  {
   "cell_type": "code",
   "execution_count": null,
   "metadata": {},
   "outputs": [],
   "source": [
    "# Primer creem la llista de valors numèrics del 0 fins al 5 (inclusius)\n",
    "llista_valors = [0, 1, 2, 3, 4, 5]\n",
    "\n",
    "# Recorrem la llista amb un *for* i en mostrem el contingut\n",
    "for i in llista_valors:\n",
    "    print(i, end=\" \")"
   ]
  },
  {
   "cell_type": "markdown",
   "metadata": {
    "id": "BTI6X_rMb3b6"
   },
   "source": [
    "A la secció $3.5$ veurem com podem crear una seqüència de valors numèrics mitjançant la funció `range()` sense haver de definir cap llista abans.\n",
    "\n",
    "La instrucció `for` permet incloure altres estructures de control dins del seu bloc de codi, per exemple `for`. Això permet iterar un objecte que en cada element té un objecte iterable."
   ]
  },
  {
   "cell_type": "code",
   "execution_count": null,
   "metadata": {},
   "outputs": [],
   "source": [
    "planetes_llista = ['Mercuri', 'Venus', 'Terra']\n",
    "\n",
    "# Recorrem la llista amb un *for* i en mostrem el contingut\n",
    "\n",
    "for i in planetes_llista:\n",
    "    print(i, end=\"\")\n",
    "    # Recorrem cada element de la cadena i comptem el nombre de lletres que\n",
    "    # formen la paraula\n",
    "    print()\n",
    "    k = 0\n",
    "    for j in i:\n",
    "        # S'actualitza el valor de k sumant-li 1\n",
    "        k += 1\n",
    "    print(\"La paraula {} està formada per {} lletres\".format((i), (k)))"
   ]
  },
  {
   "cell_type": "markdown",
   "metadata": {
    "id": "PtP1Xblbb3b6"
   },
   "source": [
    "## 3.2 While\n",
    "\n",
    "La instrucció `while` permet iterar un objecte mentre es compleixi una condició determinada. Quan la condició deixa de complir-se, se surt del bucle i continua l'execució del bloc de codi següent.  A l'exemple tot seguit, el codi dins del `while` s'executarà mentre `a` sigui més gran que `b`."
   ]
  },
  {
   "cell_type": "code",
   "execution_count": null,
   "metadata": {},
   "outputs": [],
   "source": [
    "a = 5\n",
    "b = 0\n",
    "\n",
    "while a > b:\n",
    "    # S'actualitza el valor de b sumant-li 1\n",
    "    b += 1\n",
    "print(\"b és igual {}\".format(b))"
   ]
  },
  {
   "cell_type": "markdown",
   "metadata": {
    "id": "Wurp6O7-b3b-"
   },
   "source": [
    "També es pot iterar una llista mitjançant `while`, però és una manera molt menys idiomàtica en Python i és preferible l'opció de `for`."
   ]
  },
  {
   "cell_type": "code",
   "execution_count": null,
   "metadata": {},
   "outputs": [],
   "source": [
    "# Mentre l'índex 'i' sigui més petit que la longitud de la llista 'planetes':\n",
    "i = 0\n",
    "while i < len(planetes_llista):\n",
    "    # Imprimeix el valor de la llista en la posició 'i'.\n",
    "    print(i, planetes_llista[i])\n",
    "    # No ens oblidem d'actualitzar el valor d''i' sumant-li 1 o tindrem\n",
    "    # un bucle infinit.\n",
    "    i += 1"
   ]
  },
  {
   "cell_type": "markdown",
   "metadata": {
    "id": "rm5o2w57b3b-"
   },
   "source": [
    "En aquest moment seríem capaços de calcular la sèrie de Fibonacci fins a un determinat valor:"
   ]
  },
  {
   "cell_type": "code",
   "execution_count": null,
   "metadata": {},
   "outputs": [],
   "source": [
    "# Calculem el valor de la sèrie fins a un valor n = 100.\n",
    "n = 100\n",
    "\n",
    "a, b = 0, 1\n",
    "while a < n:\n",
    "    print(a, end=\" \")\n",
    "    a, b = b, a+b"
   ]
  },
  {
   "cell_type": "markdown",
   "metadata": {
    "id": "zF9gPke-b3b_"
   },
   "source": [
    "## 3.3 Break i Continue\n",
    "\n",
    "Les instruccions `break` i `continue`ens permeten alterar el comportament de les instruccions `for`i `while`.\n",
    "\n",
    "- **break**: permet sortir d'un bucle en un moment donat i aturar-ne l'execució.\n",
    "- **continue**: permet saltar-se el codi restant en la iteració actual tornant al principi del bucle."
   ]
  },
  {
   "cell_type": "code",
   "execution_count": null,
   "metadata": {},
   "outputs": [],
   "source": [
    "for planeta in planetes_llista:\n",
    "    if planeta == \"Venus\":\n",
    "        break\n",
    "    print(planeta)"
   ]
  },
  {
   "cell_type": "code",
   "execution_count": null,
   "metadata": {},
   "outputs": [],
   "source": [
    "for planeta in planetes_llista:\n",
    "    if planeta == \"Venus\":\n",
    "        continue\n",
    "    print(planeta)"
   ]
  },
  {
   "cell_type": "markdown",
   "metadata": {
    "id": "En1PJyXsb3b_"
   },
   "source": [
    "En els exemples de les cel·les anteriors, es pot apreciar la diferència en el funcionament de les instruccions `break` i `continue`. En el primer exemple, `break` interromp l'execució del bucle quan *planeta* és igual a *Venus*. En canvi, `continue` no interromp el bucle, sinó, passa a la iteració següent saltant la instrucció pendent `print`.\n",
    "\n",
    "A l'exemple següent, canvieu la instrucció `break` per `continue`. Executeu el codi en les dues tessitures per comprovar com varia l'output final segons la instrucció que s'hagi fet servir."
   ]
  },
  {
   "cell_type": "code",
   "execution_count": null,
   "metadata": {},
   "outputs": [],
   "source": [
    "a = 20\n",
    "#\n",
    "while a > 0:\n",
    "    a -= 1\n",
    "    if a % 2 == 0:\n",
    "        continue  # break\n",
    "    print(a, end=\" \")"
   ]
  },
  {
   "cell_type": "markdown",
   "metadata": {
    "id": "bdG59DeJb3b_"
   },
   "source": [
    "## 3.4 Eines de Python per a iterar eficientment\n",
    "\n",
    "Abans hem definit dues estructures de control, `for` i `while`, generals de la majoria de llenguatges de programació. Python té eines específiques per optimitzar el procés d'iteració. Entre aquestes eines hi ha :`range()`, `enumerate()` i `zip()`.\n",
    "\n",
    "### 3.4.1 Range\n",
    "\n",
    "[`Range`](https://docs.python.org/3/library/stdtypes.html?highlight=range#range) és una funció molt útil de Python per generar una seqüència de nombres. La sintaxi de `range` és la següent:"
   ]
  },
  {
   "cell_type": "code",
   "execution_count": null,
   "metadata": {},
   "outputs": [],
   "source": [
    "# range(start,end,step)"
   ]
  },
  {
   "cell_type": "markdown",
   "metadata": {
    "id": "3lOFe5EKb3cA"
   },
   "source": [
    "`Range`és una funció que permet passar tres paràmetres separats per coma, en què **start** és el valor inicial de la seqüència, **end** és el valor final i **step** el salt entre números. És molt important remarcar que range retorna una llista de nombres fins a la posició final menys 1. Per defecte, el valor inicial és 0 i el salt és 1."
   ]
  },
  {
   "cell_type": "code",
   "execution_count": null,
   "metadata": {},
   "outputs": [],
   "source": [
    "# La funció 'range' ens retorna una llista de nombres:\n",
    "list(range(10))"
   ]
  },
  {
   "cell_type": "markdown",
   "metadata": {
    "id": "3c56Glvab3cA"
   },
   "source": [
    "Fixeu-vos que `range` no torna directament una llista, sinó que retorna un tipus propi del mateix nom. Per aquest motiu, per obtenir una llista cal fer una conversió de tipus fent servir `list()`. Això és una novetat en Python 3, ja que en Python 2 la funció `range` retornava una llista."
   ]
  },
  {
   "cell_type": "code",
   "execution_count": null,
   "metadata": {},
   "outputs": [],
   "source": [
    "# Visualitzem el tipus de retorn de range\n",
    "print(type(range(10)))\n",
    "print(type(list(range(10))))"
   ]
  },
  {
   "cell_type": "markdown",
   "metadata": {
    "id": "YDEHAIslb3cA"
   },
   "source": [
    "Vegem alguns dels usos més habituals de `range`:"
   ]
  },
  {
   "cell_type": "code",
   "execution_count": null,
   "metadata": {},
   "outputs": [],
   "source": [
    "# Podem fer-la servir per iterar:\n",
    "for i in range(10):\n",
    "    print(i, end=\" \")\n",
    "print()"
   ]
  },
  {
   "cell_type": "code",
   "execution_count": null,
   "metadata": {},
   "outputs": [],
   "source": [
    "# Podem definir el rang d'acció.\n",
    "\n",
    "# Per exemple, especificant només el final com hem fet abans\n",
    "for i in range(10):\n",
    "    print(i, end=\" \")\n",
    "\n",
    "print()\n",
    "\n",
    "# especificant inici i fi:\n",
    "for i in range(5, 10):\n",
    "    print(i, end=\" \")\n",
    "\n",
    "print()\n",
    "\n",
    "# o especificant també el salt entre cada valor:\n",
    "for i in range(5, 10, 3):\n",
    "    print(i, end=\" \")"
   ]
  },
  {
   "cell_type": "markdown",
   "metadata": {
    "id": "o54Ukws_b3cB"
   },
   "source": [
    "Sempre que no necessitem explícitament una llista, farem servir directament el tipus `range` (sense fer la conversió a llista), ja que això és en general més eficient (estalvia memòria). Només quan necessitem una llista, (per exemple, per visualitzar el resultat com hem fet en el primer exemple) convertirem el resultat de `range` a llista."
   ]
  },
  {
   "cell_type": "code",
   "execution_count": null,
   "metadata": {},
   "outputs": [],
   "source": [
    "# També és possible iterar en un diccionari:\n",
    "pais_codis = {34: 'Spain', 376: 'Andorra', 41: 'Switzerland', 424: None}\n",
    "\n",
    "# Per clau:\n",
    "for pais_codi in pais_codis.keys():\n",
    "    print(pais_codi)\n",
    "print()\n",
    "\n",
    "# Per valor:\n",
    "for pais in pais_codis.values():\n",
    "    print(pais)\n",
    "print()\n",
    "\n",
    "# Per tots dos alhora:\n",
    "for pais_codi, pais in pais_codis.items():\n",
    "    print(pais_codi, pais)"
   ]
  },
  {
   "cell_type": "markdown",
   "metadata": {
    "id": "g2Xvj5myb3cB"
   },
   "source": [
    "### 3.4.2 Enumerate\n",
    "\n",
    "[`Enumerate`](https://docs.python.org/3/library/functions.html?highlight=enumerate#enumerate) és una funció de Python per accedir als índexs d'una col·lecció. Aquesta funció retorna una tupla en què el primer element és un índex que comença per 0 i augmenta d'1 a 1, i el segon element és el valor de la posició a la llista.\n",
    "\n",
    "A l'exemple següent, accedim a l'índex i al valor de la llista mitjançant `for` i un comptador:"
   ]
  },
  {
   "cell_type": "code",
   "execution_count": null,
   "metadata": {},
   "outputs": [],
   "source": [
    "# Recuperem l'exemple dels monstres\n",
    "monsters = ['Kraken', 'Leviathan', 'Uroborus', 'Hydra']\n",
    "\n",
    "# Inicialitzem el comptador\n",
    "i = 0\n",
    "\n",
    "for monster in monsters:\n",
    "    print(i, monster, end=\" \")\n",
    "    i += 1"
   ]
  },
  {
   "cell_type": "markdown",
   "metadata": {
    "id": "1Nx69eJXb3cB"
   },
   "source": [
    "Podem obtenir el mateix resultat fent servir la funció `enumerate`:"
   ]
  },
  {
   "cell_type": "code",
   "execution_count": null,
   "metadata": {},
   "outputs": [],
   "source": [
    "for index, monster in enumerate(monsters):\n",
    "    print(index, monster, end=\" \")"
   ]
  },
  {
   "cell_type": "markdown",
   "metadata": {
    "id": "brKZYUFIb3cC"
   },
   "source": [
    "### 3.4.3 Zip\n",
    "\n",
    "`Zip` és una funció que, combinada amb un `for`, permet iterar tantes llistes com sigui necessari en paral·lel."
   ]
  },
  {
   "cell_type": "code",
   "execution_count": null,
   "metadata": {},
   "outputs": [],
   "source": [
    "planetes = [\"Mercuri\", \"Venus\", \"Terra\"]\n",
    "diametre = [\"4880 km\", \"12105 km\", \"12750 km\"]\n",
    "distancia_sol = [\"57910000 km\", \"108200000 km\", \"146600000 km\"]\n",
    "\n",
    "for pla, dist, ds in zip(planetes, diametre, distancia_sol):\n",
    "    print(\"{} té un diametre de {} i es troba a una distància del Sol de {}\"\n",
    "          .format((pla), (dist), (ds)))"
   ]
  },
  {
   "cell_type": "markdown",
   "metadata": {
    "id": "c4tmYxWxb3cC"
   },
   "source": [
    "Si les llistes tenen longituds diferents, la iteració s'atura quan la llista més petita s'acaba."
   ]
  },
  {
   "cell_type": "code",
   "execution_count": null,
   "metadata": {},
   "outputs": [],
   "source": [
    "planetes = [\"Mercuri\", \"Venus\", \"Terra\"]\n",
    "diametre = [\"4880 km\", \"12105 km\", \"12750 km\"]\n",
    "distancia_sol = [\"57910000 km\", \"108200000 km\"]\n",
    "\n",
    "for pla, dist, ds in zip(planetes, diametre, distancia_sol):\n",
    "    print(\"{} té un diametre de {} i es troba a una distància del Sol de {}\"\n",
    "          .format((pla), (dist), (ds)))"
   ]
  },
  {
   "cell_type": "markdown",
   "metadata": {
    "id": "KIWOmkirb3cC"
   },
   "source": [
    "Aquesta funció està definida per qualsevol objecte iterable. Aquesta característica fa que es pugui fer servir `zip` amb diccionaris.  Per accedir al valor i la clau de cada element s'ha de fer servir la funció `items`."
   ]
  },
  {
   "cell_type": "code",
   "execution_count": null,
   "metadata": {},
   "outputs": [],
   "source": [
    "pais_codi = {34: 'Spain', 376: 'Andorra', 41: 'Switzerland', 424: None}\n",
    "pais_hab = {'Spain': 46000000, 'Andorra': 77000, 'Switzerland': 8000000}\n",
    "\n",
    "for (a, b), (c, d) in zip(pais_codi.items(), pais_hab.items()):\n",
    "    print(a, b, d)"
   ]
  },
  {
   "cell_type": "markdown",
   "metadata": {
    "id": "HGmbnITnb3cC"
   },
   "source": [
    "# 4 List Comprehensions\n",
    "\n",
    "**List comprehension** és una expressió idiomàtica de Python que permet crear llistes d'elements en una sola línia de codi de forma senzilla i elegant sense fer servir estructures de control molt complexes."
   ]
  },
  {
   "cell_type": "code",
   "execution_count": null,
   "metadata": {},
   "outputs": [],
   "source": [
    "# Volem seleccionar tots aquells planetes que tenen una *r* en el seu nom\n",
    "planetes = [\"Mercuri\", \"Venus\", \"Terra\"]\n",
    "subset = []\n",
    "for x in planetes:\n",
    "    if \"r\" in x:\n",
    "        subset.append(x)\n",
    "print(subset)"
   ]
  },
  {
   "cell_type": "markdown",
   "metadata": {
    "id": "jBFQBZ-ib3cC"
   },
   "source": [
    "En l'exemple anterior, hem implementat una estructura de control clàssica amb `for`i `if` per seleccionar els elements de la llista que tenen una *r* en el seu nom. A la cel·la següent farem el mateix fent servir *list comprehension*."
   ]
  },
  {
   "cell_type": "code",
   "execution_count": null,
   "metadata": {},
   "outputs": [],
   "source": [
    "subset = [x for x in planetes if \"r\" in x]\n",
    "\n",
    "print(subset)"
   ]
  },
  {
   "cell_type": "markdown",
   "metadata": {
    "id": "DmfvCEs6b3cD"
   },
   "source": [
    "La sintaxi general d'una *list comprehension* és la següent:"
   ]
  },
  {
   "cell_type": "code",
   "execution_count": null,
   "metadata": {},
   "outputs": [],
   "source": [
    "# llista = [expressió for element in iterable]"
   ]
  },
  {
   "cell_type": "markdown",
   "metadata": {
    "id": "XmpRNcmVb3cD"
   },
   "source": [
    "Aquesta sintaxi té dues parts ben diferenciades.\n",
    "\n",
    "- `for element in iterable` iteració d'un determinat iterable i es guarda cada un dels elements a `element`. L'iterable pot ser una llista, seqüència, generador o una estructura de control (com per exemple, `if `) que retorni els seus elements d'un en un.\n",
    "- `expressió` acció sobre `element`que s'afegirà a la llista a cada iteració."
   ]
  },
  {
   "cell_type": "code",
   "execution_count": null,
   "metadata": {},
   "outputs": [],
   "source": [
    "# Aplicarem una list comprehension per calcular el quadrat dels nombres parells\n",
    "# presents fins al 9\n",
    "resultat = [i**2 for i in range(10) if i % 2 == 0]\n",
    "print(resultat)"
   ]
  },
  {
   "cell_type": "markdown",
   "metadata": {
    "id": "MOP2IBMCb3cE"
   },
   "source": [
    "# 5 Funcions\n",
    "\n",
    "Una altra manera molt important d'organitzar el flux d'execució és encapsulant una certa porció de codi en una funció reutilitzable. S'ha d'emfatitzar que el conjunt d'instruccions que s'executen dins la funció han d'estar correctament tabulades respecte de `def()`. Si no és així, s'obté un error de tabulació.   \n",
    "\n",
    "Una funció en Python utilitza un concepte similar al d'una funció matemàtica. Per exemple, imaginem-nos la funció matemàtica:\n",
    "\n",
    "*suma(x, y) = x + y*\n",
    "\n",
    "A Python podem definir la mateixa funció de la manera següent:"
   ]
  },
  {
   "cell_type": "code",
   "execution_count": null,
   "metadata": {},
   "outputs": [],
   "source": [
    "# La funció 'suma' es defineix mitjançant la paraula especial 'def' i té dos\n",
    "# arguments: 'x' i 'y':\n",
    "def suma(x, y):\n",
    "    # Mostrem per pantalla els valors de x i y\n",
    "    print(\"El valor d'x és {}\".format(x))\n",
    "    print(\"El valor d'y és {}\".format(y))\n",
    "    # Tornem el valor de la suma\n",
    "    return x + y"
   ]
  },
  {
   "cell_type": "markdown",
   "metadata": {
    "id": "xZ2qF8x2b3cE"
   },
   "source": [
    "La definició d'una funció Python té les característiques següents:\n",
    "\n",
    "   - Paraula clau def().\n",
    "   - Nom de la funció.\n",
    "   - Parèntesis i dins dels parèntesis els paràmetres d'entrada (tot i que poden ser opcionals).\n",
    "   - Dos punts `:`.\n",
    "   - Bloc de codi.\n",
    "   - Sentència de retorn, `return`, del resultat (opcional).\n",
    "  \n",
    "En la definició d'una funció no s'executa el bloc de codi que conté la funció.  Per executar-lo, s'ha d'escriure el nom de la funció amb els paràmetres d'entrada corresponents, com podem veure als exemples següents. En el primer exemple, estem executant la funció `suma()` fent servir el nom dels paràmetres."
   ]
  },
  {
   "cell_type": "code",
   "execution_count": null,
   "metadata": {},
   "outputs": [],
   "source": [
    "# Execució de la funció suma\n",
    "suma(x=5, y=-5)"
   ]
  },
  {
   "cell_type": "markdown",
   "metadata": {
    "id": "iVkqxjTzb3cG"
   },
   "source": [
    "Si fem servir el nom dels paràmetres, podem canviar l'ordre dels paràmetres sense modificar el resultat de la funció."
   ]
  },
  {
   "cell_type": "code",
   "execution_count": null,
   "metadata": {},
   "outputs": [],
   "source": [
    "# Execució de la funció suma canviant l'ordre dels paràmetres\n",
    "suma(y=-5, x=5)"
   ]
  },
  {
   "cell_type": "markdown",
   "metadata": {
    "id": "HxacM1hLb3cH"
   },
   "source": [
    "Si no fem servir el nom dels paràmetres, cada posició correspon a un paràmetre tal com hem definit dins de la funció. En el nostre cas, la primera posició és `x`, i la segona, `y`."
   ]
  },
  {
   "cell_type": "code",
   "execution_count": null,
   "metadata": {},
   "outputs": [],
   "source": [
    "# Execució de la funció amb els arguments posicionals\n",
    "suma(4, 2)"
   ]
  },
  {
   "cell_type": "code",
   "execution_count": null,
   "metadata": {},
   "outputs": [],
   "source": [
    "# Execució de la funció canviant l'ordre els arguments posicionals\n",
    "suma(2, 4)"
   ]
  },
  {
   "cell_type": "code",
   "execution_count": null,
   "metadata": {},
   "outputs": [],
   "source": [
    "# Podem definir una funció que no faci res fent servir la paraula especial\n",
    "# 'pass':\n",
    "\n",
    "def dummy():\n",
    "    pass"
   ]
  },
  {
   "cell_type": "code",
   "execution_count": null,
   "metadata": {},
   "outputs": [],
   "source": [
    "dummy()"
   ]
  },
  {
   "cell_type": "code",
   "execution_count": null,
   "metadata": {},
   "outputs": [],
   "source": [
    "# Podríem tornar a definir el tros de codi de la seqüència de Fibonacci com una\n",
    "# funció:\n",
    "\n",
    "def fibonacci(n=100):\n",
    "    a, b = 0, 1\n",
    "    while a < n:\n",
    "        print(a, end=\" \")\n",
    "        a, b = b, a+b"
   ]
  },
  {
   "cell_type": "code",
   "execution_count": null,
   "metadata": {},
   "outputs": [],
   "source": [
    "fibonacci(10)"
   ]
  },
  {
   "cell_type": "code",
   "execution_count": null,
   "metadata": {},
   "outputs": [],
   "source": [
    "# A l'exemple anterior, hem definit que l'argument n tingui un valor per\n",
    "# defecte. Això és molt útil en els casos en què fem servir la funció sempre\n",
    "# amb un mateix valor, vulguem deixar constància d'un cas d'exemple o per\n",
    "# defecte. En aquest cas, podem executar la funció sense passar-li cap valor:\n",
    "fibonacci()"
   ]
  },
  {
   "cell_type": "code",
   "execution_count": null,
   "metadata": {},
   "outputs": [],
   "source": [
    "# Podem definir part dels arguments amb valors per defecte i un altre sense.\n",
    "# Els arguments sense valor per defecte sempre han d'estar més a l'esquerra a\n",
    "# la definició de la funció:\n",
    "\n",
    "def potencia(a, b=2):\n",
    "    # Per defecte, elevarem al quadrat.\n",
    "    return a**b"
   ]
  },
  {
   "cell_type": "code",
   "execution_count": null,
   "metadata": {},
   "outputs": [],
   "source": [
    "print(potencia(3))\n",
    "print(potencia(2, 3))"
   ]
  },
  {
   "cell_type": "markdown",
   "metadata": {
    "id": "tkty4wBvb3cI"
   },
   "source": [
    "## 5.1 Args i kargs\n",
    "\n",
    "Tal com hem vist a l'apartat anterior, hem definit les funcions considerant un nombre concret d'arguments *(0,1,2,...,N)*. Però ens podem trobar que, a priori, no sapiguem quantes variables necessitem. Per solucionar això, en Python es pot definir un conjunt d'arguments variable amb `args`i `kargs`.\n",
    "\n",
    "*Args* ens permet definir funcions genèriques que acceptin un nombre variable d'arguments.  "
   ]
  },
  {
   "cell_type": "code",
   "execution_count": null,
   "metadata": {},
   "outputs": [],
   "source": [
    "def suma_args(*args):\n",
    "    # Tornem el valor de la suma\n",
    "    return sum(args)"
   ]
  },
  {
   "cell_type": "code",
   "execution_count": null,
   "metadata": {},
   "outputs": [],
   "source": [
    "suma_args(3, 4, 5)"
   ]
  },
  {
   "cell_type": "markdown",
   "metadata": {
    "id": "m6L1U9Iyb3cI"
   },
   "source": [
    "La funció `suma_args` correspon a la mateixa funció `suma`, que hem definit a l'apartat anterior, però fent servir un nombre variable d'arguments. Si comparem les dues funcions, veurem que la funció `suma` només permet sumar dos nombres. En canvi, `suma_args`permet sumar tants nombres com vulgui l'usuari."
   ]
  },
  {
   "cell_type": "code",
   "execution_count": null,
   "metadata": {},
   "outputs": [],
   "source": [
    "print(\"Suma amb un nombre variable d'arguments és {}\".format(suma_args(4, 5)))\n",
    "print(\"Suma de dos arguments és {}\".format(suma(4, 5)))"
   ]
  },
  {
   "cell_type": "code",
   "execution_count": null,
   "metadata": {},
   "outputs": [],
   "source": [
    "print(\"Suma amb un nombre variable d'arguments és {}\".format(\n",
    "    suma_args(4, 5, 7, 8, 9)))\n",
    "# print(\"Suma de dos arguments és {}\".format(suma(4,5,7,8,9)))"
   ]
  },
  {
   "cell_type": "markdown",
   "metadata": {
    "id": "AYvwH3OLb3cJ"
   },
   "source": [
    "Si es vol sumar *5* nombres mitjançant la funció `suma` definida amb dues variables, l'execució dona error perquè estàs fent servir més arguments dels definits.\n",
    "\n",
    "Si, a més de treballar amb un nombre variable d'arguments, volem tenir la capacitat de definir el nom de cada un dels arguments d'entrada, hem de fer servir **kargs**. Hem de treballar **kargs** com si es tractés d'un diccionari i accedir als corresponents valors i claus mitjançant la funció `items`."
   ]
  },
  {
   "cell_type": "code",
   "execution_count": null,
   "metadata": {},
   "outputs": [],
   "source": [
    "def suma_kargs(**kargs):\n",
    "    r = 0\n",
    "    # Tornem el valor de la suma\n",
    "    for k, v in kargs.items():\n",
    "        print(k, \"=\", v)\n",
    "        r += v\n",
    "    return r"
   ]
  },
  {
   "cell_type": "code",
   "execution_count": null,
   "metadata": {},
   "outputs": [],
   "source": [
    "print(\"Suma amb un nombre variable d'arguments és {}\".format(\n",
    "    suma_kargs(a=4, b=5, c=7, d=8, e=9)))"
   ]
  },
  {
   "cell_type": "markdown",
   "metadata": {
    "id": "25IJSWu5b3cJ"
   },
   "source": [
    "## 5.2 Funció Lambda\n",
    "\n",
    "La funció *Lambda* o anònima és un tipus de funció de Python que s'empra per simplificar l'escriptura de funcions en una sola línia. A l'exemple següent volem obtenir tots els nombres múltiples de 5."
   ]
  },
  {
   "cell_type": "code",
   "execution_count": null,
   "metadata": {},
   "outputs": [],
   "source": [
    "# Definim la funció myfun(), en què el paràmetre d'entrada és el valor fins on\n",
    "# volem estudiar\n",
    "\n",
    "def myfun(xmax):\n",
    "    # Definim la llista\n",
    "    mylist = []\n",
    "    for k in range(0, xmax):\n",
    "        # Comprovem si el valor és multiple de 5\n",
    "        if k % 5 == 0:\n",
    "            # Afegim el valor a la llista amb append()\n",
    "            mylist.append(k)\n",
    "    # Mostrem per pantalla\n",
    "    print(mylist)"
   ]
  },
  {
   "cell_type": "code",
   "execution_count": null,
   "metadata": {},
   "outputs": [],
   "source": [
    "myfun(101)"
   ]
  },
  {
   "cell_type": "markdown",
   "metadata": {
    "id": "zvJU_cFZb3cK"
   },
   "source": [
    "Podem expressar la funció `myfun()` fent servir la funció *Lambda* com:"
   ]
  },
  {
   "cell_type": "code",
   "execution_count": null,
   "metadata": {},
   "outputs": [],
   "source": [
    "# La funció filter() permet extreure els valors que compleixen una determina\n",
    "# condició\n",
    "print(list(filter(lambda x: x % 5 == 0,  range(0, 101))))"
   ]
  },
  {
   "cell_type": "markdown",
   "metadata": {
    "id": "FNIkuVbBb3cK"
   },
   "source": [
    "Com es pot veure en l'exemple anterior, la funció `lambda` (en combinació amb la funció filter) ens permet obtenir el mateix resultat que la funció `myfun` de manera més simplificada i compacta."
   ]
  },
  {
   "cell_type": "markdown",
   "metadata": {
    "id": "JTUG1DEyb3cK"
   },
   "source": [
    "# 6 LLegir i escriure des de fitxers\n",
    "\n",
    "Una tasca habitual és llegir línies d'un fitxer o escriure línies en un fitxer. A continuació, us expliquem com podem escriure i llegir un fitxer:"
   ]
  },
  {
   "cell_type": "code",
   "execution_count": null,
   "metadata": {},
   "outputs": [],
   "source": [
    "# Primer de tot, escriurem en un fitxer:\n",
    "\n",
    "# Obrim un fitxer de nom 'a_file.txt' per a escriptura (d'aquí la 'w',\n",
    "# 'writing'). L'assignem a un objecte per gestionar el fitxer de nom 'out':\n",
    "out = open('a_file.txt', 'w')\n",
    "# Escriurem 10 línies, cadascuna amb un número del 0 al 9.\n",
    "for i in range(10):\n",
    "    # La línia següent escriu al fitxer tot el que hi posem dins 'out.write()'\n",
    "    # En el nostre cas, és un string del tipus '0\\n', '1\\n', etc. Això ho\n",
    "    # aconseguim fent servir format amb un paràmetre, que és el número de\n",
    "    # línia. Afegim el \\n al final de cada línia, per incloure el salt de línia\n",
    "    out.write(\"Línia {}\\n\".format(i))\n",
    "\n",
    "    # Alternativament, podríem fer servir els wildcards %d i %s.\n",
    "    # %s representa un string o una cadena de caràcters i %d un nombre enter.\n",
    "    # Concatenem en aquest cas un nombre amb un string que es tracta del salt\n",
    "    # de línia, os.linesep, que equival a Linux\n",
    "    # a '\\n':\n",
    "    # out.write(\"Línia %d%s\" % (i, os.linesep))\n",
    "\n",
    "# Un cop hem acabat d'escriure el fitxer, s'ha de tancar amb la instrucció\n",
    "# close()\n",
    "out.close()"
   ]
  },
  {
   "cell_type": "markdown",
   "metadata": {
    "id": "yNN6fsRCb3cK"
   },
   "source": [
    "Ara llegirem el fitxer que acabem d'escriure de tres maneres diferents. En els dos primers mètodes, un cop hem acabat de treballar amb el fitxer, s'ha de tancar amb la instrucció `close()`. En canvi, el tercer mètode,`with()`, tanca el fitxer automàticament."
   ]
  },
  {
   "cell_type": "code",
   "execution_count": null,
   "metadata": {},
   "outputs": [],
   "source": [
    "# Primer mètode\n",
    "f = open('a_file.txt')\n",
    "for line in f:\n",
    "    print(line, end=\"\")\n",
    "f.close()\n",
    "print()\n",
    "\n",
    "# Segon mètode\n",
    "f = open('a_file.txt')\n",
    "lines = f.readlines()\n",
    "for line in lines:\n",
    "    print(line, end=\"\")\n",
    "f.close()\n",
    "print()\n",
    "\n",
    "\n",
    "# Tercer mètode\n",
    "with open('a_file.txt') as f:\n",
    "    for line in f:\n",
    "        print(line, end=\"\")"
   ]
  },
  {
   "cell_type": "markdown",
   "metadata": {
    "id": "jYGWJLvib3cL"
   },
   "source": [
    "<a id='6.1-Pandas'></a>\n",
    "## 6.1 Pandas"
   ]
  },
  {
   "cell_type": "markdown",
   "metadata": {
    "id": "v7ldsXPfb3cL"
   },
   "source": [
    "Una altra manera de llegir i escriure fitxers en Python és mitjançant la biblioteca *Pandas*. Per poder fer ús de les funcions d'una biblioteca, primer de tot s'ha d'importar la biblioteca mitjançant la instrucció *import*."
   ]
  },
  {
   "cell_type": "code",
   "execution_count": null,
   "metadata": {},
   "outputs": [],
   "source": [
    "import pandas as pd"
   ]
  },
  {
   "cell_type": "markdown",
   "metadata": {
    "id": "sdg-BUIub3cL"
   },
   "source": [
    "Pandas ens permet carregar les dades d'un fitxer *CSV* directament a un dataframe per mitjà de la funció [`read_csv`](https://pandas.pydata.org/docs/reference/api/pandas.read_csv.html).  Aquesta funció és molt versàtil i disposa de molts paràmetres per configurar amb tot detall com dur a terme la importació.  En molts casos, la configuració per defecte ja ens oferirà els resultats desitjats.\n",
    "\n",
    "Ara carregarem les dades del fitxer `marvel-wiki-data.csv`, que conté dades sobre personatges de còmic de Marvel. El conjunt de dades va ser creat pel web [FiveThirtyEight](https://fivethirtyeight.com), que escriu articles basats en dades sobre esports i notícies, i que posa a disposició pública els [conjunts de dades](https://github.com/fivethirtyeight/data) que recull per als seus articles."
   ]
  },
  {
   "cell_type": "code",
   "execution_count": null,
   "metadata": {},
   "outputs": [],
   "source": [
    "data = pd.read_csv(\"data/marvel-wiki-data.csv\")\n",
    "print(type(data))"
   ]
  },
  {
   "cell_type": "markdown",
   "metadata": {
    "id": "XlshvqEhb3cL"
   },
   "source": [
    "D'una manera anàloga a com hem carregat les dades d'un fitxer a un *dataframe*, podem escriure les dades d'un *dataframe* a un fitxer CSV."
   ]
  },
  {
   "cell_type": "code",
   "execution_count": null,
   "metadata": {},
   "outputs": [],
   "source": [
    "# Seleccionem les primeres 20 línies del dataframe data\n",
    "new_data = data.head(n=20)\n",
    "# Guardem el dataframe new_data en un CSV\n",
    "new_data.to_csv(\"data/marvel-wiki-data-head20.csv\", encoding='utf-8')"
   ]
  },
  {
   "cell_type": "markdown",
   "metadata": {
    "id": "OeWCTFyfb3cL"
   },
   "source": [
    "A la unitat 4 veurem més funcionalitats de la biblioteca pandas i presentarem amb més detall els tipus de dades que retorna `read_csv`."
   ]
  },
  {
   "cell_type": "markdown",
   "metadata": {
    "id": "5q9LGpPFb3cM"
   },
   "source": [
    "# 7 Errors i Excepcions\n",
    "\n",
    "La codificació està subjecta a errors. Conèixer i corregir aquests errors forma part de l'aprenentatge de qualsevol llenguatge de programació. En Python, hi ha dues menes diferents d'errors: errors de sintaxi i Excepcions. La principal diferència entre les dues menes d'errors és que el primer està associat a un error de sintaxi, i el segon, a un error d'execució.\n",
    "\n",
    "- **Errors de Sintaxi o d'interpretació**:  Són errors provocats per un error en la codificació. Quan hi ha un error d'aquest tipus, l'intèrpret reprodueix la línia responsable de l'error i mostra amb una fletxa on hi ha hagut l'error."
   ]
  },
  {
   "cell_type": "code",
   "execution_count": null,
   "metadata": {},
   "outputs": [],
   "source": [
    "i = 0\n",
    "while i == 0\n",
    "    print(\"hola\")\n",
    "    i += 1"
   ]
  },
  {
   "cell_type": "markdown",
   "metadata": {
    "id": "sBVPPTQJb3cM"
   },
   "source": [
    "L'error ens està indicant que hi ha hagut un error de sintaxi a la segona línia en la instrucció `while`. En aquest cas, falten dos punts `(':')` al final."
   ]
  },
  {
   "cell_type": "code",
   "execution_count": null,
   "metadata": {},
   "outputs": [],
   "source": [
    "i = 0\n",
    "while i == 0:\n",
    "    print(\"hola\")\n",
    "    i += 1"
   ]
  },
  {
   "cell_type": "markdown",
   "metadata": {
    "id": "e2U-M4t3b3cM"
   },
   "source": [
    "- **Excepcions**: Els errors detectats durant l'execució, tot i que la sintaxi sigui correcta, s'anomenen **excepcions**. La majoria d'excepcions donen un missatge d'error. L'exemple següent mostra un error d'execució:"
   ]
  },
  {
   "cell_type": "code",
   "execution_count": null,
   "metadata": {},
   "outputs": [],
   "source": [
    "a = 10\n",
    "b = 0\n",
    "print(a/b)"
   ]
  },
  {
   "cell_type": "markdown",
   "metadata": {
    "id": "H79oUnVYb3cM"
   },
   "source": [
    "L'última línia del missatge d'error informa d'allò que passa. Hi ha diferents tipus d'excepcions, les principals són **ZeroDivisionError**, **NameError**, **TypeError**. A les cel·les següents veurem un exemple de les excepcions **NameError** i **TypeError**."
   ]
  },
  {
   "cell_type": "code",
   "execution_count": null,
   "metadata": {},
   "outputs": [],
   "source": [
    "# Excepció NameError\n",
    "x = 3 + parametre"
   ]
  },
  {
   "cell_type": "markdown",
   "metadata": {
    "id": "e0roZZ7Lb3cN"
   },
   "source": [
    "L'excepció **NameError** es produeix perquè estem executant una ordre, `suma`, amb una variable que no està definida.  En canvi, l'error següent, **TypeError** s'origina perquè estem intentant sumar dos tipus de magnituds que no es poden sumar, nombre enter amb una cadena de caràcters."
   ]
  },
  {
   "cell_type": "code",
   "execution_count": null,
   "metadata": {},
   "outputs": [],
   "source": [
    "# Excepció TypeError\n",
    "x = 3 + '2'"
   ]
  },
  {
   "cell_type": "markdown",
   "metadata": {
    "id": "661sDM9Mb3cN"
   },
   "source": [
    "## 7.1 Handling Exceptions\n",
    "\n",
    "La gestió de les excepcions és molt important per al bon funcionament del programa. Si no és així, l'aparició d'una excepció pot provocar que el programa s'aturi. Les excepcions poden ser capturades i gestionades adequadament, sense que el programa s'aturi fent ús de les instruccions `try`i `except`. Si recuperem l'exemple anterior:"
   ]
  },
  {
   "cell_type": "code",
   "execution_count": null,
   "metadata": {},
   "outputs": [],
   "source": [
    "a = 10\n",
    "b = 0\n",
    "while b < 5:\n",
    "    try:\n",
    "        c = a/b\n",
    "        print(c)\n",
    "        break\n",
    "    except ZeroDivisionError:\n",
    "        b += 1\n",
    "        print(\"No es pot fer la divisió\")"
   ]
  },
  {
   "cell_type": "markdown",
   "metadata": {
    "id": "nOeDIdxpb3cN"
   },
   "source": [
    "En aquest exemple, el programa no s'atura i pot continuar executant-se. Quan hi ha una *excepció* s'executa el codi que hi ha dins de la instrucció `except`, però el programa no s'atura. La instrucció `except` també permet fer servir excepcions genèriques mitjançant `Exception` quan es desconeix l'excepció que es crea."
   ]
  },
  {
   "cell_type": "code",
   "execution_count": null,
   "metadata": {},
   "outputs": [],
   "source": [
    "a = 10\n",
    "b = 0\n",
    "while b < 5:\n",
    "    try:\n",
    "        c = a/b\n",
    "        print(c)\n",
    "        break\n",
    "    except Exception:\n",
    "        b += 1\n",
    "        print(\"No es pot fer la divisió\")"
   ]
  },
  {
   "cell_type": "markdown",
   "metadata": {
    "id": "PEuEeokBb3cN"
   },
   "source": [
    "Altres instruccions per afegir als blocs de codi `try`i `except`són `else`i `finally`.  \n",
    "\n",
    "- `else`: S'executa si no hi ha hagut cap excepció.\n",
    "- `finally`: S'executa sempre encara que hi hagi hagut una excepció."
   ]
  },
  {
   "cell_type": "code",
   "execution_count": null,
   "metadata": {},
   "outputs": [],
   "source": [
    "a = 10\n",
    "b = 0\n",
    "while b < 5:\n",
    "    try:\n",
    "        c = a/b\n",
    "    except ZeroDivisionError:\n",
    "        b += 1\n",
    "        print(\"No es pot fer la divisió\")\n",
    "    else:\n",
    "        print(\"S'ha executat la divisió i el resultat ha estat {}\".format(c))\n",
    "        break"
   ]
  },
  {
   "cell_type": "code",
   "execution_count": null,
   "metadata": {},
   "outputs": [],
   "source": [
    "a = 10\n",
    "b = 1\n",
    "while b < 2:\n",
    "    try:\n",
    "        c = a/b\n",
    "    except ZeroDivisionError:\n",
    "        b += 1\n",
    "        c = \"No es pot fer la divisió\"\n",
    "    finally:\n",
    "        print(c)\n",
    "        break"
   ]
  },
  {
   "cell_type": "markdown",
   "metadata": {
    "id": "2HBrwqtvb3cO"
   },
   "source": [
    "## 7.2 Raising  Exceptions\n",
    "\n",
    "Finalment, també es poden llançar excepcions específiques amb la instrucció `raise`. Aquesta instrucció permet definir quina mena d'error es genera i el text que s'ha d'imprimir a l'usuari."
   ]
  },
  {
   "cell_type": "code",
   "execution_count": null,
   "metadata": {},
   "outputs": [],
   "source": [
    "x = -1\n",
    "\n",
    "if x < 0:\n",
    "    raise Exception(\"Error, han de ser valors positius\")"
   ]
  },
  {
   "cell_type": "markdown",
   "metadata": {
    "id": "KuesF5XWb3cO"
   },
   "source": [
    "**Recomanem la lectura de la [documentació oficial](https://docs.python.org/3/tutorial/controlflow.html)** per\n",
    "acabar de fixar coneixements."
   ]
  },
  {
   "cell_type": "markdown",
   "metadata": {
    "id": "Cb4zGXYZb3cO"
   },
   "source": [
    "# 8 Exercicis i preguntes teòriques\n",
    "\n",
    "La part avaluable d'aquesta unitat consisteix en el lliurament d'un fitxer IPython Notebook amb extensió IPYNB que contindrà els diferents exercicis i les preguntes teòriques que s'han de contestar. Trobareu el fitxer (`prog_datasci_3_python_entrega.ipynb`) amb les activitats a la mateixa carpeta que aquest notebook que esteu llegint."
   ]
  },
  {
   "cell_type": "markdown",
   "metadata": {
    "id": "92JvR4fGb3cO"
   },
   "source": [
    "# 8.1 Instruccions importants\n",
    "\n",
    "És molt important que a l'hora de lliurar el fitxer Notebook amb les vostres activitats us assegureu que:\n",
    "\n",
    "1. Les vostres solucions siguin originals. Esperem no detectar-hi còpia directa entre estudiants.\n",
    "2. Tot el codi estigui correctament documentat. El codi sense documentar equivaldrà a un 0.\n",
    "3. El fitxer comprimit que lliureu és correcte (conté les activitats de la PAC que heu de lliurar).\n",
    "\n",
    "Per fer el lliurament, heu d'anar a la carpeta del drive `Colab Notebooks`, clicant botó dret a la PAC en qüestió i fent `Download`. D'aquesta manera, baixareu la carpeta de la PAC comprimida en `zip`. Aquest és el fitxer que heu de pujar al campus virtual de l'assignatura."
   ]
  },
  {
   "cell_type": "markdown",
   "metadata": {
    "id": "L4qrvsOUb3cO"
   },
   "source": [
    "# 9 Bibliografia\n",
    "\n",
    "Us recomanem que consulteu els exemples següents del llibre *Learn Python 3 the hard way* de la bibliografia de l'assignatura, i que intenteu fer les activitats que s'hi proposen per acabar d'entendre i practicar els conceptes explicats en aquesta unitat.\n",
    "\n",
    "Operacions lògiques:\n",
    "* Exercise 27. Memorizing Logic\n",
    "* Exercise 28. Boolean Practice\n",
    "\n",
    "Condicionals:\n",
    "* Exercise 29. What If\n",
    "* Exercise 30. Else and If\n",
    "* Exercise 31. Making Decisions\n",
    "\n",
    "Iteració:\n",
    "* Exercise 32. Loops and Lists\n",
    "* Exercise 33. While-Loops"
   ]
  },
  {
   "cell_type": "markdown",
   "metadata": {
    "id": "TXYqgMmFb3cO"
   },
   "source": [
    "# Autors\n",
    "\n",
    "- Autor original Brian Jiménez Garcia, 2016.\n",
    "- Actualitzat per Cristina Pérez Solà, 2017 i 2019.\n",
    "- Actualitzat per Joan Maynou Fernández, 2022."
   ]
  },
  {
   "cell_type": "markdown",
   "metadata": {
    "id": "EE7WXp1_b3cO"
   },
   "source": [
    "<img src=\"data:image/avif;base64,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\" width=\"100\">"
   ]
  }
 ],
 "metadata": {
  "language_info": {
   "name": "python"
  }
 },
 "nbformat": 4,
 "nbformat_minor": 0
}
