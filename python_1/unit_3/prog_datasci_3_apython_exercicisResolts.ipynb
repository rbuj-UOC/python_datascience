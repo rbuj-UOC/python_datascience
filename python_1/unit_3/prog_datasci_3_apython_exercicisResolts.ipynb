{
 "cells": [
  {
   "cell_type": "markdown",
   "metadata": {
    "id": "U1Vk1u72b2pN"
   },
   "source": [
    "<div style=\"display: grid; grid-template-columns: repeat(2, 1fr); align-items: end;\">\n",
    "    <div>\n",
    "        <img src=\"data:image/avif;base64,AAAAHGZ0eXBhdmlmAAAAAGF2aWZtaWYxbWlhZgAADSttZXRhAAAAAAAAACFoZGxyAAAAAAAAAABwaWN0AAAAAAAAAAAAAAAAAAAAAA5waXRtAAAAAAABAAAAImlsb2MAAAAAREAAAQABAAAAAA1PAAEAAAAAAAAUMgAAACNpaW5mAAAAAAABAAAAFWluZmUCAAAAAAEAAGF2MDEAAAAMq2lwcnAAAAyMaXBjbwAAAAxhdjFDgQAMAAAADFRjb2xycHJvZgAADEhMaW5vAhAAAG1udHJSR0IgWFlaIAfOAAIACQAGADEAAGFjc3BNU0ZUAAAAAElFQyBzUkdCAAAAAAAAAAAAAAAAAAD21gABAAAAANMtSFAgIAAAAAAAAAAAAAAAAAAAAAAAAAAAAAAAAAAAAAAAAAAAAAAAAAAAAAAAAAAAAAAAEWNwcnQAAAFQAAAAM2Rlc2MAAAGEAAAAbHd0cHQAAAHwAAAAFGJrcHQAAAIEAAAAFHJYWVoAAAIYAAAAFGdYWVoAAAIsAAAAFGJYWVoAAAJAAAAAFGRtbmQAAAJUAAAAcGRtZGQAAALEAAAAiHZ1ZWQAAANMAAAAhnZpZXcAAAPUAAAAJGx1bWkAAAP4AAAAFG1lYXMAAAQMAAAAJHRlY2gAAAQwAAAADHJUUkMAAAQ8AAAIDGdUUkMAAAQ8AAAIDGJUUkMAAAQ8AAAIDHRleHQAAAAAQ29weXJpZ2h0IChjKSAxOTk4IEhld2xldHQtUGFja2FyZCBDb21wYW55AABkZXNjAAAAAAAAABJzUkdCIElFQzYxOTY2LTIuMQAAAAAAAAAAAAAAEnNSR0IgSUVDNjE5NjYtMi4xAAAAAAAAAAAAAAAAAAAAAAAAAAAAAAAAAAAAAAAAAAAAAAAAAAAAAAAAAAAAAAAAAABYWVogAAAAAAAA81EAAQAAAAEWzFhZWiAAAAAAAAAAAAAAAAAAAAAAWFlaIAAAAAAAAG+iAAA49QAAA5BYWVogAAAAAAAAYpkAALeFAAAY2lhZWiAAAAAAAAAkoAAAD4QAALbPZGVzYwAAAAAAAAAWSUVDIGh0dHA6Ly93d3cuaWVjLmNoAAAAAAAAAAAAAAAWSUVDIGh0dHA6Ly93d3cuaWVjLmNoAAAAAAAAAAAAAAAAAAAAAAAAAAAAAAAAAAAAAAAAAAAAAAAAAAAAAAAAAAAAAGRlc2MAAAAAAAAALklFQyA2MTk2Ni0yLjEgRGVmYXVsdCBSR0IgY29sb3VyIHNwYWNlIC0gc1JHQgAAAAAAAAAAAAAALklFQyA2MTk2Ni0yLjEgRGVmYXVsdCBSR0IgY29sb3VyIHNwYWNlIC0gc1JHQgAAAAAAAAAAAAAAAAAAAAAAAAAAAABkZXNjAAAAAAAAACxSZWZlcmVuY2UgVmlld2luZyBDb25kaXRpb24gaW4gSUVDNjE5NjYtMi4xAAAAAAAAAAAAAAAsUmVmZXJlbmNlIFZpZXdpbmcgQ29uZGl0aW9uIGluIElFQzYxOTY2LTIuMQAAAAAAAAAAAAAAAAAAAAAAAAAAAAAAAAAAdmlldwAAAAAAE6T+ABRfLgAQzxQAA+3MAAQTCwADXJ4AAAABWFlaIAAAAAAATAlWAFAAAABXH+dtZWFzAAAAAAAAAAEAAAAAAAAAAAAAAAAAAAAAAAACjwAAAAJzaWcgAAAAAENSVCBjdXJ2AAAAAAAABAAAAAAFAAoADwAUABkAHgAjACgALQAyADcAOwBAAEUASgBPAFQAWQBeAGMAaABtAHIAdwB8AIEAhgCLAJAAlQCaAJ8ApACpAK4AsgC3ALwAwQDGAMsA0ADVANsA4ADlAOsA8AD2APsBAQEHAQ0BEwEZAR8BJQErATIBOAE+AUUBTAFSAVkBYAFnAW4BdQF8AYMBiwGSAZoBoQGpAbEBuQHBAckB0QHZAeEB6QHyAfoCAwIMAhQCHQImAi8COAJBAksCVAJdAmcCcQJ6AoQCjgKYAqICrAK2AsECywLVAuAC6wL1AwADCwMWAyEDLQM4A0MDTwNaA2YDcgN+A4oDlgOiA64DugPHA9MD4APsA/kEBgQTBCAELQQ7BEgEVQRjBHEEfgSMBJoEqAS2BMQE0wThBPAE/gUNBRwFKwU6BUkFWAVnBXcFhgWWBaYFtQXFBdUF5QX2BgYGFgYnBjcGSAZZBmoGewaMBp0GrwbABtEG4wb1BwcHGQcrBz0HTwdhB3QHhgeZB6wHvwfSB+UH+AgLCB8IMghGCFoIbgiCCJYIqgi+CNII5wj7CRAJJQk6CU8JZAl5CY8JpAm6Cc8J5Qn7ChEKJwo9ClQKagqBCpgKrgrFCtwK8wsLCyILOQtRC2kLgAuYC7ALyAvhC/kMEgwqDEMMXAx1DI4MpwzADNkM8w0NDSYNQA1aDXQNjg2pDcMN3g34DhMOLg5JDmQOfw6bDrYO0g7uDwkPJQ9BD14Peg+WD7MPzw/sEAkQJhBDEGEQfhCbELkQ1xD1ERMRMRFPEW0RjBGqEckR6BIHEiYSRRJkEoQSoxLDEuMTAxMjE0MTYxODE6QTxRPlFAYUJxRJFGoUixStFM4U8BUSFTQVVhV4FZsVvRXgFgMWJhZJFmwWjxayFtYW+hcdF0EXZReJF64X0hf3GBsYQBhlGIoYrxjVGPoZIBlFGWsZkRm3Gd0aBBoqGlEadxqeGsUa7BsUGzsbYxuKG7Ib2hwCHCocUhx7HKMczBz1HR4dRx1wHZkdwx3sHhYeQB5qHpQevh7pHxMfPh9pH5Qfvx/qIBUgQSBsIJggxCDwIRwhSCF1IaEhziH7IiciVSKCIq8i3SMKIzgjZiOUI8Ij8CQfJE0kfCSrJNolCSU4JWgllyXHJfcmJyZXJocmtyboJxgnSSd6J6sn3CgNKD8ocSiiKNQpBik4KWspnSnQKgIqNSpoKpsqzysCKzYraSudK9EsBSw5LG4soizXLQwtQS12Last4S4WLkwugi63Lu4vJC9aL5Evxy/+MDUwbDCkMNsxEjFKMYIxujHyMioyYzKbMtQzDTNGM38zuDPxNCs0ZTSeNNg1EzVNNYc1wjX9Njc2cjauNuk3JDdgN5w31zgUOFA4jDjIOQU5Qjl/Obw5+To2OnQ6sjrvOy07azuqO+g8JzxlPKQ84z0iPWE9oT3gPiA+YD6gPuA/IT9hP6I/4kAjQGRApkDnQSlBakGsQe5CMEJyQrVC90M6Q31DwEQDREdEikTORRJFVUWaRd5GIkZnRqtG8Ec1R3tHwEgFSEtIkUjXSR1JY0mpSfBKN0p9SsRLDEtTS5pL4kwqTHJMuk0CTUpNk03cTiVObk63TwBPSU+TT91QJ1BxULtRBlFQUZtR5lIxUnxSx1MTU19TqlP2VEJUj1TbVShVdVXCVg9WXFapVvdXRFeSV+BYL1h9WMtZGllpWbhaB1pWWqZa9VtFW5Vb5Vw1XIZc1l0nXXhdyV4aXmxevV8PX2Ffs2AFYFdgqmD8YU9homH1YklinGLwY0Njl2PrZEBklGTpZT1lkmXnZj1mkmboZz1nk2fpaD9olmjsaUNpmmnxakhqn2r3a09rp2v/bFdsr20IbWBtuW4SbmtuxG8eb3hv0XArcIZw4HE6cZVx8HJLcqZzAXNdc7h0FHRwdMx1KHWFdeF2Pnabdvh3VnezeBF4bnjMeSp5iXnnekZ6pXsEe2N7wnwhfIF84X1BfaF+AX5ifsJ/I3+Ef+WAR4CogQqBa4HNgjCCkoL0g1eDuoQdhICE44VHhauGDoZyhteHO4efiASIaYjOiTOJmYn+imSKyoswi5aL/IxjjMqNMY2Yjf+OZo7OjzaPnpAGkG6Q1pE/kaiSEZJ6kuOTTZO2lCCUipT0lV+VyZY0lp+XCpd1l+CYTJi4mSSZkJn8mmia1ZtCm6+cHJyJnPedZJ3SnkCerp8dn4uf+qBpoNihR6G2oiailqMGo3aj5qRWpMelOKWpphqmi6b9p26n4KhSqMSpN6mpqhyqj6sCq3Wr6axcrNCtRK24ri2uoa8Wr4uwALB1sOqxYLHWskuywrM4s660JbSctRO1irYBtnm28Ldot+C4WbjRuUq5wro7urW7LrunvCG8m70VvY++Cr6Evv+/er/1wHDA7MFnwePCX8Lbw1jD1MRRxM7FS8XIxkbGw8dBx7/IPci8yTrJuco4yrfLNsu2zDXMtc01zbXONs62zzfPuNA50LrRPNG+0j/SwdNE08bUSdTL1U7V0dZV1tjXXNfg2GTY6Nls2fHadtr724DcBdyK3RDdlt4c3qLfKd+v4DbgveFE4cziU+Lb42Pj6+Rz5PzlhOYN5pbnH+ep6DLovOlG6dDqW+rl63Dr++yG7RHtnO4o7rTvQO/M8Fjw5fFy8f/yjPMZ86f0NPTC9VD13vZt9vv3ivgZ+Kj5OPnH+lf65/t3/Af8mP0p/br+S/7c/23//wAAABRpc3BlAAAAAAAAAp0AAACtAAAAEHBpeGkAAAAAAwgICAAAABdpcG1hAAAAAAAAAAEAAQSBAgMEAAAUOm1kYXQSAAoKGCXpysYICGg0IDKhKEyAAtxp/37VgRqEuojkHz31H0AnccXs397TZfZAaMq2V6AOtVLbkBM4ZCpUa59cSxFPVwC9eKulWyafUJaGkqbXLqU9OhlwHHgWhNCWFUhPKuuq0mZlAs30wkMn8tsxOS0Es89kAQUKSxT8nZxt7PM970JfkjhLD2XLvxLhxi3+r0cH1XqvIyM6OOq7hpiXht8L0Q7UOhe5vyD8N4b46u7IQW5jnXANPk1wj4NGJgvIKR/LqoPd7jrlruyV3aTjFI7FQyxN6TWRVERJfNPaNSISTl43m9C4MGFlF39wf37hOlS0F0UK8FDQ2P3sQLXz9Bszl1kOxHYOEpOE6EIilM2ut3bX8LCH51d/UfaSdcYwz4gXa3kCibZodVIi/x4vtgY/OqqfuVGNXsfdQCIgahet/4N4EkctMk7m2uu1XlVmfqUTRM6RZGWFn2/4Xhv3Cb3pGv2MavNUHkruZm8A8APW1SCQbz97fNRRWnfBEJ8+PRBwBGjuaC5Iz6QlcAMBWYciAFtc49Jxwt2ta7qEaaHwRYPmf8UtsS8oXVZtYnJYi0dN8qYeEsZQm/QZWyXbSpIw5/9GeTZQYLy90JYs4P1nRa8DvHIa7AlTIsE+IOHHuDlDvsf1GdyrnkIS0D5CXhahfRrTSViHo9j9PbiO+KuRzirkG4s7PJm7isJ6thWjMIx7AoBxfhJAWe1BirYJ4cZhSgeMqqy9RSdgb3bEtw8qbnjb53nK9TXVMJst5MFWo078NilVqIxNejq+oDdpPB0I6iAO3oGl8Vbr8xS7k4qpeY8YG61ouCmSHRZo8fSDewn2rsEA8BO63+gPhya3g6rbBwpqwp1atvua+9u8GV1HN6mekse/SDJTM0HnxlOszrhFFMI/EG3O16d1RvUJFtMUnkw7pLZlXTdcXMT3ixad5UAXcqTKuTvo5gqwKTMjb6wvzns7Od9ChtKqNqZoM19r0x+74LRTLTBaqo3F0Y5CH3Zv67KdmUwFr/CT8K39n68Do42pER8DpbhFp16KwwaLl2qkGoi3ia/TsmdAhN2RX4Z79Ie1yCozIPsb1y9R4p+2kJZxBf2tZ3LDOq1p9xnpSqNRIdoNmCnaZACb8rpubYzdU+e62fIf6iLqYznPeMxnftgzGggc6zBdd9SMYy1oSRDLbXxpqHigKOP2c12GVpHoQw/jglz1wlCfKVcN1b8dcMwGZVXv9PRqPHbHNF4rFBBAYUAVTEg6qimmL8zq/ZJqGekMJsXSF3jz3clQI36H91OO/zd867j4dVcuFsITawDGkwNtS0QhGitSvsA8Hr1tqPfCPVAgTPt1uPLayH3QBGR9TVhSygzv5CXjT/B3iVPN7H3Lue2yuw+bw4piKAINO2MQqh2q8JkK3lIfRIl4wwFWalx3VoK6xaeY3fG2iHk5inE2GbVHHEMELcbfkJPB97qNccVH67Y68uIDvRBdkIVC6nKcwYLwkiQZQA+QCdnsabe1Fv3Gx+ff/Um0mUo8cuc/I3ADh/S3JdVl+xbQ4Un02df4NRZ+k1i+j75adqASjzvEjsZ00BKVHEVPxP0MmD7ItxP7eDgNjcfPD0nq3anfW62a/dlMQgfD8bq9hSVydSP3joNgTzsmg0H/me7+EDOYhlpo4hRMqfrXBpBuZiTbTVXWP0XyGk8sAbyhTHcliDXOJgtxoy1H7tnkhai6MsA7ttmfH5s9hCasnSKoNYL9XfVOC70hjpUjcoe/jKW/OkZNS9a4C9C9HKpw4y3uMzo2+8GNmq8IFe8qW8XgxTtmtDyjMZ5zURPoBl5doClhCAs+9BFGVfuMJ4wpBIHrzXyaeSFr6qpdsJkCz2s7a1d6tt907uAOXry2INJ+TUznQBoKJ9v8CsvbQEBbdKHi3dtuSiZ8cVZinPqCErydL1uea9QDUHXWQJf6biQo+5MyufnlJSB13Tm4WFpdATIS6oLSmoyIK4lFTD65vHouc6X43GWCIiON45478NVE7DdYkoLrtrmGaK26HDfv9HU3hD/6KAEIfS4SFuidpADElU7tRHju8HoUUMCSkx2Avy/WL/Y1c9wZu8ZlJzhyZ/ffs3Ql+0ntTi3eoEUWzpjgu4SCJTcjEot2h+8emv2803yv+dcXLzTtQCGVKaE3iSmQ20llZp529w4hBeucuxEhNVqXD/giwT9dKT6Y+r8mcIUyzyctCgLr0DNZRyISmsqNOGXzj5inmbzfcsLvZvsP4Xt/RzY9l9eMYqA6YsGBIq7aZq/4B879t2ci04ZGF9x1qWcWtceQpLqQJVcG8TQsjomKjIvF5KMAcoHSHsm4Nz9bNR3c6sOenFTRpPEPx2AoP8mm/53NK9LM5ZQN7hg+krbM/S+g9zSc/IciTPB3I3V9N9ZmVjrgx4D2YqzePpqIQSmQ/0DRMIbVXQLTWIe1AJacPuymJq4Lktg+5ogUt9C4AYGfGGykLiluyY9hpKsCYakbP/d00YKhheDuw2cKeu9aRIPQ2/hwLbSy0s7Cjq8/u2xm+SK0HI5qS23bvChBxWFEZFqMk50fYWJlLFxRRZ00mJ9B0fINaiKtAzP3Cv97rBJVwQDpBW3+961/UiU7em0Xo2I8kOULVU1wJpufS05U93QJYrV15AR7T1fFwo7yjL+hWAMKU6F1VYAC1Bp1UqwD6AvtUp4A8t4lV/aOwIcKlHklN/RdzykcEOcezN2IrkADEHhBSL2cDxZcRjj4PgS06YKOiPYcikPrk8Ilai0Qqe5wFCb5Eh3AEuaANWg5He47AtmfL76WoUXDbXMFs1ju7Fuxt2x3egKeknivF93ICNAj5cPSCOaQJA34T2Lt9lK3tP+2vofqpAvfD9hycZWROeFSGP0JF3B549tPZ/tbR7CwvmFF65QvvUuAr5vfP4lDZKzAdcHpO9/QubsMNobsoW17ChxxmMz7o/qv+6fknu1LIAMZ5h6vBNizKVjjR99fdwLuJbne8AFt88sKYppg2IWfZk/gYFB/Tw1XtWGMUyvbm9abt9jcsrvXHLbz50XYUzxJvT+qP8DhnNAqgx4OZ0lZ7qJwNDfDisohYCNkkjj27MmePpGRsfEOS5J+2osVCh1AHfmNaRHfMspupQK03Onu0naByzU052oXwJN98REi3R3d8TCwe2jEhj92w7i2XcnpteJqs4yTUxuyO+Lxchg8inIG8IqLFtNphhvcsxX5e0GWwEPWlGea56bZCRtEVZi/tqApTHbZdfKwmJfN1Wve3PpnF8xaT7OeOg1fIZPQy01jaNItX8EV0VcvRk8nj5kDZhK+KtV31Alrj2z89oCo1DqN1oDzE4Vbv54CV2DJlkNV5HGztEtMG1sVRpKbXL+gAYxP3l0xcaZCDemEcrfWNz40Ir7OWtA67x40vUKhRuWyiPhz3jtFJVgj2UljsN6BQGqdimm2aXXtYrFHwQgqtFfSbI+Nf92JrCad3HFceEx9jZWTBOB4v1rF1BTJ98E12HViti0YySErbdJWc3H15o2pkys0HHHmWYRxEjVnf5hjLVsJzdO9E9Ot8UNMroAWbfLbca4TPurDoVsGws9TtoHd4WzAmnUB/2yOUXYaPDQeVcNOaVEpvHOnj1YP75NdGzr8fXcVYisnz20uzfcjQBsazva0P7j9tUxD4wni6x7UnWiUiPUUCYEb4K+oC5D4+tMcHYqwGzHKBVnw0O+7vmm0jozNh/yOAxro0y2Et15pLwrYbqyVRWmKWjmqQkAGkJ44l6wjBy93k4ZlicauyIc3bR/gdvSdWAheVbQhfUXFGd6c8aQx3S2aH669aLv/l3J9UrOesleJ0BAyvMOKCo2luQDF0aLEiGH1gb5ruZbiMAhMTfLTmvRxNecJ4oe3akPjkJYchCJYEUdpQvYKzZHX9Ur4bsSAGz/lhVD3i/ZyoeEbueKwDuGF+8uIoCrtqTjq+TDWqiY3VQbJXdbSfPtSzp9qlslC8G/zhxnK6chvcA2zMcUBU/Tb1jrzTnt/Rt/37iX4Aj6rfwLg3BHRtd3Du4by7+J7vda+OK+QAjfAy+A+1CpmhXS/tE80ActL4rLrY7g13MXsybjlg2E0fergW074fy5PR8BMBLT7cp+1gzBg1quW2pqR0YxwsAmPO64nxmQhoUfdvaBIqApAIJrvdah53a0jbZuBDP5+0v24ahKR7PDokSu4fDhntmMBCimjIkbre9LF12BHvGNqYs/bHffItpjHVF5CW8mhwdpC93+3wJyjj0HElagiULJLQ8BlSaeMf/FbxqgGbQhWRq8n+pU0EQ5EF024iPyIUY5S8pPsvzX3FrCaDqtuUhThqwgEI1FlxU/KTZ3gFVCK9KOQSahFDKkvcGiNqbfyFvF9dSAXwJCWa7LZzvZJxAF7bnGlJBl0VdB2Yu3LlJOEaJa90DKfFI/K3L3bDwL8Sv62dBCCogZ5+ZfdOoWXQ0U997TMhUUTm3kVXNv4Msf7pR7wYhvtXZ8FDa3tqZbC++ZZ6kEvpnw1+OD7WuUYx7i5RUYGP9b7rcya3+/5EhBe/9qLNN8GRpSB/HH+t8cwtBthOxtM1ubhvfgKpd+fejKFY9e7iCvgXjEGP/HDSJOUikCNWdCNEgO9F31MHApKHWNo712dbn+fbyU711U91dkaZvXgC60IYZKeg0WrWlQ1CQSLr8Um+xi2F11gWgWc5q0+covAgadJzMhVJpKg4ZobZzqHLoAF1PBIHH+VnniOY2CFKuKLkZ4X0NW4rPaWu72NZ6Dt3XCZeOuXx1aFFiVLVAN5M7hZggHb8+DWgXHK/XbiGXQZjFVW6pCy2og8OCvTuflCYbC4CPmUjtaTQ6ilsloS3XsNLIt0cRhcEUxd7tjkBxG5ziQJG5chJuKJmIki3IpvS+dDKTmIWOxTFZFLWt8cmHZWZtPi0RpMf5whz1YGYzwuYLJ2HAAM1lKcf5mYDaSAQMhbbdQ2krF06wTAiqzl4pFs2RZxK9mE/VbEDVZ6sv3u0s90jEg8dWiB7wHq731PUOLKN8oho4aVZKRLjb5oVMF0YWXyqnl7nn8/rGA1AYrb2SU6Eh/y1SMCgGw1V1fkl5njnnIXzOWLThmuNj6ZJ4pbpiut7KrOzryjc82RjZJh6xMEBQu+AE+CcT6wLGcSw/W4/hkNG06qoC6cnAGi+D+dYU9sD1BJHl7DXqFoTvh4D1veUpRV6LF4o+hQmumsiQ2/VpItezuz8cojB7evuDIekrozzgl0uqm0Fjav5+u9de13duXTYXqPNwRPAWWaNUGz5qM+hLxn10oS/v4gU1Lp+XmodB3dbO10g60DNAgKiigjQXkKizl6CZmv4JZmPeOIoStJX/V95K6YZ0we+LnyJx7klNfuEGl8r/38L1llGV3dlkI4pWY8iBCDibEWmWzyjLkdiNEJC8Tq/2ldA7pIxyfOTdkIvo6CCAPO9XOmtmV0UZJ99dtmu7SZ2asFyMSfxxaBLdPzdrqp5kyqnJO08SHl1C3PXt1dw9fi1ZPNdjnWzXvBmBGvofuX74gkyUFmCTAU8CySJEKP5rlg8HZv9H/4utqyk2xkhcwsIfrVQ5daMo4Rufu5wmnX+5wPd2IWd8KDMtvEdB3FQWOrhgTWOCZL0WeXjDY/SljtJY2iONh5kJou/DA5SPSX1HSTqPKYUq7TJvYnkJ0bxG0YIwfJvmJjGReoHb9lNVQDIwrD87knNIA6NG2paA31WSQT15W8R8haDQl36iFcETouUyRpJue9h2CFSnWfJr2CcQ5dLzXGqFxYeZS+UA5eCxuLN4yXytZCkJlln3UvzLbx72lQ7EowfA1i+Ym4VW0xj0cLRaKF8S3VYBwntekO7DCZLWecU7ctLNNajpMfdTMIo1LFF2PmpvQoeFIuWRsR1gKtAGD4W7cx5QyX7Kua6b7jM5Z5BrM5zAvKE4bH99p/MFEGFIBD7ZGmD0FvxwBfuMO3qS66Bd2HQDN43R8aBQLNo2ZnYioyzoCYyfMu1qZMnqu9acrn23hvXyzY96H9s1ubpV9zAnxOOrzjouzxksWT0Fqn6c1TvrHACGNz0/WV2rYf6uKU07ArUxWGH4cNmnrkI+XRk9ZY3s9BlaJDDVjcAv5If0U9QgLjqvxDt1EOsbfDgg4H9NfBDqoaw7rGj2MrRSKa7W50AL3ZJ7U/ObauRtPy7RYDH3H96nsTTvwMIzIaVyYYFL5p6CvxwSoeidwFfN67D+7qbIKYc6N5dL8FgTYVlZIOnf+/3wceysSvMpB132TQpt3s6jI9yONOKzI0JjWQZfkNP/H+9AEUs0SCzyGw3ND7+8fnm0eax+j5/0dru/umxhkBV4c3eHg/BK6H54H+2RQHAfKRvcx8U1Zycq3FRkLozPP9WOnUdtbtoHoMSo+UYCNJvCGHOs8pjltWuvnI60EhOudZkPpoVA/x4a2savvxDKPLn7SbzCkBnblfSn6iUgxX9+aWM7Q3Wq6nUcMfFO3SFqm+/jFfH0CBzYwpjXG8rpfahpBShIB6fx7cfABF0sQurEqCI3dd15zkHZrkBRWaAW7YpCJYRnbXbDXf3thTJeZVtKhnOBoeCRPPp7hgX2IZEdmSoKBgeFwEDYvwPlVG7jcdvOixEBGwq9N2Z6k1H72VAjENFFqPcs4TwKIppqL4li4XEjfLqaiOuycfT1xN1mIwDmxpN6XPmTc1fYgu5Jnk1BHeAZIIawnhyIJOqLZ4fwdL1QNcICUekSnz7hndYUB7++sV6lBbTLamwfoZ2VEl+9wlvJIsWBAQ+uzX2sp6tqXrX/5uwnCEifMWXk7U4eqeE9vIG9ltwj/GhXk/sh87OF6MQfHPaiEj82o0QhD+rOduc6XOJCsdEg2PIiacZ3X1j5t7OnhTuwcicyRG9ROmsUt8zHYQzEFw\" width=\"300\">\n",
    "    </div>\n",
    "    <div>\n",
    "        <p style=\"margin: 0; text-align:right;\">22.401 · Fonaments de Programació</p>\n",
    "        <p style=\"margin: 0; text-align:right;\">Grau en Ciència de Dades Aplicada</p>\n",
    "        <p style=\"margin: 0; text-align:right;\">Estudis d'Informàtica, Multimèdia i Telecomunicació</p>\n",
    "    </div>\n",
    "</div>"
   ]
  },
  {
   "cell_type": "markdown",
   "metadata": {
    "id": "BCsqYkJsb2pR"
   },
   "source": [
    "Programació per a *Data Science*\n",
    "============================\n",
    "\n",
    "Unitat 3: Estructures de control i funcions en Python\n",
    "--------------------------------------\n"
   ]
  },
  {
   "cell_type": "markdown",
   "metadata": {
    "id": "BJCE1ICQb2pS"
   },
   "source": [
    "---"
   ]
  },
  {
   "cell_type": "markdown",
   "metadata": {
    "id": "_EfrEbxIb2pS"
   },
   "source": [
    "## Exercicis per practicar\n",
    "\n",
    "**Els següents 5 exercicis no puntuen per a la PAC**, però us recomanem que els intenteu resoldre abans de passar als exercicis propis de la PAC. Trobareu les solucions a aquests exercicis al final del Notebook."
   ]
  },
  {
   "cell_type": "markdown",
   "metadata": {
    "id": "Aw8CEh9hb2pS"
   },
   "source": [
    "### Exercici 1\n",
    "\n",
    "L'exercici següent consisteix a passar un nombre en base 16 (hexadecimal, 0-9 / A-F) a base 10 (decimal). Per a això, heu de crear una **funció** que donat una _string_ que representa un nombre en hexadecimal, per exemple, `AE3F`, retorni el nombre natural corresponent. En aquest cas el resultat seria `44607`.\n",
    "\n",
    "<span style=\"font-family: Courier New; background-color: #82b74b; color: #000000; padding: 3px; \">NM</span>"
   ]
  },
  {
   "cell_type": "code",
   "execution_count": null,
   "metadata": {},
   "outputs": [],
   "source": [
    "# Resposta"
   ]
  },
  {
   "cell_type": "markdown",
   "metadata": {
    "id": "WyYLrMMvb2pU"
   },
   "source": [
    "### Exercici 2\n",
    "\n",
    "\n",
    "Escriure una funció que donat un nombre enter positiu, `n`, generi un fitxer anomenat `output.txt` que contindrà `n` línies, on cada línia ha de mostrar un nombre consecutiu de lletres `A`. <Span style = \"font-family: Courier New; background-color: # 82b74b; color: # 000000; padding: 3px;\"> NM </ span>\n",
    "\n",
    "Per exemple, si `N = 4`, el fitxer generat tindrà el següent contingut:\n",
    "\n",
    "```\n",
    "A\n",
    "AA\n",
    "AAA\n",
    "AAAA\n",
    "```\n"
   ]
  },
  {
   "cell_type": "code",
   "execution_count": null,
   "metadata": {},
   "outputs": [],
   "source": [
    "# Resposta"
   ]
  },
  {
   "cell_type": "markdown",
   "metadata": {
    "id": "6MPNgrDYb2pV"
   },
   "source": [
    "### Exercici 3\n",
    "\n",
    "Completeu el codi necessari per calcular el nombre de vocals i de consonants respectivament d'un text. <span style=\"font-family: Courier New; background-color: #82b74b; color: #000000; padding: 3px; \">NM</span>"
   ]
  },
  {
   "cell_type": "code",
   "execution_count": null,
   "metadata": {},
   "outputs": [],
   "source": [
    "def contar_vocals_y_consonants(text):\n",
    "    # Contar les vocals i consonants contingudes en el string text\n",
    "    num_vocals = 0\n",
    "    num_consonants = 0\n",
    "\n",
    "    # Codi a completar\n",
    "\n",
    "    return (num_vocals, num_consonants)"
   ]
  },
  {
   "cell_type": "code",
   "execution_count": null,
   "metadata": {},
   "outputs": [],
   "source": [
    "# Resposta"
   ]
  },
  {
   "cell_type": "markdown",
   "metadata": {
    "id": "JdpReJfkb2pV"
   },
   "source": [
    "### Exercici 4\n",
    "\n",
    "Escriu una funció que, acceptant argument de tipus llista, com $llista = [a, b, c, \\ldots] $  **retorni una funció** que calculi el polinomi $f(x) = a + b\\cdot x+c\\cdot x^2+\\cdots$. Hi ha moltes formes de resoldre aquest exercici. Pots ajudar-te de la funció `eval()`, un `for` funcions lambda, map/reduce o la funció `zip()`.\n",
    "<span style=\"font-family: Courier New; background-color: #f2ae72; color: #000000; padding: 3px; \">EI</span>\n"
   ]
  },
  {
   "cell_type": "code",
   "execution_count": null,
   "metadata": {},
   "outputs": [],
   "source": [
    "# Resposta\n",
    "def creador(x):\n",
    "    # Definició de la funció\n",
    "\n",
    "f = creador([1,2,3,4])\n",
    "f(3)"
   ]
  },
  {
   "cell_type": "markdown",
   "metadata": {
    "id": "5TReUevsb2pW"
   },
   "source": []
  },
  {
   "cell_type": "markdown",
   "metadata": {
    "collapsed": false,
    "id": "WJSwlzDOb2pW",
    "jupyter": {
     "outputs_hidden": false
    }
   },
   "source": [
    "### Exercici 5\n",
    "\n",
    "Un nombre primer és aquell que només és divisible per ell mateix i per 1.\n",
    "\n",
    "Escriu un codi que comprovi si un nombre `x = 15` és només divisible per 1 o per ell mateix. Escriu aquest codi usant un iterador (amb un for o while) que escombri tots els valors des de 2 a x-1. Crea una variable, `divisible`, que tingui per defecte valor `False` i assigni el valor `True` si al llarg de la iteració troba un nombre natural divisible. Podeu fer servir l'operador mòdul `a % b` per saber si un nombre `b` és divisible per `a`.\n",
    "\n",
    "<span style=\"font-family: Courier New; background-color: #82b74b; color: #000000; padding: 2px; \">NM</span>"
   ]
  },
  {
   "cell_type": "code",
   "execution_count": null,
   "metadata": {},
   "outputs": [],
   "source": [
    "# Resposta"
   ]
  },
  {
   "cell_type": "markdown",
   "metadata": {
    "collapsed": false,
    "id": "Y-UCQm9db2pW",
    "jupyter": {
     "outputs_hidden": false
    }
   },
   "source": [
    "\n",
    "---\n",
    "\n",
    "## Solucions als exercicis per practicar"
   ]
  },
  {
   "cell_type": "markdown",
   "metadata": {
    "id": "jvcF0OsDb2pW"
   },
   "source": [
    "### Exercici 1\n",
    "\n",
    "L'exercici següent consisteix en passar un nombre en base 16 (hexadecimal, 0-9 / A-F) a base 10 (decimal). Per a això, heu de crear una **funció** que donat una _string_ que representa un nombre en hexadecimal, per exemple, `AE3F`, retorni el nombre natural corresponent. En aquest cas el resultat seria `44607`.\n",
    "\n",
    "**Resposta**"
   ]
  },
  {
   "cell_type": "markdown",
   "metadata": {
    "id": "yUV8Mglzb2pW"
   },
   "source": [
    "La fórmula per a convertir un número hexadecimal a un número decimal, prenent com a exemple el número AE3F, és:\n",
    "```A * 16**3 + E * 16**2 + 3 * 16**1 + F * 16**0 = 10 * 16**3 + 14 * 16**2 + 3 * 16**1 + 15 * 16**0```"
   ]
  },
  {
   "cell_type": "code",
   "execution_count": null,
   "metadata": {},
   "outputs": [],
   "source": [
    "def hex_to_dec(nombre_hexadecimal):\n",
    "\n",
    "    hex_mapping = {'0': 0, '1': 1, '2': 2, '3': 3, '4': 4, '5': 5,\n",
    "                   '6': 6, '7': 7, '8': 8, '9': 9, 'A': 10, 'B': 11,\n",
    "                   'C': 12, 'D': 13, 'E': 14, 'F': 15}\n",
    "\n",
    "    # Primer comprovem que sigui hexadecimal.\n",
    "    all_hex = True\n",
    "    for c in nombre_hexadecimal:\n",
    "        if not c in hex_mapping.keys():\n",
    "            all_hex = False\n",
    "\n",
    "    if all_hex:\n",
    "\n",
    "        # Definim la base per a realitzar les operacions\n",
    "        base = 16\n",
    "        nombre_decimal = 0\n",
    "\n",
    "        # Invertim el nombre hexa perque sigui més fàcil treballar amb els\n",
    "        # índexs\n",
    "        nombre_hexadecimal = nombre_hexadecimal[::-1]\n",
    "\n",
    "        for i in range(len(nombre_hexadecimal)):\n",
    "            # Per cada caràcter hexadecimal, apliquem la fórmula c * base ** i,\n",
    "            # On c és la representació decimal del caràcter i\n",
    "            # Sumem el resultat a el resultat obtingut en la iteració anterior\n",
    "            nombre_decimal = nombre_decimal + \\\n",
    "                hex_mapping[nombre_hexadecimal[i]] * base**i\n",
    "\n",
    "        return nombre_decimal\n",
    "    else:\n",
    "        print(\"El nombre introduït no és correcte\")\n",
    "\n",
    "\n",
    "print(hex_to_dec('AE3F'))\n",
    "print(hex_to_dec('FFF'))\n",
    "print(hex_to_dec('123'))"
   ]
  },
  {
   "cell_type": "markdown",
   "metadata": {
    "id": "sgwXXsZ-b2pX"
   },
   "source": [
    "### Exercici 2\n",
    "\n",
    "Cal escriure una funció que donat un nombre enter positiu, `n`, generi un fitxer anomenat `output.txt` que contindrà `n` línies, on cada línia ha de mostrar un nombre consecutiu de lletres `A`. <Span style = \"font-family: Courier New; background-color: # 82b74b; color: # 000000; padding: 3px;\"> NM </ span>\n",
    "\n",
    "Per exemple, si `N = 4`, el fitxer generat tindrà el següent contingut:\n",
    "\n",
    "```\n",
    "A\n",
    "AA\n",
    "AAA\n",
    "AAAA\n",
    "```\n",
    "\n",
    "**Resposta**"
   ]
  },
  {
   "cell_type": "code",
   "execution_count": null,
   "metadata": {},
   "outputs": [],
   "source": [
    "# Definim una funció que rebi un nombre enter de paràmetre\n",
    "def generar_fitxer(N):\n",
    "    # Obrim  output.txt en mode escriptura.\n",
    "    # El paràmetre 'w' farà que, si el fitxer ja existeix, es sobreescrigui\n",
    "    with open('output.txt', 'w') as fd:\n",
    "\n",
    "        # Recorrem el rang [0 ... N-1]\n",
    "        for i in range(N):\n",
    "            # Generem una cadena amb nombre ascendent de caràcters A\n",
    "            linea = 'A' * (i + 1)\n",
    "            # I ho escrivim al fitxer, junt amb un retorn de línia\n",
    "            fd.write(linea + '\\n')\n",
    "\n",
    "\n",
    "generar_fitxer(4)"
   ]
  },
  {
   "cell_type": "markdown",
   "metadata": {
    "id": "4aI6eIxtb2pX"
   },
   "source": [
    "### Exercici 3\n",
    "\n",
    "Completeu el codi necessari per calcular el nombre de vocals i de consonants respectivament d'un text.\n",
    "\n",
    "**Resposta**"
   ]
  },
  {
   "cell_type": "code",
   "execution_count": null,
   "metadata": {},
   "outputs": [],
   "source": [
    "def contar_vocals_y_consonants(text):\n",
    "    # Conta vocals i consonants en una string text\n",
    "    num_vocals = 0\n",
    "    num_consonants = 0\n",
    "\n",
    "    # Definim una llista amb les vocals\n",
    "    vocals = ['a', 'e', 'i', 'o', 'u']\n",
    "\n",
    "    # Podem convertir el text a minúscules per simplificar el procés\n",
    "    for c in text.lower():\n",
    "        if c in vocals:\n",
    "            num_vocals = num_vocals + 1\n",
    "        elif c > 'a' and c <= 'z':\n",
    "            num_consonants = num_consonants + 1\n",
    "\n",
    "    return (num_vocals, num_consonants)\n",
    "\n",
    "\n",
    "text = \"Orbiting Earth in the spaceship, I saw how beautiful our planet is. \\\n",
    "            People, let us preserve and increase this beauty, not destroy it!\"\n",
    "\n",
    "num_vocals, num_consonants = contar_vocals_y_consonants(text)\n",
    "print(\"El nombre de vocals és %d.\" % num_vocals)\n",
    "print(\"El nombre de consonants és %d.\" % num_consonants)"
   ]
  },
  {
   "cell_type": "markdown",
   "metadata": {
    "id": "e2Akc9u3b2pX"
   },
   "source": [
    "### Exercici 4\n",
    "\n",
    "Hi ha moltes formes de resoldre aquest exercici. Pots ajudar-te de la funció `eval()`, un `for` funcions lambda, map/reduce o la funció `zip()`.\n",
    "<span style=\"font-family: Courier New; background-color: #f2ae72; color: #000000; padding: 3px; \">EI</span>"
   ]
  },
  {
   "cell_type": "code",
   "execution_count": null,
   "metadata": {},
   "outputs": [],
   "source": [
    "# Resposta\n",
    "\n",
    "# Solució en base a un for\n",
    "def creador(lista):\n",
    "    # Definició de la funció\n",
    "    def pol(x):\n",
    "        toeval = \"\"\n",
    "        # enumerate ens torna el coeficient i l'ordre en la llista\n",
    "        for coef, expo in enumerate(lista):\n",
    "            toeval += '+' + str(expo) + \"*x**\"+str(coef) + ' '\n",
    "        print(toeval)\n",
    "        return (eval(toeval))\n",
    "    return (pol)  # retornem la funció\n",
    "\n",
    "\n",
    "f = creador([1, 2, 3, 4])\n",
    "f(3)"
   ]
  },
  {
   "cell_type": "code",
   "execution_count": null,
   "metadata": {},
   "outputs": [],
   "source": [
    "# Resposta\n",
    "from functools import reduce  # cal importar reduce\n",
    "\n",
    "\n",
    "def creador(llista):\n",
    "    # Aquesta solució  usa map/reduce/zip eper comptes d'un for\n",
    "    def concat(a, b):  # funció para concatenar  termes\n",
    "        return (a+' + '+b)\n",
    "\n",
    "    def element(t):  # funció para construir un terme del polinomi c*x^d\n",
    "        return (str(t[0])+\"*x**\"+str(t[1]))\n",
    "\n",
    "    def pol(x):\n",
    "        toeval = reduce(concat, map(element,\n",
    "                                    zip(llista, range(len(llista)))))  # zip torna tuples amb parelles d'elements de les llistes\n",
    "        print(toeval)\n",
    "        return (eval(toeval))\n",
    "    return (pol)\n",
    "\n",
    "\n",
    "f = creador([1, 2, 3, 4])\n",
    "f(3)"
   ]
  },
  {
   "cell_type": "code",
   "execution_count": null,
   "metadata": {},
   "outputs": [],
   "source": [
    "# Resposta\n",
    "# Una versió más compacte con definicions lambda\n",
    "from functools import reduce  # cal importar reduce\n",
    "\n",
    "\n",
    "def creador(llista):\n",
    "    # Definició de la funció\n",
    "    def pol(x):\n",
    "        out = eval(reduce(lambda x, y: x+'+'+y,\n",
    "                          map(lambda x: str(x[0])+\"*x**\"+str(x[1]),\n",
    "                              zip(llista, range(len(llista))))))\n",
    "        return (out)\n",
    "    return (pol)\n",
    "\n",
    "\n",
    "f = creador([1, 2, 3, 4])\n",
    "f(3)"
   ]
  },
  {
   "cell_type": "markdown",
   "metadata": {
    "collapsed": false,
    "id": "3wQWY-6sb2pY",
    "jupyter": {
     "outputs_hidden": false
    }
   },
   "source": [
    "### Exercici 5\n",
    "\n",
    "Un nombre primer és aquell que només és divisible per ell mateix i per 1.\n",
    "\n",
    "Escriu un codi que comprovi si un nombre `x = 15` és només divisible per 1 o per ell mateix. Escriu aquest codi usant un iterador (amb un for o while) que escombri tots els valors des de 2 a x-1. Crea una variable, `divisible`, que tingui per defecte valor `False` i assigni el valor `True` si al llarg de la iteració troba un nombre natural divisible. Podeu fer servir l'operador mòdul `a % b` per saber si un nombre `b` és divisible per `a`.\n",
    "<span style=\"font-family: Courier New; background-color: #82b74b; color: #000000; padding: 2px; \">NM</span>"
   ]
  },
  {
   "cell_type": "code",
   "execution_count": null,
   "metadata": {},
   "outputs": [],
   "source": [
    "# Definim primer x com 15 i la etiqueta divisible\n",
    "\n",
    "x = 15\n",
    "\n",
    "divisible = False\n",
    "\n",
    "# Creem un iterador des de 2 a x-1 (range (2, x) on x no estarà inclòs)\n",
    "# Mirem, per a cada valor de l'iterador, si és divisible amb\n",
    "# la funció mòdul%, si és així, la funció mòdul\n",
    "# ens tornarà 0 i assignarem divisible a True\n",
    "# En aquest cas el nombre no serà primer\n",
    "\n",
    "\n",
    "for i in range(2, x):\n",
    "    if not x % i:\n",
    "        divisible = True\n",
    "\n",
    "print(divisible)"
   ]
  },
  {
   "cell_type": "markdown",
   "metadata": {
    "collapsed": false,
    "id": "O4K5qHBRb2pY",
    "jupyter": {
     "outputs_hidden": false
    },
    "pycharm": {
     "name": "#%% md\n"
    }
   },
   "source": []
  }
 ],
 "metadata": {
  "language_info": {
   "name": "python"
  }
 },
 "nbformat": 4,
 "nbformat_minor": 0
}
