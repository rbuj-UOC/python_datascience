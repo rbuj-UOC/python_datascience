{
 "cells": [
  {
   "cell_type": "markdown",
   "metadata": {},
   "source": [
    "Programació per a *Data Science*\n",
    "============================\n",
    "\n",
    "Unitat 3: Estructures de control i funcions en Python\n",
    "--------------------------------------\n"
   ]
  },
  {
   "cell_type": "markdown",
   "metadata": {},
   "source": [
    "---"
   ]
  },
  {
   "cell_type": "markdown",
   "metadata": {},
   "source": [
    "## Exercicis per practicar\n",
    "\n",
    "**Els següents 5 exercicis no puntuen per a la PAC**, però us recomanem que els intenteu resoldre abans de passar als exercicis propis de la PAC. Trobareu les solucions a aquests exercicis al final del Notebook."
   ]
  },
  {
   "cell_type": "markdown",
   "metadata": {},
   "source": [
    "### Exercici 1\n",
    "\n",
    "L'exercici següent consisteix en passar un nombre en base 16 (hexadecimal, 0-9 / A-F) a base 10 (decimal). Per a això, heu de crear una **funció** que donat una _string_ que representa un nombre en hexadecimal, per exemple, `AE3F`, retorni el nombre natural corresponent. En aquest cas el resultat seria `44607`.\n",
    "\n",
    "<span style=\"font-family: Courier New; background-color: #82b74b; color: #000000; padding: 3px; \">NM</span>"
   ]
  },
  {
   "cell_type": "code",
   "execution_count": null,
   "metadata": {},
   "outputs": [],
   "source": [
    "# Resposta"
   ]
  },
  {
   "cell_type": "markdown",
   "metadata": {},
   "source": [
    "### Exercici 2\n",
    "\n",
    "\n",
    "Escriure una funció que donat un nombre enter positiu, `n`, generi un arxiu de nom `output.txt` que contindrà `n` línies, on cada línia ha de mostrar un nombre consecutiu de lletres `A`. <Span style = \"font-family: Courier New; background-color: # 82b74b; color: # 000000; padding: 3px;\"> NM </ span>\n",
    "\n",
    "Per exemple, si `N = 4`, l'arxiu generat tindrà els següent contingut:\n",
    "\n",
    "\n",
    "```\n",
    "A\n",
    "AA\n",
    "AAA\n",
    "AAAA\n",
    "```\n",
    "\n",
    "\n"
   ]
  },
  {
   "cell_type": "code",
   "execution_count": null,
   "metadata": {},
   "outputs": [],
   "source": [
    "# Resposta"
   ]
  },
  {
   "cell_type": "markdown",
   "metadata": {},
   "source": [
    "### Exercici 3\n",
    "\n",
    "Completeu el codi necessari per calcular el nombre de vocals i de consonants respectivament d'un text. <span style=\"font-family: Courier New; background-color: #82b74b; color: #000000; padding: 3px; \">NM</span>"
   ]
  },
  {
   "cell_type": "code",
   "execution_count": null,
   "metadata": {},
   "outputs": [],
   "source": [
    "def contar_vocals_y_consonants(text):\n",
    "    # Contar les vocals i consonants contingudes en el string text  \n",
    "    num_vocals = 0\n",
    "    num_consonants = 0\n",
    "\n",
    "    # Codi a completar\n",
    "\n",
    "    return (num_vocals, num_consonants)\n"
   ]
  },
  {
   "cell_type": "code",
   "execution_count": null,
   "metadata": {},
   "outputs": [],
   "source": [
    "# Resposta"
   ]
  },
  {
   "cell_type": "markdown",
   "metadata": {},
   "source": [
    "### Exercici 4\n",
    "\n",
    "Escriu una funció que, acceptant argument de tipus llista, com $llista = [a, b, c, \\ldots] $  **retorni una funció** que calculi el polinomi\n",
    "$f(x) = a + b\\cdot x+c\\cdot x^2+\\cdots$.\n",
    "Hi ha moltes formes de resoldre aquestd exercici. Pots ajudar-te de la funció `eval()`, un `for` funcions lambda, map/reduce o la funció `zip()`.\n",
    "<span style=\"font-family: Courier New; background-color: #f2ae72; color: #000000; padding: 3px; \">EI</span>\n"
   ]
  },
  {
   "cell_type": "code",
   "execution_count": null,
   "metadata": {},
   "outputs": [],
   "source": [
    "# Respuesta\n",
    "def creador(x):\n",
    "    # Definició de la funció\n",
    "    \n",
    "f = creador([1,2,3,4])\n",
    "f(3)"
   ]
  },
  {
   "cell_type": "markdown",
   "metadata": {},
   "source": []
  },
  {
   "cell_type": "markdown",
   "metadata": {
    "collapsed": false
   },
   "source": [
    "### Exercici 5\n",
    "\n",
    "Un nombre primer és aquell que només és divisible per ell mateix i per 1.\n",
    "\n",
    "Escriu un codi que comprovi si un nombre `x = 15` és només divisible per 1 o per ell mateix. Escriu aquest codi usant un iterador (amb un for o while) que escombri tots els valors des de 2 a x-1. Crea una variable, `divisible`, que tingui per defecte valor `False` i assigni el valor `True` si al llarg de la iteració troba un nombre natural divisible. Podeu fer servir l'operador mòdul `a % b` per saber si un nombre `b` és divisible per `a`.\n",
    "\n",
    "<span style=\"font-family: Courier New; background-color: #82b74b; color: #000000; padding: 2px; \">NM</span>"
   ]
  },
  {
   "cell_type": "code",
   "execution_count": null,
   "metadata": {},
   "outputs": [],
   "source": [
    "# Resposta\n"
   ]
  },
  {
   "cell_type": "markdown",
   "metadata": {
    "collapsed": false
   },
   "source": [
    "\n",
    "---\n",
    "\n",
    "## Solucions als exercicis per practicar"
   ]
  },
  {
   "cell_type": "markdown",
   "metadata": {},
   "source": [
    "### Exercici 1\n",
    "\n",
    "L'exercici següent consisteix en passar un nombre en base 16 (hexadecimal, 0-9 / A-F) a base 10 (decimal). Per a això, heu de crear una **funció** que donat una _string_ que representa un nombre en hexadecimal, per exemple, `AE3F`, retorni el nombre natural corresponent. En aquest cas el resultat seria `44607`.\n",
    "**Resposta**"
   ]
  },
  {
   "cell_type": "markdown",
   "metadata": {},
   "source": [
    "La formula para convertir un número hexadecimal a un número decimal, tomando como ejemplo el número AE3F, es:\n",
    "```A * 16**3 + E * 16**2 + 3 * 16**1 + F * 16**0 = 10 * 16**3 + 14 * 16**2 + 3 * 16**1 + 15 * 16**0```"
   ]
  },
  {
   "cell_type": "code",
   "execution_count": null,
   "metadata": {},
   "outputs": [],
   "source": [
    "def hex_to_dec(nombre_hexadecimal):\n",
    "\n",
    "    hex_mapping = {'0': 0, '1': 1, '2': 2, '3': 3, '4': 4, '5': 5,\n",
    "                  '6': 6, '7': 7, '8': 8, '9': 9, 'A': 10, 'B': 11,\n",
    "                  'C': 12, 'D': 13, 'E': 14, 'F': 15}\n",
    "    \n",
    "    # Primer , comprobem que sigui hexadecimal. \n",
    "    all_hex = True\n",
    "    for c in nombre_hexadecimal:\n",
    "        if not c in hex_mapping.keys():\n",
    "            all_hex = False            \n",
    "            \n",
    "    if all_hex:\n",
    "        \n",
    "        # Definimos la base para realizar las operaciones\n",
    "        base = 16\n",
    "        nombre_decimal = 0\n",
    "        \n",
    "        # Invertim el nombre hexa perque sigui més fàcil treballar amb els índexs \n",
    "        nombre_hexadecimal = nombre_hexadecimal[::-1]\n",
    "        \n",
    "        for i in range(len(nombre_hexadecimal)):\n",
    "            # Per cada caràcter hexadecimal, apliquem la fórmula c * base ** i,\n",
    "            # On c és la representació decimal del caràcter i\n",
    "            # Sumem el resultat a el resultat obtingut en la iteracó anterior\n",
    "            nombre_decimal = nombre_decimal + hex_mapping[nombre_hexadecimal[i]] * base**i\n",
    "            \n",
    "        return nombre_decimal\n",
    "    else:\n",
    "        print(\"El nombre introduït no és correcte\")\n",
    "\n",
    "print(hex_to_dec('AE3F'))\n",
    "print(hex_to_dec('FFF'))\n",
    "print(hex_to_dec('123'))"
   ]
  },
  {
   "cell_type": "markdown",
   "metadata": {},
   "source": [
    "\n",
    "\n",
    "\n",
    "### Exercici 2\n",
    "\n",
    "\n",
    "Escriure una funció que donat un nombre enter positiu, `n`, generi un arxiu de nom `output.txt` que contindrà `n` línies, on cada línia ha de mostrar un nombre consecutiu de lletres `A`. <Span style = \"font-family: Courier New; background-color: # 82b74b; color: # 000000; padding: 3px;\"> NM </ span>\n",
    "\n",
    "Per exemple, si `N = 4`, l'arxiu generat tindrà els següent contingut:\n",
    "\n",
    "\n",
    "```\n",
    "A\n",
    "AA\n",
    "AAA\n",
    "AAAA\n",
    "```\n",
    "\n",
    "\n",
    "\n",
    "\n",
    "**Resposta**"
   ]
  },
  {
   "cell_type": "code",
   "execution_count": null,
   "metadata": {},
   "outputs": [],
   "source": [
    "# Definims una funció que rebi un nombre enter de paràmetre \n",
    "def generar_arxiu(N):\n",
    "    # Obrim  output.txt en mode escriptura.\n",
    "    # El paràmetre 'w' farà que, si l'arxiu ja existeix, es sobreescrigui\n",
    "    with open('output.txt', 'w') as fd: \n",
    " \n",
    "        # Recorrem el rang [0 ... N-1] \n",
    "        for i in range(N): \n",
    "            # Generem una cadena amb nombre ascendent de caràcters A \n",
    "            linea = 'A' * (i + 1) \n",
    "            # I ho escrivim al fitxer, junt amb un retorn de línia \n",
    "            fd.write(linea + '\\n') \n",
    "\n",
    "generar_arxiu(4)"
   ]
  },
  {
   "cell_type": "markdown",
   "metadata": {},
   "source": [
    "### Exercici 3\n",
    "\n",
    "Completeu el codi necessari per calcular el nombre de vocals i de consonants respectivament d'un text. \n",
    "\n",
    "**Resposta**"
   ]
  },
  {
   "cell_type": "code",
   "execution_count": null,
   "metadata": {},
   "outputs": [],
   "source": [
    "def contar_vocals_y_consonants(text):\n",
    "    # Conta vocals i consonants en una string text \n",
    "    num_vocals = 0\n",
    "    num_consonants = 0\n",
    "\n",
    "    # Definim una llista amb les vocals\n",
    "    vocals = ['a', 'e', 'i', 'o', 'u']\n",
    "    \n",
    "    for c in text.lower(): # Podem convertir el text a minúscules per simplificar el procés\n",
    "        if c in vocals:\n",
    "            num_vocals = num_vocals + 1\n",
    "        elif c > 'a' and c <= 'z':\n",
    "            num_consonants = num_consonants + 1\n",
    "\n",
    "    return (num_vocals, num_consonants)\n",
    "\n",
    "text = \"Orbiting Earth in the spaceship, I saw how beautiful our planet is. \\\n",
    "            People, let us preserve and increase this beauty, not destroy it!\"\n",
    "\n",
    "num_vocals, num_consonants = contar_vocals_y_consonants(text)\n",
    "print( \"El nombre de vocals és %d.\" % num_vocals)\n",
    "print( \"El nombre de consonants és %d.\" % num_consonants)"
   ]
  },
  {
   "cell_type": "markdown",
   "metadata": {},
   "source": [
    "### Exercici 4\n",
    "\n",
    "\n",
    "Hi ha moltes formes de resoldre aquestd exercici. Pots ajudar-te de la funció `eval()`, un `for` funcions lambda, map/reduce o la funció `zip()`.\n",
    "<span style=\"font-family: Courier New; background-color: #f2ae72; color: #000000; padding: 3px; \">EI</span>"
   ]
  },
  {
   "cell_type": "code",
   "execution_count": null,
   "metadata": {},
   "outputs": [],
   "source": [
    "# Resposta\n",
    "\n",
    "# Solució en base a un for\n",
    "def creador(lista):\n",
    "    # Definició de la funció\n",
    "    def pol(x):\n",
    "        toeval = \"\"\n",
    "        for coef,expo in enumerate(lista): #enumerate ens torna el coeficient i l'ordre en la llista\n",
    "            toeval += '+'+ str(expo)+ \"*x**\"+str(coef) + ' '           \n",
    "        print(toeval)\n",
    "        return(eval(toeval))\n",
    "    return(pol) # retornem la funció \n",
    "        \n",
    "f = creador([1,2,3,4])\n",
    "f(3)"
   ]
  },
  {
   "cell_type": "code",
   "execution_count": null,
   "metadata": {},
   "outputs": [],
   "source": [
    "# Resposta\n",
    "from functools import reduce # cal importar reduce \n",
    "def creador(llista):\n",
    "    # Aquesta solució  usa map/reduce/zip eper comptes d'un for\n",
    "    def concat(a,b): #funció para concatenar  termes \n",
    "        return(a+' + '+b)\n",
    "    def element(t): # funció para construir un terme del polinomi c*x^d\n",
    "        return( str(t[0])+\"*x**\"+str(t[1]) )\n",
    "    def pol(x):\n",
    "        toeval= reduce(concat,map(element, \n",
    "                          zip(llista,range(len(llista))))) # zip torna tuples amb parelles d'elements de les llistes \n",
    "        print(toeval)\n",
    "        return(eval(toeval))\n",
    "    return(pol)\n",
    "        \n",
    "f = creador([1,2,3,4])\n",
    "f(3)"
   ]
  },
  {
   "cell_type": "code",
   "execution_count": null,
   "metadata": {},
   "outputs": [],
   "source": [
    "# Resposta\n",
    "# Una versió más compacte con definicions lambda\n",
    "from functools import reduce # cal importar reduce \n",
    "def creador(llista):\n",
    "    # Definició de la funció   \n",
    "    def pol(x):\n",
    "        out = eval(reduce(lambda x,y: x+'+'+y,\n",
    "                    map(lambda x: str(x[0])+\"*x**\"+str(x[1]), \n",
    "                        zip(llista,range(len(llista))))))\n",
    "        return(out)\n",
    "    return(pol)\n",
    "        \n",
    "f = creador([1,2,3,4])\n",
    "f(3)\n",
    "\n",
    "\n"
   ]
  },
  {
   "cell_type": "markdown",
   "metadata": {
    "collapsed": false
   },
   "source": [
    "### Exercici 5\n",
    "\n",
    "Un nombre primer és aquell que només és divisible per ell mateix i per 1.\n",
    "\n",
    "Escriu un codi que comprovi si un nombre `x = 15` és només divisible per 1 o per ell mateix. Escriu aquest codi usant un iterador (amb un for o while) que escombri tots els valors des de 2 a x-1. Crea una variable, `divisible`, que tingui per defecte valor `False` i assigni el valor `True` si al llarg de la iteració troba un nombre natural divisible. Podeu fer servir l'operador mòdul `a % b` per saber si un nombre `b` és divisible per `a`.\n",
    "<span style=\"font-family: Courier New; background-color: #82b74b; color: #000000; padding: 2px; \">NM</span>\n"
   ]
  },
  {
   "cell_type": "code",
   "execution_count": null,
   "metadata": {},
   "outputs": [],
   "source": [
    "# Definim primer x com 15 i la etiqueta divisible\n",
    "\n",
    "x = 15\n",
    "\n",
    "divisible = False\n",
    "\n",
    "# Creem un iterador des de 2 a x-1 (range (2, x) on x no estarà inclòs)\n",
    "# Mirem, per a cada valor de l'iterador, si és divisible amb\n",
    "# la funció mòdul%, si és així, la funció mòdul\n",
    "# ens tornarà 0 i assignarem divisible a True\n",
    "# En aquest cas el nombre no serà primer\n",
    "\n",
    "\n",
    "for i in range(2,x):\n",
    "    if not x%i:\n",
    "        divisible = True\n",
    "\n",
    "print(divisible)\n"
   ]
  },
  {
   "cell_type": "markdown",
   "metadata": {
    "collapsed": false,
    "pycharm": {
     "name": "#%% md\n"
    }
   },
   "source": []
  }
 ],
 "metadata": {
  "language_info": {
   "name": "python"
  }
 },
 "nbformat": 4,
 "nbformat_minor": 1
}
