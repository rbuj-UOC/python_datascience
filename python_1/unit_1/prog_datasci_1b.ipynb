{
 "cells": [
  {
   "cell_type": "code",
   "execution_count": null,
   "metadata": {},
   "outputs": [],
   "source": [
    "import os\n",
    "\n",
    "VERIFICA_ESTIL = False\n",
    "\n",
    "if os.getenv(\"COLAB_RELEASE_TAG\"):\n",
    "    # munta la unitat de google drive i accedeix a la carpeta de la unitat\n",
    "    from google.colab import drive\n",
    "    drive.mount('/content/drive')\n",
    "    %cd \"/content/drive/MyDrive/Colab Notebooks/python_datascience/python_1/unit_1\"\n",
    "\n",
    "# verificació de PEP8\n",
    "if VERIFICA_ESTIL:\n",
    "    print(\"habilitant verificació de l'estil PEP8\")\n",
    "    if os.getenv(\"COLAB_RELEASE_TAG\"):\n",
    "        print(\"instal·lant flake8, pycodestyle i pycodestyle_magic...\")\n",
    "        %pip install pycodestyle flake8 pycodestyle_magic\n",
    "    %load_ext pycodestyle_magic\n",
    "    %pycodestyle_on"
   ]
  },
  {
   "cell_type": "code",
   "execution_count": null,
   "metadata": {},
   "outputs": [],
   "source": [
    "import hashlib\n",
    "\n",
    "seed = 'Programació Python per a ciència de dades'\n",
    "\n",
    "if __name__ == \"__main__\":\n",
    "    try:\n",
    "        dni = input('Introdueix el teu DNI o NIE (sense la lletra):')\n",
    "    except ValueError:\n",
    "        raise SystemExit(\"Error a l'introduir el DNI o NIE\")\n",
    "\n",
    "    if len(dni) > 0:\n",
    "        digest = hashlib.sha224(\n",
    "            ('.'.join(seed.split())+dni).encode('utf-8')).hexdigest()\n",
    "        with open('prog_datasci_1.txt', 'w') as output:\n",
    "            output.write(\"%s %s\\n\" % (dni, digest))\n",
    "            print('Fitxer prog_datasci_1.txt generat')"
   ]
  }
 ],
 "metadata": {
  "language_info": {
   "name": "python"
  }
 },
 "nbformat": 4,
 "nbformat_minor": 0
}
