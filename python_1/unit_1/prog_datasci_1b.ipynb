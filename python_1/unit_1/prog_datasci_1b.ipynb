{
 "cells": [
  {
   "cell_type": "code",
   "execution_count": null,
   "metadata": {},
   "outputs": [],
   "source": [
    "from google.colab import drive\n",
    "drive.mount('/content/drive')"
   ]
  },
  {
   "cell_type": "code",
   "execution_count": null,
   "metadata": {},
   "outputs": [],
   "source": [
    "%cd /content/drive/MyDrive/Colab_Notebooks/prog_datasci_1"
   ]
  },
  {
   "cell_type": "code",
   "execution_count": null,
   "metadata": {},
   "outputs": [],
   "source": [
    "import hashlib\n",
    "\n",
    "seed = 'Programacion Python para Data Science'\n",
    "\n",
    "if __name__ == \"__main__\":\n",
    "    try:\n",
    "        dni = input('Introduce tu DNI o NIE (sin letra):')\n",
    "    except ValueError:\n",
    "        raise SystemExit('Error al introducir el DNI')\n",
    "\n",
    "    digest = hashlib.sha224(('.'.join(seed.split())+dni).encode('utf-8')).hexdigest()\n",
    "    with open('prog_datasci_1.txt', 'w') as output:\n",
    "        output.write(\"%s %s\\n\" % (dni, digest))\n",
    "        print('Archivo prog_datasci_1.txt generado')"
   ]
  }
 ],
 "metadata": {
  "language_info": {
   "name": "python"
  }
 },
 "nbformat": 4,
 "nbformat_minor": 0
}
