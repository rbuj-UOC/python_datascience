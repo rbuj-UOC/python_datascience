{
 "cells": [
  {
   "cell_type": "markdown",
   "metadata": {
    "id": "Udsfaz6rQq2P"
   },
   "source": [
    "Programació per a *Data Science*\n",
    "============================\n",
    "\n",
    "Unitat 5: Adquisició de dades en Python\n",
    "--------------------------------------\n",
    "\n",
    "\n"
   ]
  },
  {
   "cell_type": "markdown",
   "metadata": {
    "id": "Kp5p0R9rQq2R"
   },
   "source": [
    "## Exercicis per practicar\n",
    "\n",
    "**Els següents exercicis no puntuen per a la PAC**, però us recomanem que els intenteu resoldre abans de passar als exercicis propis de la PAC. Trobareu les solucions a aquests exercicis al final del Notebook."
   ]
  },
  {
   "cell_type": "markdown",
   "metadata": {
    "id": "B986F33MQq2S"
   },
   "source": [
    "-------------"
   ]
  },
  {
   "cell_type": "markdown",
   "metadata": {
    "id": "mfoWS9S5Qq2S"
   },
   "source": [
    "### Exercici 1\n",
    "\n",
    "Programeu una funció que retorni l'estat meteorològic actual a una certa localització, definida pel seu codi postal (**zip code**) i codi de país (e.g: us, uk, és, fr, etc.). La funció ha de retornar una llista de tuples de dos elements, corresponents a l'resum de l'estat actual de el temps **(weather.main)** i a la descripció estesa **(weather.description)**. Utilitzeu l'API de [openweathermap](https://openweathermap.org/api) per obtenir les prediccions.\n",
    "\n",
    "Per utilitzar l'API necessitareu registrar-vos i obtenir una API key. Podeu registrar-vos [aquí](https://home.openweathermap.org/users/sign_up) i obtenir la vostra API key [aquí](https://home.openweathermap.org/api_keys) un cop registrats. Tingueu en compte que l'API key pot trigar una estona a funcionar després de registrar-vos, i l'API us retornarà un error 401 d'acord la clau no és vàlida:\n",
    "\n",
    "`{\" Cod \": 401,\" message \":\" Invalid API key. Please see http://openweathermap.org/faq#error401 for more info. \"}`\n",
    "\n",
    "Simplement espereu una estona abans d'utilitzar la clau.\n",
    "\n",
    "**Hints**:\n",
    "\n",
    "- Veureu que en general l'API està documentada sense incloure l'API key, encara que aquesta és necessària. Haureu d'incloure l'API key en l'anomenada com un dels paràmetres de la URL (&appid=your_api_key):\n",
    "\n",
    "    http://example_url.com?param1=value1&param2=value2&appid=your_api_key\n",
    "    \n",
    "\n",
    "- Us animem a que passeu pel procés de registre perquè veieu de què tracta i com es generen les API keys. Tot i així, us proporcionem una API key en cas que tingueu problemes amb el procés.\n",
    "\n",
    "    owm_api_key = 'd54f26dbcf6d4136bc0ef8ba5f07825b'"
   ]
  },
  {
   "cell_type": "markdown",
   "metadata": {
    "id": "OZHr2D-CQq2S"
   },
   "source": [
    "**Resposta**"
   ]
  },
  {
   "cell_type": "code",
   "execution_count": null,
   "metadata": {},
   "outputs": [],
   "source": []
  },
  {
   "cell_type": "markdown",
   "metadata": {
    "id": "LY-MpY8vQq2S"
   },
   "source": [
    "### Exercici 2\n",
    "[Scimago Journal](https://www.scimagojr.com/journalrank.php) és un web per consultar la informació de les principals revistes de la comunitat científica. Utilitzeu la llibreria `BeautifulSoup` per extreure els noms de les àrea de totes les revistes que es mostren a la web (en el desplegable **All subject areas**)."
   ]
  },
  {
   "cell_type": "markdown",
   "metadata": {
    "id": "pK5nMOkOQq2T"
   },
   "source": [
    "**Resposta**"
   ]
  },
  {
   "cell_type": "code",
   "execution_count": null,
   "metadata": {},
   "outputs": [],
   "source": []
  },
  {
   "cell_type": "markdown",
   "metadata": {
    "id": "H6kpcG6EQq2T"
   },
   "source": [
    "### Exercici 3\n",
    "\n",
    "Implementeu un conjunt de funcions per obtenir la **seqüència d'ADN** de l'organisme *Homo sapiens* de l'cromosoma 1 (**chr1**) des de la posició 100.000-101.000 per a la referència **hg19**. Per realitzar l'exercici utilitzeu l'API de [UCSC](https://genome.ucsc.edu/goldenPath/help/api.html).\n",
    "\n",
    "**Nota**: El genoma de referència d'una cèl·lula és un repositori de seqüències d'ADN (àcid desoxiribonucleic) empaquetat en forma de cromosoma. L'ADN és un àcid nucleic que conté la informació genètica que dirigeix el desenvolupament i el funcionament de tots els éssers vius. L'ADN es pot entendre com una seqüència de nucleòtids (A, C, T i G) d'una determinada longitud. Aquest material hereditari codifica els gens que, un cop desxifrats, són indispensables per a la síntesi de les proteïnes.\n",
    "\n",
    "Un genoma de referència és la representació de la seqüència d'ADN d'el genoma d'una espècie. En el cas de l'organisme * Homo sapiens *, existeixen diferents versions de l'genoma de referència. L'última versió, hg38, es va publicar al 2014 i és la més detallada i precisa.\n",
    "\n",
    "UCSC és un navegador de la Universitat de Santa Creu de Califòrnia que ofereix accés a seqüències genòmiques i el seu corresponent anotació (gens, mRNAs, CpG, ...) d'una gran varietat d'organismes, vertebrats i invertebrats.\n",
    "\n",
    "Referència: Referència: [Genòmica Computacional](https://www.editorialuoc.com/genomica-computacional). Enric Blanc. Barcelona, Universitat Oberta de Catalunya, 2011.\n",
    "\n",
    "**Important**: No cal entendre tota la informació que podeu obtenir a través de l'API de UCSC. Fixeu-vos bé amb el que us demana l'enunciat (pareu atenció a la paraules clau en negreta), i reviseu els exemples d'accés a les dades que hi ha al web de [UCSC] (https://genome.ucsc.edu/goldenPath /help/api.html)."
   ]
  },
  {
   "cell_type": "markdown",
   "metadata": {
    "id": "erTFZpNIQq2T"
   },
   "source": [
    "**Resposta**"
   ]
  },
  {
   "cell_type": "markdown",
   "metadata": {
    "id": "5UTlXnZ8Qq2T"
   },
   "source": [
    "### Exercici 4\n",
    "\n",
    "La [NASA](https://www.nasa.gov) mitjançant la seva [API] (https://api.nasa.gov) publica cada dia una imatge d'astronomia. Implementeu una funció per descarregar i visualitzar la imatge dins de l'notebook."
   ]
  },
  {
   "cell_type": "markdown",
   "metadata": {
    "id": "mdGcxJwYQq2T"
   },
   "source": [
    "**Resposta**"
   ]
  },
  {
   "cell_type": "code",
   "execution_count": null,
   "metadata": {},
   "outputs": [],
   "source": []
  },
  {
   "cell_type": "markdown",
   "metadata": {
    "id": "2iznXjEjQq2T"
   },
   "source": [
    "### Exercici 5\n",
    "\n",
    "En aquest exercici us proposem un exemple de l'ús de geopy https://geopy.readthedocs.io per extreure les dades de geolocalització.\n",
    "\n",
    "\n",
    "Fes servir la llibreria **geopy** per programar dues funcions.\n",
    "\n",
    "- La primera funció ha de tenir d'entrada una string que contingui una adreça, i de sortida retornar una tupla amb la geolocalització d'aquesta adreça (Latitud, Longitud)\n",
    "- La segona funció, acceptarà d'entrada una tupla amb latitud i longitud, i aplicarà un mètode de geolocalització revers per retornar una string de l'adreça postal inferida.\n",
    "\n",
    "Executa la primera funció amb l'adreça postal \"Av. del Tibidabo, 39, 08035 Barcelona\" per trobar la latitud i longitud, després executa la segona funció per intentar inferir l'adreça postal original."
   ]
  },
  {
   "cell_type": "code",
   "execution_count": null,
   "metadata": {},
   "outputs": [],
   "source": []
  },
  {
   "cell_type": "markdown",
   "metadata": {
    "id": "Iv8pJMKDQq2T"
   },
   "source": [
    "**Resposta**"
   ]
  },
  {
   "cell_type": "markdown",
   "metadata": {
    "id": "5bx8qYFUgsvt"
   },
   "source": [
    "### Exercici 6\n",
    "\n",
    "\n",
    "El New Mexico Tech Seismological Observatory emmagatzema un registre d'esdeveniments sísmics recents. Aquest registre està disponible, per exemple en aquesta web.\n",
    "\n",
    "- https://geoinfo.nmt.edu/nmtso/events/home.cfml\n",
    "\n",
    "\n",
    "Fes servir `scrappy` per mostrar la informació del llistat per pantalla de les \"Date+Time (UTC)\" de cada esdeveniment de la pàgina.\n",
    "\n",
    "\n",
    "Per això:\n",
    "\n",
    "- Utilitza el tutorial de Scrappy per trobar un xpath que contingui la informació requerida.\n",
    "- Mostra la informació requerida en forma de diccionari.\n",
    "\n",
    "**Nota**:si l'execució del _crawler_ us torna un error `ReactorNotRestartable`, reinicieu el nucli del Notebook (al menú: `Restart session`)."
   ]
  },
  {
   "cell_type": "markdown",
   "metadata": {
    "id": "rorUIX6pgtDP"
   },
   "source": [
    "**Resposta**"
   ]
  },
  {
   "cell_type": "code",
   "execution_count": null,
   "metadata": {},
   "outputs": [],
   "source": []
  },
  {
   "cell_type": "markdown",
   "metadata": {
    "id": "nlR99oJbQq2T"
   },
   "source": [
    "---"
   ]
  },
  {
   "cell_type": "markdown",
   "metadata": {
    "id": "_5flPbwGQq2T"
   },
   "source": [
    "## Solucions exercicis per practicar"
   ]
  },
  {
   "cell_type": "markdown",
   "metadata": {
    "id": "KPlhhJh-Qq2T"
   },
   "source": [
    "### Exercici 1\n",
    "\n",
    "Programeu una funció que retorni l'estat meteorològic actual a una certa localització, definida pel seu codi postal (**zip code**) i codi de país (e.g: us, uk, és, fr, etc.). La funció ha de retornar una llista de tuples de dos elements, corresponents a l'resum de l'estat actual de el temps **(weather.main)** i a la descripció estesa **(weather.description)**. Utilitzeu l'API de [openweathermap](https://openweathermap.org/api) per obtenir les prediccions.\n",
    "\n",
    "Per utilitzar l'API necessitareu registrar-vos i obtenir una API key. Podeu registrar-vos [aquí](https://home.openweathermap.org/users/sign_up) i obtenir la vostra API key [aquí](https://home.openweathermap.org/api_keys) un cop registrats. Tingueu en compte que l'API key pot trigar una estona a funcionar després de registrar-vos, i l'API us retornarà un error 401 d'acord la clau no és vàlida:\n",
    "\n",
    "`{\" Cod \": 401,\" message \":\" Invalid API key. Please see http://openweathermap.org/faq#error401 for more info. \"}`\n",
    "\n",
    "Simplement espereu una estona abans d'utilitzar la clau.\n",
    "\n",
    "**Hints**:\n",
    "\n",
    "- Veureu que en general l'API està documentada sense incloure l'API key, encara que aquesta és necessària. Haureu d'incloure l'API key en l'anomenada com un dels paràmetres de la URL (&appid=your_api_key):\n",
    "\n",
    "    http://example_url.com?param1=value1&param2=value2&appid=your_api_key\n",
    "    \n",
    "\n",
    "- Us animem a que passeu pel procés de registre perquè veieu de què tracta i com es generen les API keys. Tot i així, us proporcionem una API key en cas que tingueu problemes amb el procés.\n",
    "\n",
    "    owm_api_key = 'd54f26dbcf6d4136bc0ef8ba5f07825b'"
   ]
  },
  {
   "cell_type": "markdown",
   "metadata": {
    "id": "pdqNX-FLQq2T"
   },
   "source": [
    "**Resposta**\n",
    "\n",
    "El primer que farem serà revisar l'API de openweathermap per identificar què endpoints ens poden ser útils. L'enunciat ens demana tornar l'estat meteorològic actual donat un codi postal, podem utilitzar https://openweathermap.org/current.\n",
    "\n",
    "Hi ha un mètode que ens torna l'estat meteorològic a partir d'el codi postal i el codi de país separat per coma:\n",
    "\n",
    "api.openweathermap.org/data/2.5/weather?zip=zip_code,country_code\n"
   ]
  },
  {
   "cell_type": "code",
   "execution_count": null,
   "metadata": {},
   "outputs": [],
   "source": [
    "import json\n",
    "import requests\n",
    "\n",
    "\n",
    "def parse_response(response):\n",
    "    data = None\n",
    "    if response.status_code == 200:\n",
    "        # Data is formatted as JSON but received as string. Load it as JSON object\n",
    "        data = json.loads(response.content)\n",
    "\n",
    "    # Raise an error otherwise\n",
    "    else:\n",
    "        raise Exception(\"Unexpected response (%s: %s).\" %\n",
    "                        (response.status_code, response.reason))\n",
    "\n",
    "    return data\n",
    "\n",
    "\n",
    "def get_weather_zip(zip_code, country, api_key):\n",
    "    # Query the data from the API\n",
    "    base_url = 'http://api.openweathermap.org/data/2.5/weather?zip=%s,%s&appid=%s'\n",
    "\n",
    "    # We also add the API KEY to the request\n",
    "    response = requests.get(base_url % (zip_code, country, api_key))\n",
    "\n",
    "    # Check the response code and act accordingly\n",
    "    data = parse_response(response)\n",
    "\n",
    "    # If the data was properly processed\n",
    "    if data:\n",
    "        weather = data.get('weather')\n",
    "        r = [(w.get('main'), w.get('description')) for w in weather]\n",
    "    else:\n",
    "        raise Exception(\"Couldn't get weather data.\")\n",
    "\n",
    "    return r\n",
    "\n",
    "\n",
    "api_key = '169af185292dd6119b14bc20d23400fb'\n",
    "zip_code = '08018'\n",
    "country_code = 'es'\n",
    "weather_data = get_weather_zip(zip_code, country_code, api_key)\n",
    "\n",
    "print(weather_data)"
   ]
  },
  {
   "cell_type": "markdown",
   "metadata": {
    "id": "dZa04LbBQq2U"
   },
   "source": [
    "### Exercici 2\n",
    "[Scimago Journal](https://www.scimagojr.com/journalrank.php) és un web per consultar la informació de les principals revistes de la comunitat científica. Utilitzeu la llibreria `BeautifulSoup` per extreure els noms de les àrea de totes les revistes que es mostren a la web (en el desplegable **All subject areas**)."
   ]
  },
  {
   "cell_type": "markdown",
   "metadata": {
    "id": "W_1JoJQiQq2U"
   },
   "source": [
    "**Resposta**"
   ]
  },
  {
   "cell_type": "code",
   "execution_count": null,
   "metadata": {},
   "outputs": [],
   "source": [
    "# Carreguem les llibreries necessàries\n",
    "import requests\n",
    "from bs4 import BeautifulSoup\n",
    "\n",
    "# Especifiquem la URL\n",
    "URL = \"https://www.scimagojr.com/journalrank.php\"\n",
    "\n",
    "response = requests.get(URL)\n",
    "soup = BeautifulSoup(response.content, 'html.parser')\n",
    "\n",
    "# Descomentar per veure el contingut de soup\n",
    "#print(soup)"
   ]
  },
  {
   "cell_type": "code",
   "execution_count": null,
   "metadata": {},
   "outputs": [],
   "source": [
    "# En aquest cas, la informació de les àrees està en els elements 1 a 27 (ambdós inclosos)\n",
    "subj_areas = soup.find_all('a', class_='dropdown-element')[1:28]\n",
    "\n",
    "# Mostrem el nom per pantalla\n",
    "for s in subj_areas:\n",
    "    area = s.text.strip()  # .strip() es fa servir per eliminar espais innecessaris\n",
    "    print(area)"
   ]
  },
  {
   "cell_type": "markdown",
   "metadata": {
    "id": "6oacPX4RQq2U"
   },
   "source": [
    "### Exercici 3\n",
    "\n",
    "Implementeu un conjunt de funcions per obtenir la **seqüència d'ADN** de l'organisme *Homo sapiens* de l'cromosoma 1 (**chr1**) des de la posició 100.000-101.000 per a la referència **hg19**. Per realitzar l'exercici utilitzeu l'API de [UCSC](https://genome.ucsc.edu/goldenPath/help/api.html).\n",
    "\n",
    "**Nota**: El genoma de referència d'una cèl·lula és un repositori de seqüències d'ADN (àcid desoxiribonucleic) empaquetat en forma de cromosoma. L'ADN és un àcid nucleic que conté la informació genètica que dirigeix el desenvolupament i el funcionament de tots els éssers vius. L'ADN es pot entendre com una seqüència de nucleòtids (A, C, T i G) d'una determinada longitud. Aquest material hereditari codifica els gens que, un cop desxifrats, són indispensables per a la síntesi de les proteïnes.\n",
    "\n",
    "Un genoma de referència és la representació de la seqüència d'ADN d'el genoma d'una espècie. En el cas de l'organisme * Homo sapiens *, existeixen diferents versions de l'genoma de referència. L'última versió, hg38, es va publicar al 2014 i és la més detallada i precisa.\n",
    "\n",
    "UCSC és un navegador de la Universitat de Santa Creu de Califòrnia que ofereix accés a seqüències genòmiques i el seu corresponent anotació (gens, mRNAs, CpG, ...) d'una gran varietat d'organismes, vertebrats i invertebrats.\n",
    "\n",
    "Referència: [Genòmica Computacional](https://www.editorialuoc.com/genomica-computacional). Enric Blanc. Barcelona, Universitat Oberta de Catalunya, 2011.\n",
    "\n",
    "**Important**: No cal entendre tota la informació que podeu obtenir a través de l'API de UCSC. Fixeu-vos bé amb el que us demana l'enunciat (pareu atenció a la paraules clau en negreta), i reviseu els exemples d'accés a les dades que hi ha al web de [UCSC] (https://genome.ucsc.edu/goldenPath /help/api.html)."
   ]
  },
  {
   "cell_type": "markdown",
   "metadata": {
    "id": "Ocg33R-iQq2U"
   },
   "source": [
    "**Resposta**"
   ]
  },
  {
   "cell_type": "code",
   "execution_count": null,
   "metadata": {},
   "outputs": [],
   "source": [
    "import requests\n",
    "import json\n",
    "\n",
    "\n",
    "def parse_response(response):\n",
    "    data = None\n",
    "    if response.status_code == 200:\n",
    "        # Data is formatted as JSON but received as string. Load it as JSON object\n",
    "        data = json.loads(response.content)\n",
    "\n",
    "    # Raise an error otherwise\n",
    "    else:\n",
    "        raise Exception(\"Unexpected response (%s: %s).\" %\n",
    "                        (response.status_code, response.reason))\n",
    "\n",
    "    return data\n",
    "\n",
    "\n",
    "def get_sequence_UCSC(genome_ref, chrom, start, end):\n",
    "    # Query the data from the API\n",
    "    base_url = 'http://api.genome.ucsc.edu/getData/sequence?genome=%s;chrom=%s;start=%s;end=%s'\n",
    "\n",
    "    response = requests.get(base_url % (genome_ref, chrom, start, end))\n",
    "\n",
    "    # Check the response code and act accordingly\n",
    "    data = parse_response(response)\n",
    "\n",
    "    if data:\n",
    "\n",
    "        dna = data.get('dna')\n",
    "\n",
    "    return (dna)\n",
    "\n",
    "\n",
    "genome_ref = 'hg19'\n",
    "chrom = 'chr1'\n",
    "start = '100000'\n",
    "end = '101000'\n",
    "sequence_data = get_sequence_UCSC(genome_ref, chrom, start, end)\n",
    "\n",
    "print(sequence_data)"
   ]
  },
  {
   "cell_type": "code",
   "execution_count": null,
   "metadata": {},
   "outputs": [],
   "source": [
    "genome_ref = 'hg19'\n",
    "chrom = 'chr1'\n",
    "start = '100000'\n",
    "end = '101000'\n",
    "\n",
    "\n",
    "base_url = 'http://api.genome.ucsc.edu/getData/sequence?genome=%s;chrom=%s;start=%s;end=%s'\n",
    "\n",
    "response = requests.get(base_url % (genome_ref, chrom, start, end))"
   ]
  },
  {
   "cell_type": "code",
   "execution_count": null,
   "metadata": {},
   "outputs": [],
   "source": [
    "print(response.text)"
   ]
  },
  {
   "cell_type": "markdown",
   "metadata": {
    "id": "4u3cwLjJQq2V"
   },
   "source": [
    "### Exercici 4\n",
    "\n",
    "La [NASA](https://www.nasa.gov) mitjançant la seva [API] (https://api.nasa.gov) publica cada dia una imatge d'astronomia. Implementeu una funció per descarregar i visualitzar la imatge dins de l'notebook."
   ]
  },
  {
   "cell_type": "markdown",
   "metadata": {
    "id": "e3pqH7WqQq2V"
   },
   "source": [
    "**Resposta**"
   ]
  },
  {
   "cell_type": "code",
   "execution_count": null,
   "metadata": {},
   "outputs": [],
   "source": [
    "import requests\n",
    "import json\n",
    "import IPython\n",
    "from matplotlib import pyplot as plt\n",
    "from io import BytesIO\n",
    "from PIL import Image\n",
    "\n",
    "import warnings\n",
    "warnings.simplefilter('ignore')\n",
    "\n",
    "\n",
    "def parse_response(response):\n",
    "    data = None\n",
    "    if response.status_code == 200:\n",
    "        # Data is formatted as JSON but received as string. Load it as JSON object\n",
    "        data = json.loads(response.content)\n",
    "\n",
    "    # Raise an error otherwise\n",
    "    else:\n",
    "        raise Exception(\"Unexpected response (%s: %s).\" %\n",
    "                        (response.status_code, response.reason))\n",
    "\n",
    "    return data\n",
    "\n",
    "\n",
    "def get_imatge_nasa(api_key):\n",
    "    # Query the data from the API\n",
    "    base_url = 'https://api.nasa.gov/planetary/apod?api_key=%s'\n",
    "\n",
    "    # We also add the API KEY to the request\n",
    "    response = requests.get(base_url % (api_key))\n",
    "\n",
    "    # Check the response code and act accordingly\n",
    "    data = parse_response(response)\n",
    "\n",
    "    data\n",
    "\n",
    "    return (data)\n",
    "\n",
    "\n",
    "# Enter API key\n",
    "api_key = '7zZpmbHOJCH16MB80nivNTOmEpn481i4EWTvKToI'\n",
    "data = get_imatge_nasa(api_key)\n",
    "\n",
    "# Opció A: Primer vam comprovar que l'arxiu correspon a una imatge.\n",
    "# Després, el contingut de la imatge mitjançant matplotlib\n",
    "\n",
    "if data['media_type'] == \"image\":\n",
    "    tmp = requests.get(data.get('url'))\n",
    "    img = Image.open(BytesIO(tmp.content))\n",
    "    plt.imshow(img)\n",
    "    plt.show()\n",
    "else:\n",
    "    print(\"Media Type (%s).\" % (data['media_type']))"
   ]
  },
  {
   "cell_type": "code",
   "execution_count": null,
   "metadata": {},
   "outputs": [],
   "source": [
    "# Opció B: Utilitzem ipython per a visualitzar la imatge\n",
    "if data['media_type'] == \"image\":\n",
    "\n",
    "    img = IPython.display.Image(data.get('url'))\n",
    "\n",
    "else:\n",
    "\n",
    "    img = \"Media Type (%s)\" % (data['media_type'])\n",
    "\n",
    "img"
   ]
  },
  {
   "cell_type": "markdown",
   "metadata": {
    "id": "dH4PC0W5Uq4s"
   },
   "source": [
    "### Exercici 5\n",
    "\n",
    "En aquest exercici us proposem un exemple de l'ús de geopy https://geopy.readthedocs.io per extreure les dades de geolocalització.\n",
    "\n",
    "Fes servir la llibreria **geopy** per programar dues funcions.\n",
    "\n",
    "- La primera funció ha de tenir d'entrada una string que contingui una adreça, i de sortida retornar una tupla amb la geolocalització d'aquesta adreça (Latitud, Longitud)\n",
    "- La segona funció, acceptarà d'entrada una tupla amb latitud i longitud, i aplicarà un mètode de geolocalització revers per retornar una string de l'adreça postal inferida.\n",
    "\n",
    "Executa la primera funció amb l'adreça postal \"Av. del Tibidabo, 39, 08035 Barcelona\" per trobar la latitud i longitud, després executa la segona funció per intentar inferir l'adreça postal original.\n"
   ]
  },
  {
   "cell_type": "code",
   "execution_count": null,
   "metadata": {},
   "outputs": [],
   "source": [
    "!pip install geopy"
   ]
  },
  {
   "cell_type": "code",
   "execution_count": null,
   "metadata": {},
   "outputs": [],
   "source": [
    "#  Importem la llibreria geopy\n",
    "from geopy.geocoders import Nominatim\n",
    "\n",
    "\n",
    "def address2geo(address):\n",
    "    geolocator = Nominatim(user_agent=\"test\")\n",
    "    location = geolocator.geocode(address)\n",
    "    return((location.latitude, location.longitude))\n",
    "\n",
    "\n",
    "def geo2address(geo):\n",
    "    geolocator = Nominatim(user_agent=\"test\")\n",
    "    # Mirant la documentació tenim el mètode .reverse() per fer el que ens demanen\n",
    "    location = geolocator.reverse(geo)\n",
    "    return(location.address)"
   ]
  },
  {
   "cell_type": "code",
   "execution_count": null,
   "metadata": {},
   "outputs": [],
   "source": [
    "ad = \"Av. del Tibidabo, 39, 08035 Barcelona\""
   ]
  },
  {
   "cell_type": "code",
   "execution_count": null,
   "metadata": {},
   "outputs": [],
   "source": [
    "geo = address2geo(ad)\n",
    "print(geo)"
   ]
  },
  {
   "cell_type": "code",
   "execution_count": null,
   "metadata": {},
   "outputs": [],
   "source": [
    "newad = geo2address(geo)\n",
    "print(newad)"
   ]
  },
  {
   "cell_type": "markdown",
   "metadata": {
    "id": "NIhI4eqRgO6r"
   },
   "source": [
    "### Exercici 6\n",
    "\n",
    "\n",
    "El New Mexico Tech Seismological Observatory emmagatzema un registre d'esdeveniments sísmics recents. Aquest registre està disponible, per exemple en aquesta web.\n",
    "\n",
    "- https://geoinfo.nmt.edu/nmtso/events/home.cfml\n",
    "\n",
    "\n",
    "Fes servir `scrappy` per mostrar la informació del llistat per pantalla de les \"Date+Time (UTC)\" de cada esdeveniment de la pàgina.\n",
    "\n",
    "\n",
    "Per això:\n",
    "\n",
    "- Utilitza el tutorial de Scrappy per trobar un xpath que contingui la informació requerida.\n",
    "- Mostra la informació requerida en forma de diccionari.\n",
    "\n",
    "**Nota**:si l'execució del _crawler_ us torna un error `ReactorNotRestartable`, reinicieu el nucli del Notebook (al menú: `Kernel` - `Restart`)."
   ]
  },
  {
   "cell_type": "code",
   "execution_count": null,
   "metadata": {},
   "outputs": [],
   "source": [
    "!pip install scrapy"
   ]
  },
  {
   "cell_type": "code",
   "execution_count": null,
   "metadata": {},
   "outputs": [],
   "source": [
    "import scrapy\n",
    "from scrapy.crawler import CrawlerProcess\n",
    "\n",
    "# Creem l'aranya\n",
    "\n",
    "\n",
    "class spider(scrapy.Spider):\n",
    "\n",
    "    # Un nomnombre\n",
    "    name = \"meteo_spider\"\n",
    "\n",
    "    # Indiquem la url que volem analitzar\n",
    "    start_urls = [\n",
    "        \"https://geoinfo.nmt.edu/nmtso/events/home.cfml\"\n",
    "    ]\n",
    "    # Definim el parser\n",
    "    def parse(self, response):\n",
    "\n",
    "        # Extraiem la informació requerida\n",
    "        xpath = '//td[1]/text()'\n",
    "        counter = 0\n",
    "        for com in response.xpath(xpath):\n",
    "            date = com.extract()\n",
    "            counter += 1\n",
    "            yield {\"event\": counter,\n",
    "                   \"date\": date}"
   ]
  },
  {
   "cell_type": "code",
   "execution_count": null,
   "metadata": {},
   "outputs": [],
   "source": [
    "# Creem el crawler\n",
    "process = CrawlerProcess({\n",
    "    'USER_AGENT': 'Mozilla/5.0 (iPad; U; CPU OS 3_2_1 like Mac OS X; en-us) AppleWebKit/531.21.10 (KHTML, like Gecko) Mobile/7B405',\n",
    "    'DOWNLOAD_HANDLERS': {'s3': None},\n",
    "    'LOG_ENABLED': True\n",
    "})\n",
    "\n",
    "# Inicialitzem l'aranya\n",
    "p = process.crawl(spider)\n",
    "\n",
    "# Llancem el procés\n",
    "process.start()"
   ]
  },
  {
   "cell_type": "code",
   "execution_count": null,
   "metadata": {},
   "outputs": [],
   "source": []
  }
 ],
 "metadata": {
  "language_info": {
   "name": "python"
  }
 },
 "nbformat": 4,
 "nbformat_minor": 0
}
