{
 "cells": [
  {
   "cell_type": "markdown",
   "metadata": {},
   "source": [
    "<div style=\"display: grid; grid-template-columns: repeat(2, 1fr); align-items: end;\">\n",
    "    <div>\n",
    "        <img src=\"data:image/avif;base64,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\" width=\"300\">\n",
    "    </div>\n",
    "    <div>\n",
    "        <p style=\"margin: 0; text-align:right;\">22.401 · Fonaments de Programació</p>\n",
    "        <p style=\"margin: 0; text-align:right;\">Grau en Ciència de Dades Aplicada</p>\n",
    "        <p style=\"margin: 0; text-align:right;\">Estudis d'Informàtica, Multimèdia i Telecomunicació</p>\n",
    "    </div>\n",
    "</div>"
   ]
  },
  {
   "cell_type": "markdown",
   "metadata": {
    "id": "Udsfaz6rQq2P"
   },
   "source": [
    "Programació per a *Data Science*\n",
    "============================\n",
    "\n",
    "Unitat 5: Adquisició de dades en Python\n",
    "--------------------------------------\n",
    "\n",
    "\n"
   ]
  },
  {
   "cell_type": "markdown",
   "metadata": {
    "id": "Kp5p0R9rQq2R"
   },
   "source": [
    "## Exercicis per practicar\n",
    "\n",
    "**Els següents exercicis no puntuen per a la PAC**, però us recomanem que els intenteu resoldre abans de passar als exercicis propis de la PAC. Trobareu les solucions a aquests exercicis al final del Notebook."
   ]
  },
  {
   "cell_type": "markdown",
   "metadata": {
    "id": "B986F33MQq2S"
   },
   "source": [
    "-------------"
   ]
  },
  {
   "cell_type": "markdown",
   "metadata": {
    "id": "mfoWS9S5Qq2S"
   },
   "source": [
    "### Exercici 1\n",
    "\n",
    "Programeu una funció que retorni l'estat meteorològic actual a una certa localització, definida pel seu codi postal (**zip code**) i codi de país (e.g: us, uk, és, fr, etc.). La funció ha de retornar una llista de tuples de dos elements, corresponents a l'resum de l'estat actual de el temps **(weather.main)** i a la descripció estesa **(weather.description)**. Utilitzeu l'API de [openweathermap](https://openweathermap.org/api) per obtenir les prediccions.\n",
    "\n",
    "Per utilitzar l'API necessitareu registrar-vos i obtenir una API key. Podeu registrar-vos [aquí](https://home.openweathermap.org/users/sign_up) i obtenir la vostra API key [aquí](https://home.openweathermap.org/api_keys) un cop registrats. Tingueu en compte que l'API key pot trigar una estona a funcionar després de registrar-vos, i l'API us retornarà un error 401 d'acord la clau no és vàlida:\n",
    "\n",
    "`{\" Cod \": 401,\" message \":\" Invalid API key. Please see http://openweathermap.org/faq#error401 for more info. \"}`\n",
    "\n",
    "Simplement espereu una estona abans d'utilitzar la clau.\n",
    "\n",
    "**Hints**:\n",
    "\n",
    "- Veureu que en general l'API està documentada sense incloure l'API key, encara que aquesta és necessària. Haureu d'incloure l'API key en l'anomenada com un dels paràmetres de la URL (&appid=your_api_key):\n",
    "\n",
    "    http://example_url.com?param1=value1&param2=value2&appid=your_api_key\n",
    "    \n",
    "\n",
    "- Us animem a que passeu pel procés de registre perquè veieu de què tracta i com es generen les API keys. Tot i així, us proporcionem una API key en cas que tingueu problemes amb el procés.\n",
    "\n",
    "    owm_api_key = 'd54f26dbcf6d4136bc0ef8ba5f07825b'"
   ]
  },
  {
   "cell_type": "markdown",
   "metadata": {
    "id": "OZHr2D-CQq2S"
   },
   "source": [
    "**Resposta**"
   ]
  },
  {
   "cell_type": "code",
   "execution_count": null,
   "metadata": {},
   "outputs": [],
   "source": []
  },
  {
   "cell_type": "markdown",
   "metadata": {
    "id": "LY-MpY8vQq2S"
   },
   "source": [
    "### Exercici 2\n",
    "[Scimago Journal](https://www.scimagojr.com/journalrank.php) és un web per consultar la informació de les principals revistes de la comunitat científica. Utilitzeu la biblioteca `BeautifulSoup` per extreure els noms de les àrea de totes les revistes que es mostren a la web (en el desplegable **All subject areas**)."
   ]
  },
  {
   "cell_type": "markdown",
   "metadata": {
    "id": "pK5nMOkOQq2T"
   },
   "source": [
    "**Resposta**"
   ]
  },
  {
   "cell_type": "code",
   "execution_count": null,
   "metadata": {},
   "outputs": [],
   "source": []
  },
  {
   "cell_type": "markdown",
   "metadata": {
    "id": "H6kpcG6EQq2T"
   },
   "source": [
    "### Exercici 3\n",
    "\n",
    "Implementeu un conjunt de funcions per obtenir la **seqüència d'ADN** de l'organisme *Homo sapiens* de l'cromosoma 1 (**chr1**) des de la posició 100.000-101.000 per a la referència **hg19**. Per realitzar l'exercici utilitzeu l'API de [UCSC](https://genome.ucsc.edu/goldenPath/help/api.html).\n",
    "\n",
    "**Nota**: El genoma de referència d'una cèl·lula és un repositori de seqüències d'ADN (àcid desoxiribonucleic) empaquetat en forma de cromosoma. L'ADN és un àcid nucleic que conté la informació genètica que dirigeix el desenvolupament i el funcionament de tots els éssers vius. L'ADN es pot entendre com una seqüència de nucleòtids (A, C, T i G) d'una determinada longitud. Aquest material hereditari codifica els gens que, un cop desxifrats, són indispensables per a la síntesi de les proteïnes.\n",
    "\n",
    "Un genoma de referència és la representació de la seqüència d'ADN d'el genoma d'una espècie. En el cas de l'organisme * Homo sapiens *, existeixen diferents versions de l'genoma de referència. L'última versió, hg38, es va publicar al 2014 i és la més detallada i precisa.\n",
    "\n",
    "UCSC és un navegador de la Universitat de Santa Creu de Califòrnia que ofereix accés a seqüències genòmiques i el seu corresponent anotació (gens, mRNAs, CpG, ...) d'una gran varietat d'organismes, vertebrats i invertebrats.\n",
    "\n",
    "Referència: Referència: [Genòmica Computacional](https://www.editorialuoc.com/genomica-computacional). Enric Blanc. Barcelona, Universitat Oberta de Catalunya, 2011.\n",
    "\n",
    "**Important**: No cal entendre tota la informació que podeu obtenir a través de l'API de UCSC. Fixeu-vos bé amb el que us demana l'enunciat (pareu atenció a la paraules clau en negreta), i reviseu els exemples d'accés a les dades que hi ha al web de [UCSC] (https://genome.ucsc.edu/goldenPath /help/api.html)."
   ]
  },
  {
   "cell_type": "markdown",
   "metadata": {
    "id": "erTFZpNIQq2T"
   },
   "source": [
    "**Resposta**"
   ]
  },
  {
   "cell_type": "markdown",
   "metadata": {
    "id": "5UTlXnZ8Qq2T"
   },
   "source": [
    "### Exercici 4\n",
    "\n",
    "La [NASA](https://www.nasa.gov) mitjançant la seva [API] (https://api.nasa.gov) publica cada dia una imatge d'astronomia. Implementeu una funció per descarregar i visualitzar la imatge dins de l'notebook."
   ]
  },
  {
   "cell_type": "markdown",
   "metadata": {
    "id": "mdGcxJwYQq2T"
   },
   "source": [
    "**Resposta**"
   ]
  },
  {
   "cell_type": "code",
   "execution_count": null,
   "metadata": {},
   "outputs": [],
   "source": []
  },
  {
   "cell_type": "markdown",
   "metadata": {
    "id": "2iznXjEjQq2T"
   },
   "source": [
    "### Exercici 5\n",
    "\n",
    "En aquest exercici us proposem un exemple de l'ús de geopy https://geopy.readthedocs.io per extreure les dades de geolocalització.\n",
    "\n",
    "\n",
    "Fes servir la biblioteca **geopy** per programar dues funcions.\n",
    "\n",
    "- La primera funció ha de tenir d'entrada una string que contingui una adreça, i de sortida retornar una tupla amb la geolocalització d'aquesta adreça (Latitud, Longitud)\n",
    "- La segona funció, acceptarà d'entrada una tupla amb latitud i longitud, i aplicarà un mètode de geolocalització revers per retornar una string de l'adreça postal inferida.\n",
    "\n",
    "Executa la primera funció amb l'adreça postal \"Av. del Tibidabo, 39, 08035 Barcelona\" per trobar la latitud i longitud, després executa la segona funció per intentar inferir l'adreça postal original."
   ]
  },
  {
   "cell_type": "code",
   "execution_count": null,
   "metadata": {},
   "outputs": [],
   "source": []
  },
  {
   "cell_type": "markdown",
   "metadata": {
    "id": "Iv8pJMKDQq2T"
   },
   "source": [
    "**Resposta**"
   ]
  },
  {
   "cell_type": "markdown",
   "metadata": {
    "id": "5bx8qYFUgsvt"
   },
   "source": [
    "### Exercici 6\n",
    "\n",
    "\n",
    "El New Mexico Tech Seismological Observatory emmagatzema un registre d'esdeveniments sísmics recents. Aquest registre està disponible, per exemple en aquesta web.\n",
    "\n",
    "- https://geoinfo.nmt.edu/nmtso/events/home.cfml\n",
    "\n",
    "\n",
    "Fes servir `scrappy` per mostrar la informació del llistat per pantalla de les \"Date+Time (UTC)\" de cada esdeveniment de la pàgina.\n",
    "\n",
    "\n",
    "Per això:\n",
    "\n",
    "- Utilitza el tutorial de Scrappy per trobar un xpath que contingui la informació requerida.\n",
    "- Mostra la informació requerida en forma de diccionari.\n",
    "\n",
    "**Nota**:si l'execució del _crawler_ us torna un error `ReactorNotRestartable`, reinicieu el nucli del Notebook (al menú: `Restart session`)."
   ]
  },
  {
   "cell_type": "markdown",
   "metadata": {
    "id": "rorUIX6pgtDP"
   },
   "source": [
    "**Resposta**"
   ]
  },
  {
   "cell_type": "code",
   "execution_count": null,
   "metadata": {},
   "outputs": [],
   "source": []
  },
  {
   "cell_type": "markdown",
   "metadata": {
    "id": "nlR99oJbQq2T"
   },
   "source": [
    "---"
   ]
  },
  {
   "cell_type": "markdown",
   "metadata": {
    "id": "_5flPbwGQq2T"
   },
   "source": [
    "## Solucions exercicis per practicar"
   ]
  },
  {
   "cell_type": "markdown",
   "metadata": {
    "id": "KPlhhJh-Qq2T"
   },
   "source": [
    "### Exercici 1\n",
    "\n",
    "Programeu una funció que retorni l'estat meteorològic actual a una certa localització, definida pel seu codi postal (**zip code**) i codi de país (e.g: us, uk, és, fr, etc.). La funció ha de retornar una llista de tuples de dos elements, corresponents a l'resum de l'estat actual de el temps **(weather.main)** i a la descripció estesa **(weather.description)**. Utilitzeu l'API de [openweathermap](https://openweathermap.org/api) per obtenir les prediccions.\n",
    "\n",
    "Per utilitzar l'API necessitareu registrar-vos i obtenir una API key. Podeu registrar-vos [aquí](https://home.openweathermap.org/users/sign_up) i obtenir la vostra API key [aquí](https://home.openweathermap.org/api_keys) un cop registrats. Tingueu en compte que l'API key pot trigar una estona a funcionar després de registrar-vos, i l'API us retornarà un error 401 d'acord la clau no és vàlida:\n",
    "\n",
    "`{\" Cod \": 401,\" message \":\" Invalid API key. Please see http://openweathermap.org/faq#error401 for more info. \"}`\n",
    "\n",
    "Simplement espereu una estona abans d'utilitzar la clau.\n",
    "\n",
    "**Hints**:\n",
    "\n",
    "- Veureu que en general l'API està documentada sense incloure l'API key, encara que aquesta és necessària. Haureu d'incloure l'API key en l'anomenada com un dels paràmetres de la URL (&appid=your_api_key):\n",
    "\n",
    "    http://example_url.com?param1=value1&param2=value2&appid=your_api_key\n",
    "    \n",
    "\n",
    "- Us animem a que passeu pel procés de registre perquè veieu de què tracta i com es generen les API keys. Tot i així, us proporcionem una API key en cas que tingueu problemes amb el procés.\n",
    "\n",
    "    owm_api_key = 'd54f26dbcf6d4136bc0ef8ba5f07825b'"
   ]
  },
  {
   "cell_type": "markdown",
   "metadata": {
    "id": "pdqNX-FLQq2T"
   },
   "source": [
    "**Resposta**\n",
    "\n",
    "El primer que farem serà revisar l'API de openweathermap per identificar què endpoints ens poden ser útils. L'enunciat ens demana tornar l'estat meteorològic actual donat un codi postal, podem utilitzar https://openweathermap.org/current.\n",
    "\n",
    "Hi ha un mètode que ens torna l'estat meteorològic a partir d'el codi postal i el codi de país separat per coma:\n",
    "\n",
    "api.openweathermap.org/data/2.5/weather?zip=zip_code,country_code\n"
   ]
  },
  {
   "cell_type": "code",
   "execution_count": null,
   "metadata": {},
   "outputs": [],
   "source": [
    "import json\n",
    "import requests\n",
    "\n",
    "\n",
    "def parse_response(response):\n",
    "    data = None\n",
    "    if response.status_code == 200:\n",
    "        # Data is formatted as JSON but received as string. Load it as JSON object\n",
    "        data = json.loads(response.content)\n",
    "\n",
    "    # Raise an error otherwise\n",
    "    else:\n",
    "        raise Exception(\"Unexpected response (%s: %s).\" %\n",
    "                        (response.status_code, response.reason))\n",
    "\n",
    "    return data\n",
    "\n",
    "\n",
    "def get_weather_zip(zip_code, country, api_key):\n",
    "    # Query the data from the API\n",
    "    base_url = 'http://api.openweathermap.org/data/2.5/weather?zip=%s,%s&appid=%s'\n",
    "\n",
    "    # We also add the API KEY to the request\n",
    "    response = requests.get(base_url % (zip_code, country, api_key))\n",
    "\n",
    "    # Check the response code and act accordingly\n",
    "    data = parse_response(response)\n",
    "\n",
    "    # If the data was properly processed\n",
    "    if data:\n",
    "        weather = data.get('weather')\n",
    "        r = [(w.get('main'), w.get('description')) for w in weather]\n",
    "    else:\n",
    "        raise Exception(\"Couldn't get weather data.\")\n",
    "\n",
    "    return r\n",
    "\n",
    "\n",
    "api_key = '169af185292dd6119b14bc20d23400fb'\n",
    "zip_code = '08018'\n",
    "country_code = 'es'\n",
    "weather_data = get_weather_zip(zip_code, country_code, api_key)\n",
    "\n",
    "print(weather_data)"
   ]
  },
  {
   "cell_type": "markdown",
   "metadata": {
    "id": "dZa04LbBQq2U"
   },
   "source": [
    "### Exercici 2\n",
    "[Scimago Journal](https://www.scimagojr.com/journalrank.php) és un web per consultar la informació de les principals revistes de la comunitat científica. Utilitzeu la biblioteca `BeautifulSoup` per extreure els noms de les àrea de totes les revistes que es mostren a la web (en el desplegable **All subject areas**)."
   ]
  },
  {
   "cell_type": "markdown",
   "metadata": {
    "id": "W_1JoJQiQq2U"
   },
   "source": [
    "**Resposta**"
   ]
  },
  {
   "cell_type": "code",
   "execution_count": null,
   "metadata": {},
   "outputs": [],
   "source": [
    "# Carreguem les biblioteques necessàries\n",
    "import requests\n",
    "from bs4 import BeautifulSoup\n",
    "\n",
    "# Especifiquem la URL\n",
    "URL = \"https://www.scimagojr.com/journalrank.php\"\n",
    "\n",
    "response = requests.get(URL)\n",
    "soup = BeautifulSoup(response.content, 'html.parser')\n",
    "\n",
    "# Descomentar per veure el contingut de soup\n",
    "# print(soup)"
   ]
  },
  {
   "cell_type": "code",
   "execution_count": null,
   "metadata": {},
   "outputs": [],
   "source": [
    "# En aquest cas, la informació de les àrees està en els elements 1 a 27 (ambdós inclosos)\n",
    "subj_areas = soup.find_all('a', class_='dropdown-element')[1:28]\n",
    "\n",
    "# Mostrem el nom per pantalla\n",
    "for s in subj_areas:\n",
    "    area = s.text.strip()  # .strip() es fa servir per eliminar espais innecessaris\n",
    "    print(area)"
   ]
  },
  {
   "cell_type": "markdown",
   "metadata": {
    "id": "6oacPX4RQq2U"
   },
   "source": [
    "### Exercici 3\n",
    "\n",
    "Implementeu un conjunt de funcions per obtenir la **seqüència d'ADN** de l'organisme *Homo sapiens* de l'cromosoma 1 (**chr1**) des de la posició 100.000-101.000 per a la referència **hg19**. Per realitzar l'exercici utilitzeu l'API de [UCSC](https://genome.ucsc.edu/goldenPath/help/api.html).\n",
    "\n",
    "**Nota**: El genoma de referència d'una cèl·lula és un repositori de seqüències d'ADN (àcid desoxiribonucleic) empaquetat en forma de cromosoma. L'ADN és un àcid nucleic que conté la informació genètica que dirigeix el desenvolupament i el funcionament de tots els éssers vius. L'ADN es pot entendre com una seqüència de nucleòtids (A, C, T i G) d'una determinada longitud. Aquest material hereditari codifica els gens que, un cop desxifrats, són indispensables per a la síntesi de les proteïnes.\n",
    "\n",
    "Un genoma de referència és la representació de la seqüència d'ADN d'el genoma d'una espècie. En el cas de l'organisme * Homo sapiens *, existeixen diferents versions de l'genoma de referència. L'última versió, hg38, es va publicar al 2014 i és la més detallada i precisa.\n",
    "\n",
    "UCSC és un navegador de la Universitat de Santa Creu de Califòrnia que ofereix accés a seqüències genòmiques i el seu corresponent anotació (gens, mRNAs, CpG, ...) d'una gran varietat d'organismes, vertebrats i invertebrats.\n",
    "\n",
    "Referència: [Genòmica Computacional](https://www.editorialuoc.com/genomica-computacional). Enric Blanc. Barcelona, Universitat Oberta de Catalunya, 2011.\n",
    "\n",
    "**Important**: No cal entendre tota la informació que podeu obtenir a través de l'API de UCSC. Fixeu-vos bé amb el que us demana l'enunciat (pareu atenció a la paraules clau en negreta), i reviseu els exemples d'accés a les dades que hi ha al web de [UCSC] (https://genome.ucsc.edu/goldenPath /help/api.html)."
   ]
  },
  {
   "cell_type": "markdown",
   "metadata": {
    "id": "Ocg33R-iQq2U"
   },
   "source": [
    "**Resposta**"
   ]
  },
  {
   "cell_type": "code",
   "execution_count": null,
   "metadata": {},
   "outputs": [],
   "source": [
    "import requests\n",
    "import json\n",
    "\n",
    "\n",
    "def parse_response(response):\n",
    "    data = None\n",
    "    if response.status_code == 200:\n",
    "        # Data is formatted as JSON but received as string. Load it as JSON object\n",
    "        data = json.loads(response.content)\n",
    "\n",
    "    # Raise an error otherwise\n",
    "    else:\n",
    "        raise Exception(\"Unexpected response (%s: %s).\" %\n",
    "                        (response.status_code, response.reason))\n",
    "\n",
    "    return data\n",
    "\n",
    "\n",
    "def get_sequence_UCSC(genome_ref, chrom, start, end):\n",
    "    # Query the data from the API\n",
    "    base_url = 'http://api.genome.ucsc.edu/getData/sequence?genome=%s;chrom=%s;start=%s;end=%s'\n",
    "\n",
    "    response = requests.get(base_url % (genome_ref, chrom, start, end))\n",
    "\n",
    "    # Check the response code and act accordingly\n",
    "    data = parse_response(response)\n",
    "\n",
    "    if data:\n",
    "\n",
    "        dna = data.get('dna')\n",
    "\n",
    "    return (dna)\n",
    "\n",
    "\n",
    "genome_ref = 'hg19'\n",
    "chrom = 'chr1'\n",
    "start = '100000'\n",
    "end = '101000'\n",
    "sequence_data = get_sequence_UCSC(genome_ref, chrom, start, end)\n",
    "\n",
    "print(sequence_data)"
   ]
  },
  {
   "cell_type": "code",
   "execution_count": null,
   "metadata": {},
   "outputs": [],
   "source": [
    "genome_ref = 'hg19'\n",
    "chrom = 'chr1'\n",
    "start = '100000'\n",
    "end = '101000'\n",
    "\n",
    "\n",
    "base_url = 'http://api.genome.ucsc.edu/getData/sequence?genome=%s;chrom=%s;start=%s;end=%s'\n",
    "\n",
    "response = requests.get(base_url % (genome_ref, chrom, start, end))"
   ]
  },
  {
   "cell_type": "code",
   "execution_count": null,
   "metadata": {},
   "outputs": [],
   "source": [
    "print(response.text)"
   ]
  },
  {
   "cell_type": "markdown",
   "metadata": {
    "id": "4u3cwLjJQq2V"
   },
   "source": [
    "### Exercici 4\n",
    "\n",
    "La [NASA](https://www.nasa.gov) mitjançant la seva [API] (https://api.nasa.gov) publica cada dia una imatge d'astronomia. Implementeu una funció per descarregar i visualitzar la imatge dins de l'notebook."
   ]
  },
  {
   "cell_type": "markdown",
   "metadata": {
    "id": "e3pqH7WqQq2V"
   },
   "source": [
    "**Resposta**"
   ]
  },
  {
   "cell_type": "code",
   "execution_count": null,
   "metadata": {},
   "outputs": [],
   "source": [
    "import requests\n",
    "import json\n",
    "import IPython\n",
    "from matplotlib import pyplot as plt\n",
    "from io import BytesIO\n",
    "from PIL import Image\n",
    "\n",
    "import warnings\n",
    "warnings.simplefilter('ignore')\n",
    "\n",
    "\n",
    "def parse_response(response):\n",
    "    data = None\n",
    "    if response.status_code == 200:\n",
    "        # Data is formatted as JSON but received as string. Load it as JSON object\n",
    "        data = json.loads(response.content)\n",
    "\n",
    "    # Raise an error otherwise\n",
    "    else:\n",
    "        raise Exception(\"Unexpected response (%s: %s).\" %\n",
    "                        (response.status_code, response.reason))\n",
    "\n",
    "    return data\n",
    "\n",
    "\n",
    "def get_imatge_nasa(api_key):\n",
    "    # Query the data from the API\n",
    "    base_url = 'https://api.nasa.gov/planetary/apod?api_key=%s'\n",
    "\n",
    "    # We also add the API KEY to the request\n",
    "    response = requests.get(base_url % (api_key))\n",
    "\n",
    "    # Check the response code and act accordingly\n",
    "    data = parse_response(response)\n",
    "\n",
    "    data\n",
    "\n",
    "    return (data)\n",
    "\n",
    "\n",
    "# Enter API key\n",
    "api_key = '7zZpmbHOJCH16MB80nivNTOmEpn481i4EWTvKToI'\n",
    "data = get_imatge_nasa(api_key)\n",
    "\n",
    "# Opció A: Primer vam comprovar que el fitxer correspon a una imatge.\n",
    "# Després, el contingut de la imatge mitjançant matplotlib\n",
    "\n",
    "if data['media_type'] == \"image\":\n",
    "    tmp = requests.get(data.get('url'))\n",
    "    img = Image.open(BytesIO(tmp.content))\n",
    "    plt.imshow(img)\n",
    "    plt.show()\n",
    "else:\n",
    "    print(\"Media Type (%s).\" % (data['media_type']))"
   ]
  },
  {
   "cell_type": "code",
   "execution_count": null,
   "metadata": {},
   "outputs": [],
   "source": [
    "# Opció B: Utilitzem ipython per a visualitzar la imatge\n",
    "if data['media_type'] == \"image\":\n",
    "\n",
    "    img = IPython.display.Image(data.get('url'))\n",
    "\n",
    "else:\n",
    "\n",
    "    img = \"Media Type (%s)\" % (data['media_type'])\n",
    "\n",
    "img"
   ]
  },
  {
   "cell_type": "markdown",
   "metadata": {
    "id": "dH4PC0W5Uq4s"
   },
   "source": [
    "### Exercici 5\n",
    "\n",
    "En aquest exercici us proposem un exemple de l'ús de geopy https://geopy.readthedocs.io per extreure les dades de geolocalització.\n",
    "\n",
    "Fes servir la biblioteca **geopy** per programar dues funcions.\n",
    "\n",
    "- La primera funció ha de tenir d'entrada una string que contingui una adreça, i de sortida retornar una tupla amb la geolocalització d'aquesta adreça (Latitud, Longitud)\n",
    "- La segona funció, acceptarà d'entrada una tupla amb latitud i longitud, i aplicarà un mètode de geolocalització revers per retornar una string de l'adreça postal inferida.\n",
    "\n",
    "Executa la primera funció amb l'adreça postal \"Av. del Tibidabo, 39, 08035 Barcelona\" per trobar la latitud i longitud, després executa la segona funció per intentar inferir l'adreça postal original.\n"
   ]
  },
  {
   "cell_type": "code",
   "execution_count": null,
   "metadata": {},
   "outputs": [],
   "source": [
    "import os\n",
    "\n",
    "if os.getenv(\"COLAB_RELEASE_TAG\"):\n",
    "    %pip install geopy"
   ]
  },
  {
   "cell_type": "code",
   "execution_count": null,
   "metadata": {},
   "outputs": [],
   "source": [
    "#  Importem la biblioteca geopy\n",
    "from geopy.geocoders import Nominatim\n",
    "\n",
    "\n",
    "def address2geo(address):\n",
    "    geolocator = Nominatim(user_agent=\"test\")\n",
    "    location = geolocator.geocode(address)\n",
    "    return ((location.latitude, location.longitude))\n",
    "\n",
    "\n",
    "def geo2address(geo):\n",
    "    geolocator = Nominatim(user_agent=\"test\")\n",
    "    # Mirant la documentació tenim el mètode .reverse() per fer el que ens demanen\n",
    "    location = geolocator.reverse(geo)\n",
    "    return (location.address)"
   ]
  },
  {
   "cell_type": "code",
   "execution_count": null,
   "metadata": {},
   "outputs": [],
   "source": [
    "ad = \"Av. del Tibidabo, 39, 08035 Barcelona\""
   ]
  },
  {
   "cell_type": "code",
   "execution_count": null,
   "metadata": {},
   "outputs": [],
   "source": [
    "geo = address2geo(ad)\n",
    "print(geo)"
   ]
  },
  {
   "cell_type": "code",
   "execution_count": null,
   "metadata": {},
   "outputs": [],
   "source": [
    "newad = geo2address(geo)\n",
    "print(newad)"
   ]
  },
  {
   "cell_type": "markdown",
   "metadata": {
    "id": "NIhI4eqRgO6r"
   },
   "source": [
    "### Exercici 6\n",
    "\n",
    "\n",
    "El New Mexico Tech Seismological Observatory emmagatzema un registre d'esdeveniments sísmics recents. Aquest registre està disponible, per exemple en aquesta web.\n",
    "\n",
    "- https://geoinfo.nmt.edu/nmtso/events/home.cfml\n",
    "\n",
    "\n",
    "Fes servir `scrappy` per mostrar la informació del llistat per pantalla de les \"Date+Time (UTC)\" de cada esdeveniment de la pàgina.\n",
    "\n",
    "\n",
    "Per això:\n",
    "\n",
    "- Utilitza el tutorial de Scrappy per trobar un xpath que contingui la informació requerida.\n",
    "- Mostra la informació requerida en forma de diccionari.\n",
    "\n",
    "**Nota**:si l'execució del _crawler_ us torna un error `ReactorNotRestartable`, reinicieu el nucli del Notebook (al menú: `Kernel` - `Restart`)."
   ]
  },
  {
   "cell_type": "code",
   "execution_count": null,
   "metadata": {},
   "outputs": [],
   "source": [
    "import os\n",
    "\n",
    "if os.getenv(\"COLAB_RELEASE_TAG\"):\n",
    "    %pip install scrapy"
   ]
  },
  {
   "cell_type": "code",
   "execution_count": null,
   "metadata": {},
   "outputs": [],
   "source": [
    "import scrapy\n",
    "from scrapy.crawler import CrawlerProcess\n",
    "\n",
    "# Creem l'aranya\n",
    "\n",
    "\n",
    "class spider(scrapy.Spider):\n",
    "\n",
    "    # Un nomnombre\n",
    "    name = \"meteo_spider\"\n",
    "\n",
    "    # Indiquem la url que volem analitzar\n",
    "    start_urls = [\n",
    "        \"https://geoinfo.nmt.edu/nmtso/events/home.cfml\"\n",
    "    ]\n",
    "    # Definim el parser\n",
    "\n",
    "    def parse(self, response):\n",
    "\n",
    "        # Extraiem la informació requerida\n",
    "        xpath = '//td[1]/text()'\n",
    "        counter = 0\n",
    "        for com in response.xpath(xpath):\n",
    "            date = com.extract()\n",
    "            counter += 1\n",
    "            yield {\"event\": counter,\n",
    "                   \"date\": date}"
   ]
  },
  {
   "cell_type": "code",
   "execution_count": null,
   "metadata": {},
   "outputs": [],
   "source": [
    "# Creem el crawler\n",
    "process = CrawlerProcess({\n",
    "    'USER_AGENT': 'Mozilla/5.0 (iPad; U; CPU OS 3_2_1 like Mac OS X; en-us) AppleWebKit/531.21.10 (KHTML, like Gecko) Mobile/7B405',\n",
    "    'DOWNLOAD_HANDLERS': {'s3': None},\n",
    "    'LOG_ENABLED': True\n",
    "})\n",
    "\n",
    "# Inicialitzem l'aranya\n",
    "p = process.crawl(spider)\n",
    "\n",
    "# Llancem el procés\n",
    "process.start()"
   ]
  },
  {
   "cell_type": "code",
   "execution_count": null,
   "metadata": {},
   "outputs": [],
   "source": []
  }
 ],
 "metadata": {
  "language_info": {
   "name": "python"
  }
 },
 "nbformat": 4,
 "nbformat_minor": 0
}
