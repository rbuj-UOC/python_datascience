{
 "cells": [
  {
   "cell_type": "markdown",
   "metadata": {},
   "source": [
    "<div style=\"display: grid; grid-template-columns: repeat(2, 1fr); align-items: end;\">\n",
    "    <div>\n",
    "        <img src=\"data:image/avif;base64,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\" width=\"300\">\n",
    "    </div>\n",
    "    <div>\n",
    "        <p style=\"margin: 0; text-align:right;\">22.401 · Fonaments de Programació</p>\n",
    "        <p style=\"margin: 0; text-align:right;\">Grau en Ciència de Dades Aplicada</p>\n",
    "        <p style=\"margin: 0; text-align:right;\">Estudis d'Informàtica, Multimèdia i Telecomunicació</p>\n",
    "    </div>\n",
    "</div>"
   ]
  },
  {
   "cell_type": "markdown",
   "metadata": {
    "id": "0t3t-lPYIeZx"
   },
   "source": [
    "Fonaments de Programació\n",
    "============================\n",
    "\n",
    "---\n",
    "Unitat 5: Adquisició de dades en Python\n",
    "-----------------------------------------------------\n",
    "---\n",
    "\n",
    "# Instruccions d'ús\n",
    "\n",
    "Aquest document és un *notebook* interactiu que intercala explicacions més aviat teòriques de conceptes de programació amb fragments de codi executables. Per aprofitar els avantatges que aporta aquest format, us recomanem que, en primer lloc, llegiu les explicacions i el codi que us proporcionem. D'aquesta manera tindreu un primer contacte amb els conceptes que hi exposem. Ara bé, **la lectura és només el principi!** Una vegada hàgiu llegit el contingut, no oblideu executar el codi proporcionat i modificar-lo per crear-ne variants que us permetin comprovar que heu entès la seva funcionalitat i explorar-ne els detalls d'implementació. Per últim, us recomanem també consultar la documentació enllaçada per explorar amb més profunditat les funcionalitats dels mòduls presentats.\n",
    "\n",
    "Per tal de desar possibles modificacions que feu sobre aquest notebook, us aconsellem que munteu la unitat de Drive a Google Colaboratory (colab). Per fer-ho, heu d'executar les següents instruccions:"
   ]
  },
  {
   "cell_type": "code",
   "execution_count": null,
   "metadata": {},
   "outputs": [],
   "source": [
    "import os\n",
    "\n",
    "VERIFICA_ESTIL = False\n",
    "\n",
    "if os.getenv(\"COLAB_RELEASE_TAG\"):\n",
    "    # munta la unitat de google drive i accedeix a la carpeta de la unitat\n",
    "    from google.colab import drive\n",
    "    drive.mount('/content/drive')\n",
    "    %cd \"/content/drive/MyDrive/Colab Notebooks/python_datascience/python_1/unit_5\"\n",
    "\n",
    "# verificació de PEP8\n",
    "if VERIFICA_ESTIL:\n",
    "    if os.getenv(\"COLAB_RELEASE_TAG\"):\n",
    "        print(\"instal·lant flake8, pycodestyle i pycodestyle_magic...\")\n",
    "        %pip install pycodestyle flake8 pycodestyle_magic\n",
    "    %load_ext pycodestyle_magic\n",
    "    %pycodestyle_on"
   ]
  },
  {
   "cell_type": "markdown",
   "metadata": {
    "id": "IbIH73X7IeZz"
   },
   "source": [
    "# 1 Introducció\n",
    "\n",
    "Els processos d'adquisició de dades són molt diversos. En aquesta unitat, veurem exemples d'adquisició de dades d'internet amb tres mètodes diferents:\n",
    "\n",
    "-   descàrrega directa\n",
    "-   petició a APIs de tercers\n",
    "-   *web crawling*\n",
    "\n",
    "Pel que respecta a la interacció amb APIs de tercers, repassarem dues alternatives, la construcció manual de les peticions HTTP i l'ús de biblioteques Python.\n",
    "\n",
    "En relació amb el _web crawling_, veurem com utilitzar la biblioteca [Scrapy](https://scrapy.org/) per construir un petit _web crawler_ que capturi dades del nostre interès."
   ]
  },
  {
   "cell_type": "markdown",
   "metadata": {
    "id": "vniwI_t_IeZz"
   },
   "source": [
    "# 2 Descàrrega directa de dades\n",
    "\n",
    "La descàrrega directa del conjunt de dades és potser el mètode més senzill d'adquisició de dades i consisteix a descarregar un fitxer amb les dades d'interès ja recopilades per algun altre analista. De fet, a la unitat anterior ja hem fet servir aquest mètode per adquirir el fitxer amb les dades sobre els personatges de còmic de Marvel. Un cop\n",
    "descarregat el fitxer, el procediment per carregar-lo en Python dependrà del format concret (ja hem vist un exemple de càrrega de dades des d'un fitxer .csv).\n",
    "\n",
    "Alguns dels llocs web on podeu trobar conjunts de dades a analitzar són:\n",
    "- [Open Data gencat](http://dadesobertes.gencat.cat/), el portal de dades obertes de la Generalitat.\n",
    "- [datos.gov.es](http://datos.gob.es/es/catalogo), el catàleg de conjunts de dades del Govern d'Espanya.\n",
    "- [European Data Sources](https://data.europa.eu/), el portal de dades obertes de la Unió Europea.\n",
    "- [Mark Newman network datasets](http://www-personal.umich.edu/~mejn/netdata/), conjunts de dades en forma de xarxa recopilats per Mark Newman.\n",
    "- [Stanford Large Network Dataset Collection](http://snap.stanford.edu/data/), un altre recopilatori de conjunts de dades en forma de xarxa, en aquest cas creat per Jure Leskovec.\n",
    "- [SecRepo.com](http://www.secrepo.com/), dades relacionades amb la seguretat.\n",
    "- [AWS Public Datasets](https://aws.amazon.com/public-datasets/), conjunts de dades recopilades i hostatjades per Amazon.\n",
    "- [UC Irvine Machine Learning Repository](http://archive.ics.uci.edu/ml/), dades recopilades per un grup de recerca de la Universitat de Califòrnia, Irvine.\n",
    "- El [dipòsit de Five Thirty Eight](https://github.com/fivethirtyeight), que recull dades utilitzades a articles de la publicació i que ja hem vist a la unitat anterior."
   ]
  },
  {
   "cell_type": "markdown",
   "metadata": {
    "id": "cimvc0IeIeZ0"
   },
   "source": [
    "# 3 Petició a les API de tercers\n",
    "\n",
    "En aquest apartat definirem què és una API, descriurem les peticions i respostes HTTP que s'utilitzen per interactuar amb les API web i, finalment, presentarem els dos formats de representació de dades més utilitzades per les API web.\n",
    "\n",
    "## 3.1 El concepte d'API\n",
    "\n",
    "Una **API** (de l'anglès, *Application Programming Interface*) és un conjunt de mètodes de comunicació entre diversos components de programari.\n",
    "\n",
    "Les API faciliten el treball d'integració de programes, ja que permeten oferir una interfície clara i ben especificada amb la qual interactuar amb una aplicació, amagant-ne els detalls de la implementació i exposant únicament funcions específiques d'interès.\n",
    "\n",
    "La definició d'API és molt genèrica i podem trobar diverses API en molts contextos. En aquesta unitat, ens centrarem en l'ús de les API web per a l'adquisició de dades de serveis de tercers. Les **API web** es defineixen habitualment com un conjunt de peticions HTTP juntament amb l'especificació de l'estructura de les dades de les respostes, normalment en format JSON o XML.\n",
    "\n",
    "L'ús de les API web està molt estès actualment per interactuar amb grans proveïdors de serveis a internet. Alguns exemples d'API populars són les de [Google maps](https://developers.google.com/maps/), [YouTube](https://developers.google.com/youtube/), [Spotify](https://developer.spotify.com/web-api/), [Twitter](https://dev.twitter.com/docs) o [Facebook](https://developers.facebook.com/docs/graph-api).\n",
    "\n",
    "Diem que una API és RESTful (o, de vegades, simplement REST) quan compleix un conjunt de característiques, entre les quals destaca que no manté l'estat entre peticions. És a dir, tota la informació necessària per respondre una petició es troba en la petició individual (i no depèn de cap estat emmagatzemat pel servidor)."
   ]
  },
  {
   "cell_type": "markdown",
   "metadata": {
    "id": "PjlXeQFAdBll"
   },
   "source": [
    "## 3.2 Peticions i respostes HTTP\n",
    "\n",
    "Per interactuar amb una web API farem una petició HTTP. Al seu torn, el servidor ens respondrà amb un missatge de resposta HTTP. Les peticions i respostes HTTP s'estructuren en tres parts:\n",
    "\n",
    "* Una línia inicial de petició, que inclou l'acció que cal realitzar (el mètode de la petició) i l'URL del recurs, a les peticions; i el codi d'estat i el missatge associat, en el cas de les respostes.\n",
    "* La capçalera, que inclou metadades amb diverses finalitats, per exemple, per descriure'n el contingut, fer-ne l'autenticació o controlar les galetes (cookies).\n",
    "* Una línia en blanc que separa la capçalera del cos.\n",
    "* El cos, que pot estar buit o contenir-hi dades.\n",
    "\n",
    "En la imatge següent es mostra un exemple simplificat d'una petició i una resposta HTTP:"
   ]
  },
  {
   "cell_type": "code",
   "execution_count": null,
   "metadata": {},
   "outputs": [],
   "source": [
    "# Carreguem la biblioteca per mostrar les imatges\n",
    "from IPython import display\n",
    "display.Image(\"img/HTTP_request_response.webp\")"
   ]
  },
  {
   "cell_type": "markdown",
   "metadata": {
    "id": "CVjNMuCmIeZ0"
   },
   "source": [
    "La línia inicial de les respostes HTTP conté el codi d'estat, un nombre enter de tres xifres que informa sobre l'intent d'entendre i processar la petició HTTP. El primer dígit del nombre defineix el tipus de resposta. Actualment, existeixen cinc tipus reconeguts:\n",
    "\n",
    "* 1xx: informacional.\n",
    "* 2xx: èxit.\n",
    "* 3xx: redirecció.\n",
    "* 4xx: error del client.\n",
    "* 5xx: error del servidor.\n",
    "\n",
    "Així, quan naveguem per internet, normalment les nostres peticions es responen correctament, retornant el codi d'estat 200. De tant en tant ens trobem també amb errors del client. Per exemple, l'error 404 ens indica que la nostra màquina ha estat capaç de comunicar-se amb el servidor, però que el recurs que hem sol·licitat no existeix. Podem forçar aquest error accedint a URL no vàlides.\n",
    "\n",
    "Les accions o mètodes més usats en interacció amb API web són:\n",
    "\n",
    "* GET: permet obtenir informació del recurs especificat. Per exemple, quan s'introdueix un URL al navegador, el navegador envia una sol·licitud GET al servidor per obtenir la pàgina web corresponent.\n",
    "* POST: permet enviar dades al recurs especificat. Per exemple, quan s'envia un formulari a una pàgina web, les dades del formulari s'envien al servidor utilitzant una sol·licitud POST.\n",
    "* PUT: carrega dades actualitzant les ja existents al recurs especificat. Per exemple, si està treballant amb una API RESTful, es pot utilitzar una sol·licitud PUT per actualitzar un registre en una base de dades.\n",
    "* DELETE: elimina informació del recurs especificat. Per exemple, en treballar amb una API RESTful, es pot utilitzar una sol·licitud DELETE per eliminar un registre d'una base de dades.\n"
   ]
  },
  {
   "cell_type": "markdown",
   "metadata": {
    "id": "Fg7bCo2_IeZ0"
   },
   "source": [
    "## 3.3. JSON i XML\n",
    "\n",
    "Dos dels formats més habituals per incloure dades a les respostes de les API web són JSON i XML. Tots dos formats tenen diverses propietats en comú. En primer lloc, van ser dissenyats per ser llegits tant per humans com per ordinadors, la qual cosa els fa ideals en aquest context. En segon lloc, tots dos incorporen informació sobre l'estructura de les dades que codifiquen. Finalment, tots dos emmagatzemen les dades en text clar. No obstant això, tots dos presenten múltiples diferències.\n",
    "\n",
    "El format **XML** (de l'anglès, Extensible Markup Language) és un llenguatge de marques que utilitza un conjunt d'etiquetes no predefinit. Els documents XML tenen un únic element arrel del qual poden penjar altres elements. Els elements es delimiten amb una etiqueta inicial i una etiqueta final. Vegem un exemple d'un document XML senzill:\n",
    "\n",
    "```\n",
    "<persona>\n",
    "  <nombre>Yann</nombre>\n",
    "  <cognoms>\n",
    "    <cognom1>LeCun</cognom1>\n",
    "    <cognom2>-</cognom2>\n",
    "  </cognoms>\n",
    "  <edat>56</edat>\n",
    "</persona>\n",
    "```\n",
    "\n",
    "El format **JSON** (de l'anglès, Javascript Object Notation) és un subconjunt de la notació d'objectes Javascript. JSON es basa en dues estructures de dades, l'array i l'objecte, que serien equivalents a les llistes i diccionaris de Python que ja hem introduït.\n",
    "\n",
    "Així, un array JSON és una llista ordenada de zero o de més valors, per exemple:\n",
    "\n",
    "```\n",
    "[\"data\", \"science\", \"course\"]\n",
    "```\n",
    "\n",
    "En aquest cas, l'array està format per cadenes de caràcters.\n",
    "\n",
    "Un objecte JSON és una col·lecció no ordenada de parells de clau i valor. Per exemple:\n",
    "\n",
    "```\n",
    "{\n",
    "  \"course\": \"Data Science\",\n",
    "  \"year\": 2017\n",
    "}\n",
    "```\n",
    "\n",
    "Vegem un exemple de les dades que hem representat anteriorment en XML, fent servir ara el format JSON:\n",
    "\n",
    "```\n",
    "{\n",
    "  \"nombre\": \"Yann\",\n",
    "  \"cognoms\": {\n",
    "    \"cognom1\": \"LeCun\",\n",
    "    \"cognom2\": \"-\"\n",
    "  },\n",
    "  \"edat\" : 56\n",
    "}\n",
    "```\n",
    "\n",
    "En aquest cas, hem fet servir un objecte amb tres claus: la primera té com a valor una cadena de caràcters, la segona té com a valor un altre objecte i la tercera té com a valor un enter."
   ]
  },
  {
   "cell_type": "markdown",
   "metadata": {
    "id": "ORGratqZIeZ1"
   },
   "source": [
    "La biblioteca json de Python ens ofereix algunes funcions molt útils per a treballar en aquest format. Per exemple, podem obtenir la representació JSON d'objectes Python o crear objectes Python a partir de la seva representació en JSON."
   ]
  },
  {
   "cell_type": "code",
   "execution_count": null,
   "metadata": {},
   "outputs": [],
   "source": [
    "# Construïm un diccionari d'exemple i mostrem el tipus de dades i el\n",
    "# contingut de la variable.\n",
    "diccionari_exemple = {\"nom\": \"Yann\",\n",
    "                      \"cognoms\": {\"cognom1\": \"LeCun\", \"cognom2\": \"-\"},\n",
    "                      \"edat\": 56}\n",
    "print(type(diccionari_exemple))\n",
    "print(diccionari_exemple)\n",
    "\n",
    "# Construïm una llista d'exemple i mostrem el tipus de dades i el contingut de\n",
    "# la variable.\n",
    "llista_exemple = [1, 2, 3]\n",
    "print(type(llista_exemple))\n",
    "print(llista_exemple)"
   ]
  },
  {
   "cell_type": "code",
   "execution_count": null,
   "metadata": {},
   "outputs": [],
   "source": [
    "# Importem la biblioteca json.\n",
    "import json\n",
    "\n",
    "# Mostrem la representació JSON del diccionari mitjançant la funció dumps()\n",
    "json_dict = json.dumps(diccionari_exemple)\n",
    "print(type(json_dict))\n",
    "print(json_dict)\n",
    "\n",
    "# Mostrem la representació JSON de la llista mitjançant la funció dumps()\n",
    "json_list = json.dumps(llista_exemple)\n",
    "print(type(json_list))\n",
    "print(json_list)"
   ]
  },
  {
   "cell_type": "markdown",
   "metadata": {
    "id": "S4sgjNJlIeZ3"
   },
   "source": [
    "Fixeu-vos que, en ambdós casos, obtenim una cadena de caràcters que ens representa, en format JSON, els objectes Python. Aquest procés es coneix com a **serialitzar** l'objecte.\n",
    "\n",
    "També podem fer el procés invers (conegut com a **desserialitzar**), creant objectes Python (per exemple, llistes o diccionaris) a partir de cadenes de text en format JSON."
   ]
  },
  {
   "cell_type": "code",
   "execution_count": null,
   "metadata": {},
   "outputs": [],
   "source": [
    "# Desserialitzem la cadena 'json_dict' mitjançant la funció loads()\n",
    "diccionario_ejemplo2 = json.loads(json_dict)\n",
    "print(type(diccionario_ejemplo2))\n",
    "print(diccionario_ejemplo2)\n",
    "\n",
    "# Desserialitzem la cadena 'json_list' mitjançant la funció loads()\n",
    "lista_ejemplo2 = json.loads(json_list)\n",
    "print(type(lista_ejemplo2))\n",
    "print(lista_ejemplo2)"
   ]
  },
  {
   "cell_type": "markdown",
   "metadata": {
    "id": "bFwwdFWCIeZ3"
   },
   "source": [
    "Per millorar la llegibilitat de les dades que obtindrem de les APIs, definirem una funció que mostrarà cadenes JSON per pantalla formatades per millorar-ne la lectura. La funció acceptarà tant cadenes de caràcters amb contingut JSON com objectes Python, i mostrarà el contingut per pantalla.\n",
    "\n",
    "A més, la funció rebrà un paràmetre opcional que ens permetrà indicar el nombre màxim de línies que cal mostrar. Així, podrem fer servir la funció per a visualitzar les primeres línies d'un JSON llarg, sense haver de mostrar el JSON complet per pantalla."
   ]
  },
  {
   "cell_type": "code",
   "execution_count": null,
   "metadata": {},
   "outputs": [],
   "source": [
    "# Defineix la funció 'json_print', que té un paràmetre obligatori 'json_data' i\n",
    "# un paràmetre opcional 'limit' i no torna cap valor.\n",
    "# La funció mostra per pantalla el contingut de la variable 'json_data' en\n",
    "# format JSON, limitant el nombre de línies per mostrar si s'inclou el\n",
    "# paràmetre 'limit'.\n",
    "def json_print(json_data, limit=None):\n",
    "    if isinstance(json_data, (str)):\n",
    "        json_data = json.loads(json_data)\n",
    "    nice = json.dumps(json_data, sort_keys=True,\n",
    "                      indent=3, separators=(',', ':'))\n",
    "    print(\"\\n\".join(nice.split(\"\\n\")[0:limit]))\n",
    "    if limit is not None:\n",
    "        print(\"[...]\")"
   ]
  },
  {
   "cell_type": "markdown",
   "metadata": {
    "id": "zZPH92BfIeZ4"
   },
   "source": [
    "Vegem un exemple del resultat d'utilitzar la funció que acabem de\n",
    "definir."
   ]
  },
  {
   "cell_type": "code",
   "execution_count": null,
   "metadata": {},
   "outputs": [],
   "source": [
    "# Mostra el valor de la variable 'json_exemple' amb la funció 'print'.\n",
    "json_exemple = '{\"nom\": \"Yann\", \"cognoms\": {\"cognom1\": \"LeCun\", ' \\\n",
    "    '\"cognom2\": \"-\"}, \"edat\": 56}'\n",
    "print(json_exemple)"
   ]
  },
  {
   "cell_type": "code",
   "execution_count": null,
   "metadata": {},
   "outputs": [],
   "source": [
    "# Mostra el valor de la variable 'json_exemple' amb la funció 'json_print' que\n",
    "# acabem de definir.\n",
    "json_print(json_exemple)"
   ]
  },
  {
   "cell_type": "code",
   "execution_count": null,
   "metadata": {},
   "outputs": [],
   "source": [
    "# Mostrem únicament les tres primeres línies.\n",
    "json_print(json_exemple, 3)"
   ]
  },
  {
   "cell_type": "markdown",
   "metadata": {
    "id": "OVvYGlIFIeZ5"
   },
   "source": [
    "## 3.4 Ús d'API de tercers en Python\n",
    "\n",
    "### 3.4.1. Accés a API manualment\n",
    "\n",
    "Podem utilitzar la biblioteca de Python [Requests](http://docs.python-requests.org/) per a realitzar peticions als webs API de manera manual. Per fer-ho, haurem d'accedir a la documentació de l'API amb la qual vulguem actuar, construir manualment les peticions per obtenir la informació desitjada i processar també manualment la resposta rebuda.\n",
    "\n",
    "Vegem un exemple de petició HTTP a una API pública. El lloc http://postcodes.io/ ofereix una API de geolocalització sobre codis postals al Regne Unit. Llegint la documentació, podem veure que té un mètode GET amb l'URL\n",
    "http://api.postcodes.io/postcodes/:código-postal, que ens retorna informació del codi postal especificat."
   ]
  },
  {
   "cell_type": "code",
   "execution_count": null,
   "metadata": {},
   "outputs": [],
   "source": [
    "# Importem la biblioteca.\n",
    "import requests\n",
    "\n",
    "# Fem una petició get a l'API, preguntant sobre el codi postal \"E98 1TT\".\n",
    "# Fixeu-vos que el caràcter espai es codifica com a% 20 a la URL.\n",
    "response = requests.get('http://api.postcodes.io/postcodes/E98%201TT')\n",
    "\n",
    "# Mostrem la resposta rebuda.\n",
    "print(\"Codi d'estat de la resposta: \", response.status_code, \"\\n\")\n",
    "print(\"Capçalera de la resposta: \")\n",
    "json_print(dict(response.headers))\n",
    "print(\"\\nCos de la resposta: \")\n",
    "json_print(response.text)"
   ]
  },
  {
   "cell_type": "markdown",
   "metadata": {
    "id": "c1XliyDGIeZ6"
   },
   "source": [
    "Com podem veure, l'estat de la resposta és 200, la qual cosa [ens indica](https://www.w3.org/Protocols/rfc2616/rfc2616-sec10.html) que la petició s'ha processat correctament. Entre altres camps, la capçalera de la resposta inclou el tipus de contingut que trobarem al cos, que serà un text en format JSON. Finalment, el cos de la resposta inclou dades sobre el codi postal consultat. Per exemple, podem veure que correspon a la nació d'Anglaterra (concretament, a la ciutat de Londres).\n",
    "\n",
    "Fixeu-vos que podem visualitzar també la resposta accedint a la [mateixa URL](http://api.postcodes.io/postcodes/E98%201TT) amb un navegador web. En aquest cas, es poden instal·lar extensions específiques que gestionin la visualització millorada del JSON retornat (per exemple, [JSONView](https://chrome.google.com/webstore/detail/jsonview/chklaanhfefbnpoihckbnefhakgolnmc) per Chrome o Firefox)."
   ]
  },
  {
   "cell_type": "markdown",
   "metadata": {
    "id": "Qzv2PkJuIeZ6"
   },
   "source": [
    "### 3.4.2 Accés a API amb biblioteques de Python\n",
    "\n",
    "Encara que podríem fer servir aquest mètode per interactuar amb qualsevol API HTTP, la veritat és que quan la complexitat de les funcions disponibles incrementa (per exemple, en incloure autenticació) pot no resultar gaire pràctic. Quan vulguem accedir a les API populars, normalment trobarem que ja existeixen biblioteques de Python dissenyades per interactuar amb aquestes API, de manera que podrem obtenir dades sense necessitat de gestionar les peticions HTTP manualment.\n",
    "\n",
    "Per exemple, Spotify, la famosa plataforma de músic, té una API que permet executar tasques com buscar i obtenir informació sobre artistes, àlbums, pistes, llistes de reproducció, obtenir recomanacions de música, accedir a dades d'àudio, entre altres coses. Per interaccionar amb aquesta API, utilitzarem la biblioteca de Python [Spotipy](https://spotipy.readthedocs.io/en/2.22.1/).\n",
    "\n",
    "#### Autenticació amb l'API de Spotify\n",
    "\n",
    "Per utilitzar l'API de Spotify, necessiteu obtenir credencials d'autenticació. Per això, us haureu de registrar com a desenvolupador al lloc web de Spotify i crear una aplicació. Després de crear-la, obtindreu un *Client ID* i un *Client Secret* que s'utilitzaran per autenticar-se a l'API.\n",
    "\n",
    "En aquesta secció, descriurem com obtenir credencials per accedir a l'API de Spotify.\n",
    "\n",
    "Per començar, cal disposar d'un compte a Spotify (gratuït o prèmium). Podeu utilitzar el vostre compte personal, si ja en disposeu d'un, per a sol·licitar els permisos de desenvolupador que ens permetran interactuar amb l'API. En cas contrari (o si preferiu no fer servir el vostre compte personal), podeu crear-vos un compte nou.\n",
    "\n",
    "El procés per a crear un nou compte és molt senzill:\n",
    "1. Accedir a [Spotify] (https://open.spotify.com/).\n",
    "2. Prémer sobre *Sign up* i seguir les indicacions per completar el registre.\n",
    "\n",
    "Després, caldrà crear una nova App i obtenir les credencials per connectar-se a la API. Per fer-ho, cal seguir els següents passos explicats al [tutorial](https://developer.spotify.com/documentation/web-api/tutorials/getting-started):\n",
    "\n",
    "1. Accediu al [panell de desenvolupadors de Spotify](https://developer.spotify.com/documentation/web-api).\n",
    "2. Accediu al dashboard de desenvolupadors (https://developer.spotify.com/dashboard). En aquest pas és possible que us faci verificar el correu electrònic.\n",
    "\n",
    "**Creació App**\n",
    "1. Cliqueu sobre *Create App* per a crear una nova App.\n",
    "2. Ompliu el formulari amb els detalls de l'aplicació. En concret, necessitareu proporcionar com a mínim els camps:\n",
    "    * *App name*\n",
    "    * *Application description*\n",
    "    * *Redirect URl*\n",
    "    * *APIs used*\n",
    "Poseu el nom i la descripció que vulgueu per l'App. En l'opció de *Redirect URl* poseu: http://localhost:3000. Per acabar, marqueu l'opció *Web API*.\n",
    "\n",
    "3. Accepteu els termes i les condicions i cliqueu *Save*.\n",
    "\n",
    "**Tokens d'accés**\n",
    "\n",
    "A continuació, s'ha de demanar un *token* d'accés.\n",
    "1. En el panell de l'App que acabeu de crear, aneu a l'apartat de *Settings*. Allà trobareu el *Client ID* i el *Client Secret* (aquest últim apareix en clicar sobre *View client secret*).\n",
    "\n",
    "Quan tingueu les credencials, ja podeu començar a utilitzar l'API de Spotify a Python."
   ]
  },
  {
   "cell_type": "markdown",
   "metadata": {
    "id": "cKOSwzGGIeZ6"
   },
   "source": [
    "#### La biblioteca Spotipy\n",
    "\n",
    "[Spotipy](https://pypi.org/project/spotipy/) ens permet interactuar amb l'API de Spotify d'una manera senzilla, ja que encapsula els mètodes HTTP de l'API en mètodes de Python, que poden ser cridats directament. Trobareu la documentació de la biblioteca en el següent [enllaç](https://spotipy.readthedocs.io/en/2.22.1/)."
   ]
  },
  {
   "cell_type": "code",
   "execution_count": null,
   "metadata": {},
   "outputs": [],
   "source": [
    "import os\n",
    "\n",
    "if os.getenv(\"COLAB_RELEASE_TAG\"):\n",
    "    # Primer de tot, hem d'instal·lar la biblioteca spotipy\n",
    "    %pip install spotipy"
   ]
  },
  {
   "cell_type": "code",
   "execution_count": null,
   "metadata": {},
   "outputs": [],
   "source": [
    "# Importem la biblioteca spotipy\n",
    "import spotipy\n",
    "from spotipy.oauth2 import SpotifyClientCredentials\n",
    "\n",
    "try:\n",
    "    from google.colab import userdata\n",
    "    spotipy_client_id = userdata.get('SPOTIPY_CLIENT_ID')\n",
    "    spotipy_client_secret = userdata.get('SPOTIPY_CLIENT_SECRET')\n",
    "except:\n",
    "    from dotenv import load_dotenv\n",
    "    import os\n",
    "    load_dotenv('.env')\n",
    "    spotipy_client_id = os.getenv(\"SPOTIPY_CLIENT_ID\")\n",
    "    spotipy_client_secret = os.getenv(\"SPOTIPY_CLIENT_SECRET\")\n",
    "\n",
    "# Ens connectem a l'API de Spotify amb les nostres credencials\n",
    "sp = spotipy.Spotify(client_credentials_manager=SpotifyClientCredentials(\n",
    "    client_id=spotipy_client_id,\n",
    "    client_secret=spotipy_client_secret))\n",
    "\n",
    "# Buscarem informació sobre un artista\n",
    "artist_name = 'Metallica'\n",
    "results = sp.search(q='artist:' + artist_name, type='artist')\n",
    "artists = results['artists']['items']\n",
    "\n",
    "if artists:\n",
    "    artist = artists[0]\n",
    "    print(\"Nom de l'artista:\", artist['name'])\n",
    "else:\n",
    "    print(\"No s'ha trobat l'artista.\")"
   ]
  },
  {
   "cell_type": "markdown",
   "metadata": {
    "id": "OZhGSB-_IeZ7"
   },
   "source": [
    "Fixeu-vos que, en aquest cas, no hem hagut de gestionar les peticions HTTP manualment: la biblioteca ho ha fet per nosaltres de forma transparent.\n",
    "\n",
    "A més, les funcions de la biblioteca ens tornen directament objectes Python, que poden ser usats com qualsevol altre. Per exemple, podem seleccionar només una part de les respostes de les API segons el nostre interès (en l'exemple anterior, hem seleccionat l'identificador i el nom d'usuari directament usant l'objecte `artist`). Vegem alguns exemples més d'atributs que hem recuperat de l'artista:"
   ]
  },
  {
   "cell_type": "code",
   "execution_count": null,
   "metadata": {},
   "outputs": [],
   "source": [
    "# Mostrem alguns atributs de l'artista\n",
    "print(\"El número de seguidors és: {}\".format(artist['followers']['total']))\n",
    "print(\"El gènere és: {}\".format(artist['genres'][0]))"
   ]
  },
  {
   "cell_type": "markdown",
   "metadata": {
    "id": "SeCJTxocIeZ7"
   },
   "source": [
    "# 4 Obtenció de dades a partir de *web crawling*\n",
    "\n",
    "De vegades ens interessarà capturar dades que es troben a internet, però per les quals no existeix una API que ens permeti accedir-hi de forma estructurada. En aquests casos, una alternativa és programar una aranya (en anglès, un _**web crawler**_), un programa que analitza pàgines web de forma automàtica a la recerca del contingut d'interès.\n",
    "\n",
    "El procediment essencial d'un _web crawler_ consisteix a explorar una determinada pàgina web a la recerca de dades d'interès, que s'emmagatzemaran per al seu ús posterior, i enllaços a altres pàgines web d'interès, que seran explorades posteriorment pel mateix _crawler_, a la recerca de noves dades d'interès i noves pàgines.\n",
    "\n",
    "Per obtenir tant les dades com els enllaços d'interès, el _web crawler_ utilitza un analitzador sintàctic (en anglès, _**parser**_), que processa l'HTML de la pàgina web i n'extreu les dades."
   ]
  },
  {
   "cell_type": "markdown",
   "metadata": {
    "id": "ZPjOEs52IeZ7"
   },
   "source": [
    "## 4.1 HTML\n",
    "\n",
    "El format **HTML** (de l'anglès, _Hypertext Markup Language_) és el llenguatge de marques estàndard per descriure la presentació de pàgines web. De la mateixa manera que XML, utilitza (majoritàriament) una etiqueta inicial i una final per indicar elements. A diferència d'XML, les etiquetes es troben prefixades per un estàndard.\n",
    "\n",
    "A més de senyalitzar l'inici i el final d'un element, les etiquetes HTML poden incloure atributs, que permeten proporcionar informació addicional sobre els elements.\n",
    "\n",
    "Vegem un exemple d'un document HTML senzill:\n",
    "\n",
    "```\n",
    "<html>\n",
    "  <head>\n",
    "    <title>El título de la página</title>\n",
    "  </head>\n",
    "  <body>\n",
    "    <div class=\"clase1\" id =”id1”>\n",
    "       <p> Un texto </p>\n",
    "    </div>\n",
    "    <div class=\"clase1\" id =”id2”>\n",
    "       <p> Otro texto </p>\n",
    "    </div>\n",
    "  </body>\n",
    "</html>\n",
    "```"
   ]
  },
  {
   "cell_type": "markdown",
   "metadata": {
    "id": "MXo1H6EMIeZ8"
   },
   "source": [
    "## 4.2 _Web crawling_ en Python amb Scrapy\n",
    "\n",
    "[Scrapy](https://scrapy.org/) és una biblioteca de Python que proveeix d'un _framework_ per a l'extracció de dades de pàgines web. Scrapy és molt complet i disposa de múltiples funcionalitats, però en veurem un exemple senzill d'ús.\n",
    "\n",
    "Suposem que volem obtenir un llistat dels àmbits de les titulacions que ofereix la UOC. La UOC no ofereix una API amb aquesta informació, però sí que podem trobar-la a la pàgina <https://www.uoc.edu/portal/es/universitat/estudis-centres-recerca/index.html>.\n",
    "\n",
    "De totes maneres, no volem anar copiant manualment els noms de tots els àmbits per obtenir el llistat d'interès, per la qual cosa desenvoluparem un petit _crawler_ que obtingui aquestes dades per nosaltres.\n",
    "\n",
    "Ja tenim identificada l'URL que volem explorar (<https://www.uoc.edu/portal/es/universitat/estudis-centres-recerca/index.html>), així que només caldrà identificar on es troben les dades d'interès dins de la pàgina. Per fer-ho, en primer lloc, ens fixarem en algun títol de grau que aparegui a la pàgina, per exemple, \"Estudios de Artes y Humanidades\" o \"Estudios de Ciencias de la Información y de la Comunicación\". Seguidament accedirem al codi font de la pàgina (podem fer servir la combinació de tecles `CTRL + u` als navegadors Firefox o Chrome) i buscarem els noms dels graus que hem vist anteriorment:"
   ]
  },
  {
   "cell_type": "markdown",
   "metadata": {
    "id": "aOlvAeFS2nS-"
   },
   "source": [
    "```\n",
    "<h3 id=\"card-title-1682057768418\" class=\"h3 card-title\">\n",
    "  <a href=\"/portal/es/estudis_arees/arts_humanitats/index.html\" target=\"_blank\">\n",
    "        Estudios de Artes y Humanidades\n",
    "    <span class=\"absolute-link\" aria-hidden=\"true\">\n",
    "    </span>\n",
    "  </a>\n",
    "</h3>\n",
    "```"
   ]
  },
  {
   "cell_type": "raw",
   "metadata": {
    "id": "Nd_8JhuHIeZ8"
   },
   "source": [
    "```\n",
    "<h3 id=\"card-title-1682057768482\" class=\"h3 card-title\">\n",
    "  <a href=\"/portal/es/estudis_arees/ciencies_informacio_comunicacio/index.html\" target=\"_blank\">\n",
    "        Estudios de Ciencias de la Información y de la Comunicación\n",
    "    <span class=\"absolute-link\" aria-hidden=\"true\">\n",
    "    </span>\n",
    "  </a>\n",
    "</h3>\n",
    "```"
   ]
  },
  {
   "cell_type": "markdown",
   "metadata": {
    "id": "qYZyKndKIeZ8"
   },
   "source": [
    "Com es pot apreciar, les dades que volem recopilar (els noms dels àmbits que ofereix la UOC) es troben en forma de text dintre de l'element h3 que té l'atribut classe fixat a «h3 card-title».\n",
    "\n",
    "Per a indicar que volem seleccionar aquestes dades, utilitzarem la sintaxi XPath. En concret, utilitzarem l'expressió"
   ]
  },
  {
   "cell_type": "raw",
   "metadata": {
    "id": "lwo0dquAIeaF"
   },
   "source": [
    "`//h3[@class=\"h3 card-title\"]//*/text()`"
   ]
  },
  {
   "cell_type": "markdown",
   "metadata": {
    "id": "3fkhxIimIeaF"
   },
   "source": [
    "que ens indica que volem seleccionar totes les etiquetes `<h3>` que tinguin com a atribut classe el valor «h3 card-title» i extreure'n el text. Com hi ha diversos elements amb aquestes característiques, especifiquem que els volem tots amb `//*/`. Amb això ja podem programar la nostra aranya perquè n'extregui les dades d'interès.\n",
    "\n",
    "L'estructura d'un _crawler_ amb Scrapy ve prefixada. En el nostre cas, només serà necessari definir una aranya i incloure un _parser_ que extregui les dades dels àmbits i que disposi de l'URL d'inici."
   ]
  },
  {
   "cell_type": "markdown",
   "metadata": {
    "id": "PbXqBj9gIeaF"
   },
   "source": [
    "Abans de veure l'estructura d'un crawler, hem d'instal·lar Scrapy a colab amb:"
   ]
  },
  {
   "cell_type": "code",
   "execution_count": null,
   "metadata": {},
   "outputs": [],
   "source": [
    "import os\n",
    "\n",
    "if os.getenv(\"COLAB_RELEASE_TAG\"):\n",
    "    %pip install scrapy"
   ]
  },
  {
   "cell_type": "code",
   "execution_count": null,
   "metadata": {},
   "outputs": [],
   "source": [
    "# Importem Scrapy.\n",
    "import scrapy\n",
    "from scrapy.crawler import CrawlerProcess\n",
    "\n",
    "\n",
    "class uoc_spider(scrapy.Spider):\n",
    "\n",
    "    # Assignem un nom a l'aranya.\n",
    "    name = \"uoc_spider\"\n",
    "\n",
    "    # Indiquem l'URL que volem analitzar en primer lloc.\n",
    "    start_urls = [\n",
    "        \"https://www.uoc.edu/portal/es/universitat/estudis-centres-recerca/index.html\"\n",
    "    ]\n",
    "\n",
    "    # Definim l'analitzador.\n",
    "    def parse(self, response):\n",
    "        # Extraiem el títol del grau.\n",
    "        for ambito in response.xpath('//h3[@class=\"h3 card-title\"]//*/text()'):\n",
    "            yield {\n",
    "                'Ambito': ambito.extract()\n",
    "            }"
   ]
  },
  {
   "cell_type": "markdown",
   "metadata": {
    "id": "YinH-OuQIeaO"
   },
   "source": [
    "Un cop definida l'aranya, llançarem el _crawler_ indicant que volem que usi l'aranya `uoc_spider` que acabem de definir:"
   ]
  },
  {
   "cell_type": "code",
   "execution_count": null,
   "metadata": {},
   "outputs": [],
   "source": [
    "if __name__ == \"__main__\":\n",
    "\n",
    "    # Creem un crawler:\n",
    "    process = CrawlerProcess({\n",
    "        'USER_AGENT': 'Mozilla/5.0 (Windows NT 10.0; WOW64) AppleWebKit/537.36 (KHTML, like Gecko) Chrome/109.0.0.0 Safari/537.36',\n",
    "        'DOWNLOAD_HANDLERS': {'s3': None},\n",
    "        'LOG_ENABLED': True,\n",
    "        'LOG_LEVEL': 'INFO'\n",
    "    })\n",
    "\n",
    "    # Inicialitzem el crawler amb la nostra aranya:\n",
    "    process.crawl(uoc_spider)\n",
    "\n",
    "    # Llancem l'aranya:\n",
    "    process.start()"
   ]
  },
  {
   "cell_type": "markdown",
   "metadata": {
    "id": "U8g_o_RnIeab"
   },
   "source": [
    "L'execució de Scrapy mostra un registre detallat amb tots els esdeveniments que han anat passant, fet que és molt útil per identificar problemes, sobretot en captures complexes. En el nostre cas, a més, podem veure com s'han extret els noms dels diferents àmbits de les titulacions de la UOC."
   ]
  },
  {
   "cell_type": "markdown",
   "metadata": {
    "id": "ocNEaCgsNisk"
   },
   "source": [
    "## 4.3 _Web crawling_ en Python amb BeautifulSoup\n",
    "\n",
    "Una altra opció per poder extreure dades de pàgines web a partir dels seus fitxers HTML o XML és utilitzar la biblioteca Beautiful Soup. És una eina popular per fer web scraping, ja que té una sintaxi més senzilla que Scrapy.\n",
    "\n",
    "La biblioteca Beautiful Soup analitza l'HTML (o XML) d'una pàgina web i el converteix en un conjunt d'objectes Python que podeu navegar i manipular fàcilment. Permet cercar, filtrar i modificar els elements HTML d'una manera senzilla i eficient.\n",
    "\n",
    "A continuació repetirem l'extracció que hem fet a l'apartat anterior amb `Scrapy`, però amb `BeautifulSoup`.\n",
    "\n",
    "Primer de tot, utilitzem la biblioteca `requests` per obtenir el contingut HTML de la pàgina web que volem analitzar. A continuació, creem un objecte `BeautifulSoup` passant el contingut HTML que hem obtingut i un parser (en aquest cas, en tractar-se d'un fitxer HTML especifiquem html.parser).\n",
    "\n",
    "Si mostrem per pantalla el contingut de l'objecte `soup` veurem tota la informació de la pàgina HTML."
   ]
  },
  {
   "cell_type": "code",
   "execution_count": null,
   "metadata": {},
   "outputs": [],
   "source": [
    "# Carreguem les biblioteques necessàries\n",
    "import requests\n",
    "from bs4 import BeautifulSoup\n",
    "import pprint\n",
    "\n",
    "# Especifiquem la URL\n",
    "URL = \"https://www.uoc.edu/portal/es/universitat/estudis-centres-recerca/\" \\\n",
    "    \"index.html\"\n",
    "\n",
    "# obtenim la resposta y el contingut de la URL\n",
    "response = requests.get(URL)\n",
    "# print(\"----------------- header -----------------\")\n",
    "# pprint.pp(dict(response.headers))\n",
    "soup = BeautifulSoup(response.content, 'html.parser')\n",
    "\n",
    "# Descomentar per veure el contingut de soup\n",
    "# print(\"----------------- content -----------------\")\n",
    "# print(soup.prettify())"
   ]
  },
  {
   "cell_type": "markdown",
   "metadata": {
    "id": "GWB5K8tBNk2-"
   },
   "source": [
    "Com ja hem vist a l'anterior apartat, la informació que ens interessa està dintre de l'element h3 card-title. També sabem que hi ha diferents àmbits que volem recollir, i que tots segueixen la mateixa estructura (el nom es troba en forma de text dintre d'aquest element h3). Per això, utilitzarem la funció `find_all` per guardar aquests elements en una llista `ambits`.\n",
    "\n",
    "Si mostrem el contingut d'aquesta llista, podem veure que cada element conté la informació HTML d'un àmbit."
   ]
  },
  {
   "cell_type": "code",
   "execution_count": null,
   "metadata": {},
   "outputs": [],
   "source": [
    "ambits = soup.find_all('h3', class_='h3 card-title')\n",
    "print(ambits[0])\n",
    "print(ambits[1])"
   ]
  },
  {
   "cell_type": "markdown",
   "metadata": {
    "id": "lT-EsHH5Pj4T"
   },
   "source": [
    "Però en aquest cas només volem el nom, així que podem iterar sobre la llista i mostrar el text de cada element."
   ]
  },
  {
   "cell_type": "code",
   "execution_count": null,
   "metadata": {},
   "outputs": [],
   "source": [
    "for g in ambits:\n",
    "    # .strip() es fa servir per eliminar espais innecessaris\n",
    "    ambit = g.text.strip()\n",
    "    print(ambit)"
   ]
  },
  {
   "cell_type": "markdown",
   "metadata": {
    "id": "9AbuDwG7Ieaf"
   },
   "source": [
    "# 5 Exercicis i preguntes teòriques\n",
    "\n",
    "La part avaluable d'aquesta unitat consisteix en el lliurament d'un fitxer IPython Notebook amb extensió IPYNB que contindrà els diferents exercicis i les preguntes teòriques que s'han de contestar. Trobareu el fitxer (`prog_datasci_5_python_entrega.ipynb`) amb les activitats a la mateixa carpeta que aquest notebook que esteu llegint.\n",
    "\n",
    "## 5.1 Instruccions importants\n",
    "\n",
    "És molt important que a l'hora de lliurar el fitxer Notebook amb les vostres activitats us assegureu que:\n",
    "\n",
    "    1. Les vostres solucions siguin originals. Esperem no detectar-hi còpia directa entre estudiants.\n",
    "    2. Tot el codi estigui correctament documentat. El codi sense documentar equivaldrà a un 0.\n",
    "    3. El fitxer comprimit que lliureu és correcte (conté les activitats de la PAC que heu de lliurar).\n",
    "    \n",
    "Per fer el lliurament, heu d'anar a la carpeta del drive Colab Notebooks, clicant botó dret a la PAC en qüestió i fent Download. D'aquesta manera baixareu la carpeta de la PAC comprimida en zip. Aquest és el fitxer que heu de pujar al campus de virtual de l'assignatura.\n"
   ]
  },
  {
   "cell_type": "markdown",
   "metadata": {
    "id": "a5GIyl4TIeaf"
   },
   "source": [
    "# 6 Bibliografia\n",
    "\n",
    "Per obtenir més informació sobre els formats de dades presentats en aquesta unitat, podeu consultar el w3schools ([JSON](https://www.w3schools.com/js/js_json_intro.asp), [XML](https://www.w3schools.com/xml/) i [HTML](https://www.w3schools.com/html/))."
   ]
  },
  {
   "cell_type": "markdown",
   "metadata": {
    "id": "X4568mYwIeag"
   },
   "source": [
    "# 7 Annex: L'API de googlemaps\n",
    "\n",
    "Aquest annex conté un exemple addicional d'accés a API amb biblioteques de Python. En concret, l'exemple mostra com accedir a l'API de googlemaps. En el passat, l'ús d'aquesta API era gratuït, però actualment l'ús de l'API té múltiples restriccions i, tot i que es poden fer algunes peticions gratuïtament, és necessari proporcionar dades de la nostra targeta de crèdit per poder interactuar amb l'API. Podeu revisar el codi d'aquest exemple per tenir un exemple més de l'ús de biblioteques per accedir a les API, o bé crear un compte a la plataforma de google developers i provar els exemples proporcionats. En aquest últim cas, recordeu revisar la política de cobrament de googlemaps, per assegurar que no sobrepasseu el límit gratuït, abans de dur a terme les proves.\n",
    "\n",
    "Google maps disposa d'un [conjunt d'API](https://developers.google.com/maps/) molt populars que permeten, entre d'altres, obtenir les coordenades geogràfiques d'una adreça, aconseguir indicacions per desplaçar-se d'un punt a un altre, o adquirir dades sobre l'elevació del terreny a qualsevol punt del món. La biblioteca [googlemaps](https://googlemaps.github.io/google-maps-services-python/docs/2.4.6/) integra peticions a l'API de Google en codi Python.\n",
    "\n",
    "Per fer servir les API de Google Maps, cal registrar un usuari i obtenir una clau d'autenticació, que adjuntarem a les peticions que es facin contra l'API. A més, haurem d'especificar quines APIs concretes farem servir.\n",
    "\n",
    "A l'exemple següent, farem aquests tres passos per obtenir la clau d'autenticació:\n",
    "\n",
    "1.  Crearem un projecte a la plataforma de Google Developers.\n",
    "2.  Activarem les API desitjades.\n",
    "3.  Sol·licitarem credencials d'accés.\n",
    "\n",
    "En primer lloc, crearem un nou projecte a l'entorn de desenvolupadors de google. Ens dirigirem a: <https://console.developers.google.com/apis/library> i farem clic sobre «Project: New project». Assignarem un nom qualsevol al projecte i confirmarem la creació clicant sobre «Create».\n",
    "\n",
    "Un cop creat el projecte, activarem les API que farem servir. Primer, seleccionarem l'API de geocodificació ([*Google Maps Geocoding API*](https://console.developers.google.com/apis/api/geocoding_backend)), que es troba a la categoria *Google Maps APIs* (és possible que hagueu de prémer sobre el botó «more» per veure la llista completa de les API). Farem clic sobre «Enable» per activar-la.\n",
    "\n",
    "Repetirem el procés per a l'API d'adreces ([*Google Maps Directions API*](https://console.developers.google.com/apis/api/directions_backend)), que es troba també a la categoria *Google Maps APIs*.\n",
    "\n",
    "Finalment, farem clic sobre el menú «Credentials», indicarem «Create credentials» i escollirem «API Key». Ens apareixerà una finestra amb una cadena de caràcters que representa la nostra clau. Perquè l'exemple següent funcioni, **cal que assigneu a la variable `api_key` el valor de la vostra clau**."
   ]
  },
  {
   "cell_type": "code",
   "execution_count": null,
   "metadata": {},
   "outputs": [],
   "source": [
    "import os\n",
    "\n",
    "if os.getenv(\"COLAB_RELEASE_TAG\"):\n",
    "    %pip install googlemaps"
   ]
  },
  {
   "cell_type": "code",
   "execution_count": null,
   "metadata": {},
   "outputs": [],
   "source": [
    "from datetime import datetime\n",
    "# Importem la biblioteca googlemaps, que interactuarà amb l'API de Google Maps.\n",
    "import googlemaps\n",
    "# Importem la biblioteca logging per a controlar els missatges de registre.\n",
    "import logging\n",
    "\n",
    "# Establim el nivell de logging per evitar mostrar missatges informatius.\n",
    "logging.getLogger(\"requests\").setLevel(logging.WARNING)\n",
    "logging.getLogger(\"urllib3\").setLevel(logging.WARNING)\n",
    "logging.getLogger(\"urllib3.connectionpool\").setLevel(logging.WARNING)\n",
    "logging.getLogger(\"urllib3.util.retry\").setLevel(logging.WARNING)\n",
    "logging.getLogger(\"googlemaps.client\").setLevel(logging.WARNING)\n",
    "\n",
    "try:\n",
    "    from google.colab import userdata\n",
    "    google_maps_api_key = userdata.get(\"GOOGLE_MAPS_API_KEY\")\n",
    "except:\n",
    "    from dotenv import load_dotenv\n",
    "    import os\n",
    "    load_dotenv('.env')\n",
    "    google_maps_api_key = os.getenv(\"GOOGLE_MAPS_API_KEY\")\n",
    "\n",
    "# Inicialitzem el client, indicant la clau d'autenticació,\n",
    "gmaps = googlemaps.Client(key=google_maps_api_key)"
   ]
  },
  {
   "cell_type": "markdown",
   "metadata": {
    "id": "VbhJct8AIeah"
   },
   "source": [
    "En primer lloc, farem servir l'[API de geocodificació](https://developers.google.com/maps/documentation/geocoding/start) per obtenir dades d'una adreça per mitjà del mètode [Geocode](https://googlemaps.github.io/google-maps-services-python/docs/2.4.6/#googlemaps.Client.geocode)\n",
    "del client de Google Maps que ens ofereix la biblioteca (emmagatzemat a la variable `gmaps`)."
   ]
  },
  {
   "cell_type": "code",
   "execution_count": null,
   "metadata": {},
   "outputs": [],
   "source": [
    "# Utilitzem l'API de geocodificació per obtenir dades d'una adreça.\n",
    "geocode_result = gmaps.geocode('Rambla del Poblenou, 156, Barcelona')\n",
    "print(\"------ Resultat de geocode ------\")\n",
    "json_print(geocode_result, 20)"
   ]
  },
  {
   "cell_type": "markdown",
   "metadata": {
    "id": "gnOX_rSuIeah"
   },
   "source": [
    "Un altre exemple de l'ús de l'[API de geocodificació](https://developers.google.com/maps/documentation/geocoding/start) utilitza el mètode [reverse_geocode](https://googlemaps.github.io/google-maps-services-python/docs/2.4.6/#googlemaps.Client.reverse_geocode) per obtenir informació sobre unes coordenades geogràfiques concretes:"
   ]
  },
  {
   "cell_type": "code",
   "execution_count": null,
   "metadata": {},
   "outputs": [],
   "source": [
    "# Obtenim dades sobre unes coordenades geogràfiques.\n",
    "reverse_geocode_result = gmaps.reverse_geocode((41.2768089, 1.9884642))\n",
    "print(\"------ Resultat de reverse geocode ------\")\n",
    "json_print(reverse_geocode_result, 20)"
   ]
  },
  {
   "cell_type": "markdown",
   "metadata": {
    "id": "uRZKTAJIIeai"
   },
   "source": [
    "L'exemple següent interactua amb l'[API d'adreces](https://developers.google.com/maps/documentation/directions/)\n",
    "fent servir el mètode [_directions_](https://googlemaps.github.io/google-maps-services-python/docs/2.4.6/#googlemaps.Client.directions) de la biblioteca googlemaps de Python, per obtenir indicacions de\n",
    "desplaçament entre dos punts."
   ]
  },
  {
   "cell_type": "code",
   "execution_count": null,
   "metadata": {},
   "outputs": [],
   "source": [
    "# Obtenim indicacions sobre com anar d'una adreça a una altra, considerant el\n",
    "# trànsit del moment actual.\n",
    "now = datetime.now()\n",
    "directions_result = gmaps.directions(\"Carrer Colom, 114, Terrassa\",\n",
    "                                     \"Carrer Sant Antoni, 1, Salt\",\n",
    "                                     mode=\"transit\",\n",
    "                                     departure_time=now)\n",
    "print(\"------ Resultat de directions ------\")\n",
    "json_print(directions_result, 15)"
   ]
  },
  {
   "cell_type": "markdown",
   "metadata": {
    "id": "2Oq1Qf3SIeai"
   },
   "source": [
    "Fixeu-vos que, en aquest cas, no hem hagut de gestionar les peticions HTTP manualment: la biblioteca ho ha fet per nosaltres de manera transparent.\n",
    "\n",
    "A més, les funcions de la biblioteca ens tornen directament objectes Python, que es poden fer servir com qualsevol altre. Per exemple, podem seleccionar només una part de les respostes de les API segons el nostre interès:"
   ]
  },
  {
   "cell_type": "code",
   "execution_count": null,
   "metadata": {},
   "outputs": [],
   "source": [
    "# Mostrem les claus del diccionari que retorna la crida a geocode.\n",
    "geocode_result[0].keys()"
   ]
  },
  {
   "cell_type": "code",
   "execution_count": null,
   "metadata": {},
   "outputs": [],
   "source": [
    "# Mostrem únicament les coordenades geogràfiques de la direcció d'interès.\n",
    "geocode_result[0][\"geometry\"][\"location\"]"
   ]
  },
  {
   "cell_type": "code",
   "execution_count": null,
   "metadata": {},
   "outputs": [],
   "source": [
    "# Mostrem les localitzacions properes a les coordenades geogràfiques que hem preguntat amb 'reverse_geocode',\n",
    "# tot imprimint-ne les coordenades exactes i l'adreça.\n",
    "for result in reverse_geocode_result:\n",
    "    print(result[\"geometry\"][\"location\"], result[\"formatted_address\"])"
   ]
  },
  {
   "cell_type": "code",
   "execution_count": null,
   "metadata": {},
   "outputs": [],
   "source": [
    "# Mostrem únicament la distància del trajecte entre els dos punts preguntats a l'API d'adreces.\n",
    "print(directions_result[0][\"legs\"][0][\"distance\"])"
   ]
  },
  {
   "cell_type": "markdown",
   "metadata": {
    "id": "49L1-PZtIeak"
   },
   "source": [
    "# Autors\n",
    "\n",
    "- Autor original **Cristina Pérez Solà**, 2017.\n",
    "- Actualitzat per **Cristina Pérez Solà**, 2019.\n",
    "- Actualitzat per **Alexandra Abós Ortega**, 2024."
   ]
  },
  {
   "cell_type": "markdown",
   "metadata": {
    "id": "4fqTRIgUIeak"
   },
   "source": [
    "<img src=\"data:image/avif;base64,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\" width=\"100\">"
   ]
  }
 ],
 "metadata": {
  "language_info": {
   "name": "python"
  }
 },
 "nbformat": 4,
 "nbformat_minor": 4
}
