{
 "cells": [
  {
   "cell_type": "code",
   "execution_count": null,
   "metadata": {},
   "outputs": [],
   "source": [
    "from IPython.display import display, Image\n",
    "\n",
    "url_imagen = 'https://www.uoc.edu/portal/_resources/common/imatges/marca_UOC/llibre-estil/logo-UOC-2linies.png'\n",
    "display(Image(url=url_imagen))"
   ]
  },
  {
   "cell_type": "markdown",
   "metadata": {
    "id": "nQpjLjBnHRS7"
   },
   "source": [
    "Fonaments de programació\n",
    "============================\n",
    "\n",
    "---\n",
    "\n",
    "Tutorial de creació d'expressions *xpath*\n",
    "-----------------------------------------------------\n",
    "\n",
    "---"
   ]
  },
  {
   "cell_type": "code",
   "execution_count": null,
   "metadata": {},
   "outputs": [],
   "source": [
    "# Muntem la unitat Drive per accedir als fitxers de Google Drive\n",
    "from google.colab import drive\n",
    "drive.mount('/content/drive')\n",
    "\n",
    "# Especifiquem la ruta fins a la carpeta on tenim els fitxers de la Unitat 5\n",
    "%cd /content/drive/MyDrive/Colab_Notebooks/prog_datasci_5\n",
    "\n",
    "# Carreguem la llibreria per mostrar les imatges\n",
    "from IPython import display"
   ]
  },
  {
   "cell_type": "markdown",
   "metadata": {
    "id": "0ftdXVSIjk54"
   },
   "source": [
    "# Pàgines web i HTML\n",
    "\n",
    "En aquest tutorial veurem els conceptes bàsics de pàgines web que ens ajudaran a desenvolupar *crawlers* amb scrapy, en especial, a desenvolupar el *parser*, que és la part del *crawler* que selecciona, de cada pàgina, quines dades ens interessa guardar.\n",
    "\n",
    "L'esquelet d'una pàgina web està escrit en HTML (*Hypertext Markup Language*), un llenguatge de marques que permet construir documents estructurats mitjanant la definició de diversos elements.\n",
    "Els elements estan delimitats per *tags* (`<tag_name>`) i cada *tag* té una funcionalitat o propòsit associat.\n",
    "Per exemple, `<header>` s'utilitza per definir l'encapçalament de la pàgina, mentre que `<body>` s'utilitza per definir-ne el cos principal.\n",
    "Existeixen diversos *tags* amb funcionalitat diversa: `<a>`, `<img>`, `<p>`, ... D'altra banda, els *tags* poden tenir propietats associades, com pot ser el seu identificador (`id`) o la seva classe (`class`).\n",
    "\n",
    "En primer lloc, començarem per veure quina és la correspondència entre els elements que podem veure a una pàgina i el seu codi HTML. Per a això, farem ús de les eines de desenvolupador del navegador.\n",
    "En segon lloc, un cop identificat el codi HTML que ens interessa, veurem com podem derivar expressions **xpath** per seleccionar-lo, a més de com podem refinar aquestes expressions i provar-les.\n",
    "\n",
    "# Eines de desenvolupador al navegador\n",
    "\n",
    "La majoria de navegadors moderns, sinó tots, venen amb eines de desenvolupador que ens permeten, entre d'altres coses, inspeccionar el codi HTML de les pàgines que visitem.\n",
    "\n",
    "Nosaltres utilitzarem Mozilla Firefox, ja que el tenim disponible a la màquina virtual, però resultats similars es poden aconseguir amb altres navegadors.\n",
    "\n",
    "## Inspeccionar codi\n",
    "\n",
    "Per tal d'inspeccionar codi farem clic dret sobre la pàgina que volem inspeccionar i seleccionarem **Inspect Element** (o polsarem Q)."
   ]
  },
  {
   "cell_type": "code",
   "execution_count": null,
   "metadata": {},
   "outputs": [],
   "source": [
    "display.Image(\"img/img1.png\")"
   ]
  },
  {
   "cell_type": "markdown",
   "metadata": {
    "id": "lIwopOcBjqv1"
   },
   "source": [
    "Amb això se'ns desplegara una nova secció amb diferents eines. La que ens interessa a nosaltres és la de la pestanya **Inspector** (primera de l'esquerra)."
   ]
  },
  {
   "cell_type": "code",
   "execution_count": null,
   "metadata": {},
   "outputs": [],
   "source": [
    "display.Image(\"img/img2.png\")"
   ]
  },
  {
   "cell_type": "markdown",
   "metadata": {
    "id": "3eOY4vqEjyda"
   },
   "source": [
    "Amb l'inspector obert, podrem veure que al requadre inferior esquerre ens ha aparegut el codi HTML de la pàgina, i que hi podem interactuar (moure'ns pel codi, obrir i tancar *tags*, i fins i tot modificar parts del codi). A més a més, **podem seleccionar seccions de la web per veure a quina part del codi corresponen**. Per fer-ho clicarem sobre el selector d'elements (icona del quadre amb una fletxa, o prement CTRL+SHIFT+C) i seleccionarem l'element que ens interessi:"
   ]
  },
  {
   "cell_type": "code",
   "execution_count": null,
   "metadata": {},
   "outputs": [],
   "source": [
    "display.Image(\"img/img3.png\")"
   ]
  },
  {
   "cell_type": "markdown",
   "metadata": {
    "id": "J-roFRZ0j5YC"
   },
   "source": [
    "Veurem que una part del codi se'ns ha seleccionat. Aquesta és la part corresponent a la secció que hem clicat. Podem veure, per exemple, quin és **l’id** de l'element seleccionat, és a dir, el camp que identifica a aquest element dins de la web. També podem veure dins de quins *tags* es troba aquest element. En el nostre cas:"
   ]
  },
  {
   "cell_type": "code",
   "execution_count": null,
   "metadata": {},
   "outputs": [],
   "source": [
    "display.Image(\"img/img4.png\")"
   ]
  },
  {
   "cell_type": "markdown",
   "metadata": {
    "id": "m89xTnN5kCwS"
   },
   "source": [
    "A més a més, podem veure que aquest *tag* és `<a>`, que s'utilitza per crear enllaços a altres adreces web. En aquest cas, el *link* ens porta a la pàgina de Wikipedia en anglès: el *link* associat al *tag* és **//en.wikipedia.org/**.\n",
    "\n",
    "Finalment, podem veure que la classe a que pertany aquest element és **link-box** (camp *class*)."
   ]
  },
  {
   "cell_type": "code",
   "execution_count": null,
   "metadata": {},
   "outputs": [],
   "source": [
    "display.Image(\"img/img5.png\")"
   ]
  },
  {
   "cell_type": "markdown",
   "metadata": {
    "id": "b8PFO_Q3kIhz"
   },
   "source": [
    "# Scrapy shell\n",
    "\n",
    "Obtenir l'*xpath* per uns elements en concret, a la primera, pot ser complicat. Per tal de poder provar les nostres expressions fins trobar la que millor s'adapta a les nostres necessitats podem utilitzar la *scrapy shell*. Per obtenir la informació d'una pàgina web amb *scrapy shell* haurem d'executar `scrapy shell <URL>`, en el nostre cas:\n",
    "\n",
    "```\n",
    "scrapy shell wikipedia.org\n",
    "```\n",
    "\n",
    "Al obrir la *shell*, scrappy ha creat automàticament alguns objectes sobre la pàgina descarregada. Entre aquests es troba l'objecte `response`, que conté el *parsing* de la pàgina, i que és el que farem servir per testejar les expressions *xpath*.\n",
    "\n",
    "A continuació veurem com utilitzar *scrapy shell* per obtenir la mateixa informació que hem obtingut amb les eines de desenvolupador del navegador.\n",
    "\n",
    "Començarem, però, per un exercici més senzill per acostumar-nos a la sintaxis.\n",
    "\n",
    "Imaginem que volem obtenir el títol de la pàgina de Wikipedia, és a dir, el nom que veiem a la pestanya quan obrim una pàgina web."
   ]
  },
  {
   "cell_type": "code",
   "execution_count": null,
   "metadata": {},
   "outputs": [],
   "source": [
    "display.Image(\"img/img6.png\")"
   ]
  },
  {
   "cell_type": "markdown",
   "metadata": {
    "id": "HY2jLp21HRS8"
   },
   "source": [
    "Aquesta informació es troba, sempre, al *tag title* de l'encapçalament (*tag head*) d'una web. Per obtenir la informació crearem un *xpath* a partir de la resposta que ens ha tornat *scrapy shell* (objecte `response`):\n",
    "\n",
    "```\n",
    "In [1]: response.xpath('/html/head/title')\n",
    "Out[1]: [<Selector xpath='/html/head/title' data='<title>Wikipedia</title>'>]\n",
    "```\n",
    "\n",
    "Com podeu veure, s'especifiquen els *tags* com si fossin directoris (separats per `/`). En el nostre cas estàvem buscant `/html/head/title`.\n",
    "\n",
    "Si volguéssim aconseguir tots els *tags title* dins de la pàgina, podríem fer-ho amb:\n",
    "\n",
    "```\n",
    "In [2]: response.xpath('//title')\n",
    "Out[2]: [<Selector xpath='//title' data=‘<title>Wikipedia</title>'>]\n",
    "\n",
    "```\n",
    "\n",
    "El resultat és exactament el mateix, ja que només hi hauria d'haver un títol per pàgina.\n",
    "\n",
    "El mateix aplicará per qualsevol *tag*, `response.xpath(‘//<tag_name>’)` ens retornarà tots els *tags* de tipus `<tag_name>` que contingui la pàgina.\n",
    "\n",
    "Anem ara a obtenir tots els *links* a apartats de Wikipedia en diferents idiomes basant-nos en el que hem vist anteriorment amb les eines de desenvolupador. Podem començar per obtenir el *tag* al *link* en anglès, com havíem fet anteriorment, i continuar des d’aquí.\n",
    "\n",
    "Per fer-ho, podeu basar el vostre *xpath* en el *path* que hem creat amb les eines de desenvolupador. Fixeu-vos que per fer referència a una propietat (*id*, *class*, …) haurem d’utilitzar `@` i posar el valor entre cometes (`@class=“myClass”`).\n",
    "\n",
    "```\n",
    "In [3]: response.xpath('/html/body/div[@class=\"central-featured\"]/div[@class=\"central-featured-lang lang1\"]/a[@id=\"js-link-box-en\"]')\n",
    "Out[3]: [<Selector xpath='/html/body/div[@class=\"central-featured\"]/div[@class=\"central-featured-lang lang1\"]/a[@id=\"js-link-box-en\"]' data='<a id=\"js-link-box-en\" href=\"//en.wikipe'>]\n",
    "```\n",
    "\n",
    "Si volguéssim obtenir el contingut d’aquest *tag* per tal de veure la propietat *href* (que conté el *link* que buscàvem), podríem afegir `@href` al final del nostre *xpath*:\n",
    "\n",
    "```\n",
    "response.xpath('/html/body/div[@class=\"central-featured\"]/div[@class=\"central-featured-lang lang1”]/a[@id=“js-link-box-en”]/@href’)\n",
    "```\n",
    "\n",
    "Finalment, si volem obtenir els diferents *links* a apartats de Wikipedia mostrats a la pàgina actual, podem aprofitar-nos del fet que aquests comparteixen la mateixa classe, com hem pogut veure anteriorment:\n",
    "\n",
    "```\n",
    "In [5]: response.xpath('//a[@class=\"link-box\"]')\n",
    "Out[5]:\n",
    "[<Selector xpath='//a[@class=\"link-box\"]' data='<a id=\"js-link-box-en\" href=\"//en.wikipe'>,\n",
    " <Selector xpath='//a[@class=\"link-box\"]' data='<a id=\"js-link-box-es\" href=\"//es.wikipe'>,\n",
    " <Selector xpath='//a[@class=\"link-box\"]' data='<a id=\"js-link-box-ja\" href=\"//ja.wikipe'>,\n",
    " <Selector xpath='//a[@class=\"link-box\"]' data='<a id=\"js-link-box-de\" href=\"//de.wikipe'>,\n",
    " <Selector xpath='//a[@class=\"link-box\"]' data='<a id=\"js-link-box-fr\" href=\"//fr.wikipe'>,\n",
    " <Selector xpath='//a[@class=\"link-box\"]' data='<a id=\"js-link-box-ru\" href=\"//ru.wikipe'>,\n",
    " <Selector xpath='//a[@class=\"link-box\"]' data='<a id=\"js-link-box-it\" href=\"//it.wikipe'>,\n",
    " <Selector xpath='//a[@class=\"link-box\"]' data='<a id=\"js-link-box-zh\" href=\"//zh.wikipe'>,\n",
    " <Selector xpath='//a[@class=\"link-box\"]' data='<a id=\"js-link-box-pt\" href=\"//pt.wikipe'>,\n",
    " <Selector xpath='//a[@class=\"link-box\"]' data='<a id=\"js-link-box-pl\" href=\"//pl.wikipe'>]\n",
    "\n",
    "```\n",
    "\n",
    "Si no coneixéssim exactament quin és el contingut de la propietat que estem buscant, però en coneixéssim una subcadena (com en el cas de `central-featured-lang lang1`), podríem utilitzar el mètode `contains`:\n",
    "\n",
    "```\n",
    "In [6]: response.xpath('//div[contains(@class, \"central-featured-lang\")]')\n",
    "Out[6]:\n",
    "[<Selector xpath='//div[contains(@class, \"central-featured-lang\")]' data='<div class=\"central-featured-lang lang1\"'>,\n",
    " <Selector xpath='//div[contains(@class, \"central-featured-lang\")]' data='<div class=\"central-featured-lang lang2\"'>,\n",
    " <Selector xpath='//div[contains(@class, \"central-featured-lang\")]' data='<div class=\"central-featured-lang lang3\"'>,\n",
    " <Selector xpath='//div[contains(@class, \"central-featured-lang\")]' data='<div class=\"central-featured-lang lang4\"'>,\n",
    " <Selector xpath='//div[contains(@class, \"central-featured-lang\")]' data='<div class=\"central-featured-lang lang5\"'>,\n",
    " <Selector xpath='//div[contains(@class, \"central-featured-lang\")]' data='<div class=\"central-featured-lang lang6\"'>,\n",
    " <Selector xpath='//div[contains(@class, \"central-featured-lang\")]' data='<div class=\"central-featured-lang lang7\"'>,\n",
    " <Selector xpath='//div[contains(@class, \"central-featured-lang\")]' data='<div class=\"central-featured-lang lang8\"'>,\n",
    " <Selector xpath='//div[contains(@class, \"central-featured-lang\")]' data='<div class=\"central-featured-lang lang9\"'>,\n",
    " <Selector xpath='//div[contains(@class, \"central-featured-lang\")]' data='<div class=\"central-featured-lang lang10'>]\n",
    "```\n",
    "\n"
   ]
  }
 ],
 "metadata": {
  "language_info": {
   "name": "python"
  }
 },
 "nbformat": 4,
 "nbformat_minor": 0
}
