{
 "cells": [
  {
   "cell_type": "markdown",
   "metadata": {},
   "source": [
    "<div style=\"width: 100%; clear: both;\">\n",
    "    <div style=\"float: left; width: 50%;\">\n",
    "       <img src=\"http://www.uoc.edu/portal/_resources/common/imatges/marca_UOC/UOC_Masterbrand.jpg\", align=\"left\">\n",
    "    </div>\n",
    "</div>\n",
    "\n",
    "<div style=\"float: right; width: 50%;\">\n",
    "    <p style=\"margin: 0; padding-top: 22px; text-align:right;\">22.401 · Fonaments de Programació</p>\n",
    "    <p style=\"margin: 0; text-align:right;\">Grau en Ciència de Dades Aplicada</p>\n",
    "    <p style=\"margin: 0; text-align:right; padding-button: 100px;\">Estudis d'Informàtica, Multimèdia i Telecomunicació</p>\n",
    "</div>\n",
    "\n",
    "</div>\n",
    "<div style=\"width: 100%; clear: both;\">\n",
    "<div style=\"width:100%;\">&nbsp;</div>"
   ]
  },
  {
   "cell_type": "markdown",
   "metadata": {
    "id": "BlVwZOoLagdd"
   },
   "source": [
    "Fonaments de Programació\n",
    "============================\n",
    "\n",
    "--- \n",
    "\n",
    "Unitat 2: Breu introducció a la programació en Python\n",
    "-----------------------------------------------------\n",
    "\n",
    "---"
   ]
  },
  {
   "cell_type": "markdown",
   "metadata": {
    "id": "QL_5ZE5uagdd"
   },
   "source": [
    "### Instruccions d'ús\n",
    "\n",
    "Aquest document és un *notebook* interactiu que intercala explicacions més aviat teòriques de conceptes de programació amb fragments de codi executables. Per aprofitar els avantatges que aporta aquest format, us recomanem que, en primer lloc, llegiu les explicacions i el codi que us proporcionem. D'aquesta manera tindreu un primer contacte amb els conceptes que hi exposem. Ara bé, **la lectura és només el principi!** Una vegada hàgiu llegit el contingut, no oblideu executar el codi proporcionat i modificar-lo per crear-ne variants que us permetin comprovar que heu entès la seva funcionalitat i explorar-ne els detalls d'implementació. Per últim, us recomanem també consultar la documentació enllaçada per explorar amb més profunditat les funcionalitats dels mòduls presentats. \n",
    "\n",
    "### Introducció\n",
    "\n",
    "En aquesta unitat presentarem el llenguatge de programació Python i la seva sintaxi bàsica. Explicarem què són les variables, veurem com les podem definir i utilitzar en Python, i n'introduirem els principals tipus simples (enters, floats, complexos) i compostos (cadenes de caràcters, llistes, tuples i diccionaris).\n",
    "\n",
    "A continuació s'inclou la taula de continguts, que podeu fer servir per navegar pel document:\n",
    "\n",
    "<ul style=\"list-style-type:none\">\n",
    "    <li><a href='#1.-Què-és-la-programació?'>1. Què és la programació?</a></li>\n",
    "    <li><a href='#2.-Breu-història-del-llenguatge-de-programació-Python'>2. Breu història del llenguatge de programació Python</a></li>\n",
    "    <li><a href='#3.-Versions-i-intèrprets-disponibles'>3. Versions i intèrprets disponibles</a></li>\n",
    "    <li><a href=\"#4.-Sintaxi-bàsica-del-llenguatge-de-programació-Python\">4. Sintaxi bàsica del llenguatge de programació Python</a></li>\n",
    "     <ul style=\"list-style-type:none\">\n",
    "        <li><a href=\"#4.1.-Intèrpret-enfront-d'script\">4.1. Intèrpret enfront d'script</a></li>\n",
    "        <li><a href=\"#4.2.-Sobre-els-tabuladors-i-els-espais-en-blanc\">4.2. Sobre els tabuladors i els espais en blanc</a></li>\n",
    "        <li><a href=\"#4.3.-Comentaris\">4.3. Comentaris</a></li>\n",
    "        <li><a href=\"#4.4.-Guia-d'estil\">4.4. Guia d'estil</a></li>\n",
    "        <li><a href=\"#4.5.-IPython-i-Notebook\">4.5. IPython i notebook</a></li> \n",
    "                 <li><a href=\"#4.6.-Colab\">4.6. Colab</a></li> \n",
    "    </ul>\n",
    "    <li><a href=\"#5.-Variables-i-tipus-de-variables\">5. Variables i tipus de variables</a></li>\n",
    "        <ul style=\"list-style-type:none\">\n",
    "        <li><a href=\"#5.1.-Declaració-de-variables\">5.1. Declaració de variables</a></li>\n",
    "        <li><a href=\"#5.2.-Paraules-reservades\">5.2. Paraules reservades</a></li>\n",
    "        <li><a href=\"#5.3.-Funcions-bàsiques\">5.3. Funcions bàsiques</a></li>\n",
    "            <li><a href=\"#5.3.1-Funció-print\">5.3.1 Funció print</a></li>\n",
    "            <li><a href=\"#5.3.2-Funció-input\">5.3.2 Funció input</a></li>\n",
    "        <li><a href=\"#5.4.-Tipus-de-dades\">5.4. Tipus de dades</a></li>\n",
    "            <ul style=\"list-style-type:none\">\n",
    "            <li><a href=\"#5.4.1-Tipus-numèrics-i-cadenes-de-caràcters\">5.4.1 Tipus numèrics i cadenes de caràcters</a></li>\n",
    "            <li><a href=\"#5.4.2-Llistes,-tuples-i-diccionaris\">5.4.2 Llistes, tuples i diccionaris</a></li>\n",
    "        </ul>\n",
    "    </ul>\n",
    "    <li><a href=\"#6.-Organització-del-codi\">6. Organització del codi</a></li>\n",
    "    <li><a href=\"#7.-Operadors\">7. Operadors</a></li>\n",
    "    <ul style=\"list-style-type:none\">\n",
    "        <li><a href=\"#7.1.-Operadors-aritmètics\">7.1. Operadors aritmètics</a></li>\n",
    "        <li><a href=\"#7.2.-Operadors-d'assignació\">7.2. Operadors d'assignació</a></li>\n",
    "        <li><a href=\"#7.3.-Operadors-relacionals\">7.3. Operadors relacionals</a></li>\n",
    "        <li><a href=\"#7.4.-Operadors-lògics\">7.4. Operadors lògics</a></li>\n",
    "        <li><a href=\"#7.5.-Operadors-de-pertinença\">7.5. Operadors de pertinença</a></li>\n",
    "        <li><a href=\"#7.6.-Numpy\">7.6. Numpy</a></li>\n",
    "    </ul>\n",
    "     <li><a href=\"#8.-Recursos-per-al-programador-de-Python\">8. Recursos per al programador de Python</a></li>\n",
    "    <li><a href=\"#9.-Exercicis-i-preguntes-teòriques\">9. Exercicis i preguntes teòriques</a></li>\n",
    "     <ul style=\"list-style-type:none\">\n",
    "        <li><a href=\"#9.1-Instruccions-importants\">9.1 Instruccions importants</a></li>\n",
    "    </ul>\n",
    "    <li><a href=\"#10.-Bibliografia\">10. Bibliografia</a></li>\n",
    "</ul>"
   ]
  },
  {
   "cell_type": "markdown",
   "metadata": {
    "id": "ZgqCQKVJagdf"
   },
   "source": [
    "# 1. Què és la programació?\n",
    "\n",
    "Trobem a Wikipedia la definició següent de programació:\n",
    "\n",
    "«Programació d'ordinadors o **programació informàtica** (sovint abreujat programació o codificació) és el procés d'escriure, provar, [depurar](https://en.wikipedia.org/wiki/Debugging) i mantenir el [codi font](https://en.wikipedia.org/wiki/Source_code) de [programes](https://en.wikipedia.org/wiki/Computer_program). Aquest codi font està escrit en un [llenguatge de programació](https://en.wikipedia.org/wiki/Programming_language). L'objectiu de la programació és crear un programa que mostra un determinat comportament desitjat.»\n",
    "\n",
    "En el context de la ciència de dades, els ordinadors són màquines que ens permeten tractar, processar i analitzar quantitats ingents de dades. Aquest tractament de la informació ha de realitzar-se mitjançant un tipus de conjunt de regles: l'**algorisme**. Podem entendre els algorismes com a plantilles o «receptes» que s'especifiquen a la màquina mitjançant algun llenguatge de programació i que ens permeten tractar la informació de forma inherent a les nostres necessitats. Seguint amb la metàfora de la recepta, imagineu que volem preparar un plat de cuina i que tenim tots els ingredients per fer-ho. La nostra recepta culinària especificarà en cada pas el que el cuiner ha de fer. Per exemple, per fer una truita:\n",
    "\n",
    "1. Trencar els ous i batre'ls.\n",
    "2. Posar una paella al foc.\n",
    "3. Quan la temperatura estigui prou alta, afegir-hi els ous batuts.\n",
    "4. Esperar que qualli suficientment.\n",
    "5. Donar la volta.\n",
    "6. Repetir el pas 4 per aquesta cara.\n",
    "7. Posar la nostra truita al plat.\n",
    "\n",
    "Els problemes que resoldrem mitjançant un ordinador normalment tindran un context més numèric, però la idea de recepta serà la mateixa: un conjunt d'instruccions que s'executen des del principi fins al final i que duen a terme una acció. Així doncs, l'algorisme o «recepta» per calcular el quadrat d'un nombre qualsevol seria de la manera següent:\n",
    "\n",
    "1. Representar a la pantalla el missatge «Benvingut a la calculadora de quadrats:».\n",
    "2. Demanar a l'usuari que introdueixi un nombre mitjançant el teclat.\n",
    "3. Guardar aquest nombre.\n",
    "4. Prendre el nombre guardat com a base per multiplicar-lo per si mateix.\n",
    "5. Representar en pantalla el resultat del càlcul del pas 4.\n",
    "6. Sortir del programa.\n",
    "\n",
    "Especificar-li a un ordinador les instruccions que han d'executar-se en un programa és una abstracció que ens permeten els llenguatges de programació. En el nostre cas, farem servir Python per escriure i executar els nostres programes i així solucionar problemes de ciència de dades."
   ]
  },
  {
   "cell_type": "markdown",
   "metadata": {
    "id": "JPk2rk60agdg"
   },
   "source": [
    "# 2. Breu història del llenguatge de programació Python\n",
    "\n",
    "El llenguatge va néixer de la mà de [Guido van Rossum](https://gvanrossum.github.io//)  mentre treballava al Centre per a les Matemàtiques i la Informàtica (CWI, Centrum Wiskunde & Informatica) als Països Baixos l'any 1989 durant les vacances de Nadal, encara que no va ser fins al febrer de 1991 quan va ser publicada la seva primera versió a [USENET](https://en.wikipedia.org/wiki/Usenet).\n",
    "\n",
    "Guido van Rossum és, malgrat el llarg recorregut del llenguatge des d'aleshores, una figura molt rellevant en el grup d'usuaris i desenvolupadors de Python i és conegut com BDFL (de l'anglès *benevolent dictator for life*, dictador vitalici benevolent); els seus suggeriments en les discussions en les quals intervé es tenen molt en compte respecte al full de ruta del futur del llenguatge. Actualment, la *Python Software Foundation* (PSF) és l'organització encarregada de vetllar pel futur i la disseminació del llenguatge. Com a nota divertida, cal destacar que la relació entre el nom del llenguatge i la sèrie de televisió [Monty Python's Flying Circus](https://www.imdb.com/title/tt0063929/) no és una mera coincidència.\n",
    "\n",
    "Hi ha dues dates importants que han marcat la història del llenguatge: el 16 d'octubre de 2000, moment en el qual la versió 2.0 va ser publicada, i el 3 de desembre de 2008, quan es va publicar la versió 3.0 del llenguatge.\n",
    "\n",
    "El llenguatge de programació Python fa especial èmfasi en la seva capacitat perquè altres programadors el puguin llegir. Aquesta senzillesa aparent a l'hora de llegir codi en Python li ha permès gaudir de bastanta popularitat en cercles menys enfocats en el desenvolupament pur de programari, com pot ser el camp de la ciència de dades, en el qual conflueixen persones expertes en diferents disciplines (matemàtiques, estadística, etc.). Existeixen documents de millora del llenguatge coneguts per les seves sigles **PEP-Número** (de l'anglès *Python Enhancement Proposals*) i és, precisament, en un d'aquests documents, el [PEP-20](https://legacy.python.org/dev/peps/pep-0020/), en el qual es presenta la filosofia del llenguatge i aquesta marcada tendència per la simplicitat, llegibilitat i bellesa del codi en Python:\n",
    "\n",
    "```\n",
    "The Zen of Python\n",
    "    Beautiful is better than ugly.\n",
    "    Explicit is better than implicit.\n",
    "    Simple is better than complex.\n",
    "    Complex is better than complicated.\n",
    "    Flat is better than nested.\n",
    "    Sparse is better than dense.\n",
    "    Readability counts.\n",
    "    Special cases aren't special enough to break the rules.\n",
    "    Although practicality beats purity.\n",
    "    Errors should never pass silently.\n",
    "    Unless explicitly silenced.\n",
    "    In the face of ambiguity, refuse the temptation to guess.\n",
    "    There should be one -and preferably only one- obvious way to do it.\n",
    "    Although that way may not be obvious at first unless you're Dutch.\n",
    "    Now is better than never.\n",
    "    Although never is often better than *right* now.\n",
    "    If the implementation is hard to explain, it's a bad idea.\n",
    "    If the implementation is easy to explain, it may be a good idea.\n",
    "    Namespaces are one honking great idea -let's do more of those!-\n",
    "```\n",
    "\n",
    "Molts d'aquests principis en aquest moment podran semblar estranys a l'alumnat, però a mesura que s'aprofundeix en l'ús del llenguatge molts d'ells resultaran habituals a l'hora d'escriure i llegir codi en Python.\n",
    "\n",
    "Finalment, és interessant presentar a l'alumnat el terme *pythonic*, ja que apareix en moltes cerques en relació amb la sintaxi de Python. Els llenguatges de programació fan ús habitualment d'estructures que serveixen per expressar tasques o parts de codi en un llenguatge comú que no està considerat directament en la sintaxi del llenguatge. Aquest concepte (en anglès *idiom*) està molt estès en la comunitat de Python i moltes vegades es tradueix en missatges en fòrums de l'estil *«which is the most pythonic way to do..?»* ('quina és la forma més pythònica de fer..?'). Es tracta d'un concepte avançat, però que en Python resulta especialment rellevant, atès que alguns d'aquests conceptes han estat implementats en el llenguatge de forma més eficient i poden fer que un codi o un altre s'executi de forma més ràpida si és més pythònica. Aquest concepte serà ampliat més endavant."
   ]
  },
  {
   "cell_type": "markdown",
   "metadata": {
    "id": "b9338t2tagdh"
   },
   "source": [
    "# 3. Versions i intèrprets disponibles\n",
    "\n",
    "Actualment coexisteixen dues versions o branques de desenvolupament: les famílies 2.7 i 3.6, sent les seves últimes versions al moment de redacció d'aquest document la 2.7.18 i la 3.10.1, respectivament.\n",
    "\n",
    "Python és un llenguatge de programació molt viu i en contínua evolució, al qual es van afegint i corregint funcionalitats molt sovint. La branca de desenvolupament 2.7.x és una versió molt madura i estable, però va ser amb l'aparició de la versió 3.0 quan va haver-hi un salt important en la sintaxi del llenguatge. Per exemple, la mateixa expressió print en la branca 2.7.x va passar a tenir forma de funció print () en la branca 3.x. Aquests canvis no es limiten a correccions estètiques, sinó que s'han introduït per millorar el rendiment del llenguatge, l'organització del codi i de les llibreries a nivell intern, etc. En resum, la branca 3.x és el futur de Python mentre que la branca 2.7.x representaria el passat del llenguatge.\n",
    "\n",
    "Al Gener de 2020, va finalitzar el suport de la branca 2.x de Python, i, actualment, la família que es fa servir és la 3.x. Per aquest motiu, en aquest curs utilitzem Python 3.x. Tot i això, si mai heu de treballar amb codi antic desenvolupat per Python 2.x, veureu que no tindreu problemes per fer-ho, ja que l'essència del llenguatge segueix sent la mateixa.\n",
    "\n",
    "Quant als intèrprets, el més conegut és la implementació en C anomenada [CPython](https://en.wikipedia.org/wiki/CPython), que és l'intèrpret del llenguatge Python desenvolupat per la comunitat del projecte de codi lliure i suportat i dirigit per la Python Programari Foundation. Encara que CPython és la implementació estàndard i a dia d'avui suporta més plataformes (quaranta-dues en el moment de redacció d'aquest document), no és ni molt menys l'única. Altres implementacions famoses són [Jython](https://www.jython.org/), escrit en Java i que funciona en la màquina virtual de Java; [PyPy](https://en.wikipedia.org/wiki/PyPy), un intèrpret també escrit en C, però que posa especial èmfasi en el rendiment i a tractar la concurrència i el paral·lelisme d'una forma diferent; [IronPython](https://en.wikipedia.org/wiki/IronPython), una implementació del llenguatge per a la plataforma .NET, etc."
   ]
  },
  {
   "cell_type": "markdown",
   "metadata": {
    "id": "xb7wdkWvagdh"
   },
   "source": [
    "# 4. Sintaxi bàsica del llenguatge de programació Python\n",
    "\n",
    "## 4.1. Intèrpret enfront d'script\n",
    "\n",
    "Hi ha tres formes bàsiques d'executar codi en Python:\n",
    "\n",
    "1. Executar l'intèrpret de Python des d'una terminal.\n",
    "2. Escriure codi Python en un fitxer (típicament amb extensió PY, i que és conegut habitualment amb el nom d'script) i executar-lo utilitzant l'ordre:\n",
    "\n",
    "```\n",
    "$ python script_name.py\n",
    "```\n",
    "\n",
    "3. Escriure codi Python mitjançant *Jupyter Notebook*. \n",
    "\n",
    "La primera forma és útil per provar ordres del llenguatge Python de forma ràpida o simplement per fer servir l'intèrpret com a calculadora. La segona, per contra, ens permetrà executar una vegada i una altra el codi contingut en el nostre fitxer d'script sense haver d'escriure en l'intèrpret el mateix codi una vegada i una altra. La tercera opció és la que farem servir en aquesta assignatura i l'explicarem amb més detall a l'apartat 4.5. \n",
    "\n",
    "## 4.2. Sobre els tabuladors i els espais en blanc\n",
    "\n",
    "En Python, els blocs de codi s'indiquen mitjançant espais en blanc. Més endavant parlarem dels diferents tipus de blocs de codi, però a manera introductòria farem ús de l'exemple següent:\n",
    "\n",
    "```\n",
    "1 def suma(a, b):\n",
    "2     return a + b\n",
    "3\n",
    "4 print(suma(2, 3))\n",
    "```\n",
    "\n",
    "En les línies 1 i 2, definim mitjançant la paraula clau **def** una funció que rep com a arguments dues variables de nom `a` i `b` i que a la línia 2 retorna la suma d'aquestes dues variables.\n",
    "\n",
    "En la línia 4, cridem aquesta funció suma amb els valors 2 i 3, i mitjançant l'ordre **print** escrivim el resultat que ens apareix per la terminal.\n",
    "\n",
    "Com es pot observar en la línia 2, la paraula clau **return** es troba a quatre espais de distància del començament de la línia anterior (línia 1). Això és així perquè estem definint un bloc de codi (en altres llenguatges com C o Java, s'utilitzen per a la definició de blocs de codi els caràcters especials «{» i «}»).\n",
    "\n",
    "Existeixen dues possibilitats per definir la indentació de codi (indentació és un anglicisme i en català hauríem d'utilitzar el terme sagnat, encara que indentació està àmpliament reconeguda per la comunitat informàtica): mitjançant espais o tabulacions. Podrem fer servir de forma indistinta una forma o una altra, però sempre tenint en compte que mai no hauran de barrejar-se en un mateix fitxer de codi. Això és així perquè les tabulacions no tenen un caràcter que les distingeixi i no solen presentar-se de forma idònia en molts editors de text. Moltes vegades, en pressionar la tecla «Tab» en una aplicació, aquest caràcter es converteix automàticament en un nombre fix d'espais en blanc. Per tant, **serà recomanable configurar l'editor que escollim per escriure codi en Python de tal forma que el tabulador es tradueixi en quatre espais en blanc**.\n",
    "\n",
    "En el document [PEP-8](https://www.python.org/dev/peps/pep-0008/), que és la guia d'estil que segueixen la majoria de programadors en Python, es detalla aquest aspecte.\n",
    "\n",
    "## 4.3. Comentaris\n",
    "\n",
    "Els comentaris, fragments de text que no s'interpreten, són una part fonamental de qualsevol programa, ja que faciliten la lectura i permeten afegir aclaracions necessàries per a la correcta comprensió del codi. \n",
    "\n",
    "Si no s'afegeixen comentaris al codi, pot ser que l'usuari no recordi algunes de les decisions que va prendre quan el va escriure. D'altra banda, si es llegeix codi escrit per una altra persona, els comentaris permeten seguir millor els raonaments darrere d'aquest codi. \n",
    "\n",
    "En Python, es poden incloure comentaris en el codi d'una sola línia (precedits pel símbol `#`) o bé de múltiples línies (que s'indiquen amb `\"\"\"` o bé `'''`).\n",
    "Els comentaris de múltiples línies s'acostumen a utilitzar per a documentar funcions, mètodes o classes en Python. "
   ]
  },
  {
   "cell_type": "code",
   "execution_count": 1,
   "metadata": {
    "executionInfo": {
     "elapsed": 16,
     "status": "ok",
     "timestamp": 1664992518980,
     "user": {
      "displayName": "Alexandra Abos Ortega",
      "userId": "12009012866427188327"
     },
     "user_tz": -120
    },
    "id": "yuhFXaRBagdj"
   },
   "outputs": [],
   "source": [
    "# Això és un comentari. Quan executem aquesta cel·la\n",
    "# el comentari s'ignora."
   ]
  },
  {
   "cell_type": "code",
   "execution_count": 2,
   "metadata": {
    "executionInfo": {
     "elapsed": 14,
     "status": "ok",
     "timestamp": 1664992518980,
     "user": {
      "displayName": "Alexandra Abos Ortega",
      "userId": "12009012866427188327"
     },
     "user_tz": -120
    },
    "id": "g8tf-Amfagdk"
   },
   "outputs": [],
   "source": [
    "def suma(a,b):\n",
    "    \"\"\" Aquesta funció retorna \n",
    "    la suma dels arguments a i b \"\"\"\n",
    "    return a + b"
   ]
  },
  {
   "cell_type": "markdown",
   "metadata": {
    "id": "uUn9jz3bagdl"
   },
   "source": [
    "## 4.4. Guia d'estil\n",
    "\n",
    "A l'apartat anterior s'ha tractat la guia d'estil oficial del llenguatge Python, que està disponible en línia com PEP-8. Com a resum, aquests són els aspectes bàsics que s'han de seguir:\n",
    "\n",
    "1. Les funcions i els noms de paraules s'escriuran en minúscula i els noms llargs que continguin diverses paraules s'uniran mitjançant el caràcter «_».\n",
    "2. Els noms de classes tindran la seva lletra inicial en majúscula per diferenciar-les de variables, funcions i objectes.\n",
    "3. Les constants aniran en majúscules i separades pel caràcter «_» si contenen diverses paraules.\n",
    "4. Com ja s'ha comentat a l'apartat anterior, no s'utilitzaran tabuladors, sinó que sempre farem servir quatre espais en blanc.\n",
    "5. Els comentaris han de ser frases completes i han d'estar actualitzats (és important que corresponguin al codi que s'està comentant!).\n",
    "\n",
    "És molt important seguir la guia d'estil quan es programa en Python (recordeu-ho quan prepareu el codi per als lliuraments de l'assignatura!)."
   ]
  },
  {
   "cell_type": "markdown",
   "metadata": {
    "id": "Dy6YEna4agdm"
   },
   "source": [
    "## 4.5. IPython i Notebook\n",
    "\n",
    "IPython va ser originalment desenvolupat com un conjunt d'eines per facilitar el desenvolupament i el processament de dades en Python a usuaris del món científic. La «i» del nom prové de interactiu, ja que disposa d'eines que interactuen amb l'usuari, com són l'autocompletat de codi, una ajuda extensa, etc. \n",
    "\n",
    "El [**Jupyter Notebook**](https://jupyter.org/), al seu torn, és una altra eina molt útil per a l'exploració de codi, per representar resultats de forma gràfica, o pel prototipatge ràpid, etc., tot això mitjançant la interacció via navegador web (Notebook arrenca de forma local un servidor web). Les versions anteriors de Jupyter Notebook es coneixien com IPython Notebook. \n",
    "\n",
    "Un notebook s'organitza en cel·les, que segueixen un ordre seqüencial. Hi ha 3 tipus de cel·les, però s'utilitzen principalment, dos: **text** (anomenat *markdown*) i **codi**. Ambdos tipus de cel·les es poden executar, però tenen funcionaments diferents. Una cel·la de tipus codi s'utilitza per executar el bloc de codi de Python que estigui dintre aquesta cel·la. D'altra banda, una cel·la *markdown* ens permet donar format al text (per exemple, es poden posar elements en **negreta** o *cursiva*) o afegir imatges al notebook. El tercer tipus de cel·la s'anomena *Raw NBConvert* i s'utilitza per posar codi que no es vulgui executar, ja que aquestes cel·les no són evaluades pel notebook. \n",
    "El tipus de la cel·la no és fixe. Un cop creada, es pot canviar el tipus d'una cel·la (per exemple, pots convertir una cel·la de codi a text, i viceversa). \n",
    "\n",
    "Així doncs, els notebooks ens proporciona un ambient molt dinàmic, ja que podem escriure i evaluar el nostre codi fàcilment. També ens permet combinar blocs de text i blocs de codi, cosa que el converteix en una eina que molt adequada en l'àmbit formatiu. "
   ]
  },
  {
   "cell_type": "markdown",
   "metadata": {
    "id": "M-GFTayEagdm"
   },
   "source": [
    "## 4.6. Colab\n",
    "\n",
    "Actualment, el desenvolupament de codi es pot fer també mitjançant plataformes al núvol. La computació al núvol (*cloud computing*) permet tenir accés remot a programes, emmagatzemar arxius i processar grans volums de dades, sense tenir les limitacions d'una màquina local.\n",
    "Una plataforma molt coneguda i utilitzada és el [**Google Colab**](https://colab.research.google.com/), un entorn que ens permet escriure i executar codi Python mitjançant notebooks completament des del núvol. El seu ús ha anat en augment en els últims anys, ja que permet configurar determinades prestacions de l'equip que són difícils de tenir a nivell local (per exemple, es pot activar la GPU si es necessita un alt poder de computació). D'altra banda, a l'executar-se des del núvol, també permet compartir fàcilment els notebooks quan es treballa en equip. \n",
    "\n",
    "En aquesta assignatura farem servir Google Colab, ja que ens proporciona un entorn comú i colaboratiu entre tots els estudiants. "
   ]
  },
  {
   "cell_type": "markdown",
   "metadata": {
    "id": "6W-eNUroagdm"
   },
   "source": [
    "# 5. Variables i tipus de variables\n",
    "\n",
    "Podem entendre una **variable** com un contenidor en el qual podem posar les nostres\n",
    "dades a fi de guardar-les i tractar-les més endavant. A Python, les\n",
    "variables no tenen tipus, és a dir, no hem d'indicar si la variable serà\n",
    "numèrica, un caràcter, una cadena de caràcters o una llista, per\n",
    "exemple. A més, les variables poden ser declarades i inicialitzades en\n",
    "qualsevol moment, a diferència d'altres llenguatges de programació.\n",
    "\n",
    "## 5.1. Declaració de variables\n",
    "\n",
    "Per **declarar** una variable, fem servir l'expressió *nom_de_variable\n",
    "= valor*. Es recomana repassar el document [PEP-8](https://www.python.org/dev/peps/pep-0008/#function-and-variable-names) per indicar noms de variables correctes, però, *grosso modo*,\n",
    "evitarem utilitzar majúscula a la inicial, separarem les diferents\n",
    "paraules amb el caràcter «_» i no utilitzarem accents ni caràcters\n",
    "específics de la nostra codificació com el símbol del «€» o la «ñ», per\n",
    "exemple.\n",
    "\n",
    "Vegem uns quants exemples de declaracions de variables i com fer-les servir:"
   ]
  },
  {
   "cell_type": "code",
   "execution_count": 3,
   "metadata": {
    "attributes": {
     "classes": [
      "sourceCode"
     ],
     "id": ""
    },
    "executionInfo": {
     "elapsed": 14,
     "status": "ok",
     "timestamp": 1664992518981,
     "user": {
      "displayName": "Alexandra Abos Ortega",
      "userId": "12009012866427188327"
     },
     "user_tz": -120
    },
    "id": "5hgBvR73agdn"
   },
   "outputs": [],
   "source": [
    "# Declarem una variable de nom 'variable_numerica' \n",
    "# que conté el valor enter 12.\n",
    "variable_numerica = 12\n",
    "\n",
    "# Declarem una variable de nom monstre \n",
    "# que conté el valor 'Godzilla'.\n",
    "monstre = 'Godzilla'\n",
    "\n",
    "# Declarem una variable de nom 'planetes' \n",
    "# que és una llista de cadenes de caràcters.\n",
    "planetes = ['Mercuri', 'Venus', 'Terra', 'Mart']"
   ]
  },
  {
   "cell_type": "code",
   "execution_count": 4,
   "metadata": {
    "attributes": {
     "classes": [
      "sourceCode"
     ],
     "id": ""
    },
    "colab": {
     "base_uri": "https://localhost:8080/"
    },
    "executionInfo": {
     "elapsed": 14,
     "status": "ok",
     "timestamp": 1664992518981,
     "user": {
      "displayName": "Alexandra Abos Ortega",
      "userId": "12009012866427188327"
     },
     "user_tz": -120
    },
    "id": "V47Od4K1agdn",
    "outputId": "540107e8-6b76-453a-d25c-4dd81bda90b4"
   },
   "outputs": [
    {
     "name": "stdout",
     "output_type": "stream",
     "text": [
      "30\n"
     ]
    }
   ],
   "source": [
    "la_meva_edat = 25\n",
    "la_meva_edat_en_5 = la_meva_edat + 5\n",
    "# 'Imprimim' el valor calculat que serà, efectivament, 30\n",
    "print(la_meva_edat_en_5)"
   ]
  },
  {
   "cell_type": "markdown",
   "metadata": {
    "id": "gO8zlYzWagdo"
   },
   "source": [
    "## 5.2. Paraules reservades\n",
    "\n",
    "En Python, hi ha un conjunt de paraules, anomenades **paraules reservades**, que no podem utilitzar per declarar variables, ja que tenen un significat especial i el seu nom està reservat per certes tasques internes del llenguatge de programació. \n",
    "\n",
    "Algunes d'aquestes paraules formen part de la sintaxi bàsica de Python (per exemple: True, False, def, return, for, if). D'altres formen part de funcionalitats més avançades (async, await). \n",
    "\n",
    "Per consultar quines són les paraules reservades en Python, es pot executar el codi següent: "
   ]
  },
  {
   "cell_type": "code",
   "execution_count": 5,
   "metadata": {
    "colab": {
     "base_uri": "https://localhost:8080/"
    },
    "executionInfo": {
     "elapsed": 11,
     "status": "ok",
     "timestamp": 1664992518981,
     "user": {
      "displayName": "Alexandra Abos Ortega",
      "userId": "12009012866427188327"
     },
     "user_tz": -120
    },
    "id": "t6BLWKXfagdo",
    "outputId": "8d57ffe9-12a3-4945-ca71-5cb1897e01a1"
   },
   "outputs": [
    {
     "name": "stdout",
     "output_type": "stream",
     "text": [
      "\n",
      "Here is a list of the Python keywords.  Enter any keyword to get more help.\n",
      "\n",
      "False               class               from                or\n",
      "None                continue            global              pass\n",
      "True                def                 if                  raise\n",
      "and                 del                 import              return\n",
      "as                  elif                in                  try\n",
      "assert              else                is                  while\n",
      "async               except              lambda              with\n",
      "await               finally             nonlocal            yield\n",
      "break               for                 not                 \n",
      "\n"
     ]
    }
   ],
   "source": [
    "help('keywords')"
   ]
  },
  {
   "cell_type": "markdown",
   "metadata": {
    "id": "TSkQ_eeiagdp"
   },
   "source": [
    "## 5.3. Funcions bàsiques\n",
    "\n",
    "Una part clau en el disseny és que el codi sigui dinàmic i interactiu per l'usuari. Per aconseguir-ho, hi ha funcions bàsiques de Python que permeten a l'usuari interaccionar amb el programa. \n",
    "\n",
    "Una **funció** és una porció de codi reutilitzable que s'utilitza per a fer una tasca determinada. Si tenim un tros de codi que hem d'utilitzar repetidament, podem utilitzar la funció que conté el codi dintre, enlloc d'haver d'escriure'l tot un altre cop. \n",
    "\n",
    "A continuació teniu l'exemple de la funció suma que havíem creat anteriorment:"
   ]
  },
  {
   "cell_type": "code",
   "execution_count": 6,
   "metadata": {
    "executionInfo": {
     "elapsed": 10,
     "status": "ok",
     "timestamp": 1664992518982,
     "user": {
      "displayName": "Alexandra Abos Ortega",
      "userId": "12009012866427188327"
     },
     "user_tz": -120
    },
    "id": "KjtWtHzGagdp"
   },
   "outputs": [],
   "source": [
    "# Definim la funció suma\n",
    "def suma(a, b):\n",
    "    \"\"\" Aquesta funció retorna \n",
    "    la suma dels arguments a i b \"\"\"\n",
    "    return a + b"
   ]
  },
  {
   "cell_type": "code",
   "execution_count": 7,
   "metadata": {
    "colab": {
     "base_uri": "https://localhost:8080/"
    },
    "executionInfo": {
     "elapsed": 10,
     "status": "ok",
     "timestamp": 1664992518982,
     "user": {
      "displayName": "Alexandra Abos Ortega",
      "userId": "12009012866427188327"
     },
     "user_tz": -120
    },
    "id": "6Kgo-D7dagdp",
    "outputId": "49063806-8254-4a05-9d13-1ad3f51bd161"
   },
   "outputs": [
    {
     "data": {
      "text/plain": [
       "3"
      ]
     },
     "execution_count": 7,
     "metadata": {},
     "output_type": "execute_result"
    }
   ],
   "source": [
    "# Si volem fer la suma de dos nombres, \n",
    "# no cal escriure tot el codi un altre cop\n",
    "suma(1, 2)"
   ]
  },
  {
   "cell_type": "markdown",
   "metadata": {
    "id": "EUsMypCfagdq"
   },
   "source": [
    "A la unitat 3 veurem en detall les funcions, però, de moment, és important conèixer dues funcions bàsiques: la funció `print` i la funció `input`. "
   ]
  },
  {
   "cell_type": "markdown",
   "metadata": {
    "id": "nduvm0fOagdq"
   },
   "source": [
    "### 5.3.1. Funció print\n",
    "\n",
    "La funció **print()** agafa com a paràmetre d'entrada un o més elements i els mostra per pantalla. Al imprimir-se, els elements es transformen en format text. Si hi ha més d'un paràmetre, aquests es mostren per defecte separats per un espai i, al final, s'acaba amb un salt de línia. "
   ]
  },
  {
   "cell_type": "code",
   "execution_count": 8,
   "metadata": {
    "colab": {
     "base_uri": "https://localhost:8080/"
    },
    "executionInfo": {
     "elapsed": 9,
     "status": "ok",
     "timestamp": 1664992518982,
     "user": {
      "displayName": "Alexandra Abos Ortega",
      "userId": "12009012866427188327"
     },
     "user_tz": -120
    },
    "id": "zVZxNn47agdq",
    "outputId": "15db01ac-e42e-4960-ddca-aec1a9a1a084"
   },
   "outputs": [
    {
     "name": "stdout",
     "output_type": "stream",
     "text": [
      "1 2 3\n",
      "Hello world\n",
      "Hello world\n",
      "\n",
      "1:2:3\n"
     ]
    }
   ],
   "source": [
    "# Mostrem per pantalla 3 elements\n",
    "print(1, 2, 3)\n",
    "\n",
    "# Mostrem per pantalla dos elements de text\n",
    "print('Hello', 'world')\n",
    "\n",
    "# Podem també escriure fragments de text\n",
    "print('Hello world')\n",
    "\n",
    "# Si no posem cap paràmetre, print retorna un salt de línia\n",
    "print()\n",
    "\n",
    "# També podem especificar altres separadors enlloc de l'espai\n",
    "print(1, 2, 3, sep = ':')"
   ]
  },
  {
   "cell_type": "markdown",
   "metadata": {
    "id": "n3iN9vBJagdr"
   },
   "source": [
    "Un altre aspecte a destacar són les **seqüències d'escapament** (en anglès, *escape sequences*), conjunts de caràcters que tenen un significat especial per l'intèrpret. En Python, quan utilitzem la funció print(), podem especificar els salts de línia o el tabulador mitjançant seqüències de fugida. Per exemple:"
   ]
  },
  {
   "cell_type": "code",
   "execution_count": 9,
   "metadata": {
    "colab": {
     "base_uri": "https://localhost:8080/"
    },
    "executionInfo": {
     "elapsed": 9,
     "status": "ok",
     "timestamp": 1664992518983,
     "user": {
      "displayName": "Alexandra Abos Ortega",
      "userId": "12009012866427188327"
     },
     "user_tz": -120
    },
    "id": "w4YG0sfOagdr",
    "outputId": "80b28a21-0283-4186-9cd0-0d6847b786b1"
   },
   "outputs": [
    {
     "name": "stdout",
     "output_type": "stream",
     "text": [
      "Hello\tworld\n",
      "Hello\n",
      "world\n"
     ]
    }
   ],
   "source": [
    "# Utilitzem \\t per a afegir un tabulador\n",
    "print('Hello\\tworld')\n",
    "\n",
    "# Utilitzem \\n per a afegir un salt de línia\n",
    "print('Hello\\nworld')"
   ]
  },
  {
   "cell_type": "markdown",
   "metadata": {
    "id": "9xo_ErDXagdr"
   },
   "source": [
    "### 5.3.2. Funció input \n",
    "\n",
    "La funció **input** permet a l'usuari introduir un valor per pantalla que, posteriorment, pot ser guardat i utilitzat pel programa. \n",
    "És important destacar que l'element que l'usuari especifica mitjançant input() es retorna en forma de text. \n",
    "\n",
    "Aquesta funció és molt útil ja que permet la interacció entre el codi i el seu usuari. "
   ]
  },
  {
   "cell_type": "code",
   "execution_count": 10,
   "metadata": {
    "colab": {
     "base_uri": "https://localhost:8080/"
    },
    "executionInfo": {
     "elapsed": 210779,
     "status": "ok",
     "timestamp": 1664992729754,
     "user": {
      "displayName": "Alexandra Abos Ortega",
      "userId": "12009012866427188327"
     },
     "user_tz": -120
    },
    "id": "QHIUDW1tagdr",
    "outputId": "2ee8c618-98e6-4b71-ddc5-355d0cacccd4"
   },
   "outputs": [
    {
     "name": "stdout",
     "output_type": "stream",
     "text": [
      "Introdueix el teu nom i cognoms\n",
      "Alex Ortega\n",
      "El nom introduït és el seguent:  Alex Ortega\n"
     ]
    }
   ],
   "source": [
    "# En aquest exemple, demanem a l'usuari que introdueixi el seu nom\n",
    "# Aquesta informació es guarda a la variable \"nom\"\n",
    "# Aquí també podem veure com utilizem \\n per a fer el salt de línia\n",
    "nom = input(\"Introdueix el teu nom i cognoms\\n\")\n",
    "\n",
    "# La variable \"nom\" pot ser utilitzada després\n",
    "print(\"El nom introduït és el seguent: \", nom)"
   ]
  },
  {
   "cell_type": "markdown",
   "metadata": {
    "id": "-y_1Yrjmagds"
   },
   "source": [
    "## 5.4. Tipus de dades\n",
    "\n",
    "A continuació presentem alguns dels tipus nadius de dades que una variable de Python pot contenir: \n",
    "nombres enters (int), nombres decimals (float), nombres complexos\n",
    "(complex), cadena de caràcters (string), llistes (list), tuples (tuple)\n",
    "i diccionaris (dict). "
   ]
  },
  {
   "cell_type": "markdown",
   "metadata": {
    "id": "sXIbi5Klagds"
   },
   "source": [
    "| Tipus de dada| Exemple |\n",
    "| :- | :-: |\n",
    "| enters (int) | num_enter = 1  |\n",
    "| nombres decimals (float) | num_dec = 1.5  |\n",
    "| nombres complexos (complex) | num_complex = 2 + 3j  |\n",
    "| cadena de caràcters (string) | text = \"Hello World\"  |\n",
    "| llistes (list) | llista = [1, 2, 3] |\n",
    "| tuples (tuple) |  peli = ('Aladdin', 1992) |\n",
    "| diccionaris (dict) | fruita = {'pera' : 1.5, 'poma' : 3.4}  |\n",
    "\n",
    "Vegem uns exemples per un cada un d'aquests tipus:"
   ]
  },
  {
   "cell_type": "markdown",
   "metadata": {
    "id": "2r3wCWP1agds"
   },
   "source": [
    "### 5.4.1. Tipus numèrics i cadenes de caràcters"
   ]
  },
  {
   "cell_type": "code",
   "execution_count": 11,
   "metadata": {
    "attributes": {
     "classes": [
      "sourceCode"
     ],
     "id": ""
    },
    "colab": {
     "base_uri": "https://localhost:8080/"
    },
    "executionInfo": {
     "elapsed": 51,
     "status": "ok",
     "timestamp": 1664992729755,
     "user": {
      "displayName": "Alexandra Abos Ortega",
      "userId": "12009012866427188327"
     },
     "user_tz": -120
    },
    "id": "GMKZ66PCagds",
    "outputId": "ee0f13e9-4ef0-40b0-bfb9-fdfcd8fac006"
   },
   "outputs": [
    {
     "name": "stdout",
     "output_type": "stream",
     "text": [
      "-4\n",
      "6\n",
      "-5\n",
      "-0.2\n",
      "-1\n"
     ]
    }
   ],
   "source": [
    "# Un nombre enter\n",
    "int_var = 1\n",
    "another_int_var = -5\n",
    "\n",
    "# Podem sumar-los, restar-los, multiplicar-los o dividir-los.\n",
    "print(int_var + another_int_var)\n",
    "print(int_var - another_int_var)\n",
    "print(int_var * another_int_var)\n",
    "print(int_var / another_int_var)\n",
    "\n",
    "# També podem realitzar la divisió entera.\n",
    "# Com que només tractem amb nombres enters, no hi haurà part decimal.\n",
    "print(int_var // another_int_var)"
   ]
  },
  {
   "cell_type": "markdown",
   "metadata": {
    "id": "3PGG4o4xagds"
   },
   "source": [
    "El comportament de l'operador `/` és una de les diferències entre Python 2 i Python 3. Mentre que en Python 3, l'operador `/` realitza la divisió real entre dos nombres enters (fixeu-vos que `1 / -5` dóna com a resultat `0.2`), en Python 2 realitzava la divisió entera (per la qual cosa el resultat d'executar` 1 / -5` en Python 2 seria `-1`). Noteu que usem l'operador `//` per expressar la divisió entera en Python 3."
   ]
  },
  {
   "cell_type": "code",
   "execution_count": 12,
   "metadata": {
    "attributes": {
     "classes": [
      "sourceCode"
     ],
     "id": ""
    },
    "colab": {
     "base_uri": "https://localhost:8080/"
    },
    "executionInfo": {
     "elapsed": 48,
     "status": "ok",
     "timestamp": 1664992729755,
     "user": {
      "displayName": "Alexandra Abos Ortega",
      "userId": "12009012866427188327"
     },
     "user_tz": -120
    },
    "id": "MIQgRUC8agds",
    "outputId": "e818af45-5200-420e-a5f5-0bc4ec7046b5"
   },
   "outputs": [
    {
     "name": "stdout",
     "output_type": "stream",
     "text": [
      "3.2\n",
      "-1.8\n",
      "1.75\n",
      "0.27999999999999997\n",
      "0.0\n"
     ]
    }
   ],
   "source": [
    "# Un nombre decimal o 'float'\n",
    "float_var = 2.5\n",
    "another_float_var = .7\n",
    "\n",
    "# Convertim un nombre enter en un de decimal \n",
    "# mitjançant la funció 'float() '\n",
    "encore_float = float(7)\n",
    "\n",
    "# Podem fer el mateix en sentit contrari \n",
    "# amb la funció 'int()'\n",
    "new_int = int(encore_float)\n",
    "\n",
    "# Podem fer les mateixes operacions que \n",
    "# en el cas dels nombres enters, \n",
    "# però en aquest cas la divisió serà\n",
    "# decimal si algun dels nombres és decimal.\n",
    "print(another_float_var + float_var)\n",
    "print(another_float_var - float_var)\n",
    "print(another_float_var * float_var)\n",
    "print(another_float_var / float_var)\n",
    "print(another_float_var // float_var)"
   ]
  },
  {
   "cell_type": "code",
   "execution_count": 13,
   "metadata": {
    "attributes": {
     "classes": [
      "sourceCode"
     ],
     "id": ""
    },
    "colab": {
     "base_uri": "https://localhost:8080/"
    },
    "executionInfo": {
     "elapsed": 48,
     "status": "ok",
     "timestamp": 1664992729756,
     "user": {
      "displayName": "Alexandra Abos Ortega",
      "userId": "12009012866427188327"
     },
     "user_tz": -120
    },
    "id": "9zE1cMSVagdt",
    "outputId": "42df1dd5-f947-4c66-bf87-639cf2f396d8"
   },
   "outputs": [
    {
     "name": "stdout",
     "output_type": "stream",
     "text": [
      "3.0\n",
      "2.0\n"
     ]
    }
   ],
   "source": [
    "# Un nombre complex\n",
    "complex_var = 2 + 3j\n",
    "\n",
    "# Podem accedir a la part imaginària o a la part real:\n",
    "print(complex_var.imag)\n",
    "print(complex_var.real)"
   ]
  },
  {
   "cell_type": "code",
   "execution_count": 14,
   "metadata": {
    "colab": {
     "base_uri": "https://localhost:8080/"
    },
    "executionInfo": {
     "elapsed": 47,
     "status": "ok",
     "timestamp": 1664992729756,
     "user": {
      "displayName": "Alexandra Abos Ortega",
      "userId": "12009012866427188327"
     },
     "user_tz": -120
    },
    "id": "9m4ieGUqagdt",
    "outputId": "49f255e0-da2a-4fd4-c2a4-38f170628713"
   },
   "outputs": [
    {
     "name": "stdout",
     "output_type": "stream",
     "text": [
      "Hello, Bio! ñç\n"
     ]
    }
   ],
   "source": [
    "# Cadena de caràcters\n",
    "my_string = 'Hello, Bio! ñç'\n",
    "print(my_string)"
   ]
  },
  {
   "cell_type": "markdown",
   "metadata": {
    "id": "PgHoWVV4agdt"
   },
   "source": [
    "Fixeu-vos que podem incloure caràcters unicode (com `ñ`o`ç`) a les cadenes. Això també és una novetat de Python 3 (les variables de tipus `str` són ara UTF-8)."
   ]
  },
  {
   "cell_type": "code",
   "execution_count": 15,
   "metadata": {
    "attributes": {
     "classes": [
      "sourceCode"
     ],
     "id": ""
    },
    "colab": {
     "base_uri": "https://localhost:8080/"
    },
    "executionInfo": {
     "elapsed": 48,
     "status": "ok",
     "timestamp": 1664992729757,
     "user": {
      "displayName": "Alexandra Abos Ortega",
      "userId": "12009012866427188327"
     },
     "user_tz": -120
    },
    "id": "txh1PXmtagdu",
    "outputId": "f7480caf-58f3-4813-a25d-fdd0fc0833fe"
   },
   "outputs": [
    {
     "name": "stdout",
     "output_type": "stream",
     "text": [
      "Hello, Bio! ñc\n",
      "Hello, Guido! You've got 5 new emails\n"
     ]
    }
   ],
   "source": [
    "# Podem concatenar dues cadenes utilitzant l'operador '+'.\n",
    "same_string = 'Hello, ' + 'Bio' + '!' + ' ñc'\n",
    "print(same_string)\n",
    "\n",
    "# A Python també podem utilitzar wildcards \n",
    "# com en la funció 'sprintf' de C. \n",
    "# Per exemple:\n",
    "name = \"Guido\"\n",
    "num_emails = 5\n",
    "print(\"Hello, %s! You've got %d new emails\" % (name, num_emails))"
   ]
  },
  {
   "cell_type": "markdown",
   "metadata": {
    "id": "FkgaQJxtagdu"
   },
   "source": [
    "A l'exemple anterior, hem substituït a l'_string_ la cadena *%s* pel\n",
    "contingut de la variable *name*, que és un _string_, i *%d* per\n",
    "*num_emails*, que és un nombre enter. També podríem utilitzar *%f* per\n",
    "a nombres decimals (podríem indicar la precisió, per exemple, amb *%5.3f*, el nombre tindria una mida total de cinc xifres i tres serien per la part decimal). Hi ha moltes altres possibilitats, però haurem de\n",
    "tenir en compte el tipus de variable que volem substituir. Per exemple,\n",
    "si utilitzem *%d* i el contingut és _string_, Python retornarà un\n",
    "missatge d'error. Per evitar aquesta situació, es recomana l'ús de la\n",
    "funció *str()* per convertir el valor a _string_.\n",
    "\n",
    "També podem mostrar el contingut de les variables sense especificar el seu tipus, fent servir `format`:"
   ]
  },
  {
   "cell_type": "code",
   "execution_count": 16,
   "metadata": {
    "colab": {
     "base_uri": "https://localhost:8080/"
    },
    "executionInfo": {
     "elapsed": 47,
     "status": "ok",
     "timestamp": 1664992729757,
     "user": {
      "displayName": "Alexandra Abos Ortega",
      "userId": "12009012866427188327"
     },
     "user_tz": -120
    },
    "id": "MkCNkm7tagdu",
    "outputId": "a19b1554-54b8-4344-a8b8-d4a73ff053ec"
   },
   "outputs": [
    {
     "name": "stdout",
     "output_type": "stream",
     "text": [
      "Hello, Guido! You've got 5 new emails\n"
     ]
    }
   ],
   "source": [
    "print(\"Hello, {}! You've got {} new emails\".format(name, num_emails))"
   ]
  },
  {
   "cell_type": "markdown",
   "metadata": {
    "id": "e0I18BS2agdu"
   },
   "source": [
    "### 5.4.2. Llistes, tuples i diccionaris\n",
    "\n",
    "Ara presentarem altres tipus de dades nadius més complexos: llistes,\n",
    "tuples i diccionaris:"
   ]
  },
  {
   "cell_type": "code",
   "execution_count": 17,
   "metadata": {
    "colab": {
     "base_uri": "https://localhost:8080/"
    },
    "executionInfo": {
     "elapsed": 47,
     "status": "ok",
     "timestamp": 1664992729758,
     "user": {
      "displayName": "Alexandra Abos Ortega",
      "userId": "12009012866427188327"
     },
     "user_tz": -120
    },
    "id": "UJRkFJIAagdu",
    "outputId": "d877fe28-d3c5-423c-fe37-b9752b7f7c49"
   },
   "outputs": [
    {
     "name": "stdout",
     "output_type": "stream",
     "text": [
      "['3', 'a string', ['a list inside another list', 'second item'], 7.5]\n"
     ]
    }
   ],
   "source": [
    "# Definim una llista amb el nom dels planetes (string).\n",
    "planets = ['Mercury', 'Venus', 'Earth', 'Mars',\n",
    "           'Jupiter', 'Saturn', 'Uranus', 'Neptune']\n",
    "\n",
    "# També pot contenir números.\n",
    "prime_numbers = [2, 3, 5, 7]\n",
    "\n",
    "# Una llista buida\n",
    "empty_list = []\n",
    "\n",
    "# O una barreja de qualsevol tipus:\n",
    "sandbox = ['3', 'a string', \n",
    "           ['a list inside another list', 'second item'], \n",
    "           7.5]\n",
    "\n",
    "# Mostrem els elements per pantalla\n",
    "print(sandbox)"
   ]
  },
  {
   "cell_type": "code",
   "execution_count": 18,
   "metadata": {
    "attributes": {
     "classes": [
      "sourceCode"
     ],
     "id": ""
    },
    "colab": {
     "base_uri": "https://localhost:8080/"
    },
    "executionInfo": {
     "elapsed": 46,
     "status": "ok",
     "timestamp": 1664992729758,
     "user": {
      "displayName": "Alexandra Abos Ortega",
      "userId": "12009012866427188327"
     },
     "user_tz": -120
    },
    "id": "I9jhM_1qagdv",
    "outputId": "feb13d04-44cb-4bac-b68a-d71ad4ba93fa"
   },
   "outputs": [
    {
     "name": "stdout",
     "output_type": "stream",
     "text": [
      "['Mercury', 'Venus', 'Earth', 'Mars', 'Jupiter', 'Saturn', 'Uranus', 'Neptune', 'Pluto']\n"
     ]
    }
   ],
   "source": [
    "# Podem afegir elements a una llista.\n",
    "planets.append('Pluto')\n",
    "print(planets)"
   ]
  },
  {
   "cell_type": "code",
   "execution_count": 19,
   "metadata": {
    "attributes": {
     "classes": [
      "sourceCode"
     ],
     "id": ""
    },
    "colab": {
     "base_uri": "https://localhost:8080/"
    },
    "executionInfo": {
     "elapsed": 46,
     "status": "ok",
     "timestamp": 1664992729759,
     "user": {
      "displayName": "Alexandra Abos Ortega",
      "userId": "12009012866427188327"
     },
     "user_tz": -120
    },
    "id": "CHTjgAMKagdv",
    "outputId": "e00caa43-c206-4073-ff30-27b001a245b0"
   },
   "outputs": [
    {
     "name": "stdout",
     "output_type": "stream",
     "text": [
      "['Mercury', 'Venus', 'Earth', 'Mars', 'Jupiter', 'Saturn', 'Uranus', 'Neptune']\n"
     ]
    }
   ],
   "source": [
    "# O en podem eliminar.\n",
    "planets.remove('Pluto')\n",
    "print(planets)"
   ]
  },
  {
   "cell_type": "code",
   "execution_count": 20,
   "metadata": {
    "attributes": {
     "classes": [
      "sourceCode"
     ],
     "id": ""
    },
    "colab": {
     "base_uri": "https://localhost:8080/"
    },
    "executionInfo": {
     "elapsed": 44,
     "status": "ok",
     "timestamp": 1664992729760,
     "user": {
      "displayName": "Alexandra Abos Ortega",
      "userId": "12009012866427188327"
     },
     "user_tz": -120
    },
    "id": "vfh_q4hKagdv",
    "outputId": "5bea5dee-a923-48d3-8b24-a1dbcfdabd5f"
   },
   "outputs": [
    {
     "name": "stdout",
     "output_type": "stream",
     "text": [
      "['Mercury', 'Earth', 'Mars', 'Jupiter', 'Saturn', 'Uranus', 'Neptune']\n"
     ]
    }
   ],
   "source": [
    "# Podem eliminar qualsevol element de la llista.\n",
    "planets.remove('Venus')\n",
    "print(planets)"
   ]
  },
  {
   "cell_type": "code",
   "execution_count": 21,
   "metadata": {
    "attributes": {
     "classes": [
      "sourceCode"
     ],
     "id": ""
    },
    "colab": {
     "base_uri": "https://localhost:8080/"
    },
    "executionInfo": {
     "elapsed": 41,
     "status": "ok",
     "timestamp": 1664992729760,
     "user": {
      "displayName": "Alexandra Abos Ortega",
      "userId": "12009012866427188327"
     },
     "user_tz": -120
    },
    "id": "7OYIluPeagdv",
    "outputId": "52f6a60e-345c-49f9-a713-ff182572867d"
   },
   "outputs": [
    {
     "name": "stdout",
     "output_type": "stream",
     "text": [
      "['Mercury', 'Earth', 'Mars', 'Jupiter', 'Saturn', 'Uranus', 'Neptune', 'Venus']\n"
     ]
    }
   ],
   "source": [
    "# Sempre que n'afegim, serà al final de la llista. \n",
    "# Una llista està ordenada.\n",
    "planets.append('Venus')\n",
    "print(planets)"
   ]
  },
  {
   "cell_type": "code",
   "execution_count": 22,
   "metadata": {
    "attributes": {
     "classes": [
      "sourceCode"
     ],
     "id": ""
    },
    "colab": {
     "base_uri": "https://localhost:8080/"
    },
    "executionInfo": {
     "elapsed": 41,
     "status": "ok",
     "timestamp": 1664992729761,
     "user": {
      "displayName": "Alexandra Abos Ortega",
      "userId": "12009012866427188327"
     },
     "user_tz": -120
    },
    "id": "rHeIacR-agdv",
    "outputId": "9afc025f-9f3f-4428-dc2e-f1f599092836"
   },
   "outputs": [
    {
     "name": "stdout",
     "output_type": "stream",
     "text": [
      "['Earth', 'Jupiter', 'Mars', 'Mercury', 'Neptune', 'Saturn', 'Uranus', 'Venus']\n"
     ]
    }
   ],
   "source": [
    "# Si volem ordenar-la alfabèticament, \n",
    "# podem utilitzar la funció 'sorted()'\n",
    "print(sorted(planets))"
   ]
  },
  {
   "cell_type": "code",
   "execution_count": 23,
   "metadata": {
    "attributes": {
     "classes": [
      "sourceCode"
     ],
     "id": ""
    },
    "colab": {
     "base_uri": "https://localhost:8080/"
    },
    "executionInfo": {
     "elapsed": 40,
     "status": "ok",
     "timestamp": 1664992729761,
     "user": {
      "displayName": "Alexandra Abos Ortega",
      "userId": "12009012866427188327"
     },
     "user_tz": -120
    },
    "id": "OBDWECNQagdw",
    "outputId": "894859ec-8446-4f82-c03a-84ef3e9be8b6"
   },
   "outputs": [
    {
     "name": "stdout",
     "output_type": "stream",
     "text": [
      "['Godzilla', 'King Kong', 'Cthulu']\n"
     ]
    }
   ],
   "source": [
    "# Podem concatenar dues llistes:\n",
    "monsters = ['Godzilla', 'King Kong']\n",
    "more_monsters = ['Cthulu']\n",
    "\n",
    "# Mostrem el resultat per pantalla\n",
    "print(monsters + more_monsters)"
   ]
  },
  {
   "cell_type": "code",
   "execution_count": 24,
   "metadata": {
    "attributes": {
     "classes": [
      "sourceCode"
     ],
     "id": ""
    },
    "colab": {
     "base_uri": "https://localhost:8080/"
    },
    "executionInfo": {
     "elapsed": 40,
     "status": "ok",
     "timestamp": 1664992729762,
     "user": {
      "displayName": "Alexandra Abos Ortega",
      "userId": "12009012866427188327"
     },
     "user_tz": -120
    },
    "id": "JT769c7Cagdw",
    "outputId": "44ba1157-0951-4708-e2c1-8055964bbdbb"
   },
   "outputs": [
    {
     "name": "stdout",
     "output_type": "stream",
     "text": [
      "['Godzilla', 'King Kong', 'Cthulu']\n"
     ]
    }
   ],
   "source": [
    "# Podem concatenar una llista amb una altra \n",
    "# i guardar-la a la mateixa llista:\n",
    "monsters.extend(more_monsters)\n",
    "\n",
    "# Mostrem el resultat per pantalla\n",
    "print(monsters)"
   ]
  },
  {
   "cell_type": "code",
   "execution_count": 25,
   "metadata": {
    "attributes": {
     "classes": [
      "sourceCode"
     ],
     "id": ""
    },
    "colab": {
     "base_uri": "https://localhost:8080/"
    },
    "executionInfo": {
     "elapsed": 39,
     "status": "ok",
     "timestamp": 1664992729762,
     "user": {
      "displayName": "Alexandra Abos Ortega",
      "userId": "12009012866427188327"
     },
     "user_tz": -120
    },
    "id": "7JZSzoIMagdw",
    "outputId": "fcd9210d-4ce3-47c4-b8e1-7e11856272a8"
   },
   "outputs": [
    {
     "name": "stdout",
     "output_type": "stream",
     "text": [
      "Godzilla\n",
      "King Kong\n",
      "Cthulu\n",
      "King Kong\n"
     ]
    }
   ],
   "source": [
    "# Podem accedir a un element en concret de la llista:\n",
    "print(monsters[0])\n",
    "\n",
    "# El primer element d'una llista és el 0, per tant, el segon serà l'1:\n",
    "print(monsters[1])\n",
    "\n",
    "# Podem accedir a l'últim element mitjançant nombres negatius:\n",
    "print(monsters[-1])\n",
    "\n",
    "# Penúltim:\n",
    "print(monsters[-2])"
   ]
  },
  {
   "cell_type": "code",
   "execution_count": 26,
   "metadata": {
    "colab": {
     "base_uri": "https://localhost:8080/"
    },
    "executionInfo": {
     "elapsed": 40,
     "status": "ok",
     "timestamp": 1664992729763,
     "user": {
      "displayName": "Alexandra Abos Ortega",
      "userId": "12009012866427188327"
     },
     "user_tz": -120
    },
    "id": "uk5nFk8Oagdw",
    "outputId": "5f3f960f-7c72-4cb0-ef2f-9c12d0b334bb"
   },
   "outputs": [
    {
     "name": "stdout",
     "output_type": "stream",
     "text": [
      "['Mercury', 'Venus']\n"
     ]
    }
   ],
   "source": [
    "# També podem obtenir parts d'una llista \n",
    "# mitjançant la tècnica de 'slicing'.\n",
    "planets = ['Mercury', 'Venus', 'Earth', 'Mars',\n",
    "           'Jupiter', 'Saturn', 'Uranus', 'Neptune']\n",
    "\n",
    "# Per exemple, els dos primers elements:\n",
    "print(planets[:2])"
   ]
  },
  {
   "cell_type": "code",
   "execution_count": 27,
   "metadata": {
    "colab": {
     "base_uri": "https://localhost:8080/"
    },
    "executionInfo": {
     "elapsed": 39,
     "status": "ok",
     "timestamp": 1664992729763,
     "user": {
      "displayName": "Alexandra Abos Ortega",
      "userId": "12009012866427188327"
     },
     "user_tz": -120
    },
    "id": "iXK8ScO3agdx",
    "outputId": "a53b1fc8-199a-4b3e-a493-5825d6ac6c36"
   },
   "outputs": [
    {
     "name": "stdout",
     "output_type": "stream",
     "text": [
      "['Earth', 'Mars', 'Jupiter']\n"
     ]
    }
   ],
   "source": [
    "# O els elements entre les posicions 2 i 4\n",
    "print(planets[2:5])"
   ]
  },
  {
   "cell_type": "markdown",
   "metadata": {
    "id": "RPCRoNXCagdx"
   },
   "source": [
    "Fixeu-vos en aquest últim exemple: en la posició 2 trobem el tercer element de la llista (`'Earth'`) ja que la llista comença a indexar en 0. A més, l'últim element indicat (la posició` 5`) no s'inclou."
   ]
  },
  {
   "cell_type": "code",
   "execution_count": 28,
   "metadata": {
    "attributes": {
     "classes": [
      "sourceCode"
     ],
     "id": ""
    },
    "colab": {
     "base_uri": "https://localhost:8080/"
    },
    "executionInfo": {
     "elapsed": 39,
     "status": "ok",
     "timestamp": 1664992729764,
     "user": {
      "displayName": "Alexandra Abos Ortega",
      "userId": "12009012866427188327"
     },
     "user_tz": -120
    },
    "id": "4CY9njIoagdx",
    "outputId": "84b09912-fd67-47cb-b66d-dea2809e77b5"
   },
   "outputs": [
    {
     "name": "stdout",
     "output_type": "stream",
     "text": [
      "['Venus', 'Earth', 'Mars', 'Jupiter', 'Saturn', 'Uranus']\n"
     ]
    }
   ],
   "source": [
    "# O els elements del segon al penúltim:\n",
    "print(planets[1:-1])"
   ]
  },
  {
   "cell_type": "markdown",
   "metadata": {
    "id": "35E588wEagdx"
   },
   "source": [
    "La tècnica de _**slicing**_ és molt important i ens permet gestionar\n",
    "llistes d'una manera molt senzilla i potent. Serà imprescindible dominar-la per afrontar molts dels problemes que haurem de resoldre en el camp de\n",
    "la ciència de dades."
   ]
  },
  {
   "cell_type": "code",
   "execution_count": 29,
   "metadata": {
    "attributes": {
     "classes": [
      "sourceCode"
     ],
     "id": ""
    },
    "colab": {
     "base_uri": "https://localhost:8080/"
    },
    "executionInfo": {
     "elapsed": 40,
     "status": "ok",
     "timestamp": 1664992729766,
     "user": {
      "displayName": "Alexandra Abos Ortega",
      "userId": "12009012866427188327"
     },
     "user_tz": -120
    },
    "id": "m8B3IJEEagdx",
    "outputId": "59aef754-4e6f-4aee-d6bc-0f481df180c9"
   },
   "outputs": [
    {
     "name": "stdout",
     "output_type": "stream",
     "text": [
      "['Godzilla', 'King Kong', 'Kraken']\n"
     ]
    }
   ],
   "source": [
    "# Podem modificar un element en concret d'una llista:\n",
    "monsters = ['Godzilla', 'King Kong', 'Cthulu']\n",
    "monsters[-1] = 'Kraken'\n",
    "\n",
    "# Mostrem la llista per pantalla\n",
    "print(monsters)"
   ]
  },
  {
   "cell_type": "code",
   "execution_count": 30,
   "metadata": {
    "attributes": {
     "classes": [
      "sourceCode"
     ],
     "id": ""
    },
    "colab": {
     "base_uri": "https://localhost:8080/",
     "height": 200
    },
    "executionInfo": {
     "elapsed": 40,
     "status": "error",
     "timestamp": 1664992729767,
     "user": {
      "displayName": "Alexandra Abos Ortega",
      "userId": "12009012866427188327"
     },
     "user_tz": -120
    },
    "id": "HunLHXOmagdx",
    "outputId": "24d00b8e-cc9e-4983-c910-457ab2453c09"
   },
   "outputs": [
    {
     "ename": "TypeError",
     "evalue": "ignored",
     "output_type": "error",
     "traceback": [
      "\u001b[0;31m---------------------------------------------------------------------------\u001b[0m",
      "\u001b[0;31mTypeError\u001b[0m                                 Traceback (most recent call last)",
      "\u001b[0;32m<ipython-input-30-bd7a85c84205>\u001b[0m in \u001b[0;36m<module>\u001b[0;34m\u001b[0m\n\u001b[1;32m      5\u001b[0m \u001b[0;34m\u001b[0m\u001b[0m\n\u001b[1;32m      6\u001b[0m \u001b[0;31m# Si executem la línia següent, obtindrem un error de tipus 'TypeError'\u001b[0m\u001b[0;34m\u001b[0m\u001b[0;34m\u001b[0m\u001b[0;34m\u001b[0m\u001b[0m\n\u001b[0;32m----> 7\u001b[0;31m \u001b[0mbirth_year\u001b[0m\u001b[0;34m[\u001b[0m\u001b[0;36m1\u001b[0m\u001b[0;34m]\u001b[0m \u001b[0;34m=\u001b[0m \u001b[0;36m1984\u001b[0m\u001b[0;34m\u001b[0m\u001b[0;34m\u001b[0m\u001b[0m\n\u001b[0m",
      "\u001b[0;31mTypeError\u001b[0m: 'tuple' object does not support item assignment"
     ]
    }
   ],
   "source": [
    "# Una tupla és un tipus molt semblant a una llista, \n",
    "# però és immutable, és a dir, un cop declarada \n",
    "# no podem afegir-hi elements ni eliminar-ne:\n",
    "birth_year = ('Stephen Hawking', 1942)\n",
    "\n",
    "# Si executem la línia següent, obtindrem un error de tipus 'TypeError'\n",
    "birth_year[1] = 1984"
   ]
  },
  {
   "cell_type": "markdown",
   "metadata": {
    "id": "qye1DLmmagdy"
   },
   "source": [
    "Els errors en Python solen ser molt informatius. Una recerca a internet\n",
    "ens ajudarà en la gran majoria de problemes que puguem tenir."
   ]
  },
  {
   "cell_type": "code",
   "execution_count": 31,
   "metadata": {
    "attributes": {
     "classes": [
      "sourceCode"
     ],
     "id": ""
    },
    "colab": {
     "base_uri": "https://localhost:8080/"
    },
    "executionInfo": {
     "elapsed": 616,
     "status": "ok",
     "timestamp": 1664992749841,
     "user": {
      "displayName": "Alexandra Abos Ortega",
      "userId": "12009012866427188327"
     },
     "user_tz": -120
    },
    "id": "38kz2ESPagdy",
    "outputId": "c8cd399f-6ba8-4f27-c57e-3cc9859c3014"
   },
   "outputs": [
    {
     "name": "stdout",
     "output_type": "stream",
     "text": [
      "t\n",
      "Einstein\n",
      "Einstein\n",
      "['E', 'i', 'n', 's', 't', 'e', 'i', 'n']\n",
      "Einstein\n",
      "E.i.n.s.t.e.i.n\n"
     ]
    }
   ],
   "source": [
    "# Un string també és considerat una llista de caràcters.\n",
    "# Així doncs, podem accedir a una posició determinada \n",
    "# (tot i que no modificar-la):\n",
    "name = 'Albert Einstein'\n",
    "print(name[5])\n",
    "\n",
    "# Podem fer servir slicing també amb les cadenas de caràcters\n",
    "print(name[7:15])\n",
    "\n",
    "# Podem separar pel caràcter que considerem un string. \n",
    "# En aquest cas, per l'espai en blanc, utilitzant\n",
    "# la funció 'split()'.\n",
    "n, surname = name.split()\n",
    "print(surname)\n",
    "\n",
    "# I podem convertir un determinat string en una llista \n",
    "# de caràcters fàcilment:\n",
    "chars = list(surname)\n",
    "print(chars)\n",
    "\n",
    "# Per unir els diferents elements d'una llista \n",
    "# mitjançant un caràcter, podem utilitzar la funció \n",
    "# 'join()':\n",
    "print(''.join(chars))\n",
    "print('.'.join(chars))"
   ]
  },
  {
   "cell_type": "code",
   "execution_count": 32,
   "metadata": {
    "attributes": {
     "classes": [
      "sourceCode"
     ],
     "id": ""
    },
    "colab": {
     "base_uri": "https://localhost:8080/"
    },
    "executionInfo": {
     "elapsed": 6,
     "status": "ok",
     "timestamp": 1664992750301,
     "user": {
      "displayName": "Alexandra Abos Ortega",
      "userId": "12009012866427188327"
     },
     "user_tz": -120
    },
    "id": "0s6vq1Mzagdy",
    "outputId": "7f8d8de5-8851-40f0-e198-534b7d07f279"
   },
   "outputs": [
    {
     "name": "stdout",
     "output_type": "stream",
     "text": [
      "-5\n",
      "5\n"
     ]
    }
   ],
   "source": [
    "# L'operador ',' és el creador de tuples. \n",
    "# Per exemple, el típic problema d'assignar el valor d'una \n",
    "# variable a una altra en Python es pot resoldre \n",
    "# en una línia d'una manera molt elegant utilitzant \n",
    "# tuples (es tracta d'un idiom):\n",
    "a = 5\n",
    "b = -5\n",
    "a, b = b, a\n",
    "print(a)\n",
    "print(b)"
   ]
  },
  {
   "cell_type": "markdown",
   "metadata": {
    "id": "qkQFVkbEagdy"
   },
   "source": [
    "L'anterior exemple és un *idiom* típic de Python. A la tercera línia,\n",
    "creem una tupla (a,b) a la qual assignem els valors un per un de la\n",
    "tupla (b,a). Els parèntesis no són necessaris, i per això queda una\n",
    "notació tan reduïda.\n",
    "\n",
    "Per acabar, presentarem els diccionaris, una estructura de dades molt\n",
    "útil a la qual assignem un valor a una clau en el diccionari:"
   ]
  },
  {
   "cell_type": "code",
   "execution_count": 33,
   "metadata": {
    "attributes": {
     "classes": [
      "sourceCode"
     ],
     "id": ""
    },
    "colab": {
     "base_uri": "https://localhost:8080/"
    },
    "executionInfo": {
     "elapsed": 4,
     "status": "ok",
     "timestamp": 1664992750301,
     "user": {
      "displayName": "Alexandra Abos Ortega",
      "userId": "12009012866427188327"
     },
     "user_tz": -120
    },
    "id": "QMfpQWU5agdy",
    "outputId": "c9dee202-9da1-4ff9-ee1b-fef1ca2ea7f6"
   },
   "outputs": [
    {
     "name": "stdout",
     "output_type": "stream",
     "text": [
      "Spain\n"
     ]
    }
   ],
   "source": [
    "# Codis internacionals d'alguns països. \n",
    "# La clau o 'key' és el codi de país, i el valor, el seu nom:\n",
    "country_codes = {34: 'Spain', 376: 'Andorra', \n",
    "                 41: 'Switzerland', 424: None}\n",
    "\n",
    "# Podem buscar\n",
    "my_code = 34\n",
    "country = country_codes[my_code]\n",
    "print(country)"
   ]
  },
  {
   "cell_type": "code",
   "execution_count": 34,
   "metadata": {
    "attributes": {
     "classes": [
      "sourceCode"
     ],
     "id": ""
    },
    "colab": {
     "base_uri": "https://localhost:8080/"
    },
    "executionInfo": {
     "elapsed": 4,
     "status": "ok",
     "timestamp": 1664992752029,
     "user": {
      "displayName": "Alexandra Abos Ortega",
      "userId": "12009012866427188327"
     },
     "user_tz": -120
    },
    "id": "-ALp3p3eagdz",
    "outputId": "937b3a4d-a3ea-4566-a93b-a4c4b9963b48"
   },
   "outputs": [
    {
     "name": "stdout",
     "output_type": "stream",
     "text": [
      "dict_keys([34, 376, 41, 424])\n"
     ]
    }
   ],
   "source": [
    "# Podem obtenir totes les claus:\n",
    "print(country_codes.keys())"
   ]
  },
  {
   "cell_type": "code",
   "execution_count": 35,
   "metadata": {
    "attributes": {
     "classes": [
      "sourceCode"
     ],
     "id": ""
    },
    "colab": {
     "base_uri": "https://localhost:8080/"
    },
    "executionInfo": {
     "elapsed": 4,
     "status": "ok",
     "timestamp": 1664992752452,
     "user": {
      "displayName": "Alexandra Abos Ortega",
      "userId": "12009012866427188327"
     },
     "user_tz": -120
    },
    "id": "VMJgykC3agdz",
    "outputId": "703960e2-4fe2-4df2-c64f-2596e6743870"
   },
   "outputs": [
    {
     "name": "stdout",
     "output_type": "stream",
     "text": [
      "dict_values(['Spain', 'Andorra', 'Switzerland', None])\n"
     ]
    }
   ],
   "source": [
    "# O els valors:\n",
    "print(country_codes.values())"
   ]
  },
  {
   "cell_type": "code",
   "execution_count": 36,
   "metadata": {
    "attributes": {
     "classes": [
      "sourceCode"
     ],
     "id": ""
    },
    "colab": {
     "base_uri": "https://localhost:8080/"
    },
    "executionInfo": {
     "elapsed": 6,
     "status": "ok",
     "timestamp": 1664992754190,
     "user": {
      "displayName": "Alexandra Abos Ortega",
      "userId": "12009012866427188327"
     },
     "user_tz": -120
    },
    "id": "Vd0vqH52agdz",
    "outputId": "797265b6-1628-4710-ed10-b9a3cfa856e7"
   },
   "outputs": [
    {
     "name": "stdout",
     "output_type": "stream",
     "text": [
      "{34: 'Spain', 81: 'Japan'}\n"
     ]
    }
   ],
   "source": [
    "# Podem modificar valors al diccionari o afegir noves claus.\n",
    "# Definim un diccionari buit. \n",
    "# 'country_codes = dict()' és una notació equivalent:\n",
    "country_codes = {}\n",
    "\n",
    "# Afegim un element:\n",
    "country_codes[34] = 'Spain'\n",
    "\n",
    "# N'afegim un altre:\n",
    "country_codes[81] = 'Japan'\n",
    "\n",
    "print(country_codes)"
   ]
  },
  {
   "cell_type": "code",
   "execution_count": 37,
   "metadata": {
    "attributes": {
     "classes": [
      "sourceCode"
     ],
     "id": ""
    },
    "colab": {
     "base_uri": "https://localhost:8080/"
    },
    "executionInfo": {
     "elapsed": 6,
     "status": "ok",
     "timestamp": 1664992754192,
     "user": {
      "displayName": "Alexandra Abos Ortega",
      "userId": "12009012866427188327"
     },
     "user_tz": -120
    },
    "id": "0JKvISYhagdz",
    "outputId": "7a653e7d-f72d-4c01-c69e-dd744cfdb49a"
   },
   "outputs": [
    {
     "name": "stdout",
     "output_type": "stream",
     "text": [
      "{34: 'Spain', 81: 'Andorra'}\n"
     ]
    }
   ],
   "source": [
    "# Modifiquem el diccionari:\n",
    "country_codes[81] = 'Andorra'\n",
    "\n",
    "print(country_codes)"
   ]
  },
  {
   "cell_type": "code",
   "execution_count": 38,
   "metadata": {
    "attributes": {
     "classes": [
      "sourceCode"
     ],
     "id": ""
    },
    "colab": {
     "base_uri": "https://localhost:8080/"
    },
    "executionInfo": {
     "elapsed": 3,
     "status": "ok",
     "timestamp": 1664992755138,
     "user": {
      "displayName": "Alexandra Abos Ortega",
      "userId": "12009012866427188327"
     },
     "user_tz": -120
    },
    "id": "dZmutCsaagdz",
    "outputId": "d14d0c84-b34e-4014-9094-d89afca6712f"
   },
   "outputs": [
    {
     "name": "stdout",
     "output_type": "stream",
     "text": [
      "{34: 'Spain', 81: None}\n"
     ]
    }
   ],
   "source": [
    "# Podem assignar el valor buit a un element:\n",
    "country_codes[81] = None\n",
    "\n",
    "print(country_codes)"
   ]
  },
  {
   "cell_type": "markdown",
   "metadata": {
    "id": "YIy_33R9agdz"
   },
   "source": [
    "Els valors buits ens seran útils per declarar una variable que no\n",
    "sapiguem quin valor o quin tipus de valor contindrà i per fer comparacions entre variables. Habitualment, els valors buits són _None_ o\n",
    "'', en el cas de les cadenes de caràcters."
   ]
  },
  {
   "cell_type": "code",
   "execution_count": 39,
   "metadata": {
    "attributes": {
     "classes": [
      "sourceCode"
     ],
     "id": ""
    },
    "colab": {
     "base_uri": "https://localhost:8080/"
    },
    "executionInfo": {
     "elapsed": 7,
     "status": "ok",
     "timestamp": 1664992757038,
     "user": {
      "displayName": "Alexandra Abos Ortega",
      "userId": "12009012866427188327"
     },
     "user_tz": -120
    },
    "id": "HX_fwcelagd0",
    "outputId": "e91fdf91-2fde-464d-a67f-a1f667842e7d"
   },
   "outputs": [
    {
     "name": "stdout",
     "output_type": "stream",
     "text": [
      "5 1\n",
      "5 5\n"
     ]
    }
   ],
   "source": [
    "# Podem assignar el valor d'una variable a una altra. \n",
    "# És important que s'entenguin les línies següents:\n",
    "a = 5\n",
    "b = 1\n",
    "print(a, b)\n",
    "# b conté la 'direcció' del contenidor al qual apunta 'a'.\n",
    "b = a\n",
    "print(a, b)"
   ]
  },
  {
   "cell_type": "code",
   "execution_count": 40,
   "metadata": {
    "attributes": {
     "classes": [
      "sourceCode"
     ],
     "id": ""
    },
    "colab": {
     "base_uri": "https://localhost:8080/"
    },
    "executionInfo": {
     "elapsed": 399,
     "status": "ok",
     "timestamp": 1664992803901,
     "user": {
      "displayName": "Alexandra Abos Ortega",
      "userId": "12009012866427188327"
     },
     "user_tz": -120
    },
    "id": "CacOJRSLagd0",
    "outputId": "d69929be-192c-48e5-fb6a-f2e0c344b897"
   },
   "outputs": [
    {
     "name": "stdout",
     "output_type": "stream",
     "text": [
      "6 5\n",
      "6 7\n"
     ]
    }
   ],
   "source": [
    "# Vegem ara què passa si modifiquem el valor d'a o b:\n",
    "a = 6\n",
    "print(a, b)\n",
    "b = 7\n",
    "print(a, b)"
   ]
  },
  {
   "cell_type": "markdown",
   "metadata": {
    "id": "MKFFy3VQagd0"
   },
   "source": [
    "Fins aquí hem presentat com declarar i utilitzar variables. Recomanem la\n",
    "lectura de la [documentació oficial en línia](https://docs.python.org/3/tutorial/introduction.html)\n",
    "per a fixar els coneixements explicats."
   ]
  },
  {
   "cell_type": "markdown",
   "metadata": {
    "id": "zLHkS7XNagd0"
   },
   "source": [
    "# 6. Organització del codi\n",
    "\n",
    "Un mòdul de Python és qualsevol fitxer amb extensió *.py* que estigui\n",
    "sota la ruta del _path_ de Python. El path de Python es pot consultar\n",
    "important la llibreria sys:"
   ]
  },
  {
   "cell_type": "code",
   "execution_count": 41,
   "metadata": {
    "colab": {
     "base_uri": "https://localhost:8080/"
    },
    "executionInfo": {
     "elapsed": 502,
     "status": "ok",
     "timestamp": 1664992806103,
     "user": {
      "displayName": "Alexandra Abos Ortega",
      "userId": "12009012866427188327"
     },
     "user_tz": -120
    },
    "id": "ZJ6CuM6nagd0",
    "outputId": "493c0032-3d1f-49a5-96ac-02eee294b28b"
   },
   "outputs": [
    {
     "name": "stdout",
     "output_type": "stream",
     "text": [
      "['/content', '/env/python', '/usr/lib/python37.zip', '/usr/lib/python3.7', '/usr/lib/python3.7/lib-dynload', '', '/usr/local/lib/python3.7/dist-packages', '/usr/lib/python3/dist-packages', '/usr/local/lib/python3.7/dist-packages/IPython/extensions', '/root/.ipython']\n"
     ]
    }
   ],
   "source": [
    "import sys\n",
    "print(sys.path)"
   ]
  },
  {
   "cell_type": "markdown",
   "metadata": {
    "id": "AksEnz4Nagd0"
   },
   "source": [
    "Per defecte, Python també mira les llibreries que s'hagin definit a\n",
    "la variable d'entorn \\$PYTHONPATH (això pot canviar lleugerament en un\n",
    "[entorn Windows](https://docs.python.org/3/using/cmdline.html))."
   ]
  },
  {
   "cell_type": "markdown",
   "metadata": {
    "id": "PCvgX5mJagd0"
   },
   "source": [
    "Un paquet en Python és qualsevol directori que contingui un fitxer\n",
    "especial de nom *\\_\\_init\\_\\_.py* (aquest fitxer estarà buit la majoria\n",
    "de vegades).\n",
    "\n",
    "Un mòdul pot contenir diferents funcions, variables o objectes. Per\n",
    "exemple, definim un mòdul de nom *prog\\_datasci.py* que contingui:"
   ]
  },
  {
   "cell_type": "code",
   "execution_count": 42,
   "metadata": {
    "executionInfo": {
     "elapsed": 4,
     "status": "ok",
     "timestamp": 1664992808268,
     "user": {
      "displayName": "Alexandra Abos Ortega",
      "userId": "12009012866427188327"
     },
     "user_tz": -120
    },
    "id": "QGlbCzXsagd1"
   },
   "outputs": [],
   "source": [
    "# prog_datasci.py\n",
    "\n",
    "PI = 3.14159265\n",
    "\n",
    "def suma(x, y):\n",
    "    return x + y\n",
    "\n",
    "def resta(x, y):\n",
    "    return x - y"
   ]
  },
  {
   "cell_type": "markdown",
   "metadata": {
    "id": "orp2N01Dagd1"
   },
   "source": [
    "Per utilitzar des d'un altre mòdul o _script_ aquestes funcions, hauríem\n",
    "d'escriure el següent:"
   ]
  },
  {
   "cell_type": "code",
   "execution_count": 43,
   "metadata": {
    "colab": {
     "base_uri": "https://localhost:8080/"
    },
    "executionInfo": {
     "elapsed": 22850,
     "status": "ok",
     "timestamp": 1664992835273,
     "user": {
      "displayName": "Alexandra Abos Ortega",
      "userId": "12009012866427188327"
     },
     "user_tz": -120
    },
    "id": "77mfMafpagd1",
    "outputId": "82783545-9bd9-4968-db99-cc29881ac1cf"
   },
   "outputs": [
    {
     "name": "stdout",
     "output_type": "stream",
     "text": [
      "Mounted at /content/drive\n",
      "/content/drive/MyDrive/Colab_Notebooks/prog_datasci_2\n"
     ]
    }
   ],
   "source": [
    "# Especifiquem la ruta on tenim el fitxer .py\n",
    "\n",
    "from google.colab import drive\n",
    "drive.mount('/content/drive')  \n",
    "%cd /content/drive/MyDrive/Colab_Notebooks/prog_datasci_2\n",
    "\n",
    "from prog_datasci import PI, suma, resta\n",
    "\n",
    "# I llavors podríem utilitzar-les normalment.\n",
    "rset = suma(2,5)"
   ]
  },
  {
   "cell_type": "markdown",
   "metadata": {
    "id": "0_mBvCgeagd1"
   },
   "source": [
    "També s'acostuma a utilitzar la paraula clau `as` per a donar un nou nom al mòdul o funcions que s'importen. Així, per exemple, podríem fer `from prog_datasci import PI as mypi` per fer servir el nom `mypi` per a referir-nos a `PI`:"
   ]
  },
  {
   "cell_type": "code",
   "execution_count": 44,
   "metadata": {
    "colab": {
     "base_uri": "https://localhost:8080/"
    },
    "executionInfo": {
     "elapsed": 571,
     "status": "ok",
     "timestamp": 1664992866344,
     "user": {
      "displayName": "Alexandra Abos Ortega",
      "userId": "12009012866427188327"
     },
     "user_tz": -120
    },
    "id": "G5lSyLg_agd1",
    "outputId": "4965256e-236a-4a52-bee6-8dcc9515344a"
   },
   "outputs": [
    {
     "name": "stdout",
     "output_type": "stream",
     "text": [
      "3.14159265\n"
     ]
    }
   ],
   "source": [
    "from prog_datasci import PI as mypi\n",
    "print(mypi)"
   ]
  },
  {
   "cell_type": "markdown",
   "metadata": {
    "id": "ZM_0c_biagd1"
   },
   "source": [
    "Durant el curs veurem que aquesta sintaxi és molt comuna per a escurçar els noms dels mòduls que importem.\n",
    "\n",
    "A Python també podem utilitzar la directiva `from prog_datasci import *`, però el seu ús està **totalment desaconsellat**. La raó és\n",
    "que estaríem important gran quantitat de codi que no utilitzarem (amb el\n",
    "consegüent augment de l'ús de la memòria), però a més, podríem tenir\n",
    "col·lisions de noms (funcions que es diguin de la mateixa manera en\n",
    "diferents mòduls) sense el nostre coneixement. Si no és que sigui\n",
    "imprescindible, no utilitzarem aquesta directiva i importarem una a una\n",
    "les llibreries i les funcions que necessitarem.\n",
    "\n",
    "Podeu aprendre més sobre importar llibreries i definir els vostres\n",
    "propis mòduls [aquí](https://docs.python.org/3/tutorial/modules.html)."
   ]
  },
  {
   "cell_type": "markdown",
   "metadata": {
    "id": "cLtWCGB4agd1"
   },
   "source": [
    "# 7. Operadors\n",
    "\n",
    "Els operadors són símbols que indiquen a l'intèrpret de comandes que realitzi una operació específica. Hi ha diferents tipus segons la seva funció, que s'engloben en 5 blocs: operadors aritmètics, d'assignació, relacionals, lògics i de pertinença. \n",
    "\n",
    "En aquest notebook ja hem anat veient operadors, però a continuació els descriurem més formalment i també veurem exemples de cada un d'ells: "
   ]
  },
  {
   "cell_type": "markdown",
   "metadata": {
    "id": "UzTvzxfwagd2"
   },
   "source": [
    "## 7.1. Operadors aritmètics\n",
    "\n",
    "Els operadors aritmètics són símbols que ens permeten realitzar una operació matemàtica bàsica.\n",
    "Per exemple, si considerem l'expressió `a=1+2`, tenim `1` i `2` com els operands i `+` com l'operador aritmètic. "
   ]
  },
  {
   "cell_type": "markdown",
   "metadata": {
    "id": "B888qMNtagd2"
   },
   "source": [
    "| Operador| Descripció | Exemple\n",
    "| :- | -- | :-: |\n",
    "| + | Suma  | 1 + 2 = 3 |\n",
    "| - | Resta | 2 - 1 = 1 |\n",
    "| * | Multiplicació  | 2 * 3 = 6 |\n",
    "| / | Divisió  | 5 / 2 = 2.5 |\n",
    "| // | Divisió (nombre enter) | 5 // 2 = 2 |\n",
    "| % |  Mòdul | 16 % 3 = 1 |\n",
    "| ** | Potència  | 2 ** 4 = 16 |"
   ]
  },
  {
   "cell_type": "code",
   "execution_count": 45,
   "metadata": {
    "colab": {
     "base_uri": "https://localhost:8080/"
    },
    "executionInfo": {
     "elapsed": 419,
     "status": "ok",
     "timestamp": 1664992873042,
     "user": {
      "displayName": "Alexandra Abos Ortega",
      "userId": "12009012866427188327"
     },
     "user_tz": -120
    },
    "id": "-PRDiuRVagd2",
    "outputId": "fbbff352-7392-41ea-f589-2bd300533e37"
   },
   "outputs": [
    {
     "name": "stdout",
     "output_type": "stream",
     "text": [
      "5\n"
     ]
    }
   ],
   "source": [
    "# Definim dos elements: a i b\n",
    "a = 2\n",
    "b = 3\n",
    "\n",
    "# Fem la suma d'a i b i mostrem el resultat\n",
    "print(a + b)"
   ]
  },
  {
   "cell_type": "markdown",
   "metadata": {
    "id": "CaUOinnEagd2"
   },
   "source": [
    "## 7.2. Operadors d'assignació\n",
    "\n",
    "Els operadors d'assignació s'utilitzen per especificar un valor a una variable. Un exemple ja comentat és l'operador `=`. Aquest operador `=` es pot combinar amb operadors aritmètics per a poder realitzar una operació i fer l'assignació alhora. \n",
    "Per exemple, utilitzem l'operador bàsic d'assignació `=` per a declarar una variable: a = 5. \n",
    "A continuació, utilitzem l'operador `+=` per a sumar 5 a la nostra variable a i actualitzar el seu valor: a+=5. Una altra manera d'escriure-ho és a = a+5. "
   ]
  },
  {
   "cell_type": "code",
   "execution_count": 46,
   "metadata": {
    "colab": {
     "base_uri": "https://localhost:8080/"
    },
    "executionInfo": {
     "elapsed": 3,
     "status": "ok",
     "timestamp": 1664992873556,
     "user": {
      "displayName": "Alexandra Abos Ortega",
      "userId": "12009012866427188327"
     },
     "user_tz": -120
    },
    "id": "W_WQfR9lagd2",
    "outputId": "200c1f4d-cf07-49aa-92b5-d2eaebcbc288"
   },
   "outputs": [
    {
     "name": "stdout",
     "output_type": "stream",
     "text": [
      "10\n",
      "15\n"
     ]
    }
   ],
   "source": [
    "# Definim un element a\n",
    "a = 10\n",
    "print(a)\n",
    "\n",
    "# Fem la suma d'a i 5 i mostrem el resultat\n",
    "a += 5\n",
    "print(a)"
   ]
  },
  {
   "cell_type": "markdown",
   "metadata": {
    "id": "JyvKvlY5agd2"
   },
   "source": [
    "| Operador| Descripció | Alternativa | \n",
    "| :- |  -- |:-: |\n",
    "| = | a = 10. Assignem el valor 10 a la variable a | --- | \n",
    "| += | a += 5. Sumem 5 a la variable a i n'actualitzem el valor | a = a + 5 | \n",
    "| -= | a -= 2. Restem 2 a la variable a i n'actualitzem el valor| a = a -2 | \n",
    "| * = | a * = 2. Multipliquem variable a per 2 i n'actualitzem el valor | a = a * 2 | \n",
    "| /= | a /= 2. Dividim la variable a entre 2 i n'actualitzem el valor| a = a / 2 | \n",
    "| //= | a //= 2. Dividim la variable a entre 2 (obtenint un enter) i n'actualitzem el valor | a = a //2 | \n",
    "| %= |  a %= 3. Calculem el mòdul d'a entre 3 i n'actualitzem el valor | a = a % 3 | \n",
    "| ** = | a ** = 2. Elevem a al quadrat i n'actualitzem el valor| a = a ** 2 | "
   ]
  },
  {
   "cell_type": "markdown",
   "metadata": {
    "id": "DDSCORLRagd2"
   },
   "source": [
    "## 7.3. Operadors relacionals\n",
    "\n",
    "Els operadors relacionals s'utilitzen per comparar dos variables segons una condició especifica. Per exemple: *És la variable a més gran que la variable b?*. \n",
    "\n",
    "Aquests operadors retornen un tipus de dades concret, anomenat `boolean`, segons el resultat de comparació. Els `boolean` només poden tenir només 2 valors: `True` o `False`. Si la condició és certa, es retorna el boolean `True`. Si la condició és falsa, es retorna el boolean `False`. \n",
    "\n",
    "Per exemple, considerem la situació següent: \n",
    "\n",
    "Tenim dos variables, amb valor 2 i 4 i volem utilitzar els operadors `>` o `<` per comparar-les. En aquest cas, si escribim `2 > 4` estem preguntant si 2 és més gran que 4. Com aquesta condició és falsa, es retornarà el boolean False. En canvi, si fem `2 < 4`, la condició és certa, ja que 2 és més petit que 4, de manera que es retornarà el booelan True. "
   ]
  },
  {
   "cell_type": "code",
   "execution_count": 47,
   "metadata": {
    "colab": {
     "base_uri": "https://localhost:8080/"
    },
    "executionInfo": {
     "elapsed": 2,
     "status": "ok",
     "timestamp": 1664992875221,
     "user": {
      "displayName": "Alexandra Abos Ortega",
      "userId": "12009012866427188327"
     },
     "user_tz": -120
    },
    "id": "a0sHyC_Gagd3",
    "outputId": "9a8fd18e-0d81-4b7e-df1b-05844e74bd40"
   },
   "outputs": [
    {
     "name": "stdout",
     "output_type": "stream",
     "text": [
      "False\n"
     ]
    }
   ],
   "source": [
    "# Les operacions relacionals tindran com a resultat \n",
    "# un valor cert (True) o fals (False):\n",
    "a = 2\n",
    "b = 4\n",
    "\n",
    "# El valor a és més gran que b?\n",
    "print(a > b)"
   ]
  },
  {
   "cell_type": "code",
   "execution_count": 48,
   "metadata": {
    "colab": {
     "base_uri": "https://localhost:8080/"
    },
    "executionInfo": {
     "elapsed": 7,
     "status": "ok",
     "timestamp": 1664992875619,
     "user": {
      "displayName": "Alexandra Abos Ortega",
      "userId": "12009012866427188327"
     },
     "user_tz": -120
    },
    "id": "w0vjmm1Jagd3",
    "outputId": "2b475f20-49dd-4ce8-ddcd-eac6811f67ff"
   },
   "outputs": [
    {
     "name": "stdout",
     "output_type": "stream",
     "text": [
      "True\n"
     ]
    }
   ],
   "source": [
    "# El valor a és més petit que b?\n",
    "print(a < b)"
   ]
  },
  {
   "cell_type": "code",
   "execution_count": 49,
   "metadata": {
    "colab": {
     "base_uri": "https://localhost:8080/"
    },
    "executionInfo": {
     "elapsed": 7,
     "status": "ok",
     "timestamp": 1664992875620,
     "user": {
      "displayName": "Alexandra Abos Ortega",
      "userId": "12009012866427188327"
     },
     "user_tz": -120
    },
    "id": "KcTdBU1Cagd3",
    "outputId": "ff9bad66-7eda-4f89-98e5-fa1183fc11b4"
   },
   "outputs": [
    {
     "name": "stdout",
     "output_type": "stream",
     "text": [
      "False\n",
      "True\n"
     ]
    }
   ],
   "source": [
    "# Definim un element b\n",
    "b = 5\n",
    "\n",
    "# El valor de b és igual que el d'a?\n",
    "print(b == a)\n",
    "\n",
    "# El valor de b és diferent que el d'a?\n",
    "print(b != a)"
   ]
  },
  {
   "cell_type": "code",
   "execution_count": 50,
   "metadata": {
    "colab": {
     "base_uri": "https://localhost:8080/"
    },
    "executionInfo": {
     "elapsed": 5,
     "status": "ok",
     "timestamp": 1664992875620,
     "user": {
      "displayName": "Alexandra Abos Ortega",
      "userId": "12009012866427188327"
     },
     "user_tz": -120
    },
    "id": "yKyilksfagd3",
    "outputId": "fea47101-1161-4bc0-dd53-0ce64419aad6"
   },
   "outputs": [
    {
     "name": "stdout",
     "output_type": "stream",
     "text": [
      "True\n",
      "False\n"
     ]
    }
   ],
   "source": [
    "# Altres operadors relacionals disponibles són \n",
    "# més petit o igual '<=',\n",
    "# més gran o igual '>=' \n",
    "print(a <= b)\n",
    "print(a >= b)"
   ]
  },
  {
   "cell_type": "markdown",
   "metadata": {
    "id": "Llpsz2Stagd3"
   },
   "source": [
    "| Operador| Descripció | Exemple\n",
    "| :- | -- | :-: |\n",
    "| > | Retorna True si l'operand de l'esquerra és més gran que l'operand de la dreta  | 6 > 4 : True |\n",
    "| < | Retorna True si l'operand de l'esquerra és més petit que l'operand de la dreta | 2 < 4 : True |\n",
    "| == | Retorna True si l'operand de l'esquerra és igual a l'operand de la dreta  | 4 == 4 : True |\n",
    "| !=| Retorna True si l'operand de l'esquerra és diferent a l'operand de la dreta  | 2 != 4 : True|\n",
    "| >= | Retorna True si l'operand de l'esquerra és més gran o igual que l'operand de la dreta | 10 >= 5 : True |\n",
    "| <= |  Retorna True si l'operand de l'esquerra és més petit o igual que l'operand de la dreta | 7 <= 7 : True |"
   ]
  },
  {
   "cell_type": "markdown",
   "metadata": {
    "id": "wrksIeR8agd3"
   },
   "source": [
    "## 7.4. Operadors lògics\n",
    "\n",
    "Els operadors lògics ens permeten treballar amb múltiples condicions. En Python en tenim 3: `and`, `or` i `not`.\n",
    "\n",
    "Per exemple, considerem 2 elements: \n",
    "\n",
    "a = 5; b = 2\n",
    "\n",
    "I 2 condicions: \n",
    "\n",
    "a > b (a més gran que b) ; a == b (a igual a b)\n",
    "\n",
    "- Si considerem el primer operador lògic `and`, aquest retornarà True si es compleixen les 2 condicions. En aquest cas, la 1a condició (a > b) es compleix, però la 2a no (a == b). Per tant, (a > b) and (a == b) retornarà el Boolean False. \n",
    "- En segon lloc, l'operador lògic `or` retornarà True si alguna de les condicions és certa. En aquest cas, com la primera condició es compleix,  (a > b) or (a == b) retornarà el Boolean True. \n",
    "- Finalment, l'operador lògic `not` retornarà True si la condició és falsa. Tal com hem comentat, la segona condició és falsa, aleshores, not (a == b) retornarà el Boolean True. "
   ]
  },
  {
   "cell_type": "code",
   "execution_count": 51,
   "metadata": {
    "colab": {
     "base_uri": "https://localhost:8080/"
    },
    "executionInfo": {
     "elapsed": 5,
     "status": "ok",
     "timestamp": 1664992876548,
     "user": {
      "displayName": "Alexandra Abos Ortega",
      "userId": "12009012866427188327"
     },
     "user_tz": -120
    },
    "id": "MN3Dmupvagd3",
    "outputId": "b2557bac-3227-43e6-9f7c-a5dd4a0a150d"
   },
   "outputs": [
    {
     "name": "stdout",
     "output_type": "stream",
     "text": [
      "Exemple 1:  False\n",
      "Exemple 2:  True\n",
      "Exemple 3:  True\n"
     ]
    }
   ],
   "source": [
    "# Definim dos elements: a i b\n",
    "a = 5\n",
    "b = 2\n",
    "\n",
    "# Mostrem per pantalla els resultats\n",
    "print('Exemple 1: ', (a > b) and (a == b))\n",
    "print('Exemple 2: ', (a > b) or (a == b))\n",
    "print('Exemple 3: ', not (a == b))"
   ]
  },
  {
   "cell_type": "markdown",
   "metadata": {
    "id": "3kbhWqbmagd4"
   },
   "source": [
    "| Operador| Descripció | Exemple\n",
    "| :- | -- | :-: |\n",
    "| and | Retorna True si ambdues condicions són certes  | a and b |\n",
    "| or | Retorna True si alguna de les condicions és certa | a or b |\n",
    "| not | Retorna True si la condició és falsa | not a |"
   ]
  },
  {
   "cell_type": "markdown",
   "metadata": {
    "id": "i6d268EJagd4"
   },
   "source": [
    "## 7.5. Operadors de pertinença\n",
    "\n",
    "Els operadors de pertinença són molt utilitzats quan treballem amb llistes, ja que ens permeten comprovar si un element concret està dintre o no d'una llista. `in` i `not in` són els operadors de pertinença. \n",
    "\n",
    "Considrem la llista següent: \n",
    "`fruites = ['pera', 'poma', 'platan']`\n",
    "\n",
    "Volem comprovar que l'element a (a = 'pera') està a la llista. Per fer-ho utilitzem l'operador `in`. En aquest cas, a in fruites retornarà el boolean True. Si agafem un altre element b (b = 'kiwi'), com aquest element no està a la llista, `not in` retornarà el boolean True, mentre que `in` retornarà el boolean False. "
   ]
  },
  {
   "cell_type": "code",
   "execution_count": 52,
   "metadata": {
    "colab": {
     "base_uri": "https://localhost:8080/"
    },
    "executionInfo": {
     "elapsed": 4,
     "status": "ok",
     "timestamp": 1664992877513,
     "user": {
      "displayName": "Alexandra Abos Ortega",
      "userId": "12009012866427188327"
     },
     "user_tz": -120
    },
    "id": "GX1Nbs39agd4",
    "outputId": "dd0f9edd-101b-4bfb-cd2c-9733812b4bdb"
   },
   "outputs": [
    {
     "name": "stdout",
     "output_type": "stream",
     "text": [
      "True\n",
      "False\n",
      "True\n"
     ]
    }
   ],
   "source": [
    "# Definim tres elements: fruites, a i b\n",
    "fruites = ['pera', 'poma', 'platan']\n",
    "a = 'pera'\n",
    "b = 'kiwi'\n",
    "\n",
    "# Mostrem el resultat de les operacions de pertinença\n",
    "print(a in fruites) # pera està a la llista\n",
    "print(b in fruites) # kiwi no està a la llista\n",
    "print(b not in fruites) # kiwi no està a la llista"
   ]
  },
  {
   "cell_type": "markdown",
   "metadata": {
    "id": "OqWNuTY3agd4"
   },
   "source": [
    "## 7.6. Numpy\n",
    "\n",
    "`Numpy` és una llibreria de Python especialitzada en càlcul numèric. En aquesta unitat introduirem alguns aspectes bàsics d'aquesta llibreria, però, més endavant, explicarem en detall com treballar amb aquesta llibreria i les seves funcionalitats més importants. \n",
    "\n",
    "Si volem utilitzar la llibreria Numpy, primer de tot, l'hem d'importar amb la funció **import**, tal i com hem vist a l'apartat anterior. En el cas de Numpy, s'ha establert que la seva abreviació més comuna és `np`. "
   ]
  },
  {
   "cell_type": "code",
   "execution_count": 53,
   "metadata": {
    "executionInfo": {
     "elapsed": 3,
     "status": "ok",
     "timestamp": 1664992877927,
     "user": {
      "displayName": "Alexandra Abos Ortega",
      "userId": "12009012866427188327"
     },
     "user_tz": -120
    },
    "id": "KL9DTF95agd4"
   },
   "outputs": [],
   "source": [
    "import numpy as np"
   ]
  },
  {
   "cell_type": "markdown",
   "metadata": {
    "id": "goiYagnCagd4"
   },
   "source": [
    "Numpy ens permet fer operacions numèriques de manera molt senzilla. Per explicar al seva utilitat, considerarem la situació següent: \n",
    "\n",
    "*Tenim una llista amb el preu dels productes de la compra. Com podríem sumar tots els elements de la llista per obtenir el preu total?* "
   ]
  },
  {
   "cell_type": "markdown",
   "metadata": {
    "id": "oEZxKY-0agd5"
   },
   "source": [
    "Amb el que hem vist fins ara, una opció podria ser accedir a cada un dels elements de la llista i sumar-los amb l'operador aritmètic de la suma (+): "
   ]
  },
  {
   "cell_type": "code",
   "execution_count": 54,
   "metadata": {
    "colab": {
     "base_uri": "https://localhost:8080/"
    },
    "executionInfo": {
     "elapsed": 3,
     "status": "ok",
     "timestamp": 1664992881211,
     "user": {
      "displayName": "Alexandra Abos Ortega",
      "userId": "12009012866427188327"
     },
     "user_tz": -120
    },
    "id": "78-emlg6agd5",
    "outputId": "860ff03a-50a6-488f-b956-0f9d097c6b9f"
   },
   "outputs": [
    {
     "name": "stdout",
     "output_type": "stream",
     "text": [
      "Suma:  17.0\n"
     ]
    }
   ],
   "source": [
    "# Creem la llista\n",
    "llista_compra = [3.5, 4.6, 8.9]\n",
    "\n",
    "# Accedim a cada un dels elements de la llista i els sumem\n",
    "suma_compra = llista_compra[0] + llista_compra[1] + llista_compra[2]\n",
    "\n",
    "# Mostrem el resultat per pantalla\n",
    "print('Suma: ', suma_compra)"
   ]
  },
  {
   "cell_type": "markdown",
   "metadata": {
    "id": "tDpul0KIagd5"
   },
   "source": [
    "Tot i que el resultat és correcte, no sembla una solució gaire viable, ja que és molt manual i, si tenim molts elements dins la llista, no seria factible escriure'ls un a un. \n",
    "\n",
    "Per solucionar aquest problema, podem utilitzar la llibreria `Numpy`."
   ]
  },
  {
   "cell_type": "markdown",
   "metadata": {
    "id": "BcXaN-ftagd5"
   },
   "source": [
    "Numpy conté multitud de funcions. En aquest cas, ens interessa sumar els elements d'una llista, per tant, utilitzarem la funció sum()."
   ]
  },
  {
   "cell_type": "code",
   "execution_count": 55,
   "metadata": {
    "colab": {
     "base_uri": "https://localhost:8080/"
    },
    "executionInfo": {
     "elapsed": 2,
     "status": "ok",
     "timestamp": 1664992881973,
     "user": {
      "displayName": "Alexandra Abos Ortega",
      "userId": "12009012866427188327"
     },
     "user_tz": -120
    },
    "id": "urubq-k2agd5",
    "outputId": "4fe71430-fe49-4f0b-9b22-03785940230b"
   },
   "outputs": [
    {
     "name": "stdout",
     "output_type": "stream",
     "text": [
      "Suma:  17.0\n"
     ]
    }
   ],
   "source": [
    "# Creem la llista\n",
    "llista_compra = [3.5, 4.6, 8.9]\n",
    "\n",
    "# Apliquem la funció suma als elements de la llista\n",
    "# i mostrem el resultat per pantalla\n",
    "print('Suma: ', np.sum(llista_compra))"
   ]
  },
  {
   "cell_type": "markdown",
   "metadata": {
    "id": "Pbblojo8agd5"
   },
   "source": [
    "Com podeu veure, amb Numpy hem pogut sumar tots els elements de la llista de manera fàcil i ràpida."
   ]
  },
  {
   "cell_type": "markdown",
   "metadata": {
    "id": "Qi-YmNVtagd5"
   },
   "source": [
    "Numpy també es pot utilitzar per a calcular variables estadístiques (mitjana o mediana, desviació estàndard, màxim, mínim, entre d'altres) dels elements d'una llista:"
   ]
  },
  {
   "cell_type": "code",
   "execution_count": 56,
   "metadata": {
    "colab": {
     "base_uri": "https://localhost:8080/"
    },
    "executionInfo": {
     "elapsed": 3,
     "status": "ok",
     "timestamp": 1664992882463,
     "user": {
      "displayName": "Alexandra Abos Ortega",
      "userId": "12009012866427188327"
     },
     "user_tz": -120
    },
    "id": "-FSLcHBzagd5",
    "outputId": "814647c6-77fa-45e2-af0f-1df6eea31738"
   },
   "outputs": [
    {
     "name": "stdout",
     "output_type": "stream",
     "text": [
      "Mitjana:  5.666666666666667\n",
      "Mediana:  4.6\n",
      "Desviació estàndard:  2.3299976156401727\n",
      "Màxim:  8.9\n",
      "Mínim estàndard:  3.5\n"
     ]
    }
   ],
   "source": [
    "# Apliquem la funció mean (mitjana) \n",
    "# als elements de la llista\n",
    "# i mostrem el resultat per pantalla\n",
    "print('Mitjana: ', np.mean(llista_compra))\n",
    "\n",
    "# Apliquem la funció median (mediana) \n",
    "# als elements de la llista\n",
    "# i mostrem el resultat per pantalla\n",
    "print('Mediana: ', np.median(llista_compra))\n",
    "\n",
    "# Apliquem la funció std (desviació estàndard) \n",
    "# als elements de la llista\n",
    "# i mostrem el resultat per pantalla\n",
    "print('Desviació estàndard: ', np.std(llista_compra))\n",
    "\n",
    "# Apliquem la funció max (màxim) \n",
    "# als elements de la llista\n",
    "# i mostrem el resultat per pantalla\n",
    "print('Màxim: ', np.max(llista_compra))\n",
    "\n",
    "# Apliquem la funció min (mínim) \n",
    "# als elements de la llista\n",
    "# i mostrem el resultat per pantalla\n",
    "print('Mínim estàndard: ', np.min(llista_compra))"
   ]
  },
  {
   "cell_type": "markdown",
   "metadata": {
    "id": "17C6pr45agd6"
   },
   "source": [
    "En aquest [enllaç](https://numpy.org/doc/stable/reference/routines.math.html) podeu consultar les operacions matemàtiques que conté la llibreria Numpy. "
   ]
  },
  {
   "cell_type": "markdown",
   "metadata": {
    "id": "qwTM6S8Fagd6"
   },
   "source": [
    "# 8. Recursos per al programador de Python\n",
    "\n",
    "Part del procés d'aprendre a programar en Python consisteix a **aprendre on i com buscar** informació per resoldre problemes que no sabem solucionar immediatament. Així, familiaritzar-nos amb la documentació oficial, aprendre a fer servir els buscadors (com ara Google) per ajudar-nos a trobar la informació que necessitem, i descobrir el funcionament de les eines de pregunta-i-resposta (question-and-answer o Q&A) que fan servir els programadors, seran competències a treballar en l'assignatura. Aquestes competències són de vital importància, ja que els llenguatges de programació estan en contínua evolució, de manera que per molt que coneguem un llenguatge, és habitual que sovint ens trobem amb la necessitat de cercar algun recurs extern que ens ajudi a dur a terme les tasques que necessitem realitzar.\n",
    "\n",
    "Durant el curs, anirem veient com consultar aquests recursos, i els utilitzarem per tal de resoldre les activitats que s'aniran plantejant. Veureu que els enunciats de les activitats que us proposem realitzar contenen indicacions sobre la consulta de recursos externs. Aquestes indicacions us aniran guiant en la cerca d'informació per tal de resoldre els exercicis. Al principi del curs, les indicacions seran molt explícites, i conforme el curs va avançant ho deixaran de ser progressivament. D'aquesta manera, anireu adquirint autonomia en el procés de búsqueda d'informació, cosa que us servirà per afrontar els problemes de programació que trobeu en el futur! Ara bé, recordeu que durant tot el procés esteu sempre acompanyats pel consultor de la vostra aula, que us ajudarà en tot moment (no dubteu a preguntar tot allò que calgui!)."
   ]
  },
  {
   "cell_type": "markdown",
   "metadata": {
    "id": "JuemXdkqagd6"
   },
   "source": [
    "# 9. Exercicis i preguntes teòriques\n",
    "\n",
    "La part avaluable d'aquesta unitat consisteix en el lliurament d'un fitxer IPython Notebook amb extensió IPYNB que contindrà els diferents exercicis i les preguntes teòriques que s'han de contestar. Trobareu el fitxer (`prog_datasci_2_python_entrega.ipynb`) amb les activitats a la mateixa carpeta que aquest notebook que esteu llegint.\n",
    "\n",
    "## 9.1. Instruccions importants\n",
    "\n",
    "És molt important que a l'hora de lliurar el fitxer Notebook amb les vostres activitats us assegureu que:\n",
    "\n",
    "1. Les vostres solucions siguin originals. Esperem no detectar-hi còpia directa entre estudiants.\n",
    "2. Tot el codi estigui correctament documentat. El codi sense documentar equivaldrà a un 0.\n",
    "3. El fitxer comprimit que lliureu és correcte (conté les activitats de la PAC que heu de lliurar).\n",
    "\n",
    "Per fer el lliurament, heu d'anar a la carpeta del drive Colab Notebooks, clicant amb el botó dret a la PAC en qüestió i fent Download. D'aquesta manera, us baixareu la carpeta de la PAC comprimida amb zip. Aquest és el fitxer que heu de pujar al campus virtual de l'assignatura."
   ]
  },
  {
   "cell_type": "markdown",
   "metadata": {
    "id": "xV8VpKERagd6"
   },
   "source": [
    "# 10. Bibliografia\n",
    "\n",
    "D'una banda, us recomanem consultar la [introducció a Jupyter Notebook](http://opentechschool.github.io/python-data-intro/core/notebook.html), per familiaritzar-vos amb l'entorn de treball.\n",
    "\n",
    "D'altra banda, per acabar d'entendre els conceptes sobre variables presentats en aquesta unitat, us recomanem consultar el [vídeotutorial sobre tipus de variable](http://uoc.tv.am.uoc.es/m2962_programacio_phyton/variables.mp4) (podeu descarregar-lo per veure'l amb millor qualitat) i el [vídeotutorial sobre strings i llistes](http://uoc.tv.am.uoc.es/m2962_programacio_phyton/strings_listas.mp4)."
   ]
  }
 ],
 "metadata": {
  "colab": {
   "provenance": []
  },
  "kernelspec": {
   "display_name": "Python 3",
   "language": "python",
   "name": "python3"
  },
  "language_info": {
   "codemirror_mode": {
    "name": "ipython",
    "version": 3
   },
   "file_extension": ".py",
   "mimetype": "text/x-python",
   "name": "python",
   "nbconvert_exporter": "python",
   "pygments_lexer": "ipython3",
   "version": "3.7.6"
  }
 },
 "nbformat": 4,
 "nbformat_minor": 1
}
