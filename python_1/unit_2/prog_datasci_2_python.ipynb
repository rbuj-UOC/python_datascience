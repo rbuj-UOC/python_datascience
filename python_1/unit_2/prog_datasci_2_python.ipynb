{
 "cells": [
  {
   "cell_type": "markdown",
   "metadata": {
    "id": "jdAv9G6ybRTS"
   },
   "source": [
    "<div style=\"display: grid; grid-template-columns: repeat(2, 1fr); align-items: end;\">\n",
    "    <div>\n",
    "        <img src=\"data:image/avif;base64,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\" width=\"300\">\n",
    "    </div>\n",
    "    <div>\n",
    "        <p style=\"margin: 0; text-align:right;\">22.401 · Fonaments de Programació</p>\n",
    "        <p style=\"margin: 0; text-align:right;\">Grau en Ciència de Dades Aplicada</p>\n",
    "        <p style=\"margin: 0; text-align:right;\">Estudis d'Informàtica, Multimèdia i Telecomunicació</p>\n",
    "    </div>\n",
    "</div>"
   ]
  },
  {
   "cell_type": "markdown",
   "metadata": {
    "id": "QL_5ZE5uagdd"
   },
   "source": [
    "Fonaments de Programació\n",
    "============================\n",
    "\n",
    "---\n",
    "\n",
    "Unitat 2: Breu introducció a la programació en Python\n",
    "-----------------------------------------------------\n",
    "\n",
    "---\n",
    "\n",
    "### Instruccions d'ús\n",
    "\n",
    "Aquest document és un *notebook* interactiu que intercala explicacions més aviat teòriques de conceptes de programació amb fragments de codi executables. Per aprofitar els avantatges que aporta aquest format, us recomanem que, en primer lloc, llegiu les explicacions i el codi que us proporcionem. D'aquesta manera tindreu un primer contacte amb els conceptes que hi exposem. Ara bé, **la lectura és només el principi!** Una vegada hàgiu llegit el contingut, no oblideu executar el codi proporcionat i modificar-lo per crear-ne variants que us permetin comprovar que heu entès la seva funcionalitat i explorar-ne els detalls d'implementació. Per últim, us recomanem també consultar la documentació enllaçada per explorar amb més profunditat les funcionalitats dels mòduls presentats.\n",
    "\n",
    "### Introducció\n",
    "\n",
    "En aquesta unitat presentarem el llenguatge de programació Python i la seva sintaxi bàsica. Explicarem què són les variables, veurem com les podem definir i utilitzar en Python, i n'introduirem els principals tipus simples (enters, floats, complexos) i compostos (cadenes de caràcters, llistes, tuples i diccionaris)."
   ]
  },
  {
   "cell_type": "code",
   "execution_count": null,
   "metadata": {},
   "outputs": [],
   "source": [
    "import os\n",
    "\n",
    "VERIFICA_ESTIL = False\n",
    "\n",
    "if os.getenv(\"COLAB_RELEASE_TAG\"):\n",
    "    # munta la unitat de google drive i accedeix a la carpeta de la unitat\n",
    "    from google.colab import drive\n",
    "    drive.mount('/content/drive')\n",
    "    %cd \"/content/drive/MyDrive/Colab Notebooks/python_datascience/python_1/unit_2\"\n",
    "\n",
    "# verificació de PEP8\n",
    "if VERIFICA_ESTIL:\n",
    "    if os.getenv(\"COLAB_RELEASE_TAG\"):\n",
    "        print(\"instal·lant flake8, pycodestyle i pycodestyle_magic...\")\n",
    "        %pip install pycodestyle flake8 pycodestyle_magic\n",
    "    %load_ext pycodestyle_magic\n",
    "    %pycodestyle_on"
   ]
  },
  {
   "cell_type": "markdown",
   "metadata": {
    "id": "ZgqCQKVJagdf"
   },
   "source": [
    "# 1. Què és la programació?\n",
    "\n",
    "Trobem a Wikipedia la definició següent de programació:\n",
    "\n",
    "«Programació d'ordinadors o **programació informàtica** (sovint abreujada programació o codificació) és el procés d'escriure, provar, [depurar](https://en.wikipedia.org/wiki/Debugging) i mantenir el [codi font](https://en.wikipedia.org/wiki/Source_code) de [programes](https://en.wikipedia.org/wiki/Computer_program). Aquest codi font està escrit en un [llenguatge de programació](https://en.wikipedia.org/wiki/Programming_language). L'objectiu de la programació és crear un programa que mostra un determinat comportament desitjat.»\n",
    "\n",
    "En el context de la ciència de dades, els ordinadors són màquines que ens permeten tractar, processar i analitzar quantitats ingents de dades. Aquest tractament de la informació ha de realitzar-se mitjançant un tipus de conjunt de regles: l'**algorisme**. Podem entendre els algorismes com a plantilles o «receptes» que s'especifiquen a la màquina mitjançant algun llenguatge de programació i que ens permeten tractar la informació de forma inherent a les nostres necessitats. Seguint amb la metàfora de la recepta, imagineu que volem preparar un plat de cuina i que tenim tots els ingredients per fer-ho. La nostra recepta culinària especificarà en cada pas el que el cuiner ha de fer. Per exemple, per fer una truita:\n",
    "\n",
    "1. Trencar els ous i batre'ls.\n",
    "2. Posar una paella al foc.\n",
    "3. Quan la temperatura estigui prou alta, afegir-hi els ous batuts.\n",
    "4. Esperar que qualli prou.\n",
    "5. Donar la volta.\n",
    "6. Repetir el pas 4 per aquesta cara.\n",
    "7. Posar la nostra truita al plat.\n",
    "\n",
    "Els problemes que resoldrem mitjançant un ordinador normalment tindran un context més numèric, però la idea de recepta serà la mateixa: un conjunt d'instruccions que s'executen des del principi fins al final i que duen a terme una acció. Així doncs, l'algorisme o «recepta» per calcular el quadrat d'un nombre qualsevol seria de la manera següent:\n",
    "\n",
    "1. Representar a la pantalla el missatge «Benvingut a la calculadora de quadrats:».\n",
    "2. Demanar a l'usuari que introdueixi un nombre mitjançant el teclat.\n",
    "3. Guardar aquest nombre.\n",
    "4. Prendre el nombre guardat com a base per multiplicar-lo per si mateix.\n",
    "5. Representar en pantalla el resultat del càlcul del pas 4.\n",
    "6. Sortir del programa.\n",
    "\n",
    "Especificar-li a un ordinador les instruccions que han d'executar-se en un programa és una abstracció que ens permeten els llenguatges de programació. En el nostre cas, farem servir Python per escriure i executar els nostres programes i així solucionar problemes de ciència de dades."
   ]
  },
  {
   "cell_type": "markdown",
   "metadata": {
    "id": "JPk2rk60agdg"
   },
   "source": [
    "# 2. Breu història del llenguatge de programació Python\n",
    "\n",
    "El llenguatge va néixer de la mà de [Guido van Rossum](https://gvanrossum.github.io//)  mentre treballava al Centre per a les Matemàtiques i la Informàtica (CWI, Centrum Wiskunde & Informatica) als Països Baixos l'any 1989 durant les vacances de Nadal, encara que no va ser fins al febrer de 1991 quan va ser publicada la seva primera versió a [USENET](https://en.wikipedia.org/wiki/Usenet).\n",
    "\n",
    "Guido van Rossum és, malgrat el llarg recorregut del llenguatge des d'aleshores, una figura molt rellevant en el grup d'usuaris i desenvolupadors de Python i és conegut com a BDFL (de l'anglès *benevolent dictator for life*, dictador vitalici benevolent); els seus suggeriments en les discussions en les quals intervé es tenen molt en compte respecte al full de ruta del futur del llenguatge. Actualment, la *Python Software Foundation* (PSF) és l'organització encarregada de vetllar pel futur i la disseminació del llenguatge. Com a nota divertida, cal destacar que la relació entre el nom del llenguatge i la sèrie de televisió [Monty Python's Flying Circus](https://www.imdb.com/title/tt0063929/) no és una mera coincidència.\n",
    "\n",
    "Hi ha dues dates importants que han marcat la història del llenguatge: el 16 d'octubre de 2000, moment en el qual la versió 2.0 va ser publicada, i el 3 de desembre de 2008, quan es va publicar la versió 3.0 del llenguatge.\n",
    "\n",
    "El llenguatge de programació Python fa especial èmfasi en la seva capacitat perquè altres programadors el puguin llegir. Aquesta senzillesa aparent a l'hora de llegir codi en Python li ha permès gaudir de prou popularitat en cercles menys enfocats en el desenvolupament pur de programari, com pot ser el camp de la ciència de dades, en el qual conflueixen persones expertes en diferents disciplines (matemàtiques, estadística, etc.). Existeixen documents de millora del llenguatge coneguts per les seves sigles **PEP-Número** (de l'anglès *Python Enhancement Proposals*) i és, precisament, en un d'aquests documents, el [PEP-20](https://legacy.python.org/dev/peps/pep-0020/), en el qual es presenta la filosofia del llenguatge i aquesta marcada tendència per la simplicitat, llegibilitat i bellesa del codi en Python:\n",
    "\n",
    "```\n",
    "The Zen of Python\n",
    "    Beautiful is better than ugly.\n",
    "    Explicit is better than implicit.\n",
    "    Simple is better than complex.\n",
    "    Complex is better than complicated.\n",
    "    Flat is better than nested.\n",
    "    Sparse is better than dense.\n",
    "    Readability counts.\n",
    "    Special cases aren't special enough to break the rules.\n",
    "    Although practicality beats purity.\n",
    "    Errors should never pass silently.\n",
    "    Unless explicitly silenced.\n",
    "    In the face of ambiguity, refuse the temptation to guess.\n",
    "    There should be one -and preferably only one- obvious way to do it.\n",
    "    Although that way may not be obvious at first unless you're Dutch.\n",
    "    Now is better than never.\n",
    "    Although never is often better than *right* now.\n",
    "    If the implementation is hard to explain, it's a bad idea.\n",
    "    If the implementation is easy to explain, it may be a good idea.\n",
    "    Namespaces are one honking great idea -let's do more of those!-\n",
    "```\n",
    "\n",
    "Molts d'aquests principis en aquest moment podran semblar estranys a l'alumnat, però a mesura que s'aprofundeix en l'ús del llenguatge molts d'ells resultaran habituals a l'hora d'escriure i llegir codi en Python.\n",
    "\n",
    "Finalment, és interessant presentar a l'alumnat el terme *pythonic*, ja que apareix en moltes cerques en relació amb la sintaxi de Python. Els llenguatges de programació fan ús habitualment d'estructures que serveixen per expressar tasques o parts de codi en un llenguatge comú que no és considerat directament en la sintaxi del llenguatge. Aquest concepte (en anglès *idiom*) està molt estès en la comunitat de Python i moltes vegades es tradueix en missatges en fòrums de l'estil *«which is the most pythonic way to do..?»* ('quina és la forma més pythònica de fer..?'). Es tracta d'un concepte avançat, però que en Python resulta especialment rellevant, atès que alguns d'aquests conceptes han estat implementats en el llenguatge de forma més eficient i poden fer que un codi o un altre s'executi de forma més ràpida si és més pythònica. Aquest concepte serà ampliat més endavant."
   ]
  },
  {
   "cell_type": "markdown",
   "metadata": {
    "id": "b9338t2tagdh"
   },
   "source": [
    "# 3. Versions i intèrprets disponibles\n",
    "\n",
    "Actualment, coexisteixen dues versions o branques de desenvolupament: les famílies 2.7 i 3.6, sent les seves últimes versions al moment de redacció d'aquest document la 2.7.18 i la 3.10.1, respectivament.\n",
    "\n",
    "Python és un llenguatge de programació molt viu i en contínua evolució, al qual es van afegint i corregint funcionalitats molt sovint. La branca de desenvolupament 2.7.x és una versió molt madura i estable, però va ser amb l'aparició de la versió 3.0 quan va haver-hi un salt important en la sintaxi del llenguatge. Per exemple, la mateixa expressió print en la branca 2.7.x va passar a tenir forma de funció print() en la branca 3.x. Aquests canvis no es limiten a correccions estètiques, sinó que s'han introduït per millorar el rendiment del llenguatge, l'organització del codi i de les biblioteques a escala interna, etc. En resum, la branca 3.x és el futur de Python mentre que la branca 2.7.x representaria el passat del llenguatge.\n",
    "\n",
    "El gener de 2020, va finalitzar el suport de la branca 2.x de Python, i, actualment, la família que es fa servir és la 3.x. Per aquest motiu, en aquest curs utilitzem Python 3.x. Tot i això, si mai heu de treballar amb codi antic desenvolupat per Python 2.x, veureu que no tindreu problemes per fer-ho, ja que l'essència del llenguatge segueix sent la mateixa.\n",
    "\n",
    "Quant als intèrprets, el més conegut és la implementació en C anomenada [CPython](https://en.wikipedia.org/wiki/CPython), que és l'intèrpret del llenguatge Python desenvolupat per la comunitat del projecte de codi lliure i suportat i dirigit per la Python Programari Foundation. Encara que CPython és la implementació estàndard i avui dia suporta més plataformes (quaranta-dues en el moment de redacció d'aquest document), no és ni molt menys l'única. Altres implementacions famoses són [Jython](https://www.jython.org/), escrit en Java i que funciona en la màquina virtual de Java; [PyPy](https://en.wikipedia.org/wiki/PyPy), un intèrpret també escrit en C, però que posa especial èmfasi en el rendiment i a tractar la concurrència i el paral·lelisme d'una forma diferent; [IronPython](https://en.wikipedia.org/wiki/IronPython), una implementació del llenguatge per a la plataforma .NET, etc."
   ]
  },
  {
   "cell_type": "markdown",
   "metadata": {
    "id": "xb7wdkWvagdh"
   },
   "source": [
    "# 4. Sintaxi bàsica del llenguatge de programació Python\n",
    "\n",
    "## 4.1. Intèrpret enfront d'script\n",
    "\n",
    "Hi ha tres formes bàsiques d'executar codi en Python:\n",
    "\n",
    "1. Executar l'intèrpret de Python des d'una terminal.\n",
    "2. Escriure codi Python en un fitxer (típicament amb extensió PY, i que és conegut habitualment amb el nom d'script) i executar-lo utilitzant l'ordre:\n",
    "\n",
    "```\n",
    "$ python script_name.py\n",
    "```\n",
    "\n",
    "3. Escriure codi Python mitjançant *Jupyter Notebook*.\n",
    "\n",
    "La primera forma és útil per provar ordres del llenguatge Python de forma ràpida o simplement per fer servir l'intèrpret com a calculadora. La segona, per contra, ens permetrà executar una vegada i una altra el codi contingut en el nostre fitxer d'script sense haver d'escriure en l'intèrpret el mateix codi una vegada i una altra. La tercera opció és la que farem servir en aquesta assignatura i l'explicarem amb més detall a l'apartat 4.5.\n",
    "\n",
    "## 4.2. Sobre els tabuladors i els espais en blanc\n",
    "\n",
    "En Python, els blocs de codi s'indiquen mitjançant espais en blanc. Més endavant parlarem dels diferents tipus de blocs de codi, però a manera introductòria farem ús de l'exemple següent:\n",
    "\n",
    "```\n",
    "1 def suma(a, b):\n",
    "2     return a + b\n",
    "3\n",
    "4 print(suma(2, 3))\n",
    "```\n",
    "\n",
    "En les línies 1 i 2, definim mitjançant la paraula clau **def** una funció que rep com a arguments dues variables de nom `a` i `b` i que a la línia 2 retorna la suma d'aquestes dues variables.\n",
    "\n",
    "En la línia 4, cridem aquesta funció suma amb els valors 2 i 3, i mitjançant l'ordre **print** escrivim el resultat que ens apareix per la terminal.\n",
    "\n",
    "Com es pot observar en la línia 2, la paraula clau **return** es troba a quatre espais de distància del començament de la línia anterior (línia 1). Això és així perquè estem definint un bloc de codi (en altres llenguatges com C o Java, s'utilitzen per a la definició de blocs de codi els caràcters especials «{» i «}»).\n",
    "\n",
    "Existeixen dues possibilitats per definir el sagnat de codi: mitjançant espais o tabulacions. Podrem fer servir de forma indistinta una forma o una altra, però sempre tenint en compte que mai no hauran de barrejar-se en un mateix fitxer de codi. Això és així perquè les tabulacions no tenen un caràcter que les distingeixi i no solen presentar-se de forma idònia en molts editors de text. Moltes vegades, en pressionar la tecla «Tab» en una aplicació, aquest caràcter es converteix automàticament en un nombre fix d'espais en blanc. Per tant, **serà recomanable configurar l'editor que escollim per escriure codi en Python de tal forma que el tabulador es tradueixi en quatre espais en blanc**.\n",
    "\n",
    "En el document [PEP-8](https://www.python.org/dev/peps/pep-0008/), que és la guia d'estil que segueixen la majoria de programadors en Python, es detalla aquest aspecte.\n",
    "\n",
    "## 4.3. Comentaris\n",
    "\n",
    "Els comentaris, fragments de text que no s'interpreten, són una part fonamental de qualsevol programa, ja que faciliten la lectura i permeten afegir aclariments necessaris per a la correcta comprensió del codi.\n",
    "\n",
    "Si no s'afegeixen comentaris al codi, pot ser que l'usuari no recordi algunes de les decisions que va prendre quan el va escriure. D'altra banda, si es llegeix codi escrit per una altra persona, els comentaris permeten seguir millor els raonaments darrere d'aquest codi.\n",
    "\n",
    "En Python, es poden incloure comentaris en el codi d'una sola línia (precedits pel símbol `#`) o bé de múltiples línies (que s'indiquen amb `\"\"\"` o bé `'''`).\n",
    "Els comentaris de múltiples línies s'acostumen a utilitzar per a documentar funcions, mètodes o classes en Python."
   ]
  },
  {
   "cell_type": "code",
   "execution_count": null,
   "metadata": {},
   "outputs": [],
   "source": [
    "# Això és un comentari. Quan executem aquesta cel·la el comentari s'ignora."
   ]
  },
  {
   "cell_type": "code",
   "execution_count": null,
   "metadata": {},
   "outputs": [],
   "source": [
    "def suma(a, b):\n",
    "    \"\"\" Aquesta funció retorna\n",
    "    la suma dels arguments a i b \"\"\"\n",
    "    return a + b"
   ]
  },
  {
   "cell_type": "markdown",
   "metadata": {
    "id": "uUn9jz3bagdl"
   },
   "source": [
    "## 4.4. Guia d'estil\n",
    "\n",
    "A l'apartat anterior s'ha tractat la guia d'estil oficial del llenguatge Python, que està disponible en línia com PEP-8. Com a resum, aquests són els aspectes bàsics que s'han de seguir:\n",
    "\n",
    "1. Les funcions i els noms de paraules s'escriuran en minúscula i els noms llargs que continguin diverses paraules s'uniran mitjançant el caràcter «_».\n",
    "2. Els noms de classes tindran la seva lletra inicial en majúscula per diferenciar-les de variables, funcions i objectes.\n",
    "3. Les constants aniran en majúscules i separades pel caràcter «_» si contenen diverses paraules.\n",
    "4. Com ja s'ha comentat a l'apartat anterior, no s'utilitzaran tabuladors, sinó que sempre farem servir quatre espais en blanc.\n",
    "5. Els comentaris han de ser frases completes i han d'estar actualitzats (és important que corresponguin al codi que s'està comentant!).\n",
    "\n",
    "És molt important seguir la guia d'estil quan es programa en Python (recordeu-ho quan prepareu el codi per als lliuraments de l'assignatura!)."
   ]
  },
  {
   "cell_type": "markdown",
   "metadata": {
    "id": "Dy6YEna4agdm"
   },
   "source": [
    "## 4.5. IPython i Notebook\n",
    "\n",
    "IPython va ser originalment desenvolupat com un conjunt d'eines per facilitar el desenvolupament i el processament de dades en Python a usuaris del món científic. La «i» del nom prové d'interactiu, ja que disposa d'eines que interactuen amb l'usuari, com són l'autocompletat de codi, una ajuda extensa, etc.\n",
    "\n",
    "El [**Jupyter Notebook**](https://jupyter.org/), al seu torn, és una altra eina molt útil per a l'exploració de codi, per representar resultats de forma gràfica, o pel prototipatge ràpid, etc., tot això mitjançant la interacció via navegador web (Notebook arrenca de forma local un servidor web). Les versions anteriors de Jupyter Notebook es coneixien com a IPython Notebook.\n",
    "\n",
    "Un notebook s'organitza en cel·les, que segueixen un ordre seqüencial. Hi ha 3 tipus de cel·les, però s'utilitzen principalment, dos: **text** (anomenat *markdown*) i **codi**. Ambdós tipus de cel·les es poden executar, però tenen funcionaments diferents. Una cel·la de tipus codi s'utilitza per executar el bloc de codi de Python que estigui dintre aquesta cel·la. D'altra banda, una cel·la *markdown* ens permet donar format al text (per exemple, es poden posar elements en **negreta** o *cursiva*) o afegir imatges al notebook. El tercer tipus de cel·la s'anomena *Raw NBConvert* i s'utilitza per posar codi que no es vulgui executar, ja que aquestes cel·les no són avaluades pel notebook.\n",
    "El tipus de la cel·la no és fix. Un cop creada, es pot canviar el tipus d'una cel·la (per exemple, pots convertir una cel·la de codi a text, i viceversa).\n",
    "\n",
    "Així doncs, els notebooks ens proporciona un ambient molt dinàmic, ja que podem escriure i avaluar el nostre codi fàcilment. També ens permet combinar blocs de text i blocs de codi, cosa que el converteix en una eina que molt adequada en l'àmbit formatiu."
   ]
  },
  {
   "cell_type": "markdown",
   "metadata": {
    "id": "M-GFTayEagdm"
   },
   "source": [
    "## 4.6. Colab\n",
    "\n",
    "Actualment, el desenvolupament de codi es pot fer també mitjançant plataformes al núvol. La computació al núvol (*cloud computing*) permet tenir accés remot a programes, emmagatzemar fitxers i processar grans volums de dades, sense tenir les limitacions d'una màquina local.\n",
    "Una plataforma molt coneguda i utilitzada és el [**Google Colab**](https://colab.research.google.com/), un entorn que ens permet escriure i executar codi Python mitjançant notebooks completament des del núvol. El seu ús ha anat en augment en els últims anys, ja que permet configurar determinades prestacions de l'equip que són difícils de tenir localment (per exemple, es pot activar la GPU si es necessita un alt poder de computació). D'altra banda, en executar-se des del núvol, també permet compartir fàcilment els notebooks quan es treballa en equip.\n",
    "\n",
    "En aquesta assignatura farem servir Google Colab, ja que ens proporciona un entorn comú i col·laboratiu entre tots els estudiants."
   ]
  },
  {
   "cell_type": "markdown",
   "metadata": {
    "id": "6W-eNUroagdm"
   },
   "source": [
    "# 5. Variables i tipus de variables\n",
    "\n",
    "Podem entendre una **variable** com un contenidor en el qual podem posar les nostres dades a fi de guardar-les i tractar-les més endavant. A Python, les variables no tenen tipus, és a dir, no hem d'indicar si la variable serà numèrica, un caràcter, una cadena de caràcters o una llista, per exemple. A més, les variables poden ser declarades i inicialitzades en qualsevol moment, a diferència d'altres llenguatges de programació.\n",
    "\n",
    "## 5.1. Declaració de variables\n",
    "\n",
    "Per **declarar** una variable, fem servir l'expressió *nom_de_variable = valor*. Es recomana repassar el document [PEP-8](https://www.python.org/dev/peps/pep-0008/#function-and-variable-names) per indicar noms de variables correctes, però, *grosso modo*, evitarem utilitzar majúscula a la inicial, separarem les diferents paraules amb el caràcter «_» i no utilitzarem accents ni caràcters específics de la nostra codificació com el símbol del «€» o la «ñ», per exemple.\n",
    "\n",
    "Vegem uns quants exemples de declaracions de variables i com fer-les servir:"
   ]
  },
  {
   "cell_type": "code",
   "execution_count": null,
   "metadata": {},
   "outputs": [],
   "source": [
    "# Declarem una variable de nom 'variable_numerica'\n",
    "# que conté el valor enter 12.\n",
    "variable_numerica = 12\n",
    "\n",
    "# Declarem una variable de nom monstre\n",
    "# que conté el valor 'Godzilla'.\n",
    "monstre = 'Godzilla'\n",
    "\n",
    "# Declarem una variable de nom 'planetes'\n",
    "# que és una llista de cadenes de caràcters.\n",
    "planetes = ['Mercuri', 'Venus', 'Terra', 'Mart']"
   ]
  },
  {
   "cell_type": "code",
   "execution_count": null,
   "metadata": {},
   "outputs": [],
   "source": [
    "la_meva_edat = 25\n",
    "la_meva_edat_en_5 = la_meva_edat + 5\n",
    "# 'Imprimim' el valor calculat que serà, efectivament, 30\n",
    "print(la_meva_edat_en_5)"
   ]
  },
  {
   "cell_type": "markdown",
   "metadata": {
    "id": "gO8zlYzWagdo"
   },
   "source": [
    "## 5.2. Paraules reservades\n",
    "\n",
    "En Python, hi ha un conjunt de paraules, anomenades **paraules reservades**, que no podem utilitzar per declarar variables, ja que tenen un significat especial i el seu nom està reservat per certes tasques internes del llenguatge de programació.\n",
    "\n",
    "Algunes d'aquestes paraules formen part de la sintaxi bàsica de Python (per exemple: True, False, def, return, for, if). D'altres formen part de funcionalitats més avançades (async, await).\n",
    "\n",
    "Per consultar quines són les paraules reservades en Python, es pot executar el codi següent:"
   ]
  },
  {
   "cell_type": "code",
   "execution_count": null,
   "metadata": {},
   "outputs": [],
   "source": [
    "help('keywords')"
   ]
  },
  {
   "cell_type": "markdown",
   "metadata": {
    "id": "TSkQ_eeiagdp"
   },
   "source": [
    "## 5.3. Funcions bàsiques\n",
    "\n",
    "Una part clau en el disseny és que el codi sigui dinàmic i interactiu per l'usuari. Per aconseguir-ho, hi ha funcions bàsiques de Python que permeten a l'usuari interaccionar amb el programa.\n",
    "\n",
    "Una **funció** és una porció de codi reutilitzable que s'utilitza per a fer una tasca determinada. Si tenim un tros de codi que hem d'utilitzar repetidament, podem utilitzar la funció que conté el codi dintre, en comptes d'haver d'escriure'l tot un altre cop.\n",
    "\n",
    "A continuació teniu l'exemple de la funció suma que havíem creat anteriorment:"
   ]
  },
  {
   "cell_type": "code",
   "execution_count": null,
   "metadata": {},
   "outputs": [],
   "source": [
    "# Definim la funció suma\n",
    "def suma(a, b):\n",
    "    \"\"\" Aquesta funció retorna\n",
    "    la suma dels arguments a i b \"\"\"\n",
    "    return a + b"
   ]
  },
  {
   "cell_type": "code",
   "execution_count": null,
   "metadata": {},
   "outputs": [],
   "source": [
    "# Si volem fer la suma de dos nombres,\n",
    "# no cal escriure tot el codi un altre cop\n",
    "suma(1, 2)"
   ]
  },
  {
   "cell_type": "markdown",
   "metadata": {
    "id": "EUsMypCfagdq"
   },
   "source": [
    "A la unitat 3 veurem en detall les funcions, però, de moment, és important conèixer dues funcions bàsiques: la funció `print` i la funció `input`."
   ]
  },
  {
   "cell_type": "markdown",
   "metadata": {
    "id": "nduvm0fOagdq"
   },
   "source": [
    "### 5.3.1. Funció print\n",
    "\n",
    "La funció **print()** agafa com a paràmetre d'entrada un o més elements i els mostra per pantalla. En imprimir-se, els elements es transformen en format text. Si hi ha més d'un paràmetre, aquests es mostren per defecte separats per un espai i, al final, s'acaba amb un salt de línia."
   ]
  },
  {
   "cell_type": "code",
   "execution_count": null,
   "metadata": {},
   "outputs": [],
   "source": [
    "# Mostrem per pantalla 3 elements\n",
    "print(1, 2, 3)\n",
    "\n",
    "# Mostrem per pantalla dos elements de text\n",
    "print('Hello', 'world')\n",
    "\n",
    "# Podem també escriure fragments de text\n",
    "print('Hello world')\n",
    "\n",
    "# Si no posem cap paràmetre, print retorna un salt de línia\n",
    "print()\n",
    "\n",
    "# També podem especificar altres separadors enlloc de l'espai\n",
    "print(1, 2, 3, sep=':')"
   ]
  },
  {
   "cell_type": "markdown",
   "metadata": {
    "id": "n3iN9vBJagdr"
   },
   "source": [
    "Un altre aspecte a destacar són les **seqüències d'escapament** (en anglès, *escape sequences*), conjunts de caràcters que tenen un significat especial per l'intèrpret. En Python, quan utilitzem la funció print(), podem especificar els salts de línia o el tabulador mitjançant seqüències de fugida. Per exemple:"
   ]
  },
  {
   "cell_type": "code",
   "execution_count": null,
   "metadata": {},
   "outputs": [],
   "source": [
    "# Utilitzem \\t per a afegir un tabulador\n",
    "print('Hello\\tworld')\n",
    "\n",
    "# Utilitzem \\n per a afegir un salt de línia\n",
    "print('Hello\\nworld')"
   ]
  },
  {
   "cell_type": "markdown",
   "metadata": {
    "id": "9xo_ErDXagdr"
   },
   "source": [
    "### 5.3.2. Funció input\n",
    "\n",
    "La funció **input** permet a l'usuari introduir un valor per pantalla que, posteriorment, pot ser guardat i utilitzat pel programa.\n",
    "És important destacar que l'element que l'usuari especifica mitjançant input() es retorna en forma de text.\n",
    "\n",
    "Aquesta funció és molt útil, ja que permet la interacció entre el codi i el seu usuari."
   ]
  },
  {
   "cell_type": "code",
   "execution_count": null,
   "metadata": {},
   "outputs": [],
   "source": [
    "# En aquest exemple, demanem a l'usuari que introdueixi el seu nom\n",
    "# Aquesta informació es guarda a la variable \"nom\"\n",
    "# Aquí també podem veure com utilitzem \\n per a fer el salt de línia\n",
    "nom = input(\"Introdueix el teu nom i cognoms\\n\")\n",
    "\n",
    "# La variable \"nom\" pot ser utilitzada després\n",
    "print(\"El nom introduït és el seguent: \", nom)"
   ]
  },
  {
   "cell_type": "markdown",
   "metadata": {
    "id": "-y_1Yrjmagds"
   },
   "source": [
    "## 5.4. Tipus de dades\n",
    "\n",
    "A continuació presentem alguns dels tipus nadius de dades que una variable de Python pot contenir:\n",
    "nombres enters (int), nombres decimals (float), nombres complexos\n",
    "(complex), cadena de caràcters (string), llistes (list), tuples (tuple)\n",
    "i diccionaris (dict)."
   ]
  },
  {
   "cell_type": "markdown",
   "metadata": {
    "id": "sXIbi5Klagds"
   },
   "source": [
    "| Tipus de dada| Exemple |\n",
    "| :- | :-: |\n",
    "| enters (int) | num_enter = 1  |\n",
    "| nombres decimals (float) | num_dec = 1.5  |\n",
    "| nombres complexos (complex) | num_complex = 2 + 3j  |\n",
    "| cadena de caràcters (string) | text = \"Hello World\"  |\n",
    "| llistes (list) | llista = [1, 2, 3] |\n",
    "| tuples (tuple) |  peli = ('Aladdin', 1992) |\n",
    "| diccionaris (dict) | fruita = {'pera' : 1.5, 'poma' : 3.4}  |\n",
    "\n",
    "Vegem uns exemples per un cada un d'aquests tipus:"
   ]
  },
  {
   "cell_type": "markdown",
   "metadata": {
    "id": "2r3wCWP1agds"
   },
   "source": [
    "### 5.4.1. Tipus numèrics i cadenes de caràcters"
   ]
  },
  {
   "cell_type": "code",
   "execution_count": null,
   "metadata": {},
   "outputs": [],
   "source": [
    "# Un nombre enter\n",
    "int_var = 1\n",
    "another_int_var = -5\n",
    "\n",
    "# Podem sumar-los, restar-los, multiplicar-los o dividir-los.\n",
    "print(int_var + another_int_var)\n",
    "print(int_var - another_int_var)\n",
    "print(int_var * another_int_var)\n",
    "print(int_var / another_int_var)\n",
    "\n",
    "# També podem realitzar la divisió entera.\n",
    "# Com que només tractem amb nombres enters, no hi haurà part decimal.\n",
    "print(int_var // another_int_var)"
   ]
  },
  {
   "cell_type": "markdown",
   "metadata": {
    "id": "3PGG4o4xagds"
   },
   "source": [
    "El comportament de l'operador `/` és una de les diferències entre Python 2 i Python 3. Mentre que en Python 3, l'operador `/` realitza la divisió real entre dos nombres enters (fixeu-vos que `1 / -5` dona com a resultat `0.2`), en Python 2 realitzava la divisió entera (per la qual cosa el resultat d'executar` 1 / -5` en Python 2 seria `-1`). Noteu que usem l'operador `//` per expressar la divisió entera en Python 3."
   ]
  },
  {
   "cell_type": "code",
   "execution_count": null,
   "metadata": {},
   "outputs": [],
   "source": [
    "# Un nombre decimal o 'float'\n",
    "float_var = 2.5\n",
    "another_float_var = .7\n",
    "\n",
    "# Convertim un nombre enter en un de decimal\n",
    "# mitjançant la funció 'float() '\n",
    "encore_float = float(7)\n",
    "\n",
    "# Podem fer el mateix en sentit contrari\n",
    "# amb la funció 'int()'\n",
    "new_int = int(encore_float)\n",
    "\n",
    "# Podem fer les mateixes operacions que\n",
    "# en el cas dels nombres enters,\n",
    "# però en aquest cas la divisió serà\n",
    "# decimal si algun dels nombres és decimal.\n",
    "print(another_float_var + float_var)\n",
    "print(another_float_var - float_var)\n",
    "print(another_float_var * float_var)\n",
    "print(another_float_var / float_var)\n",
    "print(another_float_var // float_var)"
   ]
  },
  {
   "cell_type": "code",
   "execution_count": null,
   "metadata": {},
   "outputs": [],
   "source": [
    "# Un nombre complex\n",
    "complex_var = 2 + 3j\n",
    "\n",
    "# Podem accedir a la part imaginària o a la part real:\n",
    "print(complex_var.imag)\n",
    "print(complex_var.real)"
   ]
  },
  {
   "cell_type": "code",
   "execution_count": null,
   "metadata": {},
   "outputs": [],
   "source": [
    "# Cadena de caràcters\n",
    "my_string = 'Hello, Bio! ñç'\n",
    "print(my_string)"
   ]
  },
  {
   "cell_type": "markdown",
   "metadata": {
    "id": "PgHoWVV4agdt"
   },
   "source": [
    "Fixeu-vos que podem incloure caràcters Unicode (com `ñ`o`ç`) a les cadenes. Això també és una novetat de Python 3 (les variables de tipus `str` són ara UTF-8)."
   ]
  },
  {
   "cell_type": "code",
   "execution_count": null,
   "metadata": {},
   "outputs": [],
   "source": [
    "# Podem concatenar dues cadenes utilitzant l'operador '+'.\n",
    "same_string = 'Hello, ' + 'Bio' + '!' + ' ñc'\n",
    "print(same_string)\n",
    "\n",
    "# A Python també podem utilitzar wildcards\n",
    "# com en la funció 'sprintf' de C.\n",
    "# Per exemple:\n",
    "name = \"Guido\"\n",
    "num_emails = 5\n",
    "print(\"Hello, %s! You've got %d new emails\" % (name, num_emails))"
   ]
  },
  {
   "cell_type": "markdown",
   "metadata": {
    "id": "FkgaQJxtagdu"
   },
   "source": [
    "A l'exemple anterior, hem substituït a l'_string_ la cadena *%s* pel contingut de la variable *name*, que és un _string_, i *%d* per *num_emails*, que és un nombre enter. També podríem utilitzar *%f* per a nombres decimals (podríem indicar la precisió, per exemple, amb *%5.3f*, el nombre tindria una mida total de cinc xifres i tres serien per la part decimal). Hi ha moltes altres possibilitats, però haurem de tenir en compte el tipus de variable que volem substituir. Per exemple, si utilitzem *%d* i el contingut és _string_, Python retornarà un missatge d'error. Per evitar aquesta situació, es recomana l'ús de la funció *str()* per convertir el valor a _string_.\n",
    "\n",
    "També podem mostrar el contingut de les variables sense especificar el seu tipus, fent servir `format`:"
   ]
  },
  {
   "cell_type": "code",
   "execution_count": null,
   "metadata": {},
   "outputs": [],
   "source": [
    "print(\"Hello, {}! You've got {} new emails\".format(name, num_emails))"
   ]
  },
  {
   "cell_type": "markdown",
   "metadata": {
    "id": "e0I18BS2agdu"
   },
   "source": [
    "### 5.4.2. Llistes, tuples i diccionaris\n",
    "\n",
    "Ara presentarem altres tipus de dades nadius més complexos: llistes, tuples i diccionaris:"
   ]
  },
  {
   "cell_type": "code",
   "execution_count": null,
   "metadata": {},
   "outputs": [],
   "source": [
    "# Definim una llista amb el nom dels planetes (string).\n",
    "planets = ['Mercury', 'Venus', 'Earth', 'Mars',\n",
    "           'Jupiter', 'Saturn', 'Uranus', 'Neptune']\n",
    "\n",
    "# També pot contenir números.\n",
    "prime_numbers = [2, 3, 5, 7]\n",
    "\n",
    "# Una llista buida\n",
    "empty_list = []\n",
    "\n",
    "# O una barreja de qualsevol tipus:\n",
    "sandbox = ['3', 'a string',\n",
    "           ['a list inside another list', 'second item'],\n",
    "           7.5]\n",
    "\n",
    "# Mostrem els elements per pantalla\n",
    "print(sandbox)"
   ]
  },
  {
   "cell_type": "code",
   "execution_count": null,
   "metadata": {},
   "outputs": [],
   "source": [
    "# Podem afegir elements a una llista.\n",
    "planets.append('Pluto')\n",
    "print(planets)"
   ]
  },
  {
   "cell_type": "code",
   "execution_count": null,
   "metadata": {},
   "outputs": [],
   "source": [
    "# O en podem eliminar.\n",
    "planets.remove('Pluto')\n",
    "print(planets)"
   ]
  },
  {
   "cell_type": "code",
   "execution_count": null,
   "metadata": {},
   "outputs": [],
   "source": [
    "# Podem eliminar qualsevol element de la llista.\n",
    "planets.remove('Venus')\n",
    "print(planets)"
   ]
  },
  {
   "cell_type": "code",
   "execution_count": null,
   "metadata": {},
   "outputs": [],
   "source": [
    "# Sempre que n'afegim, serà al final de la llista.\n",
    "# Una llista està ordenada.\n",
    "planets.append('Venus')\n",
    "print(planets)"
   ]
  },
  {
   "cell_type": "code",
   "execution_count": null,
   "metadata": {},
   "outputs": [],
   "source": [
    "# Si volem ordenar-la alfabèticament,\n",
    "# podem utilitzar la funció 'sorted()'\n",
    "print(sorted(planets))"
   ]
  },
  {
   "cell_type": "code",
   "execution_count": null,
   "metadata": {},
   "outputs": [],
   "source": [
    "# Podem concatenar dues llistes:\n",
    "monsters = ['Godzilla', 'King Kong']\n",
    "more_monsters = ['Cthulu']\n",
    "\n",
    "# Mostrem el resultat per pantalla\n",
    "print(monsters + more_monsters)"
   ]
  },
  {
   "cell_type": "code",
   "execution_count": null,
   "metadata": {},
   "outputs": [],
   "source": [
    "# Podem concatenar una llista amb una altra\n",
    "# i guardar-la a la mateixa llista:\n",
    "monsters.extend(more_monsters)\n",
    "\n",
    "# Mostrem el resultat per pantalla\n",
    "print(monsters)"
   ]
  },
  {
   "cell_type": "code",
   "execution_count": null,
   "metadata": {},
   "outputs": [],
   "source": [
    "# Podem accedir a un element en concret de la llista:\n",
    "print(monsters[0])\n",
    "\n",
    "# El primer element d'una llista és el 0, per tant, el segon serà l'1:\n",
    "print(monsters[1])\n",
    "\n",
    "# Podem accedir a l'últim element mitjançant nombres negatius:\n",
    "print(monsters[-1])\n",
    "\n",
    "# Penúltim:\n",
    "print(monsters[-2])"
   ]
  },
  {
   "cell_type": "code",
   "execution_count": null,
   "metadata": {},
   "outputs": [],
   "source": [
    "# També podem obtenir parts d'una llista\n",
    "# mitjançant la tècnica de 'slicing'.\n",
    "planets = ['Mercury', 'Venus', 'Earth', 'Mars',\n",
    "           'Jupiter', 'Saturn', 'Uranus', 'Neptune']\n",
    "\n",
    "# Per exemple, els dos primers elements:\n",
    "print(planets[:2])"
   ]
  },
  {
   "cell_type": "code",
   "execution_count": null,
   "metadata": {},
   "outputs": [],
   "source": [
    "# O els elements entre les posicions 2 i 4\n",
    "print(planets[2:5])"
   ]
  },
  {
   "cell_type": "markdown",
   "metadata": {
    "id": "RPCRoNXCagdx"
   },
   "source": [
    "Fixeu-vos en aquest últim exemple: en la posició 2 trobem el tercer element de la llista (`'Earth'`), ja que la llista comença a indexar en 0. A més, l'últim element indicat (la posició` 5`) no s'inclou."
   ]
  },
  {
   "cell_type": "code",
   "execution_count": null,
   "metadata": {},
   "outputs": [],
   "source": [
    "# O els elements del segon al penúltim:\n",
    "print(planets[1:-1])"
   ]
  },
  {
   "cell_type": "markdown",
   "metadata": {
    "id": "35E588wEagdx"
   },
   "source": [
    "La tècnica de _**slicing**_ és molt important i ens permet gestionar llistes d'una manera molt senzilla i potent. Serà imprescindible dominar-la per afrontar molts dels problemes que haurem de resoldre en el camp de la ciència de dades."
   ]
  },
  {
   "cell_type": "code",
   "execution_count": null,
   "metadata": {},
   "outputs": [],
   "source": [
    "# Podem modificar un element en concret d'una llista:\n",
    "monsters = ['Godzilla', 'King Kong', 'Cthulu']\n",
    "monsters[-1] = 'Kraken'\n",
    "\n",
    "# Mostrem la llista per pantalla\n",
    "print(monsters)"
   ]
  },
  {
   "cell_type": "code",
   "execution_count": null,
   "metadata": {},
   "outputs": [],
   "source": [
    "# Una tupla és un tipus molt semblant a una llista,\n",
    "# però és immutable, és a dir, un cop declarada\n",
    "# no podem afegir-hi elements ni eliminar-ne:\n",
    "birth_year = ('Stephen Hawking', 1942)\n",
    "\n",
    "# Si executem la línia següent, obtindrem un error de tipus 'TypeError'\n",
    "birth_year[1] = 1984"
   ]
  },
  {
   "cell_type": "markdown",
   "metadata": {
    "id": "qye1DLmmagdy"
   },
   "source": [
    "Els errors en Python solen ser molt informatius. Una recerca a internet ens ajudarà en la gran majoria de problemes que puguem tenir."
   ]
  },
  {
   "cell_type": "code",
   "execution_count": null,
   "metadata": {},
   "outputs": [],
   "source": [
    "# Un string també és considerat una llista de caràcters.\n",
    "# Així doncs, podem accedir a una posició determinada\n",
    "# (tot i que no modificar-la):\n",
    "name = 'Albert Einstein'\n",
    "print(name[5])\n",
    "\n",
    "# Podem fer servir slicing també amb les cadenas de caràcters\n",
    "print(name[7:15])\n",
    "\n",
    "# Podem separar pel caràcter que considerem un string.\n",
    "# En aquest cas, per l'espai en blanc, utilitzant\n",
    "# la funció 'split()'.\n",
    "n, surname = name.split()\n",
    "print(surname)\n",
    "\n",
    "# I podem convertir un determinat string en una llista\n",
    "# de caràcters fàcilment:\n",
    "chars = list(surname)\n",
    "print(chars)\n",
    "\n",
    "# Per unir els diferents elements d'una llista\n",
    "# mitjançant un caràcter, podem utilitzar la funció\n",
    "# 'join()':\n",
    "print(''.join(chars))\n",
    "print('.'.join(chars))"
   ]
  },
  {
   "cell_type": "code",
   "execution_count": null,
   "metadata": {},
   "outputs": [],
   "source": [
    "# L'operador ',' és el creador de tuples.\n",
    "# Per exemple, el típic problema d'assignar el valor d'una\n",
    "# variable a una altra en Python es pot resoldre\n",
    "# en una línia d'una manera molt elegant utilitzant\n",
    "# tuples (es tracta d'un idiom):\n",
    "a = 5\n",
    "b = -5\n",
    "a, b = b, a\n",
    "print(a)\n",
    "print(b)"
   ]
  },
  {
   "cell_type": "markdown",
   "metadata": {
    "id": "qkQFVkbEagdy"
   },
   "source": [
    "L'anterior exemple és un *idiom* típic de Python. A la tercera línia, creem una tupla (a,b) a la qual assignem els valors un per un de la tupla (b,a). Els parèntesis no són necessaris, i per això queda una notació tan reduïda.\n",
    "\n",
    "Per acabar, presentarem els diccionaris, una estructura de dades molt útil a la qual assignem un valor a una clau en el diccionari:"
   ]
  },
  {
   "cell_type": "code",
   "execution_count": null,
   "metadata": {},
   "outputs": [],
   "source": [
    "# Codis internacionals d'alguns països.\n",
    "# La clau o 'key' és el codi de país, i el valor, el seu nom:\n",
    "country_codes = {34: 'Spain', 376: 'Andorra',\n",
    "                 41: 'Switzerland', 424: None}\n",
    "\n",
    "# Podem buscar\n",
    "my_code = 34\n",
    "country = country_codes[my_code]\n",
    "print(country)"
   ]
  },
  {
   "cell_type": "code",
   "execution_count": null,
   "metadata": {},
   "outputs": [],
   "source": [
    "# Podem obtenir totes les claus:\n",
    "print(country_codes.keys())"
   ]
  },
  {
   "cell_type": "code",
   "execution_count": null,
   "metadata": {},
   "outputs": [],
   "source": [
    "# O els valors:\n",
    "print(country_codes.values())"
   ]
  },
  {
   "cell_type": "code",
   "execution_count": null,
   "metadata": {},
   "outputs": [],
   "source": [
    "# Podem modificar valors al diccionari o afegir noves claus.\n",
    "# Definim un diccionari buit.\n",
    "# 'country_codes = dict()' és una notació equivalent:\n",
    "country_codes = {}\n",
    "\n",
    "# Afegim un element:\n",
    "country_codes[34] = 'Spain'\n",
    "\n",
    "# N'afegim un altre:\n",
    "country_codes[81] = 'Japan'\n",
    "\n",
    "print(country_codes)"
   ]
  },
  {
   "cell_type": "code",
   "execution_count": null,
   "metadata": {},
   "outputs": [],
   "source": [
    "# Modifiquem el diccionari:\n",
    "country_codes[81] = 'Andorra'\n",
    "\n",
    "print(country_codes)"
   ]
  },
  {
   "cell_type": "code",
   "execution_count": null,
   "metadata": {},
   "outputs": [],
   "source": [
    "# Podem assignar el valor buit a un element:\n",
    "country_codes[81] = None\n",
    "\n",
    "print(country_codes)"
   ]
  },
  {
   "cell_type": "markdown",
   "metadata": {
    "id": "YIy_33R9agdz"
   },
   "source": [
    "Els valors buits ens seran útils per declarar una variable que no sapiguem quin valor o quin tipus de valor contindrà i per fer comparacions entre variables. Habitualment, els valors buits són _None_ o '', en el cas de les cadenes de caràcters."
   ]
  },
  {
   "cell_type": "code",
   "execution_count": null,
   "metadata": {},
   "outputs": [],
   "source": [
    "# Podem assignar el valor d'una variable a una altra.\n",
    "# És important que s'entenguin les línies següents:\n",
    "a = 5\n",
    "b = 1\n",
    "print(a, b)\n",
    "# b conté la 'direcció' del contenidor al qual apunta 'a'.\n",
    "b = a\n",
    "print(a, b)"
   ]
  },
  {
   "cell_type": "code",
   "execution_count": null,
   "metadata": {},
   "outputs": [],
   "source": [
    "# Vegem ara què passa si modifiquem el valor d'a o b:\n",
    "a = 6\n",
    "print(a, b)\n",
    "b = 7\n",
    "print(a, b)"
   ]
  },
  {
   "cell_type": "markdown",
   "metadata": {
    "id": "MKFFy3VQagd0"
   },
   "source": [
    "Fins aquí hem presentat com declarar i utilitzar variables. Recomanem la lectura de la [documentació oficial en línia](https://docs.python.org/3/tutorial/introduction.html) per a fixar els coneixements explicats."
   ]
  },
  {
   "cell_type": "markdown",
   "metadata": {
    "id": "zLHkS7XNagd0"
   },
   "source": [
    "# 6. Organització del codi\n",
    "\n",
    "Un mòdul de Python és qualsevol fitxer amb extensió *.py* que estigui sota la ruta del _path_ de Python. El path de Python es pot consultar important la biblioteca sys:"
   ]
  },
  {
   "cell_type": "code",
   "execution_count": null,
   "metadata": {},
   "outputs": [],
   "source": [
    "import sys\n",
    "print(sys.path)"
   ]
  },
  {
   "cell_type": "markdown",
   "metadata": {
    "id": "AksEnz4Nagd0"
   },
   "source": [
    "Per defecte, Python també mira les biblioteques que s'hagin definit a la variable d'entorn \\$PYTHONPATH (això pot canviar lleugerament en un [entorn Windows](https://docs.python.org/3/using/cmdline.html))."
   ]
  },
  {
   "cell_type": "markdown",
   "metadata": {
    "id": "PCvgX5mJagd0"
   },
   "source": [
    "Un paquet en Python és qualsevol directori que contingui un fitxer especial de nom *\\_\\_init\\_\\_.py* (aquest fitxer estarà buit la majoria de vegades).\n",
    "\n",
    "Un mòdul pot contenir diferents funcions, variables o objectes. Per exemple, definim un mòdul de nom *prog\\_datasci.py* que contingui:"
   ]
  },
  {
   "cell_type": "code",
   "execution_count": null,
   "metadata": {},
   "outputs": [],
   "source": [
    "# prog_datasci.py\n",
    "\n",
    "PI = 3.14159265\n",
    "\n",
    "\n",
    "def suma(x, y):\n",
    "    return x + y\n",
    "\n",
    "\n",
    "def resta(x, y):\n",
    "    return x - y"
   ]
  },
  {
   "cell_type": "markdown",
   "metadata": {
    "id": "orp2N01Dagd1"
   },
   "source": [
    "Per utilitzar des d'un altre mòdul o _script_ aquestes funcions, hauríem\n",
    "d'escriure el següent:"
   ]
  },
  {
   "cell_type": "code",
   "execution_count": null,
   "metadata": {},
   "outputs": [],
   "source": [
    "from prog_datasci import PI, suma, resta\n",
    "\n",
    "# I llavors podríem utilitzar-les normalment.\n",
    "rset = suma(2, 5)"
   ]
  },
  {
   "cell_type": "markdown",
   "metadata": {
    "id": "0_mBvCgeagd1"
   },
   "source": [
    "També s'acostuma a utilitzar la paraula clau `as` per a donar un nou nom al mòdul o funcions que s'importen. Així, per exemple, podríem fer `from prog_datasci import PI as mypi` per fer servir el nom `mypi` per a referir-nos a `PI`:"
   ]
  },
  {
   "cell_type": "code",
   "execution_count": null,
   "metadata": {},
   "outputs": [],
   "source": [
    "from prog_datasci import PI as mypi\n",
    "print(mypi)"
   ]
  },
  {
   "cell_type": "markdown",
   "metadata": {
    "id": "ZM_0c_biagd1"
   },
   "source": [
    "Durant el curs veurem que aquesta sintaxi és molt comuna per a escurçar els noms dels mòduls que importem.\n",
    "\n",
    "A Python també podem utilitzar la directiva `from prog_datasci import *`, però el seu ús està **totalment desaconsellat**. La raó és que estaríem important gran quantitat de codi que no utilitzarem (amb el consegüent augment de l'ús de la memòria), però a més, podríem tenir col·lisions de noms (funcions que es diguin de la mateixa manera en diferents mòduls) sense el nostre coneixement. Si no és que sigui imprescindible, no utilitzarem aquesta directiva i importarem una a una les biblioteques i les funcions que necessitarem.\n",
    "\n",
    "Podeu aprendre més sobre importar biblioteques i definir els vostres propis mòduls [aquí](https://docs.python.org/3/tutorial/modules.html)."
   ]
  },
  {
   "cell_type": "markdown",
   "metadata": {
    "id": "cLtWCGB4agd1"
   },
   "source": [
    "# 7. Operadors\n",
    "\n",
    "Els operadors són símbols que indiquen a l'intèrpret de comandes que efectuï una operació específica. Hi ha diferents tipus segons la seva funció, que s'engloben en 5 blocs: operadors aritmètics, d'assignació, relacionals, lògics i de pertinença.\n",
    "\n",
    "En aquest notebook ja hem anat veient operadors, però a continuació els descriurem més formalment i també veurem exemples de cada un d'ells:"
   ]
  },
  {
   "cell_type": "code",
   "execution_count": null,
   "metadata": {},
   "outputs": [],
   "source": []
  },
  {
   "cell_type": "code",
   "execution_count": null,
   "metadata": {},
   "outputs": [],
   "source": []
  },
  {
   "cell_type": "markdown",
   "metadata": {
    "id": "UzTvzxfwagd2"
   },
   "source": [
    "## 7.1. Operadors aritmètics\n",
    "\n",
    "Els operadors aritmètics són símbols que ens permeten efectuar una operació matemàtica bàsica.\n",
    "Per exemple, si considerem l'expressió `a=1+2`, tenim `1` i `2` com els operands i `+` com l'operador aritmètic."
   ]
  },
  {
   "cell_type": "markdown",
   "metadata": {
    "id": "B888qMNtagd2"
   },
   "source": [
    "| Operador| Descripció | Exemple\n",
    "| :- | -- | :-: |\n",
    "| + | Suma  | 1 + 2 = 3 |\n",
    "| - | Resta | 2 - 1 = 1 |\n",
    "| * | Multiplicació  | 2 * 3 = 6 |\n",
    "| / | Divisió  | 5 / 2 = 2.5 |\n",
    "| // | Divisió (nombre enter) | 5 // 2 = 2 |\n",
    "| % |  Mòdul | 16 % 3 = 1 |\n",
    "| ** | Potència  | 2 ** 4 = 16 |"
   ]
  },
  {
   "cell_type": "code",
   "execution_count": null,
   "metadata": {},
   "outputs": [],
   "source": [
    "# Definim dos elements: a i b\n",
    "a = 2\n",
    "b = 3\n",
    "\n",
    "# Fem la suma d'a i b i mostrem el resultat\n",
    "print(a + b)"
   ]
  },
  {
   "cell_type": "markdown",
   "metadata": {
    "id": "CaUOinnEagd2"
   },
   "source": [
    "## 7.2. Operadors d'assignació\n",
    "\n",
    "Els operadors d'assignació s'utilitzen per especificar un valor a una variable. Un exemple ja comentat és l'operador `=`. Aquest operador `=` es pot combinar amb operadors aritmètics per a poder efectuar una operació i fer l'assignació alhora.\n",
    "\n",
    "Per exemple, utilitzem l'operador bàsic d'assignació `=` per a declarar una variable: a = 5.\n",
    "A continuació, utilitzem l'operador `+=` per a sumar 5 a la nostra variable a i actualitzar el seu valor: a+=5. Una altra manera d'escriure-ho és a = a+5."
   ]
  },
  {
   "cell_type": "code",
   "execution_count": null,
   "metadata": {},
   "outputs": [],
   "source": [
    "# Definim un element a\n",
    "a = 10\n",
    "print(a)\n",
    "\n",
    "# Fem la suma d'a i 5 i mostrem el resultat\n",
    "a += 5\n",
    "print(a)"
   ]
  },
  {
   "cell_type": "markdown",
   "metadata": {
    "id": "JyvKvlY5agd2"
   },
   "source": [
    "| Operador| Descripció | Alternativa |\n",
    "| :- |  -- |:-: |\n",
    "| = | a = 10. Assignem el valor 10 a la variable a | --- |\n",
    "| += | a += 5. Sumem 5 a la variable a i n'actualitzem el valor | a = a + 5 |\n",
    "| -= | a -= 2. Restem 2 a la variable a i n'actualitzem el valor| a = a -2 |\n",
    "| * = | a * = 2. Multipliquem variable a per 2 i n'actualitzem el valor | a = a * 2 |\n",
    "| /= | a /= 2. Dividim la variable a entre 2 i n'actualitzem el valor| a = a / 2 |\n",
    "| //= | a //= 2. Dividim la variable a entre 2 (obtenint un enter) i n'actualitzem el valor | a = a //2 |\n",
    "| %= |  a %= 3. Calculem el mòdul d'a entre 3 i n'actualitzem el valor | a = a % 3 |\n",
    "| ** = | a ** = 2. Elevem a al quadrat i n'actualitzem el valor| a = a ** 2 |"
   ]
  },
  {
   "cell_type": "markdown",
   "metadata": {
    "id": "DDSCORLRagd2"
   },
   "source": [
    "## 7.3. Operadors relacionals\n",
    "\n",
    "Els operadors relacionals s'utilitzen per comparar dos variables segons una condició específica. Per exemple: *És la variable a més gran que la variable b?*.\n",
    "\n",
    "Aquests operadors retornen un tipus de dades concret, anomenat `boolean`, segons el resultat de comparació. Els `boolean` només poden tenir 2 valors: `True` o `False`. Si la condició és certa, es retorna el boolean `True`. Si la condició és falsa, es retorna el boolean `False`.\n",
    "\n",
    "Per exemple, considerem la situació següent:\n",
    "\n",
    "Tenim dos variables, amb valor 2 i 4 i volem utilitzar els operadors `>` o `<` per comparar-les. En aquest cas, si escrivim `2 > 4` estem preguntant si 2 és més gran que 4. Com aquesta condició és falsa, es retornarà el boolean False. En canvi, si fem `2 < 4`, la condició és certa, ja que 2 és més petit que 4, de manera que es retornarà el booelan True."
   ]
  },
  {
   "cell_type": "code",
   "execution_count": null,
   "metadata": {},
   "outputs": [],
   "source": [
    "# Les operacions relacionals tindran com a resultat\n",
    "# un valor cert (True) o fals (False):\n",
    "a = 2\n",
    "b = 4\n",
    "\n",
    "# El valor a és més gran que b?\n",
    "print(a > b)"
   ]
  },
  {
   "cell_type": "code",
   "execution_count": null,
   "metadata": {},
   "outputs": [],
   "source": [
    "# El valor a és més petit que b?\n",
    "print(a < b)"
   ]
  },
  {
   "cell_type": "code",
   "execution_count": null,
   "metadata": {},
   "outputs": [],
   "source": [
    "# Definim un element b\n",
    "b = 5\n",
    "\n",
    "# El valor de b és igual que el d'a?\n",
    "print(b == a)\n",
    "\n",
    "# El valor de b és diferent que el d'a?\n",
    "print(b != a)"
   ]
  },
  {
   "cell_type": "code",
   "execution_count": null,
   "metadata": {},
   "outputs": [],
   "source": [
    "# Altres operadors relacionals disponibles són\n",
    "# més petit o igual '<=',\n",
    "# més gran o igual '>='\n",
    "print(a <= b)\n",
    "print(a >= b)"
   ]
  },
  {
   "cell_type": "markdown",
   "metadata": {
    "id": "Llpsz2Stagd3"
   },
   "source": [
    "| Operador| Descripció | Exemple\n",
    "| :- | -- | :-: |\n",
    "| > | Retorna True si l'operand de l'esquerra és més gran que l'operand de la dreta  | 6 > 4 : True |\n",
    "| < | Retorna True si l'operand de l'esquerra és més petit que l'operand de la dreta | 2 < 4 : True |\n",
    "| == | Retorna True si l'operand de l'esquerra és igual a l'operand de la dreta  | 4 == 4 : True |\n",
    "| !=| Retorna True si l'operand de l'esquerra és diferent a l'operand de la dreta  | 2 != 4 : True|\n",
    "| >= | Retorna True si l'operand de l'esquerra és més gran o igual que l'operand de la dreta | 10 >= 5 : True |\n",
    "| <= |  Retorna True si l'operand de l'esquerra és més petit o igual que l'operand de la dreta | 7 <= 7 : True |"
   ]
  },
  {
   "cell_type": "markdown",
   "metadata": {
    "id": "wrksIeR8agd3"
   },
   "source": [
    "## 7.4. Operadors lògics\n",
    "\n",
    "Els operadors lògics ens permeten treballar amb múltiples condicions. En Python en tenim 3: `and`, `or` i `not`.\n",
    "\n",
    "Per exemple, considerem 2 elements:\n",
    "\n",
    "a = 5; b = 2\n",
    "\n",
    "I 2 condicions:\n",
    "\n",
    "a > b (a més gran que b) ; a == b (a igual a b)\n",
    "\n",
    "- Si considerem el primer operador lògic `and`, aquest retornarà True si es compleixen les 2 condicions. En aquest cas, la 1a condició (a > b) es compleix, però la 2a no (a == b). Per tant, (a > b) and (a == b) retornarà el Boolean False.\n",
    "- En segon lloc, l'operador lògic `or` retornarà True si alguna de les condicions és certa. En aquest cas, com la primera condició es compleix, (a > b) or (a == b) retornarà el Boolean True.\n",
    "- Finalment, l'operador lògic `not` retornarà True si la condició és falsa. Tal com hem comentat, la segona condició és falsa, aleshores, not (a == b) retornarà el Boolean True."
   ]
  },
  {
   "cell_type": "code",
   "execution_count": null,
   "metadata": {},
   "outputs": [],
   "source": [
    "# Definim dos elements: a i b\n",
    "a = 5\n",
    "b = 2\n",
    "\n",
    "# Mostrem per pantalla els resultats\n",
    "print('Exemple 1: ', (a > b) and (a == b))\n",
    "print('Exemple 2: ', (a > b) or (a == b))\n",
    "print('Exemple 3: ', not (a == b))"
   ]
  },
  {
   "cell_type": "markdown",
   "metadata": {
    "id": "3kbhWqbmagd4"
   },
   "source": [
    "| Operador| Descripció | Exemple\n",
    "| :- | -- | :-: |\n",
    "| and | Retorna True si ambdues condicions són certes  | a and b |\n",
    "| or | Retorna True si alguna de les condicions és certa | a or b |\n",
    "| not | Retorna True si la condició és falsa | not a |"
   ]
  },
  {
   "cell_type": "markdown",
   "metadata": {
    "id": "i6d268EJagd4"
   },
   "source": [
    "## 7.5. Operadors de pertinença\n",
    "\n",
    "Els operadors de pertinença són molt utilitzats quan treballem amb llistes, ja que ens permeten comprovar si un element concret està dintre o no d'una llista. `in` i `not in` són els operadors de pertinença.\n",
    "\n",
    "Considerem la llista següent:\n",
    "`fruites = ['pera', 'poma', 'platan']`\n",
    "\n",
    "Volem comprovar que l'element a (a = 'pera') està a la llista. Per fer-ho utilitzem l'operador `in`. En aquest cas, a in fruites retornarà el boolean True. Si agafem un altre element b (b = 'kiwi'), com aquest element no està a la llista, `not in` retornarà el boolean True, mentre que `in` retornarà el boolean False."
   ]
  },
  {
   "cell_type": "code",
   "execution_count": null,
   "metadata": {},
   "outputs": [],
   "source": [
    "# Definim tres elements: fruites, a i b\n",
    "fruites = ['pera', 'poma', 'platan']\n",
    "a = 'pera'\n",
    "b = 'kiwi'\n",
    "\n",
    "# Mostrem el resultat de les operacions de pertinença\n",
    "print(a in fruites)  # pera està a la llista\n",
    "print(b in fruites)  # kiwi no està a la llista\n",
    "print(b not in fruites)  # kiwi no està a la llista"
   ]
  },
  {
   "cell_type": "markdown",
   "metadata": {
    "id": "OqWNuTY3agd4"
   },
   "source": [
    "## 7.6. Numpy\n",
    "\n",
    "`Numpy` és una biblioteca de Python especialitzada en càlcul numèric. En aquesta unitat introduirem alguns aspectes bàsics d'aquesta biblioteca, però, més endavant, explicarem en detall com treballar amb aquesta biblioteca i les seves funcionalitats més importants.\n",
    "\n",
    "Si volem utilitzar la biblioteca Numpy, primer de tot, l'hem d'importar amb la funció **import**, tal com hem vist a l'apartat anterior. En el cas de Numpy, s'ha establert que la seva abreviació més comuna és `np`."
   ]
  },
  {
   "cell_type": "code",
   "execution_count": null,
   "metadata": {},
   "outputs": [],
   "source": [
    "import numpy as np"
   ]
  },
  {
   "cell_type": "markdown",
   "metadata": {
    "id": "goiYagnCagd4"
   },
   "source": [
    "Numpy ens permet fer operacions numèriques de manera molt senzilla. Per explicar la seva utilitat, considerarem la situació següent:\n",
    "\n",
    "*Tenim una llista amb el preu dels productes de la compra. Com podríem sumar tots els elements de la llista per obtenir el preu total?*"
   ]
  },
  {
   "cell_type": "markdown",
   "metadata": {
    "id": "oEZxKY-0agd5"
   },
   "source": [
    "Amb el que hem vist fins ara, una opció podria ser accedir a cada un dels elements de la llista i sumar-los amb l'operador aritmètic de la suma (+):"
   ]
  },
  {
   "cell_type": "code",
   "execution_count": null,
   "metadata": {},
   "outputs": [],
   "source": [
    "# Creem la llista\n",
    "llista_compra = [3.5, 4.6, 8.9]\n",
    "\n",
    "# Accedim a cada un dels elements de la llista i els sumem\n",
    "suma_compra = llista_compra[0] + llista_compra[1] + llista_compra[2]\n",
    "\n",
    "# Mostrem el resultat per pantalla\n",
    "print('Suma: ', suma_compra)"
   ]
  },
  {
   "cell_type": "markdown",
   "metadata": {
    "id": "tDpul0KIagd5"
   },
   "source": [
    "Tot i que el resultat és correcte, no sembla una solució gaire viable, ja que és molt manual i, si tenim molts elements dins la llista, no seria factible escriure'ls un a un.\n",
    "\n",
    "Per solucionar aquest problema, podem utilitzar la biblioteca `Numpy`."
   ]
  },
  {
   "cell_type": "markdown",
   "metadata": {
    "id": "BcXaN-ftagd5"
   },
   "source": [
    "Numpy conté multitud de funcions. En aquest cas, ens interessa sumar els elements d'una llista, per tant, utilitzarem la funció sum()."
   ]
  },
  {
   "cell_type": "code",
   "execution_count": null,
   "metadata": {},
   "outputs": [],
   "source": [
    "# Creem la llista\n",
    "llista_compra = [3.5, 4.6, 8.9]\n",
    "\n",
    "# Apliquem la funció suma als elements de la llista i mostrem el resultat per\n",
    "# pantalla\n",
    "print('Suma: ', np.sum(llista_compra))"
   ]
  },
  {
   "cell_type": "markdown",
   "metadata": {
    "id": "Pbblojo8agd5"
   },
   "source": [
    "Com podeu veure, amb Numpy hem pogut sumar tots els elements de la llista de manera fàcil i ràpida."
   ]
  },
  {
   "cell_type": "markdown",
   "metadata": {
    "id": "Qi-YmNVtagd5"
   },
   "source": [
    "Numpy també es pot utilitzar per a calcular variables estadístiques (mitjana o mediana, desviació estàndard, màxim, mínim, entre d'altres) dels elements d'una llista:"
   ]
  },
  {
   "cell_type": "code",
   "execution_count": null,
   "metadata": {},
   "outputs": [],
   "source": [
    "# Apliquem la funció mean (mitjana) als elements de la llista i mostrem el\n",
    "# resultat per pantalla\n",
    "print('Mitjana: ', np.mean(llista_compra))\n",
    "\n",
    "# Apliquem la funció median (mediana) als elements de la llista i mostrem el\n",
    "# resultat per pantalla\n",
    "print('Mediana: ', np.median(llista_compra))\n",
    "\n",
    "# Apliquem la funció std (desviació estàndard) als elements de la llista i\n",
    "# mostrem el resultat per pantalla\n",
    "print('Desviació estàndard: ', np.std(llista_compra))\n",
    "\n",
    "# Apliquem la funció max (màxim) als elements de la llista i mostrem el\n",
    "# resultat per pantalla\n",
    "print('Màxim: ', np.max(llista_compra))\n",
    "\n",
    "# Apliquem la funció min (mínim) als elements de la llista i mostrem el\n",
    "# resultat per pantalla\n",
    "print('Mínim estàndard: ', np.min(llista_compra))"
   ]
  },
  {
   "cell_type": "markdown",
   "metadata": {
    "id": "17C6pr45agd6"
   },
   "source": [
    "En aquest [enllaç](https://numpy.org/doc/stable/reference/routines.math.html) podeu consultar les operacions matemàtiques que conté la biblioteca Numpy."
   ]
  },
  {
   "cell_type": "markdown",
   "metadata": {
    "id": "qwTM6S8Fagd6"
   },
   "source": [
    "# 8. Recursos per al programador de Python\n",
    "\n",
    "Part del procés d'aprendre a programar en Python consisteix a **aprendre on i com buscar** informació per resoldre problemes que no sabem solucionar immediatament. Així, familiaritzar-nos amb la documentació oficial, aprendre a fer servir els buscadors (com ara Google) per ajudar-nos a trobar la informació que necessitem, i descobrir el funcionament de les eines de pregunta-i-resposta (question-and-answer o Q&A) que fan servir els programadors, seran competències a treballar en l'assignatura. Aquestes competències són de vital importància, ja que els llenguatges de programació estan en contínua evolució, de manera que per molt que coneguem un llenguatge, és habitual que sovint ens trobem amb la necessitat de cercar algun recurs extern que ens ajudi a dur a terme les tasques que necessitem realitzar.\n",
    "\n",
    "Durant el curs, anirem veient com consultar aquests recursos, i els utilitzarem per a resoldre les activitats que s'aniran plantejant. Veureu que els enunciats de les activitats que us proposem realitzar contenen indicacions sobre la consulta de recursos externs. Aquestes indicacions us aniran guiant en la cerca d'informació per tal de resoldre els exercicis. Al principi del curs, les indicacions seran molt explícites, i així que el curs vagi avançant ho deixaran de ser progressivament. D'aquesta manera, anireu adquirint autonomia en el procés de recerca d'informació, cosa que us servirà per afrontar els problemes de programació que trobeu en el futur! Ara bé, recordeu que durant tot el procés esteu sempre acompanyats pel consultor de la vostra aula, que us ajudarà en tot moment (no dubteu a preguntar tot allò que calgui!)."
   ]
  },
  {
   "cell_type": "markdown",
   "metadata": {
    "id": "JuemXdkqagd6"
   },
   "source": [
    "# 9. Exercicis i preguntes teòriques\n",
    "\n",
    "La part avaluable d'aquesta unitat consisteix en el lliurament d'un fitxer IPython Notebook amb extensió IPYNB que contindrà els diferents exercicis i les preguntes teòriques que s'han de contestar. Trobareu el fitxer (`prog_datasci_2_python_entrega.ipynb`) amb les activitats a la mateixa carpeta que aquest notebook que esteu llegint.\n",
    "\n",
    "## 9.1. Instruccions importants\n",
    "\n",
    "És molt important que a l'hora de lliurar el fitxer Notebook amb les vostres activitats us assegureu que:\n",
    "\n",
    "1. Les vostres solucions siguin originals. Esperem no detectar-hi còpia directa entre estudiants.\n",
    "2. Tot el codi estigui correctament documentat. El codi sense documentar equivaldrà a un 0.\n",
    "3. El fitxer comprimit que lliureu és correcte (conté les activitats de la PAC que heu de lliurar).\n",
    "\n",
    "Per fer el lliurament, heu d'anar a la carpeta del drive Colab Notebooks, clicant amb el botó dret a la PAC en qüestió i fent Download. D'aquesta manera, baixareu la carpeta de la PAC comprimida amb zip. Aquest és el fitxer que heu de pujar al campus virtual de l'assignatura."
   ]
  },
  {
   "cell_type": "markdown",
   "metadata": {
    "id": "xV8VpKERagd6"
   },
   "source": [
    "# 10. Bibliografia\n",
    "\n",
    "D'una banda, us recomanem consultar la [introducció a Jupyter Notebook](http://opentechschool.github.io/python-data-intro/core/notebook.html), per familiaritzar-vos amb l'entorn de treball.\n",
    "\n",
    "D'altra banda, per acabar d'entendre els conceptes sobre variables presentats en aquesta unitat, us recomanem consultar el [videotutorial sobre tipus de variable](http://uoc.tv.am.uoc.es/m2962_programacio_phyton/variables.mp4) (podeu descarregar-lo per veure'l amb millor qualitat) i el [videotutorial sobre strings i llistes](http://uoc.tv.am.uoc.es/m2962_programacio_phyton/strings_listas.mp4)."
   ]
  },
  {
   "cell_type": "markdown",
   "metadata": {
    "id": "_uFn8yFKbRTv"
   },
   "source": [
    "<img src=\"data:image/avif;base64,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\" width=\"100\">"
   ]
  }
 ],
 "metadata": {
  "language_info": {
   "name": "python"
  }
 },
 "nbformat": 4,
 "nbformat_minor": 4
}
