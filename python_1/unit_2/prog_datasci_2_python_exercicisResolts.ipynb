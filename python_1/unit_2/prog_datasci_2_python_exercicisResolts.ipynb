{
 "cells": [
  {
   "cell_type": "markdown",
   "metadata": {},
   "source": [
    "<div style=\"width: 100%; clear: both;\">\n",
    "    <div style=\"float: left; width: 50%;\">\n",
    "       <img src=\"http://www.uoc.edu/portal/_resources/common/imatges/marca_UOC/UOC_Masterbrand.jpg\", align=\"left\">\n",
    "    </div>\n",
    "</div>\n",
    "\n",
    "<div style=\"float: right; width: 50%;\">\n",
    "    <p style=\"margin: 0; padding-top: 22px; text-align:right;\">22.401 · Fonaments de Programació</p>\n",
    "    <p style=\"margin: 0; text-align:right;\">Grau en Ciència de Dades Aplicada</p>\n",
    "    <p style=\"margin: 0; text-align:right; padding-button: 100px;\">Estudis d'Informàtica, Multimèdia i Telecomunicació</p>\n",
    "</div>\n",
    "\n",
    "</div>\n",
    "<div style=\"width: 100%; clear: both;\">\n",
    "<div style=\"width:100%;\">&nbsp;</div>"
   ]
  },
  {
   "cell_type": "markdown",
   "metadata": {},
   "source": [
    "Fonaments de Programació\n",
    "============================\n",
    "\n",
    "Unitat 2: Breu introducció a la programació en Python 3 - Exercicis resolts\n",
    "-----------------------------------------------------\n"
   ]
  },
  {
   "cell_type": "markdown",
   "metadata": {},
   "source": [
    "En aquest Notebook hi trobareu un conjunt d'exercicis per practicar. Aquests exercicis no puntuen per a la PAC, però us recomanem que els intenteu resoldre com a part del procés d'aprenentatge. Trobareu exemples de possibles solucions als exercicis al propi notebook, però és important que intenteu resoldre'ls vosaltres abans de consultar les solucions. Les solucions us han de permetre validar les vostres respostes, així com veure alternatives de resolució de les activitats. També us animem a preguntar qualsevol dubte que us sorgeixi sobre la resolució de les activitats per practicar al fòrum de l'aula.\n",
    "\n",
    "----\n",
    "## Preguntes i exercicis per a practicar\n"
   ]
  },
  {
   "cell_type": "markdown",
   "metadata": {},
   "source": [
    "### Pregunta 1\n",
    "\n",
    "Quin és el valor final d'a, b i c (atenció als tipus de nombre decimal i enter)?\n",
    "\n",
    "a = 5 * 11\n",
    "\n",
    "b = a / 2.\n",
    "\n",
    "c, a = b * 2, b + 1"
   ]
  },
  {
   "cell_type": "markdown",
   "metadata": {},
   "source": [
    "**Resposta**"
   ]
  },
  {
   "cell_type": "markdown",
   "metadata": {},
   "source": [
    "### Pregunta 2\n",
    "\n",
    "Identifiqueu tres tipus de dades de Python i expliqueu breument en què es diferencien. Expliqueu la diferència entre el tipus llista i el tipus tupla. "
   ]
  },
  {
   "cell_type": "markdown",
   "metadata": {},
   "source": [
    "**Resposta**"
   ]
  },
  {
   "cell_type": "markdown",
   "metadata": {},
   "source": [
    "### Pregunta 3\n",
    "\n",
    "Quin és el resultat de l'operació lógica `'poma'>'casa'`? Explica per què. "
   ]
  },
  {
   "cell_type": "markdown",
   "metadata": {},
   "source": [
    "**Resposta**"
   ]
  },
  {
   "cell_type": "markdown",
   "metadata": {},
   "source": [
    "### Exercici 1\n",
    "\n",
    "Escriviu un programa que seleccioni la cadena \"analista\" a partir de la cadena: \"Ana és bona analista de dades.\". Mostra-la per pantalla."
   ]
  },
  {
   "cell_type": "code",
   "execution_count": 1,
   "metadata": {},
   "outputs": [],
   "source": [
    "# Resposta"
   ]
  },
  {
   "cell_type": "markdown",
   "metadata": {},
   "source": [
    "### Exercici 2\n",
    "\n",
    "Quina expressió en Python necessitem per aconseguir l'_string_\n",
    "\"nohtyPythonython\" utilitzant només la paraula \"Python\"? **(1 punt)** "
   ]
  },
  {
   "cell_type": "code",
   "execution_count": 2,
   "metadata": {},
   "outputs": [],
   "source": [
    "# Resposta"
   ]
  },
  {
   "cell_type": "markdown",
   "metadata": {},
   "source": [
    "### Exercici 3\n",
    "\n",
    "Escriviu un programa que assigni dos valors enters qualsevol (trieu\n",
    "vosaltres un nombre enter aleatori) a dues variables amb nom `a` i `b`. Utilitzeu les variables definides anteriorment per evaluar la següent expressió matemàtica:\n",
    "\n",
    "( a<sup>2</sup> + b<sup>2</sup> )<sup>2</sup>\n"
   ]
  },
  {
   "cell_type": "code",
   "execution_count": 3,
   "metadata": {},
   "outputs": [],
   "source": [
    "# Resposta"
   ]
  },
  {
   "cell_type": "markdown",
   "metadata": {},
   "source": [
    "### Exercici 4\n",
    "\n",
    "Escriviu un programa que calculi el volum d'una piràmide quadrangular amb una base de 4x5 metres de longitud i amplada respectivament, i amb una altura de 7,5 m. Recorda que la fórmula per calcular el volum és \n",
    "<img src=\"https://wikimedia.org/api/rest_v1/media/math/render/svg/5bbc1ec5d10639d395ebc85e74cbf697d2220035\" title=\"EquacioVolumPiramide\" />\n",
    "\n",
    "on _l_ i _w_ són la longitud i l'amplada de la base, i _h_ és l'altura."
   ]
  },
  {
   "cell_type": "code",
   "execution_count": 4,
   "metadata": {},
   "outputs": [],
   "source": [
    "# Resposta"
   ]
  },
  {
   "cell_type": "markdown",
   "metadata": {},
   "source": [
    "### Exercici 5\n",
    "\n",
    "Escriviu un programa que defineixi una llista amb el nom de tots els mesos de l'any. Feu que mostri els mesos que corresponen a la tardor."
   ]
  },
  {
   "cell_type": "code",
   "execution_count": 5,
   "metadata": {},
   "outputs": [],
   "source": [
    "# Resposta"
   ]
  },
  {
   "cell_type": "markdown",
   "metadata": {},
   "source": [
    "### Exercici 6\n",
    "\n",
    "Escriviu un programa que a partir de la llista de nombres donada mostri per pantalla una cadena de caràcters amb tots els números, separats entre ells per un guió, i duplicant el primer i l'últim element de la llista.\n",
    "\n",
    "Així, per exemple, per a la llista ['1', '2', '3'], el programa hauria de mostrar la cadena: '1-1-2-3-3'."
   ]
  },
  {
   "cell_type": "code",
   "execution_count": 6,
   "metadata": {},
   "outputs": [],
   "source": [
    "# Resposta"
   ]
  },
  {
   "cell_type": "markdown",
   "metadata": {},
   "source": [
    "### Exercici 7\n",
    "\n",
    "Ordena la següent llista de cadenes de caràcters:\n",
    "\n",
    "1. Invertint l'ordre original\n",
    "2. En ordre alfabètic invers\n",
    "\n",
    "**Nota**: Pots consultar la documentació oficial de la funció [`sorted()`](https://docs.python.org/3/library/functions.html#sorted) per veure quins paràmetres pots fer servir per resoldre la segona part de l'activitat.\n"
   ]
  },
  {
   "cell_type": "code",
   "execution_count": 7,
   "metadata": {},
   "outputs": [],
   "source": [
    "st_chars = [\"Benjamin Sisko\", \"Kira Nerys\", \"Odo\", \"Quark\", \"Jadzia Dax\"]"
   ]
  },
  {
   "cell_type": "code",
   "execution_count": 8,
   "metadata": {},
   "outputs": [],
   "source": [
    "# Resposta"
   ]
  },
  {
   "cell_type": "markdown",
   "metadata": {},
   "source": [
    "### Exercici 8\n",
    "\n",
    "A partir de la següent llista,\n",
    "\n",
    "```A_list = [42, 7.5,\" Answer to the Ultimate Question \",\" Dave \", 7.5]```\n",
    "\n",
    "proporciona expressions que retornin:\n",
    "\n",
    "1. El nombre de vegades que apareix l'element `7.5` a la llista.\n",
    "2. La posició de la primera aparició de la valor `7.5`\n",
    "3. La mateixa llista sense l'últim element\n",
    "\n",
    "**Nota**: Al notebook de teoria hem vist què són les llistes i algunes operacions sobre elles. Per fer l'activitat, necessitareu investigar algunes operacions addicionals que podem realitzar sobre llistes. Per a això podeu consultar la documentació oficial de Python sobre llistes ([intro](https://docs.python.org/3/tutorial/introduction.html#lists) i [més sobre llistes](https://docs.python.org/3/tutorial/datastructures.html#more-on-lists))."
   ]
  },
  {
   "cell_type": "code",
   "execution_count": 9,
   "metadata": {},
   "outputs": [],
   "source": [
    "# Resposta"
   ]
  },
  {
   "cell_type": "markdown",
   "metadata": {},
   "source": [
    "### Exercici 9\n",
    "\n",
    "Quina expressió en Python necessitem per aconseguir la _string_ `Learning Python` utilitzant només les variables `str1` i `str2` definides?"
   ]
  },
  {
   "cell_type": "code",
   "execution_count": 10,
   "metadata": {},
   "outputs": [],
   "source": [
    "str1 = \"I love Python, it's great!\"\n",
    "str2 = \"Learning\"\n",
    "\n",
    "# Resposta"
   ]
  },
  {
   "cell_type": "markdown",
   "metadata": {},
   "source": [
    "### Exercici 10\n",
    "\n",
    "El codi que es presenta a continuació no funciona: \n",
    "\n",
    "Corregeix l'error i explica per què succeeix."
   ]
  },
  {
   "cell_type": "code",
   "execution_count": null,
   "metadata": {},
   "outputs": [],
   "source": [
    "name = \"Alex\"\n",
    "\n",
    "age = 20\n",
    "\n",
    "print(\"Hello, my name is %d and I'm %d years old!\" % (name, age))"
   ]
  },
  {
   "cell_type": "code",
   "execution_count": 11,
   "metadata": {},
   "outputs": [],
   "source": [
    "# Resposta"
   ]
  },
  {
   "cell_type": "code",
   "execution_count": null,
   "metadata": {},
   "outputs": [],
   "source": []
  },
  {
   "cell_type": "markdown",
   "metadata": {},
   "source": [
    "### Exercici 11\n",
    "\n",
    "En aquest exercici utilitzarem la frase: La paciència és la mare de la ciència. \n",
    "\n",
    "a) Extreu les paraules paciència i ciència de la cadena de strings definida anteriorment.\n",
    "\n",
    "b) Crea la paraula ciència a partir de paciència, i la paraula paciència a partir de ciència.\n",
    "\n",
    "c) Separa la frase en les diferents paraules que la formen (e.g. \"La\", \"paciència, \"és\", etc). Quin és el separador que hem d'utilitzar? \n",
    "\n",
    "d) Torna a unir els elements de la frase mitjançant \"-\" (e.g. \"La-paciència-és...\"). \n"
   ]
  },
  {
   "cell_type": "markdown",
   "metadata": {},
   "source": [
    "----\n",
    "## Solucions als exercicis per a practicar"
   ]
  },
  {
   "cell_type": "markdown",
   "metadata": {},
   "source": [
    "### Pregunta 1\n",
    "\n",
    "Quin és el valor final d'`a`, `b` i `c` (atenció als tipus de nombre decimal i enter)? **(1 punt)**\n",
    "\n",
    "a = 5 * 11\n",
    "\n",
    "b = a / 2.\n",
    "\n",
    "c, a = b * 2, b + 1"
   ]
  },
  {
   "cell_type": "markdown",
   "metadata": {},
   "source": [
    "Anirem per passos:\n",
    "\n",
    "A la primera línia trobem que la variable `a` contindrà el valor de 5 \\* 11. (el primer un nombre enter i el segon també un nombre enter, pel que el resultat serà enter), **55**. La variable `b`, al contrari, tindrà el valor de 55 (enter) dividit per 2. (decimal), per tant, **27.5** (decimal).\n",
    "\n",
    "A la tercera línia tenim una expressió on s'assignen dues variables alhora (en realitat això és una assignació entre tuples atès que ',' és el constructor de tuples en Python). Primer avaluem la part de la dreta:\n",
    "\n",
    "- `b \\* 2`, el resultat és decimal donat que també ho era abans: 27.5 \\* 2 = 55.0\n",
    "- `b + 1`, el resultat és també decimal, 27.5 + 1 = 28.5\n",
    "\n",
    "Ara assignem els resultats a la part de l'esquerra de l'expressió:\n",
    "\n",
    "- `c = b \\* 2` (l'expressió que ja s'havia avaluat) = 55.0\n",
    "- `a = b + 1` = 28.5\n",
    "\n",
    "Per tant, tenim:\n",
    "\n",
    "a = 28.5, b = 27.5, c = 55.0\n",
    "\n",
    "Executem el codi en Python per veure que efectivament aquest és el resultat:\n"
   ]
  },
  {
   "cell_type": "code",
   "execution_count": 12,
   "metadata": {},
   "outputs": [
    {
     "name": "stdout",
     "output_type": "stream",
     "text": [
      "28.5 27.5 55.0\n"
     ]
    }
   ],
   "source": [
    "a = 5 * 11\n",
    "b = a / 2.\n",
    "c, a = b * 2, b + 1\n",
    "\n",
    "print (a, b, c)"
   ]
  },
  {
   "cell_type": "markdown",
   "metadata": {},
   "source": [
    "### Pregunta 2\n",
    "\n",
    "Identifiqueu tres tipus de dades de Python i expliqueu breument en què es diferencien. Expliqueu la diferència entre el tipus llista i el tipus tupla. **(1 punt)** <span style=\"font-family: Courier New; background-color: #82b74b; color: #000000; padding: 2px; \">NM</span>"
   ]
  },
  {
   "cell_type": "markdown",
   "metadata": {},
   "source": [
    "**Resposta**\n",
    "\n",
    "**_Integers_**: Fa referència a valors numèrics enters. A Python 3, no hi ha cap límit en quant a la mida d'un valor enter. Per descomptat, està limitat per la quantitat de memòria que té el sistema.\n",
    "\n",
    "**_Floats_ (_Floating-Point Numbers_)**: A diferència del tipus _integer_ o enter, el tipus _float_ de Python designa valors flotants o decimals que s'especifiquen amb un punt.\n",
    "\n",
    "**_Strings_**: Les _strings_ (o cadenes) són seqüències de dades de caràcters. El tipus cadena a Python s'anomena `str`. Els literals de cadena es poden delimitar mitjançant cometes simples o dobles. Una cadena a Python pot contenir tants caràcters com es desitgen. L’únic límit són els recursos de memòria de la màquina.\n",
    "\n",
    "A Python, les **llistes** i les **tuples** es declaren de diferents maneres. Es crea una llista mitjançant claudàtors `[ ]`, mentre que la tupla es declara amb parèntesi `( )`. Hi ha diferències notables entre els dos, essent la principal diferència que les llistes són mutables mentre que els tuples són immutables. Una llista té una mida variable mentre que una tupla té una mida fixa. A més, les operacions sobre tuples es poden executar més ràpidament en comparació amb les de les llistes."
   ]
  },
  {
   "cell_type": "markdown",
   "metadata": {},
   "source": [
    "### Pregunta 3\n",
    "\n",
    "Quin és el resultat de l'operació lógica `'poma'>'casa'`? Explica per què. "
   ]
  },
  {
   "cell_type": "markdown",
   "metadata": {},
   "source": [
    "**Resposta**\n",
    "\n",
    "El resultat de l'operació es _True_. La comparació de cadenes Python es realitza mitjançant l'evaluació dels caràcters de les dues cadenes, un per un. Quan es troben diferents caràcters, es compara el seu valor Unicode. El caràcter amb un valor Unicode inferior es considera més petit. En aquest cas \"c\" és menor si es compara amb \"p\" a causa dels seus valors Unicode corresponents. A continuació utilitzem la funció ord() per mostrar el valor del codi Unicode de cada un dels caràcters:"
   ]
  },
  {
   "cell_type": "code",
   "execution_count": 13,
   "metadata": {},
   "outputs": [
    {
     "name": "stdout",
     "output_type": "stream",
     "text": [
      "True\n",
      "El valor unicode de p és 112 i el de c és  99\n"
     ]
    }
   ],
   "source": [
    "print('poma' > 'casa')\n",
    "print('El valor unicode de p és', ord('p'), 'i el de c és ', ord('c'))"
   ]
  },
  {
   "cell_type": "markdown",
   "metadata": {},
   "source": [
    "### Exercici 1\n",
    "\n",
    "Escriviu un programa que seleccioni la cadena \"analista\" a partir de la cadena: \"Ana és bona analista de dades.\". Mostra-la per pantalla."
   ]
  },
  {
   "cell_type": "code",
   "execution_count": 14,
   "metadata": {},
   "outputs": [
    {
     "name": "stdout",
     "output_type": "stream",
     "text": [
      "analista\n"
     ]
    }
   ],
   "source": [
    "# Resposta\n",
    "frase = \"Ana és bona analista de dades.\"\n",
    "\n",
    "paraula = frase[12:20] \n",
    "\n",
    "print(paraula)"
   ]
  },
  {
   "cell_type": "markdown",
   "metadata": {},
   "source": [
    "### Exercici 2\n",
    "\n",
    "Quina expressió en Python necessitem per aconseguir l'_string_\n",
    "\"nohtyPythonython\" utilitzant només la paraula \"Python\"?"
   ]
  },
  {
   "cell_type": "markdown",
   "metadata": {},
   "source": [
    "Com podem veure, per construir la cadena de text necessitem dos blocs diferenciats:\n",
    "\n",
    "- la sub-cadena _\"nothyP\"_ que correspon a la paraula Python en ordre invers\n",
    "- la sub-cadena _\"ython\"_ repetida 2 vegades\n",
    "\n",
    "Podem crear aquests blocs de forma separada i al final concatenar-los per obtenir el resultat final."
   ]
  },
  {
   "cell_type": "code",
   "execution_count": 15,
   "metadata": {},
   "outputs": [
    {
     "name": "stdout",
     "output_type": "stream",
     "text": [
      "nohtyPythonython\n"
     ]
    }
   ],
   "source": [
    "# Resposta\n",
    "\n",
    "# Primer definim la nostra cadena base\n",
    "python = \"Python\"\n",
    "\n",
    "# Accedim als caràcters de python en ordre invers\n",
    "bloc_on = python[::-1]\n",
    "\n",
    "# Accedim als 5 caràcters finals i els repetim 2 vegades\n",
    "bloc_Py = 2* python[1:]\n",
    "\n",
    "# Finalment, concatenem els blocs anteriors\n",
    "resultat = bloc_on + bloc_Py\n",
    "print (resultat)"
   ]
  },
  {
   "cell_type": "markdown",
   "metadata": {},
   "source": [
    "### Exercici 3\n",
    "\n",
    "Escriviu un programa que assigni dos valors enters qualsevol (trieu\n",
    "vosaltres un nombre enter aleatori) a dues variables amb nom `a` i `b`. Utilitzeu les variables definides anteriorment per evaluar la següent expressió matemàtica:\n",
    "\n",
    "( a<sup>2</sup> + b<sup>2</sup> ) <sup>2</sup>"
   ]
  },
  {
   "cell_type": "code",
   "execution_count": 16,
   "metadata": {},
   "outputs": [
    {
     "name": "stdout",
     "output_type": "stream",
     "text": [
      "3721\n",
      "3721\n"
     ]
    }
   ],
   "source": [
    "# Escollim dos nombres enters a l'atzar\n",
    "a = 6\n",
    "b = 5\n",
    "\n",
    "# Calculem els quadrats de les variables anteriors utilitzant l'operador **\n",
    "quadrat_a = a ** 2\n",
    "quadrat_b = b ** 2\n",
    "\n",
    "# Calculem la suma dels quadrats\n",
    "suma_quadrats = quadrat_a + quadrat_b\n",
    "\n",
    "# Finalment, calculem el quadrat de la suma \n",
    "resultat = suma_quadrats ** 2\n",
    "print(resultat)\n",
    "\n",
    "# També podem escriure aquesta mateixa expressió en una sóla línia\n",
    "resultat = (a**2 + b**2)**2\n",
    "print(resultat)"
   ]
  },
  {
   "cell_type": "markdown",
   "metadata": {},
   "source": [
    "### Exercici 4\n",
    "\n",
    "Escriviu un programa que calculi el volum d'una piràmide quadrangular amb una base de 4x5 metres de longitud i amplada respectivament, i amb una altura de 7,5 m. Recorda que la fórmula per calcular el volum és \n",
    "<img src=\"https://wikimedia.org/api/rest_v1/media/math/render/svg/5bbc1ec5d10639d395ebc85e74cbf697d2220035\" title=\"EquacioVolumPiramide\" />\n",
    "\n",
    "on _l_ i _w_ són la longitud i l'amplada de la base, i _h_ és l'altura."
   ]
  },
  {
   "cell_type": "code",
   "execution_count": 17,
   "metadata": {},
   "outputs": [
    {
     "name": "stdout",
     "output_type": "stream",
     "text": [
      "El volum de la piràmide és de  49.99999999999999 metres cúbics.\n"
     ]
    }
   ],
   "source": [
    "# Resposta\n",
    "\n",
    "# Assignem els valors del radi i l'altura\n",
    "base_long = 4\n",
    "base_amplada = 5\n",
    "altura = 7.5\n",
    "\n",
    "# A continuació calculem el volum utilitzant la següent fòrmula:\n",
    "volum = 1/3 * base_long * base_amplada* altura\n",
    "\n",
    "print('El volum de la piràmide és de ', volum, 'metres cúbics.')"
   ]
  },
  {
   "cell_type": "markdown",
   "metadata": {},
   "source": [
    "### Exercici 5\n",
    "\n",
    "Escriviu un programa que defineixi una llista amb el nom de tots els mesos de l'any. Feu que mostri els mesos que corresponen a la tardor. **(1 punt)**"
   ]
  },
  {
   "cell_type": "code",
   "execution_count": 18,
   "metadata": {},
   "outputs": [
    {
     "name": "stdout",
     "output_type": "stream",
     "text": [
      "['Setembre', 'Octubre', 'Novembre']\n"
     ]
    }
   ],
   "source": [
    "# Definim la llista amb els mesos de l'any\n",
    "mesos = [\"Gener\", \"Febrer\", \"Març\", \"Abril\", \"Maig\", \"Juny\", \"Juliol\", \"Agost\", \"Setembre\", \"Octubre\", \"Novembre\", \"Desembre\"]\n",
    "\n",
    "# Els mesos corresponents a la tardor son els mesos 9, 10 i 11\n",
    "print (mesos[8:11])\n"
   ]
  },
  {
   "cell_type": "markdown",
   "metadata": {},
   "source": [
    "Fixeu-vos que en Python el primer element d'una llista o array el trobarem a la posició **0**. Per tant, si volem accedir al nové element de la llista utilitzarem l'index 8, és a dir, escriurem `mesos[8]`.\n",
    "\n",
    "D'altra banda quan especifiquem un rang, `8:11`, l'element final no s'inclou en el resultat final. Es a dir, `mesos[8:11]` retornará els elements corresponents a les posicions 8, 9 i 10."
   ]
  },
  {
   "cell_type": "markdown",
   "metadata": {},
   "source": [
    "### Exercici 6\n",
    "\n",
    "Escriviu un programa que a partir de la llista de nombres donada mostri per pantalla una cadena de caràcters amb tots els números, separats entre ells per un guió, i duplicant el primer i l'últim element de la llista.\n",
    "\n",
    "Així, per exemple, per a la llista ['1', '2', '3'], el programa hauria de mostrar la cadena: '1-1-2-3-3'."
   ]
  },
  {
   "cell_type": "code",
   "execution_count": 19,
   "metadata": {},
   "outputs": [
    {
     "name": "stdout",
     "output_type": "stream",
     "text": [
      "6-6-3-45-23-2-3-17-80-80\n"
     ]
    }
   ],
   "source": [
    "# Definim la llista de nombres d'entrada\n",
    "nombres = ['6', '3', '45', '23', '2', '3', '17', '80']\n",
    "\n",
    "# Resposta\n",
    "nombres = [nombres[0]] + nombres + [nombres[-1]]\n",
    "print('-'.join(nombres))"
   ]
  },
  {
   "cell_type": "markdown",
   "metadata": {},
   "source": [
    "### Exercici 7\n",
    "\n",
    "Ordena la següent llista de cadenes de caràcters:\n",
    "\n",
    "1. Invertint l'ordre original\n",
    "2. En ordre alfabètic invers\n",
    "\n",
    "**Nota**: Pots consultar la documentació oficial de la funció [ `sorted`] (https://docs.python.org/3/library/functions.html#sorted) per veure quins paràmetres pots fer servir per resoldre la segona part de l'activitat."
   ]
  },
  {
   "cell_type": "code",
   "execution_count": 20,
   "metadata": {},
   "outputs": [
    {
     "name": "stdout",
     "output_type": "stream",
     "text": [
      "['Jadzia Dax', 'Quark', 'Odo', 'Kira Nerys', 'Benjamin Sisko']\n"
     ]
    }
   ],
   "source": [
    "st_chars = [\"Benjamin Sisko\", \"Kira Nerys\", \"Odo\", \"Quark\", \"Jadzia Dax\"]\n",
    "\n",
    "# Hem vist l'ús dels dos punts (\":\") per accedir a múltiples elements d'una llista.\n",
    "# Python tracta l'expressió de la següent manera:\n",
    "# - Si no hi ha cap índex abans de el primer \":\" assumeix que ha de començar pel principi de la llista.\n",
    "# - Si no hi ha cap índex després de el primer \":\" assumeix que s'ha de posicionar al final de la llista.\n",
    "# - L'últim número ens indica els increments en l'índex que s'han de fer a mesura que recorrem la llista.\n",
    "\n",
    "# (En aquest cas sempre \"sumem\" -1 a l'índex i per tant, obtenim -1, -2, -3, etc.)\n",
    "print(st_chars[::-1]) \n"
   ]
  },
  {
   "cell_type": "markdown",
   "metadata": {},
   "source": [
    "Per al següent exercici, busquem la documentació de la funció `sorted()` i veiem que aquesta ens serveix per ordenar qualsevol seqüència (llista, tupla) i devuelverá una llista amb els elements de manera ordenada, sense modificar la seqüència original. El paràmetre *reverse* per defecte s'estableix com *fals*, però si ho establim com *True*, llavors el iterable s'ordenaria en ordre invers (descendent):"
   ]
  },
  {
   "cell_type": "code",
   "execution_count": 21,
   "metadata": {},
   "outputs": [
    {
     "name": "stdout",
     "output_type": "stream",
     "text": [
      "['Quark', 'Odo', 'Kira Nerys', 'Jadzia Dax', 'Benjamin Sisko']\n"
     ]
    }
   ],
   "source": [
    "print(sorted(st_chars, reverse=True))"
   ]
  },
  {
   "cell_type": "markdown",
   "metadata": {},
   "source": [
    "### Exercici 8\n",
    "\n",
    "A partir de la següent llista,\n",
    "\n",
    "```A_list = [42, 7.5,\"Answer to the Ultimate Question\",\"Dave\", 7.5]```\n",
    "\n",
    "proporciona expressions que retornin:\n",
    "\n",
    "1. El nombre de vegades que apareix l'element `7.5` a la llista.\n",
    "2. La posició de la primera aparició de la valor `7.5`\n",
    "3. La mateixa llista sense l'últim element\n",
    "\n",
    "**Nota**: Al notebook de teoria hem vist què són les llistes i algunes operacions sobre elles. Per fer l'activitat, necessitareu investigar algunes operacions addicionals que podem realitzar sobre llistes. Per a això podeu consultar la documentació oficial de Python sobre llistes ([intro](https://docs.python.org/3/tutorial/introduction.html#lists) i [més sobre llistes](https://docs.python.org/3/tutorial/datastructures.html#more-on-lists))."
   ]
  },
  {
   "cell_type": "code",
   "execution_count": 22,
   "metadata": {},
   "outputs": [
    {
     "name": "stdout",
     "output_type": "stream",
     "text": [
      "2\n",
      "1\n",
      "[42, 7.5, 'Answer to the Ultimate Question', 'Dave']\n"
     ]
    }
   ],
   "source": [
    "a_list = [42, 7.5, \"Answer to the Ultimate Question\", \"Dave\", 7.5]\n",
    "\n",
    "# El mètode count() compta quantes vegades apareix un valor en una llista i el retorna.\n",
    "print (a_list.count (7.5))\n",
    "\n",
    "# Farem servir el mètode index(), aquest troba el valor donat en una llista i retorna la posició de l'element.\n",
    "# Si el mateix valor apareix més d'una vegada, el mètode index () retorna la posició de la seva primera aparició.\n",
    "print (a_list.index (7.5))\n",
    "\n",
    "# Indiquem que volem excloure l'últim element indexat de la llista usant l'operador []:\n",
    "print (a_list [: - 1])"
   ]
  },
  {
   "cell_type": "markdown",
   "metadata": {},
   "source": [
    "### Exercici 9\n",
    "\n",
    "Què expressió en Python necessitem per aconseguir la _string_ `Learning Python` utilitzant només les variables `str1` i` str2` definides?"
   ]
  },
  {
   "cell_type": "code",
   "execution_count": 23,
   "metadata": {},
   "outputs": [],
   "source": [
    "str1 = \"I love Python, it's great!\"\n",
    "str2 = \"Learning\""
   ]
  },
  {
   "cell_type": "markdown",
   "metadata": {},
   "source": [
    "Com podem veure, per construir la cadena de text necessitem aïllar la sub-cadena \"Python\", que trobem a la tercera paraula de la cadena `str1` i correspon amb els caràcters 7 a 13 de la cadena. Podrem crear aquesta nova cadena de forma separada i a la fi concatenarla amb la cadena `str2` utilitzant l'operador` + `:"
   ]
  },
  {
   "cell_type": "code",
   "execution_count": 24,
   "metadata": {},
   "outputs": [
    {
     "name": "stdout",
     "output_type": "stream",
     "text": [
      "Learning Python\n"
     ]
    }
   ],
   "source": [
    "# Accedim als caràcters que ens interessen de la cadena str1, incloent l'espai previ a la paraula 'Python'\n",
    "subcadena = str1 [6:13]\n",
    "\n",
    "# Finalment, concatenamos la nova cadena (subcadena 'Python') i la concatenamos amb str2\n",
    "resultat = str2 + subcadena\n",
    "\n",
    "# Mostrem el resultat\n",
    "print (resultat)"
   ]
  },
  {
   "cell_type": "code",
   "execution_count": 25,
   "metadata": {},
   "outputs": [
    {
     "name": "stdout",
     "output_type": "stream",
     "text": [
      "Learning Python\n"
     ]
    }
   ],
   "source": [
    "# També podem afegir l'espai en blanc entre paraules en el moment d'unirles, vigileu de no afegir dos espais en blanc:\n",
    "subcadena = str1 [7:13]\n",
    "resultat = str2 + ' ' + subcadena\n",
    "print (resultat)"
   ]
  },
  {
   "cell_type": "markdown",
   "metadata": {},
   "source": [
    "### Exercici 10\n",
    "\n",
    "El codi que es presenta a continuació no funciona: \n",
    "\n",
    "Corregeix l'error i explica per què succeeix.  "
   ]
  },
  {
   "cell_type": "code",
   "execution_count": null,
   "metadata": {},
   "outputs": [],
   "source": [
    "name = \"Alex\"\n",
    "\n",
    "age = 20\n",
    "\n",
    "print(\"Hello, my name is %d and I'm %d years old!\" % (name, age))"
   ]
  },
  {
   "cell_type": "code",
   "execution_count": 26,
   "metadata": {},
   "outputs": [
    {
     "name": "stdout",
     "output_type": "stream",
     "text": [
      "Hello, my name is Alex and I'm 20 years old!\n"
     ]
    }
   ],
   "source": [
    "# Resposta \n",
    "\n",
    "name = \"Alex\"\n",
    "\n",
    "age = 20\n",
    "\n",
    "print(\"Hello, my name is %s and I'm %d years old!\" % (name, age))"
   ]
  },
  {
   "cell_type": "markdown",
   "metadata": {},
   "source": [
    "**Resposta**\n",
    "\n",
    "Per poder utilitzar aquesta funcionalitat, hi ha d'haver una concordança entre el tipus de la variable que volem substituir i l'expressió utilitzada. És a dir, si volem substituir un string, hem d'utilitzar l'expressió `%s` que indica que l'element que volem referenciar és també un string. Si utilitzem `%d` i el contingut és string, Python retornarà un missatge d'error, ja que hi ha una discrepància pel que fa al tipus de variable."
   ]
  },
  {
   "cell_type": "markdown",
   "metadata": {},
   "source": [
    "### Exercici 11\n",
    "\n",
    "En aquest exercici utilitzarem la frase: La paciència és la mare de la ciència. \n",
    "\n",
    "a) Extreu les paraules paciència i ciència de la cadena de strings definida anteriorment.\n",
    "\n",
    "b) Crea la paraula ciència a partir de paciència, i la paraula paciència a partir de ciència.\n",
    "\n",
    "c) Separa la frase en les diferents paraules que la formen (e.g. \"La\", \"paciència, \"és\", etc). Quin és el separador que hem d'utilitzar? \n",
    "\n",
    "d) Torna a unir els elements de la frase mitjançant \"-\" (e.g. \"La-paciència-és...\"). \n"
   ]
  },
  {
   "cell_type": "code",
   "execution_count": 3,
   "metadata": {
    "scrolled": true
   },
   "outputs": [
    {
     "name": "stdout",
     "output_type": "stream",
     "text": [
      "La primera paraula és: paciència \n",
      "La segona paraula és: ciència\n"
     ]
    }
   ],
   "source": [
    "# Resposta \n",
    "\n",
    "# Creem la frase de l'enunciat\n",
    "frase = \"La paciència és la mare de la ciència\"\n",
    "\n",
    "# a) \n",
    "\n",
    "# Seleccionem els elements necessaris per obtenir les paraules paciència i ciència\n",
    "paraula1 = frase[3:13]\n",
    "paraula2 = frase[-7:]\n",
    "\n",
    "# Mostrem el resultat per pantalla\n",
    "print(\"La primera paraula és:\",paraula1)\n",
    "print(\"La segona paraula és:\",paraula2)"
   ]
  },
  {
   "cell_type": "code",
   "execution_count": 4,
   "metadata": {},
   "outputs": [
    {
     "name": "stdout",
     "output_type": "stream",
     "text": [
      "La tercera paraula és: ciència \n",
      "La quarta paraula és: paciència\n"
     ]
    }
   ],
   "source": [
    "# b) \n",
    "\n",
    "# Creem la paraula ciència a partir de paciència\n",
    "paraula3 = paraula1[2:]\n",
    "\n",
    "# Creem la paraula ciència a partir de paciència\n",
    "paraula4 = 'pa'+ paraula2\n",
    "\n",
    "# Mostrem el resultat per pantalla\n",
    "print(\"La tercera paraula és:\",paraula3)\n",
    "print(\"La quarta paraula és:\",paraula4)"
   ]
  },
  {
   "cell_type": "code",
   "execution_count": 5,
   "metadata": {},
   "outputs": [
    {
     "name": "stdout",
     "output_type": "stream",
     "text": [
      "La frase separada pels seus elements és: ['La', 'paciència', 'és', 'la', 'mare', 'de', 'la', 'ciència']\n"
     ]
    }
   ],
   "source": [
    "# c)\n",
    "\n",
    "# Separem les paraules utilitzant el separador \" \"\n",
    "frase_mod = frase.split(' ')\n",
    "\n",
    "# Mostrem el resultat per pantalla\n",
    "print(\"La frase separada pels seus elements és:\",frase_mod)"
   ]
  },
  {
   "cell_type": "code",
   "execution_count": 6,
   "metadata": {},
   "outputs": [
    {
     "name": "stdout",
     "output_type": "stream",
     "text": [
      "La frase amb el nou separador és: La-paciència-és-la-mare-de-la-ciència\n"
     ]
    }
   ],
   "source": [
    "# d) \n",
    "\n",
    "# Especifiquem el separador\n",
    "s = \"-\"\n",
    "\n",
    "# Utilitzem la funció join per unir els elements de la llista\n",
    "frase_joined = s.join(frase_mod)\n",
    "\n",
    "# Mostrem el resultat per pantalla\n",
    "print(\"La frase amb el nou separador és:\",frase_joined)"
   ]
  }
 ],
 "metadata": {
  "kernelspec": {
   "display_name": "Python 3",
   "language": "python",
   "name": "python3"
  },
  "language_info": {
   "codemirror_mode": {
    "name": "ipython",
    "version": 3
   },
   "file_extension": ".py",
   "mimetype": "text/x-python",
   "name": "python",
   "nbconvert_exporter": "python",
   "pygments_lexer": "ipython3",
   "version": "3.7.6"
  }
 },
 "nbformat": 4,
 "nbformat_minor": 1
}
