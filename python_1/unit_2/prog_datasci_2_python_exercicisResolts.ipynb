{
 "cells": [
  {
   "cell_type": "markdown",
   "metadata": {
    "id": "Y737H5wzbSFL"
   },
   "source": [
    "<div style=\"display: grid; grid-template-columns: repeat(2, 1fr); align-items: end;\">\n",
    "    <div>\n",
    "        <img src=\"data:image/avif;base64,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\" width=\"300\">\n",
    "    </div>\n",
    "    <div>\n",
    "        <p style=\"margin: 0; text-align:right;\">22.401 · Fonaments de Programació</p>\n",
    "        <p style=\"margin: 0; text-align:right;\">Grau en Ciència de Dades Aplicada</p>\n",
    "        <p style=\"margin: 0; text-align:right;\">Estudis d'Informàtica, Multimèdia i Telecomunicació</p>\n",
    "    </div>\n",
    "</div>"
   ]
  },
  {
   "cell_type": "markdown",
   "metadata": {
    "id": "GS2cW8KIbSFP"
   },
   "source": [
    "Fonaments de Programació\n",
    "============================\n",
    "\n",
    "Unitat 2: Breu introducció a la programació en Python 3 - Exercicis resolts\n",
    "-----------------------------------------------------\n",
    "\n",
    "En aquest Notebook hi trobareu un conjunt d'exercicis per practicar. Aquests exercicis no puntuen per a la PAC, però us recomanem que els intenteu resoldre com a part del procés d'aprenentatge. Trobareu exemples de possibles solucions als exercicis al propi notebook, però és important que intenteu resoldre'ls vosaltres abans de consultar les solucions. Les solucions us han de permetre validar les vostres respostes, així com veure alternatives de resolució de les activitats. També us animem a preguntar qualsevol dubte que us sorgeixi sobre la resolució de les activitats per practicar al fòrum de l'aula.\n",
    "\n",
    "----\n",
    "## Preguntes i exercicis per a practicar"
   ]
  },
  {
   "cell_type": "markdown",
   "metadata": {
    "id": "9SZOmhoTbSFP"
   },
   "source": [
    "### Pregunta 1\n",
    "\n",
    "Quin és el valor final d'a, b i c (atenció als tipus de nombre decimal i enter)?\n",
    "\n",
    "a = 5 * 11\n",
    "\n",
    "b = a / 2.\n",
    "\n",
    "c, a = b * 2, b + 1"
   ]
  },
  {
   "cell_type": "markdown",
   "metadata": {
    "id": "1x4SLMSobSFP"
   },
   "source": [
    "**Resposta**"
   ]
  },
  {
   "cell_type": "markdown",
   "metadata": {
    "id": "M-PoasxDbSFQ"
   },
   "source": [
    "### Pregunta 2\n",
    "\n",
    "Identifiqueu tres tipus de dades de Python i expliqueu breument en què es diferencien. Expliqueu la diferència entre el tipus llista i el tipus tupla."
   ]
  },
  {
   "cell_type": "markdown",
   "metadata": {
    "id": "Exp_B2cmbSFQ"
   },
   "source": [
    "**Resposta**"
   ]
  },
  {
   "cell_type": "markdown",
   "metadata": {
    "id": "PqfxIPYNbSFQ"
   },
   "source": [
    "### Pregunta 3\n",
    "\n",
    "Quin és el resultat de l'operació lógica `'poma'>'casa'`? Explica per què."
   ]
  },
  {
   "cell_type": "markdown",
   "metadata": {
    "id": "Djc5NQOibSFQ"
   },
   "source": [
    "**Resposta**"
   ]
  },
  {
   "cell_type": "markdown",
   "metadata": {
    "id": "2w-xKrMqbSFR"
   },
   "source": [
    "### Exercici 1\n",
    "\n",
    "Escriviu un programa que seleccioni la cadena \"analista\" a partir de la cadena: \"Ana és bona analista de dades.\". Mostra-la per pantalla."
   ]
  },
  {
   "cell_type": "code",
   "execution_count": null,
   "metadata": {},
   "outputs": [],
   "source": [
    "# Resposta"
   ]
  },
  {
   "cell_type": "markdown",
   "metadata": {
    "id": "nCFq0cYEbSFS"
   },
   "source": [
    "### Exercici 2\n",
    "\n",
    "Quina expressió en Python necessitem per aconseguir l'_string_ \"nohtyPythonython\" utilitzant només la paraula \"Python\"? **(1 punt)**"
   ]
  },
  {
   "cell_type": "code",
   "execution_count": null,
   "metadata": {},
   "outputs": [],
   "source": [
    "# Resposta"
   ]
  },
  {
   "cell_type": "markdown",
   "metadata": {
    "id": "J0oU6ueCbSFS"
   },
   "source": [
    "### Exercici 3\n",
    "\n",
    "Escriviu un programa que assigni dos valors enters qualssevol (trieu vosaltres un nombre enter aleatori) a dues variables amb nom `a` i `b`. Utilitzeu les variables definides anteriorment per avaluar la següent expressió matemàtica:\n",
    "\n",
    "( a<sup>2</sup> + b<sup>2</sup> )<sup>2</sup>"
   ]
  },
  {
   "cell_type": "code",
   "execution_count": null,
   "metadata": {},
   "outputs": [],
   "source": [
    "# Resposta"
   ]
  },
  {
   "cell_type": "markdown",
   "metadata": {
    "id": "EcipLeW_bSFS"
   },
   "source": [
    "### Exercici 4\n",
    "\n",
    "Escriviu un programa que calculi el volum d'una piràmide quadrangular amb una base de 4x5 metres de longitud i amplada respectivament, i amb una altura de 7,5 m. Recorda que la fórmula per calcular el volum és\n",
    "<img src=\"https://wikimedia.org/api/rest_v1/media/math/render/svg/5bbc1ec5d10639d395ebc85e74cbf697d2220035\" title=\"EquacioVolumPiramide\" />\n",
    "\n",
    "on _l_ i _w_ són la longitud i l'amplada de la base, i _h_ és l'altura."
   ]
  },
  {
   "cell_type": "code",
   "execution_count": null,
   "metadata": {},
   "outputs": [],
   "source": [
    "# Resposta"
   ]
  },
  {
   "cell_type": "markdown",
   "metadata": {
    "id": "QfoyWYb3bSFS"
   },
   "source": [
    "### Exercici 5\n",
    "\n",
    "Escriviu un programa que defineixi una llista amb el nom de tots els mesos de l'any. Feu que mostri els mesos que corresponen a la tardor."
   ]
  },
  {
   "cell_type": "code",
   "execution_count": null,
   "metadata": {},
   "outputs": [],
   "source": [
    "# Resposta"
   ]
  },
  {
   "cell_type": "markdown",
   "metadata": {
    "id": "7e-hj-ywbSFT"
   },
   "source": [
    "### Exercici 6\n",
    "\n",
    "Escriviu un programa que a partir de la llista de nombres donada mostri per pantalla una cadena de caràcters amb tots els números, separats entre ells per un guió, i duplicant el primer i l'últim element de la llista.\n",
    "\n",
    "Així, per exemple, per a la llista ['1', '2', '3'], el programa hauria de mostrar la cadena: '1-1-2-3-3'."
   ]
  },
  {
   "cell_type": "code",
   "execution_count": null,
   "metadata": {},
   "outputs": [],
   "source": [
    "# Resposta"
   ]
  },
  {
   "cell_type": "markdown",
   "metadata": {
    "id": "VBy__h_SbSFT"
   },
   "source": [
    "### Exercici 7\n",
    "\n",
    "Ordena la següent llista de cadenes de caràcters:\n",
    "\n",
    "1. Invertint l'ordre original\n",
    "2. En ordre alfabètic invers\n",
    "\n",
    "**Nota**: Pots consultar la documentació oficial de la funció [`sorted()`](https://docs.python.org/3/library/functions.html#sorted) per veure quins paràmetres pots fer servir per resoldre la segona part de l'activitat."
   ]
  },
  {
   "cell_type": "code",
   "execution_count": null,
   "metadata": {},
   "outputs": [],
   "source": [
    "st_chars = [\"Benjamin Sisko\", \"Kira Nerys\", \"Odo\", \"Quark\", \"Jadzia Dax\"]"
   ]
  },
  {
   "cell_type": "code",
   "execution_count": null,
   "metadata": {},
   "outputs": [],
   "source": [
    "# Resposta"
   ]
  },
  {
   "cell_type": "markdown",
   "metadata": {
    "id": "r_8bIl3ybSFT"
   },
   "source": [
    "### Exercici 8\n",
    "\n",
    "A partir de la següent llista,\n",
    "\n",
    "```A_list = [42, 7.5,\" Answer to the Ultimate Question \",\" Dave \", 7.5]```\n",
    "\n",
    "proporciona expressions que retornin:\n",
    "\n",
    "1. El nombre de vegades que apareix l'element `7.5` a la llista.\n",
    "2. La posició de la primera aparició del valor `7.5`\n",
    "3. La mateixa llista sense l'últim element\n",
    "\n",
    "**Nota**: Al notebook de teoria hem vist què són les llistes i algunes operacions sobre elles. Per fer l'activitat, necessitareu investigar algunes operacions addicionals que podem realitzar sobre llistes. Per a això podeu consultar la documentació oficial de Python sobre llistes ([intro](https://docs.python.org/3/tutorial/introduction.html#lists) i [més sobre llistes](https://docs.python.org/3/tutorial/datastructures.html#more-on-lists))."
   ]
  },
  {
   "cell_type": "code",
   "execution_count": null,
   "metadata": {},
   "outputs": [],
   "source": [
    "# Resposta"
   ]
  },
  {
   "cell_type": "markdown",
   "metadata": {
    "id": "J6bXxfTKbSFT"
   },
   "source": [
    "### Exercici 9\n",
    "\n",
    "Quina expressió en Python necessitem per aconseguir la _string_ `Learning Python` utilitzant només les variables `str1` i `str2` definides?"
   ]
  },
  {
   "cell_type": "code",
   "execution_count": null,
   "metadata": {},
   "outputs": [],
   "source": [
    "str1 = \"I love Python, it's great!\"\n",
    "str2 = \"Learning\"\n",
    "\n",
    "# Resposta"
   ]
  },
  {
   "cell_type": "markdown",
   "metadata": {
    "id": "quVRuKewbSFU"
   },
   "source": [
    "### Exercici 10\n",
    "\n",
    "El codi que es presenta a continuació no funciona:\n",
    "\n",
    "Corregeix l'error i explica per què succeeix."
   ]
  },
  {
   "cell_type": "code",
   "execution_count": null,
   "metadata": {},
   "outputs": [],
   "source": [
    "name = \"Alex\"\n",
    "\n",
    "age = 20\n",
    "\n",
    "print(\"Hello, my name is %d and I'm %d years old!\" % (name, age))"
   ]
  },
  {
   "cell_type": "code",
   "execution_count": null,
   "metadata": {},
   "outputs": [],
   "source": [
    "# Resposta"
   ]
  },
  {
   "cell_type": "code",
   "execution_count": null,
   "metadata": {},
   "outputs": [],
   "source": []
  },
  {
   "cell_type": "markdown",
   "metadata": {
    "id": "c-YTnubybSFU"
   },
   "source": [
    "### Exercici 11\n",
    "\n",
    "En aquest exercici utilitzarem la frase: La paciència és la mare de la ciència.\n",
    "\n",
    "a) Extreu les paraules paciència i ciència de la cadena d'strings definida anteriorment.\n",
    "\n",
    "b) Crea la paraula ciència a partir de paciència, i la paraula paciència a partir de ciència.\n",
    "\n",
    "c) Separa la frase en les diferents paraules que la formen (e.g. \"La\", \"paciència, \"és\", etc.). Quin és el separador que hem d'utilitzar?\n",
    "\n",
    "d) Torna a unir els elements de la frase mitjançant \"-\" (e.g. \"La-paciència-és...\")."
   ]
  },
  {
   "cell_type": "markdown",
   "metadata": {
    "id": "Doeq-D3bbSFU"
   },
   "source": [
    "----\n",
    "## Solucions als exercicis per a practicar"
   ]
  },
  {
   "cell_type": "markdown",
   "metadata": {
    "id": "cxQvL9pobSFU"
   },
   "source": [
    "### Pregunta 1\n",
    "\n",
    "Quin és el valor final d'`a`, `b` i `c` (atenció als tipus de nombre decimal i enter)? **(1 punt)**\n",
    "\n",
    "a = 5 * 11\n",
    "\n",
    "b = a / 2.\n",
    "\n",
    "c, a = b * 2, b + 1"
   ]
  },
  {
   "cell_type": "markdown",
   "metadata": {
    "id": "SCRXrt3JbSFU"
   },
   "source": [
    "Anirem per passos:\n",
    "\n",
    "A la primera línia trobem que la variable `a` contindrà el valor de 5 \\* 11. (el primer un nombre enter i el segon també un nombre enter, i per això el resultat serà enter), **55**. La variable `b`, al contrari, tindrà el valor de 55 (enter) dividit per 2. (decimal), per tant, **27.5** (decimal).\n",
    "\n",
    "A la tercera línia tenim una expressió on s'assignen dues variables alhora (en realitat això és una assignació entre tuples atès que ',' és el constructor de tuples en Python). Primer avaluem la part de la dreta:\n",
    "\n",
    "- `b \\* 2`, el resultat és decimal donat que també ho era abans: 27.5 \\* 2 = 55.0\n",
    "- `b + 1`, el resultat és també decimal, 27.5 + 1 = 28.5\n",
    "\n",
    "Ara assignem els resultats a la part de l'esquerra de l'expressió:\n",
    "\n",
    "- `c = b \\* 2` (l'expressió que ja s'havia avaluat) = 55.0\n",
    "- `a = b + 1` = 28.5\n",
    "\n",
    "Per tant, tenim:\n",
    "\n",
    "a = 28.5, b = 27.5, c = 55.0\n",
    "\n",
    "Executem el codi en Python per veure que efectivament aquest és el resultat:\n"
   ]
  },
  {
   "cell_type": "code",
   "execution_count": null,
   "metadata": {},
   "outputs": [],
   "source": [
    "a = 5 * 11\n",
    "b = a / 2.\n",
    "c, a = b * 2, b + 1\n",
    "\n",
    "print(a, b, c)"
   ]
  },
  {
   "cell_type": "markdown",
   "metadata": {
    "id": "jkU1Rkd8bSFU"
   },
   "source": [
    "### Pregunta 2\n",
    "\n",
    "Identifiqueu tres tipus de dades de Python i expliqueu breument en què es diferencien. Expliqueu la diferència entre el tipus llista i el tipus tupla. **(1 punt)** <span style=\"font-family: Courier New; background-color: #82b74b; color: #000000; padding: 2px; \">NM</span>"
   ]
  },
  {
   "cell_type": "markdown",
   "metadata": {
    "id": "UGLmvqwHbSFU"
   },
   "source": [
    "**Resposta**\n",
    "\n",
    "**_Integers_**: Fa referència a valors numèrics enters. A Python 3, no hi ha cap límit quant a la mida d'un valor enter. Per descomptat, està limitat per la quantitat de memòria que té el sistema.\n",
    "\n",
    "**_Floats_ (_Floating-Point Numbers_)**: A diferència del tipus _integer_ o enter, el tipus _float_ de Python designa valors flotants o decimals que s'especifiquen amb un punt.\n",
    "\n",
    "**_Strings_**: Les _strings_ (o cadenes) són seqüències de dades de caràcters. El tipus cadena a Python s'anomena `str`. Els literals de cadena es poden delimitar mitjançant cometes simples o dobles. Una cadena a Python pot contenir tants caràcters com es desitgen. L’únic límit són els recursos de memòria de la màquina.\n",
    "\n",
    "A Python, les **llistes** i les **tuples** es declaren de diferents maneres. Es crea una llista mitjançant claudàtors `[ ]`, mentre que la tupla es declara amb parèntesi `( )`. Hi ha diferències notables entre els dos, essent la principal diferència que les llistes són mutables mentre que les tuples són immutables. Una llista té una mida variable mentre que una tupla té una mida fixa. A més, les operacions sobre tuples es poden executar més ràpidament en comparació amb les de les llistes."
   ]
  },
  {
   "cell_type": "markdown",
   "metadata": {
    "id": "UiIErKgPbSFV"
   },
   "source": [
    "### Pregunta 3\n",
    "\n",
    "Quin és el resultat de l'operació lógica `'poma'>'casa'`? Explica per què."
   ]
  },
  {
   "cell_type": "markdown",
   "metadata": {
    "id": "vhT5k-dxbSFY"
   },
   "source": [
    "**Resposta**\n",
    "\n",
    "El resultat de l'operació és _True_. La comparació de cadenes Python es realitza mitjançant l'avaluació dels caràcters de les dues cadenes, un per un. Quan es troben diferents caràcters, es compara el seu valor Unicode. El caràcter amb un valor Unicode inferior es considera més petit. En aquest cas \"c\" és menor si es compara amb \"p\" a causa dels seus valors Unicode corresponents. A continuació utilitzem la funció ord() per mostrar el valor del codi Unicode de cada un dels caràcters:"
   ]
  },
  {
   "cell_type": "code",
   "execution_count": null,
   "metadata": {},
   "outputs": [],
   "source": [
    "print('poma' > 'casa')\n",
    "print('El valor unicode de p és', ord('p'), 'i el de c és ', ord('c'))"
   ]
  },
  {
   "cell_type": "markdown",
   "metadata": {
    "id": "u74-TViPbSFY"
   },
   "source": [
    "### Exercici 1\n",
    "\n",
    "Escriviu un programa que seleccioni la cadena \"analista\" a partir de la cadena: \"Ana és bona analista de dades.\". Mostra-la per pantalla."
   ]
  },
  {
   "cell_type": "code",
   "execution_count": null,
   "metadata": {},
   "outputs": [],
   "source": [
    "# Resposta\n",
    "frase = \"Ana és bona analista de dades.\"\n",
    "\n",
    "paraula = frase[12:20]\n",
    "\n",
    "print(paraula)"
   ]
  },
  {
   "cell_type": "markdown",
   "metadata": {
    "id": "8-RjC-TIbSFY"
   },
   "source": [
    "### Exercici 2\n",
    "\n",
    "Quina expressió en Python necessitem per aconseguir l'_string_ \"nohtyPythonython\" utilitzant només la paraula \"Python\"?"
   ]
  },
  {
   "cell_type": "markdown",
   "metadata": {
    "id": "sh1yoN3QbSFY"
   },
   "source": [
    "Com podem veure, per construir la cadena de text necessitem dos blocs diferenciats:\n",
    "\n",
    "- la subcadena _\"nothyP\"_ que correspon a la paraula Python en ordre invers\n",
    "- la subcadena _\"ython\"_ repetida 2 vegades\n",
    "\n",
    "Podem crear aquests blocs de forma separada i al final concatenar-los per obtenir el resultat final."
   ]
  },
  {
   "cell_type": "code",
   "execution_count": null,
   "metadata": {},
   "outputs": [],
   "source": [
    "# Resposta\n",
    "\n",
    "# Primer definim la nostra cadena base\n",
    "python = \"Python\"\n",
    "\n",
    "# Accedim als caràcters de python en ordre invers\n",
    "bloc_on = python[::-1]\n",
    "\n",
    "# Accedim als 5 caràcters finals i els repetim 2 vegades\n",
    "bloc_Py = 2 * python[1:]\n",
    "\n",
    "# Finalment, concatenem els blocs anteriors\n",
    "resultat = bloc_on + bloc_Py\n",
    "print(resultat)"
   ]
  },
  {
   "cell_type": "markdown",
   "metadata": {
    "id": "aMemU7eLbSFZ"
   },
   "source": [
    "### Exercici 3\n",
    "\n",
    "Escriviu un programa que assigni dos valors enters qualssevol (trieu vosaltres un nombre enter aleatori) a dues variables amb nom `a` i `b`. Utilitzeu les variables definides anteriorment per avaluar la següent expressió matemàtica:\n",
    "\n",
    "( a<sup>2</sup> + b<sup>2</sup> ) <sup>2</sup>"
   ]
  },
  {
   "cell_type": "code",
   "execution_count": null,
   "metadata": {},
   "outputs": [],
   "source": [
    "# Escollim dos nombres enters a l'atzar\n",
    "a = 6\n",
    "b = 5\n",
    "\n",
    "# Calculem els quadrats de les variables anteriors utilitzant l'operador **\n",
    "quadrat_a = a ** 2\n",
    "quadrat_b = b ** 2\n",
    "\n",
    "# Calculem la suma dels quadrats\n",
    "suma_quadrats = quadrat_a + quadrat_b\n",
    "\n",
    "# Finalment, calculem el quadrat de la suma\n",
    "resultat = suma_quadrats ** 2\n",
    "print(resultat)\n",
    "\n",
    "# També podem escriure aquesta mateixa expressió en una sóla línia\n",
    "resultat = (a**2 + b**2)**2\n",
    "print(resultat)"
   ]
  },
  {
   "cell_type": "markdown",
   "metadata": {
    "id": "Owxy6gWRbSFZ"
   },
   "source": [
    "### Exercici 4\n",
    "\n",
    "Escriviu un programa que calculi el volum d'una piràmide quadrangular amb una base de 4x5 metres de longitud i amplada respectivament, i amb una altura de 7,5 m. Recorda que la fórmula per calcular el volum és\n",
    "<img src=\"https://wikimedia.org/api/rest_v1/media/math/render/svg/5bbc1ec5d10639d395ebc85e74cbf697d2220035\" title=\"EquacioVolumPiramide\" />\n",
    "\n",
    "on _l_ i _w_ són la longitud i l'amplada de la base, i _h_ és l'altura."
   ]
  },
  {
   "cell_type": "code",
   "execution_count": null,
   "metadata": {},
   "outputs": [],
   "source": [
    "# Resposta\n",
    "\n",
    "# Assignem els valors del radi i l'altura\n",
    "base_long = 4\n",
    "base_amplada = 5\n",
    "altura = 7.5\n",
    "\n",
    "# A continuació calculem el volum utilitzant la següent fòrmula:\n",
    "volum = 1/3 * base_long * base_amplada * altura\n",
    "\n",
    "print('El volum de la piràmide és de ', volum, 'metres cúbics.')"
   ]
  },
  {
   "cell_type": "markdown",
   "metadata": {
    "id": "YfrVKf6vbSFZ"
   },
   "source": [
    "### Exercici 5\n",
    "\n",
    "Escriviu un programa que defineixi una llista amb el nom de tots els mesos de l'any. Feu que mostri els mesos que corresponen a la tardor. **(1 punt)**"
   ]
  },
  {
   "cell_type": "code",
   "execution_count": null,
   "metadata": {},
   "outputs": [],
   "source": [
    "# Definim la llista amb els mesos de l'any\n",
    "mesos = [\"Gener\", \"Febrer\", \"Març\", \"Abril\", \"Maig\", \"Juny\",\n",
    "         \"Juliol\", \"Agost\", \"Setembre\", \"Octubre\", \"Novembre\", \"Desembre\"]\n",
    "\n",
    "# Els mesos corresponents a la tardor son els mesos 9, 10 i 11\n",
    "print(mesos[8:11])"
   ]
  },
  {
   "cell_type": "markdown",
   "metadata": {
    "id": "owJwZvkhbSFZ"
   },
   "source": [
    "Fixeu-vos que en Python el primer element d'una llista o array el trobarem a la posició **0**. Per tant, si volem accedir al novè element de la llista utilitzarem l'índex 8, és a dir, escriurem `mesos[8]`.\n",
    "\n",
    "D'altra banda, quan especifiquem un rang, `8:11`, l'element final no s'inclou en el resultat final. És a dir, `mesos[8:11]` retornará els elements corresponents a les posicions 8, 9 i 10."
   ]
  },
  {
   "cell_type": "markdown",
   "metadata": {
    "id": "KPB7rAasbSFZ"
   },
   "source": [
    "### Exercici 6\n",
    "\n",
    "Escriviu un programa que a partir de la llista de nombres donada mostri per pantalla una cadena de caràcters amb tots els números, separats entre ells per un guió, i duplicant el primer i l'últim element de la llista.\n",
    "\n",
    "Així, per exemple, per a la llista ['1', '2', '3'], el programa hauria de mostrar la cadena: '1-1-2-3-3'."
   ]
  },
  {
   "cell_type": "code",
   "execution_count": null,
   "metadata": {},
   "outputs": [],
   "source": [
    "# Definim la llista de nombres d'entrada\n",
    "nombres = ['6', '3', '45', '23', '2', '3', '17', '80']\n",
    "\n",
    "# Resposta\n",
    "nombres = [nombres[0]] + nombres + [nombres[-1]]\n",
    "print('-'.join(nombres))"
   ]
  },
  {
   "cell_type": "markdown",
   "metadata": {
    "id": "fw3UxkVUbSFa"
   },
   "source": [
    "### Exercici 7\n",
    "\n",
    "Ordena la següent llista de cadenes de caràcters:\n",
    "\n",
    "1. Invertint l'ordre original\n",
    "2. En ordre alfabètic invers\n",
    "\n",
    "**Nota**: Pots consultar la documentació oficial de la funció [ `sorted`](https://docs.python.org/3/library/functions.html#sorted) per veure quins paràmetres pots fer servir per resoldre la segona part de l'activitat."
   ]
  },
  {
   "cell_type": "code",
   "execution_count": null,
   "metadata": {},
   "outputs": [],
   "source": [
    "st_chars = [\"Benjamin Sisko\", \"Kira Nerys\", \"Odo\", \"Quark\", \"Jadzia Dax\"]\n",
    "\n",
    "# Hem vist l'ús dels dos punts (\":\") per accedir a múltiples elements d'una\n",
    "# llista.\n",
    "# Python tracta l'expressió de la següent manera:\n",
    "# - Si no hi ha cap índex abans de el primer \":\" assumeix que ha de començar\n",
    "#   pel principi de la llista.\n",
    "# - Si no hi ha cap índex després de el primer \":\" assumeix que s'ha de\n",
    "#   posicionar al final de la llista.\n",
    "# - L'últim número ens indica els increments en l'índex que s'han de fer a\n",
    "#   mesura que recorrem la llista.\n",
    "\n",
    "# (En aquest cas sempre \"sumem\" -1 a l'índex i per tant, obtenim -1, -2, -3,\n",
    "# etc.)\n",
    "print(st_chars[::-1])"
   ]
  },
  {
   "cell_type": "markdown",
   "metadata": {
    "id": "iM_t_GWLbSFa"
   },
   "source": [
    "Per al següent exercici, busquem la documentació de la funció `sorted()` i veiem que aquesta ens serveix per ordenar qualsevol seqüència (llista, tupla) i retornarà una llista amb els elements de manera ordenada, sense modificar la seqüència original. El paràmetre *reverse* per defecte s'estableix com *fals*, però si ho establim com *True*, llavors l'iterable s'ordenaria en ordre invers (descendent):"
   ]
  },
  {
   "cell_type": "code",
   "execution_count": null,
   "metadata": {},
   "outputs": [],
   "source": [
    "print(sorted(st_chars, reverse=True))"
   ]
  },
  {
   "cell_type": "markdown",
   "metadata": {
    "id": "shxEmzhtbSFa"
   },
   "source": [
    "### Exercici 8\n",
    "\n",
    "A partir de la següent llista,\n",
    "\n",
    "```A_list = [42, 7.5,\"Answer to the Ultimate Question\",\"Dave\", 7.5]```\n",
    "\n",
    "proporciona expressions que retornin:\n",
    "\n",
    "1. El nombre de vegades que apareix l'element `7.5` a la llista.\n",
    "2. La posició de la primera aparició del valor `7.5`\n",
    "3. La mateixa llista sense l'últim element\n",
    "\n",
    "**Nota**: Al notebook de teoria hem vist què són les llistes i algunes operacions sobre elles. Per fer l'activitat, necessitareu investigar algunes operacions addicionals que podem realitzar sobre llistes. Per a això podeu consultar la documentació oficial de Python sobre llistes ([intro](https://docs.python.org/3/tutorial/introduction.html#lists) i [més sobre llistes](https://docs.python.org/3/tutorial/datastructures.html#more-on-lists))."
   ]
  },
  {
   "cell_type": "code",
   "execution_count": null,
   "metadata": {},
   "outputs": [],
   "source": [
    "a_list = [42, 7.5, \"Answer to the Ultimate Question\", \"Dave\", 7.5]\n",
    "\n",
    "# El mètode count() compta quantes vegades apareix un valor en una llista i el\n",
    "# retorna.\n",
    "print(a_list.count(7.5))\n",
    "\n",
    "# Farem servir el mètode index(), aquest troba el valor donat en una llista i\n",
    "# retorna la posició de l'element.\n",
    "# Si el mateix valor apareix més d'una vegada, el mètode index() retorna la\n",
    "# posició de la seva primera aparició.\n",
    "print(a_list.index(7.5))\n",
    "\n",
    "# Indiquem que volem excloure l'últim element indexat de la llista usant\n",
    "# l'operador []:\n",
    "print(a_list[: - 1])"
   ]
  },
  {
   "cell_type": "markdown",
   "metadata": {
    "id": "PouqYrUmbSFa"
   },
   "source": [
    "### Exercici 9\n",
    "\n",
    "Quina expressió en Python necessitem per aconseguir la _string_ `Learning Python` utilitzant només les variables `str1` i` str2` definides?"
   ]
  },
  {
   "cell_type": "code",
   "execution_count": null,
   "metadata": {},
   "outputs": [],
   "source": [
    "str1 = \"I love Python, it's great!\"\n",
    "str2 = \"Learning\""
   ]
  },
  {
   "cell_type": "markdown",
   "metadata": {
    "id": "80BhUaL9bSFa"
   },
   "source": [
    "Com podem veure, per construir la cadena de text necessitem aïllar la subcadena \"Python\", que trobem a la tercera paraula de la cadena `str1` i correspon amb els caràcters 7 a 13 de la cadena. Podrem crear aquesta nova cadena de forma separada i a la fi concatenar-la amb la cadena `str2` utilitzant l'operador` + `:"
   ]
  },
  {
   "cell_type": "code",
   "execution_count": null,
   "metadata": {},
   "outputs": [],
   "source": [
    "# Accedim als caràcters que ens interessen de la cadena str1, incloent l'espai\n",
    "# previ a la paraula 'Python'\n",
    "subcadena = str1[6:13]\n",
    "\n",
    "# Finalment, concatenem la nova cadena (subcadena 'Python') i la concatenem\n",
    "# amb str2\n",
    "resultat = str2 + subcadena\n",
    "\n",
    "# Mostrem el resultat\n",
    "print(resultat)"
   ]
  },
  {
   "cell_type": "code",
   "execution_count": null,
   "metadata": {},
   "outputs": [],
   "source": [
    "# També podem afegir l'espai en blanc entre paraules en el moment d'unir-les,\n",
    "# vigileu de no afegir dos espais en blanc:\n",
    "subcadena = str1[7:13]\n",
    "resultat = str2 + ' ' + subcadena\n",
    "print(resultat)"
   ]
  },
  {
   "cell_type": "markdown",
   "metadata": {
    "id": "stutVw3GbSFb"
   },
   "source": [
    "### Exercici 10\n",
    "\n",
    "El codi que es presenta a continuació no funciona:\n",
    "\n",
    "Corregeix l'error i explica per què succeeix.  "
   ]
  },
  {
   "cell_type": "code",
   "execution_count": null,
   "metadata": {},
   "outputs": [],
   "source": [
    "name = \"Alex\"\n",
    "\n",
    "age = 20\n",
    "\n",
    "print(\"Hello, my name is %d and I'm %d years old!\" % (name, age))"
   ]
  },
  {
   "cell_type": "code",
   "execution_count": null,
   "metadata": {},
   "outputs": [],
   "source": [
    "# Resposta\n",
    "\n",
    "name = \"Alex\"\n",
    "\n",
    "age = 20\n",
    "\n",
    "print(\"Hello, my name is %s and I'm %d years old!\" % (name, age))"
   ]
  },
  {
   "cell_type": "markdown",
   "metadata": {
    "id": "P-wvrqrlbSFb"
   },
   "source": [
    "**Resposta**\n",
    "\n",
    "Per poder utilitzar aquesta funcionalitat, hi ha d'haver una concordança entre el tipus de la variable que volem substituir i l'expressió utilitzada. És a dir, si volem substituir un string, hem d'utilitzar l'expressió `%s` que indica que l'element que volem referenciar és també un string. Si utilitzem `%d` i el contingut és string, Python retornarà un missatge d'error, ja que hi ha una discrepància pel que fa al tipus de variable."
   ]
  },
  {
   "cell_type": "markdown",
   "metadata": {
    "id": "UedEaRHAbSFb"
   },
   "source": [
    "### Exercici 11\n",
    "\n",
    "En aquest exercici utilitzarem la frase: La paciència és la mare de la ciència.\n",
    "\n",
    "a) Extreu les paraules paciència i ciència de la cadena d'strings definida anteriorment.\n",
    "\n",
    "b) Crea la paraula ciència a partir de paciència, i la paraula paciència a partir de ciència.\n",
    "\n",
    "c) Separa la frase en les diferents paraules que la formen (e.g. \"La\", \"paciència, \"és\", etc.). Quin és el separador que hem d'utilitzar?\n",
    "\n",
    "d) Torna a unir els elements de la frase mitjançant \"-\" (e.g. \"La-paciència-és...\")."
   ]
  },
  {
   "cell_type": "code",
   "execution_count": null,
   "metadata": {},
   "outputs": [],
   "source": [
    "# Resposta\n",
    "\n",
    "# Creem la frase de l'enunciat\n",
    "frase = \"La paciència és la mare de la ciència\"\n",
    "\n",
    "# a)\n",
    "\n",
    "# Seleccionem els elements necessaris per obtenir les paraules paciència i\n",
    "# ciència\n",
    "paraula1 = frase[3:13]\n",
    "paraula2 = frase[-7:]\n",
    "\n",
    "# Mostrem el resultat per pantalla\n",
    "print(\"La primera paraula és:\", paraula1)\n",
    "print(\"La segona paraula és:\", paraula2)"
   ]
  },
  {
   "cell_type": "code",
   "execution_count": null,
   "metadata": {},
   "outputs": [],
   "source": [
    "# b)\n",
    "\n",
    "# Creem la paraula ciència a partir de paciència\n",
    "paraula3 = paraula1[2:]\n",
    "\n",
    "# Creem la paraula ciència a partir de paciència\n",
    "paraula4 = 'pa' + paraula2\n",
    "\n",
    "# Mostrem el resultat per pantalla\n",
    "print(\"La tercera paraula és:\", paraula3)\n",
    "print(\"La quarta paraula és:\", paraula4)"
   ]
  },
  {
   "cell_type": "code",
   "execution_count": null,
   "metadata": {},
   "outputs": [],
   "source": [
    "# c)\n",
    "\n",
    "# Separem les paraules utilitzant el separador \" \"\n",
    "frase_mod = frase.split(' ')\n",
    "\n",
    "# Mostrem el resultat per pantalla\n",
    "print(\"La frase separada pels seus elements és:\", frase_mod)"
   ]
  },
  {
   "cell_type": "code",
   "execution_count": null,
   "metadata": {},
   "outputs": [],
   "source": [
    "# d)\n",
    "\n",
    "# Especifiquem el separador\n",
    "s = \"-\"\n",
    "\n",
    "# Utilitzem la funció join per unir els elements de la llista\n",
    "frase_joined = s.join(frase_mod)\n",
    "\n",
    "# Mostrem el resultat per pantalla\n",
    "print(\"La frase amb el nou separador és:\", frase_joined)"
   ]
  }
 ],
 "metadata": {
  "language_info": {
   "name": "python"
  }
 },
 "nbformat": 4,
 "nbformat_minor": 0
}
