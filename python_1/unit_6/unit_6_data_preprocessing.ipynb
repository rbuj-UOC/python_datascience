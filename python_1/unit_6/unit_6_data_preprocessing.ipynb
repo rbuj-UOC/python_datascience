{
 "cells": [
  {
   "cell_type": "markdown",
   "metadata": {},
   "source": [
    "<div style=\"display: grid; grid-template-columns: repeat(2, 1fr); align-items: end;\">\n",
    "    <div>\n",
    "        <img src=\"data:image/avif;base64,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\" width=\"300\">\n",
    "    </div>\n",
    "    <div>\n",
    "        <p style=\"margin: 0; text-align:right;\">22.401 · Fonaments de Programació</p>\n",
    "        <p style=\"margin: 0; text-align:right;\">Grau en Ciència de Dades Aplicada</p>\n",
    "        <p style=\"margin: 0; text-align:right;\">Estudis d'Informàtica, Multimèdia i Telecomunicació</p>\n",
    "    </div>\n",
    "</div>"
   ]
  },
  {
   "cell_type": "markdown",
   "metadata": {},
   "source": [
    "Programació per a *Data Science*\n",
    "============================\n",
    "\n",
    "Unitat 6: Preprocessament de dades en Python\n",
    "--------------------------------------------\n",
    "\n",
    "Instruccions d'ús\n",
    "-----------------\n",
    "\n",
    "A continuació es presentaran explicacions i exemples de preprocessament de dades en Python. Recordeu que podeu anar executant els exemples per obtenir-ne els resultats.\n",
    "\n",
    "Introducció\n",
    "-----------\n",
    "\n",
    "En aquest mòdul treballarem amb la biblioteca [pandas](http://pandas.pydata.org/), que ja hem introduït als mòduls\n",
    "anteriors, i [scikit-learn](http://scikit-learn.org), una nova biblioteca que presentem en aquest mòdul. Scikit-learn és una biblioteca d'aprenentatge automàtic de Python que ens ofereix eines i implementacions d'algoritmes per mineria i anàlisi de dades. Al mateix web de scikit-learn podeu trobar-ne la [documentació completa](http://scikit-learn.org/stable/documentation.html).\n",
    "\n",
    "Aquest Notebook conté exemples concrets de tècniques que poden aplicar-se per preprocessar dades per a cada un dels grups de tècniques descrits a la introducció del mòdul (a la xwiki associada). És important destacar que s'han seleccionat únicament algunes tècniques dins de cada grup per presentar exemples del tipus de transformacions es realitzen, però a la pràctica, el conjunt de tècniques que s'apliquen al preprocessament de dades és molt més extens.\n",
    "\n",
    "En aquest Notebook veurem com aplicar diferents tècniques de preprocessament de dades sobre un conjunt de dades meteorològiques de la ciutat de Pequín. El _dataset_ original pot trobar-se al [dipòsit de Machine Learning de l'UC Irvine](http://archive.ics.uci.edu/ml/datasets/Beijing+PM2.5+Data#), tot i que per a les activitats utilitzarem una variant modificada del mateix que ens permetrà practicar un conjunt més ampli de tècniques. Podeu trobar una petita descripció dels atributs del conjunt de dades seguint l'enllaç anterior.\n",
    "\n",
    "Primers passos\n",
    "--------------\n",
    "\n",
    "En primer lloc, carreguem el conjunt de dades:"
   ]
  },
  {
   "cell_type": "code",
   "execution_count": null,
   "metadata": {},
   "outputs": [],
   "source": [
    "import os\n",
    "import sys\n",
    "from os.path import dirname\n",
    "\n",
    "VERIFICA_ESTIL = False\n",
    "\n",
    "if os.getenv(\"COLAB_RELEASE_TAG\"):\n",
    "    # munta la unitat de google drive i accedeix a la carpeta de la unitat\n",
    "    from google.colab import drive\n",
    "    drive.mount('/content/drive')\n",
    "    %cd \"/content/drive/MyDrive/Colab Notebooks/python_datascience/python_1/unit_5\"\n",
    "\n",
    "print(f\"directori actual: {os.getcwd()}\")\n",
    "sys.path.append(os.path.join(dirname(dirname(os.getcwd())), 'util'))\n",
    "\n",
    "# verificació de PEP8\n",
    "if VERIFICA_ESTIL:\n",
    "    print(\"habilitant verificació de l'estil PEP8\")\n",
    "    if os.getenv(\"COLAB_RELEASE_TAG\"):\n",
    "        print(\"instal·lant flake8, pycodestyle i pycodestyle_magic...\")\n",
    "        %pip install pycodestyle flake8 pycodestyle_magic\n",
    "    %load_ext pycodestyle_magic\n",
    "    %pycodestyle_on"
   ]
  },
  {
   "cell_type": "code",
   "execution_count": null,
   "metadata": {},
   "outputs": [],
   "source": [
    "from uoc import data_backup\n",
    "\n",
    "data_backup(os.getcwd(), True)"
   ]
  },
  {
   "cell_type": "code",
   "execution_count": null,
   "metadata": {},
   "outputs": [],
   "source": [
    "# Importem la biblioteca pandas.\n",
    "import pandas as pd\n",
    "\n",
    "# Carreguem les dades del fitxer \"weather_dataset_edited.csv\" en un dataframe.\n",
    "data = pd.read_csv(\"data/weather_dataset_edited.csv\")\n",
    "\n",
    "# Mostrem una descripció bàsica de les dades carregades.\n",
    "print(type(data))\n",
    "print(len(data))\n",
    "data.head(n=5)"
   ]
  },
  {
   "cell_type": "markdown",
   "metadata": {},
   "source": [
    "Integració de dades\n",
    "-------------------\n",
    "\n",
    "El conjunt de dades ha estat creat amb la col·laboració de diferents persones. Tot i que totes elles anotaven la mateixa informació, la veritat és que van utilitzar una nomenclatura diferent per descriure la direcció del vent. Vegem com podem unificar la nomenclatura usada per tots ells."
   ]
  },
  {
   "cell_type": "code",
   "execution_count": null,
   "metadata": {},
   "outputs": [],
   "source": [
    "# Visualitzem les diferents abreviatures utilitzades.\n",
    "set(data[\"cbwd\"])"
   ]
  },
  {
   "cell_type": "code",
   "execution_count": null,
   "metadata": {},
   "outputs": [],
   "source": [
    "# Unifiquem la nomenclatura para fer servir únicament majúscules.\n",
    "data.loc[data.cbwd == \"ne\", \"cbwd\"] = \"NE\"\n",
    "data.loc[(data.cbwd == \"Nw\") |\n",
    "         (data.cbwd == \"nW\") |\n",
    "         (data.cbwd == \"nw\"), \"cbwd\"] = \"NW\"\n",
    "data.loc[(data.cbwd == \"Se\") |\n",
    "         (data.cbwd == \"sE\") |\n",
    "         (data.cbwd == \"se\"), \"cbwd\"] = \"SE\""
   ]
  },
  {
   "cell_type": "markdown",
   "metadata": {},
   "source": [
    "Noteu que fem servir l'operador `.loc`, que havíem vist al mòdul 4 (a les explicacions sobre la biblioteca Pandas) per filtrar les files que compleixen una característica concreta (per exemple, per a la primera sentència, que tenen el valor _ne_ al camp `cbwd`) i després seleccionem únicament la columna «cbwd» per poder assignar-li el nou valor (en aquest cas, _NE_)."
   ]
  },
  {
   "cell_type": "code",
   "execution_count": null,
   "metadata": {},
   "outputs": [],
   "source": [
    "# Comprovem que la substitució s'hagi dut a terme correctament.\n",
    "set(data[\"cbwd\"])"
   ]
  },
  {
   "cell_type": "markdown",
   "metadata": {},
   "source": [
    "A més, sabem que normalment la temperatura es mesurava amb un termòmetre configurat per utilitzar el sistema mètric internacional, per la qual cosa es troba expressada en graus Celsius. No obstant això, durant l'any 2011 es van estar prenent les mesures amb un altre termòmetre configurat amb graus Fahrenheit, de manera que les mostres d'aquest any es troben expressades en graus Fahrenheit. Vegem com podem unificar les mesures de temperatura."
   ]
  },
  {
   "cell_type": "code",
   "execution_count": null,
   "metadata": {},
   "outputs": [],
   "source": [
    "# Visualitzem la mitjana anual de les temperatures.\n",
    "grouped = data.groupby(\"year\")\n",
    "grouped.aggregate({\"TEMP\": 'mean'})"
   ]
  },
  {
   "cell_type": "markdown",
   "metadata": {},
   "source": [
    "Fixeu-vos que, efectivament, la mitjana de l'any 2011 és molt més alta que la de la resta d'anys."
   ]
  },
  {
   "cell_type": "code",
   "execution_count": null,
   "metadata": {},
   "outputs": [],
   "source": [
    "def fahrenheit_to_celsius(x):\n",
    "    \"\"\"Funció que converteix graus Fahrenheit a graus Celsius.\n",
    "\n",
    "    Args:\n",
    "        x (_type_): graus Fahrenheit\n",
    "\n",
    "    Returns:\n",
    "        _type_: graus Celsius\n",
    "    \"\"\"\n",
    "    return (x-32)*5/9\n",
    "\n",
    "\n",
    "# Substituïm els valors de les temperatures de l'any 2011 pel resultat\n",
    "# d'aplicar la funció 'fahrenheit_to_celsius' al valor actual.\n",
    "data.loc[data.year == 2011, \"TEMP\"] = data[data.year == 2011][\"TEMP\"].apply(\n",
    "    fahrenheit_to_celsius\n",
    ")"
   ]
  },
  {
   "cell_type": "code",
   "execution_count": null,
   "metadata": {},
   "outputs": [],
   "source": [
    "# Comprovem que els canvis realitzats han tingut efecte.\n",
    "grouped.aggregate({\"TEMP\": 'mean'})"
   ]
  },
  {
   "cell_type": "markdown",
   "metadata": {},
   "source": [
    "Transformació de dades\n",
    "----------------------\n",
    "\n",
    "Els atributs `month` i `cbwd` contenen cadenes de caràcters com valors i representen variables categòriques, de manera que segons quin tipus d'algorismes de mineria de dades no podran treballar amb elles. Per això, les transformarem en un conjunt d'atributs binaris (un atribut per a cada categoria possible)."
   ]
  },
  {
   "cell_type": "code",
   "execution_count": null,
   "metadata": {},
   "outputs": [],
   "source": [
    "# Mostrem el conjunt d'atributs original.\n",
    "print(list(data))"
   ]
  },
  {
   "cell_type": "code",
   "execution_count": null,
   "metadata": {},
   "outputs": [],
   "source": [
    "# Creem nous atributs binaris per a les categories utilitzades a les columnes\n",
    "# \"month\" i \"cbwd\".\n",
    "data_trans = pd.get_dummies(data, columns=[\"month\", \"cbwd\"], dummy_na=True)"
   ]
  },
  {
   "cell_type": "code",
   "execution_count": null,
   "metadata": {},
   "outputs": [],
   "source": [
    "# Mostrem el conjunt d'atributs després de la transformació.\n",
    "print(list(data_trans))"
   ]
  },
  {
   "cell_type": "markdown",
   "metadata": {},
   "source": [
    "Podem veure un exemple de com s'han transformat els valors observant algunes mostres concretes. Així, per a les mostres entre les posicions deu i vint i la columna `cbwd`:"
   ]
  },
  {
   "cell_type": "code",
   "execution_count": null,
   "metadata": {},
   "outputs": [],
   "source": [
    "# Mostrem el valor de la columna \"cbwd\" original per a les mostres entre les\n",
    "# posicions deu i vint.\n",
    "print(data.loc[10:20, [\"cbwd\"]])\n",
    "\n",
    "# Mostrem els valors de les noves columnes \"cbwd_NE\", \"cbwd_NW\", \"cbwd_SE\",\n",
    "# \"cbwd_nan\". Per a les mostres entre les posicions deu i vint.\n",
    "data_trans.loc[10:20, [\"cbwd_NE\", \"cbwd_NW\", \"cbwd_SE\", \"cbwd_nan\"]]"
   ]
  },
  {
   "cell_type": "markdown",
   "metadata": {},
   "source": [
    "Neteja de dades\n",
    "---------------\n",
    "\n",
    "Un dels problemes que es tracten a la neteja de dades és el tractament de valors perduts. Hi ha múltiples estratègies per tractar amb aquests valors, des d'eliminar directament les mostres que contenen algun valor perdut fins a substituir els valors perduts per algun altre valor (per exemple, per atributs numèrics, la mitjana de l'atribut a la resta de mostres). Vegem un exemple de substitució de valors perduts per la\n",
    "mitjana de l'atribut.\n",
    "\n",
    "En primer lloc, identifiquem els atributs que tenen algun valor NaN:"
   ]
  },
  {
   "cell_type": "code",
   "execution_count": null,
   "metadata": {},
   "outputs": [],
   "source": [
    "def any_is_null(x) -> bool:\n",
    "    \"\"\" Funció que retorna si algun dels valors d'una sèrie és nul.\n",
    "\n",
    "    Args:\n",
    "        x (_type_): sèrie de valors\n",
    "\n",
    "    Returns:\n",
    "        _type_:  booleà que indica si algun dels valors és nul\n",
    "    \"\"\"\n",
    "    return any(pd.isnull(x))\n",
    "\n",
    "\n",
    "# Apliquem la funció 'any_is_null' a cada columna del 'dataframe'.\n",
    "print(data_trans.apply(any_is_null))"
   ]
  },
  {
   "cell_type": "markdown",
   "metadata": {},
   "source": [
    "Fixeu-vos que tot i que la columna `cbwd` original contenia valors perduts, després de la transformació ja no els tenim, ja que aquests es troben representats amb valors binaris a la columna `cbwd_nan`. Així, només cal tractar els valors perduts de la columna `pm2.5`.\n",
    "\n",
    "Substituïm els valors perduts de la columna `pm2.5` per la mitjana de la columna utilitzant la biblioteca Sklearn (tot i que també podríem utilitzar les funcions d'indexació de pandas per aconseguir el mateix objectiu)."
   ]
  },
  {
   "cell_type": "code",
   "execution_count": null,
   "metadata": {},
   "outputs": [],
   "source": [
    "# Importem Imputer del mòdul de preprocessament de la biblioteca Sklearn.\n",
    "from sklearn.impute import SimpleImputer\n",
    "\n",
    "# Substituirem els valors perduts per la mitjana de la columna (el paràmetre\n",
    "# axis = 0 indica que calcularem la mitjana sobre la columna).\n",
    "imp = SimpleImputer(strategy='mean')\n",
    "\n",
    "# Apliquem la transformació a la columna pm2.5.\n",
    "data_trans[\"pm2.5\"] = imp.fit_transform(data_trans[[\"pm2.5\"]]).ravel()"
   ]
  },
  {
   "cell_type": "code",
   "execution_count": null,
   "metadata": {},
   "outputs": [],
   "source": [
    "# Comprovem que s'han eliminat els valors perduts.\n",
    "print(data_trans.apply(any_is_null))"
   ]
  },
  {
   "cell_type": "markdown",
   "metadata": {},
   "source": [
    "Normalització de dades\n",
    "----------------------\n",
    "\n",
    "Una de les alternatives per normalitzar les dades consisteix a centrar els valors perquè la mitjana de l'atribut sigui propera a zero i escalar-los perquè la variància sigui 1. Vegem com realitzar aquest procés sobre l'atribut que conté la pressió atmosfèrica."
   ]
  },
  {
   "cell_type": "code",
   "execution_count": null,
   "metadata": {},
   "outputs": [],
   "source": [
    "# Observem les estadístiques bàsiques originals de l'atribut \"PRES\".\n",
    "data_trans[\"PRES\"].describe()"
   ]
  },
  {
   "cell_type": "code",
   "execution_count": null,
   "metadata": {},
   "outputs": [],
   "source": [
    "# Importem StandardScaler del mòdul de preprocessament de la biblioteca Sklearn.\n",
    "from sklearn.preprocessing import StandardScaler\n",
    "\n",
    "# Utilitzem el StandardScaler de Sklearn per normalitzar els valors de l'atribut\n",
    "# \"PRES\".\n",
    "data_trans.loc[:, [\"PRES\"]] = StandardScaler(\n",
    ").fit_transform(data_trans.loc[:, [\"PRES\"]])"
   ]
  },
  {
   "cell_type": "code",
   "execution_count": null,
   "metadata": {},
   "outputs": [],
   "source": [
    "# Observem els estadístics bàsics de l'atribut \"PRES\" després de la\n",
    "# transformació.\n",
    "data_trans[\"PRES\"].describe()"
   ]
  },
  {
   "cell_type": "markdown",
   "metadata": {},
   "source": [
    "Fixeu-vos que, efectivament, la mitjana s'aproxima ara al valor 0, i la desviació a 1.\n",
    "\n",
    "Reducció de dimensions\n",
    "----------------------\n",
    "\n",
    "Una opció senzilla per reduir dimensions consisteix a seleccionar un conjunt de característiques d'interès. Podem dur a terme aquesta selecció de manera senzilla gràcies a les funcions que disposem sobre els _dataframes_ de pandas."
   ]
  },
  {
   "cell_type": "code",
   "execution_count": null,
   "metadata": {},
   "outputs": [],
   "source": [
    "# Mostrem els atributs actuals.\n",
    "print(list(data_trans))"
   ]
  },
  {
   "cell_type": "code",
   "execution_count": null,
   "metadata": {},
   "outputs": [],
   "source": [
    "# Eliminem l'atribut \"DEWP\".\n",
    "data_trans = data_trans.drop(\"DEWP\", axis=1)"
   ]
  },
  {
   "cell_type": "code",
   "execution_count": null,
   "metadata": {},
   "outputs": [],
   "source": [
    "# Mostrem els atributs després del canvi.\n",
    "print(list(data_trans))"
   ]
  },
  {
   "cell_type": "markdown",
   "metadata": {},
   "source": [
    "Un grup de tècniques de reducció de dimensions molt desenvolupat se centra en l'extracció de característiques. Tot i que conceptualment aquests processos s'escapen d'aquest curs introductori, la veritat és que és fàcil aplicar aquestes tècniques amb Sklearn. Si hi esteu interessats podeu consultar [els\n",
    "exemples](http://scikit-learn.org/stable/modules/generated/sklearn.decomposition.PCA.html#examples-using-sklearn-decomposition-pca) de la mateixa documentació de Sklearn.\n",
    "\n",
    "Reducció de mostres\n",
    "-------------------\n",
    "\n",
    "Una alternativa senzilla per fer una reducció de les mostres disponibles consisteix a seleccionar de manera aleatòria uniforme un subconjunt de mostres del _dataset_."
   ]
  },
  {
   "cell_type": "code",
   "execution_count": null,
   "metadata": {},
   "outputs": [],
   "source": [
    "# Mostrem el nombre de mostres original.\n",
    "print(len(data_trans))"
   ]
  },
  {
   "cell_type": "code",
   "execution_count": null,
   "metadata": {},
   "outputs": [],
   "source": [
    "# Seleccionem un 25% de les mostres de manera aleatòria.\n",
    "sampled_data = data_trans.sample(frac=0.25)"
   ]
  },
  {
   "cell_type": "code",
   "execution_count": null,
   "metadata": {},
   "outputs": [],
   "source": [
    "# Mostrem el nombre de mostres seleccionat.\n",
    "print(len(sampled_data))\n",
    "\n",
    "# Mostrem les cinc primeres mostres seleccionades.\n",
    "sampled_data.head(n=5)"
   ]
  },
  {
   "cell_type": "markdown",
   "metadata": {},
   "source": [
    "Fixeu-vos que el _dataframe_ conserva el nombre d'atributs original, però només conté un 25% de les mostres originals.\n",
    "\n",
    "Discretització\n",
    "--------------\n",
    "\n",
    "De vegades ens interessarà convertir un atribut continu en un de discret. Una manera de fer-ho és dividir l'espai de possibles valors que pren l'atribut a `n` *bins* o intervals de la mateixa mida i assignar cada mostra a l'interval al qual pertany. Vegem un exemple discretitzant l'atribut `Iws` en cinc intervals de la mateixa mida."
   ]
  },
  {
   "cell_type": "code",
   "execution_count": null,
   "metadata": {},
   "outputs": [],
   "source": [
    "# Observem les estadístiques bàsiques de l'atribut \"Iws\".\n",
    "data_trans[\"Iws\"].describe()"
   ]
  },
  {
   "cell_type": "code",
   "execution_count": null,
   "metadata": {},
   "outputs": [],
   "source": [
    "# Creem un nou atribut \"Iws_disc\" que conté la discretització d'\"Iws\".\n",
    "data_trans[\"Iws_disc\"] = pd.cut(data_trans[\"Iws\"], 5)"
   ]
  },
  {
   "cell_type": "code",
   "execution_count": null,
   "metadata": {},
   "outputs": [],
   "source": [
    "# Visualitzem el contingut dels atributs \"Iws\" i \"Iws_disc\" per a un subconjunt\n",
    "# de mostres per observar-ne el resultat.\n",
    "data_trans.loc[80:90, [\"Iws\", \"Iws_disc\"]]"
   ]
  },
  {
   "cell_type": "markdown",
   "metadata": {},
   "source": [
    "Per defecte la funció `cut` utilitza l'interval com a valor del nou atribut. Podem assignar valors arbitraris al nou atribut, per exemple:"
   ]
  },
  {
   "cell_type": "code",
   "execution_count": null,
   "metadata": {},
   "outputs": [],
   "source": [
    "# Designem cinc noms per als intervals\n",
    "group_names = ['Very Low', 'Low', 'Medium', 'High', 'Very High']"
   ]
  },
  {
   "cell_type": "code",
   "execution_count": null,
   "metadata": {},
   "outputs": [],
   "source": [
    "# Creem un nou atribut \"Iws_disc_named\" discretitzant de nou \"Iws\" amb cinc\n",
    "# intervals de la mateixa mida però fent servir ara les etiquetes definides.\n",
    "data_trans[\"Iws_disc_named\"] = pd.cut(data_trans[\"Iws\"], 5, labels=group_names)"
   ]
  },
  {
   "cell_type": "code",
   "execution_count": null,
   "metadata": {},
   "outputs": [],
   "source": [
    "# Visualitzem el contingut dels atributs \"Iws\", \"Iws_disc\" i \"Iws_disc_named\"\n",
    "# per a un subconjunt de mostres per observar-ne el resultat.\n",
    "data_trans.loc[80:90, [\"Iws\", \"Iws_disc\", \"Iws_disc_named\"]]"
   ]
  },
  {
   "cell_type": "markdown",
   "metadata": {},
   "source": [
    "<img src=\"data:image/avif;base64,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\" width=\"100\">"
   ]
  }
 ],
 "metadata": {
  "language_info": {
   "name": "python"
  }
 },
 "nbformat": 4,
 "nbformat_minor": 4
}
