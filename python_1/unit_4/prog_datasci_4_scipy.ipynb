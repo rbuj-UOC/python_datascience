{
 "cells": [
  {
   "cell_type": "markdown",
   "metadata": {},
   "source": [
    "<div style=\"width: 100%; clear: both;\">\n",
    "    <div style=\"float: left; width: 50%;\">\n",
    "       <img src=\"http://www.uoc.edu/portal/_resources/common/imatges/marca_UOC/UOC_Masterbrand.jpg\", align=\"left\">\n",
    "    </div>\n",
    "</div>\n",
    "\n",
    "<div style=\"float: right; width: 50%;\">\n",
    "    <p style=\"margin: 0; padding-top: 22px; text-align:right;\">22.401 · Fonaments de Programació</p>\n",
    "    <p style=\"margin: 0; text-align:right;\">Grau en Ciència de Dades Aplicada</p>\n",
    "    <p style=\"margin: 0; text-align:right; padding-button: 100px;\">Estudis d'Informàtica, Multimèdia i Telecomunicació</p>\n",
    "</div>\n",
    "\n",
    "</div>\n",
    "<div style=\"width: 100%; clear: both;\">\n",
    "<div style=\"width:100%;\">&nbsp;</div>"
   ]
  },
  {
   "cell_type": "markdown",
   "metadata": {},
   "source": [
    "Fonaments de Programació\n",
    "============================\n",
    "\n",
    "--- \n",
    "\n",
    "Unitat 4: Llibreries científiques en Python - SciPy\n",
    "-----------------------------------------------------\n",
    "\n",
    "---"
   ]
  },
  {
   "cell_type": "markdown",
   "metadata": {},
   "source": [
    "### Instruccions d'ús\n",
    "\n",
    "Aquest document és un *notebook* interactiu que intercala explicacions més aviat teòriques de conceptes de programació amb fragments de codi executables. Per aprofitar els avantatges que aporta aquest format, us recomanem que, en primer lloc, llegiu les explicacions i el codi que us proporcionem. D'aquesta manera tindreu un primer contacte amb els conceptes que hi exposem. Ara bé, **la lectura és només el principi!** Una vegada hàgiu llegit el contingut, no oblideu executar el codi proporcionat i modificar-lo per crear-ne variants que us permetin comprovar que heu entès la seva funcionalitat i explorar-ne els detalls d'implementació. Per últim, us recomanem també consultar la documentació enllaçada per explorar amb més profunditat les funcionalitats dels mòduls presentats. \n",
    "\n"
   ]
  },
  {
   "cell_type": "markdown",
   "metadata": {},
   "source": [
    "Per guardar possibles modificacions que feu sobre aquest notebook, us aconsellem que munteu la unitat de Drive a Google Colaboratory (colab). Heu d'executar les instruccions següents:"
   ]
  },
  {
   "cell_type": "code",
   "execution_count": null,
   "metadata": {},
   "outputs": [],
   "source": [
    "from google.colab import drive\n",
    "drive.mount('/content/drive') "
   ]
  },
  {
   "cell_type": "code",
   "execution_count": null,
   "metadata": {},
   "outputs": [],
   "source": [
    "%cd /content/drive/MyDrive/Colab_Notebooks/prog_datasci_4"
   ]
  },
  {
   "cell_type": "markdown",
   "metadata": {},
   "source": [
    "### Introducció\n",
    "\n",
    "A continuació es presentaran explicacions i exemples d'ús de la\n",
    "llibreria scipy. Recordeu que podeu anar executant els exemples per\n",
    "obtenir-ne els resultats.\n",
    "\n",
    "A continuació s'inclou la taula de continguts, que podeu fer servir per navegar pel document:\n",
    "\n",
    "<ul style=\"list-style-type:none\">\n",
    "    <li><a href='#1-Introduccio'>1 Introducció</a></li>\n",
    "    <li><a href=\"#2-Recull-exemples\">2 Recull d'exemples</a></li>\n",
    "    <ul style=\"list-style-type:none\">\n",
    "        <li><a href=\"#2.1-Exemple-1\">2.1 Exemple 1: simulació d'una apocalipsi zombi</a></li>\n",
    "        <li><a href=\"#2.2-Exemple-2\">2.2 Exemple 2: buscant cristalls de proteïnes</a></li>\n",
    "    </ul>\n",
    "    <li><a href=\"#3-Exercicis-i-preguntes-teoriques\">3 Exercicis i preguntes teòriques</a></li>\n",
    "    <ul style=\"list-style-type:none\">\n",
    "        <li><a href=\"#3.1-Instruccions-importants\">3.1 Instruccions importants</a></li>\n",
    "    </ul>\n",
    "</ul>"
   ]
  },
  {
   "cell_type": "markdown",
   "metadata": {},
   "source": [
    "<a id='1-Introduccio'></a>\n",
    "# 1 Introducció\n",
    "\n",
    "[SciPy](http://www.scipy.org/) és una llibreria molt important per a la comunitat científica en Python. Com dèiem abans, ha anat incloent poc a poc altres paquets importants com NumPy, SymPy, Matplotlib o el mateix IPython en el qual es coneix com SciPy stack, o la pila de desenvolupament d'eines científiques en Python. El clar avantatge d'integrar els diferents paquets en una llibreria és dissenyar una interfície en comú que permeti la comunicació entre diferents llibreries de desenvolupament. Per exemple, imaginem que volem representar dades de forma matricial (farem servir NumPy per fer-ho), que volem calcular distàncies (farem servir algorismes inclosos en SciPy) o, finalment, que volem representar aquests resultats (Matplotlib va ser dissenyat per a això). Amb tan sols tres línies al començament del nostre codi, tindrem tota la potència d'aquestes llibreries i les dades que gestionin seran compatibles entre elles.\n",
    "\n",
    "Finalment, el paquet principal de SciPy és la SciPy library."
   ]
  },
  {
   "cell_type": "markdown",
   "metadata": {},
   "source": [
    "<a id='2-Recull-exemples'></a>\n",
    "# 2 Recull d'exemples"
   ]
  },
  {
   "cell_type": "markdown",
   "metadata": {},
   "source": [
    "<a id='2.1-Exemple-1'></a>\n",
    "## 2.1. Exemple 1: simulació d'una apocalipsi zombi\n",
    "\n",
    "[Munz i altres al\n",
    "2009](http://mysite.science.uottawa.ca/rsmith43/Zombies.pdf) van definir\n",
    "un model d'invasió zombi mitjançant un sistema d'equacions diferencials\n",
    "ordinàries:\n",
    "\n",
    "-   *dS/dt = P - B\\*S\\*Z - d\\*S*\n",
    "-   *dZ/dt = B\\*S\\*Z + G\\*R - A\\*S\\*Z*\n",
    "-   *dR/dt = d\\*S + A\\*S\\*Z - G\\*R*\n",
    "\n",
    "En què:\n",
    "\n",
    "    S: el nombre de víctimes\n",
    "    Z: el nombre de zombis\n",
    "    R: el nombre de gent assassinada pels zombis\n",
    "    P: la ràtio de naixements\n",
    "    d: la probabilitat de mort natural\n",
    "    B: la probabilitat de propagació de la malaltia zombi (persones vives i sanes)\n",
    "    G: la probabilitat que una persona morta torni a la vida com a zombi\n",
    "    A: la probabilitat que un zombi sigui aniquilat completament"
   ]
  },
  {
   "cell_type": "markdown",
   "metadata": {},
   "source": [
    "SciPy pot resoldre sistemes de primer ordre d'equacions diferencials de\n",
    "manera senzilla. Ens centrarem a resoldre l'expressió: *dy/dt = f(y,\n",
    "t)* on *y = \\[S, Z, R\\]*."
   ]
  },
  {
   "cell_type": "code",
   "execution_count": null,
   "metadata": {},
   "outputs": [],
   "source": [
    "%matplotlib inline\n",
    "\n",
    "# Font del codi: http://wiki.scipy.org/Cookbook/Zombie_Apocalypse_ODEINT\n",
    "\n",
    "import numpy as np\n",
    "import matplotlib.pyplot as plt\n",
    "from scipy.integrate import odeint\n",
    "\n",
    "P = 0       # Ràtio de naixements\n",
    "d = 0.0001  # Percentatge de mort natural (per dia)\n",
    "B = 0.0095  # Percentatge de transmissió  (per dia)\n",
    "G = 0.0001  # Percentatge de resurreccions (per dia)\n",
    "A = 0.0001  # Percentatge de destrucció  (per dia)\n",
    "\n",
    "# Resol el sistema dy/dt = f(y, t):\n",
    "def f(y, t):\n",
    "    Si = y[0]\n",
    "    Zi = y[1]\n",
    "    Ri = y[2]\n",
    "    # El model de Munz et al. 2009\n",
    "    f0 = P - B*Si*Zi - d*Si\n",
    "    f1 = B*Si*Zi + G*Ri - A*Si*Zi\n",
    "    f2 = d*Si + A*Si*Zi - G*Ri\n",
    "    return [f0, f1, f2]\n",
    "\n",
    "# Condicions inicials\n",
    "S0 = 500.               # població inicial\n",
    "Z0 = 0                  # població inicial zombie\n",
    "R0 = 0                  # població inicial muerta\n",
    "y0 = [S0, Z0, R0]       # condicions inicials expressades com un vector\n",
    "t  = np.linspace(0, 5., 1000)   # vector de temps (passos de simulació)\n",
    "\n",
    "# Resolem el sistema:\n",
    "soln = odeint(f, y0, t)\n",
    "S = soln[:, 0]\n",
    "Z = soln[:, 1]\n",
    "R = soln[:, 2]\n",
    "\n",
    "# Representem els resultats:\n",
    "plt.figure()\n",
    "plt.plot(t, S, label='Vius')\n",
    "plt.plot(t, Z, label='Zombis')\n",
    "plt.xlabel(\"Dies des de l'inici\")\n",
    "plt.ylabel(u'Població')\n",
    "plt.title(u'Apocalipsi zombi - Sense naixements ni població morta')\n",
    "plt.legend(loc=0)\n",
    "\n",
    "# Canviem les condicions inicials:\n",
    "R0 = 0.05*S0   # 5% de la població inicial està morta\n",
    "P  = 100       # 100 nous naixements per dia\n",
    "y0 = [S0, Z0, R0]\n",
    "\n",
    "# Tornem a resoldre el sistema:\n",
    "soln = odeint(f, y0, t)\n",
    "S = soln[:, 0]\n",
    "Z = soln[:, 1]\n",
    "R = soln[:, 2]\n",
    "\n",
    "plt.figure()\n",
    "plt.plot(t, S, label='Vius')\n",
    "plt.plot(t, Z, label='Zombis')\n",
    "plt.xlabel(\"Dies des de l'inici\")\n",
    "plt.ylabel(u'Població')\n",
    "plt.title(u'Apocalipsi zombi - 5% població morta, 100 naixements/dia')\n",
    "plt.legend(loc=0)\n",
    "pass"
   ]
  },
  {
   "cell_type": "markdown",
   "metadata": {},
   "source": [
    "<a id='2.2-Exemple-2'></a>\n",
    "## 2.2. Exemple 2: buscant cristalls de proteïnes\n",
    "\n",
    "La criomicroscòpia electrònica és una tècnica de microscòpia molt\n",
    "utilitzada en biologia estructural en què la mostra que s'ha d'estudiar es troba\n",
    "a temperatures criogèniques. La imatge següent és d'una solució de la\n",
    "proteïna GroEL (font: Wikipedia - \"Cryoem groel\", Vossman):\n",
    "\n",
    "<img src=\"files/media/Cryoem_groel.png\">\n",
    "\n",
    "A continuació escriurem un codi que ens permeti comptar el nombre de vidres de\n",
    "GroEL a la imatge:"
   ]
  },
  {
   "cell_type": "code",
   "execution_count": null,
   "metadata": {},
   "outputs": [],
   "source": [
    "%matplotlib inline\n",
    "\n",
    "import numpy as np\n",
    "from scipy import ndimage\n",
    "import matplotlib.image as mpimg\n",
    "import matplotlib.pyplot as plt\n",
    "\n",
    "# Llegim la imatge original.\n",
    "im = mpimg.imread('media/Cryoem_groel.png')\n",
    "# Fem una còpia que utilitzarem per manipular.\n",
    "image = im.copy()\n",
    "\n",
    "# Apliquem un filtre gaussià amb mida de kernel 3.\n",
    "im_g = ndimage.gaussian_filter(image, 3)\n",
    "# Normalitzem\n",
    "im_norm = (im_g - im_g.min()) / (float(im_g.max()) - im_g.min())\n",
    "im_norm[im_norm < 0.5] = 0\n",
    "im_norm[im_norm >= 0.5] = 1\n",
    "\n",
    "# Convertim la imatge resultat per utilitzar la funció d'etiquetatge de Scipy.\n",
    "result = 255 - (im_norm * 255).astype(np.uint8)\n",
    "\n",
    "# Identifiquem el nombre de cristalls i els mostrem.\n",
    "plt.title(u\"Número de cristalls: %d\" % ndimage.label(result)[1])\n",
    "img = plt.imshow(np.asarray(im_norm), interpolation='nearest', extent=[0,200,0,1], aspect=200)\n",
    "plt.show()"
   ]
  },
  {
   "cell_type": "markdown",
   "metadata": {},
   "source": [
    "Aquest codi no és perfecte ja que no estem tenint en compte l'artefacte\n",
    "de la cantonada superior dreta, però ens dona una idea de com aplicar\n",
    "diferents filtres utilitzats en visió per ordinador a _scripts_ de molt\n",
    "poques línies gràcies a SciPy."
   ]
  },
  {
   "cell_type": "markdown",
   "metadata": {},
   "source": [
    "<a id='3-Exercicis-i-preguntes-teoriques'></a>\n",
    "# 3 Exercicis i preguntes teòriques\n",
    "\n",
    "La part avaluable d'aquesta unitat consisteix en el lliurament d'un fitxer IPython Notebook amb extensió IPYNB que contindrà els diferents exercicis i les preguntes teòriques que s'han de contestar. Trobareu el fitxer (`prog_datasci_4_scilib_entrega.ipynb`) amb les activitats a la mateixa carpeta que aquest notebook que esteu llegint. **Hi ha un sol fitxer d'activitats per a tota la unitat, que cobreix totes les llibreries que s'hi treballen.**"
   ]
  },
  {
   "cell_type": "markdown",
   "metadata": {},
   "source": [
    "\n",
    "<a id='3.1-Instruccions-importants'></a>\n",
    "## 3.1 Instruccions importants\n",
    "\n",
    "És molt important que a l'hora de lliurar el fitxer Notebook amb les vostres activitats us assegureu que:\n",
    "\n",
    "1. Les vostres solucions siguin originals. Esperem no detectar-hi còpia directa entre estudiants.\n",
    "2. Tot el codi estigui correctament documentat. El codi sense documentar equivaldrà a un 0.\n",
    "3. El fitxer comprimit que lliureu és correcte (conté les activitats de la PAC que heu de lliurar).\n",
    "\n",
    "Per fer el lliurament, heu d'anar a la carpeta del drive `Colab Notebooks`, clicant botó dret a la PAC en qüestió i fent `Download`. D'aquesta manera, us baixereu la carpeta de la PAC comprimida en `zip`. Aquest és l'arxiu que heu de pujar al campus virtual de l'assignatura. "
   ]
  },
  {
   "cell_type": "markdown",
   "metadata": {},
   "source": [
    "# Autors"
   ]
  },
  {
   "cell_type": "markdown",
   "metadata": {},
   "source": [
    "- Autor original **Brian Jiménez Garcia**, 2016.\n",
    "- Actualitzat per **Cristina Pérez Solà**, 2017 i 2019."
   ]
  },
  {
   "cell_type": "markdown",
   "metadata": {},
   "source": [
    "<div style=\"width: 30%; clear: both;\">\n",
    "    <div style=\"width:0%;\">&nbsp;</div>\n",
    "           <img src=\"https://mirrors.creativecommons.org/presskit/buttons/88x31/png/by-sa.png\">\n",
    "    </div>\n",
    "</div>"
   ]
  }
 ],
 "metadata": {
  "language_info": {
   "name": "python"
  }
 },
 "nbformat": 4,
 "nbformat_minor": 1
}
