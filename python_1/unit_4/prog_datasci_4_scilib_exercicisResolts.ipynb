{
 "cells": [
  {
   "cell_type": "markdown",
   "metadata": {},
   "source": [
    "<div style=\"width: 100%; clear: both;\">\n",
    "    <div style=\"float: left; width: 50%;\">\n",
    "       <img src=\"http://www.uoc.edu/portal/_resources/common/imatges/marca_UOC/UOC_Masterbrand.jpg\", align=\"left\">\n",
    "    </div>\n",
    "</div>\n",
    "\n",
    "<div style=\"float: right; width: 50%;\">\n",
    "    <p style=\"margin: 0; padding-top: 22px; text-align:right;\">22.401 · Fonaments de Programació</p>\n",
    "    <p style=\"margin: 0; text-align:right;\">Grau en Ciència de Dades Aplicada</p>\n",
    "    <p style=\"margin: 0; text-align:right; padding-button: 100px;\">Estudis d'Informàtica, Multimèdia i Telecomunicació</p>\n",
    "</div>\n",
    "\n",
    "</div>\n",
    "<div style=\"width: 100%; clear: both;\">\n",
    "<div style=\"width:100%;\">&nbsp;</div>"
   ]
  },
  {
   "cell_type": "markdown",
   "metadata": {},
   "source": [
    "Fonaments de Programació\n",
    "============================\n",
    "\n",
    "Unitat 4: Llibreries científiques en Python - Exercicis resolts\n",
    "-----------------------------------------------------\n"
   ]
  },
  {
   "cell_type": "markdown",
   "metadata": {},
   "source": [
    "En aquest Notebook hi trobareu un conjunt d'exercicis per practicar. Aquests exercicis no puntuen per a la PAC, però us recomanem que els intenteu resoldre com a part del procés d'aprenentatge. Trobareu exemples de possibles solucions als exercicis al propi notebook, però és important que intenteu resoldre'ls vosaltres abans de consultar les solucions. Les solucions us han de permetre validar les vostres respostes, així com veure alternatives de resolució de les activitats. També us animem a preguntar qualsevol dubte que us sorgeixi sobre la resolució de les activitats per practicar al fòrum de l'aula.\n",
    "\n",
    "----\n",
    "## Preguntes i exercicis per a practicar\n"
   ]
  },
  {
   "cell_type": "markdown",
   "metadata": {},
   "source": [
    "### Exercici 1\n",
    "Calculeu la norma i el determinant de la següent matriu: ```[[1, 0], [2, -1]]```."
   ]
  },
  {
   "cell_type": "code",
   "execution_count": null,
   "metadata": {},
   "outputs": [],
   "source": [
    "# Resposta"
   ]
  },
  {
   "cell_type": "markdown",
   "metadata": {},
   "source": [
    "### Exercici 2\n",
    "\n",
    "Genereu una llista de 100 valors enters aleatoris de 0-9. Realitzeu els següents càlculs utilitzant mètodes de _numpy_ :\n",
    "- Mitjana i desviació estàndard dels valors de la llista\n",
    "- Valor màxim i mínim\n",
    "- Sumeu tots els valors de la llista\n",
    "- Aconseguiu una llista de valors únics\n"
   ]
  },
  {
   "cell_type": "code",
   "execution_count": null,
   "metadata": {},
   "outputs": [],
   "source": [
    "# Resposta"
   ]
  },
  {
   "cell_type": "markdown",
   "metadata": {},
   "source": [
    "### Exercici 3\n",
    "Creeu una matriu 10x10 que correspongui amb la [matriu identitat](https://cat.wikipedia.org/wiki/Matriu_identitat) utilitzant generadors bàsics d'arrays. Creeu una matriu identitat 10x10 (aquest cop utilitzant generadors específics de matrius identitat) i comproveu que ambdues matrius són iguals.\n",
    "\n",
    "**Consideracions**:\n",
    "- La primera matriu ha de crear-se utilitzant constructors bàsics d'arrays, com els presentats als Notebooks de teoria.\n",
    "* La segona matriu ha de generar-se utilitzant el generador de matrius identitat de numpy.\n",
    "* La comparació ha de retornar True si les matrius són iguals (un únic True), False en cas contrari."
   ]
  },
  {
   "cell_type": "code",
   "execution_count": null,
   "metadata": {},
   "outputs": [],
   "source": [
    "# Resposta"
   ]
  },
  {
   "cell_type": "markdown",
   "metadata": {},
   "source": [
    "### Exercici 4\n",
    "\n",
    "Ordeneu la matriu bidimensional ```[[5,1,7], [0,7,4], [7,23,1]]``` per columnes utilitzant com a algorisme d'ordenació el [Heapsort](https://en.wikipedia.org/wiki/Heapsort). \n",
    "\n",
    "**Nota:** Per resoldre aquest exercici us pot ser d'utilitat la funció [sort](https://docs.scipy.org/doc/numpy/reference/generated/numpy.sort.html#numpy.sort) de Numpy que ens permet ordenar els elements d'un array N-dimensional."
   ]
  },
  {
   "cell_type": "code",
   "execution_count": null,
   "metadata": {},
   "outputs": [],
   "source": [
    "# Resposta"
   ]
  },
  {
   "cell_type": "markdown",
   "metadata": {},
   "source": [
    "### Exercici 5\n",
    "\n",
    "Creeu una matriu, I, de mida 10x10 on tots els seus elements tindran el valor ```0``` utilitzant generadors de matrius de numpy. Modifiqueu la matriu anterior de tal forma que ```I[i, j] = i * j``` per tot ```i``` i ```j``` parells, és a dir, per a totes les posicions on tant `i` com `j` són parells."
   ]
  },
  {
   "cell_type": "code",
   "execution_count": null,
   "metadata": {},
   "outputs": [],
   "source": [
    "# Resposta"
   ]
  },
  {
   "cell_type": "markdown",
   "metadata": {},
   "source": [
    "### Exercici 6\n",
    "\n",
    "Considereu la matriu [[1, 2, 3], [4, 5, 6]]. Transformeu-la en la matriu 1D [1, 2, 3, 4, 5, 6]. \n",
    "\n",
    "**Nota:** Per resoldre aquest exercici us poden ser d'utilitat les funcions [ravel](https://docs.scipy.org/doc/numpy/reference/generated/numpy.ravel.html) o [flatten](https://docs.scipy.org/doc/numpy/reference/generated/numpy.ndarray.flatten.html) de Numpy que ens permeten transformar un array 2D numpy a 1D."
   ]
  },
  {
   "cell_type": "code",
   "execution_count": null,
   "metadata": {},
   "outputs": [],
   "source": [
    "# Resposta"
   ]
  },
  {
   "cell_type": "markdown",
   "metadata": {},
   "source": [
    "### Exercici 7\n",
    "\n",
    "Creeu una matriu, Z, de mida 8x8 que vagi alternant els valors 0 i 1, seguint un patró de taulell de dames. "
   ]
  },
  {
   "cell_type": "code",
   "execution_count": null,
   "metadata": {},
   "outputs": [],
   "source": [
    "# Resposta"
   ]
  },
  {
   "cell_type": "markdown",
   "metadata": {},
   "source": [
    "### Exercici 8\n",
    "\n",
    "L'arxiu `us_births.csv` conté dades dels naixements a Estats Units durant els anys 1994-2003. Carregueu l'arxiu representeu de forma gràfica els naixements agrupats por mes i any. Utilitzeu un gràfic 2D de tipus _scatter_. \n",
    "\n",
    "*Consideracions:*\n",
    "* La figura ha de contenir 10 gràfics (1 per any)\n",
    "* El valor de cada punt ha de correspondre amb el total de naixements per any i mes.\n",
    "* Incloeu una llegenda que contingui els anys. Podeu diferenciar cada gràfic como millor us sembli (diferents símbols / colors / combinació de les dues)"
   ]
  },
  {
   "cell_type": "code",
   "execution_count": null,
   "metadata": {},
   "outputs": [],
   "source": [
    "# Resposta"
   ]
  },
  {
   "cell_type": "markdown",
   "metadata": {},
   "source": [
    "### Exercici 9\n",
    "\n",
    "Carregueu les dades de l'arxiu `company_sales.csv`, que podeu trobar a la carpeta data, en forma de dataframe. Aquest conjunt de dades recull informació sobre les vendes mensuals d'una empresa de cosmètica i productes d'higiene. \n",
    "\n",
    "Part A: \n",
    "\n",
    "Mostreu un gràfic de línies de punts de les vendes totals (*total_profit*) per cada mes (els mesos estan numerats d'1 a 12). \n",
    "\n",
    "\n",
    "*Consideracions:*\n",
    "\n",
    "* La línia ha de ser amb punts (*dotted line*) de color vermell i de grandària 3. \n",
    "* S'ha de mostrar la llegenda a la part inferior dreta. \n",
    "\n",
    "\n",
    "\n",
    "Part B:\n",
    "\n",
    "Mostreu un gràfic circular (*pie chart*) amb el número d'unitats venudes aquest any per producte en percentatge. \n",
    "\n",
    "\n",
    "*Consideracions:*\n",
    "\n",
    "* Heu d'incloure el percentatge (%) de cada producte dins del seu respectiu espai del gràfic.\n",
    "* S'ha de mostrar la llegenda a la part dreta. "
   ]
  },
  {
   "cell_type": "code",
   "execution_count": null,
   "metadata": {},
   "outputs": [],
   "source": [
    "# Resposta"
   ]
  },
  {
   "cell_type": "markdown",
   "metadata": {},
   "source": [
    "### Exercici 10\n",
    "\n",
    "Carregueu les dades de l'arxiu `got.csv` a un _dataframe_. Aquest conjunt de dades recull informació de la [Guerra dels Cinc Reis](https://awoiaf.westeros.org/index.php/War_of_the_Five_Kings) de les novel·les de [Cançó de gel i de foc](https://ca.wikipedia.org/wiki/Can%C3%A7%C3%B3_de_gel_i_de_foc) de George R.R Martin.\n",
    "\n",
    "Mostreu el número de files del _dataframe_ i les etiquetes dels eixos. "
   ]
  },
  {
   "cell_type": "code",
   "execution_count": null,
   "metadata": {},
   "outputs": [],
   "source": [
    "# Resposta"
   ]
  },
  {
   "cell_type": "markdown",
   "metadata": {},
   "source": [
    "### Exercici 11\n",
    "\n",
    "Agrupeu les dades carregades a l'exercici 1 pel principal bàndol atacant (*attacker\\_1*). Per cada posició, mostreu el número de batalles i el resultat de la batalla (el resultat es troba al camp *attacker\\_outcome*). "
   ]
  },
  {
   "cell_type": "code",
   "execution_count": null,
   "metadata": {},
   "outputs": [],
   "source": [
    "# Resposta"
   ]
  },
  {
   "cell_type": "markdown",
   "metadata": {},
   "source": [
    "### Exercici 12\n",
    "\n",
    "Mostreu les dades de las batalles on el número de participants supera els 15000 \"homes\" (comptant els dos bàndols: *attacker\\_size* i *defender\\_size*), el resultat hagi estat desfavorable per l'atacant, i la batalla hagi estat a l'hivern ( _summer_ = 0)."
   ]
  },
  {
   "cell_type": "code",
   "execution_count": null,
   "metadata": {},
   "outputs": [],
   "source": [
    "# Resposta"
   ]
  },
  {
   "cell_type": "markdown",
   "metadata": {},
   "source": [
    "### Exercici 13\n",
    "\n",
    "Compteu quants llocs apareixen més d'un cop al _dataframe_ (camp *location*), utilitzant les funcions de la llibreria _pandas_. Existeix algun lloc on hi hagi hagut més d'una batalla? Comproveu quins bàndols hi estaven implicats."
   ]
  },
  {
   "cell_type": "code",
   "execution_count": null,
   "metadata": {},
   "outputs": [],
   "source": [
    "# Resposta"
   ]
  },
  {
   "cell_type": "markdown",
   "metadata": {},
   "source": [
    "### Exercici 14\n",
    "\n",
    "Carregueu les dades de l'arxiu `netflixtitles.csv`, que podeu trobar a la carpeta `data`, en un _dataframe_. Aquest conjunt de dades recull informació sobre pel·lícules i sèries de TV de [Netflix](https://www.kaggle.com/shivamb/netflix-shows) fins el 2019.  \n",
    "\n",
    "Mostreu les pel·lícules estrenades el _2019_ que tenen una duració superior a _100_ minuts. Heu de mostrar com a resultat una llista dels títols **sense repetir**.\n",
    "\n",
    "**Nota:** Al Notebook de teoria hem vist operacions bàsiques de filtrat. Per resoldre aquest exercici us caldrà investigar com aplicar condicions més complexes. \n",
    "\n",
    "**Nota 2:** Els valors de la columna de duració (*duration*) són strings, ja que combinen números i lletres. Per tant, s'han de transformar a int un cop s'hagi construit el subset de dades de pel·lícules. Us pot ser d'utilitat la funció [astype](https://pandas.pydata.org/pandas-docs/stable/reference/api/pandas.DataFrame.astype.html) de pandas."
   ]
  },
  {
   "cell_type": "code",
   "execution_count": null,
   "metadata": {},
   "outputs": [],
   "source": [
    "# Resposta"
   ]
  },
  {
   "cell_type": "markdown",
   "metadata": {},
   "source": [
    "----\n",
    "## Solucions als exercicis per a practicar"
   ]
  },
  {
   "cell_type": "markdown",
   "metadata": {},
   "source": [
    "### Exercici 1\n",
    "Calculeu la norma i el determinant de la següent matriu: ```[[1, 0], [2, -1]]```."
   ]
  },
  {
   "cell_type": "code",
   "execution_count": null,
   "metadata": {},
   "outputs": [],
   "source": [
    "# Carreguem les llibreries necessàries\n",
    "import numpy as np\n",
    "\n",
    "# Creem la matriu com a array bidimensional\n",
    "m = np.array([[1, 0], [2, -1]])\n",
    "\n",
    "# Calculem la normal i el determinant utilitzant el mòdul linalg\n",
    "norm = np.linalg.norm(m)\n",
    "det = np.linalg.det(m)\n",
    "\n",
    "print(\"La matriu m és:\", m)\n",
    "print(\"La norma de m és: \", norm)\n",
    "print(\"El determinant de m és:\", det)"
   ]
  },
  {
   "cell_type": "markdown",
   "metadata": {},
   "source": [
    "### Exercici 2\n",
    "\n",
    "Genereu una llista de 100 valors enters aleatoris de 0-9. Realitzeu els següents càlculs utilitzant mètodes de _numpy_ :\n",
    "- Mitjana i desviació estàndard dels valors de la llista\n",
    "- Valor màxim i mínim\n",
    "- Sumeu tots els valors de la llista\n",
    "- Aconseguiu una llista de valors únics"
   ]
  },
  {
   "cell_type": "code",
   "execution_count": null,
   "metadata": {},
   "outputs": [],
   "source": [
    "# Carreguem les llibreries necessàries\n",
    "from random import randint\n",
    "import numpy as np\n",
    "\n",
    "# Utilitzem la funció randint del mòdul random i list comprehensions per a generar la llista, com ja havíem vist a\n",
    "# unitats anteriors\n",
    "rand_ints = [randint(0, 9) for _ in range(100)]\n",
    "\n",
    "# Per a calcular la mitjana i la desviació estàndard utilitzem les funcions mean y std (standard deviation) \n",
    "#respectivament\n",
    "m = np.mean(rand_ints)\n",
    "std = np.std(rand_ints)\n",
    "\n",
    "print(\"La nostra llista de valors aleatoris és:\", rand_ints)\n",
    "print(\"La seva mitjana és %f, i la seva desviació estàndard és %f\" %(m, std))\n",
    "\n",
    "# Per als valors màxim i mínim, utilitzem max i min\n",
    "max_val = np.max(rand_ints)\n",
    "min_val = np.min(rand_ints)\n",
    "\n",
    "print(\"Els seus valors màxim i mínim són, respectivament: %d i %d\" %(max_val, min_val))\n",
    "\n",
    "# Per a sumar tots els elements de la llista, la funció sum\n",
    "sum_values = np.sum(rand_ints)\n",
    "\n",
    "print(\"El resultat de la suma de tots els valors de la llista és\", sum_values) \n",
    "\n",
    "# I finalment per a aconseguir una llista de valors únics, la funció unique\n",
    "unique_values = np.unique(rand_ints)\n",
    "\n",
    "print(\"I la llista de valors únics és\", unique_values)\n"
   ]
  },
  {
   "cell_type": "markdown",
   "metadata": {},
   "source": [
    "### Exercici 3\n",
    "Creeu una matriu 10x10 que correspongui amb la [matriu identitat](https://cat.wikipedia.org/wiki/Matriu_identitat) utilitzant generadors bàsics d'arrays. Creeu una matriu identitat 10x10 (aquest cop utilitzant generadors específics de matrius identitat) i comproveu que ambdues matrius són iguals.\n",
    "\n",
    "**Consideracions**:\n",
    "- La primera matriu ha de crear-se utilitzant constructors bàsics d'arrays, com els presentats als Notebooks de teoria.\n",
    "* La segona matriu ha de generar-se utilitzant el generador de matrius identitat de numpy.\n",
    "* La comparació ha de retornar True si les matrius són iguals (un únic True), False en cas contrari."
   ]
  },
  {
   "cell_type": "code",
   "execution_count": null,
   "metadata": {},
   "outputs": [],
   "source": [
    "# Carreguem les llibreries necessàries\n",
    "import numpy as np\n",
    "\n",
    "# Podem definir la matriu de forma manual com una llista de llistes\n",
    "m0 = np.array([[1, 0, 0, 0, 0, 0, 0, 0, 0, 0,], [0, 1, 0, 0, 0, 0, 0, 0, 0, 0,], \n",
    "              [0, 0, 1, 0, 0, 0, 0, 0, 0, 0], [0, 0, 0, 1, 0, 0, 0, 0, 0, 0], \n",
    "              [0, 0, 0, 0, 1, 0, 0, 0, 0, 0], [0, 0, 0, 0, 0, 1, 0, 0, 0, 0],\n",
    "              [0, 0, 0, 0, 0, 0, 1, 0, 0, 0], [0, 0, 0, 0, 0, 0, 0, 1, 0, 0],\n",
    "              [0, 0, 0, 0, 0, 0, 0, 0, 1, 0], [0, 0, 0, 0, 0, 0, 0, 0, 0, 1]])\n",
    "\n",
    "# O començant per una 10x10 amb tot zeros i assignar uns a la diagonal \n",
    "# recorrent la matriu per files i columnes\n",
    "m1 = np.zeros((10,10), dtype=int)\n",
    "for i, r in enumerate(m1):\n",
    "    r[i] = 1\n",
    "\n",
    "# Per altra banda, definim la identitat 10x10 utilitzant el constructor “built-in\"\n",
    "m2 = np.identity(10, dtype=int)\n",
    "\n",
    "# I realitzem la comparació. Per fer-ho podem utilitzar el mètode array_equal de numpy\n",
    "# que ens compara si dos arrays són iguals\n",
    "print(np.array_equal(m0, m2))\n",
    "print(np.array_equal(m1, m2))\n",
    "\n",
    "# També podem comprovar que la comparació falla si modifiquem qualsevol valor de la matriu\n",
    "m0[1, 2] = 1\n",
    "print(np.array_equal(m0, m2))"
   ]
  },
  {
   "cell_type": "markdown",
   "metadata": {},
   "source": [
    "### Exercici 4\n",
    "\n",
    "Ordeneu la matriu bidimensional ```[[5,1,7], [0,7,4], [7,23,1]]``` per columnes utilitzant com a algorisme d'ordenació el [Heapsort](https://en.wikipedia.org/wiki/Heapsort). \n",
    "\n",
    "**Nota:** Per resoldre aquest exercici us pot ser d'utilitat la funció [sort](https://docs.scipy.org/doc/numpy/reference/generated/numpy.sort.html#numpy.sort) de Numpy que ens permet ordenar els elements d'un array N-dimensional."
   ]
  },
  {
   "cell_type": "code",
   "execution_count": null,
   "metadata": {},
   "outputs": [],
   "source": [
    "# Carreguem les llibreries necessàries\n",
    "import numpy as np\n",
    "\n",
    "# Creem la matriu indicada a l'enunciat\n",
    "matriu_ex3 = [[5,1,7], [0,7,4], [7,23,1]]\n",
    "\n",
    "# Utilitzem la funció sort de numpy per ordenar la matriu anterior.\n",
    "# El paràmetre axis = 0 ens indica que volem ordenar per columnes \n",
    "# i el paràmetre kind ens permet especificar l'algoritme d'ordenació, en aquest cas 'heapsort'.\n",
    "np.sort(matriu_ex3, axis=0, kind='heapsort')"
   ]
  },
  {
   "cell_type": "markdown",
   "metadata": {},
   "source": [
    "### Exercici 5\n",
    "\n",
    "Creeu una matriu, I, de mida 10x10 on tots els seus elements tindran el valor ```0``` utilitzant generadors de matrius de numpy. Modifiqueu la matriu anterior de tal forma que ```I[i, j] = i * j``` per tot ```i``` i ```j``` parells, és a dir, per a totes les posicions on tant `i` com `j` són parells."
   ]
  },
  {
   "cell_type": "code",
   "execution_count": null,
   "metadata": {},
   "outputs": [],
   "source": [
    "# Carreguem les llibreries necessàries\n",
    "import numpy as np\n",
    "\n",
    "# Definim un parell de constants pel nombre de files i columnes\n",
    "NUM_FILES = 10\n",
    "NUM_COLUMNES = 10\n",
    "\n",
    "# Creem una matriu de 10x10 on tots els valors seran 0.\n",
    "# Per aconseguir-ho utilitzem la funció zeros que hem vist al Notebook de teoria.\n",
    "matriu_ex4 = np.zeros((NUM_FILES, NUM_COLUMNES))\n",
    "\n",
    "# Mostrem la matriu original per pantalla\n",
    "print(matriu_ex4)\n",
    "\n",
    "# Iterem sobre totes les files i columnes de la matriu generada utilitzant un doble bucle for.\n",
    "# El primer bucle ens recorrerà l'index de les files, mentre que el segon bucle ens recorrerà \n",
    "# l'index de les columnes.\n",
    "for i in range(0, NUM_FILES):\n",
    "    for j in range(0, NUM_COLUMNES):\n",
    "        # Comprovem que l'index de la fila i l'index de la columna siguin tots dos parells.\n",
    "        if i % 2 == 0 and j % 2 == 0:\n",
    "            # En cas afirmatiu, passem a realitzar l'assignació indicada.\n",
    "            matriu_ex4[i, j] = i * j\n",
    "\n",
    "# Mostrem el resultat final per pantalla\n",
    "print(matriu_ex4)"
   ]
  },
  {
   "cell_type": "markdown",
   "metadata": {},
   "source": [
    "### Exercici 6\n",
    "\n",
    "Considereu la matriu [[1, 2, 3], [4, 5, 6]]. Transformeu-la en la matriu 1D [1, 2, 3, 4, 5, 6]. \n",
    "\n",
    "**Nota:** Per resoldre aquest exercici us poden ser d'utilitat les funcions [ravel](https://docs.scipy.org/doc/numpy/reference/generated/numpy.ravel.html) o [flatten](https://docs.scipy.org/doc/numpy/reference/generated/numpy.ndarray.flatten.html) de Numpy que ens permeten transformar un array 2D numpy a 1D."
   ]
  },
  {
   "cell_type": "code",
   "execution_count": null,
   "metadata": {},
   "outputs": [],
   "source": [
    "# Carreguem les llibreries necessàries\n",
    "import numpy as np\n",
    "\n",
    "# Creem la matriu indicada a l'enunciat\n",
    "matriu_ex6 =  np.array([[1, 2, 3], [4, 5, 6]])\n",
    "\n",
    "#Opció 1: ravel\n",
    "out1 = np.ravel(matriu_ex6)\n",
    "print('Opció 1: ravel\\n',out1)\n",
    "\n",
    "#Opció 2: flatten\n",
    "out2 = matriu_ex6.flatten()\n",
    "print('Opció 2: flatten\\n',out1)"
   ]
  },
  {
   "cell_type": "markdown",
   "metadata": {},
   "source": [
    "### Exercici 7\n",
    "\n",
    "Creeu una matriu, Z, de mida 8x8 que vagi alternant els valors 0 i 1, seguint un patró de taulell de dames. "
   ]
  },
  {
   "cell_type": "code",
   "execution_count": null,
   "metadata": {},
   "outputs": [],
   "source": [
    "# Carreguem les llibreries necessàries\n",
    "import numpy as np\n",
    "import matplotlib.pyplot as plt\n",
    "\n",
    "# Creem una matriu de zeros 8x8\n",
    "Z = np.zeros((8,8),dtype=int)\n",
    "\n",
    "# Començant en la fila 1 i cada 2, posem 1 cada 2 columnes\n",
    "Z[1::2,::2] = 1\n",
    "\n",
    "# Començant en columna 1 i cada 2, posem 1 cada 2 files\n",
    "Z[::2,1::2] = 1\n",
    "print(Z)"
   ]
  },
  {
   "cell_type": "markdown",
   "metadata": {},
   "source": [
    "### Exercici 8\n",
    "\n",
    "L'arxiu `us_births.csv` conté dades dels naixements a Estats Units durant els anys 1994-2003. Carregueu l'arxiu representeu de forma gràfica els naixements agrupats por mes i any. Utilitzeu un gràfic 2D de tipus _scatter_. \n",
    "\n",
    "*Consideracions:*\n",
    "* La figura ha de contenir 10 gràfics (1 per any)\n",
    "* El valor de cada punt ha de correspondre amb el total de naixements per any i mes.\n",
    "* Incloeu una llegenda que contingui els anys. Podeu diferenciar cada gràfic como millor us sembli (diferents símbols / colors / combinació de les dues)"
   ]
  },
  {
   "cell_type": "code",
   "execution_count": null,
   "metadata": {},
   "outputs": [],
   "source": [
    "# Carreguem les llibreries necessàries\n",
    "%matplotlib inline\n",
    "import pandas as pd\n",
    "import matplotlib.pyplot as plt\n",
    "import numpy as np\n",
    "\n",
    "# Carreguem les dades del fitxer\n",
    "data = pd.read_csv('data/us_births.csv')\n",
    "\n",
    "# Les agrupem per any i mes\n",
    "grouped = data.groupby(['year', 'month'])\n",
    "\n",
    "# Grouped conté un conjunt de dataframes identificats per any i mes, però les dades\n",
    "# referents al naixements a cada dataframe encara estan separades per dia.\n",
    "# Sumem els naixements de cada mes.\n",
    "parsed_years = grouped['births'].sum()\n",
    "\n",
    "# Separem les dades en una matriu de 10x12 (10 anys amb 12 mesos per any)\n",
    "parsed_years = np.array(parsed_years).reshape(10, 12)\n",
    "\n",
    "# Arribats a aquest punt ja tenim les dades llistes per ser mostrades, ara ens toca\n",
    "# definir els atributs del gràfic (eixos, colors, etc.)\n",
    "\n",
    "# Representarem els mesos con una llista de 1 a 12\n",
    "months = range(1, 13, 1)\n",
    "\n",
    "# I els anys (per a la llegenda) amb el seu valor. Podem generar la llista a mà o obtenirla\n",
    "# com els valores únics de la columna years\n",
    "years = data['year'].unique()\n",
    "\n",
    "# Finalment definim una llista amb 10 colors, un per a cada any\n",
    "colours = ['b', 'g', 'r', 'c', 'm', 'y', 'k', 'burlywood', 'chartreuse']\n",
    "\n",
    "# Un cop tenim els eixos, colors i dades definides, podem generar un scatter per cada any\n",
    "# cada punt a la gràfica (x, y) vindrà definit pels elements de les llistes months i year_data\n",
    "# label definirà quina etiqueta se li donarà al scatter a la llegenda, i correspondrà amb l’any\n",
    "for year_data, y, c in zip(parsed_years, years, colours):\n",
    "    plt.scatter(months, year_data, color=c, label=y)\n",
    "\n",
    "# I finalment incloem també la llegenda (loc=0 la posiciona “al millor lloc” dins \n",
    "# del limit del gràfic). I mostrem la figura. \n",
    "plt.legend(loc=0)\n",
    "plt.show()"
   ]
  },
  {
   "cell_type": "markdown",
   "metadata": {},
   "source": [
    "### Exercici 9\n",
    "\n",
    "Carregueu les dades de l'arxiu `company_sales.csv`, que podeu trobar a la carpeta `data`, en forma de *dataframe*. Aquest conjunt de dades recull informació sobre les vendes mensuals d'una empresa de cosmètica i productes d'higiene. \n",
    "\n",
    "Part A: \n",
    "\n",
    "Mostreu un gràfic de línies de punts de les vendes totals (*total_profit*) per cada mes (els mesos estan numerats d'1 a 12). \n",
    "\n",
    "\n",
    "*Consideracions:*\n",
    "\n",
    "* La línia ha de ser amb punts (*dotted line*) de color vermell i de grandària 3. \n",
    "* S'ha de mostrar la llegenda a la part inferior dreta. \n",
    "\n",
    "\n",
    "\n",
    "Part B:\n",
    "\n",
    "Mostreu un gràfic circular (*pie chart*) amb el número d'unitats venudes aquest any per producte en percentatge. \n",
    "\n",
    "\n",
    "*Consideracions:*\n",
    "\n",
    "* Heu d'incloure el percentatge (%) de cada producte dins del seu respectiu espai del gràfic.\n",
    "* S'ha de mostrar la llegenda a la part dreta. "
   ]
  },
  {
   "cell_type": "code",
   "execution_count": null,
   "metadata": {},
   "outputs": [],
   "source": [
    "# Carreguem les llibreries necessàries\n",
    "import pandas as pd\n",
    "import matplotlib.pyplot as plt  \n",
    "\n",
    "# Importem el fitxer a un dataframe de pandas\n",
    "df = pd.read_csv(\"data/company_sales.csv\")\n",
    "\n",
    "# Seleccionem les dues columnes que ens interessen\n",
    "profitList = df ['total_profit']\n",
    "monthList  = df ['month_number']\n",
    "\n",
    "# Grafiquem els guanys (y) en funció del mes (x), amb les característiques demanades a l'enunciat\n",
    "plt.plot(monthList, profitList, label = 'Guanys any anterior', \n",
    "      color='r', marker='o', markerfacecolor='k', \n",
    "      linestyle='--', linewidth=3)\n",
    "\n",
    "# Especifiquem la informació dels eixos\n",
    "plt.xlabel('Número de mes')\n",
    "plt.ylabel('Guanys')\n",
    "plt.legend(loc='lower right')\n",
    "plt.title('Vendes del 2019')\n",
    "plt.xticks(monthList)\n",
    "plt.yticks([100000, 200000, 300000, 400000])\n",
    "plt.show()"
   ]
  },
  {
   "cell_type": "code",
   "execution_count": null,
   "metadata": {},
   "outputs": [],
   "source": [
    "# Carreguem les llibreries necessàries\n",
    "import pandas as pd\n",
    "import matplotlib.pyplot as plt  \n",
    "\n",
    "# Importem el fitxer a un dataframe de pandas\n",
    "df = pd.read_csv(\"data/company_sales.csv\")\n",
    "\n",
    "# Creem un vector amb la suma de cada un dels productes\n",
    "salesData   = [df ['facecream'].sum(), df ['facewash'].sum(), df ['toothpaste'].sum(), \n",
    "         df ['bathingsoap'].sum(), df ['shampoo'].sum(), df ['moisturizer'].sum()]\n",
    "\n",
    "# Creem la informació per la llegenda\n",
    "labels = ['FaceCream', 'FaseWash', 'ToothPaste', 'Bathing soap', 'Shampoo', 'Moisturizer']\n",
    "\n",
    "# Especifiquem la informació dels eixos\n",
    "plt.axis(\"equal\")\n",
    "plt.pie(salesData, labels=labels, autopct='%1.1f%%') # autopct mostra el percentatge (%)\n",
    "plt.legend(loc='center left', bbox_to_anchor=(1, 0.5))\n",
    "plt.title('Vendes del 2019')\n",
    "plt.show()"
   ]
  },
  {
   "cell_type": "markdown",
   "metadata": {},
   "source": [
    "### Exercici 10\n",
    "\n",
    "Carregueu les dades de l'arxiu `got.csv` a un _dataframe_. Aquest conjunt de dades recull informació de la [Guerra dels Cinc Reis](https://awoiaf.westeros.org/index.php/War_of_the_Five_Kings) de les novel·les de [Cançó de gel i de foc](https://ca.wikipedia.org/wiki/Can%C3%A7%C3%B3_de_gel_i_de_foc) de George R.R Martin.\n",
    "\n",
    "Mostreu el número de files del _dataframe_ i les etiquetes dels eixos. "
   ]
  },
  {
   "cell_type": "code",
   "execution_count": null,
   "metadata": {},
   "outputs": [],
   "source": [
    "# Carreguem les llibreries necessàries\n",
    "import pandas as pd\n",
    "\n",
    "# Llegim l'arxiu csv amb el metode read_csv\n",
    "data = pd.read_csv('data/got.csv')\n",
    "\n",
    "# Mostrem el numero de files\n",
    "print(\"Número de files:\", len(data))\n",
    "\n",
    "# Mostrem les etiquetes dels eixos\n",
    "print(\"Etiquetes:\", data.axes)"
   ]
  },
  {
   "cell_type": "markdown",
   "metadata": {},
   "source": [
    "### Exercici 11\n",
    "\n",
    "Agrupeu les dades carregades a l'exercici 10 pel principal bàndol atacant (*attacker\\_1*). Per cada posició, mostreu el número de batalles i el resultat de la batalla (el resultat es troba al camp *attacker\\_outcome*). "
   ]
  },
  {
   "cell_type": "code",
   "execution_count": null,
   "metadata": {},
   "outputs": [],
   "source": [
    "# Tal i com estava definit l'enunciat es podia interpretar de dues formes: \n",
    "# 1 - que es mostrés el número de batalles guanyades i perdudes per cada bàndol\n",
    "# 2 - que es mostrés el número de batalla (identificador) i el resultat d'aquesta per cada\n",
    "#     bàndol.\n",
    "# Resoldrem els dos casos.\n",
    "\n",
    "# Carreguem les llibreries necessàries\n",
    "import pandas as pd\n",
    "import numpy as np\n",
    "\n",
    "# En qualsevol dels casos hem de carregar les dades i agrupar-les per el bàndol atacant\n",
    "data = pd.read_csv('data/got.csv')\n",
    "grouped = data.groupby('attacker_1')\n",
    "\n",
    "\n",
    "# Cas 1. Cada grup conté com a etiqueta el bàndol (primera dada que ens demanen) i com \n",
    "# a dades un dataframe. Podem accedir a cadascuna de les columnes com si d'un diccionari\n",
    "# es tractés, i extreure els seus valors.\n",
    "print(\"CAS 1:\\n\")\n",
    "# Per a cada agrupació\n",
    "for name, g in grouped:\n",
    "    # Mostrem el bàndol\n",
    "    print(name)\n",
    "    # Mostrem el numero de batalla i el resultat per a cada batalla\n",
    "    for battle, outcome in zip(g['battle_number'].values, g['attacker_outcome'].values):\n",
    "        print(\"battle: %s, outcome: %s\" % (battle, outcome))\n",
    "\n",
    "\n",
    "# Cas 2. L'estructura és la mateixa que en el cas anterior, però ara hem de comptar quantes\n",
    "# batalles s'han guanyat o perdut.\n",
    "print(\"\\n---------------------\\n\")\n",
    "print(\"CAS 2: \\n\")\n",
    "for name, g in grouped:\n",
    "    # Comencem comptant el numero de batalles extraient l'informació del dataframe\n",
    "    outcome = g['attacker_outcome'].values\n",
    "    s = len(outcome)\n",
    "\n",
    "    # Després comptem quantes han estat guanyades i perdudes\n",
    "    # count_nonzero avalua una expressió booleana i retorna el numero de coincidències\n",
    "    # que no son zero\n",
    "    w = np.count_nonzero(outcome == 'win')\n",
    "    l = np.count_nonzero(outcome == 'loss')\n",
    "\n",
    "    # Podem fer el mateix utilitzant count si transformem outcome a una llista\n",
    "    outcome = list(outcome)\n",
    "    w = outcome.count('win')\n",
    "    l = outcome.count('loss')\n",
    "\n",
    "    # Finalment mostrem el resultat\n",
    "    print(name)\n",
    "    print(\"total: %s, won: %s, lost: %s\" % (s, w, l))"
   ]
  },
  {
   "cell_type": "markdown",
   "metadata": {},
   "source": [
    "### Exercici 12\n",
    "\n",
    "Mostreu les dades de las batalles on el número de participants supera els 15000 \"homes\" (comptant els dos bàndols: *attacker\\_size* i *defender\\_size*), el resultat hagi estat desfavorable per l'atacant, i la batalla hagi estat a l'hivern ( _summer_ = 0)."
   ]
  },
  {
   "cell_type": "code",
   "execution_count": null,
   "metadata": {},
   "outputs": [],
   "source": [
    "# Carreguem les llibreries necessàries\n",
    "import pandas as pd\n",
    "\n",
    "# Carreguem les dades\n",
    "data = pd.read_csv('data/got.csv')\n",
    "\n",
    "# Definim les condicions\n",
    "# La suma de les tropes atacants i defensores ha de ser superior a 15000\n",
    "size_cond = (data['attacker_size'] + data['defender_size'] > 15000)\n",
    "# El resultat ha de ser desfavorable per l'atacant\n",
    "outcome_cond = data['attacker_outcome'] == 'loss'\n",
    "# I la batalla ha d'haver succeït a l'hivern\n",
    "seasson_cond = data['summer'] == 0\n",
    "\n",
    "# Accedim a les dades combinant totes les condicions i les mostrem per pantalla\n",
    "print(data[size_cond & outcome_cond & seasson_cond])\n",
    "\n",
    "# Podem veure que es tracta d'una única batalla (battle_number = 28), corresponent a \n",
    "# Battle of Castle Black"
   ]
  },
  {
   "cell_type": "markdown",
   "metadata": {},
   "source": [
    "### Exercici 13\n",
    "\n",
    "Compteu quants llocs apareixen més d'un cop al *dataframe* (camp *location*), utilitzant les funcions de la llibreria *pandas*. Existeix algun lloc on hi hagi hagut més d'una batalla? Comproveu quins bàndols hi estaven implicats."
   ]
  },
  {
   "cell_type": "code",
   "execution_count": null,
   "metadata": {},
   "outputs": [],
   "source": [
    "# Carreguem les llibreries necessàries\n",
    "import pandas as pd\n",
    "\n",
    "# Carreguem les dades\n",
    "data = pd.read_csv('data/got.csv')\n",
    "\n",
    "# Hi ha diferents formes de resoldre el problema. Una d'elles seria utilitzant el mètode\n",
    "# value_counts que donada una columna ens retorna el número d'ocurrències dels valors d'aquesta\n",
    "# Podem cercar dins del dataframe de forma similar a l'exercici anterior utilitzant > 1\n",
    "locations = data['location'].value_counts()\n",
    "rep_loc = locations[locations > 1]\n",
    "print(\"Número de llocs que apareixen més d'un cop al dataframe:\", len(rep_loc))\n",
    "\n",
    "# De forma alternativa podem agrupar les dades per localització i computar la mida dels grups\n",
    "# (quants cops apareix cadascun)\n",
    "grouped = data.groupby('location')\n",
    "locations = grouped.size()\n",
    "\n",
    "# Podem accedir al dataframe utilitzant el mètode loc i passant una llista booleana de posicions\n",
    "# corresponents a si el contingut de la posició es més gran que 1. Per això podem utilitzar\n",
    "# una lambda function\n",
    "rep_loc2 = locations.loc[lambda x: x>1]\n",
    "print(\"Número de llocs que apareixen més d'un cop al dataframe (v2):\", len(rep_loc2))\n",
    "\n",
    "# Per mostrar els bàndols principals implicats al llocs on hi ha hagut més d'una batalla\n",
    "# podem accedir a les files del dataframe que tenen com a localització els llocs repetits\n",
    "# que acabem d'obtenir. Podem utilitzar qualsevol identificatiu dels bàndols:\n",
    "# attacker_1 vs defender_1, attacker_kings vs defender_king, etc\n",
    "\n",
    "# Recorrem la llista de localitzacions repetides\n",
    "for loc, c in rep_loc.iteritems():\n",
    "    # Mostrem la localització\n",
    "    print(\"\\n%s:\" % loc)\n",
    "    # Definim el filtre per aquesta localització i filtrem les batalles que han tingut lloc\n",
    "    # aquí\n",
    "    loc_cond = data[\"location\"] == loc\n",
    "    battles = data[loc_cond]\n",
    "    # Finalment mostrem els bàndols\n",
    "    for a, d in zip(battles['attacker_1'], battles['defender_1']):\n",
    "        print(\"%s vs %s\" %(a,d))"
   ]
  },
  {
   "cell_type": "markdown",
   "metadata": {},
   "source": [
    "### Exercici 14\n",
    "\n",
    "Carregueu les dades de l'arxiu `netflixtitles.csv`, que podeu trobar a la carpeta `data`, en un _dataframe_. Aquest conjunt de dades recull informació sobre pel·lícules i sèries de TV de [Netflix](https://www.kaggle.com/shivamb/netflix-shows) fins el 2019.  \n",
    "\n",
    "Mostreu les pel·lícules estrenades el _2019_ que tenen una duració superior a _100_ minuts. \n",
    "\n",
    "**Nota:** Al Notebook de teoria hem vist operacions bàsiques de filtrat. Per resoldre aquest exercici us caldrà investigar com aplicar condicions més complexes. \n",
    "\n",
    "**Nota 2:** Els valors de la columna de duració (*duration*) són strings, ja que combinen números i lletres. Per tant, s'han de transformar a int un cop s'hagi construit el subset de dades de pel·lícules. Us pot ser d'utilitat la funció [astype](https://pandas.pydata.org/pandas-docs/stable/reference/api/pandas.DataFrame.astype.html) de pandas."
   ]
  },
  {
   "cell_type": "code",
   "execution_count": null,
   "metadata": {},
   "outputs": [],
   "source": [
    "# Carreguem les llibreries necessàries\n",
    "import numpy as np\n",
    "import pandas as pd\n",
    "\n",
    "# Importem el fitxer a un dataframe de pandas\n",
    "data = pd.read_csv(\"data/netflixtitles.csv\")\n",
    "\n",
    "# Filtrem el dataset pel tipus \"Movie\"\n",
    "data_movies=data[data['type']==\"Movie\"]\n",
    "\n",
    "# Podem mostrar els 10 primers valors únics de la columna duration de la següent manera.\n",
    "print(data_movies['duration'][0:10])\n",
    "\n",
    "# Veiem que els minuts els agafa com a string, els hem de convertir a número. \n",
    "data_movies['duration']= data_movies['duration'].astype(int) \n",
    "\n",
    "# Extraiem els valors que ens interessen dels valors mostrats\n",
    "# L'operador & ens permet aplicar un operador lògic AND \n",
    "data_ex3 = data_movies[(data_movies[\"release_year\"] == 2019) & (data_movies[\"duration\"] > 100)]\n",
    "\n",
    "\n",
    "# Accedim a la columna \"title\" del conjunt filtrat i mostrem els seus valors \n",
    "data_ex3['title']"
   ]
  },
  {
   "cell_type": "code",
   "execution_count": null,
   "metadata": {},
   "outputs": [],
   "source": []
  }
 ],
 "metadata": {
  "language_info": {
   "name": "python"
  }
 },
 "nbformat": 4,
 "nbformat_minor": 1
}
