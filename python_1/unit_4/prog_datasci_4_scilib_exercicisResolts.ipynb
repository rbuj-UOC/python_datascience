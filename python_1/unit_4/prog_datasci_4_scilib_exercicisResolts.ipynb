{
 "cells": [
  {
   "cell_type": "markdown",
   "metadata": {
    "id": "_nlWX7U-dE4l"
   },
   "source": [
    "<div style=\"display: grid; grid-template-columns: repeat(2, 1fr); align-items: end;\">\n",
    "    <div>\n",
    "        <img src=\"data:image/avif;base64,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\" width=\"300\">\n",
    "    </div>\n",
    "    <div>\n",
    "        <p style=\"margin: 0; text-align:right;\">22.401 · Fonaments de Programació</p>\n",
    "        <p style=\"margin: 0; text-align:right;\">Grau en Ciència de Dades Aplicada</p>\n",
    "        <p style=\"margin: 0; text-align:right;\">Estudis d'Informàtica, Multimèdia i Telecomunicació</p>\n",
    "    </div>\n",
    "</div>"
   ]
  },
  {
   "cell_type": "markdown",
   "metadata": {
    "id": "yjNQ4LXmdE4q"
   },
   "source": [
    "Fonaments de Programació\n",
    "============================\n",
    "\n",
    "Unitat 4: Biblioteques científiques en Python - Exercicis resolts\n",
    "-----------------------------------------------------\n",
    "\n",
    "En aquest Notebook hi trobareu un conjunt d'exercicis per practicar. Aquests exercicis no puntuen per a la PAC, però us recomanem que els intenteu resoldre com a part del procés d'aprenentatge. Trobareu exemples de possibles solucions als exercicis al propi notebook, però és important que intenteu resoldre'ls vosaltres abans de consultar les solucions. Les solucions us han de permetre validar les vostres respostes, així com veure alternatives de resolució de les activitats. També us animem a preguntar qualsevol dubte que us sorgeixi sobre la resolució de les activitats per practicar al fòrum de l'aula.\n",
    "\n",
    "----\n",
    "## Preguntes i exercicis per a practicar"
   ]
  },
  {
   "cell_type": "code",
   "execution_count": null,
   "metadata": {},
   "outputs": [],
   "source": [
    "import os\n",
    "import sys\n",
    "from os.path import dirname\n",
    "\n",
    "VERIFICA_ESTIL = False\n",
    "\n",
    "if os.getenv(\"COLAB_RELEASE_TAG\"):\n",
    "    # munta la unitat de google drive i accedeix a la carpeta de la unitat\n",
    "    from google.colab import drive\n",
    "    drive.mount('/content/drive')\n",
    "    %cd \"/content/drive/MyDrive/Colab Notebooks/python_datascience/python_1/unit_4\"\n",
    "\n",
    "print(f\"directori actual: {os.getcwd()}\")\n",
    "sys.path.append(os.path.join(dirname(dirname(os.getcwd())), 'util'))\n",
    "\n",
    "# verificació de PEP8\n",
    "if VERIFICA_ESTIL:\n",
    "    print(\"habilitant verificació de l'estil PEP8\")\n",
    "    if os.getenv(\"COLAB_RELEASE_TAG\"):\n",
    "        print(\"instal·lant flake8, pycodestyle i pycodestyle_magic...\")\n",
    "        %pip install pycodestyle flake8 pycodestyle_magic\n",
    "    %load_ext pycodestyle_magic\n",
    "    %pycodestyle_on"
   ]
  },
  {
   "cell_type": "code",
   "execution_count": null,
   "metadata": {},
   "outputs": [],
   "source": [
    "from uoc import data_backup\n",
    "\n",
    "data_backup(os.getcwd(), True)"
   ]
  },
  {
   "cell_type": "markdown",
   "metadata": {
    "id": "LAYu0wAudE4r"
   },
   "source": [
    "### Exercici 1\n",
    "\n",
    "Calculeu la norma i el determinant de la següent matriu: ```[[1, 0], [2, -1]]```."
   ]
  },
  {
   "cell_type": "code",
   "execution_count": null,
   "metadata": {},
   "outputs": [],
   "source": [
    "# Resposta"
   ]
  },
  {
   "cell_type": "markdown",
   "metadata": {
    "id": "TnyHTLdudE4s"
   },
   "source": [
    "### Exercici 2\n",
    "\n",
    "Genereu una llista de 100 valors enters aleatoris de 0-9. Realitzeu els següents càlculs utilitzant mètodes de _numpy_ :\n",
    "- Mitjana i desviació estàndard dels valors de la llista\n",
    "- Valor màxim i mínim\n",
    "- Sumeu tots els valors de la llista\n",
    "- Aconseguiu una llista de valors únics"
   ]
  },
  {
   "cell_type": "code",
   "execution_count": null,
   "metadata": {},
   "outputs": [],
   "source": [
    "# Resposta"
   ]
  },
  {
   "cell_type": "markdown",
   "metadata": {
    "id": "3qLdq-0LdE4t"
   },
   "source": [
    "### Exercici 3\n",
    "\n",
    "Creeu una matriu 10x10 que correspongui amb la [matriu identitat](https://cat.wikipedia.org/wiki/Matriu_identitat) utilitzant generadors bàsics d'arrays. Creeu una matriu identitat 10x10 (aquest cop utilitzant generadors específics de matrius identitat) i comproveu que ambdues matrius són iguals.\n",
    "\n",
    "**Consideracions**:\n",
    "- La primera matriu ha de crear-se utilitzant constructors bàsics d'arrays, com els presentats als Notebooks de teoria.\n",
    "* La segona matriu ha de generar-se utilitzant el generador de matrius identitat de numpy.\n",
    "* La comparació ha de retornar True si les matrius són iguals (un únic True), False en cas contrari."
   ]
  },
  {
   "cell_type": "code",
   "execution_count": null,
   "metadata": {},
   "outputs": [],
   "source": [
    "# Resposta"
   ]
  },
  {
   "cell_type": "markdown",
   "metadata": {
    "id": "G4M8nTjFdE4t"
   },
   "source": [
    "### Exercici 4\n",
    "\n",
    "Ordeneu la matriu bidimensional ```[[5,1,7], [0,7,4], [7,23,1]]``` per columnes utilitzant com a algorisme d'ordenació el [Heapsort](https://en.wikipedia.org/wiki/Heapsort).\n",
    "\n",
    "**Nota:** Per resoldre aquest exercici us pot ser d'utilitat la funció [sort](https://docs.scipy.org/doc/numpy/reference/generated/numpy.sort.html#numpy.sort) de Numpy que ens permet ordenar els elements d'un array N-dimensional."
   ]
  },
  {
   "cell_type": "code",
   "execution_count": null,
   "metadata": {},
   "outputs": [],
   "source": [
    "# Resposta"
   ]
  },
  {
   "cell_type": "markdown",
   "metadata": {
    "id": "5IcqAMWwdE4u"
   },
   "source": [
    "### Exercici 5\n",
    "\n",
    "Creeu una matriu, I, de mida 10x10 on tots els seus elements tindran el valor ```0``` utilitzant generadors de matrius de numpy. Modifiqueu la matriu anterior de tal forma que ```I[i, j] = i * j``` per tot ```i``` i ```j``` parells, és a dir, per a totes les posicions on tant `i` com `j` són parells."
   ]
  },
  {
   "cell_type": "code",
   "execution_count": null,
   "metadata": {},
   "outputs": [],
   "source": [
    "# Resposta"
   ]
  },
  {
   "cell_type": "markdown",
   "metadata": {
    "id": "B5jZweRjdE4u"
   },
   "source": [
    "### Exercici 6\n",
    "\n",
    "Considereu la matriu [[1, 2, 3], [4, 5, 6]]. Transformeu-la en la matriu 1D [1, 2, 3, 4, 5, 6].\n",
    "\n",
    "**Nota:** Per resoldre aquest exercici us poden ser d'utilitat les funcions [ravel](https://docs.scipy.org/doc/numpy/reference/generated/numpy.ravel.html) o [flatten](https://docs.scipy.org/doc/numpy/reference/generated/numpy.ndarray.flatten.html) de Numpy que ens permeten transformar un array 2D numpy a 1D."
   ]
  },
  {
   "cell_type": "code",
   "execution_count": null,
   "metadata": {},
   "outputs": [],
   "source": [
    "# Resposta"
   ]
  },
  {
   "cell_type": "markdown",
   "metadata": {
    "id": "txgfttcRdE4v"
   },
   "source": [
    "### Exercici 7\n",
    "\n",
    "Creeu una matriu, Z, de mida 8x8 que vagi alternant els valors 0 i 1, seguint un patró de taulell de dames."
   ]
  },
  {
   "cell_type": "code",
   "execution_count": null,
   "metadata": {},
   "outputs": [],
   "source": [
    "# Resposta"
   ]
  },
  {
   "cell_type": "markdown",
   "metadata": {
    "id": "bQXoIjQ2dE4v"
   },
   "source": [
    "### Exercici 8\n",
    "\n",
    "El fitxer `us_births.csv` conté dades dels naixements als Estats Units durant els anys 1994-2003. Carregueu el fitxer i representeu de forma gràfica els naixements agrupats per mes i any. Utilitzeu un gràfic 2D de tipus _scatter_.\n",
    "\n",
    "*Consideracions:*\n",
    "* La figura ha de contenir 10 gràfics (1 per any)\n",
    "* El valor de cada punt ha de correspondre amb el total de naixements per any i mes.\n",
    "* Incloeu una llegenda que contingui els anys. Podeu diferenciar cada gràfic com millor us sembli (diferents símbols / colors / combinació de les dues)"
   ]
  },
  {
   "cell_type": "code",
   "execution_count": null,
   "metadata": {},
   "outputs": [],
   "source": [
    "# Resposta"
   ]
  },
  {
   "cell_type": "markdown",
   "metadata": {
    "id": "He8BcEl5dE4v"
   },
   "source": [
    "### Exercici 9\n",
    "\n",
    "Carregueu les dades del fitxer `company_sales.csv`, que podeu trobar a la carpeta data, en forma de dataframe. Aquest conjunt de dades recull informació sobre les vendes mensuals d'una empresa de cosmètica i productes d'higiene.\n",
    "\n",
    "Part A:\n",
    "\n",
    "Mostreu un gràfic de línies de punts de les vendes totals (*total_profit*) per cada mes (els mesos estan numerats d'1 a 12).\n",
    "\n",
    "*Consideracions:*\n",
    "\n",
    "* La línia ha de ser amb punts (*dotted line*) de color vermell i de grandària 3.\n",
    "* S'ha de mostrar la llegenda a la part inferior dreta.\n",
    "\n",
    "Part B:\n",
    "\n",
    "Mostreu un gràfic circular (*pie chart*) amb el nombre d'unitats venudes aquest any per producte en percentatge.\n",
    "\n",
    "*Consideracions:*\n",
    "\n",
    "* Heu d'incloure el percentatge (%) de cada producte dins del seu respectiu espai del gràfic.\n",
    "* S'ha de mostrar la llegenda a la part dreta."
   ]
  },
  {
   "cell_type": "code",
   "execution_count": null,
   "metadata": {},
   "outputs": [],
   "source": [
    "# Resposta"
   ]
  },
  {
   "cell_type": "markdown",
   "metadata": {
    "id": "W8aMXBZ_dE4w"
   },
   "source": [
    "### Exercici 10\n",
    "\n",
    "Carregueu les dades del fitxer `got.csv` a un _dataframe_. Aquest conjunt de dades recull informació de la [Guerra dels Cinc Reis](https://awoiaf.westeros.org/index.php/War_of_the_Five_Kings) de les novel·les de [Cançó de gel i de foc](https://ca.wikipedia.org/wiki/Can%C3%A7%C3%B3_de_gel_i_de_foc) de George R.R Martin.\n",
    "\n",
    "Mostreu el nombre de files del _dataframe_ i les etiquetes dels eixos."
   ]
  },
  {
   "cell_type": "code",
   "execution_count": null,
   "metadata": {},
   "outputs": [],
   "source": [
    "# Resposta"
   ]
  },
  {
   "cell_type": "markdown",
   "metadata": {
    "id": "wxLvDuyCdE4w"
   },
   "source": [
    "### Exercici 11\n",
    "\n",
    "Agrupeu les dades carregades a l'exercici 1 pel principal bàndol atacant (*attacker\\_1*). Per cada posició, mostreu el número de batalles i el resultat de la batalla (el resultat es troba al camp *attacker\\_outcome*)."
   ]
  },
  {
   "cell_type": "code",
   "execution_count": null,
   "metadata": {},
   "outputs": [],
   "source": [
    "# Resposta"
   ]
  },
  {
   "cell_type": "markdown",
   "metadata": {
    "id": "NfFCRrYGdE4w"
   },
   "source": [
    "### Exercici 12\n",
    "\n",
    "Mostreu les dades de les batalles on el nombre de participants supera els 15000 \"homes\" (comptant els dos bàndols: *attacker\\_size* i *defender\\_size*), el resultat hagi estat desfavorable per l'atacant, i la batalla hagi estat a l'hivern ( _summer_ = 0)."
   ]
  },
  {
   "cell_type": "code",
   "execution_count": null,
   "metadata": {},
   "outputs": [],
   "source": [
    "# Resposta"
   ]
  },
  {
   "cell_type": "markdown",
   "metadata": {
    "id": "-5pcpIaIdE4w"
   },
   "source": [
    "### Exercici 13\n",
    "\n",
    "Compteu quants llocs apareixen més d'un cop al _dataframe_ (camp *location*), utilitzant les funcions de la biblioteca _pandas_. Existeix algun lloc on hi hagi hagut més d'una batalla? Comproveu quins bàndols hi estaven implicats."
   ]
  },
  {
   "cell_type": "code",
   "execution_count": null,
   "metadata": {},
   "outputs": [],
   "source": [
    "# Resposta"
   ]
  },
  {
   "cell_type": "markdown",
   "metadata": {
    "id": "lXRhC6A-dE4x"
   },
   "source": [
    "### Exercici 14\n",
    "\n",
    "Carregueu les dades del fitxer `netflixtitles.csv`, que podeu trobar a la carpeta `data`, en un _dataframe_. Aquest conjunt de dades recull informació sobre pel·lícules i sèries de TV de [Netflix](https://www.kaggle.com/shivamb/netflix-shows) fins al 2019.  \n",
    "\n",
    "Mostreu les pel·lícules estrenades el _2019_ que tenen una duració superior a _100_ minuts. Heu de mostrar com a resultat una llista dels títols **sense repetir**.\n",
    "\n",
    "**Nota:** Al Notebook de teoria hem vist operacions bàsiques de filtrat. Per resoldre aquest exercici us caldrà investigar com aplicar condicions més complexes.\n",
    "\n",
    "**Nota 2:** Els valors de la columna de duració (*duration*) són strings, ja que combinen números i lletres. Per tant, s'han de transformar a int un cop s'hagi construït el subset de dades de pel·lícules. Us pot ser d'utilitat la funció [astype](https://pandas.pydata.org/pandas-docs/stable/reference/api/pandas.DataFrame.astype.html) de pandas."
   ]
  },
  {
   "cell_type": "code",
   "execution_count": null,
   "metadata": {},
   "outputs": [],
   "source": [
    "# Resposta"
   ]
  },
  {
   "cell_type": "markdown",
   "metadata": {
    "id": "i0FEKauDdE4x"
   },
   "source": [
    "----\n",
    "## Solucions als exercicis per a practicar"
   ]
  },
  {
   "cell_type": "markdown",
   "metadata": {
    "id": "0VrbrM5QdE4x"
   },
   "source": [
    "### Exercici 1\n",
    "Calculeu la norma i el determinant de la següent matriu: ```[[1, 0], [2, -1]]```."
   ]
  },
  {
   "cell_type": "code",
   "execution_count": null,
   "metadata": {},
   "outputs": [],
   "source": [
    "# Carreguem les biblioteques necessàries\n",
    "import numpy as np\n",
    "\n",
    "# Creem la matriu com a array bidimensional\n",
    "m = np.array([[1, 0], [2, -1]])\n",
    "\n",
    "# Calculem la normal i el determinant utilitzant el mòdul linalg\n",
    "norm = np.linalg.norm(m)\n",
    "det = np.linalg.det(m)\n",
    "\n",
    "print(\"La matriu m és:\", m)\n",
    "print(\"La norma de m és: \", norm)\n",
    "print(\"El determinant de m és:\", det)"
   ]
  },
  {
   "cell_type": "markdown",
   "metadata": {
    "id": "xZX5mO1zdE4x"
   },
   "source": [
    "### Exercici 2\n",
    "\n",
    "Genereu una llista de 100 valors enters aleatoris de 0-9. Realitzeu els següents càlculs utilitzant mètodes de _numpy_ :\n",
    "- Mitjana i desviació estàndard dels valors de la llista\n",
    "- Valor màxim i mínim\n",
    "- Sumeu tots els valors de la llista\n",
    "- Aconseguiu una llista de valors únics"
   ]
  },
  {
   "cell_type": "code",
   "execution_count": null,
   "metadata": {},
   "outputs": [],
   "source": [
    "# Carreguem les biblioteques necessàries\n",
    "from random import randint\n",
    "import numpy as np\n",
    "\n",
    "# Utilitzem la funció randint del mòdul random i list comprehensions per a generar la llista, com ja havíem vist a\n",
    "# unitats anteriors\n",
    "rand_ints = [randint(0, 9) for _ in range(100)]\n",
    "\n",
    "# Per a calcular la mitjana i la desviació estàndard utilitzem les funcions mean y std (standard deviation)\n",
    "#respectivament\n",
    "m = np.mean(rand_ints)\n",
    "std = np.std(rand_ints)\n",
    "\n",
    "print(\"La nostra llista de valors aleatoris és:\", rand_ints)\n",
    "print(\"La seva mitjana és %f, i la seva desviació estàndard és %f\" %(m, std))\n",
    "\n",
    "# Per als valors màxim i mínim, utilitzem max i min\n",
    "max_val = np.max(rand_ints)\n",
    "min_val = np.min(rand_ints)\n",
    "\n",
    "print(\"Els seus valors màxim i mínim són, respectivament: %d i %d\" %(max_val, min_val))\n",
    "\n",
    "# Per a sumar tots els elements de la llista, la funció sum\n",
    "sum_values = np.sum(rand_ints)\n",
    "\n",
    "print(\"El resultat de la suma de tots els valors de la llista és\", sum_values)\n",
    "\n",
    "# I finalment per a aconseguir una llista de valors únics, la funció unique\n",
    "unique_values = np.unique(rand_ints)\n",
    "\n",
    "print(\"I la llista de valors únics és\", unique_values)\n"
   ]
  },
  {
   "cell_type": "markdown",
   "metadata": {
    "id": "78aAmUZOdE4y"
   },
   "source": [
    "### Exercici 3\n",
    "\n",
    "Creeu una matriu 10x10 que correspongui amb la [matriu identitat](https://cat.wikipedia.org/wiki/Matriu_identitat) utilitzant generadors bàsics d'arrays. Creeu una matriu identitat 10x10 (aquest cop utilitzant generadors específics de matrius identitat) i comproveu que ambdues matrius són iguals.\n",
    "\n",
    "**Consideracions**:\n",
    "- La primera matriu ha de crear-se utilitzant constructors bàsics d'arrays, com els presentats als Notebooks de teoria.\n",
    "* La segona matriu ha de generar-se utilitzant el generador de matrius identitat de numpy.\n",
    "* La comparació ha de retornar True si les matrius són iguals (un únic True), False en cas contrari."
   ]
  },
  {
   "cell_type": "code",
   "execution_count": null,
   "metadata": {},
   "outputs": [],
   "source": [
    "# Carreguem les biblioteques necessàries\n",
    "import numpy as np\n",
    "\n",
    "# Podem definir la matriu de forma manual com una llista de llistes\n",
    "m0 = np.array([[1, 0, 0, 0, 0, 0, 0, 0, 0, 0,], [0, 1, 0, 0, 0, 0, 0, 0, 0, 0,],\n",
    "              [0, 0, 1, 0, 0, 0, 0, 0, 0, 0], [0, 0, 0, 1, 0, 0, 0, 0, 0, 0],\n",
    "              [0, 0, 0, 0, 1, 0, 0, 0, 0, 0], [0, 0, 0, 0, 0, 1, 0, 0, 0, 0],\n",
    "              [0, 0, 0, 0, 0, 0, 1, 0, 0, 0], [0, 0, 0, 0, 0, 0, 0, 1, 0, 0],\n",
    "              [0, 0, 0, 0, 0, 0, 0, 0, 1, 0], [0, 0, 0, 0, 0, 0, 0, 0, 0, 1]])\n",
    "\n",
    "# O començant per una 10x10 amb tot zeros i assignar uns a la diagonal\n",
    "# recorrent la matriu per files i columnes\n",
    "m1 = np.zeros((10,10), dtype=int)\n",
    "for i, r in enumerate(m1):\n",
    "    r[i] = 1\n",
    "\n",
    "# Per altra banda, definim la identitat 10x10 utilitzant el constructor “built-in\"\n",
    "m2 = np.identity(10, dtype=int)\n",
    "\n",
    "# I realitzem la comparació. Per fer-ho podem utilitzar el mètode array_equal de numpy\n",
    "# que ens compara si dos arrays són iguals\n",
    "print(np.array_equal(m0, m2))\n",
    "print(np.array_equal(m1, m2))\n",
    "\n",
    "# També podem comprovar que la comparació falla si modifiquem qualsevol valor de la matriu\n",
    "m0[1, 2] = 1\n",
    "print(np.array_equal(m0, m2))"
   ]
  },
  {
   "cell_type": "markdown",
   "metadata": {
    "id": "_oY1Qlf9dE41"
   },
   "source": [
    "### Exercici 4\n",
    "\n",
    "Ordeneu la matriu bidimensional ```[[5,1,7], [0,7,4], [7,23,1]]``` per columnes utilitzant com a algorisme d'ordenació el [Heapsort](https://en.wikipedia.org/wiki/Heapsort).\n",
    "\n",
    "**Nota:** Per resoldre aquest exercici us pot ser d'utilitat la funció [sort](https://docs.scipy.org/doc/numpy/reference/generated/numpy.sort.html#numpy.sort) de Numpy que ens permet ordenar els elements d'un array N-dimensional."
   ]
  },
  {
   "cell_type": "code",
   "execution_count": null,
   "metadata": {},
   "outputs": [],
   "source": [
    "# Carreguem les biblioteques necessàries\n",
    "import numpy as np\n",
    "\n",
    "# Creem la matriu indicada a l'enunciat\n",
    "matriu_ex3 = [[5,1,7], [0,7,4], [7,23,1]]\n",
    "\n",
    "# Utilitzem la funció sort de numpy per ordenar la matriu anterior.\n",
    "# El paràmetre axis = 0 ens indica que volem ordenar per columnes\n",
    "# i el paràmetre kind ens permet especificar l'algoritme d'ordenació, en aquest cas 'heapsort'.\n",
    "np.sort(matriu_ex3, axis=0, kind='heapsort')"
   ]
  },
  {
   "cell_type": "markdown",
   "metadata": {
    "id": "bgwyjunvdE42"
   },
   "source": [
    "### Exercici 5\n",
    "\n",
    "Creeu una matriu, I, de mida 10x10 on tots els seus elements tindran el valor ```0``` utilitzant generadors de matrius de numpy. Modifiqueu la matriu anterior de tal forma que ```I[i, j] = i * j``` per tot ```i``` i ```j``` parells, és a dir, per a totes les posicions on tant `i` com `j` són parells."
   ]
  },
  {
   "cell_type": "code",
   "execution_count": null,
   "metadata": {},
   "outputs": [],
   "source": [
    "# Carreguem les biblioteques necessàries\n",
    "import numpy as np\n",
    "\n",
    "# Definim un parell de constants pel nombre de files i columnes\n",
    "NUM_FILES = 10\n",
    "NUM_COLUMNES = 10\n",
    "\n",
    "# Creem una matriu de 10x10 on tots els valors seran 0.\n",
    "# Per aconseguir-ho utilitzem la funció zeros que hem vist al Notebook de teoria.\n",
    "matriu_ex4 = np.zeros((NUM_FILES, NUM_COLUMNES))\n",
    "\n",
    "# Mostrem la matriu original per pantalla\n",
    "print(matriu_ex4)\n",
    "\n",
    "# Iterem sobre totes les files i columnes de la matriu generada utilitzant un doble bucle for.\n",
    "# El primer bucle ens recorrerà l'index de les files, mentre que el segon bucle ens recorrerà\n",
    "# l'index de les columnes.\n",
    "for i in range(0, NUM_FILES):\n",
    "    for j in range(0, NUM_COLUMNES):\n",
    "        # Comprovem que l'index de la fila i l'index de la columna siguin tots dos parells.\n",
    "        if i % 2 == 0 and j % 2 == 0:\n",
    "            # En cas afirmatiu, passem a realitzar l'assignació indicada.\n",
    "            matriu_ex4[i, j] = i * j\n",
    "\n",
    "# Mostrem el resultat final per pantalla\n",
    "print(matriu_ex4)"
   ]
  },
  {
   "cell_type": "markdown",
   "metadata": {
    "id": "DvYTeMlodE42"
   },
   "source": [
    "### Exercici 6\n",
    "\n",
    "Considereu la matriu [[1, 2, 3], [4, 5, 6]]. Transformeu-la en la matriu 1D [1, 2, 3, 4, 5, 6].\n",
    "\n",
    "**Nota:** Per resoldre aquest exercici us poden ser d'utilitat les funcions [ravel](https://docs.scipy.org/doc/numpy/reference/generated/numpy.ravel.html) o [flatten](https://docs.scipy.org/doc/numpy/reference/generated/numpy.ndarray.flatten.html) de Numpy que ens permeten transformar un array 2D numpy a 1D."
   ]
  },
  {
   "cell_type": "code",
   "execution_count": null,
   "metadata": {},
   "outputs": [],
   "source": [
    "# Carreguem les biblioteques necessàries\n",
    "import numpy as np\n",
    "\n",
    "# Creem la matriu indicada a l'enunciat\n",
    "matriu_ex6 =  np.array([[1, 2, 3], [4, 5, 6]])\n",
    "\n",
    "#Opció 1: ravel\n",
    "out1 = np.ravel(matriu_ex6)\n",
    "print('Opció 1: ravel\\n',out1)\n",
    "\n",
    "#Opció 2: flatten\n",
    "out2 = matriu_ex6.flatten()\n",
    "print('Opció 2: flatten\\n',out1)"
   ]
  },
  {
   "cell_type": "markdown",
   "metadata": {
    "id": "ae04uTmJdE42"
   },
   "source": [
    "### Exercici 7\n",
    "\n",
    "Creeu una matriu, Z, de mida 8x8 que vagi alternant els valors 0 i 1, seguint un patró de taulell de dames."
   ]
  },
  {
   "cell_type": "code",
   "execution_count": null,
   "metadata": {},
   "outputs": [],
   "source": [
    "# Carreguem les biblioteques necessàries\n",
    "import numpy as np\n",
    "import matplotlib.pyplot as plt\n",
    "\n",
    "# Creem una matriu de zeros 8x8\n",
    "Z = np.zeros((8,8),dtype=int)\n",
    "\n",
    "# Començant en la fila 1 i cada 2, posem 1 cada 2 columnes\n",
    "Z[1::2,::2] = 1\n",
    "\n",
    "# Començant en columna 1 i cada 2, posem 1 cada 2 files\n",
    "Z[::2,1::2] = 1\n",
    "print(Z)"
   ]
  },
  {
   "cell_type": "markdown",
   "metadata": {
    "id": "59BACncBdE43"
   },
   "source": [
    "### Exercici 8\n",
    "\n",
    "El fitxer `us_births.csv` conté dades dels naixements als Estats Units durant els anys 1994-2003. Carregueu el fitxer i representeu de forma gràfica els naixements agrupats per mes i any. Utilitzeu un gràfic 2D de tipus _scatter_.\n",
    "\n",
    "*Consideracions:*\n",
    "* La figura ha de contenir 10 gràfics (1 per any)\n",
    "* El valor de cada punt ha de correspondre amb el total de naixements per any i mes.\n",
    "* Incloeu una llegenda que contingui els anys. Podeu diferenciar cada gràfic com millor us sembli (diferents símbols / colors / combinació de les dues)"
   ]
  },
  {
   "cell_type": "code",
   "execution_count": null,
   "metadata": {},
   "outputs": [],
   "source": [
    "# Carreguem les biblioteques necessàries\n",
    "%matplotlib inline\n",
    "import pandas as pd\n",
    "import matplotlib.pyplot as plt\n",
    "import numpy as np\n",
    "\n",
    "# Carreguem les dades del fitxer\n",
    "data = pd.read_csv('data/us_births.csv')\n",
    "\n",
    "# Les agrupem per any i mes\n",
    "grouped = data.groupby(['year', 'month'])\n",
    "\n",
    "# Grouped conté un conjunt de dataframes identificats per any i mes, però les dades\n",
    "# referents al naixements a cada dataframe encara estan separades per dia.\n",
    "# Sumem els naixements de cada mes.\n",
    "parsed_years = grouped['births'].sum()\n",
    "\n",
    "# Separem les dades en una matriu de 10x12 (10 anys amb 12 mesos per any)\n",
    "parsed_years = np.array(parsed_years).reshape(10, 12)\n",
    "\n",
    "# Arribats a aquest punt ja tenim les dades llistes per ser mostrades, ara ens toca\n",
    "# definir els atributs del gràfic (eixos, colors, etc.)\n",
    "\n",
    "# Representarem els mesos con una llista de 1 a 12\n",
    "months = range(1, 13, 1)\n",
    "\n",
    "# I els anys (per a la llegenda) amb el seu valor. Podem generar la llista a mà o obtenirla\n",
    "# com els valores únics de la columna years\n",
    "years = data['year'].unique()\n",
    "\n",
    "# Finalment definim una llista amb 10 colors, un per a cada any\n",
    "colours = ['b', 'g', 'r', 'c', 'm', 'y', 'k', 'burlywood', 'chartreuse']\n",
    "\n",
    "# Un cop tenim els eixos, colors i dades definides, podem generar un scatter per cada any\n",
    "# cada punt a la gràfica (x, y) vindrà definit pels elements de les llistes months i year_data\n",
    "# label definirà quina etiqueta se li donarà al scatter a la llegenda, i correspondrà amb l’any\n",
    "for year_data, y, c in zip(parsed_years, years, colours):\n",
    "    plt.scatter(months, year_data, color=c, label=y)\n",
    "\n",
    "# I finalment incloem també la llegenda (loc=0 la posiciona “al millor lloc” dins\n",
    "# del limit del gràfic). I mostrem la figura.\n",
    "plt.legend(loc=0)\n",
    "plt.show()"
   ]
  },
  {
   "cell_type": "markdown",
   "metadata": {
    "id": "NpMzpYDKdE43"
   },
   "source": [
    "### Exercici 9\n",
    "\n",
    "Carregueu les dades del fitxer `company_sales.csv`, que podeu trobar a la carpeta `data`, en forma de *dataframe*. Aquest conjunt de dades recull informació sobre les vendes mensuals d'una empresa de cosmètica i productes d'higiene.\n",
    "\n",
    "Part A:\n",
    "\n",
    "Mostreu un gràfic de línies de punts de les vendes totals (*total_profit*) per cada mes (els mesos estan numerats d'1 a 12).\n",
    "\n",
    "*Consideracions:*\n",
    "\n",
    "* La línia ha de ser amb punts (*dotted line*) de color vermell i de grandària 3.\n",
    "* S'ha de mostrar la llegenda a la part inferior dreta.\n",
    "\n",
    "Part B:\n",
    "\n",
    "Mostreu un gràfic circular (*pie chart*) amb el nombre d'unitats venudes aquest any per producte en percentatge.\n",
    "\n",
    "*Consideracions:*\n",
    "\n",
    "* Heu d'incloure el percentatge (%) de cada producte dins del seu respectiu espai del gràfic.\n",
    "* S'ha de mostrar la llegenda a la part dreta."
   ]
  },
  {
   "cell_type": "code",
   "execution_count": null,
   "metadata": {},
   "outputs": [],
   "source": [
    "# Carreguem les biblioteques necessàries\n",
    "import pandas as pd\n",
    "import matplotlib.pyplot as plt\n",
    "\n",
    "# Importem el fitxer a un dataframe de pandas\n",
    "df = pd.read_csv(\"data/company_sales.csv\")\n",
    "\n",
    "# Seleccionem les dues columnes que ens interessen\n",
    "profitList = df ['total_profit']\n",
    "monthList  = df ['month_number']\n",
    "\n",
    "# Grafiquem els guanys (y) en funció del mes (x), amb les característiques demanades a l'enunciat\n",
    "plt.plot(monthList, profitList, label = 'Guanys any anterior',\n",
    "      color='r', marker='o', markerfacecolor='k',\n",
    "      linestyle='--', linewidth=3)\n",
    "\n",
    "# Especifiquem la informació dels eixos\n",
    "plt.xlabel('Número de mes')\n",
    "plt.ylabel('Guanys')\n",
    "plt.legend(loc='lower right')\n",
    "plt.title('Vendes del 2019')\n",
    "plt.xticks(monthList)\n",
    "plt.yticks([100000, 200000, 300000, 400000])\n",
    "plt.show()"
   ]
  },
  {
   "cell_type": "code",
   "execution_count": null,
   "metadata": {},
   "outputs": [],
   "source": [
    "# Carreguem les biblioteques necessàries\n",
    "import pandas as pd\n",
    "import matplotlib.pyplot as plt\n",
    "\n",
    "# Importem el fitxer a un dataframe de pandas\n",
    "df = pd.read_csv(\"data/company_sales.csv\")\n",
    "\n",
    "# Creem un vector amb la suma de cada un dels productes\n",
    "salesData   = [df ['facecream'].sum(), df ['facewash'].sum(), df ['toothpaste'].sum(),\n",
    "         df ['bathingsoap'].sum(), df ['shampoo'].sum(), df ['moisturizer'].sum()]\n",
    "\n",
    "# Creem la informació per la llegenda\n",
    "labels = ['FaceCream', 'FaseWash', 'ToothPaste', 'Bathing soap', 'Shampoo', 'Moisturizer']\n",
    "\n",
    "# Especifiquem la informació dels eixos\n",
    "plt.axis(\"equal\")\n",
    "plt.pie(salesData, labels=labels, autopct='%1.1f%%') # autopct mostra el percentatge (%)\n",
    "plt.legend(loc='center left', bbox_to_anchor=(1, 0.5))\n",
    "plt.title('Vendes del 2019')\n",
    "plt.show()"
   ]
  },
  {
   "cell_type": "markdown",
   "metadata": {
    "id": "axTTaEtwdE43"
   },
   "source": [
    "### Exercici 10\n",
    "\n",
    "Carregueu les dades del fitxer `got.csv` a un _dataframe_. Aquest conjunt de dades recull informació de la [Guerra dels Cinc Reis](https://awoiaf.westeros.org/index.php/War_of_the_Five_Kings) de les novel·les de [Cançó de gel i de foc](https://ca.wikipedia.org/wiki/Can%C3%A7%C3%B3_de_gel_i_de_foc) de George R.R Martin.\n",
    "\n",
    "Mostreu el nombre de files del _dataframe_ i les etiquetes dels eixos."
   ]
  },
  {
   "cell_type": "code",
   "execution_count": null,
   "metadata": {},
   "outputs": [],
   "source": [
    "# Carreguem les biblioteques necessàries\n",
    "import pandas as pd\n",
    "\n",
    "# Llegim el fitxer csv amb el metode read_csv\n",
    "data = pd.read_csv('data/got.csv')\n",
    "\n",
    "# Mostrem el numero de files\n",
    "print(\"Número de files:\", len(data))\n",
    "\n",
    "# Mostrem les etiquetes dels eixos\n",
    "print(\"Etiquetes:\", data.axes)"
   ]
  },
  {
   "cell_type": "markdown",
   "metadata": {
    "id": "c2zpOxvldE44"
   },
   "source": [
    "### Exercici 11\n",
    "\n",
    "Agrupeu les dades carregades a l'exercici 10 pel principal bàndol atacant (*attacker\\_1*). Per cada posició, mostreu el nombre de batalles i el resultat de la batalla (el resultat es troba al camp *attacker\\_outcome*)."
   ]
  },
  {
   "cell_type": "code",
   "execution_count": null,
   "metadata": {},
   "outputs": [],
   "source": [
    "# Tal i com estava definit l'enunciat es podia interpretar de dues formes:\n",
    "# 1 - que es mostrés el número de batalles guanyades i perdudes per cada bàndol\n",
    "# 2 - que es mostrés el número de batalla (identificador) i el resultat d'aquesta per cada\n",
    "#     bàndol.\n",
    "# Resoldrem els dos casos.\n",
    "\n",
    "# Carreguem les biblioteques necessàries\n",
    "import pandas as pd\n",
    "import numpy as np\n",
    "\n",
    "# En qualsevol dels casos hem de carregar les dades i agrupar-les per el bàndol atacant\n",
    "data = pd.read_csv('data/got.csv')\n",
    "grouped = data.groupby('attacker_1')\n",
    "\n",
    "\n",
    "# Cas 1. Cada grup conté com a etiqueta el bàndol (primera dada que ens demanen) i com\n",
    "# a dades un dataframe. Podem accedir a cadascuna de les columnes com si d'un diccionari\n",
    "# es tractés, i extreure els seus valors.\n",
    "print(\"CAS 1:\\n\")\n",
    "# Per a cada agrupació\n",
    "for name, g in grouped:\n",
    "    # Mostrem el bàndol\n",
    "    print(name)\n",
    "    # Mostrem el numero de batalla i el resultat per a cada batalla\n",
    "    for battle, outcome in zip(g['battle_number'].values, g['attacker_outcome'].values):\n",
    "        print(\"battle: %s, outcome: %s\" % (battle, outcome))\n",
    "\n",
    "\n",
    "# Cas 2. L'estructura és la mateixa que en el cas anterior, però ara hem de comptar quantes\n",
    "# batalles s'han guanyat o perdut.\n",
    "print(\"\\n---------------------\\n\")\n",
    "print(\"CAS 2: \\n\")\n",
    "for name, g in grouped:\n",
    "    # Comencem comptant el numero de batalles extraient l'informació del dataframe\n",
    "    outcome = g['attacker_outcome'].values\n",
    "    s = len(outcome)\n",
    "\n",
    "    # Després comptem quantes han estat guanyades i perdudes\n",
    "    # count_nonzero avalua una expressió booleana i retorna el numero de coincidències\n",
    "    # que no son zero\n",
    "    w = np.count_nonzero(outcome == 'win')\n",
    "    l = np.count_nonzero(outcome == 'loss')\n",
    "\n",
    "    # Podem fer el mateix utilitzant count si transformem outcome a una llista\n",
    "    outcome = list(outcome)\n",
    "    w = outcome.count('win')\n",
    "    l = outcome.count('loss')\n",
    "\n",
    "    # Finalment mostrem el resultat\n",
    "    print(name)\n",
    "    print(\"total: %s, won: %s, lost: %s\" % (s, w, l))"
   ]
  },
  {
   "cell_type": "markdown",
   "metadata": {
    "id": "2UwJmWHrdE44"
   },
   "source": [
    "### Exercici 12\n",
    "\n",
    "Mostreu les dades de las batalles on el nombre de participants supera els 15000 \"homes\" (comptant els dos bàndols: *attacker\\_size* i *defender\\_size*), el resultat hagi estat desfavorable per l'atacant, i la batalla hagi estat a l'hivern ( _summer_ = 0)."
   ]
  },
  {
   "cell_type": "code",
   "execution_count": null,
   "metadata": {},
   "outputs": [],
   "source": [
    "# Carreguem les biblioteques necessàries\n",
    "import pandas as pd\n",
    "\n",
    "# Carreguem les dades\n",
    "data = pd.read_csv('data/got.csv')\n",
    "\n",
    "# Definim les condicions\n",
    "# La suma de les tropes atacants i defensores ha de ser superior a 15000\n",
    "size_cond = (data['attacker_size'] + data['defender_size'] > 15000)\n",
    "# El resultat ha de ser desfavorable per l'atacant\n",
    "outcome_cond = data['attacker_outcome'] == 'loss'\n",
    "# I la batalla ha d'haver succeït a l'hivern\n",
    "seasson_cond = data['summer'] == 0\n",
    "\n",
    "# Accedim a les dades combinant totes les condicions i les mostrem per pantalla\n",
    "print(data[size_cond & outcome_cond & seasson_cond])\n",
    "\n",
    "# Podem veure que es tracta d'una única batalla (battle_number = 28), corresponent a\n",
    "# Battle of Castle Black"
   ]
  },
  {
   "cell_type": "markdown",
   "metadata": {
    "id": "rrU7wGThdE45"
   },
   "source": [
    "### Exercici 13\n",
    "\n",
    "Compteu quants llocs apareixen més d'un cop al *dataframe* (camp *location*), utilitzant les funcions de la biblioteca *pandas*. Existeix algun lloc on hi hagi hagut més d'una batalla? Comproveu quins bàndols hi estaven implicats."
   ]
  },
  {
   "cell_type": "code",
   "execution_count": null,
   "metadata": {},
   "outputs": [],
   "source": [
    "# Carreguem les biblioteques necessàries\n",
    "import pandas as pd\n",
    "\n",
    "# Carreguem les dades\n",
    "data = pd.read_csv('data/got.csv')\n",
    "\n",
    "# Hi ha diferents formes de resoldre el problema. Una d'elles seria\n",
    "# utilitzant el mètode value_counts que donada una columna ens retorna el\n",
    "# nombre d'ocurrències dels valors d'aquesta.\n",
    "# Podem cercar dins del dataframe de forma similar a l'exercici anterior\n",
    "# utilitzant > 1\n",
    "locations = data['location'].value_counts()\n",
    "rep_loc = locations[locations > 1]\n",
    "print(\"Número de llocs que apareixen més d'un cop al dataframe:\", len(rep_loc))\n",
    "\n",
    "# De forma alternativa podem agrupar les dades per localització i computar\n",
    "# la mida dels grups (quants cops apareix cadascun)\n",
    "grouped = data.groupby('location')\n",
    "locations = grouped.size()\n",
    "\n",
    "# Podem accedir al dataframe utilitzant el mètode loc i passant una llista\n",
    "# booleana de posicions corresponents a si el contingut de la posició es més\n",
    "# gran que 1. Per això podem utilitzar una lambda function\n",
    "rep_loc2 = locations.loc[lambda x: x>1]\n",
    "print(\"Número de llocs que apareixen més d'un cop al dataframe (v2):\", len(rep_loc2))\n",
    "\n",
    "# Per mostrar els bàndols principals implicats al llocs on hi ha hagut més\n",
    "# d'una batalla podem accedir a les files del dataframe que tenen com a\n",
    "# localització els llocs repetits que acabem d'obtenir. Podem utilitzar\n",
    "# qualsevol identificatiu dels bàndols:\n",
    "# attacker_1 vs defender_1, attacker_kings vs defender_king, etc\n",
    "\n",
    "# Recorrem la llista de localitzacions repetides\n",
    "for loc, c in rep_loc.items():\n",
    "    # Mostrem la localització\n",
    "    print(\"\\n%s:\" % loc)\n",
    "    # Definim el filtre per aquesta localització i filtrem les batalles que\n",
    "    # han tingut lloc aquí\n",
    "    loc_cond = data[\"location\"] == loc\n",
    "    battles = data[loc_cond]\n",
    "    # Finalment mostrem els bàndols\n",
    "    for a, d in zip(battles['attacker_1'], battles['defender_1']):\n",
    "        print(\"%s vs %s\" %(a,d))"
   ]
  },
  {
   "cell_type": "markdown",
   "metadata": {
    "id": "TXU1D9BFdE45"
   },
   "source": [
    "### Exercici 14\n",
    "\n",
    "Carregueu les dades del fitxer `netflixtitles.csv`, que podeu trobar a la carpeta `data`, en un _dataframe_. Aquest conjunt de dades recull informació sobre pel·lícules i sèries de TV de [Netflix](https://www.kaggle.com/shivamb/netflix-shows) fins al 2019.  \n",
    "\n",
    "Mostreu les pel·lícules estrenades el _2019_ que tenen una duració superior a _100_ minuts.\n",
    "\n",
    "**Nota:** Al Notebook de teoria hem vist operacions bàsiques de filtrat. Per resoldre aquest exercici us caldrà investigar com aplicar condicions més complexes.\n",
    "\n",
    "**Nota 2:** Els valors de la columna de duració (*duration*) són strings, ja que combinen números i lletres. Per tant, s'han de transformar a int un cop s'hagi construït el subset de dades de pel·lícules. Us pot ser d'utilitat la funció [astype](https://pandas.pydata.org/pandas-docs/stable/reference/api/pandas.DataFrame.astype.html) de pandas."
   ]
  },
  {
   "cell_type": "code",
   "execution_count": null,
   "metadata": {},
   "outputs": [],
   "source": [
    "# Carreguem les biblioteques necessàries\n",
    "import numpy as np\n",
    "import pandas as pd\n",
    "\n",
    "# Importem el fitxer a un dataframe de pandas\n",
    "data = pd.read_csv(\"data/netflixtitles.csv\")\n",
    "\n",
    "# Filtrem el dataset pel tipus \"Movie\"\n",
    "data_movies=data[data['type']==\"Movie\"]\n",
    "\n",
    "# Podem mostrar els 10 primers valors únics de la columna duration de la\n",
    "# següent manera.\n",
    "print(data_movies['duration'][0:10])\n",
    "\n",
    "# Veiem que els minuts els agafa com a string, els hem de convertir a número.\n",
    "data_movies['duration']= data_movies['duration'].astype(int)\n",
    "\n",
    "# Extraiem els valors que ens interessen dels valors mostrats\n",
    "# L'operador & ens permet aplicar un operador lògic AND\n",
    "data_ex3 = data_movies[(data_movies[\"release_year\"] == 2019) & (data_movies[\"duration\"] > 100)]\n",
    "\n",
    "\n",
    "# Accedim a la columna \"title\" del conjunt filtrat i mostrem els seus valors\n",
    "data_ex3['title']"
   ]
  }
 ],
 "metadata": {
  "language_info": {
   "name": "python"
  }
 },
 "nbformat": 4,
 "nbformat_minor": 0
}
