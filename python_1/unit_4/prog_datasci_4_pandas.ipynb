{
 "cells": [
  {
   "cell_type": "markdown",
   "metadata": {
    "id": "qZyz14Jj_Wus"
   },
   "source": [
    "<div style=\"width: 100%; clear: both;\">\n",
    "    <div style=\"float: left; width: 50%;\">\n",
    "       <img src=\"http://www.uoc.edu/portal/_resources/common/imatges/marca_UOC/UOC_Masterbrand.jpg\", align=\"left\">\n",
    "    </div>\n",
    "</div>\n",
    "\n",
    "<div style=\"float: right; width: 50%;\">\n",
    "    <p style=\"margin: 0; padding-top: 22px; text-align:right;\">22.401 · Fonaments de Programació</p>\n",
    "    <p style=\"margin: 0; text-align:right;\">Grau en Ciència de Dades Aplicada</p>\n",
    "    <p style=\"margin: 0; text-align:right; padding-button: 100px;\">Estudis d'Informàtica, Multimèdia i Telecomunicació</p>\n",
    "</div>\n",
    "\n",
    "</div>\n",
    "<div style=\"width: 100%; clear: both;\">\n",
    "<div style=\"width:100%;\">&nbsp;</div>"
   ]
  },
  {
   "cell_type": "markdown",
   "metadata": {
    "id": "WEP-dJi3_Wuu"
   },
   "source": [
    "Fonaments de Programació\n",
    "============================\n",
    "\n",
    "---\n",
    "\n",
    "Unitat 4: Llibreries científiques en Python - pandas\n",
    "-----------------------------------------------------\n",
    "\n",
    "---"
   ]
  },
  {
   "cell_type": "markdown",
   "metadata": {
    "id": "KTNw1Qkw_Wuv"
   },
   "source": [
    "### Instruccions d'ús\n",
    "\n",
    "Aquest document és un *notebook* interactiu que intercala explicacions més aviat teòriques de conceptes de programació amb fragments de codi executables. Per aprofitar els avantatges que aporta aquest format, us recomanem que, en primer lloc, llegiu les explicacions i el codi que us proporcionem. D'aquesta manera tindreu un primer contacte amb els conceptes que hi exposem. Ara bé, **la lectura és només el principi!** Una vegada hàgiu llegit el contingut, no oblideu executar el codi proporcionat i modificar-lo per crear-ne variants que us permetin comprovar que heu entès la seva funcionalitat i explorar-ne els detalls d'implementació. Per últim, us recomanem també consultar la documentació enllaçada per explorar amb més profunditat les funcionalitats dels mòduls presentats.\n",
    "\n"
   ]
  },
  {
   "cell_type": "markdown",
   "metadata": {
    "id": "iC69asLI_Wuw"
   },
   "source": [
    "Per guardar possibles modificacions que feu sobre aquest notebook, us aconsellem que munteu la unitat de Drive a Google Colaboratory (colab). Heu d'executar les instruccions següents:"
   ]
  },
  {
   "cell_type": "code",
   "execution_count": null,
   "metadata": {},
   "outputs": [],
   "source": [
    "from google.colab import drive\n",
    "drive.mount('/content/drive')"
   ]
  },
  {
   "cell_type": "code",
   "execution_count": null,
   "metadata": {},
   "outputs": [],
   "source": [
    "%cd /content/drive/MyDrive/Colab_Notebooks/prog_datasci_4"
   ]
  },
  {
   "cell_type": "markdown",
   "metadata": {
    "id": "kVDGsRk5_Wuy"
   },
   "source": [
    "\n",
    "### Introducció\n",
    "\n",
    "A continuació es presentaran explicacions i exemples d'ús de la\n",
    "llibreria pandas. Recordeu que podeu anar executant els exemples per\n",
    "obtenir-ne els resultats.\n",
    "\n",
    "A continuació s'inclou la taula de continguts, que podeu fer servir per navegar pel document:\n",
    "\n",
    "<ul style=\"list-style-type:none\">\n",
    "    <li><a href='#1-Introduccio'>1 Introducció</a></li>\n",
    "    <li><a href=\"#2-Estructures-de-dades-basiques\">2 Estructures de dades bàsiques</a></li>\n",
    "    <li><a href=\"#3-Operacions-basiques-sobre-un-dataframe\">3 Operacions bàsiques sobre un dataframe</a></li>\n",
    "    <ul style=\"list-style-type:none\">\n",
    "        <li><a href=\"#3.1-Lectura-de-dades-d'un-fitxer\">3.1 Lectura de dades d'un fitxer</a></li>\n",
    "        <li><a href=\"#3.2-Exploracio-del-dataframe\">3.2 Exploració del dataframe</a></li>\n",
    "        <li><a href=\"#3.3-Indexacio-i-seleccio-de-dades\">3.3 Indexació i selecció de dades</a></li>\n",
    "        <li><a href=\"#3.4-Agregacio-de-dades\">3.4 Agregació de dades</a></li>\n",
    "        <li><a href=\"#3.5-Escriptura-de-dades-a-un-fitxer\">3.5 Escriptura de dades a un fitxer</a></li>\n",
    "    </ul>\n",
    "    <li><a href=\"#4-Exercicis-i-preguntes-teoriques\">4 Exercicis i preguntes teòriques</a></li>\n",
    "    <ul style=\"list-style-type:none\">\n",
    "        <li><a href=\"#4.1-Instruccions-importants\">4.1 Instruccions importants</a></li>\n",
    "</ul>"
   ]
  },
  {
   "cell_type": "markdown",
   "metadata": {
    "id": "hZWpaPVQ_Wuz"
   },
   "source": [
    "<a id='1-Introduccio'></a>\n",
    "# 1 Introducció\n",
    "\n",
    "Pandas és una llibreria de Python que ens ofereix una interfície d'alt nivell per manipular i analitzar dades. La llibreria ofereix estructures de dades flexibles sobre les quals carregar-les i implementa operacions sobre aquestes estructures l'ús de les quals resulta molt intuïtiu i que, alhora, són eficients. Per aquest motiu, és una de les eines més utilitzades en l'anàlisi de dades en Python. Pandas també forma part del SciPy stack.\n",
    "\n",
    "Com veurem més endavant, l'estructura de dades principal de Pandas és el dataframe, una estructura que permet emmagatzemar taules bidimensionals.\n",
    "\n",
    "Per poder utilitzar la llibreria, en primer lloc cal importar-la:"
   ]
  },
  {
   "cell_type": "code",
   "execution_count": null,
   "metadata": {},
   "outputs": [],
   "source": [
    "# A la línia següent, importem pandas i li donem un nom més curt\n",
    "# perquè ens sigui més còmode fer les crides.\n",
    "import pandas as pd\n",
    "# Importem també NumPy, ja que la farem servir en algun dels exemples.\n",
    "import numpy as np"
   ]
  },
  {
   "cell_type": "markdown",
   "metadata": {
    "id": "bejzmlRw_Wu0"
   },
   "source": [
    "<a id='2-Estructures-de-dades-basiques'></a>\n",
    "# 2 Estructures de dades bàsiques\n",
    "\n",
    "Pandas proveeix de tres estructures de dades: la sèrie, el _dataframe_ i\n",
    "antigament el panell (ara, els _dataframes_ i les _sèries_ amb índexs multinivell). Vegem les característiques de cadascuna.\n",
    "\n",
    "Una **sèrie** és un vector **unidimensional** amb **etiquetes** als eixos i\n",
    "dades **homogènies**.\n",
    "\n",
    "Repassem què impliquen cadascuna d'aquestes característiques amb uns\n",
    "exemples.\n",
    "\n",
    "La sèrie ens permet representar un conjunt de dades unidimensionals,\n",
    "per exemple, una llista d'enters, decimals o de cadenes de caràcters:"
   ]
  },
  {
   "cell_type": "code",
   "execution_count": null,
   "metadata": {},
   "outputs": [],
   "source": [
    "print(pd.Series([1, 1, 2, 3, 5]))"
   ]
  },
  {
   "cell_type": "code",
   "execution_count": null,
   "metadata": {},
   "outputs": [],
   "source": [
    "print(pd.Series([1.5, 3.5, 4.75]))"
   ]
  },
  {
   "cell_type": "markdown",
   "metadata": {
    "id": "fx6nifqW_Wu2"
   },
   "source": [
    "Les dades d'una sèrie han de ser homogènies, és a dir, han de ser del\n",
    "mateix tipus. Als exemples anteriors, la primera sèrie estava formada\n",
    "per enters (int64), mentre que la segona contenia nombres en punt flotant\n",
    "(float).\n",
    "\n",
    "De totes maneres, si intentem crear una sèrie amb dades de diferents\n",
    "tipus, podrem fer-ho, ja que pandas crearà una sèrie amb el tipus més\n",
    "general:"
   ]
  },
  {
   "cell_type": "code",
   "execution_count": null,
   "metadata": {},
   "outputs": [],
   "source": [
    "# Barregem enters i 'floats', la sèrie és de tipus 'float'.\n",
    "print(pd.Series([1, 2, 3.5]))"
   ]
  },
  {
   "cell_type": "code",
   "execution_count": null,
   "metadata": {},
   "outputs": [],
   "source": [
    "# Barregem enters, 'floats' i 'strings', la sèrie és de tipus 'object'.\n",
    "print(pd.Series([1, 4.3, \"data\"]))"
   ]
  },
  {
   "cell_type": "markdown",
   "metadata": {
    "id": "Sk1wTNKs_Wu3"
   },
   "source": [
    "Finalment, la sèrie pot tenir etiquetes, de manera que podem accedir\n",
    "als elements d'una sèrie tant a partir del seu índex com de la seva\n",
    "etiqueta."
   ]
  },
  {
   "cell_type": "code",
   "execution_count": null,
   "metadata": {},
   "outputs": [],
   "source": [
    "# Creem una sèrie etiquetada a partir d'un diccionari.\n",
    "s = pd.Series({\"alice\" : 2, \"bob\": 3, \"eve\": 5})\n",
    "print(s)\n",
    "\n",
    "# Accedim als elements de la sèrie a partir de la seva etiqueta.\n",
    "print(s[\"alice\"])\n",
    "\n",
    "# Accedim als elements de la sèrie a partir del seu índex.\n",
    "print(s[0])"
   ]
  },
  {
   "cell_type": "code",
   "execution_count": null,
   "metadata": {},
   "outputs": [],
   "source": [
    "# Creem una sèrie etiquetada a partir de dos vectors, un amb les dades i un altre amb les etiquetes.\n",
    "print(pd.Series([2, 3, 5], index = [\"alice\", \"bob\", \"eve\"]))"
   ]
  },
  {
   "cell_type": "markdown",
   "metadata": {
    "id": "HOeFgRxF_Wu4"
   },
   "source": [
    "La segona estructura de dades de pandas que presentarem és el _dataframe_.\n",
    "\n",
    "Un _**dataframe**_ és una taula **bidimensional** amb **etiquetes** als eixos\n",
    "i dades potencialment **heterogènies**. El _dataframe_ és l' estructura\n",
    "principal de treball amb la llibreria pandas.\n",
    "\n",
    "Vegem les característiques principals d'un _dataframe_ amb alguns\n",
    "exemples.\n",
    "\n",
    "A diferència d'una sèrie, un _dataframe_ és bidimensional:"
   ]
  },
  {
   "cell_type": "code",
   "execution_count": null,
   "metadata": {},
   "outputs": [],
   "source": [
    "print(pd.DataFrame([[1, 2, 3], [4, 5, 6]]))"
   ]
  },
  {
   "cell_type": "markdown",
   "metadata": {
    "id": "d8aOkzsU_Wu4"
   },
   "source": [
    "Igual que la sèrie, el _dataframe_ pot tenir etiquetes als eixos i podem\n",
    "utilitzar diferents sintaxis per incloure les etiquetes al _dataframe_."
   ]
  },
  {
   "cell_type": "code",
   "execution_count": null,
   "metadata": {},
   "outputs": [],
   "source": [
    "# Fem servir un diccionari per definir cada columna i una llista per indicar les etiquetes de les files.\n",
    "d = {\"alice\" : [1953, 12, 3], \"bob\" : [1955, 11, 24], \"eve\" : [2011, 10, 10]}\n",
    "print(pd.DataFrame(d, index=[\"year\", \"month\", \"day\"]))"
   ]
  },
  {
   "cell_type": "code",
   "execution_count": null,
   "metadata": {},
   "outputs": [],
   "source": [
    "# Fem servir una llista de llistes per a introduir les dades i dues llistes addicionals\n",
    "# per a indicar les etiquetes de files i les columnes.\n",
    "a = [[1953, 12, 3], [1955, 11, 24], [2011, 10, 10]]\n",
    "print(pd.DataFrame(a, columns=[\"year\", \"month\", \"day\"], index = [\"alice\", \"bob\", \"eve\"]))"
   ]
  },
  {
   "cell_type": "markdown",
   "metadata": {
    "id": "6xlkm3Ae_Wu5"
   },
   "source": [
    "Cadascuna de les columnes d'un _dataframe_ pot tenir tipus de dades\n",
    "diferents, donant lloc a _dataframes_ heterogenis:"
   ]
  },
  {
   "cell_type": "code",
   "execution_count": null,
   "metadata": {},
   "outputs": [],
   "source": [
    "a = [[1953, \"computer science\", 3.5], [1955, \"archeology\", 3.8], [2011, \"biology\", 2.8]]\n",
    "print(pd.DataFrame(a, columns=[\"year\", \"major\", \"average grade\"], index = [\"alice\", \"bob\", \"eve\"]))"
   ]
  },
  {
   "cell_type": "markdown",
   "metadata": {
    "id": "Oc-6m4aj_Wu5"
   },
   "source": [
    "En versions anteriors de pandas, disposàvem del panell com a tercera estructura de dades. Un **panell** és una estructura de dades **tridimensional** que pot contenir **etiquetes** als eixos i pot ser **heterogènia**.\n",
    "\n",
    "Actualment, l'ús dels panells està discontinuat, i fem servir sèries i _dataframes_ amb índexs multinivell per tal de representar estructures de dades de més de dues dimensions.\n",
    "\n",
    "Vegem un exemple senzill d'ús d'índexs multinivell per a representar una\n",
    "imatge."
   ]
  },
  {
   "cell_type": "code",
   "execution_count": null,
   "metadata": {},
   "outputs": [],
   "source": [
    "img = [[[0, 0, 0], [0, 15, 0], [0, 0, 15], [15, 0, 0], [180, 180, 180]],\n",
    "       [[200, 200, 200], [125, 1, 125], [100, 100, 2], [1, 152, 125], [15, 25, 20]]]\n",
    "\n",
    "# Fem servir números per indexar les files i les columnes, i les lletres\n",
    "# \"R\", \"G\", \"B\" per indicar el contingut d'aquest color en cada píxel\n",
    "index = pd.MultiIndex.from_product(\n",
    "    [range(len(img)), range(len(img[0])), [\"R\", \"G\", \"B\"]],\n",
    "    names=['row', 'column', 'color'])\n",
    "\n",
    "# Creem la sèrie amb l'índex multidimensional especificant les dades\n",
    "# i els índex\n",
    "s = pd.Series([x for row in img for col in row for x in col],\n",
    "               index=index)\n",
    "s"
   ]
  },
  {
   "cell_type": "markdown",
   "metadata": {
    "id": "bkmrw_zT_Wu6"
   },
   "source": [
    "Visualitzem gràficament la imatge per entendre millor la representació\n",
    "escollida. La imatge té dues files i cinc columnes i per a cada píxel utilitzem\n",
    "tres valors numèrics per representar-ne el color."
   ]
  },
  {
   "cell_type": "code",
   "execution_count": null,
   "metadata": {},
   "outputs": [],
   "source": [
    "%pylab inline\n",
    "from pylab import imshow\n",
    "imshow(array(img, dtype=uint16), interpolation='nearest')"
   ]
  },
  {
   "cell_type": "markdown",
   "metadata": {
    "id": "rjh2zD6s_Wu7"
   },
   "source": [
    "<a id='3-Operacions-basiques-sobre-un-dataframe'></a>\n",
    "# 3 Operacions bàsiques sobre un _dataframe_\n",
    "\n",
    "El _dataframe_ és l'estructura més usada a pandas. Vegem algunes de les\n",
    "operacions que podem realitzar amb aquest."
   ]
  },
  {
   "cell_type": "markdown",
   "metadata": {
    "id": "jfqaCK44_Wu7"
   },
   "source": [
    "<a id='3.1-Lexctura-de-dades-fitxer'></a>\n",
    "\n",
    "## 3.1 Lectura de dades d'un fitxer\n",
    "\n",
    "Pandas ens permet carregar les dades d'un fitxer CSV directament a un\n",
    "_dataframe_ a través de la funció `read_csv`. Aquesta funció és molt\n",
    "versàtil i disposa de multitud de paràmetres per configurar amb tot\n",
    "detall com dur a terme la importació. En molts casos, la configuració\n",
    "per defecte ja ens oferirà els resultats desitjats.\n",
    "\n",
    "Ara carregarem les dades del fitxer `marvel-wikia-data.csv`, que conté\n",
    "dades sobre personatges de còmic de Marvel. El conjunt de dades va ser\n",
    "creat pel web [FiveThirtyEight](https://fivethirtyeight.com/), que\n",
    "escriu articles basats en dades sobre esports i notícies, i que posa a\n",
    "disposició pública els [conjunts de\n",
    "dades](https://github.com/fivethirtyeight/data) que recull per als seus\n",
    "articles."
   ]
  },
  {
   "cell_type": "code",
   "execution_count": null,
   "metadata": {},
   "outputs": [],
   "source": [
    "# Carreguem les dades del fitxer \"marvel-wikia-data.csv\" a un 'dataframe'.\n",
    "data = pd.read_csv(\"data/marvel-wikia-data.csv\")\n",
    "print(type(data))"
   ]
  },
  {
   "cell_type": "markdown",
   "metadata": {
    "id": "inmXqirK_Wu8"
   },
   "source": [
    "<a id='3.2-Exploracio-del-dataframe'></a>\n",
    "## 3.2 Exploració del _dataframe_\n",
    "\n",
    "Vegem algunes funcions que ens permeten explorar el _dataframe_ que acabem\n",
    "de carregar."
   ]
  },
  {
   "cell_type": "code",
   "execution_count": null,
   "metadata": {},
   "outputs": [],
   "source": [
    "# Mostrar les 3 primeres files.\n",
    "data.head(n=3)"
   ]
  },
  {
   "cell_type": "code",
   "execution_count": null,
   "metadata": {},
   "outputs": [],
   "source": [
    "# Mostrar les etiquetes.\n",
    "data.index"
   ]
  },
  {
   "cell_type": "code",
   "execution_count": null,
   "metadata": {},
   "outputs": [],
   "source": [
    "# Mostra estadístiques bàsiques de les columnes numèriques del 'dataframe'.\n",
    "data.describe()"
   ]
  },
  {
   "cell_type": "code",
   "execution_count": null,
   "metadata": {},
   "outputs": [],
   "source": [
    "# Mostra els tipus de dades i els valors nuls\n",
    "data.info()"
   ]
  },
  {
   "cell_type": "code",
   "execution_count": null,
   "metadata": {},
   "outputs": [],
   "source": [
    "# Calcula la suma d'una columna\n",
    "data['page_id'].sum()"
   ]
  },
  {
   "cell_type": "markdown",
   "metadata": {
    "id": "rpZ5_Zkn_Wu-"
   },
   "source": [
    "<a id='3.3-Indexacio-i-seleccio-de-dades'></a>\n",
    "## 3.3 Indexació i selecció de dades\n",
    "\n",
    "Podem utilitzar les expressions habituals de Python (i NumPy) per\n",
    "seleccionar dades de _dataframes_ o bé fer servir els operadors propis de\n",
    "pandas. Aquests últims estan optimitzats, per la qual cosa el seu ús és\n",
    "recomanat per treballar amb conjunts de dades grans o en situacions en què\n",
    "l'eficiència sigui crítica."
   ]
  },
  {
   "cell_type": "code",
   "execution_count": null,
   "metadata": {},
   "outputs": [],
   "source": [
    "# Seleccionem els noms dels deu primers personatges, és a dir, mostrem la columna \"name\" de les deu primeres files\n",
    "# fent servir expressions Python.\n",
    "data[\"name\"][0:10]"
   ]
  },
  {
   "cell_type": "code",
   "execution_count": null,
   "metadata": {},
   "outputs": [],
   "source": [
    "# Seleccionem el nom, l'estat de la seva identitat i el color de cabell dels superherois 3 i 8\n",
    "# amb l'operador d'accés de pandas .loc\n",
    "data.loc[[3,8], [\"name\", \"ID\", \"HAIR\"]]"
   ]
  },
  {
   "cell_type": "code",
   "execution_count": null,
   "metadata": {},
   "outputs": [],
   "source": [
    "# Seleccionem files segons el gènere del superheroi utilitzant operadors binaris i expressions Python.\n",
    "male = data[data.SEX == \"Male Characters\"]\n",
    "female = data[data.SEX == \"Female Characters\"]\n",
    "print(len(male))\n",
    "print(len(female))"
   ]
  },
  {
   "cell_type": "code",
   "execution_count": null,
   "metadata": {},
   "outputs": [],
   "source": [
    "# Combinem operadors binaris per seleccionar els superherois amb identitat secreta que han aparegut més\n",
    "# de dues mil vegades amb expressions Python.\n",
    "secret_and_popular1 = data[(data.APPEARANCES > 1000) & (data.ID == \"Secret Identity\")]\n",
    "print(len(secret_and_popular1))\n",
    "print(secret_and_popular1[\"name\"])"
   ]
  },
  {
   "cell_type": "code",
   "execution_count": null,
   "metadata": {},
   "outputs": [],
   "source": [
    "# Utilitzem el mètode 'where' de pandas per obtenir la mateixa informació:\n",
    "secret_and_popular2 = data.where ((data.APPEARANCES> 1000) & (data.ID == \"Secret Identity\"))\n",
    "# Fixeu-vos que en aquest cas el resultat té la mateixa mida que el 'dataframe original': els valors no seleccionats\n",
    "# mostren NaN.\n",
    "print(len(secret_and_popular2))\n",
    "print(secret_and_popular2[\"name\"][0:10])"
   ]
  },
  {
   "cell_type": "code",
   "execution_count": null,
   "metadata": {},
   "outputs": [],
   "source": [
    "# Podem eliminar les files que tinguin tots els valors NaN, de manera que obtindrem el mateix resultat que fent servir\n",
    "# operadors binaris.\n",
    "print(secret_and_popular2.dropna(how=\"all\")[\"name\"])"
   ]
  },
  {
   "cell_type": "markdown",
   "metadata": {
    "id": "ixSw-7IB_WvA"
   },
   "source": [
    "<a id='3.4-Agregacio-de-dades'></a>\n",
    "## 3.4 Agregació de dades\n",
    "\n",
    "Pandas també permet crear grups de dades a partir dels valors d' una o\n",
    "més columnes i després operar sobre els grups creats. Vegem alguns\n",
    "exemples."
   ]
  },
  {
   "cell_type": "code",
   "execution_count": null,
   "metadata": {},
   "outputs": [],
   "source": [
    "# Agrupem el 'dataframe' en funció de l'alineació del superheroi.\n",
    "grouped = data.groupby(\"ALIGN\")\n",
    "\n",
    "# Visualitzem el nom i el nombre de files de cada grup.\n",
    "for name, group in grouped:\n",
    "    print(name, len(group))"
   ]
  },
  {
   "cell_type": "code",
   "execution_count": null,
   "metadata": {},
   "outputs": [],
   "source": [
    "# Agrupem el 'dataframe' en funció de l'alineació del superheroi i de l'ocultació de la seva identitat.\n",
    "grouped = data.groupby([\"ALIGN\", \"ID\"])\n",
    "\n",
    "# Visualitzem el nom i el nombre de files de cada grup.\n",
    "for name, group in grouped:\n",
    "    print(name, len(group))"
   ]
  },
  {
   "cell_type": "code",
   "execution_count": null,
   "metadata": {},
   "outputs": [],
   "source": [
    "# A partir de les dades agrupades, apliquem la funció d'agregació 'np.mean' i np.sum (que calcula la mitjana). També es pot fer amb np.sum o altres funcions de numpy.\n",
    "grouped[\"APPEARANCES\"].aggregate(np.mean)"
   ]
  },
  {
   "cell_type": "code",
   "execution_count": null,
   "metadata": {},
   "outputs": [],
   "source": [
    "# Recuperem la informació d'un únic grup d'interès.\n",
    "grouped.get_group((\"Neutral Characters\", \"Known to Authorities Identity\"))"
   ]
  },
  {
   "cell_type": "markdown",
   "metadata": {
    "id": "YezmZIGt_WvB"
   },
   "source": [
    "<a id='3.5-Escrpiptura-de-dades-a-un-fitxer'></a>\n",
    "## 3.5 Escriptura de dades a un fitxer\n",
    "\n",
    "D'una manera anàloga a com hem carregat les dades d'un fitxer a un\n",
    "_dataframe_, podem escriure les dades d'un _dataframe_ a un fitxer CSV."
   ]
  },
  {
   "cell_type": "code",
   "execution_count": null,
   "metadata": {},
   "outputs": [],
   "source": [
    "# Creem un 'dataframe' amb els noms dels superherois.\n",
    "new_dataset = data[[\"name\"]]\n",
    "# Guardem el nou 'dataframe' a un fitxer, forçant la codificació a 'utf-8'.\n",
    "new_dataset.to_csv(\"marvel-wikia-data-reduced.csv\", encoding='utf-8')"
   ]
  },
  {
   "cell_type": "markdown",
   "metadata": {
    "id": "V-1z8OfU_WvC"
   },
   "source": [
    "<a id='4-Exercicis-i-preguntes-teoriques'></a>\n",
    "# 4 Exercicis i preguntes teòriques\n",
    "\n",
    "La part avaluable d'aquesta unitat consisteix en el lliurament d'un fitxer IPython Notebook amb extensió IPYNB que contindrà els diferents exercicis i les preguntes teòriques que s'han de contestar. Trobareu el fitxer (`prog_datasci_4_scilib_entrega.ipynb`) amb les activitats a la mateixa carpeta que aquest notebook que esteu llegint. **Hi ha un sol fitxer d'activitats per a tota la unitat, que cobreix totes les llibreries que s'hi treballen.**"
   ]
  },
  {
   "cell_type": "markdown",
   "metadata": {
    "id": "gvgMBcrV_WvC"
   },
   "source": [
    "<a id='4.1-Instruccions-importants'></a>\n",
    "## 4.1 Instruccions importants\n",
    "\n",
    "És molt important que a l'hora de lliurar el fitxer Notebook amb les vostres activitats us assegureu que:\n",
    "\n",
    "1. Les vostres solucions siguin originals. Esperem no detectar-hi còpia directa entre estudiants.\n",
    "2. Tot el codi estigui correctament documentat. El codi sense documentar equivaldrà a un 0.\n",
    "3. El fitxer comprimit que lliureu és correcte (conté les activitats de la PAC que heu de lliurar).\n",
    "\n",
    "Per fer el lliurament, heu d'anar a la carpeta del drive `Colab Notebooks`, clicant botó dret a la PAC en qüestió i fent `Download`. D'aquesta manera, us baixereu la carpeta de la PAC comprimida en `zip`. Aquest és l'arxiu que heu de pujar al campus virtual de l'assignatura."
   ]
  },
  {
   "cell_type": "markdown",
   "metadata": {
    "id": "TgkVDfPZ_WvC"
   },
   "source": [
    "# Autors"
   ]
  },
  {
   "cell_type": "markdown",
   "metadata": {
    "id": "fuhjqluQ_WvC"
   },
   "source": [
    "- Autora original **Cristina Pérez Solà**, 2017\n",
    "- Actualitzat per **Cristina Pérez Solà**, 2019\n",
    "- Actualitzar per **Joaquim Villén Benseny**, 2024"
   ]
  },
  {
   "cell_type": "markdown",
   "metadata": {
    "id": "tmscTj3i_WvC"
   },
   "source": [
    "<div style=\"width: 30%; clear: both;\">\n",
    "    <div style=\"width:0%;\">&nbsp;</div>\n",
    "           <img src=\"https://mirrors.creativecommons.org/presskit/buttons/88x31/png/by-sa.png\">\n",
    "    </div>\n",
    "</div>"
   ]
  }
 ],
 "metadata": {
  "language_info": {
   "name": "python"
  }
 },
 "nbformat": 4,
 "nbformat_minor": 0
}
