{
 "cells": [
  {
   "cell_type": "markdown",
   "metadata": {},
   "source": [
    "<div style=\"width: 100%; clear: both;\">\n",
    "    <div style=\"float: left; width: 50%;\">\n",
    "       <img src=\"http://www.uoc.edu/portal/_resources/common/imatges/marca_UOC/UOC_Masterbrand.jpg\", align=\"left\">\n",
    "    </div>\n",
    "</div>\n",
    "\n",
    "<div style=\"float: right; width: 50%;\">\n",
    "    <p style=\"margin: 0; padding-top: 22px; text-align:right;\">22.401 · Fonaments de Programació</p>\n",
    "    <p style=\"margin: 0; text-align:right;\">Grau en Ciència de Dades Aplicada</p>\n",
    "    <p style=\"margin: 0; text-align:right; padding-button: 100px;\">Estudis d'Informàtica, Multimèdia i Telecomunicació</p>\n",
    "</div>\n",
    "\n",
    "</div>\n",
    "<div style=\"width: 100%; clear: both;\">\n",
    "<div style=\"width:100%;\">&nbsp;</div>"
   ]
  },
  {
   "cell_type": "markdown",
   "metadata": {},
   "source": [
    "Fonaments de Programació\n",
    "============================\n",
    "\n",
    "--- \n",
    "\n",
    "Unitat 4: Llibreries científiques en Python - Matplotlib\n",
    "-----------------------------------------------------\n",
    "\n",
    "---"
   ]
  },
  {
   "cell_type": "markdown",
   "metadata": {},
   "source": [
    "### Instruccions d'ús\n",
    "\n",
    "Aquest document és un *notebook* interactiu que intercala explicacions més aviat teòriques de conceptes de programació amb fragments de codi executables. Per aprofitar els avantatges que aporta aquest format, us recomanem que, en primer lloc, llegiu les explicacions i el codi que us proporcionem. D'aquesta manera tindreu un primer contacte amb els conceptes que hi exposem. Ara bé, **la lectura és només el principi!** Una vegada hàgiu llegit el contingut, no oblideu executar el codi proporcionat i modificar-lo per crear-ne variants que us permetin comprovar que heu entès la seva funcionalitat i explorar-ne els detalls d'implementació. Per últim, us recomanem també consultar la documentació enllaçada per explorar amb més profunditat les funcionalitats dels mòduls presentats. "
   ]
  },
  {
   "cell_type": "markdown",
   "metadata": {},
   "source": [
    "Per guardar possibles modificacions que feu sobre aquest notebook, us aconsellem que munteu la unitat de Drive a Google Colaboratory (colab). Heu d'executar les instruccions següents:"
   ]
  },
  {
   "cell_type": "code",
   "execution_count": null,
   "metadata": {},
   "outputs": [],
   "source": [
    "from google.colab import drive\n",
    "drive.mount('/content/drive')  "
   ]
  },
  {
   "cell_type": "code",
   "execution_count": null,
   "metadata": {},
   "outputs": [],
   "source": [
    "%cd /content/drive/MyDrive/Colab_Notebooks/prog_datasci_4"
   ]
  },
  {
   "cell_type": "markdown",
   "metadata": {},
   "source": [
    "### Introducció\n",
    "\n",
    "A continuació es presentaran explicacions i exemples d'ús de la\n",
    "llibreria Matplotlib. Recordeu que podeu anar executant els exemples per\n",
    "obtenir-ne els resultats.\n",
    "\n",
    "A continuació s'inclou la taula de continguts, que podeu fer servir per navegar pel document:\n",
    "\n",
    "<ul style=\"list-style-type:none\">\n",
    "    <li><a href='#1-Introduccio'>1 Introducció</a></li>\n",
    "    <li><a href=\"#2-Recull-exemples\">2 Recull d'exemples</a></li>\n",
    "    <ul style=\"list-style-type:none\">\n",
    "        <li><a href=\"#2.1-Exemple-1\">2.1 Exemple 1: representar la funció cosinus</a></li>\n",
    "        <li><a href=\"#2.2-Exemple-2\">2.2 Exemple 2: representar les funcions cosinus i sinus alhora</a></li>\n",
    "        <li><a href=\"#2.3-Exemple-3\">2.3 Exemple 3: histogrames</a></li>\n",
    "        <li><a href=\"#2.4-Exemple-4\">2.4 Exemple 4: representació del conjunt de Mandelbrot</a></li>\n",
    "        <li><a href=\"#2.5-Exemple-5\">2.5 Exemple 5: manipulació d'imatges</a></li>\n",
    "    </ul>\n",
    "    <li><a href=\"#3-Exercicis-i-preguntes-teoriques\">3 Exercicis i preguntes teòriques</a></li>\n",
    "    <ul style=\"list-style-type:none\">\n",
    "        <li><a href=\"#3.1-Instruccions-importants\">3.1 Instruccions importants</a></li>\n",
    "    </ul>\n",
    "    <li><a href=\"#4.-Bibliografia\">4. Bibliografia</a></li>\n",
    "</ul>"
   ]
  },
  {
   "cell_type": "markdown",
   "metadata": {},
   "source": [
    "<a id='1-Introduccio'></a>\n",
    "# 1 Introducció\n",
    "\n",
    "[Matplotlib](http://matplotlib.org/) és una llibreria de representació de dades en 2D molt utilitzada per la comunitat atesa la gran qualitat de les figures generades i la seva capacitat de representació de dades de diferent índole. Un cop d'ull ràpid a la [galeria d'exemples](http://matplotlib.org/gallery.html) ens convencerà de la seva gran potència.\n",
    "\n",
    "Aquesta llibreria pot ser utilitzada o bé mitjançant la interfície Pyplot, que s'integra molt bé amb IPython i Notebook i té una sintaxi molt similar a [MATLAB](http://es.mathworks.com/products/matlab/), o bé amb els objectes que proporciona la llibreria per utilitzar tota la seva capacitat de personalització de dibuix.\n",
    "\n",
    "Aquesta similitud amb MATLAB ha ajudat a la seva disseminació, ja que molts usuaris científics buscaven una alternativa de codi obert enfront de MATLAB i que pogués estar integrada amb altres llibreries escrites en Python.\n",
    "\n",
    "El codi de Matplotlib està dividit en tres parts: *pylab*, *Matplotlib\n",
    "API* i *backends*. La primera part, *pylab*, és la interfície que permet\n",
    "crear gràfics amb un codi i funcionament molt similar a com es faria en\n",
    "Matlab. *Matplotlib API* és la part essencial que la resta de codi\n",
    "utilitza i, finalment, *backends* és la part encarregada de la\n",
    "representació depenent de la plataforma (tipus de fitxers d'imatge,\n",
    "dispositius de visualització, etc.). En aquest mòdul només farem\n",
    "exemples i exercicis utilitzant *pylab*.\n",
    "\n",
    "Podeu consultar molts exemples a l'[ajuda de la\n",
    "llibreria](http://matplotlib.org/1.3.1/examples/index.html)."
   ]
  },
  {
   "cell_type": "markdown",
   "metadata": {},
   "source": [
    "<a id='2-Recull-exemples'></a>\n",
    "# 2 Recull d'exemples"
   ]
  },
  {
   "cell_type": "markdown",
   "metadata": {},
   "source": [
    "<a id='2.1-Exemple-1'></a>\n",
    "## 2.1 Exemple 1: representar la funció cosinus\n",
    "\n",
    "Al primer exemple representarem dos _arrays_, un davant de l'altre, als\n",
    "eixos X i Y respectivament. **Observeu que per fer que els gràfics\n",
    "es mostrin en el mateix Notebook hem d'afegir la directiva especial**\n",
    "*%matplotlib inline*."
   ]
  },
  {
   "cell_type": "code",
   "execution_count": null,
   "metadata": {},
   "outputs": [],
   "source": [
    "%matplotlib inline\n",
    "\n",
    "# Aquest primer import és necessari per inicialitzar l'entorn de Matplotlib.\n",
    "import matplotlib\n",
    "import numpy as np\n",
    "# Importem la llibreria utilitzant l'àlies 'plt'.\n",
    "import matplotlib.pyplot as plt\n",
    "\n",
    "# Calculem una matriu de -2*PI a 2*PI amb un pas de 0.1.\n",
    "x = np.arange(-2*np.pi, 2*np.pi, 0.1)\n",
    "\n",
    "# Representem l'array x amb el valor de cos(x).\n",
    "plt.plot(x, np.cos(x))\n",
    "\n",
    "# Afegim els noms als eixos X i Y respectivament:\n",
    "plt.xlabel('x')\n",
    "plt.ylabel('cos(x)')\n",
    "\n",
    "# Finalment mostrarem el gràfic:\n",
    "plt.show()"
   ]
  },
  {
   "cell_type": "markdown",
   "metadata": {},
   "source": [
    "<a id='2.2-Exemple-2'></a>\n",
    "## 2.2 Exemple 2: representar les funcions cosinus i sinus alhora\n",
    "\n",
    "En aquest exemple, calcularem els valors de les funcions sinus i cosinus\n",
    "per al mateix rang de valors i les representarem al mateix gràfic."
   ]
  },
  {
   "cell_type": "code",
   "execution_count": null,
   "metadata": {},
   "outputs": [],
   "source": [
    "%matplotlib inline\n",
    "\n",
    "import matplotlib\n",
    "import numpy as np\n",
    "import matplotlib.pyplot as plt\n",
    "\n",
    "# Calculem una matriu de -2*PI a 2*PI amb un pas de 0.1.\n",
    "x = np.arange(-2*np.pi, 2*np.pi, 0.1)\n",
    "\n",
    "# Podem encadenar la representació de múltiples funcions al mateix gràfic.\n",
    "# En aquest ordre: array x, cos(x), 'r' farà servir el color vermell (red), \n",
    "# array x, sin(x) i verd (green)\n",
    "plt.plot(x, np.cos(x), 'r', x, np.sin(x), 'g')\n",
    "\n",
    "# De manera equivalent, podríem fer una crida en dues ocasions a la funció plot:\n",
    "#plt.plot(x, np.cos(x), 'r')\n",
    "#plt.plot(x, np.sin(x), 'g')\n",
    "\n",
    "# Afegim els noms als eixos X i Y respectivament:\n",
    "plt.xlabel('x')\n",
    "plt.ylabel('cos(x)')\n",
    "\n",
    "# Finalment, mostrarem el gràfic.\n",
    "plt.show()"
   ]
  },
  {
   "cell_type": "markdown",
   "metadata": {},
   "source": [
    "<a id='2.3-Exemple-3'></a>\n",
    "## 2.3 Exemple 3: histogrames\n",
    "\n",
    "Matplotlib disposa de molts tipus de gràfics implementats, entre els\n",
    "quals hi ha els histogrames. En aquest exemple representem una [funció\n",
    "gaussiana](https://es.wikipedia.org/wiki/Funci%C3%B3n_gaussiana)."
   ]
  },
  {
   "cell_type": "code",
   "execution_count": null,
   "metadata": {},
   "outputs": [],
   "source": [
    "%matplotlib inline\n",
    "\n",
    "import matplotlib\n",
    "import numpy as np\n",
    "import matplotlib.pyplot as plt\n",
    "import matplotlib.mlab as mlab\n",
    "\n",
    "# Paràmetres de la funció gaussiana:\n",
    "mu, sigma = 50, 7\n",
    "\n",
    "# Generem una matriu utilitzant aquests paràmetres i nombres aleatoris.\n",
    "x = mu + sigma * np.random.randn(10000)\n",
    "\n",
    "# La funció 'hist' calcula la freqüència i el nombre de barres. L'argument 'normed = 1'\n",
    "# normalitza els valors de probabilitat ([0,1]), 'facecolor' controla el color del gràfic, \n",
    "# i 'alpha', el valor de la transparència de les barres.\n",
    "n, bins, patches = plt.hist(x, 30, density=1, facecolor='dodgerblue', alpha=0.5)\n",
    "\n",
    "plt.xlabel('x')\n",
    "plt.ylabel('Probabilitat')\n",
    "\n",
    "# Situem el text amb els valors de 'mu' i 'sigma' al gràfic:\n",
    "plt.text(20, .025, r'$\\mu=50,\\ \\sigma=7$')\n",
    "\n",
    "# Controlem manualment la mida dels eixos. Els dos primers valors es corresponen amb 'xmin' i \n",
    "# 'xmax' i els següents amb 'ymin' i 'ymax':\n",
    "plt.axis([10, 90, 0, 0.07])\n",
    "\n",
    "# Mostrem una reixeta:\n",
    "plt.grid(True)\n",
    "\n",
    "plt.show()"
   ]
  },
  {
   "cell_type": "markdown",
   "metadata": {},
   "source": [
    "<a id='2.4-Exemple-4'></a>\n",
    "## 2.4 Exemple 4: representació del conjunt de Mandelbrot\n",
    "\n",
    "El conjunt de Mandelbrot és un dels conjunts fractals més estudiats i\n",
    "coneguts. Podeu trobar més informació en línia sobre [el conjunt i els\n",
    "fractals en\n",
    "general](https://es.wikipedia.org/wiki/Conjunto_de_Mandelbrot).\n",
    "\n",
    "L'exemple és una adaptació d'[aquest codi](https://scipy-lectures.github.io/intro/numpy/exercises.html#mandelbrot-set)."
   ]
  },
  {
   "cell_type": "code",
   "execution_count": null,
   "metadata": {},
   "outputs": [],
   "source": [
    "%matplotlib inline\n",
    "\n",
    "import numpy as np\n",
    "import matplotlib.pyplot as plt\n",
    "from numpy import newaxis\n",
    "\n",
    "# La funció que calcularà el conjunt de Mandelbrot.\n",
    "def mandelbrot(N_max, threshold, nx, ny):\n",
    "    # Creem una matriu amb nx elements entre els valors -2 i 1.\n",
    "    x = np.linspace(-2, 1, nx)\n",
    "    # Fem el mateix, però, en aquest cas, entre -1.5 i 1.5, de ny elements.\n",
    "    y = np.linspace(-1.5, 1.5, ny)\n",
    "\n",
    "    # Creem el pla de nombres complexos necessari per calcular el conjunt.\n",
    "    c = x[:,newaxis] + 1j*y[newaxis,:]\n",
    "\n",
    "    # Iteració per calcular el valor d'un element en la successió.\n",
    "    z = c\n",
    "    for j in range(N_max):\n",
    "        z = z**2 + c\n",
    "    \n",
    "    # Finalment, calculem si un element pertany o no al conjunt posant un límit 'threshold'.\n",
    "    conjunto = (abs(z) < threshold)\n",
    "    \n",
    "    return conjunto\n",
    "\n",
    "conjunto_mandelbrot = mandelbrot(50, 50., 601, 401)\n",
    "\n",
    "# Transposem els eixos del conjunt de Mandelbrot calculat utilitzant la funció de NumPy 'T' \n",
    "# Utilitzem la funció 'imshow' per representar una matriu com una imatge. L'argument 'cmap' significa \n",
    "# 'color map' i és l'escala de colors en què representarem la nostra imatge. Podeu trobar molts \n",
    "# altres mapes a la documentació oficial: \n",
    "# http://matplotlib.org/examples/color/colormaps_reference.html\n",
    "plt.imshow(conjunto_mandelbrot.T, cmap='Blues')\n",
    "\n",
    "plt.show()"
   ]
  },
  {
   "cell_type": "markdown",
   "metadata": {},
   "source": [
    "<a id='2.5-Exemple-5'></a>\n",
    "## 2.5 Exemple 5: manipulació d'imatges\n",
    "\n",
    "Una imatge pot assimilar-se a una matriu multidimensional en què pels valors\n",
    "de píxels (x, y) tenim calors de color. Matplotlib ens permet llegir\n",
    "imatges, manipular-les i aplicar-hi diferents mapes de colors a\n",
    "l'hora de representar-les. A l'exemple següent, carregarem una\n",
    "fotografia en format PNG de Carl Sagan.\n",
    "\n",
    "Crèdits de la foto: NASA JPL"
   ]
  },
  {
   "cell_type": "code",
   "execution_count": null,
   "metadata": {},
   "outputs": [],
   "source": [
    "%matplotlib inline\n",
    "\n",
    "import numpy as np\n",
    "import matplotlib.pyplot as plt\n",
    "import matplotlib.image as mpimg\n",
    "\n",
    "# Llegim la imatge mitjançant la funció 'imread'.\n",
    "carl = mpimg.imread('media/sagan.png')\n",
    "\n",
    "# Podem mostrar la imatge:\n",
    "plt.imshow(carl)\n",
    "plt.show()\n",
    "\n",
    "# I podem modificar els valors numèrics de color llegits per la funció 'imread'.\n",
    "# Obtenim els valors de l'escala de grisos i mostrem els valors fent servir el mapa de\n",
    "# colors espectrals.\n",
    "gris = np.mean(carl, 2)\n",
    "plt.imshow(gris, cmap='Spectral')\n",
    "plt.show()"
   ]
  },
  {
   "cell_type": "markdown",
   "metadata": {},
   "source": [
    "<a id='3-Exercicis-i-preguntes-teoriques'></a>\n",
    "# 3 Exercicis i preguntes teòriques\n",
    "\n",
    "La part avaluable d'aquesta unitat consisteix en el lliurament d'un fitxer IPython Notebook amb extensió IPYNB que contindrà els diferents exercicis i les preguntes teòriques que s'han de contestar. Trobareu el fitxer (`prog_datasci_4_scilib_entrega.ipynb`) amb les activitats a la mateixa carpeta que aquest notebook que esteu llegint. **Hi ha un sol fitxer d'activitats per a tota la unitat, que cobreix totes les llibreries que s'hi treballen.**\n",
    " "
   ]
  },
  {
   "cell_type": "markdown",
   "metadata": {},
   "source": [
    "<a id='3.1-Instruccions-importants'></a>\n",
    "## 3.1 Instruccions importants\n",
    "\n",
    "És molt important que a l'hora de lliurar el fitxer Notebook amb les vostres activitats us assegureu que:\n",
    "\n",
    "1. Les vostres solucions siguin originals. Esperem no detectar-hi còpia directa entre estudiants.\n",
    "2. Tot el codi estigui correctament documentat. El codi sense documentar equivaldrà a un 0.\n",
    "3. El fitxer comprimit que lliureu és correcte (conté les activitats de la PAC que heu de lliurar).\n",
    "\n",
    "Per fer el lliurament, heu d'anar a la carpeta del drive `Colab Notebooks`, clicant botó dret a la PAC en qüestió i fent `Download`. D'aquesta manera, us baixereu la carpeta de la PAC comprimida en `zip`. Aquest és l'arxiu que heu de pujar al campus virtual de l'assignatura."
   ]
  },
  {
   "cell_type": "markdown",
   "metadata": {},
   "source": [
    "# Autors"
   ]
  },
  {
   "cell_type": "markdown",
   "metadata": {},
   "source": [
    "- Autor original **Brian Jiménez Garcia**, 2016.\n",
    "- Actualitzat per **Cristina Pérez Solà**, 2017.\n",
    "- Actualitzat per **Cristina Pérez Solà**, 2019."
   ]
  },
  {
   "cell_type": "markdown",
   "metadata": {},
   "source": [
    "<div style=\"width: 30%; clear: both;\">\n",
    "    <div style=\"width:0%;\">&nbsp;</div>\n",
    "           <img src=\"https://mirrors.creativecommons.org/presskit/buttons/88x31/png/by-sa.png\">\n",
    "    </div>\n",
    "</div>"
   ]
  }
 ],
 "metadata": {
  "language_info": {
   "name": "python"
  }
 },
 "nbformat": 4,
 "nbformat_minor": 1
}
